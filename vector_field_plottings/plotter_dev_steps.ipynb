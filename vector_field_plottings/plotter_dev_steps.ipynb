{
 "cells": [
  {
   "cell_type": "markdown",
   "id": "13e757a4",
   "metadata": {},
   "source": [
    "# Developing Code + Functionality for Plotter Function"
   ]
  },
  {
   "cell_type": "markdown",
   "id": "8e090e57",
   "metadata": {},
   "source": [
    "Probably not very interesting to come back to"
   ]
  },
  {
   "cell_type": "code",
   "execution_count": 1,
   "id": "92917485",
   "metadata": {},
   "outputs": [],
   "source": [
    "import sys\n",
    "sys.path.append('..')"
   ]
  },
  {
   "cell_type": "code",
   "execution_count": 2,
   "id": "74cdf97d",
   "metadata": {},
   "outputs": [],
   "source": [
    "import numpy as np \n",
    "from plotting_tools.plotter import plotter "
   ]
  },
  {
   "cell_type": "markdown",
   "id": "a87ed9c3",
   "metadata": {},
   "source": [
    "## Two Example Fields and Call Sequences"
   ]
  },
  {
   "cell_type": "code",
   "execution_count": 3,
   "id": "d60f5610",
   "metadata": {},
   "outputs": [
    {
     "data": {
      "application/vnd.plotly.v1+json": {
       "config": {
        "plotlyServerURL": "https://plot.ly"
       },
       "data": [
        {
         "anchor": "tail",
         "sizemode": "scaled",
         "sizeref": 2,
         "type": "cone",
         "u": {
          "bdata": "AAAAAAAA8L8AAAAAAADwvwAAAAAAAPC/AAAAAAAA8L8AAAAAAADwvwAAAAAAAOC/AAAAAAAA4L8AAAAAAADgvwAAAAAAAOC/AAAAAAAA4L8AAAAAAAAAAAAAAAAAAAAAAAAAAAAAAAAAAAAAAAAAAAAAAAAAAAAAAAAAAAAA4D8AAAAAAADgPwAAAAAAAOA/AAAAAAAA4D8AAAAAAADgPwAAAAAAAPA/AAAAAAAA8D8AAAAAAADwPwAAAAAAAPA/AAAAAAAA8D8AAAAAAADwvwAAAAAAAPC/AAAAAAAA8L8AAAAAAADwvwAAAAAAAPC/AAAAAAAA4L8AAAAAAADgvwAAAAAAAOC/AAAAAAAA4L8AAAAAAADgvwAAAAAAAAAAAAAAAAAAAAAAAAAAAAAAAAAAAAAAAAAAAAAAAAAAAAAAAAAAAADgPwAAAAAAAOA/AAAAAAAA4D8AAAAAAADgPwAAAAAAAOA/AAAAAAAA8D8AAAAAAADwPwAAAAAAAPA/AAAAAAAA8D8AAAAAAADwPwAAAAAAAPC/AAAAAAAA8L8AAAAAAADwvwAAAAAAAPC/AAAAAAAA8L8AAAAAAADgvwAAAAAAAOC/AAAAAAAA4L8AAAAAAADgvwAAAAAAAOC/AAAAAAAAAAAAAAAAAAAAAAAAAAAAAAAAAAAAAAAAAAAAAAAAAAAAAAAAAAAAAOA/AAAAAAAA4D8AAAAAAADgPwAAAAAAAOA/AAAAAAAA4D8AAAAAAADwPwAAAAAAAPA/AAAAAAAA8D8AAAAAAADwPwAAAAAAAPA/AAAAAAAA8L8AAAAAAADwvwAAAAAAAPC/AAAAAAAA8L8AAAAAAADwvwAAAAAAAOC/AAAAAAAA4L8AAAAAAADgvwAAAAAAAOC/AAAAAAAA4L8AAAAAAAAAAAAAAAAAAAAAAAAAAAAAAAAAAAAAAAAAAAAAAAAAAAAAAAAAAAAA4D8AAAAAAADgPwAAAAAAAOA/AAAAAAAA4D8AAAAAAADgPwAAAAAAAPA/AAAAAAAA8D8AAAAAAADwPwAAAAAAAPA/AAAAAAAA8D8AAAAAAADwvwAAAAAAAPC/AAAAAAAA8L8AAAAAAADwvwAAAAAAAPC/AAAAAAAA4L8AAAAAAADgvwAAAAAAAOC/AAAAAAAA4L8AAAAAAADgvwAAAAAAAAAAAAAAAAAAAAAAAAAAAAAAAAAAAAAAAAAAAAAAAAAAAAAAAAAAAADgPwAAAAAAAOA/AAAAAAAA4D8AAAAAAADgPwAAAAAAAOA/AAAAAAAA8D8AAAAAAADwPwAAAAAAAPA/AAAAAAAA8D8AAAAAAADwPw==",
          "dtype": "f8"
         },
         "v": {
          "bdata": "AAAAAAAA8L8AAAAAAADwvwAAAAAAAPC/AAAAAAAA8L8AAAAAAADwvwAAAAAAAPC/AAAAAAAA8L8AAAAAAADwvwAAAAAAAPC/AAAAAAAA8L8AAAAAAADwvwAAAAAAAPC/AAAAAAAA8L8AAAAAAADwvwAAAAAAAPC/AAAAAAAA8L8AAAAAAADwvwAAAAAAAPC/AAAAAAAA8L8AAAAAAADwvwAAAAAAAPC/AAAAAAAA8L8AAAAAAADwvwAAAAAAAPC/AAAAAAAA8L8AAAAAAADgvwAAAAAAAOC/AAAAAAAA4L8AAAAAAADgvwAAAAAAAOC/AAAAAAAA4L8AAAAAAADgvwAAAAAAAOC/AAAAAAAA4L8AAAAAAADgvwAAAAAAAOC/AAAAAAAA4L8AAAAAAADgvwAAAAAAAOC/AAAAAAAA4L8AAAAAAADgvwAAAAAAAOC/AAAAAAAA4L8AAAAAAADgvwAAAAAAAOC/AAAAAAAA4L8AAAAAAADgvwAAAAAAAOC/AAAAAAAA4L8AAAAAAADgvwAAAAAAAAAAAAAAAAAAAAAAAAAAAAAAAAAAAAAAAAAAAAAAAAAAAAAAAAAAAAAAAAAAAAAAAAAAAAAAAAAAAAAAAAAAAAAAAAAAAAAAAAAAAAAAAAAAAAAAAAAAAAAAAAAAAAAAAAAAAAAAAAAAAAAAAAAAAAAAAAAAAAAAAAAAAAAAAAAAAAAAAAAAAAAAAAAAAAAAAAAAAAAAAAAAAAAAAAAAAAAAAAAAAAAAAAAAAAAAAAAAAAAAAAAAAAAAAAAAAAAAAAAAAAAAAAAA4D8AAAAAAADgPwAAAAAAAOA/AAAAAAAA4D8AAAAAAADgPwAAAAAAAOA/AAAAAAAA4D8AAAAAAADgPwAAAAAAAOA/AAAAAAAA4D8AAAAAAADgPwAAAAAAAOA/AAAAAAAA4D8AAAAAAADgPwAAAAAAAOA/AAAAAAAA4D8AAAAAAADgPwAAAAAAAOA/AAAAAAAA4D8AAAAAAADgPwAAAAAAAOA/AAAAAAAA4D8AAAAAAADgPwAAAAAAAOA/AAAAAAAA4D8AAAAAAADwPwAAAAAAAPA/AAAAAAAA8D8AAAAAAADwPwAAAAAAAPA/AAAAAAAA8D8AAAAAAADwPwAAAAAAAPA/AAAAAAAA8D8AAAAAAADwPwAAAAAAAPA/AAAAAAAA8D8AAAAAAADwPwAAAAAAAPA/AAAAAAAA8D8AAAAAAADwPwAAAAAAAPA/AAAAAAAA8D8AAAAAAADwPwAAAAAAAPA/AAAAAAAA8D8AAAAAAADwPwAAAAAAAPA/AAAAAAAA8D8AAAAAAADwPw==",
          "dtype": "f8"
         },
         "w": {
          "bdata": "AAAAAAAA8L8AAAAAAADgvwAAAAAAAAAAAAAAAAAA4D8AAAAAAADwPwAAAAAAAPC/AAAAAAAA4L8AAAAAAAAAAAAAAAAAAOA/AAAAAAAA8D8AAAAAAADwvwAAAAAAAOC/AAAAAAAAAAAAAAAAAADgPwAAAAAAAPA/AAAAAAAA8L8AAAAAAADgvwAAAAAAAAAAAAAAAAAA4D8AAAAAAADwPwAAAAAAAPC/AAAAAAAA4L8AAAAAAAAAAAAAAAAAAOA/AAAAAAAA8D8AAAAAAADwvwAAAAAAAOC/AAAAAAAAAAAAAAAAAADgPwAAAAAAAPA/AAAAAAAA8L8AAAAAAADgvwAAAAAAAAAAAAAAAAAA4D8AAAAAAADwPwAAAAAAAPC/AAAAAAAA4L8AAAAAAAAAAAAAAAAAAOA/AAAAAAAA8D8AAAAAAADwvwAAAAAAAOC/AAAAAAAAAAAAAAAAAADgPwAAAAAAAPA/AAAAAAAA8L8AAAAAAADgvwAAAAAAAAAAAAAAAAAA4D8AAAAAAADwPwAAAAAAAPC/AAAAAAAA4L8AAAAAAAAAAAAAAAAAAOA/AAAAAAAA8D8AAAAAAADwvwAAAAAAAOC/AAAAAAAAAAAAAAAAAADgPwAAAAAAAPA/AAAAAAAA8L8AAAAAAADgvwAAAAAAAAAAAAAAAAAA4D8AAAAAAADwPwAAAAAAAPC/AAAAAAAA4L8AAAAAAAAAAAAAAAAAAOA/AAAAAAAA8D8AAAAAAADwvwAAAAAAAOC/AAAAAAAAAAAAAAAAAADgPwAAAAAAAPA/AAAAAAAA8L8AAAAAAADgvwAAAAAAAAAAAAAAAAAA4D8AAAAAAADwPwAAAAAAAPC/AAAAAAAA4L8AAAAAAAAAAAAAAAAAAOA/AAAAAAAA8D8AAAAAAADwvwAAAAAAAOC/AAAAAAAAAAAAAAAAAADgPwAAAAAAAPA/AAAAAAAA8L8AAAAAAADgvwAAAAAAAAAAAAAAAAAA4D8AAAAAAADwPwAAAAAAAPC/AAAAAAAA4L8AAAAAAAAAAAAAAAAAAOA/AAAAAAAA8D8AAAAAAADwvwAAAAAAAOC/AAAAAAAAAAAAAAAAAADgPwAAAAAAAPA/AAAAAAAA8L8AAAAAAADgvwAAAAAAAAAAAAAAAAAA4D8AAAAAAADwPwAAAAAAAPC/AAAAAAAA4L8AAAAAAAAAAAAAAAAAAOA/AAAAAAAA8D8AAAAAAADwvwAAAAAAAOC/AAAAAAAAAAAAAAAAAADgPwAAAAAAAPA/AAAAAAAA8L8AAAAAAADgvwAAAAAAAAAAAAAAAAAA4D8AAAAAAADwPw==",
          "dtype": "f8"
         },
         "x": {
          "bdata": "AAAAAAAA8L8AAAAAAADwvwAAAAAAAPC/AAAAAAAA8L8AAAAAAADwvwAAAAAAAOC/AAAAAAAA4L8AAAAAAADgvwAAAAAAAOC/AAAAAAAA4L8AAAAAAAAAAAAAAAAAAAAAAAAAAAAAAAAAAAAAAAAAAAAAAAAAAAAAAAAAAAAA4D8AAAAAAADgPwAAAAAAAOA/AAAAAAAA4D8AAAAAAADgPwAAAAAAAPA/AAAAAAAA8D8AAAAAAADwPwAAAAAAAPA/AAAAAAAA8D8AAAAAAADwvwAAAAAAAPC/AAAAAAAA8L8AAAAAAADwvwAAAAAAAPC/AAAAAAAA4L8AAAAAAADgvwAAAAAAAOC/AAAAAAAA4L8AAAAAAADgvwAAAAAAAAAAAAAAAAAAAAAAAAAAAAAAAAAAAAAAAAAAAAAAAAAAAAAAAAAAAADgPwAAAAAAAOA/AAAAAAAA4D8AAAAAAADgPwAAAAAAAOA/AAAAAAAA8D8AAAAAAADwPwAAAAAAAPA/AAAAAAAA8D8AAAAAAADwPwAAAAAAAPC/AAAAAAAA8L8AAAAAAADwvwAAAAAAAPC/AAAAAAAA8L8AAAAAAADgvwAAAAAAAOC/AAAAAAAA4L8AAAAAAADgvwAAAAAAAOC/AAAAAAAAAAAAAAAAAAAAAAAAAAAAAAAAAAAAAAAAAAAAAAAAAAAAAAAAAAAAAOA/AAAAAAAA4D8AAAAAAADgPwAAAAAAAOA/AAAAAAAA4D8AAAAAAADwPwAAAAAAAPA/AAAAAAAA8D8AAAAAAADwPwAAAAAAAPA/AAAAAAAA8L8AAAAAAADwvwAAAAAAAPC/AAAAAAAA8L8AAAAAAADwvwAAAAAAAOC/AAAAAAAA4L8AAAAAAADgvwAAAAAAAOC/AAAAAAAA4L8AAAAAAAAAAAAAAAAAAAAAAAAAAAAAAAAAAAAAAAAAAAAAAAAAAAAAAAAAAAAA4D8AAAAAAADgPwAAAAAAAOA/AAAAAAAA4D8AAAAAAADgPwAAAAAAAPA/AAAAAAAA8D8AAAAAAADwPwAAAAAAAPA/AAAAAAAA8D8AAAAAAADwvwAAAAAAAPC/AAAAAAAA8L8AAAAAAADwvwAAAAAAAPC/AAAAAAAA4L8AAAAAAADgvwAAAAAAAOC/AAAAAAAA4L8AAAAAAADgvwAAAAAAAAAAAAAAAAAAAAAAAAAAAAAAAAAAAAAAAAAAAAAAAAAAAAAAAAAAAADgPwAAAAAAAOA/AAAAAAAA4D8AAAAAAADgPwAAAAAAAOA/AAAAAAAA8D8AAAAAAADwPwAAAAAAAPA/AAAAAAAA8D8AAAAAAADwPw==",
          "dtype": "f8"
         },
         "y": {
          "bdata": "AAAAAAAA8L8AAAAAAADwvwAAAAAAAPC/AAAAAAAA8L8AAAAAAADwvwAAAAAAAPC/AAAAAAAA8L8AAAAAAADwvwAAAAAAAPC/AAAAAAAA8L8AAAAAAADwvwAAAAAAAPC/AAAAAAAA8L8AAAAAAADwvwAAAAAAAPC/AAAAAAAA8L8AAAAAAADwvwAAAAAAAPC/AAAAAAAA8L8AAAAAAADwvwAAAAAAAPC/AAAAAAAA8L8AAAAAAADwvwAAAAAAAPC/AAAAAAAA8L8AAAAAAADgvwAAAAAAAOC/AAAAAAAA4L8AAAAAAADgvwAAAAAAAOC/AAAAAAAA4L8AAAAAAADgvwAAAAAAAOC/AAAAAAAA4L8AAAAAAADgvwAAAAAAAOC/AAAAAAAA4L8AAAAAAADgvwAAAAAAAOC/AAAAAAAA4L8AAAAAAADgvwAAAAAAAOC/AAAAAAAA4L8AAAAAAADgvwAAAAAAAOC/AAAAAAAA4L8AAAAAAADgvwAAAAAAAOC/AAAAAAAA4L8AAAAAAADgvwAAAAAAAAAAAAAAAAAAAAAAAAAAAAAAAAAAAAAAAAAAAAAAAAAAAAAAAAAAAAAAAAAAAAAAAAAAAAAAAAAAAAAAAAAAAAAAAAAAAAAAAAAAAAAAAAAAAAAAAAAAAAAAAAAAAAAAAAAAAAAAAAAAAAAAAAAAAAAAAAAAAAAAAAAAAAAAAAAAAAAAAAAAAAAAAAAAAAAAAAAAAAAAAAAAAAAAAAAAAAAAAAAAAAAAAAAAAAAAAAAAAAAAAAAAAAAAAAAAAAAAAAAAAAAAAAAA4D8AAAAAAADgPwAAAAAAAOA/AAAAAAAA4D8AAAAAAADgPwAAAAAAAOA/AAAAAAAA4D8AAAAAAADgPwAAAAAAAOA/AAAAAAAA4D8AAAAAAADgPwAAAAAAAOA/AAAAAAAA4D8AAAAAAADgPwAAAAAAAOA/AAAAAAAA4D8AAAAAAADgPwAAAAAAAOA/AAAAAAAA4D8AAAAAAADgPwAAAAAAAOA/AAAAAAAA4D8AAAAAAADgPwAAAAAAAOA/AAAAAAAA4D8AAAAAAADwPwAAAAAAAPA/AAAAAAAA8D8AAAAAAADwPwAAAAAAAPA/AAAAAAAA8D8AAAAAAADwPwAAAAAAAPA/AAAAAAAA8D8AAAAAAADwPwAAAAAAAPA/AAAAAAAA8D8AAAAAAADwPwAAAAAAAPA/AAAAAAAA8D8AAAAAAADwPwAAAAAAAPA/AAAAAAAA8D8AAAAAAADwPwAAAAAAAPA/AAAAAAAA8D8AAAAAAADwPwAAAAAAAPA/AAAAAAAA8D8AAAAAAADwPw==",
          "dtype": "f8"
         },
         "z": {
          "bdata": "AAAAAAAA8L8AAAAAAADgvwAAAAAAAAAAAAAAAAAA4D8AAAAAAADwPwAAAAAAAPC/AAAAAAAA4L8AAAAAAAAAAAAAAAAAAOA/AAAAAAAA8D8AAAAAAADwvwAAAAAAAOC/AAAAAAAAAAAAAAAAAADgPwAAAAAAAPA/AAAAAAAA8L8AAAAAAADgvwAAAAAAAAAAAAAAAAAA4D8AAAAAAADwPwAAAAAAAPC/AAAAAAAA4L8AAAAAAAAAAAAAAAAAAOA/AAAAAAAA8D8AAAAAAADwvwAAAAAAAOC/AAAAAAAAAAAAAAAAAADgPwAAAAAAAPA/AAAAAAAA8L8AAAAAAADgvwAAAAAAAAAAAAAAAAAA4D8AAAAAAADwPwAAAAAAAPC/AAAAAAAA4L8AAAAAAAAAAAAAAAAAAOA/AAAAAAAA8D8AAAAAAADwvwAAAAAAAOC/AAAAAAAAAAAAAAAAAADgPwAAAAAAAPA/AAAAAAAA8L8AAAAAAADgvwAAAAAAAAAAAAAAAAAA4D8AAAAAAADwPwAAAAAAAPC/AAAAAAAA4L8AAAAAAAAAAAAAAAAAAOA/AAAAAAAA8D8AAAAAAADwvwAAAAAAAOC/AAAAAAAAAAAAAAAAAADgPwAAAAAAAPA/AAAAAAAA8L8AAAAAAADgvwAAAAAAAAAAAAAAAAAA4D8AAAAAAADwPwAAAAAAAPC/AAAAAAAA4L8AAAAAAAAAAAAAAAAAAOA/AAAAAAAA8D8AAAAAAADwvwAAAAAAAOC/AAAAAAAAAAAAAAAAAADgPwAAAAAAAPA/AAAAAAAA8L8AAAAAAADgvwAAAAAAAAAAAAAAAAAA4D8AAAAAAADwPwAAAAAAAPC/AAAAAAAA4L8AAAAAAAAAAAAAAAAAAOA/AAAAAAAA8D8AAAAAAADwvwAAAAAAAOC/AAAAAAAAAAAAAAAAAADgPwAAAAAAAPA/AAAAAAAA8L8AAAAAAADgvwAAAAAAAAAAAAAAAAAA4D8AAAAAAADwPwAAAAAAAPC/AAAAAAAA4L8AAAAAAAAAAAAAAAAAAOA/AAAAAAAA8D8AAAAAAADwvwAAAAAAAOC/AAAAAAAAAAAAAAAAAADgPwAAAAAAAPA/AAAAAAAA8L8AAAAAAADgvwAAAAAAAAAAAAAAAAAA4D8AAAAAAADwPwAAAAAAAPC/AAAAAAAA4L8AAAAAAAAAAAAAAAAAAOA/AAAAAAAA8D8AAAAAAADwvwAAAAAAAOC/AAAAAAAAAAAAAAAAAADgPwAAAAAAAPA/AAAAAAAA8L8AAAAAAADgvwAAAAAAAAAAAAAAAAAA4D8AAAAAAADwPw==",
          "dtype": "f8"
         }
        }
       ],
       "layout": {
        "scene": {
         "xaxis": {
          "title": {
           "text": "X"
          }
         },
         "yaxis": {
          "title": {
           "text": "Y"
          }
         },
         "zaxis": {
          "title": {
           "text": "Z"
          }
         }
        },
        "template": {
         "data": {
          "bar": [
           {
            "error_x": {
             "color": "#2a3f5f"
            },
            "error_y": {
             "color": "#2a3f5f"
            },
            "marker": {
             "line": {
              "color": "#E5ECF6",
              "width": 0.5
             },
             "pattern": {
              "fillmode": "overlay",
              "size": 10,
              "solidity": 0.2
             }
            },
            "type": "bar"
           }
          ],
          "barpolar": [
           {
            "marker": {
             "line": {
              "color": "#E5ECF6",
              "width": 0.5
             },
             "pattern": {
              "fillmode": "overlay",
              "size": 10,
              "solidity": 0.2
             }
            },
            "type": "barpolar"
           }
          ],
          "carpet": [
           {
            "aaxis": {
             "endlinecolor": "#2a3f5f",
             "gridcolor": "white",
             "linecolor": "white",
             "minorgridcolor": "white",
             "startlinecolor": "#2a3f5f"
            },
            "baxis": {
             "endlinecolor": "#2a3f5f",
             "gridcolor": "white",
             "linecolor": "white",
             "minorgridcolor": "white",
             "startlinecolor": "#2a3f5f"
            },
            "type": "carpet"
           }
          ],
          "choropleth": [
           {
            "colorbar": {
             "outlinewidth": 0,
             "ticks": ""
            },
            "type": "choropleth"
           }
          ],
          "contour": [
           {
            "colorbar": {
             "outlinewidth": 0,
             "ticks": ""
            },
            "colorscale": [
             [
              0,
              "#0d0887"
             ],
             [
              0.1111111111111111,
              "#46039f"
             ],
             [
              0.2222222222222222,
              "#7201a8"
             ],
             [
              0.3333333333333333,
              "#9c179e"
             ],
             [
              0.4444444444444444,
              "#bd3786"
             ],
             [
              0.5555555555555556,
              "#d8576b"
             ],
             [
              0.6666666666666666,
              "#ed7953"
             ],
             [
              0.7777777777777778,
              "#fb9f3a"
             ],
             [
              0.8888888888888888,
              "#fdca26"
             ],
             [
              1,
              "#f0f921"
             ]
            ],
            "type": "contour"
           }
          ],
          "contourcarpet": [
           {
            "colorbar": {
             "outlinewidth": 0,
             "ticks": ""
            },
            "type": "contourcarpet"
           }
          ],
          "heatmap": [
           {
            "colorbar": {
             "outlinewidth": 0,
             "ticks": ""
            },
            "colorscale": [
             [
              0,
              "#0d0887"
             ],
             [
              0.1111111111111111,
              "#46039f"
             ],
             [
              0.2222222222222222,
              "#7201a8"
             ],
             [
              0.3333333333333333,
              "#9c179e"
             ],
             [
              0.4444444444444444,
              "#bd3786"
             ],
             [
              0.5555555555555556,
              "#d8576b"
             ],
             [
              0.6666666666666666,
              "#ed7953"
             ],
             [
              0.7777777777777778,
              "#fb9f3a"
             ],
             [
              0.8888888888888888,
              "#fdca26"
             ],
             [
              1,
              "#f0f921"
             ]
            ],
            "type": "heatmap"
           }
          ],
          "histogram": [
           {
            "marker": {
             "pattern": {
              "fillmode": "overlay",
              "size": 10,
              "solidity": 0.2
             }
            },
            "type": "histogram"
           }
          ],
          "histogram2d": [
           {
            "colorbar": {
             "outlinewidth": 0,
             "ticks": ""
            },
            "colorscale": [
             [
              0,
              "#0d0887"
             ],
             [
              0.1111111111111111,
              "#46039f"
             ],
             [
              0.2222222222222222,
              "#7201a8"
             ],
             [
              0.3333333333333333,
              "#9c179e"
             ],
             [
              0.4444444444444444,
              "#bd3786"
             ],
             [
              0.5555555555555556,
              "#d8576b"
             ],
             [
              0.6666666666666666,
              "#ed7953"
             ],
             [
              0.7777777777777778,
              "#fb9f3a"
             ],
             [
              0.8888888888888888,
              "#fdca26"
             ],
             [
              1,
              "#f0f921"
             ]
            ],
            "type": "histogram2d"
           }
          ],
          "histogram2dcontour": [
           {
            "colorbar": {
             "outlinewidth": 0,
             "ticks": ""
            },
            "colorscale": [
             [
              0,
              "#0d0887"
             ],
             [
              0.1111111111111111,
              "#46039f"
             ],
             [
              0.2222222222222222,
              "#7201a8"
             ],
             [
              0.3333333333333333,
              "#9c179e"
             ],
             [
              0.4444444444444444,
              "#bd3786"
             ],
             [
              0.5555555555555556,
              "#d8576b"
             ],
             [
              0.6666666666666666,
              "#ed7953"
             ],
             [
              0.7777777777777778,
              "#fb9f3a"
             ],
             [
              0.8888888888888888,
              "#fdca26"
             ],
             [
              1,
              "#f0f921"
             ]
            ],
            "type": "histogram2dcontour"
           }
          ],
          "mesh3d": [
           {
            "colorbar": {
             "outlinewidth": 0,
             "ticks": ""
            },
            "type": "mesh3d"
           }
          ],
          "parcoords": [
           {
            "line": {
             "colorbar": {
              "outlinewidth": 0,
              "ticks": ""
             }
            },
            "type": "parcoords"
           }
          ],
          "pie": [
           {
            "automargin": true,
            "type": "pie"
           }
          ],
          "scatter": [
           {
            "fillpattern": {
             "fillmode": "overlay",
             "size": 10,
             "solidity": 0.2
            },
            "type": "scatter"
           }
          ],
          "scatter3d": [
           {
            "line": {
             "colorbar": {
              "outlinewidth": 0,
              "ticks": ""
             }
            },
            "marker": {
             "colorbar": {
              "outlinewidth": 0,
              "ticks": ""
             }
            },
            "type": "scatter3d"
           }
          ],
          "scattercarpet": [
           {
            "marker": {
             "colorbar": {
              "outlinewidth": 0,
              "ticks": ""
             }
            },
            "type": "scattercarpet"
           }
          ],
          "scattergeo": [
           {
            "marker": {
             "colorbar": {
              "outlinewidth": 0,
              "ticks": ""
             }
            },
            "type": "scattergeo"
           }
          ],
          "scattergl": [
           {
            "marker": {
             "colorbar": {
              "outlinewidth": 0,
              "ticks": ""
             }
            },
            "type": "scattergl"
           }
          ],
          "scattermap": [
           {
            "marker": {
             "colorbar": {
              "outlinewidth": 0,
              "ticks": ""
             }
            },
            "type": "scattermap"
           }
          ],
          "scattermapbox": [
           {
            "marker": {
             "colorbar": {
              "outlinewidth": 0,
              "ticks": ""
             }
            },
            "type": "scattermapbox"
           }
          ],
          "scatterpolar": [
           {
            "marker": {
             "colorbar": {
              "outlinewidth": 0,
              "ticks": ""
             }
            },
            "type": "scatterpolar"
           }
          ],
          "scatterpolargl": [
           {
            "marker": {
             "colorbar": {
              "outlinewidth": 0,
              "ticks": ""
             }
            },
            "type": "scatterpolargl"
           }
          ],
          "scatterternary": [
           {
            "marker": {
             "colorbar": {
              "outlinewidth": 0,
              "ticks": ""
             }
            },
            "type": "scatterternary"
           }
          ],
          "surface": [
           {
            "colorbar": {
             "outlinewidth": 0,
             "ticks": ""
            },
            "colorscale": [
             [
              0,
              "#0d0887"
             ],
             [
              0.1111111111111111,
              "#46039f"
             ],
             [
              0.2222222222222222,
              "#7201a8"
             ],
             [
              0.3333333333333333,
              "#9c179e"
             ],
             [
              0.4444444444444444,
              "#bd3786"
             ],
             [
              0.5555555555555556,
              "#d8576b"
             ],
             [
              0.6666666666666666,
              "#ed7953"
             ],
             [
              0.7777777777777778,
              "#fb9f3a"
             ],
             [
              0.8888888888888888,
              "#fdca26"
             ],
             [
              1,
              "#f0f921"
             ]
            ],
            "type": "surface"
           }
          ],
          "table": [
           {
            "cells": {
             "fill": {
              "color": "#EBF0F8"
             },
             "line": {
              "color": "white"
             }
            },
            "header": {
             "fill": {
              "color": "#C8D4E3"
             },
             "line": {
              "color": "white"
             }
            },
            "type": "table"
           }
          ]
         },
         "layout": {
          "annotationdefaults": {
           "arrowcolor": "#2a3f5f",
           "arrowhead": 0,
           "arrowwidth": 1
          },
          "autotypenumbers": "strict",
          "coloraxis": {
           "colorbar": {
            "outlinewidth": 0,
            "ticks": ""
           }
          },
          "colorscale": {
           "diverging": [
            [
             0,
             "#8e0152"
            ],
            [
             0.1,
             "#c51b7d"
            ],
            [
             0.2,
             "#de77ae"
            ],
            [
             0.3,
             "#f1b6da"
            ],
            [
             0.4,
             "#fde0ef"
            ],
            [
             0.5,
             "#f7f7f7"
            ],
            [
             0.6,
             "#e6f5d0"
            ],
            [
             0.7,
             "#b8e186"
            ],
            [
             0.8,
             "#7fbc41"
            ],
            [
             0.9,
             "#4d9221"
            ],
            [
             1,
             "#276419"
            ]
           ],
           "sequential": [
            [
             0,
             "#0d0887"
            ],
            [
             0.1111111111111111,
             "#46039f"
            ],
            [
             0.2222222222222222,
             "#7201a8"
            ],
            [
             0.3333333333333333,
             "#9c179e"
            ],
            [
             0.4444444444444444,
             "#bd3786"
            ],
            [
             0.5555555555555556,
             "#d8576b"
            ],
            [
             0.6666666666666666,
             "#ed7953"
            ],
            [
             0.7777777777777778,
             "#fb9f3a"
            ],
            [
             0.8888888888888888,
             "#fdca26"
            ],
            [
             1,
             "#f0f921"
            ]
           ],
           "sequentialminus": [
            [
             0,
             "#0d0887"
            ],
            [
             0.1111111111111111,
             "#46039f"
            ],
            [
             0.2222222222222222,
             "#7201a8"
            ],
            [
             0.3333333333333333,
             "#9c179e"
            ],
            [
             0.4444444444444444,
             "#bd3786"
            ],
            [
             0.5555555555555556,
             "#d8576b"
            ],
            [
             0.6666666666666666,
             "#ed7953"
            ],
            [
             0.7777777777777778,
             "#fb9f3a"
            ],
            [
             0.8888888888888888,
             "#fdca26"
            ],
            [
             1,
             "#f0f921"
            ]
           ]
          },
          "colorway": [
           "#636efa",
           "#EF553B",
           "#00cc96",
           "#ab63fa",
           "#FFA15A",
           "#19d3f3",
           "#FF6692",
           "#B6E880",
           "#FF97FF",
           "#FECB52"
          ],
          "font": {
           "color": "#2a3f5f"
          },
          "geo": {
           "bgcolor": "white",
           "lakecolor": "white",
           "landcolor": "#E5ECF6",
           "showlakes": true,
           "showland": true,
           "subunitcolor": "white"
          },
          "hoverlabel": {
           "align": "left"
          },
          "hovermode": "closest",
          "mapbox": {
           "style": "light"
          },
          "paper_bgcolor": "white",
          "plot_bgcolor": "#E5ECF6",
          "polar": {
           "angularaxis": {
            "gridcolor": "white",
            "linecolor": "white",
            "ticks": ""
           },
           "bgcolor": "#E5ECF6",
           "radialaxis": {
            "gridcolor": "white",
            "linecolor": "white",
            "ticks": ""
           }
          },
          "scene": {
           "xaxis": {
            "backgroundcolor": "#E5ECF6",
            "gridcolor": "white",
            "gridwidth": 2,
            "linecolor": "white",
            "showbackground": true,
            "ticks": "",
            "zerolinecolor": "white"
           },
           "yaxis": {
            "backgroundcolor": "#E5ECF6",
            "gridcolor": "white",
            "gridwidth": 2,
            "linecolor": "white",
            "showbackground": true,
            "ticks": "",
            "zerolinecolor": "white"
           },
           "zaxis": {
            "backgroundcolor": "#E5ECF6",
            "gridcolor": "white",
            "gridwidth": 2,
            "linecolor": "white",
            "showbackground": true,
            "ticks": "",
            "zerolinecolor": "white"
           }
          },
          "shapedefaults": {
           "line": {
            "color": "#2a3f5f"
           }
          },
          "ternary": {
           "aaxis": {
            "gridcolor": "white",
            "linecolor": "white",
            "ticks": ""
           },
           "baxis": {
            "gridcolor": "white",
            "linecolor": "white",
            "ticks": ""
           },
           "bgcolor": "#E5ECF6",
           "caxis": {
            "gridcolor": "white",
            "linecolor": "white",
            "ticks": ""
           }
          },
          "title": {
           "x": 0.05
          },
          "xaxis": {
           "automargin": true,
           "gridcolor": "white",
           "linecolor": "white",
           "ticks": "",
           "title": {
            "standoff": 15
           },
           "zerolinecolor": "white",
           "zerolinewidth": 2
          },
          "yaxis": {
           "automargin": true,
           "gridcolor": "white",
           "linecolor": "white",
           "ticks": "",
           "title": {
            "standoff": 15
           },
           "zerolinecolor": "white",
           "zerolinewidth": 2
          }
         }
        },
        "title": {
         "text": "Example Radial Field Plot"
        }
       }
      }
     },
     "metadata": {},
     "output_type": "display_data"
    }
   ],
   "source": [
    "# Define grid\n",
    "x1, y1, z1 = np.meshgrid(\n",
    "    np.linspace(-1, 1, 5),\n",
    "    np.linspace(-1, 1, 5),\n",
    "    np.linspace(-1, 1, 5)\n",
    ")\n",
    "\n",
    "# Simple radial field example \n",
    "u1 = x1\n",
    "v1 = y1\n",
    "w1 = z1\n",
    "\n",
    "plotter([x1, y1, z1, u1, v1, w1], title = 'Example Radial Field Plot')"
   ]
  },
  {
   "cell_type": "code",
   "execution_count": 4,
   "id": "8f50c6aa",
   "metadata": {},
   "outputs": [
    {
     "data": {
      "application/vnd.plotly.v1+json": {
       "config": {
        "plotlyServerURL": "https://plot.ly"
       },
       "data": [
        {
         "anchor": "tail",
         "sizemode": "scaled",
         "sizeref": 2,
         "type": "cone",
         "u": {
          "bdata": "rtfcixif2L8AVUQTDm/eP67X3IsYn9i/FoG/yk/r47+u19yLGJ/oPxaBv8pP6+O/FoG/yk/r47+u19yLGJ/oPxaBv8pP6+O/stfcixif2L8FVUQTDm/eP7LX3IsYn9i/UtizgRhzwLwZmkVZM1XEPFLYs4EYc8C8pNfcixif2D/zVEQTDm/ev6TX3IsYn9g/FIG/yk/r4z+s19yLGJ/ovxSBv8pP6+M/GIG/yk/r4z+x19yLGJ/ovxiBv8pP6+M/u9fcixif2D8PVUQTDm/ev7vX3IsYn9g/YVp1BCPPwr9H9Z0d1j/HP2FadQQjz8K/AlVEEw5vzr9gWnUEI8/SPwJVRBMOb86/A1VEEw5vzr9hWnUEI8/SPwNVRBMOb86/ZFp1BCPPwr9L9Z0d1j/HP2RadQQjz8K/Gy1EVPshqbw5Do681hCvPBstRFT7Iam8WVp1BCPPwj899Z0d1j/Hv1ladQQjz8I/AFVEEw5vzj9fWnUEI8/SvwBVRBMOb84/B1VEEw5vzj9jWnUEI8/SvwdVRBMOb84/alp1BCPPwj9S9Z0d1j/Hv2padQQjz8I/WVp1BCPPwj899Z0d1j/Hv1ladQQjz8I/9VREEw5vzj9YWnUEI8/Sv/VURBMOb84/9VREEw5vzj9YWnUEI8/Sv/VURBMOb84/W1p1BCPPwj9A9Z0d1j/Hv1tadQQjz8I/Dy1EVPshqTwqDo681hCvvA8tRFT7Iak8UVp1BCPPwr8z9Z0d1j/HP1FadQQjz8K/8lREEw5vzr9WWnUEI8/SP/JURBMOb86/+FREEw5vzr9aWnUEI8/SP/hURBMOb86/Ylp1BCPPwr9I9Z0d1j/HP2JadQQjz8K/rdfcixif2D/+VEQTDm/ev63X3IsYn9g/FIG/yk/r4z+s19yLGJ/ovxSBv8pP6+M/FYG/yk/r4z+t19yLGJ/ovxWBv8pP6+M/sdfcixif2D8DVUQTDm/ev7HX3IsYn9g/UNizgRhzwDwXmkVZM1XEvFDYs4EYc8A8otfcixif2L/xVEQTDm/eP6LX3IsYn9i/E4G/yk/r47+q19yLGJ/oPxOBv8pP6+O/F4G/yk/r47+v19yLGJ/oPxeBv8pP6+O/uNfcixif2L8MVUQTDm/eP7jX3IsYn9i/AFVEEw5v3j9fWnUEI8/ivwBVRBMOb94/rtfcixif6D//VEQTDm/uv67X3IsYn+g/rtfcixif6D8AVUQTDm/uv67X3IsYn+g/BVVEEw5v3j9iWnUEI8/ivwVVRBMOb94/GZpFWTNVxDwYLURU+yHJvBmaRVkzVcQ881REEw5v3r9XWnUEI8/iP/NURBMOb96/rNfcixif6L/9VEQTDm/uP6zX3IsYn+i/sdfcixif6L8DVUQTDm/uP7HX3IsYn+i/D1VEEw5v3r9oWnUEI8/iPw9VRBMOb96/tNfcixif2D8HVUQTDm/ev7TX3IsYn9g/GoG/yk/r4z+z19yLGJ/ovxqBv8pP6+M/G4G/yk/r4z+019yLGJ/ovxuBv8pP6+M/uNfcixif2D8MVUQTDm/ev7jX3IsYn9g/VdizgRhzwDwdmkVZM1XEvFXYs4EYc8A8qtfcixif2L/6VEQTDm/eP6rX3IsYn9i/GYG/yk/r47+y19yLGJ/oPxmBv8pP6+O/HYG/yk/r47+319yLGJ/oPx2Bv8pP6+O/wNfcixif2L8WVUQTDm/eP8DX3IsYn9i/blp1BCPPwj9Y9Z0d1j/Hv25adQQjz8I/F1VEEw5vzj9tWnUEI8/SvxdVRBMOb84/GFVEEw5vzj9uWnUEI8/SvxhVRBMOb84/cVp1BCPPwj9b9Z0d1j/Hv3FadQQjz8I/LS1EVPshqTxPDo681hCvvC0tRFT7Iak8Zlp1BCPPwr9O9Z0d1j/HP2ZadQQjz8K/FVVEEw5vzr9sWnUEI8/SPxVVRBMOb86/HFVEEw5vzr9wWnUEI8/SPxxVRBMOb86/d1p1BCPPwr9j9Z0d1j/HP3dadQQjz8K/S1p1BCPPwr8s9Z0d1j/HP0tadQQjz8K/3lREEw5vzr9KWnUEI8/SP95URBMOb86/4FREEw5vzr9LWnUEI8/SP+BURBMOb86/Tlp1BCPPwr8w9Z0d1j/HP05adQQjz8K//SxEVPshqbwUDo681hCvPP0sRFT7Iam8Q1p1BCPPwj8i9Z0d1j/Hv0NadQQjz8I/3VREEw5vzj9JWnUEI8/Sv91URBMOb84/41REEw5vzj9NWnUEI8/Sv+NURBMOb84/VFp1BCPPwj839Z0d1j/Hv1RadQQjz8I/qNfcixif2L/4VEQTDm/eP6jX3IsYn9i/EIG/yk/r47+n19yLGJ/oPxCBv8pP6+O/EYG/yk/r47+o19yLGJ/oPxGBv8pP6+O/rNfcixif2L/9VEQTDm/eP6zX3IsYn9i/TdizgRhzwLwTmkVZM1XEPE3Ys4EYc8C8ndfcixif2D/rVEQTDm/ev53X3IsYn9g/D4G/yk/r4z+l19yLGJ/ovw+Bv8pP6+M/E4G/yk/r4z+q19yLGJ/ovxOBv8pP6+M/tNfcixif2D8HVUQTDm/ev7TX3IsYn9g/",
          "dtype": "f8"
         },
         "v": {
          "bdata": "rtfcixif2D8AVUQTDm/ev67X3IsYn9g/YVp1BCPPwj9H9Z0d1j/Hv2FadQQjz8I/WVp1BCPPwr899Z0d1j/HP1ladQQjz8K/rdfcixif2L/+VEQTDm/eP63X3IsYn9i/AFVEEw5v3r9fWnUEI8/iPwBVRBMOb96/tNfcixif2L8HVUQTDm/eP7TX3IsYn9i/blp1BCPPwr9Y9Z0d1j/HP25adQQjz8K/S1p1BCPPwj8s9Z0d1j/Hv0tadQQjz8I/qNfcixif2D/4VEQTDm/ev6jX3IsYn9g/FoG/yk/r4z+u19yLGJ/ovxaBv8pP6+M/AlVEEw5vzj9gWnUEI8/SvwJVRBMOb84/9VREEw5vzr9YWnUEI8/SP/VURBMOb86/FIG/yk/r47+s19yLGJ/oPxSBv8pP6+O/rtfcixif6L//VEQTDm/uP67X3IsYn+i/GoG/yk/r47+z19yLGJ/oPxqBv8pP6+O/F1VEEw5vzr9tWnUEI8/SPxdVRBMOb86/3lREEw5vzj9KWnUEI8/Sv95URBMOb84/EIG/yk/r4z+n19yLGJ/ovxCBv8pP6+M/FoG/yk/r4z+u19yLGJ/ovxaBv8pP6+M/A1VEEw5vzj9hWnUEI8/SvwNVRBMOb84/9VREEw5vzr9YWnUEI8/SP/VURBMOb86/FYG/yk/r47+t19yLGJ/oPxWBv8pP6+O/rtfcixif6L8AVUQTDm/uP67X3IsYn+i/G4G/yk/r47+019yLGJ/oPxuBv8pP6+O/GFVEEw5vzr9uWnUEI8/SPxhVRBMOb86/4FREEw5vzj9LWnUEI8/Sv+BURBMOb84/EYG/yk/r4z+o19yLGJ/ovxGBv8pP6+M/stfcixif2D8FVUQTDm/ev7LX3IsYn9g/ZFp1BCPPwj9L9Z0d1j/Hv2RadQQjz8I/W1p1BCPPwr9A9Z0d1j/HP1tadQQjz8K/sdfcixif2L8DVUQTDm/eP7HX3IsYn9i/BVVEEw5v3r9iWnUEI8/iPwVVRBMOb96/uNfcixif2L8MVUQTDm/eP7jX3IsYn9i/cVp1BCPPwr9b9Z0d1j/HP3FadQQjz8K/Tlp1BCPPwj8w9Z0d1j/Hv05adQQjz8I/rNfcixif2D/9VEQTDm/ev6zX3IsYn9g/UtizgRhzwDwZmkVZM1XEvFLYs4EYc8A8Gy1EVPshqTw5Do681hCvvBstRFT7Iak8Dy1EVPshqbwqDo681hCvPA8tRFT7Iam8UNizgRhzwLwXmkVZM1XEPFDYs4EYc8C8GZpFWTNVxLwYLURU+yHJPBmaRVkzVcS8VdizgRhzwLwdmkVZM1XEPFXYs4EYc8C8LS1EVPshqbxPDo681hCvPC0tRFT7Iam8/SxEVPshqTwUDo681hCvvP0sRFT7Iak8TdizgRhzwDwTmkVZM1XEvE3Ys4EYc8A8pNfcixif2L/zVEQTDm/eP6TX3IsYn9i/WVp1BCPPwr899Z0d1j/HP1ladQQjz8K/UVp1BCPPwj8z9Z0d1j/Hv1FadQQjz8I/otfcixif2D/xVEQTDm/ev6LX3IsYn9g/81REEw5v3j9XWnUEI8/iv/NURBMOb94/qtfcixif2D/6VEQTDm/ev6rX3IsYn9g/Zlp1BCPPwj9O9Z0d1j/Hv2ZadQQjz8I/Q1p1BCPPwr8i9Z0d1j/HP0NadQQjz8K/ndfcixif2L/rVEQTDm/eP53X3IsYn9i/FIG/yk/r47+s19yLGJ/oPxSBv8pP6+O/AFVEEw5vzr9fWnUEI8/SPwBVRBMOb86/8lREEw5vzj9WWnUEI8/Sv/JURBMOb84/E4G/yk/r4z+q19yLGJ/ovxOBv8pP6+M/rNfcixif6D/9VEQTDm/uv6zX3IsYn+g/GYG/yk/r4z+y19yLGJ/ovxmBv8pP6+M/FVVEEw5vzj9sWnUEI8/SvxVVRBMOb84/3VREEw5vzr9JWnUEI8/SP91URBMOb86/D4G/yk/r47+l19yLGJ/oPw+Bv8pP6+O/GIG/yk/r47+x19yLGJ/oPxiBv8pP6+O/B1VEEw5vzr9jWnUEI8/SPwdVRBMOb86/+FREEw5vzj9aWnUEI8/Sv/hURBMOb84/F4G/yk/r4z+v19yLGJ/ovxeBv8pP6+M/sdfcixif6D8DVUQTDm/uv7HX3IsYn+g/HYG/yk/r4z+319yLGJ/ovx2Bv8pP6+M/HFVEEw5vzj9wWnUEI8/SvxxVRBMOb84/41REEw5vzr9NWnUEI8/SP+NURBMOb86/E4G/yk/r47+q19yLGJ/oPxOBv8pP6+O/u9fcixif2L8PVUQTDm/eP7vX3IsYn9i/alp1BCPPwr9S9Z0d1j/HP2padQQjz8K/Ylp1BCPPwj9I9Z0d1j/Hv2JadQQjz8I/uNfcixif2D8MVUQTDm/ev7jX3IsYn9g/D1VEEw5v3j9oWnUEI8/ivw9VRBMOb94/wNfcixif2D8WVUQTDm/ev8DX3IsYn9g/d1p1BCPPwj9j9Z0d1j/Hv3dadQQjz8I/VFp1BCPPwr839Z0d1j/HP1RadQQjz8K/tNfcixif2L8HVUQTDm/eP7TX3IsYn9i/",
          "dtype": "f8"
         },
         "w": {
          "bdata": "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",
          "dtype": "f8"
         },
         "x": {
          "bdata": "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",
          "dtype": "f8"
         },
         "y": {
          "bdata": "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",
          "dtype": "f8"
         },
         "z": {
          "bdata": "mpmZmZmZ6b8AAAAAAAAAAJqZmZmZmek/mpmZmZmZ6b8AAAAAAAAAAJqZmZmZmek/mpmZmZmZ6b8AAAAAAAAAAJqZmZmZmek/mpmZmZmZ6b8AAAAAAAAAAJqZmZmZmek/mpmZmZmZ6b8AAAAAAAAAAJqZmZmZmek/mpmZmZmZ6b8AAAAAAAAAAJqZmZmZmek/mpmZmZmZ6b8AAAAAAAAAAJqZmZmZmek/mpmZmZmZ6b8AAAAAAAAAAJqZmZmZmek/mpmZmZmZ6b8AAAAAAAAAAJqZmZmZmek/mpmZmZmZ6b8AAAAAAAAAAJqZmZmZmek/mpmZmZmZ6b8AAAAAAAAAAJqZmZmZmek/mpmZmZmZ6b8AAAAAAAAAAJqZmZmZmek/mpmZmZmZ6b8AAAAAAAAAAJqZmZmZmek/mpmZmZmZ6b8AAAAAAAAAAJqZmZmZmek/mpmZmZmZ6b8AAAAAAAAAAJqZmZmZmek/mpmZmZmZ6b8AAAAAAAAAAJqZmZmZmek/mpmZmZmZ6b8AAAAAAAAAAJqZmZmZmek/mpmZmZmZ6b8AAAAAAAAAAJqZmZmZmek/mpmZmZmZ6b8AAAAAAAAAAJqZmZmZmek/mpmZmZmZ6b8AAAAAAAAAAJqZmZmZmek/mpmZmZmZ6b8AAAAAAAAAAJqZmZmZmek/mpmZmZmZ6b8AAAAAAAAAAJqZmZmZmek/mpmZmZmZ6b8AAAAAAAAAAJqZmZmZmek/mpmZmZmZ6b8AAAAAAAAAAJqZmZmZmek/mpmZmZmZ6b8AAAAAAAAAAJqZmZmZmek/mpmZmZmZ6b8AAAAAAAAAAJqZmZmZmek/mpmZmZmZ6b8AAAAAAAAAAJqZmZmZmek/mpmZmZmZ6b8AAAAAAAAAAJqZmZmZmek/mpmZmZmZ6b8AAAAAAAAAAJqZmZmZmek/mpmZmZmZ6b8AAAAAAAAAAJqZmZmZmek/mpmZmZmZ6b8AAAAAAAAAAJqZmZmZmek/mpmZmZmZ6b8AAAAAAAAAAJqZmZmZmek/mpmZmZmZ6b8AAAAAAAAAAJqZmZmZmek/mpmZmZmZ6b8AAAAAAAAAAJqZmZmZmek/mpmZmZmZ6b8AAAAAAAAAAJqZmZmZmek/mpmZmZmZ6b8AAAAAAAAAAJqZmZmZmek/mpmZmZmZ6b8AAAAAAAAAAJqZmZmZmek/mpmZmZmZ6b8AAAAAAAAAAJqZmZmZmek/mpmZmZmZ6b8AAAAAAAAAAJqZmZmZmek/mpmZmZmZ6b8AAAAAAAAAAJqZmZmZmek/mpmZmZmZ6b8AAAAAAAAAAJqZmZmZmek/mpmZmZmZ6b8AAAAAAAAAAJqZmZmZmek/mpmZmZmZ6b8AAAAAAAAAAJqZmZmZmek/mpmZmZmZ6b8AAAAAAAAAAJqZmZmZmek/mpmZmZmZ6b8AAAAAAAAAAJqZmZmZmek/mpmZmZmZ6b8AAAAAAAAAAJqZmZmZmek/mpmZmZmZ6b8AAAAAAAAAAJqZmZmZmek/mpmZmZmZ6b8AAAAAAAAAAJqZmZmZmek/mpmZmZmZ6b8AAAAAAAAAAJqZmZmZmek/mpmZmZmZ6b8AAAAAAAAAAJqZmZmZmek/mpmZmZmZ6b8AAAAAAAAAAJqZmZmZmek/mpmZmZmZ6b8AAAAAAAAAAJqZmZmZmek/mpmZmZmZ6b8AAAAAAAAAAJqZmZmZmek/mpmZmZmZ6b8AAAAAAAAAAJqZmZmZmek/mpmZmZmZ6b8AAAAAAAAAAJqZmZmZmek/mpmZmZmZ6b8AAAAAAAAAAJqZmZmZmek/mpmZmZmZ6b8AAAAAAAAAAJqZmZmZmek/mpmZmZmZ6b8AAAAAAAAAAJqZmZmZmek/mpmZmZmZ6b8AAAAAAAAAAJqZmZmZmek/mpmZmZmZ6b8AAAAAAAAAAJqZmZmZmek/mpmZmZmZ6b8AAAAAAAAAAJqZmZmZmek/mpmZmZmZ6b8AAAAAAAAAAJqZmZmZmek/mpmZmZmZ6b8AAAAAAAAAAJqZmZmZmek/mpmZmZmZ6b8AAAAAAAAAAJqZmZmZmek/mpmZmZmZ6b8AAAAAAAAAAJqZmZmZmek/mpmZmZmZ6b8AAAAAAAAAAJqZmZmZmek/mpmZmZmZ6b8AAAAAAAAAAJqZmZmZmek/mpmZmZmZ6b8AAAAAAAAAAJqZmZmZmek/mpmZmZmZ6b8AAAAAAAAAAJqZmZmZmek/mpmZmZmZ6b8AAAAAAAAAAJqZmZmZmek/mpmZmZmZ6b8AAAAAAAAAAJqZmZmZmek/mpmZmZmZ6b8AAAAAAAAAAJqZmZmZmek/mpmZmZmZ6b8AAAAAAAAAAJqZmZmZmek/mpmZmZmZ6b8AAAAAAAAAAJqZmZmZmek/mpmZmZmZ6b8AAAAAAAAAAJqZmZmZmek/mpmZmZmZ6b8AAAAAAAAAAJqZmZmZmek/mpmZmZmZ6b8AAAAAAAAAAJqZmZmZmek/mpmZmZmZ6b8AAAAAAAAAAJqZmZmZmek/mpmZmZmZ6b8AAAAAAAAAAJqZmZmZmek/mpmZmZmZ6b8AAAAAAAAAAJqZmZmZmek/mpmZmZmZ6b8AAAAAAAAAAJqZmZmZmek/",
          "dtype": "f8"
         }
        }
       ],
       "layout": {
        "scene": {
         "xaxis": {
          "title": {
           "text": "X"
          }
         },
         "yaxis": {
          "title": {
           "text": "Y"
          }
         },
         "zaxis": {
          "title": {
           "text": "Z"
          }
         }
        },
        "template": {
         "data": {
          "bar": [
           {
            "error_x": {
             "color": "#2a3f5f"
            },
            "error_y": {
             "color": "#2a3f5f"
            },
            "marker": {
             "line": {
              "color": "#E5ECF6",
              "width": 0.5
             },
             "pattern": {
              "fillmode": "overlay",
              "size": 10,
              "solidity": 0.2
             }
            },
            "type": "bar"
           }
          ],
          "barpolar": [
           {
            "marker": {
             "line": {
              "color": "#E5ECF6",
              "width": 0.5
             },
             "pattern": {
              "fillmode": "overlay",
              "size": 10,
              "solidity": 0.2
             }
            },
            "type": "barpolar"
           }
          ],
          "carpet": [
           {
            "aaxis": {
             "endlinecolor": "#2a3f5f",
             "gridcolor": "white",
             "linecolor": "white",
             "minorgridcolor": "white",
             "startlinecolor": "#2a3f5f"
            },
            "baxis": {
             "endlinecolor": "#2a3f5f",
             "gridcolor": "white",
             "linecolor": "white",
             "minorgridcolor": "white",
             "startlinecolor": "#2a3f5f"
            },
            "type": "carpet"
           }
          ],
          "choropleth": [
           {
            "colorbar": {
             "outlinewidth": 0,
             "ticks": ""
            },
            "type": "choropleth"
           }
          ],
          "contour": [
           {
            "colorbar": {
             "outlinewidth": 0,
             "ticks": ""
            },
            "colorscale": [
             [
              0,
              "#0d0887"
             ],
             [
              0.1111111111111111,
              "#46039f"
             ],
             [
              0.2222222222222222,
              "#7201a8"
             ],
             [
              0.3333333333333333,
              "#9c179e"
             ],
             [
              0.4444444444444444,
              "#bd3786"
             ],
             [
              0.5555555555555556,
              "#d8576b"
             ],
             [
              0.6666666666666666,
              "#ed7953"
             ],
             [
              0.7777777777777778,
              "#fb9f3a"
             ],
             [
              0.8888888888888888,
              "#fdca26"
             ],
             [
              1,
              "#f0f921"
             ]
            ],
            "type": "contour"
           }
          ],
          "contourcarpet": [
           {
            "colorbar": {
             "outlinewidth": 0,
             "ticks": ""
            },
            "type": "contourcarpet"
           }
          ],
          "heatmap": [
           {
            "colorbar": {
             "outlinewidth": 0,
             "ticks": ""
            },
            "colorscale": [
             [
              0,
              "#0d0887"
             ],
             [
              0.1111111111111111,
              "#46039f"
             ],
             [
              0.2222222222222222,
              "#7201a8"
             ],
             [
              0.3333333333333333,
              "#9c179e"
             ],
             [
              0.4444444444444444,
              "#bd3786"
             ],
             [
              0.5555555555555556,
              "#d8576b"
             ],
             [
              0.6666666666666666,
              "#ed7953"
             ],
             [
              0.7777777777777778,
              "#fb9f3a"
             ],
             [
              0.8888888888888888,
              "#fdca26"
             ],
             [
              1,
              "#f0f921"
             ]
            ],
            "type": "heatmap"
           }
          ],
          "histogram": [
           {
            "marker": {
             "pattern": {
              "fillmode": "overlay",
              "size": 10,
              "solidity": 0.2
             }
            },
            "type": "histogram"
           }
          ],
          "histogram2d": [
           {
            "colorbar": {
             "outlinewidth": 0,
             "ticks": ""
            },
            "colorscale": [
             [
              0,
              "#0d0887"
             ],
             [
              0.1111111111111111,
              "#46039f"
             ],
             [
              0.2222222222222222,
              "#7201a8"
             ],
             [
              0.3333333333333333,
              "#9c179e"
             ],
             [
              0.4444444444444444,
              "#bd3786"
             ],
             [
              0.5555555555555556,
              "#d8576b"
             ],
             [
              0.6666666666666666,
              "#ed7953"
             ],
             [
              0.7777777777777778,
              "#fb9f3a"
             ],
             [
              0.8888888888888888,
              "#fdca26"
             ],
             [
              1,
              "#f0f921"
             ]
            ],
            "type": "histogram2d"
           }
          ],
          "histogram2dcontour": [
           {
            "colorbar": {
             "outlinewidth": 0,
             "ticks": ""
            },
            "colorscale": [
             [
              0,
              "#0d0887"
             ],
             [
              0.1111111111111111,
              "#46039f"
             ],
             [
              0.2222222222222222,
              "#7201a8"
             ],
             [
              0.3333333333333333,
              "#9c179e"
             ],
             [
              0.4444444444444444,
              "#bd3786"
             ],
             [
              0.5555555555555556,
              "#d8576b"
             ],
             [
              0.6666666666666666,
              "#ed7953"
             ],
             [
              0.7777777777777778,
              "#fb9f3a"
             ],
             [
              0.8888888888888888,
              "#fdca26"
             ],
             [
              1,
              "#f0f921"
             ]
            ],
            "type": "histogram2dcontour"
           }
          ],
          "mesh3d": [
           {
            "colorbar": {
             "outlinewidth": 0,
             "ticks": ""
            },
            "type": "mesh3d"
           }
          ],
          "parcoords": [
           {
            "line": {
             "colorbar": {
              "outlinewidth": 0,
              "ticks": ""
             }
            },
            "type": "parcoords"
           }
          ],
          "pie": [
           {
            "automargin": true,
            "type": "pie"
           }
          ],
          "scatter": [
           {
            "fillpattern": {
             "fillmode": "overlay",
             "size": 10,
             "solidity": 0.2
            },
            "type": "scatter"
           }
          ],
          "scatter3d": [
           {
            "line": {
             "colorbar": {
              "outlinewidth": 0,
              "ticks": ""
             }
            },
            "marker": {
             "colorbar": {
              "outlinewidth": 0,
              "ticks": ""
             }
            },
            "type": "scatter3d"
           }
          ],
          "scattercarpet": [
           {
            "marker": {
             "colorbar": {
              "outlinewidth": 0,
              "ticks": ""
             }
            },
            "type": "scattercarpet"
           }
          ],
          "scattergeo": [
           {
            "marker": {
             "colorbar": {
              "outlinewidth": 0,
              "ticks": ""
             }
            },
            "type": "scattergeo"
           }
          ],
          "scattergl": [
           {
            "marker": {
             "colorbar": {
              "outlinewidth": 0,
              "ticks": ""
             }
            },
            "type": "scattergl"
           }
          ],
          "scattermap": [
           {
            "marker": {
             "colorbar": {
              "outlinewidth": 0,
              "ticks": ""
             }
            },
            "type": "scattermap"
           }
          ],
          "scattermapbox": [
           {
            "marker": {
             "colorbar": {
              "outlinewidth": 0,
              "ticks": ""
             }
            },
            "type": "scattermapbox"
           }
          ],
          "scatterpolar": [
           {
            "marker": {
             "colorbar": {
              "outlinewidth": 0,
              "ticks": ""
             }
            },
            "type": "scatterpolar"
           }
          ],
          "scatterpolargl": [
           {
            "marker": {
             "colorbar": {
              "outlinewidth": 0,
              "ticks": ""
             }
            },
            "type": "scatterpolargl"
           }
          ],
          "scatterternary": [
           {
            "marker": {
             "colorbar": {
              "outlinewidth": 0,
              "ticks": ""
             }
            },
            "type": "scatterternary"
           }
          ],
          "surface": [
           {
            "colorbar": {
             "outlinewidth": 0,
             "ticks": ""
            },
            "colorscale": [
             [
              0,
              "#0d0887"
             ],
             [
              0.1111111111111111,
              "#46039f"
             ],
             [
              0.2222222222222222,
              "#7201a8"
             ],
             [
              0.3333333333333333,
              "#9c179e"
             ],
             [
              0.4444444444444444,
              "#bd3786"
             ],
             [
              0.5555555555555556,
              "#d8576b"
             ],
             [
              0.6666666666666666,
              "#ed7953"
             ],
             [
              0.7777777777777778,
              "#fb9f3a"
             ],
             [
              0.8888888888888888,
              "#fdca26"
             ],
             [
              1,
              "#f0f921"
             ]
            ],
            "type": "surface"
           }
          ],
          "table": [
           {
            "cells": {
             "fill": {
              "color": "#EBF0F8"
             },
             "line": {
              "color": "white"
             }
            },
            "header": {
             "fill": {
              "color": "#C8D4E3"
             },
             "line": {
              "color": "white"
             }
            },
            "type": "table"
           }
          ]
         },
         "layout": {
          "annotationdefaults": {
           "arrowcolor": "#2a3f5f",
           "arrowhead": 0,
           "arrowwidth": 1
          },
          "autotypenumbers": "strict",
          "coloraxis": {
           "colorbar": {
            "outlinewidth": 0,
            "ticks": ""
           }
          },
          "colorscale": {
           "diverging": [
            [
             0,
             "#8e0152"
            ],
            [
             0.1,
             "#c51b7d"
            ],
            [
             0.2,
             "#de77ae"
            ],
            [
             0.3,
             "#f1b6da"
            ],
            [
             0.4,
             "#fde0ef"
            ],
            [
             0.5,
             "#f7f7f7"
            ],
            [
             0.6,
             "#e6f5d0"
            ],
            [
             0.7,
             "#b8e186"
            ],
            [
             0.8,
             "#7fbc41"
            ],
            [
             0.9,
             "#4d9221"
            ],
            [
             1,
             "#276419"
            ]
           ],
           "sequential": [
            [
             0,
             "#0d0887"
            ],
            [
             0.1111111111111111,
             "#46039f"
            ],
            [
             0.2222222222222222,
             "#7201a8"
            ],
            [
             0.3333333333333333,
             "#9c179e"
            ],
            [
             0.4444444444444444,
             "#bd3786"
            ],
            [
             0.5555555555555556,
             "#d8576b"
            ],
            [
             0.6666666666666666,
             "#ed7953"
            ],
            [
             0.7777777777777778,
             "#fb9f3a"
            ],
            [
             0.8888888888888888,
             "#fdca26"
            ],
            [
             1,
             "#f0f921"
            ]
           ],
           "sequentialminus": [
            [
             0,
             "#0d0887"
            ],
            [
             0.1111111111111111,
             "#46039f"
            ],
            [
             0.2222222222222222,
             "#7201a8"
            ],
            [
             0.3333333333333333,
             "#9c179e"
            ],
            [
             0.4444444444444444,
             "#bd3786"
            ],
            [
             0.5555555555555556,
             "#d8576b"
            ],
            [
             0.6666666666666666,
             "#ed7953"
            ],
            [
             0.7777777777777778,
             "#fb9f3a"
            ],
            [
             0.8888888888888888,
             "#fdca26"
            ],
            [
             1,
             "#f0f921"
            ]
           ]
          },
          "colorway": [
           "#636efa",
           "#EF553B",
           "#00cc96",
           "#ab63fa",
           "#FFA15A",
           "#19d3f3",
           "#FF6692",
           "#B6E880",
           "#FF97FF",
           "#FECB52"
          ],
          "font": {
           "color": "#2a3f5f"
          },
          "geo": {
           "bgcolor": "white",
           "lakecolor": "white",
           "landcolor": "#E5ECF6",
           "showlakes": true,
           "showland": true,
           "subunitcolor": "white"
          },
          "hoverlabel": {
           "align": "left"
          },
          "hovermode": "closest",
          "mapbox": {
           "style": "light"
          },
          "paper_bgcolor": "white",
          "plot_bgcolor": "#E5ECF6",
          "polar": {
           "angularaxis": {
            "gridcolor": "white",
            "linecolor": "white",
            "ticks": ""
           },
           "bgcolor": "#E5ECF6",
           "radialaxis": {
            "gridcolor": "white",
            "linecolor": "white",
            "ticks": ""
           }
          },
          "scene": {
           "xaxis": {
            "backgroundcolor": "#E5ECF6",
            "gridcolor": "white",
            "gridwidth": 2,
            "linecolor": "white",
            "showbackground": true,
            "ticks": "",
            "zerolinecolor": "white"
           },
           "yaxis": {
            "backgroundcolor": "#E5ECF6",
            "gridcolor": "white",
            "gridwidth": 2,
            "linecolor": "white",
            "showbackground": true,
            "ticks": "",
            "zerolinecolor": "white"
           },
           "zaxis": {
            "backgroundcolor": "#E5ECF6",
            "gridcolor": "white",
            "gridwidth": 2,
            "linecolor": "white",
            "showbackground": true,
            "ticks": "",
            "zerolinecolor": "white"
           }
          },
          "shapedefaults": {
           "line": {
            "color": "#2a3f5f"
           }
          },
          "ternary": {
           "aaxis": {
            "gridcolor": "white",
            "linecolor": "white",
            "ticks": ""
           },
           "baxis": {
            "gridcolor": "white",
            "linecolor": "white",
            "ticks": ""
           },
           "bgcolor": "#E5ECF6",
           "caxis": {
            "gridcolor": "white",
            "linecolor": "white",
            "ticks": ""
           }
          },
          "title": {
           "x": 0.05
          },
          "xaxis": {
           "automargin": true,
           "gridcolor": "white",
           "linecolor": "white",
           "ticks": "",
           "title": {
            "standoff": 15
           },
           "zerolinecolor": "white",
           "zerolinewidth": 2
          },
          "yaxis": {
           "automargin": true,
           "gridcolor": "white",
           "linecolor": "white",
           "ticks": "",
           "title": {
            "standoff": 15
           },
           "zerolinecolor": "white",
           "zerolinewidth": 2
          }
         }
        },
        "title": {
         "text": "An example of a More complicated Field"
        }
       }
      }
     },
     "metadata": {},
     "output_type": "display_data"
    }
   ],
   "source": [
    "x2, y2, z2 = np.meshgrid(np.arange(-0.8, 1, 0.2),\n",
    "                      np.arange(-0.8, 1, 0.2),\n",
    "                      np.arange(-0.8, 1, 0.8))\n",
    "\n",
    "u2 = np.sin(np.pi * x2) * np.cos(np.pi * y2) * np.cos(np.pi * z2) \n",
    "v2 = -np.cos(np.pi * x2) * np.sin(np.pi * y2) * np.cos(np.pi * z2) \n",
    "w2 = (np.sqrt(2.0 / 3.0) * np.cos(np.pi * x2) * np.cos(np.pi * y2) * np.sin(np.pi * z2)) \n",
    "\n",
    "plotter([x2, y2, z2, u2, v2, w2], title = 'An example of a More complicated Field')"
   ]
  },
  {
   "cell_type": "markdown",
   "id": "766fb83f",
   "metadata": {},
   "source": [
    "## Taking Field Cross Sections"
   ]
  },
  {
   "cell_type": "markdown",
   "id": "657b475a",
   "metadata": {},
   "source": [
    "this hasnt been done yet, but it would definitely be cool"
   ]
  },
  {
   "cell_type": "markdown",
   "id": "5552751c",
   "metadata": {},
   "source": []
  }
 ],
 "metadata": {
  "kernelspec": {
   "display_name": "env",
   "language": "python",
   "name": "python3"
  },
  "language_info": {
   "codemirror_mode": {
    "name": "ipython",
    "version": 3
   },
   "file_extension": ".py",
   "mimetype": "text/x-python",
   "name": "python",
   "nbconvert_exporter": "python",
   "pygments_lexer": "ipython3",
   "version": "3.12.0"
  }
 },
 "nbformat": 4,
 "nbformat_minor": 5
}

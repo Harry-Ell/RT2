{
 "cells": [
  {
   "cell_type": "markdown",
   "id": "2c13ec42",
   "metadata": {},
   "source": [
    "# Gaussian Updated Fields + analytics for current carrying wire"
   ]
  },
  {
   "cell_type": "code",
   "execution_count": 1,
   "id": "be29ef2e",
   "metadata": {},
   "outputs": [],
   "source": [
    "import sys\n",
    "sys.path.append('..')"
   ]
  },
  {
   "cell_type": "code",
   "execution_count": 2,
   "id": "fbe8d646",
   "metadata": {},
   "outputs": [],
   "source": [
    "# Loading my modules\n",
    "from plotting_tools.plotter import plotter\n",
    "from plotting_tools.field_comparison import differencer\n",
    "from plotting_tools.sample_field import sample_field\n",
    "from physics_informed_vector_fields.current_carrying_wire import field_around_current_carrying_wire\n",
    "from GP_Implementation.Kernel import updated_vector_field"
   ]
  },
  {
   "cell_type": "code",
   "execution_count": 18,
   "id": "7efbb339",
   "metadata": {},
   "outputs": [
    {
     "data": {
      "application/vnd.plotly.v1+json": {
       "config": {
        "plotlyServerURL": "https://plot.ly"
       },
       "data": [
        {
         "anchor": "tail",
         "sizemode": "scaled",
         "sizeref": 2,
         "type": "cone",
         "u": {
          "bdata": "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",
          "dtype": "f8"
         },
         "v": {
          "bdata": "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",
          "dtype": "f8"
         },
         "w": {
          "bdata": "AAAAAAAAAAAAAAAAAAAAAAAAAAAAAAAAAAAAAAAAAAAAAAAAAAAAAAAAAAAAAAAAAAAAAAAAAAAAAAAAAAAAAAAAAAAAAAAAAAAAAAAAAAAAAAAAAAAAAAAAAAAAAAAAAAAAAAAAAAAAAAAAAAAAAAAAAAAAAAAAAAAAAAAAAAAAAAAAAAAAAAAAAAAAAAAAAAAAAAAAAAAAAAAAAAAAAAAAAAAAAAAAAAAAAAAAAAAAAAAAAAAAAAAAAAAAAAAAAAAAAAAAAAAAAAAAAAAAAAAAAAAAAAAAAAAAAAAAAAAAAAAAAAAAAAAAAAAAAAAAAAAAAAAAAAAAAAAAAAAAAAAAAAAAAAAAAAAAAAAAAAAAAAAAAAAAAAAAAAAAAAAAAAAAAAAAAAAAAAAAAAAAAAAAAAAAAAAAAAAAAAAAAAAAAAAAAAAAAAAAAAAAAAAAAAAAAAAAAAAAAAAAAAAAAAAAAAAAAAAAAAAAAAAAAAAAAAAAAAAAAAAAAAAAAAAAAAAAAAAAAAAAAAAAAAAAAAAAAAAAAAAAAAAAAAAAAAAAAAAAAAAAAAAAAAAAAAAAAAAAAAAAAAAAAAAAAAAAAAAAAAAAAAAAAAAAAAAAAAAAAAAAAAAAAAAAAAAAAAAAAAAAAAAAAAAAAAAAAAAAAAAAAAAAAAAAAAAAAAAAAAAAAAAAAAAAAAAAAAAAAAAAAAAAAAAAAAAAAAAAAAAAAAAAAAAAAAAAAAAAAAAAAAAAAAAAAAAAAAAAAAAAAAAAAAAAAAAAAAAAAAAAAAAAAAAAAAAAAAAAAAAAAAAAAAAAAAAAAAAAAAAAAAAAAAAAAAAAAAAAAAAAAAAAAAAAAAAAAAAAAAAAAAAAAAAAAAAAAAAAAAAAAAAAAAAAAAAAAAAAAAAAAAAAAAAAAAAAAAAAAAAAAAAAAAAAAAAAAAAAAAAAAAAAAAAAAAAAAAAAAAAAAAAAAAAAAAAAAAAAAAAAAAAAAAAAAAAAAAAAAAAAAAAAAAAAAAAAAAAAAAAAAAAAAAAAAAAAAAAAAAAAAAAAAAAAAAAAAAAAAAAAAAAAAAAAAAAAAAAAAAAAAAAAAAAAAAAAAAAAAAAAAAAAAAAAAAAAAAAAAAAAAAAAAAAAAAAAAAAAAAAAAAAAAAAAAAAAAAAAAAAAAAAAAAAAAAAAAAAAAAAAAAAAAAAAAAAAAAAAAAAAAAAAAAAAAAAAAAAAAAAAAAAAAAAAAAAAAAAAAAAAAAAAAAAAAAAAAAAAAAAAAAAAAAAAAAAAAAAAAAAAAAAAAAAAAAAAAAAAAAAAAAAAAAAAAAAAAAAAAAAAAAAAAAAAAAAAAAAAAAAAAAAAAAAAAAAAAAAAAAAAAAAAAAAAAAAAAAAAAAAAAAAAAAAAAAAAAAAAAAAAAAAAAAAAAAAAAAAAAAAAAAAAAAAAAAAAAAAAAAAAAAAAAAAAAAAAAAAAAAAAAAAAAAAAAAAAAAAAAAAAAAAAAAAAAAAAAAAAAAAAAAAAAAAAAAAAAAAAAAAAAAAAAAAAAAAAAAAAAAAAAAAAAAAAAAAAAAAAAAAAAAAAAAAAAAAAAAAAAAAAAAAAAAAAAAAAAAAAAAAAAAAAAAAAAAAAAAAAAAAAAAAAAAAAAAAAAAAAAAAAAAAAAAAAAAAAAAAAAAAAAAAAAAAAAAAAAAAAAAAAAAAAAAAAAAAAAAAAAAAAAAAAAAAAAAAAAAAAAAAAAAAAAAAAAAAAAAAAAAAAAAAAAAAAAAAAAAAAAAAAAAAAAAAAAAAAAAAAAAAAAAAAAAAAAAAAAAAAAAAAAAAAAAAAAAAAAAAAAAAAAAAAAAAAAAAAAAAAAAAAAAAAAAAAAAAAAAAAAAAAAAAAAAAAAAAAAAAAAAAAAAAAAAAAAAAAAAAAAAAAAAAAAAAAAAAAAAAAAAAAAAAAAAAAAAAAAAAAAAAAAAAAAAAAAAAAAAAAAAAAAAAAAAAAAAAAAAAAAAAAAAAAAAAAAAAAAAAAAAAAAAAAAAAAAAAAAAAAAAAAAAAAAAAAAAAAAAAAAAAAAAAAAAAAAAAAAAAAAAAAAAAAAAAAAAAAAAAAAAAAAAAAAAAAAAAAAAAAAAAAAAAAAAAAAAAAAAAAAAAAAAAAAAAAAAAAAAAAAAAAAAAAAAAAAAAAAAAAAAAAAAAAAAAAAAAAAAAAAAAAAAAAAAAAAAAAAAAAAAAAAAAAAAAAAAAAAAAAAAAAAAAAAAAAAAAAAAAAAAAAAAAAAAAAAAAAAAAAAAAAAAAAAAAAAAAAAAAAAAAAAAAAAAAAAAAAAAAAAAAAAAAAAAAAAAAAAAAAAAAAAAAAAAAAAAAAAAAAAAAAAAAAAAAAAAAAAAAAAAAAAAAAAAAAAAAAAAAAAAAAAAAAAAAAAAAAAAAAAAAAAAAAAAAAAAAAAAAAAAAAAAAAAAAAAAAAAAAAAAAAAAAAAAAAAAAAAAAAAAAAAAAAAAAAAAAAAAAAAAAAAAAAAAAAAAAAAAAAAAAAAAAAAAAAAAAAAAAAAAAAAAAAAAAAAAAAAAAAAAAAAAAAAAAAAAAAAAAAAAAAAAAAAAAAAAAAAAAAAAAAAAAAAAAAAAAAAAAAAAAAAAAAAAAAAAAAAAAAAAAAAAAAAAAAAAAAAAAAAAAAAAAAAAAAAAAAAAAAAAAAAAA=",
          "dtype": "f8"
         },
         "x": {
          "bdata": "IMdxHMdxrD84juM4juPYPyDHcRzHcay/VlVVVVVVxb9yHMdxHMfRvwAAAAAAAOA/chzHcRzH0b84juM4juPYP1ZVVVVVVcW/AAAAAAAA4L8gx3Ecx3GsvzmO4ziO49i/AAAAAAAA4D9WVVVVVVXFvwAAAAAAAOA/OY7jOI7j2L85juM4juPYvwAAAAAAAOC/VFVVVVVVxT8gx3Ecx3Gsv3Acx3Ecx9E/IMdxHMdxrL8gx3Ecx3GsPyDHcRzHcaw/IMdxHMdxrL85juM4juPYvzmO4ziO49i/VFVVVVVVxT8gx3Ecx3GsP1ZVVVVVVcW/AAAAAAAA4D9wHMdxHMfRP3Acx3Ecx9E/IMdxHMdxrL8gx3Ecx3Gsv3Icx3Ecx9G/AAAAAAAA4L9wHMdxHMfRP1RVVVVVVcU/VFVVVVVVxT84juM4juPYP1RVVVVVVcU/AAAAAAAA4L85juM4juPYvwAAAAAAAOC/IMdxHMdxrD8gx3Ecx3GsPwAAAAAAAOC/IMdxHMdxrL8AAAAAAADgP3Acx3Ecx9E/AAAAAAAA4L9UVVVVVVXFPwAAAAAAAOC/OY7jOI7j2L8gx3Ecx3GsvziO4ziO49g/VFVVVVVVxT8gx3Ecx3Gsv1RVVVVVVcU/VlVVVVVVxb9yHMdxHMfRv1ZVVVVVVcW/cBzHcRzH0T84juM4juPYPziO4ziO49g/IMdxHMdxrL84juM4juPYPyDHcRzHcaw/AAAAAAAA4L9wHMdxHMfRP1ZVVVVVVcW/chzHcRzH0b8AAAAAAADgPyDHcRzHcay/AAAAAAAA4L85juM4juPYvziO4ziO49g/VlVVVVVVxb9UVVVVVVXFP3Icx3Ecx9G/cBzHcRzH0T9wHMdxHMfRP3Acx3Ecx9E/AAAAAAAA4D8AAAAAAADgPyDHcRzHcay/OI7jOI7j2D8gx3Ecx3GsPyDHcRzHcaw/VFVVVVVVxT85juM4juPYvyDHcRzHcaw/AAAAAAAA4D8gx3Ecx3Gsv1RVVVVVVcU/IMdxHMdxrD8gx3Ecx3GsP3Icx3Ecx9G/OY7jOI7j2L9WVVVVVVXFvwAAAAAAAOC/AAAAAAAA4D85juM4juPYvyDHcRzHcay/OI7jOI7j2D9yHMdxHMfRvyDHcRzHcaw/chzHcRzH0b8AAAAAAADgPyDHcRzHcay/cBzHcRzH0T8AAAAAAADgPwAAAAAAAOC/OI7jOI7j2D85juM4juPYv3Acx3Ecx9E/IMdxHMdxrL85juM4juPYv3Acx3Ecx9E/OY7jOI7j2L9WVVVVVVXFvwAAAAAAAOC/OY7jOI7j2L8gx3Ecx3Gsv1RVVVVVVcU/cBzHcRzH0T9wHMdxHMfRP1RVVVVVVcU/VFVVVVVVxT8gx3Ecx3GsP3Icx3Ecx9G/VFVVVVVVxT8AAAAAAADgvwAAAAAAAOA/OI7jOI7j2D9wHMdxHMfRPziO4ziO49g/VlVVVVVVxb9wHMdxHMfRPwAAAAAAAOC/OY7jOI7j2L8AAAAAAADgPyDHcRzHcaw/OY7jOI7j2L8gx3Ecx3GsPyDHcRzHcaw/AAAAAAAA4D8gx3Ecx3GsPyDHcRzHcaw/VlVVVVVVxb8AAAAAAADgPwAAAAAAAOC/IMdxHMdxrD8AAAAAAADgvyDHcRzHcaw/cBzHcRzH0T9UVVVVVVXFPwAAAAAAAOC/chzHcRzH0b85juM4juPYv3Icx3Ecx9G/OY7jOI7j2L9UVVVVVVXFPziO4ziO49g/IMdxHMdxrL9yHMdxHMfRvyDHcRzHcaw/cBzHcRzH0T85juM4juPYv3Icx3Ecx9G/AAAAAAAA4L8gx3Ecx3GsvyDHcRzHcay/IMdxHMdxrD9yHMdxHMfRvzmO4ziO49i/IMdxHMdxrD84juM4juPYPwAAAAAAAOA/chzHcRzH0b8AAAAAAADgv3Acx3Ecx9E/VFVVVVVVxT8gx3Ecx3GsP1ZVVVVVVcW/chzHcRzH0b9yHMdxHMfRvyDHcRzHcaw/AAAAAAAA4D9UVVVVVVXFPziO4ziO49g/chzHcRzH0b8gx3Ecx3GsPwAAAAAAAOA/IMdxHMdxrL84juM4juPYPyDHcRzHcaw/VFVVVVVVxT9yHMdxHMfRv1ZVVVVVVcW/AAAAAAAA4D8AAAAAAADgPwAAAAAAAOC/IMdxHMdxrD9UVVVVVVXFPwAAAAAAAOC/VlVVVVVVxb9WVVVVVVXFvwAAAAAAAOA/VFVVVVVVxT9WVVVVVVXFvziO4ziO49g/IMdxHMdxrL84juM4juPYP1ZVVVVVVcW/VlVVVVVVxb85juM4juPYvwAAAAAAAOA/AAAAAAAA4L9WVVVVVVXFvziO4ziO49g/VlVVVVVVxb8AAAAAAADgPyDHcRzHcaw/cBzHcRzH0T85juM4juPYv3Acx3Ecx9E/AAAAAAAA4D84juM4juPYPwAAAAAAAOC/chzHcRzH0b84juM4juPYPyDHcRzHcay/cBzHcRzH0T8AAAAAAADgP1ZVVVVVVcW/VFVVVVVVxT85juM4juPYvwAAAAAAAOC/VFVVVVVVxT8AAAAAAADgv1ZVVVVVVcW/VFVVVVVVxT9wHMdxHMfRP1ZVVVVVVcW/OI7jOI7j2D8gx3Ecx3GsvzmO4ziO49i/IMdxHMdxrD8=",
          "dtype": "f8"
         },
         "y": {
          "bdata": "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",
          "dtype": "f8"
         },
         "z": {
          "bdata": "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",
          "dtype": "f8"
         }
        }
       ],
       "layout": {
        "scene": {
         "xaxis": {
          "title": {
           "text": "X"
          }
         },
         "yaxis": {
          "title": {
           "text": "Y"
          }
         },
         "zaxis": {
          "title": {
           "text": "Z"
          }
         }
        },
        "template": {
         "data": {
          "bar": [
           {
            "error_x": {
             "color": "#2a3f5f"
            },
            "error_y": {
             "color": "#2a3f5f"
            },
            "marker": {
             "line": {
              "color": "#E5ECF6",
              "width": 0.5
             },
             "pattern": {
              "fillmode": "overlay",
              "size": 10,
              "solidity": 0.2
             }
            },
            "type": "bar"
           }
          ],
          "barpolar": [
           {
            "marker": {
             "line": {
              "color": "#E5ECF6",
              "width": 0.5
             },
             "pattern": {
              "fillmode": "overlay",
              "size": 10,
              "solidity": 0.2
             }
            },
            "type": "barpolar"
           }
          ],
          "carpet": [
           {
            "aaxis": {
             "endlinecolor": "#2a3f5f",
             "gridcolor": "white",
             "linecolor": "white",
             "minorgridcolor": "white",
             "startlinecolor": "#2a3f5f"
            },
            "baxis": {
             "endlinecolor": "#2a3f5f",
             "gridcolor": "white",
             "linecolor": "white",
             "minorgridcolor": "white",
             "startlinecolor": "#2a3f5f"
            },
            "type": "carpet"
           }
          ],
          "choropleth": [
           {
            "colorbar": {
             "outlinewidth": 0,
             "ticks": ""
            },
            "type": "choropleth"
           }
          ],
          "contour": [
           {
            "colorbar": {
             "outlinewidth": 0,
             "ticks": ""
            },
            "colorscale": [
             [
              0,
              "#0d0887"
             ],
             [
              0.1111111111111111,
              "#46039f"
             ],
             [
              0.2222222222222222,
              "#7201a8"
             ],
             [
              0.3333333333333333,
              "#9c179e"
             ],
             [
              0.4444444444444444,
              "#bd3786"
             ],
             [
              0.5555555555555556,
              "#d8576b"
             ],
             [
              0.6666666666666666,
              "#ed7953"
             ],
             [
              0.7777777777777778,
              "#fb9f3a"
             ],
             [
              0.8888888888888888,
              "#fdca26"
             ],
             [
              1,
              "#f0f921"
             ]
            ],
            "type": "contour"
           }
          ],
          "contourcarpet": [
           {
            "colorbar": {
             "outlinewidth": 0,
             "ticks": ""
            },
            "type": "contourcarpet"
           }
          ],
          "heatmap": [
           {
            "colorbar": {
             "outlinewidth": 0,
             "ticks": ""
            },
            "colorscale": [
             [
              0,
              "#0d0887"
             ],
             [
              0.1111111111111111,
              "#46039f"
             ],
             [
              0.2222222222222222,
              "#7201a8"
             ],
             [
              0.3333333333333333,
              "#9c179e"
             ],
             [
              0.4444444444444444,
              "#bd3786"
             ],
             [
              0.5555555555555556,
              "#d8576b"
             ],
             [
              0.6666666666666666,
              "#ed7953"
             ],
             [
              0.7777777777777778,
              "#fb9f3a"
             ],
             [
              0.8888888888888888,
              "#fdca26"
             ],
             [
              1,
              "#f0f921"
             ]
            ],
            "type": "heatmap"
           }
          ],
          "histogram": [
           {
            "marker": {
             "pattern": {
              "fillmode": "overlay",
              "size": 10,
              "solidity": 0.2
             }
            },
            "type": "histogram"
           }
          ],
          "histogram2d": [
           {
            "colorbar": {
             "outlinewidth": 0,
             "ticks": ""
            },
            "colorscale": [
             [
              0,
              "#0d0887"
             ],
             [
              0.1111111111111111,
              "#46039f"
             ],
             [
              0.2222222222222222,
              "#7201a8"
             ],
             [
              0.3333333333333333,
              "#9c179e"
             ],
             [
              0.4444444444444444,
              "#bd3786"
             ],
             [
              0.5555555555555556,
              "#d8576b"
             ],
             [
              0.6666666666666666,
              "#ed7953"
             ],
             [
              0.7777777777777778,
              "#fb9f3a"
             ],
             [
              0.8888888888888888,
              "#fdca26"
             ],
             [
              1,
              "#f0f921"
             ]
            ],
            "type": "histogram2d"
           }
          ],
          "histogram2dcontour": [
           {
            "colorbar": {
             "outlinewidth": 0,
             "ticks": ""
            },
            "colorscale": [
             [
              0,
              "#0d0887"
             ],
             [
              0.1111111111111111,
              "#46039f"
             ],
             [
              0.2222222222222222,
              "#7201a8"
             ],
             [
              0.3333333333333333,
              "#9c179e"
             ],
             [
              0.4444444444444444,
              "#bd3786"
             ],
             [
              0.5555555555555556,
              "#d8576b"
             ],
             [
              0.6666666666666666,
              "#ed7953"
             ],
             [
              0.7777777777777778,
              "#fb9f3a"
             ],
             [
              0.8888888888888888,
              "#fdca26"
             ],
             [
              1,
              "#f0f921"
             ]
            ],
            "type": "histogram2dcontour"
           }
          ],
          "mesh3d": [
           {
            "colorbar": {
             "outlinewidth": 0,
             "ticks": ""
            },
            "type": "mesh3d"
           }
          ],
          "parcoords": [
           {
            "line": {
             "colorbar": {
              "outlinewidth": 0,
              "ticks": ""
             }
            },
            "type": "parcoords"
           }
          ],
          "pie": [
           {
            "automargin": true,
            "type": "pie"
           }
          ],
          "scatter": [
           {
            "fillpattern": {
             "fillmode": "overlay",
             "size": 10,
             "solidity": 0.2
            },
            "type": "scatter"
           }
          ],
          "scatter3d": [
           {
            "line": {
             "colorbar": {
              "outlinewidth": 0,
              "ticks": ""
             }
            },
            "marker": {
             "colorbar": {
              "outlinewidth": 0,
              "ticks": ""
             }
            },
            "type": "scatter3d"
           }
          ],
          "scattercarpet": [
           {
            "marker": {
             "colorbar": {
              "outlinewidth": 0,
              "ticks": ""
             }
            },
            "type": "scattercarpet"
           }
          ],
          "scattergeo": [
           {
            "marker": {
             "colorbar": {
              "outlinewidth": 0,
              "ticks": ""
             }
            },
            "type": "scattergeo"
           }
          ],
          "scattergl": [
           {
            "marker": {
             "colorbar": {
              "outlinewidth": 0,
              "ticks": ""
             }
            },
            "type": "scattergl"
           }
          ],
          "scattermap": [
           {
            "marker": {
             "colorbar": {
              "outlinewidth": 0,
              "ticks": ""
             }
            },
            "type": "scattermap"
           }
          ],
          "scattermapbox": [
           {
            "marker": {
             "colorbar": {
              "outlinewidth": 0,
              "ticks": ""
             }
            },
            "type": "scattermapbox"
           }
          ],
          "scatterpolar": [
           {
            "marker": {
             "colorbar": {
              "outlinewidth": 0,
              "ticks": ""
             }
            },
            "type": "scatterpolar"
           }
          ],
          "scatterpolargl": [
           {
            "marker": {
             "colorbar": {
              "outlinewidth": 0,
              "ticks": ""
             }
            },
            "type": "scatterpolargl"
           }
          ],
          "scatterternary": [
           {
            "marker": {
             "colorbar": {
              "outlinewidth": 0,
              "ticks": ""
             }
            },
            "type": "scatterternary"
           }
          ],
          "surface": [
           {
            "colorbar": {
             "outlinewidth": 0,
             "ticks": ""
            },
            "colorscale": [
             [
              0,
              "#0d0887"
             ],
             [
              0.1111111111111111,
              "#46039f"
             ],
             [
              0.2222222222222222,
              "#7201a8"
             ],
             [
              0.3333333333333333,
              "#9c179e"
             ],
             [
              0.4444444444444444,
              "#bd3786"
             ],
             [
              0.5555555555555556,
              "#d8576b"
             ],
             [
              0.6666666666666666,
              "#ed7953"
             ],
             [
              0.7777777777777778,
              "#fb9f3a"
             ],
             [
              0.8888888888888888,
              "#fdca26"
             ],
             [
              1,
              "#f0f921"
             ]
            ],
            "type": "surface"
           }
          ],
          "table": [
           {
            "cells": {
             "fill": {
              "color": "#EBF0F8"
             },
             "line": {
              "color": "white"
             }
            },
            "header": {
             "fill": {
              "color": "#C8D4E3"
             },
             "line": {
              "color": "white"
             }
            },
            "type": "table"
           }
          ]
         },
         "layout": {
          "annotationdefaults": {
           "arrowcolor": "#2a3f5f",
           "arrowhead": 0,
           "arrowwidth": 1
          },
          "autotypenumbers": "strict",
          "coloraxis": {
           "colorbar": {
            "outlinewidth": 0,
            "ticks": ""
           }
          },
          "colorscale": {
           "diverging": [
            [
             0,
             "#8e0152"
            ],
            [
             0.1,
             "#c51b7d"
            ],
            [
             0.2,
             "#de77ae"
            ],
            [
             0.3,
             "#f1b6da"
            ],
            [
             0.4,
             "#fde0ef"
            ],
            [
             0.5,
             "#f7f7f7"
            ],
            [
             0.6,
             "#e6f5d0"
            ],
            [
             0.7,
             "#b8e186"
            ],
            [
             0.8,
             "#7fbc41"
            ],
            [
             0.9,
             "#4d9221"
            ],
            [
             1,
             "#276419"
            ]
           ],
           "sequential": [
            [
             0,
             "#0d0887"
            ],
            [
             0.1111111111111111,
             "#46039f"
            ],
            [
             0.2222222222222222,
             "#7201a8"
            ],
            [
             0.3333333333333333,
             "#9c179e"
            ],
            [
             0.4444444444444444,
             "#bd3786"
            ],
            [
             0.5555555555555556,
             "#d8576b"
            ],
            [
             0.6666666666666666,
             "#ed7953"
            ],
            [
             0.7777777777777778,
             "#fb9f3a"
            ],
            [
             0.8888888888888888,
             "#fdca26"
            ],
            [
             1,
             "#f0f921"
            ]
           ],
           "sequentialminus": [
            [
             0,
             "#0d0887"
            ],
            [
             0.1111111111111111,
             "#46039f"
            ],
            [
             0.2222222222222222,
             "#7201a8"
            ],
            [
             0.3333333333333333,
             "#9c179e"
            ],
            [
             0.4444444444444444,
             "#bd3786"
            ],
            [
             0.5555555555555556,
             "#d8576b"
            ],
            [
             0.6666666666666666,
             "#ed7953"
            ],
            [
             0.7777777777777778,
             "#fb9f3a"
            ],
            [
             0.8888888888888888,
             "#fdca26"
            ],
            [
             1,
             "#f0f921"
            ]
           ]
          },
          "colorway": [
           "#636efa",
           "#EF553B",
           "#00cc96",
           "#ab63fa",
           "#FFA15A",
           "#19d3f3",
           "#FF6692",
           "#B6E880",
           "#FF97FF",
           "#FECB52"
          ],
          "font": {
           "color": "#2a3f5f"
          },
          "geo": {
           "bgcolor": "white",
           "lakecolor": "white",
           "landcolor": "#E5ECF6",
           "showlakes": true,
           "showland": true,
           "subunitcolor": "white"
          },
          "hoverlabel": {
           "align": "left"
          },
          "hovermode": "closest",
          "mapbox": {
           "style": "light"
          },
          "paper_bgcolor": "white",
          "plot_bgcolor": "#E5ECF6",
          "polar": {
           "angularaxis": {
            "gridcolor": "white",
            "linecolor": "white",
            "ticks": ""
           },
           "bgcolor": "#E5ECF6",
           "radialaxis": {
            "gridcolor": "white",
            "linecolor": "white",
            "ticks": ""
           }
          },
          "scene": {
           "xaxis": {
            "backgroundcolor": "#E5ECF6",
            "gridcolor": "white",
            "gridwidth": 2,
            "linecolor": "white",
            "showbackground": true,
            "ticks": "",
            "zerolinecolor": "white"
           },
           "yaxis": {
            "backgroundcolor": "#E5ECF6",
            "gridcolor": "white",
            "gridwidth": 2,
            "linecolor": "white",
            "showbackground": true,
            "ticks": "",
            "zerolinecolor": "white"
           },
           "zaxis": {
            "backgroundcolor": "#E5ECF6",
            "gridcolor": "white",
            "gridwidth": 2,
            "linecolor": "white",
            "showbackground": true,
            "ticks": "",
            "zerolinecolor": "white"
           }
          },
          "shapedefaults": {
           "line": {
            "color": "#2a3f5f"
           }
          },
          "ternary": {
           "aaxis": {
            "gridcolor": "white",
            "linecolor": "white",
            "ticks": ""
           },
           "baxis": {
            "gridcolor": "white",
            "linecolor": "white",
            "ticks": ""
           },
           "bgcolor": "#E5ECF6",
           "caxis": {
            "gridcolor": "white",
            "linecolor": "white",
            "ticks": ""
           }
          },
          "title": {
           "x": 0.05
          },
          "xaxis": {
           "automargin": true,
           "gridcolor": "white",
           "linecolor": "white",
           "ticks": "",
           "title": {
            "standoff": 15
           },
           "zerolinecolor": "white",
           "zerolinewidth": 2
          },
          "yaxis": {
           "automargin": true,
           "gridcolor": "white",
           "linecolor": "white",
           "ticks": "",
           "title": {
            "standoff": 15
           },
           "zerolinecolor": "white",
           "zerolinewidth": 2
          }
         }
        },
        "title": {
         "text": "Points given to our GP Regressor for current carrying wire"
        }
       }
      }
     },
     "metadata": {},
     "output_type": "display_data"
    }
   ],
   "source": [
    "# getting the fields to draw samples from\n",
    "outputs_wire = field_around_current_carrying_wire(100000000)\n",
    "sampled_outputs_wire = sample_field(outputs_wire, n_samples=250, random_seed=1)\n",
    "plotter(sampled_outputs_wire, \n",
    "        title = 'Points given to our GP Regressor for current carrying wire')"
   ]
  },
  {
   "cell_type": "markdown",
   "id": "e9a0412d",
   "metadata": {},
   "source": [
    "## Applying GP Regression to Current Carrying Wire"
   ]
  },
  {
   "cell_type": "code",
   "execution_count": 19,
   "id": "129904d9",
   "metadata": {},
   "outputs": [
    {
     "name": "stdout",
     "output_type": "stream",
     "text": [
      "Parameters for sigma_f and l specified, using these.\n"
     ]
    }
   ],
   "source": [
    "# Divergence free attempt\n",
    "outputs_wire_div_free= updated_vector_field(\n",
    "    sampled_outputs_wire, \n",
    "    outputs_wire[0], outputs_wire[1], outputs_wire[2], \n",
    "    kernel_func='divergence_free_kernel', \n",
    "    sigma_f= 0.005, l = 0.8)\n",
    "\n",
    "\n",
    "# from giving the code a large number of samples, the optimum \n",
    "# parameters seem to be about: sigma_f = 0.1, l = 1.2323 (this is from mle and it works poorly)\n",
    "# sigma_f = 0.005, l = 0.8 seem to work okay "
   ]
  },
  {
   "cell_type": "code",
   "execution_count": 20,
   "id": "1517847b",
   "metadata": {},
   "outputs": [
    {
     "data": {
      "application/vnd.plotly.v1+json": {
       "config": {
        "plotlyServerURL": "https://plot.ly"
       },
       "data": [
        {
         "anchor": "tail",
         "sizemode": "scaled",
         "sizeref": 2,
         "type": "cone",
         "u": {
          "bdata": "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",
          "dtype": "f8"
         },
         "v": {
          "bdata": "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",
          "dtype": "f8"
         },
         "w": {
          "bdata": "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",
          "dtype": "f8"
         },
         "x": {
          "bdata": "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",
          "dtype": "f8"
         },
         "y": {
          "bdata": "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",
          "dtype": "f8"
         },
         "z": {
          "bdata": "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",
          "dtype": "f8"
         }
        }
       ],
       "layout": {
        "scene": {
         "xaxis": {
          "title": {
           "text": "X"
          }
         },
         "yaxis": {
          "title": {
           "text": "Y"
          }
         },
         "zaxis": {
          "title": {
           "text": "Z"
          }
         }
        },
        "template": {
         "data": {
          "bar": [
           {
            "error_x": {
             "color": "#2a3f5f"
            },
            "error_y": {
             "color": "#2a3f5f"
            },
            "marker": {
             "line": {
              "color": "#E5ECF6",
              "width": 0.5
             },
             "pattern": {
              "fillmode": "overlay",
              "size": 10,
              "solidity": 0.2
             }
            },
            "type": "bar"
           }
          ],
          "barpolar": [
           {
            "marker": {
             "line": {
              "color": "#E5ECF6",
              "width": 0.5
             },
             "pattern": {
              "fillmode": "overlay",
              "size": 10,
              "solidity": 0.2
             }
            },
            "type": "barpolar"
           }
          ],
          "carpet": [
           {
            "aaxis": {
             "endlinecolor": "#2a3f5f",
             "gridcolor": "white",
             "linecolor": "white",
             "minorgridcolor": "white",
             "startlinecolor": "#2a3f5f"
            },
            "baxis": {
             "endlinecolor": "#2a3f5f",
             "gridcolor": "white",
             "linecolor": "white",
             "minorgridcolor": "white",
             "startlinecolor": "#2a3f5f"
            },
            "type": "carpet"
           }
          ],
          "choropleth": [
           {
            "colorbar": {
             "outlinewidth": 0,
             "ticks": ""
            },
            "type": "choropleth"
           }
          ],
          "contour": [
           {
            "colorbar": {
             "outlinewidth": 0,
             "ticks": ""
            },
            "colorscale": [
             [
              0,
              "#0d0887"
             ],
             [
              0.1111111111111111,
              "#46039f"
             ],
             [
              0.2222222222222222,
              "#7201a8"
             ],
             [
              0.3333333333333333,
              "#9c179e"
             ],
             [
              0.4444444444444444,
              "#bd3786"
             ],
             [
              0.5555555555555556,
              "#d8576b"
             ],
             [
              0.6666666666666666,
              "#ed7953"
             ],
             [
              0.7777777777777778,
              "#fb9f3a"
             ],
             [
              0.8888888888888888,
              "#fdca26"
             ],
             [
              1,
              "#f0f921"
             ]
            ],
            "type": "contour"
           }
          ],
          "contourcarpet": [
           {
            "colorbar": {
             "outlinewidth": 0,
             "ticks": ""
            },
            "type": "contourcarpet"
           }
          ],
          "heatmap": [
           {
            "colorbar": {
             "outlinewidth": 0,
             "ticks": ""
            },
            "colorscale": [
             [
              0,
              "#0d0887"
             ],
             [
              0.1111111111111111,
              "#46039f"
             ],
             [
              0.2222222222222222,
              "#7201a8"
             ],
             [
              0.3333333333333333,
              "#9c179e"
             ],
             [
              0.4444444444444444,
              "#bd3786"
             ],
             [
              0.5555555555555556,
              "#d8576b"
             ],
             [
              0.6666666666666666,
              "#ed7953"
             ],
             [
              0.7777777777777778,
              "#fb9f3a"
             ],
             [
              0.8888888888888888,
              "#fdca26"
             ],
             [
              1,
              "#f0f921"
             ]
            ],
            "type": "heatmap"
           }
          ],
          "histogram": [
           {
            "marker": {
             "pattern": {
              "fillmode": "overlay",
              "size": 10,
              "solidity": 0.2
             }
            },
            "type": "histogram"
           }
          ],
          "histogram2d": [
           {
            "colorbar": {
             "outlinewidth": 0,
             "ticks": ""
            },
            "colorscale": [
             [
              0,
              "#0d0887"
             ],
             [
              0.1111111111111111,
              "#46039f"
             ],
             [
              0.2222222222222222,
              "#7201a8"
             ],
             [
              0.3333333333333333,
              "#9c179e"
             ],
             [
              0.4444444444444444,
              "#bd3786"
             ],
             [
              0.5555555555555556,
              "#d8576b"
             ],
             [
              0.6666666666666666,
              "#ed7953"
             ],
             [
              0.7777777777777778,
              "#fb9f3a"
             ],
             [
              0.8888888888888888,
              "#fdca26"
             ],
             [
              1,
              "#f0f921"
             ]
            ],
            "type": "histogram2d"
           }
          ],
          "histogram2dcontour": [
           {
            "colorbar": {
             "outlinewidth": 0,
             "ticks": ""
            },
            "colorscale": [
             [
              0,
              "#0d0887"
             ],
             [
              0.1111111111111111,
              "#46039f"
             ],
             [
              0.2222222222222222,
              "#7201a8"
             ],
             [
              0.3333333333333333,
              "#9c179e"
             ],
             [
              0.4444444444444444,
              "#bd3786"
             ],
             [
              0.5555555555555556,
              "#d8576b"
             ],
             [
              0.6666666666666666,
              "#ed7953"
             ],
             [
              0.7777777777777778,
              "#fb9f3a"
             ],
             [
              0.8888888888888888,
              "#fdca26"
             ],
             [
              1,
              "#f0f921"
             ]
            ],
            "type": "histogram2dcontour"
           }
          ],
          "mesh3d": [
           {
            "colorbar": {
             "outlinewidth": 0,
             "ticks": ""
            },
            "type": "mesh3d"
           }
          ],
          "parcoords": [
           {
            "line": {
             "colorbar": {
              "outlinewidth": 0,
              "ticks": ""
             }
            },
            "type": "parcoords"
           }
          ],
          "pie": [
           {
            "automargin": true,
            "type": "pie"
           }
          ],
          "scatter": [
           {
            "fillpattern": {
             "fillmode": "overlay",
             "size": 10,
             "solidity": 0.2
            },
            "type": "scatter"
           }
          ],
          "scatter3d": [
           {
            "line": {
             "colorbar": {
              "outlinewidth": 0,
              "ticks": ""
             }
            },
            "marker": {
             "colorbar": {
              "outlinewidth": 0,
              "ticks": ""
             }
            },
            "type": "scatter3d"
           }
          ],
          "scattercarpet": [
           {
            "marker": {
             "colorbar": {
              "outlinewidth": 0,
              "ticks": ""
             }
            },
            "type": "scattercarpet"
           }
          ],
          "scattergeo": [
           {
            "marker": {
             "colorbar": {
              "outlinewidth": 0,
              "ticks": ""
             }
            },
            "type": "scattergeo"
           }
          ],
          "scattergl": [
           {
            "marker": {
             "colorbar": {
              "outlinewidth": 0,
              "ticks": ""
             }
            },
            "type": "scattergl"
           }
          ],
          "scattermap": [
           {
            "marker": {
             "colorbar": {
              "outlinewidth": 0,
              "ticks": ""
             }
            },
            "type": "scattermap"
           }
          ],
          "scattermapbox": [
           {
            "marker": {
             "colorbar": {
              "outlinewidth": 0,
              "ticks": ""
             }
            },
            "type": "scattermapbox"
           }
          ],
          "scatterpolar": [
           {
            "marker": {
             "colorbar": {
              "outlinewidth": 0,
              "ticks": ""
             }
            },
            "type": "scatterpolar"
           }
          ],
          "scatterpolargl": [
           {
            "marker": {
             "colorbar": {
              "outlinewidth": 0,
              "ticks": ""
             }
            },
            "type": "scatterpolargl"
           }
          ],
          "scatterternary": [
           {
            "marker": {
             "colorbar": {
              "outlinewidth": 0,
              "ticks": ""
             }
            },
            "type": "scatterternary"
           }
          ],
          "surface": [
           {
            "colorbar": {
             "outlinewidth": 0,
             "ticks": ""
            },
            "colorscale": [
             [
              0,
              "#0d0887"
             ],
             [
              0.1111111111111111,
              "#46039f"
             ],
             [
              0.2222222222222222,
              "#7201a8"
             ],
             [
              0.3333333333333333,
              "#9c179e"
             ],
             [
              0.4444444444444444,
              "#bd3786"
             ],
             [
              0.5555555555555556,
              "#d8576b"
             ],
             [
              0.6666666666666666,
              "#ed7953"
             ],
             [
              0.7777777777777778,
              "#fb9f3a"
             ],
             [
              0.8888888888888888,
              "#fdca26"
             ],
             [
              1,
              "#f0f921"
             ]
            ],
            "type": "surface"
           }
          ],
          "table": [
           {
            "cells": {
             "fill": {
              "color": "#EBF0F8"
             },
             "line": {
              "color": "white"
             }
            },
            "header": {
             "fill": {
              "color": "#C8D4E3"
             },
             "line": {
              "color": "white"
             }
            },
            "type": "table"
           }
          ]
         },
         "layout": {
          "annotationdefaults": {
           "arrowcolor": "#2a3f5f",
           "arrowhead": 0,
           "arrowwidth": 1
          },
          "autotypenumbers": "strict",
          "coloraxis": {
           "colorbar": {
            "outlinewidth": 0,
            "ticks": ""
           }
          },
          "colorscale": {
           "diverging": [
            [
             0,
             "#8e0152"
            ],
            [
             0.1,
             "#c51b7d"
            ],
            [
             0.2,
             "#de77ae"
            ],
            [
             0.3,
             "#f1b6da"
            ],
            [
             0.4,
             "#fde0ef"
            ],
            [
             0.5,
             "#f7f7f7"
            ],
            [
             0.6,
             "#e6f5d0"
            ],
            [
             0.7,
             "#b8e186"
            ],
            [
             0.8,
             "#7fbc41"
            ],
            [
             0.9,
             "#4d9221"
            ],
            [
             1,
             "#276419"
            ]
           ],
           "sequential": [
            [
             0,
             "#0d0887"
            ],
            [
             0.1111111111111111,
             "#46039f"
            ],
            [
             0.2222222222222222,
             "#7201a8"
            ],
            [
             0.3333333333333333,
             "#9c179e"
            ],
            [
             0.4444444444444444,
             "#bd3786"
            ],
            [
             0.5555555555555556,
             "#d8576b"
            ],
            [
             0.6666666666666666,
             "#ed7953"
            ],
            [
             0.7777777777777778,
             "#fb9f3a"
            ],
            [
             0.8888888888888888,
             "#fdca26"
            ],
            [
             1,
             "#f0f921"
            ]
           ],
           "sequentialminus": [
            [
             0,
             "#0d0887"
            ],
            [
             0.1111111111111111,
             "#46039f"
            ],
            [
             0.2222222222222222,
             "#7201a8"
            ],
            [
             0.3333333333333333,
             "#9c179e"
            ],
            [
             0.4444444444444444,
             "#bd3786"
            ],
            [
             0.5555555555555556,
             "#d8576b"
            ],
            [
             0.6666666666666666,
             "#ed7953"
            ],
            [
             0.7777777777777778,
             "#fb9f3a"
            ],
            [
             0.8888888888888888,
             "#fdca26"
            ],
            [
             1,
             "#f0f921"
            ]
           ]
          },
          "colorway": [
           "#636efa",
           "#EF553B",
           "#00cc96",
           "#ab63fa",
           "#FFA15A",
           "#19d3f3",
           "#FF6692",
           "#B6E880",
           "#FF97FF",
           "#FECB52"
          ],
          "font": {
           "color": "#2a3f5f"
          },
          "geo": {
           "bgcolor": "white",
           "lakecolor": "white",
           "landcolor": "#E5ECF6",
           "showlakes": true,
           "showland": true,
           "subunitcolor": "white"
          },
          "hoverlabel": {
           "align": "left"
          },
          "hovermode": "closest",
          "mapbox": {
           "style": "light"
          },
          "paper_bgcolor": "white",
          "plot_bgcolor": "#E5ECF6",
          "polar": {
           "angularaxis": {
            "gridcolor": "white",
            "linecolor": "white",
            "ticks": ""
           },
           "bgcolor": "#E5ECF6",
           "radialaxis": {
            "gridcolor": "white",
            "linecolor": "white",
            "ticks": ""
           }
          },
          "scene": {
           "xaxis": {
            "backgroundcolor": "#E5ECF6",
            "gridcolor": "white",
            "gridwidth": 2,
            "linecolor": "white",
            "showbackground": true,
            "ticks": "",
            "zerolinecolor": "white"
           },
           "yaxis": {
            "backgroundcolor": "#E5ECF6",
            "gridcolor": "white",
            "gridwidth": 2,
            "linecolor": "white",
            "showbackground": true,
            "ticks": "",
            "zerolinecolor": "white"
           },
           "zaxis": {
            "backgroundcolor": "#E5ECF6",
            "gridcolor": "white",
            "gridwidth": 2,
            "linecolor": "white",
            "showbackground": true,
            "ticks": "",
            "zerolinecolor": "white"
           }
          },
          "shapedefaults": {
           "line": {
            "color": "#2a3f5f"
           }
          },
          "ternary": {
           "aaxis": {
            "gridcolor": "white",
            "linecolor": "white",
            "ticks": ""
           },
           "baxis": {
            "gridcolor": "white",
            "linecolor": "white",
            "ticks": ""
           },
           "bgcolor": "#E5ECF6",
           "caxis": {
            "gridcolor": "white",
            "linecolor": "white",
            "ticks": ""
           }
          },
          "title": {
           "x": 0.05
          },
          "xaxis": {
           "automargin": true,
           "gridcolor": "white",
           "linecolor": "white",
           "ticks": "",
           "title": {
            "standoff": 15
           },
           "zerolinecolor": "white",
           "zerolinewidth": 2
          },
          "yaxis": {
           "automargin": true,
           "gridcolor": "white",
           "linecolor": "white",
           "ticks": "",
           "title": {
            "standoff": 15
           },
           "zerolinecolor": "white",
           "zerolinewidth": 2
          }
         }
        },
        "title": {
         "text": "Div free output from GP Regression for n = 250 input vectors for current carrying wire"
        }
       }
      }
     },
     "metadata": {},
     "output_type": "display_data"
    }
   ],
   "source": [
    "given_samples_wire = sampled_outputs_wire[0].shape[0]\n",
    "plotter(outputs_wire_div_free, \n",
    "        title = f'Div free output from GP Regression for n = {given_samples_wire} input vectors for current carrying wire')"
   ]
  },
  {
   "cell_type": "code",
   "execution_count": 22,
   "id": "c7cdeed7",
   "metadata": {},
   "outputs": [
    {
     "name": "stdout",
     "output_type": "stream",
     "text": [
      "MSE for this case of 29.400694393328546\n"
     ]
    },
    {
     "data": {
      "application/vnd.plotly.v1+json": {
       "config": {
        "plotlyServerURL": "https://plot.ly"
       },
       "data": [
        {
         "anchor": "tail",
         "sizemode": "scaled",
         "sizeref": 2,
         "type": "cone",
         "u": {
          "bdata": "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",
          "dtype": "f8"
         },
         "v": {
          "bdata": "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",
          "dtype": "f8"
         },
         "w": {
          "bdata": "ADO94MxsBkAAuiZzuUv6PwAq2hCM+fA/ANTqTm/N7D8Af8krfy/uPwC6OYgaMu4/ABOGFuAV5T8AxH7Fwg++v3BmtOIthvi/QLYWecxGDcAAvNOZuK77PwDIi5ApgvI/AHbHdu168D8AheE07O7yPwBwBYlvZPY/gEigUb4L9z8APklAaz3xPwB4tup51b4/SIKJquz4+L9ACVq7uhQQwABU78JnU9K/AACw7p9Adz8AcA0QfHfhPwCo3BEctvI/ALifsyP3+j+ABg6gmVz+PwD/yqENCfo/gD1VZHtj5z9A1ecDX0Tsv6gk823T9QnAAEkzQZ3UBMAAMqpVzJX0vwAAEOiyATY/AGBxHp3K8T+AvEV3v57+P8C/2jPNUwJAABGvDNU7AUAAcTK6LRf3PwByrczAasA/4COWorWU/L8Abf8PopkSwMC9KXdrVALAALipcWE21L+AN3o9jL7yP8BuAv8K/gBAQEhP6UtdBEBAfK2C3MwDQAC9Q1Z4ff8/wP13Fb9L8T8AopqEItnBvwA46nDd9RfAQFRvAYHIBcAAKC1xgzfPv4CN+hcLc/Y/wARkv0VJAkDA1q3UjnMEQMAE7TZ+SgNAQI6PQihgAEBAkrge7/D5PwCX+oBdrvM/cAHfo0VuGcCA0QEjfpwDwACG/hazm88/APGICn9Z/D9ADJrTgZYCQMDUGSL7wAFAAO8DZgQ7/T+ApKSUvub3PwAzcvGkxfc/gDlQxYUn/z+cRbYI35sWwNAeo+GKsve/4C3A8RN28T/g4X65MoUBQEBBX3JrOgFAgJct8nJu9z+ABcXsFA7lPwCEtCxO3sw/AOP/tMoO4T8ADl0AY0f8P+BIW3xFSg/AABjjQw4ltz/4sBNQomUBQF9bvZrMfgRAkEC0G2WM+z+AsukWGj/SP4CppPffGPG/ANez7zqj+78AewhKzezzvwDjdJUAAuM/ABg58AhV9L+Am2OIJfQAQODZWeRICQtAIEH2ICyWBkAASEapcIDwP8AWygKD/vO/oM3tnvrfCcDgYMKvzukQwIA2adrR4g3AAK+hYvNy+L+ARU9q7xoAwIDylNIVhwbAAKG19DXPBMAAfs33UtH5vwDAvUlnHcq/gDNI1feO8z9A4aOc/hkCQEBq3ekdjQRAiLQ2v7Q+/j8AZGnDyLS5P4CjFFwEbwfAgD58nQ9gCcCAUwTsMW8EwAB72t0zGvW/ACDB2WKHyT+APjDvsOn5P8CatgH1hARAYMj+97iyBUBA8JN0YU39PwC95R4kE8i/wBOZJIbMEcCALRRobNEOwIAJErkNSQXAABNIzd2V8b8AFA+E533hPwDqxBG5a/8/QL6b29TOBkBANbGJyaEHQAB0uWlixABA4A076MdVyT9ANZ6YxisYwIAN6J8/sxHAAGZ6TMnCBMAAbKTRcKznvwCyyDVfEe4/QP2RCRD4AUAAwwV+QgkIQEB6yQhunQhAoONG5ykAA0DABei7atnrP4B0cXvAGB3AgEXuYTtVEsAAh+fXtUwBwACAb1UhMcK/AIvE+ndO9j+AHA52L0IDQACCwduwJgdAgBXHA9f9BkAgvI6q+wkDQADCQVe1MPc/QPefl49pH8Dgdw1oF7MQwAArU/gOBfW/AI0ENPGQ5T8A3UZqhI/9P4B71XHt2QJAAPnTUzc0A0DAHvMdu30BQIAq88R7Nv4/gHd8Ha3x+T/gCqXOb5AewABjVVFpjwnAAJSLfK0cwL8Ai1x16Yv5P8BMxzrpgQFAQDEiWcEAAEAAHJIgYCn3PwATUmy52O0/AKhFbj7k6D+AukO6eNnyPxCPS5s7hhrAYFp3cZP0+7/AQVKuG+3zP6D1rAI7wwNAgJpCb2tkAkAAiDEHGG70PwDAni86rJc/AGl/pfoI7L8A6zV9DsfuvwBwlNH0w6A/cOCmGEuiE8AAUCkVrsqEPyjmHLXA/QRAkI2Gj30xCUCgS6+eWscAQAAY00EdMMc/AP8CE/ry/L+AHuEmIxoJwMCPnF6m4wnAAAlXwwaK/L/AM0x6cdwEwADjDt9cqv4/gCSgLtLtDkCwHFdBllYMQBjJ8yZHFvk/IAzl/L6H878ANoznzU8PwOCqve/msxbAQKGcsDt6F8DgEURLapQQwMCw5fnEJBDAwGG2ZAHaE8AAWtPkqwwSwIBXmUC+6QfAAPzMAwoD678AfAnI2Un2P8BK4RSthQlA0LKXGexXEEAqBQR4zvkNQMC5CI1VDgBAwERWRE3bEsAAGm17A7cUwMCz5Ri0uhHAAD6BodcUBsAAxvTZfJDivwB8T+Qe3vk/gGiyzr+tCkAgAq61mJAQQFCrvj5CxQ1AYABZeFSq/j/At5aWIP0WwECYKAj00BXAAELSt04MEcCAlH3U8FkDwADwGE7uVNG/AG+Y35yI/D+Aj8J95sAKQKDtq4lIQRBAAC2e6VaEDUD41FDP58MAQACVjfUW8RrAAPf8RxrZFcCA88ZtiP4NwACyhSH4ovy/AABWKaMgxz8A+dtNwIn+P4Dza2YKNQlAAPrSNYOdDUAguckFJ1YLQCB21C231gFAACNnK6qSHcDAu2hRlhUUwIC+LuisVwbAAFjhSbiN6r8AcOSIb83oP4AIt6sYV/8/QE4MnQ17BUDADHa5lYQHQAAMRT4KzgVAoOGPP1p7AEBgnl8nOEgewGAPiPUwbBDAgMTXK2sZ978AjDe7Cx7YPwDHkUYg2PY/gO3UIN3Z/T8APTNrs07+PwDA1FGejfs/gFA5hW1p+D8AfJ9EdMb2P/CZY/xv9hzAANElcgONBsAABIsMgZnAP4BW+XllfPo/gDQC488DAEAAWonHZdv4PwB9s1hbZug/ALiEaPCbsT8A8HR1ZM7FvwBo+htTNtE/cNIZoJjaGcBgKgHWu2z1v4DMN4V3Ofs/QOvsQCBgBkCgWAJ3UNQCQABBs+NzAO8/ALTdijac5b8AAhrl/cv+v8Ah92zuCwLAALSQsZqO9b/wCxgniFoVwABgMPH3SMI/fBe0j2pxCEAgmGA3M/MMQLDZzUy0BQNAAMijYF7puj/AkUr4ZqMCwKCq22u8ZxDAwKSSZ2I2EsBALSRs900KwEAB9PEDsw/AgJUtZV+l9z+QOLdwbCkQQJj2MPq/DBBAGH0zpLpRAEAAmZqC/njvv1AeJcGxQRDAgP3OygIQGcCAKA6XE2UbwMCMBW/lexXAAGu1ujiBDMDAjJWxPTkUwMD55mI2kBPAgHgkVnQ1C8AAwjO9CKTxvwAMmIMALvY/wBQ5E+N9C0AQixwf+f4RQECYVryYtRBAgOQZVsAxAkCAyufb4i4PwIC/iSsSZBTAgHS75WIwE8CAXOz3YlEKwADTBYQhpPC/AMUQrwIo9j/AXW6FNDELQEBdVW0q7RFAANqyhJj8EECwJQdht+4DQACd5nsDthHAQAZguQ8OFMCA6gP4bLsRwIBPG3gLXgfAALJM4fEp678AIGT0jz/1P8B+ruyzFQlAwPQJVHKWEEBQVdwUBikQQOCMfKJRHQVAAEoPqmubE8DAYwg93l0SwABq/m4D+wzAgErvE35AAcAARKVqGazbvwCNGPF8OPQ/gM/Rvp0WBUDAOSd5ZlYLQICvWMX8OgtAYGFdRlrcA0BASeLHzr8UwIBgcFvsMQ7AAC9y4eDSAsAAbwX9mQXwvwDAMPKjIMo/ALP+5v0S8z8AmavWY2L+PwDZd0DvLAJAQJC8/54uAkAA/hI0WR/+PwAHNLLRERXAgBS7mNc0BcAAOCHMOWDovwB4TF+VNdo/AKR3yBrm7j8AzyLVMjfxPwDEFXhuJO4/AHVGQVJL6D8AcY9rtO/lPwAUM0arNeo/oNDnc1/VFMCAXcGUX5b2vwANPaR3J+0/AA6opsiu/T8A9y5Rfzn7PwBnUd4Zm+s/AIS03IJbyL+AU59LXBjwv4Cw8RVwjfO/AJtXNVOt479IfQpJ2nAUwABM/Vn7M9K/YFkpi/QiA0BAPDtNj7kIQIC+YyMYBQJAAK5ZZ3xQ4D8AAVaMZb32v8DKn2VA2AbAwPK7I5vwCcAAmFttduwBwEAouwhKORTAwOShJLAd4T9ZjWPO3ZELQEAHuDbASA9AgDVcSn/3A0AAQA9zKB5+PwAd9o11KgXAgEbFVAFgEsAg5krQlIsUwAD3/lSPsg7AQBEeVJVMFMCACbZfxN/tP+A/nxlddw9AAHVOC3TLEECgMP1WHgkDQACMyLFphuO/QAr+bT7sDcCgWi0QWxsYwGCPM7XXsxrAwLL8HNLDFMAAU49aGnD1v4A/MZLTrg3AwABubNLZEMAAQl8cCXEJwAB6VjLVlPK/AOZ0zWCy8j9AL0oruuYIQFCb+MjjORBAtCG7wgRuDEDA3vXNmRj2PwDYokonl/O/APd4QN5ADMCA7Fmf22gQwAA6RAzaqQnAAFQbjZpB9b8AHDIJQoftP4BuJ3t+KAdAQI7RdE73D0Cga6NIKTgOQIAJetlx5P8/ALVXczaD878AmA+uD+gIwICoX5nzzwzAgMLwgwoDB8AAgU2eg+T0vwC4m9Q4+uM/AHwCzdQQA0DAVbzTpM0LQMDL9xi6FwxAcKWqDtYWAkAAQCB2ELXzv4DY6ULK5ALAgH5wO1bkBMCA79JL3KkAwACWi6NKyO+/AMCJrf7b1j+AHqD4UhD6PwD5cTHy9ANAgCalZf97BUAgx/9FQT0AQAC0uoMrefS/AM0yXtlo9b8ALPF3XjDzvwBiOHXm3uu/AFS5Q1Y12b8AOOpb36HEPwAKxMd1d+Y/gM3AR6UL8j+AjbzZW3/1PwATVTMYZ/Q/AHNV5958978AALLK0ZHNvwCsm0CGVts/AKjH9z3V4j8ArKMrS3nZPwCAURms0KI/AKy2J57I078A9nippZjevwCKfcPS0ta/AAgArGl0uz+AsaLWPAD/vwBWPehoeeY/gL1cq7ah/z8AOrUyHV4AQAAznDRysfM/AMBvwMBqpL+A+Y7XH8/0vwBiBADj9wDAwLeeXGFaAcAAjvMVfxD0v/BrGLkqcgbAgLU/qL5Z8z8AGBN5gTUJQGDeYWvU5glAgFHvEEoL/z8AmNTsarq4vwAswBLARAHAwLeEqtaTDMDAYbh+7GwOwIA9MPeeOATAQBEqb/92EMDAdNWStsfxP6BfJoYxuQ1AIGh3Kw6aD0DATD0X9CYDQACQhGnw2cK/QGY4AGQoBsBgDbk4hXESwIBnxKZm5xPAgM3zm5RzC8DgkUNw4T0XwABMSuNpXtY/AHN8PfRuDEAgZ/qjsEUQQIiF88I+MgRAAMBK4t0ix79A6Unsl0UIwID//QYdPRTA4HVNP8HaFcAA1R5PaOsNwAAIkBldR/k/ABcEOuuH/L+AVuxQy/0IwABLYKP2CQbAACaPAr23878AXv3kOZXnP8COjyjGSANAoOnDMaD/CEAgMJiMZiIDQACQMWiDQKO/AIolLffXAUAAyNgKFGj1vwAzFsFpzgfAALA94/9LB8AAUcf2gun5vwAI+DwG9dA/AEiPwENYAEBAFq8wboQIQEAG8mEOlwZAoEB2ZP1w8D+AGDFKynMGQAC8ETjM8OK/AJvgbRvvAsAA/6epqi4FwABfIq1kePy/APw1u1rJ0L8AdqHnEEH1P8A3Lz36eANAYIcfPD/HBEBw3LUAmWr4PwD+iC5P9QlAAHgCgeii2z8Ah/Pfilv0vwDnZNBGRP6/ALL2cXa2+b8Aetalwy3nvwAwKbDEItg/AKIw9CLm9D+ABwjFF4n7P8A/FmSPEPY/ABALXn4QC0AALN5jzgX5PwCQWRsR6MU/AHLqRKnw5r8AikIWoY3xvwD8dTlYoPC/ALAAjLB45b8AVGrLy9fDvwBaxC6vwdU/APqVKutR5T8Au4dy8hAIQIDT1ML3QgRAAM+3KC08+z8AMBl8X+PlPwDEEKswTNW/AAJA0CSi8r8AZaCYiYn6vwCUmCJNY/u/AKD04cuA9L8AMI2zGb7YvwC34yMZv/4/gPdlO25FCEBASrac9vwHQIDUD8WAZQBAAMGXcIFs4T+ATldNSHPxvwBFKL4hZgPAwFgTQFKsCMAAtrrUXGoGwID6LNK/OPe/AEC4prcPbz+AG8Hw7ncGQCDi70K3CA5AAPBmNZ7oCECAM15yhwb2PwDUp66/cuq/AD9tfFSTBsAAvrYK0e8PwIDotlmA5g7AgBA3vZFOAcCwSA9lzeYFwLDIPTQwWvs/dgPSbMUBDkDg6jaBO1UNQEDh3qGBPABAAJJIk9PL2L+AZGsurtoFwKDRPxNdzBDAAFqAmJiaEMAAGiRAw48BwECNuZTVmRjAAMyHn26U0L/AnhsZgj4HQFBAFKZWzgxA+Cs1AIpkA0AAxDio7WvLP8CiknWzpwDAQCI1PnNtDMCAkpE1LqoLwACfOIq9J/W/gLPX3DMqEEAAaNtn0wPKv4BZtoIlgQLAAP8QkT6OBMAAXlDSyFb4vwDgrWFyVrw/gI5t8LnY+D+gcDJjgdMAQGg30Nh6x/M/QBUM+Gc39b9AIr3qIRcVQAC+bqJvZeE/gNs+NYfAAMAAzwvDKYwGwICzWUoYqQDAAGRVWGIY4b8Av+pNF3zxP0DMQVcqxwBAQG8XBnqv/j8AfMl4fSrLP8Dmd0MNzhlAAEKp5E7/+T8A57+UrAb2v4DtGFaT6gTAgHNNUws4A8AAGq7myfbzvwDg61FkGM4/gOPpXX/U9j+Ah4XtWM38P8Bx3h9h4O8/AAQT9jN3HUCAhUlsckUHQAB4Mlx1OMq/AIwtBR6u/r+AsczgbvgCwAB9cQ4MCP6/AHUXaIFm678AsMKPa4/NPwC8EGrZxu4/wJ4pof868D8AieMkheceQMDxNAVQhxBAACbZQcGk8z8A0ip0hUnqvwA7FOGWi/+/APKSltZjAsAAnnGP1qX/v4Cmv0ud9PO/AI6XVJlL178AOlg5lfXbP0DdyDCp5BxAAGXVlvjSE0CAg5sF5PgEQAAA4KgLM94/AHWSRAtK9L8A6hj3FmwDwABlbU6mRAfAwOHn42ODBcAApIgPeSH9vwCSB3f0Xtq/wOiLJ61zFkDAnh8x9y0UQMBaKNQzHQ1AACx5OA5B+z8AJAQjX3bYvwCz6D7wuwHAwHabRZp3C8AAaFxR6/gNwMDsaX/14gfAgP0eeV/O8b8Q+KJPvz0GQGD1vHpXlBBAAKph0wbbD0BgKJyNCvAEQACrUlVkZeE/gLGKsoZs+r+Af7etIPkKwOD652EpYRDAgCntK9uMC8AAc2VR2LXzv4CoQQFmefO/YISq2VgqAUCgM3RoFqQLQCB+Q+t3IwhAgLWrhpMb9j8AZNJDlM3nv0Dy9tWqzATAwAi4TezjC8AABdHaFeEGwAAMo3uU/Nm/4JgETzeQGMAAmixMpW/sv0DHb+5kFQBAEFa/4m51BkCIObYA8V0AQABAUZOxW94/gFm6MuIi8b8ARmqYxar8v4Ab/Cy3qvC/AO7c1C9d+T+AcY3ncRYUQACIWF896cs/gN07alP3AsCA+LSFzvMHwADHkDDKfgHAAI7L+rif5b8AuwhD19LnP0CEmv1PbfU/EGtuPqJ/4T8AM8J9qBT/v8A5b5n/VRtAAKQWa5CP9D8AYXgSi1MAwAB9WApWMgrAgAULBhfIBsAAoVEXyJ32vwD+a8rT8tA/gHUVOxgK9z8AgmqTJvT3PwAcX+Bm0qU/IHJm6u1EIUAAtcb2+cAFQADlg0j+BvO/ACLI3wG7CMCA6LKGui4KwAB/RlmG/AHAACHW+7ts5b8AG/3+bBzpP0CqMI2mRvg/wCNSSAue8T+gu5Ap+yokQEAPGKhiLRFAAFAkSol1tD+AR9r3iXMDwACZAKfzzwrAgAfg86YECMAAa234WaT9vwAqnkHN2du/AB7F+I/E5z9AcSXAcm70P0CzHqxSjiVAgHZ2iyGsFkAAT6l8aXH4PwBXNiwgc/a/gLNRn6ZrCMAAi3kqqyAMwEBfe9bcNwjAAGB0sZmR/r8ARNH0IangvwCtgfDFEeo/kOWRf+2oJEAAyQnx/8wZQMB9K+OdowZAAFCJfsOPyr+AikTvzVcDwICg/tM/TA3AgDj2INZRD8BAEXqTAwkKwICz3Aohb/2/AKiXEWHnvj8wxTjEDukgQKCsyPr3IhlAgDOg+/QqDUAA5SXClBXtP4A//RyrrPi/QOrLymXWCsAg1x3JIwERwKBsM0DoOxDAQCjWx6LIBcAAEruVGsDTv9ipz5I6KRRAcMdc+gizE0CgwxCbIIgNQIBgnyOhWfs/AASxOChr4b+AfnJ5kmgEwAC4RiqWkQ7AwMwYhBepD8DArncLxaQFwAAgKFJpq5Q/ALgqvJYQxz8wXRTPTVoCQJkzHKtiYQZAQMVnOIwiAEAArMJA0YLdPwCw6ItfDfS/wHauFp3uA8AA0SC2Y4QFwAAMlGg14/a/AOZtWxAO+D9A7fSOu0sXwEC3j0ud9Pe/APhte80/7j8AdKlnBfb7P1DNrmHrLfY/AMgV+nOs3z8ApHAwcbTNvwDU4ifDJsK/gMYYUJ6O9D9AJzkDEHQRQICEvSYovw5AAFfXojK28L8ADp0UlVINwECJ8S/F+hDAABiBewZyCsCAGKO07TX5vwCsp3suLcE/gOdh7Kv88D80SVaQ547jP0D2fPps/Pi/wLoOZfDGGEAAoNpAtRnWP4DSyeGBcgnAgLQmlkvtEcCAa5K0RcgPwADQkehCgALAALArU9mJ0r9ACWt8Du30P+CoJPPrDf0/QLUZEeRS6T9A64+5sj4hQIC1LipUQgFAgFPp8UEwAcBAKAfNkQMRwAAQ0XhZtBHAgGrfb1aJCcCAqPYXt9XzvwAHNKTZSuY/QPoD+5BG/z84M7Okn1kAQOBEnhbiXSVAAB+XgU1aEEAASr2Ojx/nv4C8w9hblAzAAK6fSog7EsAAjejD+xUQwAANDn4T2wPAACYCgJdo4b8AqyDQZUTzP2Dd6odZQAJAwJWACaDDJ0DAZ/LSaO8WQAAUskILX+o/AMZnq51yBMDA5bzqck0RwOBcuo5acxLAwOTfFG2+DcDAzzbUOHAAwADA6bxGA7O/wPeJwf7q/D+QSiDYrocnQEAjbPiOqBpAADgGNzM5AUAAoWprlF/2vwAr6GWr+A3AIPanmv8zE8DA6VPxGHwSwIDkYfGoJAvAgI/3hBkr9r8AuEIAU4XxPyA9j5fqBCRAgJSxluwIGkBAf8/CM2oHQAAIOHZY89S/AJLm2D0UB8Ag5HX8XdcRwGCAa24RhhPAYFjNOR5kEMDAKjPe6m8BwADV7xs1m+Y/oDSdOIP4GUB4XqKmnBoUQIBIxrjWBAdAABxyxNdm3D8A/ItdwU39v8BZB0nGIgzAgCxA7vL8EMAAWJ5SuRwOwIDIViYgHv+/AJwoX8wL8z9AdB1Hcyr1PwBE3YbgQQFAiJ/cYW+0/T+gzNhi6EToP0A5jrH50eW/gLsKg4BI/7/AnRoO4YsEwMA2t7/P3gDAAGx4oQYD078AjqxeadgHQIC/3dEWrRTAgAb5oPxh/78ALqVq1GDBv8BsvzIDZuE/wAhWMm2w3j8A/dzFxPTGPwA2Y9dAO8c/AFwFC61R7z8A+SzZJpsHQECUqtmjQRlAACQCmJDb0z9ANEjiHnoQwID5vF2iDBnAgP8NwWBVGcAAr3i+5mITwEC4H4lxPATAAKyBReoIyr+AAE2l95L1P4g4WPbaAvg/ANwGNSy6v7+ArMOszQoJQIB04bLTTwPAwFFcN/NPFsDAHxs54sYZwACcrg1lrxXAwPTJ9VhjCcAA1UTAAkrgv8CMUrvwBvw/IN7J0Mc7B0AwQRpcOrQDQEBtjsnqtxhAAJi3QpXfyL/AVlHHhzcRwMDvQlykWxjAgKSp+OlCF8CA6dX/hhYQwIDVfa8A4va/gNqngpDf8j8AIVpSAbwIQN75wzgGGw5AYE1b7AbgIUAAsSG6uW0BQIArnhz9EwXAQG+c0Po3FcDAs6mRX7gXwGD12dN4hBPAAOOHMUrDBcAASD3+1sa+v6B5DoB1HgJAcH/EKE4gD0BAdbJ0Ra4lQIB8TNC+BRFAALz99nW7678A5pbYetoQwMAa4dg72xbAwKjJpiEnFsAAgu1FujYQwAC5zZNBEvy/gKAtqyxe6j8AT7qha4oJQGAUL/QSwiZAIGHPH6FPFkAAGqS2lO3kP8DI++ZPAAjAQOl5Kr6mFMBADebNeDUXwIAWJmiCQhTAwF50b77lCcAAY77M4//lv8ABD+t7kQFAkF40abxhJEDQ1AQwpQgXQIDtuy0TiPk/gIqIBRH1/b/g4hhWdD0RwGCXT0HhCBbAACU5PjOcFcDgwwOQkj8QwAARXLKrs/q/gCZTYl9V+D/w2NYzUIEcQOiJ9oNfNhJAwDkhg108+z/ApPP/uE/wv4DlfcUruQnAAOi68qAxEsBATGVo6xwTwECS0yR9Qg7AgGM+Glr8+L+AmUsa0FT8PyBdm+u8OAJAoNjkT3pw/j+gMEoOd8nqP8Ato1nPi+K/wDbTWs07/7+A4kabrgwHwIBFPjlrHAjAgBJokM+tAMAAEEn4LDKsP4CnKpURZwtA4EM4BCciEMCA3Hxpq3YAwACuvoMh2u+/QNlp0Y/I47/QId3irBLjv0AYNv+PYeG/AMAUqaRlsr+ApCqfiYLyP4CgHUtwHwtAYCEbJ20DG0A=",
          "dtype": "f8"
         },
         "x": {
          "bdata": "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",
          "dtype": "f8"
         },
         "y": {
          "bdata": "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",
          "dtype": "f8"
         },
         "z": {
          "bdata": "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",
          "dtype": "f8"
         }
        }
       ],
       "layout": {
        "scene": {
         "xaxis": {
          "title": {
           "text": "X"
          }
         },
         "yaxis": {
          "title": {
           "text": "Y"
          }
         },
         "zaxis": {
          "title": {
           "text": "Z"
          }
         }
        },
        "template": {
         "data": {
          "bar": [
           {
            "error_x": {
             "color": "#2a3f5f"
            },
            "error_y": {
             "color": "#2a3f5f"
            },
            "marker": {
             "line": {
              "color": "#E5ECF6",
              "width": 0.5
             },
             "pattern": {
              "fillmode": "overlay",
              "size": 10,
              "solidity": 0.2
             }
            },
            "type": "bar"
           }
          ],
          "barpolar": [
           {
            "marker": {
             "line": {
              "color": "#E5ECF6",
              "width": 0.5
             },
             "pattern": {
              "fillmode": "overlay",
              "size": 10,
              "solidity": 0.2
             }
            },
            "type": "barpolar"
           }
          ],
          "carpet": [
           {
            "aaxis": {
             "endlinecolor": "#2a3f5f",
             "gridcolor": "white",
             "linecolor": "white",
             "minorgridcolor": "white",
             "startlinecolor": "#2a3f5f"
            },
            "baxis": {
             "endlinecolor": "#2a3f5f",
             "gridcolor": "white",
             "linecolor": "white",
             "minorgridcolor": "white",
             "startlinecolor": "#2a3f5f"
            },
            "type": "carpet"
           }
          ],
          "choropleth": [
           {
            "colorbar": {
             "outlinewidth": 0,
             "ticks": ""
            },
            "type": "choropleth"
           }
          ],
          "contour": [
           {
            "colorbar": {
             "outlinewidth": 0,
             "ticks": ""
            },
            "colorscale": [
             [
              0,
              "#0d0887"
             ],
             [
              0.1111111111111111,
              "#46039f"
             ],
             [
              0.2222222222222222,
              "#7201a8"
             ],
             [
              0.3333333333333333,
              "#9c179e"
             ],
             [
              0.4444444444444444,
              "#bd3786"
             ],
             [
              0.5555555555555556,
              "#d8576b"
             ],
             [
              0.6666666666666666,
              "#ed7953"
             ],
             [
              0.7777777777777778,
              "#fb9f3a"
             ],
             [
              0.8888888888888888,
              "#fdca26"
             ],
             [
              1,
              "#f0f921"
             ]
            ],
            "type": "contour"
           }
          ],
          "contourcarpet": [
           {
            "colorbar": {
             "outlinewidth": 0,
             "ticks": ""
            },
            "type": "contourcarpet"
           }
          ],
          "heatmap": [
           {
            "colorbar": {
             "outlinewidth": 0,
             "ticks": ""
            },
            "colorscale": [
             [
              0,
              "#0d0887"
             ],
             [
              0.1111111111111111,
              "#46039f"
             ],
             [
              0.2222222222222222,
              "#7201a8"
             ],
             [
              0.3333333333333333,
              "#9c179e"
             ],
             [
              0.4444444444444444,
              "#bd3786"
             ],
             [
              0.5555555555555556,
              "#d8576b"
             ],
             [
              0.6666666666666666,
              "#ed7953"
             ],
             [
              0.7777777777777778,
              "#fb9f3a"
             ],
             [
              0.8888888888888888,
              "#fdca26"
             ],
             [
              1,
              "#f0f921"
             ]
            ],
            "type": "heatmap"
           }
          ],
          "histogram": [
           {
            "marker": {
             "pattern": {
              "fillmode": "overlay",
              "size": 10,
              "solidity": 0.2
             }
            },
            "type": "histogram"
           }
          ],
          "histogram2d": [
           {
            "colorbar": {
             "outlinewidth": 0,
             "ticks": ""
            },
            "colorscale": [
             [
              0,
              "#0d0887"
             ],
             [
              0.1111111111111111,
              "#46039f"
             ],
             [
              0.2222222222222222,
              "#7201a8"
             ],
             [
              0.3333333333333333,
              "#9c179e"
             ],
             [
              0.4444444444444444,
              "#bd3786"
             ],
             [
              0.5555555555555556,
              "#d8576b"
             ],
             [
              0.6666666666666666,
              "#ed7953"
             ],
             [
              0.7777777777777778,
              "#fb9f3a"
             ],
             [
              0.8888888888888888,
              "#fdca26"
             ],
             [
              1,
              "#f0f921"
             ]
            ],
            "type": "histogram2d"
           }
          ],
          "histogram2dcontour": [
           {
            "colorbar": {
             "outlinewidth": 0,
             "ticks": ""
            },
            "colorscale": [
             [
              0,
              "#0d0887"
             ],
             [
              0.1111111111111111,
              "#46039f"
             ],
             [
              0.2222222222222222,
              "#7201a8"
             ],
             [
              0.3333333333333333,
              "#9c179e"
             ],
             [
              0.4444444444444444,
              "#bd3786"
             ],
             [
              0.5555555555555556,
              "#d8576b"
             ],
             [
              0.6666666666666666,
              "#ed7953"
             ],
             [
              0.7777777777777778,
              "#fb9f3a"
             ],
             [
              0.8888888888888888,
              "#fdca26"
             ],
             [
              1,
              "#f0f921"
             ]
            ],
            "type": "histogram2dcontour"
           }
          ],
          "mesh3d": [
           {
            "colorbar": {
             "outlinewidth": 0,
             "ticks": ""
            },
            "type": "mesh3d"
           }
          ],
          "parcoords": [
           {
            "line": {
             "colorbar": {
              "outlinewidth": 0,
              "ticks": ""
             }
            },
            "type": "parcoords"
           }
          ],
          "pie": [
           {
            "automargin": true,
            "type": "pie"
           }
          ],
          "scatter": [
           {
            "fillpattern": {
             "fillmode": "overlay",
             "size": 10,
             "solidity": 0.2
            },
            "type": "scatter"
           }
          ],
          "scatter3d": [
           {
            "line": {
             "colorbar": {
              "outlinewidth": 0,
              "ticks": ""
             }
            },
            "marker": {
             "colorbar": {
              "outlinewidth": 0,
              "ticks": ""
             }
            },
            "type": "scatter3d"
           }
          ],
          "scattercarpet": [
           {
            "marker": {
             "colorbar": {
              "outlinewidth": 0,
              "ticks": ""
             }
            },
            "type": "scattercarpet"
           }
          ],
          "scattergeo": [
           {
            "marker": {
             "colorbar": {
              "outlinewidth": 0,
              "ticks": ""
             }
            },
            "type": "scattergeo"
           }
          ],
          "scattergl": [
           {
            "marker": {
             "colorbar": {
              "outlinewidth": 0,
              "ticks": ""
             }
            },
            "type": "scattergl"
           }
          ],
          "scattermap": [
           {
            "marker": {
             "colorbar": {
              "outlinewidth": 0,
              "ticks": ""
             }
            },
            "type": "scattermap"
           }
          ],
          "scattermapbox": [
           {
            "marker": {
             "colorbar": {
              "outlinewidth": 0,
              "ticks": ""
             }
            },
            "type": "scattermapbox"
           }
          ],
          "scatterpolar": [
           {
            "marker": {
             "colorbar": {
              "outlinewidth": 0,
              "ticks": ""
             }
            },
            "type": "scatterpolar"
           }
          ],
          "scatterpolargl": [
           {
            "marker": {
             "colorbar": {
              "outlinewidth": 0,
              "ticks": ""
             }
            },
            "type": "scatterpolargl"
           }
          ],
          "scatterternary": [
           {
            "marker": {
             "colorbar": {
              "outlinewidth": 0,
              "ticks": ""
             }
            },
            "type": "scatterternary"
           }
          ],
          "surface": [
           {
            "colorbar": {
             "outlinewidth": 0,
             "ticks": ""
            },
            "colorscale": [
             [
              0,
              "#0d0887"
             ],
             [
              0.1111111111111111,
              "#46039f"
             ],
             [
              0.2222222222222222,
              "#7201a8"
             ],
             [
              0.3333333333333333,
              "#9c179e"
             ],
             [
              0.4444444444444444,
              "#bd3786"
             ],
             [
              0.5555555555555556,
              "#d8576b"
             ],
             [
              0.6666666666666666,
              "#ed7953"
             ],
             [
              0.7777777777777778,
              "#fb9f3a"
             ],
             [
              0.8888888888888888,
              "#fdca26"
             ],
             [
              1,
              "#f0f921"
             ]
            ],
            "type": "surface"
           }
          ],
          "table": [
           {
            "cells": {
             "fill": {
              "color": "#EBF0F8"
             },
             "line": {
              "color": "white"
             }
            },
            "header": {
             "fill": {
              "color": "#C8D4E3"
             },
             "line": {
              "color": "white"
             }
            },
            "type": "table"
           }
          ]
         },
         "layout": {
          "annotationdefaults": {
           "arrowcolor": "#2a3f5f",
           "arrowhead": 0,
           "arrowwidth": 1
          },
          "autotypenumbers": "strict",
          "coloraxis": {
           "colorbar": {
            "outlinewidth": 0,
            "ticks": ""
           }
          },
          "colorscale": {
           "diverging": [
            [
             0,
             "#8e0152"
            ],
            [
             0.1,
             "#c51b7d"
            ],
            [
             0.2,
             "#de77ae"
            ],
            [
             0.3,
             "#f1b6da"
            ],
            [
             0.4,
             "#fde0ef"
            ],
            [
             0.5,
             "#f7f7f7"
            ],
            [
             0.6,
             "#e6f5d0"
            ],
            [
             0.7,
             "#b8e186"
            ],
            [
             0.8,
             "#7fbc41"
            ],
            [
             0.9,
             "#4d9221"
            ],
            [
             1,
             "#276419"
            ]
           ],
           "sequential": [
            [
             0,
             "#0d0887"
            ],
            [
             0.1111111111111111,
             "#46039f"
            ],
            [
             0.2222222222222222,
             "#7201a8"
            ],
            [
             0.3333333333333333,
             "#9c179e"
            ],
            [
             0.4444444444444444,
             "#bd3786"
            ],
            [
             0.5555555555555556,
             "#d8576b"
            ],
            [
             0.6666666666666666,
             "#ed7953"
            ],
            [
             0.7777777777777778,
             "#fb9f3a"
            ],
            [
             0.8888888888888888,
             "#fdca26"
            ],
            [
             1,
             "#f0f921"
            ]
           ],
           "sequentialminus": [
            [
             0,
             "#0d0887"
            ],
            [
             0.1111111111111111,
             "#46039f"
            ],
            [
             0.2222222222222222,
             "#7201a8"
            ],
            [
             0.3333333333333333,
             "#9c179e"
            ],
            [
             0.4444444444444444,
             "#bd3786"
            ],
            [
             0.5555555555555556,
             "#d8576b"
            ],
            [
             0.6666666666666666,
             "#ed7953"
            ],
            [
             0.7777777777777778,
             "#fb9f3a"
            ],
            [
             0.8888888888888888,
             "#fdca26"
            ],
            [
             1,
             "#f0f921"
            ]
           ]
          },
          "colorway": [
           "#636efa",
           "#EF553B",
           "#00cc96",
           "#ab63fa",
           "#FFA15A",
           "#19d3f3",
           "#FF6692",
           "#B6E880",
           "#FF97FF",
           "#FECB52"
          ],
          "font": {
           "color": "#2a3f5f"
          },
          "geo": {
           "bgcolor": "white",
           "lakecolor": "white",
           "landcolor": "#E5ECF6",
           "showlakes": true,
           "showland": true,
           "subunitcolor": "white"
          },
          "hoverlabel": {
           "align": "left"
          },
          "hovermode": "closest",
          "mapbox": {
           "style": "light"
          },
          "paper_bgcolor": "white",
          "plot_bgcolor": "#E5ECF6",
          "polar": {
           "angularaxis": {
            "gridcolor": "white",
            "linecolor": "white",
            "ticks": ""
           },
           "bgcolor": "#E5ECF6",
           "radialaxis": {
            "gridcolor": "white",
            "linecolor": "white",
            "ticks": ""
           }
          },
          "scene": {
           "xaxis": {
            "backgroundcolor": "#E5ECF6",
            "gridcolor": "white",
            "gridwidth": 2,
            "linecolor": "white",
            "showbackground": true,
            "ticks": "",
            "zerolinecolor": "white"
           },
           "yaxis": {
            "backgroundcolor": "#E5ECF6",
            "gridcolor": "white",
            "gridwidth": 2,
            "linecolor": "white",
            "showbackground": true,
            "ticks": "",
            "zerolinecolor": "white"
           },
           "zaxis": {
            "backgroundcolor": "#E5ECF6",
            "gridcolor": "white",
            "gridwidth": 2,
            "linecolor": "white",
            "showbackground": true,
            "ticks": "",
            "zerolinecolor": "white"
           }
          },
          "shapedefaults": {
           "line": {
            "color": "#2a3f5f"
           }
          },
          "ternary": {
           "aaxis": {
            "gridcolor": "white",
            "linecolor": "white",
            "ticks": ""
           },
           "baxis": {
            "gridcolor": "white",
            "linecolor": "white",
            "ticks": ""
           },
           "bgcolor": "#E5ECF6",
           "caxis": {
            "gridcolor": "white",
            "linecolor": "white",
            "ticks": ""
           }
          },
          "title": {
           "x": 0.05
          },
          "xaxis": {
           "automargin": true,
           "gridcolor": "white",
           "linecolor": "white",
           "ticks": "",
           "title": {
            "standoff": 15
           },
           "zerolinecolor": "white",
           "zerolinewidth": 2
          },
          "yaxis": {
           "automargin": true,
           "gridcolor": "white",
           "linecolor": "white",
           "ticks": "",
           "title": {
            "standoff": 15
           },
           "zerolinecolor": "white",
           "zerolinewidth": 2
          }
         }
        },
        "title": {
         "text": "Div free regression errors for n = 250 input vectors for current carrying wire"
        }
       }
      }
     },
     "metadata": {},
     "output_type": "display_data"
    }
   ],
   "source": [
    "# plot residuals of fit above: \n",
    "residuals_wire_div_free, mse_wire_div_free = differencer(outputs_wire, outputs_wire_div_free)\n",
    "print(f'MSE for this case of {mse_wire_div_free}')\n",
    "plotter(residuals_wire_div_free, \n",
    "        title = f'Div free regression errors for n = {given_samples_wire} input vectors for current carrying wire')"
   ]
  },
  {
   "cell_type": "markdown",
   "id": "d87edac5",
   "metadata": {},
   "source": [
    "Errors are largest inside of the coil. The fields here are at their largest and vary most rapidly, hence "
   ]
  },
  {
   "cell_type": "code",
   "execution_count": 67,
   "id": "c49b1f47",
   "metadata": {},
   "outputs": [
    {
     "name": "stdout",
     "output_type": "stream",
     "text": [
      "Parameters for sigma_f and l specified, using these.\n"
     ]
    }
   ],
   "source": [
    "# these curl ones work very poorly in general\n",
    "outputs_wire_curl_free = updated_vector_field(\n",
    "    sampled_outputs_wire, \n",
    "    outputs_wire[0], outputs_wire[1], outputs_wire[2], \n",
    "    kernel_func='curl_free_kernel', \n",
    "    sigma_f = 0.1, l = 0.3)"
   ]
  },
  {
   "cell_type": "code",
   "execution_count": 68,
   "id": "b5ab1df7",
   "metadata": {},
   "outputs": [
    {
     "data": {
      "application/vnd.plotly.v1+json": {
       "config": {
        "plotlyServerURL": "https://plot.ly"
       },
       "data": [
        {
         "anchor": "tail",
         "sizemode": "scaled",
         "sizeref": 2,
         "type": "cone",
         "u": {
          "bdata": "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",
          "dtype": "f8"
         },
         "v": {
          "bdata": "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",
          "dtype": "f8"
         },
         "w": {
          "bdata": "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",
          "dtype": "f8"
         },
         "x": {
          "bdata": "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",
          "dtype": "f8"
         },
         "y": {
          "bdata": "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",
          "dtype": "f8"
         },
         "z": {
          "bdata": "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",
          "dtype": "f8"
         }
        }
       ],
       "layout": {
        "scene": {
         "xaxis": {
          "title": {
           "text": "X"
          }
         },
         "yaxis": {
          "title": {
           "text": "Y"
          }
         },
         "zaxis": {
          "title": {
           "text": "Z"
          }
         }
        },
        "template": {
         "data": {
          "bar": [
           {
            "error_x": {
             "color": "#2a3f5f"
            },
            "error_y": {
             "color": "#2a3f5f"
            },
            "marker": {
             "line": {
              "color": "#E5ECF6",
              "width": 0.5
             },
             "pattern": {
              "fillmode": "overlay",
              "size": 10,
              "solidity": 0.2
             }
            },
            "type": "bar"
           }
          ],
          "barpolar": [
           {
            "marker": {
             "line": {
              "color": "#E5ECF6",
              "width": 0.5
             },
             "pattern": {
              "fillmode": "overlay",
              "size": 10,
              "solidity": 0.2
             }
            },
            "type": "barpolar"
           }
          ],
          "carpet": [
           {
            "aaxis": {
             "endlinecolor": "#2a3f5f",
             "gridcolor": "white",
             "linecolor": "white",
             "minorgridcolor": "white",
             "startlinecolor": "#2a3f5f"
            },
            "baxis": {
             "endlinecolor": "#2a3f5f",
             "gridcolor": "white",
             "linecolor": "white",
             "minorgridcolor": "white",
             "startlinecolor": "#2a3f5f"
            },
            "type": "carpet"
           }
          ],
          "choropleth": [
           {
            "colorbar": {
             "outlinewidth": 0,
             "ticks": ""
            },
            "type": "choropleth"
           }
          ],
          "contour": [
           {
            "colorbar": {
             "outlinewidth": 0,
             "ticks": ""
            },
            "colorscale": [
             [
              0,
              "#0d0887"
             ],
             [
              0.1111111111111111,
              "#46039f"
             ],
             [
              0.2222222222222222,
              "#7201a8"
             ],
             [
              0.3333333333333333,
              "#9c179e"
             ],
             [
              0.4444444444444444,
              "#bd3786"
             ],
             [
              0.5555555555555556,
              "#d8576b"
             ],
             [
              0.6666666666666666,
              "#ed7953"
             ],
             [
              0.7777777777777778,
              "#fb9f3a"
             ],
             [
              0.8888888888888888,
              "#fdca26"
             ],
             [
              1,
              "#f0f921"
             ]
            ],
            "type": "contour"
           }
          ],
          "contourcarpet": [
           {
            "colorbar": {
             "outlinewidth": 0,
             "ticks": ""
            },
            "type": "contourcarpet"
           }
          ],
          "heatmap": [
           {
            "colorbar": {
             "outlinewidth": 0,
             "ticks": ""
            },
            "colorscale": [
             [
              0,
              "#0d0887"
             ],
             [
              0.1111111111111111,
              "#46039f"
             ],
             [
              0.2222222222222222,
              "#7201a8"
             ],
             [
              0.3333333333333333,
              "#9c179e"
             ],
             [
              0.4444444444444444,
              "#bd3786"
             ],
             [
              0.5555555555555556,
              "#d8576b"
             ],
             [
              0.6666666666666666,
              "#ed7953"
             ],
             [
              0.7777777777777778,
              "#fb9f3a"
             ],
             [
              0.8888888888888888,
              "#fdca26"
             ],
             [
              1,
              "#f0f921"
             ]
            ],
            "type": "heatmap"
           }
          ],
          "histogram": [
           {
            "marker": {
             "pattern": {
              "fillmode": "overlay",
              "size": 10,
              "solidity": 0.2
             }
            },
            "type": "histogram"
           }
          ],
          "histogram2d": [
           {
            "colorbar": {
             "outlinewidth": 0,
             "ticks": ""
            },
            "colorscale": [
             [
              0,
              "#0d0887"
             ],
             [
              0.1111111111111111,
              "#46039f"
             ],
             [
              0.2222222222222222,
              "#7201a8"
             ],
             [
              0.3333333333333333,
              "#9c179e"
             ],
             [
              0.4444444444444444,
              "#bd3786"
             ],
             [
              0.5555555555555556,
              "#d8576b"
             ],
             [
              0.6666666666666666,
              "#ed7953"
             ],
             [
              0.7777777777777778,
              "#fb9f3a"
             ],
             [
              0.8888888888888888,
              "#fdca26"
             ],
             [
              1,
              "#f0f921"
             ]
            ],
            "type": "histogram2d"
           }
          ],
          "histogram2dcontour": [
           {
            "colorbar": {
             "outlinewidth": 0,
             "ticks": ""
            },
            "colorscale": [
             [
              0,
              "#0d0887"
             ],
             [
              0.1111111111111111,
              "#46039f"
             ],
             [
              0.2222222222222222,
              "#7201a8"
             ],
             [
              0.3333333333333333,
              "#9c179e"
             ],
             [
              0.4444444444444444,
              "#bd3786"
             ],
             [
              0.5555555555555556,
              "#d8576b"
             ],
             [
              0.6666666666666666,
              "#ed7953"
             ],
             [
              0.7777777777777778,
              "#fb9f3a"
             ],
             [
              0.8888888888888888,
              "#fdca26"
             ],
             [
              1,
              "#f0f921"
             ]
            ],
            "type": "histogram2dcontour"
           }
          ],
          "mesh3d": [
           {
            "colorbar": {
             "outlinewidth": 0,
             "ticks": ""
            },
            "type": "mesh3d"
           }
          ],
          "parcoords": [
           {
            "line": {
             "colorbar": {
              "outlinewidth": 0,
              "ticks": ""
             }
            },
            "type": "parcoords"
           }
          ],
          "pie": [
           {
            "automargin": true,
            "type": "pie"
           }
          ],
          "scatter": [
           {
            "fillpattern": {
             "fillmode": "overlay",
             "size": 10,
             "solidity": 0.2
            },
            "type": "scatter"
           }
          ],
          "scatter3d": [
           {
            "line": {
             "colorbar": {
              "outlinewidth": 0,
              "ticks": ""
             }
            },
            "marker": {
             "colorbar": {
              "outlinewidth": 0,
              "ticks": ""
             }
            },
            "type": "scatter3d"
           }
          ],
          "scattercarpet": [
           {
            "marker": {
             "colorbar": {
              "outlinewidth": 0,
              "ticks": ""
             }
            },
            "type": "scattercarpet"
           }
          ],
          "scattergeo": [
           {
            "marker": {
             "colorbar": {
              "outlinewidth": 0,
              "ticks": ""
             }
            },
            "type": "scattergeo"
           }
          ],
          "scattergl": [
           {
            "marker": {
             "colorbar": {
              "outlinewidth": 0,
              "ticks": ""
             }
            },
            "type": "scattergl"
           }
          ],
          "scattermap": [
           {
            "marker": {
             "colorbar": {
              "outlinewidth": 0,
              "ticks": ""
             }
            },
            "type": "scattermap"
           }
          ],
          "scattermapbox": [
           {
            "marker": {
             "colorbar": {
              "outlinewidth": 0,
              "ticks": ""
             }
            },
            "type": "scattermapbox"
           }
          ],
          "scatterpolar": [
           {
            "marker": {
             "colorbar": {
              "outlinewidth": 0,
              "ticks": ""
             }
            },
            "type": "scatterpolar"
           }
          ],
          "scatterpolargl": [
           {
            "marker": {
             "colorbar": {
              "outlinewidth": 0,
              "ticks": ""
             }
            },
            "type": "scatterpolargl"
           }
          ],
          "scatterternary": [
           {
            "marker": {
             "colorbar": {
              "outlinewidth": 0,
              "ticks": ""
             }
            },
            "type": "scatterternary"
           }
          ],
          "surface": [
           {
            "colorbar": {
             "outlinewidth": 0,
             "ticks": ""
            },
            "colorscale": [
             [
              0,
              "#0d0887"
             ],
             [
              0.1111111111111111,
              "#46039f"
             ],
             [
              0.2222222222222222,
              "#7201a8"
             ],
             [
              0.3333333333333333,
              "#9c179e"
             ],
             [
              0.4444444444444444,
              "#bd3786"
             ],
             [
              0.5555555555555556,
              "#d8576b"
             ],
             [
              0.6666666666666666,
              "#ed7953"
             ],
             [
              0.7777777777777778,
              "#fb9f3a"
             ],
             [
              0.8888888888888888,
              "#fdca26"
             ],
             [
              1,
              "#f0f921"
             ]
            ],
            "type": "surface"
           }
          ],
          "table": [
           {
            "cells": {
             "fill": {
              "color": "#EBF0F8"
             },
             "line": {
              "color": "white"
             }
            },
            "header": {
             "fill": {
              "color": "#C8D4E3"
             },
             "line": {
              "color": "white"
             }
            },
            "type": "table"
           }
          ]
         },
         "layout": {
          "annotationdefaults": {
           "arrowcolor": "#2a3f5f",
           "arrowhead": 0,
           "arrowwidth": 1
          },
          "autotypenumbers": "strict",
          "coloraxis": {
           "colorbar": {
            "outlinewidth": 0,
            "ticks": ""
           }
          },
          "colorscale": {
           "diverging": [
            [
             0,
             "#8e0152"
            ],
            [
             0.1,
             "#c51b7d"
            ],
            [
             0.2,
             "#de77ae"
            ],
            [
             0.3,
             "#f1b6da"
            ],
            [
             0.4,
             "#fde0ef"
            ],
            [
             0.5,
             "#f7f7f7"
            ],
            [
             0.6,
             "#e6f5d0"
            ],
            [
             0.7,
             "#b8e186"
            ],
            [
             0.8,
             "#7fbc41"
            ],
            [
             0.9,
             "#4d9221"
            ],
            [
             1,
             "#276419"
            ]
           ],
           "sequential": [
            [
             0,
             "#0d0887"
            ],
            [
             0.1111111111111111,
             "#46039f"
            ],
            [
             0.2222222222222222,
             "#7201a8"
            ],
            [
             0.3333333333333333,
             "#9c179e"
            ],
            [
             0.4444444444444444,
             "#bd3786"
            ],
            [
             0.5555555555555556,
             "#d8576b"
            ],
            [
             0.6666666666666666,
             "#ed7953"
            ],
            [
             0.7777777777777778,
             "#fb9f3a"
            ],
            [
             0.8888888888888888,
             "#fdca26"
            ],
            [
             1,
             "#f0f921"
            ]
           ],
           "sequentialminus": [
            [
             0,
             "#0d0887"
            ],
            [
             0.1111111111111111,
             "#46039f"
            ],
            [
             0.2222222222222222,
             "#7201a8"
            ],
            [
             0.3333333333333333,
             "#9c179e"
            ],
            [
             0.4444444444444444,
             "#bd3786"
            ],
            [
             0.5555555555555556,
             "#d8576b"
            ],
            [
             0.6666666666666666,
             "#ed7953"
            ],
            [
             0.7777777777777778,
             "#fb9f3a"
            ],
            [
             0.8888888888888888,
             "#fdca26"
            ],
            [
             1,
             "#f0f921"
            ]
           ]
          },
          "colorway": [
           "#636efa",
           "#EF553B",
           "#00cc96",
           "#ab63fa",
           "#FFA15A",
           "#19d3f3",
           "#FF6692",
           "#B6E880",
           "#FF97FF",
           "#FECB52"
          ],
          "font": {
           "color": "#2a3f5f"
          },
          "geo": {
           "bgcolor": "white",
           "lakecolor": "white",
           "landcolor": "#E5ECF6",
           "showlakes": true,
           "showland": true,
           "subunitcolor": "white"
          },
          "hoverlabel": {
           "align": "left"
          },
          "hovermode": "closest",
          "mapbox": {
           "style": "light"
          },
          "paper_bgcolor": "white",
          "plot_bgcolor": "#E5ECF6",
          "polar": {
           "angularaxis": {
            "gridcolor": "white",
            "linecolor": "white",
            "ticks": ""
           },
           "bgcolor": "#E5ECF6",
           "radialaxis": {
            "gridcolor": "white",
            "linecolor": "white",
            "ticks": ""
           }
          },
          "scene": {
           "xaxis": {
            "backgroundcolor": "#E5ECF6",
            "gridcolor": "white",
            "gridwidth": 2,
            "linecolor": "white",
            "showbackground": true,
            "ticks": "",
            "zerolinecolor": "white"
           },
           "yaxis": {
            "backgroundcolor": "#E5ECF6",
            "gridcolor": "white",
            "gridwidth": 2,
            "linecolor": "white",
            "showbackground": true,
            "ticks": "",
            "zerolinecolor": "white"
           },
           "zaxis": {
            "backgroundcolor": "#E5ECF6",
            "gridcolor": "white",
            "gridwidth": 2,
            "linecolor": "white",
            "showbackground": true,
            "ticks": "",
            "zerolinecolor": "white"
           }
          },
          "shapedefaults": {
           "line": {
            "color": "#2a3f5f"
           }
          },
          "ternary": {
           "aaxis": {
            "gridcolor": "white",
            "linecolor": "white",
            "ticks": ""
           },
           "baxis": {
            "gridcolor": "white",
            "linecolor": "white",
            "ticks": ""
           },
           "bgcolor": "#E5ECF6",
           "caxis": {
            "gridcolor": "white",
            "linecolor": "white",
            "ticks": ""
           }
          },
          "title": {
           "x": 0.05
          },
          "xaxis": {
           "automargin": true,
           "gridcolor": "white",
           "linecolor": "white",
           "ticks": "",
           "title": {
            "standoff": 15
           },
           "zerolinecolor": "white",
           "zerolinewidth": 2
          },
          "yaxis": {
           "automargin": true,
           "gridcolor": "white",
           "linecolor": "white",
           "ticks": "",
           "title": {
            "standoff": 15
           },
           "zerolinecolor": "white",
           "zerolinewidth": 2
          }
         }
        },
        "title": {
         "text": "Curl free output from GP Regression for n = 100 input vectors for current carrying wire"
        }
       }
      }
     },
     "metadata": {},
     "output_type": "display_data"
    }
   ],
   "source": [
    "plotter(outputs_wire_curl_free, \n",
    "        title = f'Curl free output from GP Regression for n = {given_samples_wire} input vectors for current carrying wire')"
   ]
  },
  {
   "cell_type": "code",
   "execution_count": 69,
   "id": "6c57ec51",
   "metadata": {},
   "outputs": [
    {
     "name": "stdout",
     "output_type": "stream",
     "text": [
      "MSE for this case of 428.44451114183215\n"
     ]
    },
    {
     "data": {
      "application/vnd.plotly.v1+json": {
       "config": {
        "plotlyServerURL": "https://plot.ly"
       },
       "data": [
        {
         "anchor": "tail",
         "sizemode": "scaled",
         "sizeref": 2,
         "type": "cone",
         "u": {
          "bdata": "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",
          "dtype": "f8"
         },
         "v": {
          "bdata": "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",
          "dtype": "f8"
         },
         "w": {
          "bdata": "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",
          "dtype": "f8"
         },
         "x": {
          "bdata": "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",
          "dtype": "f8"
         },
         "y": {
          "bdata": "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",
          "dtype": "f8"
         },
         "z": {
          "bdata": "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",
          "dtype": "f8"
         }
        }
       ],
       "layout": {
        "scene": {
         "xaxis": {
          "title": {
           "text": "X"
          }
         },
         "yaxis": {
          "title": {
           "text": "Y"
          }
         },
         "zaxis": {
          "title": {
           "text": "Z"
          }
         }
        },
        "template": {
         "data": {
          "bar": [
           {
            "error_x": {
             "color": "#2a3f5f"
            },
            "error_y": {
             "color": "#2a3f5f"
            },
            "marker": {
             "line": {
              "color": "#E5ECF6",
              "width": 0.5
             },
             "pattern": {
              "fillmode": "overlay",
              "size": 10,
              "solidity": 0.2
             }
            },
            "type": "bar"
           }
          ],
          "barpolar": [
           {
            "marker": {
             "line": {
              "color": "#E5ECF6",
              "width": 0.5
             },
             "pattern": {
              "fillmode": "overlay",
              "size": 10,
              "solidity": 0.2
             }
            },
            "type": "barpolar"
           }
          ],
          "carpet": [
           {
            "aaxis": {
             "endlinecolor": "#2a3f5f",
             "gridcolor": "white",
             "linecolor": "white",
             "minorgridcolor": "white",
             "startlinecolor": "#2a3f5f"
            },
            "baxis": {
             "endlinecolor": "#2a3f5f",
             "gridcolor": "white",
             "linecolor": "white",
             "minorgridcolor": "white",
             "startlinecolor": "#2a3f5f"
            },
            "type": "carpet"
           }
          ],
          "choropleth": [
           {
            "colorbar": {
             "outlinewidth": 0,
             "ticks": ""
            },
            "type": "choropleth"
           }
          ],
          "contour": [
           {
            "colorbar": {
             "outlinewidth": 0,
             "ticks": ""
            },
            "colorscale": [
             [
              0,
              "#0d0887"
             ],
             [
              0.1111111111111111,
              "#46039f"
             ],
             [
              0.2222222222222222,
              "#7201a8"
             ],
             [
              0.3333333333333333,
              "#9c179e"
             ],
             [
              0.4444444444444444,
              "#bd3786"
             ],
             [
              0.5555555555555556,
              "#d8576b"
             ],
             [
              0.6666666666666666,
              "#ed7953"
             ],
             [
              0.7777777777777778,
              "#fb9f3a"
             ],
             [
              0.8888888888888888,
              "#fdca26"
             ],
             [
              1,
              "#f0f921"
             ]
            ],
            "type": "contour"
           }
          ],
          "contourcarpet": [
           {
            "colorbar": {
             "outlinewidth": 0,
             "ticks": ""
            },
            "type": "contourcarpet"
           }
          ],
          "heatmap": [
           {
            "colorbar": {
             "outlinewidth": 0,
             "ticks": ""
            },
            "colorscale": [
             [
              0,
              "#0d0887"
             ],
             [
              0.1111111111111111,
              "#46039f"
             ],
             [
              0.2222222222222222,
              "#7201a8"
             ],
             [
              0.3333333333333333,
              "#9c179e"
             ],
             [
              0.4444444444444444,
              "#bd3786"
             ],
             [
              0.5555555555555556,
              "#d8576b"
             ],
             [
              0.6666666666666666,
              "#ed7953"
             ],
             [
              0.7777777777777778,
              "#fb9f3a"
             ],
             [
              0.8888888888888888,
              "#fdca26"
             ],
             [
              1,
              "#f0f921"
             ]
            ],
            "type": "heatmap"
           }
          ],
          "histogram": [
           {
            "marker": {
             "pattern": {
              "fillmode": "overlay",
              "size": 10,
              "solidity": 0.2
             }
            },
            "type": "histogram"
           }
          ],
          "histogram2d": [
           {
            "colorbar": {
             "outlinewidth": 0,
             "ticks": ""
            },
            "colorscale": [
             [
              0,
              "#0d0887"
             ],
             [
              0.1111111111111111,
              "#46039f"
             ],
             [
              0.2222222222222222,
              "#7201a8"
             ],
             [
              0.3333333333333333,
              "#9c179e"
             ],
             [
              0.4444444444444444,
              "#bd3786"
             ],
             [
              0.5555555555555556,
              "#d8576b"
             ],
             [
              0.6666666666666666,
              "#ed7953"
             ],
             [
              0.7777777777777778,
              "#fb9f3a"
             ],
             [
              0.8888888888888888,
              "#fdca26"
             ],
             [
              1,
              "#f0f921"
             ]
            ],
            "type": "histogram2d"
           }
          ],
          "histogram2dcontour": [
           {
            "colorbar": {
             "outlinewidth": 0,
             "ticks": ""
            },
            "colorscale": [
             [
              0,
              "#0d0887"
             ],
             [
              0.1111111111111111,
              "#46039f"
             ],
             [
              0.2222222222222222,
              "#7201a8"
             ],
             [
              0.3333333333333333,
              "#9c179e"
             ],
             [
              0.4444444444444444,
              "#bd3786"
             ],
             [
              0.5555555555555556,
              "#d8576b"
             ],
             [
              0.6666666666666666,
              "#ed7953"
             ],
             [
              0.7777777777777778,
              "#fb9f3a"
             ],
             [
              0.8888888888888888,
              "#fdca26"
             ],
             [
              1,
              "#f0f921"
             ]
            ],
            "type": "histogram2dcontour"
           }
          ],
          "mesh3d": [
           {
            "colorbar": {
             "outlinewidth": 0,
             "ticks": ""
            },
            "type": "mesh3d"
           }
          ],
          "parcoords": [
           {
            "line": {
             "colorbar": {
              "outlinewidth": 0,
              "ticks": ""
             }
            },
            "type": "parcoords"
           }
          ],
          "pie": [
           {
            "automargin": true,
            "type": "pie"
           }
          ],
          "scatter": [
           {
            "fillpattern": {
             "fillmode": "overlay",
             "size": 10,
             "solidity": 0.2
            },
            "type": "scatter"
           }
          ],
          "scatter3d": [
           {
            "line": {
             "colorbar": {
              "outlinewidth": 0,
              "ticks": ""
             }
            },
            "marker": {
             "colorbar": {
              "outlinewidth": 0,
              "ticks": ""
             }
            },
            "type": "scatter3d"
           }
          ],
          "scattercarpet": [
           {
            "marker": {
             "colorbar": {
              "outlinewidth": 0,
              "ticks": ""
             }
            },
            "type": "scattercarpet"
           }
          ],
          "scattergeo": [
           {
            "marker": {
             "colorbar": {
              "outlinewidth": 0,
              "ticks": ""
             }
            },
            "type": "scattergeo"
           }
          ],
          "scattergl": [
           {
            "marker": {
             "colorbar": {
              "outlinewidth": 0,
              "ticks": ""
             }
            },
            "type": "scattergl"
           }
          ],
          "scattermap": [
           {
            "marker": {
             "colorbar": {
              "outlinewidth": 0,
              "ticks": ""
             }
            },
            "type": "scattermap"
           }
          ],
          "scattermapbox": [
           {
            "marker": {
             "colorbar": {
              "outlinewidth": 0,
              "ticks": ""
             }
            },
            "type": "scattermapbox"
           }
          ],
          "scatterpolar": [
           {
            "marker": {
             "colorbar": {
              "outlinewidth": 0,
              "ticks": ""
             }
            },
            "type": "scatterpolar"
           }
          ],
          "scatterpolargl": [
           {
            "marker": {
             "colorbar": {
              "outlinewidth": 0,
              "ticks": ""
             }
            },
            "type": "scatterpolargl"
           }
          ],
          "scatterternary": [
           {
            "marker": {
             "colorbar": {
              "outlinewidth": 0,
              "ticks": ""
             }
            },
            "type": "scatterternary"
           }
          ],
          "surface": [
           {
            "colorbar": {
             "outlinewidth": 0,
             "ticks": ""
            },
            "colorscale": [
             [
              0,
              "#0d0887"
             ],
             [
              0.1111111111111111,
              "#46039f"
             ],
             [
              0.2222222222222222,
              "#7201a8"
             ],
             [
              0.3333333333333333,
              "#9c179e"
             ],
             [
              0.4444444444444444,
              "#bd3786"
             ],
             [
              0.5555555555555556,
              "#d8576b"
             ],
             [
              0.6666666666666666,
              "#ed7953"
             ],
             [
              0.7777777777777778,
              "#fb9f3a"
             ],
             [
              0.8888888888888888,
              "#fdca26"
             ],
             [
              1,
              "#f0f921"
             ]
            ],
            "type": "surface"
           }
          ],
          "table": [
           {
            "cells": {
             "fill": {
              "color": "#EBF0F8"
             },
             "line": {
              "color": "white"
             }
            },
            "header": {
             "fill": {
              "color": "#C8D4E3"
             },
             "line": {
              "color": "white"
             }
            },
            "type": "table"
           }
          ]
         },
         "layout": {
          "annotationdefaults": {
           "arrowcolor": "#2a3f5f",
           "arrowhead": 0,
           "arrowwidth": 1
          },
          "autotypenumbers": "strict",
          "coloraxis": {
           "colorbar": {
            "outlinewidth": 0,
            "ticks": ""
           }
          },
          "colorscale": {
           "diverging": [
            [
             0,
             "#8e0152"
            ],
            [
             0.1,
             "#c51b7d"
            ],
            [
             0.2,
             "#de77ae"
            ],
            [
             0.3,
             "#f1b6da"
            ],
            [
             0.4,
             "#fde0ef"
            ],
            [
             0.5,
             "#f7f7f7"
            ],
            [
             0.6,
             "#e6f5d0"
            ],
            [
             0.7,
             "#b8e186"
            ],
            [
             0.8,
             "#7fbc41"
            ],
            [
             0.9,
             "#4d9221"
            ],
            [
             1,
             "#276419"
            ]
           ],
           "sequential": [
            [
             0,
             "#0d0887"
            ],
            [
             0.1111111111111111,
             "#46039f"
            ],
            [
             0.2222222222222222,
             "#7201a8"
            ],
            [
             0.3333333333333333,
             "#9c179e"
            ],
            [
             0.4444444444444444,
             "#bd3786"
            ],
            [
             0.5555555555555556,
             "#d8576b"
            ],
            [
             0.6666666666666666,
             "#ed7953"
            ],
            [
             0.7777777777777778,
             "#fb9f3a"
            ],
            [
             0.8888888888888888,
             "#fdca26"
            ],
            [
             1,
             "#f0f921"
            ]
           ],
           "sequentialminus": [
            [
             0,
             "#0d0887"
            ],
            [
             0.1111111111111111,
             "#46039f"
            ],
            [
             0.2222222222222222,
             "#7201a8"
            ],
            [
             0.3333333333333333,
             "#9c179e"
            ],
            [
             0.4444444444444444,
             "#bd3786"
            ],
            [
             0.5555555555555556,
             "#d8576b"
            ],
            [
             0.6666666666666666,
             "#ed7953"
            ],
            [
             0.7777777777777778,
             "#fb9f3a"
            ],
            [
             0.8888888888888888,
             "#fdca26"
            ],
            [
             1,
             "#f0f921"
            ]
           ]
          },
          "colorway": [
           "#636efa",
           "#EF553B",
           "#00cc96",
           "#ab63fa",
           "#FFA15A",
           "#19d3f3",
           "#FF6692",
           "#B6E880",
           "#FF97FF",
           "#FECB52"
          ],
          "font": {
           "color": "#2a3f5f"
          },
          "geo": {
           "bgcolor": "white",
           "lakecolor": "white",
           "landcolor": "#E5ECF6",
           "showlakes": true,
           "showland": true,
           "subunitcolor": "white"
          },
          "hoverlabel": {
           "align": "left"
          },
          "hovermode": "closest",
          "mapbox": {
           "style": "light"
          },
          "paper_bgcolor": "white",
          "plot_bgcolor": "#E5ECF6",
          "polar": {
           "angularaxis": {
            "gridcolor": "white",
            "linecolor": "white",
            "ticks": ""
           },
           "bgcolor": "#E5ECF6",
           "radialaxis": {
            "gridcolor": "white",
            "linecolor": "white",
            "ticks": ""
           }
          },
          "scene": {
           "xaxis": {
            "backgroundcolor": "#E5ECF6",
            "gridcolor": "white",
            "gridwidth": 2,
            "linecolor": "white",
            "showbackground": true,
            "ticks": "",
            "zerolinecolor": "white"
           },
           "yaxis": {
            "backgroundcolor": "#E5ECF6",
            "gridcolor": "white",
            "gridwidth": 2,
            "linecolor": "white",
            "showbackground": true,
            "ticks": "",
            "zerolinecolor": "white"
           },
           "zaxis": {
            "backgroundcolor": "#E5ECF6",
            "gridcolor": "white",
            "gridwidth": 2,
            "linecolor": "white",
            "showbackground": true,
            "ticks": "",
            "zerolinecolor": "white"
           }
          },
          "shapedefaults": {
           "line": {
            "color": "#2a3f5f"
           }
          },
          "ternary": {
           "aaxis": {
            "gridcolor": "white",
            "linecolor": "white",
            "ticks": ""
           },
           "baxis": {
            "gridcolor": "white",
            "linecolor": "white",
            "ticks": ""
           },
           "bgcolor": "#E5ECF6",
           "caxis": {
            "gridcolor": "white",
            "linecolor": "white",
            "ticks": ""
           }
          },
          "title": {
           "x": 0.05
          },
          "xaxis": {
           "automargin": true,
           "gridcolor": "white",
           "linecolor": "white",
           "ticks": "",
           "title": {
            "standoff": 15
           },
           "zerolinecolor": "white",
           "zerolinewidth": 2
          },
          "yaxis": {
           "automargin": true,
           "gridcolor": "white",
           "linecolor": "white",
           "ticks": "",
           "title": {
            "standoff": 15
           },
           "zerolinecolor": "white",
           "zerolinewidth": 2
          }
         }
        },
        "title": {
         "text": "Curl free regression errors for n = 100 input vectors for current carrying wire"
        }
       }
      }
     },
     "metadata": {},
     "output_type": "display_data"
    }
   ],
   "source": [
    "# plot residuals of fit above: \n",
    "residuals_wire_curl_free, mse_wire_curl_free = differencer(outputs_wire, outputs_wire_curl_free)\n",
    "print(f'MSE for this case of {mse_wire_curl_free}')\n",
    "plotter(residuals_wire_curl_free, \n",
    "        title = f'Curl free regression errors for n = {given_samples_wire} input vectors for current carrying wire')"
   ]
  },
  {
   "cell_type": "markdown",
   "id": "7abdc067",
   "metadata": {},
   "source": [
    "## matern kernel time "
   ]
  },
  {
   "cell_type": "code",
   "execution_count": 111,
   "id": "4f5e2a13",
   "metadata": {},
   "outputs": [
    {
     "name": "stdout",
     "output_type": "stream",
     "text": [
      "Parameters for sigma_f and l specified, using these.\n"
     ]
    }
   ],
   "source": [
    "# Divergence free attempt\n",
    "outputs_wire_div_free_matern = updated_vector_field(\n",
    "    sampled_outputs_wire, \n",
    "    outputs_wire[0], outputs_wire[1], outputs_wire[2], \n",
    "    kernel_func='divergence_free_matern_kernel', \n",
    "    sigma_f= 0.0003, l = 12)"
   ]
  },
  {
   "cell_type": "code",
   "execution_count": 112,
   "id": "1b1331f6",
   "metadata": {},
   "outputs": [
    {
     "data": {
      "application/vnd.plotly.v1+json": {
       "config": {
        "plotlyServerURL": "https://plot.ly"
       },
       "data": [
        {
         "anchor": "tail",
         "sizemode": "scaled",
         "sizeref": 2,
         "type": "cone",
         "u": {
          "bdata": "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",
          "dtype": "f8"
         },
         "v": {
          "bdata": "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",
          "dtype": "f8"
         },
         "w": {
          "bdata": "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",
          "dtype": "f8"
         },
         "x": {
          "bdata": "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",
          "dtype": "f8"
         },
         "y": {
          "bdata": "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",
          "dtype": "f8"
         },
         "z": {
          "bdata": "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",
          "dtype": "f8"
         }
        }
       ],
       "layout": {
        "scene": {
         "xaxis": {
          "title": {
           "text": "X"
          }
         },
         "yaxis": {
          "title": {
           "text": "Y"
          }
         },
         "zaxis": {
          "title": {
           "text": "Z"
          }
         }
        },
        "template": {
         "data": {
          "bar": [
           {
            "error_x": {
             "color": "#2a3f5f"
            },
            "error_y": {
             "color": "#2a3f5f"
            },
            "marker": {
             "line": {
              "color": "#E5ECF6",
              "width": 0.5
             },
             "pattern": {
              "fillmode": "overlay",
              "size": 10,
              "solidity": 0.2
             }
            },
            "type": "bar"
           }
          ],
          "barpolar": [
           {
            "marker": {
             "line": {
              "color": "#E5ECF6",
              "width": 0.5
             },
             "pattern": {
              "fillmode": "overlay",
              "size": 10,
              "solidity": 0.2
             }
            },
            "type": "barpolar"
           }
          ],
          "carpet": [
           {
            "aaxis": {
             "endlinecolor": "#2a3f5f",
             "gridcolor": "white",
             "linecolor": "white",
             "minorgridcolor": "white",
             "startlinecolor": "#2a3f5f"
            },
            "baxis": {
             "endlinecolor": "#2a3f5f",
             "gridcolor": "white",
             "linecolor": "white",
             "minorgridcolor": "white",
             "startlinecolor": "#2a3f5f"
            },
            "type": "carpet"
           }
          ],
          "choropleth": [
           {
            "colorbar": {
             "outlinewidth": 0,
             "ticks": ""
            },
            "type": "choropleth"
           }
          ],
          "contour": [
           {
            "colorbar": {
             "outlinewidth": 0,
             "ticks": ""
            },
            "colorscale": [
             [
              0,
              "#0d0887"
             ],
             [
              0.1111111111111111,
              "#46039f"
             ],
             [
              0.2222222222222222,
              "#7201a8"
             ],
             [
              0.3333333333333333,
              "#9c179e"
             ],
             [
              0.4444444444444444,
              "#bd3786"
             ],
             [
              0.5555555555555556,
              "#d8576b"
             ],
             [
              0.6666666666666666,
              "#ed7953"
             ],
             [
              0.7777777777777778,
              "#fb9f3a"
             ],
             [
              0.8888888888888888,
              "#fdca26"
             ],
             [
              1,
              "#f0f921"
             ]
            ],
            "type": "contour"
           }
          ],
          "contourcarpet": [
           {
            "colorbar": {
             "outlinewidth": 0,
             "ticks": ""
            },
            "type": "contourcarpet"
           }
          ],
          "heatmap": [
           {
            "colorbar": {
             "outlinewidth": 0,
             "ticks": ""
            },
            "colorscale": [
             [
              0,
              "#0d0887"
             ],
             [
              0.1111111111111111,
              "#46039f"
             ],
             [
              0.2222222222222222,
              "#7201a8"
             ],
             [
              0.3333333333333333,
              "#9c179e"
             ],
             [
              0.4444444444444444,
              "#bd3786"
             ],
             [
              0.5555555555555556,
              "#d8576b"
             ],
             [
              0.6666666666666666,
              "#ed7953"
             ],
             [
              0.7777777777777778,
              "#fb9f3a"
             ],
             [
              0.8888888888888888,
              "#fdca26"
             ],
             [
              1,
              "#f0f921"
             ]
            ],
            "type": "heatmap"
           }
          ],
          "histogram": [
           {
            "marker": {
             "pattern": {
              "fillmode": "overlay",
              "size": 10,
              "solidity": 0.2
             }
            },
            "type": "histogram"
           }
          ],
          "histogram2d": [
           {
            "colorbar": {
             "outlinewidth": 0,
             "ticks": ""
            },
            "colorscale": [
             [
              0,
              "#0d0887"
             ],
             [
              0.1111111111111111,
              "#46039f"
             ],
             [
              0.2222222222222222,
              "#7201a8"
             ],
             [
              0.3333333333333333,
              "#9c179e"
             ],
             [
              0.4444444444444444,
              "#bd3786"
             ],
             [
              0.5555555555555556,
              "#d8576b"
             ],
             [
              0.6666666666666666,
              "#ed7953"
             ],
             [
              0.7777777777777778,
              "#fb9f3a"
             ],
             [
              0.8888888888888888,
              "#fdca26"
             ],
             [
              1,
              "#f0f921"
             ]
            ],
            "type": "histogram2d"
           }
          ],
          "histogram2dcontour": [
           {
            "colorbar": {
             "outlinewidth": 0,
             "ticks": ""
            },
            "colorscale": [
             [
              0,
              "#0d0887"
             ],
             [
              0.1111111111111111,
              "#46039f"
             ],
             [
              0.2222222222222222,
              "#7201a8"
             ],
             [
              0.3333333333333333,
              "#9c179e"
             ],
             [
              0.4444444444444444,
              "#bd3786"
             ],
             [
              0.5555555555555556,
              "#d8576b"
             ],
             [
              0.6666666666666666,
              "#ed7953"
             ],
             [
              0.7777777777777778,
              "#fb9f3a"
             ],
             [
              0.8888888888888888,
              "#fdca26"
             ],
             [
              1,
              "#f0f921"
             ]
            ],
            "type": "histogram2dcontour"
           }
          ],
          "mesh3d": [
           {
            "colorbar": {
             "outlinewidth": 0,
             "ticks": ""
            },
            "type": "mesh3d"
           }
          ],
          "parcoords": [
           {
            "line": {
             "colorbar": {
              "outlinewidth": 0,
              "ticks": ""
             }
            },
            "type": "parcoords"
           }
          ],
          "pie": [
           {
            "automargin": true,
            "type": "pie"
           }
          ],
          "scatter": [
           {
            "fillpattern": {
             "fillmode": "overlay",
             "size": 10,
             "solidity": 0.2
            },
            "type": "scatter"
           }
          ],
          "scatter3d": [
           {
            "line": {
             "colorbar": {
              "outlinewidth": 0,
              "ticks": ""
             }
            },
            "marker": {
             "colorbar": {
              "outlinewidth": 0,
              "ticks": ""
             }
            },
            "type": "scatter3d"
           }
          ],
          "scattercarpet": [
           {
            "marker": {
             "colorbar": {
              "outlinewidth": 0,
              "ticks": ""
             }
            },
            "type": "scattercarpet"
           }
          ],
          "scattergeo": [
           {
            "marker": {
             "colorbar": {
              "outlinewidth": 0,
              "ticks": ""
             }
            },
            "type": "scattergeo"
           }
          ],
          "scattergl": [
           {
            "marker": {
             "colorbar": {
              "outlinewidth": 0,
              "ticks": ""
             }
            },
            "type": "scattergl"
           }
          ],
          "scattermap": [
           {
            "marker": {
             "colorbar": {
              "outlinewidth": 0,
              "ticks": ""
             }
            },
            "type": "scattermap"
           }
          ],
          "scattermapbox": [
           {
            "marker": {
             "colorbar": {
              "outlinewidth": 0,
              "ticks": ""
             }
            },
            "type": "scattermapbox"
           }
          ],
          "scatterpolar": [
           {
            "marker": {
             "colorbar": {
              "outlinewidth": 0,
              "ticks": ""
             }
            },
            "type": "scatterpolar"
           }
          ],
          "scatterpolargl": [
           {
            "marker": {
             "colorbar": {
              "outlinewidth": 0,
              "ticks": ""
             }
            },
            "type": "scatterpolargl"
           }
          ],
          "scatterternary": [
           {
            "marker": {
             "colorbar": {
              "outlinewidth": 0,
              "ticks": ""
             }
            },
            "type": "scatterternary"
           }
          ],
          "surface": [
           {
            "colorbar": {
             "outlinewidth": 0,
             "ticks": ""
            },
            "colorscale": [
             [
              0,
              "#0d0887"
             ],
             [
              0.1111111111111111,
              "#46039f"
             ],
             [
              0.2222222222222222,
              "#7201a8"
             ],
             [
              0.3333333333333333,
              "#9c179e"
             ],
             [
              0.4444444444444444,
              "#bd3786"
             ],
             [
              0.5555555555555556,
              "#d8576b"
             ],
             [
              0.6666666666666666,
              "#ed7953"
             ],
             [
              0.7777777777777778,
              "#fb9f3a"
             ],
             [
              0.8888888888888888,
              "#fdca26"
             ],
             [
              1,
              "#f0f921"
             ]
            ],
            "type": "surface"
           }
          ],
          "table": [
           {
            "cells": {
             "fill": {
              "color": "#EBF0F8"
             },
             "line": {
              "color": "white"
             }
            },
            "header": {
             "fill": {
              "color": "#C8D4E3"
             },
             "line": {
              "color": "white"
             }
            },
            "type": "table"
           }
          ]
         },
         "layout": {
          "annotationdefaults": {
           "arrowcolor": "#2a3f5f",
           "arrowhead": 0,
           "arrowwidth": 1
          },
          "autotypenumbers": "strict",
          "coloraxis": {
           "colorbar": {
            "outlinewidth": 0,
            "ticks": ""
           }
          },
          "colorscale": {
           "diverging": [
            [
             0,
             "#8e0152"
            ],
            [
             0.1,
             "#c51b7d"
            ],
            [
             0.2,
             "#de77ae"
            ],
            [
             0.3,
             "#f1b6da"
            ],
            [
             0.4,
             "#fde0ef"
            ],
            [
             0.5,
             "#f7f7f7"
            ],
            [
             0.6,
             "#e6f5d0"
            ],
            [
             0.7,
             "#b8e186"
            ],
            [
             0.8,
             "#7fbc41"
            ],
            [
             0.9,
             "#4d9221"
            ],
            [
             1,
             "#276419"
            ]
           ],
           "sequential": [
            [
             0,
             "#0d0887"
            ],
            [
             0.1111111111111111,
             "#46039f"
            ],
            [
             0.2222222222222222,
             "#7201a8"
            ],
            [
             0.3333333333333333,
             "#9c179e"
            ],
            [
             0.4444444444444444,
             "#bd3786"
            ],
            [
             0.5555555555555556,
             "#d8576b"
            ],
            [
             0.6666666666666666,
             "#ed7953"
            ],
            [
             0.7777777777777778,
             "#fb9f3a"
            ],
            [
             0.8888888888888888,
             "#fdca26"
            ],
            [
             1,
             "#f0f921"
            ]
           ],
           "sequentialminus": [
            [
             0,
             "#0d0887"
            ],
            [
             0.1111111111111111,
             "#46039f"
            ],
            [
             0.2222222222222222,
             "#7201a8"
            ],
            [
             0.3333333333333333,
             "#9c179e"
            ],
            [
             0.4444444444444444,
             "#bd3786"
            ],
            [
             0.5555555555555556,
             "#d8576b"
            ],
            [
             0.6666666666666666,
             "#ed7953"
            ],
            [
             0.7777777777777778,
             "#fb9f3a"
            ],
            [
             0.8888888888888888,
             "#fdca26"
            ],
            [
             1,
             "#f0f921"
            ]
           ]
          },
          "colorway": [
           "#636efa",
           "#EF553B",
           "#00cc96",
           "#ab63fa",
           "#FFA15A",
           "#19d3f3",
           "#FF6692",
           "#B6E880",
           "#FF97FF",
           "#FECB52"
          ],
          "font": {
           "color": "#2a3f5f"
          },
          "geo": {
           "bgcolor": "white",
           "lakecolor": "white",
           "landcolor": "#E5ECF6",
           "showlakes": true,
           "showland": true,
           "subunitcolor": "white"
          },
          "hoverlabel": {
           "align": "left"
          },
          "hovermode": "closest",
          "mapbox": {
           "style": "light"
          },
          "paper_bgcolor": "white",
          "plot_bgcolor": "#E5ECF6",
          "polar": {
           "angularaxis": {
            "gridcolor": "white",
            "linecolor": "white",
            "ticks": ""
           },
           "bgcolor": "#E5ECF6",
           "radialaxis": {
            "gridcolor": "white",
            "linecolor": "white",
            "ticks": ""
           }
          },
          "scene": {
           "xaxis": {
            "backgroundcolor": "#E5ECF6",
            "gridcolor": "white",
            "gridwidth": 2,
            "linecolor": "white",
            "showbackground": true,
            "ticks": "",
            "zerolinecolor": "white"
           },
           "yaxis": {
            "backgroundcolor": "#E5ECF6",
            "gridcolor": "white",
            "gridwidth": 2,
            "linecolor": "white",
            "showbackground": true,
            "ticks": "",
            "zerolinecolor": "white"
           },
           "zaxis": {
            "backgroundcolor": "#E5ECF6",
            "gridcolor": "white",
            "gridwidth": 2,
            "linecolor": "white",
            "showbackground": true,
            "ticks": "",
            "zerolinecolor": "white"
           }
          },
          "shapedefaults": {
           "line": {
            "color": "#2a3f5f"
           }
          },
          "ternary": {
           "aaxis": {
            "gridcolor": "white",
            "linecolor": "white",
            "ticks": ""
           },
           "baxis": {
            "gridcolor": "white",
            "linecolor": "white",
            "ticks": ""
           },
           "bgcolor": "#E5ECF6",
           "caxis": {
            "gridcolor": "white",
            "linecolor": "white",
            "ticks": ""
           }
          },
          "title": {
           "x": 0.05
          },
          "xaxis": {
           "automargin": true,
           "gridcolor": "white",
           "linecolor": "white",
           "ticks": "",
           "title": {
            "standoff": 15
           },
           "zerolinecolor": "white",
           "zerolinewidth": 2
          },
          "yaxis": {
           "automargin": true,
           "gridcolor": "white",
           "linecolor": "white",
           "ticks": "",
           "title": {
            "standoff": 15
           },
           "zerolinecolor": "white",
           "zerolinewidth": 2
          }
         }
        },
        "title": {
         "text": "Div free Matern output from GP Regression for n = 100 input vectors for current carrying wire"
        }
       }
      }
     },
     "metadata": {},
     "output_type": "display_data"
    }
   ],
   "source": [
    "plotter(outputs_wire_div_free_matern, \n",
    "        title = f'Div free Matern output from GP Regression for n = {given_samples_wire} input vectors for current carrying wire')"
   ]
  },
  {
   "cell_type": "code",
   "execution_count": 114,
   "id": "5a771a5e",
   "metadata": {},
   "outputs": [
    {
     "name": "stdout",
     "output_type": "stream",
     "text": [
      "MSE for this case of 85.14330894632346\n"
     ]
    },
    {
     "data": {
      "application/vnd.plotly.v1+json": {
       "config": {
        "plotlyServerURL": "https://plot.ly"
       },
       "data": [
        {
         "anchor": "tail",
         "sizemode": "scaled",
         "sizeref": 2,
         "type": "cone",
         "u": {
          "bdata": "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",
          "dtype": "f8"
         },
         "v": {
          "bdata": "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",
          "dtype": "f8"
         },
         "w": {
          "bdata": "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",
          "dtype": "f8"
         },
         "x": {
          "bdata": "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",
          "dtype": "f8"
         },
         "y": {
          "bdata": "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",
          "dtype": "f8"
         },
         "z": {
          "bdata": "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",
          "dtype": "f8"
         }
        }
       ],
       "layout": {
        "scene": {
         "xaxis": {
          "title": {
           "text": "X"
          }
         },
         "yaxis": {
          "title": {
           "text": "Y"
          }
         },
         "zaxis": {
          "title": {
           "text": "Z"
          }
         }
        },
        "template": {
         "data": {
          "bar": [
           {
            "error_x": {
             "color": "#2a3f5f"
            },
            "error_y": {
             "color": "#2a3f5f"
            },
            "marker": {
             "line": {
              "color": "#E5ECF6",
              "width": 0.5
             },
             "pattern": {
              "fillmode": "overlay",
              "size": 10,
              "solidity": 0.2
             }
            },
            "type": "bar"
           }
          ],
          "barpolar": [
           {
            "marker": {
             "line": {
              "color": "#E5ECF6",
              "width": 0.5
             },
             "pattern": {
              "fillmode": "overlay",
              "size": 10,
              "solidity": 0.2
             }
            },
            "type": "barpolar"
           }
          ],
          "carpet": [
           {
            "aaxis": {
             "endlinecolor": "#2a3f5f",
             "gridcolor": "white",
             "linecolor": "white",
             "minorgridcolor": "white",
             "startlinecolor": "#2a3f5f"
            },
            "baxis": {
             "endlinecolor": "#2a3f5f",
             "gridcolor": "white",
             "linecolor": "white",
             "minorgridcolor": "white",
             "startlinecolor": "#2a3f5f"
            },
            "type": "carpet"
           }
          ],
          "choropleth": [
           {
            "colorbar": {
             "outlinewidth": 0,
             "ticks": ""
            },
            "type": "choropleth"
           }
          ],
          "contour": [
           {
            "colorbar": {
             "outlinewidth": 0,
             "ticks": ""
            },
            "colorscale": [
             [
              0,
              "#0d0887"
             ],
             [
              0.1111111111111111,
              "#46039f"
             ],
             [
              0.2222222222222222,
              "#7201a8"
             ],
             [
              0.3333333333333333,
              "#9c179e"
             ],
             [
              0.4444444444444444,
              "#bd3786"
             ],
             [
              0.5555555555555556,
              "#d8576b"
             ],
             [
              0.6666666666666666,
              "#ed7953"
             ],
             [
              0.7777777777777778,
              "#fb9f3a"
             ],
             [
              0.8888888888888888,
              "#fdca26"
             ],
             [
              1,
              "#f0f921"
             ]
            ],
            "type": "contour"
           }
          ],
          "contourcarpet": [
           {
            "colorbar": {
             "outlinewidth": 0,
             "ticks": ""
            },
            "type": "contourcarpet"
           }
          ],
          "heatmap": [
           {
            "colorbar": {
             "outlinewidth": 0,
             "ticks": ""
            },
            "colorscale": [
             [
              0,
              "#0d0887"
             ],
             [
              0.1111111111111111,
              "#46039f"
             ],
             [
              0.2222222222222222,
              "#7201a8"
             ],
             [
              0.3333333333333333,
              "#9c179e"
             ],
             [
              0.4444444444444444,
              "#bd3786"
             ],
             [
              0.5555555555555556,
              "#d8576b"
             ],
             [
              0.6666666666666666,
              "#ed7953"
             ],
             [
              0.7777777777777778,
              "#fb9f3a"
             ],
             [
              0.8888888888888888,
              "#fdca26"
             ],
             [
              1,
              "#f0f921"
             ]
            ],
            "type": "heatmap"
           }
          ],
          "histogram": [
           {
            "marker": {
             "pattern": {
              "fillmode": "overlay",
              "size": 10,
              "solidity": 0.2
             }
            },
            "type": "histogram"
           }
          ],
          "histogram2d": [
           {
            "colorbar": {
             "outlinewidth": 0,
             "ticks": ""
            },
            "colorscale": [
             [
              0,
              "#0d0887"
             ],
             [
              0.1111111111111111,
              "#46039f"
             ],
             [
              0.2222222222222222,
              "#7201a8"
             ],
             [
              0.3333333333333333,
              "#9c179e"
             ],
             [
              0.4444444444444444,
              "#bd3786"
             ],
             [
              0.5555555555555556,
              "#d8576b"
             ],
             [
              0.6666666666666666,
              "#ed7953"
             ],
             [
              0.7777777777777778,
              "#fb9f3a"
             ],
             [
              0.8888888888888888,
              "#fdca26"
             ],
             [
              1,
              "#f0f921"
             ]
            ],
            "type": "histogram2d"
           }
          ],
          "histogram2dcontour": [
           {
            "colorbar": {
             "outlinewidth": 0,
             "ticks": ""
            },
            "colorscale": [
             [
              0,
              "#0d0887"
             ],
             [
              0.1111111111111111,
              "#46039f"
             ],
             [
              0.2222222222222222,
              "#7201a8"
             ],
             [
              0.3333333333333333,
              "#9c179e"
             ],
             [
              0.4444444444444444,
              "#bd3786"
             ],
             [
              0.5555555555555556,
              "#d8576b"
             ],
             [
              0.6666666666666666,
              "#ed7953"
             ],
             [
              0.7777777777777778,
              "#fb9f3a"
             ],
             [
              0.8888888888888888,
              "#fdca26"
             ],
             [
              1,
              "#f0f921"
             ]
            ],
            "type": "histogram2dcontour"
           }
          ],
          "mesh3d": [
           {
            "colorbar": {
             "outlinewidth": 0,
             "ticks": ""
            },
            "type": "mesh3d"
           }
          ],
          "parcoords": [
           {
            "line": {
             "colorbar": {
              "outlinewidth": 0,
              "ticks": ""
             }
            },
            "type": "parcoords"
           }
          ],
          "pie": [
           {
            "automargin": true,
            "type": "pie"
           }
          ],
          "scatter": [
           {
            "fillpattern": {
             "fillmode": "overlay",
             "size": 10,
             "solidity": 0.2
            },
            "type": "scatter"
           }
          ],
          "scatter3d": [
           {
            "line": {
             "colorbar": {
              "outlinewidth": 0,
              "ticks": ""
             }
            },
            "marker": {
             "colorbar": {
              "outlinewidth": 0,
              "ticks": ""
             }
            },
            "type": "scatter3d"
           }
          ],
          "scattercarpet": [
           {
            "marker": {
             "colorbar": {
              "outlinewidth": 0,
              "ticks": ""
             }
            },
            "type": "scattercarpet"
           }
          ],
          "scattergeo": [
           {
            "marker": {
             "colorbar": {
              "outlinewidth": 0,
              "ticks": ""
             }
            },
            "type": "scattergeo"
           }
          ],
          "scattergl": [
           {
            "marker": {
             "colorbar": {
              "outlinewidth": 0,
              "ticks": ""
             }
            },
            "type": "scattergl"
           }
          ],
          "scattermap": [
           {
            "marker": {
             "colorbar": {
              "outlinewidth": 0,
              "ticks": ""
             }
            },
            "type": "scattermap"
           }
          ],
          "scattermapbox": [
           {
            "marker": {
             "colorbar": {
              "outlinewidth": 0,
              "ticks": ""
             }
            },
            "type": "scattermapbox"
           }
          ],
          "scatterpolar": [
           {
            "marker": {
             "colorbar": {
              "outlinewidth": 0,
              "ticks": ""
             }
            },
            "type": "scatterpolar"
           }
          ],
          "scatterpolargl": [
           {
            "marker": {
             "colorbar": {
              "outlinewidth": 0,
              "ticks": ""
             }
            },
            "type": "scatterpolargl"
           }
          ],
          "scatterternary": [
           {
            "marker": {
             "colorbar": {
              "outlinewidth": 0,
              "ticks": ""
             }
            },
            "type": "scatterternary"
           }
          ],
          "surface": [
           {
            "colorbar": {
             "outlinewidth": 0,
             "ticks": ""
            },
            "colorscale": [
             [
              0,
              "#0d0887"
             ],
             [
              0.1111111111111111,
              "#46039f"
             ],
             [
              0.2222222222222222,
              "#7201a8"
             ],
             [
              0.3333333333333333,
              "#9c179e"
             ],
             [
              0.4444444444444444,
              "#bd3786"
             ],
             [
              0.5555555555555556,
              "#d8576b"
             ],
             [
              0.6666666666666666,
              "#ed7953"
             ],
             [
              0.7777777777777778,
              "#fb9f3a"
             ],
             [
              0.8888888888888888,
              "#fdca26"
             ],
             [
              1,
              "#f0f921"
             ]
            ],
            "type": "surface"
           }
          ],
          "table": [
           {
            "cells": {
             "fill": {
              "color": "#EBF0F8"
             },
             "line": {
              "color": "white"
             }
            },
            "header": {
             "fill": {
              "color": "#C8D4E3"
             },
             "line": {
              "color": "white"
             }
            },
            "type": "table"
           }
          ]
         },
         "layout": {
          "annotationdefaults": {
           "arrowcolor": "#2a3f5f",
           "arrowhead": 0,
           "arrowwidth": 1
          },
          "autotypenumbers": "strict",
          "coloraxis": {
           "colorbar": {
            "outlinewidth": 0,
            "ticks": ""
           }
          },
          "colorscale": {
           "diverging": [
            [
             0,
             "#8e0152"
            ],
            [
             0.1,
             "#c51b7d"
            ],
            [
             0.2,
             "#de77ae"
            ],
            [
             0.3,
             "#f1b6da"
            ],
            [
             0.4,
             "#fde0ef"
            ],
            [
             0.5,
             "#f7f7f7"
            ],
            [
             0.6,
             "#e6f5d0"
            ],
            [
             0.7,
             "#b8e186"
            ],
            [
             0.8,
             "#7fbc41"
            ],
            [
             0.9,
             "#4d9221"
            ],
            [
             1,
             "#276419"
            ]
           ],
           "sequential": [
            [
             0,
             "#0d0887"
            ],
            [
             0.1111111111111111,
             "#46039f"
            ],
            [
             0.2222222222222222,
             "#7201a8"
            ],
            [
             0.3333333333333333,
             "#9c179e"
            ],
            [
             0.4444444444444444,
             "#bd3786"
            ],
            [
             0.5555555555555556,
             "#d8576b"
            ],
            [
             0.6666666666666666,
             "#ed7953"
            ],
            [
             0.7777777777777778,
             "#fb9f3a"
            ],
            [
             0.8888888888888888,
             "#fdca26"
            ],
            [
             1,
             "#f0f921"
            ]
           ],
           "sequentialminus": [
            [
             0,
             "#0d0887"
            ],
            [
             0.1111111111111111,
             "#46039f"
            ],
            [
             0.2222222222222222,
             "#7201a8"
            ],
            [
             0.3333333333333333,
             "#9c179e"
            ],
            [
             0.4444444444444444,
             "#bd3786"
            ],
            [
             0.5555555555555556,
             "#d8576b"
            ],
            [
             0.6666666666666666,
             "#ed7953"
            ],
            [
             0.7777777777777778,
             "#fb9f3a"
            ],
            [
             0.8888888888888888,
             "#fdca26"
            ],
            [
             1,
             "#f0f921"
            ]
           ]
          },
          "colorway": [
           "#636efa",
           "#EF553B",
           "#00cc96",
           "#ab63fa",
           "#FFA15A",
           "#19d3f3",
           "#FF6692",
           "#B6E880",
           "#FF97FF",
           "#FECB52"
          ],
          "font": {
           "color": "#2a3f5f"
          },
          "geo": {
           "bgcolor": "white",
           "lakecolor": "white",
           "landcolor": "#E5ECF6",
           "showlakes": true,
           "showland": true,
           "subunitcolor": "white"
          },
          "hoverlabel": {
           "align": "left"
          },
          "hovermode": "closest",
          "mapbox": {
           "style": "light"
          },
          "paper_bgcolor": "white",
          "plot_bgcolor": "#E5ECF6",
          "polar": {
           "angularaxis": {
            "gridcolor": "white",
            "linecolor": "white",
            "ticks": ""
           },
           "bgcolor": "#E5ECF6",
           "radialaxis": {
            "gridcolor": "white",
            "linecolor": "white",
            "ticks": ""
           }
          },
          "scene": {
           "xaxis": {
            "backgroundcolor": "#E5ECF6",
            "gridcolor": "white",
            "gridwidth": 2,
            "linecolor": "white",
            "showbackground": true,
            "ticks": "",
            "zerolinecolor": "white"
           },
           "yaxis": {
            "backgroundcolor": "#E5ECF6",
            "gridcolor": "white",
            "gridwidth": 2,
            "linecolor": "white",
            "showbackground": true,
            "ticks": "",
            "zerolinecolor": "white"
           },
           "zaxis": {
            "backgroundcolor": "#E5ECF6",
            "gridcolor": "white",
            "gridwidth": 2,
            "linecolor": "white",
            "showbackground": true,
            "ticks": "",
            "zerolinecolor": "white"
           }
          },
          "shapedefaults": {
           "line": {
            "color": "#2a3f5f"
           }
          },
          "ternary": {
           "aaxis": {
            "gridcolor": "white",
            "linecolor": "white",
            "ticks": ""
           },
           "baxis": {
            "gridcolor": "white",
            "linecolor": "white",
            "ticks": ""
           },
           "bgcolor": "#E5ECF6",
           "caxis": {
            "gridcolor": "white",
            "linecolor": "white",
            "ticks": ""
           }
          },
          "title": {
           "x": 0.05
          },
          "xaxis": {
           "automargin": true,
           "gridcolor": "white",
           "linecolor": "white",
           "ticks": "",
           "title": {
            "standoff": 15
           },
           "zerolinecolor": "white",
           "zerolinewidth": 2
          },
          "yaxis": {
           "automargin": true,
           "gridcolor": "white",
           "linecolor": "white",
           "ticks": "",
           "title": {
            "standoff": 15
           },
           "zerolinecolor": "white",
           "zerolinewidth": 2
          }
         }
        },
        "title": {
         "text": "div free matern regression errors for n = 100 input vectors for current carrying wire"
        }
       }
      }
     },
     "metadata": {},
     "output_type": "display_data"
    }
   ],
   "source": [
    "# plot residuals of fit above: \n",
    "residuals_wire_div_free_matern, mse_wire_curl_free_matern = differencer(outputs_wire, outputs_wire_div_free_matern)\n",
    "print(f'MSE for this case of {mse_wire_curl_free_matern}')\n",
    "plotter(residuals_wire_div_free_matern, \n",
    "        title = f'div free matern regression errors for n = {given_samples_wire} input vectors for current carrying wire')"
   ]
  }
 ],
 "metadata": {
  "kernelspec": {
   "display_name": "env",
   "language": "python",
   "name": "python3"
  },
  "language_info": {
   "codemirror_mode": {
    "name": "ipython",
    "version": 3
   },
   "file_extension": ".py",
   "mimetype": "text/x-python",
   "name": "python",
   "nbconvert_exporter": "python",
   "pygments_lexer": "ipython3",
   "version": "3.12.0"
  }
 },
 "nbformat": 4,
 "nbformat_minor": 5
}

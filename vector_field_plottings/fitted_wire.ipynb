{
 "cells": [
  {
   "cell_type": "markdown",
   "id": "2c13ec42",
   "metadata": {},
   "source": [
    "# Gaussian Updated Fields + analytics for current carrying wire"
   ]
  },
  {
   "cell_type": "code",
   "execution_count": 1,
   "id": "be29ef2e",
   "metadata": {},
   "outputs": [],
   "source": [
    "import sys\n",
    "sys.path.append('..')"
   ]
  },
  {
   "cell_type": "code",
   "execution_count": 2,
   "id": "fbe8d646",
   "metadata": {},
   "outputs": [],
   "source": [
    "# Loading my modules\n",
    "from plotting_tools.plotter import plotter\n",
    "from plotting_tools.field_comparison import differencer\n",
    "from plotting_tools.sample_field import sample_field\n",
    "from physics_informed_vector_fields.current_carrying_wire import field_around_current_carrying_wire\n",
    "from GP_Implementation.Kernel import updated_vector_field"
   ]
  },
  {
   "cell_type": "code",
   "execution_count": 10,
   "id": "7efbb339",
   "metadata": {},
   "outputs": [
    {
     "data": {
      "application/vnd.plotly.v1+json": {
       "config": {
        "plotlyServerURL": "https://plot.ly"
       },
       "data": [
        {
         "anchor": "tail",
         "cmin": 0,
         "colorbar": {
          "len": 0.75,
          "thickness": 15,
          "x": 0.62
         },
         "sizemode": "scaled",
         "sizeref": 2,
         "type": "cone",
         "u": {
          "bdata": "M3CmNvOHL0C/j8YGEIYkQLTK2bfHw1HANye8FvHiN8CHRQLLkRAWQGZqOgbQGxtAVzuujBpSKcC/j8YGEIYkQAdnvM5cVDFA0SoiFBEH/D+0ytm3x8NRQDzTofVH+AZA3TvwlmcnE8D1/qCxWp8sQGZqOgbQGxvAD4xnYjG1HUAHyvsAnuUjQB+3yrNI8B9AzFloYhu7LEAzcKY284cvwCrGZ9LUZShA4tbCPbaUO8AzcKY284cvwDNwpjbzhy9ANr84BYR3RUC/j8YGEIYkQAfK+wCe5SNA/P6gsVqfLEDMmO32Phk0wHIxkcrAGTXAmo/Aj2fzHkA6kLfZLSwrQIZFAsuREBZAM3CmNvOHL8AzcKY284cvQPxHCvNZtizAaGo6BtAbG8ACSArzWbYsQPz+oLFanyxACGe8zlxUMUBN+TkJs2gjwMxZaGIbuyzAH7fKs0jwH8AHyvsAnuUjQB+3yrNI8B/A4tbCPbaUO8A2vzgFhHdFQNEqIhQRB/w/tMrZt8fDUcAft8qzSPAfwDqQt9ktLCtA3jvwlmcnE0A7J7wW8eI3QN478JZnJxNAPNOh9Uf4BkC0ytm3x8NRwMGPxgYQhiTAdTGRysAZNcDNmO32Phk0wAlnvM5cVDHAzFloYhu7LEBWO66MGlIpQMxZaGIbuyzAWjuujBpSKUBO+TkJs2gjQL+PxgYQhiRAOL84BYR3RcC/j8YGEIYkQODWwj22lDtAmY/Aj2fzHkAqxmfS1GUoQHIxkcrAGTXAh0UCy5EQFkDdO/CWZycTwLTK2bfHw1HA3jvwlmcnE8AHyvsAnuUjwA+MZ2IxtR1AOie8FvHiN0A7J7wW8eI3QIdFAsuREBbAhkUCy5EQFkCGRQLLkRAWwIZFAsuREBbA2yoiFBEH/L8ft8qzSPAfwDi/OAWEd0XANdOh9Uf4BkDi1sI9tpQ7wODWwj22lDtA/P6gsVqfLMC/j8YGEIYkwMuY7fY+GTRA2yoiFBEH/L/MmO32Phk0QHUxkcrAGTXAtMrZt8fDUcAzcKY284cvwIdFAsuREBbAPNOh9Uf4BsA=",
          "dtype": "f8"
         },
         "v": {
          "bdata": "3CoiFBEH/D++j8YGEIYkQLPK2bfHw1HAPCe8FvHiN8Df1sI9tpQ7wCrGZ9LUZShAczGRysAZNcC+j8YGEIYkQBCMZ2IxtR3AM3CmNvOHL8Czytm3x8NRwMuY7fY+GTTAzFloYhu7LEA2vzgFhHdFwCrGZ9LUZShACGe8zlxUMcCcj8CPZ/MewB23yrNI8B/A3TvwlmcnE0DTKiIUEQf8v2dqOgbQGxtAhEUCy5EQFsDcKiIUEQf8P9wqIhQRB/w/9v6gsVqfLMC+j8YGEIYkwJyPwI9n8x7AOL84BYR3RUA706H1R/gGQFs7rowaUinACMr7AJ7lI0BM+TkJs2gjQOLWwj22lDtA0yoiFBEH/L/TKiIUEQf8vwNICvNZtizAKsZn0tRlKMD+RwrzWbYsQDi/OAWEd0VADoxnYjG1HUA6kLfZLSwrQN078JZnJxNAHbfKs0jwH8Ccj8CPZ/MewB23yrNI8B/Ah0UCy5EQFkDz/qCxWp8sQDNwpjbzhy/As8rZt8fDUcAft8qzSPAfQEz5OQmzaCNAzFloYhu7LMA4J7wW8eI3QMxZaGIbuyzAy5jt9j4ZNMCzytm3x8NRwMGPxgYQhiRAWTuujBpSKUA006H1R/gGwA+MZ2IxtR1A3zvwlmcnE8ByMZHKwBk1wN878JZnJxPAczGRysAZNUA4kLfZLSwrQL6PxgYQhiRA+f6gsVqfLMC+j8YGEIYkQH5FAsuREBZACcr7AJ7lI8BnajoG0BsbQFs7rowaUinA39bCPbaUO8DMWWhiG7ssQLPK2bfHw1HAzFloYhu7LMCcj8CPZ/MewAhnvM5cVDFAOSe8FvHiN8A4J7wW8eI3QN/Wwj22lDvA4tbCPbaUO0Di1sI9tpQ7QOLWwj22lDtAM3CmNvOHL0Aft8qzSPAfQPn+oLFanyzAzJjt9j4ZNECHRQLLkRAWQH5FAsuREBZAOL84BYR3RUC+j8YGEIYkwDnTofVH+AZAM3CmNvOHL0Az06H1R/gGwFk7rowaUilAtMrZt8fDUUDcKiIUEQf8P9/Wwj22lDvAy5jt9j4ZNMA=",
          "dtype": "f8"
         },
         "w": {
          "bdata": "AAAAAAAAAAAAAAAAAAAAAAAAAAAAAAAAAAAAAAAAAAAAAAAAAAAAAAAAAAAAAAAAAAAAAAAAAAAAAAAAAAAAAAAAAAAAAAAAAAAAAAAAAAAAAAAAAAAAAAAAAAAAAAAAAAAAAAAAAAAAAAAAAAAAAAAAAAAAAAAAAAAAAAAAAAAAAAAAAAAAAAAAAAAAAAAAAAAAAAAAAAAAAAAAAAAAAAAAAAAAAAAAAAAAAAAAAAAAAAAAAAAAAAAAAAAAAAAAAAAAAAAAAAAAAAAAAAAAAAAAAAAAAAAAAAAAAAAAAAAAAAAAAAAAAAAAAAAAAAAAAAAAAAAAAAAAAAAAAAAAAAAAAAAAAAAAAAAAAAAAAAAAAAAAAAAAAAAAAAAAAAAAAAAAAAAAAAAAAAAAAAAAAAAAAAAAAAAAAAAAAAAAAAAAAAAAAAAAAAAAAAAAAAAAAAAAAAAAAAAAAAAAAAAAAAAAAAAAAAAAAAAAAAAAAAAAAAAAAAAAAAAAAAAAAAAAAAAAAAAAAAAAAAAAAAAAAAAAAAAAAAAAAAAAAAAAAAAAAAAAAAAAAAAAAAAAAAAAAAAAAAAAAAAAAAAAAAAAAAAAAAAAAAAAAAAAAAAAAAAAAAAAAAAAAAAAAAAAAAAAAAAAAAAAAAAAAAAAAAAAAAAAAAAAAAAAAAAAAAAAAAAAAAAAAAAAAAAAAAAAAAAAAAAAAAAAAAAAAAAAAAAAAAAAAAAAAAAAAAAAAAAAAAAAAAAAAAAAAAAAAAAAAAAAAAAAAAAAAAAAAAAAAAAAAAAAAAAAAAAAAAAAAAAAAAAAAAAAAAAAAAAAAAAAAAAAAAAAAAAAAAAAAAAAAAAAAAAAAAAAAAAAAAAAAAAAAAAAAAAAAAAAAAAAAAAAAAAAAAAAAAAAAAAAAAAAAAAAAAAAAAAAAAAAAAAAAAAAAAAAAAAAAAAAAAAAAAAAAAAAAAAAAAAAAAAAAAAAAAAAAAAAAAAAAAAAAAAAAAAAAAAAAAAAAAAAAAAAAAAAAAAAAAAAAAAAAAAAAAAAAAAAAAAAAAAAAAAAAAAAAAAAAAA=",
          "dtype": "f8"
         },
         "x": {
          "bdata": "IMdxHMdxrD84juM4juPYPyDHcRzHcay/VlVVVVVVxb9yHMdxHMfRvwAAAAAAAOA/chzHcRzH0b84juM4juPYP1ZVVVVVVcW/AAAAAAAA4L8gx3Ecx3GsvzmO4ziO49i/AAAAAAAA4D9WVVVVVVXFvwAAAAAAAOA/OY7jOI7j2L85juM4juPYvwAAAAAAAOC/VFVVVVVVxT8gx3Ecx3Gsv3Acx3Ecx9E/IMdxHMdxrL8gx3Ecx3GsPyDHcRzHcaw/IMdxHMdxrL85juM4juPYvzmO4ziO49i/VFVVVVVVxT8gx3Ecx3GsP1ZVVVVVVcW/AAAAAAAA4D9wHMdxHMfRP3Acx3Ecx9E/IMdxHMdxrL8gx3Ecx3Gsv3Icx3Ecx9G/AAAAAAAA4L9wHMdxHMfRP1RVVVVVVcU/VFVVVVVVxT84juM4juPYP1RVVVVVVcU/AAAAAAAA4L85juM4juPYvwAAAAAAAOC/IMdxHMdxrD8gx3Ecx3GsPwAAAAAAAOC/IMdxHMdxrL8AAAAAAADgP3Acx3Ecx9E/AAAAAAAA4L9UVVVVVVXFPwAAAAAAAOC/OY7jOI7j2L8gx3Ecx3GsvziO4ziO49g/VFVVVVVVxT8gx3Ecx3Gsv1RVVVVVVcU/VlVVVVVVxb9yHMdxHMfRv1ZVVVVVVcW/cBzHcRzH0T84juM4juPYPziO4ziO49g/IMdxHMdxrL84juM4juPYPyDHcRzHcaw/AAAAAAAA4L9wHMdxHMfRP1ZVVVVVVcW/chzHcRzH0b8AAAAAAADgPyDHcRzHcay/AAAAAAAA4L85juM4juPYvziO4ziO49g/VlVVVVVVxb9UVVVVVVXFP3Icx3Ecx9G/cBzHcRzH0T9wHMdxHMfRP3Acx3Ecx9E/AAAAAAAA4D8AAAAAAADgPyDHcRzHcay/OI7jOI7j2D8gx3Ecx3GsPyDHcRzHcaw/VFVVVVVVxT85juM4juPYvyDHcRzHcaw/AAAAAAAA4D8gx3Ecx3Gsv1RVVVVVVcU/IMdxHMdxrD8gx3Ecx3GsP3Icx3Ecx9G/OY7jOI7j2L8=",
          "dtype": "f8"
         },
         "y": {
          "bdata": "AAAAAAAA4L85juM4juPYvyDHcRzHcaw/VFVVVVVVxT8gx3Ecx3Gsv3Icx3Ecx9G/VFVVVVVVxT85juM4juPYvzmO4ziO49i/IMdxHMdxrL8gx3Ecx3GsvyDHcRzHcay/VFVVVVVVxT8gx3Ecx3Gsv3Acx3Ecx9E/VlVVVVVVxb8AAAAAAADgvwAAAAAAAOC/AAAAAAAA4L8AAAAAAADgPwAAAAAAAOC/cBzHcRzH0T8AAAAAAADgPwAAAAAAAOC/VlVVVVVVxb85juM4juPYvwAAAAAAAOC/IMdxHMdxrL84juM4juPYP3Acx3Ecx9E/OY7jOI7j2L85juM4juPYvyDHcRzHcay/AAAAAAAA4D8AAAAAAADgv3Acx3Ecx9E/cBzHcRzH0T9yHMdxHMfRvyDHcRzHcay/OY7jOI7j2L9wHMdxHMfRPwAAAAAAAOA/AAAAAAAA4D8AAAAAAADgvwAAAAAAAOA/cBzHcRzH0T9WVVVVVVXFvyDHcRzHcay/IMdxHMdxrD8AAAAAAADgPzmO4ziO49i/VlVVVVVVxb9WVVVVVVXFv1ZVVVVVVcW/IMdxHMdxrL8gx3Ecx3GsPziO4ziO49g/cBzHcRzH0T84juM4juPYPziO4ziO49g/AAAAAAAA4L9WVVVVVVXFvwAAAAAAAOA/VlVVVVVVxb9yHMdxHMfRvzmO4ziO49i/VFVVVVVVxT85juM4juPYv3Icx3Ecx9G/OY7jOI7j2L8AAAAAAADgv3Acx3Ecx9E/IMdxHMdxrL9UVVVVVVXFPyDHcRzHcaw/VFVVVVVVxT8AAAAAAADgP1ZVVVVVVcW/VlVVVVVVxb9WVVVVVVXFvyDHcRzHcaw/IMdxHMdxrL8gx3Ecx3GsPyDHcRzHcaw/IMdxHMdxrD8AAAAAAADgP1RVVVVVVcU/IMdxHMdxrL9wHMdxHMfRP3Icx3Ecx9G/IMdxHMdxrD84juM4juPYPzmO4ziO49i/IMdxHMdxrD85juM4juPYv3Acx3Ecx9E/IMdxHMdxrD8AAAAAAADgPyDHcRzHcaw/IMdxHMdxrD8=",
          "dtype": "f8"
         },
         "z": {
          "bdata": "cBzHcRzH0T84juM4juPYP3Icx3Ecx9G/OI7jOI7j2D9yHMdxHMfRvwAAAAAAAOA/chzHcRzH0b8AAAAAAADgvziO4ziO49g/AAAAAAAA4D9UVVVVVVXFP3Icx3Ecx9G/OI7jOI7j2D8gx3Ecx3GsPzmO4ziO49i/VlVVVVVVxb8gx3Ecx3Gsv1RVVVVVVcU/AAAAAAAA4L9UVVVVVVXFP3Icx3Ecx9G/chzHcRzH0b84juM4juPYP3Icx3Ecx9G/VlVVVVVVxb8AAAAAAADgPziO4ziO49g/cBzHcRzH0T8AAAAAAADgPyDHcRzHcay/AAAAAAAA4L84juM4juPYPyDHcRzHcay/IMdxHMdxrL8gx3Ecx3GsvyDHcRzHcay/OI7jOI7j2D85juM4juPYvyDHcRzHcay/IMdxHMdxrL9yHMdxHMfRvzmO4ziO49i/AAAAAAAA4L85juM4juPYvyDHcRzHcay/cBzHcRzH0T9wHMdxHMfRPzmO4ziO49i/VlVVVVVVxb8gx3Ecx3GsP1ZVVVVVVcW/IMdxHMdxrL8AAAAAAADgPyDHcRzHcaw/OI7jOI7j2D8gx3Ecx3GsPyDHcRzHcaw/cBzHcRzH0T9UVVVVVVXFPyDHcRzHcaw/cBzHcRzH0T84juM4juPYPyDHcRzHcaw/IMdxHMdxrL9yHMdxHMfRv3Icx3Ecx9G/IMdxHMdxrL9UVVVVVVXFPziO4ziO49g/cBzHcRzH0T8AAAAAAADgPwAAAAAAAOC/OY7jOI7j2L8gx3Ecx3Gsv3Acx3Ecx9E/IMdxHMdxrD85juM4juPYvziO4ziO49g/OY7jOI7j2L84juM4juPYPyDHcRzHcaw/chzHcRzH0b9UVVVVVVXFP3Acx3Ecx9E/OY7jOI7j2L9yHMdxHMfRv1ZVVVVVVcW/VlVVVVVVxb9WVVVVVVXFv3Acx3Ecx9E/IMdxHMdxrL8AAAAAAADgP3Acx3Ecx9E/VFVVVVVVxT8gx3Ecx3GsvzmO4ziO49i/AAAAAAAA4D9WVVVVVVXFvziO4ziO49g/IMdxHMdxrL8=",
          "dtype": "f8"
         }
        }
       ],
       "layout": {
        "scene": {
         "camera": {
          "eye": {
           "x": 1.3,
           "y": 1.3,
           "z": 1.3
          }
         },
         "xaxis": {
          "showbackground": false,
          "title": {
           "text": "X"
          }
         },
         "yaxis": {
          "showbackground": false,
          "title": {
           "text": "Y"
          }
         },
         "zaxis": {
          "showbackground": false,
          "title": {
           "text": "Z"
          }
         }
        },
        "template": {
         "data": {
          "bar": [
           {
            "error_x": {
             "color": "#2a3f5f"
            },
            "error_y": {
             "color": "#2a3f5f"
            },
            "marker": {
             "line": {
              "color": "#E5ECF6",
              "width": 0.5
             },
             "pattern": {
              "fillmode": "overlay",
              "size": 10,
              "solidity": 0.2
             }
            },
            "type": "bar"
           }
          ],
          "barpolar": [
           {
            "marker": {
             "line": {
              "color": "#E5ECF6",
              "width": 0.5
             },
             "pattern": {
              "fillmode": "overlay",
              "size": 10,
              "solidity": 0.2
             }
            },
            "type": "barpolar"
           }
          ],
          "carpet": [
           {
            "aaxis": {
             "endlinecolor": "#2a3f5f",
             "gridcolor": "white",
             "linecolor": "white",
             "minorgridcolor": "white",
             "startlinecolor": "#2a3f5f"
            },
            "baxis": {
             "endlinecolor": "#2a3f5f",
             "gridcolor": "white",
             "linecolor": "white",
             "minorgridcolor": "white",
             "startlinecolor": "#2a3f5f"
            },
            "type": "carpet"
           }
          ],
          "choropleth": [
           {
            "colorbar": {
             "outlinewidth": 0,
             "ticks": ""
            },
            "type": "choropleth"
           }
          ],
          "contour": [
           {
            "colorbar": {
             "outlinewidth": 0,
             "ticks": ""
            },
            "colorscale": [
             [
              0,
              "#0d0887"
             ],
             [
              0.1111111111111111,
              "#46039f"
             ],
             [
              0.2222222222222222,
              "#7201a8"
             ],
             [
              0.3333333333333333,
              "#9c179e"
             ],
             [
              0.4444444444444444,
              "#bd3786"
             ],
             [
              0.5555555555555556,
              "#d8576b"
             ],
             [
              0.6666666666666666,
              "#ed7953"
             ],
             [
              0.7777777777777778,
              "#fb9f3a"
             ],
             [
              0.8888888888888888,
              "#fdca26"
             ],
             [
              1,
              "#f0f921"
             ]
            ],
            "type": "contour"
           }
          ],
          "contourcarpet": [
           {
            "colorbar": {
             "outlinewidth": 0,
             "ticks": ""
            },
            "type": "contourcarpet"
           }
          ],
          "heatmap": [
           {
            "colorbar": {
             "outlinewidth": 0,
             "ticks": ""
            },
            "colorscale": [
             [
              0,
              "#0d0887"
             ],
             [
              0.1111111111111111,
              "#46039f"
             ],
             [
              0.2222222222222222,
              "#7201a8"
             ],
             [
              0.3333333333333333,
              "#9c179e"
             ],
             [
              0.4444444444444444,
              "#bd3786"
             ],
             [
              0.5555555555555556,
              "#d8576b"
             ],
             [
              0.6666666666666666,
              "#ed7953"
             ],
             [
              0.7777777777777778,
              "#fb9f3a"
             ],
             [
              0.8888888888888888,
              "#fdca26"
             ],
             [
              1,
              "#f0f921"
             ]
            ],
            "type": "heatmap"
           }
          ],
          "histogram": [
           {
            "marker": {
             "pattern": {
              "fillmode": "overlay",
              "size": 10,
              "solidity": 0.2
             }
            },
            "type": "histogram"
           }
          ],
          "histogram2d": [
           {
            "colorbar": {
             "outlinewidth": 0,
             "ticks": ""
            },
            "colorscale": [
             [
              0,
              "#0d0887"
             ],
             [
              0.1111111111111111,
              "#46039f"
             ],
             [
              0.2222222222222222,
              "#7201a8"
             ],
             [
              0.3333333333333333,
              "#9c179e"
             ],
             [
              0.4444444444444444,
              "#bd3786"
             ],
             [
              0.5555555555555556,
              "#d8576b"
             ],
             [
              0.6666666666666666,
              "#ed7953"
             ],
             [
              0.7777777777777778,
              "#fb9f3a"
             ],
             [
              0.8888888888888888,
              "#fdca26"
             ],
             [
              1,
              "#f0f921"
             ]
            ],
            "type": "histogram2d"
           }
          ],
          "histogram2dcontour": [
           {
            "colorbar": {
             "outlinewidth": 0,
             "ticks": ""
            },
            "colorscale": [
             [
              0,
              "#0d0887"
             ],
             [
              0.1111111111111111,
              "#46039f"
             ],
             [
              0.2222222222222222,
              "#7201a8"
             ],
             [
              0.3333333333333333,
              "#9c179e"
             ],
             [
              0.4444444444444444,
              "#bd3786"
             ],
             [
              0.5555555555555556,
              "#d8576b"
             ],
             [
              0.6666666666666666,
              "#ed7953"
             ],
             [
              0.7777777777777778,
              "#fb9f3a"
             ],
             [
              0.8888888888888888,
              "#fdca26"
             ],
             [
              1,
              "#f0f921"
             ]
            ],
            "type": "histogram2dcontour"
           }
          ],
          "mesh3d": [
           {
            "colorbar": {
             "outlinewidth": 0,
             "ticks": ""
            },
            "type": "mesh3d"
           }
          ],
          "parcoords": [
           {
            "line": {
             "colorbar": {
              "outlinewidth": 0,
              "ticks": ""
             }
            },
            "type": "parcoords"
           }
          ],
          "pie": [
           {
            "automargin": true,
            "type": "pie"
           }
          ],
          "scatter": [
           {
            "fillpattern": {
             "fillmode": "overlay",
             "size": 10,
             "solidity": 0.2
            },
            "type": "scatter"
           }
          ],
          "scatter3d": [
           {
            "line": {
             "colorbar": {
              "outlinewidth": 0,
              "ticks": ""
             }
            },
            "marker": {
             "colorbar": {
              "outlinewidth": 0,
              "ticks": ""
             }
            },
            "type": "scatter3d"
           }
          ],
          "scattercarpet": [
           {
            "marker": {
             "colorbar": {
              "outlinewidth": 0,
              "ticks": ""
             }
            },
            "type": "scattercarpet"
           }
          ],
          "scattergeo": [
           {
            "marker": {
             "colorbar": {
              "outlinewidth": 0,
              "ticks": ""
             }
            },
            "type": "scattergeo"
           }
          ],
          "scattergl": [
           {
            "marker": {
             "colorbar": {
              "outlinewidth": 0,
              "ticks": ""
             }
            },
            "type": "scattergl"
           }
          ],
          "scattermap": [
           {
            "marker": {
             "colorbar": {
              "outlinewidth": 0,
              "ticks": ""
             }
            },
            "type": "scattermap"
           }
          ],
          "scattermapbox": [
           {
            "marker": {
             "colorbar": {
              "outlinewidth": 0,
              "ticks": ""
             }
            },
            "type": "scattermapbox"
           }
          ],
          "scatterpolar": [
           {
            "marker": {
             "colorbar": {
              "outlinewidth": 0,
              "ticks": ""
             }
            },
            "type": "scatterpolar"
           }
          ],
          "scatterpolargl": [
           {
            "marker": {
             "colorbar": {
              "outlinewidth": 0,
              "ticks": ""
             }
            },
            "type": "scatterpolargl"
           }
          ],
          "scatterternary": [
           {
            "marker": {
             "colorbar": {
              "outlinewidth": 0,
              "ticks": ""
             }
            },
            "type": "scatterternary"
           }
          ],
          "surface": [
           {
            "colorbar": {
             "outlinewidth": 0,
             "ticks": ""
            },
            "colorscale": [
             [
              0,
              "#0d0887"
             ],
             [
              0.1111111111111111,
              "#46039f"
             ],
             [
              0.2222222222222222,
              "#7201a8"
             ],
             [
              0.3333333333333333,
              "#9c179e"
             ],
             [
              0.4444444444444444,
              "#bd3786"
             ],
             [
              0.5555555555555556,
              "#d8576b"
             ],
             [
              0.6666666666666666,
              "#ed7953"
             ],
             [
              0.7777777777777778,
              "#fb9f3a"
             ],
             [
              0.8888888888888888,
              "#fdca26"
             ],
             [
              1,
              "#f0f921"
             ]
            ],
            "type": "surface"
           }
          ],
          "table": [
           {
            "cells": {
             "fill": {
              "color": "#EBF0F8"
             },
             "line": {
              "color": "white"
             }
            },
            "header": {
             "fill": {
              "color": "#C8D4E3"
             },
             "line": {
              "color": "white"
             }
            },
            "type": "table"
           }
          ]
         },
         "layout": {
          "annotationdefaults": {
           "arrowcolor": "#2a3f5f",
           "arrowhead": 0,
           "arrowwidth": 1
          },
          "autotypenumbers": "strict",
          "coloraxis": {
           "colorbar": {
            "outlinewidth": 0,
            "ticks": ""
           }
          },
          "colorscale": {
           "diverging": [
            [
             0,
             "#8e0152"
            ],
            [
             0.1,
             "#c51b7d"
            ],
            [
             0.2,
             "#de77ae"
            ],
            [
             0.3,
             "#f1b6da"
            ],
            [
             0.4,
             "#fde0ef"
            ],
            [
             0.5,
             "#f7f7f7"
            ],
            [
             0.6,
             "#e6f5d0"
            ],
            [
             0.7,
             "#b8e186"
            ],
            [
             0.8,
             "#7fbc41"
            ],
            [
             0.9,
             "#4d9221"
            ],
            [
             1,
             "#276419"
            ]
           ],
           "sequential": [
            [
             0,
             "#0d0887"
            ],
            [
             0.1111111111111111,
             "#46039f"
            ],
            [
             0.2222222222222222,
             "#7201a8"
            ],
            [
             0.3333333333333333,
             "#9c179e"
            ],
            [
             0.4444444444444444,
             "#bd3786"
            ],
            [
             0.5555555555555556,
             "#d8576b"
            ],
            [
             0.6666666666666666,
             "#ed7953"
            ],
            [
             0.7777777777777778,
             "#fb9f3a"
            ],
            [
             0.8888888888888888,
             "#fdca26"
            ],
            [
             1,
             "#f0f921"
            ]
           ],
           "sequentialminus": [
            [
             0,
             "#0d0887"
            ],
            [
             0.1111111111111111,
             "#46039f"
            ],
            [
             0.2222222222222222,
             "#7201a8"
            ],
            [
             0.3333333333333333,
             "#9c179e"
            ],
            [
             0.4444444444444444,
             "#bd3786"
            ],
            [
             0.5555555555555556,
             "#d8576b"
            ],
            [
             0.6666666666666666,
             "#ed7953"
            ],
            [
             0.7777777777777778,
             "#fb9f3a"
            ],
            [
             0.8888888888888888,
             "#fdca26"
            ],
            [
             1,
             "#f0f921"
            ]
           ]
          },
          "colorway": [
           "#636efa",
           "#EF553B",
           "#00cc96",
           "#ab63fa",
           "#FFA15A",
           "#19d3f3",
           "#FF6692",
           "#B6E880",
           "#FF97FF",
           "#FECB52"
          ],
          "font": {
           "color": "#2a3f5f"
          },
          "geo": {
           "bgcolor": "white",
           "lakecolor": "white",
           "landcolor": "#E5ECF6",
           "showlakes": true,
           "showland": true,
           "subunitcolor": "white"
          },
          "hoverlabel": {
           "align": "left"
          },
          "hovermode": "closest",
          "mapbox": {
           "style": "light"
          },
          "paper_bgcolor": "white",
          "plot_bgcolor": "#E5ECF6",
          "polar": {
           "angularaxis": {
            "gridcolor": "white",
            "linecolor": "white",
            "ticks": ""
           },
           "bgcolor": "#E5ECF6",
           "radialaxis": {
            "gridcolor": "white",
            "linecolor": "white",
            "ticks": ""
           }
          },
          "scene": {
           "xaxis": {
            "backgroundcolor": "#E5ECF6",
            "gridcolor": "white",
            "gridwidth": 2,
            "linecolor": "white",
            "showbackground": true,
            "ticks": "",
            "zerolinecolor": "white"
           },
           "yaxis": {
            "backgroundcolor": "#E5ECF6",
            "gridcolor": "white",
            "gridwidth": 2,
            "linecolor": "white",
            "showbackground": true,
            "ticks": "",
            "zerolinecolor": "white"
           },
           "zaxis": {
            "backgroundcolor": "#E5ECF6",
            "gridcolor": "white",
            "gridwidth": 2,
            "linecolor": "white",
            "showbackground": true,
            "ticks": "",
            "zerolinecolor": "white"
           }
          },
          "shapedefaults": {
           "line": {
            "color": "#2a3f5f"
           }
          },
          "ternary": {
           "aaxis": {
            "gridcolor": "white",
            "linecolor": "white",
            "ticks": ""
           },
           "baxis": {
            "gridcolor": "white",
            "linecolor": "white",
            "ticks": ""
           },
           "bgcolor": "#E5ECF6",
           "caxis": {
            "gridcolor": "white",
            "linecolor": "white",
            "ticks": ""
           }
          },
          "title": {
           "x": 0.05
          },
          "xaxis": {
           "automargin": true,
           "gridcolor": "white",
           "linecolor": "white",
           "ticks": "",
           "title": {
            "standoff": 15
           },
           "zerolinecolor": "white",
           "zerolinewidth": 2
          },
          "yaxis": {
           "automargin": true,
           "gridcolor": "white",
           "linecolor": "white",
           "ticks": "",
           "title": {
            "standoff": 15
           },
           "zerolinecolor": "white",
           "zerolinewidth": 2
          }
         }
        },
        "title": {
         "font": {
          "size": 20
         },
         "text": "Points given to our GP Regressor for current carrying wire",
         "x": 0.5,
         "xanchor": "center",
         "y": 0.75
        }
       }
      }
     },
     "metadata": {},
     "output_type": "display_data"
    }
   ],
   "source": [
    "# getting the fields to draw samples from\n",
    "outputs_wire = field_around_current_carrying_wire(40000000, resolution=10)\n",
    "sampled_outputs_wire = sample_field(outputs_wire, n_samples=100, random_seed=1)\n",
    "plotter(sampled_outputs_wire, \n",
    "        title = 'Points given to our GP Regressor for current carrying wire')"
   ]
  },
  {
   "cell_type": "markdown",
   "id": "e9a0412d",
   "metadata": {},
   "source": [
    "## Applying GP Regression to Current Carrying Wire"
   ]
  },
  {
   "cell_type": "code",
   "execution_count": 11,
   "id": "129904d9",
   "metadata": {},
   "outputs": [
    {
     "name": "stdout",
     "output_type": "stream",
     "text": [
      "Parameters for sigma_f and l specified, using these.\n"
     ]
    }
   ],
   "source": [
    "# Divergence free attempt\n",
    "outputs_wire_div_free= updated_vector_field(\n",
    "    sampled_outputs_wire, \n",
    "    outputs_wire[0], outputs_wire[1], outputs_wire[2], \n",
    "    kernel_func='divergence_free_kernel', \n",
    "    sigma_f= 0.005, l = 0.8)\n",
    "\n",
    "\n",
    "# from giving the code a large number of samples, the optimum \n",
    "# parameters seem to be about: sigma_f = 0.1, l = 1.2323 (this is from mle and it works poorly)\n",
    "# sigma_f = 0.005, l = 0.8 seem to work okay "
   ]
  },
  {
   "cell_type": "code",
   "execution_count": 17,
   "id": "1517847b",
   "metadata": {},
   "outputs": [
    {
     "data": {
      "application/vnd.plotly.v1+json": {
       "config": {
        "plotlyServerURL": "https://plot.ly"
       },
       "data": [
        {
         "anchor": "tail",
         "cmin": 0,
         "colorbar": {
          "len": 0.75,
          "thickness": 15,
          "x": 0.62
         },
         "sizemode": "scaled",
         "sizeref": 2,
         "type": "cone",
         "u": {
          "bdata": "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",
          "dtype": "f8"
         },
         "v": {
          "bdata": "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",
          "dtype": "f8"
         },
         "w": {
          "bdata": "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",
          "dtype": "f8"
         },
         "x": {
          "bdata": "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",
          "dtype": "f8"
         },
         "y": {
          "bdata": "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",
          "dtype": "f8"
         },
         "z": {
          "bdata": "AAAAAAAA4L85juM4juPYv3Icx3Ecx9G/VlVVVVVVxb8gx3Ecx3GsvyDHcRzHcaw/VFVVVVVVxT9wHMdxHMfRPziO4ziO49g/AAAAAAAA4D8AAAAAAADgvzmO4ziO49i/chzHcRzH0b9WVVVVVVXFvyDHcRzHcay/IMdxHMdxrD9UVVVVVVXFP3Acx3Ecx9E/OI7jOI7j2D8AAAAAAADgPwAAAAAAAOC/OY7jOI7j2L9yHMdxHMfRv1ZVVVVVVcW/IMdxHMdxrL8gx3Ecx3GsP1RVVVVVVcU/cBzHcRzH0T84juM4juPYPwAAAAAAAOA/AAAAAAAA4L85juM4juPYv3Icx3Ecx9G/VlVVVVVVxb8gx3Ecx3GsvyDHcRzHcaw/VFVVVVVVxT9wHMdxHMfRPziO4ziO49g/AAAAAAAA4D8AAAAAAADgvzmO4ziO49i/chzHcRzH0b9WVVVVVVXFvyDHcRzHcay/IMdxHMdxrD9UVVVVVVXFP3Acx3Ecx9E/OI7jOI7j2D8AAAAAAADgPwAAAAAAAOC/OY7jOI7j2L9yHMdxHMfRv1ZVVVVVVcW/IMdxHMdxrL8gx3Ecx3GsP1RVVVVVVcU/cBzHcRzH0T84juM4juPYPwAAAAAAAOA/AAAAAAAA4L85juM4juPYv3Icx3Ecx9G/VlVVVVVVxb8gx3Ecx3GsvyDHcRzHcaw/VFVVVVVVxT9wHMdxHMfRPziO4ziO49g/AAAAAAAA4D8AAAAAAADgvzmO4ziO49i/chzHcRzH0b9WVVVVVVXFvyDHcRzHcay/IMdxHMdxrD9UVVVVVVXFP3Acx3Ecx9E/OI7jOI7j2D8AAAAAAADgPwAAAAAAAOC/OY7jOI7j2L9yHMdxHMfRv1ZVVVVVVcW/IMdxHMdxrL8gx3Ecx3GsP1RVVVVVVcU/cBzHcRzH0T84juM4juPYPwAAAAAAAOA/AAAAAAAA4L85juM4juPYv3Icx3Ecx9G/VlVVVVVVxb8gx3Ecx3GsvyDHcRzHcaw/VFVVVVVVxT9wHMdxHMfRPziO4ziO49g/AAAAAAAA4D8AAAAAAADgvzmO4ziO49i/chzHcRzH0b9WVVVVVVXFvyDHcRzHcay/IMdxHMdxrD9UVVVVVVXFP3Acx3Ecx9E/OI7jOI7j2D8AAAAAAADgPwAAAAAAAOC/OY7jOI7j2L9yHMdxHMfRv1ZVVVVVVcW/IMdxHMdxrL8gx3Ecx3GsP1RVVVVVVcU/cBzHcRzH0T84juM4juPYPwAAAAAAAOA/AAAAAAAA4L85juM4juPYv3Icx3Ecx9G/VlVVVVVVxb8gx3Ecx3GsvyDHcRzHcaw/VFVVVVVVxT9wHMdxHMfRPziO4ziO49g/AAAAAAAA4D8AAAAAAADgvzmO4ziO49i/chzHcRzH0b9WVVVVVVXFvyDHcRzHcay/IMdxHMdxrD9UVVVVVVXFP3Acx3Ecx9E/OI7jOI7j2D8AAAAAAADgPwAAAAAAAOC/OY7jOI7j2L9yHMdxHMfRv1ZVVVVVVcW/IMdxHMdxrL8gx3Ecx3GsP1RVVVVVVcU/cBzHcRzH0T84juM4juPYPwAAAAAAAOA/AAAAAAAA4L85juM4juPYv3Icx3Ecx9G/VlVVVVVVxb8gx3Ecx3GsvyDHcRzHcaw/VFVVVVVVxT9wHMdxHMfRPziO4ziO49g/AAAAAAAA4D8AAAAAAADgvzmO4ziO49i/chzHcRzH0b9WVVVVVVXFvyDHcRzHcay/IMdxHMdxrD9UVVVVVVXFP3Acx3Ecx9E/OI7jOI7j2D8AAAAAAADgPwAAAAAAAOC/OY7jOI7j2L9yHMdxHMfRv1ZVVVVVVcW/IMdxHMdxrL8gx3Ecx3GsP1RVVVVVVcU/cBzHcRzH0T84juM4juPYPwAAAAAAAOA/AAAAAAAA4L85juM4juPYv3Icx3Ecx9G/VlVVVVVVxb8gx3Ecx3GsvyDHcRzHcaw/VFVVVVVVxT9wHMdxHMfRPziO4ziO49g/AAAAAAAA4D8AAAAAAADgvzmO4ziO49i/chzHcRzH0b9WVVVVVVXFvyDHcRzHcay/IMdxHMdxrD9UVVVVVVXFP3Acx3Ecx9E/OI7jOI7j2D8AAAAAAADgPwAAAAAAAOC/OY7jOI7j2L9yHMdxHMfRv1ZVVVVVVcW/IMdxHMdxrL8gx3Ecx3GsP1RVVVVVVcU/cBzHcRzH0T84juM4juPYPwAAAAAAAOA/AAAAAAAA4L85juM4juPYv3Icx3Ecx9G/VlVVVVVVxb8gx3Ecx3GsvyDHcRzHcaw/VFVVVVVVxT9wHMdxHMfRPziO4ziO49g/AAAAAAAA4D8AAAAAAADgvzmO4ziO49i/chzHcRzH0b9WVVVVVVXFvyDHcRzHcay/IMdxHMdxrD9UVVVVVVXFP3Acx3Ecx9E/OI7jOI7j2D8AAAAAAADgPwAAAAAAAOC/OY7jOI7j2L9yHMdxHMfRv1ZVVVVVVcW/IMdxHMdxrL8gx3Ecx3GsP1RVVVVVVcU/cBzHcRzH0T84juM4juPYPwAAAAAAAOA/AAAAAAAA4L85juM4juPYv3Icx3Ecx9G/VlVVVVVVxb8gx3Ecx3GsvyDHcRzHcaw/VFVVVVVVxT9wHMdxHMfRPziO4ziO49g/AAAAAAAA4D8AAAAAAADgvzmO4ziO49i/chzHcRzH0b9WVVVVVVXFvyDHcRzHcay/IMdxHMdxrD9UVVVVVVXFP3Acx3Ecx9E/OI7jOI7j2D8AAAAAAADgPwAAAAAAAOC/OY7jOI7j2L9yHMdxHMfRv1ZVVVVVVcW/IMdxHMdxrL8gx3Ecx3GsP1RVVVVVVcU/cBzHcRzH0T84juM4juPYPwAAAAAAAOA/AAAAAAAA4L85juM4juPYv3Icx3Ecx9G/VlVVVVVVxb8gx3Ecx3GsvyDHcRzHcaw/VFVVVVVVxT9wHMdxHMfRPziO4ziO49g/AAAAAAAA4D8AAAAAAADgvzmO4ziO49i/chzHcRzH0b9WVVVVVVXFvyDHcRzHcay/IMdxHMdxrD9UVVVVVVXFP3Acx3Ecx9E/OI7jOI7j2D8AAAAAAADgPwAAAAAAAOC/OY7jOI7j2L9yHMdxHMfRv1ZVVVVVVcW/IMdxHMdxrL8gx3Ecx3GsP1RVVVVVVcU/cBzHcRzH0T84juM4juPYPwAAAAAAAOA/AAAAAAAA4L85juM4juPYv3Icx3Ecx9G/VlVVVVVVxb8gx3Ecx3GsvyDHcRzHcaw/VFVVVVVVxT9wHMdxHMfRPziO4ziO49g/AAAAAAAA4D8AAAAAAADgvzmO4ziO49i/chzHcRzH0b9WVVVVVVXFvyDHcRzHcay/IMdxHMdxrD9UVVVVVVXFP3Acx3Ecx9E/OI7jOI7j2D8AAAAAAADgPwAAAAAAAOC/OY7jOI7j2L9yHMdxHMfRv1ZVVVVVVcW/IMdxHMdxrL8gx3Ecx3GsP1RVVVVVVcU/cBzHcRzH0T84juM4juPYPwAAAAAAAOA/AAAAAAAA4L85juM4juPYv3Icx3Ecx9G/VlVVVVVVxb8gx3Ecx3GsvyDHcRzHcaw/VFVVVVVVxT9wHMdxHMfRPziO4ziO49g/AAAAAAAA4D8AAAAAAADgvzmO4ziO49i/chzHcRzH0b9WVVVVVVXFvyDHcRzHcay/IMdxHMdxrD9UVVVVVVXFP3Acx3Ecx9E/OI7jOI7j2D8AAAAAAADgPwAAAAAAAOC/OY7jOI7j2L9yHMdxHMfRv1ZVVVVVVcW/IMdxHMdxrL8gx3Ecx3GsP1RVVVVVVcU/cBzHcRzH0T84juM4juPYPwAAAAAAAOA/AAAAAAAA4L85juM4juPYv3Icx3Ecx9G/VlVVVVVVxb8gx3Ecx3GsvyDHcRzHcaw/VFVVVVVVxT9wHMdxHMfRPziO4ziO49g/AAAAAAAA4D8AAAAAAADgvzmO4ziO49i/chzHcRzH0b9WVVVVVVXFvyDHcRzHcay/IMdxHMdxrD9UVVVVVVXFP3Acx3Ecx9E/OI7jOI7j2D8AAAAAAADgPwAAAAAAAOC/OY7jOI7j2L9yHMdxHMfRv1ZVVVVVVcW/IMdxHMdxrL8gx3Ecx3GsP1RVVVVVVcU/cBzHcRzH0T84juM4juPYPwAAAAAAAOA/AAAAAAAA4L85juM4juPYv3Icx3Ecx9G/VlVVVVVVxb8gx3Ecx3GsvyDHcRzHcaw/VFVVVVVVxT9wHMdxHMfRPziO4ziO49g/AAAAAAAA4D8AAAAAAADgvzmO4ziO49i/chzHcRzH0b9WVVVVVVXFvyDHcRzHcay/IMdxHMdxrD9UVVVVVVXFP3Acx3Ecx9E/OI7jOI7j2D8AAAAAAADgPwAAAAAAAOC/OY7jOI7j2L9yHMdxHMfRv1ZVVVVVVcW/IMdxHMdxrL8gx3Ecx3GsP1RVVVVVVcU/cBzHcRzH0T84juM4juPYPwAAAAAAAOA/AAAAAAAA4L85juM4juPYv3Icx3Ecx9G/VlVVVVVVxb8gx3Ecx3GsvyDHcRzHcaw/VFVVVVVVxT9wHMdxHMfRPziO4ziO49g/AAAAAAAA4D8AAAAAAADgvzmO4ziO49i/chzHcRzH0b9WVVVVVVXFvyDHcRzHcay/IMdxHMdxrD9UVVVVVVXFP3Acx3Ecx9E/OI7jOI7j2D8AAAAAAADgPwAAAAAAAOC/OY7jOI7j2L9yHMdxHMfRv1ZVVVVVVcW/IMdxHMdxrL8gx3Ecx3GsP1RVVVVVVcU/cBzHcRzH0T84juM4juPYPwAAAAAAAOA/AAAAAAAA4L85juM4juPYv3Icx3Ecx9G/VlVVVVVVxb8gx3Ecx3GsvyDHcRzHcaw/VFVVVVVVxT9wHMdxHMfRPziO4ziO49g/AAAAAAAA4D8AAAAAAADgvzmO4ziO49i/chzHcRzH0b9WVVVVVVXFvyDHcRzHcay/IMdxHMdxrD9UVVVVVVXFP3Acx3Ecx9E/OI7jOI7j2D8AAAAAAADgPwAAAAAAAOC/OY7jOI7j2L9yHMdxHMfRv1ZVVVVVVcW/IMdxHMdxrL8gx3Ecx3GsP1RVVVVVVcU/cBzHcRzH0T84juM4juPYPwAAAAAAAOA/AAAAAAAA4L85juM4juPYv3Icx3Ecx9G/VlVVVVVVxb8gx3Ecx3GsvyDHcRzHcaw/VFVVVVVVxT9wHMdxHMfRPziO4ziO49g/AAAAAAAA4D8AAAAAAADgvzmO4ziO49i/chzHcRzH0b9WVVVVVVXFvyDHcRzHcay/IMdxHMdxrD9UVVVVVVXFP3Acx3Ecx9E/OI7jOI7j2D8AAAAAAADgPwAAAAAAAOC/OY7jOI7j2L9yHMdxHMfRv1ZVVVVVVcW/IMdxHMdxrL8gx3Ecx3GsP1RVVVVVVcU/cBzHcRzH0T84juM4juPYPwAAAAAAAOA/AAAAAAAA4L85juM4juPYv3Icx3Ecx9G/VlVVVVVVxb8gx3Ecx3GsvyDHcRzHcaw/VFVVVVVVxT9wHMdxHMfRPziO4ziO49g/AAAAAAAA4D8AAAAAAADgvzmO4ziO49i/chzHcRzH0b9WVVVVVVXFvyDHcRzHcay/IMdxHMdxrD9UVVVVVVXFP3Acx3Ecx9E/OI7jOI7j2D8AAAAAAADgPwAAAAAAAOC/OY7jOI7j2L9yHMdxHMfRv1ZVVVVVVcW/IMdxHMdxrL8gx3Ecx3GsP1RVVVVVVcU/cBzHcRzH0T84juM4juPYPwAAAAAAAOA/AAAAAAAA4L85juM4juPYv3Icx3Ecx9G/VlVVVVVVxb8gx3Ecx3GsvyDHcRzHcaw/VFVVVVVVxT9wHMdxHMfRPziO4ziO49g/AAAAAAAA4D8AAAAAAADgvzmO4ziO49i/chzHcRzH0b9WVVVVVVXFvyDHcRzHcay/IMdxHMdxrD9UVVVVVVXFP3Acx3Ecx9E/OI7jOI7j2D8AAAAAAADgPwAAAAAAAOC/OY7jOI7j2L9yHMdxHMfRv1ZVVVVVVcW/IMdxHMdxrL8gx3Ecx3GsP1RVVVVVVcU/cBzHcRzH0T84juM4juPYPwAAAAAAAOA/AAAAAAAA4L85juM4juPYv3Icx3Ecx9G/VlVVVVVVxb8gx3Ecx3GsvyDHcRzHcaw/VFVVVVVVxT9wHMdxHMfRPziO4ziO49g/AAAAAAAA4D8AAAAAAADgvzmO4ziO49i/chzHcRzH0b9WVVVVVVXFvyDHcRzHcay/IMdxHMdxrD9UVVVVVVXFP3Acx3Ecx9E/OI7jOI7j2D8AAAAAAADgPwAAAAAAAOC/OY7jOI7j2L9yHMdxHMfRv1ZVVVVVVcW/IMdxHMdxrL8gx3Ecx3GsP1RVVVVVVcU/cBzHcRzH0T84juM4juPYPwAAAAAAAOA/AAAAAAAA4L85juM4juPYv3Icx3Ecx9G/VlVVVVVVxb8gx3Ecx3GsvyDHcRzHcaw/VFVVVVVVxT9wHMdxHMfRPziO4ziO49g/AAAAAAAA4D8AAAAAAADgvzmO4ziO49i/chzHcRzH0b9WVVVVVVXFvyDHcRzHcay/IMdxHMdxrD9UVVVVVVXFP3Acx3Ecx9E/OI7jOI7j2D8AAAAAAADgPwAAAAAAAOC/OY7jOI7j2L9yHMdxHMfRv1ZVVVVVVcW/IMdxHMdxrL8gx3Ecx3GsP1RVVVVVVcU/cBzHcRzH0T84juM4juPYPwAAAAAAAOA/AAAAAAAA4L85juM4juPYv3Icx3Ecx9G/VlVVVVVVxb8gx3Ecx3GsvyDHcRzHcaw/VFVVVVVVxT9wHMdxHMfRPziO4ziO49g/AAAAAAAA4D8AAAAAAADgvzmO4ziO49i/chzHcRzH0b9WVVVVVVXFvyDHcRzHcay/IMdxHMdxrD9UVVVVVVXFP3Acx3Ecx9E/OI7jOI7j2D8AAAAAAADgPwAAAAAAAOC/OY7jOI7j2L9yHMdxHMfRv1ZVVVVVVcW/IMdxHMdxrL8gx3Ecx3GsP1RVVVVVVcU/cBzHcRzH0T84juM4juPYPwAAAAAAAOA/AAAAAAAA4L85juM4juPYv3Icx3Ecx9G/VlVVVVVVxb8gx3Ecx3GsvyDHcRzHcaw/VFVVVVVVxT9wHMdxHMfRPziO4ziO49g/AAAAAAAA4D8AAAAAAADgvzmO4ziO49i/chzHcRzH0b9WVVVVVVXFvyDHcRzHcay/IMdxHMdxrD9UVVVVVVXFP3Acx3Ecx9E/OI7jOI7j2D8AAAAAAADgPwAAAAAAAOC/OY7jOI7j2L9yHMdxHMfRv1ZVVVVVVcW/IMdxHMdxrL8gx3Ecx3GsP1RVVVVVVcU/cBzHcRzH0T84juM4juPYPwAAAAAAAOA/AAAAAAAA4L85juM4juPYv3Icx3Ecx9G/VlVVVVVVxb8gx3Ecx3GsvyDHcRzHcaw/VFVVVVVVxT9wHMdxHMfRPziO4ziO49g/AAAAAAAA4D8AAAAAAADgvzmO4ziO49i/chzHcRzH0b9WVVVVVVXFvyDHcRzHcay/IMdxHMdxrD9UVVVVVVXFP3Acx3Ecx9E/OI7jOI7j2D8AAAAAAADgPwAAAAAAAOC/OY7jOI7j2L9yHMdxHMfRv1ZVVVVVVcW/IMdxHMdxrL8gx3Ecx3GsP1RVVVVVVcU/cBzHcRzH0T84juM4juPYPwAAAAAAAOA/AAAAAAAA4L85juM4juPYv3Icx3Ecx9G/VlVVVVVVxb8gx3Ecx3GsvyDHcRzHcaw/VFVVVVVVxT9wHMdxHMfRPziO4ziO49g/AAAAAAAA4D8AAAAAAADgvzmO4ziO49i/chzHcRzH0b9WVVVVVVXFvyDHcRzHcay/IMdxHMdxrD9UVVVVVVXFP3Acx3Ecx9E/OI7jOI7j2D8AAAAAAADgPwAAAAAAAOC/OY7jOI7j2L9yHMdxHMfRv1ZVVVVVVcW/IMdxHMdxrL8gx3Ecx3GsP1RVVVVVVcU/cBzHcRzH0T84juM4juPYPwAAAAAAAOA/AAAAAAAA4L85juM4juPYv3Icx3Ecx9G/VlVVVVVVxb8gx3Ecx3GsvyDHcRzHcaw/VFVVVVVVxT9wHMdxHMfRPziO4ziO49g/AAAAAAAA4D8AAAAAAADgvzmO4ziO49i/chzHcRzH0b9WVVVVVVXFvyDHcRzHcay/IMdxHMdxrD9UVVVVVVXFP3Acx3Ecx9E/OI7jOI7j2D8AAAAAAADgPwAAAAAAAOC/OY7jOI7j2L9yHMdxHMfRv1ZVVVVVVcW/IMdxHMdxrL8gx3Ecx3GsP1RVVVVVVcU/cBzHcRzH0T84juM4juPYPwAAAAAAAOA/AAAAAAAA4L85juM4juPYv3Icx3Ecx9G/VlVVVVVVxb8gx3Ecx3GsvyDHcRzHcaw/VFVVVVVVxT9wHMdxHMfRPziO4ziO49g/AAAAAAAA4D8AAAAAAADgvzmO4ziO49i/chzHcRzH0b9WVVVVVVXFvyDHcRzHcay/IMdxHMdxrD9UVVVVVVXFP3Acx3Ecx9E/OI7jOI7j2D8AAAAAAADgPwAAAAAAAOC/OY7jOI7j2L9yHMdxHMfRv1ZVVVVVVcW/IMdxHMdxrL8gx3Ecx3GsP1RVVVVVVcU/cBzHcRzH0T84juM4juPYPwAAAAAAAOA/AAAAAAAA4L85juM4juPYv3Icx3Ecx9G/VlVVVVVVxb8gx3Ecx3GsvyDHcRzHcaw/VFVVVVVVxT9wHMdxHMfRPziO4ziO49g/AAAAAAAA4D8AAAAAAADgvzmO4ziO49i/chzHcRzH0b9WVVVVVVXFvyDHcRzHcay/IMdxHMdxrD9UVVVVVVXFP3Acx3Ecx9E/OI7jOI7j2D8AAAAAAADgPwAAAAAAAOC/OY7jOI7j2L9yHMdxHMfRv1ZVVVVVVcW/IMdxHMdxrL8gx3Ecx3GsP1RVVVVVVcU/cBzHcRzH0T84juM4juPYPwAAAAAAAOA/AAAAAAAA4L85juM4juPYv3Icx3Ecx9G/VlVVVVVVxb8gx3Ecx3GsvyDHcRzHcaw/VFVVVVVVxT9wHMdxHMfRPziO4ziO49g/AAAAAAAA4D8AAAAAAADgvzmO4ziO49i/chzHcRzH0b9WVVVVVVXFvyDHcRzHcay/IMdxHMdxrD9UVVVVVVXFP3Acx3Ecx9E/OI7jOI7j2D8AAAAAAADgPwAAAAAAAOC/OY7jOI7j2L9yHMdxHMfRv1ZVVVVVVcW/IMdxHMdxrL8gx3Ecx3GsP1RVVVVVVcU/cBzHcRzH0T84juM4juPYPwAAAAAAAOA/AAAAAAAA4L85juM4juPYv3Icx3Ecx9G/VlVVVVVVxb8gx3Ecx3GsvyDHcRzHcaw/VFVVVVVVxT9wHMdxHMfRPziO4ziO49g/AAAAAAAA4D8AAAAAAADgvzmO4ziO49i/chzHcRzH0b9WVVVVVVXFvyDHcRzHcay/IMdxHMdxrD9UVVVVVVXFP3Acx3Ecx9E/OI7jOI7j2D8AAAAAAADgPwAAAAAAAOC/OY7jOI7j2L9yHMdxHMfRv1ZVVVVVVcW/IMdxHMdxrL8gx3Ecx3GsP1RVVVVVVcU/cBzHcRzH0T84juM4juPYPwAAAAAAAOA/AAAAAAAA4L85juM4juPYv3Icx3Ecx9G/VlVVVVVVxb8gx3Ecx3GsvyDHcRzHcaw/VFVVVVVVxT9wHMdxHMfRPziO4ziO49g/AAAAAAAA4D8AAAAAAADgvzmO4ziO49i/chzHcRzH0b9WVVVVVVXFvyDHcRzHcay/IMdxHMdxrD9UVVVVVVXFP3Acx3Ecx9E/OI7jOI7j2D8AAAAAAADgPwAAAAAAAOC/OY7jOI7j2L9yHMdxHMfRv1ZVVVVVVcW/IMdxHMdxrL8gx3Ecx3GsP1RVVVVVVcU/cBzHcRzH0T84juM4juPYPwAAAAAAAOA/AAAAAAAA4L85juM4juPYv3Icx3Ecx9G/VlVVVVVVxb8gx3Ecx3GsvyDHcRzHcaw/VFVVVVVVxT9wHMdxHMfRPziO4ziO49g/AAAAAAAA4D8AAAAAAADgvzmO4ziO49i/chzHcRzH0b9WVVVVVVXFvyDHcRzHcay/IMdxHMdxrD9UVVVVVVXFP3Acx3Ecx9E/OI7jOI7j2D8AAAAAAADgPwAAAAAAAOC/OY7jOI7j2L9yHMdxHMfRv1ZVVVVVVcW/IMdxHMdxrL8gx3Ecx3GsP1RVVVVVVcU/cBzHcRzH0T84juM4juPYPwAAAAAAAOA/AAAAAAAA4L85juM4juPYv3Icx3Ecx9G/VlVVVVVVxb8gx3Ecx3GsvyDHcRzHcaw/VFVVVVVVxT9wHMdxHMfRPziO4ziO49g/AAAAAAAA4D8AAAAAAADgvzmO4ziO49i/chzHcRzH0b9WVVVVVVXFvyDHcRzHcay/IMdxHMdxrD9UVVVVVVXFP3Acx3Ecx9E/OI7jOI7j2D8AAAAAAADgPwAAAAAAAOC/OY7jOI7j2L9yHMdxHMfRv1ZVVVVVVcW/IMdxHMdxrL8gx3Ecx3GsP1RVVVVVVcU/cBzHcRzH0T84juM4juPYPwAAAAAAAOA/AAAAAAAA4L85juM4juPYv3Icx3Ecx9G/VlVVVVVVxb8gx3Ecx3GsvyDHcRzHcaw/VFVVVVVVxT9wHMdxHMfRPziO4ziO49g/AAAAAAAA4D8=",
          "dtype": "f8"
         }
        }
       ],
       "layout": {
        "scene": {
         "camera": {
          "eye": {
           "x": 1.3,
           "y": 1.3,
           "z": 1.3
          }
         },
         "xaxis": {
          "showbackground": false,
          "title": {
           "text": "X"
          }
         },
         "yaxis": {
          "showbackground": false,
          "title": {
           "text": "Y"
          }
         },
         "zaxis": {
          "showbackground": false,
          "title": {
           "text": "Z"
          }
         }
        },
        "template": {
         "data": {
          "bar": [
           {
            "error_x": {
             "color": "#2a3f5f"
            },
            "error_y": {
             "color": "#2a3f5f"
            },
            "marker": {
             "line": {
              "color": "#E5ECF6",
              "width": 0.5
             },
             "pattern": {
              "fillmode": "overlay",
              "size": 10,
              "solidity": 0.2
             }
            },
            "type": "bar"
           }
          ],
          "barpolar": [
           {
            "marker": {
             "line": {
              "color": "#E5ECF6",
              "width": 0.5
             },
             "pattern": {
              "fillmode": "overlay",
              "size": 10,
              "solidity": 0.2
             }
            },
            "type": "barpolar"
           }
          ],
          "carpet": [
           {
            "aaxis": {
             "endlinecolor": "#2a3f5f",
             "gridcolor": "white",
             "linecolor": "white",
             "minorgridcolor": "white",
             "startlinecolor": "#2a3f5f"
            },
            "baxis": {
             "endlinecolor": "#2a3f5f",
             "gridcolor": "white",
             "linecolor": "white",
             "minorgridcolor": "white",
             "startlinecolor": "#2a3f5f"
            },
            "type": "carpet"
           }
          ],
          "choropleth": [
           {
            "colorbar": {
             "outlinewidth": 0,
             "ticks": ""
            },
            "type": "choropleth"
           }
          ],
          "contour": [
           {
            "colorbar": {
             "outlinewidth": 0,
             "ticks": ""
            },
            "colorscale": [
             [
              0,
              "#0d0887"
             ],
             [
              0.1111111111111111,
              "#46039f"
             ],
             [
              0.2222222222222222,
              "#7201a8"
             ],
             [
              0.3333333333333333,
              "#9c179e"
             ],
             [
              0.4444444444444444,
              "#bd3786"
             ],
             [
              0.5555555555555556,
              "#d8576b"
             ],
             [
              0.6666666666666666,
              "#ed7953"
             ],
             [
              0.7777777777777778,
              "#fb9f3a"
             ],
             [
              0.8888888888888888,
              "#fdca26"
             ],
             [
              1,
              "#f0f921"
             ]
            ],
            "type": "contour"
           }
          ],
          "contourcarpet": [
           {
            "colorbar": {
             "outlinewidth": 0,
             "ticks": ""
            },
            "type": "contourcarpet"
           }
          ],
          "heatmap": [
           {
            "colorbar": {
             "outlinewidth": 0,
             "ticks": ""
            },
            "colorscale": [
             [
              0,
              "#0d0887"
             ],
             [
              0.1111111111111111,
              "#46039f"
             ],
             [
              0.2222222222222222,
              "#7201a8"
             ],
             [
              0.3333333333333333,
              "#9c179e"
             ],
             [
              0.4444444444444444,
              "#bd3786"
             ],
             [
              0.5555555555555556,
              "#d8576b"
             ],
             [
              0.6666666666666666,
              "#ed7953"
             ],
             [
              0.7777777777777778,
              "#fb9f3a"
             ],
             [
              0.8888888888888888,
              "#fdca26"
             ],
             [
              1,
              "#f0f921"
             ]
            ],
            "type": "heatmap"
           }
          ],
          "histogram": [
           {
            "marker": {
             "pattern": {
              "fillmode": "overlay",
              "size": 10,
              "solidity": 0.2
             }
            },
            "type": "histogram"
           }
          ],
          "histogram2d": [
           {
            "colorbar": {
             "outlinewidth": 0,
             "ticks": ""
            },
            "colorscale": [
             [
              0,
              "#0d0887"
             ],
             [
              0.1111111111111111,
              "#46039f"
             ],
             [
              0.2222222222222222,
              "#7201a8"
             ],
             [
              0.3333333333333333,
              "#9c179e"
             ],
             [
              0.4444444444444444,
              "#bd3786"
             ],
             [
              0.5555555555555556,
              "#d8576b"
             ],
             [
              0.6666666666666666,
              "#ed7953"
             ],
             [
              0.7777777777777778,
              "#fb9f3a"
             ],
             [
              0.8888888888888888,
              "#fdca26"
             ],
             [
              1,
              "#f0f921"
             ]
            ],
            "type": "histogram2d"
           }
          ],
          "histogram2dcontour": [
           {
            "colorbar": {
             "outlinewidth": 0,
             "ticks": ""
            },
            "colorscale": [
             [
              0,
              "#0d0887"
             ],
             [
              0.1111111111111111,
              "#46039f"
             ],
             [
              0.2222222222222222,
              "#7201a8"
             ],
             [
              0.3333333333333333,
              "#9c179e"
             ],
             [
              0.4444444444444444,
              "#bd3786"
             ],
             [
              0.5555555555555556,
              "#d8576b"
             ],
             [
              0.6666666666666666,
              "#ed7953"
             ],
             [
              0.7777777777777778,
              "#fb9f3a"
             ],
             [
              0.8888888888888888,
              "#fdca26"
             ],
             [
              1,
              "#f0f921"
             ]
            ],
            "type": "histogram2dcontour"
           }
          ],
          "mesh3d": [
           {
            "colorbar": {
             "outlinewidth": 0,
             "ticks": ""
            },
            "type": "mesh3d"
           }
          ],
          "parcoords": [
           {
            "line": {
             "colorbar": {
              "outlinewidth": 0,
              "ticks": ""
             }
            },
            "type": "parcoords"
           }
          ],
          "pie": [
           {
            "automargin": true,
            "type": "pie"
           }
          ],
          "scatter": [
           {
            "fillpattern": {
             "fillmode": "overlay",
             "size": 10,
             "solidity": 0.2
            },
            "type": "scatter"
           }
          ],
          "scatter3d": [
           {
            "line": {
             "colorbar": {
              "outlinewidth": 0,
              "ticks": ""
             }
            },
            "marker": {
             "colorbar": {
              "outlinewidth": 0,
              "ticks": ""
             }
            },
            "type": "scatter3d"
           }
          ],
          "scattercarpet": [
           {
            "marker": {
             "colorbar": {
              "outlinewidth": 0,
              "ticks": ""
             }
            },
            "type": "scattercarpet"
           }
          ],
          "scattergeo": [
           {
            "marker": {
             "colorbar": {
              "outlinewidth": 0,
              "ticks": ""
             }
            },
            "type": "scattergeo"
           }
          ],
          "scattergl": [
           {
            "marker": {
             "colorbar": {
              "outlinewidth": 0,
              "ticks": ""
             }
            },
            "type": "scattergl"
           }
          ],
          "scattermap": [
           {
            "marker": {
             "colorbar": {
              "outlinewidth": 0,
              "ticks": ""
             }
            },
            "type": "scattermap"
           }
          ],
          "scattermapbox": [
           {
            "marker": {
             "colorbar": {
              "outlinewidth": 0,
              "ticks": ""
             }
            },
            "type": "scattermapbox"
           }
          ],
          "scatterpolar": [
           {
            "marker": {
             "colorbar": {
              "outlinewidth": 0,
              "ticks": ""
             }
            },
            "type": "scatterpolar"
           }
          ],
          "scatterpolargl": [
           {
            "marker": {
             "colorbar": {
              "outlinewidth": 0,
              "ticks": ""
             }
            },
            "type": "scatterpolargl"
           }
          ],
          "scatterternary": [
           {
            "marker": {
             "colorbar": {
              "outlinewidth": 0,
              "ticks": ""
             }
            },
            "type": "scatterternary"
           }
          ],
          "surface": [
           {
            "colorbar": {
             "outlinewidth": 0,
             "ticks": ""
            },
            "colorscale": [
             [
              0,
              "#0d0887"
             ],
             [
              0.1111111111111111,
              "#46039f"
             ],
             [
              0.2222222222222222,
              "#7201a8"
             ],
             [
              0.3333333333333333,
              "#9c179e"
             ],
             [
              0.4444444444444444,
              "#bd3786"
             ],
             [
              0.5555555555555556,
              "#d8576b"
             ],
             [
              0.6666666666666666,
              "#ed7953"
             ],
             [
              0.7777777777777778,
              "#fb9f3a"
             ],
             [
              0.8888888888888888,
              "#fdca26"
             ],
             [
              1,
              "#f0f921"
             ]
            ],
            "type": "surface"
           }
          ],
          "table": [
           {
            "cells": {
             "fill": {
              "color": "#EBF0F8"
             },
             "line": {
              "color": "white"
             }
            },
            "header": {
             "fill": {
              "color": "#C8D4E3"
             },
             "line": {
              "color": "white"
             }
            },
            "type": "table"
           }
          ]
         },
         "layout": {
          "annotationdefaults": {
           "arrowcolor": "#2a3f5f",
           "arrowhead": 0,
           "arrowwidth": 1
          },
          "autotypenumbers": "strict",
          "coloraxis": {
           "colorbar": {
            "outlinewidth": 0,
            "ticks": ""
           }
          },
          "colorscale": {
           "diverging": [
            [
             0,
             "#8e0152"
            ],
            [
             0.1,
             "#c51b7d"
            ],
            [
             0.2,
             "#de77ae"
            ],
            [
             0.3,
             "#f1b6da"
            ],
            [
             0.4,
             "#fde0ef"
            ],
            [
             0.5,
             "#f7f7f7"
            ],
            [
             0.6,
             "#e6f5d0"
            ],
            [
             0.7,
             "#b8e186"
            ],
            [
             0.8,
             "#7fbc41"
            ],
            [
             0.9,
             "#4d9221"
            ],
            [
             1,
             "#276419"
            ]
           ],
           "sequential": [
            [
             0,
             "#0d0887"
            ],
            [
             0.1111111111111111,
             "#46039f"
            ],
            [
             0.2222222222222222,
             "#7201a8"
            ],
            [
             0.3333333333333333,
             "#9c179e"
            ],
            [
             0.4444444444444444,
             "#bd3786"
            ],
            [
             0.5555555555555556,
             "#d8576b"
            ],
            [
             0.6666666666666666,
             "#ed7953"
            ],
            [
             0.7777777777777778,
             "#fb9f3a"
            ],
            [
             0.8888888888888888,
             "#fdca26"
            ],
            [
             1,
             "#f0f921"
            ]
           ],
           "sequentialminus": [
            [
             0,
             "#0d0887"
            ],
            [
             0.1111111111111111,
             "#46039f"
            ],
            [
             0.2222222222222222,
             "#7201a8"
            ],
            [
             0.3333333333333333,
             "#9c179e"
            ],
            [
             0.4444444444444444,
             "#bd3786"
            ],
            [
             0.5555555555555556,
             "#d8576b"
            ],
            [
             0.6666666666666666,
             "#ed7953"
            ],
            [
             0.7777777777777778,
             "#fb9f3a"
            ],
            [
             0.8888888888888888,
             "#fdca26"
            ],
            [
             1,
             "#f0f921"
            ]
           ]
          },
          "colorway": [
           "#636efa",
           "#EF553B",
           "#00cc96",
           "#ab63fa",
           "#FFA15A",
           "#19d3f3",
           "#FF6692",
           "#B6E880",
           "#FF97FF",
           "#FECB52"
          ],
          "font": {
           "color": "#2a3f5f"
          },
          "geo": {
           "bgcolor": "white",
           "lakecolor": "white",
           "landcolor": "#E5ECF6",
           "showlakes": true,
           "showland": true,
           "subunitcolor": "white"
          },
          "hoverlabel": {
           "align": "left"
          },
          "hovermode": "closest",
          "mapbox": {
           "style": "light"
          },
          "paper_bgcolor": "white",
          "plot_bgcolor": "#E5ECF6",
          "polar": {
           "angularaxis": {
            "gridcolor": "white",
            "linecolor": "white",
            "ticks": ""
           },
           "bgcolor": "#E5ECF6",
           "radialaxis": {
            "gridcolor": "white",
            "linecolor": "white",
            "ticks": ""
           }
          },
          "scene": {
           "xaxis": {
            "backgroundcolor": "#E5ECF6",
            "gridcolor": "white",
            "gridwidth": 2,
            "linecolor": "white",
            "showbackground": true,
            "ticks": "",
            "zerolinecolor": "white"
           },
           "yaxis": {
            "backgroundcolor": "#E5ECF6",
            "gridcolor": "white",
            "gridwidth": 2,
            "linecolor": "white",
            "showbackground": true,
            "ticks": "",
            "zerolinecolor": "white"
           },
           "zaxis": {
            "backgroundcolor": "#E5ECF6",
            "gridcolor": "white",
            "gridwidth": 2,
            "linecolor": "white",
            "showbackground": true,
            "ticks": "",
            "zerolinecolor": "white"
           }
          },
          "shapedefaults": {
           "line": {
            "color": "#2a3f5f"
           }
          },
          "ternary": {
           "aaxis": {
            "gridcolor": "white",
            "linecolor": "white",
            "ticks": ""
           },
           "baxis": {
            "gridcolor": "white",
            "linecolor": "white",
            "ticks": ""
           },
           "bgcolor": "#E5ECF6",
           "caxis": {
            "gridcolor": "white",
            "linecolor": "white",
            "ticks": ""
           }
          },
          "title": {
           "x": 0.05
          },
          "xaxis": {
           "automargin": true,
           "gridcolor": "white",
           "linecolor": "white",
           "ticks": "",
           "title": {
            "standoff": 15
           },
           "zerolinecolor": "white",
           "zerolinewidth": 2
          },
          "yaxis": {
           "automargin": true,
           "gridcolor": "white",
           "linecolor": "white",
           "ticks": "",
           "title": {
            "standoff": 15
           },
           "zerolinecolor": "white",
           "zerolinewidth": 2
          }
         }
        },
        "title": {
         "font": {
          "size": 20
         },
         "text": "Fields Around Current Carrying Wire",
         "x": 0.5,
         "xanchor": "center",
         "y": 0.75
        }
       }
      }
     },
     "metadata": {},
     "output_type": "display_data"
    }
   ],
   "source": [
    "given_samples_wire = sampled_outputs_wire[0].shape[0]\n",
    "plotter(outputs_wire_div_free, \n",
    "        title = 'Fields Around Current Carrying Wire', \n",
    "        rescale = False, \n",
    "        perspective = [1.3, 1.3, 1.3])"
   ]
  },
  {
   "cell_type": "code",
   "execution_count": 18,
   "id": "c7cdeed7",
   "metadata": {},
   "outputs": [
    {
     "name": "stdout",
     "output_type": "stream",
     "text": [
      "MSE for this case of 14.264766801703743\n"
     ]
    },
    {
     "data": {
      "application/vnd.plotly.v1+json": {
       "config": {
        "plotlyServerURL": "https://plot.ly"
       },
       "data": [
        {
         "anchor": "tail",
         "cmin": 0,
         "colorbar": {
          "len": 0.75,
          "thickness": 15,
          "x": 0.62
         },
         "sizemode": "scaled",
         "sizeref": 2,
         "type": "cone",
         "u": {
          "bdata": "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",
          "dtype": "f8"
         },
         "v": {
          "bdata": "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",
          "dtype": "f8"
         },
         "w": {
          "bdata": "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",
          "dtype": "f8"
         },
         "x": {
          "bdata": "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",
          "dtype": "f8"
         },
         "y": {
          "bdata": "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",
          "dtype": "f8"
         },
         "z": {
          "bdata": "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",
          "dtype": "f8"
         }
        }
       ],
       "layout": {
        "scene": {
         "camera": {
          "eye": {
           "x": 1.3,
           "y": 1.3,
           "z": 1.3
          }
         },
         "xaxis": {
          "showbackground": false,
          "title": {
           "text": "X"
          }
         },
         "yaxis": {
          "showbackground": false,
          "title": {
           "text": "Y"
          }
         },
         "zaxis": {
          "showbackground": false,
          "title": {
           "text": "Z"
          }
         }
        },
        "template": {
         "data": {
          "bar": [
           {
            "error_x": {
             "color": "#2a3f5f"
            },
            "error_y": {
             "color": "#2a3f5f"
            },
            "marker": {
             "line": {
              "color": "#E5ECF6",
              "width": 0.5
             },
             "pattern": {
              "fillmode": "overlay",
              "size": 10,
              "solidity": 0.2
             }
            },
            "type": "bar"
           }
          ],
          "barpolar": [
           {
            "marker": {
             "line": {
              "color": "#E5ECF6",
              "width": 0.5
             },
             "pattern": {
              "fillmode": "overlay",
              "size": 10,
              "solidity": 0.2
             }
            },
            "type": "barpolar"
           }
          ],
          "carpet": [
           {
            "aaxis": {
             "endlinecolor": "#2a3f5f",
             "gridcolor": "white",
             "linecolor": "white",
             "minorgridcolor": "white",
             "startlinecolor": "#2a3f5f"
            },
            "baxis": {
             "endlinecolor": "#2a3f5f",
             "gridcolor": "white",
             "linecolor": "white",
             "minorgridcolor": "white",
             "startlinecolor": "#2a3f5f"
            },
            "type": "carpet"
           }
          ],
          "choropleth": [
           {
            "colorbar": {
             "outlinewidth": 0,
             "ticks": ""
            },
            "type": "choropleth"
           }
          ],
          "contour": [
           {
            "colorbar": {
             "outlinewidth": 0,
             "ticks": ""
            },
            "colorscale": [
             [
              0,
              "#0d0887"
             ],
             [
              0.1111111111111111,
              "#46039f"
             ],
             [
              0.2222222222222222,
              "#7201a8"
             ],
             [
              0.3333333333333333,
              "#9c179e"
             ],
             [
              0.4444444444444444,
              "#bd3786"
             ],
             [
              0.5555555555555556,
              "#d8576b"
             ],
             [
              0.6666666666666666,
              "#ed7953"
             ],
             [
              0.7777777777777778,
              "#fb9f3a"
             ],
             [
              0.8888888888888888,
              "#fdca26"
             ],
             [
              1,
              "#f0f921"
             ]
            ],
            "type": "contour"
           }
          ],
          "contourcarpet": [
           {
            "colorbar": {
             "outlinewidth": 0,
             "ticks": ""
            },
            "type": "contourcarpet"
           }
          ],
          "heatmap": [
           {
            "colorbar": {
             "outlinewidth": 0,
             "ticks": ""
            },
            "colorscale": [
             [
              0,
              "#0d0887"
             ],
             [
              0.1111111111111111,
              "#46039f"
             ],
             [
              0.2222222222222222,
              "#7201a8"
             ],
             [
              0.3333333333333333,
              "#9c179e"
             ],
             [
              0.4444444444444444,
              "#bd3786"
             ],
             [
              0.5555555555555556,
              "#d8576b"
             ],
             [
              0.6666666666666666,
              "#ed7953"
             ],
             [
              0.7777777777777778,
              "#fb9f3a"
             ],
             [
              0.8888888888888888,
              "#fdca26"
             ],
             [
              1,
              "#f0f921"
             ]
            ],
            "type": "heatmap"
           }
          ],
          "histogram": [
           {
            "marker": {
             "pattern": {
              "fillmode": "overlay",
              "size": 10,
              "solidity": 0.2
             }
            },
            "type": "histogram"
           }
          ],
          "histogram2d": [
           {
            "colorbar": {
             "outlinewidth": 0,
             "ticks": ""
            },
            "colorscale": [
             [
              0,
              "#0d0887"
             ],
             [
              0.1111111111111111,
              "#46039f"
             ],
             [
              0.2222222222222222,
              "#7201a8"
             ],
             [
              0.3333333333333333,
              "#9c179e"
             ],
             [
              0.4444444444444444,
              "#bd3786"
             ],
             [
              0.5555555555555556,
              "#d8576b"
             ],
             [
              0.6666666666666666,
              "#ed7953"
             ],
             [
              0.7777777777777778,
              "#fb9f3a"
             ],
             [
              0.8888888888888888,
              "#fdca26"
             ],
             [
              1,
              "#f0f921"
             ]
            ],
            "type": "histogram2d"
           }
          ],
          "histogram2dcontour": [
           {
            "colorbar": {
             "outlinewidth": 0,
             "ticks": ""
            },
            "colorscale": [
             [
              0,
              "#0d0887"
             ],
             [
              0.1111111111111111,
              "#46039f"
             ],
             [
              0.2222222222222222,
              "#7201a8"
             ],
             [
              0.3333333333333333,
              "#9c179e"
             ],
             [
              0.4444444444444444,
              "#bd3786"
             ],
             [
              0.5555555555555556,
              "#d8576b"
             ],
             [
              0.6666666666666666,
              "#ed7953"
             ],
             [
              0.7777777777777778,
              "#fb9f3a"
             ],
             [
              0.8888888888888888,
              "#fdca26"
             ],
             [
              1,
              "#f0f921"
             ]
            ],
            "type": "histogram2dcontour"
           }
          ],
          "mesh3d": [
           {
            "colorbar": {
             "outlinewidth": 0,
             "ticks": ""
            },
            "type": "mesh3d"
           }
          ],
          "parcoords": [
           {
            "line": {
             "colorbar": {
              "outlinewidth": 0,
              "ticks": ""
             }
            },
            "type": "parcoords"
           }
          ],
          "pie": [
           {
            "automargin": true,
            "type": "pie"
           }
          ],
          "scatter": [
           {
            "fillpattern": {
             "fillmode": "overlay",
             "size": 10,
             "solidity": 0.2
            },
            "type": "scatter"
           }
          ],
          "scatter3d": [
           {
            "line": {
             "colorbar": {
              "outlinewidth": 0,
              "ticks": ""
             }
            },
            "marker": {
             "colorbar": {
              "outlinewidth": 0,
              "ticks": ""
             }
            },
            "type": "scatter3d"
           }
          ],
          "scattercarpet": [
           {
            "marker": {
             "colorbar": {
              "outlinewidth": 0,
              "ticks": ""
             }
            },
            "type": "scattercarpet"
           }
          ],
          "scattergeo": [
           {
            "marker": {
             "colorbar": {
              "outlinewidth": 0,
              "ticks": ""
             }
            },
            "type": "scattergeo"
           }
          ],
          "scattergl": [
           {
            "marker": {
             "colorbar": {
              "outlinewidth": 0,
              "ticks": ""
             }
            },
            "type": "scattergl"
           }
          ],
          "scattermap": [
           {
            "marker": {
             "colorbar": {
              "outlinewidth": 0,
              "ticks": ""
             }
            },
            "type": "scattermap"
           }
          ],
          "scattermapbox": [
           {
            "marker": {
             "colorbar": {
              "outlinewidth": 0,
              "ticks": ""
             }
            },
            "type": "scattermapbox"
           }
          ],
          "scatterpolar": [
           {
            "marker": {
             "colorbar": {
              "outlinewidth": 0,
              "ticks": ""
             }
            },
            "type": "scatterpolar"
           }
          ],
          "scatterpolargl": [
           {
            "marker": {
             "colorbar": {
              "outlinewidth": 0,
              "ticks": ""
             }
            },
            "type": "scatterpolargl"
           }
          ],
          "scatterternary": [
           {
            "marker": {
             "colorbar": {
              "outlinewidth": 0,
              "ticks": ""
             }
            },
            "type": "scatterternary"
           }
          ],
          "surface": [
           {
            "colorbar": {
             "outlinewidth": 0,
             "ticks": ""
            },
            "colorscale": [
             [
              0,
              "#0d0887"
             ],
             [
              0.1111111111111111,
              "#46039f"
             ],
             [
              0.2222222222222222,
              "#7201a8"
             ],
             [
              0.3333333333333333,
              "#9c179e"
             ],
             [
              0.4444444444444444,
              "#bd3786"
             ],
             [
              0.5555555555555556,
              "#d8576b"
             ],
             [
              0.6666666666666666,
              "#ed7953"
             ],
             [
              0.7777777777777778,
              "#fb9f3a"
             ],
             [
              0.8888888888888888,
              "#fdca26"
             ],
             [
              1,
              "#f0f921"
             ]
            ],
            "type": "surface"
           }
          ],
          "table": [
           {
            "cells": {
             "fill": {
              "color": "#EBF0F8"
             },
             "line": {
              "color": "white"
             }
            },
            "header": {
             "fill": {
              "color": "#C8D4E3"
             },
             "line": {
              "color": "white"
             }
            },
            "type": "table"
           }
          ]
         },
         "layout": {
          "annotationdefaults": {
           "arrowcolor": "#2a3f5f",
           "arrowhead": 0,
           "arrowwidth": 1
          },
          "autotypenumbers": "strict",
          "coloraxis": {
           "colorbar": {
            "outlinewidth": 0,
            "ticks": ""
           }
          },
          "colorscale": {
           "diverging": [
            [
             0,
             "#8e0152"
            ],
            [
             0.1,
             "#c51b7d"
            ],
            [
             0.2,
             "#de77ae"
            ],
            [
             0.3,
             "#f1b6da"
            ],
            [
             0.4,
             "#fde0ef"
            ],
            [
             0.5,
             "#f7f7f7"
            ],
            [
             0.6,
             "#e6f5d0"
            ],
            [
             0.7,
             "#b8e186"
            ],
            [
             0.8,
             "#7fbc41"
            ],
            [
             0.9,
             "#4d9221"
            ],
            [
             1,
             "#276419"
            ]
           ],
           "sequential": [
            [
             0,
             "#0d0887"
            ],
            [
             0.1111111111111111,
             "#46039f"
            ],
            [
             0.2222222222222222,
             "#7201a8"
            ],
            [
             0.3333333333333333,
             "#9c179e"
            ],
            [
             0.4444444444444444,
             "#bd3786"
            ],
            [
             0.5555555555555556,
             "#d8576b"
            ],
            [
             0.6666666666666666,
             "#ed7953"
            ],
            [
             0.7777777777777778,
             "#fb9f3a"
            ],
            [
             0.8888888888888888,
             "#fdca26"
            ],
            [
             1,
             "#f0f921"
            ]
           ],
           "sequentialminus": [
            [
             0,
             "#0d0887"
            ],
            [
             0.1111111111111111,
             "#46039f"
            ],
            [
             0.2222222222222222,
             "#7201a8"
            ],
            [
             0.3333333333333333,
             "#9c179e"
            ],
            [
             0.4444444444444444,
             "#bd3786"
            ],
            [
             0.5555555555555556,
             "#d8576b"
            ],
            [
             0.6666666666666666,
             "#ed7953"
            ],
            [
             0.7777777777777778,
             "#fb9f3a"
            ],
            [
             0.8888888888888888,
             "#fdca26"
            ],
            [
             1,
             "#f0f921"
            ]
           ]
          },
          "colorway": [
           "#636efa",
           "#EF553B",
           "#00cc96",
           "#ab63fa",
           "#FFA15A",
           "#19d3f3",
           "#FF6692",
           "#B6E880",
           "#FF97FF",
           "#FECB52"
          ],
          "font": {
           "color": "#2a3f5f"
          },
          "geo": {
           "bgcolor": "white",
           "lakecolor": "white",
           "landcolor": "#E5ECF6",
           "showlakes": true,
           "showland": true,
           "subunitcolor": "white"
          },
          "hoverlabel": {
           "align": "left"
          },
          "hovermode": "closest",
          "mapbox": {
           "style": "light"
          },
          "paper_bgcolor": "white",
          "plot_bgcolor": "#E5ECF6",
          "polar": {
           "angularaxis": {
            "gridcolor": "white",
            "linecolor": "white",
            "ticks": ""
           },
           "bgcolor": "#E5ECF6",
           "radialaxis": {
            "gridcolor": "white",
            "linecolor": "white",
            "ticks": ""
           }
          },
          "scene": {
           "xaxis": {
            "backgroundcolor": "#E5ECF6",
            "gridcolor": "white",
            "gridwidth": 2,
            "linecolor": "white",
            "showbackground": true,
            "ticks": "",
            "zerolinecolor": "white"
           },
           "yaxis": {
            "backgroundcolor": "#E5ECF6",
            "gridcolor": "white",
            "gridwidth": 2,
            "linecolor": "white",
            "showbackground": true,
            "ticks": "",
            "zerolinecolor": "white"
           },
           "zaxis": {
            "backgroundcolor": "#E5ECF6",
            "gridcolor": "white",
            "gridwidth": 2,
            "linecolor": "white",
            "showbackground": true,
            "ticks": "",
            "zerolinecolor": "white"
           }
          },
          "shapedefaults": {
           "line": {
            "color": "#2a3f5f"
           }
          },
          "ternary": {
           "aaxis": {
            "gridcolor": "white",
            "linecolor": "white",
            "ticks": ""
           },
           "baxis": {
            "gridcolor": "white",
            "linecolor": "white",
            "ticks": ""
           },
           "bgcolor": "#E5ECF6",
           "caxis": {
            "gridcolor": "white",
            "linecolor": "white",
            "ticks": ""
           }
          },
          "title": {
           "x": 0.05
          },
          "xaxis": {
           "automargin": true,
           "gridcolor": "white",
           "linecolor": "white",
           "ticks": "",
           "title": {
            "standoff": 15
           },
           "zerolinecolor": "white",
           "zerolinewidth": 2
          },
          "yaxis": {
           "automargin": true,
           "gridcolor": "white",
           "linecolor": "white",
           "ticks": "",
           "title": {
            "standoff": 15
           },
           "zerolinecolor": "white",
           "zerolinewidth": 2
          }
         }
        },
        "title": {
         "font": {
          "size": 20
         },
         "text": "Regression errors for Current Carrying Wire",
         "x": 0.5,
         "xanchor": "center",
         "y": 0.75
        }
       }
      }
     },
     "metadata": {},
     "output_type": "display_data"
    }
   ],
   "source": [
    "# plot residuals of fit above: \n",
    "residuals_wire_div_free, mse_wire_div_free = differencer(outputs_wire, outputs_wire_div_free)\n",
    "print(f'MSE for this case of {mse_wire_div_free}')\n",
    "plotter(residuals_wire_div_free, \n",
    "        title = f'Regression errors for Current Carrying Wire', \n",
    "        rescale = False, \n",
    "        perspective = [1.3, 1.3, 1.3])"
   ]
  },
  {
   "cell_type": "markdown",
   "id": "d87edac5",
   "metadata": {},
   "source": [
    "Errors are largest inside of the coil. The fields here are at their largest and vary most rapidly, hence "
   ]
  },
  {
   "cell_type": "code",
   "execution_count": 8,
   "id": "c49b1f47",
   "metadata": {},
   "outputs": [
    {
     "name": "stdout",
     "output_type": "stream",
     "text": [
      "Parameters for sigma_f and l specified, using these.\n"
     ]
    }
   ],
   "source": [
    "# these curl ones work very poorly in general\n",
    "outputs_wire_curl_free = updated_vector_field(\n",
    "    sampled_outputs_wire, \n",
    "    outputs_wire[0], outputs_wire[1], outputs_wire[2], \n",
    "    kernel_func='curl_free_kernel', \n",
    "    sigma_f = 0.1, l = 0.3)"
   ]
  },
  {
   "cell_type": "code",
   "execution_count": 68,
   "id": "b5ab1df7",
   "metadata": {},
   "outputs": [
    {
     "data": {
      "application/vnd.plotly.v1+json": {
       "config": {
        "plotlyServerURL": "https://plot.ly"
       },
       "data": [
        {
         "anchor": "tail",
         "sizemode": "scaled",
         "sizeref": 2,
         "type": "cone",
         "u": {
          "bdata": "APoQZKx9lkAA2M0FtNugQADgyR0hRaBAAJRWvuWalkAAwB6kZSSHQACAzS92DHJAAAB+sUJ+M0AAoFGRy1t0wABgMJAgQIfAABhNp8yEicAAxPa75+eRQAC8kd9VIZxAABh8LKvemUAA8F1b4u6PQACAzYOa+3lAAEAnZf5uYUAAADWjtlVbQAAAVLnBmjJAAGD/8CWac8AAcASKbtmEwAAgkz0sCXlAAEiM7OkNi0AAkKcZcCGIQACAMoUs33hAAAB75IY4WEAAAMC5e+Y7QACA+j64PWBAAIDLSLpQaUAAAABjOV03QABAvcBuJnjAAADR6ZVNJcAAgEdRJz5fQABA6mabDFNAAADkADNTLEAAAHjfIXkiQAAAlEo6SDFAAAAMElxoPUAAAP6THytPQAAACuzAIjBAACA5vFJuZ8CA7mfhZQ9zQACAAQYO/BJAADhrw8xWZMAAgP+dToNXwAAA6AZbJUZAAABC91agPUAAgHdwPd5fwACAK71WLmzAAADw8F3xZMAAADDLhQYRQADwP7UAWY5AAMAU6/fKcUAAACSZKk9fwACIbxnkZmDAAAC/lIvsM0AAAFS7UccYQAAAq1+c2GrAAACiQh12eMAAsOVIJphwwACgkyunY29AAITXULXFlEAAUGjjnz5+QABAgNrom1TAACAIGizVaMAASFniTYZQwAAAaP8pbijAAABFmSJTZMAASACnueR0wAAg3lL/r2nAAChdvyLce0AAVEHqMLaQQACAa1XKw3JAAACOnMziZ8AA6KtAbhdxwAAgwKoYa1nAAPAyjq+TR0AAAGuVt58lQAAwlvvb01vAAMCxa32nMMAAwGgxgeGBQAAIQ+iZdHpAAIB2usBzbMAA8FOLwh5/wADAnmtCZnfAACAhqkI5SsAAJJDRby1rQACSAOqMf3JAAIgWmRrmcEAA4C9CyIR5QAAcdZv6b41AAID0/ZSgM8AAYPa8Ay6GwABMI8S7DovAAEQTiVcGgcAA4DpcWA80wAB2hC+FdHpAAEp2WwXfhEAAgMnGU1uKQABCsMfazpJAADxzx1UynUAAoFIlWZlywAAAq1aIvjhAAMDPKwW3U0AAAP6WLzI5QAAAa1D0pDdAAAB+YfEnXUAAALmB9wFpQABgOiTiHGJAAACA92cgOUAA4BehFYFmQACouSEgJHFAAMyGx7F2gEAAkNeoJ7B2QABA5O908F9AAADNlg9XT0AAAJ5PzQlkQACgqbsvJXFAAGAiV0PmcEAAwApigXtfQAAApYtMwjdAAABxARzUZUAAqDXAdFB7QAA4veeFG3BAAAAYnGjtQ0AAABjE9tUkQAAAEX6q71xAAIAfxBlwbkAAwAeNl8l0QABQ8RddLnJAAICBP5CQV0AAWECRPR9gwACoeaNFuGJAAGB/6Ai8VkAAgMxfp8gxQAAAbhaAs0ZAAIBIwUrUVkAAwELmrXVgQABAu31B6mpAAGBRobMvb0AAgEs8ZqRWQACgZh2xcWjAAABIkLt6AcAAADQm+SIBQAAAGpJYdzxAAECFLXcoUkAAgNImlDJEQACA08bnE0DAAAA9j+evQMAAAMa/OG8fQAAAStlKfiXAAABu4rowO8AAAAxh7X4twABAIN50QlTAAIAKjGkdT8AAAADukT8awAAALr4oWjbAAHAp3VoaXcAAKB+UgnpqwABgZOY4hG3AAODaVCXgWsAAID5F1V9kQAAAAAiAFpu/AOC2K0hqZ8AA4D9NjChtwADAF38TmmLAAICMJUtLSMAAwFvF0GFOwABABHLtFWzAAJDBjZkDeMAAoO5r475swACwnkABX3JAAABw6S39GMAAwP6IpAxxwAAwZAVs2XfAAJB7hwjIcsAAgM89t3hcwAAAS0pcbj/AAEAiRy6FacAA4N/PLcJ8wADAd8M9ZHbAACieX3/2fEAAAEVepTVFwADAEw2IIHfAAChyPLyhf8AAwCyKLmR8wACAsh/3FXDAAMBZRosaV8AAwGOHyaJfwABAzRNgIm3AAADfqramOcAAGDioNumKQAAAIb/PcjnAAPgKrWn5f8AACFUMAJaEwADQ2iN63YHAAIis7xMrc8AAANq3rfJDQACIWgUmPXdAAOwqQWV8h0AAquOtnyyVQADaiJ8MAJXAAEs2pOVtk8AA3uN3ilyMwADk8NXEFn/AANgdvIY7acAAwHsPIH1HwAAAnAZP1UtAAOBHFqYtZ0AAAGz/kPJ5QAA4QiHXPopAAGy11cMsgsAAYwRuLjaEwADcQxGP/YLAAHKAGqDDesAAaO/6bsJswACgiR/Kel3AAEDc47AJVMAAAGzf7kU7wACgCt45QWBAAOA6ZZepfEAAmFybE8FrwAAgeD22Fm7AAFDH3c4KdcAA4L6bLEx0wADAsEiChG3AACCEG041Z8AA0NkHZYJnwAAAO1mW9mHAAAAgB7IMMUAA8IAIyn1xQADwuXAYBmfAAADEaVY+RcAAANBmVXtbwABAO48niGLAAIBpgKETYMAAQI9dcvtewACQ0t5yhGHAACBWZdgGWcAAgOqL7CA4QADA6pV2kmVAAKCAbgZjcMAAAKRDp3ojQAAAcoKfIThAAADQl9BAAsAAAI4nHZY3wAAA5JFH5knAAEAGfkVEUcAAADP6ecNEwAAARqPCQz5AAACvx+riWkAAQEx1qJp1wAAAwGsF8UPAAAByA2KNNkAAADaTOSU4QAAAsBuGuyFAAADwLk0cHMAAAITmPP8uwAAAtvWdijjAAAAQWFiYE8AAgJzpaXhYQAAQh46DwHXAAMBH7IisVcAAAN6xvhVAwAAAJBqVEDXAAAAI0B05HkAAAOYuj9BOQACAQP0N9FJAAADsDKjiMcAAgJceqMldwAAAlO9crjHAAGAcXvl3YsAAAEC9aWsTQAAA6LAxYgJAAADQ6oa7RMAAAPGwsW5AwAAA7qJ07ElAAICm3DboUkAAgPkZQDxcwADAmGf8ynfAAGBXrWced8AA4PMyFAtzQAAAJ5BTBm1AAEDk5WnCXkAAALZ7SQc8wACAZ7uJSGHAAMDU+ykbXsAAAE+p1i1WwACAZd6t5W7AAICMR/4dgMAAAGYLztd/wADcEtrDr41AAKjAtnUCfkAAIByi1GRoQACA6HY3zEDAAIBwCX9zasAAsLHFecpqwAAA0hMs/E/AAADQOpwJSUAAgBEffxBaQABgCwplR3ZAAOBaE7WJdcAAkN8n5wJywAAAIgDRCzlAAODz+zgEbkAAoNWOcyJoQACAOYehpEBAAIB8h8s0RsAAAA2Q9iI/QACA5baRtm9AAFjhY6ozgUAAAGdeOPBjwABAeMXTmW3AAAC6jELDMcAAAHIx0ZJlQADA3FwL0GFAAAAgTdFQ+r8AgCvW27tawADAxK58qFvAAAAlCVcIQ0AAoLbd89t2QAAA9EYTESpAAABGW0okUcAAAJzzSGNPQABA+/iWsmZAAABXBywwYUAAAKibbNYkQACAEprH5lvAAIAVVUutaMAAgHnXLpRiwACADXALIWJAAECjaEpFXEAAADn1LxRMQAAAeF9MHVdAAAARTqP2YEAAAGpx5l5aQAAASjAfJ01AAACgIx5WEcAAAFpCP3tewACAR6dHQGfAAADXct0cQcAAgKBn671XQAAAK4ZinVBAAABG2Tg+Q0AAAO4tAaZAQAAAGAw8aChAAADcETzmM0AAACS0gJc2QAAANPKdVUzAAIBVN/ZGYMAAAPww48pQwAAAgBQ17jzAAACoij2sIMAAAE7boDdGwAAAXkjCi0vAAAAimxvgU8AAAFruWcVWwAAAVlZFs1fAAACNzMkmXcAAAMZVMjtRwAAAo27tS1RAACDHla2uYMAAAK0z6dVHwAAA7r9pO1LAAIBUgg+eU8AAAAyAtZZXwAAAdGB5OmDAAAADfA49ZsAAAIbzxX5owAAAnEnPOk7AAMBhmcQKakAAwJnibgpKwADALEde3lZAAABFXMdPSkAAAEhlZeoVwAAAqGCD/EfAAABhg5hXVcAAABGEkatiwACAPDHT1WvAAABJW7TvZcAAADF4kmhAQACQqoyFmG5AAJiDUngmeUAAoOjRnih1QABArRDDKmVAAAA+3CkcJEAAgGpo3w1QwAAALVCXZlnAAICNCDyOacAAYNvrDq10wACA/UVqoHTAAJcN2dm2gkAAwHzC0PGEQACwHMuay4JAAGBjUMAbd0AAwJi7i5lXQACA2prT8EDAAABonI6UJMAAAC+d2M1IwABAc47ms2/AAADq1nykecAAgHtSE3WOQADYF7QhDYlAAEiOjQAUhEAAoPPQapN1QAAAcKyQF0BAAIBwqD4WWsAAgCmziPtYwAAAALByTFXAAAD8ly2ZWsAAoDd599lwwAAgKzPqDntAAIBu/XV8dEAAYHbcwtB5QADATXTSvXNAAABp4HkcSEAAgM4Xr+NZwAAAO3FZMlPAAAB0deRoOcAAAOB4YMkpwACAyu5V4ETAACD8MqjSYkAAAD5TYepEQABAufi6SW1AAECM7HblcEAAAOwAsYlUQAAAFkoZTEDAAABAxxgw9z8AAABZ1P7uPwAAW4CGalDAAIDdi7RLUcAAQB9gPaBjQACAw4TJKFTAAABwGM9MNUAAAAXITgNUQAAAQEzdGRfAAACoXPleJ8AAAA5scbNQQAAAjGfLfTJAAAD2ePztYMAAABkHLfhnwADAGTeYXG5AAIA33vHGWcAAwKJ/SrdgwAAAVPr65lfAAABO2NbFWsAAAEK8a8dEwAAAqBJUKUtAAAAAA9cX0T8AgKpeJVViwABAN/PfPG/AAED9rqO0a0AAQK2YKnNWwAAAXRNIP2XAAABretPpYMAAAB53Xu1ewAAANUXasljAAAB+OPkBVMAAAG7B3M9dwAAA+l6j92DAAIBM3aMEZ8AAAGzDGaxYQAAglmH1RlDAAODecwSTYsAAAOL7frpdwAAAiJCNYlnAAACB/bZ8YsAAAOAr7G1twACA3D7bL3DAAAAgtBrYW8AAAAZBXuQ+wADwhbek0TJAAIAkn8WdRkAAAHO+MqtPwADAGfGRxVjAAIDMWwp6VsAAgD30fcxgwAAAZibdTmzAAADf62wba8AAAGwCj9UowAAAgitmK1lAAPDQvNQCQ0AArFEqLLNxQABghGA5M2VAAACwUub6I0AAANJ9bvtNwAAAjzAE31HAAADB5kRQTcAAAAAOiJu7vwCAL2UenlRAAAAQgT9b+z8AoNgIGflAwACIo6mixnpAACB4Bn1PekAA4HORzvRmQADAMkG5LkLAAECoUJteWsAAAIdVydxDwAAAEIYhdybAAEDv8oJsasAAmCBYSGyEwAC4+5dtjYtAAICT1UScfUAAgDYFy6xAQACANSZOWXDAAMD782rpbMAAAKygu30hQADAyoU1OGBAAACpcmTgO0AAgILtEp5owADU4OEHrYXAAICR56V0aUAAAORS6GA5QAAASlLe0UvAAABXypFxZ8AAgDqYErNwwAAACEH+jmXAAACC3B0jM8AAAPl3OO5IQAAA3JEYFyRAALinlKGwcMAAgJBTG99WwABA0tbyy2/AAIAKRqyzY8AAgD177XFjwACAHblV7m7AAMAEIcLmacAAAP+rGVZEwAAANNoAFVNAAADME9X6UEAAQAYHbzVewAAAhn3490RAAEDx75HRcMAAABWZaaRqwACAk5gJ3mbAAADp//dWb8AAgP/5+RlqwAAAJLVkfUnAAAAYX/MgTUAAAMXuJDRSQAAASemBj0LAALjRawDxcEAAAEAFWcxdwADAZJfbw2HAAAA/Id1TXsAAQG57GkViwAAA+GpOJlPAAABKRPlLTEAAAAWylmNfQABAufIbumBAAAA4oHW0B8AAmIuCt+NxQAAArgERFB5AAAADMdOVK8AAAFIOFHAzQAAA/btvJERAAAAaG82/XEAAAIlkyORmQADABnCv+GVAAIClpjnIXkAAIHDNCw1lwADABoJ4Wk9AAADAvKz8BUAAgGJ7HoYgQACAJYwxu0pAAACIivHjWkAAgMLQRlpiQACAFhEvJVxAAAC9gOOTQ0AAADAiMaY8wAAwX6jxoHnAAGB19tmLZ8AAAKTyVtE5wADA0w5J+kbAAADOgdwpRMAAAMW+XoU6QAAAcOG/tkZAAADe32WOPMAAAF8HQ9lPwAAASFdStDvAAADvWz33dMAA8ByiH4J1wACA3Bf0p05AAAC57QAGMUAA4LnU5BdRwADASI3mrkPAAAC44vGoDMAAAESlsDMSQADApNFEEFlAAIAL8uHPa0AAAMqLjM9JwAAgK2+fioTAAMCDFLFDREAAAENQ7TFaQACA4aaLrkPAAODAg3qjX8AAwL36M+xhwABAKRuizVbAAAC2SwsBLEAAACecrt9BwABU6qu73IDAAADE/pZVQUAAgC45PylrwAAgi3dB+3XAAKASoodvYcAAQJSlN1Z0QAAwPci7VYNAANAF8fj/fUAAwA8AUQhkQACAVilJh0jAADDPauleesAAwFLKKMlpwACgaJw5c3LAAIALcANnc8AAwDWjvrhowAAAhF9J5zhAAABN50RUZ0AAQNg6aUFjQAAA7w9YHk5AAAD5o7UvRUAAQMs78QpjwAAgGZFnC1zAAAAp+aDbbsAA4BjNrxBvwABAHsSOI2jAAMDkJY6yV8AAAHD8hXT4PwAAfDCxwDNAAADABytXF0AAAKYTWSsyQAAAhMQhuV/AALCMW30xZ0AAQDjsBStNwADgE3WG81rAACD72lmnW8AAQEfe/hBZwABAWhhxxFTAAAC9/rjyWMAAABT5DuNVwAAACtxvST5AAIAZb3K9UEAAOB3y8HF2QADgTfceVV5AAMBwji9dTEAAAAjX+hIgQACAi+c3UDPAAADN35WHIsAAAPUaCSI0wAAAcIYHLitAAEBBJs+/aEAAQAsgCGBzQACgHUrbs21AAEDweF5jY0AAYPzhrtRgQADAUqOhBlFAAABzQbL+TEAAEGPkMrliQABQLIyY7WpAAICT1tZEbUAA8BQf73lxQACAl0XWqV9AAADBAqvqUsAAAPiz+8dEQAAAj9AKUVJAAAA8N3CqJkAAAELt9Gg1QABgAMr0RmJAANDMXrB7bEAAwB4yDiZoQADAoYPuCEpAAIBLCd4re8AAgELSttlzwAAAhUwGrEbAAABMiujPIsAAgKUMkIdQwAAAA9n7nk7AAADoJF41I8AAAIDuv28DwABAuii8lzrAAIDj801yXsAAKPF+lqGDwACwxVzHQ3jAAAATO/TcOEAAAIQOWzBGQAAAFnIcgy/AAADoT8+XNMAAQPRjYOhFwABQpHPqmFLAAKD5fXFdNkAAPOJYb2diQAAILdPBy2XAAFRwv1svhMAAALbl76hBwACArBr07k9AAEDdv+fAREAA4HxsvWlEQAAAfOQkDyDAAMDj8/xJPsAAIFmXmBFfQADop+KNOXFAAMypIdItUcAA4Bo1HdJvwADALzrdimjAAIBYi7aYN0AATNA67mh6QAD8zQvMtoZAAKwmO3X0g0AAgD0K0kRuQAAAu0xbukXAAABUI3oGKsAAACDm9/8/QAAApRqFu2LAADgi/5j5WsAAdJ8Shh9TwABQUrJeZkFAACgRXqH1ZkAAEAcIiwlrQAAgL5s3iVhAAAAAxf/cDcAAAJq/cME6QACAejGqF0tAANzrlGUeVEAAADOxCyZAQACADCnlAU7AAMDVVHQEVcAAAJludvk2QAAg+LkXAmJAAECp7HeFYEAAACCE2OcgQACAP2VTO1vAAIBbulP2ZsAAMMTx7zZlQAAAF+YlcVVAAACgN9ixB0AAALqXx8M8wAAAwMTl7EZAAAB70bWbWkAAABhR1w8iQADAxWIlwmTAAADmFYzOasAAAOSEg5NUwAAAqeDXpUxAAACI1N9RMEAAAECPY1wbQAAA3EHplyHAAAD6pyJxOUAAAIQbEu43QACAMIDXHV3AAICYG3pjbsAAgJaZfANZwACA8+NnknJAAIDQ+Yv1WsAAgFI12V5UwAAAzBBNXUHAAABCP0JlT8AAAAiF8dhJwAAAoF8eUQVAAAC06c6SIcAAAFSse545wACAfcV+b19AAOD3AocjeUAAAEwDokxowACAj7IJ7WDAAIDBwBEsUMAAAGCuPZZZwAAA86WVilvAAAAAMAF8zj8AQDQu9zFgQACAXuhgP2hAAIAccjOZaEAAgMQazbdTQACABhA/VWDAAADgp9m8WMAAAJDNakxJwAAA438O0FPAAACjU0sbXsAAABcdXU9TwAAAzrl8+0lAAMCdJrTKZ0AAgOuFKs9oQACAQ01UQlrAAIAjpIY5TkAAgKoEphJJQAAANvIdizdAAACAPcCg7L8AAPmKfHlLwAAAZ7RAjlvAAIA7nOpNQ8AAAHnz9KxrQADwM/8YpnxAAMBxxZxvcUAAwElWnQZLQAAAJ+gfflZAAAAEQN9wQkAAAE+Csa5LQABAzBGJnFNAAMBBacMQR0AAoGasqpRfQABYmTxv231AAMiP9YgDi0AA5ITBfZeHQADgpLL490HAAKBHMB2zN0AAABf/f5plQAAAvp5VhGxAAMCcdCLvSEAA6GADn5VuwADQlngoQXnAAGgJ2u9pdsAAAN3TtFlrwAAAPB/8EDJAAEAmSaAVOEAAoMQSMXFQQACAN1XPzjhAAMBbQQtIXMAA0ARqontswABA9WgeW2XAAIBGsouhOUAAQLNberNeQAAAqdJ5xzhAAIBs/1xESEAAAIbgrTIrwAAAR91Jf1FAAADlOYbsNUAAAJLS7nNawAAAEoELx1PAAECpDVAdakAAELhZlm6AQAAgYdtxqn5AAEBj7VUjWEAAgGL/YzpYwACg9xQnsnPAAGA1qY5qYsAAAOqnqf9DwAAAlNPKYyrAAIBnq40LXEAAQFk+7MB3QAAgrKccj4FAAACOvpXaeEAAADDiJ3IrQAAA5P1q0TDAALAN+jiRgcAAQEG1Ifh3wACA3uIwumHAAACAzOfgEEAAAHTg0J9cQAAAub7GlGpAAIDnziqDaUAAAE8NJhVEQACAkTQ9BFPAAAC1QK47cUAAgHr4CHt7wADg02kfx3fAAAD9zRh+XMAAACIGPllOQAAA+hM9uVlAAAA6mri5VEAAACjoF9hBQAAA+Gjhyi/AAABJ+UsxTUAAQI0Lc0yAQADAvkVDTVXAAECszKtEbcAAAMAjXI3rPwCAxdAldmhAAICdkwPeaUAAAB5VfwJmQAAAX7JCNG1AAIA4Gxe5dEAAgHwcbU95QADQNtVEs4JAAODpj+lla0AAgBSd4GFlwAAAwEc2eC3AAEAwNMGAaUAAgLfJvm1rQADACPx0w2hAAEBiLf+tdkAAMGx8QGaDQACQUEyJYIZAAIARSGfng0AAoKya/6t8QADAPMoigWHAAMAPtpLVY8AAAMQuP90RQAAAaEAcUydAAABo5ErXNMAAAC0M6OlnQAAgbbGTJINAAFAYyjj+i0AAsM8qzleJQADke4+ceIRAAACUNwOND0AA4DQk96VowACAD4eKrmDAAKBEBB15WsAAgMUN5M5XwACgmoDjcGNAALDieAmjhUAA2DBO/1mSQABUGIZKf5JAAACT7u0iGkAAwHvFD3lYwADA/CO7PFDAANzC3WtzZcAA2FmsOQB6wABEwIz/UH/AABaygHlrdcAANMdjvMBzwAAQqmbHkYPAALyQTMBMhsAAQN5RTJQzQACALbjzj15AABDN/SRwcEAA4KUet2xtQADQncBMRGdAAHAX8uyreEAgeLzNyXaGQADczCqIl4JAAMDo3xpkUsAAOAfzm+95wABw20F3LmHAAIBpxf4kaUAAMIgnRJ1/QAAYtc+RpoJAAIBNSUpthkAAeqYrg82RQACWikzQyJhAAFjaMubClUAAxKtOnmeAQACAG1ptbTFAAFDfA3Eae8AAALB+D+8cwAAAcU0Px3dAAIDkGrmqgEAAcAGNw9+FQACgs9af3pFAAAB4E/ohmUAABPNhAh6XQADwlQpR0YZAABAE5fMIdUAAgJlSQlN5wAAApj8Hh2PAAABucIoYYEAAgFr1pJlpQAAACQVD4WxAAOBF9CXrfEAAwI1FfNmIQADwHp1EnohAAGDW6yvpd0AAIDR3xOV0QAAAyEwCzVpAAACwzLS9F8AAgJ8+/FBYQACAzb+8EVFAAIDcBEw+WcAAAF3YWJ1jwAAAeNWz7R/AAIAMF4OmU0AAAJKNPQc+wAAAaTLMj2VAAJCaC612g0AAAA+HLcdiQADAa3b/AmdAAEBJTgflaUAAADAo6aEfwABAzhE6RmrAAID/0WhmYsAAAABim3LgPwAAlJm+eifAAMCMbcRzYEAAWEPS7emFQAAAiAb+MjDAAAARtX66T0AAgH7sBsRwQADAKp4z42RAAACskMEdLMAAAP99FV5RQABA4hsE/nBAAMDDTckGcEAAAKA8pplnQAD8iQCxE4JAAJDEGXnKbsAAoCeYGHJlwADAxfw9x11AAIDv7zCdWkAAABUY0HFCwAAAIPT3qEtAAMCqLlB/ckAAwDziYg51QAAAPJIBOWdAAC7R50e4h0AAACxsOa8DQAAAPnWyLzTAALCycc3cZUAAAJBeLldhQAAA7lc4izTAAAA4OzWqNkAA0LX8K/FwQABggR/acntAANArX5XQdkA=",
          "dtype": "f8"
         },
         "v": {
          "bdata": "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",
          "dtype": "f8"
         },
         "w": {
          "bdata": "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",
          "dtype": "f8"
         },
         "x": {
          "bdata": "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",
          "dtype": "f8"
         },
         "y": {
          "bdata": "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",
          "dtype": "f8"
         },
         "z": {
          "bdata": "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",
          "dtype": "f8"
         }
        }
       ],
       "layout": {
        "scene": {
         "xaxis": {
          "title": {
           "text": "X"
          }
         },
         "yaxis": {
          "title": {
           "text": "Y"
          }
         },
         "zaxis": {
          "title": {
           "text": "Z"
          }
         }
        },
        "template": {
         "data": {
          "bar": [
           {
            "error_x": {
             "color": "#2a3f5f"
            },
            "error_y": {
             "color": "#2a3f5f"
            },
            "marker": {
             "line": {
              "color": "#E5ECF6",
              "width": 0.5
             },
             "pattern": {
              "fillmode": "overlay",
              "size": 10,
              "solidity": 0.2
             }
            },
            "type": "bar"
           }
          ],
          "barpolar": [
           {
            "marker": {
             "line": {
              "color": "#E5ECF6",
              "width": 0.5
             },
             "pattern": {
              "fillmode": "overlay",
              "size": 10,
              "solidity": 0.2
             }
            },
            "type": "barpolar"
           }
          ],
          "carpet": [
           {
            "aaxis": {
             "endlinecolor": "#2a3f5f",
             "gridcolor": "white",
             "linecolor": "white",
             "minorgridcolor": "white",
             "startlinecolor": "#2a3f5f"
            },
            "baxis": {
             "endlinecolor": "#2a3f5f",
             "gridcolor": "white",
             "linecolor": "white",
             "minorgridcolor": "white",
             "startlinecolor": "#2a3f5f"
            },
            "type": "carpet"
           }
          ],
          "choropleth": [
           {
            "colorbar": {
             "outlinewidth": 0,
             "ticks": ""
            },
            "type": "choropleth"
           }
          ],
          "contour": [
           {
            "colorbar": {
             "outlinewidth": 0,
             "ticks": ""
            },
            "colorscale": [
             [
              0,
              "#0d0887"
             ],
             [
              0.1111111111111111,
              "#46039f"
             ],
             [
              0.2222222222222222,
              "#7201a8"
             ],
             [
              0.3333333333333333,
              "#9c179e"
             ],
             [
              0.4444444444444444,
              "#bd3786"
             ],
             [
              0.5555555555555556,
              "#d8576b"
             ],
             [
              0.6666666666666666,
              "#ed7953"
             ],
             [
              0.7777777777777778,
              "#fb9f3a"
             ],
             [
              0.8888888888888888,
              "#fdca26"
             ],
             [
              1,
              "#f0f921"
             ]
            ],
            "type": "contour"
           }
          ],
          "contourcarpet": [
           {
            "colorbar": {
             "outlinewidth": 0,
             "ticks": ""
            },
            "type": "contourcarpet"
           }
          ],
          "heatmap": [
           {
            "colorbar": {
             "outlinewidth": 0,
             "ticks": ""
            },
            "colorscale": [
             [
              0,
              "#0d0887"
             ],
             [
              0.1111111111111111,
              "#46039f"
             ],
             [
              0.2222222222222222,
              "#7201a8"
             ],
             [
              0.3333333333333333,
              "#9c179e"
             ],
             [
              0.4444444444444444,
              "#bd3786"
             ],
             [
              0.5555555555555556,
              "#d8576b"
             ],
             [
              0.6666666666666666,
              "#ed7953"
             ],
             [
              0.7777777777777778,
              "#fb9f3a"
             ],
             [
              0.8888888888888888,
              "#fdca26"
             ],
             [
              1,
              "#f0f921"
             ]
            ],
            "type": "heatmap"
           }
          ],
          "histogram": [
           {
            "marker": {
             "pattern": {
              "fillmode": "overlay",
              "size": 10,
              "solidity": 0.2
             }
            },
            "type": "histogram"
           }
          ],
          "histogram2d": [
           {
            "colorbar": {
             "outlinewidth": 0,
             "ticks": ""
            },
            "colorscale": [
             [
              0,
              "#0d0887"
             ],
             [
              0.1111111111111111,
              "#46039f"
             ],
             [
              0.2222222222222222,
              "#7201a8"
             ],
             [
              0.3333333333333333,
              "#9c179e"
             ],
             [
              0.4444444444444444,
              "#bd3786"
             ],
             [
              0.5555555555555556,
              "#d8576b"
             ],
             [
              0.6666666666666666,
              "#ed7953"
             ],
             [
              0.7777777777777778,
              "#fb9f3a"
             ],
             [
              0.8888888888888888,
              "#fdca26"
             ],
             [
              1,
              "#f0f921"
             ]
            ],
            "type": "histogram2d"
           }
          ],
          "histogram2dcontour": [
           {
            "colorbar": {
             "outlinewidth": 0,
             "ticks": ""
            },
            "colorscale": [
             [
              0,
              "#0d0887"
             ],
             [
              0.1111111111111111,
              "#46039f"
             ],
             [
              0.2222222222222222,
              "#7201a8"
             ],
             [
              0.3333333333333333,
              "#9c179e"
             ],
             [
              0.4444444444444444,
              "#bd3786"
             ],
             [
              0.5555555555555556,
              "#d8576b"
             ],
             [
              0.6666666666666666,
              "#ed7953"
             ],
             [
              0.7777777777777778,
              "#fb9f3a"
             ],
             [
              0.8888888888888888,
              "#fdca26"
             ],
             [
              1,
              "#f0f921"
             ]
            ],
            "type": "histogram2dcontour"
           }
          ],
          "mesh3d": [
           {
            "colorbar": {
             "outlinewidth": 0,
             "ticks": ""
            },
            "type": "mesh3d"
           }
          ],
          "parcoords": [
           {
            "line": {
             "colorbar": {
              "outlinewidth": 0,
              "ticks": ""
             }
            },
            "type": "parcoords"
           }
          ],
          "pie": [
           {
            "automargin": true,
            "type": "pie"
           }
          ],
          "scatter": [
           {
            "fillpattern": {
             "fillmode": "overlay",
             "size": 10,
             "solidity": 0.2
            },
            "type": "scatter"
           }
          ],
          "scatter3d": [
           {
            "line": {
             "colorbar": {
              "outlinewidth": 0,
              "ticks": ""
             }
            },
            "marker": {
             "colorbar": {
              "outlinewidth": 0,
              "ticks": ""
             }
            },
            "type": "scatter3d"
           }
          ],
          "scattercarpet": [
           {
            "marker": {
             "colorbar": {
              "outlinewidth": 0,
              "ticks": ""
             }
            },
            "type": "scattercarpet"
           }
          ],
          "scattergeo": [
           {
            "marker": {
             "colorbar": {
              "outlinewidth": 0,
              "ticks": ""
             }
            },
            "type": "scattergeo"
           }
          ],
          "scattergl": [
           {
            "marker": {
             "colorbar": {
              "outlinewidth": 0,
              "ticks": ""
             }
            },
            "type": "scattergl"
           }
          ],
          "scattermap": [
           {
            "marker": {
             "colorbar": {
              "outlinewidth": 0,
              "ticks": ""
             }
            },
            "type": "scattermap"
           }
          ],
          "scattermapbox": [
           {
            "marker": {
             "colorbar": {
              "outlinewidth": 0,
              "ticks": ""
             }
            },
            "type": "scattermapbox"
           }
          ],
          "scatterpolar": [
           {
            "marker": {
             "colorbar": {
              "outlinewidth": 0,
              "ticks": ""
             }
            },
            "type": "scatterpolar"
           }
          ],
          "scatterpolargl": [
           {
            "marker": {
             "colorbar": {
              "outlinewidth": 0,
              "ticks": ""
             }
            },
            "type": "scatterpolargl"
           }
          ],
          "scatterternary": [
           {
            "marker": {
             "colorbar": {
              "outlinewidth": 0,
              "ticks": ""
             }
            },
            "type": "scatterternary"
           }
          ],
          "surface": [
           {
            "colorbar": {
             "outlinewidth": 0,
             "ticks": ""
            },
            "colorscale": [
             [
              0,
              "#0d0887"
             ],
             [
              0.1111111111111111,
              "#46039f"
             ],
             [
              0.2222222222222222,
              "#7201a8"
             ],
             [
              0.3333333333333333,
              "#9c179e"
             ],
             [
              0.4444444444444444,
              "#bd3786"
             ],
             [
              0.5555555555555556,
              "#d8576b"
             ],
             [
              0.6666666666666666,
              "#ed7953"
             ],
             [
              0.7777777777777778,
              "#fb9f3a"
             ],
             [
              0.8888888888888888,
              "#fdca26"
             ],
             [
              1,
              "#f0f921"
             ]
            ],
            "type": "surface"
           }
          ],
          "table": [
           {
            "cells": {
             "fill": {
              "color": "#EBF0F8"
             },
             "line": {
              "color": "white"
             }
            },
            "header": {
             "fill": {
              "color": "#C8D4E3"
             },
             "line": {
              "color": "white"
             }
            },
            "type": "table"
           }
          ]
         },
         "layout": {
          "annotationdefaults": {
           "arrowcolor": "#2a3f5f",
           "arrowhead": 0,
           "arrowwidth": 1
          },
          "autotypenumbers": "strict",
          "coloraxis": {
           "colorbar": {
            "outlinewidth": 0,
            "ticks": ""
           }
          },
          "colorscale": {
           "diverging": [
            [
             0,
             "#8e0152"
            ],
            [
             0.1,
             "#c51b7d"
            ],
            [
             0.2,
             "#de77ae"
            ],
            [
             0.3,
             "#f1b6da"
            ],
            [
             0.4,
             "#fde0ef"
            ],
            [
             0.5,
             "#f7f7f7"
            ],
            [
             0.6,
             "#e6f5d0"
            ],
            [
             0.7,
             "#b8e186"
            ],
            [
             0.8,
             "#7fbc41"
            ],
            [
             0.9,
             "#4d9221"
            ],
            [
             1,
             "#276419"
            ]
           ],
           "sequential": [
            [
             0,
             "#0d0887"
            ],
            [
             0.1111111111111111,
             "#46039f"
            ],
            [
             0.2222222222222222,
             "#7201a8"
            ],
            [
             0.3333333333333333,
             "#9c179e"
            ],
            [
             0.4444444444444444,
             "#bd3786"
            ],
            [
             0.5555555555555556,
             "#d8576b"
            ],
            [
             0.6666666666666666,
             "#ed7953"
            ],
            [
             0.7777777777777778,
             "#fb9f3a"
            ],
            [
             0.8888888888888888,
             "#fdca26"
            ],
            [
             1,
             "#f0f921"
            ]
           ],
           "sequentialminus": [
            [
             0,
             "#0d0887"
            ],
            [
             0.1111111111111111,
             "#46039f"
            ],
            [
             0.2222222222222222,
             "#7201a8"
            ],
            [
             0.3333333333333333,
             "#9c179e"
            ],
            [
             0.4444444444444444,
             "#bd3786"
            ],
            [
             0.5555555555555556,
             "#d8576b"
            ],
            [
             0.6666666666666666,
             "#ed7953"
            ],
            [
             0.7777777777777778,
             "#fb9f3a"
            ],
            [
             0.8888888888888888,
             "#fdca26"
            ],
            [
             1,
             "#f0f921"
            ]
           ]
          },
          "colorway": [
           "#636efa",
           "#EF553B",
           "#00cc96",
           "#ab63fa",
           "#FFA15A",
           "#19d3f3",
           "#FF6692",
           "#B6E880",
           "#FF97FF",
           "#FECB52"
          ],
          "font": {
           "color": "#2a3f5f"
          },
          "geo": {
           "bgcolor": "white",
           "lakecolor": "white",
           "landcolor": "#E5ECF6",
           "showlakes": true,
           "showland": true,
           "subunitcolor": "white"
          },
          "hoverlabel": {
           "align": "left"
          },
          "hovermode": "closest",
          "mapbox": {
           "style": "light"
          },
          "paper_bgcolor": "white",
          "plot_bgcolor": "#E5ECF6",
          "polar": {
           "angularaxis": {
            "gridcolor": "white",
            "linecolor": "white",
            "ticks": ""
           },
           "bgcolor": "#E5ECF6",
           "radialaxis": {
            "gridcolor": "white",
            "linecolor": "white",
            "ticks": ""
           }
          },
          "scene": {
           "xaxis": {
            "backgroundcolor": "#E5ECF6",
            "gridcolor": "white",
            "gridwidth": 2,
            "linecolor": "white",
            "showbackground": true,
            "ticks": "",
            "zerolinecolor": "white"
           },
           "yaxis": {
            "backgroundcolor": "#E5ECF6",
            "gridcolor": "white",
            "gridwidth": 2,
            "linecolor": "white",
            "showbackground": true,
            "ticks": "",
            "zerolinecolor": "white"
           },
           "zaxis": {
            "backgroundcolor": "#E5ECF6",
            "gridcolor": "white",
            "gridwidth": 2,
            "linecolor": "white",
            "showbackground": true,
            "ticks": "",
            "zerolinecolor": "white"
           }
          },
          "shapedefaults": {
           "line": {
            "color": "#2a3f5f"
           }
          },
          "ternary": {
           "aaxis": {
            "gridcolor": "white",
            "linecolor": "white",
            "ticks": ""
           },
           "baxis": {
            "gridcolor": "white",
            "linecolor": "white",
            "ticks": ""
           },
           "bgcolor": "#E5ECF6",
           "caxis": {
            "gridcolor": "white",
            "linecolor": "white",
            "ticks": ""
           }
          },
          "title": {
           "x": 0.05
          },
          "xaxis": {
           "automargin": true,
           "gridcolor": "white",
           "linecolor": "white",
           "ticks": "",
           "title": {
            "standoff": 15
           },
           "zerolinecolor": "white",
           "zerolinewidth": 2
          },
          "yaxis": {
           "automargin": true,
           "gridcolor": "white",
           "linecolor": "white",
           "ticks": "",
           "title": {
            "standoff": 15
           },
           "zerolinecolor": "white",
           "zerolinewidth": 2
          }
         }
        },
        "title": {
         "text": "Curl free output from GP Regression for n = 100 input vectors for current carrying wire"
        }
       }
      }
     },
     "metadata": {},
     "output_type": "display_data"
    }
   ],
   "source": [
    "plotter(outputs_wire_curl_free, \n",
    "        title = f'Curl free output from GP Regression for n = {given_samples_wire} input vectors for current carrying wire')"
   ]
  },
  {
   "cell_type": "code",
   "execution_count": 69,
   "id": "6c57ec51",
   "metadata": {},
   "outputs": [
    {
     "name": "stdout",
     "output_type": "stream",
     "text": [
      "MSE for this case of 428.44451114183215\n"
     ]
    },
    {
     "data": {
      "application/vnd.plotly.v1+json": {
       "config": {
        "plotlyServerURL": "https://plot.ly"
       },
       "data": [
        {
         "anchor": "tail",
         "sizemode": "scaled",
         "sizeref": 2,
         "type": "cone",
         "u": {
          "bdata": "Nn9PrtMtlkCbGu2qx7OgQJsi6cI0HaBANhmVCA1LlkBsyps4tISGQNmUx1gTzXBAAJ0suK/63b8ni1doLpt1wJRVs/vR34fAlA3QEn4kisCZYg85h5qRQJlaqlz105tAmbaUqUqRmUAyLY9VIVSPQGT6L3gYxnhAkGnYm/QHXkCQ6b50rn9WQAA4ixDgq+e/nOWc/KfPdMDOMtOPL3SFwNjXVB0W+ndA7CNt3F6GikDsa4gJ5ZmHQNg39GQW0HdAYN+BYy78U0AA+7ZrM+olQGDf+/wXP1xAsO9OCI4yZ0AA9m18Xa8ZQCiI++CENXnAa6U+s2ufNsCl9rEh/z9cQKW2VDdzDlBAqNTeEMaHAUBYK9F0fuAFwFRq9zBmPhVAldq1U7tvMUBK7dI0zy5JQFRqz7aAqBBAreQD1GbtaMAVmbU2VMlyQNBTwpY1etc/1uLPGPDiZMCs1chIlZtYwKhUVbHN9ENAT6kcTDw/OUDWaqANQntgwNYqkBJ6umzA1qpURoF9ZcDAsFZZOHm/v7YamYoJfI5AaxXHlQkRckBUqlru4zZewFS6FYiBtV/AsVbkP6ZNOEBirfQz3iUlQCpVRgp5TGrAlarvlwsweMCVWjOeFFJwwNZK+IDK729AltzQ05f1lEBXsk3vKf5+QKW26qrAnVHAU1s9AhhWZ8BKfYdlSxBLwIBK7a4gOs+/Uzt6gQ7UYsCp5RqbLyV0wFNbEzvrMGjAV4pCy6ybfEAK5lBy9vmQQCjIqXXg0nNAsG8RXKDEZcDYn20gWAhwwGD/xinALlXAoJgSSDAGUECBAprOPcE7QGAPnXqDl1fAQKCwDCZ50j8U5IdBDGmCQJyN4PMbqntAyHQ7o7wIasBkarZ/QOl9wGQ6AWDAMHbAIPM0TTKNQMA4L8voc5htQJwXnvUOtXNAnA20pJwbckCcZc1NSrp6QM7eQ6G7Co5AAJ2Mmhxm1T9sanNRUo6FwGxWoFgKb4rAbE6QHaZmgMAAjC3c6yq5vydhigbos3tAlD/5xrZ+hUCUdUwyBfuKQMq8cX2zHpNAyrY0fS6CnUDJS2Z9SSd0wABF3keVPsC/uyECl4f+SkCA3dBwhcrUP6DI+wwTofO/3lAvATDwVkBvqJHRFuZlQN4QJugCAl5AgN1QkZ1Y0D9viPDwNGVjQIpJZMJNE29AxRSGTupSf0DFDFBorhV1QBQzxu2PhllAKOaQkkWDQkCK+Y7O2tRgQIo5RPZsFW9Airk1LZSXbkAUs+xfnBFZQAA7M813VP6/DPH/B8DLYkCGIH3DRsx5QAxhCdavLm1AvhBP2eIvL0BC7/jSyK8rwBjiLovy3lZADHGuyr1na0CGOE+QaUVzQIbIOBsvqnBAGGKfTNh/UUDxbvBsZXFiwA+RyccdZmBAHjIfMbkXUkAg8Ya27xLpv3dIW0/B1TpAHlLoCfsvUkAeUiUVDEdcQA8pC6IZmGhAD0mhxYvdbEAeUuuEFgBSQEDy/uxjV2nABiSX3du5IsAMSPBf3SQUwP1tVxXCSTVAf5tUjhFdUED+NnHoyJtAQALJNAWzqkPAAkmezbJGRMCgv91l9sblPwOSZ+m77DHA/W2rZSQDNMD0tw3PgEcewH+b7z4Pd1LA/japTZ6GS8BgQFIoQLbjP/rb1oIkWS7Af8v4PfVOW8DA1YbEz5RpwMANzBaGnmzAfzuqtb8UWcDxNu4g/bFmQIm3fj15ijJAD8kGUCAYZcAPyY9xZNZqwA+pZ6PrR2DAd0iYbVcFPsA8ZJtWMRlFwA8pVJbFw2nAh4Tpn4XadsAPiT6Qu2xqwHo3Vz0v43NAoXcsUZQDMkAMcYwY7RBvwIaoqwg+VXbAhgjDitpDccAYYu1K/2dWwHwhCvvxrRzADDGxTdJ8ZsCGWCfT/z17wIY4v8YP4HTAO6sloPiQfkBQzBG0tsMwwMU8jMwOhnXAxaTq+0IHfsDFPKVJtcl6wIr5Vb779mzAFLM7RKawUMAUs0WF5DhZwIo5vpJt7WnAAAB2JrOraz/k7UHULrCLQMBuyLxHeeK/N0z3VHlrfsAcMkvgB8+DwBz60PeBFoHAN9yYlyOdccAirzs8GDFQQMkzbl0Wy3hA5ME0bV1DiEDylOjDG5CVQN/gpMcJepXA31FSzOLnk8C+6xvIhFCNwL5/MLtcf4DA9g7+/G8LbcDtTX6JYl5TwExINgZUKzlACqln1bxdY0CF5PtenAp4QEIqCtHcSolAopc2oH08g8CijoU46EWFwKIHxdtIDYTARcmCrxPjfMBFC3oSq4BwwIl+yTlM/GLAEp3lN3+HXMAlusgXlJ5OwO7iC2ilBFhAu4g40COKekCgGavUyB5wwKDduCWaSXHAoB3E5A1Jd8Cgrbuia4p2wKAtVSuAAHHAQLt9Kcyxa8BAa9MV4/5rwECbNGcUc2bAANqsaD7XMsDARAgDFn9uQEYptZbs+mrAi3LYgNOIUsBGOWPZfrJhwEZ5NrX7fGbARrlkpnUIZMBG2cJUjXJjwEbJzQRHeWXARkmmWEB4YMCwKL2P0hYewLqG72+inWFAt7ZuIKw/ccDQrT30HTQQwBgpIceIriRAdGvbMXUSMMC6tTcjPLBCwN1aqpC6ZVDA3Zq+Rdy2VMC6taOJp6hLwIyUZIRneTBAI6X2/1NwV0BJKV7DAr50wIyUnrivFzrAurUpkd4rQkC6tQtZyvdCQHRruSweqDZA0K2VTB8NG0DASAlGNVT7vxgpqa2FgCXA6Na6EYrIIUDd2lSxAOtbQF1ziXsZxnPA6ZqiQMGFS8BAukZ8hpvgv1yUaysYLCVAF+XtUXSaQ0CMcmnj71FXQIzyNkm23VpAXJTbRfKHK0B0DaHS/99VwFyUi4CI8CtAgYlFoPb2W8D+bI5vZV9EQP7s9FIbGENAEJhMl3VMFsDgz1ZvaDQIQH82am0271VAf7aZ+DLhW0CBSQb+Q0NTwGDym2C9jHXAYJJapijgdMBEN/bHhyp1QETXFV2donBAic72HBygY0AY0b1Rv78XQO6ixSJFE1rA7mLLp1udVcDdRYuqEGBLwHfRYLTGpmrAvKgW+ogcfsC8qGN2Wrh9wL7pSiq+o45Ae8MwV2rqf0D2VvzivTRsQGBCejYnyQjACkmQyJWjZsAKedGEkPpmwCYkURCHvEDA7W0on6AkVED29mjQKNhgQHt7e6pZL3hABAcLN1PId8AEt49LhUF0wIDgwHUivCXA+JGTtPyGaUD4UXVHN6VjQACCe2T5BAXAENx+Ut4UVMAAwdWrrhsTwPgxhW9VOWtAfkQJUlsUgEAy4AFflVppwBmQCWMYgnHAyYDISBWLTsDOH9cwdChgQJy/g7hcy1hAyYDUjPp7RsAyoLDrSshiwDJA/VebPmPASAY0yucIFcDnL2ldxSZ0QM99eCvs20PA6L7g2WJUXsDECJrZXwwkQIzgrbmKGmBAGEETkD8wVUDPfUvWlSpFwHSfVgxwi2TAdN9ilFdFb8B038YWOyxpwBhBgGH+EVdA+E7bdOeuSkCAECNz1ncMwPjOhGLrXkBAfGfs7W//UkD4zmiGH+JGQAAhJoTFkfa/hJhvkDgDUMBCzEf4irRmwEJMYv4yt27AhBihZ0V8V8CnYDwgPphNQE7BorpYrj5AcAoWpAKqBUCQ9WkReNkDwLI+/VcTkzfAZH1amOrBL8BkfcpTYV8qwKxPnFCbHFfA1qcWY9y/ZMCsT36Ir7xZwMj6JCbxYxtAsj61mBJxO0CcgiWxIFAhwE7BsjJTUDPAp2A/h57cRcCnYK8tG6dLwKdgp/3xgk3AVLAKdf00VMCnYIf8y5JAwKxPJca5PV1AfqdYfYRvUsAUxPiiEBcoQOw7w42YbCrA9p17UOPAMsD7zqyjvVFBwH5nshIch1HAfmfQSUaMXcC/M2uc2gdhwMC+M0x7yOe/IUY++NfAcEDAc++mhnDlP3S/42I7B2JA6D69LPxXWkDPfYxQ5KJHQHjua+RsHRNAMYKMCQBPQMAYQYeJCidYwIwg7/HGPWXAGEH3N1CvXsDoPrO6YWRVQBm4okZxAXJAGQjR0qbbe0AZEDZSzd13QDIgSBEglWpAygB7eX6wSkBs/tKcleQ0wDZ/7p26I03Azp/yB98jZMDn741r4PdxwOcPsMU763HAgqrl6ijWg0CC01TUHxGGQILD9Nzp6oNABIcTdF5aeUAIriwlAkpgQACCayrYQQBAQHDO7JqfOUCAH7f+nWMrwPjxEkeqNmvA/Ng5s95ld8Ce/1jSwzmNQJ5X9TPS0YdAnsdrDbHYgkA8n67QyxxzQAAxwK066xzAiEHCVF34YcCIwR5aAmthwBADFLHuJl/AiAGIzNQ5YsDEoHx5llBzwCAAllz46ndAIGDZJoRYcUAgQOEF0ax2QCCguJ3gmXBAAPD/Q00xAMDAfxE5uzljwIB/j8sgwl/AgH+xdwDqUsAA/+DS5pFPwIC/uVHy/1bAtXlef15oVEAsGevzBB87wNpcbAVCq2RA2pzL5XQsaUCozZHS+GUqQEvGpIv+YlnAS8Z8gzHgUMBLxuc99P5QwCZjejO802DAJqM7OVNEYcD4IW9zK9ZIQII3pUUXf2fABO9qQDGCVcAQvAf6WEg7wATvStsCR1zABO8bMkTBXcAI3vE050NEwATvoyzyNVbAgnc5/K5YbsDBOy7Fb7FywDwFkyK9T1BAsf51ShmMccCxfrkSAnZzwLEefZEbFHHAsZ77iNLLccBiveCUlGZrwMR6TELJ1F7AYr1Oui0sZsCxXj2C70R0wLG+g8zMuHrAsb5mqq70eEDEOvOySPZVQECsZ04yrh5AiPWUrZgrRUCI9QSpKfhKQMR6awaZtlNAxHoiE3pnWECI9WQULTNNQIj1WBtZ9ERAwFOI70b9GcCEd/lkv8BpQA6e4UnfHEVA8qFtwkehRMDIh9iqzygnwHDw7l93LRdA8iH26BFIRMB8iJyoOQNgwHyIdfoD9WLAkA+R2VorEMAHb0V2TRxTQE1CexRb8VVATQYsttSLXEDQZAR2iHUWQMzm/ymAIj7AzObK1GH0NMCzOeEBClxQwNocGTNksGPA2hyS+PN8YsCajJgMgERMQCbjDQksNGVAgPe8uDERVkDgy+YAHtd0QMCfrg0de2tAAf9USUgeTkD8A6Qkf28jwP4B6ljzPDXA/ANgyNjCIMAB/6HwwBFJQMD/wd/ylmBAAX+xsGj6SUAAMXvK994VQMSI6KlBPX1AxCC9BhzGfECI4f2RDOJrQABiVA/sYwhA8DyUTx+EUMAA8HyvqejTv0AMSEFfLjxAeD5l8kR/ZcCeF/7X+DCDwJ432RceUopAPH9O1aUle0AAMYznZ0EYwMSAeibtz3LAxOBCelTrcMBADPozEqs+wPB8gQrvlVZAgBhOIxcTJ8CIgQzuUIttwGJUA2JX6IbAQEBnOsIsY0D+/W0WNd44wIB/eYO2eFrAwD+Bd3W5bcDgn89uBNdzwMA/Mu7h1mvAgP900Y5YUcCAf/9XHqvYv//+MZDIGUTA4Nc8a5PUc8AmIxWdBg5kwJORD+U1NXTAJmNXOSVSbMAmY4puZhBswJMxNVZnxnPAk9Eoip1CccBMRpm8/mdbwECboznvgB1AAJNxszSH8L8mA9B2MLlnwATvw8doWVDAwfuSMeuGd8DBOywOjgd0wMF76w1eJHLAwTuWQdVgdsDBe6E+VsJzwIJ3jLALymPACN71rdaJSMAI3oMvgEJBwIK3lf2SDmLAPGWmY45aV0CxHjgUc41ywLF+mp5K/HPAsd43G1SvcsCxPp8Q6jx0wGI9TNvgx2/AxHp7qXZDXsCI9TYzuQtKwIj1W8x26kXAYh1RfIuTZsCxtnNVFP58QGKt3S1aJWdAYg3Aclx7ZEBifZonvKJoQGJ9z5TVPWtAsZ6uGVBKckCxniwFwYx2QLF+64q0FnZAsX6RPGvMckAg1gGG3XoiQIQnxaNQQWVAB+9sbEqFW0AHP/PVKOZcQITXTOZ+GWRAhHeHSKvcakCE9wVU+cRvQIS3zgtKfWtAhLdyY6tPYkAH7/q92KtTQD50vWaY63LAs/lQBsLaXcCajOFTOJFFQDSZv3w1/zZANBnLlg6gPEBNBkuWSd5XQE3GUddRmFxAmoxE3bAyREDQZKQuBgUVQJqMj6G6n0RAbY5I4gCocMAg0IfLLV5ywIC/QmbB41tAgL/ClUfRUEAAgpXpdSAywAD8gJ2gwiVAAH99lv9UR0AAf1HJBGZLQMCf/BUG0GJA4N+az+ILcUAAICDkuv/1v56fCO9PT4PAEONVi1T8U0CIgauoNAZiQACAGBptsak/8Nysgv7IVcDwfGf06/1ZwOB5KjRM5knAIIYV1Tq1SkAAYhBgllQNQDynj1fYQn/AAASn10Pr878Izo6Ae6ZvwARHO5vfOXjACO5y6cPsZcD8GOSBmRdyQH4cZbZsNoJA/KhVzVrBe0Dw415xKRZfQBDcayMdPlXABFd/joedfMAyoO3KhTNvwBkQthxoKHXAGfBY8DEcdsAyoNCjGyNuwJQBU6WeazLAzh+y5ufpYUCbv3p0GK5bQGz+BhvI6TBAgDKgnJdv7r8yIGY8TnVowHTv2QfAnWTAui87nNa5csC6HzMGXtRywHSfawObu27AdL8/UlNxYsDQ/VHNjJxJwNB992TYf0DA0H09nEt1R8DQfWJzhEpBwHRfjyGddGbAesfjCCR1X0CGuFGkWYNdwEO8pJGu8GTAQ1yYRJhKZcBDbD7Gav9jwEPsR+Mj2WHAQ0x51kfwY8BDzKTTcmhiwBZizNzqbT3AqHc+Drz5HEAUpDzcfTV0QFGQy59SY1VAREHYvi3zNEC8PoXys707wF5fyqK0i0vAXt/3Jn6FRsBeH388nfRLwLw+0ZotMDbAKBiA+uhGZEAUrCoKlSNxQOxj77pgFnFA2GexpETcZ0DYh70NlU1lQK8P1fpt+FlAr887eCVxV0DYNyQQGTJnQNh37bd+Zm9A7FMqgd7ecEDsg/U0YrZzQNjnjE7RTWRA1DtbpKLmL8CGmDGI1FFZQENMYr9wn2BAhhgdtSTDUUCGGIbpE0hUQEMsGyHgvWlAIc7z2k35cUBDjDmJ+ZxvQIZ4BvBN8ltA3xm+XWhwd8BG0JuysI1wwJjug4VVoR1A032i2jasRUC0CFZwvLsqwLQINm8r+yDA0337c9mSRUDTfU3+NClJQKa7sNGlKDpAFsFIdTVCUcAj0B1vk/uBwOY/eNyYjnXAZoD6D/cLUUBmwHeI5+xVQJgBzMtZkTtAmAHvtBi7NkAAml/EMHbfv2g+usnBED/AZii0YBZsUEAzHH1ZzNFnQM0nktJkYWDAfkCYrQwQg8AACM7yTQDjPxDcFpzy8VhAEDyvbuxaU0AQDP9EVy9TQEBwxMhP4jtAAMF6HJV/FkAI3gyTCAZkQAQPWAYseHNA4F/SJbNmQMB7i/06A9FxwPf2D3vGWmzA2N6k7k2aG8CFMGCa+YB4QELulbvRwoVAQp7u6noAg0AJSV3J6HRqQO7tHSgAfVLA29tVjEPBRcCghOTx3Qr4P4muqURs+mbAicqVqbO7YcAS0ahmVJ1bwAB35Y+CsOo/d3kMNLq2YkB3YQLeo8pmQO7CJUdpC1BAJLpipGzZQsAg0S1CItccwLiLzxIbODRA/0rx8dJKRkAQ0DZryL4MwIB2ebDu+VfAgPbIcHD9XcAEtGcC9NQpwIAJ/VczC1tAgElfvfMRWEAC2rwtBHA7wEBbmcAnGmLAQBtVyNFya8C69sjLG0JhQOgaQTT7DktAMcrlKGawPMAY5cljNDVOwJ5rTLNUZixAdI2EhQ2yUkAxyk2HtZ42wEb5wIj5tmjARjnhO2DDbsCMctrQK31cwEZKOFGqwEVAYKQ0rSU8BEDQrUXsCM0bwHRrz79PljbAGCkxEo9NJ0AYKUX5bUckQG5t9CM3SGDAt1a6v2IOcMDd2k5hE3ZcwElpBTLCtXFAIyUYMvWCV8AjJZptQuxQwIyUtgI/8DTARkrRrxSASMBGSpf1w/NCwHRr1ep+dDBA0K0dqM4DFEAYKeUaQagnwG7tmsYKcWFAt/bltCwAekC6xlDdzVdkwHSNKBlr8FnA6BqW6dKEQMB0jWlilaxRwHSN/FntoFPAMco5MpnjP0BGeS9UyyZkQEa5WQ41NGxARrkXmAeObECM8rpmdaFbQH/JGQSCsVfA/pLZF7uHT8D4S6ZWymktwP6S38ckrkXAf8mvN08iVcD+kkcCwqxEwIE22ni69lVAQFuXNDJHbEBAG+WTqEttQH9JUDFYSVHAEh0bppGaV0ASnV5WIQdVQCW6LaErwUxAJbocpxmJQEC2i8zFv/s0wO6iXWByEFPA2C5GoW+SEsCJrn0d3OtvQEVHNpSMxX5ARRd0WhCPc0DuTeUsISNVQO5t52nyHV5A7m3CIULYUEDu7edCK3dVQO6tjJNbPFtA7k1hNjQoU0D3hhOXPppjQHtzCd1jw39AvtXHRYP3i0C+8bwReIuIQEY+QnN7Z07AsMgxD4W+8r9vqO9On35iQG+olu50aGlAdcP+Zz//OEDJH8TZv9hwwMl7qtAYz3rAyRMdMuD3d8CRVwSElXVuwCzy+oclOBvAADsf9Tsf+b8oJk0hmA5EQAB2FmiWGOu/dua8IfhYYcB21hPrlLBvwHZGBOoQkGjAAMDOxlghmL8UM5VZlUlYQAB25rlGA+y/UMxg9iXhNkDQu+VdG+5CwDDEydQj3UZACL0bjcyyAsD0DrpiU0JgwOgd9HPD11nADDE4FPQUZ0CGmLe2/lh/QIaYqN5DJn1AGCKB+p0SUkDonUTyG0tewHmrzwI723TA8XblhLa8ZMDFW6oWSUhNwIq3Skckwz/AHlIH9D1nV0CHNIFQ2Jd2QEQawLCS+oBAh/S10IGxd0Ao3qKxq2ATwMVbsu1UsUHAkMTzraXKgcAgaQ0d+2p4wEDSdrLjn2LABpAUTeSqB8CAW0NBa9RaQMCtIO8Tr2lAwC1P/3edaEAAt+3OWn5AQIAkwtOiz1TA4Nbo2NTIcEDgVq6QLwh7wOC2BwJGVHfAgFvMLrOyWsCApEGiBPhQQICkKrOihFtAgKRqOR6FVkAASYkm425FQP7bcm+0byHAgCTVmwtkUECQVHO/34WAQB6SXo7zqFDADyn88IPyasCJt56+qW0zQPGWdaxNyGpA8ZZNbyswbEDxFs4wp1RoQPEWD45qhm9AeYsQCSvidUB5i1QKgXh6QLzVIszOR4NA9O5aiUVubkAMcaOjhFliwELvUE+JDSNA9E6hLR2JbED0jijDGnZuQPTOefXQy2tAescaKi0yeEC9c8h6VyiEQL3TrEqgIodAvcNtRn6phEA7IzTbeEZ+QBRzW5JgmFzAirkANaCgYMCxMynU4x4+QNgZVhSRqEJAxM5AkCRBE0B2BjyN2h5rQJ7hsFHQ8YNAnhFcanXLjECecRPLCiWKQOS5hbuUP4VAizwt6KXQPEBviA10FoplwN1Q0K1TJVvA3fD1o1tBVMDd0HatIpdRwJH3wTDEjGZA5IXspAFqhkDywjVke72SQPI+HZzG4pJA6ORz6ePaKsCdbJMhm3ZdwJ1sFIBGOlXATrLOizHyZ8Anw1+DnD97wJQX4zExSIDAJwG4V9yqdsAnH806HwB1wJQFLdJ4MYTAlLETuHHshsCAH/MCzBXOP5Bpt4nruVlAyBRf5EV1bkDI1GoHswFrQMjEYqlI2WRAZOp55mp2d0BSte3HCNyFQDIZ/iTH/IFAcNZeDiM6V8CcvaT+HSV7wFAAWIKjTGPAsO/shNIGZ0DY50kHLo5+QOzzlb8GH4JA7FsuOb/lhUD255ajvYmRQPYDe8QKhZhA9sXKqiB/lUDYPxl9JsB/QABgv43VAt8/V7LED/vZe8BrJQKeZDQzwKmdi0GFB3dA1c7xFPRKgEDVvg6H/n+FQGpHulO9rpFAaqd+kBfymEBqq/neH+6WQNU+owSMcYZAqa0e2WlJdEBr1Uv9U5l5wNaqCpUqE2TAU6oSNs4YX0Aq1fWfgQ1pQCpVpK8fVWxAlYqTSRSlfEBKlTRwc7aIQErFxcc7e4hAlQokQRqjd0CVyoHMsp90QK1VkfdI5VtA3JRqgCjl+L+t1WjpQmlZQK3VlmoDKlJAUyoTWgUmWMAqVfiCNRFjwG5KxVGS0gzArdXVwcm+VEBOqWziIqY5wNaqzYfvG2ZAK0GNEXLWg0CtxNmeQUZkQK2ENo4TgmhArQQUZhtka0ColSjRmUAQQFN7A/olx2jAU7s0ulTnYMDUSswya/goQAC1Esa4oM0/rYRXhdjyYUAUfGLieHGGQABQkKt/zOc/oKCB25cZVEAoyLwMHdNxQFBQp95fAWdAABR03AkUB0CgIPj+bZpVQCiIIDwaDXJAKAgCbt8VcUBQkBx90rdpQM6+WAZyroJAyISJAnVfbMDIlOyAFAdjwDjrnRWjTmFAcJZlHjlzX0BAplF2f4sxwHAWhiiEqlJAnEVIOtK0c0CcRdrt5EN2QDgLd6kFpGlAlCNUU/lXiEB0MuSdFGw2QADGpm+Cwsy/Toa+H5NbaEBO1psM9NVjQICx6fFcoeK/OlnLVTFQRUAnu7vTjjByQCdLh/Y8snxAJ7sxNvgPeEA=",
          "dtype": "f8"
         },
         "v": {
          "bdata": "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",
          "dtype": "f8"
         },
         "w": {
          "bdata": "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",
          "dtype": "f8"
         },
         "x": {
          "bdata": "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",
          "dtype": "f8"
         },
         "y": {
          "bdata": "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",
          "dtype": "f8"
         },
         "z": {
          "bdata": "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",
          "dtype": "f8"
         }
        }
       ],
       "layout": {
        "scene": {
         "xaxis": {
          "title": {
           "text": "X"
          }
         },
         "yaxis": {
          "title": {
           "text": "Y"
          }
         },
         "zaxis": {
          "title": {
           "text": "Z"
          }
         }
        },
        "template": {
         "data": {
          "bar": [
           {
            "error_x": {
             "color": "#2a3f5f"
            },
            "error_y": {
             "color": "#2a3f5f"
            },
            "marker": {
             "line": {
              "color": "#E5ECF6",
              "width": 0.5
             },
             "pattern": {
              "fillmode": "overlay",
              "size": 10,
              "solidity": 0.2
             }
            },
            "type": "bar"
           }
          ],
          "barpolar": [
           {
            "marker": {
             "line": {
              "color": "#E5ECF6",
              "width": 0.5
             },
             "pattern": {
              "fillmode": "overlay",
              "size": 10,
              "solidity": 0.2
             }
            },
            "type": "barpolar"
           }
          ],
          "carpet": [
           {
            "aaxis": {
             "endlinecolor": "#2a3f5f",
             "gridcolor": "white",
             "linecolor": "white",
             "minorgridcolor": "white",
             "startlinecolor": "#2a3f5f"
            },
            "baxis": {
             "endlinecolor": "#2a3f5f",
             "gridcolor": "white",
             "linecolor": "white",
             "minorgridcolor": "white",
             "startlinecolor": "#2a3f5f"
            },
            "type": "carpet"
           }
          ],
          "choropleth": [
           {
            "colorbar": {
             "outlinewidth": 0,
             "ticks": ""
            },
            "type": "choropleth"
           }
          ],
          "contour": [
           {
            "colorbar": {
             "outlinewidth": 0,
             "ticks": ""
            },
            "colorscale": [
             [
              0,
              "#0d0887"
             ],
             [
              0.1111111111111111,
              "#46039f"
             ],
             [
              0.2222222222222222,
              "#7201a8"
             ],
             [
              0.3333333333333333,
              "#9c179e"
             ],
             [
              0.4444444444444444,
              "#bd3786"
             ],
             [
              0.5555555555555556,
              "#d8576b"
             ],
             [
              0.6666666666666666,
              "#ed7953"
             ],
             [
              0.7777777777777778,
              "#fb9f3a"
             ],
             [
              0.8888888888888888,
              "#fdca26"
             ],
             [
              1,
              "#f0f921"
             ]
            ],
            "type": "contour"
           }
          ],
          "contourcarpet": [
           {
            "colorbar": {
             "outlinewidth": 0,
             "ticks": ""
            },
            "type": "contourcarpet"
           }
          ],
          "heatmap": [
           {
            "colorbar": {
             "outlinewidth": 0,
             "ticks": ""
            },
            "colorscale": [
             [
              0,
              "#0d0887"
             ],
             [
              0.1111111111111111,
              "#46039f"
             ],
             [
              0.2222222222222222,
              "#7201a8"
             ],
             [
              0.3333333333333333,
              "#9c179e"
             ],
             [
              0.4444444444444444,
              "#bd3786"
             ],
             [
              0.5555555555555556,
              "#d8576b"
             ],
             [
              0.6666666666666666,
              "#ed7953"
             ],
             [
              0.7777777777777778,
              "#fb9f3a"
             ],
             [
              0.8888888888888888,
              "#fdca26"
             ],
             [
              1,
              "#f0f921"
             ]
            ],
            "type": "heatmap"
           }
          ],
          "histogram": [
           {
            "marker": {
             "pattern": {
              "fillmode": "overlay",
              "size": 10,
              "solidity": 0.2
             }
            },
            "type": "histogram"
           }
          ],
          "histogram2d": [
           {
            "colorbar": {
             "outlinewidth": 0,
             "ticks": ""
            },
            "colorscale": [
             [
              0,
              "#0d0887"
             ],
             [
              0.1111111111111111,
              "#46039f"
             ],
             [
              0.2222222222222222,
              "#7201a8"
             ],
             [
              0.3333333333333333,
              "#9c179e"
             ],
             [
              0.4444444444444444,
              "#bd3786"
             ],
             [
              0.5555555555555556,
              "#d8576b"
             ],
             [
              0.6666666666666666,
              "#ed7953"
             ],
             [
              0.7777777777777778,
              "#fb9f3a"
             ],
             [
              0.8888888888888888,
              "#fdca26"
             ],
             [
              1,
              "#f0f921"
             ]
            ],
            "type": "histogram2d"
           }
          ],
          "histogram2dcontour": [
           {
            "colorbar": {
             "outlinewidth": 0,
             "ticks": ""
            },
            "colorscale": [
             [
              0,
              "#0d0887"
             ],
             [
              0.1111111111111111,
              "#46039f"
             ],
             [
              0.2222222222222222,
              "#7201a8"
             ],
             [
              0.3333333333333333,
              "#9c179e"
             ],
             [
              0.4444444444444444,
              "#bd3786"
             ],
             [
              0.5555555555555556,
              "#d8576b"
             ],
             [
              0.6666666666666666,
              "#ed7953"
             ],
             [
              0.7777777777777778,
              "#fb9f3a"
             ],
             [
              0.8888888888888888,
              "#fdca26"
             ],
             [
              1,
              "#f0f921"
             ]
            ],
            "type": "histogram2dcontour"
           }
          ],
          "mesh3d": [
           {
            "colorbar": {
             "outlinewidth": 0,
             "ticks": ""
            },
            "type": "mesh3d"
           }
          ],
          "parcoords": [
           {
            "line": {
             "colorbar": {
              "outlinewidth": 0,
              "ticks": ""
             }
            },
            "type": "parcoords"
           }
          ],
          "pie": [
           {
            "automargin": true,
            "type": "pie"
           }
          ],
          "scatter": [
           {
            "fillpattern": {
             "fillmode": "overlay",
             "size": 10,
             "solidity": 0.2
            },
            "type": "scatter"
           }
          ],
          "scatter3d": [
           {
            "line": {
             "colorbar": {
              "outlinewidth": 0,
              "ticks": ""
             }
            },
            "marker": {
             "colorbar": {
              "outlinewidth": 0,
              "ticks": ""
             }
            },
            "type": "scatter3d"
           }
          ],
          "scattercarpet": [
           {
            "marker": {
             "colorbar": {
              "outlinewidth": 0,
              "ticks": ""
             }
            },
            "type": "scattercarpet"
           }
          ],
          "scattergeo": [
           {
            "marker": {
             "colorbar": {
              "outlinewidth": 0,
              "ticks": ""
             }
            },
            "type": "scattergeo"
           }
          ],
          "scattergl": [
           {
            "marker": {
             "colorbar": {
              "outlinewidth": 0,
              "ticks": ""
             }
            },
            "type": "scattergl"
           }
          ],
          "scattermap": [
           {
            "marker": {
             "colorbar": {
              "outlinewidth": 0,
              "ticks": ""
             }
            },
            "type": "scattermap"
           }
          ],
          "scattermapbox": [
           {
            "marker": {
             "colorbar": {
              "outlinewidth": 0,
              "ticks": ""
             }
            },
            "type": "scattermapbox"
           }
          ],
          "scatterpolar": [
           {
            "marker": {
             "colorbar": {
              "outlinewidth": 0,
              "ticks": ""
             }
            },
            "type": "scatterpolar"
           }
          ],
          "scatterpolargl": [
           {
            "marker": {
             "colorbar": {
              "outlinewidth": 0,
              "ticks": ""
             }
            },
            "type": "scatterpolargl"
           }
          ],
          "scatterternary": [
           {
            "marker": {
             "colorbar": {
              "outlinewidth": 0,
              "ticks": ""
             }
            },
            "type": "scatterternary"
           }
          ],
          "surface": [
           {
            "colorbar": {
             "outlinewidth": 0,
             "ticks": ""
            },
            "colorscale": [
             [
              0,
              "#0d0887"
             ],
             [
              0.1111111111111111,
              "#46039f"
             ],
             [
              0.2222222222222222,
              "#7201a8"
             ],
             [
              0.3333333333333333,
              "#9c179e"
             ],
             [
              0.4444444444444444,
              "#bd3786"
             ],
             [
              0.5555555555555556,
              "#d8576b"
             ],
             [
              0.6666666666666666,
              "#ed7953"
             ],
             [
              0.7777777777777778,
              "#fb9f3a"
             ],
             [
              0.8888888888888888,
              "#fdca26"
             ],
             [
              1,
              "#f0f921"
             ]
            ],
            "type": "surface"
           }
          ],
          "table": [
           {
            "cells": {
             "fill": {
              "color": "#EBF0F8"
             },
             "line": {
              "color": "white"
             }
            },
            "header": {
             "fill": {
              "color": "#C8D4E3"
             },
             "line": {
              "color": "white"
             }
            },
            "type": "table"
           }
          ]
         },
         "layout": {
          "annotationdefaults": {
           "arrowcolor": "#2a3f5f",
           "arrowhead": 0,
           "arrowwidth": 1
          },
          "autotypenumbers": "strict",
          "coloraxis": {
           "colorbar": {
            "outlinewidth": 0,
            "ticks": ""
           }
          },
          "colorscale": {
           "diverging": [
            [
             0,
             "#8e0152"
            ],
            [
             0.1,
             "#c51b7d"
            ],
            [
             0.2,
             "#de77ae"
            ],
            [
             0.3,
             "#f1b6da"
            ],
            [
             0.4,
             "#fde0ef"
            ],
            [
             0.5,
             "#f7f7f7"
            ],
            [
             0.6,
             "#e6f5d0"
            ],
            [
             0.7,
             "#b8e186"
            ],
            [
             0.8,
             "#7fbc41"
            ],
            [
             0.9,
             "#4d9221"
            ],
            [
             1,
             "#276419"
            ]
           ],
           "sequential": [
            [
             0,
             "#0d0887"
            ],
            [
             0.1111111111111111,
             "#46039f"
            ],
            [
             0.2222222222222222,
             "#7201a8"
            ],
            [
             0.3333333333333333,
             "#9c179e"
            ],
            [
             0.4444444444444444,
             "#bd3786"
            ],
            [
             0.5555555555555556,
             "#d8576b"
            ],
            [
             0.6666666666666666,
             "#ed7953"
            ],
            [
             0.7777777777777778,
             "#fb9f3a"
            ],
            [
             0.8888888888888888,
             "#fdca26"
            ],
            [
             1,
             "#f0f921"
            ]
           ],
           "sequentialminus": [
            [
             0,
             "#0d0887"
            ],
            [
             0.1111111111111111,
             "#46039f"
            ],
            [
             0.2222222222222222,
             "#7201a8"
            ],
            [
             0.3333333333333333,
             "#9c179e"
            ],
            [
             0.4444444444444444,
             "#bd3786"
            ],
            [
             0.5555555555555556,
             "#d8576b"
            ],
            [
             0.6666666666666666,
             "#ed7953"
            ],
            [
             0.7777777777777778,
             "#fb9f3a"
            ],
            [
             0.8888888888888888,
             "#fdca26"
            ],
            [
             1,
             "#f0f921"
            ]
           ]
          },
          "colorway": [
           "#636efa",
           "#EF553B",
           "#00cc96",
           "#ab63fa",
           "#FFA15A",
           "#19d3f3",
           "#FF6692",
           "#B6E880",
           "#FF97FF",
           "#FECB52"
          ],
          "font": {
           "color": "#2a3f5f"
          },
          "geo": {
           "bgcolor": "white",
           "lakecolor": "white",
           "landcolor": "#E5ECF6",
           "showlakes": true,
           "showland": true,
           "subunitcolor": "white"
          },
          "hoverlabel": {
           "align": "left"
          },
          "hovermode": "closest",
          "mapbox": {
           "style": "light"
          },
          "paper_bgcolor": "white",
          "plot_bgcolor": "#E5ECF6",
          "polar": {
           "angularaxis": {
            "gridcolor": "white",
            "linecolor": "white",
            "ticks": ""
           },
           "bgcolor": "#E5ECF6",
           "radialaxis": {
            "gridcolor": "white",
            "linecolor": "white",
            "ticks": ""
           }
          },
          "scene": {
           "xaxis": {
            "backgroundcolor": "#E5ECF6",
            "gridcolor": "white",
            "gridwidth": 2,
            "linecolor": "white",
            "showbackground": true,
            "ticks": "",
            "zerolinecolor": "white"
           },
           "yaxis": {
            "backgroundcolor": "#E5ECF6",
            "gridcolor": "white",
            "gridwidth": 2,
            "linecolor": "white",
            "showbackground": true,
            "ticks": "",
            "zerolinecolor": "white"
           },
           "zaxis": {
            "backgroundcolor": "#E5ECF6",
            "gridcolor": "white",
            "gridwidth": 2,
            "linecolor": "white",
            "showbackground": true,
            "ticks": "",
            "zerolinecolor": "white"
           }
          },
          "shapedefaults": {
           "line": {
            "color": "#2a3f5f"
           }
          },
          "ternary": {
           "aaxis": {
            "gridcolor": "white",
            "linecolor": "white",
            "ticks": ""
           },
           "baxis": {
            "gridcolor": "white",
            "linecolor": "white",
            "ticks": ""
           },
           "bgcolor": "#E5ECF6",
           "caxis": {
            "gridcolor": "white",
            "linecolor": "white",
            "ticks": ""
           }
          },
          "title": {
           "x": 0.05
          },
          "xaxis": {
           "automargin": true,
           "gridcolor": "white",
           "linecolor": "white",
           "ticks": "",
           "title": {
            "standoff": 15
           },
           "zerolinecolor": "white",
           "zerolinewidth": 2
          },
          "yaxis": {
           "automargin": true,
           "gridcolor": "white",
           "linecolor": "white",
           "ticks": "",
           "title": {
            "standoff": 15
           },
           "zerolinecolor": "white",
           "zerolinewidth": 2
          }
         }
        },
        "title": {
         "text": "Curl free regression errors for n = 100 input vectors for current carrying wire"
        }
       }
      }
     },
     "metadata": {},
     "output_type": "display_data"
    }
   ],
   "source": [
    "# plot residuals of fit above: \n",
    "residuals_wire_curl_free, mse_wire_curl_free = differencer(outputs_wire, outputs_wire_curl_free)\n",
    "print(f'MSE for this case of {mse_wire_curl_free}')\n",
    "plotter(residuals_wire_curl_free, \n",
    "        title = f'Curl free regression errors for n = {given_samples_wire} input vectors for current carrying wire')"
   ]
  },
  {
   "cell_type": "markdown",
   "id": "7abdc067",
   "metadata": {},
   "source": [
    "## matern kernel time "
   ]
  },
  {
   "cell_type": "code",
   "execution_count": 111,
   "id": "4f5e2a13",
   "metadata": {},
   "outputs": [
    {
     "name": "stdout",
     "output_type": "stream",
     "text": [
      "Parameters for sigma_f and l specified, using these.\n"
     ]
    }
   ],
   "source": [
    "# Divergence free attempt\n",
    "outputs_wire_div_free_matern = updated_vector_field(\n",
    "    sampled_outputs_wire, \n",
    "    outputs_wire[0], outputs_wire[1], outputs_wire[2], \n",
    "    kernel_func='divergence_free_matern_kernel', \n",
    "    sigma_f= 0.0003, l = 12)"
   ]
  },
  {
   "cell_type": "code",
   "execution_count": 112,
   "id": "1b1331f6",
   "metadata": {},
   "outputs": [
    {
     "data": {
      "application/vnd.plotly.v1+json": {
       "config": {
        "plotlyServerURL": "https://plot.ly"
       },
       "data": [
        {
         "anchor": "tail",
         "sizemode": "scaled",
         "sizeref": 2,
         "type": "cone",
         "u": {
          "bdata": "rreCFMZr/b8oAJXsiScMwMtx1ukbBAjANvUyVxpDEMDSn7ycvJUawCyNji84eRnAPx3Me33fHMDIRinJiFohwM8amNiTLiTATqF5yUAmHcAga0DSjMTEP7AQ3JHA2NK/MJnWDVcixz9YVCY4Ee3kv36pxLLJkAbALo8H/EPKDcBHAJDF8SoUwPqnLXvlmxvAuz69Ni4sIcB6mbKvoEAhwM60yTvdYAlAW4j9f9K/EUDcTkqprzoWQAdvBXJTNRZAhXMs83ZgC0AJzkg4Iwn1P+JjQ/UGcOe/ExV3AQsuBcBea0tIcYEQwMdGcz7HvhPAGHBPe62tFkBpIVW1i4QgQEMGj/ZhoSRAJqu40xCbIkDGXknDVUchQCkhRkWikRtAjDia0Ql9EUDniamkBjQCQNKc6jO+5/M/YEiv2HyAvL/O5A+PsFgbQAJpAhriMiJAIKI736UOJkDOhg1kC7knQMLNLNubpitAN7ghlGX1J0Bt//sEjnQhQApqpQPR3xdArvfsEZ/EEEBA03pfwEAJQNdez37BqB5A1YyMrdkTI0Ao2tTX8AonQIecrsqMxCxA1J/1kWZnMECeHwfC8SksQIhAye/KPSZA6QnCSALhIEA2GnJhGs8YQIR6NjdZvRVAYM8B7XmFIUCWKRudP2kmQGqfGuNPuStAuutu+aMdL0DyUf3VofUuQGADvXN7dSxABIbqAVFwKECuS8ErtZwkQAe8VYnxhCFAAAS08OY1HkBz9VX9qDkiQCzQY3miuCZA6dMtkav4KkDUW3yzls8uQFQ93mUIPzBAQK0OIRb+LUALYy4FEycqQLBMKYuZ2CZA+wBJwamzJEB7/e6ufzgjQG+JPKH8oCFAtmLbiNuOJkDrYe8OC9MoQHMbCQ79XCtAnu0sXiJCLUCwZmcJo6UsQKafpiXuMCpAQ0wMzyFAJ0DE3B+zI08lQIO3xQZCYSVAyNROlg9yH0AlWI3Fu8ElQA+BwrzCrSVAFuitxHFNJ0Do8Z+dwyUpQMPgfeq3lylA/iz5KI8zKEBAu4PbgaolQNT913970CJARqrbT/buH0CGMGiHSp4RwBfsQJwTsRXAsGlfFs1pG8APyPedZEEhwJ+UjS9JviTAd+x5525gKMB6cxNzntEuwGTdb5zJOTDAjkFbAPsOLMCL1AgtLx4mwFDtGcoiUQLAj2EByH6FBsDkKrBzlh8QwFcOMcJh5xfAnXLxfKXtH8BOt0m8ScoiwN7m2BDBRibA984x13UkLMCsaMgMUwAqwBYAiLyevCTAGFvuhqdj3T9YBxZbpOXuP0DHTziHqOg/JITi+56K7b+q5j7xnNgLwLwX6gFT1RPADLVkaMjDFsB2SQUNlvobwLygTV5aBB/AqpRNwAFjHcCuH/6a/z0KQGwN8E2Y9RVA365bnxk/H0CS1vjTGxsdQKo9PYEE/hdADZ99M1O/EEAkCEgq7lf5Pzg9+ah03vW/sGO+HnJ8EsDjnzDkjkwQwPQM9scCbBdA0NJXq5FrIUAmy31nu9UoQBthGup1ai1ArL+F6EngLkBsBeyy+5QrQAmZWFuzmCFAaNGjZJT1FkAFwM1GRhURQGVGhvh6xwVApCHy35a7IEDycip2jPsnQBxvmguI8TBADtxfKE+oM0DM2yU1cxEzQNNC3HUCZDBAVt6U+BueKEArMESfZ8QlQHhPKhmohiZAE540PS9pIUBahytzuuYkQIiEO/QHJS1Adfr5CAa0NEC78EZ/sEs2QMDxNix/9TZA1GsV9PYNM0DNtbjzc3MtQFTxQViWdClAsIDVclwYJkATj1ZDjT4jQFZuHQRpViVA6Nxm9GaKKkCYFAuTcyowQP2nxKIlWTRAdsjWYOzqOEAuKre6AT41QPRxkFM2FzFAXK5S1knJLUCmAc/GJygsQJXMwCKP0SVA9pshX4fKIkAl3Iv/jU8nQPjKcm1JIyxAwFg8i7W2MECISw2/TcgyQMRoylLi/TJAV76lKHBfMUAQfgwGbhAvQEIfVEI5ESxAxhm20eNcJkC62uylPdUjQNasdQquWyVAII7ATMSpKEBm8xjMOqotQIFTsMoSEzJAo1u3dqyaMUCif2belxMwQJd553EfYCxAcQu42f+XKEAuXp8c528kQMGMV3Q+FCLAGJdm3vSSKMBQA/iCbagqwCb5X5rSCjDAFOk8+l/KM8DhXRPo+UszwALehH2S0TTAmmsDFu+KOMCKGfLAssg2wDw7RKtsuTHAzEpx12lrGcCSu7B8g7ofwFW8575yHiXAksVrPKN1K8C5wK2y4AEwwD57ScHdsTDA/NKOfX+DMsDPlm0tZcc1wI8FI91jUzfAuPqhVT9lMsAaSxW4JlwLwKNOb1TgTBHAdFaImyY5G8B5CT5l+rQjwKntkMOjmCTAUrBNape5JMBiEICBZZEowLIVxQomii7ACGjRkc1cMMD20S5A5iUqwMHEHOSo7+y/1L7OyyXnCcAIxEI5NO3pv8gGrrE2htS/Dg+wmJqy4T8B7km3QYXhPyt9HFGN3QnArG3Sr4TKGsC2WDq/ZGAhwGDZpgHqyR3A353h3vb1DkDUYry3VTYbQDAGJIe9UytAbVbhyxYIMEDicGyPCNAoQI6yKBU7px1AwiZunv6BEUCz9S4x+MYPQIChedKsOQdAktZDDDv59D9njc4KOMAhQKsVjNPVui5AGFK6+AYOOEBh6K1IkUg7QNaWgA9rAThAhU5Fi8azLkABptsGJBMnQLxK+KG3kypAMmBN6gD0LEAq0cZnkgckQHw/Q5PNgChAryhYOUzaMEC62OHemyc3QAZLdpHKfjxA1gNDcItWPUCWrqzbTQg2QCrn5ENn4jBAbmgwWhC4MEDSQqZTdfwyQM7dVVM9zipAWTHCZ1sMLUAhmdtkIFMwQNjIECl8jjRAPyc5z8bYOEDd++Ypdd08QN4sGF2svzdAMPtweRBFNEBfMTMwnSMyQJhnk395RjBA0cxghpswK0AoLN94uuElQLEq5uQBVixAvglVniGRMUCWZMupp5E0QIa3OB319TZAqCmkuZTON0AfWUl3Iig2QGyDvFHYaDNA3NquymFNMUCwQQygvwYwQJ0AlwyH7yVAJJT+rk3ELUDgtMLsAM8vQBR5sQLALzJAllRLGH0fNUDa+Gz7wtI3QPvkhKZUnDRAcMtw0gnRMUBwiMypNLwvQHDRV9c8LixA2p2xTjv/KcAKLC0WrEwwwJBBlJhnCTPARrCmLmq+NcBNvZo4nuQ5wBmB2jrMfjfA4oR+P+QCOMBZxYC6O3o5wFp+pcFV6TfA7iwB72XLM8DdHiE9C6EmwExZtRKanyzA48GxuKc8McAoFCaeaMA0wOYAIteq0jnAbDPHSF8PN8AiyzOPfVQ4wCLF1gD2JTvAzQUF8VXGOcCWehycwcA0wME9Y7N6DSHAayVwFDQSJsD0iSft0yErwBybi3X2QzDAVHwiGQ2hMcDSsWKBVnUxwCL2jGYoLDTA7ux3vtHhOMB4fVGzj1M5wIYPiD5mLDPAFA1gkbpjEsAu2YNFK0oZwORyfYJ0MB7AT2bLR9hxJ8AcJA7LVxcfwLbEnyZI8h7ALMI9HE2bJcD2Aiv7LzYuwItGVZePVzHAOhDrH/mQKcAsNE/kJo3/P9STy8dRChlAIkqtdwboK0BLvufuDzorQFLDnUmoqyJA8mKGIUxAFUAvPK3C+bsZwNjtVxoft+4/6Iq47Gjc4b+8cqw8kaz2vz+OEjRceR9AJ3XHyDCMMEDvosG8QjtAQDQOFKWhAEJADfDjbZFiOkAiXjd/dJc4QO2or4HYviRAlCRnzGtLMkAmrCGBW6AsQAAzRaUjQCVASPBw6IK0JECRY6P+QsMwQElmQr2x8TpAQzIOQZPJQEAQQJZLQydAQEJki/LEADdARqxAWfh3MUBaMc0RsjIxQL6pxqZWjTJArUL6Qe4WMECUDh7cj8snQKR4VOLvKzJACCdAr3w1PEALNn4hLmk8QKa/MHj2jj1ARQMvpgbpOEA1bX15rHw3QHV1k1OM+jVACDyIP8sFNEAUrHVP6PQwQGNQlvyDKilAzP4XvM7xMEDitCLiIZs1QJm2k4N+ETlAold2caJrO0COVnwWdnk6QJQjrbOodTxA6RzFo/h9N0DV+3j/VZQ0QL5FcXUmijFAZcEGIDZAKUDskXg18QswQBw5suyf9jJAZxuzh+c5NkAWolZMwcQ5QHqu3JaOuDdA4s2eJhDaOECv5Eu3saI0QOukBIOLfDJAXvskfNtzL0DsnL5d6TowwDhZN6TRIjTAywvi5jIHOcARi0zeugo4wECGDf/fBjjA8O0IayNdOMDvZIcomWw7wLRXR7g+ZEHAylu02jB6PMBRuGbhTpc1wKCcMiwjtC7A3jqKI+dfM8AatULni3o2wNREUrkr0DfAGFyGru3GOMAoFaVatj45wMwlsSqgqzzADTYiIXA3QsA0vDJ17f1AwLzzasutpzfAF8CYUujXKsBkbT4dcFAywCXadkndejPAlpGjciOgNMDEnRixxik2wBj3rTCaajfA+nzm8b1cO8Bs8RQmjSdCwNS9iHUV2EDAJiWOcy5yNsA63LWy0LAhwLZje55F6CvA8RZCWOyzKcBuYH6aQWUrwIL5mb7nPTDAgsy5JmoVM8CZcjiA9jA1wEf3JXRZTDzAiGYCgmxRNsAMnB2WQeIvwG4cNCiSY+q/ntvds4sD4L+6OKfo9d7gv665vmqHw/O/oDyxCilOBsCkijZEp5gVwPSpBmVMSxjAvJZhbfMWHsC8TXtZU5gZwKBcgaj7bxLAUvJaEFCfF0AJu7SwZcshQEjxO7X5rSZArhbmZVLqKUCtYSukeGAsQI4qaSy6sitAtEqJIqueJUCmfeEyHbciQIoOZqOEECZAfnsqtuf1MEAbqZahLMYmQBZDjmQm1S9AVBvvycJzNEDklHWWnlg4QCGdJ9kbMTlAp3UkR6CXN0A4/EIBo8w1QOsOUXiDTjZA02v7dxezOEBi5OVabOE0QGx49d5UVjJAJW9Z02IlNUBGztDIIOk5QLwAd0s0NUFAyjyDPJhvQUCBULNHbjs9QD/oAMuPzDtArmSU5gYjP0C+CxByfrI5QLa4Kw4IUDNAhb4jdwSTMUCeDRVFVno1QOgsRXiFNjlA/g0uaLIdPkA/NA3ByrE/QBCnZDg+kD1ARDbiZewOO0BcjbDr9xU6QIK7DpBlYTdAqud4NpGdNEBNUIfnGvkuQHBPfvyDcTNAqCB0ImC2NkAc/VABFYU7QENBZMNT1TpAdawiSgAWPECN4ksdp9w3QDJcizvcvjVAyEs/2IyrNUBeJViGcIgwQCQ3gAaMKTPAeByxcI77NMDghkKN5tY3wIyc9Ck5YjvA5kNguf30P8DaFXNdQfY6wEX+QiGI9jjAJ7LLHQRvOcACbPXl2YU4wFTweXJprzTAX1KmCDDGMMCu3sJh8gs1wNSKcrHoszjAFk/rW0s9PcCAHtb9lvZBwE5TL+6XqTzAooMZrLXxOcCaUYy6OkU6wLLzD8WapTnAWMYkRpcANcDcz3VwCRoswLYJtW66/jLAzTb+1P80N8BKL9APaOY7wA44LFz9tzzAasG9rlnDOsAmn2GEecQ5wJVesg/TlTnAmIwW6Y0mOcCoSHw+41g0wBuR7vk5jyHAlDy3kk5TKcAiNM7OGUkxwN9BYMpxmjnAAQ/hoziCOMBF9+76dgs4wNpzh90VwjrAUFLngbVBOMC2PTQB5pk1wPlgC5UpGzDAjs5mJLsk7r+897WUBd3yv3Djf/eXd/u/Qgi7fvVoDMDjoW8nBogZwM/6EYzkiSDAMF412iiVMMBnvr28o64kwNRjaZTjCBLASHa7SyALA8D9BeNFcrwdQCVbHrn3hSxA4xSCTZRkPUDxF2nMnmBBQFLnwqe+Bj9AMJLA/BhYPkDTqe77/iI1QHwmMlqsjDhAUYHLB5M5KkDqU8KsYIkbQONWaOFgyyxApKmkYVf+N0AfYEGVni1DQOo70iWKeElAxHfrv8M+SUBC02RXTopEQDxVRHokw0BAF/xdDLZTP0AuvM45CeQ1QAyUkTj0typAsjSB7wlsM0BznyMBDSU/QFHL9Azy8ENAY1jR7klDRUAnqQf1nIhFQFI6DLpwVkNAzr4VuzFaQUCK3rIJoZNAQKo3iK/ebjdAnpkjG9aaL0AFLNdD2KkzQPwgK0FlZTtAOmmpr8EWQEAW8IEXijVBQK45OWqQlkJA5kzXvBjSQ0CUqAPV/GpCQH87SGEPCz1A37reznVVNUAit8c2pAAvQMwLsGbZzTFAIJaqeJjHOEDISp5jnRg6QMMLFiccyTxA4u+7hVX0QEAOAvUxvqFAQNE1O064L0BAYigoZghjOECp+SIa2l4yQLpKqkFCSixA3Y7Cm18HL8AyhXDpdt40wCq1uMDUAT3Ans5eyO8QO8BixF9Dw4I5wLLQQFAPMTjATi+0siLiOMDd7h9EX5Y8wKA1niswHTnAjeH+v67NNMC7p+tiAdsuwJLBbc064DTA+/0X7xknOcCVL0Uglm08wHSqQWQ+tDrAS0DBnrk0OcDnpW8yEX86wIj4RsIm9z/AW62ZVgR7PMDYEHjNOeoywJDplL2URSjAROzmvGMAMsCmeL/Xekc0wHmNHE+IIDfAVAVNe/rHOMDdU3wQcp43wKr4pkzWQDnA//kXNO97P8ByqfpD8yw7wKzgD5C1YS/A+oNZGKiwF8DeKiG/jEIhwLA7S8eB3yjAoi7+gFKWLsB3EIiwU0AywFe1ajgHsTHAD9HGgjT1NMB5hqtP7286wOYYygqJezDAcKiTiag/H8Dc3cQ77q74P22h9+/Q7gZApl/kV/LMD0CU1FodR4YRQMhzhb8arQdAdQUOatEd8r/m5CU62G0bwBqVr1e7oB7Aditplj6447/+E8XDPlAYQGo2iNmAVyNASfZlrE5uMED9zmjv8gc5QFtpZUhRhTxAx8iJ0qERO0B6kYqLHbI2QIYTshWW9jJAEUNgykBkMECU72UXfgctQDoZhYBDpjJANM7PiQELMECc3sWzPhc5QPrTdzVGGUJA52THaiyHRUCE8eAJroREQFZbTYxnSUJAWg3XH3vQQECOuNDH1AU+QBY9y0jU+TRAgD7pAjWsKkAt5/JAFmszQEZJCcnTWjxAQiNjtHKiQ0BJpNjvqFRIQNsSIBthyUVACiskpU1VQ0AgDEzRbcZBQFRO6lFCVkFATNqUvms3OEAkaZlXVrwwQGcCznXdtDNAbjS5Z+rpOkBKeSQC52BBQOYS3gYFFERAze1oZgWwQ0AgotunZYlCQKpKWYD080BAvZa/ftGGPUBNJAIgrCQ4QJT/55JdezRAITe808f4MUCsYb6AkDE3QKGmgXCAJT1Ahhrfjo/PQUCIk165MUZBQFuWakULg0BAzgStcPs0PkBwTdDS3Og5QNYC11oLdTdAJaDva5pAMUC0uhRdpfgwwPL3zcHoZzHA9A+sdfBfM8AuAp0qgnIzwBj9XJCBqzPAt05soN//M8As/a2CHoI1wCNtQrpHpzXA6MLJEf6HM8CWjIw8XqEtwMB+cn4eby3Ax/NL05o0MMASzicDyhI0wFTMEVkOyTPArPhnJjZcNsBYtGhBUqE0wMYQXt5GIjfALmUUpvxgN8BQJHFOoQM2wOIa0QEEWi7AnN1wXRG1H8B5a4zea6YkwKna2i9NLCvA5brqnCtJLMB2W/1m4LEuwOI7Zj9h1i/A0LuFC3ExMsCkyv6mMqg0wBd/YgGJITPAxkR+d8/aKcA2m06RsToGwCSYlIKL+grASOwquYuvEMCsQWMPkREVwI1TI+gnDhPAps9XJdDZHsCgRM3h1zYnwH/RkTqkEi3AmAKHTZ7LMcC8RXyJYjwowOuV50XA2AlAn8Eh5G5dE0ClDRk2M9QZQPLQcFCzIx1A5Ny7Fe9bGkANQv0VRy4JQFp1pk95Sf+/7ClXrDRLGcCUJfxcES4RwC/nWFugQvC/MM4OPTKdJEAYlUCUHqctQAopkoUYCTNA4iMzzOI7NUAxqAI9yG40QBlsD5Ub7S9A/vKNIJtvJ0D/fHJovvseQDE6t96z3iBAf6lKEhkYIkD2bqQgDgAxQNP51NNMgjhAybcnbUxNPUDGOWv6wTA/QOaDKLrmIj1AAp67qSPuOkAHr6scbOk4QAcvLuLZ+DZAbA+NmWYtMkCYUqxMV8sqQLqQzGL/TDVA55qinlk+QEA/zQ+bFbpCQP4wwdgc8EJAXkw2y81HQkCadZWzbWFBQEEa+/pXEkBA0DJVIAkiQEABJ1YCiKc3QEzRJ8dWnTBAi7DH9uBANUBDdJv0flU9QKIzztebcEFAFJQndEV0QkDCM+BGB/ZCQFY7ZR0MskRAmNtdgr6RQEB+xkOTXTk8QCKAiP2/TTdASGrRkNoIMkBWv8/Tq+gzQBKVqinPuDtAQ34bXv5FPkAeDI7dFj9AQIYoflMUuUBAWGMLqHzHQEDjywM+AUA9QKD6fcOu5ThARi4n+/g6NUAPRETdZeowQHjCUnYPWCbA7/EgDmscKcBhFfAV6uMuwHp71ui75CzA/Xcc/XGbLMCh4Vg26eoswB6wNxMDli3AtHgGVRHuLcDYOCxPE3gtwHvhu7qB1izA7LzFtBRWJMCKIPhmB8olwIbMYQOXdCrAGm81SteiL8Diky9EThUswID6ktDeXyvAFPLbDbMPLcAdYxt8TgUwwCg1f8CSOTLA+scOgIyALcAQQTaJgQkYwAeFlY7UOyLACXsL40n3IMAP19Ao1AwiwAb+QAPnqyDAOyFsPkr0IsBBnkbr2jEnwJ3atOyYVCvAq4mXkTlGLcBGrwcEDdsowNKuwJTbWgDAetd7mV1NBsDYkmLG/4jxv6u6hCOr3vO/cI2NWSSaBMDuiphx1zAMwNdn+dcUghfA6rXY7QVlIMAe8Z6YyXAiwF2kidPQ4BzATHCJjdS0B0D2+BJ9L2sKQMwxs4uuHxFAwFaUPLnwEUDg6HsohGAGQBYYsDt1SAhAYOxn05moA0A+yo/Aw9LYPxCWfeP58f+/rGZllaVv+b+65h1XBkMiQNJTaXiAEydAlzs2o1pMJ0BFWWfL9cYnQNqGqD2NwCRA3neWiWm5JUDqEKiCnsEmQAg/j2iB3SBAOrBR3FslFkBazDj8mIoTQBKLuPD24y1AJOOH5oOEM0Cm3G/mjy01QJRA6xybxDVAtouVfq0INkBZ2txS3KwzQGuYQd56fjFAxhPi/9ZFLkB6Cf1Vo+grQEf9Wvj3KSVAxwKObIrXMkBey0g0nI05QGtht92h5zpATFnFtqfcO0CJbaH18Ws8QIDfrA2OgjpACgZQSwM2OEDxoPhqCkk2QKEwE5WWRDNAdbHhCAXHLED67ZJH1KwzQM0AbD2YbTlAMZ/FB1HrO0Aq1cUuaPw8QEjGVTYphz1A4tvMlIrkPECsTD8ggkY6QGRfEyx/UTdATHrd5eTAM0BsCUysyCQvQE4BsMrefTJAOk/yswZ3N0AHXTRh9MY7QNyvr8vQlztAGqGWLYcXPEDzx0oo0AE9QAqEC2k5FDlAKhCsz4a7NUD2VG6yvZYyQAn6kVqGRy5AA6LTE1j0HMDUuUlOejQhwHC8COdetSPAWB//duHcJMDQzAwGWxElwOa0sZ5sYyXAnoZ1blIEJsCwzDOrGZwmwLBYNh3iiSbA+u5s1ZJiJMBKND/Ab3chwOiFF1aFVSLALq+OvbmYJsAQ/rZJCqskwDU0UvR2WyPAfjabZqPRJMAGsw8UGeUpwBYvH0KDkSnAPHLxMp+RLMD8ujTAMMslwA/Ft57cqBjATZgNltiKHsCGLYnadjEjwChChijhjxzA+t5BvhRWGMDa3Zd+8IocwARXBDJHuyLAF41r/qe9JMC8fvsaG60lwI5Xoa+ewSHA/b+NSWf6+7/+1b9Iyu4EwJAjqHqScwXAgFFzDFrR5r8DdNFjm5Dtv/NIvnLKgP+/fhAjGq53DMCOOkRvKy4XwJzj1jsCDiDAI4D8noRfGMBkbncEAd4HQJxla9SjrwlAZx8xC0faCkBXFklxndQKQPJo2xBENgpAekcco7srCkBKVMoeC5IEQEx3HqUxWc0/qDlmH/2kA8Bu5rcRjcr+v2i0+Fvo0R5AaCppKHi3IUAR+3rMquUhQFtipKxwGiBAieLg7F6zIEAu/zcynT0hQJUugSVQAyBA0THXjaH7GED6qQcsmUURQIh62isV2QpAjpY5gvQLKEAMYoRSIZ8tQMzV4ym71DBABEOJayT/L0BQS8DpIoAuQBabkLoXIy1AdtaG7U4mKkCi4sDnz2omQFjk3LAG0SJA4XVCc83OHkCx+OWFddAtQIyfhB6xmzJAbkVwdvmPNkDUcJ6MVis1QFJEmL4x5zRAm47V9LvrNECUb8J133gyQOvg0Wf4py9AdA3CSv+0KkBO8vVUhLIlQHo1p5sA4i9AzFbl7KX3MkDTFr+fAg81QHbn05CvLjZAwplEF4U+N0B/OXg2ywY5QPZYDV0QNzVAyucby7UbMkAjwvgjOL0uQBPHePn+KClA8BGUJVJYL0Bwl0oVWlcyQD7dIno0PjRAAMtt6gVrNUD1mj4Aves1QESE0Qi1pTVABne13tMaNEBkcO4mVfMxQELcewQsEC9AtjoNl7DkKUA=",
          "dtype": "f8"
         },
         "v": {
          "bdata": "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",
          "dtype": "f8"
         },
         "w": {
          "bdata": "l++XSJD0DkD947hWcJMIQFifJRz8Nvo/5ilA2NUV+b8y/tLyxL0KwM7c+Cf6ThPAelRCqqCpFsDYKSHEYjcewAZwQPIgCRzAeheqX12IFMCrutae+csTQOhaG7qnihBAaYhoA2xYAkAyzgCtcP72v6S1VxLTqBHA0jB/Z0ycHcDTa7O9ZWYhwJ5wL/lKvB7Ak1lBreOCHcDCCz6b5lEUwGL56bOM4xpALKk0WcJdFUDw7qe7ez8FQFA9v3gGPN2/yuIQX5d9EcCptOWqLTgiwKCPYc1zJybAfb9Zm8tbIMBe1LVO3wEZwC3fiWrPfhbAutvn96+AH0DYlB9jvusWQBWf8AJeoPA/KNjTbo0kAMA+TRaWBQgSwPCfyFjxKh3ALi3tjlWKIcDie9ZVtp0cwGj7eyDVLBbAMqfou7/sGMCgR1d1mogVQG0fXj3hzhBAAZvbXl+0/z8a+ck/W8Lhv4YAY9FyWQfAwNh5dsZRE8Cill6m6akYwDbZGBfeRhvAItGIdp3kGMBW1BCbcGEVwFS7V4D0ggFAvmgocznDBECRtDAGsrkLQGpVckDW7v4/6Dq7xAfQ3r9ADf0a2EMQwFhqHSqLuBjAzkqzHChcGMApXyAQ2WUXwL8ydYZK/g7As3f/5OLJ/j9APFReIUsAQIgnY/mwGABAaDBj95bF3j923X1xztH3vywLDPkQEgXA75XjEFcrC8COGqKhGCQHwAAY15s3xwnAq9/Uo+kbC8CoVKZlwzX5PwaVT5iWVvE/DiUIMKZe7D/gPDlCGbzBP1fbsQUGUgHAdy93VxbaAcA43VcEWcPzv1S5moDQ4/m/wPtb5WWf8L+4VHaIAVL3v8V9NpL9svU/SO8Kw/vztz8A5AnAsZauv7DzDSc6xN4/BkFSzCti6L82x6vlmlH7vziolhP3mvW/XO6Him1O+r/QtYKqh6F6P3RB7y2mtdg/xvhcLLF96j/kUuPW/PXNP66tVnvEItm/SLxgAlRmuz846B0Dufm9P4hJPuigcsG/WNr0Yz6w3r8etTADeJ7jv1CpO9/B57S/uKZshI6/3T8uke50g5MTQD5AZNYVfAlAyKaoc5AN8j80o5qok7v5v7vzOMltfQzA4tGWg2LwFMCMeLSaP7QZwHPDAW4ifh3ADLZhDlwEF8BHxjYCCWoXwMcQBS8kJxZAzKxoS9JfEkCa+0tdbioDQABrwCH6dQLAYmxkbeXhE8Cr9cPfEnAbwJsC+wZG7SDAwC9YBNJhIcBsYXuQ/s4cwBIYS4ErZBTAgkANtNTEH0CMJL7PTrcaQBXTKNfG0AxAGGETg+Ik/L+oMRH6axIZwOq9yHFY9iHAObamynXkJMDEXID1pnwhwAw5BZ3ygx7A3qbWdG+gGcDvTv8V1nsiQFvAol0wMSFAOgLTjSzFAkBUk6wziFkFwJoLkM3gkxPAsg6NqOaFIMCNg+uRRLMjwC2mtwNdDCDASk7dx3d7G8AX5mhPT2cdwCntHcdOcBhAn2itS/7nF0B4wr4nZ5gJQJCGJ9lUHfs/Kfqb0M4U+r+omR9J6dccwFttdRbyKSHAl2HIIygSH8DW0Q+KmIIZwN31c8UYlhjAzrdWAusDBEDQZfPuu/wIQLJinIhHIRNAGh0o2+BrBkBrYjMyFan5vyIt6giskhTA3Z5LJeiZGcA+vuUFG8oYwO+1rB0hpRPAT1flLWoOC8BveOWLrQj9PyPjw19SigZAYh0SupfQBkAAZDVF2SalP3f+LxiOOgjAdBQrlHp5CsD4W2lg5AYFwBANLZ4mnQfAYR1POV8DAsDvjfUTwV/6v9VzdfH2qu4/SIuxTBau4z9X3vgZ1If0P3tHSh+Urvg/9247MUXA+7/oY+DbV9gHwEy38zqgs/W/2roIuIaA+L8QcmXWeA61v5Ao88wCPcU//YZt7m5D4D8AUGUsdzBWPwBD6lLJ51M/IGz9v2ju5D/8ajzrHLjNP5weF6Dwl9O/3LXqyR1C5r9KJEQ/XTDxv1iYdFGcF7I/wvfMDp9a8T8Utcnctjnmv9fni8SxvdA/yJmGKx9Y1T+k6bRj1QrUP65Bhdgh6PQ/SDWNlLws+T8Iv8qdLuzUPzxAQBaI9sm/0sYbKz7ewL8YtHz7WNnyP1IxtiZfXRRAswIbf6ESBkDQRuRhOFi2v08vsOkcLvy/AJf0PAQ3DsBVcUeUjr4XwNRwcyaiAR7AX5Ziw4HhFsCLawf553IOwLqs7J32TBXAIpyUAlcXGUBBfRdq1s8QQNAjDgCLhug/cOJlPMYhB8B9t4THhxIUwGoo85q+1RvAo0fF95VMIsCsG5cWnhYhwDOvwKK7qhPAXPbkO5rcEMAq/b6D5WshQHS6DZkWdRpA2PfP3Vkj/z+MharNRkAGwFKdICQrPhbAvqnBelpyIMB6pfjBmr8kwMGcpPNQKyHAJE4HoFioG8BH9Mr/T2gawCrKT2HW6CNAKfTj3Oh2I0BS2UCF1K4JQIvEOKNpjgXAoGKG+BEbEMDMYcLlK9ogwAzuVUS8ZSbAWgIpJs4ZIsDPE2Dc7psdwH2mvncOKB7AslpjlhQyG0BOw6qeKZwgQOJTg3SbExpAC3RHwg7j9T9Mns0o49QHwBVZXqCGryDA1PUZg4FcI8DhxPcWMOMawG0cTiGYZxnA4hQ3GzXOGcCZuH5UA/YDQHY+mvsVPhVAPRyzLqtwHkDbQGSFHz//P9lq8MZmrRbAH4+6Wkm+G8Cp78V9XaQSwJU2cyp3JAnAZCandkrwDMBKa3YMSPwPwOCZJ7vsSfM/TzGumo3uAED7qtGTH3EQQBBqYCo8wQJAFp02DMA9FcDKK4eL7d4WwCL60FC9bO6/nGB1CLPh7L9KeNB83orfvyT37HpmqdO/6E5UqXIr2r9WSJvq21f6vy0hC3+xsvQ/4nTxUjBqBkCOztGqOEHwvyJ7DBJIcgHAsEOnTno2zL/UqSCwWFW2vy4Vd0wNAes/l/BBYMwU9z9LFTussVH2v5IpqOXb0O2/eF5vQMccxD8wcRpDLk/cP1kGi7oDRv8/Y2xQqgegBEAuapyPjPvoPzDcX08asro/z196VVVj4D/ykhsjxob9P/hzJW8AAwTAqXTpoxhJ6b9bWvu91bTpPyBC4pT3PPY/fCyfZqrfCUCWgtl7JK8HQHTlCKeagvI/5PPAiQk16j/WIn+yguXtPxABNXUtTv8/QK2I6WtCDUDO0Q2UoUz9PyC1Vw4pxNa/OoXvB+cqB8AwCP9h+8sKwErUcRRZtBDAPTE5WRloGsAIr8P70A0UwDoFKHeFEhHAvAGyG+ADE8C1BJm2BGwWQGKvv0JNLQlA4BOkf9bq4L91vOedjjcRwP7TBdAFxxHAXYctnLmeFcBqB/PZ4ZMiwI5MmcmdzB7ASHx9lPXgEMALiBETySsQwJZ/XhP9GCJAmAPnCFxMFUDOG2DYF3Tmv1PQwrAJ9wrAeei/c7kzD8C7ZfJj7+0bwFCrEvud8ibAuoFJ0yrWI8BQ3MIqN38XwC8CNCIbtxHAtqimEMNLI0CoSMag0SAgQM0SZhmdI/o/rysqT9Nx+7/oryvhT1/Xv0Ts8qnbjR3AP4Fk1QvWKsCgTZnurvojwDH7LHEZwxzATAlZWwniF8B1hcmvTikZQMqr8uSbkiRAFBe56oITIEAUddXeLJPyvynziMxACRPA6Pv5KVjRJMBGkbAAwxciwDb4Qa2rzw/AbGEZ1XvyGsBSO2SRghwWwEM5kTr3cgdA8v4rhdgRIECi4pFuOkQjQERDUIgPp+S/vVBYgHlyI8ClD04SwAckwAwX13x6ivW/Ar2Ode3S/z9TLnQ11mYDwKGAPgsE3AbAiJitcCOs3r9woRNcjf7SP+8J74fMWRFAZF0k83nIBUCQeQBNkJQZwJ9vXnyjTBjAYa/qrbeI8T+kJqGiR7cFQCpvuZrn4wpAbI/BSOxcA0DCQOkGWCkDwNrA66jgIPW/MMOfdkDkwb9b9RVhEZr0v/gZmEi9DeG/WYoTlcDHBUD9bl1fqdwKQPbIitcpIv0/gaVIx6kODUAEL80NgWkRQIQY2c03/QjApoPjKAbO9r+KCunFwjbvv4w1toAS6++/ehj4UnuyBUBUH4g8etsbQJBzbdXCiBFA7tTYIGzaAEBM8rus8ogJQFYP3FTyCgpATLvJfOJ+CsDt4/a44Hv+v/+7ledK3tm/afTsKoNE9T9mp2MOrR4GQMrm5nA8ahNAXRMrNZ4qE0De2dfO2gYJQELqUx25BQtAoE5DwpXYB0DeREHslDAAQJoU46lOZ+M/tOv0zI+N3z8C8rwOuXndPyTlDbcPpQHABnKDPLQbFcBNnmHkKlAbwLARpADv2RPAKpH03AIeDsCO3LvVwy0PwH3CsUghoA1A+pGo58YkAEBwJjVTeX7CP06/PGgX3v6/rZNvi+eZC8AEU+Hghe4YwBYqwhKDACXAYgr3ONz4HMD0tU977PsHwPalcbTX5AjAiu5JyWFNGUCY7PuphrEPQLvLXIxER+Y/rkweYTyaBMDRZFKWOEsQwLpygTzoShjAMsq9E1PDKsAGr93ig38nwP2T+SFOBg/A+dfYqK8o+L8x56lbYw0dQL6OpozdMxdAYBE68KTc9z/0oXgrm8X6v9KDqMOt5fe/6ityvLb6BcA2XM/Jo2QqwHIlyqX58SvA0mVXpYqqF8DRcNFktcQHwL8pR58D9BFAFkvxRooFH0BmVrltALEUQLLcdBD5YQTA2VcH4rylAcA20UrnhioTwAoSw7ZT5BvAKPbbKAxrGcCszNtKr7UZwOTz67UedQnAuIRVo9aQzL9LZcmVl+7mPyAOnW+nmwFAXNw1oHdP6T/4x9TCR1MTwGkfmaEV0RrAWGVM1dgJ0j9U3FSS1yEVQMxWs42MxhZANLvDV6Pe5j+IH8AtOLIRwCr9+tvlnRvAvjxZVfMXE8DSB4KWkHjyP6Al3E7O1uW/ceXpYfXS8j8j+sL3rRcVQCHV+7F5DRtAcGBdpavZJkAPkXE9f/QWQCZh6+mZBRbAv0tA+TqvFsAKKYZjYr0RwN40318KmQjAYNjhIFkM/j8wqQoGXZogQPi5YbJ+byJAIEupLp7mGkCtrUWPbQYbQHl10QYCwhdALDEhi42yFMDoDtffsWYTwExRk6h1aAnA1F7ZVu2c9L9HoFUsrtMBQOTP5jcO5R9AdaSYOEm6IUCE7M9zs3ggQPl8i5FBtxtA2G6TD6ugEkBwgwPnUIkRwIRJumwJUQ7A5nXWxjqwAMDe8NGZ/Fzyv1VYMrCChNM/UP2L8Ya+FUCOuGqz4mwgQBCwAqIBziJAkGq2a5QJG0AAQHPbUOUPQHb2YQUdDOc/3bxbECA2+T8v7A1jn5TyPxJh5BJdwvs/9lvjJeyE6L9SLKoTe58QwA9Ag3sUOxXAYyuYMUoqFcCxKlAzuJ0UwApLGDrqqwnAck554ZTw9T9m5/nkD+j1P/RcBmHxeug/AE2DBE95rT8BeoLcCsX4v9WGEDDLDRDAkpQZ0WbqGsAAJedkJtccwPMwcdnYJRjAikFG1GqUBsDJqvfzlcwCQICz8jsEg/4/fCRV6fn88j+QemGjnbz3vxeBBFkjYwTAiNoySJAMBcCa7QI1qi0ewH0oveesiyPAQHm8ocJmHsBG3DftcpEFwHhWVoOglANAfh+dgsakAEAfBCwqwm75P7Kynjy0qwTAUHC8DjQfAMDIb0KGErP/P3eB+5wcpBfAcrocUFnbJcD4bTKkUCshwDTVGqUP3gPAIGbhyo/Wxz+A8Wv2fp+Tv2C4hkMDT9C/BF+YucRH9b8gbdsn+EfdP2rxXT4Z+BBALFk9HwOn8r8OIl/go98ZwO/RnfbiqRrAYmHGBFWS/b+S4cQbUhURwAIzPYlHYR7A9g+v5RdmFsCn3BgSHrQOQFr4hdsb9ANAKHFsj3OE+j8iZ15lhc8NQDovMWKrEw1A0PcZTHKfFEBG8qlngmEBQLNOyc69rh3AtAVWtevoJsDNVy8FLBkkwPjaRxWafvQ/LJsCqdW3GEDOXWU2asQaQP7j4biy2B1A790Rk5YXIUAsRJ+4Wf8oQNhGv/4tihdAxsbaLD5XHMCalH3l0MUlwGVIL2lEnSPAxvk/3vkR4b+WESHnD6MZQAT1rul4FyJASABpeJk8JUA4vCV4S+wiQEpzz1qEryFAPtSMIvX4GkBvZphmpcQYwHBO2uvuViDAjLhgcH8/HcC+zSkEAdH0v3Hdi+abHBRAD1bQ7dHfGkDtttHet7QhQNKfFtxyAyVAMApbrZ1GIEC8kvc02d8aQFwK5PbqQRPAXiRhj6S2F8DoGYNRaDcZwIbbUCa7nAbA7NhGptANA0Bco0x3waYUQPNboEN2TB5AQ+2JSW/5JEBJXde3xjwgQBgLk6uFnxtAVho2O9ea4L9w0aKPpEG0PzJHVdLYB9Q/gDddPanT7j8Ewp/EQAPwP8b8GYb+I+K/tmKFYvA59b+/19eeOiATwF6enhuExxrALT7CEBUaBMCK9/qprDvwv8Dtz/Wb+9m/gEh7Mse/iT+owH4IiUPkPxgKP+t6nvE/AN9KIpXRdL9wKBxSYbnRvyr/x5DZhhTATzeiU+CAHsCteZksvgQIwMNlPysME/G/Hn619IV36b/Iuvwj+cXXv1SheWlURfa/AFoCrZRa0D/7CotZ7XgCQOYbs+dBmPg/g3kUJHPgEMBh4dz1dZMhwOvqlMR9ZBDAX/SuokxS6L/koS6H9GX9vxhTQvo/fALArgHkZhnkEcDQcXN+Yc7mP/nfo7iQuxpAesRd/bk1BEAXz0sX7XIBwDxb8S2o/xXAOMLauHudEMDl4IN7vowBwGCK1UBJ/gXASBKAErG0AsALIFW/vHkAwLoUfz8MrPw/F+9S58m0F0BkdsRY4DgRQAxxoP6JfPY/qknAwIAyCsBAbyqzk9UGwI3K1ikHzhPAx9z44TrBE8C2bXYYCJsEwOLkes/1pg1A50DiFjtuDUBsjBwJGyIKQO6MmUXy5BpA02ciKR7mB0CP0RrGxZUCwOoVXFTgnvI/2+p3IPXZH8BiifWzcZgfwIL5UzeEBBPAJFUfH1TbDUBxrltn9TIYQMmcL2cn9BNAqhAco/1ZGECW4D2/qsoWQG4TFAbpvhlAH1Niv0PWE0B40fksVychwLkb0H6iTyHAwVbKpfDJH8AICExOk0bTPxB4agcRIhtAgqoIwwZUHEDexRsLaawbQPXqKZmB1h5AtgCt2UIPI0B6hyJeyuQcQJ76rahYxRzAY4OJ99KJHsAeNOpjQhUdwBAmP3PsHvG/tD1ehx9MFUBlqgseEK0ZQP4p8zcu+B5AJOFqcFT5HkDeXaWrDBYdQHr2aYT91x9AnriG+NIfGsCc1XY10ysZwOzFls+w3RnAdzUe3+ti+b8WqXFmASIQQIC/vMAeoRRAINn+PKWfGEAgKEcHhc8aQJOA/qGjBx1AeKyJyLmsIEBraWQQt6Lyv6ltEnezmPO/iBsWyVmcvT/7zHtHhDD+P6gGoy6QePc/QGobKuRZ4b+Op7FJ1j7vvzb+lCvPcQfAhBOGDo6vCMDWXxKlEBzwvzrnZ2JTGgDAm+eIc/N29L/giUCX+o3oP3r+hct2PwBASMU6WEdn8D+gu+CY22PNv3AjcBdZ0Ns/5GeDLfTG/b+y9mC4eS0IwLw1k7ZmQQDAeHzFWf/A9r9dksCZ2W8CwGYtof5QU/m/fkpnEeN6+b9E5J3VGungP7QQ7P4PKQ9AH4oFQNWfB0B8RjL/xwvHP1Tl5UMlbwXAkH7SWdodCMBO63HXzjTxv1tbBUVKfA3A7PGd9xvzEMAtQjlI4d8GwOglSncoFfg/Bvl1pLOJF0A6QLgT1fQRQGSz8PM8Rg1AuLP30VXB6T+/NEIwnMkHwAgLnqzBAgPAoG7Wg3UgBMBnj16NwK7+vwBPLOB0+oU/CpnSCdMl8z/B5HHG+y76P+A7pY97exFAUF6S8/Q2GkDWbuzSHFgFQJykc3aOFfm/PYP2No22DsAiPWoED975vyiLCVbMGry/KpOoNrM7/D+gthJd4T8AQAg+BGNK5ARAzKHccmrEFkAl85SoUIQSQD7EY/tHSvk/4NlToHTA8z+k8cN+b2MZwI9g5vNC3BDAvK4ap0Yq7L9gnTlm9mcEQCtHFplrChBA1hrHonqRFkBe5zdKHqAYQHvBLdHa8w1A77L6yfuRC0Aq/mFqBrsOQMiXEVl4OR/AOlU8k7sRE8AWENzlrvUAwMgfdOJZhcQ/tPJf/pO5C0Aezmx1mJkUQC6HFXq17hRAac+qISXMGEBsxBIRrdIeQKHFMsDy3hhA6I2MhKrnG8B6iFYclGoTwNi0oZy48AnAKiMl6u+O7r9zV/aQv7gFQBWzAXAy8RJAVtezp3/KF0B0PPx0hGQaQMQsEpvabR1AJad4cV2yHEBAVaW9q9cawMho9g2zqRLAEJKNxjvLBcDPE6mTxpjnv12lqY75tgVAaHbDrGdmEEB+vfMDjEUTQCkop5kAQxdASfM02e3AGkD2A8u667YcQJBiaOd3HOW//mRm+k4/5D/YZ2SgdSnnP6FzESUiKOo/oM5m6xWe1z94BTBhTwfavwQ650YK18C/sqaE8rjL3b9SepvByEXgv5KtjdP+oOm/UJ9d9Xqh5b8Zsr+LGPnhvxTIBVFRed4/UNn/py/J1j+EPWNI56TOvxtmy/c8ZvE/RHMRo26J9T9gTTf5QdntP6Gb6xiSxPC/PzmYEYd4A8DQ1fGlv+W0Pxu3V5tNlfe/76e6QK65A8CD319+66MEwMgu6PoWK8A/0ZHudufSCkCOo2fUkLQJQMKB2t1OBfo/xiiQdzaq2L9FRW+UkRj8vwq56Bq8SOe/F5tIvGtj/b+w8sWrETkQwKd3t16NjALA17PbpbPu9z+asJfpQikIQE0g/SLBjhFAkSwHPTGlE0BGNa/55ZMDQFbd1Avr8Oq/nd8EMR5kAsCiUPxiODD5vwraohB0S+6/YFgLnBOmqb9IN8o60r3bPzYD3gxzJOg/Of2V9d4aEEBAYZIbT+AdQNmASTEdlhFAmMQ8bzxMwL//sbCaxcgHwBBnjcPVrfO/u6Nu/Na/6z86TtmUyGLvP+yOTWGfpNg/rGYv2i63AEDbrvkJ1sUQQCYKy+noyxRAfkhHh6MIEEBHHSUVlpACQAPkSZCeLhHAdjKILb1DC8DmKGEAMB3gvxLs79ZdkQRAvy8sG02GBUD8M3c3mFYRQO5ILOvufRVAymb7IlzxEUAAnf7WnL4NQATiDLP//AlAYui0Fz8zE8DgxrD4L14OwD895lNdG/6/XDzQ8W7i7z+hJpjYYFX/PyUMY8+2gw5Aa34ECkISGEAzbW2Ct7IYQMZtf0aDHhZAA0HGp5kYEkBKnYmW6ZMSwKrZRJbOdgjAFmmCbV9ABMBdvD/cPULwv2aqBeWXTv0/NPugLancDEBytjgKet0VQKq/wNLDvxhAWuHaDVP+GECNhBSTkTwXQF4d9uXboxLAyKMFmVKeBsAv07zEXSABwD8TVa9Weu+/YI2V4lldBUAK+887uLsJQJJ2NzqJWwtAnYe9smT4FEDT8nAmjvEXQJGio0YachhAxJUZsiKCvL8HFeSYbjrlP1xgtGALfdI/6Jx6rxcWuj8ORdSYa07NP+EGS6M29eA/sGjHc7744j8JYa6hLYzRP4ygPjNrRNu/3HVXlA19779cm/Purf+zP+C+q6zDltm/VMClHmY25r+FEjTzB6PyvxxCmTi+DrY/H1bGj4bZ/T96suM1bXf8P2nxIlGy//E/QbmuQ60L6r+caSkASDz9v/gsMb3zH7E/DJQQ38oN8b8ASKEqUScAwEqTZxVX5APAKEJyu64Mtz9msfVeay4EQJpE3glGawhAjEeYsANABEA6RycbqzPuPxm5H2YJV/C/5OMUfLLq779IKg3RMgXzv2krHoA3eAHAcvIK2Haa/b+U5HB9uobhP5pqBZm0qwFAFpOLt+n0D0BY6hm6FbgUQJ9UCNPRzAxARGEZpuA/rL9b0jp53fQHwCZh/7So4va/8C2WjzUOq7/vVSDWBoLcvyjIvghn5tM/bKeXDmuN8z9kj2VdD7AQQIvbg5qfDBtAztWCflTmEUBBtm8zbwP3P34TtnaT/gnAMXto+wyD+7/A5h3ASkSXvyb3tqNsuMu/EathDA8k7j8TMXL4p5ENQGZFIehABBFAl7NzHiXsEUA6j9njAz4RQHcLvGdnJA5A5Ri7tQEMD8DA81w6KcQIwJl1BzepMui/62oKYTUw+z8ndHg1aygDQOqdWgtbZBNA2vAeXMK7E0CNbsEUWo8QQCKrjXQWXhBARSnXH6z1DkDC04XNMZgSwHrWJFkgMhDAMVkXOKgq9r8K7gTn2xsCQBceUt6jcfs/ik1HUmYGCUDm4QpnRKsXQIyP1yYfjxlAKNVNCTuwE0ALPWJD018MQDYAbYN3vQ7AHRXdphI1DsA2pT+jy38DwKhi8AKQVMU/AeMFotui2j8tGxHkN8MJQHHGZVWc8BlAEn1amhDqGEAJt7s61DAWQHHkvBwscRNAl5hho2a+D8DxPLyiE2oJwDFmq1GVMf+/evnHRXB4379O8i7F26z0P90eSDZrMgdAvhpq4zDPEkCQkgn2OlcVQMcKTuLL3BVAFpAKz2FCFUA=",
          "dtype": "f8"
         },
         "x": {
          "bdata": "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",
          "dtype": "f8"
         },
         "y": {
          "bdata": "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",
          "dtype": "f8"
         },
         "z": {
          "bdata": "AAAAAAAA4L85juM4juPYv3Icx3Ecx9G/VlVVVVVVxb8gx3Ecx3GsvyDHcRzHcaw/VFVVVVVVxT9wHMdxHMfRPziO4ziO49g/AAAAAAAA4D8AAAAAAADgvzmO4ziO49i/chzHcRzH0b9WVVVVVVXFvyDHcRzHcay/IMdxHMdxrD9UVVVVVVXFP3Acx3Ecx9E/OI7jOI7j2D8AAAAAAADgPwAAAAAAAOC/OY7jOI7j2L9yHMdxHMfRv1ZVVVVVVcW/IMdxHMdxrL8gx3Ecx3GsP1RVVVVVVcU/cBzHcRzH0T84juM4juPYPwAAAAAAAOA/AAAAAAAA4L85juM4juPYv3Icx3Ecx9G/VlVVVVVVxb8gx3Ecx3GsvyDHcRzHcaw/VFVVVVVVxT9wHMdxHMfRPziO4ziO49g/AAAAAAAA4D8AAAAAAADgvzmO4ziO49i/chzHcRzH0b9WVVVVVVXFvyDHcRzHcay/IMdxHMdxrD9UVVVVVVXFP3Acx3Ecx9E/OI7jOI7j2D8AAAAAAADgPwAAAAAAAOC/OY7jOI7j2L9yHMdxHMfRv1ZVVVVVVcW/IMdxHMdxrL8gx3Ecx3GsP1RVVVVVVcU/cBzHcRzH0T84juM4juPYPwAAAAAAAOA/AAAAAAAA4L85juM4juPYv3Icx3Ecx9G/VlVVVVVVxb8gx3Ecx3GsvyDHcRzHcaw/VFVVVVVVxT9wHMdxHMfRPziO4ziO49g/AAAAAAAA4D8AAAAAAADgvzmO4ziO49i/chzHcRzH0b9WVVVVVVXFvyDHcRzHcay/IMdxHMdxrD9UVVVVVVXFP3Acx3Ecx9E/OI7jOI7j2D8AAAAAAADgPwAAAAAAAOC/OY7jOI7j2L9yHMdxHMfRv1ZVVVVVVcW/IMdxHMdxrL8gx3Ecx3GsP1RVVVVVVcU/cBzHcRzH0T84juM4juPYPwAAAAAAAOA/AAAAAAAA4L85juM4juPYv3Icx3Ecx9G/VlVVVVVVxb8gx3Ecx3GsvyDHcRzHcaw/VFVVVVVVxT9wHMdxHMfRPziO4ziO49g/AAAAAAAA4D8AAAAAAADgvzmO4ziO49i/chzHcRzH0b9WVVVVVVXFvyDHcRzHcay/IMdxHMdxrD9UVVVVVVXFP3Acx3Ecx9E/OI7jOI7j2D8AAAAAAADgPwAAAAAAAOC/OY7jOI7j2L9yHMdxHMfRv1ZVVVVVVcW/IMdxHMdxrL8gx3Ecx3GsP1RVVVVVVcU/cBzHcRzH0T84juM4juPYPwAAAAAAAOA/AAAAAAAA4L85juM4juPYv3Icx3Ecx9G/VlVVVVVVxb8gx3Ecx3GsvyDHcRzHcaw/VFVVVVVVxT9wHMdxHMfRPziO4ziO49g/AAAAAAAA4D8AAAAAAADgvzmO4ziO49i/chzHcRzH0b9WVVVVVVXFvyDHcRzHcay/IMdxHMdxrD9UVVVVVVXFP3Acx3Ecx9E/OI7jOI7j2D8AAAAAAADgPwAAAAAAAOC/OY7jOI7j2L9yHMdxHMfRv1ZVVVVVVcW/IMdxHMdxrL8gx3Ecx3GsP1RVVVVVVcU/cBzHcRzH0T84juM4juPYPwAAAAAAAOA/AAAAAAAA4L85juM4juPYv3Icx3Ecx9G/VlVVVVVVxb8gx3Ecx3GsvyDHcRzHcaw/VFVVVVVVxT9wHMdxHMfRPziO4ziO49g/AAAAAAAA4D8AAAAAAADgvzmO4ziO49i/chzHcRzH0b9WVVVVVVXFvyDHcRzHcay/IMdxHMdxrD9UVVVVVVXFP3Acx3Ecx9E/OI7jOI7j2D8AAAAAAADgPwAAAAAAAOC/OY7jOI7j2L9yHMdxHMfRv1ZVVVVVVcW/IMdxHMdxrL8gx3Ecx3GsP1RVVVVVVcU/cBzHcRzH0T84juM4juPYPwAAAAAAAOA/AAAAAAAA4L85juM4juPYv3Icx3Ecx9G/VlVVVVVVxb8gx3Ecx3GsvyDHcRzHcaw/VFVVVVVVxT9wHMdxHMfRPziO4ziO49g/AAAAAAAA4D8AAAAAAADgvzmO4ziO49i/chzHcRzH0b9WVVVVVVXFvyDHcRzHcay/IMdxHMdxrD9UVVVVVVXFP3Acx3Ecx9E/OI7jOI7j2D8AAAAAAADgPwAAAAAAAOC/OY7jOI7j2L9yHMdxHMfRv1ZVVVVVVcW/IMdxHMdxrL8gx3Ecx3GsP1RVVVVVVcU/cBzHcRzH0T84juM4juPYPwAAAAAAAOA/AAAAAAAA4L85juM4juPYv3Icx3Ecx9G/VlVVVVVVxb8gx3Ecx3GsvyDHcRzHcaw/VFVVVVVVxT9wHMdxHMfRPziO4ziO49g/AAAAAAAA4D8AAAAAAADgvzmO4ziO49i/chzHcRzH0b9WVVVVVVXFvyDHcRzHcay/IMdxHMdxrD9UVVVVVVXFP3Acx3Ecx9E/OI7jOI7j2D8AAAAAAADgPwAAAAAAAOC/OY7jOI7j2L9yHMdxHMfRv1ZVVVVVVcW/IMdxHMdxrL8gx3Ecx3GsP1RVVVVVVcU/cBzHcRzH0T84juM4juPYPwAAAAAAAOA/AAAAAAAA4L85juM4juPYv3Icx3Ecx9G/VlVVVVVVxb8gx3Ecx3GsvyDHcRzHcaw/VFVVVVVVxT9wHMdxHMfRPziO4ziO49g/AAAAAAAA4D8AAAAAAADgvzmO4ziO49i/chzHcRzH0b9WVVVVVVXFvyDHcRzHcay/IMdxHMdxrD9UVVVVVVXFP3Acx3Ecx9E/OI7jOI7j2D8AAAAAAADgPwAAAAAAAOC/OY7jOI7j2L9yHMdxHMfRv1ZVVVVVVcW/IMdxHMdxrL8gx3Ecx3GsP1RVVVVVVcU/cBzHcRzH0T84juM4juPYPwAAAAAAAOA/AAAAAAAA4L85juM4juPYv3Icx3Ecx9G/VlVVVVVVxb8gx3Ecx3GsvyDHcRzHcaw/VFVVVVVVxT9wHMdxHMfRPziO4ziO49g/AAAAAAAA4D8AAAAAAADgvzmO4ziO49i/chzHcRzH0b9WVVVVVVXFvyDHcRzHcay/IMdxHMdxrD9UVVVVVVXFP3Acx3Ecx9E/OI7jOI7j2D8AAAAAAADgPwAAAAAAAOC/OY7jOI7j2L9yHMdxHMfRv1ZVVVVVVcW/IMdxHMdxrL8gx3Ecx3GsP1RVVVVVVcU/cBzHcRzH0T84juM4juPYPwAAAAAAAOA/AAAAAAAA4L85juM4juPYv3Icx3Ecx9G/VlVVVVVVxb8gx3Ecx3GsvyDHcRzHcaw/VFVVVVVVxT9wHMdxHMfRPziO4ziO49g/AAAAAAAA4D8AAAAAAADgvzmO4ziO49i/chzHcRzH0b9WVVVVVVXFvyDHcRzHcay/IMdxHMdxrD9UVVVVVVXFP3Acx3Ecx9E/OI7jOI7j2D8AAAAAAADgPwAAAAAAAOC/OY7jOI7j2L9yHMdxHMfRv1ZVVVVVVcW/IMdxHMdxrL8gx3Ecx3GsP1RVVVVVVcU/cBzHcRzH0T84juM4juPYPwAAAAAAAOA/AAAAAAAA4L85juM4juPYv3Icx3Ecx9G/VlVVVVVVxb8gx3Ecx3GsvyDHcRzHcaw/VFVVVVVVxT9wHMdxHMfRPziO4ziO49g/AAAAAAAA4D8AAAAAAADgvzmO4ziO49i/chzHcRzH0b9WVVVVVVXFvyDHcRzHcay/IMdxHMdxrD9UVVVVVVXFP3Acx3Ecx9E/OI7jOI7j2D8AAAAAAADgPwAAAAAAAOC/OY7jOI7j2L9yHMdxHMfRv1ZVVVVVVcW/IMdxHMdxrL8gx3Ecx3GsP1RVVVVVVcU/cBzHcRzH0T84juM4juPYPwAAAAAAAOA/AAAAAAAA4L85juM4juPYv3Icx3Ecx9G/VlVVVVVVxb8gx3Ecx3GsvyDHcRzHcaw/VFVVVVVVxT9wHMdxHMfRPziO4ziO49g/AAAAAAAA4D8AAAAAAADgvzmO4ziO49i/chzHcRzH0b9WVVVVVVXFvyDHcRzHcay/IMdxHMdxrD9UVVVVVVXFP3Acx3Ecx9E/OI7jOI7j2D8AAAAAAADgPwAAAAAAAOC/OY7jOI7j2L9yHMdxHMfRv1ZVVVVVVcW/IMdxHMdxrL8gx3Ecx3GsP1RVVVVVVcU/cBzHcRzH0T84juM4juPYPwAAAAAAAOA/AAAAAAAA4L85juM4juPYv3Icx3Ecx9G/VlVVVVVVxb8gx3Ecx3GsvyDHcRzHcaw/VFVVVVVVxT9wHMdxHMfRPziO4ziO49g/AAAAAAAA4D8AAAAAAADgvzmO4ziO49i/chzHcRzH0b9WVVVVVVXFvyDHcRzHcay/IMdxHMdxrD9UVVVVVVXFP3Acx3Ecx9E/OI7jOI7j2D8AAAAAAADgPwAAAAAAAOC/OY7jOI7j2L9yHMdxHMfRv1ZVVVVVVcW/IMdxHMdxrL8gx3Ecx3GsP1RVVVVVVcU/cBzHcRzH0T84juM4juPYPwAAAAAAAOA/AAAAAAAA4L85juM4juPYv3Icx3Ecx9G/VlVVVVVVxb8gx3Ecx3GsvyDHcRzHcaw/VFVVVVVVxT9wHMdxHMfRPziO4ziO49g/AAAAAAAA4D8AAAAAAADgvzmO4ziO49i/chzHcRzH0b9WVVVVVVXFvyDHcRzHcay/IMdxHMdxrD9UVVVVVVXFP3Acx3Ecx9E/OI7jOI7j2D8AAAAAAADgPwAAAAAAAOC/OY7jOI7j2L9yHMdxHMfRv1ZVVVVVVcW/IMdxHMdxrL8gx3Ecx3GsP1RVVVVVVcU/cBzHcRzH0T84juM4juPYPwAAAAAAAOA/AAAAAAAA4L85juM4juPYv3Icx3Ecx9G/VlVVVVVVxb8gx3Ecx3GsvyDHcRzHcaw/VFVVVVVVxT9wHMdxHMfRPziO4ziO49g/AAAAAAAA4D8AAAAAAADgvzmO4ziO49i/chzHcRzH0b9WVVVVVVXFvyDHcRzHcay/IMdxHMdxrD9UVVVVVVXFP3Acx3Ecx9E/OI7jOI7j2D8AAAAAAADgPwAAAAAAAOC/OY7jOI7j2L9yHMdxHMfRv1ZVVVVVVcW/IMdxHMdxrL8gx3Ecx3GsP1RVVVVVVcU/cBzHcRzH0T84juM4juPYPwAAAAAAAOA/AAAAAAAA4L85juM4juPYv3Icx3Ecx9G/VlVVVVVVxb8gx3Ecx3GsvyDHcRzHcaw/VFVVVVVVxT9wHMdxHMfRPziO4ziO49g/AAAAAAAA4D8AAAAAAADgvzmO4ziO49i/chzHcRzH0b9WVVVVVVXFvyDHcRzHcay/IMdxHMdxrD9UVVVVVVXFP3Acx3Ecx9E/OI7jOI7j2D8AAAAAAADgPwAAAAAAAOC/OY7jOI7j2L9yHMdxHMfRv1ZVVVVVVcW/IMdxHMdxrL8gx3Ecx3GsP1RVVVVVVcU/cBzHcRzH0T84juM4juPYPwAAAAAAAOA/AAAAAAAA4L85juM4juPYv3Icx3Ecx9G/VlVVVVVVxb8gx3Ecx3GsvyDHcRzHcaw/VFVVVVVVxT9wHMdxHMfRPziO4ziO49g/AAAAAAAA4D8AAAAAAADgvzmO4ziO49i/chzHcRzH0b9WVVVVVVXFvyDHcRzHcay/IMdxHMdxrD9UVVVVVVXFP3Acx3Ecx9E/OI7jOI7j2D8AAAAAAADgPwAAAAAAAOC/OY7jOI7j2L9yHMdxHMfRv1ZVVVVVVcW/IMdxHMdxrL8gx3Ecx3GsP1RVVVVVVcU/cBzHcRzH0T84juM4juPYPwAAAAAAAOA/AAAAAAAA4L85juM4juPYv3Icx3Ecx9G/VlVVVVVVxb8gx3Ecx3GsvyDHcRzHcaw/VFVVVVVVxT9wHMdxHMfRPziO4ziO49g/AAAAAAAA4D8AAAAAAADgvzmO4ziO49i/chzHcRzH0b9WVVVVVVXFvyDHcRzHcay/IMdxHMdxrD9UVVVVVVXFP3Acx3Ecx9E/OI7jOI7j2D8AAAAAAADgPwAAAAAAAOC/OY7jOI7j2L9yHMdxHMfRv1ZVVVVVVcW/IMdxHMdxrL8gx3Ecx3GsP1RVVVVVVcU/cBzHcRzH0T84juM4juPYPwAAAAAAAOA/AAAAAAAA4L85juM4juPYv3Icx3Ecx9G/VlVVVVVVxb8gx3Ecx3GsvyDHcRzHcaw/VFVVVVVVxT9wHMdxHMfRPziO4ziO49g/AAAAAAAA4D8AAAAAAADgvzmO4ziO49i/chzHcRzH0b9WVVVVVVXFvyDHcRzHcay/IMdxHMdxrD9UVVVVVVXFP3Acx3Ecx9E/OI7jOI7j2D8AAAAAAADgPwAAAAAAAOC/OY7jOI7j2L9yHMdxHMfRv1ZVVVVVVcW/IMdxHMdxrL8gx3Ecx3GsP1RVVVVVVcU/cBzHcRzH0T84juM4juPYPwAAAAAAAOA/AAAAAAAA4L85juM4juPYv3Icx3Ecx9G/VlVVVVVVxb8gx3Ecx3GsvyDHcRzHcaw/VFVVVVVVxT9wHMdxHMfRPziO4ziO49g/AAAAAAAA4D8AAAAAAADgvzmO4ziO49i/chzHcRzH0b9WVVVVVVXFvyDHcRzHcay/IMdxHMdxrD9UVVVVVVXFP3Acx3Ecx9E/OI7jOI7j2D8AAAAAAADgPwAAAAAAAOC/OY7jOI7j2L9yHMdxHMfRv1ZVVVVVVcW/IMdxHMdxrL8gx3Ecx3GsP1RVVVVVVcU/cBzHcRzH0T84juM4juPYPwAAAAAAAOA/AAAAAAAA4L85juM4juPYv3Icx3Ecx9G/VlVVVVVVxb8gx3Ecx3GsvyDHcRzHcaw/VFVVVVVVxT9wHMdxHMfRPziO4ziO49g/AAAAAAAA4D8AAAAAAADgvzmO4ziO49i/chzHcRzH0b9WVVVVVVXFvyDHcRzHcay/IMdxHMdxrD9UVVVVVVXFP3Acx3Ecx9E/OI7jOI7j2D8AAAAAAADgPwAAAAAAAOC/OY7jOI7j2L9yHMdxHMfRv1ZVVVVVVcW/IMdxHMdxrL8gx3Ecx3GsP1RVVVVVVcU/cBzHcRzH0T84juM4juPYPwAAAAAAAOA/AAAAAAAA4L85juM4juPYv3Icx3Ecx9G/VlVVVVVVxb8gx3Ecx3GsvyDHcRzHcaw/VFVVVVVVxT9wHMdxHMfRPziO4ziO49g/AAAAAAAA4D8AAAAAAADgvzmO4ziO49i/chzHcRzH0b9WVVVVVVXFvyDHcRzHcay/IMdxHMdxrD9UVVVVVVXFP3Acx3Ecx9E/OI7jOI7j2D8AAAAAAADgPwAAAAAAAOC/OY7jOI7j2L9yHMdxHMfRv1ZVVVVVVcW/IMdxHMdxrL8gx3Ecx3GsP1RVVVVVVcU/cBzHcRzH0T84juM4juPYPwAAAAAAAOA/AAAAAAAA4L85juM4juPYv3Icx3Ecx9G/VlVVVVVVxb8gx3Ecx3GsvyDHcRzHcaw/VFVVVVVVxT9wHMdxHMfRPziO4ziO49g/AAAAAAAA4D8AAAAAAADgvzmO4ziO49i/chzHcRzH0b9WVVVVVVXFvyDHcRzHcay/IMdxHMdxrD9UVVVVVVXFP3Acx3Ecx9E/OI7jOI7j2D8AAAAAAADgPwAAAAAAAOC/OY7jOI7j2L9yHMdxHMfRv1ZVVVVVVcW/IMdxHMdxrL8gx3Ecx3GsP1RVVVVVVcU/cBzHcRzH0T84juM4juPYPwAAAAAAAOA/AAAAAAAA4L85juM4juPYv3Icx3Ecx9G/VlVVVVVVxb8gx3Ecx3GsvyDHcRzHcaw/VFVVVVVVxT9wHMdxHMfRPziO4ziO49g/AAAAAAAA4D8AAAAAAADgvzmO4ziO49i/chzHcRzH0b9WVVVVVVXFvyDHcRzHcay/IMdxHMdxrD9UVVVVVVXFP3Acx3Ecx9E/OI7jOI7j2D8AAAAAAADgPwAAAAAAAOC/OY7jOI7j2L9yHMdxHMfRv1ZVVVVVVcW/IMdxHMdxrL8gx3Ecx3GsP1RVVVVVVcU/cBzHcRzH0T84juM4juPYPwAAAAAAAOA/AAAAAAAA4L85juM4juPYv3Icx3Ecx9G/VlVVVVVVxb8gx3Ecx3GsvyDHcRzHcaw/VFVVVVVVxT9wHMdxHMfRPziO4ziO49g/AAAAAAAA4D8AAAAAAADgvzmO4ziO49i/chzHcRzH0b9WVVVVVVXFvyDHcRzHcay/IMdxHMdxrD9UVVVVVVXFP3Acx3Ecx9E/OI7jOI7j2D8AAAAAAADgPwAAAAAAAOC/OY7jOI7j2L9yHMdxHMfRv1ZVVVVVVcW/IMdxHMdxrL8gx3Ecx3GsP1RVVVVVVcU/cBzHcRzH0T84juM4juPYPwAAAAAAAOA/AAAAAAAA4L85juM4juPYv3Icx3Ecx9G/VlVVVVVVxb8gx3Ecx3GsvyDHcRzHcaw/VFVVVVVVxT9wHMdxHMfRPziO4ziO49g/AAAAAAAA4D8AAAAAAADgvzmO4ziO49i/chzHcRzH0b9WVVVVVVXFvyDHcRzHcay/IMdxHMdxrD9UVVVVVVXFP3Acx3Ecx9E/OI7jOI7j2D8AAAAAAADgPwAAAAAAAOC/OY7jOI7j2L9yHMdxHMfRv1ZVVVVVVcW/IMdxHMdxrL8gx3Ecx3GsP1RVVVVVVcU/cBzHcRzH0T84juM4juPYPwAAAAAAAOA/AAAAAAAA4L85juM4juPYv3Icx3Ecx9G/VlVVVVVVxb8gx3Ecx3GsvyDHcRzHcaw/VFVVVVVVxT9wHMdxHMfRPziO4ziO49g/AAAAAAAA4D8AAAAAAADgvzmO4ziO49i/chzHcRzH0b9WVVVVVVXFvyDHcRzHcay/IMdxHMdxrD9UVVVVVVXFP3Acx3Ecx9E/OI7jOI7j2D8AAAAAAADgPwAAAAAAAOC/OY7jOI7j2L9yHMdxHMfRv1ZVVVVVVcW/IMdxHMdxrL8gx3Ecx3GsP1RVVVVVVcU/cBzHcRzH0T84juM4juPYPwAAAAAAAOA/AAAAAAAA4L85juM4juPYv3Icx3Ecx9G/VlVVVVVVxb8gx3Ecx3GsvyDHcRzHcaw/VFVVVVVVxT9wHMdxHMfRPziO4ziO49g/AAAAAAAA4D8AAAAAAADgvzmO4ziO49i/chzHcRzH0b9WVVVVVVXFvyDHcRzHcay/IMdxHMdxrD9UVVVVVVXFP3Acx3Ecx9E/OI7jOI7j2D8AAAAAAADgPwAAAAAAAOC/OY7jOI7j2L9yHMdxHMfRv1ZVVVVVVcW/IMdxHMdxrL8gx3Ecx3GsP1RVVVVVVcU/cBzHcRzH0T84juM4juPYPwAAAAAAAOA/AAAAAAAA4L85juM4juPYv3Icx3Ecx9G/VlVVVVVVxb8gx3Ecx3GsvyDHcRzHcaw/VFVVVVVVxT9wHMdxHMfRPziO4ziO49g/AAAAAAAA4D8AAAAAAADgvzmO4ziO49i/chzHcRzH0b9WVVVVVVXFvyDHcRzHcay/IMdxHMdxrD9UVVVVVVXFP3Acx3Ecx9E/OI7jOI7j2D8AAAAAAADgPwAAAAAAAOC/OY7jOI7j2L9yHMdxHMfRv1ZVVVVVVcW/IMdxHMdxrL8gx3Ecx3GsP1RVVVVVVcU/cBzHcRzH0T84juM4juPYPwAAAAAAAOA/AAAAAAAA4L85juM4juPYv3Icx3Ecx9G/VlVVVVVVxb8gx3Ecx3GsvyDHcRzHcaw/VFVVVVVVxT9wHMdxHMfRPziO4ziO49g/AAAAAAAA4D8AAAAAAADgvzmO4ziO49i/chzHcRzH0b9WVVVVVVXFvyDHcRzHcay/IMdxHMdxrD9UVVVVVVXFP3Acx3Ecx9E/OI7jOI7j2D8AAAAAAADgPwAAAAAAAOC/OY7jOI7j2L9yHMdxHMfRv1ZVVVVVVcW/IMdxHMdxrL8gx3Ecx3GsP1RVVVVVVcU/cBzHcRzH0T84juM4juPYPwAAAAAAAOA/AAAAAAAA4L85juM4juPYv3Icx3Ecx9G/VlVVVVVVxb8gx3Ecx3GsvyDHcRzHcaw/VFVVVVVVxT9wHMdxHMfRPziO4ziO49g/AAAAAAAA4D8AAAAAAADgvzmO4ziO49i/chzHcRzH0b9WVVVVVVXFvyDHcRzHcay/IMdxHMdxrD9UVVVVVVXFP3Acx3Ecx9E/OI7jOI7j2D8AAAAAAADgPwAAAAAAAOC/OY7jOI7j2L9yHMdxHMfRv1ZVVVVVVcW/IMdxHMdxrL8gx3Ecx3GsP1RVVVVVVcU/cBzHcRzH0T84juM4juPYPwAAAAAAAOA/AAAAAAAA4L85juM4juPYv3Icx3Ecx9G/VlVVVVVVxb8gx3Ecx3GsvyDHcRzHcaw/VFVVVVVVxT9wHMdxHMfRPziO4ziO49g/AAAAAAAA4D8AAAAAAADgvzmO4ziO49i/chzHcRzH0b9WVVVVVVXFvyDHcRzHcay/IMdxHMdxrD9UVVVVVVXFP3Acx3Ecx9E/OI7jOI7j2D8AAAAAAADgPwAAAAAAAOC/OY7jOI7j2L9yHMdxHMfRv1ZVVVVVVcW/IMdxHMdxrL8gx3Ecx3GsP1RVVVVVVcU/cBzHcRzH0T84juM4juPYPwAAAAAAAOA/AAAAAAAA4L85juM4juPYv3Icx3Ecx9G/VlVVVVVVxb8gx3Ecx3GsvyDHcRzHcaw/VFVVVVVVxT9wHMdxHMfRPziO4ziO49g/AAAAAAAA4D8=",
          "dtype": "f8"
         }
        }
       ],
       "layout": {
        "scene": {
         "xaxis": {
          "title": {
           "text": "X"
          }
         },
         "yaxis": {
          "title": {
           "text": "Y"
          }
         },
         "zaxis": {
          "title": {
           "text": "Z"
          }
         }
        },
        "template": {
         "data": {
          "bar": [
           {
            "error_x": {
             "color": "#2a3f5f"
            },
            "error_y": {
             "color": "#2a3f5f"
            },
            "marker": {
             "line": {
              "color": "#E5ECF6",
              "width": 0.5
             },
             "pattern": {
              "fillmode": "overlay",
              "size": 10,
              "solidity": 0.2
             }
            },
            "type": "bar"
           }
          ],
          "barpolar": [
           {
            "marker": {
             "line": {
              "color": "#E5ECF6",
              "width": 0.5
             },
             "pattern": {
              "fillmode": "overlay",
              "size": 10,
              "solidity": 0.2
             }
            },
            "type": "barpolar"
           }
          ],
          "carpet": [
           {
            "aaxis": {
             "endlinecolor": "#2a3f5f",
             "gridcolor": "white",
             "linecolor": "white",
             "minorgridcolor": "white",
             "startlinecolor": "#2a3f5f"
            },
            "baxis": {
             "endlinecolor": "#2a3f5f",
             "gridcolor": "white",
             "linecolor": "white",
             "minorgridcolor": "white",
             "startlinecolor": "#2a3f5f"
            },
            "type": "carpet"
           }
          ],
          "choropleth": [
           {
            "colorbar": {
             "outlinewidth": 0,
             "ticks": ""
            },
            "type": "choropleth"
           }
          ],
          "contour": [
           {
            "colorbar": {
             "outlinewidth": 0,
             "ticks": ""
            },
            "colorscale": [
             [
              0,
              "#0d0887"
             ],
             [
              0.1111111111111111,
              "#46039f"
             ],
             [
              0.2222222222222222,
              "#7201a8"
             ],
             [
              0.3333333333333333,
              "#9c179e"
             ],
             [
              0.4444444444444444,
              "#bd3786"
             ],
             [
              0.5555555555555556,
              "#d8576b"
             ],
             [
              0.6666666666666666,
              "#ed7953"
             ],
             [
              0.7777777777777778,
              "#fb9f3a"
             ],
             [
              0.8888888888888888,
              "#fdca26"
             ],
             [
              1,
              "#f0f921"
             ]
            ],
            "type": "contour"
           }
          ],
          "contourcarpet": [
           {
            "colorbar": {
             "outlinewidth": 0,
             "ticks": ""
            },
            "type": "contourcarpet"
           }
          ],
          "heatmap": [
           {
            "colorbar": {
             "outlinewidth": 0,
             "ticks": ""
            },
            "colorscale": [
             [
              0,
              "#0d0887"
             ],
             [
              0.1111111111111111,
              "#46039f"
             ],
             [
              0.2222222222222222,
              "#7201a8"
             ],
             [
              0.3333333333333333,
              "#9c179e"
             ],
             [
              0.4444444444444444,
              "#bd3786"
             ],
             [
              0.5555555555555556,
              "#d8576b"
             ],
             [
              0.6666666666666666,
              "#ed7953"
             ],
             [
              0.7777777777777778,
              "#fb9f3a"
             ],
             [
              0.8888888888888888,
              "#fdca26"
             ],
             [
              1,
              "#f0f921"
             ]
            ],
            "type": "heatmap"
           }
          ],
          "histogram": [
           {
            "marker": {
             "pattern": {
              "fillmode": "overlay",
              "size": 10,
              "solidity": 0.2
             }
            },
            "type": "histogram"
           }
          ],
          "histogram2d": [
           {
            "colorbar": {
             "outlinewidth": 0,
             "ticks": ""
            },
            "colorscale": [
             [
              0,
              "#0d0887"
             ],
             [
              0.1111111111111111,
              "#46039f"
             ],
             [
              0.2222222222222222,
              "#7201a8"
             ],
             [
              0.3333333333333333,
              "#9c179e"
             ],
             [
              0.4444444444444444,
              "#bd3786"
             ],
             [
              0.5555555555555556,
              "#d8576b"
             ],
             [
              0.6666666666666666,
              "#ed7953"
             ],
             [
              0.7777777777777778,
              "#fb9f3a"
             ],
             [
              0.8888888888888888,
              "#fdca26"
             ],
             [
              1,
              "#f0f921"
             ]
            ],
            "type": "histogram2d"
           }
          ],
          "histogram2dcontour": [
           {
            "colorbar": {
             "outlinewidth": 0,
             "ticks": ""
            },
            "colorscale": [
             [
              0,
              "#0d0887"
             ],
             [
              0.1111111111111111,
              "#46039f"
             ],
             [
              0.2222222222222222,
              "#7201a8"
             ],
             [
              0.3333333333333333,
              "#9c179e"
             ],
             [
              0.4444444444444444,
              "#bd3786"
             ],
             [
              0.5555555555555556,
              "#d8576b"
             ],
             [
              0.6666666666666666,
              "#ed7953"
             ],
             [
              0.7777777777777778,
              "#fb9f3a"
             ],
             [
              0.8888888888888888,
              "#fdca26"
             ],
             [
              1,
              "#f0f921"
             ]
            ],
            "type": "histogram2dcontour"
           }
          ],
          "mesh3d": [
           {
            "colorbar": {
             "outlinewidth": 0,
             "ticks": ""
            },
            "type": "mesh3d"
           }
          ],
          "parcoords": [
           {
            "line": {
             "colorbar": {
              "outlinewidth": 0,
              "ticks": ""
             }
            },
            "type": "parcoords"
           }
          ],
          "pie": [
           {
            "automargin": true,
            "type": "pie"
           }
          ],
          "scatter": [
           {
            "fillpattern": {
             "fillmode": "overlay",
             "size": 10,
             "solidity": 0.2
            },
            "type": "scatter"
           }
          ],
          "scatter3d": [
           {
            "line": {
             "colorbar": {
              "outlinewidth": 0,
              "ticks": ""
             }
            },
            "marker": {
             "colorbar": {
              "outlinewidth": 0,
              "ticks": ""
             }
            },
            "type": "scatter3d"
           }
          ],
          "scattercarpet": [
           {
            "marker": {
             "colorbar": {
              "outlinewidth": 0,
              "ticks": ""
             }
            },
            "type": "scattercarpet"
           }
          ],
          "scattergeo": [
           {
            "marker": {
             "colorbar": {
              "outlinewidth": 0,
              "ticks": ""
             }
            },
            "type": "scattergeo"
           }
          ],
          "scattergl": [
           {
            "marker": {
             "colorbar": {
              "outlinewidth": 0,
              "ticks": ""
             }
            },
            "type": "scattergl"
           }
          ],
          "scattermap": [
           {
            "marker": {
             "colorbar": {
              "outlinewidth": 0,
              "ticks": ""
             }
            },
            "type": "scattermap"
           }
          ],
          "scattermapbox": [
           {
            "marker": {
             "colorbar": {
              "outlinewidth": 0,
              "ticks": ""
             }
            },
            "type": "scattermapbox"
           }
          ],
          "scatterpolar": [
           {
            "marker": {
             "colorbar": {
              "outlinewidth": 0,
              "ticks": ""
             }
            },
            "type": "scatterpolar"
           }
          ],
          "scatterpolargl": [
           {
            "marker": {
             "colorbar": {
              "outlinewidth": 0,
              "ticks": ""
             }
            },
            "type": "scatterpolargl"
           }
          ],
          "scatterternary": [
           {
            "marker": {
             "colorbar": {
              "outlinewidth": 0,
              "ticks": ""
             }
            },
            "type": "scatterternary"
           }
          ],
          "surface": [
           {
            "colorbar": {
             "outlinewidth": 0,
             "ticks": ""
            },
            "colorscale": [
             [
              0,
              "#0d0887"
             ],
             [
              0.1111111111111111,
              "#46039f"
             ],
             [
              0.2222222222222222,
              "#7201a8"
             ],
             [
              0.3333333333333333,
              "#9c179e"
             ],
             [
              0.4444444444444444,
              "#bd3786"
             ],
             [
              0.5555555555555556,
              "#d8576b"
             ],
             [
              0.6666666666666666,
              "#ed7953"
             ],
             [
              0.7777777777777778,
              "#fb9f3a"
             ],
             [
              0.8888888888888888,
              "#fdca26"
             ],
             [
              1,
              "#f0f921"
             ]
            ],
            "type": "surface"
           }
          ],
          "table": [
           {
            "cells": {
             "fill": {
              "color": "#EBF0F8"
             },
             "line": {
              "color": "white"
             }
            },
            "header": {
             "fill": {
              "color": "#C8D4E3"
             },
             "line": {
              "color": "white"
             }
            },
            "type": "table"
           }
          ]
         },
         "layout": {
          "annotationdefaults": {
           "arrowcolor": "#2a3f5f",
           "arrowhead": 0,
           "arrowwidth": 1
          },
          "autotypenumbers": "strict",
          "coloraxis": {
           "colorbar": {
            "outlinewidth": 0,
            "ticks": ""
           }
          },
          "colorscale": {
           "diverging": [
            [
             0,
             "#8e0152"
            ],
            [
             0.1,
             "#c51b7d"
            ],
            [
             0.2,
             "#de77ae"
            ],
            [
             0.3,
             "#f1b6da"
            ],
            [
             0.4,
             "#fde0ef"
            ],
            [
             0.5,
             "#f7f7f7"
            ],
            [
             0.6,
             "#e6f5d0"
            ],
            [
             0.7,
             "#b8e186"
            ],
            [
             0.8,
             "#7fbc41"
            ],
            [
             0.9,
             "#4d9221"
            ],
            [
             1,
             "#276419"
            ]
           ],
           "sequential": [
            [
             0,
             "#0d0887"
            ],
            [
             0.1111111111111111,
             "#46039f"
            ],
            [
             0.2222222222222222,
             "#7201a8"
            ],
            [
             0.3333333333333333,
             "#9c179e"
            ],
            [
             0.4444444444444444,
             "#bd3786"
            ],
            [
             0.5555555555555556,
             "#d8576b"
            ],
            [
             0.6666666666666666,
             "#ed7953"
            ],
            [
             0.7777777777777778,
             "#fb9f3a"
            ],
            [
             0.8888888888888888,
             "#fdca26"
            ],
            [
             1,
             "#f0f921"
            ]
           ],
           "sequentialminus": [
            [
             0,
             "#0d0887"
            ],
            [
             0.1111111111111111,
             "#46039f"
            ],
            [
             0.2222222222222222,
             "#7201a8"
            ],
            [
             0.3333333333333333,
             "#9c179e"
            ],
            [
             0.4444444444444444,
             "#bd3786"
            ],
            [
             0.5555555555555556,
             "#d8576b"
            ],
            [
             0.6666666666666666,
             "#ed7953"
            ],
            [
             0.7777777777777778,
             "#fb9f3a"
            ],
            [
             0.8888888888888888,
             "#fdca26"
            ],
            [
             1,
             "#f0f921"
            ]
           ]
          },
          "colorway": [
           "#636efa",
           "#EF553B",
           "#00cc96",
           "#ab63fa",
           "#FFA15A",
           "#19d3f3",
           "#FF6692",
           "#B6E880",
           "#FF97FF",
           "#FECB52"
          ],
          "font": {
           "color": "#2a3f5f"
          },
          "geo": {
           "bgcolor": "white",
           "lakecolor": "white",
           "landcolor": "#E5ECF6",
           "showlakes": true,
           "showland": true,
           "subunitcolor": "white"
          },
          "hoverlabel": {
           "align": "left"
          },
          "hovermode": "closest",
          "mapbox": {
           "style": "light"
          },
          "paper_bgcolor": "white",
          "plot_bgcolor": "#E5ECF6",
          "polar": {
           "angularaxis": {
            "gridcolor": "white",
            "linecolor": "white",
            "ticks": ""
           },
           "bgcolor": "#E5ECF6",
           "radialaxis": {
            "gridcolor": "white",
            "linecolor": "white",
            "ticks": ""
           }
          },
          "scene": {
           "xaxis": {
            "backgroundcolor": "#E5ECF6",
            "gridcolor": "white",
            "gridwidth": 2,
            "linecolor": "white",
            "showbackground": true,
            "ticks": "",
            "zerolinecolor": "white"
           },
           "yaxis": {
            "backgroundcolor": "#E5ECF6",
            "gridcolor": "white",
            "gridwidth": 2,
            "linecolor": "white",
            "showbackground": true,
            "ticks": "",
            "zerolinecolor": "white"
           },
           "zaxis": {
            "backgroundcolor": "#E5ECF6",
            "gridcolor": "white",
            "gridwidth": 2,
            "linecolor": "white",
            "showbackground": true,
            "ticks": "",
            "zerolinecolor": "white"
           }
          },
          "shapedefaults": {
           "line": {
            "color": "#2a3f5f"
           }
          },
          "ternary": {
           "aaxis": {
            "gridcolor": "white",
            "linecolor": "white",
            "ticks": ""
           },
           "baxis": {
            "gridcolor": "white",
            "linecolor": "white",
            "ticks": ""
           },
           "bgcolor": "#E5ECF6",
           "caxis": {
            "gridcolor": "white",
            "linecolor": "white",
            "ticks": ""
           }
          },
          "title": {
           "x": 0.05
          },
          "xaxis": {
           "automargin": true,
           "gridcolor": "white",
           "linecolor": "white",
           "ticks": "",
           "title": {
            "standoff": 15
           },
           "zerolinecolor": "white",
           "zerolinewidth": 2
          },
          "yaxis": {
           "automargin": true,
           "gridcolor": "white",
           "linecolor": "white",
           "ticks": "",
           "title": {
            "standoff": 15
           },
           "zerolinecolor": "white",
           "zerolinewidth": 2
          }
         }
        },
        "title": {
         "text": "Div free Matern output from GP Regression for n = 100 input vectors for current carrying wire"
        }
       }
      }
     },
     "metadata": {},
     "output_type": "display_data"
    }
   ],
   "source": [
    "plotter(outputs_wire_div_free_matern, \n",
    "        title = f'Div free Matern output from GP Regression for n = {given_samples_wire} input vectors for current carrying wire')"
   ]
  },
  {
   "cell_type": "code",
   "execution_count": 114,
   "id": "5a771a5e",
   "metadata": {},
   "outputs": [
    {
     "name": "stdout",
     "output_type": "stream",
     "text": [
      "MSE for this case of 85.14330894632346\n"
     ]
    },
    {
     "data": {
      "application/vnd.plotly.v1+json": {
       "config": {
        "plotlyServerURL": "https://plot.ly"
       },
       "data": [
        {
         "anchor": "tail",
         "sizemode": "scaled",
         "sizeref": 2,
         "type": "cone",
         "u": {
          "bdata": "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",
          "dtype": "f8"
         },
         "v": {
          "bdata": "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",
          "dtype": "f8"
         },
         "w": {
          "bdata": "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",
          "dtype": "f8"
         },
         "x": {
          "bdata": "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",
          "dtype": "f8"
         },
         "y": {
          "bdata": "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",
          "dtype": "f8"
         },
         "z": {
          "bdata": "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",
          "dtype": "f8"
         }
        }
       ],
       "layout": {
        "scene": {
         "xaxis": {
          "title": {
           "text": "X"
          }
         },
         "yaxis": {
          "title": {
           "text": "Y"
          }
         },
         "zaxis": {
          "title": {
           "text": "Z"
          }
         }
        },
        "template": {
         "data": {
          "bar": [
           {
            "error_x": {
             "color": "#2a3f5f"
            },
            "error_y": {
             "color": "#2a3f5f"
            },
            "marker": {
             "line": {
              "color": "#E5ECF6",
              "width": 0.5
             },
             "pattern": {
              "fillmode": "overlay",
              "size": 10,
              "solidity": 0.2
             }
            },
            "type": "bar"
           }
          ],
          "barpolar": [
           {
            "marker": {
             "line": {
              "color": "#E5ECF6",
              "width": 0.5
             },
             "pattern": {
              "fillmode": "overlay",
              "size": 10,
              "solidity": 0.2
             }
            },
            "type": "barpolar"
           }
          ],
          "carpet": [
           {
            "aaxis": {
             "endlinecolor": "#2a3f5f",
             "gridcolor": "white",
             "linecolor": "white",
             "minorgridcolor": "white",
             "startlinecolor": "#2a3f5f"
            },
            "baxis": {
             "endlinecolor": "#2a3f5f",
             "gridcolor": "white",
             "linecolor": "white",
             "minorgridcolor": "white",
             "startlinecolor": "#2a3f5f"
            },
            "type": "carpet"
           }
          ],
          "choropleth": [
           {
            "colorbar": {
             "outlinewidth": 0,
             "ticks": ""
            },
            "type": "choropleth"
           }
          ],
          "contour": [
           {
            "colorbar": {
             "outlinewidth": 0,
             "ticks": ""
            },
            "colorscale": [
             [
              0,
              "#0d0887"
             ],
             [
              0.1111111111111111,
              "#46039f"
             ],
             [
              0.2222222222222222,
              "#7201a8"
             ],
             [
              0.3333333333333333,
              "#9c179e"
             ],
             [
              0.4444444444444444,
              "#bd3786"
             ],
             [
              0.5555555555555556,
              "#d8576b"
             ],
             [
              0.6666666666666666,
              "#ed7953"
             ],
             [
              0.7777777777777778,
              "#fb9f3a"
             ],
             [
              0.8888888888888888,
              "#fdca26"
             ],
             [
              1,
              "#f0f921"
             ]
            ],
            "type": "contour"
           }
          ],
          "contourcarpet": [
           {
            "colorbar": {
             "outlinewidth": 0,
             "ticks": ""
            },
            "type": "contourcarpet"
           }
          ],
          "heatmap": [
           {
            "colorbar": {
             "outlinewidth": 0,
             "ticks": ""
            },
            "colorscale": [
             [
              0,
              "#0d0887"
             ],
             [
              0.1111111111111111,
              "#46039f"
             ],
             [
              0.2222222222222222,
              "#7201a8"
             ],
             [
              0.3333333333333333,
              "#9c179e"
             ],
             [
              0.4444444444444444,
              "#bd3786"
             ],
             [
              0.5555555555555556,
              "#d8576b"
             ],
             [
              0.6666666666666666,
              "#ed7953"
             ],
             [
              0.7777777777777778,
              "#fb9f3a"
             ],
             [
              0.8888888888888888,
              "#fdca26"
             ],
             [
              1,
              "#f0f921"
             ]
            ],
            "type": "heatmap"
           }
          ],
          "histogram": [
           {
            "marker": {
             "pattern": {
              "fillmode": "overlay",
              "size": 10,
              "solidity": 0.2
             }
            },
            "type": "histogram"
           }
          ],
          "histogram2d": [
           {
            "colorbar": {
             "outlinewidth": 0,
             "ticks": ""
            },
            "colorscale": [
             [
              0,
              "#0d0887"
             ],
             [
              0.1111111111111111,
              "#46039f"
             ],
             [
              0.2222222222222222,
              "#7201a8"
             ],
             [
              0.3333333333333333,
              "#9c179e"
             ],
             [
              0.4444444444444444,
              "#bd3786"
             ],
             [
              0.5555555555555556,
              "#d8576b"
             ],
             [
              0.6666666666666666,
              "#ed7953"
             ],
             [
              0.7777777777777778,
              "#fb9f3a"
             ],
             [
              0.8888888888888888,
              "#fdca26"
             ],
             [
              1,
              "#f0f921"
             ]
            ],
            "type": "histogram2d"
           }
          ],
          "histogram2dcontour": [
           {
            "colorbar": {
             "outlinewidth": 0,
             "ticks": ""
            },
            "colorscale": [
             [
              0,
              "#0d0887"
             ],
             [
              0.1111111111111111,
              "#46039f"
             ],
             [
              0.2222222222222222,
              "#7201a8"
             ],
             [
              0.3333333333333333,
              "#9c179e"
             ],
             [
              0.4444444444444444,
              "#bd3786"
             ],
             [
              0.5555555555555556,
              "#d8576b"
             ],
             [
              0.6666666666666666,
              "#ed7953"
             ],
             [
              0.7777777777777778,
              "#fb9f3a"
             ],
             [
              0.8888888888888888,
              "#fdca26"
             ],
             [
              1,
              "#f0f921"
             ]
            ],
            "type": "histogram2dcontour"
           }
          ],
          "mesh3d": [
           {
            "colorbar": {
             "outlinewidth": 0,
             "ticks": ""
            },
            "type": "mesh3d"
           }
          ],
          "parcoords": [
           {
            "line": {
             "colorbar": {
              "outlinewidth": 0,
              "ticks": ""
             }
            },
            "type": "parcoords"
           }
          ],
          "pie": [
           {
            "automargin": true,
            "type": "pie"
           }
          ],
          "scatter": [
           {
            "fillpattern": {
             "fillmode": "overlay",
             "size": 10,
             "solidity": 0.2
            },
            "type": "scatter"
           }
          ],
          "scatter3d": [
           {
            "line": {
             "colorbar": {
              "outlinewidth": 0,
              "ticks": ""
             }
            },
            "marker": {
             "colorbar": {
              "outlinewidth": 0,
              "ticks": ""
             }
            },
            "type": "scatter3d"
           }
          ],
          "scattercarpet": [
           {
            "marker": {
             "colorbar": {
              "outlinewidth": 0,
              "ticks": ""
             }
            },
            "type": "scattercarpet"
           }
          ],
          "scattergeo": [
           {
            "marker": {
             "colorbar": {
              "outlinewidth": 0,
              "ticks": ""
             }
            },
            "type": "scattergeo"
           }
          ],
          "scattergl": [
           {
            "marker": {
             "colorbar": {
              "outlinewidth": 0,
              "ticks": ""
             }
            },
            "type": "scattergl"
           }
          ],
          "scattermap": [
           {
            "marker": {
             "colorbar": {
              "outlinewidth": 0,
              "ticks": ""
             }
            },
            "type": "scattermap"
           }
          ],
          "scattermapbox": [
           {
            "marker": {
             "colorbar": {
              "outlinewidth": 0,
              "ticks": ""
             }
            },
            "type": "scattermapbox"
           }
          ],
          "scatterpolar": [
           {
            "marker": {
             "colorbar": {
              "outlinewidth": 0,
              "ticks": ""
             }
            },
            "type": "scatterpolar"
           }
          ],
          "scatterpolargl": [
           {
            "marker": {
             "colorbar": {
              "outlinewidth": 0,
              "ticks": ""
             }
            },
            "type": "scatterpolargl"
           }
          ],
          "scatterternary": [
           {
            "marker": {
             "colorbar": {
              "outlinewidth": 0,
              "ticks": ""
             }
            },
            "type": "scatterternary"
           }
          ],
          "surface": [
           {
            "colorbar": {
             "outlinewidth": 0,
             "ticks": ""
            },
            "colorscale": [
             [
              0,
              "#0d0887"
             ],
             [
              0.1111111111111111,
              "#46039f"
             ],
             [
              0.2222222222222222,
              "#7201a8"
             ],
             [
              0.3333333333333333,
              "#9c179e"
             ],
             [
              0.4444444444444444,
              "#bd3786"
             ],
             [
              0.5555555555555556,
              "#d8576b"
             ],
             [
              0.6666666666666666,
              "#ed7953"
             ],
             [
              0.7777777777777778,
              "#fb9f3a"
             ],
             [
              0.8888888888888888,
              "#fdca26"
             ],
             [
              1,
              "#f0f921"
             ]
            ],
            "type": "surface"
           }
          ],
          "table": [
           {
            "cells": {
             "fill": {
              "color": "#EBF0F8"
             },
             "line": {
              "color": "white"
             }
            },
            "header": {
             "fill": {
              "color": "#C8D4E3"
             },
             "line": {
              "color": "white"
             }
            },
            "type": "table"
           }
          ]
         },
         "layout": {
          "annotationdefaults": {
           "arrowcolor": "#2a3f5f",
           "arrowhead": 0,
           "arrowwidth": 1
          },
          "autotypenumbers": "strict",
          "coloraxis": {
           "colorbar": {
            "outlinewidth": 0,
            "ticks": ""
           }
          },
          "colorscale": {
           "diverging": [
            [
             0,
             "#8e0152"
            ],
            [
             0.1,
             "#c51b7d"
            ],
            [
             0.2,
             "#de77ae"
            ],
            [
             0.3,
             "#f1b6da"
            ],
            [
             0.4,
             "#fde0ef"
            ],
            [
             0.5,
             "#f7f7f7"
            ],
            [
             0.6,
             "#e6f5d0"
            ],
            [
             0.7,
             "#b8e186"
            ],
            [
             0.8,
             "#7fbc41"
            ],
            [
             0.9,
             "#4d9221"
            ],
            [
             1,
             "#276419"
            ]
           ],
           "sequential": [
            [
             0,
             "#0d0887"
            ],
            [
             0.1111111111111111,
             "#46039f"
            ],
            [
             0.2222222222222222,
             "#7201a8"
            ],
            [
             0.3333333333333333,
             "#9c179e"
            ],
            [
             0.4444444444444444,
             "#bd3786"
            ],
            [
             0.5555555555555556,
             "#d8576b"
            ],
            [
             0.6666666666666666,
             "#ed7953"
            ],
            [
             0.7777777777777778,
             "#fb9f3a"
            ],
            [
             0.8888888888888888,
             "#fdca26"
            ],
            [
             1,
             "#f0f921"
            ]
           ],
           "sequentialminus": [
            [
             0,
             "#0d0887"
            ],
            [
             0.1111111111111111,
             "#46039f"
            ],
            [
             0.2222222222222222,
             "#7201a8"
            ],
            [
             0.3333333333333333,
             "#9c179e"
            ],
            [
             0.4444444444444444,
             "#bd3786"
            ],
            [
             0.5555555555555556,
             "#d8576b"
            ],
            [
             0.6666666666666666,
             "#ed7953"
            ],
            [
             0.7777777777777778,
             "#fb9f3a"
            ],
            [
             0.8888888888888888,
             "#fdca26"
            ],
            [
             1,
             "#f0f921"
            ]
           ]
          },
          "colorway": [
           "#636efa",
           "#EF553B",
           "#00cc96",
           "#ab63fa",
           "#FFA15A",
           "#19d3f3",
           "#FF6692",
           "#B6E880",
           "#FF97FF",
           "#FECB52"
          ],
          "font": {
           "color": "#2a3f5f"
          },
          "geo": {
           "bgcolor": "white",
           "lakecolor": "white",
           "landcolor": "#E5ECF6",
           "showlakes": true,
           "showland": true,
           "subunitcolor": "white"
          },
          "hoverlabel": {
           "align": "left"
          },
          "hovermode": "closest",
          "mapbox": {
           "style": "light"
          },
          "paper_bgcolor": "white",
          "plot_bgcolor": "#E5ECF6",
          "polar": {
           "angularaxis": {
            "gridcolor": "white",
            "linecolor": "white",
            "ticks": ""
           },
           "bgcolor": "#E5ECF6",
           "radialaxis": {
            "gridcolor": "white",
            "linecolor": "white",
            "ticks": ""
           }
          },
          "scene": {
           "xaxis": {
            "backgroundcolor": "#E5ECF6",
            "gridcolor": "white",
            "gridwidth": 2,
            "linecolor": "white",
            "showbackground": true,
            "ticks": "",
            "zerolinecolor": "white"
           },
           "yaxis": {
            "backgroundcolor": "#E5ECF6",
            "gridcolor": "white",
            "gridwidth": 2,
            "linecolor": "white",
            "showbackground": true,
            "ticks": "",
            "zerolinecolor": "white"
           },
           "zaxis": {
            "backgroundcolor": "#E5ECF6",
            "gridcolor": "white",
            "gridwidth": 2,
            "linecolor": "white",
            "showbackground": true,
            "ticks": "",
            "zerolinecolor": "white"
           }
          },
          "shapedefaults": {
           "line": {
            "color": "#2a3f5f"
           }
          },
          "ternary": {
           "aaxis": {
            "gridcolor": "white",
            "linecolor": "white",
            "ticks": ""
           },
           "baxis": {
            "gridcolor": "white",
            "linecolor": "white",
            "ticks": ""
           },
           "bgcolor": "#E5ECF6",
           "caxis": {
            "gridcolor": "white",
            "linecolor": "white",
            "ticks": ""
           }
          },
          "title": {
           "x": 0.05
          },
          "xaxis": {
           "automargin": true,
           "gridcolor": "white",
           "linecolor": "white",
           "ticks": "",
           "title": {
            "standoff": 15
           },
           "zerolinecolor": "white",
           "zerolinewidth": 2
          },
          "yaxis": {
           "automargin": true,
           "gridcolor": "white",
           "linecolor": "white",
           "ticks": "",
           "title": {
            "standoff": 15
           },
           "zerolinecolor": "white",
           "zerolinewidth": 2
          }
         }
        },
        "title": {
         "text": "div free matern regression errors for n = 100 input vectors for current carrying wire"
        }
       }
      }
     },
     "metadata": {},
     "output_type": "display_data"
    }
   ],
   "source": [
    "# plot residuals of fit above: \n",
    "residuals_wire_div_free_matern, mse_wire_curl_free_matern = differencer(outputs_wire, outputs_wire_div_free_matern)\n",
    "print(f'MSE for this case of {mse_wire_curl_free_matern}')\n",
    "plotter(residuals_wire_div_free_matern, \n",
    "        title = f'div free matern regression errors for n = {given_samples_wire} input vectors for current carrying wire')"
   ]
  }
 ],
 "metadata": {
  "kernelspec": {
   "display_name": "env",
   "language": "python",
   "name": "python3"
  },
  "language_info": {
   "codemirror_mode": {
    "name": "ipython",
    "version": 3
   },
   "file_extension": ".py",
   "mimetype": "text/x-python",
   "name": "python",
   "nbconvert_exporter": "python",
   "pygments_lexer": "ipython3",
   "version": "3.12.0"
  }
 },
 "nbformat": 4,
 "nbformat_minor": 5
}

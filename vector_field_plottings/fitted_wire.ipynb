{
 "cells": [
  {
   "cell_type": "markdown",
   "id": "2c13ec42",
   "metadata": {},
   "source": [
    "# Gaussian Updated Fields + analytics for current carrying wire"
   ]
  },
  {
   "cell_type": "code",
   "execution_count": 1,
   "id": "be29ef2e",
   "metadata": {},
   "outputs": [],
   "source": [
    "import sys\n",
    "sys.path.append('..')"
   ]
  },
  {
   "cell_type": "code",
   "execution_count": 2,
   "id": "fbe8d646",
   "metadata": {},
   "outputs": [],
   "source": [
    "# Loading my modules\n",
    "from plotting_tools.plotter import plotter\n",
    "from plotting_tools.field_comparison import differencer\n",
    "from plotting_tools.sample_field import sample_field\n",
    "from physics_informed_vector_fields.current_carrying_wire import field_around_current_carrying_wire\n",
    "from GP_Implementation.Kernel import updated_vector_field"
   ]
  },
  {
   "cell_type": "code",
   "execution_count": 3,
   "id": "7efbb339",
   "metadata": {},
   "outputs": [
    {
     "data": {
      "application/vnd.plotly.v1+json": {
       "config": {
        "plotlyServerURL": "https://plot.ly"
       },
       "data": [
        {
         "anchor": "tail",
         "sizemode": "scaled",
         "sizeref": 2,
         "type": "cone",
         "u": {
          "bdata": "dLJecC32M8ADSArzWbYcwLS3AQdKfz7AYj3Qpbk0ZsDTfTX9MGBKwICC5ANi8TDAgILkA2LxMEAsytkvoaY/QCA4gR3x9EFAtrcBB0p/PkAgBigC+LRDwGI90KW5NGbAJboSqJz7QMAsytkvoaY/QE3GmebxPFHAw1qVrGqEEcB0sl5wLfYzQKF3iMvfQjjAwFnYuSBYM0CBguQDYvEwwNZKrHxB8SdAAf+otI4fScDJgGsCdKlFQMmAawJ0qUVAsTN4CJSnOcAluhKonPtAwMNalaxqhBFAirw6gQXfOEAxytkvoaY/wHSyXnAt9jNAoXeIy99COEAkuhKonPtAQMqAawJ0qUVAtrcBB0p/PsAgBigC+LRDQDHK2S+hpj9AyVqVrGqEEcAFMWtcrdtNwMFZ2LkgWDNALsrZL6GmP8AsytkvoaY/QHSyXnAt9jPACzFrXK3bTUAgOIEd8fRBwOjWwj22lCvAJboSqJz7QMCwM3gIlKc5QAxICvNZthxAyYBrAnSpRUAA/6i0jh9JwAgxa1yt201AtLcBB0p/PsAuytkvoaY/wATvhgZl1VpAibeA3T6RMsAA/6i0jh9JwP5s5jf48UHA/mzmN/jxQcDAWdi5IFgzwMmAawJ0qUVAB++GBmXVWsBenwSvmONBQAxICvNZthxAtLcBB0p/PkAA/6i0jh9JQIq8OoEF3zjALsrZL6GmP8AE74YGZdVaQOjWwj22lCvATcaZ5vE8UcAxytkvoaY/QLS3AQdKfz7A6NbCPbaUK0Do1sI9tpQrQICC5ANi8TBAAP+otI4fSUDKgGsCdKlFwLa3AQdKfz7AIDiBHfH0QUBenwSvmONBwC7K2S+hpj/AYj3Qpbk0ZsDKgGsCdKlFwMBZ2LkgWDPAdLJecC32M0AgOIEd8fRBwCzK2S+hpj9AIAYoAvi0Q0AgBigC+LRDwKF3iMvfQjjAYj3Qpbk0ZsAgBigC+LRDwICC5ANi8TBA/mzmN/jxQcALMWtcrdtNQAH/qLSOH0nAB++GBmXVWsCKvDqBBd84QAUxa1yt203AXp8Er5jjQUA=",
          "dtype": "f8"
         },
         "v": {
          "bdata": "dLJecC32M0AA/6i0jh9JQH+C5ANi8TDAYj3Qpbk0ZkAvytkvoaY/QLa3AQdKfz5AtLcBB0p/PsDOfTX9MGBKwNhKrHxB8SfAgYLkA2LxMEDEWpWsaoQRwGI90KW5NGZAoHeIy99COEDOfTX9MGBKwOnWwj22lCtAIAYoAvi0Q8B0sl5wLfYzQCS6Eqic+0DAjLw6gQXfOMC2twEHSn8+wCA4gR3x9EHAAkgK81m2HMCKt4DdPpEywIq3gN0+kTLAsTN4CJSnOUCgd4jL30I4QCAGKAL4tEPAwlnYuSBYM8DTfTX9MGBKQHOyXnAt9jPAI7oSqJz7QECfd4jL30I4QIi3gN0+kTJAgYLkA2LxMEDEWpWsaoQRwNB9Nf0wYEpAIAYoAvi0Q0AMMWtcrdtNwIu8OoEF3zhA0H01/TBgSsDOfTX9MGBKwHSyXnAt9jNABzFrXK3bTUDVSqx8QfEnQEvGmebxPFHAoHeIy99COECvM3gIlKc5QP/+qLSOH0nAireA3T6RMsAKSArzWbYcQAcxa1yt203Af4LkA2LxMMDQfTX9MGBKwFqfBK+Y40HAzIBrAnSpRUAKSArzWbYcQAJt5jf48UHAAm3mN/jxQcCLvDqBBd84QIq3gN0+kTLAXp8Er5jjQUAH74YGZdVaQP/+qLSOH0nAf4LkA2LxMMABSArzWbYcwMJZ2LkgWDPA0H01/TBgSsBZnwSvmONBQEvGmebxPFHA6dbCPbaUK0DQfTX9MGBKQH+C5ANi8TDATcaZ5vE8UUBLxpnm8TxRwLS3AQdKfz5AAUgK81m2HMCLt4DdPpEywIGC5ANi8TBA1UqsfEHxJ0AH74YGZdVaQNB9Nf0wYErAYT3Qpbk0ZsCLt4DdPpEywIu8OoEF3zhAdLJecC32M0DVSqx8QfEnQM59Nf0wYErAylqVrGqEEUDEWpWsaoQRwCW6Eqic+0BAYT3Qpbk0ZsDEWpWsaoQRwLS3AQdKfz5AAm3mN/jxQcAHMWtcrdtNQAJICvNZthzAXp8Er5jjQUDCWdi5IFgzwAwxa1yt203AB++GBmXVWkA=",
          "dtype": "f8"
         },
         "w": {
          "bdata": "AAAAAAAAAAAAAAAAAAAAAAAAAAAAAAAAAAAAAAAAAAAAAAAAAAAAAAAAAAAAAAAAAAAAAAAAAAAAAAAAAAAAAAAAAAAAAAAAAAAAAAAAAAAAAAAAAAAAAAAAAAAAAAAAAAAAAAAAAAAAAAAAAAAAAAAAAAAAAAAAAAAAAAAAAAAAAAAAAAAAAAAAAAAAAAAAAAAAAAAAAAAAAAAAAAAAAAAAAAAAAAAAAAAAAAAAAAAAAAAAAAAAAAAAAAAAAAAAAAAAAAAAAAAAAAAAAAAAAAAAAAAAAAAAAAAAAAAAAAAAAAAAAAAAAAAAAAAAAAAAAAAAAAAAAAAAAAAAAAAAAAAAAAAAAAAAAAAAAAAAAAAAAAAAAAAAAAAAAAAAAAAAAAAAAAAAAAAAAAAAAAAAAAAAAAAAAAAAAAAAAAAAAAAAAAAAAAAAAAAAAAAAAAAAAAAAAAAAAAAAAAAAAAAAAAAAAAAAAAAAAAAAAAAAAAAAAAAAAAAAAAAAAAAAAAAAAAAAAAAAAAAAAAAAAAAAAAAAAAAAAAAAAAAAAAAAAAAAAAAAAAAAAAAAAAAAAAAAAAAAAAAAAAAAAAAAAAAAAAAAAAAAAAAAAAAAAAAAAAAAAAAAAAAAAAAAAAAAAAAAAAAAAAAAAAAAAAAAAAAAAAAAAAAAAAAAAAAAAAAAAAAAAAAAAAAAAAAAAAAAAAAAAAAAAAAAAAAAAAAAAAAAAAAAAAAAAAAAAAAAAAAAAAAAAAAAAAAAAAAAAAAAAAAAAAAAAAAAAAAAAAAAAAAAAAAAAAAAAAAAAAAAAAAAAAAAAAAAAAAAAAAAAAAAAAAAAAAAAAAAAAAAAAAAAAAAAAAAAAAAAAAAAAAAAAAAAAAAAAAAAAAAAAAAAAAAAAAAAAAAAAAAAAAAAAAAAAAAAAAAAAAAAAAAAAAAAAAAAAAAAAAAAAAAAAAAAAAAAAAAAAAAAAAAAAAAAAAAAAAAAAAAAAAAAAAAAAAAAAAAAAAAAAAAAAAAAAAAAAAAAAAAAAAAAAAAAAAAAAAAAAAAAAAAAAAAAAAAAAAAAAAAAAA=",
          "dtype": "f8"
         },
         "x": {
          "bdata": "AAAAAAAA4D84juM4juPYP3Icx3Ecx9G/IMdxHMdxrD9UVVVVVVXFPwAAAAAAAOA/AAAAAAAA4L9yHMdxHMfRv1ZVVVVVVcW/cBzHcRzH0T8gx3Ecx3GsvyDHcRzHcaw/cBzHcRzH0T9yHMdxHMfRvyDHcRzHcaw/AAAAAAAA4L8AAAAAAADgPzmO4ziO49i/AAAAAAAA4L8AAAAAAADgvwAAAAAAAOC/IMdxHMdxrL9WVVVVVVXFv1ZVVVVVVcW/OI7jOI7j2D9wHMdxHMfRPwAAAAAAAOC/OY7jOI7j2L9wHMdxHMfRPwAAAAAAAOC/OI7jOI7j2D9wHMdxHMfRP1RVVVVVVcU/cBzHcRzH0T8gx3Ecx3Gsv3Acx3Ecx9E/AAAAAAAA4D9WVVVVVVXFvwAAAAAAAOA/chzHcRzH0b9yHMdxHMfRvwAAAAAAAOA/VFVVVVVVxT9UVVVVVVXFP3Icx3Ecx9G/cBzHcRzH0T84juM4juPYPzmO4ziO49i/VlVVVVVVxb8gx3Ecx3GsP1ZVVVVVVcW/chzHcRzH0b9yHMdxHMfRvyDHcRzHcay/OI7jOI7j2D8gx3Ecx3GsP3Icx3Ecx9G/chzHcRzH0b8AAAAAAADgP1ZVVVVVVcW/IMdxHMdxrD9UVVVVVVXFPzmO4ziO49i/chzHcRzH0b8gx3Ecx3GsvzmO4ziO49i/chzHcRzH0b8gx3Ecx3GsP3Icx3Ecx9G/IMdxHMdxrD9wHMdxHMfRP3Icx3Ecx9G/cBzHcRzH0T9yHMdxHMfRvwAAAAAAAOA/IMdxHMdxrL9WVVVVVVXFv3Acx3Ecx9E/VFVVVVVVxT9UVVVVVVXFP3Icx3Ecx9G/IMdxHMdxrL9WVVVVVVXFvwAAAAAAAOA/AAAAAAAA4D9UVVVVVVXFP3Icx3Ecx9G/IMdxHMdxrD8gx3Ecx3GsvziO4ziO49g/IMdxHMdxrL8gx3Ecx3GsvwAAAAAAAOA/chzHcRzH0b9UVVVVVVXFPyDHcRzHcay/IMdxHMdxrD85juM4juPYv1ZVVVVVVcW/VFVVVVVVxT8=",
          "dtype": "f8"
         },
         "y": {
          "bdata": "AAAAAAAA4D8gx3Ecx3GsPwAAAAAAAOA/IMdxHMdxrD9wHMdxHMfRP3Acx3Ecx9E/chzHcRzH0b9WVVVVVVXFvwAAAAAAAOC/AAAAAAAA4L8AAAAAAADgPyDHcRzHcaw/OI7jOI7j2D9WVVVVVVXFv3Acx3Ecx9E/IMdxHMdxrD8AAAAAAADgv3Acx3Ecx9E/OY7jOI7j2L9wHMdxHMfRP1ZVVVVVVcW/OI7jOI7j2D85juM4juPYvzmO4ziO49i/OI7jOI7j2D84juM4juPYPyDHcRzHcay/AAAAAAAA4L9UVVVVVVXFPwAAAAAAAOC/chzHcRzH0b85juM4juPYvzmO4ziO49i/AAAAAAAA4D8AAAAAAADgv1ZVVVVVVcW/IMdxHMdxrD9UVVVVVVXFPzmO4ziO49i/VFVVVVVVxT9WVVVVVVXFvwAAAAAAAOA/VlVVVVVVxb8AAAAAAADgPyDHcRzHcaw/OI7jOI7j2D85juM4juPYvyDHcRzHcay/OY7jOI7j2L84juM4juPYP1ZVVVVVVcW/AAAAAAAA4D9UVVVVVVXFP1ZVVVVVVcW/VFVVVVVVxT84juM4juPYP3Acx3Ecx9E/cBzHcRzH0T84juM4juPYPzmO4ziO49i/VFVVVVVVxT8gx3Ecx3GsvyDHcRzHcay/AAAAAAAA4L85juM4juPYvwAAAAAAAOA/VFVVVVVVxT9WVVVVVVXFvyDHcRzHcaw/cBzHcRzH0T9WVVVVVVXFvwAAAAAAAOA/IMdxHMdxrL8gx3Ecx3Gsv3Icx3Ecx9G/OY7jOI7j2L84juM4juPYPwAAAAAAAOA/AAAAAAAA4L8gx3Ecx3GsP1RVVVVVVcU/IMdxHMdxrD84juM4juPYPziO4ziO49g/AAAAAAAA4L8AAAAAAADgP1ZVVVVVVcW/AAAAAAAA4L8AAAAAAADgP3Acx3Ecx9E/IMdxHMdxrD8AAAAAAADgP3Icx3Ecx9G/cBzHcRzH0T9WVVVVVVXFvziO4ziO49g/VFVVVVVVxT8AAAAAAADgv1RVVVVVVcU/IMdxHMdxrL8=",
          "dtype": "f8"
         },
         "z": {
          "bdata": "VlVVVVVVxb8AAAAAAADgPziO4ziO49g/VlVVVVVVxb9yHMdxHMfRvzmO4ziO49i/cBzHcRzH0T85juM4juPYv1RVVVVVVcU/VFVVVVVVxT9UVVVVVVXFPziO4ziO49g/IMdxHMdxrL8AAAAAAADgPziO4ziO49g/IMdxHMdxrD9UVVVVVVXFPyDHcRzHcaw/IMdxHMdxrL9wHMdxHMfRPzmO4ziO49i/OY7jOI7j2L8AAAAAAADgvzmO4ziO49i/VlVVVVVVxb84juM4juPYPyDHcRzHcaw/VlVVVVVVxb8AAAAAAADgvzmO4ziO49i/VlVVVVVVxb8AAAAAAADgvyDHcRzHcay/AAAAAAAA4L84juM4juPYP1RVVVVVVcU/cBzHcRzH0T9UVVVVVVXFPziO4ziO49g/cBzHcRzH0T8AAAAAAADgv1RVVVVVVcU/IMdxHMdxrD84juM4juPYPzmO4ziO49i/VlVVVVVVxb8AAAAAAADgPzmO4ziO49i/VFVVVVVVxT9wHMdxHMfRPzmO4ziO49i/IMdxHMdxrD9yHMdxHMfRv3Icx3Ecx9G/chzHcRzH0b9yHMdxHMfRv3Icx3Ecx9G/AAAAAAAA4L9wHMdxHMfRPwAAAAAAAOA/AAAAAAAA4D9WVVVVVVXFv3Icx3Ecx9G/chzHcRzH0b9WVVVVVVXFv1RVVVVVVcU/IMdxHMdxrL85juM4juPYv3Icx3Ecx9G/VFVVVVVVxT84juM4juPYPwAAAAAAAOA/AAAAAAAA4L9wHMdxHMfRP1RVVVVVVcU/chzHcRzH0b8AAAAAAADgP1RVVVVVVcU/OY7jOI7j2L8gx3Ecx3GsvzmO4ziO49i/VFVVVVVVxT9UVVVVVVXFP3Icx3Ecx9G/AAAAAAAA4D9WVVVVVVXFv1RVVVVVVcU/OY7jOI7j2L9wHMdxHMfRPyDHcRzHcay/chzHcRzH0b8gx3Ecx3Gsv1ZVVVVVVcW/AAAAAAAA4D84juM4juPYPyDHcRzHcaw/OI7jOI7j2D84juM4juPYP3Acx3Ecx9E/IMdxHMdxrL8=",
          "dtype": "f8"
         }
        }
       ],
       "layout": {
        "scene": {
         "xaxis": {
          "title": {
           "text": "X"
          }
         },
         "yaxis": {
          "title": {
           "text": "Y"
          }
         },
         "zaxis": {
          "title": {
           "text": "Z"
          }
         }
        },
        "template": {
         "data": {
          "bar": [
           {
            "error_x": {
             "color": "#2a3f5f"
            },
            "error_y": {
             "color": "#2a3f5f"
            },
            "marker": {
             "line": {
              "color": "#E5ECF6",
              "width": 0.5
             },
             "pattern": {
              "fillmode": "overlay",
              "size": 10,
              "solidity": 0.2
             }
            },
            "type": "bar"
           }
          ],
          "barpolar": [
           {
            "marker": {
             "line": {
              "color": "#E5ECF6",
              "width": 0.5
             },
             "pattern": {
              "fillmode": "overlay",
              "size": 10,
              "solidity": 0.2
             }
            },
            "type": "barpolar"
           }
          ],
          "carpet": [
           {
            "aaxis": {
             "endlinecolor": "#2a3f5f",
             "gridcolor": "white",
             "linecolor": "white",
             "minorgridcolor": "white",
             "startlinecolor": "#2a3f5f"
            },
            "baxis": {
             "endlinecolor": "#2a3f5f",
             "gridcolor": "white",
             "linecolor": "white",
             "minorgridcolor": "white",
             "startlinecolor": "#2a3f5f"
            },
            "type": "carpet"
           }
          ],
          "choropleth": [
           {
            "colorbar": {
             "outlinewidth": 0,
             "ticks": ""
            },
            "type": "choropleth"
           }
          ],
          "contour": [
           {
            "colorbar": {
             "outlinewidth": 0,
             "ticks": ""
            },
            "colorscale": [
             [
              0,
              "#0d0887"
             ],
             [
              0.1111111111111111,
              "#46039f"
             ],
             [
              0.2222222222222222,
              "#7201a8"
             ],
             [
              0.3333333333333333,
              "#9c179e"
             ],
             [
              0.4444444444444444,
              "#bd3786"
             ],
             [
              0.5555555555555556,
              "#d8576b"
             ],
             [
              0.6666666666666666,
              "#ed7953"
             ],
             [
              0.7777777777777778,
              "#fb9f3a"
             ],
             [
              0.8888888888888888,
              "#fdca26"
             ],
             [
              1,
              "#f0f921"
             ]
            ],
            "type": "contour"
           }
          ],
          "contourcarpet": [
           {
            "colorbar": {
             "outlinewidth": 0,
             "ticks": ""
            },
            "type": "contourcarpet"
           }
          ],
          "heatmap": [
           {
            "colorbar": {
             "outlinewidth": 0,
             "ticks": ""
            },
            "colorscale": [
             [
              0,
              "#0d0887"
             ],
             [
              0.1111111111111111,
              "#46039f"
             ],
             [
              0.2222222222222222,
              "#7201a8"
             ],
             [
              0.3333333333333333,
              "#9c179e"
             ],
             [
              0.4444444444444444,
              "#bd3786"
             ],
             [
              0.5555555555555556,
              "#d8576b"
             ],
             [
              0.6666666666666666,
              "#ed7953"
             ],
             [
              0.7777777777777778,
              "#fb9f3a"
             ],
             [
              0.8888888888888888,
              "#fdca26"
             ],
             [
              1,
              "#f0f921"
             ]
            ],
            "type": "heatmap"
           }
          ],
          "histogram": [
           {
            "marker": {
             "pattern": {
              "fillmode": "overlay",
              "size": 10,
              "solidity": 0.2
             }
            },
            "type": "histogram"
           }
          ],
          "histogram2d": [
           {
            "colorbar": {
             "outlinewidth": 0,
             "ticks": ""
            },
            "colorscale": [
             [
              0,
              "#0d0887"
             ],
             [
              0.1111111111111111,
              "#46039f"
             ],
             [
              0.2222222222222222,
              "#7201a8"
             ],
             [
              0.3333333333333333,
              "#9c179e"
             ],
             [
              0.4444444444444444,
              "#bd3786"
             ],
             [
              0.5555555555555556,
              "#d8576b"
             ],
             [
              0.6666666666666666,
              "#ed7953"
             ],
             [
              0.7777777777777778,
              "#fb9f3a"
             ],
             [
              0.8888888888888888,
              "#fdca26"
             ],
             [
              1,
              "#f0f921"
             ]
            ],
            "type": "histogram2d"
           }
          ],
          "histogram2dcontour": [
           {
            "colorbar": {
             "outlinewidth": 0,
             "ticks": ""
            },
            "colorscale": [
             [
              0,
              "#0d0887"
             ],
             [
              0.1111111111111111,
              "#46039f"
             ],
             [
              0.2222222222222222,
              "#7201a8"
             ],
             [
              0.3333333333333333,
              "#9c179e"
             ],
             [
              0.4444444444444444,
              "#bd3786"
             ],
             [
              0.5555555555555556,
              "#d8576b"
             ],
             [
              0.6666666666666666,
              "#ed7953"
             ],
             [
              0.7777777777777778,
              "#fb9f3a"
             ],
             [
              0.8888888888888888,
              "#fdca26"
             ],
             [
              1,
              "#f0f921"
             ]
            ],
            "type": "histogram2dcontour"
           }
          ],
          "mesh3d": [
           {
            "colorbar": {
             "outlinewidth": 0,
             "ticks": ""
            },
            "type": "mesh3d"
           }
          ],
          "parcoords": [
           {
            "line": {
             "colorbar": {
              "outlinewidth": 0,
              "ticks": ""
             }
            },
            "type": "parcoords"
           }
          ],
          "pie": [
           {
            "automargin": true,
            "type": "pie"
           }
          ],
          "scatter": [
           {
            "fillpattern": {
             "fillmode": "overlay",
             "size": 10,
             "solidity": 0.2
            },
            "type": "scatter"
           }
          ],
          "scatter3d": [
           {
            "line": {
             "colorbar": {
              "outlinewidth": 0,
              "ticks": ""
             }
            },
            "marker": {
             "colorbar": {
              "outlinewidth": 0,
              "ticks": ""
             }
            },
            "type": "scatter3d"
           }
          ],
          "scattercarpet": [
           {
            "marker": {
             "colorbar": {
              "outlinewidth": 0,
              "ticks": ""
             }
            },
            "type": "scattercarpet"
           }
          ],
          "scattergeo": [
           {
            "marker": {
             "colorbar": {
              "outlinewidth": 0,
              "ticks": ""
             }
            },
            "type": "scattergeo"
           }
          ],
          "scattergl": [
           {
            "marker": {
             "colorbar": {
              "outlinewidth": 0,
              "ticks": ""
             }
            },
            "type": "scattergl"
           }
          ],
          "scattermap": [
           {
            "marker": {
             "colorbar": {
              "outlinewidth": 0,
              "ticks": ""
             }
            },
            "type": "scattermap"
           }
          ],
          "scattermapbox": [
           {
            "marker": {
             "colorbar": {
              "outlinewidth": 0,
              "ticks": ""
             }
            },
            "type": "scattermapbox"
           }
          ],
          "scatterpolar": [
           {
            "marker": {
             "colorbar": {
              "outlinewidth": 0,
              "ticks": ""
             }
            },
            "type": "scatterpolar"
           }
          ],
          "scatterpolargl": [
           {
            "marker": {
             "colorbar": {
              "outlinewidth": 0,
              "ticks": ""
             }
            },
            "type": "scatterpolargl"
           }
          ],
          "scatterternary": [
           {
            "marker": {
             "colorbar": {
              "outlinewidth": 0,
              "ticks": ""
             }
            },
            "type": "scatterternary"
           }
          ],
          "surface": [
           {
            "colorbar": {
             "outlinewidth": 0,
             "ticks": ""
            },
            "colorscale": [
             [
              0,
              "#0d0887"
             ],
             [
              0.1111111111111111,
              "#46039f"
             ],
             [
              0.2222222222222222,
              "#7201a8"
             ],
             [
              0.3333333333333333,
              "#9c179e"
             ],
             [
              0.4444444444444444,
              "#bd3786"
             ],
             [
              0.5555555555555556,
              "#d8576b"
             ],
             [
              0.6666666666666666,
              "#ed7953"
             ],
             [
              0.7777777777777778,
              "#fb9f3a"
             ],
             [
              0.8888888888888888,
              "#fdca26"
             ],
             [
              1,
              "#f0f921"
             ]
            ],
            "type": "surface"
           }
          ],
          "table": [
           {
            "cells": {
             "fill": {
              "color": "#EBF0F8"
             },
             "line": {
              "color": "white"
             }
            },
            "header": {
             "fill": {
              "color": "#C8D4E3"
             },
             "line": {
              "color": "white"
             }
            },
            "type": "table"
           }
          ]
         },
         "layout": {
          "annotationdefaults": {
           "arrowcolor": "#2a3f5f",
           "arrowhead": 0,
           "arrowwidth": 1
          },
          "autotypenumbers": "strict",
          "coloraxis": {
           "colorbar": {
            "outlinewidth": 0,
            "ticks": ""
           }
          },
          "colorscale": {
           "diverging": [
            [
             0,
             "#8e0152"
            ],
            [
             0.1,
             "#c51b7d"
            ],
            [
             0.2,
             "#de77ae"
            ],
            [
             0.3,
             "#f1b6da"
            ],
            [
             0.4,
             "#fde0ef"
            ],
            [
             0.5,
             "#f7f7f7"
            ],
            [
             0.6,
             "#e6f5d0"
            ],
            [
             0.7,
             "#b8e186"
            ],
            [
             0.8,
             "#7fbc41"
            ],
            [
             0.9,
             "#4d9221"
            ],
            [
             1,
             "#276419"
            ]
           ],
           "sequential": [
            [
             0,
             "#0d0887"
            ],
            [
             0.1111111111111111,
             "#46039f"
            ],
            [
             0.2222222222222222,
             "#7201a8"
            ],
            [
             0.3333333333333333,
             "#9c179e"
            ],
            [
             0.4444444444444444,
             "#bd3786"
            ],
            [
             0.5555555555555556,
             "#d8576b"
            ],
            [
             0.6666666666666666,
             "#ed7953"
            ],
            [
             0.7777777777777778,
             "#fb9f3a"
            ],
            [
             0.8888888888888888,
             "#fdca26"
            ],
            [
             1,
             "#f0f921"
            ]
           ],
           "sequentialminus": [
            [
             0,
             "#0d0887"
            ],
            [
             0.1111111111111111,
             "#46039f"
            ],
            [
             0.2222222222222222,
             "#7201a8"
            ],
            [
             0.3333333333333333,
             "#9c179e"
            ],
            [
             0.4444444444444444,
             "#bd3786"
            ],
            [
             0.5555555555555556,
             "#d8576b"
            ],
            [
             0.6666666666666666,
             "#ed7953"
            ],
            [
             0.7777777777777778,
             "#fb9f3a"
            ],
            [
             0.8888888888888888,
             "#fdca26"
            ],
            [
             1,
             "#f0f921"
            ]
           ]
          },
          "colorway": [
           "#636efa",
           "#EF553B",
           "#00cc96",
           "#ab63fa",
           "#FFA15A",
           "#19d3f3",
           "#FF6692",
           "#B6E880",
           "#FF97FF",
           "#FECB52"
          ],
          "font": {
           "color": "#2a3f5f"
          },
          "geo": {
           "bgcolor": "white",
           "lakecolor": "white",
           "landcolor": "#E5ECF6",
           "showlakes": true,
           "showland": true,
           "subunitcolor": "white"
          },
          "hoverlabel": {
           "align": "left"
          },
          "hovermode": "closest",
          "mapbox": {
           "style": "light"
          },
          "paper_bgcolor": "white",
          "plot_bgcolor": "#E5ECF6",
          "polar": {
           "angularaxis": {
            "gridcolor": "white",
            "linecolor": "white",
            "ticks": ""
           },
           "bgcolor": "#E5ECF6",
           "radialaxis": {
            "gridcolor": "white",
            "linecolor": "white",
            "ticks": ""
           }
          },
          "scene": {
           "xaxis": {
            "backgroundcolor": "#E5ECF6",
            "gridcolor": "white",
            "gridwidth": 2,
            "linecolor": "white",
            "showbackground": true,
            "ticks": "",
            "zerolinecolor": "white"
           },
           "yaxis": {
            "backgroundcolor": "#E5ECF6",
            "gridcolor": "white",
            "gridwidth": 2,
            "linecolor": "white",
            "showbackground": true,
            "ticks": "",
            "zerolinecolor": "white"
           },
           "zaxis": {
            "backgroundcolor": "#E5ECF6",
            "gridcolor": "white",
            "gridwidth": 2,
            "linecolor": "white",
            "showbackground": true,
            "ticks": "",
            "zerolinecolor": "white"
           }
          },
          "shapedefaults": {
           "line": {
            "color": "#2a3f5f"
           }
          },
          "ternary": {
           "aaxis": {
            "gridcolor": "white",
            "linecolor": "white",
            "ticks": ""
           },
           "baxis": {
            "gridcolor": "white",
            "linecolor": "white",
            "ticks": ""
           },
           "bgcolor": "#E5ECF6",
           "caxis": {
            "gridcolor": "white",
            "linecolor": "white",
            "ticks": ""
           }
          },
          "title": {
           "x": 0.05
          },
          "xaxis": {
           "automargin": true,
           "gridcolor": "white",
           "linecolor": "white",
           "ticks": "",
           "title": {
            "standoff": 15
           },
           "zerolinecolor": "white",
           "zerolinewidth": 2
          },
          "yaxis": {
           "automargin": true,
           "gridcolor": "white",
           "linecolor": "white",
           "ticks": "",
           "title": {
            "standoff": 15
           },
           "zerolinecolor": "white",
           "zerolinewidth": 2
          }
         }
        },
        "title": {
         "text": "Points given to our GP Regressor for current carrying wire"
        }
       }
      }
     },
     "metadata": {},
     "output_type": "display_data"
    }
   ],
   "source": [
    "# getting the fields to draw samples from\n",
    "outputs_wire = field_around_current_carrying_wire(100000000)\n",
    "sampled_outputs_wire = sample_field(outputs_wire, n_samples=100)\n",
    "plotter(sampled_outputs_wire, \n",
    "        title = 'Points given to our GP Regressor for current carrying wire')"
   ]
  },
  {
   "cell_type": "markdown",
   "id": "e9a0412d",
   "metadata": {},
   "source": [
    "## Applying GP Regression to Current Carrying Wire"
   ]
  },
  {
   "cell_type": "code",
   "execution_count": 4,
   "id": "129904d9",
   "metadata": {},
   "outputs": [
    {
     "name": "stdout",
     "output_type": "stream",
     "text": [
      "Parameters for sigma_f and l specified, using these.\n"
     ]
    }
   ],
   "source": [
    "# Divergence free attempt\n",
    "outputs_wire_div_free= updated_vector_field(\n",
    "    sampled_outputs_wire, \n",
    "    outputs_wire[0], outputs_wire[1], outputs_wire[2], \n",
    "    kernel_func='divergence_free_kernel', \n",
    "    sigma_f =  0.005, l = 0.8)\n",
    "\n",
    "\n",
    "# from giving the code a large number of samples, the optimum \n",
    "# parameters seem to be about: sigma_f = 0.1, l = 1.2323 (this is from mle and it works poorly)\n",
    "# sigma_f = 0.005, l = 0.8 seem to work okay "
   ]
  },
  {
   "cell_type": "code",
   "execution_count": 5,
   "id": "1517847b",
   "metadata": {},
   "outputs": [
    {
     "data": {
      "application/vnd.plotly.v1+json": {
       "config": {
        "plotlyServerURL": "https://plot.ly"
       },
       "data": [
        {
         "anchor": "tail",
         "sizemode": "scaled",
         "sizeref": 2,
         "type": "cone",
         "u": {
          "bdata": "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",
          "dtype": "f8"
         },
         "v": {
          "bdata": "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",
          "dtype": "f8"
         },
         "w": {
          "bdata": "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",
          "dtype": "f8"
         },
         "x": {
          "bdata": "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",
          "dtype": "f8"
         },
         "y": {
          "bdata": "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",
          "dtype": "f8"
         },
         "z": {
          "bdata": "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",
          "dtype": "f8"
         }
        }
       ],
       "layout": {
        "scene": {
         "xaxis": {
          "title": {
           "text": "X"
          }
         },
         "yaxis": {
          "title": {
           "text": "Y"
          }
         },
         "zaxis": {
          "title": {
           "text": "Z"
          }
         }
        },
        "template": {
         "data": {
          "bar": [
           {
            "error_x": {
             "color": "#2a3f5f"
            },
            "error_y": {
             "color": "#2a3f5f"
            },
            "marker": {
             "line": {
              "color": "#E5ECF6",
              "width": 0.5
             },
             "pattern": {
              "fillmode": "overlay",
              "size": 10,
              "solidity": 0.2
             }
            },
            "type": "bar"
           }
          ],
          "barpolar": [
           {
            "marker": {
             "line": {
              "color": "#E5ECF6",
              "width": 0.5
             },
             "pattern": {
              "fillmode": "overlay",
              "size": 10,
              "solidity": 0.2
             }
            },
            "type": "barpolar"
           }
          ],
          "carpet": [
           {
            "aaxis": {
             "endlinecolor": "#2a3f5f",
             "gridcolor": "white",
             "linecolor": "white",
             "minorgridcolor": "white",
             "startlinecolor": "#2a3f5f"
            },
            "baxis": {
             "endlinecolor": "#2a3f5f",
             "gridcolor": "white",
             "linecolor": "white",
             "minorgridcolor": "white",
             "startlinecolor": "#2a3f5f"
            },
            "type": "carpet"
           }
          ],
          "choropleth": [
           {
            "colorbar": {
             "outlinewidth": 0,
             "ticks": ""
            },
            "type": "choropleth"
           }
          ],
          "contour": [
           {
            "colorbar": {
             "outlinewidth": 0,
             "ticks": ""
            },
            "colorscale": [
             [
              0,
              "#0d0887"
             ],
             [
              0.1111111111111111,
              "#46039f"
             ],
             [
              0.2222222222222222,
              "#7201a8"
             ],
             [
              0.3333333333333333,
              "#9c179e"
             ],
             [
              0.4444444444444444,
              "#bd3786"
             ],
             [
              0.5555555555555556,
              "#d8576b"
             ],
             [
              0.6666666666666666,
              "#ed7953"
             ],
             [
              0.7777777777777778,
              "#fb9f3a"
             ],
             [
              0.8888888888888888,
              "#fdca26"
             ],
             [
              1,
              "#f0f921"
             ]
            ],
            "type": "contour"
           }
          ],
          "contourcarpet": [
           {
            "colorbar": {
             "outlinewidth": 0,
             "ticks": ""
            },
            "type": "contourcarpet"
           }
          ],
          "heatmap": [
           {
            "colorbar": {
             "outlinewidth": 0,
             "ticks": ""
            },
            "colorscale": [
             [
              0,
              "#0d0887"
             ],
             [
              0.1111111111111111,
              "#46039f"
             ],
             [
              0.2222222222222222,
              "#7201a8"
             ],
             [
              0.3333333333333333,
              "#9c179e"
             ],
             [
              0.4444444444444444,
              "#bd3786"
             ],
             [
              0.5555555555555556,
              "#d8576b"
             ],
             [
              0.6666666666666666,
              "#ed7953"
             ],
             [
              0.7777777777777778,
              "#fb9f3a"
             ],
             [
              0.8888888888888888,
              "#fdca26"
             ],
             [
              1,
              "#f0f921"
             ]
            ],
            "type": "heatmap"
           }
          ],
          "histogram": [
           {
            "marker": {
             "pattern": {
              "fillmode": "overlay",
              "size": 10,
              "solidity": 0.2
             }
            },
            "type": "histogram"
           }
          ],
          "histogram2d": [
           {
            "colorbar": {
             "outlinewidth": 0,
             "ticks": ""
            },
            "colorscale": [
             [
              0,
              "#0d0887"
             ],
             [
              0.1111111111111111,
              "#46039f"
             ],
             [
              0.2222222222222222,
              "#7201a8"
             ],
             [
              0.3333333333333333,
              "#9c179e"
             ],
             [
              0.4444444444444444,
              "#bd3786"
             ],
             [
              0.5555555555555556,
              "#d8576b"
             ],
             [
              0.6666666666666666,
              "#ed7953"
             ],
             [
              0.7777777777777778,
              "#fb9f3a"
             ],
             [
              0.8888888888888888,
              "#fdca26"
             ],
             [
              1,
              "#f0f921"
             ]
            ],
            "type": "histogram2d"
           }
          ],
          "histogram2dcontour": [
           {
            "colorbar": {
             "outlinewidth": 0,
             "ticks": ""
            },
            "colorscale": [
             [
              0,
              "#0d0887"
             ],
             [
              0.1111111111111111,
              "#46039f"
             ],
             [
              0.2222222222222222,
              "#7201a8"
             ],
             [
              0.3333333333333333,
              "#9c179e"
             ],
             [
              0.4444444444444444,
              "#bd3786"
             ],
             [
              0.5555555555555556,
              "#d8576b"
             ],
             [
              0.6666666666666666,
              "#ed7953"
             ],
             [
              0.7777777777777778,
              "#fb9f3a"
             ],
             [
              0.8888888888888888,
              "#fdca26"
             ],
             [
              1,
              "#f0f921"
             ]
            ],
            "type": "histogram2dcontour"
           }
          ],
          "mesh3d": [
           {
            "colorbar": {
             "outlinewidth": 0,
             "ticks": ""
            },
            "type": "mesh3d"
           }
          ],
          "parcoords": [
           {
            "line": {
             "colorbar": {
              "outlinewidth": 0,
              "ticks": ""
             }
            },
            "type": "parcoords"
           }
          ],
          "pie": [
           {
            "automargin": true,
            "type": "pie"
           }
          ],
          "scatter": [
           {
            "fillpattern": {
             "fillmode": "overlay",
             "size": 10,
             "solidity": 0.2
            },
            "type": "scatter"
           }
          ],
          "scatter3d": [
           {
            "line": {
             "colorbar": {
              "outlinewidth": 0,
              "ticks": ""
             }
            },
            "marker": {
             "colorbar": {
              "outlinewidth": 0,
              "ticks": ""
             }
            },
            "type": "scatter3d"
           }
          ],
          "scattercarpet": [
           {
            "marker": {
             "colorbar": {
              "outlinewidth": 0,
              "ticks": ""
             }
            },
            "type": "scattercarpet"
           }
          ],
          "scattergeo": [
           {
            "marker": {
             "colorbar": {
              "outlinewidth": 0,
              "ticks": ""
             }
            },
            "type": "scattergeo"
           }
          ],
          "scattergl": [
           {
            "marker": {
             "colorbar": {
              "outlinewidth": 0,
              "ticks": ""
             }
            },
            "type": "scattergl"
           }
          ],
          "scattermap": [
           {
            "marker": {
             "colorbar": {
              "outlinewidth": 0,
              "ticks": ""
             }
            },
            "type": "scattermap"
           }
          ],
          "scattermapbox": [
           {
            "marker": {
             "colorbar": {
              "outlinewidth": 0,
              "ticks": ""
             }
            },
            "type": "scattermapbox"
           }
          ],
          "scatterpolar": [
           {
            "marker": {
             "colorbar": {
              "outlinewidth": 0,
              "ticks": ""
             }
            },
            "type": "scatterpolar"
           }
          ],
          "scatterpolargl": [
           {
            "marker": {
             "colorbar": {
              "outlinewidth": 0,
              "ticks": ""
             }
            },
            "type": "scatterpolargl"
           }
          ],
          "scatterternary": [
           {
            "marker": {
             "colorbar": {
              "outlinewidth": 0,
              "ticks": ""
             }
            },
            "type": "scatterternary"
           }
          ],
          "surface": [
           {
            "colorbar": {
             "outlinewidth": 0,
             "ticks": ""
            },
            "colorscale": [
             [
              0,
              "#0d0887"
             ],
             [
              0.1111111111111111,
              "#46039f"
             ],
             [
              0.2222222222222222,
              "#7201a8"
             ],
             [
              0.3333333333333333,
              "#9c179e"
             ],
             [
              0.4444444444444444,
              "#bd3786"
             ],
             [
              0.5555555555555556,
              "#d8576b"
             ],
             [
              0.6666666666666666,
              "#ed7953"
             ],
             [
              0.7777777777777778,
              "#fb9f3a"
             ],
             [
              0.8888888888888888,
              "#fdca26"
             ],
             [
              1,
              "#f0f921"
             ]
            ],
            "type": "surface"
           }
          ],
          "table": [
           {
            "cells": {
             "fill": {
              "color": "#EBF0F8"
             },
             "line": {
              "color": "white"
             }
            },
            "header": {
             "fill": {
              "color": "#C8D4E3"
             },
             "line": {
              "color": "white"
             }
            },
            "type": "table"
           }
          ]
         },
         "layout": {
          "annotationdefaults": {
           "arrowcolor": "#2a3f5f",
           "arrowhead": 0,
           "arrowwidth": 1
          },
          "autotypenumbers": "strict",
          "coloraxis": {
           "colorbar": {
            "outlinewidth": 0,
            "ticks": ""
           }
          },
          "colorscale": {
           "diverging": [
            [
             0,
             "#8e0152"
            ],
            [
             0.1,
             "#c51b7d"
            ],
            [
             0.2,
             "#de77ae"
            ],
            [
             0.3,
             "#f1b6da"
            ],
            [
             0.4,
             "#fde0ef"
            ],
            [
             0.5,
             "#f7f7f7"
            ],
            [
             0.6,
             "#e6f5d0"
            ],
            [
             0.7,
             "#b8e186"
            ],
            [
             0.8,
             "#7fbc41"
            ],
            [
             0.9,
             "#4d9221"
            ],
            [
             1,
             "#276419"
            ]
           ],
           "sequential": [
            [
             0,
             "#0d0887"
            ],
            [
             0.1111111111111111,
             "#46039f"
            ],
            [
             0.2222222222222222,
             "#7201a8"
            ],
            [
             0.3333333333333333,
             "#9c179e"
            ],
            [
             0.4444444444444444,
             "#bd3786"
            ],
            [
             0.5555555555555556,
             "#d8576b"
            ],
            [
             0.6666666666666666,
             "#ed7953"
            ],
            [
             0.7777777777777778,
             "#fb9f3a"
            ],
            [
             0.8888888888888888,
             "#fdca26"
            ],
            [
             1,
             "#f0f921"
            ]
           ],
           "sequentialminus": [
            [
             0,
             "#0d0887"
            ],
            [
             0.1111111111111111,
             "#46039f"
            ],
            [
             0.2222222222222222,
             "#7201a8"
            ],
            [
             0.3333333333333333,
             "#9c179e"
            ],
            [
             0.4444444444444444,
             "#bd3786"
            ],
            [
             0.5555555555555556,
             "#d8576b"
            ],
            [
             0.6666666666666666,
             "#ed7953"
            ],
            [
             0.7777777777777778,
             "#fb9f3a"
            ],
            [
             0.8888888888888888,
             "#fdca26"
            ],
            [
             1,
             "#f0f921"
            ]
           ]
          },
          "colorway": [
           "#636efa",
           "#EF553B",
           "#00cc96",
           "#ab63fa",
           "#FFA15A",
           "#19d3f3",
           "#FF6692",
           "#B6E880",
           "#FF97FF",
           "#FECB52"
          ],
          "font": {
           "color": "#2a3f5f"
          },
          "geo": {
           "bgcolor": "white",
           "lakecolor": "white",
           "landcolor": "#E5ECF6",
           "showlakes": true,
           "showland": true,
           "subunitcolor": "white"
          },
          "hoverlabel": {
           "align": "left"
          },
          "hovermode": "closest",
          "mapbox": {
           "style": "light"
          },
          "paper_bgcolor": "white",
          "plot_bgcolor": "#E5ECF6",
          "polar": {
           "angularaxis": {
            "gridcolor": "white",
            "linecolor": "white",
            "ticks": ""
           },
           "bgcolor": "#E5ECF6",
           "radialaxis": {
            "gridcolor": "white",
            "linecolor": "white",
            "ticks": ""
           }
          },
          "scene": {
           "xaxis": {
            "backgroundcolor": "#E5ECF6",
            "gridcolor": "white",
            "gridwidth": 2,
            "linecolor": "white",
            "showbackground": true,
            "ticks": "",
            "zerolinecolor": "white"
           },
           "yaxis": {
            "backgroundcolor": "#E5ECF6",
            "gridcolor": "white",
            "gridwidth": 2,
            "linecolor": "white",
            "showbackground": true,
            "ticks": "",
            "zerolinecolor": "white"
           },
           "zaxis": {
            "backgroundcolor": "#E5ECF6",
            "gridcolor": "white",
            "gridwidth": 2,
            "linecolor": "white",
            "showbackground": true,
            "ticks": "",
            "zerolinecolor": "white"
           }
          },
          "shapedefaults": {
           "line": {
            "color": "#2a3f5f"
           }
          },
          "ternary": {
           "aaxis": {
            "gridcolor": "white",
            "linecolor": "white",
            "ticks": ""
           },
           "baxis": {
            "gridcolor": "white",
            "linecolor": "white",
            "ticks": ""
           },
           "bgcolor": "#E5ECF6",
           "caxis": {
            "gridcolor": "white",
            "linecolor": "white",
            "ticks": ""
           }
          },
          "title": {
           "x": 0.05
          },
          "xaxis": {
           "automargin": true,
           "gridcolor": "white",
           "linecolor": "white",
           "ticks": "",
           "title": {
            "standoff": 15
           },
           "zerolinecolor": "white",
           "zerolinewidth": 2
          },
          "yaxis": {
           "automargin": true,
           "gridcolor": "white",
           "linecolor": "white",
           "ticks": "",
           "title": {
            "standoff": 15
           },
           "zerolinecolor": "white",
           "zerolinewidth": 2
          }
         }
        },
        "title": {
         "text": "Div free output from GP Regression for n = 100 input vectors for current carrying wire"
        }
       }
      }
     },
     "metadata": {},
     "output_type": "display_data"
    }
   ],
   "source": [
    "given_samples_wire = sampled_outputs_wire[0].shape[0]\n",
    "plotter(outputs_wire_div_free, \n",
    "        title = f'Div free output from GP Regression for n = {given_samples_wire} input vectors for current carrying wire')"
   ]
  },
  {
   "cell_type": "code",
   "execution_count": 6,
   "id": "c7cdeed7",
   "metadata": {},
   "outputs": [
    {
     "name": "stdout",
     "output_type": "stream",
     "text": [
      "MSE for this case of 31.21112248201693\n"
     ]
    },
    {
     "data": {
      "application/vnd.plotly.v1+json": {
       "config": {
        "plotlyServerURL": "https://plot.ly"
       },
       "data": [
        {
         "anchor": "tail",
         "sizemode": "scaled",
         "sizeref": 2,
         "type": "cone",
         "u": {
          "bdata": "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",
          "dtype": "f8"
         },
         "v": {
          "bdata": "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",
          "dtype": "f8"
         },
         "w": {
          "bdata": "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",
          "dtype": "f8"
         },
         "x": {
          "bdata": "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",
          "dtype": "f8"
         },
         "y": {
          "bdata": "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",
          "dtype": "f8"
         },
         "z": {
          "bdata": "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",
          "dtype": "f8"
         }
        }
       ],
       "layout": {
        "scene": {
         "xaxis": {
          "title": {
           "text": "X"
          }
         },
         "yaxis": {
          "title": {
           "text": "Y"
          }
         },
         "zaxis": {
          "title": {
           "text": "Z"
          }
         }
        },
        "template": {
         "data": {
          "bar": [
           {
            "error_x": {
             "color": "#2a3f5f"
            },
            "error_y": {
             "color": "#2a3f5f"
            },
            "marker": {
             "line": {
              "color": "#E5ECF6",
              "width": 0.5
             },
             "pattern": {
              "fillmode": "overlay",
              "size": 10,
              "solidity": 0.2
             }
            },
            "type": "bar"
           }
          ],
          "barpolar": [
           {
            "marker": {
             "line": {
              "color": "#E5ECF6",
              "width": 0.5
             },
             "pattern": {
              "fillmode": "overlay",
              "size": 10,
              "solidity": 0.2
             }
            },
            "type": "barpolar"
           }
          ],
          "carpet": [
           {
            "aaxis": {
             "endlinecolor": "#2a3f5f",
             "gridcolor": "white",
             "linecolor": "white",
             "minorgridcolor": "white",
             "startlinecolor": "#2a3f5f"
            },
            "baxis": {
             "endlinecolor": "#2a3f5f",
             "gridcolor": "white",
             "linecolor": "white",
             "minorgridcolor": "white",
             "startlinecolor": "#2a3f5f"
            },
            "type": "carpet"
           }
          ],
          "choropleth": [
           {
            "colorbar": {
             "outlinewidth": 0,
             "ticks": ""
            },
            "type": "choropleth"
           }
          ],
          "contour": [
           {
            "colorbar": {
             "outlinewidth": 0,
             "ticks": ""
            },
            "colorscale": [
             [
              0,
              "#0d0887"
             ],
             [
              0.1111111111111111,
              "#46039f"
             ],
             [
              0.2222222222222222,
              "#7201a8"
             ],
             [
              0.3333333333333333,
              "#9c179e"
             ],
             [
              0.4444444444444444,
              "#bd3786"
             ],
             [
              0.5555555555555556,
              "#d8576b"
             ],
             [
              0.6666666666666666,
              "#ed7953"
             ],
             [
              0.7777777777777778,
              "#fb9f3a"
             ],
             [
              0.8888888888888888,
              "#fdca26"
             ],
             [
              1,
              "#f0f921"
             ]
            ],
            "type": "contour"
           }
          ],
          "contourcarpet": [
           {
            "colorbar": {
             "outlinewidth": 0,
             "ticks": ""
            },
            "type": "contourcarpet"
           }
          ],
          "heatmap": [
           {
            "colorbar": {
             "outlinewidth": 0,
             "ticks": ""
            },
            "colorscale": [
             [
              0,
              "#0d0887"
             ],
             [
              0.1111111111111111,
              "#46039f"
             ],
             [
              0.2222222222222222,
              "#7201a8"
             ],
             [
              0.3333333333333333,
              "#9c179e"
             ],
             [
              0.4444444444444444,
              "#bd3786"
             ],
             [
              0.5555555555555556,
              "#d8576b"
             ],
             [
              0.6666666666666666,
              "#ed7953"
             ],
             [
              0.7777777777777778,
              "#fb9f3a"
             ],
             [
              0.8888888888888888,
              "#fdca26"
             ],
             [
              1,
              "#f0f921"
             ]
            ],
            "type": "heatmap"
           }
          ],
          "histogram": [
           {
            "marker": {
             "pattern": {
              "fillmode": "overlay",
              "size": 10,
              "solidity": 0.2
             }
            },
            "type": "histogram"
           }
          ],
          "histogram2d": [
           {
            "colorbar": {
             "outlinewidth": 0,
             "ticks": ""
            },
            "colorscale": [
             [
              0,
              "#0d0887"
             ],
             [
              0.1111111111111111,
              "#46039f"
             ],
             [
              0.2222222222222222,
              "#7201a8"
             ],
             [
              0.3333333333333333,
              "#9c179e"
             ],
             [
              0.4444444444444444,
              "#bd3786"
             ],
             [
              0.5555555555555556,
              "#d8576b"
             ],
             [
              0.6666666666666666,
              "#ed7953"
             ],
             [
              0.7777777777777778,
              "#fb9f3a"
             ],
             [
              0.8888888888888888,
              "#fdca26"
             ],
             [
              1,
              "#f0f921"
             ]
            ],
            "type": "histogram2d"
           }
          ],
          "histogram2dcontour": [
           {
            "colorbar": {
             "outlinewidth": 0,
             "ticks": ""
            },
            "colorscale": [
             [
              0,
              "#0d0887"
             ],
             [
              0.1111111111111111,
              "#46039f"
             ],
             [
              0.2222222222222222,
              "#7201a8"
             ],
             [
              0.3333333333333333,
              "#9c179e"
             ],
             [
              0.4444444444444444,
              "#bd3786"
             ],
             [
              0.5555555555555556,
              "#d8576b"
             ],
             [
              0.6666666666666666,
              "#ed7953"
             ],
             [
              0.7777777777777778,
              "#fb9f3a"
             ],
             [
              0.8888888888888888,
              "#fdca26"
             ],
             [
              1,
              "#f0f921"
             ]
            ],
            "type": "histogram2dcontour"
           }
          ],
          "mesh3d": [
           {
            "colorbar": {
             "outlinewidth": 0,
             "ticks": ""
            },
            "type": "mesh3d"
           }
          ],
          "parcoords": [
           {
            "line": {
             "colorbar": {
              "outlinewidth": 0,
              "ticks": ""
             }
            },
            "type": "parcoords"
           }
          ],
          "pie": [
           {
            "automargin": true,
            "type": "pie"
           }
          ],
          "scatter": [
           {
            "fillpattern": {
             "fillmode": "overlay",
             "size": 10,
             "solidity": 0.2
            },
            "type": "scatter"
           }
          ],
          "scatter3d": [
           {
            "line": {
             "colorbar": {
              "outlinewidth": 0,
              "ticks": ""
             }
            },
            "marker": {
             "colorbar": {
              "outlinewidth": 0,
              "ticks": ""
             }
            },
            "type": "scatter3d"
           }
          ],
          "scattercarpet": [
           {
            "marker": {
             "colorbar": {
              "outlinewidth": 0,
              "ticks": ""
             }
            },
            "type": "scattercarpet"
           }
          ],
          "scattergeo": [
           {
            "marker": {
             "colorbar": {
              "outlinewidth": 0,
              "ticks": ""
             }
            },
            "type": "scattergeo"
           }
          ],
          "scattergl": [
           {
            "marker": {
             "colorbar": {
              "outlinewidth": 0,
              "ticks": ""
             }
            },
            "type": "scattergl"
           }
          ],
          "scattermap": [
           {
            "marker": {
             "colorbar": {
              "outlinewidth": 0,
              "ticks": ""
             }
            },
            "type": "scattermap"
           }
          ],
          "scattermapbox": [
           {
            "marker": {
             "colorbar": {
              "outlinewidth": 0,
              "ticks": ""
             }
            },
            "type": "scattermapbox"
           }
          ],
          "scatterpolar": [
           {
            "marker": {
             "colorbar": {
              "outlinewidth": 0,
              "ticks": ""
             }
            },
            "type": "scatterpolar"
           }
          ],
          "scatterpolargl": [
           {
            "marker": {
             "colorbar": {
              "outlinewidth": 0,
              "ticks": ""
             }
            },
            "type": "scatterpolargl"
           }
          ],
          "scatterternary": [
           {
            "marker": {
             "colorbar": {
              "outlinewidth": 0,
              "ticks": ""
             }
            },
            "type": "scatterternary"
           }
          ],
          "surface": [
           {
            "colorbar": {
             "outlinewidth": 0,
             "ticks": ""
            },
            "colorscale": [
             [
              0,
              "#0d0887"
             ],
             [
              0.1111111111111111,
              "#46039f"
             ],
             [
              0.2222222222222222,
              "#7201a8"
             ],
             [
              0.3333333333333333,
              "#9c179e"
             ],
             [
              0.4444444444444444,
              "#bd3786"
             ],
             [
              0.5555555555555556,
              "#d8576b"
             ],
             [
              0.6666666666666666,
              "#ed7953"
             ],
             [
              0.7777777777777778,
              "#fb9f3a"
             ],
             [
              0.8888888888888888,
              "#fdca26"
             ],
             [
              1,
              "#f0f921"
             ]
            ],
            "type": "surface"
           }
          ],
          "table": [
           {
            "cells": {
             "fill": {
              "color": "#EBF0F8"
             },
             "line": {
              "color": "white"
             }
            },
            "header": {
             "fill": {
              "color": "#C8D4E3"
             },
             "line": {
              "color": "white"
             }
            },
            "type": "table"
           }
          ]
         },
         "layout": {
          "annotationdefaults": {
           "arrowcolor": "#2a3f5f",
           "arrowhead": 0,
           "arrowwidth": 1
          },
          "autotypenumbers": "strict",
          "coloraxis": {
           "colorbar": {
            "outlinewidth": 0,
            "ticks": ""
           }
          },
          "colorscale": {
           "diverging": [
            [
             0,
             "#8e0152"
            ],
            [
             0.1,
             "#c51b7d"
            ],
            [
             0.2,
             "#de77ae"
            ],
            [
             0.3,
             "#f1b6da"
            ],
            [
             0.4,
             "#fde0ef"
            ],
            [
             0.5,
             "#f7f7f7"
            ],
            [
             0.6,
             "#e6f5d0"
            ],
            [
             0.7,
             "#b8e186"
            ],
            [
             0.8,
             "#7fbc41"
            ],
            [
             0.9,
             "#4d9221"
            ],
            [
             1,
             "#276419"
            ]
           ],
           "sequential": [
            [
             0,
             "#0d0887"
            ],
            [
             0.1111111111111111,
             "#46039f"
            ],
            [
             0.2222222222222222,
             "#7201a8"
            ],
            [
             0.3333333333333333,
             "#9c179e"
            ],
            [
             0.4444444444444444,
             "#bd3786"
            ],
            [
             0.5555555555555556,
             "#d8576b"
            ],
            [
             0.6666666666666666,
             "#ed7953"
            ],
            [
             0.7777777777777778,
             "#fb9f3a"
            ],
            [
             0.8888888888888888,
             "#fdca26"
            ],
            [
             1,
             "#f0f921"
            ]
           ],
           "sequentialminus": [
            [
             0,
             "#0d0887"
            ],
            [
             0.1111111111111111,
             "#46039f"
            ],
            [
             0.2222222222222222,
             "#7201a8"
            ],
            [
             0.3333333333333333,
             "#9c179e"
            ],
            [
             0.4444444444444444,
             "#bd3786"
            ],
            [
             0.5555555555555556,
             "#d8576b"
            ],
            [
             0.6666666666666666,
             "#ed7953"
            ],
            [
             0.7777777777777778,
             "#fb9f3a"
            ],
            [
             0.8888888888888888,
             "#fdca26"
            ],
            [
             1,
             "#f0f921"
            ]
           ]
          },
          "colorway": [
           "#636efa",
           "#EF553B",
           "#00cc96",
           "#ab63fa",
           "#FFA15A",
           "#19d3f3",
           "#FF6692",
           "#B6E880",
           "#FF97FF",
           "#FECB52"
          ],
          "font": {
           "color": "#2a3f5f"
          },
          "geo": {
           "bgcolor": "white",
           "lakecolor": "white",
           "landcolor": "#E5ECF6",
           "showlakes": true,
           "showland": true,
           "subunitcolor": "white"
          },
          "hoverlabel": {
           "align": "left"
          },
          "hovermode": "closest",
          "mapbox": {
           "style": "light"
          },
          "paper_bgcolor": "white",
          "plot_bgcolor": "#E5ECF6",
          "polar": {
           "angularaxis": {
            "gridcolor": "white",
            "linecolor": "white",
            "ticks": ""
           },
           "bgcolor": "#E5ECF6",
           "radialaxis": {
            "gridcolor": "white",
            "linecolor": "white",
            "ticks": ""
           }
          },
          "scene": {
           "xaxis": {
            "backgroundcolor": "#E5ECF6",
            "gridcolor": "white",
            "gridwidth": 2,
            "linecolor": "white",
            "showbackground": true,
            "ticks": "",
            "zerolinecolor": "white"
           },
           "yaxis": {
            "backgroundcolor": "#E5ECF6",
            "gridcolor": "white",
            "gridwidth": 2,
            "linecolor": "white",
            "showbackground": true,
            "ticks": "",
            "zerolinecolor": "white"
           },
           "zaxis": {
            "backgroundcolor": "#E5ECF6",
            "gridcolor": "white",
            "gridwidth": 2,
            "linecolor": "white",
            "showbackground": true,
            "ticks": "",
            "zerolinecolor": "white"
           }
          },
          "shapedefaults": {
           "line": {
            "color": "#2a3f5f"
           }
          },
          "ternary": {
           "aaxis": {
            "gridcolor": "white",
            "linecolor": "white",
            "ticks": ""
           },
           "baxis": {
            "gridcolor": "white",
            "linecolor": "white",
            "ticks": ""
           },
           "bgcolor": "#E5ECF6",
           "caxis": {
            "gridcolor": "white",
            "linecolor": "white",
            "ticks": ""
           }
          },
          "title": {
           "x": 0.05
          },
          "xaxis": {
           "automargin": true,
           "gridcolor": "white",
           "linecolor": "white",
           "ticks": "",
           "title": {
            "standoff": 15
           },
           "zerolinecolor": "white",
           "zerolinewidth": 2
          },
          "yaxis": {
           "automargin": true,
           "gridcolor": "white",
           "linecolor": "white",
           "ticks": "",
           "title": {
            "standoff": 15
           },
           "zerolinecolor": "white",
           "zerolinewidth": 2
          }
         }
        },
        "title": {
         "text": "Div free regression errors for n = 100 input vectors for current carrying wire"
        }
       }
      }
     },
     "metadata": {},
     "output_type": "display_data"
    }
   ],
   "source": [
    "# plot residuals of fit above: \n",
    "residuals_wire_div_free, mse_wire_div_free = differencer(outputs_wire, outputs_wire_div_free)\n",
    "print(f'MSE for this case of {mse_wire_div_free}')\n",
    "plotter(residuals_wire_div_free, \n",
    "        title = f'Div free regression errors for n = {given_samples_wire} input vectors for current carrying wire')"
   ]
  },
  {
   "cell_type": "markdown",
   "id": "d87edac5",
   "metadata": {},
   "source": [
    "Errors are largest inside of the coil. The fields here are at their largest and vary most rapidly, hence "
   ]
  },
  {
   "cell_type": "code",
   "execution_count": 7,
   "id": "c49b1f47",
   "metadata": {},
   "outputs": [
    {
     "name": "stdout",
     "output_type": "stream",
     "text": [
      "Parameters for sigma_f and l specified, using these.\n"
     ]
    }
   ],
   "source": [
    "# these curl ones work very poorly in general\n",
    "outputs_wire_curl_free = updated_vector_field(\n",
    "    sampled_outputs_wire, \n",
    "    outputs_wire[0], outputs_wire[1], outputs_wire[2], \n",
    "    kernel_func='curl_free_kernel', \n",
    "    sigma_f = 0.1, l = 0.3)"
   ]
  },
  {
   "cell_type": "code",
   "execution_count": 8,
   "id": "b5ab1df7",
   "metadata": {},
   "outputs": [
    {
     "data": {
      "application/vnd.plotly.v1+json": {
       "config": {
        "plotlyServerURL": "https://plot.ly"
       },
       "data": [
        {
         "anchor": "tail",
         "sizemode": "scaled",
         "sizeref": 2,
         "type": "cone",
         "u": {
          "bdata": "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",
          "dtype": "f8"
         },
         "v": {
          "bdata": "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",
          "dtype": "f8"
         },
         "w": {
          "bdata": "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",
          "dtype": "f8"
         },
         "x": {
          "bdata": "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",
          "dtype": "f8"
         },
         "y": {
          "bdata": "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",
          "dtype": "f8"
         },
         "z": {
          "bdata": "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",
          "dtype": "f8"
         }
        }
       ],
       "layout": {
        "scene": {
         "xaxis": {
          "title": {
           "text": "X"
          }
         },
         "yaxis": {
          "title": {
           "text": "Y"
          }
         },
         "zaxis": {
          "title": {
           "text": "Z"
          }
         }
        },
        "template": {
         "data": {
          "bar": [
           {
            "error_x": {
             "color": "#2a3f5f"
            },
            "error_y": {
             "color": "#2a3f5f"
            },
            "marker": {
             "line": {
              "color": "#E5ECF6",
              "width": 0.5
             },
             "pattern": {
              "fillmode": "overlay",
              "size": 10,
              "solidity": 0.2
             }
            },
            "type": "bar"
           }
          ],
          "barpolar": [
           {
            "marker": {
             "line": {
              "color": "#E5ECF6",
              "width": 0.5
             },
             "pattern": {
              "fillmode": "overlay",
              "size": 10,
              "solidity": 0.2
             }
            },
            "type": "barpolar"
           }
          ],
          "carpet": [
           {
            "aaxis": {
             "endlinecolor": "#2a3f5f",
             "gridcolor": "white",
             "linecolor": "white",
             "minorgridcolor": "white",
             "startlinecolor": "#2a3f5f"
            },
            "baxis": {
             "endlinecolor": "#2a3f5f",
             "gridcolor": "white",
             "linecolor": "white",
             "minorgridcolor": "white",
             "startlinecolor": "#2a3f5f"
            },
            "type": "carpet"
           }
          ],
          "choropleth": [
           {
            "colorbar": {
             "outlinewidth": 0,
             "ticks": ""
            },
            "type": "choropleth"
           }
          ],
          "contour": [
           {
            "colorbar": {
             "outlinewidth": 0,
             "ticks": ""
            },
            "colorscale": [
             [
              0,
              "#0d0887"
             ],
             [
              0.1111111111111111,
              "#46039f"
             ],
             [
              0.2222222222222222,
              "#7201a8"
             ],
             [
              0.3333333333333333,
              "#9c179e"
             ],
             [
              0.4444444444444444,
              "#bd3786"
             ],
             [
              0.5555555555555556,
              "#d8576b"
             ],
             [
              0.6666666666666666,
              "#ed7953"
             ],
             [
              0.7777777777777778,
              "#fb9f3a"
             ],
             [
              0.8888888888888888,
              "#fdca26"
             ],
             [
              1,
              "#f0f921"
             ]
            ],
            "type": "contour"
           }
          ],
          "contourcarpet": [
           {
            "colorbar": {
             "outlinewidth": 0,
             "ticks": ""
            },
            "type": "contourcarpet"
           }
          ],
          "heatmap": [
           {
            "colorbar": {
             "outlinewidth": 0,
             "ticks": ""
            },
            "colorscale": [
             [
              0,
              "#0d0887"
             ],
             [
              0.1111111111111111,
              "#46039f"
             ],
             [
              0.2222222222222222,
              "#7201a8"
             ],
             [
              0.3333333333333333,
              "#9c179e"
             ],
             [
              0.4444444444444444,
              "#bd3786"
             ],
             [
              0.5555555555555556,
              "#d8576b"
             ],
             [
              0.6666666666666666,
              "#ed7953"
             ],
             [
              0.7777777777777778,
              "#fb9f3a"
             ],
             [
              0.8888888888888888,
              "#fdca26"
             ],
             [
              1,
              "#f0f921"
             ]
            ],
            "type": "heatmap"
           }
          ],
          "histogram": [
           {
            "marker": {
             "pattern": {
              "fillmode": "overlay",
              "size": 10,
              "solidity": 0.2
             }
            },
            "type": "histogram"
           }
          ],
          "histogram2d": [
           {
            "colorbar": {
             "outlinewidth": 0,
             "ticks": ""
            },
            "colorscale": [
             [
              0,
              "#0d0887"
             ],
             [
              0.1111111111111111,
              "#46039f"
             ],
             [
              0.2222222222222222,
              "#7201a8"
             ],
             [
              0.3333333333333333,
              "#9c179e"
             ],
             [
              0.4444444444444444,
              "#bd3786"
             ],
             [
              0.5555555555555556,
              "#d8576b"
             ],
             [
              0.6666666666666666,
              "#ed7953"
             ],
             [
              0.7777777777777778,
              "#fb9f3a"
             ],
             [
              0.8888888888888888,
              "#fdca26"
             ],
             [
              1,
              "#f0f921"
             ]
            ],
            "type": "histogram2d"
           }
          ],
          "histogram2dcontour": [
           {
            "colorbar": {
             "outlinewidth": 0,
             "ticks": ""
            },
            "colorscale": [
             [
              0,
              "#0d0887"
             ],
             [
              0.1111111111111111,
              "#46039f"
             ],
             [
              0.2222222222222222,
              "#7201a8"
             ],
             [
              0.3333333333333333,
              "#9c179e"
             ],
             [
              0.4444444444444444,
              "#bd3786"
             ],
             [
              0.5555555555555556,
              "#d8576b"
             ],
             [
              0.6666666666666666,
              "#ed7953"
             ],
             [
              0.7777777777777778,
              "#fb9f3a"
             ],
             [
              0.8888888888888888,
              "#fdca26"
             ],
             [
              1,
              "#f0f921"
             ]
            ],
            "type": "histogram2dcontour"
           }
          ],
          "mesh3d": [
           {
            "colorbar": {
             "outlinewidth": 0,
             "ticks": ""
            },
            "type": "mesh3d"
           }
          ],
          "parcoords": [
           {
            "line": {
             "colorbar": {
              "outlinewidth": 0,
              "ticks": ""
             }
            },
            "type": "parcoords"
           }
          ],
          "pie": [
           {
            "automargin": true,
            "type": "pie"
           }
          ],
          "scatter": [
           {
            "fillpattern": {
             "fillmode": "overlay",
             "size": 10,
             "solidity": 0.2
            },
            "type": "scatter"
           }
          ],
          "scatter3d": [
           {
            "line": {
             "colorbar": {
              "outlinewidth": 0,
              "ticks": ""
             }
            },
            "marker": {
             "colorbar": {
              "outlinewidth": 0,
              "ticks": ""
             }
            },
            "type": "scatter3d"
           }
          ],
          "scattercarpet": [
           {
            "marker": {
             "colorbar": {
              "outlinewidth": 0,
              "ticks": ""
             }
            },
            "type": "scattercarpet"
           }
          ],
          "scattergeo": [
           {
            "marker": {
             "colorbar": {
              "outlinewidth": 0,
              "ticks": ""
             }
            },
            "type": "scattergeo"
           }
          ],
          "scattergl": [
           {
            "marker": {
             "colorbar": {
              "outlinewidth": 0,
              "ticks": ""
             }
            },
            "type": "scattergl"
           }
          ],
          "scattermap": [
           {
            "marker": {
             "colorbar": {
              "outlinewidth": 0,
              "ticks": ""
             }
            },
            "type": "scattermap"
           }
          ],
          "scattermapbox": [
           {
            "marker": {
             "colorbar": {
              "outlinewidth": 0,
              "ticks": ""
             }
            },
            "type": "scattermapbox"
           }
          ],
          "scatterpolar": [
           {
            "marker": {
             "colorbar": {
              "outlinewidth": 0,
              "ticks": ""
             }
            },
            "type": "scatterpolar"
           }
          ],
          "scatterpolargl": [
           {
            "marker": {
             "colorbar": {
              "outlinewidth": 0,
              "ticks": ""
             }
            },
            "type": "scatterpolargl"
           }
          ],
          "scatterternary": [
           {
            "marker": {
             "colorbar": {
              "outlinewidth": 0,
              "ticks": ""
             }
            },
            "type": "scatterternary"
           }
          ],
          "surface": [
           {
            "colorbar": {
             "outlinewidth": 0,
             "ticks": ""
            },
            "colorscale": [
             [
              0,
              "#0d0887"
             ],
             [
              0.1111111111111111,
              "#46039f"
             ],
             [
              0.2222222222222222,
              "#7201a8"
             ],
             [
              0.3333333333333333,
              "#9c179e"
             ],
             [
              0.4444444444444444,
              "#bd3786"
             ],
             [
              0.5555555555555556,
              "#d8576b"
             ],
             [
              0.6666666666666666,
              "#ed7953"
             ],
             [
              0.7777777777777778,
              "#fb9f3a"
             ],
             [
              0.8888888888888888,
              "#fdca26"
             ],
             [
              1,
              "#f0f921"
             ]
            ],
            "type": "surface"
           }
          ],
          "table": [
           {
            "cells": {
             "fill": {
              "color": "#EBF0F8"
             },
             "line": {
              "color": "white"
             }
            },
            "header": {
             "fill": {
              "color": "#C8D4E3"
             },
             "line": {
              "color": "white"
             }
            },
            "type": "table"
           }
          ]
         },
         "layout": {
          "annotationdefaults": {
           "arrowcolor": "#2a3f5f",
           "arrowhead": 0,
           "arrowwidth": 1
          },
          "autotypenumbers": "strict",
          "coloraxis": {
           "colorbar": {
            "outlinewidth": 0,
            "ticks": ""
           }
          },
          "colorscale": {
           "diverging": [
            [
             0,
             "#8e0152"
            ],
            [
             0.1,
             "#c51b7d"
            ],
            [
             0.2,
             "#de77ae"
            ],
            [
             0.3,
             "#f1b6da"
            ],
            [
             0.4,
             "#fde0ef"
            ],
            [
             0.5,
             "#f7f7f7"
            ],
            [
             0.6,
             "#e6f5d0"
            ],
            [
             0.7,
             "#b8e186"
            ],
            [
             0.8,
             "#7fbc41"
            ],
            [
             0.9,
             "#4d9221"
            ],
            [
             1,
             "#276419"
            ]
           ],
           "sequential": [
            [
             0,
             "#0d0887"
            ],
            [
             0.1111111111111111,
             "#46039f"
            ],
            [
             0.2222222222222222,
             "#7201a8"
            ],
            [
             0.3333333333333333,
             "#9c179e"
            ],
            [
             0.4444444444444444,
             "#bd3786"
            ],
            [
             0.5555555555555556,
             "#d8576b"
            ],
            [
             0.6666666666666666,
             "#ed7953"
            ],
            [
             0.7777777777777778,
             "#fb9f3a"
            ],
            [
             0.8888888888888888,
             "#fdca26"
            ],
            [
             1,
             "#f0f921"
            ]
           ],
           "sequentialminus": [
            [
             0,
             "#0d0887"
            ],
            [
             0.1111111111111111,
             "#46039f"
            ],
            [
             0.2222222222222222,
             "#7201a8"
            ],
            [
             0.3333333333333333,
             "#9c179e"
            ],
            [
             0.4444444444444444,
             "#bd3786"
            ],
            [
             0.5555555555555556,
             "#d8576b"
            ],
            [
             0.6666666666666666,
             "#ed7953"
            ],
            [
             0.7777777777777778,
             "#fb9f3a"
            ],
            [
             0.8888888888888888,
             "#fdca26"
            ],
            [
             1,
             "#f0f921"
            ]
           ]
          },
          "colorway": [
           "#636efa",
           "#EF553B",
           "#00cc96",
           "#ab63fa",
           "#FFA15A",
           "#19d3f3",
           "#FF6692",
           "#B6E880",
           "#FF97FF",
           "#FECB52"
          ],
          "font": {
           "color": "#2a3f5f"
          },
          "geo": {
           "bgcolor": "white",
           "lakecolor": "white",
           "landcolor": "#E5ECF6",
           "showlakes": true,
           "showland": true,
           "subunitcolor": "white"
          },
          "hoverlabel": {
           "align": "left"
          },
          "hovermode": "closest",
          "mapbox": {
           "style": "light"
          },
          "paper_bgcolor": "white",
          "plot_bgcolor": "#E5ECF6",
          "polar": {
           "angularaxis": {
            "gridcolor": "white",
            "linecolor": "white",
            "ticks": ""
           },
           "bgcolor": "#E5ECF6",
           "radialaxis": {
            "gridcolor": "white",
            "linecolor": "white",
            "ticks": ""
           }
          },
          "scene": {
           "xaxis": {
            "backgroundcolor": "#E5ECF6",
            "gridcolor": "white",
            "gridwidth": 2,
            "linecolor": "white",
            "showbackground": true,
            "ticks": "",
            "zerolinecolor": "white"
           },
           "yaxis": {
            "backgroundcolor": "#E5ECF6",
            "gridcolor": "white",
            "gridwidth": 2,
            "linecolor": "white",
            "showbackground": true,
            "ticks": "",
            "zerolinecolor": "white"
           },
           "zaxis": {
            "backgroundcolor": "#E5ECF6",
            "gridcolor": "white",
            "gridwidth": 2,
            "linecolor": "white",
            "showbackground": true,
            "ticks": "",
            "zerolinecolor": "white"
           }
          },
          "shapedefaults": {
           "line": {
            "color": "#2a3f5f"
           }
          },
          "ternary": {
           "aaxis": {
            "gridcolor": "white",
            "linecolor": "white",
            "ticks": ""
           },
           "baxis": {
            "gridcolor": "white",
            "linecolor": "white",
            "ticks": ""
           },
           "bgcolor": "#E5ECF6",
           "caxis": {
            "gridcolor": "white",
            "linecolor": "white",
            "ticks": ""
           }
          },
          "title": {
           "x": 0.05
          },
          "xaxis": {
           "automargin": true,
           "gridcolor": "white",
           "linecolor": "white",
           "ticks": "",
           "title": {
            "standoff": 15
           },
           "zerolinecolor": "white",
           "zerolinewidth": 2
          },
          "yaxis": {
           "automargin": true,
           "gridcolor": "white",
           "linecolor": "white",
           "ticks": "",
           "title": {
            "standoff": 15
           },
           "zerolinecolor": "white",
           "zerolinewidth": 2
          }
         }
        },
        "title": {
         "text": "Curl free output from GP Regression for n = 100 input vectors for current carrying wire"
        }
       }
      }
     },
     "metadata": {},
     "output_type": "display_data"
    }
   ],
   "source": [
    "plotter(outputs_wire_curl_free, \n",
    "        title = f'Curl free output from GP Regression for n = {given_samples_wire} input vectors for current carrying wire')"
   ]
  },
  {
   "cell_type": "code",
   "execution_count": 9,
   "id": "6c57ec51",
   "metadata": {},
   "outputs": [
    {
     "name": "stdout",
     "output_type": "stream",
     "text": [
      "MSE for this case of 367.4297374089136\n"
     ]
    },
    {
     "data": {
      "application/vnd.plotly.v1+json": {
       "config": {
        "plotlyServerURL": "https://plot.ly"
       },
       "data": [
        {
         "anchor": "tail",
         "sizemode": "scaled",
         "sizeref": 2,
         "type": "cone",
         "u": {
          "bdata": "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",
          "dtype": "f8"
         },
         "v": {
          "bdata": "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",
          "dtype": "f8"
         },
         "w": {
          "bdata": "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",
          "dtype": "f8"
         },
         "x": {
          "bdata": "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",
          "dtype": "f8"
         },
         "y": {
          "bdata": "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",
          "dtype": "f8"
         },
         "z": {
          "bdata": "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",
          "dtype": "f8"
         }
        }
       ],
       "layout": {
        "scene": {
         "xaxis": {
          "title": {
           "text": "X"
          }
         },
         "yaxis": {
          "title": {
           "text": "Y"
          }
         },
         "zaxis": {
          "title": {
           "text": "Z"
          }
         }
        },
        "template": {
         "data": {
          "bar": [
           {
            "error_x": {
             "color": "#2a3f5f"
            },
            "error_y": {
             "color": "#2a3f5f"
            },
            "marker": {
             "line": {
              "color": "#E5ECF6",
              "width": 0.5
             },
             "pattern": {
              "fillmode": "overlay",
              "size": 10,
              "solidity": 0.2
             }
            },
            "type": "bar"
           }
          ],
          "barpolar": [
           {
            "marker": {
             "line": {
              "color": "#E5ECF6",
              "width": 0.5
             },
             "pattern": {
              "fillmode": "overlay",
              "size": 10,
              "solidity": 0.2
             }
            },
            "type": "barpolar"
           }
          ],
          "carpet": [
           {
            "aaxis": {
             "endlinecolor": "#2a3f5f",
             "gridcolor": "white",
             "linecolor": "white",
             "minorgridcolor": "white",
             "startlinecolor": "#2a3f5f"
            },
            "baxis": {
             "endlinecolor": "#2a3f5f",
             "gridcolor": "white",
             "linecolor": "white",
             "minorgridcolor": "white",
             "startlinecolor": "#2a3f5f"
            },
            "type": "carpet"
           }
          ],
          "choropleth": [
           {
            "colorbar": {
             "outlinewidth": 0,
             "ticks": ""
            },
            "type": "choropleth"
           }
          ],
          "contour": [
           {
            "colorbar": {
             "outlinewidth": 0,
             "ticks": ""
            },
            "colorscale": [
             [
              0,
              "#0d0887"
             ],
             [
              0.1111111111111111,
              "#46039f"
             ],
             [
              0.2222222222222222,
              "#7201a8"
             ],
             [
              0.3333333333333333,
              "#9c179e"
             ],
             [
              0.4444444444444444,
              "#bd3786"
             ],
             [
              0.5555555555555556,
              "#d8576b"
             ],
             [
              0.6666666666666666,
              "#ed7953"
             ],
             [
              0.7777777777777778,
              "#fb9f3a"
             ],
             [
              0.8888888888888888,
              "#fdca26"
             ],
             [
              1,
              "#f0f921"
             ]
            ],
            "type": "contour"
           }
          ],
          "contourcarpet": [
           {
            "colorbar": {
             "outlinewidth": 0,
             "ticks": ""
            },
            "type": "contourcarpet"
           }
          ],
          "heatmap": [
           {
            "colorbar": {
             "outlinewidth": 0,
             "ticks": ""
            },
            "colorscale": [
             [
              0,
              "#0d0887"
             ],
             [
              0.1111111111111111,
              "#46039f"
             ],
             [
              0.2222222222222222,
              "#7201a8"
             ],
             [
              0.3333333333333333,
              "#9c179e"
             ],
             [
              0.4444444444444444,
              "#bd3786"
             ],
             [
              0.5555555555555556,
              "#d8576b"
             ],
             [
              0.6666666666666666,
              "#ed7953"
             ],
             [
              0.7777777777777778,
              "#fb9f3a"
             ],
             [
              0.8888888888888888,
              "#fdca26"
             ],
             [
              1,
              "#f0f921"
             ]
            ],
            "type": "heatmap"
           }
          ],
          "histogram": [
           {
            "marker": {
             "pattern": {
              "fillmode": "overlay",
              "size": 10,
              "solidity": 0.2
             }
            },
            "type": "histogram"
           }
          ],
          "histogram2d": [
           {
            "colorbar": {
             "outlinewidth": 0,
             "ticks": ""
            },
            "colorscale": [
             [
              0,
              "#0d0887"
             ],
             [
              0.1111111111111111,
              "#46039f"
             ],
             [
              0.2222222222222222,
              "#7201a8"
             ],
             [
              0.3333333333333333,
              "#9c179e"
             ],
             [
              0.4444444444444444,
              "#bd3786"
             ],
             [
              0.5555555555555556,
              "#d8576b"
             ],
             [
              0.6666666666666666,
              "#ed7953"
             ],
             [
              0.7777777777777778,
              "#fb9f3a"
             ],
             [
              0.8888888888888888,
              "#fdca26"
             ],
             [
              1,
              "#f0f921"
             ]
            ],
            "type": "histogram2d"
           }
          ],
          "histogram2dcontour": [
           {
            "colorbar": {
             "outlinewidth": 0,
             "ticks": ""
            },
            "colorscale": [
             [
              0,
              "#0d0887"
             ],
             [
              0.1111111111111111,
              "#46039f"
             ],
             [
              0.2222222222222222,
              "#7201a8"
             ],
             [
              0.3333333333333333,
              "#9c179e"
             ],
             [
              0.4444444444444444,
              "#bd3786"
             ],
             [
              0.5555555555555556,
              "#d8576b"
             ],
             [
              0.6666666666666666,
              "#ed7953"
             ],
             [
              0.7777777777777778,
              "#fb9f3a"
             ],
             [
              0.8888888888888888,
              "#fdca26"
             ],
             [
              1,
              "#f0f921"
             ]
            ],
            "type": "histogram2dcontour"
           }
          ],
          "mesh3d": [
           {
            "colorbar": {
             "outlinewidth": 0,
             "ticks": ""
            },
            "type": "mesh3d"
           }
          ],
          "parcoords": [
           {
            "line": {
             "colorbar": {
              "outlinewidth": 0,
              "ticks": ""
             }
            },
            "type": "parcoords"
           }
          ],
          "pie": [
           {
            "automargin": true,
            "type": "pie"
           }
          ],
          "scatter": [
           {
            "fillpattern": {
             "fillmode": "overlay",
             "size": 10,
             "solidity": 0.2
            },
            "type": "scatter"
           }
          ],
          "scatter3d": [
           {
            "line": {
             "colorbar": {
              "outlinewidth": 0,
              "ticks": ""
             }
            },
            "marker": {
             "colorbar": {
              "outlinewidth": 0,
              "ticks": ""
             }
            },
            "type": "scatter3d"
           }
          ],
          "scattercarpet": [
           {
            "marker": {
             "colorbar": {
              "outlinewidth": 0,
              "ticks": ""
             }
            },
            "type": "scattercarpet"
           }
          ],
          "scattergeo": [
           {
            "marker": {
             "colorbar": {
              "outlinewidth": 0,
              "ticks": ""
             }
            },
            "type": "scattergeo"
           }
          ],
          "scattergl": [
           {
            "marker": {
             "colorbar": {
              "outlinewidth": 0,
              "ticks": ""
             }
            },
            "type": "scattergl"
           }
          ],
          "scattermap": [
           {
            "marker": {
             "colorbar": {
              "outlinewidth": 0,
              "ticks": ""
             }
            },
            "type": "scattermap"
           }
          ],
          "scattermapbox": [
           {
            "marker": {
             "colorbar": {
              "outlinewidth": 0,
              "ticks": ""
             }
            },
            "type": "scattermapbox"
           }
          ],
          "scatterpolar": [
           {
            "marker": {
             "colorbar": {
              "outlinewidth": 0,
              "ticks": ""
             }
            },
            "type": "scatterpolar"
           }
          ],
          "scatterpolargl": [
           {
            "marker": {
             "colorbar": {
              "outlinewidth": 0,
              "ticks": ""
             }
            },
            "type": "scatterpolargl"
           }
          ],
          "scatterternary": [
           {
            "marker": {
             "colorbar": {
              "outlinewidth": 0,
              "ticks": ""
             }
            },
            "type": "scatterternary"
           }
          ],
          "surface": [
           {
            "colorbar": {
             "outlinewidth": 0,
             "ticks": ""
            },
            "colorscale": [
             [
              0,
              "#0d0887"
             ],
             [
              0.1111111111111111,
              "#46039f"
             ],
             [
              0.2222222222222222,
              "#7201a8"
             ],
             [
              0.3333333333333333,
              "#9c179e"
             ],
             [
              0.4444444444444444,
              "#bd3786"
             ],
             [
              0.5555555555555556,
              "#d8576b"
             ],
             [
              0.6666666666666666,
              "#ed7953"
             ],
             [
              0.7777777777777778,
              "#fb9f3a"
             ],
             [
              0.8888888888888888,
              "#fdca26"
             ],
             [
              1,
              "#f0f921"
             ]
            ],
            "type": "surface"
           }
          ],
          "table": [
           {
            "cells": {
             "fill": {
              "color": "#EBF0F8"
             },
             "line": {
              "color": "white"
             }
            },
            "header": {
             "fill": {
              "color": "#C8D4E3"
             },
             "line": {
              "color": "white"
             }
            },
            "type": "table"
           }
          ]
         },
         "layout": {
          "annotationdefaults": {
           "arrowcolor": "#2a3f5f",
           "arrowhead": 0,
           "arrowwidth": 1
          },
          "autotypenumbers": "strict",
          "coloraxis": {
           "colorbar": {
            "outlinewidth": 0,
            "ticks": ""
           }
          },
          "colorscale": {
           "diverging": [
            [
             0,
             "#8e0152"
            ],
            [
             0.1,
             "#c51b7d"
            ],
            [
             0.2,
             "#de77ae"
            ],
            [
             0.3,
             "#f1b6da"
            ],
            [
             0.4,
             "#fde0ef"
            ],
            [
             0.5,
             "#f7f7f7"
            ],
            [
             0.6,
             "#e6f5d0"
            ],
            [
             0.7,
             "#b8e186"
            ],
            [
             0.8,
             "#7fbc41"
            ],
            [
             0.9,
             "#4d9221"
            ],
            [
             1,
             "#276419"
            ]
           ],
           "sequential": [
            [
             0,
             "#0d0887"
            ],
            [
             0.1111111111111111,
             "#46039f"
            ],
            [
             0.2222222222222222,
             "#7201a8"
            ],
            [
             0.3333333333333333,
             "#9c179e"
            ],
            [
             0.4444444444444444,
             "#bd3786"
            ],
            [
             0.5555555555555556,
             "#d8576b"
            ],
            [
             0.6666666666666666,
             "#ed7953"
            ],
            [
             0.7777777777777778,
             "#fb9f3a"
            ],
            [
             0.8888888888888888,
             "#fdca26"
            ],
            [
             1,
             "#f0f921"
            ]
           ],
           "sequentialminus": [
            [
             0,
             "#0d0887"
            ],
            [
             0.1111111111111111,
             "#46039f"
            ],
            [
             0.2222222222222222,
             "#7201a8"
            ],
            [
             0.3333333333333333,
             "#9c179e"
            ],
            [
             0.4444444444444444,
             "#bd3786"
            ],
            [
             0.5555555555555556,
             "#d8576b"
            ],
            [
             0.6666666666666666,
             "#ed7953"
            ],
            [
             0.7777777777777778,
             "#fb9f3a"
            ],
            [
             0.8888888888888888,
             "#fdca26"
            ],
            [
             1,
             "#f0f921"
            ]
           ]
          },
          "colorway": [
           "#636efa",
           "#EF553B",
           "#00cc96",
           "#ab63fa",
           "#FFA15A",
           "#19d3f3",
           "#FF6692",
           "#B6E880",
           "#FF97FF",
           "#FECB52"
          ],
          "font": {
           "color": "#2a3f5f"
          },
          "geo": {
           "bgcolor": "white",
           "lakecolor": "white",
           "landcolor": "#E5ECF6",
           "showlakes": true,
           "showland": true,
           "subunitcolor": "white"
          },
          "hoverlabel": {
           "align": "left"
          },
          "hovermode": "closest",
          "mapbox": {
           "style": "light"
          },
          "paper_bgcolor": "white",
          "plot_bgcolor": "#E5ECF6",
          "polar": {
           "angularaxis": {
            "gridcolor": "white",
            "linecolor": "white",
            "ticks": ""
           },
           "bgcolor": "#E5ECF6",
           "radialaxis": {
            "gridcolor": "white",
            "linecolor": "white",
            "ticks": ""
           }
          },
          "scene": {
           "xaxis": {
            "backgroundcolor": "#E5ECF6",
            "gridcolor": "white",
            "gridwidth": 2,
            "linecolor": "white",
            "showbackground": true,
            "ticks": "",
            "zerolinecolor": "white"
           },
           "yaxis": {
            "backgroundcolor": "#E5ECF6",
            "gridcolor": "white",
            "gridwidth": 2,
            "linecolor": "white",
            "showbackground": true,
            "ticks": "",
            "zerolinecolor": "white"
           },
           "zaxis": {
            "backgroundcolor": "#E5ECF6",
            "gridcolor": "white",
            "gridwidth": 2,
            "linecolor": "white",
            "showbackground": true,
            "ticks": "",
            "zerolinecolor": "white"
           }
          },
          "shapedefaults": {
           "line": {
            "color": "#2a3f5f"
           }
          },
          "ternary": {
           "aaxis": {
            "gridcolor": "white",
            "linecolor": "white",
            "ticks": ""
           },
           "baxis": {
            "gridcolor": "white",
            "linecolor": "white",
            "ticks": ""
           },
           "bgcolor": "#E5ECF6",
           "caxis": {
            "gridcolor": "white",
            "linecolor": "white",
            "ticks": ""
           }
          },
          "title": {
           "x": 0.05
          },
          "xaxis": {
           "automargin": true,
           "gridcolor": "white",
           "linecolor": "white",
           "ticks": "",
           "title": {
            "standoff": 15
           },
           "zerolinecolor": "white",
           "zerolinewidth": 2
          },
          "yaxis": {
           "automargin": true,
           "gridcolor": "white",
           "linecolor": "white",
           "ticks": "",
           "title": {
            "standoff": 15
           },
           "zerolinecolor": "white",
           "zerolinewidth": 2
          }
         }
        },
        "title": {
         "text": "Curl free regression errors for n = 100 input vectors for current carrying wire"
        }
       }
      }
     },
     "metadata": {},
     "output_type": "display_data"
    }
   ],
   "source": [
    "# plot residuals of fit above: \n",
    "residuals_wire_curl_free, mse_wire_curl_free = differencer(outputs_wire, outputs_wire_curl_free)\n",
    "print(f'MSE for this case of {mse_wire_curl_free}')\n",
    "plotter(residuals_wire_curl_free, \n",
    "        title = f'Curl free regression errors for n = {given_samples_wire} input vectors for current carrying wire')"
   ]
  }
 ],
 "metadata": {
  "kernelspec": {
   "display_name": "env",
   "language": "python",
   "name": "python3"
  },
  "language_info": {
   "codemirror_mode": {
    "name": "ipython",
    "version": 3
   },
   "file_extension": ".py",
   "mimetype": "text/x-python",
   "name": "python",
   "nbconvert_exporter": "python",
   "pygments_lexer": "ipython3",
   "version": "3.12.0"
  }
 },
 "nbformat": 4,
 "nbformat_minor": 5
}

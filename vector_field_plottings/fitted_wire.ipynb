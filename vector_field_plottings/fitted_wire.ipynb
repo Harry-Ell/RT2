{
 "cells": [
  {
   "cell_type": "markdown",
   "id": "2c13ec42",
   "metadata": {},
   "source": [
    "# Gaussian Updated Fields + analytics for current carrying wire"
   ]
  },
  {
   "cell_type": "code",
   "execution_count": 2,
   "id": "be29ef2e",
   "metadata": {},
   "outputs": [],
   "source": [
    "import sys\n",
    "sys.path.append('..')"
   ]
  },
  {
   "cell_type": "code",
   "execution_count": 3,
   "id": "fbe8d646",
   "metadata": {},
   "outputs": [],
   "source": [
    "# Loading my modules\n",
    "from plotting_tools.plotter import plotter\n",
    "from plotting_tools.field_comparison import differencer\n",
    "from plotting_tools.sample_field import sample_field\n",
    "from physics_informed_vector_fields.current_carrying_wire import field_around_current_carrying_wire\n",
    "from GP_Implementation.Kernel import updated_vector_field"
   ]
  },
  {
   "cell_type": "code",
   "execution_count": 50,
   "id": "7efbb339",
   "metadata": {},
   "outputs": [
    {
     "data": {
      "application/vnd.plotly.v1+json": {
       "config": {
        "plotlyServerURL": "https://plot.ly"
       },
       "data": [
        {
         "anchor": "tail",
         "sizemode": "scaled",
         "sizeref": 2,
         "type": "cone",
         "u": {
          "bdata": "IAYoAvi0Q0CwM3gIlKc5QGI90KW5NGbABTFrXK3bTcDo1sI9tpQrQICC5ANi8TBALsrZL6GmP8CwM3gIlKc5QMmAawJ0qUVAw1qVrGqEEUBiPdCluTRmQAxICvNZthxA1EqsfEHxJ8BZnwSvmONBQICC5ANi8TDAibeA3T6RMkCKvDqBBd84QHSyXnAt9jNAIDiBHfH0QUAgBigC+LRDwLa3AQdKfz5ATcaZ5vE8UcAgBigC+LRDwCAGKAL4tENABO+GBmXVWkCwM3gIlKc5QIq8OoEF3zhAXp8Er5jjQUAA/6i0jh9JwM99Nf0wYErAwVnYuSBYM0AkuhKonPtAQOjWwj22lCtAIAYoAvi0Q8AgBigC+LRDQP5s5jf48UHAgYLkA2LxMMABbeY3+PFBQF6fBK+Y40FAyoBrAnSpRUChd4jL30I4wCA4gR3x9EHAdLJecC32M8CKvDqBBd84QHSyXnAt9jPATcaZ5vE8UcAE74YGZdVaQMNalaxqhBFAYj3Qpbk0ZsB0sl5wLfYzwCS6Eqic+0BA1kqsfEHxJ0ALMWtcrdtNQNZKrHxB8SdADEgK81m2HEBiPdCluTRmwLEzeAiUpznA0301/TBgSsAB/6i0jh9JwMyAawJ0qUXAIDiBHfH0QUAsytkvoaY/QCA4gR3x9EHAMcrZL6GmP0Chd4jL30I4QLAzeAiUpzlAB++GBmXVWsCwM3gIlKc5QEzGmebxPFFAwFnYuSBYM0C2twEHSn8+QM99Nf0wYErA6NbCPbaUK0DUSqx8QfEnwGI90KW5NGbA1kqsfEHxJ8CKvDqBBd84wIq3gN0+kTJACDFrXK3bTUALMWtcrdtNQOjWwj22lCvA6NbCPbaUK0Do1sI9tpQrwOjWwj22lCvAyVqVrGqEEcB0sl5wLfYzwAfvhgZl1VrAA0gK81m2HEBNxpnm8TxRwEzGmebxPFFAXp8Er5jjQcCwM3gIlKc5wP/+qLSOH0lAyVqVrGqEEcAA/6i0jh9JQNN9Nf0wYErAYj3Qpbk0ZsAgBigC+LRDwOjWwj22lCvADEgK81m2HMA=",
          "dtype": "f8"
         },
         "v": {
          "bdata": "ylqVrGqEEUCvM3gIlKc5QGE90KW5NGbADDFrXK3bTcBLxpnm8TxRwLS3AQdKfz5A0H01/TBgSsCvM3gIlKc5QIq3gN0+kTLAIAYoAvi0Q8BhPdCluTRmwP/+qLSOH0nAIDiBHfH0QUAE74YGZdVawLa3AQdKfz5AyoBrAnSpRcDCWdi5IFgzwHOyXnAt9jPA1UqsfEHxJ0DEWpWsaoQRwIGC5ANi8TBA5dbCPbaUK8DKWpWsaoQRQMpalaxqhBFAWp8Er5jjQcCvM3gIlKc5wMJZ2LkgWDPAB++GBmXVWkAKSArzWbYcQDPK2S+hpj/Ai7w6gQXfOECfd4jL30I4QE3GmebxPFFAxFqVrGqEEcDEWpWsaoQRwAJt5jf48UHAtrcBB0p/PsD/bOY3+PFBQAfvhgZl1VpAiLeA3T6RMkAluhKonPtAQNVKrHxB8SdAc7JecC32M8DCWdi5IFgzwHOyXnAt9jPA6dbCPbaUK0BZnwSvmONBQCAGKAL4tEPAYT3Qpbk0ZsB0sl5wLfYzQJ93iMvfQjhAIDiBHfH0QcAHMWtcrdtNQCA4gR3x9EHA//6otI4fScBhPdCluTRmwLEzeAiUpzlAL8rZL6GmP0ACSArzWbYcwIq3gN0+kTJA2EqsfEHxJ8DOfTX9MGBKwNhKrHxB8SfA0H01/TBgSkAjuhKonPtAQK8zeAiUpzlAXJ8Er5jjQcCvM3gIlKc5QN3Wwj22lCtAjLw6gQXfOMCBguQDYvEwQDPK2S+hpj/AS8aZ5vE8UcAgOIEd8fRBQGE90KW5NGbAIDiBHfH0QcDCWdi5IFgzwMuAawJ0qUVABzFrXK3bTcAHMWtcrdtNQEvGmebxPFHATcaZ5vE8UUBNxpnm8TxRQE3GmebxPFFAIAYoAvi0Q0B0sl5wLfYzQFyfBK+Y40HAAP+otI4fSUDp1sI9tpQrQN3Wwj22lCtAB++GBmXVWkCvM3gIlKc5wAlICvNZthxAIAYoAvi0Q0ABSArzWbYcwC/K2S+hpj9AYj3Qpbk0ZkDKWpWsaoQRQEvGmebxPFHA//6otI4fScA=",
          "dtype": "f8"
         },
         "w": {
          "bdata": "AAAAAAAAAAAAAAAAAAAAAAAAAAAAAAAAAAAAAAAAAAAAAAAAAAAAAAAAAAAAAAAAAAAAAAAAAAAAAAAAAAAAAAAAAAAAAAAAAAAAAAAAAAAAAAAAAAAAAAAAAAAAAAAAAAAAAAAAAAAAAAAAAAAAAAAAAAAAAAAAAAAAAAAAAAAAAAAAAAAAAAAAAAAAAAAAAAAAAAAAAAAAAAAAAAAAAAAAAAAAAAAAAAAAAAAAAAAAAAAAAAAAAAAAAAAAAAAAAAAAAAAAAAAAAAAAAAAAAAAAAAAAAAAAAAAAAAAAAAAAAAAAAAAAAAAAAAAAAAAAAAAAAAAAAAAAAAAAAAAAAAAAAAAAAAAAAAAAAAAAAAAAAAAAAAAAAAAAAAAAAAAAAAAAAAAAAAAAAAAAAAAAAAAAAAAAAAAAAAAAAAAAAAAAAAAAAAAAAAAAAAAAAAAAAAAAAAAAAAAAAAAAAAAAAAAAAAAAAAAAAAAAAAAAAAAAAAAAAAAAAAAAAAAAAAAAAAAAAAAAAAAAAAAAAAAAAAAAAAAAAAAAAAAAAAAAAAAAAAAAAAAAAAAAAAAAAAAAAAAAAAAAAAAAAAAAAAAAAAAAAAAAAAAAAAAAAAAAAAAAAAAAAAAAAAAAAAAAAAAAAAAAAAAAAAAAAAAAAAAAAAAAAAAAAAAAAAAAAAAAAAAAAAAAAAAAAAAAAAAAAAAAAAAAAAAAAAAAAAAAAAAAAAAAAAAAAAAAAAAAAAAAAAAAAAAAAAAAAAAAAAAAAAAAAAAAAAAAAAAAAAAAAAAAAAAAAAAAAAAAAAAAAAAAAAAAAAAAAAAAAAAAAAAAAAAAAAAAAAAAAAAAAAAAAAAAAAAAAAAAAAAAAAAAAAAAAAAAAAAAAAAAAAAAAAAAAAAAAAAAAAAAAAAAAAAAAAAAAAAAAAAAAAAAAAAAAAAAAAAAAAAAAAAAAAAAAAAAAAAAAAAAAAAAAAAAAAAAAAAAAAAAAAAAAAAAAAAAAAAAAAAAAAAAAAAAAAAAAAAAAAAAAAAAAAAAAAAAAAAAAAAAAAAAAAAAAAAAAAAAAAAAAAA=",
          "dtype": "f8"
         },
         "x": {
          "bdata": "IMdxHMdxrD84juM4juPYPyDHcRzHcay/VlVVVVVVxb9yHMdxHMfRvwAAAAAAAOA/chzHcRzH0b84juM4juPYP1ZVVVVVVcW/AAAAAAAA4L8gx3Ecx3GsvzmO4ziO49i/AAAAAAAA4D9WVVVVVVXFvwAAAAAAAOA/OY7jOI7j2L85juM4juPYvwAAAAAAAOC/VFVVVVVVxT8gx3Ecx3Gsv3Acx3Ecx9E/IMdxHMdxrL8gx3Ecx3GsPyDHcRzHcaw/IMdxHMdxrL85juM4juPYvzmO4ziO49i/VFVVVVVVxT8gx3Ecx3GsP1ZVVVVVVcW/AAAAAAAA4D9wHMdxHMfRP3Acx3Ecx9E/IMdxHMdxrL8gx3Ecx3Gsv3Icx3Ecx9G/AAAAAAAA4L9wHMdxHMfRP1RVVVVVVcU/VFVVVVVVxT84juM4juPYP1RVVVVVVcU/AAAAAAAA4L85juM4juPYvwAAAAAAAOC/IMdxHMdxrD8gx3Ecx3GsPwAAAAAAAOC/IMdxHMdxrL8AAAAAAADgP3Acx3Ecx9E/AAAAAAAA4L9UVVVVVVXFPwAAAAAAAOC/OY7jOI7j2L8gx3Ecx3GsvziO4ziO49g/VFVVVVVVxT8gx3Ecx3Gsv1RVVVVVVcU/VlVVVVVVxb9yHMdxHMfRv1ZVVVVVVcW/cBzHcRzH0T84juM4juPYPziO4ziO49g/IMdxHMdxrL84juM4juPYPyDHcRzHcaw/AAAAAAAA4L9wHMdxHMfRP1ZVVVVVVcW/chzHcRzH0b8AAAAAAADgPyDHcRzHcay/AAAAAAAA4L85juM4juPYvziO4ziO49g/VlVVVVVVxb9UVVVVVVXFP3Icx3Ecx9G/cBzHcRzH0T9wHMdxHMfRP3Acx3Ecx9E/AAAAAAAA4D8AAAAAAADgPyDHcRzHcay/OI7jOI7j2D8gx3Ecx3GsPyDHcRzHcaw/VFVVVVVVxT85juM4juPYvyDHcRzHcaw/AAAAAAAA4D8gx3Ecx3Gsv1RVVVVVVcU/IMdxHMdxrD8gx3Ecx3GsP3Icx3Ecx9G/OY7jOI7j2L8=",
          "dtype": "f8"
         },
         "y": {
          "bdata": "AAAAAAAA4L85juM4juPYvyDHcRzHcaw/VFVVVVVVxT8gx3Ecx3Gsv3Icx3Ecx9G/VFVVVVVVxT85juM4juPYvzmO4ziO49i/IMdxHMdxrL8gx3Ecx3GsvyDHcRzHcay/VFVVVVVVxT8gx3Ecx3Gsv3Acx3Ecx9E/VlVVVVVVxb8AAAAAAADgvwAAAAAAAOC/AAAAAAAA4L8AAAAAAADgPwAAAAAAAOC/cBzHcRzH0T8AAAAAAADgPwAAAAAAAOC/VlVVVVVVxb85juM4juPYvwAAAAAAAOC/IMdxHMdxrL84juM4juPYP3Acx3Ecx9E/OY7jOI7j2L85juM4juPYvyDHcRzHcay/AAAAAAAA4D8AAAAAAADgv3Acx3Ecx9E/cBzHcRzH0T9yHMdxHMfRvyDHcRzHcay/OY7jOI7j2L9wHMdxHMfRPwAAAAAAAOA/AAAAAAAA4D8AAAAAAADgvwAAAAAAAOA/cBzHcRzH0T9WVVVVVVXFvyDHcRzHcay/IMdxHMdxrD8AAAAAAADgPzmO4ziO49i/VlVVVVVVxb9WVVVVVVXFv1ZVVVVVVcW/IMdxHMdxrL8gx3Ecx3GsPziO4ziO49g/cBzHcRzH0T84juM4juPYPziO4ziO49g/AAAAAAAA4L9WVVVVVVXFvwAAAAAAAOA/VlVVVVVVxb9yHMdxHMfRvzmO4ziO49i/VFVVVVVVxT85juM4juPYv3Icx3Ecx9G/OY7jOI7j2L8AAAAAAADgv3Acx3Ecx9E/IMdxHMdxrL9UVVVVVVXFPyDHcRzHcaw/VFVVVVVVxT8AAAAAAADgP1ZVVVVVVcW/VlVVVVVVxb9WVVVVVVXFvyDHcRzHcaw/IMdxHMdxrL8gx3Ecx3GsPyDHcRzHcaw/IMdxHMdxrD8AAAAAAADgP1RVVVVVVcU/IMdxHMdxrL9wHMdxHMfRP3Icx3Ecx9G/IMdxHMdxrD84juM4juPYPzmO4ziO49i/IMdxHMdxrD85juM4juPYv3Acx3Ecx9E/IMdxHMdxrD8AAAAAAADgPyDHcRzHcaw/IMdxHMdxrD8=",
          "dtype": "f8"
         },
         "z": {
          "bdata": "cBzHcRzH0T84juM4juPYP3Icx3Ecx9G/OI7jOI7j2D9yHMdxHMfRvwAAAAAAAOA/chzHcRzH0b8AAAAAAADgvziO4ziO49g/AAAAAAAA4D9UVVVVVVXFP3Icx3Ecx9G/OI7jOI7j2D8gx3Ecx3GsPzmO4ziO49i/VlVVVVVVxb8gx3Ecx3Gsv1RVVVVVVcU/AAAAAAAA4L9UVVVVVVXFP3Icx3Ecx9G/chzHcRzH0b84juM4juPYP3Icx3Ecx9G/VlVVVVVVxb8AAAAAAADgPziO4ziO49g/cBzHcRzH0T8AAAAAAADgPyDHcRzHcay/AAAAAAAA4L84juM4juPYPyDHcRzHcay/IMdxHMdxrL8gx3Ecx3GsvyDHcRzHcay/OI7jOI7j2D85juM4juPYvyDHcRzHcay/IMdxHMdxrL9yHMdxHMfRvzmO4ziO49i/AAAAAAAA4L85juM4juPYvyDHcRzHcay/cBzHcRzH0T9wHMdxHMfRPzmO4ziO49i/VlVVVVVVxb8gx3Ecx3GsP1ZVVVVVVcW/IMdxHMdxrL8AAAAAAADgPyDHcRzHcaw/OI7jOI7j2D8gx3Ecx3GsPyDHcRzHcaw/cBzHcRzH0T9UVVVVVVXFPyDHcRzHcaw/cBzHcRzH0T84juM4juPYPyDHcRzHcaw/IMdxHMdxrL9yHMdxHMfRv3Icx3Ecx9G/IMdxHMdxrL9UVVVVVVXFPziO4ziO49g/cBzHcRzH0T8AAAAAAADgPwAAAAAAAOC/OY7jOI7j2L8gx3Ecx3Gsv3Acx3Ecx9E/IMdxHMdxrD85juM4juPYvziO4ziO49g/OY7jOI7j2L84juM4juPYPyDHcRzHcaw/chzHcRzH0b9UVVVVVVXFP3Acx3Ecx9E/OY7jOI7j2L9yHMdxHMfRv1ZVVVVVVcW/VlVVVVVVxb9WVVVVVVXFv3Acx3Ecx9E/IMdxHMdxrL8AAAAAAADgP3Acx3Ecx9E/VFVVVVVVxT8gx3Ecx3GsvzmO4ziO49i/AAAAAAAA4D9WVVVVVVXFvziO4ziO49g/IMdxHMdxrL8=",
          "dtype": "f8"
         }
        }
       ],
       "layout": {
        "scene": {
         "xaxis": {
          "title": {
           "text": "X"
          }
         },
         "yaxis": {
          "title": {
           "text": "Y"
          }
         },
         "zaxis": {
          "title": {
           "text": "Z"
          }
         }
        },
        "template": {
         "data": {
          "bar": [
           {
            "error_x": {
             "color": "#2a3f5f"
            },
            "error_y": {
             "color": "#2a3f5f"
            },
            "marker": {
             "line": {
              "color": "#E5ECF6",
              "width": 0.5
             },
             "pattern": {
              "fillmode": "overlay",
              "size": 10,
              "solidity": 0.2
             }
            },
            "type": "bar"
           }
          ],
          "barpolar": [
           {
            "marker": {
             "line": {
              "color": "#E5ECF6",
              "width": 0.5
             },
             "pattern": {
              "fillmode": "overlay",
              "size": 10,
              "solidity": 0.2
             }
            },
            "type": "barpolar"
           }
          ],
          "carpet": [
           {
            "aaxis": {
             "endlinecolor": "#2a3f5f",
             "gridcolor": "white",
             "linecolor": "white",
             "minorgridcolor": "white",
             "startlinecolor": "#2a3f5f"
            },
            "baxis": {
             "endlinecolor": "#2a3f5f",
             "gridcolor": "white",
             "linecolor": "white",
             "minorgridcolor": "white",
             "startlinecolor": "#2a3f5f"
            },
            "type": "carpet"
           }
          ],
          "choropleth": [
           {
            "colorbar": {
             "outlinewidth": 0,
             "ticks": ""
            },
            "type": "choropleth"
           }
          ],
          "contour": [
           {
            "colorbar": {
             "outlinewidth": 0,
             "ticks": ""
            },
            "colorscale": [
             [
              0,
              "#0d0887"
             ],
             [
              0.1111111111111111,
              "#46039f"
             ],
             [
              0.2222222222222222,
              "#7201a8"
             ],
             [
              0.3333333333333333,
              "#9c179e"
             ],
             [
              0.4444444444444444,
              "#bd3786"
             ],
             [
              0.5555555555555556,
              "#d8576b"
             ],
             [
              0.6666666666666666,
              "#ed7953"
             ],
             [
              0.7777777777777778,
              "#fb9f3a"
             ],
             [
              0.8888888888888888,
              "#fdca26"
             ],
             [
              1,
              "#f0f921"
             ]
            ],
            "type": "contour"
           }
          ],
          "contourcarpet": [
           {
            "colorbar": {
             "outlinewidth": 0,
             "ticks": ""
            },
            "type": "contourcarpet"
           }
          ],
          "heatmap": [
           {
            "colorbar": {
             "outlinewidth": 0,
             "ticks": ""
            },
            "colorscale": [
             [
              0,
              "#0d0887"
             ],
             [
              0.1111111111111111,
              "#46039f"
             ],
             [
              0.2222222222222222,
              "#7201a8"
             ],
             [
              0.3333333333333333,
              "#9c179e"
             ],
             [
              0.4444444444444444,
              "#bd3786"
             ],
             [
              0.5555555555555556,
              "#d8576b"
             ],
             [
              0.6666666666666666,
              "#ed7953"
             ],
             [
              0.7777777777777778,
              "#fb9f3a"
             ],
             [
              0.8888888888888888,
              "#fdca26"
             ],
             [
              1,
              "#f0f921"
             ]
            ],
            "type": "heatmap"
           }
          ],
          "histogram": [
           {
            "marker": {
             "pattern": {
              "fillmode": "overlay",
              "size": 10,
              "solidity": 0.2
             }
            },
            "type": "histogram"
           }
          ],
          "histogram2d": [
           {
            "colorbar": {
             "outlinewidth": 0,
             "ticks": ""
            },
            "colorscale": [
             [
              0,
              "#0d0887"
             ],
             [
              0.1111111111111111,
              "#46039f"
             ],
             [
              0.2222222222222222,
              "#7201a8"
             ],
             [
              0.3333333333333333,
              "#9c179e"
             ],
             [
              0.4444444444444444,
              "#bd3786"
             ],
             [
              0.5555555555555556,
              "#d8576b"
             ],
             [
              0.6666666666666666,
              "#ed7953"
             ],
             [
              0.7777777777777778,
              "#fb9f3a"
             ],
             [
              0.8888888888888888,
              "#fdca26"
             ],
             [
              1,
              "#f0f921"
             ]
            ],
            "type": "histogram2d"
           }
          ],
          "histogram2dcontour": [
           {
            "colorbar": {
             "outlinewidth": 0,
             "ticks": ""
            },
            "colorscale": [
             [
              0,
              "#0d0887"
             ],
             [
              0.1111111111111111,
              "#46039f"
             ],
             [
              0.2222222222222222,
              "#7201a8"
             ],
             [
              0.3333333333333333,
              "#9c179e"
             ],
             [
              0.4444444444444444,
              "#bd3786"
             ],
             [
              0.5555555555555556,
              "#d8576b"
             ],
             [
              0.6666666666666666,
              "#ed7953"
             ],
             [
              0.7777777777777778,
              "#fb9f3a"
             ],
             [
              0.8888888888888888,
              "#fdca26"
             ],
             [
              1,
              "#f0f921"
             ]
            ],
            "type": "histogram2dcontour"
           }
          ],
          "mesh3d": [
           {
            "colorbar": {
             "outlinewidth": 0,
             "ticks": ""
            },
            "type": "mesh3d"
           }
          ],
          "parcoords": [
           {
            "line": {
             "colorbar": {
              "outlinewidth": 0,
              "ticks": ""
             }
            },
            "type": "parcoords"
           }
          ],
          "pie": [
           {
            "automargin": true,
            "type": "pie"
           }
          ],
          "scatter": [
           {
            "fillpattern": {
             "fillmode": "overlay",
             "size": 10,
             "solidity": 0.2
            },
            "type": "scatter"
           }
          ],
          "scatter3d": [
           {
            "line": {
             "colorbar": {
              "outlinewidth": 0,
              "ticks": ""
             }
            },
            "marker": {
             "colorbar": {
              "outlinewidth": 0,
              "ticks": ""
             }
            },
            "type": "scatter3d"
           }
          ],
          "scattercarpet": [
           {
            "marker": {
             "colorbar": {
              "outlinewidth": 0,
              "ticks": ""
             }
            },
            "type": "scattercarpet"
           }
          ],
          "scattergeo": [
           {
            "marker": {
             "colorbar": {
              "outlinewidth": 0,
              "ticks": ""
             }
            },
            "type": "scattergeo"
           }
          ],
          "scattergl": [
           {
            "marker": {
             "colorbar": {
              "outlinewidth": 0,
              "ticks": ""
             }
            },
            "type": "scattergl"
           }
          ],
          "scattermap": [
           {
            "marker": {
             "colorbar": {
              "outlinewidth": 0,
              "ticks": ""
             }
            },
            "type": "scattermap"
           }
          ],
          "scattermapbox": [
           {
            "marker": {
             "colorbar": {
              "outlinewidth": 0,
              "ticks": ""
             }
            },
            "type": "scattermapbox"
           }
          ],
          "scatterpolar": [
           {
            "marker": {
             "colorbar": {
              "outlinewidth": 0,
              "ticks": ""
             }
            },
            "type": "scatterpolar"
           }
          ],
          "scatterpolargl": [
           {
            "marker": {
             "colorbar": {
              "outlinewidth": 0,
              "ticks": ""
             }
            },
            "type": "scatterpolargl"
           }
          ],
          "scatterternary": [
           {
            "marker": {
             "colorbar": {
              "outlinewidth": 0,
              "ticks": ""
             }
            },
            "type": "scatterternary"
           }
          ],
          "surface": [
           {
            "colorbar": {
             "outlinewidth": 0,
             "ticks": ""
            },
            "colorscale": [
             [
              0,
              "#0d0887"
             ],
             [
              0.1111111111111111,
              "#46039f"
             ],
             [
              0.2222222222222222,
              "#7201a8"
             ],
             [
              0.3333333333333333,
              "#9c179e"
             ],
             [
              0.4444444444444444,
              "#bd3786"
             ],
             [
              0.5555555555555556,
              "#d8576b"
             ],
             [
              0.6666666666666666,
              "#ed7953"
             ],
             [
              0.7777777777777778,
              "#fb9f3a"
             ],
             [
              0.8888888888888888,
              "#fdca26"
             ],
             [
              1,
              "#f0f921"
             ]
            ],
            "type": "surface"
           }
          ],
          "table": [
           {
            "cells": {
             "fill": {
              "color": "#EBF0F8"
             },
             "line": {
              "color": "white"
             }
            },
            "header": {
             "fill": {
              "color": "#C8D4E3"
             },
             "line": {
              "color": "white"
             }
            },
            "type": "table"
           }
          ]
         },
         "layout": {
          "annotationdefaults": {
           "arrowcolor": "#2a3f5f",
           "arrowhead": 0,
           "arrowwidth": 1
          },
          "autotypenumbers": "strict",
          "coloraxis": {
           "colorbar": {
            "outlinewidth": 0,
            "ticks": ""
           }
          },
          "colorscale": {
           "diverging": [
            [
             0,
             "#8e0152"
            ],
            [
             0.1,
             "#c51b7d"
            ],
            [
             0.2,
             "#de77ae"
            ],
            [
             0.3,
             "#f1b6da"
            ],
            [
             0.4,
             "#fde0ef"
            ],
            [
             0.5,
             "#f7f7f7"
            ],
            [
             0.6,
             "#e6f5d0"
            ],
            [
             0.7,
             "#b8e186"
            ],
            [
             0.8,
             "#7fbc41"
            ],
            [
             0.9,
             "#4d9221"
            ],
            [
             1,
             "#276419"
            ]
           ],
           "sequential": [
            [
             0,
             "#0d0887"
            ],
            [
             0.1111111111111111,
             "#46039f"
            ],
            [
             0.2222222222222222,
             "#7201a8"
            ],
            [
             0.3333333333333333,
             "#9c179e"
            ],
            [
             0.4444444444444444,
             "#bd3786"
            ],
            [
             0.5555555555555556,
             "#d8576b"
            ],
            [
             0.6666666666666666,
             "#ed7953"
            ],
            [
             0.7777777777777778,
             "#fb9f3a"
            ],
            [
             0.8888888888888888,
             "#fdca26"
            ],
            [
             1,
             "#f0f921"
            ]
           ],
           "sequentialminus": [
            [
             0,
             "#0d0887"
            ],
            [
             0.1111111111111111,
             "#46039f"
            ],
            [
             0.2222222222222222,
             "#7201a8"
            ],
            [
             0.3333333333333333,
             "#9c179e"
            ],
            [
             0.4444444444444444,
             "#bd3786"
            ],
            [
             0.5555555555555556,
             "#d8576b"
            ],
            [
             0.6666666666666666,
             "#ed7953"
            ],
            [
             0.7777777777777778,
             "#fb9f3a"
            ],
            [
             0.8888888888888888,
             "#fdca26"
            ],
            [
             1,
             "#f0f921"
            ]
           ]
          },
          "colorway": [
           "#636efa",
           "#EF553B",
           "#00cc96",
           "#ab63fa",
           "#FFA15A",
           "#19d3f3",
           "#FF6692",
           "#B6E880",
           "#FF97FF",
           "#FECB52"
          ],
          "font": {
           "color": "#2a3f5f"
          },
          "geo": {
           "bgcolor": "white",
           "lakecolor": "white",
           "landcolor": "#E5ECF6",
           "showlakes": true,
           "showland": true,
           "subunitcolor": "white"
          },
          "hoverlabel": {
           "align": "left"
          },
          "hovermode": "closest",
          "mapbox": {
           "style": "light"
          },
          "paper_bgcolor": "white",
          "plot_bgcolor": "#E5ECF6",
          "polar": {
           "angularaxis": {
            "gridcolor": "white",
            "linecolor": "white",
            "ticks": ""
           },
           "bgcolor": "#E5ECF6",
           "radialaxis": {
            "gridcolor": "white",
            "linecolor": "white",
            "ticks": ""
           }
          },
          "scene": {
           "xaxis": {
            "backgroundcolor": "#E5ECF6",
            "gridcolor": "white",
            "gridwidth": 2,
            "linecolor": "white",
            "showbackground": true,
            "ticks": "",
            "zerolinecolor": "white"
           },
           "yaxis": {
            "backgroundcolor": "#E5ECF6",
            "gridcolor": "white",
            "gridwidth": 2,
            "linecolor": "white",
            "showbackground": true,
            "ticks": "",
            "zerolinecolor": "white"
           },
           "zaxis": {
            "backgroundcolor": "#E5ECF6",
            "gridcolor": "white",
            "gridwidth": 2,
            "linecolor": "white",
            "showbackground": true,
            "ticks": "",
            "zerolinecolor": "white"
           }
          },
          "shapedefaults": {
           "line": {
            "color": "#2a3f5f"
           }
          },
          "ternary": {
           "aaxis": {
            "gridcolor": "white",
            "linecolor": "white",
            "ticks": ""
           },
           "baxis": {
            "gridcolor": "white",
            "linecolor": "white",
            "ticks": ""
           },
           "bgcolor": "#E5ECF6",
           "caxis": {
            "gridcolor": "white",
            "linecolor": "white",
            "ticks": ""
           }
          },
          "title": {
           "x": 0.05
          },
          "xaxis": {
           "automargin": true,
           "gridcolor": "white",
           "linecolor": "white",
           "ticks": "",
           "title": {
            "standoff": 15
           },
           "zerolinecolor": "white",
           "zerolinewidth": 2
          },
          "yaxis": {
           "automargin": true,
           "gridcolor": "white",
           "linecolor": "white",
           "ticks": "",
           "title": {
            "standoff": 15
           },
           "zerolinecolor": "white",
           "zerolinewidth": 2
          }
         }
        },
        "title": {
         "text": "Points given to our GP Regressor for current carrying wire"
        }
       }
      }
     },
     "metadata": {},
     "output_type": "display_data"
    }
   ],
   "source": [
    "# getting the fields to draw samples from\n",
    "outputs_wire = field_around_current_carrying_wire(100000000)\n",
    "sampled_outputs_wire = sample_field(outputs_wire, n_samples=100, random_seed=1)\n",
    "plotter(sampled_outputs_wire, \n",
    "        title = 'Points given to our GP Regressor for current carrying wire')"
   ]
  },
  {
   "cell_type": "markdown",
   "id": "e9a0412d",
   "metadata": {},
   "source": [
    "## Applying GP Regression to Current Carrying Wire"
   ]
  },
  {
   "cell_type": "code",
   "execution_count": 64,
   "id": "129904d9",
   "metadata": {},
   "outputs": [
    {
     "name": "stdout",
     "output_type": "stream",
     "text": [
      "Parameters for sigma_f and l specified, using these.\n"
     ]
    }
   ],
   "source": [
    "# Divergence free attempt\n",
    "outputs_wire_div_free= updated_vector_field(\n",
    "    sampled_outputs_wire, \n",
    "    outputs_wire[0], outputs_wire[1], outputs_wire[2], \n",
    "    kernel_func='divergence_free_kernel', \n",
    "    sigma_f= 0.001, l = 0.8)\n",
    "\n",
    "\n",
    "# from giving the code a large number of samples, the optimum \n",
    "# parameters seem to be about: sigma_f = 0.1, l = 1.2323 (this is from mle and it works poorly)\n",
    "# sigma_f = 0.005, l = 0.8 seem to work okay "
   ]
  },
  {
   "cell_type": "code",
   "execution_count": 65,
   "id": "1517847b",
   "metadata": {},
   "outputs": [
    {
     "data": {
      "application/vnd.plotly.v1+json": {
       "config": {
        "plotlyServerURL": "https://plot.ly"
       },
       "data": [
        {
         "anchor": "tail",
         "sizemode": "scaled",
         "sizeref": 2,
         "type": "cone",
         "u": {
          "bdata": "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",
          "dtype": "f8"
         },
         "v": {
          "bdata": "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",
          "dtype": "f8"
         },
         "w": {
          "bdata": "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",
          "dtype": "f8"
         },
         "x": {
          "bdata": "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",
          "dtype": "f8"
         },
         "y": {
          "bdata": "AAAAAAAA4L8AAAAAAADgvwAAAAAAAOC/AAAAAAAA4L8AAAAAAADgvwAAAAAAAOC/AAAAAAAA4L8AAAAAAADgvwAAAAAAAOC/AAAAAAAA4L85juM4juPYvzmO4ziO49i/OY7jOI7j2L85juM4juPYvzmO4ziO49i/OY7jOI7j2L85juM4juPYvzmO4ziO49i/OY7jOI7j2L85juM4juPYv3Icx3Ecx9G/chzHcRzH0b9yHMdxHMfRv3Icx3Ecx9G/chzHcRzH0b9yHMdxHMfRv3Icx3Ecx9G/chzHcRzH0b9yHMdxHMfRv3Icx3Ecx9G/VlVVVVVVxb9WVVVVVVXFv1ZVVVVVVcW/VlVVVVVVxb9WVVVVVVXFv1ZVVVVVVcW/VlVVVVVVxb9WVVVVVVXFv1ZVVVVVVcW/VlVVVVVVxb8gx3Ecx3GsvyDHcRzHcay/IMdxHMdxrL8gx3Ecx3GsvyDHcRzHcay/IMdxHMdxrL8gx3Ecx3GsvyDHcRzHcay/IMdxHMdxrL8gx3Ecx3GsvyDHcRzHcaw/IMdxHMdxrD8gx3Ecx3GsPyDHcRzHcaw/IMdxHMdxrD8gx3Ecx3GsPyDHcRzHcaw/IMdxHMdxrD8gx3Ecx3GsPyDHcRzHcaw/VFVVVVVVxT9UVVVVVVXFP1RVVVVVVcU/VFVVVVVVxT9UVVVVVVXFP1RVVVVVVcU/VFVVVVVVxT9UVVVVVVXFP1RVVVVVVcU/VFVVVVVVxT9wHMdxHMfRP3Acx3Ecx9E/cBzHcRzH0T9wHMdxHMfRP3Acx3Ecx9E/cBzHcRzH0T9wHMdxHMfRP3Acx3Ecx9E/cBzHcRzH0T9wHMdxHMfRPziO4ziO49g/OI7jOI7j2D84juM4juPYPziO4ziO49g/OI7jOI7j2D84juM4juPYPziO4ziO49g/OI7jOI7j2D84juM4juPYPziO4ziO49g/AAAAAAAA4D8AAAAAAADgPwAAAAAAAOA/AAAAAAAA4D8AAAAAAADgPwAAAAAAAOA/AAAAAAAA4D8AAAAAAADgPwAAAAAAAOA/AAAAAAAA4D8AAAAAAADgvwAAAAAAAOC/AAAAAAAA4L8AAAAAAADgvwAAAAAAAOC/AAAAAAAA4L8AAAAAAADgvwAAAAAAAOC/AAAAAAAA4L8AAAAAAADgvzmO4ziO49i/OY7jOI7j2L85juM4juPYvzmO4ziO49i/OY7jOI7j2L85juM4juPYvzmO4ziO49i/OY7jOI7j2L85juM4juPYvzmO4ziO49i/chzHcRzH0b9yHMdxHMfRv3Icx3Ecx9G/chzHcRzH0b9yHMdxHMfRv3Icx3Ecx9G/chzHcRzH0b9yHMdxHMfRv3Icx3Ecx9G/chzHcRzH0b9WVVVVVVXFv1ZVVVVVVcW/VlVVVVVVxb9WVVVVVVXFv1ZVVVVVVcW/VlVVVVVVxb9WVVVVVVXFv1ZVVVVVVcW/VlVVVVVVxb9WVVVVVVXFvyDHcRzHcay/IMdxHMdxrL8gx3Ecx3GsvyDHcRzHcay/IMdxHMdxrL8gx3Ecx3GsvyDHcRzHcay/IMdxHMdxrL8gx3Ecx3GsvyDHcRzHcay/IMdxHMdxrD8gx3Ecx3GsPyDHcRzHcaw/IMdxHMdxrD8gx3Ecx3GsPyDHcRzHcaw/IMdxHMdxrD8gx3Ecx3GsPyDHcRzHcaw/IMdxHMdxrD9UVVVVVVXFP1RVVVVVVcU/VFVVVVVVxT9UVVVVVVXFP1RVVVVVVcU/VFVVVVVVxT9UVVVVVVXFP1RVVVVVVcU/VFVVVVVVxT9UVVVVVVXFP3Acx3Ecx9E/cBzHcRzH0T9wHMdxHMfRP3Acx3Ecx9E/cBzHcRzH0T9wHMdxHMfRP3Acx3Ecx9E/cBzHcRzH0T9wHMdxHMfRP3Acx3Ecx9E/OI7jOI7j2D84juM4juPYPziO4ziO49g/OI7jOI7j2D84juM4juPYPziO4ziO49g/OI7jOI7j2D84juM4juPYPziO4ziO49g/OI7jOI7j2D8AAAAAAADgPwAAAAAAAOA/AAAAAAAA4D8AAAAAAADgPwAAAAAAAOA/AAAAAAAA4D8AAAAAAADgPwAAAAAAAOA/AAAAAAAA4D8AAAAAAADgPwAAAAAAAOC/AAAAAAAA4L8AAAAAAADgvwAAAAAAAOC/AAAAAAAA4L8AAAAAAADgvwAAAAAAAOC/AAAAAAAA4L8AAAAAAADgvwAAAAAAAOC/OY7jOI7j2L85juM4juPYvzmO4ziO49i/OY7jOI7j2L85juM4juPYvzmO4ziO49i/OY7jOI7j2L85juM4juPYvzmO4ziO49i/OY7jOI7j2L9yHMdxHMfRv3Icx3Ecx9G/chzHcRzH0b9yHMdxHMfRv3Icx3Ecx9G/chzHcRzH0b9yHMdxHMfRv3Icx3Ecx9G/chzHcRzH0b9yHMdxHMfRv1ZVVVVVVcW/VlVVVVVVxb9WVVVVVVXFv1ZVVVVVVcW/VlVVVVVVxb9WVVVVVVXFv1ZVVVVVVcW/VlVVVVVVxb9WVVVVVVXFv1ZVVVVVVcW/IMdxHMdxrL8gx3Ecx3GsvyDHcRzHcay/IMdxHMdxrL8gx3Ecx3GsvyDHcRzHcay/IMdxHMdxrL8gx3Ecx3GsvyDHcRzHcay/IMdxHMdxrL8gx3Ecx3GsPyDHcRzHcaw/IMdxHMdxrD8gx3Ecx3GsPyDHcRzHcaw/IMdxHMdxrD8gx3Ecx3GsPyDHcRzHcaw/IMdxHMdxrD8gx3Ecx3GsP1RVVVVVVcU/VFVVVVVVxT9UVVVVVVXFP1RVVVVVVcU/VFVVVVVVxT9UVVVVVVXFP1RVVVVVVcU/VFVVVVVVxT9UVVVVVVXFP1RVVVVVVcU/cBzHcRzH0T9wHMdxHMfRP3Acx3Ecx9E/cBzHcRzH0T9wHMdxHMfRP3Acx3Ecx9E/cBzHcRzH0T9wHMdxHMfRP3Acx3Ecx9E/cBzHcRzH0T84juM4juPYPziO4ziO49g/OI7jOI7j2D84juM4juPYPziO4ziO49g/OI7jOI7j2D84juM4juPYPziO4ziO49g/OI7jOI7j2D84juM4juPYPwAAAAAAAOA/AAAAAAAA4D8AAAAAAADgPwAAAAAAAOA/AAAAAAAA4D8AAAAAAADgPwAAAAAAAOA/AAAAAAAA4D8AAAAAAADgPwAAAAAAAOA/AAAAAAAA4L8AAAAAAADgvwAAAAAAAOC/AAAAAAAA4L8AAAAAAADgvwAAAAAAAOC/AAAAAAAA4L8AAAAAAADgvwAAAAAAAOC/AAAAAAAA4L85juM4juPYvzmO4ziO49i/OY7jOI7j2L85juM4juPYvzmO4ziO49i/OY7jOI7j2L85juM4juPYvzmO4ziO49i/OY7jOI7j2L85juM4juPYv3Icx3Ecx9G/chzHcRzH0b9yHMdxHMfRv3Icx3Ecx9G/chzHcRzH0b9yHMdxHMfRv3Icx3Ecx9G/chzHcRzH0b9yHMdxHMfRv3Icx3Ecx9G/VlVVVVVVxb9WVVVVVVXFv1ZVVVVVVcW/VlVVVVVVxb9WVVVVVVXFv1ZVVVVVVcW/VlVVVVVVxb9WVVVVVVXFv1ZVVVVVVcW/VlVVVVVVxb8gx3Ecx3GsvyDHcRzHcay/IMdxHMdxrL8gx3Ecx3GsvyDHcRzHcay/IMdxHMdxrL8gx3Ecx3GsvyDHcRzHcay/IMdxHMdxrL8gx3Ecx3GsvyDHcRzHcaw/IMdxHMdxrD8gx3Ecx3GsPyDHcRzHcaw/IMdxHMdxrD8gx3Ecx3GsPyDHcRzHcaw/IMdxHMdxrD8gx3Ecx3GsPyDHcRzHcaw/VFVVVVVVxT9UVVVVVVXFP1RVVVVVVcU/VFVVVVVVxT9UVVVVVVXFP1RVVVVVVcU/VFVVVVVVxT9UVVVVVVXFP1RVVVVVVcU/VFVVVVVVxT9wHMdxHMfRP3Acx3Ecx9E/cBzHcRzH0T9wHMdxHMfRP3Acx3Ecx9E/cBzHcRzH0T9wHMdxHMfRP3Acx3Ecx9E/cBzHcRzH0T9wHMdxHMfRPziO4ziO49g/OI7jOI7j2D84juM4juPYPziO4ziO49g/OI7jOI7j2D84juM4juPYPziO4ziO49g/OI7jOI7j2D84juM4juPYPziO4ziO49g/AAAAAAAA4D8AAAAAAADgPwAAAAAAAOA/AAAAAAAA4D8AAAAAAADgPwAAAAAAAOA/AAAAAAAA4D8AAAAAAADgPwAAAAAAAOA/AAAAAAAA4D8AAAAAAADgvwAAAAAAAOC/AAAAAAAA4L8AAAAAAADgvwAAAAAAAOC/AAAAAAAA4L8AAAAAAADgvwAAAAAAAOC/AAAAAAAA4L8AAAAAAADgvzmO4ziO49i/OY7jOI7j2L85juM4juPYvzmO4ziO49i/OY7jOI7j2L85juM4juPYvzmO4ziO49i/OY7jOI7j2L85juM4juPYvzmO4ziO49i/chzHcRzH0b9yHMdxHMfRv3Icx3Ecx9G/chzHcRzH0b9yHMdxHMfRv3Icx3Ecx9G/chzHcRzH0b9yHMdxHMfRv3Icx3Ecx9G/chzHcRzH0b9WVVVVVVXFv1ZVVVVVVcW/VlVVVVVVxb9WVVVVVVXFv1ZVVVVVVcW/VlVVVVVVxb9WVVVVVVXFv1ZVVVVVVcW/VlVVVVVVxb9WVVVVVVXFvyDHcRzHcay/IMdxHMdxrL8gx3Ecx3GsvyDHcRzHcay/IMdxHMdxrL8gx3Ecx3GsvyDHcRzHcay/IMdxHMdxrL8gx3Ecx3GsvyDHcRzHcay/IMdxHMdxrD8gx3Ecx3GsPyDHcRzHcaw/IMdxHMdxrD8gx3Ecx3GsPyDHcRzHcaw/IMdxHMdxrD8gx3Ecx3GsPyDHcRzHcaw/IMdxHMdxrD9UVVVVVVXFP1RVVVVVVcU/VFVVVVVVxT9UVVVVVVXFP1RVVVVVVcU/VFVVVVVVxT9UVVVVVVXFP1RVVVVVVcU/VFVVVVVVxT9UVVVVVVXFP3Acx3Ecx9E/cBzHcRzH0T9wHMdxHMfRP3Acx3Ecx9E/cBzHcRzH0T9wHMdxHMfRP3Acx3Ecx9E/cBzHcRzH0T9wHMdxHMfRP3Acx3Ecx9E/OI7jOI7j2D84juM4juPYPziO4ziO49g/OI7jOI7j2D84juM4juPYPziO4ziO49g/OI7jOI7j2D84juM4juPYPziO4ziO49g/OI7jOI7j2D8AAAAAAADgPwAAAAAAAOA/AAAAAAAA4D8AAAAAAADgPwAAAAAAAOA/AAAAAAAA4D8AAAAAAADgPwAAAAAAAOA/AAAAAAAA4D8AAAAAAADgPwAAAAAAAOC/AAAAAAAA4L8AAAAAAADgvwAAAAAAAOC/AAAAAAAA4L8AAAAAAADgvwAAAAAAAOC/AAAAAAAA4L8AAAAAAADgvwAAAAAAAOC/OY7jOI7j2L85juM4juPYvzmO4ziO49i/OY7jOI7j2L85juM4juPYvzmO4ziO49i/OY7jOI7j2L85juM4juPYvzmO4ziO49i/OY7jOI7j2L9yHMdxHMfRv3Icx3Ecx9G/chzHcRzH0b9yHMdxHMfRv3Icx3Ecx9G/chzHcRzH0b9yHMdxHMfRv3Icx3Ecx9G/chzHcRzH0b9yHMdxHMfRv1ZVVVVVVcW/VlVVVVVVxb9WVVVVVVXFv1ZVVVVVVcW/VlVVVVVVxb9WVVVVVVXFv1ZVVVVVVcW/VlVVVVVVxb9WVVVVVVXFv1ZVVVVVVcW/IMdxHMdxrL8gx3Ecx3GsvyDHcRzHcay/IMdxHMdxrL8gx3Ecx3GsvyDHcRzHcay/IMdxHMdxrL8gx3Ecx3GsvyDHcRzHcay/IMdxHMdxrL8gx3Ecx3GsPyDHcRzHcaw/IMdxHMdxrD8gx3Ecx3GsPyDHcRzHcaw/IMdxHMdxrD8gx3Ecx3GsPyDHcRzHcaw/IMdxHMdxrD8gx3Ecx3GsP1RVVVVVVcU/VFVVVVVVxT9UVVVVVVXFP1RVVVVVVcU/VFVVVVVVxT9UVVVVVVXFP1RVVVVVVcU/VFVVVVVVxT9UVVVVVVXFP1RVVVVVVcU/cBzHcRzH0T9wHMdxHMfRP3Acx3Ecx9E/cBzHcRzH0T9wHMdxHMfRP3Acx3Ecx9E/cBzHcRzH0T9wHMdxHMfRP3Acx3Ecx9E/cBzHcRzH0T84juM4juPYPziO4ziO49g/OI7jOI7j2D84juM4juPYPziO4ziO49g/OI7jOI7j2D84juM4juPYPziO4ziO49g/OI7jOI7j2D84juM4juPYPwAAAAAAAOA/AAAAAAAA4D8AAAAAAADgPwAAAAAAAOA/AAAAAAAA4D8AAAAAAADgPwAAAAAAAOA/AAAAAAAA4D8AAAAAAADgPwAAAAAAAOA/AAAAAAAA4L8AAAAAAADgvwAAAAAAAOC/AAAAAAAA4L8AAAAAAADgvwAAAAAAAOC/AAAAAAAA4L8AAAAAAADgvwAAAAAAAOC/AAAAAAAA4L85juM4juPYvzmO4ziO49i/OY7jOI7j2L85juM4juPYvzmO4ziO49i/OY7jOI7j2L85juM4juPYvzmO4ziO49i/OY7jOI7j2L85juM4juPYv3Icx3Ecx9G/chzHcRzH0b9yHMdxHMfRv3Icx3Ecx9G/chzHcRzH0b9yHMdxHMfRv3Icx3Ecx9G/chzHcRzH0b9yHMdxHMfRv3Icx3Ecx9G/VlVVVVVVxb9WVVVVVVXFv1ZVVVVVVcW/VlVVVVVVxb9WVVVVVVXFv1ZVVVVVVcW/VlVVVVVVxb9WVVVVVVXFv1ZVVVVVVcW/VlVVVVVVxb8gx3Ecx3GsvyDHcRzHcay/IMdxHMdxrL8gx3Ecx3GsvyDHcRzHcay/IMdxHMdxrL8gx3Ecx3GsvyDHcRzHcay/IMdxHMdxrL8gx3Ecx3GsvyDHcRzHcaw/IMdxHMdxrD8gx3Ecx3GsPyDHcRzHcaw/IMdxHMdxrD8gx3Ecx3GsPyDHcRzHcaw/IMdxHMdxrD8gx3Ecx3GsPyDHcRzHcaw/VFVVVVVVxT9UVVVVVVXFP1RVVVVVVcU/VFVVVVVVxT9UVVVVVVXFP1RVVVVVVcU/VFVVVVVVxT9UVVVVVVXFP1RVVVVVVcU/VFVVVVVVxT9wHMdxHMfRP3Acx3Ecx9E/cBzHcRzH0T9wHMdxHMfRP3Acx3Ecx9E/cBzHcRzH0T9wHMdxHMfRP3Acx3Ecx9E/cBzHcRzH0T9wHMdxHMfRPziO4ziO49g/OI7jOI7j2D84juM4juPYPziO4ziO49g/OI7jOI7j2D84juM4juPYPziO4ziO49g/OI7jOI7j2D84juM4juPYPziO4ziO49g/AAAAAAAA4D8AAAAAAADgPwAAAAAAAOA/AAAAAAAA4D8AAAAAAADgPwAAAAAAAOA/AAAAAAAA4D8AAAAAAADgPwAAAAAAAOA/AAAAAAAA4D8AAAAAAADgvwAAAAAAAOC/AAAAAAAA4L8AAAAAAADgvwAAAAAAAOC/AAAAAAAA4L8AAAAAAADgvwAAAAAAAOC/AAAAAAAA4L8AAAAAAADgvzmO4ziO49i/OY7jOI7j2L85juM4juPYvzmO4ziO49i/OY7jOI7j2L85juM4juPYvzmO4ziO49i/OY7jOI7j2L85juM4juPYvzmO4ziO49i/chzHcRzH0b9yHMdxHMfRv3Icx3Ecx9G/chzHcRzH0b9yHMdxHMfRv3Icx3Ecx9G/chzHcRzH0b9yHMdxHMfRv3Icx3Ecx9G/chzHcRzH0b9WVVVVVVXFv1ZVVVVVVcW/VlVVVVVVxb9WVVVVVVXFv1ZVVVVVVcW/VlVVVVVVxb9WVVVVVVXFv1ZVVVVVVcW/VlVVVVVVxb9WVVVVVVXFvyDHcRzHcay/IMdxHMdxrL8gx3Ecx3GsvyDHcRzHcay/IMdxHMdxrL8gx3Ecx3GsvyDHcRzHcay/IMdxHMdxrL8gx3Ecx3GsvyDHcRzHcay/IMdxHMdxrD8gx3Ecx3GsPyDHcRzHcaw/IMdxHMdxrD8gx3Ecx3GsPyDHcRzHcaw/IMdxHMdxrD8gx3Ecx3GsPyDHcRzHcaw/IMdxHMdxrD9UVVVVVVXFP1RVVVVVVcU/VFVVVVVVxT9UVVVVVVXFP1RVVVVVVcU/VFVVVVVVxT9UVVVVVVXFP1RVVVVVVcU/VFVVVVVVxT9UVVVVVVXFP3Acx3Ecx9E/cBzHcRzH0T9wHMdxHMfRP3Acx3Ecx9E/cBzHcRzH0T9wHMdxHMfRP3Acx3Ecx9E/cBzHcRzH0T9wHMdxHMfRP3Acx3Ecx9E/OI7jOI7j2D84juM4juPYPziO4ziO49g/OI7jOI7j2D84juM4juPYPziO4ziO49g/OI7jOI7j2D84juM4juPYPziO4ziO49g/OI7jOI7j2D8AAAAAAADgPwAAAAAAAOA/AAAAAAAA4D8AAAAAAADgPwAAAAAAAOA/AAAAAAAA4D8AAAAAAADgPwAAAAAAAOA/AAAAAAAA4D8AAAAAAADgPwAAAAAAAOC/AAAAAAAA4L8AAAAAAADgvwAAAAAAAOC/AAAAAAAA4L8AAAAAAADgvwAAAAAAAOC/AAAAAAAA4L8AAAAAAADgvwAAAAAAAOC/OY7jOI7j2L85juM4juPYvzmO4ziO49i/OY7jOI7j2L85juM4juPYvzmO4ziO49i/OY7jOI7j2L85juM4juPYvzmO4ziO49i/OY7jOI7j2L9yHMdxHMfRv3Icx3Ecx9G/chzHcRzH0b9yHMdxHMfRv3Icx3Ecx9G/chzHcRzH0b9yHMdxHMfRv3Icx3Ecx9G/chzHcRzH0b9yHMdxHMfRv1ZVVVVVVcW/VlVVVVVVxb9WVVVVVVXFv1ZVVVVVVcW/VlVVVVVVxb9WVVVVVVXFv1ZVVVVVVcW/VlVVVVVVxb9WVVVVVVXFv1ZVVVVVVcW/IMdxHMdxrL8gx3Ecx3GsvyDHcRzHcay/IMdxHMdxrL8gx3Ecx3GsvyDHcRzHcay/IMdxHMdxrL8gx3Ecx3GsvyDHcRzHcay/IMdxHMdxrL8gx3Ecx3GsPyDHcRzHcaw/IMdxHMdxrD8gx3Ecx3GsPyDHcRzHcaw/IMdxHMdxrD8gx3Ecx3GsPyDHcRzHcaw/IMdxHMdxrD8gx3Ecx3GsP1RVVVVVVcU/VFVVVVVVxT9UVVVVVVXFP1RVVVVVVcU/VFVVVVVVxT9UVVVVVVXFP1RVVVVVVcU/VFVVVVVVxT9UVVVVVVXFP1RVVVVVVcU/cBzHcRzH0T9wHMdxHMfRP3Acx3Ecx9E/cBzHcRzH0T9wHMdxHMfRP3Acx3Ecx9E/cBzHcRzH0T9wHMdxHMfRP3Acx3Ecx9E/cBzHcRzH0T84juM4juPYPziO4ziO49g/OI7jOI7j2D84juM4juPYPziO4ziO49g/OI7jOI7j2D84juM4juPYPziO4ziO49g/OI7jOI7j2D84juM4juPYPwAAAAAAAOA/AAAAAAAA4D8AAAAAAADgPwAAAAAAAOA/AAAAAAAA4D8AAAAAAADgPwAAAAAAAOA/AAAAAAAA4D8AAAAAAADgPwAAAAAAAOA/AAAAAAAA4L8AAAAAAADgvwAAAAAAAOC/AAAAAAAA4L8AAAAAAADgvwAAAAAAAOC/AAAAAAAA4L8AAAAAAADgvwAAAAAAAOC/AAAAAAAA4L85juM4juPYvzmO4ziO49i/OY7jOI7j2L85juM4juPYvzmO4ziO49i/OY7jOI7j2L85juM4juPYvzmO4ziO49i/OY7jOI7j2L85juM4juPYv3Icx3Ecx9G/chzHcRzH0b9yHMdxHMfRv3Icx3Ecx9G/chzHcRzH0b9yHMdxHMfRv3Icx3Ecx9G/chzHcRzH0b9yHMdxHMfRv3Icx3Ecx9G/VlVVVVVVxb9WVVVVVVXFv1ZVVVVVVcW/VlVVVVVVxb9WVVVVVVXFv1ZVVVVVVcW/VlVVVVVVxb9WVVVVVVXFv1ZVVVVVVcW/VlVVVVVVxb8gx3Ecx3GsvyDHcRzHcay/IMdxHMdxrL8gx3Ecx3GsvyDHcRzHcay/IMdxHMdxrL8gx3Ecx3GsvyDHcRzHcay/IMdxHMdxrL8gx3Ecx3GsvyDHcRzHcaw/IMdxHMdxrD8gx3Ecx3GsPyDHcRzHcaw/IMdxHMdxrD8gx3Ecx3GsPyDHcRzHcaw/IMdxHMdxrD8gx3Ecx3GsPyDHcRzHcaw/VFVVVVVVxT9UVVVVVVXFP1RVVVVVVcU/VFVVVVVVxT9UVVVVVVXFP1RVVVVVVcU/VFVVVVVVxT9UVVVVVVXFP1RVVVVVVcU/VFVVVVVVxT9wHMdxHMfRP3Acx3Ecx9E/cBzHcRzH0T9wHMdxHMfRP3Acx3Ecx9E/cBzHcRzH0T9wHMdxHMfRP3Acx3Ecx9E/cBzHcRzH0T9wHMdxHMfRPziO4ziO49g/OI7jOI7j2D84juM4juPYPziO4ziO49g/OI7jOI7j2D84juM4juPYPziO4ziO49g/OI7jOI7j2D84juM4juPYPziO4ziO49g/AAAAAAAA4D8AAAAAAADgPwAAAAAAAOA/AAAAAAAA4D8AAAAAAADgPwAAAAAAAOA/AAAAAAAA4D8AAAAAAADgPwAAAAAAAOA/AAAAAAAA4D8=",
          "dtype": "f8"
         },
         "z": {
          "bdata": "AAAAAAAA4L85juM4juPYv3Icx3Ecx9G/VlVVVVVVxb8gx3Ecx3GsvyDHcRzHcaw/VFVVVVVVxT9wHMdxHMfRPziO4ziO49g/AAAAAAAA4D8AAAAAAADgvzmO4ziO49i/chzHcRzH0b9WVVVVVVXFvyDHcRzHcay/IMdxHMdxrD9UVVVVVVXFP3Acx3Ecx9E/OI7jOI7j2D8AAAAAAADgPwAAAAAAAOC/OY7jOI7j2L9yHMdxHMfRv1ZVVVVVVcW/IMdxHMdxrL8gx3Ecx3GsP1RVVVVVVcU/cBzHcRzH0T84juM4juPYPwAAAAAAAOA/AAAAAAAA4L85juM4juPYv3Icx3Ecx9G/VlVVVVVVxb8gx3Ecx3GsvyDHcRzHcaw/VFVVVVVVxT9wHMdxHMfRPziO4ziO49g/AAAAAAAA4D8AAAAAAADgvzmO4ziO49i/chzHcRzH0b9WVVVVVVXFvyDHcRzHcay/IMdxHMdxrD9UVVVVVVXFP3Acx3Ecx9E/OI7jOI7j2D8AAAAAAADgPwAAAAAAAOC/OY7jOI7j2L9yHMdxHMfRv1ZVVVVVVcW/IMdxHMdxrL8gx3Ecx3GsP1RVVVVVVcU/cBzHcRzH0T84juM4juPYPwAAAAAAAOA/AAAAAAAA4L85juM4juPYv3Icx3Ecx9G/VlVVVVVVxb8gx3Ecx3GsvyDHcRzHcaw/VFVVVVVVxT9wHMdxHMfRPziO4ziO49g/AAAAAAAA4D8AAAAAAADgvzmO4ziO49i/chzHcRzH0b9WVVVVVVXFvyDHcRzHcay/IMdxHMdxrD9UVVVVVVXFP3Acx3Ecx9E/OI7jOI7j2D8AAAAAAADgPwAAAAAAAOC/OY7jOI7j2L9yHMdxHMfRv1ZVVVVVVcW/IMdxHMdxrL8gx3Ecx3GsP1RVVVVVVcU/cBzHcRzH0T84juM4juPYPwAAAAAAAOA/AAAAAAAA4L85juM4juPYv3Icx3Ecx9G/VlVVVVVVxb8gx3Ecx3GsvyDHcRzHcaw/VFVVVVVVxT9wHMdxHMfRPziO4ziO49g/AAAAAAAA4D8AAAAAAADgvzmO4ziO49i/chzHcRzH0b9WVVVVVVXFvyDHcRzHcay/IMdxHMdxrD9UVVVVVVXFP3Acx3Ecx9E/OI7jOI7j2D8AAAAAAADgPwAAAAAAAOC/OY7jOI7j2L9yHMdxHMfRv1ZVVVVVVcW/IMdxHMdxrL8gx3Ecx3GsP1RVVVVVVcU/cBzHcRzH0T84juM4juPYPwAAAAAAAOA/AAAAAAAA4L85juM4juPYv3Icx3Ecx9G/VlVVVVVVxb8gx3Ecx3GsvyDHcRzHcaw/VFVVVVVVxT9wHMdxHMfRPziO4ziO49g/AAAAAAAA4D8AAAAAAADgvzmO4ziO49i/chzHcRzH0b9WVVVVVVXFvyDHcRzHcay/IMdxHMdxrD9UVVVVVVXFP3Acx3Ecx9E/OI7jOI7j2D8AAAAAAADgPwAAAAAAAOC/OY7jOI7j2L9yHMdxHMfRv1ZVVVVVVcW/IMdxHMdxrL8gx3Ecx3GsP1RVVVVVVcU/cBzHcRzH0T84juM4juPYPwAAAAAAAOA/AAAAAAAA4L85juM4juPYv3Icx3Ecx9G/VlVVVVVVxb8gx3Ecx3GsvyDHcRzHcaw/VFVVVVVVxT9wHMdxHMfRPziO4ziO49g/AAAAAAAA4D8AAAAAAADgvzmO4ziO49i/chzHcRzH0b9WVVVVVVXFvyDHcRzHcay/IMdxHMdxrD9UVVVVVVXFP3Acx3Ecx9E/OI7jOI7j2D8AAAAAAADgPwAAAAAAAOC/OY7jOI7j2L9yHMdxHMfRv1ZVVVVVVcW/IMdxHMdxrL8gx3Ecx3GsP1RVVVVVVcU/cBzHcRzH0T84juM4juPYPwAAAAAAAOA/AAAAAAAA4L85juM4juPYv3Icx3Ecx9G/VlVVVVVVxb8gx3Ecx3GsvyDHcRzHcaw/VFVVVVVVxT9wHMdxHMfRPziO4ziO49g/AAAAAAAA4D8AAAAAAADgvzmO4ziO49i/chzHcRzH0b9WVVVVVVXFvyDHcRzHcay/IMdxHMdxrD9UVVVVVVXFP3Acx3Ecx9E/OI7jOI7j2D8AAAAAAADgPwAAAAAAAOC/OY7jOI7j2L9yHMdxHMfRv1ZVVVVVVcW/IMdxHMdxrL8gx3Ecx3GsP1RVVVVVVcU/cBzHcRzH0T84juM4juPYPwAAAAAAAOA/AAAAAAAA4L85juM4juPYv3Icx3Ecx9G/VlVVVVVVxb8gx3Ecx3GsvyDHcRzHcaw/VFVVVVVVxT9wHMdxHMfRPziO4ziO49g/AAAAAAAA4D8AAAAAAADgvzmO4ziO49i/chzHcRzH0b9WVVVVVVXFvyDHcRzHcay/IMdxHMdxrD9UVVVVVVXFP3Acx3Ecx9E/OI7jOI7j2D8AAAAAAADgPwAAAAAAAOC/OY7jOI7j2L9yHMdxHMfRv1ZVVVVVVcW/IMdxHMdxrL8gx3Ecx3GsP1RVVVVVVcU/cBzHcRzH0T84juM4juPYPwAAAAAAAOA/AAAAAAAA4L85juM4juPYv3Icx3Ecx9G/VlVVVVVVxb8gx3Ecx3GsvyDHcRzHcaw/VFVVVVVVxT9wHMdxHMfRPziO4ziO49g/AAAAAAAA4D8AAAAAAADgvzmO4ziO49i/chzHcRzH0b9WVVVVVVXFvyDHcRzHcay/IMdxHMdxrD9UVVVVVVXFP3Acx3Ecx9E/OI7jOI7j2D8AAAAAAADgPwAAAAAAAOC/OY7jOI7j2L9yHMdxHMfRv1ZVVVVVVcW/IMdxHMdxrL8gx3Ecx3GsP1RVVVVVVcU/cBzHcRzH0T84juM4juPYPwAAAAAAAOA/AAAAAAAA4L85juM4juPYv3Icx3Ecx9G/VlVVVVVVxb8gx3Ecx3GsvyDHcRzHcaw/VFVVVVVVxT9wHMdxHMfRPziO4ziO49g/AAAAAAAA4D8AAAAAAADgvzmO4ziO49i/chzHcRzH0b9WVVVVVVXFvyDHcRzHcay/IMdxHMdxrD9UVVVVVVXFP3Acx3Ecx9E/OI7jOI7j2D8AAAAAAADgPwAAAAAAAOC/OY7jOI7j2L9yHMdxHMfRv1ZVVVVVVcW/IMdxHMdxrL8gx3Ecx3GsP1RVVVVVVcU/cBzHcRzH0T84juM4juPYPwAAAAAAAOA/AAAAAAAA4L85juM4juPYv3Icx3Ecx9G/VlVVVVVVxb8gx3Ecx3GsvyDHcRzHcaw/VFVVVVVVxT9wHMdxHMfRPziO4ziO49g/AAAAAAAA4D8AAAAAAADgvzmO4ziO49i/chzHcRzH0b9WVVVVVVXFvyDHcRzHcay/IMdxHMdxrD9UVVVVVVXFP3Acx3Ecx9E/OI7jOI7j2D8AAAAAAADgPwAAAAAAAOC/OY7jOI7j2L9yHMdxHMfRv1ZVVVVVVcW/IMdxHMdxrL8gx3Ecx3GsP1RVVVVVVcU/cBzHcRzH0T84juM4juPYPwAAAAAAAOA/AAAAAAAA4L85juM4juPYv3Icx3Ecx9G/VlVVVVVVxb8gx3Ecx3GsvyDHcRzHcaw/VFVVVVVVxT9wHMdxHMfRPziO4ziO49g/AAAAAAAA4D8AAAAAAADgvzmO4ziO49i/chzHcRzH0b9WVVVVVVXFvyDHcRzHcay/IMdxHMdxrD9UVVVVVVXFP3Acx3Ecx9E/OI7jOI7j2D8AAAAAAADgPwAAAAAAAOC/OY7jOI7j2L9yHMdxHMfRv1ZVVVVVVcW/IMdxHMdxrL8gx3Ecx3GsP1RVVVVVVcU/cBzHcRzH0T84juM4juPYPwAAAAAAAOA/AAAAAAAA4L85juM4juPYv3Icx3Ecx9G/VlVVVVVVxb8gx3Ecx3GsvyDHcRzHcaw/VFVVVVVVxT9wHMdxHMfRPziO4ziO49g/AAAAAAAA4D8AAAAAAADgvzmO4ziO49i/chzHcRzH0b9WVVVVVVXFvyDHcRzHcay/IMdxHMdxrD9UVVVVVVXFP3Acx3Ecx9E/OI7jOI7j2D8AAAAAAADgPwAAAAAAAOC/OY7jOI7j2L9yHMdxHMfRv1ZVVVVVVcW/IMdxHMdxrL8gx3Ecx3GsP1RVVVVVVcU/cBzHcRzH0T84juM4juPYPwAAAAAAAOA/AAAAAAAA4L85juM4juPYv3Icx3Ecx9G/VlVVVVVVxb8gx3Ecx3GsvyDHcRzHcaw/VFVVVVVVxT9wHMdxHMfRPziO4ziO49g/AAAAAAAA4D8AAAAAAADgvzmO4ziO49i/chzHcRzH0b9WVVVVVVXFvyDHcRzHcay/IMdxHMdxrD9UVVVVVVXFP3Acx3Ecx9E/OI7jOI7j2D8AAAAAAADgPwAAAAAAAOC/OY7jOI7j2L9yHMdxHMfRv1ZVVVVVVcW/IMdxHMdxrL8gx3Ecx3GsP1RVVVVVVcU/cBzHcRzH0T84juM4juPYPwAAAAAAAOA/AAAAAAAA4L85juM4juPYv3Icx3Ecx9G/VlVVVVVVxb8gx3Ecx3GsvyDHcRzHcaw/VFVVVVVVxT9wHMdxHMfRPziO4ziO49g/AAAAAAAA4D8AAAAAAADgvzmO4ziO49i/chzHcRzH0b9WVVVVVVXFvyDHcRzHcay/IMdxHMdxrD9UVVVVVVXFP3Acx3Ecx9E/OI7jOI7j2D8AAAAAAADgPwAAAAAAAOC/OY7jOI7j2L9yHMdxHMfRv1ZVVVVVVcW/IMdxHMdxrL8gx3Ecx3GsP1RVVVVVVcU/cBzHcRzH0T84juM4juPYPwAAAAAAAOA/AAAAAAAA4L85juM4juPYv3Icx3Ecx9G/VlVVVVVVxb8gx3Ecx3GsvyDHcRzHcaw/VFVVVVVVxT9wHMdxHMfRPziO4ziO49g/AAAAAAAA4D8AAAAAAADgvzmO4ziO49i/chzHcRzH0b9WVVVVVVXFvyDHcRzHcay/IMdxHMdxrD9UVVVVVVXFP3Acx3Ecx9E/OI7jOI7j2D8AAAAAAADgPwAAAAAAAOC/OY7jOI7j2L9yHMdxHMfRv1ZVVVVVVcW/IMdxHMdxrL8gx3Ecx3GsP1RVVVVVVcU/cBzHcRzH0T84juM4juPYPwAAAAAAAOA/AAAAAAAA4L85juM4juPYv3Icx3Ecx9G/VlVVVVVVxb8gx3Ecx3GsvyDHcRzHcaw/VFVVVVVVxT9wHMdxHMfRPziO4ziO49g/AAAAAAAA4D8AAAAAAADgvzmO4ziO49i/chzHcRzH0b9WVVVVVVXFvyDHcRzHcay/IMdxHMdxrD9UVVVVVVXFP3Acx3Ecx9E/OI7jOI7j2D8AAAAAAADgPwAAAAAAAOC/OY7jOI7j2L9yHMdxHMfRv1ZVVVVVVcW/IMdxHMdxrL8gx3Ecx3GsP1RVVVVVVcU/cBzHcRzH0T84juM4juPYPwAAAAAAAOA/AAAAAAAA4L85juM4juPYv3Icx3Ecx9G/VlVVVVVVxb8gx3Ecx3GsvyDHcRzHcaw/VFVVVVVVxT9wHMdxHMfRPziO4ziO49g/AAAAAAAA4D8AAAAAAADgvzmO4ziO49i/chzHcRzH0b9WVVVVVVXFvyDHcRzHcay/IMdxHMdxrD9UVVVVVVXFP3Acx3Ecx9E/OI7jOI7j2D8AAAAAAADgPwAAAAAAAOC/OY7jOI7j2L9yHMdxHMfRv1ZVVVVVVcW/IMdxHMdxrL8gx3Ecx3GsP1RVVVVVVcU/cBzHcRzH0T84juM4juPYPwAAAAAAAOA/AAAAAAAA4L85juM4juPYv3Icx3Ecx9G/VlVVVVVVxb8gx3Ecx3GsvyDHcRzHcaw/VFVVVVVVxT9wHMdxHMfRPziO4ziO49g/AAAAAAAA4D8AAAAAAADgvzmO4ziO49i/chzHcRzH0b9WVVVVVVXFvyDHcRzHcay/IMdxHMdxrD9UVVVVVVXFP3Acx3Ecx9E/OI7jOI7j2D8AAAAAAADgPwAAAAAAAOC/OY7jOI7j2L9yHMdxHMfRv1ZVVVVVVcW/IMdxHMdxrL8gx3Ecx3GsP1RVVVVVVcU/cBzHcRzH0T84juM4juPYPwAAAAAAAOA/AAAAAAAA4L85juM4juPYv3Icx3Ecx9G/VlVVVVVVxb8gx3Ecx3GsvyDHcRzHcaw/VFVVVVVVxT9wHMdxHMfRPziO4ziO49g/AAAAAAAA4D8AAAAAAADgvzmO4ziO49i/chzHcRzH0b9WVVVVVVXFvyDHcRzHcay/IMdxHMdxrD9UVVVVVVXFP3Acx3Ecx9E/OI7jOI7j2D8AAAAAAADgPwAAAAAAAOC/OY7jOI7j2L9yHMdxHMfRv1ZVVVVVVcW/IMdxHMdxrL8gx3Ecx3GsP1RVVVVVVcU/cBzHcRzH0T84juM4juPYPwAAAAAAAOA/AAAAAAAA4L85juM4juPYv3Icx3Ecx9G/VlVVVVVVxb8gx3Ecx3GsvyDHcRzHcaw/VFVVVVVVxT9wHMdxHMfRPziO4ziO49g/AAAAAAAA4D8AAAAAAADgvzmO4ziO49i/chzHcRzH0b9WVVVVVVXFvyDHcRzHcay/IMdxHMdxrD9UVVVVVVXFP3Acx3Ecx9E/OI7jOI7j2D8AAAAAAADgPwAAAAAAAOC/OY7jOI7j2L9yHMdxHMfRv1ZVVVVVVcW/IMdxHMdxrL8gx3Ecx3GsP1RVVVVVVcU/cBzHcRzH0T84juM4juPYPwAAAAAAAOA/AAAAAAAA4L85juM4juPYv3Icx3Ecx9G/VlVVVVVVxb8gx3Ecx3GsvyDHcRzHcaw/VFVVVVVVxT9wHMdxHMfRPziO4ziO49g/AAAAAAAA4D8AAAAAAADgvzmO4ziO49i/chzHcRzH0b9WVVVVVVXFvyDHcRzHcay/IMdxHMdxrD9UVVVVVVXFP3Acx3Ecx9E/OI7jOI7j2D8AAAAAAADgPwAAAAAAAOC/OY7jOI7j2L9yHMdxHMfRv1ZVVVVVVcW/IMdxHMdxrL8gx3Ecx3GsP1RVVVVVVcU/cBzHcRzH0T84juM4juPYPwAAAAAAAOA/AAAAAAAA4L85juM4juPYv3Icx3Ecx9G/VlVVVVVVxb8gx3Ecx3GsvyDHcRzHcaw/VFVVVVVVxT9wHMdxHMfRPziO4ziO49g/AAAAAAAA4D8AAAAAAADgvzmO4ziO49i/chzHcRzH0b9WVVVVVVXFvyDHcRzHcay/IMdxHMdxrD9UVVVVVVXFP3Acx3Ecx9E/OI7jOI7j2D8AAAAAAADgPwAAAAAAAOC/OY7jOI7j2L9yHMdxHMfRv1ZVVVVVVcW/IMdxHMdxrL8gx3Ecx3GsP1RVVVVVVcU/cBzHcRzH0T84juM4juPYPwAAAAAAAOA/AAAAAAAA4L85juM4juPYv3Icx3Ecx9G/VlVVVVVVxb8gx3Ecx3GsvyDHcRzHcaw/VFVVVVVVxT9wHMdxHMfRPziO4ziO49g/AAAAAAAA4D8AAAAAAADgvzmO4ziO49i/chzHcRzH0b9WVVVVVVXFvyDHcRzHcay/IMdxHMdxrD9UVVVVVVXFP3Acx3Ecx9E/OI7jOI7j2D8AAAAAAADgPwAAAAAAAOC/OY7jOI7j2L9yHMdxHMfRv1ZVVVVVVcW/IMdxHMdxrL8gx3Ecx3GsP1RVVVVVVcU/cBzHcRzH0T84juM4juPYPwAAAAAAAOA/AAAAAAAA4L85juM4juPYv3Icx3Ecx9G/VlVVVVVVxb8gx3Ecx3GsvyDHcRzHcaw/VFVVVVVVxT9wHMdxHMfRPziO4ziO49g/AAAAAAAA4D8AAAAAAADgvzmO4ziO49i/chzHcRzH0b9WVVVVVVXFvyDHcRzHcay/IMdxHMdxrD9UVVVVVVXFP3Acx3Ecx9E/OI7jOI7j2D8AAAAAAADgPwAAAAAAAOC/OY7jOI7j2L9yHMdxHMfRv1ZVVVVVVcW/IMdxHMdxrL8gx3Ecx3GsP1RVVVVVVcU/cBzHcRzH0T84juM4juPYPwAAAAAAAOA/AAAAAAAA4L85juM4juPYv3Icx3Ecx9G/VlVVVVVVxb8gx3Ecx3GsvyDHcRzHcaw/VFVVVVVVxT9wHMdxHMfRPziO4ziO49g/AAAAAAAA4D8AAAAAAADgvzmO4ziO49i/chzHcRzH0b9WVVVVVVXFvyDHcRzHcay/IMdxHMdxrD9UVVVVVVXFP3Acx3Ecx9E/OI7jOI7j2D8AAAAAAADgPwAAAAAAAOC/OY7jOI7j2L9yHMdxHMfRv1ZVVVVVVcW/IMdxHMdxrL8gx3Ecx3GsP1RVVVVVVcU/cBzHcRzH0T84juM4juPYPwAAAAAAAOA/AAAAAAAA4L85juM4juPYv3Icx3Ecx9G/VlVVVVVVxb8gx3Ecx3GsvyDHcRzHcaw/VFVVVVVVxT9wHMdxHMfRPziO4ziO49g/AAAAAAAA4D8AAAAAAADgvzmO4ziO49i/chzHcRzH0b9WVVVVVVXFvyDHcRzHcay/IMdxHMdxrD9UVVVVVVXFP3Acx3Ecx9E/OI7jOI7j2D8AAAAAAADgPwAAAAAAAOC/OY7jOI7j2L9yHMdxHMfRv1ZVVVVVVcW/IMdxHMdxrL8gx3Ecx3GsP1RVVVVVVcU/cBzHcRzH0T84juM4juPYPwAAAAAAAOA/AAAAAAAA4L85juM4juPYv3Icx3Ecx9G/VlVVVVVVxb8gx3Ecx3GsvyDHcRzHcaw/VFVVVVVVxT9wHMdxHMfRPziO4ziO49g/AAAAAAAA4D8AAAAAAADgvzmO4ziO49i/chzHcRzH0b9WVVVVVVXFvyDHcRzHcay/IMdxHMdxrD9UVVVVVVXFP3Acx3Ecx9E/OI7jOI7j2D8AAAAAAADgPwAAAAAAAOC/OY7jOI7j2L9yHMdxHMfRv1ZVVVVVVcW/IMdxHMdxrL8gx3Ecx3GsP1RVVVVVVcU/cBzHcRzH0T84juM4juPYPwAAAAAAAOA/AAAAAAAA4L85juM4juPYv3Icx3Ecx9G/VlVVVVVVxb8gx3Ecx3GsvyDHcRzHcaw/VFVVVVVVxT9wHMdxHMfRPziO4ziO49g/AAAAAAAA4D8AAAAAAADgvzmO4ziO49i/chzHcRzH0b9WVVVVVVXFvyDHcRzHcay/IMdxHMdxrD9UVVVVVVXFP3Acx3Ecx9E/OI7jOI7j2D8AAAAAAADgPwAAAAAAAOC/OY7jOI7j2L9yHMdxHMfRv1ZVVVVVVcW/IMdxHMdxrL8gx3Ecx3GsP1RVVVVVVcU/cBzHcRzH0T84juM4juPYPwAAAAAAAOA/AAAAAAAA4L85juM4juPYv3Icx3Ecx9G/VlVVVVVVxb8gx3Ecx3GsvyDHcRzHcaw/VFVVVVVVxT9wHMdxHMfRPziO4ziO49g/AAAAAAAA4D8AAAAAAADgvzmO4ziO49i/chzHcRzH0b9WVVVVVVXFvyDHcRzHcay/IMdxHMdxrD9UVVVVVVXFP3Acx3Ecx9E/OI7jOI7j2D8AAAAAAADgPwAAAAAAAOC/OY7jOI7j2L9yHMdxHMfRv1ZVVVVVVcW/IMdxHMdxrL8gx3Ecx3GsP1RVVVVVVcU/cBzHcRzH0T84juM4juPYPwAAAAAAAOA/AAAAAAAA4L85juM4juPYv3Icx3Ecx9G/VlVVVVVVxb8gx3Ecx3GsvyDHcRzHcaw/VFVVVVVVxT9wHMdxHMfRPziO4ziO49g/AAAAAAAA4D8AAAAAAADgvzmO4ziO49i/chzHcRzH0b9WVVVVVVXFvyDHcRzHcay/IMdxHMdxrD9UVVVVVVXFP3Acx3Ecx9E/OI7jOI7j2D8AAAAAAADgPwAAAAAAAOC/OY7jOI7j2L9yHMdxHMfRv1ZVVVVVVcW/IMdxHMdxrL8gx3Ecx3GsP1RVVVVVVcU/cBzHcRzH0T84juM4juPYPwAAAAAAAOA/AAAAAAAA4L85juM4juPYv3Icx3Ecx9G/VlVVVVVVxb8gx3Ecx3GsvyDHcRzHcaw/VFVVVVVVxT9wHMdxHMfRPziO4ziO49g/AAAAAAAA4D8AAAAAAADgvzmO4ziO49i/chzHcRzH0b9WVVVVVVXFvyDHcRzHcay/IMdxHMdxrD9UVVVVVVXFP3Acx3Ecx9E/OI7jOI7j2D8AAAAAAADgPwAAAAAAAOC/OY7jOI7j2L9yHMdxHMfRv1ZVVVVVVcW/IMdxHMdxrL8gx3Ecx3GsP1RVVVVVVcU/cBzHcRzH0T84juM4juPYPwAAAAAAAOA/AAAAAAAA4L85juM4juPYv3Icx3Ecx9G/VlVVVVVVxb8gx3Ecx3GsvyDHcRzHcaw/VFVVVVVVxT9wHMdxHMfRPziO4ziO49g/AAAAAAAA4D8AAAAAAADgvzmO4ziO49i/chzHcRzH0b9WVVVVVVXFvyDHcRzHcay/IMdxHMdxrD9UVVVVVVXFP3Acx3Ecx9E/OI7jOI7j2D8AAAAAAADgPwAAAAAAAOC/OY7jOI7j2L9yHMdxHMfRv1ZVVVVVVcW/IMdxHMdxrL8gx3Ecx3GsP1RVVVVVVcU/cBzHcRzH0T84juM4juPYPwAAAAAAAOA/AAAAAAAA4L85juM4juPYv3Icx3Ecx9G/VlVVVVVVxb8gx3Ecx3GsvyDHcRzHcaw/VFVVVVVVxT9wHMdxHMfRPziO4ziO49g/AAAAAAAA4D8=",
          "dtype": "f8"
         }
        }
       ],
       "layout": {
        "scene": {
         "xaxis": {
          "title": {
           "text": "X"
          }
         },
         "yaxis": {
          "title": {
           "text": "Y"
          }
         },
         "zaxis": {
          "title": {
           "text": "Z"
          }
         }
        },
        "template": {
         "data": {
          "bar": [
           {
            "error_x": {
             "color": "#2a3f5f"
            },
            "error_y": {
             "color": "#2a3f5f"
            },
            "marker": {
             "line": {
              "color": "#E5ECF6",
              "width": 0.5
             },
             "pattern": {
              "fillmode": "overlay",
              "size": 10,
              "solidity": 0.2
             }
            },
            "type": "bar"
           }
          ],
          "barpolar": [
           {
            "marker": {
             "line": {
              "color": "#E5ECF6",
              "width": 0.5
             },
             "pattern": {
              "fillmode": "overlay",
              "size": 10,
              "solidity": 0.2
             }
            },
            "type": "barpolar"
           }
          ],
          "carpet": [
           {
            "aaxis": {
             "endlinecolor": "#2a3f5f",
             "gridcolor": "white",
             "linecolor": "white",
             "minorgridcolor": "white",
             "startlinecolor": "#2a3f5f"
            },
            "baxis": {
             "endlinecolor": "#2a3f5f",
             "gridcolor": "white",
             "linecolor": "white",
             "minorgridcolor": "white",
             "startlinecolor": "#2a3f5f"
            },
            "type": "carpet"
           }
          ],
          "choropleth": [
           {
            "colorbar": {
             "outlinewidth": 0,
             "ticks": ""
            },
            "type": "choropleth"
           }
          ],
          "contour": [
           {
            "colorbar": {
             "outlinewidth": 0,
             "ticks": ""
            },
            "colorscale": [
             [
              0,
              "#0d0887"
             ],
             [
              0.1111111111111111,
              "#46039f"
             ],
             [
              0.2222222222222222,
              "#7201a8"
             ],
             [
              0.3333333333333333,
              "#9c179e"
             ],
             [
              0.4444444444444444,
              "#bd3786"
             ],
             [
              0.5555555555555556,
              "#d8576b"
             ],
             [
              0.6666666666666666,
              "#ed7953"
             ],
             [
              0.7777777777777778,
              "#fb9f3a"
             ],
             [
              0.8888888888888888,
              "#fdca26"
             ],
             [
              1,
              "#f0f921"
             ]
            ],
            "type": "contour"
           }
          ],
          "contourcarpet": [
           {
            "colorbar": {
             "outlinewidth": 0,
             "ticks": ""
            },
            "type": "contourcarpet"
           }
          ],
          "heatmap": [
           {
            "colorbar": {
             "outlinewidth": 0,
             "ticks": ""
            },
            "colorscale": [
             [
              0,
              "#0d0887"
             ],
             [
              0.1111111111111111,
              "#46039f"
             ],
             [
              0.2222222222222222,
              "#7201a8"
             ],
             [
              0.3333333333333333,
              "#9c179e"
             ],
             [
              0.4444444444444444,
              "#bd3786"
             ],
             [
              0.5555555555555556,
              "#d8576b"
             ],
             [
              0.6666666666666666,
              "#ed7953"
             ],
             [
              0.7777777777777778,
              "#fb9f3a"
             ],
             [
              0.8888888888888888,
              "#fdca26"
             ],
             [
              1,
              "#f0f921"
             ]
            ],
            "type": "heatmap"
           }
          ],
          "histogram": [
           {
            "marker": {
             "pattern": {
              "fillmode": "overlay",
              "size": 10,
              "solidity": 0.2
             }
            },
            "type": "histogram"
           }
          ],
          "histogram2d": [
           {
            "colorbar": {
             "outlinewidth": 0,
             "ticks": ""
            },
            "colorscale": [
             [
              0,
              "#0d0887"
             ],
             [
              0.1111111111111111,
              "#46039f"
             ],
             [
              0.2222222222222222,
              "#7201a8"
             ],
             [
              0.3333333333333333,
              "#9c179e"
             ],
             [
              0.4444444444444444,
              "#bd3786"
             ],
             [
              0.5555555555555556,
              "#d8576b"
             ],
             [
              0.6666666666666666,
              "#ed7953"
             ],
             [
              0.7777777777777778,
              "#fb9f3a"
             ],
             [
              0.8888888888888888,
              "#fdca26"
             ],
             [
              1,
              "#f0f921"
             ]
            ],
            "type": "histogram2d"
           }
          ],
          "histogram2dcontour": [
           {
            "colorbar": {
             "outlinewidth": 0,
             "ticks": ""
            },
            "colorscale": [
             [
              0,
              "#0d0887"
             ],
             [
              0.1111111111111111,
              "#46039f"
             ],
             [
              0.2222222222222222,
              "#7201a8"
             ],
             [
              0.3333333333333333,
              "#9c179e"
             ],
             [
              0.4444444444444444,
              "#bd3786"
             ],
             [
              0.5555555555555556,
              "#d8576b"
             ],
             [
              0.6666666666666666,
              "#ed7953"
             ],
             [
              0.7777777777777778,
              "#fb9f3a"
             ],
             [
              0.8888888888888888,
              "#fdca26"
             ],
             [
              1,
              "#f0f921"
             ]
            ],
            "type": "histogram2dcontour"
           }
          ],
          "mesh3d": [
           {
            "colorbar": {
             "outlinewidth": 0,
             "ticks": ""
            },
            "type": "mesh3d"
           }
          ],
          "parcoords": [
           {
            "line": {
             "colorbar": {
              "outlinewidth": 0,
              "ticks": ""
             }
            },
            "type": "parcoords"
           }
          ],
          "pie": [
           {
            "automargin": true,
            "type": "pie"
           }
          ],
          "scatter": [
           {
            "fillpattern": {
             "fillmode": "overlay",
             "size": 10,
             "solidity": 0.2
            },
            "type": "scatter"
           }
          ],
          "scatter3d": [
           {
            "line": {
             "colorbar": {
              "outlinewidth": 0,
              "ticks": ""
             }
            },
            "marker": {
             "colorbar": {
              "outlinewidth": 0,
              "ticks": ""
             }
            },
            "type": "scatter3d"
           }
          ],
          "scattercarpet": [
           {
            "marker": {
             "colorbar": {
              "outlinewidth": 0,
              "ticks": ""
             }
            },
            "type": "scattercarpet"
           }
          ],
          "scattergeo": [
           {
            "marker": {
             "colorbar": {
              "outlinewidth": 0,
              "ticks": ""
             }
            },
            "type": "scattergeo"
           }
          ],
          "scattergl": [
           {
            "marker": {
             "colorbar": {
              "outlinewidth": 0,
              "ticks": ""
             }
            },
            "type": "scattergl"
           }
          ],
          "scattermap": [
           {
            "marker": {
             "colorbar": {
              "outlinewidth": 0,
              "ticks": ""
             }
            },
            "type": "scattermap"
           }
          ],
          "scattermapbox": [
           {
            "marker": {
             "colorbar": {
              "outlinewidth": 0,
              "ticks": ""
             }
            },
            "type": "scattermapbox"
           }
          ],
          "scatterpolar": [
           {
            "marker": {
             "colorbar": {
              "outlinewidth": 0,
              "ticks": ""
             }
            },
            "type": "scatterpolar"
           }
          ],
          "scatterpolargl": [
           {
            "marker": {
             "colorbar": {
              "outlinewidth": 0,
              "ticks": ""
             }
            },
            "type": "scatterpolargl"
           }
          ],
          "scatterternary": [
           {
            "marker": {
             "colorbar": {
              "outlinewidth": 0,
              "ticks": ""
             }
            },
            "type": "scatterternary"
           }
          ],
          "surface": [
           {
            "colorbar": {
             "outlinewidth": 0,
             "ticks": ""
            },
            "colorscale": [
             [
              0,
              "#0d0887"
             ],
             [
              0.1111111111111111,
              "#46039f"
             ],
             [
              0.2222222222222222,
              "#7201a8"
             ],
             [
              0.3333333333333333,
              "#9c179e"
             ],
             [
              0.4444444444444444,
              "#bd3786"
             ],
             [
              0.5555555555555556,
              "#d8576b"
             ],
             [
              0.6666666666666666,
              "#ed7953"
             ],
             [
              0.7777777777777778,
              "#fb9f3a"
             ],
             [
              0.8888888888888888,
              "#fdca26"
             ],
             [
              1,
              "#f0f921"
             ]
            ],
            "type": "surface"
           }
          ],
          "table": [
           {
            "cells": {
             "fill": {
              "color": "#EBF0F8"
             },
             "line": {
              "color": "white"
             }
            },
            "header": {
             "fill": {
              "color": "#C8D4E3"
             },
             "line": {
              "color": "white"
             }
            },
            "type": "table"
           }
          ]
         },
         "layout": {
          "annotationdefaults": {
           "arrowcolor": "#2a3f5f",
           "arrowhead": 0,
           "arrowwidth": 1
          },
          "autotypenumbers": "strict",
          "coloraxis": {
           "colorbar": {
            "outlinewidth": 0,
            "ticks": ""
           }
          },
          "colorscale": {
           "diverging": [
            [
             0,
             "#8e0152"
            ],
            [
             0.1,
             "#c51b7d"
            ],
            [
             0.2,
             "#de77ae"
            ],
            [
             0.3,
             "#f1b6da"
            ],
            [
             0.4,
             "#fde0ef"
            ],
            [
             0.5,
             "#f7f7f7"
            ],
            [
             0.6,
             "#e6f5d0"
            ],
            [
             0.7,
             "#b8e186"
            ],
            [
             0.8,
             "#7fbc41"
            ],
            [
             0.9,
             "#4d9221"
            ],
            [
             1,
             "#276419"
            ]
           ],
           "sequential": [
            [
             0,
             "#0d0887"
            ],
            [
             0.1111111111111111,
             "#46039f"
            ],
            [
             0.2222222222222222,
             "#7201a8"
            ],
            [
             0.3333333333333333,
             "#9c179e"
            ],
            [
             0.4444444444444444,
             "#bd3786"
            ],
            [
             0.5555555555555556,
             "#d8576b"
            ],
            [
             0.6666666666666666,
             "#ed7953"
            ],
            [
             0.7777777777777778,
             "#fb9f3a"
            ],
            [
             0.8888888888888888,
             "#fdca26"
            ],
            [
             1,
             "#f0f921"
            ]
           ],
           "sequentialminus": [
            [
             0,
             "#0d0887"
            ],
            [
             0.1111111111111111,
             "#46039f"
            ],
            [
             0.2222222222222222,
             "#7201a8"
            ],
            [
             0.3333333333333333,
             "#9c179e"
            ],
            [
             0.4444444444444444,
             "#bd3786"
            ],
            [
             0.5555555555555556,
             "#d8576b"
            ],
            [
             0.6666666666666666,
             "#ed7953"
            ],
            [
             0.7777777777777778,
             "#fb9f3a"
            ],
            [
             0.8888888888888888,
             "#fdca26"
            ],
            [
             1,
             "#f0f921"
            ]
           ]
          },
          "colorway": [
           "#636efa",
           "#EF553B",
           "#00cc96",
           "#ab63fa",
           "#FFA15A",
           "#19d3f3",
           "#FF6692",
           "#B6E880",
           "#FF97FF",
           "#FECB52"
          ],
          "font": {
           "color": "#2a3f5f"
          },
          "geo": {
           "bgcolor": "white",
           "lakecolor": "white",
           "landcolor": "#E5ECF6",
           "showlakes": true,
           "showland": true,
           "subunitcolor": "white"
          },
          "hoverlabel": {
           "align": "left"
          },
          "hovermode": "closest",
          "mapbox": {
           "style": "light"
          },
          "paper_bgcolor": "white",
          "plot_bgcolor": "#E5ECF6",
          "polar": {
           "angularaxis": {
            "gridcolor": "white",
            "linecolor": "white",
            "ticks": ""
           },
           "bgcolor": "#E5ECF6",
           "radialaxis": {
            "gridcolor": "white",
            "linecolor": "white",
            "ticks": ""
           }
          },
          "scene": {
           "xaxis": {
            "backgroundcolor": "#E5ECF6",
            "gridcolor": "white",
            "gridwidth": 2,
            "linecolor": "white",
            "showbackground": true,
            "ticks": "",
            "zerolinecolor": "white"
           },
           "yaxis": {
            "backgroundcolor": "#E5ECF6",
            "gridcolor": "white",
            "gridwidth": 2,
            "linecolor": "white",
            "showbackground": true,
            "ticks": "",
            "zerolinecolor": "white"
           },
           "zaxis": {
            "backgroundcolor": "#E5ECF6",
            "gridcolor": "white",
            "gridwidth": 2,
            "linecolor": "white",
            "showbackground": true,
            "ticks": "",
            "zerolinecolor": "white"
           }
          },
          "shapedefaults": {
           "line": {
            "color": "#2a3f5f"
           }
          },
          "ternary": {
           "aaxis": {
            "gridcolor": "white",
            "linecolor": "white",
            "ticks": ""
           },
           "baxis": {
            "gridcolor": "white",
            "linecolor": "white",
            "ticks": ""
           },
           "bgcolor": "#E5ECF6",
           "caxis": {
            "gridcolor": "white",
            "linecolor": "white",
            "ticks": ""
           }
          },
          "title": {
           "x": 0.05
          },
          "xaxis": {
           "automargin": true,
           "gridcolor": "white",
           "linecolor": "white",
           "ticks": "",
           "title": {
            "standoff": 15
           },
           "zerolinecolor": "white",
           "zerolinewidth": 2
          },
          "yaxis": {
           "automargin": true,
           "gridcolor": "white",
           "linecolor": "white",
           "ticks": "",
           "title": {
            "standoff": 15
           },
           "zerolinecolor": "white",
           "zerolinewidth": 2
          }
         }
        },
        "title": {
         "text": "Div free output from GP Regression for n = 100 input vectors for current carrying wire"
        }
       }
      }
     },
     "metadata": {},
     "output_type": "display_data"
    }
   ],
   "source": [
    "given_samples_wire = sampled_outputs_wire[0].shape[0]\n",
    "plotter(outputs_wire_div_free, \n",
    "        title = f'Div free output from GP Regression for n = {given_samples_wire} input vectors for current carrying wire')"
   ]
  },
  {
   "cell_type": "code",
   "execution_count": 115,
   "id": "c7cdeed7",
   "metadata": {},
   "outputs": [
    {
     "name": "stdout",
     "output_type": "stream",
     "text": [
      "MSE for this case of 34.49213579869164\n"
     ]
    },
    {
     "data": {
      "application/vnd.plotly.v1+json": {
       "config": {
        "plotlyServerURL": "https://plot.ly"
       },
       "data": [
        {
         "anchor": "tail",
         "sizemode": "scaled",
         "sizeref": 2,
         "type": "cone",
         "u": {
          "bdata": "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",
          "dtype": "f8"
         },
         "v": {
          "bdata": "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",
          "dtype": "f8"
         },
         "w": {
          "bdata": "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",
          "dtype": "f8"
         },
         "x": {
          "bdata": "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",
          "dtype": "f8"
         },
         "y": {
          "bdata": "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",
          "dtype": "f8"
         },
         "z": {
          "bdata": "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",
          "dtype": "f8"
         }
        }
       ],
       "layout": {
        "scene": {
         "xaxis": {
          "title": {
           "text": "X"
          }
         },
         "yaxis": {
          "title": {
           "text": "Y"
          }
         },
         "zaxis": {
          "title": {
           "text": "Z"
          }
         }
        },
        "template": {
         "data": {
          "bar": [
           {
            "error_x": {
             "color": "#2a3f5f"
            },
            "error_y": {
             "color": "#2a3f5f"
            },
            "marker": {
             "line": {
              "color": "#E5ECF6",
              "width": 0.5
             },
             "pattern": {
              "fillmode": "overlay",
              "size": 10,
              "solidity": 0.2
             }
            },
            "type": "bar"
           }
          ],
          "barpolar": [
           {
            "marker": {
             "line": {
              "color": "#E5ECF6",
              "width": 0.5
             },
             "pattern": {
              "fillmode": "overlay",
              "size": 10,
              "solidity": 0.2
             }
            },
            "type": "barpolar"
           }
          ],
          "carpet": [
           {
            "aaxis": {
             "endlinecolor": "#2a3f5f",
             "gridcolor": "white",
             "linecolor": "white",
             "minorgridcolor": "white",
             "startlinecolor": "#2a3f5f"
            },
            "baxis": {
             "endlinecolor": "#2a3f5f",
             "gridcolor": "white",
             "linecolor": "white",
             "minorgridcolor": "white",
             "startlinecolor": "#2a3f5f"
            },
            "type": "carpet"
           }
          ],
          "choropleth": [
           {
            "colorbar": {
             "outlinewidth": 0,
             "ticks": ""
            },
            "type": "choropleth"
           }
          ],
          "contour": [
           {
            "colorbar": {
             "outlinewidth": 0,
             "ticks": ""
            },
            "colorscale": [
             [
              0,
              "#0d0887"
             ],
             [
              0.1111111111111111,
              "#46039f"
             ],
             [
              0.2222222222222222,
              "#7201a8"
             ],
             [
              0.3333333333333333,
              "#9c179e"
             ],
             [
              0.4444444444444444,
              "#bd3786"
             ],
             [
              0.5555555555555556,
              "#d8576b"
             ],
             [
              0.6666666666666666,
              "#ed7953"
             ],
             [
              0.7777777777777778,
              "#fb9f3a"
             ],
             [
              0.8888888888888888,
              "#fdca26"
             ],
             [
              1,
              "#f0f921"
             ]
            ],
            "type": "contour"
           }
          ],
          "contourcarpet": [
           {
            "colorbar": {
             "outlinewidth": 0,
             "ticks": ""
            },
            "type": "contourcarpet"
           }
          ],
          "heatmap": [
           {
            "colorbar": {
             "outlinewidth": 0,
             "ticks": ""
            },
            "colorscale": [
             [
              0,
              "#0d0887"
             ],
             [
              0.1111111111111111,
              "#46039f"
             ],
             [
              0.2222222222222222,
              "#7201a8"
             ],
             [
              0.3333333333333333,
              "#9c179e"
             ],
             [
              0.4444444444444444,
              "#bd3786"
             ],
             [
              0.5555555555555556,
              "#d8576b"
             ],
             [
              0.6666666666666666,
              "#ed7953"
             ],
             [
              0.7777777777777778,
              "#fb9f3a"
             ],
             [
              0.8888888888888888,
              "#fdca26"
             ],
             [
              1,
              "#f0f921"
             ]
            ],
            "type": "heatmap"
           }
          ],
          "histogram": [
           {
            "marker": {
             "pattern": {
              "fillmode": "overlay",
              "size": 10,
              "solidity": 0.2
             }
            },
            "type": "histogram"
           }
          ],
          "histogram2d": [
           {
            "colorbar": {
             "outlinewidth": 0,
             "ticks": ""
            },
            "colorscale": [
             [
              0,
              "#0d0887"
             ],
             [
              0.1111111111111111,
              "#46039f"
             ],
             [
              0.2222222222222222,
              "#7201a8"
             ],
             [
              0.3333333333333333,
              "#9c179e"
             ],
             [
              0.4444444444444444,
              "#bd3786"
             ],
             [
              0.5555555555555556,
              "#d8576b"
             ],
             [
              0.6666666666666666,
              "#ed7953"
             ],
             [
              0.7777777777777778,
              "#fb9f3a"
             ],
             [
              0.8888888888888888,
              "#fdca26"
             ],
             [
              1,
              "#f0f921"
             ]
            ],
            "type": "histogram2d"
           }
          ],
          "histogram2dcontour": [
           {
            "colorbar": {
             "outlinewidth": 0,
             "ticks": ""
            },
            "colorscale": [
             [
              0,
              "#0d0887"
             ],
             [
              0.1111111111111111,
              "#46039f"
             ],
             [
              0.2222222222222222,
              "#7201a8"
             ],
             [
              0.3333333333333333,
              "#9c179e"
             ],
             [
              0.4444444444444444,
              "#bd3786"
             ],
             [
              0.5555555555555556,
              "#d8576b"
             ],
             [
              0.6666666666666666,
              "#ed7953"
             ],
             [
              0.7777777777777778,
              "#fb9f3a"
             ],
             [
              0.8888888888888888,
              "#fdca26"
             ],
             [
              1,
              "#f0f921"
             ]
            ],
            "type": "histogram2dcontour"
           }
          ],
          "mesh3d": [
           {
            "colorbar": {
             "outlinewidth": 0,
             "ticks": ""
            },
            "type": "mesh3d"
           }
          ],
          "parcoords": [
           {
            "line": {
             "colorbar": {
              "outlinewidth": 0,
              "ticks": ""
             }
            },
            "type": "parcoords"
           }
          ],
          "pie": [
           {
            "automargin": true,
            "type": "pie"
           }
          ],
          "scatter": [
           {
            "fillpattern": {
             "fillmode": "overlay",
             "size": 10,
             "solidity": 0.2
            },
            "type": "scatter"
           }
          ],
          "scatter3d": [
           {
            "line": {
             "colorbar": {
              "outlinewidth": 0,
              "ticks": ""
             }
            },
            "marker": {
             "colorbar": {
              "outlinewidth": 0,
              "ticks": ""
             }
            },
            "type": "scatter3d"
           }
          ],
          "scattercarpet": [
           {
            "marker": {
             "colorbar": {
              "outlinewidth": 0,
              "ticks": ""
             }
            },
            "type": "scattercarpet"
           }
          ],
          "scattergeo": [
           {
            "marker": {
             "colorbar": {
              "outlinewidth": 0,
              "ticks": ""
             }
            },
            "type": "scattergeo"
           }
          ],
          "scattergl": [
           {
            "marker": {
             "colorbar": {
              "outlinewidth": 0,
              "ticks": ""
             }
            },
            "type": "scattergl"
           }
          ],
          "scattermap": [
           {
            "marker": {
             "colorbar": {
              "outlinewidth": 0,
              "ticks": ""
             }
            },
            "type": "scattermap"
           }
          ],
          "scattermapbox": [
           {
            "marker": {
             "colorbar": {
              "outlinewidth": 0,
              "ticks": ""
             }
            },
            "type": "scattermapbox"
           }
          ],
          "scatterpolar": [
           {
            "marker": {
             "colorbar": {
              "outlinewidth": 0,
              "ticks": ""
             }
            },
            "type": "scatterpolar"
           }
          ],
          "scatterpolargl": [
           {
            "marker": {
             "colorbar": {
              "outlinewidth": 0,
              "ticks": ""
             }
            },
            "type": "scatterpolargl"
           }
          ],
          "scatterternary": [
           {
            "marker": {
             "colorbar": {
              "outlinewidth": 0,
              "ticks": ""
             }
            },
            "type": "scatterternary"
           }
          ],
          "surface": [
           {
            "colorbar": {
             "outlinewidth": 0,
             "ticks": ""
            },
            "colorscale": [
             [
              0,
              "#0d0887"
             ],
             [
              0.1111111111111111,
              "#46039f"
             ],
             [
              0.2222222222222222,
              "#7201a8"
             ],
             [
              0.3333333333333333,
              "#9c179e"
             ],
             [
              0.4444444444444444,
              "#bd3786"
             ],
             [
              0.5555555555555556,
              "#d8576b"
             ],
             [
              0.6666666666666666,
              "#ed7953"
             ],
             [
              0.7777777777777778,
              "#fb9f3a"
             ],
             [
              0.8888888888888888,
              "#fdca26"
             ],
             [
              1,
              "#f0f921"
             ]
            ],
            "type": "surface"
           }
          ],
          "table": [
           {
            "cells": {
             "fill": {
              "color": "#EBF0F8"
             },
             "line": {
              "color": "white"
             }
            },
            "header": {
             "fill": {
              "color": "#C8D4E3"
             },
             "line": {
              "color": "white"
             }
            },
            "type": "table"
           }
          ]
         },
         "layout": {
          "annotationdefaults": {
           "arrowcolor": "#2a3f5f",
           "arrowhead": 0,
           "arrowwidth": 1
          },
          "autotypenumbers": "strict",
          "coloraxis": {
           "colorbar": {
            "outlinewidth": 0,
            "ticks": ""
           }
          },
          "colorscale": {
           "diverging": [
            [
             0,
             "#8e0152"
            ],
            [
             0.1,
             "#c51b7d"
            ],
            [
             0.2,
             "#de77ae"
            ],
            [
             0.3,
             "#f1b6da"
            ],
            [
             0.4,
             "#fde0ef"
            ],
            [
             0.5,
             "#f7f7f7"
            ],
            [
             0.6,
             "#e6f5d0"
            ],
            [
             0.7,
             "#b8e186"
            ],
            [
             0.8,
             "#7fbc41"
            ],
            [
             0.9,
             "#4d9221"
            ],
            [
             1,
             "#276419"
            ]
           ],
           "sequential": [
            [
             0,
             "#0d0887"
            ],
            [
             0.1111111111111111,
             "#46039f"
            ],
            [
             0.2222222222222222,
             "#7201a8"
            ],
            [
             0.3333333333333333,
             "#9c179e"
            ],
            [
             0.4444444444444444,
             "#bd3786"
            ],
            [
             0.5555555555555556,
             "#d8576b"
            ],
            [
             0.6666666666666666,
             "#ed7953"
            ],
            [
             0.7777777777777778,
             "#fb9f3a"
            ],
            [
             0.8888888888888888,
             "#fdca26"
            ],
            [
             1,
             "#f0f921"
            ]
           ],
           "sequentialminus": [
            [
             0,
             "#0d0887"
            ],
            [
             0.1111111111111111,
             "#46039f"
            ],
            [
             0.2222222222222222,
             "#7201a8"
            ],
            [
             0.3333333333333333,
             "#9c179e"
            ],
            [
             0.4444444444444444,
             "#bd3786"
            ],
            [
             0.5555555555555556,
             "#d8576b"
            ],
            [
             0.6666666666666666,
             "#ed7953"
            ],
            [
             0.7777777777777778,
             "#fb9f3a"
            ],
            [
             0.8888888888888888,
             "#fdca26"
            ],
            [
             1,
             "#f0f921"
            ]
           ]
          },
          "colorway": [
           "#636efa",
           "#EF553B",
           "#00cc96",
           "#ab63fa",
           "#FFA15A",
           "#19d3f3",
           "#FF6692",
           "#B6E880",
           "#FF97FF",
           "#FECB52"
          ],
          "font": {
           "color": "#2a3f5f"
          },
          "geo": {
           "bgcolor": "white",
           "lakecolor": "white",
           "landcolor": "#E5ECF6",
           "showlakes": true,
           "showland": true,
           "subunitcolor": "white"
          },
          "hoverlabel": {
           "align": "left"
          },
          "hovermode": "closest",
          "mapbox": {
           "style": "light"
          },
          "paper_bgcolor": "white",
          "plot_bgcolor": "#E5ECF6",
          "polar": {
           "angularaxis": {
            "gridcolor": "white",
            "linecolor": "white",
            "ticks": ""
           },
           "bgcolor": "#E5ECF6",
           "radialaxis": {
            "gridcolor": "white",
            "linecolor": "white",
            "ticks": ""
           }
          },
          "scene": {
           "xaxis": {
            "backgroundcolor": "#E5ECF6",
            "gridcolor": "white",
            "gridwidth": 2,
            "linecolor": "white",
            "showbackground": true,
            "ticks": "",
            "zerolinecolor": "white"
           },
           "yaxis": {
            "backgroundcolor": "#E5ECF6",
            "gridcolor": "white",
            "gridwidth": 2,
            "linecolor": "white",
            "showbackground": true,
            "ticks": "",
            "zerolinecolor": "white"
           },
           "zaxis": {
            "backgroundcolor": "#E5ECF6",
            "gridcolor": "white",
            "gridwidth": 2,
            "linecolor": "white",
            "showbackground": true,
            "ticks": "",
            "zerolinecolor": "white"
           }
          },
          "shapedefaults": {
           "line": {
            "color": "#2a3f5f"
           }
          },
          "ternary": {
           "aaxis": {
            "gridcolor": "white",
            "linecolor": "white",
            "ticks": ""
           },
           "baxis": {
            "gridcolor": "white",
            "linecolor": "white",
            "ticks": ""
           },
           "bgcolor": "#E5ECF6",
           "caxis": {
            "gridcolor": "white",
            "linecolor": "white",
            "ticks": ""
           }
          },
          "title": {
           "x": 0.05
          },
          "xaxis": {
           "automargin": true,
           "gridcolor": "white",
           "linecolor": "white",
           "ticks": "",
           "title": {
            "standoff": 15
           },
           "zerolinecolor": "white",
           "zerolinewidth": 2
          },
          "yaxis": {
           "automargin": true,
           "gridcolor": "white",
           "linecolor": "white",
           "ticks": "",
           "title": {
            "standoff": 15
           },
           "zerolinecolor": "white",
           "zerolinewidth": 2
          }
         }
        },
        "title": {
         "text": "Div free regression errors for n = 100 input vectors for current carrying wire"
        }
       }
      }
     },
     "metadata": {},
     "output_type": "display_data"
    }
   ],
   "source": [
    "# plot residuals of fit above: \n",
    "residuals_wire_div_free, mse_wire_div_free = differencer(outputs_wire, outputs_wire_div_free)\n",
    "print(f'MSE for this case of {mse_wire_div_free}')\n",
    "plotter(residuals_wire_div_free, \n",
    "        title = f'Div free regression errors for n = {given_samples_wire} input vectors for current carrying wire')"
   ]
  },
  {
   "cell_type": "markdown",
   "id": "d87edac5",
   "metadata": {},
   "source": [
    "Errors are largest inside of the coil. The fields here are at their largest and vary most rapidly, hence "
   ]
  },
  {
   "cell_type": "code",
   "execution_count": 67,
   "id": "c49b1f47",
   "metadata": {},
   "outputs": [
    {
     "name": "stdout",
     "output_type": "stream",
     "text": [
      "Parameters for sigma_f and l specified, using these.\n"
     ]
    }
   ],
   "source": [
    "# these curl ones work very poorly in general\n",
    "outputs_wire_curl_free = updated_vector_field(\n",
    "    sampled_outputs_wire, \n",
    "    outputs_wire[0], outputs_wire[1], outputs_wire[2], \n",
    "    kernel_func='curl_free_kernel', \n",
    "    sigma_f = 0.1, l = 0.3)"
   ]
  },
  {
   "cell_type": "code",
   "execution_count": 68,
   "id": "b5ab1df7",
   "metadata": {},
   "outputs": [
    {
     "data": {
      "application/vnd.plotly.v1+json": {
       "config": {
        "plotlyServerURL": "https://plot.ly"
       },
       "data": [
        {
         "anchor": "tail",
         "sizemode": "scaled",
         "sizeref": 2,
         "type": "cone",
         "u": {
          "bdata": "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",
          "dtype": "f8"
         },
         "v": {
          "bdata": "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",
          "dtype": "f8"
         },
         "w": {
          "bdata": "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",
          "dtype": "f8"
         },
         "x": {
          "bdata": "AAAAAAAA4L8AAAAAAADgvwAAAAAAAOC/AAAAAAAA4L8AAAAAAADgvwAAAAAAAOC/AAAAAAAA4L8AAAAAAADgvwAAAAAAAOC/AAAAAAAA4L8AAAAAAADgvwAAAAAAAOC/AAAAAAAA4L8AAAAAAADgvwAAAAAAAOC/AAAAAAAA4L8AAAAAAADgvwAAAAAAAOC/AAAAAAAA4L8AAAAAAADgvwAAAAAAAOC/AAAAAAAA4L8AAAAAAADgvwAAAAAAAOC/AAAAAAAA4L8AAAAAAADgvwAAAAAAAOC/AAAAAAAA4L8AAAAAAADgvwAAAAAAAOC/AAAAAAAA4L8AAAAAAADgvwAAAAAAAOC/AAAAAAAA4L8AAAAAAADgvwAAAAAAAOC/AAAAAAAA4L8AAAAAAADgvwAAAAAAAOC/AAAAAAAA4L8AAAAAAADgvwAAAAAAAOC/AAAAAAAA4L8AAAAAAADgvwAAAAAAAOC/AAAAAAAA4L8AAAAAAADgvwAAAAAAAOC/AAAAAAAA4L8AAAAAAADgvwAAAAAAAOC/AAAAAAAA4L8AAAAAAADgvwAAAAAAAOC/AAAAAAAA4L8AAAAAAADgvwAAAAAAAOC/AAAAAAAA4L8AAAAAAADgvwAAAAAAAOC/AAAAAAAA4L8AAAAAAADgvwAAAAAAAOC/AAAAAAAA4L8AAAAAAADgvwAAAAAAAOC/AAAAAAAA4L8AAAAAAADgvwAAAAAAAOC/AAAAAAAA4L8AAAAAAADgvwAAAAAAAOC/AAAAAAAA4L8AAAAAAADgvwAAAAAAAOC/AAAAAAAA4L8AAAAAAADgvwAAAAAAAOC/AAAAAAAA4L8AAAAAAADgvwAAAAAAAOC/AAAAAAAA4L8AAAAAAADgvwAAAAAAAOC/AAAAAAAA4L8AAAAAAADgvwAAAAAAAOC/AAAAAAAA4L8AAAAAAADgvwAAAAAAAOC/AAAAAAAA4L8AAAAAAADgvwAAAAAAAOC/AAAAAAAA4L8AAAAAAADgvwAAAAAAAOC/AAAAAAAA4L8AAAAAAADgvwAAAAAAAOC/AAAAAAAA4L85juM4juPYvzmO4ziO49i/OY7jOI7j2L85juM4juPYvzmO4ziO49i/OY7jOI7j2L85juM4juPYvzmO4ziO49i/OY7jOI7j2L85juM4juPYvzmO4ziO49i/OY7jOI7j2L85juM4juPYvzmO4ziO49i/OY7jOI7j2L85juM4juPYvzmO4ziO49i/OY7jOI7j2L85juM4juPYvzmO4ziO49i/OY7jOI7j2L85juM4juPYvzmO4ziO49i/OY7jOI7j2L85juM4juPYvzmO4ziO49i/OY7jOI7j2L85juM4juPYvzmO4ziO49i/OY7jOI7j2L85juM4juPYvzmO4ziO49i/OY7jOI7j2L85juM4juPYvzmO4ziO49i/OY7jOI7j2L85juM4juPYvzmO4ziO49i/OY7jOI7j2L85juM4juPYvzmO4ziO49i/OY7jOI7j2L85juM4juPYvzmO4ziO49i/OY7jOI7j2L85juM4juPYvzmO4ziO49i/OY7jOI7j2L85juM4juPYvzmO4ziO49i/OY7jOI7j2L85juM4juPYvzmO4ziO49i/OY7jOI7j2L85juM4juPYvzmO4ziO49i/OY7jOI7j2L85juM4juPYvzmO4ziO49i/OY7jOI7j2L85juM4juPYvzmO4ziO49i/OY7jOI7j2L85juM4juPYvzmO4ziO49i/OY7jOI7j2L85juM4juPYvzmO4ziO49i/OY7jOI7j2L85juM4juPYvzmO4ziO49i/OY7jOI7j2L85juM4juPYvzmO4ziO49i/OY7jOI7j2L85juM4juPYvzmO4ziO49i/OY7jOI7j2L85juM4juPYvzmO4ziO49i/OY7jOI7j2L85juM4juPYvzmO4ziO49i/OY7jOI7j2L85juM4juPYvzmO4ziO49i/OY7jOI7j2L85juM4juPYvzmO4ziO49i/OY7jOI7j2L85juM4juPYvzmO4ziO49i/OY7jOI7j2L85juM4juPYvzmO4ziO49i/OY7jOI7j2L85juM4juPYvzmO4ziO49i/OY7jOI7j2L85juM4juPYv3Icx3Ecx9G/chzHcRzH0b9yHMdxHMfRv3Icx3Ecx9G/chzHcRzH0b9yHMdxHMfRv3Icx3Ecx9G/chzHcRzH0b9yHMdxHMfRv3Icx3Ecx9G/chzHcRzH0b9yHMdxHMfRv3Icx3Ecx9G/chzHcRzH0b9yHMdxHMfRv3Icx3Ecx9G/chzHcRzH0b9yHMdxHMfRv3Icx3Ecx9G/chzHcRzH0b9yHMdxHMfRv3Icx3Ecx9G/chzHcRzH0b9yHMdxHMfRv3Icx3Ecx9G/chzHcRzH0b9yHMdxHMfRv3Icx3Ecx9G/chzHcRzH0b9yHMdxHMfRv3Icx3Ecx9G/chzHcRzH0b9yHMdxHMfRv3Icx3Ecx9G/chzHcRzH0b9yHMdxHMfRv3Icx3Ecx9G/chzHcRzH0b9yHMdxHMfRv3Icx3Ecx9G/chzHcRzH0b9yHMdxHMfRv3Icx3Ecx9G/chzHcRzH0b9yHMdxHMfRv3Icx3Ecx9G/chzHcRzH0b9yHMdxHMfRv3Icx3Ecx9G/chzHcRzH0b9yHMdxHMfRv3Icx3Ecx9G/chzHcRzH0b9yHMdxHMfRv3Icx3Ecx9G/chzHcRzH0b9yHMdxHMfRv3Icx3Ecx9G/chzHcRzH0b9yHMdxHMfRv3Icx3Ecx9G/chzHcRzH0b9yHMdxHMfRv3Icx3Ecx9G/chzHcRzH0b9yHMdxHMfRv3Icx3Ecx9G/chzHcRzH0b9yHMdxHMfRv3Icx3Ecx9G/chzHcRzH0b9yHMdxHMfRv3Icx3Ecx9G/chzHcRzH0b9yHMdxHMfRv3Icx3Ecx9G/chzHcRzH0b9yHMdxHMfRv3Icx3Ecx9G/chzHcRzH0b9yHMdxHMfRv3Icx3Ecx9G/chzHcRzH0b9yHMdxHMfRv3Icx3Ecx9G/chzHcRzH0b9yHMdxHMfRv3Icx3Ecx9G/chzHcRzH0b9yHMdxHMfRv3Icx3Ecx9G/chzHcRzH0b9yHMdxHMfRv3Icx3Ecx9G/chzHcRzH0b9yHMdxHMfRv3Icx3Ecx9G/chzHcRzH0b9yHMdxHMfRv3Icx3Ecx9G/VlVVVVVVxb9WVVVVVVXFv1ZVVVVVVcW/VlVVVVVVxb9WVVVVVVXFv1ZVVVVVVcW/VlVVVVVVxb9WVVVVVVXFv1ZVVVVVVcW/VlVVVVVVxb9WVVVVVVXFv1ZVVVVVVcW/VlVVVVVVxb9WVVVVVVXFv1ZVVVVVVcW/VlVVVVVVxb9WVVVVVVXFv1ZVVVVVVcW/VlVVVVVVxb9WVVVVVVXFv1ZVVVVVVcW/VlVVVVVVxb9WVVVVVVXFv1ZVVVVVVcW/VlVVVVVVxb9WVVVVVVXFv1ZVVVVVVcW/VlVVVVVVxb9WVVVVVVXFv1ZVVVVVVcW/VlVVVVVVxb9WVVVVVVXFv1ZVVVVVVcW/VlVVVVVVxb9WVVVVVVXFv1ZVVVVVVcW/VlVVVVVVxb9WVVVVVVXFv1ZVVVVVVcW/VlVVVVVVxb9WVVVVVVXFv1ZVVVVVVcW/VlVVVVVVxb9WVVVVVVXFv1ZVVVVVVcW/VlVVVVVVxb9WVVVVVVXFv1ZVVVVVVcW/VlVVVVVVxb9WVVVVVVXFv1ZVVVVVVcW/VlVVVVVVxb9WVVVVVVXFv1ZVVVVVVcW/VlVVVVVVxb9WVVVVVVXFv1ZVVVVVVcW/VlVVVVVVxb9WVVVVVVXFv1ZVVVVVVcW/VlVVVVVVxb9WVVVVVVXFv1ZVVVVVVcW/VlVVVVVVxb9WVVVVVVXFv1ZVVVVVVcW/VlVVVVVVxb9WVVVVVVXFv1ZVVVVVVcW/VlVVVVVVxb9WVVVVVVXFv1ZVVVVVVcW/VlVVVVVVxb9WVVVVVVXFv1ZVVVVVVcW/VlVVVVVVxb9WVVVVVVXFv1ZVVVVVVcW/VlVVVVVVxb9WVVVVVVXFv1ZVVVVVVcW/VlVVVVVVxb9WVVVVVVXFv1ZVVVVVVcW/VlVVVVVVxb9WVVVVVVXFv1ZVVVVVVcW/VlVVVVVVxb9WVVVVVVXFv1ZVVVVVVcW/VlVVVVVVxb9WVVVVVVXFv1ZVVVVVVcW/VlVVVVVVxb9WVVVVVVXFv1ZVVVVVVcW/VlVVVVVVxb9WVVVVVVXFv1ZVVVVVVcW/VlVVVVVVxb8gx3Ecx3GsvyDHcRzHcay/IMdxHMdxrL8gx3Ecx3GsvyDHcRzHcay/IMdxHMdxrL8gx3Ecx3GsvyDHcRzHcay/IMdxHMdxrL8gx3Ecx3GsvyDHcRzHcay/IMdxHMdxrL8gx3Ecx3GsvyDHcRzHcay/IMdxHMdxrL8gx3Ecx3GsvyDHcRzHcay/IMdxHMdxrL8gx3Ecx3GsvyDHcRzHcay/IMdxHMdxrL8gx3Ecx3GsvyDHcRzHcay/IMdxHMdxrL8gx3Ecx3GsvyDHcRzHcay/IMdxHMdxrL8gx3Ecx3GsvyDHcRzHcay/IMdxHMdxrL8gx3Ecx3GsvyDHcRzHcay/IMdxHMdxrL8gx3Ecx3GsvyDHcRzHcay/IMdxHMdxrL8gx3Ecx3GsvyDHcRzHcay/IMdxHMdxrL8gx3Ecx3GsvyDHcRzHcay/IMdxHMdxrL8gx3Ecx3GsvyDHcRzHcay/IMdxHMdxrL8gx3Ecx3GsvyDHcRzHcay/IMdxHMdxrL8gx3Ecx3GsvyDHcRzHcay/IMdxHMdxrL8gx3Ecx3GsvyDHcRzHcay/IMdxHMdxrL8gx3Ecx3GsvyDHcRzHcay/IMdxHMdxrL8gx3Ecx3GsvyDHcRzHcay/IMdxHMdxrL8gx3Ecx3GsvyDHcRzHcay/IMdxHMdxrL8gx3Ecx3GsvyDHcRzHcay/IMdxHMdxrL8gx3Ecx3GsvyDHcRzHcay/IMdxHMdxrL8gx3Ecx3GsvyDHcRzHcay/IMdxHMdxrL8gx3Ecx3GsvyDHcRzHcay/IMdxHMdxrL8gx3Ecx3GsvyDHcRzHcay/IMdxHMdxrL8gx3Ecx3GsvyDHcRzHcay/IMdxHMdxrL8gx3Ecx3GsvyDHcRzHcay/IMdxHMdxrL8gx3Ecx3GsvyDHcRzHcay/IMdxHMdxrL8gx3Ecx3GsvyDHcRzHcay/IMdxHMdxrL8gx3Ecx3GsvyDHcRzHcay/IMdxHMdxrL8gx3Ecx3GsvyDHcRzHcay/IMdxHMdxrL8gx3Ecx3GsvyDHcRzHcay/IMdxHMdxrL8gx3Ecx3GsvyDHcRzHcaw/IMdxHMdxrD8gx3Ecx3GsPyDHcRzHcaw/IMdxHMdxrD8gx3Ecx3GsPyDHcRzHcaw/IMdxHMdxrD8gx3Ecx3GsPyDHcRzHcaw/IMdxHMdxrD8gx3Ecx3GsPyDHcRzHcaw/IMdxHMdxrD8gx3Ecx3GsPyDHcRzHcaw/IMdxHMdxrD8gx3Ecx3GsPyDHcRzHcaw/IMdxHMdxrD8gx3Ecx3GsPyDHcRzHcaw/IMdxHMdxrD8gx3Ecx3GsPyDHcRzHcaw/IMdxHMdxrD8gx3Ecx3GsPyDHcRzHcaw/IMdxHMdxrD8gx3Ecx3GsPyDHcRzHcaw/IMdxHMdxrD8gx3Ecx3GsPyDHcRzHcaw/IMdxHMdxrD8gx3Ecx3GsPyDHcRzHcaw/IMdxHMdxrD8gx3Ecx3GsPyDHcRzHcaw/IMdxHMdxrD8gx3Ecx3GsPyDHcRzHcaw/IMdxHMdxrD8gx3Ecx3GsPyDHcRzHcaw/IMdxHMdxrD8gx3Ecx3GsPyDHcRzHcaw/IMdxHMdxrD8gx3Ecx3GsPyDHcRzHcaw/IMdxHMdxrD8gx3Ecx3GsPyDHcRzHcaw/IMdxHMdxrD8gx3Ecx3GsPyDHcRzHcaw/IMdxHMdxrD8gx3Ecx3GsPyDHcRzHcaw/IMdxHMdxrD8gx3Ecx3GsPyDHcRzHcaw/IMdxHMdxrD8gx3Ecx3GsPyDHcRzHcaw/IMdxHMdxrD8gx3Ecx3GsPyDHcRzHcaw/IMdxHMdxrD8gx3Ecx3GsPyDHcRzHcaw/IMdxHMdxrD8gx3Ecx3GsPyDHcRzHcaw/IMdxHMdxrD8gx3Ecx3GsPyDHcRzHcaw/IMdxHMdxrD8gx3Ecx3GsPyDHcRzHcaw/IMdxHMdxrD8gx3Ecx3GsPyDHcRzHcaw/IMdxHMdxrD8gx3Ecx3GsPyDHcRzHcaw/IMdxHMdxrD8gx3Ecx3GsPyDHcRzHcaw/IMdxHMdxrD8gx3Ecx3GsPyDHcRzHcaw/IMdxHMdxrD8gx3Ecx3GsPyDHcRzHcaw/IMdxHMdxrD8gx3Ecx3GsPyDHcRzHcaw/VFVVVVVVxT9UVVVVVVXFP1RVVVVVVcU/VFVVVVVVxT9UVVVVVVXFP1RVVVVVVcU/VFVVVVVVxT9UVVVVVVXFP1RVVVVVVcU/VFVVVVVVxT9UVVVVVVXFP1RVVVVVVcU/VFVVVVVVxT9UVVVVVVXFP1RVVVVVVcU/VFVVVVVVxT9UVVVVVVXFP1RVVVVVVcU/VFVVVVVVxT9UVVVVVVXFP1RVVVVVVcU/VFVVVVVVxT9UVVVVVVXFP1RVVVVVVcU/VFVVVVVVxT9UVVVVVVXFP1RVVVVVVcU/VFVVVVVVxT9UVVVVVVXFP1RVVVVVVcU/VFVVVVVVxT9UVVVVVVXFP1RVVVVVVcU/VFVVVVVVxT9UVVVVVVXFP1RVVVVVVcU/VFVVVVVVxT9UVVVVVVXFP1RVVVVVVcU/VFVVVVVVxT9UVVVVVVXFP1RVVVVVVcU/VFVVVVVVxT9UVVVVVVXFP1RVVVVVVcU/VFVVVVVVxT9UVVVVVVXFP1RVVVVVVcU/VFVVVVVVxT9UVVVVVVXFP1RVVVVVVcU/VFVVVVVVxT9UVVVVVVXFP1RVVVVVVcU/VFVVVVVVxT9UVVVVVVXFP1RVVVVVVcU/VFVVVVVVxT9UVVVVVVXFP1RVVVVVVcU/VFVVVVVVxT9UVVVVVVXFP1RVVVVVVcU/VFVVVVVVxT9UVVVVVVXFP1RVVVVVVcU/VFVVVVVVxT9UVVVVVVXFP1RVVVVVVcU/VFVVVVVVxT9UVVVVVVXFP1RVVVVVVcU/VFVVVVVVxT9UVVVVVVXFP1RVVVVVVcU/VFVVVVVVxT9UVVVVVVXFP1RVVVVVVcU/VFVVVVVVxT9UVVVVVVXFP1RVVVVVVcU/VFVVVVVVxT9UVVVVVVXFP1RVVVVVVcU/VFVVVVVVxT9UVVVVVVXFP1RVVVVVVcU/VFVVVVVVxT9UVVVVVVXFP1RVVVVVVcU/VFVVVVVVxT9UVVVVVVXFP1RVVVVVVcU/VFVVVVVVxT9UVVVVVVXFP1RVVVVVVcU/VFVVVVVVxT9UVVVVVVXFP1RVVVVVVcU/VFVVVVVVxT9wHMdxHMfRP3Acx3Ecx9E/cBzHcRzH0T9wHMdxHMfRP3Acx3Ecx9E/cBzHcRzH0T9wHMdxHMfRP3Acx3Ecx9E/cBzHcRzH0T9wHMdxHMfRP3Acx3Ecx9E/cBzHcRzH0T9wHMdxHMfRP3Acx3Ecx9E/cBzHcRzH0T9wHMdxHMfRP3Acx3Ecx9E/cBzHcRzH0T9wHMdxHMfRP3Acx3Ecx9E/cBzHcRzH0T9wHMdxHMfRP3Acx3Ecx9E/cBzHcRzH0T9wHMdxHMfRP3Acx3Ecx9E/cBzHcRzH0T9wHMdxHMfRP3Acx3Ecx9E/cBzHcRzH0T9wHMdxHMfRP3Acx3Ecx9E/cBzHcRzH0T9wHMdxHMfRP3Acx3Ecx9E/cBzHcRzH0T9wHMdxHMfRP3Acx3Ecx9E/cBzHcRzH0T9wHMdxHMfRP3Acx3Ecx9E/cBzHcRzH0T9wHMdxHMfRP3Acx3Ecx9E/cBzHcRzH0T9wHMdxHMfRP3Acx3Ecx9E/cBzHcRzH0T9wHMdxHMfRP3Acx3Ecx9E/cBzHcRzH0T9wHMdxHMfRP3Acx3Ecx9E/cBzHcRzH0T9wHMdxHMfRP3Acx3Ecx9E/cBzHcRzH0T9wHMdxHMfRP3Acx3Ecx9E/cBzHcRzH0T9wHMdxHMfRP3Acx3Ecx9E/cBzHcRzH0T9wHMdxHMfRP3Acx3Ecx9E/cBzHcRzH0T9wHMdxHMfRP3Acx3Ecx9E/cBzHcRzH0T9wHMdxHMfRP3Acx3Ecx9E/cBzHcRzH0T9wHMdxHMfRP3Acx3Ecx9E/cBzHcRzH0T9wHMdxHMfRP3Acx3Ecx9E/cBzHcRzH0T9wHMdxHMfRP3Acx3Ecx9E/cBzHcRzH0T9wHMdxHMfRP3Acx3Ecx9E/cBzHcRzH0T9wHMdxHMfRP3Acx3Ecx9E/cBzHcRzH0T9wHMdxHMfRP3Acx3Ecx9E/cBzHcRzH0T9wHMdxHMfRP3Acx3Ecx9E/cBzHcRzH0T9wHMdxHMfRP3Acx3Ecx9E/cBzHcRzH0T9wHMdxHMfRP3Acx3Ecx9E/cBzHcRzH0T9wHMdxHMfRPziO4ziO49g/OI7jOI7j2D84juM4juPYPziO4ziO49g/OI7jOI7j2D84juM4juPYPziO4ziO49g/OI7jOI7j2D84juM4juPYPziO4ziO49g/OI7jOI7j2D84juM4juPYPziO4ziO49g/OI7jOI7j2D84juM4juPYPziO4ziO49g/OI7jOI7j2D84juM4juPYPziO4ziO49g/OI7jOI7j2D84juM4juPYPziO4ziO49g/OI7jOI7j2D84juM4juPYPziO4ziO49g/OI7jOI7j2D84juM4juPYPziO4ziO49g/OI7jOI7j2D84juM4juPYPziO4ziO49g/OI7jOI7j2D84juM4juPYPziO4ziO49g/OI7jOI7j2D84juM4juPYPziO4ziO49g/OI7jOI7j2D84juM4juPYPziO4ziO49g/OI7jOI7j2D84juM4juPYPziO4ziO49g/OI7jOI7j2D84juM4juPYPziO4ziO49g/OI7jOI7j2D84juM4juPYPziO4ziO49g/OI7jOI7j2D84juM4juPYPziO4ziO49g/OI7jOI7j2D84juM4juPYPziO4ziO49g/OI7jOI7j2D84juM4juPYPziO4ziO49g/OI7jOI7j2D84juM4juPYPziO4ziO49g/OI7jOI7j2D84juM4juPYPziO4ziO49g/OI7jOI7j2D84juM4juPYPziO4ziO49g/OI7jOI7j2D84juM4juPYPziO4ziO49g/OI7jOI7j2D84juM4juPYPziO4ziO49g/OI7jOI7j2D84juM4juPYPziO4ziO49g/OI7jOI7j2D84juM4juPYPziO4ziO49g/OI7jOI7j2D84juM4juPYPziO4ziO49g/OI7jOI7j2D84juM4juPYPziO4ziO49g/OI7jOI7j2D84juM4juPYPziO4ziO49g/OI7jOI7j2D84juM4juPYPziO4ziO49g/OI7jOI7j2D84juM4juPYPziO4ziO49g/OI7jOI7j2D84juM4juPYPziO4ziO49g/OI7jOI7j2D84juM4juPYPziO4ziO49g/AAAAAAAA4D8AAAAAAADgPwAAAAAAAOA/AAAAAAAA4D8AAAAAAADgPwAAAAAAAOA/AAAAAAAA4D8AAAAAAADgPwAAAAAAAOA/AAAAAAAA4D8AAAAAAADgPwAAAAAAAOA/AAAAAAAA4D8AAAAAAADgPwAAAAAAAOA/AAAAAAAA4D8AAAAAAADgPwAAAAAAAOA/AAAAAAAA4D8AAAAAAADgPwAAAAAAAOA/AAAAAAAA4D8AAAAAAADgPwAAAAAAAOA/AAAAAAAA4D8AAAAAAADgPwAAAAAAAOA/AAAAAAAA4D8AAAAAAADgPwAAAAAAAOA/AAAAAAAA4D8AAAAAAADgPwAAAAAAAOA/AAAAAAAA4D8AAAAAAADgPwAAAAAAAOA/AAAAAAAA4D8AAAAAAADgPwAAAAAAAOA/AAAAAAAA4D8AAAAAAADgPwAAAAAAAOA/AAAAAAAA4D8AAAAAAADgPwAAAAAAAOA/AAAAAAAA4D8AAAAAAADgPwAAAAAAAOA/AAAAAAAA4D8AAAAAAADgPwAAAAAAAOA/AAAAAAAA4D8AAAAAAADgPwAAAAAAAOA/AAAAAAAA4D8AAAAAAADgPwAAAAAAAOA/AAAAAAAA4D8AAAAAAADgPwAAAAAAAOA/AAAAAAAA4D8AAAAAAADgPwAAAAAAAOA/AAAAAAAA4D8AAAAAAADgPwAAAAAAAOA/AAAAAAAA4D8AAAAAAADgPwAAAAAAAOA/AAAAAAAA4D8AAAAAAADgPwAAAAAAAOA/AAAAAAAA4D8AAAAAAADgPwAAAAAAAOA/AAAAAAAA4D8AAAAAAADgPwAAAAAAAOA/AAAAAAAA4D8AAAAAAADgPwAAAAAAAOA/AAAAAAAA4D8AAAAAAADgPwAAAAAAAOA/AAAAAAAA4D8AAAAAAADgPwAAAAAAAOA/AAAAAAAA4D8AAAAAAADgPwAAAAAAAOA/AAAAAAAA4D8AAAAAAADgPwAAAAAAAOA/AAAAAAAA4D8AAAAAAADgPwAAAAAAAOA/AAAAAAAA4D8AAAAAAADgPwAAAAAAAOA/AAAAAAAA4D8=",
          "dtype": "f8"
         },
         "y": {
          "bdata": "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",
          "dtype": "f8"
         },
         "z": {
          "bdata": "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",
          "dtype": "f8"
         }
        }
       ],
       "layout": {
        "scene": {
         "xaxis": {
          "title": {
           "text": "X"
          }
         },
         "yaxis": {
          "title": {
           "text": "Y"
          }
         },
         "zaxis": {
          "title": {
           "text": "Z"
          }
         }
        },
        "template": {
         "data": {
          "bar": [
           {
            "error_x": {
             "color": "#2a3f5f"
            },
            "error_y": {
             "color": "#2a3f5f"
            },
            "marker": {
             "line": {
              "color": "#E5ECF6",
              "width": 0.5
             },
             "pattern": {
              "fillmode": "overlay",
              "size": 10,
              "solidity": 0.2
             }
            },
            "type": "bar"
           }
          ],
          "barpolar": [
           {
            "marker": {
             "line": {
              "color": "#E5ECF6",
              "width": 0.5
             },
             "pattern": {
              "fillmode": "overlay",
              "size": 10,
              "solidity": 0.2
             }
            },
            "type": "barpolar"
           }
          ],
          "carpet": [
           {
            "aaxis": {
             "endlinecolor": "#2a3f5f",
             "gridcolor": "white",
             "linecolor": "white",
             "minorgridcolor": "white",
             "startlinecolor": "#2a3f5f"
            },
            "baxis": {
             "endlinecolor": "#2a3f5f",
             "gridcolor": "white",
             "linecolor": "white",
             "minorgridcolor": "white",
             "startlinecolor": "#2a3f5f"
            },
            "type": "carpet"
           }
          ],
          "choropleth": [
           {
            "colorbar": {
             "outlinewidth": 0,
             "ticks": ""
            },
            "type": "choropleth"
           }
          ],
          "contour": [
           {
            "colorbar": {
             "outlinewidth": 0,
             "ticks": ""
            },
            "colorscale": [
             [
              0,
              "#0d0887"
             ],
             [
              0.1111111111111111,
              "#46039f"
             ],
             [
              0.2222222222222222,
              "#7201a8"
             ],
             [
              0.3333333333333333,
              "#9c179e"
             ],
             [
              0.4444444444444444,
              "#bd3786"
             ],
             [
              0.5555555555555556,
              "#d8576b"
             ],
             [
              0.6666666666666666,
              "#ed7953"
             ],
             [
              0.7777777777777778,
              "#fb9f3a"
             ],
             [
              0.8888888888888888,
              "#fdca26"
             ],
             [
              1,
              "#f0f921"
             ]
            ],
            "type": "contour"
           }
          ],
          "contourcarpet": [
           {
            "colorbar": {
             "outlinewidth": 0,
             "ticks": ""
            },
            "type": "contourcarpet"
           }
          ],
          "heatmap": [
           {
            "colorbar": {
             "outlinewidth": 0,
             "ticks": ""
            },
            "colorscale": [
             [
              0,
              "#0d0887"
             ],
             [
              0.1111111111111111,
              "#46039f"
             ],
             [
              0.2222222222222222,
              "#7201a8"
             ],
             [
              0.3333333333333333,
              "#9c179e"
             ],
             [
              0.4444444444444444,
              "#bd3786"
             ],
             [
              0.5555555555555556,
              "#d8576b"
             ],
             [
              0.6666666666666666,
              "#ed7953"
             ],
             [
              0.7777777777777778,
              "#fb9f3a"
             ],
             [
              0.8888888888888888,
              "#fdca26"
             ],
             [
              1,
              "#f0f921"
             ]
            ],
            "type": "heatmap"
           }
          ],
          "histogram": [
           {
            "marker": {
             "pattern": {
              "fillmode": "overlay",
              "size": 10,
              "solidity": 0.2
             }
            },
            "type": "histogram"
           }
          ],
          "histogram2d": [
           {
            "colorbar": {
             "outlinewidth": 0,
             "ticks": ""
            },
            "colorscale": [
             [
              0,
              "#0d0887"
             ],
             [
              0.1111111111111111,
              "#46039f"
             ],
             [
              0.2222222222222222,
              "#7201a8"
             ],
             [
              0.3333333333333333,
              "#9c179e"
             ],
             [
              0.4444444444444444,
              "#bd3786"
             ],
             [
              0.5555555555555556,
              "#d8576b"
             ],
             [
              0.6666666666666666,
              "#ed7953"
             ],
             [
              0.7777777777777778,
              "#fb9f3a"
             ],
             [
              0.8888888888888888,
              "#fdca26"
             ],
             [
              1,
              "#f0f921"
             ]
            ],
            "type": "histogram2d"
           }
          ],
          "histogram2dcontour": [
           {
            "colorbar": {
             "outlinewidth": 0,
             "ticks": ""
            },
            "colorscale": [
             [
              0,
              "#0d0887"
             ],
             [
              0.1111111111111111,
              "#46039f"
             ],
             [
              0.2222222222222222,
              "#7201a8"
             ],
             [
              0.3333333333333333,
              "#9c179e"
             ],
             [
              0.4444444444444444,
              "#bd3786"
             ],
             [
              0.5555555555555556,
              "#d8576b"
             ],
             [
              0.6666666666666666,
              "#ed7953"
             ],
             [
              0.7777777777777778,
              "#fb9f3a"
             ],
             [
              0.8888888888888888,
              "#fdca26"
             ],
             [
              1,
              "#f0f921"
             ]
            ],
            "type": "histogram2dcontour"
           }
          ],
          "mesh3d": [
           {
            "colorbar": {
             "outlinewidth": 0,
             "ticks": ""
            },
            "type": "mesh3d"
           }
          ],
          "parcoords": [
           {
            "line": {
             "colorbar": {
              "outlinewidth": 0,
              "ticks": ""
             }
            },
            "type": "parcoords"
           }
          ],
          "pie": [
           {
            "automargin": true,
            "type": "pie"
           }
          ],
          "scatter": [
           {
            "fillpattern": {
             "fillmode": "overlay",
             "size": 10,
             "solidity": 0.2
            },
            "type": "scatter"
           }
          ],
          "scatter3d": [
           {
            "line": {
             "colorbar": {
              "outlinewidth": 0,
              "ticks": ""
             }
            },
            "marker": {
             "colorbar": {
              "outlinewidth": 0,
              "ticks": ""
             }
            },
            "type": "scatter3d"
           }
          ],
          "scattercarpet": [
           {
            "marker": {
             "colorbar": {
              "outlinewidth": 0,
              "ticks": ""
             }
            },
            "type": "scattercarpet"
           }
          ],
          "scattergeo": [
           {
            "marker": {
             "colorbar": {
              "outlinewidth": 0,
              "ticks": ""
             }
            },
            "type": "scattergeo"
           }
          ],
          "scattergl": [
           {
            "marker": {
             "colorbar": {
              "outlinewidth": 0,
              "ticks": ""
             }
            },
            "type": "scattergl"
           }
          ],
          "scattermap": [
           {
            "marker": {
             "colorbar": {
              "outlinewidth": 0,
              "ticks": ""
             }
            },
            "type": "scattermap"
           }
          ],
          "scattermapbox": [
           {
            "marker": {
             "colorbar": {
              "outlinewidth": 0,
              "ticks": ""
             }
            },
            "type": "scattermapbox"
           }
          ],
          "scatterpolar": [
           {
            "marker": {
             "colorbar": {
              "outlinewidth": 0,
              "ticks": ""
             }
            },
            "type": "scatterpolar"
           }
          ],
          "scatterpolargl": [
           {
            "marker": {
             "colorbar": {
              "outlinewidth": 0,
              "ticks": ""
             }
            },
            "type": "scatterpolargl"
           }
          ],
          "scatterternary": [
           {
            "marker": {
             "colorbar": {
              "outlinewidth": 0,
              "ticks": ""
             }
            },
            "type": "scatterternary"
           }
          ],
          "surface": [
           {
            "colorbar": {
             "outlinewidth": 0,
             "ticks": ""
            },
            "colorscale": [
             [
              0,
              "#0d0887"
             ],
             [
              0.1111111111111111,
              "#46039f"
             ],
             [
              0.2222222222222222,
              "#7201a8"
             ],
             [
              0.3333333333333333,
              "#9c179e"
             ],
             [
              0.4444444444444444,
              "#bd3786"
             ],
             [
              0.5555555555555556,
              "#d8576b"
             ],
             [
              0.6666666666666666,
              "#ed7953"
             ],
             [
              0.7777777777777778,
              "#fb9f3a"
             ],
             [
              0.8888888888888888,
              "#fdca26"
             ],
             [
              1,
              "#f0f921"
             ]
            ],
            "type": "surface"
           }
          ],
          "table": [
           {
            "cells": {
             "fill": {
              "color": "#EBF0F8"
             },
             "line": {
              "color": "white"
             }
            },
            "header": {
             "fill": {
              "color": "#C8D4E3"
             },
             "line": {
              "color": "white"
             }
            },
            "type": "table"
           }
          ]
         },
         "layout": {
          "annotationdefaults": {
           "arrowcolor": "#2a3f5f",
           "arrowhead": 0,
           "arrowwidth": 1
          },
          "autotypenumbers": "strict",
          "coloraxis": {
           "colorbar": {
            "outlinewidth": 0,
            "ticks": ""
           }
          },
          "colorscale": {
           "diverging": [
            [
             0,
             "#8e0152"
            ],
            [
             0.1,
             "#c51b7d"
            ],
            [
             0.2,
             "#de77ae"
            ],
            [
             0.3,
             "#f1b6da"
            ],
            [
             0.4,
             "#fde0ef"
            ],
            [
             0.5,
             "#f7f7f7"
            ],
            [
             0.6,
             "#e6f5d0"
            ],
            [
             0.7,
             "#b8e186"
            ],
            [
             0.8,
             "#7fbc41"
            ],
            [
             0.9,
             "#4d9221"
            ],
            [
             1,
             "#276419"
            ]
           ],
           "sequential": [
            [
             0,
             "#0d0887"
            ],
            [
             0.1111111111111111,
             "#46039f"
            ],
            [
             0.2222222222222222,
             "#7201a8"
            ],
            [
             0.3333333333333333,
             "#9c179e"
            ],
            [
             0.4444444444444444,
             "#bd3786"
            ],
            [
             0.5555555555555556,
             "#d8576b"
            ],
            [
             0.6666666666666666,
             "#ed7953"
            ],
            [
             0.7777777777777778,
             "#fb9f3a"
            ],
            [
             0.8888888888888888,
             "#fdca26"
            ],
            [
             1,
             "#f0f921"
            ]
           ],
           "sequentialminus": [
            [
             0,
             "#0d0887"
            ],
            [
             0.1111111111111111,
             "#46039f"
            ],
            [
             0.2222222222222222,
             "#7201a8"
            ],
            [
             0.3333333333333333,
             "#9c179e"
            ],
            [
             0.4444444444444444,
             "#bd3786"
            ],
            [
             0.5555555555555556,
             "#d8576b"
            ],
            [
             0.6666666666666666,
             "#ed7953"
            ],
            [
             0.7777777777777778,
             "#fb9f3a"
            ],
            [
             0.8888888888888888,
             "#fdca26"
            ],
            [
             1,
             "#f0f921"
            ]
           ]
          },
          "colorway": [
           "#636efa",
           "#EF553B",
           "#00cc96",
           "#ab63fa",
           "#FFA15A",
           "#19d3f3",
           "#FF6692",
           "#B6E880",
           "#FF97FF",
           "#FECB52"
          ],
          "font": {
           "color": "#2a3f5f"
          },
          "geo": {
           "bgcolor": "white",
           "lakecolor": "white",
           "landcolor": "#E5ECF6",
           "showlakes": true,
           "showland": true,
           "subunitcolor": "white"
          },
          "hoverlabel": {
           "align": "left"
          },
          "hovermode": "closest",
          "mapbox": {
           "style": "light"
          },
          "paper_bgcolor": "white",
          "plot_bgcolor": "#E5ECF6",
          "polar": {
           "angularaxis": {
            "gridcolor": "white",
            "linecolor": "white",
            "ticks": ""
           },
           "bgcolor": "#E5ECF6",
           "radialaxis": {
            "gridcolor": "white",
            "linecolor": "white",
            "ticks": ""
           }
          },
          "scene": {
           "xaxis": {
            "backgroundcolor": "#E5ECF6",
            "gridcolor": "white",
            "gridwidth": 2,
            "linecolor": "white",
            "showbackground": true,
            "ticks": "",
            "zerolinecolor": "white"
           },
           "yaxis": {
            "backgroundcolor": "#E5ECF6",
            "gridcolor": "white",
            "gridwidth": 2,
            "linecolor": "white",
            "showbackground": true,
            "ticks": "",
            "zerolinecolor": "white"
           },
           "zaxis": {
            "backgroundcolor": "#E5ECF6",
            "gridcolor": "white",
            "gridwidth": 2,
            "linecolor": "white",
            "showbackground": true,
            "ticks": "",
            "zerolinecolor": "white"
           }
          },
          "shapedefaults": {
           "line": {
            "color": "#2a3f5f"
           }
          },
          "ternary": {
           "aaxis": {
            "gridcolor": "white",
            "linecolor": "white",
            "ticks": ""
           },
           "baxis": {
            "gridcolor": "white",
            "linecolor": "white",
            "ticks": ""
           },
           "bgcolor": "#E5ECF6",
           "caxis": {
            "gridcolor": "white",
            "linecolor": "white",
            "ticks": ""
           }
          },
          "title": {
           "x": 0.05
          },
          "xaxis": {
           "automargin": true,
           "gridcolor": "white",
           "linecolor": "white",
           "ticks": "",
           "title": {
            "standoff": 15
           },
           "zerolinecolor": "white",
           "zerolinewidth": 2
          },
          "yaxis": {
           "automargin": true,
           "gridcolor": "white",
           "linecolor": "white",
           "ticks": "",
           "title": {
            "standoff": 15
           },
           "zerolinecolor": "white",
           "zerolinewidth": 2
          }
         }
        },
        "title": {
         "text": "Curl free output from GP Regression for n = 100 input vectors for current carrying wire"
        }
       }
      }
     },
     "metadata": {},
     "output_type": "display_data"
    }
   ],
   "source": [
    "plotter(outputs_wire_curl_free, \n",
    "        title = f'Curl free output from GP Regression for n = {given_samples_wire} input vectors for current carrying wire')"
   ]
  },
  {
   "cell_type": "code",
   "execution_count": 69,
   "id": "6c57ec51",
   "metadata": {},
   "outputs": [
    {
     "name": "stdout",
     "output_type": "stream",
     "text": [
      "MSE for this case of 428.44451114183215\n"
     ]
    },
    {
     "data": {
      "application/vnd.plotly.v1+json": {
       "config": {
        "plotlyServerURL": "https://plot.ly"
       },
       "data": [
        {
         "anchor": "tail",
         "sizemode": "scaled",
         "sizeref": 2,
         "type": "cone",
         "u": {
          "bdata": "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",
          "dtype": "f8"
         },
         "v": {
          "bdata": "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",
          "dtype": "f8"
         },
         "w": {
          "bdata": "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",
          "dtype": "f8"
         },
         "x": {
          "bdata": "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",
          "dtype": "f8"
         },
         "y": {
          "bdata": "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",
          "dtype": "f8"
         },
         "z": {
          "bdata": "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",
          "dtype": "f8"
         }
        }
       ],
       "layout": {
        "scene": {
         "xaxis": {
          "title": {
           "text": "X"
          }
         },
         "yaxis": {
          "title": {
           "text": "Y"
          }
         },
         "zaxis": {
          "title": {
           "text": "Z"
          }
         }
        },
        "template": {
         "data": {
          "bar": [
           {
            "error_x": {
             "color": "#2a3f5f"
            },
            "error_y": {
             "color": "#2a3f5f"
            },
            "marker": {
             "line": {
              "color": "#E5ECF6",
              "width": 0.5
             },
             "pattern": {
              "fillmode": "overlay",
              "size": 10,
              "solidity": 0.2
             }
            },
            "type": "bar"
           }
          ],
          "barpolar": [
           {
            "marker": {
             "line": {
              "color": "#E5ECF6",
              "width": 0.5
             },
             "pattern": {
              "fillmode": "overlay",
              "size": 10,
              "solidity": 0.2
             }
            },
            "type": "barpolar"
           }
          ],
          "carpet": [
           {
            "aaxis": {
             "endlinecolor": "#2a3f5f",
             "gridcolor": "white",
             "linecolor": "white",
             "minorgridcolor": "white",
             "startlinecolor": "#2a3f5f"
            },
            "baxis": {
             "endlinecolor": "#2a3f5f",
             "gridcolor": "white",
             "linecolor": "white",
             "minorgridcolor": "white",
             "startlinecolor": "#2a3f5f"
            },
            "type": "carpet"
           }
          ],
          "choropleth": [
           {
            "colorbar": {
             "outlinewidth": 0,
             "ticks": ""
            },
            "type": "choropleth"
           }
          ],
          "contour": [
           {
            "colorbar": {
             "outlinewidth": 0,
             "ticks": ""
            },
            "colorscale": [
             [
              0,
              "#0d0887"
             ],
             [
              0.1111111111111111,
              "#46039f"
             ],
             [
              0.2222222222222222,
              "#7201a8"
             ],
             [
              0.3333333333333333,
              "#9c179e"
             ],
             [
              0.4444444444444444,
              "#bd3786"
             ],
             [
              0.5555555555555556,
              "#d8576b"
             ],
             [
              0.6666666666666666,
              "#ed7953"
             ],
             [
              0.7777777777777778,
              "#fb9f3a"
             ],
             [
              0.8888888888888888,
              "#fdca26"
             ],
             [
              1,
              "#f0f921"
             ]
            ],
            "type": "contour"
           }
          ],
          "contourcarpet": [
           {
            "colorbar": {
             "outlinewidth": 0,
             "ticks": ""
            },
            "type": "contourcarpet"
           }
          ],
          "heatmap": [
           {
            "colorbar": {
             "outlinewidth": 0,
             "ticks": ""
            },
            "colorscale": [
             [
              0,
              "#0d0887"
             ],
             [
              0.1111111111111111,
              "#46039f"
             ],
             [
              0.2222222222222222,
              "#7201a8"
             ],
             [
              0.3333333333333333,
              "#9c179e"
             ],
             [
              0.4444444444444444,
              "#bd3786"
             ],
             [
              0.5555555555555556,
              "#d8576b"
             ],
             [
              0.6666666666666666,
              "#ed7953"
             ],
             [
              0.7777777777777778,
              "#fb9f3a"
             ],
             [
              0.8888888888888888,
              "#fdca26"
             ],
             [
              1,
              "#f0f921"
             ]
            ],
            "type": "heatmap"
           }
          ],
          "histogram": [
           {
            "marker": {
             "pattern": {
              "fillmode": "overlay",
              "size": 10,
              "solidity": 0.2
             }
            },
            "type": "histogram"
           }
          ],
          "histogram2d": [
           {
            "colorbar": {
             "outlinewidth": 0,
             "ticks": ""
            },
            "colorscale": [
             [
              0,
              "#0d0887"
             ],
             [
              0.1111111111111111,
              "#46039f"
             ],
             [
              0.2222222222222222,
              "#7201a8"
             ],
             [
              0.3333333333333333,
              "#9c179e"
             ],
             [
              0.4444444444444444,
              "#bd3786"
             ],
             [
              0.5555555555555556,
              "#d8576b"
             ],
             [
              0.6666666666666666,
              "#ed7953"
             ],
             [
              0.7777777777777778,
              "#fb9f3a"
             ],
             [
              0.8888888888888888,
              "#fdca26"
             ],
             [
              1,
              "#f0f921"
             ]
            ],
            "type": "histogram2d"
           }
          ],
          "histogram2dcontour": [
           {
            "colorbar": {
             "outlinewidth": 0,
             "ticks": ""
            },
            "colorscale": [
             [
              0,
              "#0d0887"
             ],
             [
              0.1111111111111111,
              "#46039f"
             ],
             [
              0.2222222222222222,
              "#7201a8"
             ],
             [
              0.3333333333333333,
              "#9c179e"
             ],
             [
              0.4444444444444444,
              "#bd3786"
             ],
             [
              0.5555555555555556,
              "#d8576b"
             ],
             [
              0.6666666666666666,
              "#ed7953"
             ],
             [
              0.7777777777777778,
              "#fb9f3a"
             ],
             [
              0.8888888888888888,
              "#fdca26"
             ],
             [
              1,
              "#f0f921"
             ]
            ],
            "type": "histogram2dcontour"
           }
          ],
          "mesh3d": [
           {
            "colorbar": {
             "outlinewidth": 0,
             "ticks": ""
            },
            "type": "mesh3d"
           }
          ],
          "parcoords": [
           {
            "line": {
             "colorbar": {
              "outlinewidth": 0,
              "ticks": ""
             }
            },
            "type": "parcoords"
           }
          ],
          "pie": [
           {
            "automargin": true,
            "type": "pie"
           }
          ],
          "scatter": [
           {
            "fillpattern": {
             "fillmode": "overlay",
             "size": 10,
             "solidity": 0.2
            },
            "type": "scatter"
           }
          ],
          "scatter3d": [
           {
            "line": {
             "colorbar": {
              "outlinewidth": 0,
              "ticks": ""
             }
            },
            "marker": {
             "colorbar": {
              "outlinewidth": 0,
              "ticks": ""
             }
            },
            "type": "scatter3d"
           }
          ],
          "scattercarpet": [
           {
            "marker": {
             "colorbar": {
              "outlinewidth": 0,
              "ticks": ""
             }
            },
            "type": "scattercarpet"
           }
          ],
          "scattergeo": [
           {
            "marker": {
             "colorbar": {
              "outlinewidth": 0,
              "ticks": ""
             }
            },
            "type": "scattergeo"
           }
          ],
          "scattergl": [
           {
            "marker": {
             "colorbar": {
              "outlinewidth": 0,
              "ticks": ""
             }
            },
            "type": "scattergl"
           }
          ],
          "scattermap": [
           {
            "marker": {
             "colorbar": {
              "outlinewidth": 0,
              "ticks": ""
             }
            },
            "type": "scattermap"
           }
          ],
          "scattermapbox": [
           {
            "marker": {
             "colorbar": {
              "outlinewidth": 0,
              "ticks": ""
             }
            },
            "type": "scattermapbox"
           }
          ],
          "scatterpolar": [
           {
            "marker": {
             "colorbar": {
              "outlinewidth": 0,
              "ticks": ""
             }
            },
            "type": "scatterpolar"
           }
          ],
          "scatterpolargl": [
           {
            "marker": {
             "colorbar": {
              "outlinewidth": 0,
              "ticks": ""
             }
            },
            "type": "scatterpolargl"
           }
          ],
          "scatterternary": [
           {
            "marker": {
             "colorbar": {
              "outlinewidth": 0,
              "ticks": ""
             }
            },
            "type": "scatterternary"
           }
          ],
          "surface": [
           {
            "colorbar": {
             "outlinewidth": 0,
             "ticks": ""
            },
            "colorscale": [
             [
              0,
              "#0d0887"
             ],
             [
              0.1111111111111111,
              "#46039f"
             ],
             [
              0.2222222222222222,
              "#7201a8"
             ],
             [
              0.3333333333333333,
              "#9c179e"
             ],
             [
              0.4444444444444444,
              "#bd3786"
             ],
             [
              0.5555555555555556,
              "#d8576b"
             ],
             [
              0.6666666666666666,
              "#ed7953"
             ],
             [
              0.7777777777777778,
              "#fb9f3a"
             ],
             [
              0.8888888888888888,
              "#fdca26"
             ],
             [
              1,
              "#f0f921"
             ]
            ],
            "type": "surface"
           }
          ],
          "table": [
           {
            "cells": {
             "fill": {
              "color": "#EBF0F8"
             },
             "line": {
              "color": "white"
             }
            },
            "header": {
             "fill": {
              "color": "#C8D4E3"
             },
             "line": {
              "color": "white"
             }
            },
            "type": "table"
           }
          ]
         },
         "layout": {
          "annotationdefaults": {
           "arrowcolor": "#2a3f5f",
           "arrowhead": 0,
           "arrowwidth": 1
          },
          "autotypenumbers": "strict",
          "coloraxis": {
           "colorbar": {
            "outlinewidth": 0,
            "ticks": ""
           }
          },
          "colorscale": {
           "diverging": [
            [
             0,
             "#8e0152"
            ],
            [
             0.1,
             "#c51b7d"
            ],
            [
             0.2,
             "#de77ae"
            ],
            [
             0.3,
             "#f1b6da"
            ],
            [
             0.4,
             "#fde0ef"
            ],
            [
             0.5,
             "#f7f7f7"
            ],
            [
             0.6,
             "#e6f5d0"
            ],
            [
             0.7,
             "#b8e186"
            ],
            [
             0.8,
             "#7fbc41"
            ],
            [
             0.9,
             "#4d9221"
            ],
            [
             1,
             "#276419"
            ]
           ],
           "sequential": [
            [
             0,
             "#0d0887"
            ],
            [
             0.1111111111111111,
             "#46039f"
            ],
            [
             0.2222222222222222,
             "#7201a8"
            ],
            [
             0.3333333333333333,
             "#9c179e"
            ],
            [
             0.4444444444444444,
             "#bd3786"
            ],
            [
             0.5555555555555556,
             "#d8576b"
            ],
            [
             0.6666666666666666,
             "#ed7953"
            ],
            [
             0.7777777777777778,
             "#fb9f3a"
            ],
            [
             0.8888888888888888,
             "#fdca26"
            ],
            [
             1,
             "#f0f921"
            ]
           ],
           "sequentialminus": [
            [
             0,
             "#0d0887"
            ],
            [
             0.1111111111111111,
             "#46039f"
            ],
            [
             0.2222222222222222,
             "#7201a8"
            ],
            [
             0.3333333333333333,
             "#9c179e"
            ],
            [
             0.4444444444444444,
             "#bd3786"
            ],
            [
             0.5555555555555556,
             "#d8576b"
            ],
            [
             0.6666666666666666,
             "#ed7953"
            ],
            [
             0.7777777777777778,
             "#fb9f3a"
            ],
            [
             0.8888888888888888,
             "#fdca26"
            ],
            [
             1,
             "#f0f921"
            ]
           ]
          },
          "colorway": [
           "#636efa",
           "#EF553B",
           "#00cc96",
           "#ab63fa",
           "#FFA15A",
           "#19d3f3",
           "#FF6692",
           "#B6E880",
           "#FF97FF",
           "#FECB52"
          ],
          "font": {
           "color": "#2a3f5f"
          },
          "geo": {
           "bgcolor": "white",
           "lakecolor": "white",
           "landcolor": "#E5ECF6",
           "showlakes": true,
           "showland": true,
           "subunitcolor": "white"
          },
          "hoverlabel": {
           "align": "left"
          },
          "hovermode": "closest",
          "mapbox": {
           "style": "light"
          },
          "paper_bgcolor": "white",
          "plot_bgcolor": "#E5ECF6",
          "polar": {
           "angularaxis": {
            "gridcolor": "white",
            "linecolor": "white",
            "ticks": ""
           },
           "bgcolor": "#E5ECF6",
           "radialaxis": {
            "gridcolor": "white",
            "linecolor": "white",
            "ticks": ""
           }
          },
          "scene": {
           "xaxis": {
            "backgroundcolor": "#E5ECF6",
            "gridcolor": "white",
            "gridwidth": 2,
            "linecolor": "white",
            "showbackground": true,
            "ticks": "",
            "zerolinecolor": "white"
           },
           "yaxis": {
            "backgroundcolor": "#E5ECF6",
            "gridcolor": "white",
            "gridwidth": 2,
            "linecolor": "white",
            "showbackground": true,
            "ticks": "",
            "zerolinecolor": "white"
           },
           "zaxis": {
            "backgroundcolor": "#E5ECF6",
            "gridcolor": "white",
            "gridwidth": 2,
            "linecolor": "white",
            "showbackground": true,
            "ticks": "",
            "zerolinecolor": "white"
           }
          },
          "shapedefaults": {
           "line": {
            "color": "#2a3f5f"
           }
          },
          "ternary": {
           "aaxis": {
            "gridcolor": "white",
            "linecolor": "white",
            "ticks": ""
           },
           "baxis": {
            "gridcolor": "white",
            "linecolor": "white",
            "ticks": ""
           },
           "bgcolor": "#E5ECF6",
           "caxis": {
            "gridcolor": "white",
            "linecolor": "white",
            "ticks": ""
           }
          },
          "title": {
           "x": 0.05
          },
          "xaxis": {
           "automargin": true,
           "gridcolor": "white",
           "linecolor": "white",
           "ticks": "",
           "title": {
            "standoff": 15
           },
           "zerolinecolor": "white",
           "zerolinewidth": 2
          },
          "yaxis": {
           "automargin": true,
           "gridcolor": "white",
           "linecolor": "white",
           "ticks": "",
           "title": {
            "standoff": 15
           },
           "zerolinecolor": "white",
           "zerolinewidth": 2
          }
         }
        },
        "title": {
         "text": "Curl free regression errors for n = 100 input vectors for current carrying wire"
        }
       }
      }
     },
     "metadata": {},
     "output_type": "display_data"
    }
   ],
   "source": [
    "# plot residuals of fit above: \n",
    "residuals_wire_curl_free, mse_wire_curl_free = differencer(outputs_wire, outputs_wire_curl_free)\n",
    "print(f'MSE for this case of {mse_wire_curl_free}')\n",
    "plotter(residuals_wire_curl_free, \n",
    "        title = f'Curl free regression errors for n = {given_samples_wire} input vectors for current carrying wire')"
   ]
  },
  {
   "cell_type": "markdown",
   "id": "7abdc067",
   "metadata": {},
   "source": [
    "## matern kernel time "
   ]
  },
  {
   "cell_type": "code",
   "execution_count": 111,
   "id": "4f5e2a13",
   "metadata": {},
   "outputs": [
    {
     "name": "stdout",
     "output_type": "stream",
     "text": [
      "Parameters for sigma_f and l specified, using these.\n"
     ]
    }
   ],
   "source": [
    "# Divergence free attempt\n",
    "outputs_wire_div_free_matern = updated_vector_field(\n",
    "    sampled_outputs_wire, \n",
    "    outputs_wire[0], outputs_wire[1], outputs_wire[2], \n",
    "    kernel_func='divergence_free_matern_kernel', \n",
    "    sigma_f= 0.0003, l = 12)"
   ]
  },
  {
   "cell_type": "code",
   "execution_count": 112,
   "id": "1b1331f6",
   "metadata": {},
   "outputs": [
    {
     "data": {
      "application/vnd.plotly.v1+json": {
       "config": {
        "plotlyServerURL": "https://plot.ly"
       },
       "data": [
        {
         "anchor": "tail",
         "sizemode": "scaled",
         "sizeref": 2,
         "type": "cone",
         "u": {
          "bdata": "rreCFMZr/b8oAJXsiScMwMtx1ukbBAjANvUyVxpDEMDSn7ycvJUawCyNji84eRnAPx3Me33fHMDIRinJiFohwM8amNiTLiTATqF5yUAmHcAga0DSjMTEP7AQ3JHA2NK/MJnWDVcixz9YVCY4Ee3kv36pxLLJkAbALo8H/EPKDcBHAJDF8SoUwPqnLXvlmxvAuz69Ni4sIcB6mbKvoEAhwM60yTvdYAlAW4j9f9K/EUDcTkqprzoWQAdvBXJTNRZAhXMs83ZgC0AJzkg4Iwn1P+JjQ/UGcOe/ExV3AQsuBcBea0tIcYEQwMdGcz7HvhPAGHBPe62tFkBpIVW1i4QgQEMGj/ZhoSRAJqu40xCbIkDGXknDVUchQCkhRkWikRtAjDia0Ql9EUDniamkBjQCQNKc6jO+5/M/YEiv2HyAvL/O5A+PsFgbQAJpAhriMiJAIKI736UOJkDOhg1kC7knQMLNLNubpitAN7ghlGX1J0Bt//sEjnQhQApqpQPR3xdArvfsEZ/EEEBA03pfwEAJQNdez37BqB5A1YyMrdkTI0Ao2tTX8AonQIecrsqMxCxA1J/1kWZnMECeHwfC8SksQIhAye/KPSZA6QnCSALhIEA2GnJhGs8YQIR6NjdZvRVAYM8B7XmFIUCWKRudP2kmQGqfGuNPuStAuutu+aMdL0DyUf3VofUuQGADvXN7dSxABIbqAVFwKECuS8ErtZwkQAe8VYnxhCFAAAS08OY1HkBz9VX9qDkiQCzQY3miuCZA6dMtkav4KkDUW3yzls8uQFQ93mUIPzBAQK0OIRb+LUALYy4FEycqQLBMKYuZ2CZA+wBJwamzJEB7/e6ufzgjQG+JPKH8oCFAtmLbiNuOJkDrYe8OC9MoQHMbCQ79XCtAnu0sXiJCLUCwZmcJo6UsQKafpiXuMCpAQ0wMzyFAJ0DE3B+zI08lQIO3xQZCYSVAyNROlg9yH0AlWI3Fu8ElQA+BwrzCrSVAFuitxHFNJ0Do8Z+dwyUpQMPgfeq3lylA/iz5KI8zKEBAu4PbgaolQNT913970CJARqrbT/buH0CGMGiHSp4RwBfsQJwTsRXAsGlfFs1pG8APyPedZEEhwJ+UjS9JviTAd+x5525gKMB6cxNzntEuwGTdb5zJOTDAjkFbAPsOLMCL1AgtLx4mwFDtGcoiUQLAj2EByH6FBsDkKrBzlh8QwFcOMcJh5xfAnXLxfKXtH8BOt0m8ScoiwN7m2BDBRibA984x13UkLMCsaMgMUwAqwBYAiLyevCTAGFvuhqdj3T9YBxZbpOXuP0DHTziHqOg/JITi+56K7b+q5j7xnNgLwLwX6gFT1RPADLVkaMjDFsB2SQUNlvobwLygTV5aBB/AqpRNwAFjHcCuH/6a/z0KQGwN8E2Y9RVA365bnxk/H0CS1vjTGxsdQKo9PYEE/hdADZ99M1O/EEAkCEgq7lf5Pzg9+ah03vW/sGO+HnJ8EsDjnzDkjkwQwPQM9scCbBdA0NJXq5FrIUAmy31nu9UoQBthGup1ai1ArL+F6EngLkBsBeyy+5QrQAmZWFuzmCFAaNGjZJT1FkAFwM1GRhURQGVGhvh6xwVApCHy35a7IEDycip2jPsnQBxvmguI8TBADtxfKE+oM0DM2yU1cxEzQNNC3HUCZDBAVt6U+BueKEArMESfZ8QlQHhPKhmohiZAE540PS9pIUBahytzuuYkQIiEO/QHJS1Adfr5CAa0NEC78EZ/sEs2QMDxNix/9TZA1GsV9PYNM0DNtbjzc3MtQFTxQViWdClAsIDVclwYJkATj1ZDjT4jQFZuHQRpViVA6Nxm9GaKKkCYFAuTcyowQP2nxKIlWTRAdsjWYOzqOEAuKre6AT41QPRxkFM2FzFAXK5S1knJLUCmAc/GJygsQJXMwCKP0SVA9pshX4fKIkAl3Iv/jU8nQPjKcm1JIyxAwFg8i7W2MECISw2/TcgyQMRoylLi/TJAV76lKHBfMUAQfgwGbhAvQEIfVEI5ESxAxhm20eNcJkC62uylPdUjQNasdQquWyVAII7ATMSpKEBm8xjMOqotQIFTsMoSEzJAo1u3dqyaMUCif2belxMwQJd553EfYCxAcQu42f+XKEAuXp8c528kQMGMV3Q+FCLAGJdm3vSSKMBQA/iCbagqwCb5X5rSCjDAFOk8+l/KM8DhXRPo+UszwALehH2S0TTAmmsDFu+KOMCKGfLAssg2wDw7RKtsuTHAzEpx12lrGcCSu7B8g7ofwFW8575yHiXAksVrPKN1K8C5wK2y4AEwwD57ScHdsTDA/NKOfX+DMsDPlm0tZcc1wI8FI91jUzfAuPqhVT9lMsAaSxW4JlwLwKNOb1TgTBHAdFaImyY5G8B5CT5l+rQjwKntkMOjmCTAUrBNape5JMBiEICBZZEowLIVxQomii7ACGjRkc1cMMD20S5A5iUqwMHEHOSo7+y/1L7OyyXnCcAIxEI5NO3pv8gGrrE2htS/Dg+wmJqy4T8B7km3QYXhPyt9HFGN3QnArG3Sr4TKGsC2WDq/ZGAhwGDZpgHqyR3A353h3vb1DkDUYry3VTYbQDAGJIe9UytAbVbhyxYIMEDicGyPCNAoQI6yKBU7px1AwiZunv6BEUCz9S4x+MYPQIChedKsOQdAktZDDDv59D9njc4KOMAhQKsVjNPVui5AGFK6+AYOOEBh6K1IkUg7QNaWgA9rAThAhU5Fi8azLkABptsGJBMnQLxK+KG3kypAMmBN6gD0LEAq0cZnkgckQHw/Q5PNgChAryhYOUzaMEC62OHemyc3QAZLdpHKfjxA1gNDcItWPUCWrqzbTQg2QCrn5ENn4jBAbmgwWhC4MEDSQqZTdfwyQM7dVVM9zipAWTHCZ1sMLUAhmdtkIFMwQNjIECl8jjRAPyc5z8bYOEDd++Ypdd08QN4sGF2svzdAMPtweRBFNEBfMTMwnSMyQJhnk395RjBA0cxghpswK0AoLN94uuElQLEq5uQBVixAvglVniGRMUCWZMupp5E0QIa3OB319TZAqCmkuZTON0AfWUl3Iig2QGyDvFHYaDNA3NquymFNMUCwQQygvwYwQJ0AlwyH7yVAJJT+rk3ELUDgtMLsAM8vQBR5sQLALzJAllRLGH0fNUDa+Gz7wtI3QPvkhKZUnDRAcMtw0gnRMUBwiMypNLwvQHDRV9c8LixA2p2xTjv/KcAKLC0WrEwwwJBBlJhnCTPARrCmLmq+NcBNvZo4nuQ5wBmB2jrMfjfA4oR+P+QCOMBZxYC6O3o5wFp+pcFV6TfA7iwB72XLM8DdHiE9C6EmwExZtRKanyzA48GxuKc8McAoFCaeaMA0wOYAIteq0jnAbDPHSF8PN8AiyzOPfVQ4wCLF1gD2JTvAzQUF8VXGOcCWehycwcA0wME9Y7N6DSHAayVwFDQSJsD0iSft0yErwBybi3X2QzDAVHwiGQ2hMcDSsWKBVnUxwCL2jGYoLDTA7ux3vtHhOMB4fVGzj1M5wIYPiD5mLDPAFA1gkbpjEsAu2YNFK0oZwORyfYJ0MB7AT2bLR9hxJ8AcJA7LVxcfwLbEnyZI8h7ALMI9HE2bJcD2Aiv7LzYuwItGVZePVzHAOhDrH/mQKcAsNE/kJo3/P9STy8dRChlAIkqtdwboK0BLvufuDzorQFLDnUmoqyJA8mKGIUxAFUAvPK3C+bsZwNjtVxoft+4/6Iq47Gjc4b+8cqw8kaz2vz+OEjRceR9AJ3XHyDCMMEDvosG8QjtAQDQOFKWhAEJADfDjbZFiOkAiXjd/dJc4QO2or4HYviRAlCRnzGtLMkAmrCGBW6AsQAAzRaUjQCVASPBw6IK0JECRY6P+QsMwQElmQr2x8TpAQzIOQZPJQEAQQJZLQydAQEJki/LEADdARqxAWfh3MUBaMc0RsjIxQL6pxqZWjTJArUL6Qe4WMECUDh7cj8snQKR4VOLvKzJACCdAr3w1PEALNn4hLmk8QKa/MHj2jj1ARQMvpgbpOEA1bX15rHw3QHV1k1OM+jVACDyIP8sFNEAUrHVP6PQwQGNQlvyDKilAzP4XvM7xMEDitCLiIZs1QJm2k4N+ETlAold2caJrO0COVnwWdnk6QJQjrbOodTxA6RzFo/h9N0DV+3j/VZQ0QL5FcXUmijFAZcEGIDZAKUDskXg18QswQBw5suyf9jJAZxuzh+c5NkAWolZMwcQ5QHqu3JaOuDdA4s2eJhDaOECv5Eu3saI0QOukBIOLfDJAXvskfNtzL0DsnL5d6TowwDhZN6TRIjTAywvi5jIHOcARi0zeugo4wECGDf/fBjjA8O0IayNdOMDvZIcomWw7wLRXR7g+ZEHAylu02jB6PMBRuGbhTpc1wKCcMiwjtC7A3jqKI+dfM8AatULni3o2wNREUrkr0DfAGFyGru3GOMAoFaVatj45wMwlsSqgqzzADTYiIXA3QsA0vDJ17f1AwLzzasutpzfAF8CYUujXKsBkbT4dcFAywCXadkndejPAlpGjciOgNMDEnRixxik2wBj3rTCaajfA+nzm8b1cO8Bs8RQmjSdCwNS9iHUV2EDAJiWOcy5yNsA63LWy0LAhwLZje55F6CvA8RZCWOyzKcBuYH6aQWUrwIL5mb7nPTDAgsy5JmoVM8CZcjiA9jA1wEf3JXRZTDzAiGYCgmxRNsAMnB2WQeIvwG4cNCiSY+q/ntvds4sD4L+6OKfo9d7gv665vmqHw/O/oDyxCilOBsCkijZEp5gVwPSpBmVMSxjAvJZhbfMWHsC8TXtZU5gZwKBcgaj7bxLAUvJaEFCfF0AJu7SwZcshQEjxO7X5rSZArhbmZVLqKUCtYSukeGAsQI4qaSy6sitAtEqJIqueJUCmfeEyHbciQIoOZqOEECZAfnsqtuf1MEAbqZahLMYmQBZDjmQm1S9AVBvvycJzNEDklHWWnlg4QCGdJ9kbMTlAp3UkR6CXN0A4/EIBo8w1QOsOUXiDTjZA02v7dxezOEBi5OVabOE0QGx49d5UVjJAJW9Z02IlNUBGztDIIOk5QLwAd0s0NUFAyjyDPJhvQUCBULNHbjs9QD/oAMuPzDtArmSU5gYjP0C+CxByfrI5QLa4Kw4IUDNAhb4jdwSTMUCeDRVFVno1QOgsRXiFNjlA/g0uaLIdPkA/NA3ByrE/QBCnZDg+kD1ARDbiZewOO0BcjbDr9xU6QIK7DpBlYTdAqud4NpGdNEBNUIfnGvkuQHBPfvyDcTNAqCB0ImC2NkAc/VABFYU7QENBZMNT1TpAdawiSgAWPECN4ksdp9w3QDJcizvcvjVAyEs/2IyrNUBeJViGcIgwQCQ3gAaMKTPAeByxcI77NMDghkKN5tY3wIyc9Ck5YjvA5kNguf30P8DaFXNdQfY6wEX+QiGI9jjAJ7LLHQRvOcACbPXl2YU4wFTweXJprzTAX1KmCDDGMMCu3sJh8gs1wNSKcrHoszjAFk/rW0s9PcCAHtb9lvZBwE5TL+6XqTzAooMZrLXxOcCaUYy6OkU6wLLzD8WapTnAWMYkRpcANcDcz3VwCRoswLYJtW66/jLAzTb+1P80N8BKL9APaOY7wA44LFz9tzzAasG9rlnDOsAmn2GEecQ5wJVesg/TlTnAmIwW6Y0mOcCoSHw+41g0wBuR7vk5jyHAlDy3kk5TKcAiNM7OGUkxwN9BYMpxmjnAAQ/hoziCOMBF9+76dgs4wNpzh90VwjrAUFLngbVBOMC2PTQB5pk1wPlgC5UpGzDAjs5mJLsk7r+897WUBd3yv3Djf/eXd/u/Qgi7fvVoDMDjoW8nBogZwM/6EYzkiSDAMF412iiVMMBnvr28o64kwNRjaZTjCBLASHa7SyALA8D9BeNFcrwdQCVbHrn3hSxA4xSCTZRkPUDxF2nMnmBBQFLnwqe+Bj9AMJLA/BhYPkDTqe77/iI1QHwmMlqsjDhAUYHLB5M5KkDqU8KsYIkbQONWaOFgyyxApKmkYVf+N0AfYEGVni1DQOo70iWKeElAxHfrv8M+SUBC02RXTopEQDxVRHokw0BAF/xdDLZTP0AuvM45CeQ1QAyUkTj0typAsjSB7wlsM0BznyMBDSU/QFHL9Azy8ENAY1jR7klDRUAnqQf1nIhFQFI6DLpwVkNAzr4VuzFaQUCK3rIJoZNAQKo3iK/ebjdAnpkjG9aaL0AFLNdD2KkzQPwgK0FlZTtAOmmpr8EWQEAW8IEXijVBQK45OWqQlkJA5kzXvBjSQ0CUqAPV/GpCQH87SGEPCz1A37reznVVNUAit8c2pAAvQMwLsGbZzTFAIJaqeJjHOEDISp5jnRg6QMMLFiccyTxA4u+7hVX0QEAOAvUxvqFAQNE1O064L0BAYigoZghjOECp+SIa2l4yQLpKqkFCSixA3Y7Cm18HL8AyhXDpdt40wCq1uMDUAT3Ans5eyO8QO8BixF9Dw4I5wLLQQFAPMTjATi+0siLiOMDd7h9EX5Y8wKA1niswHTnAjeH+v67NNMC7p+tiAdsuwJLBbc064DTA+/0X7xknOcCVL0Uglm08wHSqQWQ+tDrAS0DBnrk0OcDnpW8yEX86wIj4RsIm9z/AW62ZVgR7PMDYEHjNOeoywJDplL2URSjAROzmvGMAMsCmeL/Xekc0wHmNHE+IIDfAVAVNe/rHOMDdU3wQcp43wKr4pkzWQDnA//kXNO97P8ByqfpD8yw7wKzgD5C1YS/A+oNZGKiwF8DeKiG/jEIhwLA7S8eB3yjAoi7+gFKWLsB3EIiwU0AywFe1ajgHsTHAD9HGgjT1NMB5hqtP7286wOYYygqJezDAcKiTiag/H8Dc3cQ77q74P22h9+/Q7gZApl/kV/LMD0CU1FodR4YRQMhzhb8arQdAdQUOatEd8r/m5CU62G0bwBqVr1e7oB7Aditplj6447/+E8XDPlAYQGo2iNmAVyNASfZlrE5uMED9zmjv8gc5QFtpZUhRhTxAx8iJ0qERO0B6kYqLHbI2QIYTshWW9jJAEUNgykBkMECU72UXfgctQDoZhYBDpjJANM7PiQELMECc3sWzPhc5QPrTdzVGGUJA52THaiyHRUCE8eAJroREQFZbTYxnSUJAWg3XH3vQQECOuNDH1AU+QBY9y0jU+TRAgD7pAjWsKkAt5/JAFmszQEZJCcnTWjxAQiNjtHKiQ0BJpNjvqFRIQNsSIBthyUVACiskpU1VQ0AgDEzRbcZBQFRO6lFCVkFATNqUvms3OEAkaZlXVrwwQGcCznXdtDNAbjS5Z+rpOkBKeSQC52BBQOYS3gYFFERAze1oZgWwQ0AgotunZYlCQKpKWYD080BAvZa/ftGGPUBNJAIgrCQ4QJT/55JdezRAITe808f4MUCsYb6AkDE3QKGmgXCAJT1Ahhrfjo/PQUCIk165MUZBQFuWakULg0BAzgStcPs0PkBwTdDS3Og5QNYC11oLdTdAJaDva5pAMUC0uhRdpfgwwPL3zcHoZzHA9A+sdfBfM8AuAp0qgnIzwBj9XJCBqzPAt05soN//M8As/a2CHoI1wCNtQrpHpzXA6MLJEf6HM8CWjIw8XqEtwMB+cn4eby3Ax/NL05o0MMASzicDyhI0wFTMEVkOyTPArPhnJjZcNsBYtGhBUqE0wMYQXt5GIjfALmUUpvxgN8BQJHFOoQM2wOIa0QEEWi7AnN1wXRG1H8B5a4zea6YkwKna2i9NLCvA5brqnCtJLMB2W/1m4LEuwOI7Zj9h1i/A0LuFC3ExMsCkyv6mMqg0wBd/YgGJITPAxkR+d8/aKcA2m06RsToGwCSYlIKL+grASOwquYuvEMCsQWMPkREVwI1TI+gnDhPAps9XJdDZHsCgRM3h1zYnwH/RkTqkEi3AmAKHTZ7LMcC8RXyJYjwowOuV50XA2AlAn8Eh5G5dE0ClDRk2M9QZQPLQcFCzIx1A5Ny7Fe9bGkANQv0VRy4JQFp1pk95Sf+/7ClXrDRLGcCUJfxcES4RwC/nWFugQvC/MM4OPTKdJEAYlUCUHqctQAopkoUYCTNA4iMzzOI7NUAxqAI9yG40QBlsD5Ub7S9A/vKNIJtvJ0D/fHJovvseQDE6t96z3iBAf6lKEhkYIkD2bqQgDgAxQNP51NNMgjhAybcnbUxNPUDGOWv6wTA/QOaDKLrmIj1AAp67qSPuOkAHr6scbOk4QAcvLuLZ+DZAbA+NmWYtMkCYUqxMV8sqQLqQzGL/TDVA55qinlk+QEA/zQ+bFbpCQP4wwdgc8EJAXkw2y81HQkCadZWzbWFBQEEa+/pXEkBA0DJVIAkiQEABJ1YCiKc3QEzRJ8dWnTBAi7DH9uBANUBDdJv0flU9QKIzztebcEFAFJQndEV0QkDCM+BGB/ZCQFY7ZR0MskRAmNtdgr6RQEB+xkOTXTk8QCKAiP2/TTdASGrRkNoIMkBWv8/Tq+gzQBKVqinPuDtAQ34bXv5FPkAeDI7dFj9AQIYoflMUuUBAWGMLqHzHQEDjywM+AUA9QKD6fcOu5ThARi4n+/g6NUAPRETdZeowQHjCUnYPWCbA7/EgDmscKcBhFfAV6uMuwHp71ui75CzA/Xcc/XGbLMCh4Vg26eoswB6wNxMDli3AtHgGVRHuLcDYOCxPE3gtwHvhu7qB1izA7LzFtBRWJMCKIPhmB8olwIbMYQOXdCrAGm81SteiL8Diky9EThUswID6ktDeXyvAFPLbDbMPLcAdYxt8TgUwwCg1f8CSOTLA+scOgIyALcAQQTaJgQkYwAeFlY7UOyLACXsL40n3IMAP19Ao1AwiwAb+QAPnqyDAOyFsPkr0IsBBnkbr2jEnwJ3atOyYVCvAq4mXkTlGLcBGrwcEDdsowNKuwJTbWgDAetd7mV1NBsDYkmLG/4jxv6u6hCOr3vO/cI2NWSSaBMDuiphx1zAMwNdn+dcUghfA6rXY7QVlIMAe8Z6YyXAiwF2kidPQ4BzATHCJjdS0B0D2+BJ9L2sKQMwxs4uuHxFAwFaUPLnwEUDg6HsohGAGQBYYsDt1SAhAYOxn05moA0A+yo/Aw9LYPxCWfeP58f+/rGZllaVv+b+65h1XBkMiQNJTaXiAEydAlzs2o1pMJ0BFWWfL9cYnQNqGqD2NwCRA3neWiWm5JUDqEKiCnsEmQAg/j2iB3SBAOrBR3FslFkBazDj8mIoTQBKLuPD24y1AJOOH5oOEM0Cm3G/mjy01QJRA6xybxDVAtouVfq0INkBZ2txS3KwzQGuYQd56fjFAxhPi/9ZFLkB6Cf1Vo+grQEf9Wvj3KSVAxwKObIrXMkBey0g0nI05QGtht92h5zpATFnFtqfcO0CJbaH18Ws8QIDfrA2OgjpACgZQSwM2OEDxoPhqCkk2QKEwE5WWRDNAdbHhCAXHLED67ZJH1KwzQM0AbD2YbTlAMZ/FB1HrO0Aq1cUuaPw8QEjGVTYphz1A4tvMlIrkPECsTD8ggkY6QGRfEyx/UTdATHrd5eTAM0BsCUysyCQvQE4BsMrefTJAOk/yswZ3N0AHXTRh9MY7QNyvr8vQlztAGqGWLYcXPEDzx0oo0AE9QAqEC2k5FDlAKhCsz4a7NUD2VG6yvZYyQAn6kVqGRy5AA6LTE1j0HMDUuUlOejQhwHC8COdetSPAWB//duHcJMDQzAwGWxElwOa0sZ5sYyXAnoZ1blIEJsCwzDOrGZwmwLBYNh3iiSbA+u5s1ZJiJMBKND/Ab3chwOiFF1aFVSLALq+OvbmYJsAQ/rZJCqskwDU0UvR2WyPAfjabZqPRJMAGsw8UGeUpwBYvH0KDkSnAPHLxMp+RLMD8ujTAMMslwA/Ft57cqBjATZgNltiKHsCGLYnadjEjwChChijhjxzA+t5BvhRWGMDa3Zd+8IocwARXBDJHuyLAF41r/qe9JMC8fvsaG60lwI5Xoa+ewSHA/b+NSWf6+7/+1b9Iyu4EwJAjqHqScwXAgFFzDFrR5r8DdNFjm5Dtv/NIvnLKgP+/fhAjGq53DMCOOkRvKy4XwJzj1jsCDiDAI4D8noRfGMBkbncEAd4HQJxla9SjrwlAZx8xC0faCkBXFklxndQKQPJo2xBENgpAekcco7srCkBKVMoeC5IEQEx3HqUxWc0/qDlmH/2kA8Bu5rcRjcr+v2i0+Fvo0R5AaCppKHi3IUAR+3rMquUhQFtipKxwGiBAieLg7F6zIEAu/zcynT0hQJUugSVQAyBA0THXjaH7GED6qQcsmUURQIh62isV2QpAjpY5gvQLKEAMYoRSIZ8tQMzV4ym71DBABEOJayT/L0BQS8DpIoAuQBabkLoXIy1AdtaG7U4mKkCi4sDnz2omQFjk3LAG0SJA4XVCc83OHkCx+OWFddAtQIyfhB6xmzJAbkVwdvmPNkDUcJ6MVis1QFJEmL4x5zRAm47V9LvrNECUb8J133gyQOvg0Wf4py9AdA3CSv+0KkBO8vVUhLIlQHo1p5sA4i9AzFbl7KX3MkDTFr+fAg81QHbn05CvLjZAwplEF4U+N0B/OXg2ywY5QPZYDV0QNzVAyucby7UbMkAjwvgjOL0uQBPHePn+KClA8BGUJVJYL0Bwl0oVWlcyQD7dIno0PjRAAMtt6gVrNUD1mj4Aves1QESE0Qi1pTVABne13tMaNEBkcO4mVfMxQELcewQsEC9AtjoNl7DkKUA=",
          "dtype": "f8"
         },
         "v": {
          "bdata": "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",
          "dtype": "f8"
         },
         "w": {
          "bdata": "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",
          "dtype": "f8"
         },
         "x": {
          "bdata": "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",
          "dtype": "f8"
         },
         "y": {
          "bdata": "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",
          "dtype": "f8"
         },
         "z": {
          "bdata": "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",
          "dtype": "f8"
         }
        }
       ],
       "layout": {
        "scene": {
         "xaxis": {
          "title": {
           "text": "X"
          }
         },
         "yaxis": {
          "title": {
           "text": "Y"
          }
         },
         "zaxis": {
          "title": {
           "text": "Z"
          }
         }
        },
        "template": {
         "data": {
          "bar": [
           {
            "error_x": {
             "color": "#2a3f5f"
            },
            "error_y": {
             "color": "#2a3f5f"
            },
            "marker": {
             "line": {
              "color": "#E5ECF6",
              "width": 0.5
             },
             "pattern": {
              "fillmode": "overlay",
              "size": 10,
              "solidity": 0.2
             }
            },
            "type": "bar"
           }
          ],
          "barpolar": [
           {
            "marker": {
             "line": {
              "color": "#E5ECF6",
              "width": 0.5
             },
             "pattern": {
              "fillmode": "overlay",
              "size": 10,
              "solidity": 0.2
             }
            },
            "type": "barpolar"
           }
          ],
          "carpet": [
           {
            "aaxis": {
             "endlinecolor": "#2a3f5f",
             "gridcolor": "white",
             "linecolor": "white",
             "minorgridcolor": "white",
             "startlinecolor": "#2a3f5f"
            },
            "baxis": {
             "endlinecolor": "#2a3f5f",
             "gridcolor": "white",
             "linecolor": "white",
             "minorgridcolor": "white",
             "startlinecolor": "#2a3f5f"
            },
            "type": "carpet"
           }
          ],
          "choropleth": [
           {
            "colorbar": {
             "outlinewidth": 0,
             "ticks": ""
            },
            "type": "choropleth"
           }
          ],
          "contour": [
           {
            "colorbar": {
             "outlinewidth": 0,
             "ticks": ""
            },
            "colorscale": [
             [
              0,
              "#0d0887"
             ],
             [
              0.1111111111111111,
              "#46039f"
             ],
             [
              0.2222222222222222,
              "#7201a8"
             ],
             [
              0.3333333333333333,
              "#9c179e"
             ],
             [
              0.4444444444444444,
              "#bd3786"
             ],
             [
              0.5555555555555556,
              "#d8576b"
             ],
             [
              0.6666666666666666,
              "#ed7953"
             ],
             [
              0.7777777777777778,
              "#fb9f3a"
             ],
             [
              0.8888888888888888,
              "#fdca26"
             ],
             [
              1,
              "#f0f921"
             ]
            ],
            "type": "contour"
           }
          ],
          "contourcarpet": [
           {
            "colorbar": {
             "outlinewidth": 0,
             "ticks": ""
            },
            "type": "contourcarpet"
           }
          ],
          "heatmap": [
           {
            "colorbar": {
             "outlinewidth": 0,
             "ticks": ""
            },
            "colorscale": [
             [
              0,
              "#0d0887"
             ],
             [
              0.1111111111111111,
              "#46039f"
             ],
             [
              0.2222222222222222,
              "#7201a8"
             ],
             [
              0.3333333333333333,
              "#9c179e"
             ],
             [
              0.4444444444444444,
              "#bd3786"
             ],
             [
              0.5555555555555556,
              "#d8576b"
             ],
             [
              0.6666666666666666,
              "#ed7953"
             ],
             [
              0.7777777777777778,
              "#fb9f3a"
             ],
             [
              0.8888888888888888,
              "#fdca26"
             ],
             [
              1,
              "#f0f921"
             ]
            ],
            "type": "heatmap"
           }
          ],
          "histogram": [
           {
            "marker": {
             "pattern": {
              "fillmode": "overlay",
              "size": 10,
              "solidity": 0.2
             }
            },
            "type": "histogram"
           }
          ],
          "histogram2d": [
           {
            "colorbar": {
             "outlinewidth": 0,
             "ticks": ""
            },
            "colorscale": [
             [
              0,
              "#0d0887"
             ],
             [
              0.1111111111111111,
              "#46039f"
             ],
             [
              0.2222222222222222,
              "#7201a8"
             ],
             [
              0.3333333333333333,
              "#9c179e"
             ],
             [
              0.4444444444444444,
              "#bd3786"
             ],
             [
              0.5555555555555556,
              "#d8576b"
             ],
             [
              0.6666666666666666,
              "#ed7953"
             ],
             [
              0.7777777777777778,
              "#fb9f3a"
             ],
             [
              0.8888888888888888,
              "#fdca26"
             ],
             [
              1,
              "#f0f921"
             ]
            ],
            "type": "histogram2d"
           }
          ],
          "histogram2dcontour": [
           {
            "colorbar": {
             "outlinewidth": 0,
             "ticks": ""
            },
            "colorscale": [
             [
              0,
              "#0d0887"
             ],
             [
              0.1111111111111111,
              "#46039f"
             ],
             [
              0.2222222222222222,
              "#7201a8"
             ],
             [
              0.3333333333333333,
              "#9c179e"
             ],
             [
              0.4444444444444444,
              "#bd3786"
             ],
             [
              0.5555555555555556,
              "#d8576b"
             ],
             [
              0.6666666666666666,
              "#ed7953"
             ],
             [
              0.7777777777777778,
              "#fb9f3a"
             ],
             [
              0.8888888888888888,
              "#fdca26"
             ],
             [
              1,
              "#f0f921"
             ]
            ],
            "type": "histogram2dcontour"
           }
          ],
          "mesh3d": [
           {
            "colorbar": {
             "outlinewidth": 0,
             "ticks": ""
            },
            "type": "mesh3d"
           }
          ],
          "parcoords": [
           {
            "line": {
             "colorbar": {
              "outlinewidth": 0,
              "ticks": ""
             }
            },
            "type": "parcoords"
           }
          ],
          "pie": [
           {
            "automargin": true,
            "type": "pie"
           }
          ],
          "scatter": [
           {
            "fillpattern": {
             "fillmode": "overlay",
             "size": 10,
             "solidity": 0.2
            },
            "type": "scatter"
           }
          ],
          "scatter3d": [
           {
            "line": {
             "colorbar": {
              "outlinewidth": 0,
              "ticks": ""
             }
            },
            "marker": {
             "colorbar": {
              "outlinewidth": 0,
              "ticks": ""
             }
            },
            "type": "scatter3d"
           }
          ],
          "scattercarpet": [
           {
            "marker": {
             "colorbar": {
              "outlinewidth": 0,
              "ticks": ""
             }
            },
            "type": "scattercarpet"
           }
          ],
          "scattergeo": [
           {
            "marker": {
             "colorbar": {
              "outlinewidth": 0,
              "ticks": ""
             }
            },
            "type": "scattergeo"
           }
          ],
          "scattergl": [
           {
            "marker": {
             "colorbar": {
              "outlinewidth": 0,
              "ticks": ""
             }
            },
            "type": "scattergl"
           }
          ],
          "scattermap": [
           {
            "marker": {
             "colorbar": {
              "outlinewidth": 0,
              "ticks": ""
             }
            },
            "type": "scattermap"
           }
          ],
          "scattermapbox": [
           {
            "marker": {
             "colorbar": {
              "outlinewidth": 0,
              "ticks": ""
             }
            },
            "type": "scattermapbox"
           }
          ],
          "scatterpolar": [
           {
            "marker": {
             "colorbar": {
              "outlinewidth": 0,
              "ticks": ""
             }
            },
            "type": "scatterpolar"
           }
          ],
          "scatterpolargl": [
           {
            "marker": {
             "colorbar": {
              "outlinewidth": 0,
              "ticks": ""
             }
            },
            "type": "scatterpolargl"
           }
          ],
          "scatterternary": [
           {
            "marker": {
             "colorbar": {
              "outlinewidth": 0,
              "ticks": ""
             }
            },
            "type": "scatterternary"
           }
          ],
          "surface": [
           {
            "colorbar": {
             "outlinewidth": 0,
             "ticks": ""
            },
            "colorscale": [
             [
              0,
              "#0d0887"
             ],
             [
              0.1111111111111111,
              "#46039f"
             ],
             [
              0.2222222222222222,
              "#7201a8"
             ],
             [
              0.3333333333333333,
              "#9c179e"
             ],
             [
              0.4444444444444444,
              "#bd3786"
             ],
             [
              0.5555555555555556,
              "#d8576b"
             ],
             [
              0.6666666666666666,
              "#ed7953"
             ],
             [
              0.7777777777777778,
              "#fb9f3a"
             ],
             [
              0.8888888888888888,
              "#fdca26"
             ],
             [
              1,
              "#f0f921"
             ]
            ],
            "type": "surface"
           }
          ],
          "table": [
           {
            "cells": {
             "fill": {
              "color": "#EBF0F8"
             },
             "line": {
              "color": "white"
             }
            },
            "header": {
             "fill": {
              "color": "#C8D4E3"
             },
             "line": {
              "color": "white"
             }
            },
            "type": "table"
           }
          ]
         },
         "layout": {
          "annotationdefaults": {
           "arrowcolor": "#2a3f5f",
           "arrowhead": 0,
           "arrowwidth": 1
          },
          "autotypenumbers": "strict",
          "coloraxis": {
           "colorbar": {
            "outlinewidth": 0,
            "ticks": ""
           }
          },
          "colorscale": {
           "diverging": [
            [
             0,
             "#8e0152"
            ],
            [
             0.1,
             "#c51b7d"
            ],
            [
             0.2,
             "#de77ae"
            ],
            [
             0.3,
             "#f1b6da"
            ],
            [
             0.4,
             "#fde0ef"
            ],
            [
             0.5,
             "#f7f7f7"
            ],
            [
             0.6,
             "#e6f5d0"
            ],
            [
             0.7,
             "#b8e186"
            ],
            [
             0.8,
             "#7fbc41"
            ],
            [
             0.9,
             "#4d9221"
            ],
            [
             1,
             "#276419"
            ]
           ],
           "sequential": [
            [
             0,
             "#0d0887"
            ],
            [
             0.1111111111111111,
             "#46039f"
            ],
            [
             0.2222222222222222,
             "#7201a8"
            ],
            [
             0.3333333333333333,
             "#9c179e"
            ],
            [
             0.4444444444444444,
             "#bd3786"
            ],
            [
             0.5555555555555556,
             "#d8576b"
            ],
            [
             0.6666666666666666,
             "#ed7953"
            ],
            [
             0.7777777777777778,
             "#fb9f3a"
            ],
            [
             0.8888888888888888,
             "#fdca26"
            ],
            [
             1,
             "#f0f921"
            ]
           ],
           "sequentialminus": [
            [
             0,
             "#0d0887"
            ],
            [
             0.1111111111111111,
             "#46039f"
            ],
            [
             0.2222222222222222,
             "#7201a8"
            ],
            [
             0.3333333333333333,
             "#9c179e"
            ],
            [
             0.4444444444444444,
             "#bd3786"
            ],
            [
             0.5555555555555556,
             "#d8576b"
            ],
            [
             0.6666666666666666,
             "#ed7953"
            ],
            [
             0.7777777777777778,
             "#fb9f3a"
            ],
            [
             0.8888888888888888,
             "#fdca26"
            ],
            [
             1,
             "#f0f921"
            ]
           ]
          },
          "colorway": [
           "#636efa",
           "#EF553B",
           "#00cc96",
           "#ab63fa",
           "#FFA15A",
           "#19d3f3",
           "#FF6692",
           "#B6E880",
           "#FF97FF",
           "#FECB52"
          ],
          "font": {
           "color": "#2a3f5f"
          },
          "geo": {
           "bgcolor": "white",
           "lakecolor": "white",
           "landcolor": "#E5ECF6",
           "showlakes": true,
           "showland": true,
           "subunitcolor": "white"
          },
          "hoverlabel": {
           "align": "left"
          },
          "hovermode": "closest",
          "mapbox": {
           "style": "light"
          },
          "paper_bgcolor": "white",
          "plot_bgcolor": "#E5ECF6",
          "polar": {
           "angularaxis": {
            "gridcolor": "white",
            "linecolor": "white",
            "ticks": ""
           },
           "bgcolor": "#E5ECF6",
           "radialaxis": {
            "gridcolor": "white",
            "linecolor": "white",
            "ticks": ""
           }
          },
          "scene": {
           "xaxis": {
            "backgroundcolor": "#E5ECF6",
            "gridcolor": "white",
            "gridwidth": 2,
            "linecolor": "white",
            "showbackground": true,
            "ticks": "",
            "zerolinecolor": "white"
           },
           "yaxis": {
            "backgroundcolor": "#E5ECF6",
            "gridcolor": "white",
            "gridwidth": 2,
            "linecolor": "white",
            "showbackground": true,
            "ticks": "",
            "zerolinecolor": "white"
           },
           "zaxis": {
            "backgroundcolor": "#E5ECF6",
            "gridcolor": "white",
            "gridwidth": 2,
            "linecolor": "white",
            "showbackground": true,
            "ticks": "",
            "zerolinecolor": "white"
           }
          },
          "shapedefaults": {
           "line": {
            "color": "#2a3f5f"
           }
          },
          "ternary": {
           "aaxis": {
            "gridcolor": "white",
            "linecolor": "white",
            "ticks": ""
           },
           "baxis": {
            "gridcolor": "white",
            "linecolor": "white",
            "ticks": ""
           },
           "bgcolor": "#E5ECF6",
           "caxis": {
            "gridcolor": "white",
            "linecolor": "white",
            "ticks": ""
           }
          },
          "title": {
           "x": 0.05
          },
          "xaxis": {
           "automargin": true,
           "gridcolor": "white",
           "linecolor": "white",
           "ticks": "",
           "title": {
            "standoff": 15
           },
           "zerolinecolor": "white",
           "zerolinewidth": 2
          },
          "yaxis": {
           "automargin": true,
           "gridcolor": "white",
           "linecolor": "white",
           "ticks": "",
           "title": {
            "standoff": 15
           },
           "zerolinecolor": "white",
           "zerolinewidth": 2
          }
         }
        },
        "title": {
         "text": "Div free Matern output from GP Regression for n = 100 input vectors for current carrying wire"
        }
       }
      }
     },
     "metadata": {},
     "output_type": "display_data"
    }
   ],
   "source": [
    "plotter(outputs_wire_div_free_matern, \n",
    "        title = f'Div free Matern output from GP Regression for n = {given_samples_wire} input vectors for current carrying wire')"
   ]
  },
  {
   "cell_type": "code",
   "execution_count": 114,
   "id": "5a771a5e",
   "metadata": {},
   "outputs": [
    {
     "name": "stdout",
     "output_type": "stream",
     "text": [
      "MSE for this case of 85.14330894632346\n"
     ]
    },
    {
     "data": {
      "application/vnd.plotly.v1+json": {
       "config": {
        "plotlyServerURL": "https://plot.ly"
       },
       "data": [
        {
         "anchor": "tail",
         "sizemode": "scaled",
         "sizeref": 2,
         "type": "cone",
         "u": {
          "bdata": "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",
          "dtype": "f8"
         },
         "v": {
          "bdata": "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",
          "dtype": "f8"
         },
         "w": {
          "bdata": "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",
          "dtype": "f8"
         },
         "x": {
          "bdata": "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",
          "dtype": "f8"
         },
         "y": {
          "bdata": "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",
          "dtype": "f8"
         },
         "z": {
          "bdata": "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",
          "dtype": "f8"
         }
        }
       ],
       "layout": {
        "scene": {
         "xaxis": {
          "title": {
           "text": "X"
          }
         },
         "yaxis": {
          "title": {
           "text": "Y"
          }
         },
         "zaxis": {
          "title": {
           "text": "Z"
          }
         }
        },
        "template": {
         "data": {
          "bar": [
           {
            "error_x": {
             "color": "#2a3f5f"
            },
            "error_y": {
             "color": "#2a3f5f"
            },
            "marker": {
             "line": {
              "color": "#E5ECF6",
              "width": 0.5
             },
             "pattern": {
              "fillmode": "overlay",
              "size": 10,
              "solidity": 0.2
             }
            },
            "type": "bar"
           }
          ],
          "barpolar": [
           {
            "marker": {
             "line": {
              "color": "#E5ECF6",
              "width": 0.5
             },
             "pattern": {
              "fillmode": "overlay",
              "size": 10,
              "solidity": 0.2
             }
            },
            "type": "barpolar"
           }
          ],
          "carpet": [
           {
            "aaxis": {
             "endlinecolor": "#2a3f5f",
             "gridcolor": "white",
             "linecolor": "white",
             "minorgridcolor": "white",
             "startlinecolor": "#2a3f5f"
            },
            "baxis": {
             "endlinecolor": "#2a3f5f",
             "gridcolor": "white",
             "linecolor": "white",
             "minorgridcolor": "white",
             "startlinecolor": "#2a3f5f"
            },
            "type": "carpet"
           }
          ],
          "choropleth": [
           {
            "colorbar": {
             "outlinewidth": 0,
             "ticks": ""
            },
            "type": "choropleth"
           }
          ],
          "contour": [
           {
            "colorbar": {
             "outlinewidth": 0,
             "ticks": ""
            },
            "colorscale": [
             [
              0,
              "#0d0887"
             ],
             [
              0.1111111111111111,
              "#46039f"
             ],
             [
              0.2222222222222222,
              "#7201a8"
             ],
             [
              0.3333333333333333,
              "#9c179e"
             ],
             [
              0.4444444444444444,
              "#bd3786"
             ],
             [
              0.5555555555555556,
              "#d8576b"
             ],
             [
              0.6666666666666666,
              "#ed7953"
             ],
             [
              0.7777777777777778,
              "#fb9f3a"
             ],
             [
              0.8888888888888888,
              "#fdca26"
             ],
             [
              1,
              "#f0f921"
             ]
            ],
            "type": "contour"
           }
          ],
          "contourcarpet": [
           {
            "colorbar": {
             "outlinewidth": 0,
             "ticks": ""
            },
            "type": "contourcarpet"
           }
          ],
          "heatmap": [
           {
            "colorbar": {
             "outlinewidth": 0,
             "ticks": ""
            },
            "colorscale": [
             [
              0,
              "#0d0887"
             ],
             [
              0.1111111111111111,
              "#46039f"
             ],
             [
              0.2222222222222222,
              "#7201a8"
             ],
             [
              0.3333333333333333,
              "#9c179e"
             ],
             [
              0.4444444444444444,
              "#bd3786"
             ],
             [
              0.5555555555555556,
              "#d8576b"
             ],
             [
              0.6666666666666666,
              "#ed7953"
             ],
             [
              0.7777777777777778,
              "#fb9f3a"
             ],
             [
              0.8888888888888888,
              "#fdca26"
             ],
             [
              1,
              "#f0f921"
             ]
            ],
            "type": "heatmap"
           }
          ],
          "histogram": [
           {
            "marker": {
             "pattern": {
              "fillmode": "overlay",
              "size": 10,
              "solidity": 0.2
             }
            },
            "type": "histogram"
           }
          ],
          "histogram2d": [
           {
            "colorbar": {
             "outlinewidth": 0,
             "ticks": ""
            },
            "colorscale": [
             [
              0,
              "#0d0887"
             ],
             [
              0.1111111111111111,
              "#46039f"
             ],
             [
              0.2222222222222222,
              "#7201a8"
             ],
             [
              0.3333333333333333,
              "#9c179e"
             ],
             [
              0.4444444444444444,
              "#bd3786"
             ],
             [
              0.5555555555555556,
              "#d8576b"
             ],
             [
              0.6666666666666666,
              "#ed7953"
             ],
             [
              0.7777777777777778,
              "#fb9f3a"
             ],
             [
              0.8888888888888888,
              "#fdca26"
             ],
             [
              1,
              "#f0f921"
             ]
            ],
            "type": "histogram2d"
           }
          ],
          "histogram2dcontour": [
           {
            "colorbar": {
             "outlinewidth": 0,
             "ticks": ""
            },
            "colorscale": [
             [
              0,
              "#0d0887"
             ],
             [
              0.1111111111111111,
              "#46039f"
             ],
             [
              0.2222222222222222,
              "#7201a8"
             ],
             [
              0.3333333333333333,
              "#9c179e"
             ],
             [
              0.4444444444444444,
              "#bd3786"
             ],
             [
              0.5555555555555556,
              "#d8576b"
             ],
             [
              0.6666666666666666,
              "#ed7953"
             ],
             [
              0.7777777777777778,
              "#fb9f3a"
             ],
             [
              0.8888888888888888,
              "#fdca26"
             ],
             [
              1,
              "#f0f921"
             ]
            ],
            "type": "histogram2dcontour"
           }
          ],
          "mesh3d": [
           {
            "colorbar": {
             "outlinewidth": 0,
             "ticks": ""
            },
            "type": "mesh3d"
           }
          ],
          "parcoords": [
           {
            "line": {
             "colorbar": {
              "outlinewidth": 0,
              "ticks": ""
             }
            },
            "type": "parcoords"
           }
          ],
          "pie": [
           {
            "automargin": true,
            "type": "pie"
           }
          ],
          "scatter": [
           {
            "fillpattern": {
             "fillmode": "overlay",
             "size": 10,
             "solidity": 0.2
            },
            "type": "scatter"
           }
          ],
          "scatter3d": [
           {
            "line": {
             "colorbar": {
              "outlinewidth": 0,
              "ticks": ""
             }
            },
            "marker": {
             "colorbar": {
              "outlinewidth": 0,
              "ticks": ""
             }
            },
            "type": "scatter3d"
           }
          ],
          "scattercarpet": [
           {
            "marker": {
             "colorbar": {
              "outlinewidth": 0,
              "ticks": ""
             }
            },
            "type": "scattercarpet"
           }
          ],
          "scattergeo": [
           {
            "marker": {
             "colorbar": {
              "outlinewidth": 0,
              "ticks": ""
             }
            },
            "type": "scattergeo"
           }
          ],
          "scattergl": [
           {
            "marker": {
             "colorbar": {
              "outlinewidth": 0,
              "ticks": ""
             }
            },
            "type": "scattergl"
           }
          ],
          "scattermap": [
           {
            "marker": {
             "colorbar": {
              "outlinewidth": 0,
              "ticks": ""
             }
            },
            "type": "scattermap"
           }
          ],
          "scattermapbox": [
           {
            "marker": {
             "colorbar": {
              "outlinewidth": 0,
              "ticks": ""
             }
            },
            "type": "scattermapbox"
           }
          ],
          "scatterpolar": [
           {
            "marker": {
             "colorbar": {
              "outlinewidth": 0,
              "ticks": ""
             }
            },
            "type": "scatterpolar"
           }
          ],
          "scatterpolargl": [
           {
            "marker": {
             "colorbar": {
              "outlinewidth": 0,
              "ticks": ""
             }
            },
            "type": "scatterpolargl"
           }
          ],
          "scatterternary": [
           {
            "marker": {
             "colorbar": {
              "outlinewidth": 0,
              "ticks": ""
             }
            },
            "type": "scatterternary"
           }
          ],
          "surface": [
           {
            "colorbar": {
             "outlinewidth": 0,
             "ticks": ""
            },
            "colorscale": [
             [
              0,
              "#0d0887"
             ],
             [
              0.1111111111111111,
              "#46039f"
             ],
             [
              0.2222222222222222,
              "#7201a8"
             ],
             [
              0.3333333333333333,
              "#9c179e"
             ],
             [
              0.4444444444444444,
              "#bd3786"
             ],
             [
              0.5555555555555556,
              "#d8576b"
             ],
             [
              0.6666666666666666,
              "#ed7953"
             ],
             [
              0.7777777777777778,
              "#fb9f3a"
             ],
             [
              0.8888888888888888,
              "#fdca26"
             ],
             [
              1,
              "#f0f921"
             ]
            ],
            "type": "surface"
           }
          ],
          "table": [
           {
            "cells": {
             "fill": {
              "color": "#EBF0F8"
             },
             "line": {
              "color": "white"
             }
            },
            "header": {
             "fill": {
              "color": "#C8D4E3"
             },
             "line": {
              "color": "white"
             }
            },
            "type": "table"
           }
          ]
         },
         "layout": {
          "annotationdefaults": {
           "arrowcolor": "#2a3f5f",
           "arrowhead": 0,
           "arrowwidth": 1
          },
          "autotypenumbers": "strict",
          "coloraxis": {
           "colorbar": {
            "outlinewidth": 0,
            "ticks": ""
           }
          },
          "colorscale": {
           "diverging": [
            [
             0,
             "#8e0152"
            ],
            [
             0.1,
             "#c51b7d"
            ],
            [
             0.2,
             "#de77ae"
            ],
            [
             0.3,
             "#f1b6da"
            ],
            [
             0.4,
             "#fde0ef"
            ],
            [
             0.5,
             "#f7f7f7"
            ],
            [
             0.6,
             "#e6f5d0"
            ],
            [
             0.7,
             "#b8e186"
            ],
            [
             0.8,
             "#7fbc41"
            ],
            [
             0.9,
             "#4d9221"
            ],
            [
             1,
             "#276419"
            ]
           ],
           "sequential": [
            [
             0,
             "#0d0887"
            ],
            [
             0.1111111111111111,
             "#46039f"
            ],
            [
             0.2222222222222222,
             "#7201a8"
            ],
            [
             0.3333333333333333,
             "#9c179e"
            ],
            [
             0.4444444444444444,
             "#bd3786"
            ],
            [
             0.5555555555555556,
             "#d8576b"
            ],
            [
             0.6666666666666666,
             "#ed7953"
            ],
            [
             0.7777777777777778,
             "#fb9f3a"
            ],
            [
             0.8888888888888888,
             "#fdca26"
            ],
            [
             1,
             "#f0f921"
            ]
           ],
           "sequentialminus": [
            [
             0,
             "#0d0887"
            ],
            [
             0.1111111111111111,
             "#46039f"
            ],
            [
             0.2222222222222222,
             "#7201a8"
            ],
            [
             0.3333333333333333,
             "#9c179e"
            ],
            [
             0.4444444444444444,
             "#bd3786"
            ],
            [
             0.5555555555555556,
             "#d8576b"
            ],
            [
             0.6666666666666666,
             "#ed7953"
            ],
            [
             0.7777777777777778,
             "#fb9f3a"
            ],
            [
             0.8888888888888888,
             "#fdca26"
            ],
            [
             1,
             "#f0f921"
            ]
           ]
          },
          "colorway": [
           "#636efa",
           "#EF553B",
           "#00cc96",
           "#ab63fa",
           "#FFA15A",
           "#19d3f3",
           "#FF6692",
           "#B6E880",
           "#FF97FF",
           "#FECB52"
          ],
          "font": {
           "color": "#2a3f5f"
          },
          "geo": {
           "bgcolor": "white",
           "lakecolor": "white",
           "landcolor": "#E5ECF6",
           "showlakes": true,
           "showland": true,
           "subunitcolor": "white"
          },
          "hoverlabel": {
           "align": "left"
          },
          "hovermode": "closest",
          "mapbox": {
           "style": "light"
          },
          "paper_bgcolor": "white",
          "plot_bgcolor": "#E5ECF6",
          "polar": {
           "angularaxis": {
            "gridcolor": "white",
            "linecolor": "white",
            "ticks": ""
           },
           "bgcolor": "#E5ECF6",
           "radialaxis": {
            "gridcolor": "white",
            "linecolor": "white",
            "ticks": ""
           }
          },
          "scene": {
           "xaxis": {
            "backgroundcolor": "#E5ECF6",
            "gridcolor": "white",
            "gridwidth": 2,
            "linecolor": "white",
            "showbackground": true,
            "ticks": "",
            "zerolinecolor": "white"
           },
           "yaxis": {
            "backgroundcolor": "#E5ECF6",
            "gridcolor": "white",
            "gridwidth": 2,
            "linecolor": "white",
            "showbackground": true,
            "ticks": "",
            "zerolinecolor": "white"
           },
           "zaxis": {
            "backgroundcolor": "#E5ECF6",
            "gridcolor": "white",
            "gridwidth": 2,
            "linecolor": "white",
            "showbackground": true,
            "ticks": "",
            "zerolinecolor": "white"
           }
          },
          "shapedefaults": {
           "line": {
            "color": "#2a3f5f"
           }
          },
          "ternary": {
           "aaxis": {
            "gridcolor": "white",
            "linecolor": "white",
            "ticks": ""
           },
           "baxis": {
            "gridcolor": "white",
            "linecolor": "white",
            "ticks": ""
           },
           "bgcolor": "#E5ECF6",
           "caxis": {
            "gridcolor": "white",
            "linecolor": "white",
            "ticks": ""
           }
          },
          "title": {
           "x": 0.05
          },
          "xaxis": {
           "automargin": true,
           "gridcolor": "white",
           "linecolor": "white",
           "ticks": "",
           "title": {
            "standoff": 15
           },
           "zerolinecolor": "white",
           "zerolinewidth": 2
          },
          "yaxis": {
           "automargin": true,
           "gridcolor": "white",
           "linecolor": "white",
           "ticks": "",
           "title": {
            "standoff": 15
           },
           "zerolinecolor": "white",
           "zerolinewidth": 2
          }
         }
        },
        "title": {
         "text": "div free matern regression errors for n = 100 input vectors for current carrying wire"
        }
       }
      }
     },
     "metadata": {},
     "output_type": "display_data"
    }
   ],
   "source": [
    "# plot residuals of fit above: \n",
    "residuals_wire_div_free_matern, mse_wire_curl_free_matern = differencer(outputs_wire, outputs_wire_div_free_matern)\n",
    "print(f'MSE for this case of {mse_wire_curl_free_matern}')\n",
    "plotter(residuals_wire_div_free_matern, \n",
    "        title = f'div free matern regression errors for n = {given_samples_wire} input vectors for current carrying wire')"
   ]
  }
 ],
 "metadata": {
  "kernelspec": {
   "display_name": "env",
   "language": "python",
   "name": "python3"
  },
  "language_info": {
   "codemirror_mode": {
    "name": "ipython",
    "version": 3
   },
   "file_extension": ".py",
   "mimetype": "text/x-python",
   "name": "python",
   "nbconvert_exporter": "python",
   "pygments_lexer": "ipython3",
   "version": "3.12.0"
  }
 },
 "nbformat": 4,
 "nbformat_minor": 5
}

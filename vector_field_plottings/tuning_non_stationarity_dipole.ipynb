{
 "cells": [
  {
   "cell_type": "code",
   "execution_count": null,
   "id": "a39177ea",
   "metadata": {},
   "outputs": [],
   "source": [
    "import sys\n",
    "sys.path.append('..')\n",
    "import numpy as np \n"
   ]
  },
  {
   "cell_type": "code",
   "execution_count": null,
   "id": "c69b1a75",
   "metadata": {},
   "outputs": [],
   "source": [
    "# Loading my modules\n",
    "from plotting_tools.plotter import plotter, cross_section_plotter\n",
    "from physics_informed_vector_fields.magnetic_dipole import field_around_magnetic_diplole\n",
    "from plotting_tools.field_comparison import differencer\n",
    "\n",
    "from plotting_tools.sample_field import sample_field\n",
    "\n",
    "from GP_Implementation.Kernel import sample_vector_field"
   ]
  },
  {
   "cell_type": "code",
   "execution_count": null,
   "id": "a5294ce7",
   "metadata": {},
   "outputs": [],
   "source": [
    "outputs_wire = field_around_magnetic_diplole(100000000, resolution=30)\n",
    "#test_outputs = sample_vector_field(kernel_func='divergence_free_kernel')\n",
    "plotter(outputs_wire, \n",
    "        title = 'B fields around current carrying wire')"
   ]
  },
  {
   "cell_type": "code",
   "execution_count": null,
   "id": "6bfbe7b5",
   "metadata": {},
   "outputs": [],
   "source": [
    "# unpack outputs\n",
    "x, y, z = outputs_wire[0], outputs_wire[1], outputs_wire[2]\n",
    "u, v, w = outputs_wire[3], outputs_wire[4], outputs_wire[5]"
   ]
  },
  {
   "cell_type": "code",
   "execution_count": null,
   "id": "d65e7e2c",
   "metadata": {},
   "outputs": [],
   "source": [
    "field_magnitude = np.zeros_like(v)\n",
    "field_magnitude = np.sqrt(u**2 + v**2 +w**2)"
   ]
  },
  {
   "cell_type": "code",
   "execution_count": null,
   "id": "e2e39cdb",
   "metadata": {},
   "outputs": [],
   "source": [
    "u_norm, v_norm, w_norm = u/field_magnitude, v/field_magnitude, w/field_magnitude "
   ]
  },
  {
   "cell_type": "code",
   "execution_count": null,
   "id": "60a93ce3",
   "metadata": {},
   "outputs": [],
   "source": [
    "plotter([x, y, z, u_norm, v_norm, w_norm],\n",
    "        title = 'B fields around current carrying wire')"
   ]
  },
  {
   "cell_type": "code",
   "execution_count": null,
   "id": "e799b58e",
   "metadata": {},
   "outputs": [],
   "source": [
    "import numpy as np\n",
    "\n",
    "def compute_jacobian(field, dx):\n",
    "    \"\"\"\n",
    "    field: shape (Nx, Ny, Nz, 3) — 3D vector field\n",
    "    dx:    float or 3-tuple of spacing(s)\n",
    "    \n",
    "    Returns\n",
    "    -------\n",
    "    jacobian: shape (Nx, Ny, Nz, 3, 3)\n",
    "       jacobian[i, j, k] is the 3×3 matrix of partial derivatives\n",
    "       at (i, j, k). Rows are partial wrt x, y, z; columns are B_x, B_y, B_z.\n",
    "    \"\"\"\n",
    "    grads = [np.gradient(field[..., i], *( [dx]*3 ), edge_order=1)\n",
    "             for i in range(3)]  # each grads[i] is a list [∂/∂x of B_i, ∂/∂y of B_i, ∂/∂z of B_i]\n",
    "\n",
    "    # Stack into shape: (3, 3, Nx, Ny, Nz)\n",
    "    jacobian = np.array(grads)\n",
    "    # Transpose to shape: (Nx, Ny, Nz, 3, 3)\n",
    "    jacobian = np.transpose(jacobian, (2, 3, 4, 0, 1))\n",
    "\n",
    "    return jacobian\n",
    "\n",
    "def distortion_by_axis(jacobian):\n",
    "    \"\"\"\n",
    "    Computes the per-axis 'distortion'. For each voxel, we look at the 3×3 \n",
    "    Jacobian matrix and sum squares across each row, giving a shape (Nx, Ny, Nz, 3).\n",
    "\n",
    "    If the Jacobian at a point is:\n",
    "       [[∂Bx/∂x, ∂By/∂x, ∂Bz/∂x],\n",
    "        [∂Bx/∂y, ∂By/∂y, ∂Bz/∂y],\n",
    "        [∂Bx/∂z, ∂By/∂z, ∂Bz/∂z]],\n",
    "    then for row i, we do:\n",
    "       distortion[i] = sqrt( (∂Bx/∂i)^2 + (∂By/∂i)^2 + (∂Bz/∂i)^2 ).\n",
    "\n",
    "    Returns\n",
    "    -------\n",
    "    dist: shape (Nx, Ny, Nz, 3)\n",
    "          dist[...,0] is the x-distortion, \n",
    "          dist[...,1] is the y-distortion, \n",
    "          dist[...,2] is the z-distortion.\n",
    "    \"\"\"\n",
    "    # Sum squares across columns (the last axis = -1)\n",
    "    rowwise_sums = np.sum(jacobian**2, axis=-1)  \n",
    "    # Take square root to get distortion\n",
    "    dist = rowwise_sums\n",
    "    return dist\n"
   ]
  },
  {
   "cell_type": "code",
   "execution_count": null,
   "id": "5f91ac3f",
   "metadata": {},
   "outputs": [],
   "source": [
    "field = np.stack([u_norm, v_norm, w_norm], axis=-1)  # shape: (Nx, Ny, Nz, 3)\n",
    "matrix = compute_jacobian(field, dx=1)\n",
    "matrix.shape"
   ]
  },
  {
   "cell_type": "code",
   "execution_count": null,
   "id": "442e319c",
   "metadata": {},
   "outputs": [],
   "source": [
    "scalar_function = distortion_by_axis(matrix)\n",
    "scalar_function.shape"
   ]
  },
  {
   "cell_type": "code",
   "execution_count": null,
   "id": "7eec3571",
   "metadata": {},
   "outputs": [],
   "source": [
    "import numpy as np\n",
    "import matplotlib.pyplot as plt\n",
    "\n",
    "# Assume: scalar_function.shape = (Nx, Ny, Nz, 3)\n",
    "# Adjust and pick a slice\n",
    "scalar_function = scalar_function + 0.01\n",
    "scalar_function = scalar_function \n",
    "z_index = scalar_function.shape[2] // 2\n",
    "\n",
    "slice_2d_x_dist = scalar_function[:, :, z_index, 0] / np.min(scalar_function[:, :, z_index, 0])\n",
    "slice_2d_y_dist = scalar_function[:, :, z_index, 1] / np.min(scalar_function[:, :, z_index, 1])\n",
    "slice_2d_z_dist = scalar_function[:, :, z_index, 2] / np.min(scalar_function[:, :, z_index, 2])\n",
    "\n",
    "fig, axes = plt.subplots(1, 3, figsize=(10, 15))\n",
    "\n",
    "# Plot each slice and store the result in imX\n",
    "im0 = axes[0].imshow(slice_2d_x_dist.T, origin='lower', cmap='viridis', extent=[0, 1, 0, 1])\n",
    "im1 = axes[1].imshow(slice_2d_y_dist.T, origin='lower', cmap='viridis', extent=[0, 1, 0, 1])\n",
    "im2 = axes[2].imshow(slice_2d_z_dist.T, origin='lower', cmap='viridis', extent=[0, 1, 0, 1])\n",
    "\n",
    "fig.colorbar(im0, ax=axes[0], orientation='vertical')\n",
    "fig.colorbar(im1, ax=axes[1], orientation='vertical')\n",
    "fig.colorbar(im2, ax=axes[2], orientation='vertical')\n",
    "\n",
    "plt.show()\n"
   ]
  },
  {
   "cell_type": "code",
   "execution_count": null,
   "id": "09fb8f50",
   "metadata": {},
   "outputs": [],
   "source": [
    "np.max(slice_2d_x_dist)"
   ]
  },
  {
   "cell_type": "code",
   "execution_count": null,
   "id": "dd4672c4",
   "metadata": {},
   "outputs": [],
   "source": [
    "from scipy.interpolate import RegularGridInterpolator\n",
    "\n",
    "# Define physical grid — adjust to your domain\n",
    "x = np.linspace(-1/2, 1/2, 30)\n",
    "y = np.linspace(-1/2, 1/2, 30)\n",
    "z = np.linspace(-1/2, 1/2, 30)\n",
    "\n",
    "scalar_function_x = scalar_function[:, :, :,0] / np.min(scalar_function[:, :, :,0])\n",
    "scalar_function_y = scalar_function[:, :, :,1] / np.min(scalar_function[:, :, :,1])\n",
    "scalar_function_z = scalar_function[:, :, :,2] / np.min(scalar_function[:, :, :,2])\n",
    "\n",
    "interp_variation_x = RegularGridInterpolator((x, y, z), scalar_function_x, bounds_error=False, fill_value=None)\n",
    "interp_variation_y = RegularGridInterpolator((x, y, z), scalar_function_y, bounds_error=False, fill_value=None)\n",
    "interp_variation_z = RegularGridInterpolator((x, y, z), scalar_function_z, bounds_error=False, fill_value=None)\n",
    "\n"
   ]
  },
  {
   "cell_type": "code",
   "execution_count": null,
   "id": "e6710270",
   "metadata": {},
   "outputs": [],
   "source": [
    "import numpy as np\n",
    "from functools import lru_cache\n",
    "from scipy.integrate import quad\n",
    "\n",
    "@lru_cache(maxsize=None)\n",
    "def warp_coordinate(\n",
    "    coords_3d,\n",
    "    interp_alpha = [interp_variation_x, interp_variation_y, interp_variation_z],\n",
    "    axis_points=50\n",
    "):\n",
    "    \"\"\"\n",
    "    Warp a single 3D point using line integrals along each axis from the origin.\n",
    "\n",
    "    Args:\n",
    "        coords_3d: (3,) array-like\n",
    "        interp_alpha: list of 3 interpolator functions\n",
    "                      [interp_variation_x, interp_variation_y, interp_variation_z]\n",
    "        axis_points: number of steps for integration (not currently used by quad, \n",
    "                     but you could pass \"limit=axis_points\" to quad if you want).\n",
    "\n",
    "    Returns:\n",
    "        x_prime: (3,) warped coordinate\n",
    "    \"\"\"\n",
    "    x = np.asarray(coords_3d, dtype=float)\n",
    "    x_prime = np.zeros_like(x)\n",
    "    val_multiplier = 1\n",
    "    for i in range(3):\n",
    "        # Integrate along axis i from 0 to x[i], holding other coords fixed\n",
    "        def integrand(t):\n",
    "            # create a copy of x so we can vary only the i-th coordinate\n",
    "            pt = np.zeros_like(x)  # <-- this is the fix: start from the origin\n",
    "            pt[i] = t              # vary only the i-th axis\n",
    "            return float(interp_alpha[i](pt)[0])\n",
    "\n",
    "        # If x[i] < 0, flip integration bounds\n",
    "        start, end = 0, x[i]\n",
    "        # if x[i] < 0:\n",
    "        #     start, end = x[i], 0\n",
    "        #     val_multiplier = -1\n",
    "        val, _ = quad(integrand, start, end)  # you can add limit=axis_points if needed\n",
    "        x_prime[i] = val \n",
    "    \n",
    "    return x_prime\n",
    "\n"
   ]
  },
  {
   "cell_type": "code",
   "execution_count": null,
   "id": "78f018ad",
   "metadata": {},
   "outputs": [],
   "source": [
    "pt = [0.001, -1, 2]\n",
    "warped_pt = warp_coordinate(tuple(pt))\n",
    "print(\"Original:\", pt)\n",
    "print(\"Warped:\", warped_pt)\n"
   ]
  },
  {
   "cell_type": "code",
   "execution_count": null,
   "id": "6791b4bb",
   "metadata": {},
   "outputs": [],
   "source": [
    "def divergence_free_kernel(x1:np.array, x2:np.array, sigma_f:float =1, l:float=1)->np.ndarray:\n",
    "    '''\n",
    "    Should be a divergence free vector field which you get from here. There surely arent that \n",
    "    many of these, so this will hopefully quickly look like a magnetic field. \n",
    "\n",
    "    formula 2.48\n",
    "    '''\n",
    "    \n",
    "    # if np.any((np.sqrt(x1[0]**2+x1[1]**2) < 0.2) and (np.sqrt(x2[0]**2+x2[1]**2) < 0.2)):\n",
    "    #     l = 0.2\n",
    "    # elif (np.sqrt(x1[0]**2+x1[1]**2) < 0.2) or (np.sqrt(x2[0]**2+x2[1]**2) < 0.2):\n",
    "    #     return np.zeros((3,3))\n",
    "    # else:\n",
    "    #     l = 1\n",
    "    diff = x1 - x2\n",
    "    # def some distance measure\n",
    "    r2 = np.dot(diff, diff)\n",
    "    term1 = (2 - r2 / l**2) * np.eye(len(x1))\n",
    "    term2 = np.outer(diff, diff) / l**2\n",
    "    scaling = np.exp(- r2 / (2 * l**2)) * (sigma_f / l)**2\n",
    "    K = (term1 + term2) * scaling\n",
    "    return K\n"
   ]
  },
  {
   "cell_type": "code",
   "execution_count": null,
   "id": "2d83ea91",
   "metadata": {},
   "outputs": [],
   "source": [
    "from tqdm import tqdm"
   ]
  },
  {
   "cell_type": "code",
   "execution_count": null,
   "id": "9026437e",
   "metadata": {},
   "outputs": [],
   "source": [
    "def updated_vector_field(inputs:list[np.ndarray],\n",
    "                         grid_x: np.ndarray, grid_y: np.ndarray, grid_z: np.ndarray,\n",
    "                         sigma_f = None, l = None,\n",
    "                         random_seed: int = 1, \n",
    "                         noise:float = 1e-6):\n",
    "    \"\"\"\n",
    "    Compute the GP-posterior vector field given noisy vector observations at a few points.\n",
    "    returns a 3D vector field evaluated over the entire grid, conditioned on known field measurements.\n",
    "    \"\"\"\n",
    "    sampled_points_x, sampled_points_y, sampled_points_z = inputs[0], inputs[1], inputs[2]\n",
    "    sampled_fields_x, sampled_fields_y, sampled_fields_z = inputs[3], inputs[4], inputs[5]\n",
    "    np.random.seed(random_seed)\n",
    "\n",
    "    # Choose kernel\n",
    "\n",
    "    function_chosen = divergence_free_kernel  \n",
    "\n",
    "    # this allows us to loop over these points\n",
    "    points = np.vstack([grid_x.flatten(), grid_y.flatten(), grid_z.flatten()]).T               # (N, 3)\n",
    "    points_sampled = np.vstack([sampled_points_x.flatten(), sampled_points_y.flatten(), sampled_points_z.flatten()]).T  # (M, 3)\n",
    "    fields_sampled = np.vstack([sampled_fields_x.flatten(), sampled_fields_y.flatten(), sampled_fields_z.flatten()]).T  # (M, 3)\n",
    "\n",
    "    N = points.shape[0]           # number of grid points\n",
    "    M = points_sampled.shape[0]   # number of observations\n",
    "    D = 3                         # vector field dimensionality\n",
    "\n",
    "    # Allocate covariance matrices\n",
    "    K_x_x = np.zeros((M * D, M * D))        # covariance between sampled points\n",
    "    K_xstar_x = np.zeros((N * D, M * D))    # covariance between grid and sampled\n",
    "    K_xstar_xstar = np.zeros((N * D, N * D))  # covariance between grid points\n",
    "    # also our observations vector \n",
    "    y = np.zeros(M * D)\n",
    "\n",
    "    # Build K_x_x\n",
    "    for i in tqdm(range(M)):#, desc=\"Loop 0\", position=0, leave=True):\n",
    "        for j in range(M):\n",
    "            x1_transformed = warp_coordinate(tuple(points_sampled[i]))\n",
    "            x2_transformed = warp_coordinate(tuple(points_sampled[j]))\n",
    "            K_ij = function_chosen(x1_transformed, x2_transformed, sigma_f=sigma_f, l=l)  # (3x3)\n",
    "            K_x_x[i*D:(i+1)*D, j*D:(j+1)*D] = K_ij\n",
    "    print('matrix 1 populated')\n",
    "\n",
    "    # Build K_xstar_x\n",
    "    for i in tqdm(range(N)):\n",
    "        for j in range(M):\n",
    "            x1_transformed = warp_coordinate(tuple(points[i]))\n",
    "            x2_transformed = warp_coordinate(tuple(points_sampled[j]))\n",
    "            K_ij = function_chosen(points[i], points_sampled[j], sigma_f=sigma_f, l=l)  # (3x3)\n",
    "            K_xstar_x[i*D:(i+1)*D, j*D:(j+1)*D] = K_ij\n",
    "    print('matrix 2 populated')\n",
    "\n",
    "    # Build K_xstar_xstar\n",
    "    for i in tqdm(range(N)):\n",
    "        for j in range(N):\n",
    "            x1_transformed = warp_coordinate(tuple(points[i]))\n",
    "            x2_transformed = warp_coordinate(tuple(points[j]))\n",
    "            K_ij = function_chosen(points[i], points[j], sigma_f=sigma_f, l=l)  # (3x3)\n",
    "            K_xstar_xstar[i*D:(i+1)*D, j*D:(j+1)*D] = K_ij\n",
    "    print('matrix 3 populated')\n",
    "\n",
    "    # Build y\n",
    "    for i in range(M):\n",
    "        y[i*D:(i+1)*D] = fields_sampled[i]  # (3x,)?\n",
    "    print('matrix 4 populated')\n",
    "\n",
    "    # GP posterior mean and cov sampled\n",
    "    K_x_x = K_x_x + noise * np.eye(M * D)\n",
    "    print('initialising solver')\n",
    "    posterior_mean = K_xstar_x @ np.linalg.solve(K_x_x, y)\n",
    "    posterior_covar = K_xstar_xstar - K_xstar_x @ np.linalg.solve(K_x_x, K_xstar_x.T)\n",
    "    # sample = np.random.multivariate_normal(posterior_mean, posterior_covar)\n",
    "\n",
    "    # Reshape into 3D vector field\n",
    "    field_vectors = posterior_mean.reshape(N, D)\n",
    "    U = field_vectors[:, 0].reshape(grid_x.shape)\n",
    "    V = field_vectors[:, 1].reshape(grid_y.shape)\n",
    "    W = field_vectors[:, 2].reshape(grid_z.shape)\n",
    "\n",
    "    return grid_x, grid_y, grid_z, U, V, W"
   ]
  },
  {
   "cell_type": "code",
   "execution_count": null,
   "id": "4a809e9f",
   "metadata": {},
   "outputs": [],
   "source": [
    "sparse_outputs_wire = field_around_current_carrying_coil(100000000, resolution=10)\n",
    "\n",
    "sampled_outputs_wire = sample_field(sparse_outputs_wire, n_samples=250, random_seed=1)\n"
   ]
  },
  {
   "cell_type": "code",
   "execution_count": null,
   "id": "5d2d9d10",
   "metadata": {},
   "outputs": [],
   "source": [
    "plotter(sampled_outputs_wire, \n",
    "        title = 'Points given to our GP Regressor for current carrying wire')"
   ]
  },
  {
   "cell_type": "code",
   "execution_count": null,
   "id": "107efd42",
   "metadata": {},
   "outputs": [],
   "source": [
    "outputs_coil_div_free= updated_vector_field(\n",
    "    sampled_outputs_wire, \n",
    "    sparse_outputs_wire[0], sparse_outputs_wire[1], sparse_outputs_wire[2], \n",
    "    sigma_f= 0.00008, l = 0.26)"
   ]
  },
  {
   "cell_type": "code",
   "execution_count": null,
   "id": "cdf2b143",
   "metadata": {},
   "outputs": [],
   "source": [
    "given_samples_wire = sampled_outputs_wire[0].shape[0]\n",
    "plotter(outputs_coil_div_free, \n",
    "        title = f'Div free output from GP Regression for n = {given_samples_wire} input vectors for current carrying wire')"
   ]
  },
  {
   "cell_type": "code",
   "execution_count": null,
   "id": "149bad99",
   "metadata": {},
   "outputs": [],
   "source": [
    "residuals_wire_div_free, mse_wire_div_free = differencer(outputs_coil_div_free, sparse_outputs_wire)\n",
    "print(f'MSE for this case of {mse_wire_div_free}')\n",
    "plotter(residuals_wire_div_free, \n",
    "        title = f'Div free regression errors for n = {given_samples_wire} input vectors for current carrying wire')"
   ]
  },
  {
   "cell_type": "code",
   "execution_count": null,
   "id": "6ccf73eb",
   "metadata": {},
   "outputs": [],
   "source": [
    "# grid search time \n",
    "from itertools import product\n",
    "\n",
    "sigmas = [0.00015, 0.00010, 0.00008, 0.00005, 0.00003, 0.00001]\n",
    "ls = [0.3, 0.28, 0.26, 0.24, 0.22, 0.2]\n",
    "for sigma, l in product(sigmas, ls):\n",
    "    outputs_wire_div_free= updated_vector_field(\n",
    "        sampled_outputs_wire, \n",
    "        sparse_outputs_wire[0], sparse_outputs_wire[1], sparse_outputs_wire[2], \n",
    "        sigma_f= sigma, l = l)\n",
    "    _, mse_wire_div_free = differencer(outputs_wire_div_free, sparse_outputs_wire)\n",
    "    print(f'for sigma = {sigma}, l = {l}, mse is {mse_wire_div_free}')"
   ]
  },
  {
   "cell_type": "code",
   "execution_count": null,
   "id": "0f0f9ed0",
   "metadata": {},
   "outputs": [],
   "source": [
    "values = np.linspace(0, 0.5, 50)\n",
    "transformed_values = [warp_coordinate(tuple([val, 0, 0]))[0] for val in values]"
   ]
  },
  {
   "cell_type": "code",
   "execution_count": null,
   "id": "a66e0235",
   "metadata": {},
   "outputs": [],
   "source": [
    "plt.scatter(values, transformed_values)"
   ]
  },
  {
   "cell_type": "code",
   "execution_count": null,
   "id": "f99f454e",
   "metadata": {},
   "outputs": [],
   "source": [
    "transformed_values"
   ]
  }
 ],
 "metadata": {
  "kernelspec": {
   "display_name": "env",
   "language": "python",
   "name": "python3"
  },
  "language_info": {
   "codemirror_mode": {
    "name": "ipython",
    "version": 3
   },
   "file_extension": ".py",
   "mimetype": "text/x-python",
   "name": "python",
   "nbconvert_exporter": "python",
   "pygments_lexer": "ipython3",
   "version": "3.12.0"
  }
 },
 "nbformat": 4,
 "nbformat_minor": 5
}

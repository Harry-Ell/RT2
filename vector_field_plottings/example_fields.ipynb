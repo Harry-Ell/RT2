{
 "cells": [
  {
   "cell_type": "markdown",
   "metadata": {},
   "source": [
    "# Vector field plottings "
   ]
  },
  {
   "cell_type": "code",
   "execution_count": 1,
   "metadata": {},
   "outputs": [],
   "source": [
    "import numpy as np \n",
    "import plotter # my 3d plotting code with plotly\n",
    "import matplotlib.pyplot as plt "
   ]
  },
  {
   "cell_type": "markdown",
   "metadata": {},
   "source": [
    "## Two Example Fields and Call Sequences"
   ]
  },
  {
   "cell_type": "code",
   "execution_count": 2,
   "metadata": {},
   "outputs": [
    {
     "data": {
      "application/vnd.plotly.v1+json": {
       "config": {
        "plotlyServerURL": "https://plot.ly"
       },
       "data": [
        {
         "anchor": "tail",
         "sizemode": "scaled",
         "sizeref": 2,
         "type": "cone",
         "u": {
          "bdata": "AAAAAAAA8L8AAAAAAADwvwAAAAAAAPC/AAAAAAAA8L8AAAAAAADwvwAAAAAAAOC/AAAAAAAA4L8AAAAAAADgvwAAAAAAAOC/AAAAAAAA4L8AAAAAAAAAAAAAAAAAAAAAAAAAAAAAAAAAAAAAAAAAAAAAAAAAAAAAAAAAAAAA4D8AAAAAAADgPwAAAAAAAOA/AAAAAAAA4D8AAAAAAADgPwAAAAAAAPA/AAAAAAAA8D8AAAAAAADwPwAAAAAAAPA/AAAAAAAA8D8AAAAAAADwvwAAAAAAAPC/AAAAAAAA8L8AAAAAAADwvwAAAAAAAPC/AAAAAAAA4L8AAAAAAADgvwAAAAAAAOC/AAAAAAAA4L8AAAAAAADgvwAAAAAAAAAAAAAAAAAAAAAAAAAAAAAAAAAAAAAAAAAAAAAAAAAAAAAAAAAAAADgPwAAAAAAAOA/AAAAAAAA4D8AAAAAAADgPwAAAAAAAOA/AAAAAAAA8D8AAAAAAADwPwAAAAAAAPA/AAAAAAAA8D8AAAAAAADwPwAAAAAAAPC/AAAAAAAA8L8AAAAAAADwvwAAAAAAAPC/AAAAAAAA8L8AAAAAAADgvwAAAAAAAOC/AAAAAAAA4L8AAAAAAADgvwAAAAAAAOC/AAAAAAAAAAAAAAAAAAAAAAAAAAAAAAAAAAAAAAAAAAAAAAAAAAAAAAAAAAAAAOA/AAAAAAAA4D8AAAAAAADgPwAAAAAAAOA/AAAAAAAA4D8AAAAAAADwPwAAAAAAAPA/AAAAAAAA8D8AAAAAAADwPwAAAAAAAPA/AAAAAAAA8L8AAAAAAADwvwAAAAAAAPC/AAAAAAAA8L8AAAAAAADwvwAAAAAAAOC/AAAAAAAA4L8AAAAAAADgvwAAAAAAAOC/AAAAAAAA4L8AAAAAAAAAAAAAAAAAAAAAAAAAAAAAAAAAAAAAAAAAAAAAAAAAAAAAAAAAAAAA4D8AAAAAAADgPwAAAAAAAOA/AAAAAAAA4D8AAAAAAADgPwAAAAAAAPA/AAAAAAAA8D8AAAAAAADwPwAAAAAAAPA/AAAAAAAA8D8AAAAAAADwvwAAAAAAAPC/AAAAAAAA8L8AAAAAAADwvwAAAAAAAPC/AAAAAAAA4L8AAAAAAADgvwAAAAAAAOC/AAAAAAAA4L8AAAAAAADgvwAAAAAAAAAAAAAAAAAAAAAAAAAAAAAAAAAAAAAAAAAAAAAAAAAAAAAAAAAAAADgPwAAAAAAAOA/AAAAAAAA4D8AAAAAAADgPwAAAAAAAOA/AAAAAAAA8D8AAAAAAADwPwAAAAAAAPA/AAAAAAAA8D8AAAAAAADwPw==",
          "dtype": "f8"
         },
         "v": {
          "bdata": "AAAAAAAA8L8AAAAAAADwvwAAAAAAAPC/AAAAAAAA8L8AAAAAAADwvwAAAAAAAPC/AAAAAAAA8L8AAAAAAADwvwAAAAAAAPC/AAAAAAAA8L8AAAAAAADwvwAAAAAAAPC/AAAAAAAA8L8AAAAAAADwvwAAAAAAAPC/AAAAAAAA8L8AAAAAAADwvwAAAAAAAPC/AAAAAAAA8L8AAAAAAADwvwAAAAAAAPC/AAAAAAAA8L8AAAAAAADwvwAAAAAAAPC/AAAAAAAA8L8AAAAAAADgvwAAAAAAAOC/AAAAAAAA4L8AAAAAAADgvwAAAAAAAOC/AAAAAAAA4L8AAAAAAADgvwAAAAAAAOC/AAAAAAAA4L8AAAAAAADgvwAAAAAAAOC/AAAAAAAA4L8AAAAAAADgvwAAAAAAAOC/AAAAAAAA4L8AAAAAAADgvwAAAAAAAOC/AAAAAAAA4L8AAAAAAADgvwAAAAAAAOC/AAAAAAAA4L8AAAAAAADgvwAAAAAAAOC/AAAAAAAA4L8AAAAAAADgvwAAAAAAAAAAAAAAAAAAAAAAAAAAAAAAAAAAAAAAAAAAAAAAAAAAAAAAAAAAAAAAAAAAAAAAAAAAAAAAAAAAAAAAAAAAAAAAAAAAAAAAAAAAAAAAAAAAAAAAAAAAAAAAAAAAAAAAAAAAAAAAAAAAAAAAAAAAAAAAAAAAAAAAAAAAAAAAAAAAAAAAAAAAAAAAAAAAAAAAAAAAAAAAAAAAAAAAAAAAAAAAAAAAAAAAAAAAAAAAAAAAAAAAAAAAAAAAAAAAAAAAAAAAAAAAAAAA4D8AAAAAAADgPwAAAAAAAOA/AAAAAAAA4D8AAAAAAADgPwAAAAAAAOA/AAAAAAAA4D8AAAAAAADgPwAAAAAAAOA/AAAAAAAA4D8AAAAAAADgPwAAAAAAAOA/AAAAAAAA4D8AAAAAAADgPwAAAAAAAOA/AAAAAAAA4D8AAAAAAADgPwAAAAAAAOA/AAAAAAAA4D8AAAAAAADgPwAAAAAAAOA/AAAAAAAA4D8AAAAAAADgPwAAAAAAAOA/AAAAAAAA4D8AAAAAAADwPwAAAAAAAPA/AAAAAAAA8D8AAAAAAADwPwAAAAAAAPA/AAAAAAAA8D8AAAAAAADwPwAAAAAAAPA/AAAAAAAA8D8AAAAAAADwPwAAAAAAAPA/AAAAAAAA8D8AAAAAAADwPwAAAAAAAPA/AAAAAAAA8D8AAAAAAADwPwAAAAAAAPA/AAAAAAAA8D8AAAAAAADwPwAAAAAAAPA/AAAAAAAA8D8AAAAAAADwPwAAAAAAAPA/AAAAAAAA8D8AAAAAAADwPw==",
          "dtype": "f8"
         },
         "w": {
          "bdata": "AAAAAAAA8L8AAAAAAADgvwAAAAAAAAAAAAAAAAAA4D8AAAAAAADwPwAAAAAAAPC/AAAAAAAA4L8AAAAAAAAAAAAAAAAAAOA/AAAAAAAA8D8AAAAAAADwvwAAAAAAAOC/AAAAAAAAAAAAAAAAAADgPwAAAAAAAPA/AAAAAAAA8L8AAAAAAADgvwAAAAAAAAAAAAAAAAAA4D8AAAAAAADwPwAAAAAAAPC/AAAAAAAA4L8AAAAAAAAAAAAAAAAAAOA/AAAAAAAA8D8AAAAAAADwvwAAAAAAAOC/AAAAAAAAAAAAAAAAAADgPwAAAAAAAPA/AAAAAAAA8L8AAAAAAADgvwAAAAAAAAAAAAAAAAAA4D8AAAAAAADwPwAAAAAAAPC/AAAAAAAA4L8AAAAAAAAAAAAAAAAAAOA/AAAAAAAA8D8AAAAAAADwvwAAAAAAAOC/AAAAAAAAAAAAAAAAAADgPwAAAAAAAPA/AAAAAAAA8L8AAAAAAADgvwAAAAAAAAAAAAAAAAAA4D8AAAAAAADwPwAAAAAAAPC/AAAAAAAA4L8AAAAAAAAAAAAAAAAAAOA/AAAAAAAA8D8AAAAAAADwvwAAAAAAAOC/AAAAAAAAAAAAAAAAAADgPwAAAAAAAPA/AAAAAAAA8L8AAAAAAADgvwAAAAAAAAAAAAAAAAAA4D8AAAAAAADwPwAAAAAAAPC/AAAAAAAA4L8AAAAAAAAAAAAAAAAAAOA/AAAAAAAA8D8AAAAAAADwvwAAAAAAAOC/AAAAAAAAAAAAAAAAAADgPwAAAAAAAPA/AAAAAAAA8L8AAAAAAADgvwAAAAAAAAAAAAAAAAAA4D8AAAAAAADwPwAAAAAAAPC/AAAAAAAA4L8AAAAAAAAAAAAAAAAAAOA/AAAAAAAA8D8AAAAAAADwvwAAAAAAAOC/AAAAAAAAAAAAAAAAAADgPwAAAAAAAPA/AAAAAAAA8L8AAAAAAADgvwAAAAAAAAAAAAAAAAAA4D8AAAAAAADwPwAAAAAAAPC/AAAAAAAA4L8AAAAAAAAAAAAAAAAAAOA/AAAAAAAA8D8AAAAAAADwvwAAAAAAAOC/AAAAAAAAAAAAAAAAAADgPwAAAAAAAPA/AAAAAAAA8L8AAAAAAADgvwAAAAAAAAAAAAAAAAAA4D8AAAAAAADwPwAAAAAAAPC/AAAAAAAA4L8AAAAAAAAAAAAAAAAAAOA/AAAAAAAA8D8AAAAAAADwvwAAAAAAAOC/AAAAAAAAAAAAAAAAAADgPwAAAAAAAPA/AAAAAAAA8L8AAAAAAADgvwAAAAAAAAAAAAAAAAAA4D8AAAAAAADwPw==",
          "dtype": "f8"
         },
         "x": {
          "bdata": "AAAAAAAA8L8AAAAAAADwvwAAAAAAAPC/AAAAAAAA8L8AAAAAAADwvwAAAAAAAOC/AAAAAAAA4L8AAAAAAADgvwAAAAAAAOC/AAAAAAAA4L8AAAAAAAAAAAAAAAAAAAAAAAAAAAAAAAAAAAAAAAAAAAAAAAAAAAAAAAAAAAAA4D8AAAAAAADgPwAAAAAAAOA/AAAAAAAA4D8AAAAAAADgPwAAAAAAAPA/AAAAAAAA8D8AAAAAAADwPwAAAAAAAPA/AAAAAAAA8D8AAAAAAADwvwAAAAAAAPC/AAAAAAAA8L8AAAAAAADwvwAAAAAAAPC/AAAAAAAA4L8AAAAAAADgvwAAAAAAAOC/AAAAAAAA4L8AAAAAAADgvwAAAAAAAAAAAAAAAAAAAAAAAAAAAAAAAAAAAAAAAAAAAAAAAAAAAAAAAAAAAADgPwAAAAAAAOA/AAAAAAAA4D8AAAAAAADgPwAAAAAAAOA/AAAAAAAA8D8AAAAAAADwPwAAAAAAAPA/AAAAAAAA8D8AAAAAAADwPwAAAAAAAPC/AAAAAAAA8L8AAAAAAADwvwAAAAAAAPC/AAAAAAAA8L8AAAAAAADgvwAAAAAAAOC/AAAAAAAA4L8AAAAAAADgvwAAAAAAAOC/AAAAAAAAAAAAAAAAAAAAAAAAAAAAAAAAAAAAAAAAAAAAAAAAAAAAAAAAAAAAAOA/AAAAAAAA4D8AAAAAAADgPwAAAAAAAOA/AAAAAAAA4D8AAAAAAADwPwAAAAAAAPA/AAAAAAAA8D8AAAAAAADwPwAAAAAAAPA/AAAAAAAA8L8AAAAAAADwvwAAAAAAAPC/AAAAAAAA8L8AAAAAAADwvwAAAAAAAOC/AAAAAAAA4L8AAAAAAADgvwAAAAAAAOC/AAAAAAAA4L8AAAAAAAAAAAAAAAAAAAAAAAAAAAAAAAAAAAAAAAAAAAAAAAAAAAAAAAAAAAAA4D8AAAAAAADgPwAAAAAAAOA/AAAAAAAA4D8AAAAAAADgPwAAAAAAAPA/AAAAAAAA8D8AAAAAAADwPwAAAAAAAPA/AAAAAAAA8D8AAAAAAADwvwAAAAAAAPC/AAAAAAAA8L8AAAAAAADwvwAAAAAAAPC/AAAAAAAA4L8AAAAAAADgvwAAAAAAAOC/AAAAAAAA4L8AAAAAAADgvwAAAAAAAAAAAAAAAAAAAAAAAAAAAAAAAAAAAAAAAAAAAAAAAAAAAAAAAAAAAADgPwAAAAAAAOA/AAAAAAAA4D8AAAAAAADgPwAAAAAAAOA/AAAAAAAA8D8AAAAAAADwPwAAAAAAAPA/AAAAAAAA8D8AAAAAAADwPw==",
          "dtype": "f8"
         },
         "y": {
          "bdata": "AAAAAAAA8L8AAAAAAADwvwAAAAAAAPC/AAAAAAAA8L8AAAAAAADwvwAAAAAAAPC/AAAAAAAA8L8AAAAAAADwvwAAAAAAAPC/AAAAAAAA8L8AAAAAAADwvwAAAAAAAPC/AAAAAAAA8L8AAAAAAADwvwAAAAAAAPC/AAAAAAAA8L8AAAAAAADwvwAAAAAAAPC/AAAAAAAA8L8AAAAAAADwvwAAAAAAAPC/AAAAAAAA8L8AAAAAAADwvwAAAAAAAPC/AAAAAAAA8L8AAAAAAADgvwAAAAAAAOC/AAAAAAAA4L8AAAAAAADgvwAAAAAAAOC/AAAAAAAA4L8AAAAAAADgvwAAAAAAAOC/AAAAAAAA4L8AAAAAAADgvwAAAAAAAOC/AAAAAAAA4L8AAAAAAADgvwAAAAAAAOC/AAAAAAAA4L8AAAAAAADgvwAAAAAAAOC/AAAAAAAA4L8AAAAAAADgvwAAAAAAAOC/AAAAAAAA4L8AAAAAAADgvwAAAAAAAOC/AAAAAAAA4L8AAAAAAADgvwAAAAAAAAAAAAAAAAAAAAAAAAAAAAAAAAAAAAAAAAAAAAAAAAAAAAAAAAAAAAAAAAAAAAAAAAAAAAAAAAAAAAAAAAAAAAAAAAAAAAAAAAAAAAAAAAAAAAAAAAAAAAAAAAAAAAAAAAAAAAAAAAAAAAAAAAAAAAAAAAAAAAAAAAAAAAAAAAAAAAAAAAAAAAAAAAAAAAAAAAAAAAAAAAAAAAAAAAAAAAAAAAAAAAAAAAAAAAAAAAAAAAAAAAAAAAAAAAAAAAAAAAAAAAAAAAAA4D8AAAAAAADgPwAAAAAAAOA/AAAAAAAA4D8AAAAAAADgPwAAAAAAAOA/AAAAAAAA4D8AAAAAAADgPwAAAAAAAOA/AAAAAAAA4D8AAAAAAADgPwAAAAAAAOA/AAAAAAAA4D8AAAAAAADgPwAAAAAAAOA/AAAAAAAA4D8AAAAAAADgPwAAAAAAAOA/AAAAAAAA4D8AAAAAAADgPwAAAAAAAOA/AAAAAAAA4D8AAAAAAADgPwAAAAAAAOA/AAAAAAAA4D8AAAAAAADwPwAAAAAAAPA/AAAAAAAA8D8AAAAAAADwPwAAAAAAAPA/AAAAAAAA8D8AAAAAAADwPwAAAAAAAPA/AAAAAAAA8D8AAAAAAADwPwAAAAAAAPA/AAAAAAAA8D8AAAAAAADwPwAAAAAAAPA/AAAAAAAA8D8AAAAAAADwPwAAAAAAAPA/AAAAAAAA8D8AAAAAAADwPwAAAAAAAPA/AAAAAAAA8D8AAAAAAADwPwAAAAAAAPA/AAAAAAAA8D8AAAAAAADwPw==",
          "dtype": "f8"
         },
         "z": {
          "bdata": "AAAAAAAA8L8AAAAAAADgvwAAAAAAAAAAAAAAAAAA4D8AAAAAAADwPwAAAAAAAPC/AAAAAAAA4L8AAAAAAAAAAAAAAAAAAOA/AAAAAAAA8D8AAAAAAADwvwAAAAAAAOC/AAAAAAAAAAAAAAAAAADgPwAAAAAAAPA/AAAAAAAA8L8AAAAAAADgvwAAAAAAAAAAAAAAAAAA4D8AAAAAAADwPwAAAAAAAPC/AAAAAAAA4L8AAAAAAAAAAAAAAAAAAOA/AAAAAAAA8D8AAAAAAADwvwAAAAAAAOC/AAAAAAAAAAAAAAAAAADgPwAAAAAAAPA/AAAAAAAA8L8AAAAAAADgvwAAAAAAAAAAAAAAAAAA4D8AAAAAAADwPwAAAAAAAPC/AAAAAAAA4L8AAAAAAAAAAAAAAAAAAOA/AAAAAAAA8D8AAAAAAADwvwAAAAAAAOC/AAAAAAAAAAAAAAAAAADgPwAAAAAAAPA/AAAAAAAA8L8AAAAAAADgvwAAAAAAAAAAAAAAAAAA4D8AAAAAAADwPwAAAAAAAPC/AAAAAAAA4L8AAAAAAAAAAAAAAAAAAOA/AAAAAAAA8D8AAAAAAADwvwAAAAAAAOC/AAAAAAAAAAAAAAAAAADgPwAAAAAAAPA/AAAAAAAA8L8AAAAAAADgvwAAAAAAAAAAAAAAAAAA4D8AAAAAAADwPwAAAAAAAPC/AAAAAAAA4L8AAAAAAAAAAAAAAAAAAOA/AAAAAAAA8D8AAAAAAADwvwAAAAAAAOC/AAAAAAAAAAAAAAAAAADgPwAAAAAAAPA/AAAAAAAA8L8AAAAAAADgvwAAAAAAAAAAAAAAAAAA4D8AAAAAAADwPwAAAAAAAPC/AAAAAAAA4L8AAAAAAAAAAAAAAAAAAOA/AAAAAAAA8D8AAAAAAADwvwAAAAAAAOC/AAAAAAAAAAAAAAAAAADgPwAAAAAAAPA/AAAAAAAA8L8AAAAAAADgvwAAAAAAAAAAAAAAAAAA4D8AAAAAAADwPwAAAAAAAPC/AAAAAAAA4L8AAAAAAAAAAAAAAAAAAOA/AAAAAAAA8D8AAAAAAADwvwAAAAAAAOC/AAAAAAAAAAAAAAAAAADgPwAAAAAAAPA/AAAAAAAA8L8AAAAAAADgvwAAAAAAAAAAAAAAAAAA4D8AAAAAAADwPwAAAAAAAPC/AAAAAAAA4L8AAAAAAAAAAAAAAAAAAOA/AAAAAAAA8D8AAAAAAADwvwAAAAAAAOC/AAAAAAAAAAAAAAAAAADgPwAAAAAAAPA/AAAAAAAA8L8AAAAAAADgvwAAAAAAAAAAAAAAAAAA4D8AAAAAAADwPw==",
          "dtype": "f8"
         }
        }
       ],
       "layout": {
        "scene": {
         "xaxis": {
          "title": {
           "text": "X"
          }
         },
         "yaxis": {
          "title": {
           "text": "Y"
          }
         },
         "zaxis": {
          "title": {
           "text": "Z"
          }
         }
        },
        "template": {
         "data": {
          "bar": [
           {
            "error_x": {
             "color": "#2a3f5f"
            },
            "error_y": {
             "color": "#2a3f5f"
            },
            "marker": {
             "line": {
              "color": "#E5ECF6",
              "width": 0.5
             },
             "pattern": {
              "fillmode": "overlay",
              "size": 10,
              "solidity": 0.2
             }
            },
            "type": "bar"
           }
          ],
          "barpolar": [
           {
            "marker": {
             "line": {
              "color": "#E5ECF6",
              "width": 0.5
             },
             "pattern": {
              "fillmode": "overlay",
              "size": 10,
              "solidity": 0.2
             }
            },
            "type": "barpolar"
           }
          ],
          "carpet": [
           {
            "aaxis": {
             "endlinecolor": "#2a3f5f",
             "gridcolor": "white",
             "linecolor": "white",
             "minorgridcolor": "white",
             "startlinecolor": "#2a3f5f"
            },
            "baxis": {
             "endlinecolor": "#2a3f5f",
             "gridcolor": "white",
             "linecolor": "white",
             "minorgridcolor": "white",
             "startlinecolor": "#2a3f5f"
            },
            "type": "carpet"
           }
          ],
          "choropleth": [
           {
            "colorbar": {
             "outlinewidth": 0,
             "ticks": ""
            },
            "type": "choropleth"
           }
          ],
          "contour": [
           {
            "colorbar": {
             "outlinewidth": 0,
             "ticks": ""
            },
            "colorscale": [
             [
              0,
              "#0d0887"
             ],
             [
              0.1111111111111111,
              "#46039f"
             ],
             [
              0.2222222222222222,
              "#7201a8"
             ],
             [
              0.3333333333333333,
              "#9c179e"
             ],
             [
              0.4444444444444444,
              "#bd3786"
             ],
             [
              0.5555555555555556,
              "#d8576b"
             ],
             [
              0.6666666666666666,
              "#ed7953"
             ],
             [
              0.7777777777777778,
              "#fb9f3a"
             ],
             [
              0.8888888888888888,
              "#fdca26"
             ],
             [
              1,
              "#f0f921"
             ]
            ],
            "type": "contour"
           }
          ],
          "contourcarpet": [
           {
            "colorbar": {
             "outlinewidth": 0,
             "ticks": ""
            },
            "type": "contourcarpet"
           }
          ],
          "heatmap": [
           {
            "colorbar": {
             "outlinewidth": 0,
             "ticks": ""
            },
            "colorscale": [
             [
              0,
              "#0d0887"
             ],
             [
              0.1111111111111111,
              "#46039f"
             ],
             [
              0.2222222222222222,
              "#7201a8"
             ],
             [
              0.3333333333333333,
              "#9c179e"
             ],
             [
              0.4444444444444444,
              "#bd3786"
             ],
             [
              0.5555555555555556,
              "#d8576b"
             ],
             [
              0.6666666666666666,
              "#ed7953"
             ],
             [
              0.7777777777777778,
              "#fb9f3a"
             ],
             [
              0.8888888888888888,
              "#fdca26"
             ],
             [
              1,
              "#f0f921"
             ]
            ],
            "type": "heatmap"
           }
          ],
          "histogram": [
           {
            "marker": {
             "pattern": {
              "fillmode": "overlay",
              "size": 10,
              "solidity": 0.2
             }
            },
            "type": "histogram"
           }
          ],
          "histogram2d": [
           {
            "colorbar": {
             "outlinewidth": 0,
             "ticks": ""
            },
            "colorscale": [
             [
              0,
              "#0d0887"
             ],
             [
              0.1111111111111111,
              "#46039f"
             ],
             [
              0.2222222222222222,
              "#7201a8"
             ],
             [
              0.3333333333333333,
              "#9c179e"
             ],
             [
              0.4444444444444444,
              "#bd3786"
             ],
             [
              0.5555555555555556,
              "#d8576b"
             ],
             [
              0.6666666666666666,
              "#ed7953"
             ],
             [
              0.7777777777777778,
              "#fb9f3a"
             ],
             [
              0.8888888888888888,
              "#fdca26"
             ],
             [
              1,
              "#f0f921"
             ]
            ],
            "type": "histogram2d"
           }
          ],
          "histogram2dcontour": [
           {
            "colorbar": {
             "outlinewidth": 0,
             "ticks": ""
            },
            "colorscale": [
             [
              0,
              "#0d0887"
             ],
             [
              0.1111111111111111,
              "#46039f"
             ],
             [
              0.2222222222222222,
              "#7201a8"
             ],
             [
              0.3333333333333333,
              "#9c179e"
             ],
             [
              0.4444444444444444,
              "#bd3786"
             ],
             [
              0.5555555555555556,
              "#d8576b"
             ],
             [
              0.6666666666666666,
              "#ed7953"
             ],
             [
              0.7777777777777778,
              "#fb9f3a"
             ],
             [
              0.8888888888888888,
              "#fdca26"
             ],
             [
              1,
              "#f0f921"
             ]
            ],
            "type": "histogram2dcontour"
           }
          ],
          "mesh3d": [
           {
            "colorbar": {
             "outlinewidth": 0,
             "ticks": ""
            },
            "type": "mesh3d"
           }
          ],
          "parcoords": [
           {
            "line": {
             "colorbar": {
              "outlinewidth": 0,
              "ticks": ""
             }
            },
            "type": "parcoords"
           }
          ],
          "pie": [
           {
            "automargin": true,
            "type": "pie"
           }
          ],
          "scatter": [
           {
            "fillpattern": {
             "fillmode": "overlay",
             "size": 10,
             "solidity": 0.2
            },
            "type": "scatter"
           }
          ],
          "scatter3d": [
           {
            "line": {
             "colorbar": {
              "outlinewidth": 0,
              "ticks": ""
             }
            },
            "marker": {
             "colorbar": {
              "outlinewidth": 0,
              "ticks": ""
             }
            },
            "type": "scatter3d"
           }
          ],
          "scattercarpet": [
           {
            "marker": {
             "colorbar": {
              "outlinewidth": 0,
              "ticks": ""
             }
            },
            "type": "scattercarpet"
           }
          ],
          "scattergeo": [
           {
            "marker": {
             "colorbar": {
              "outlinewidth": 0,
              "ticks": ""
             }
            },
            "type": "scattergeo"
           }
          ],
          "scattergl": [
           {
            "marker": {
             "colorbar": {
              "outlinewidth": 0,
              "ticks": ""
             }
            },
            "type": "scattergl"
           }
          ],
          "scattermap": [
           {
            "marker": {
             "colorbar": {
              "outlinewidth": 0,
              "ticks": ""
             }
            },
            "type": "scattermap"
           }
          ],
          "scattermapbox": [
           {
            "marker": {
             "colorbar": {
              "outlinewidth": 0,
              "ticks": ""
             }
            },
            "type": "scattermapbox"
           }
          ],
          "scatterpolar": [
           {
            "marker": {
             "colorbar": {
              "outlinewidth": 0,
              "ticks": ""
             }
            },
            "type": "scatterpolar"
           }
          ],
          "scatterpolargl": [
           {
            "marker": {
             "colorbar": {
              "outlinewidth": 0,
              "ticks": ""
             }
            },
            "type": "scatterpolargl"
           }
          ],
          "scatterternary": [
           {
            "marker": {
             "colorbar": {
              "outlinewidth": 0,
              "ticks": ""
             }
            },
            "type": "scatterternary"
           }
          ],
          "surface": [
           {
            "colorbar": {
             "outlinewidth": 0,
             "ticks": ""
            },
            "colorscale": [
             [
              0,
              "#0d0887"
             ],
             [
              0.1111111111111111,
              "#46039f"
             ],
             [
              0.2222222222222222,
              "#7201a8"
             ],
             [
              0.3333333333333333,
              "#9c179e"
             ],
             [
              0.4444444444444444,
              "#bd3786"
             ],
             [
              0.5555555555555556,
              "#d8576b"
             ],
             [
              0.6666666666666666,
              "#ed7953"
             ],
             [
              0.7777777777777778,
              "#fb9f3a"
             ],
             [
              0.8888888888888888,
              "#fdca26"
             ],
             [
              1,
              "#f0f921"
             ]
            ],
            "type": "surface"
           }
          ],
          "table": [
           {
            "cells": {
             "fill": {
              "color": "#EBF0F8"
             },
             "line": {
              "color": "white"
             }
            },
            "header": {
             "fill": {
              "color": "#C8D4E3"
             },
             "line": {
              "color": "white"
             }
            },
            "type": "table"
           }
          ]
         },
         "layout": {
          "annotationdefaults": {
           "arrowcolor": "#2a3f5f",
           "arrowhead": 0,
           "arrowwidth": 1
          },
          "autotypenumbers": "strict",
          "coloraxis": {
           "colorbar": {
            "outlinewidth": 0,
            "ticks": ""
           }
          },
          "colorscale": {
           "diverging": [
            [
             0,
             "#8e0152"
            ],
            [
             0.1,
             "#c51b7d"
            ],
            [
             0.2,
             "#de77ae"
            ],
            [
             0.3,
             "#f1b6da"
            ],
            [
             0.4,
             "#fde0ef"
            ],
            [
             0.5,
             "#f7f7f7"
            ],
            [
             0.6,
             "#e6f5d0"
            ],
            [
             0.7,
             "#b8e186"
            ],
            [
             0.8,
             "#7fbc41"
            ],
            [
             0.9,
             "#4d9221"
            ],
            [
             1,
             "#276419"
            ]
           ],
           "sequential": [
            [
             0,
             "#0d0887"
            ],
            [
             0.1111111111111111,
             "#46039f"
            ],
            [
             0.2222222222222222,
             "#7201a8"
            ],
            [
             0.3333333333333333,
             "#9c179e"
            ],
            [
             0.4444444444444444,
             "#bd3786"
            ],
            [
             0.5555555555555556,
             "#d8576b"
            ],
            [
             0.6666666666666666,
             "#ed7953"
            ],
            [
             0.7777777777777778,
             "#fb9f3a"
            ],
            [
             0.8888888888888888,
             "#fdca26"
            ],
            [
             1,
             "#f0f921"
            ]
           ],
           "sequentialminus": [
            [
             0,
             "#0d0887"
            ],
            [
             0.1111111111111111,
             "#46039f"
            ],
            [
             0.2222222222222222,
             "#7201a8"
            ],
            [
             0.3333333333333333,
             "#9c179e"
            ],
            [
             0.4444444444444444,
             "#bd3786"
            ],
            [
             0.5555555555555556,
             "#d8576b"
            ],
            [
             0.6666666666666666,
             "#ed7953"
            ],
            [
             0.7777777777777778,
             "#fb9f3a"
            ],
            [
             0.8888888888888888,
             "#fdca26"
            ],
            [
             1,
             "#f0f921"
            ]
           ]
          },
          "colorway": [
           "#636efa",
           "#EF553B",
           "#00cc96",
           "#ab63fa",
           "#FFA15A",
           "#19d3f3",
           "#FF6692",
           "#B6E880",
           "#FF97FF",
           "#FECB52"
          ],
          "font": {
           "color": "#2a3f5f"
          },
          "geo": {
           "bgcolor": "white",
           "lakecolor": "white",
           "landcolor": "#E5ECF6",
           "showlakes": true,
           "showland": true,
           "subunitcolor": "white"
          },
          "hoverlabel": {
           "align": "left"
          },
          "hovermode": "closest",
          "mapbox": {
           "style": "light"
          },
          "paper_bgcolor": "white",
          "plot_bgcolor": "#E5ECF6",
          "polar": {
           "angularaxis": {
            "gridcolor": "white",
            "linecolor": "white",
            "ticks": ""
           },
           "bgcolor": "#E5ECF6",
           "radialaxis": {
            "gridcolor": "white",
            "linecolor": "white",
            "ticks": ""
           }
          },
          "scene": {
           "xaxis": {
            "backgroundcolor": "#E5ECF6",
            "gridcolor": "white",
            "gridwidth": 2,
            "linecolor": "white",
            "showbackground": true,
            "ticks": "",
            "zerolinecolor": "white"
           },
           "yaxis": {
            "backgroundcolor": "#E5ECF6",
            "gridcolor": "white",
            "gridwidth": 2,
            "linecolor": "white",
            "showbackground": true,
            "ticks": "",
            "zerolinecolor": "white"
           },
           "zaxis": {
            "backgroundcolor": "#E5ECF6",
            "gridcolor": "white",
            "gridwidth": 2,
            "linecolor": "white",
            "showbackground": true,
            "ticks": "",
            "zerolinecolor": "white"
           }
          },
          "shapedefaults": {
           "line": {
            "color": "#2a3f5f"
           }
          },
          "ternary": {
           "aaxis": {
            "gridcolor": "white",
            "linecolor": "white",
            "ticks": ""
           },
           "baxis": {
            "gridcolor": "white",
            "linecolor": "white",
            "ticks": ""
           },
           "bgcolor": "#E5ECF6",
           "caxis": {
            "gridcolor": "white",
            "linecolor": "white",
            "ticks": ""
           }
          },
          "title": {
           "x": 0.05
          },
          "xaxis": {
           "automargin": true,
           "gridcolor": "white",
           "linecolor": "white",
           "ticks": "",
           "title": {
            "standoff": 15
           },
           "zerolinecolor": "white",
           "zerolinewidth": 2
          },
          "yaxis": {
           "automargin": true,
           "gridcolor": "white",
           "linecolor": "white",
           "ticks": "",
           "title": {
            "standoff": 15
           },
           "zerolinecolor": "white",
           "zerolinewidth": 2
          }
         }
        }
       }
      }
     },
     "metadata": {},
     "output_type": "display_data"
    }
   ],
   "source": [
    "# Define grid\n",
    "x1, y1, z1 = np.meshgrid(\n",
    "    np.linspace(-1, 1, 5),\n",
    "    np.linspace(-1, 1, 5),\n",
    "    np.linspace(-1, 1, 5)\n",
    ")\n",
    "\n",
    "# Simple radial field example \n",
    "u1 = x1\n",
    "v1 = y1\n",
    "w1 = z1\n",
    "\n",
    "plotter.plotter(x1, y1, z1, u1, v1, w1)"
   ]
  },
  {
   "cell_type": "code",
   "execution_count": 3,
   "metadata": {},
   "outputs": [
    {
     "data": {
      "application/vnd.plotly.v1+json": {
       "config": {
        "plotlyServerURL": "https://plot.ly"
       },
       "data": [
        {
         "anchor": "tail",
         "sizemode": "scaled",
         "sizeref": 2,
         "type": "cone",
         "u": {
          "bdata": "rtfcixif2L8AVUQTDm/eP67X3IsYn9i/FoG/yk/r47+u19yLGJ/oPxaBv8pP6+O/FoG/yk/r47+u19yLGJ/oPxaBv8pP6+O/stfcixif2L8FVUQTDm/eP7LX3IsYn9i/UtizgRhzwLwZmkVZM1XEPFLYs4EYc8C8pNfcixif2D/zVEQTDm/ev6TX3IsYn9g/FIG/yk/r4z+s19yLGJ/ovxSBv8pP6+M/GIG/yk/r4z+x19yLGJ/ovxiBv8pP6+M/u9fcixif2D8PVUQTDm/ev7vX3IsYn9g/YVp1BCPPwr9H9Z0d1j/HP2FadQQjz8K/AlVEEw5vzr9gWnUEI8/SPwJVRBMOb86/A1VEEw5vzr9hWnUEI8/SPwNVRBMOb86/ZFp1BCPPwr9L9Z0d1j/HP2RadQQjz8K/Gy1EVPshqbw5Do681hCvPBstRFT7Iam8WVp1BCPPwj899Z0d1j/Hv1ladQQjz8I/AFVEEw5vzj9fWnUEI8/SvwBVRBMOb84/B1VEEw5vzj9jWnUEI8/SvwdVRBMOb84/alp1BCPPwj9S9Z0d1j/Hv2padQQjz8I/WVp1BCPPwj899Z0d1j/Hv1ladQQjz8I/9VREEw5vzj9YWnUEI8/Sv/VURBMOb84/9VREEw5vzj9YWnUEI8/Sv/VURBMOb84/W1p1BCPPwj9A9Z0d1j/Hv1tadQQjz8I/Dy1EVPshqTwqDo681hCvvA8tRFT7Iak8UVp1BCPPwr8z9Z0d1j/HP1FadQQjz8K/8lREEw5vzr9WWnUEI8/SP/JURBMOb86/+FREEw5vzr9aWnUEI8/SP/hURBMOb86/Ylp1BCPPwr9I9Z0d1j/HP2JadQQjz8K/rdfcixif2D/+VEQTDm/ev63X3IsYn9g/FIG/yk/r4z+s19yLGJ/ovxSBv8pP6+M/FYG/yk/r4z+t19yLGJ/ovxWBv8pP6+M/sdfcixif2D8DVUQTDm/ev7HX3IsYn9g/UNizgRhzwDwXmkVZM1XEvFDYs4EYc8A8otfcixif2L/xVEQTDm/eP6LX3IsYn9i/E4G/yk/r47+q19yLGJ/oPxOBv8pP6+O/F4G/yk/r47+v19yLGJ/oPxeBv8pP6+O/uNfcixif2L8MVUQTDm/eP7jX3IsYn9i/AFVEEw5v3j9fWnUEI8/ivwBVRBMOb94/rtfcixif6D//VEQTDm/uv67X3IsYn+g/rtfcixif6D8AVUQTDm/uv67X3IsYn+g/BVVEEw5v3j9iWnUEI8/ivwVVRBMOb94/GZpFWTNVxDwYLURU+yHJvBmaRVkzVcQ881REEw5v3r9XWnUEI8/iP/NURBMOb96/rNfcixif6L/9VEQTDm/uP6zX3IsYn+i/sdfcixif6L8DVUQTDm/uP7HX3IsYn+i/D1VEEw5v3r9oWnUEI8/iPw9VRBMOb96/tNfcixif2D8HVUQTDm/ev7TX3IsYn9g/GoG/yk/r4z+z19yLGJ/ovxqBv8pP6+M/G4G/yk/r4z+019yLGJ/ovxuBv8pP6+M/uNfcixif2D8MVUQTDm/ev7jX3IsYn9g/VdizgRhzwDwdmkVZM1XEvFXYs4EYc8A8qtfcixif2L/6VEQTDm/eP6rX3IsYn9i/GYG/yk/r47+y19yLGJ/oPxmBv8pP6+O/HYG/yk/r47+319yLGJ/oPx2Bv8pP6+O/wNfcixif2L8WVUQTDm/eP8DX3IsYn9i/blp1BCPPwj9Y9Z0d1j/Hv25adQQjz8I/F1VEEw5vzj9tWnUEI8/SvxdVRBMOb84/GFVEEw5vzj9uWnUEI8/SvxhVRBMOb84/cVp1BCPPwj9b9Z0d1j/Hv3FadQQjz8I/LS1EVPshqTxPDo681hCvvC0tRFT7Iak8Zlp1BCPPwr9O9Z0d1j/HP2ZadQQjz8K/FVVEEw5vzr9sWnUEI8/SPxVVRBMOb86/HFVEEw5vzr9wWnUEI8/SPxxVRBMOb86/d1p1BCPPwr9j9Z0d1j/HP3dadQQjz8K/S1p1BCPPwr8s9Z0d1j/HP0tadQQjz8K/3lREEw5vzr9KWnUEI8/SP95URBMOb86/4FREEw5vzr9LWnUEI8/SP+BURBMOb86/Tlp1BCPPwr8w9Z0d1j/HP05adQQjz8K//SxEVPshqbwUDo681hCvPP0sRFT7Iam8Q1p1BCPPwj8i9Z0d1j/Hv0NadQQjz8I/3VREEw5vzj9JWnUEI8/Sv91URBMOb84/41REEw5vzj9NWnUEI8/Sv+NURBMOb84/VFp1BCPPwj839Z0d1j/Hv1RadQQjz8I/qNfcixif2L/4VEQTDm/eP6jX3IsYn9i/EIG/yk/r47+n19yLGJ/oPxCBv8pP6+O/EYG/yk/r47+o19yLGJ/oPxGBv8pP6+O/rNfcixif2L/9VEQTDm/eP6zX3IsYn9i/TdizgRhzwLwTmkVZM1XEPE3Ys4EYc8C8ndfcixif2D/rVEQTDm/ev53X3IsYn9g/D4G/yk/r4z+l19yLGJ/ovw+Bv8pP6+M/E4G/yk/r4z+q19yLGJ/ovxOBv8pP6+M/tNfcixif2D8HVUQTDm/ev7TX3IsYn9g/",
          "dtype": "f8"
         },
         "v": {
          "bdata": "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",
          "dtype": "f8"
         },
         "w": {
          "bdata": "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",
          "dtype": "f8"
         },
         "x": {
          "bdata": "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",
          "dtype": "f8"
         },
         "y": {
          "bdata": "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",
          "dtype": "f8"
         },
         "z": {
          "bdata": "mpmZmZmZ6b8AAAAAAAAAAJqZmZmZmek/mpmZmZmZ6b8AAAAAAAAAAJqZmZmZmek/mpmZmZmZ6b8AAAAAAAAAAJqZmZmZmek/mpmZmZmZ6b8AAAAAAAAAAJqZmZmZmek/mpmZmZmZ6b8AAAAAAAAAAJqZmZmZmek/mpmZmZmZ6b8AAAAAAAAAAJqZmZmZmek/mpmZmZmZ6b8AAAAAAAAAAJqZmZmZmek/mpmZmZmZ6b8AAAAAAAAAAJqZmZmZmek/mpmZmZmZ6b8AAAAAAAAAAJqZmZmZmek/mpmZmZmZ6b8AAAAAAAAAAJqZmZmZmek/mpmZmZmZ6b8AAAAAAAAAAJqZmZmZmek/mpmZmZmZ6b8AAAAAAAAAAJqZmZmZmek/mpmZmZmZ6b8AAAAAAAAAAJqZmZmZmek/mpmZmZmZ6b8AAAAAAAAAAJqZmZmZmek/mpmZmZmZ6b8AAAAAAAAAAJqZmZmZmek/mpmZmZmZ6b8AAAAAAAAAAJqZmZmZmek/mpmZmZmZ6b8AAAAAAAAAAJqZmZmZmek/mpmZmZmZ6b8AAAAAAAAAAJqZmZmZmek/mpmZmZmZ6b8AAAAAAAAAAJqZmZmZmek/mpmZmZmZ6b8AAAAAAAAAAJqZmZmZmek/mpmZmZmZ6b8AAAAAAAAAAJqZmZmZmek/mpmZmZmZ6b8AAAAAAAAAAJqZmZmZmek/mpmZmZmZ6b8AAAAAAAAAAJqZmZmZmek/mpmZmZmZ6b8AAAAAAAAAAJqZmZmZmek/mpmZmZmZ6b8AAAAAAAAAAJqZmZmZmek/mpmZmZmZ6b8AAAAAAAAAAJqZmZmZmek/mpmZmZmZ6b8AAAAAAAAAAJqZmZmZmek/mpmZmZmZ6b8AAAAAAAAAAJqZmZmZmek/mpmZmZmZ6b8AAAAAAAAAAJqZmZmZmek/mpmZmZmZ6b8AAAAAAAAAAJqZmZmZmek/mpmZmZmZ6b8AAAAAAAAAAJqZmZmZmek/mpmZmZmZ6b8AAAAAAAAAAJqZmZmZmek/mpmZmZmZ6b8AAAAAAAAAAJqZmZmZmek/mpmZmZmZ6b8AAAAAAAAAAJqZmZmZmek/mpmZmZmZ6b8AAAAAAAAAAJqZmZmZmek/mpmZmZmZ6b8AAAAAAAAAAJqZmZmZmek/mpmZmZmZ6b8AAAAAAAAAAJqZmZmZmek/mpmZmZmZ6b8AAAAAAAAAAJqZmZmZmek/mpmZmZmZ6b8AAAAAAAAAAJqZmZmZmek/mpmZmZmZ6b8AAAAAAAAAAJqZmZmZmek/mpmZmZmZ6b8AAAAAAAAAAJqZmZmZmek/mpmZmZmZ6b8AAAAAAAAAAJqZmZmZmek/mpmZmZmZ6b8AAAAAAAAAAJqZmZmZmek/mpmZmZmZ6b8AAAAAAAAAAJqZmZmZmek/mpmZmZmZ6b8AAAAAAAAAAJqZmZmZmek/mpmZmZmZ6b8AAAAAAAAAAJqZmZmZmek/mpmZmZmZ6b8AAAAAAAAAAJqZmZmZmek/mpmZmZmZ6b8AAAAAAAAAAJqZmZmZmek/mpmZmZmZ6b8AAAAAAAAAAJqZmZmZmek/mpmZmZmZ6b8AAAAAAAAAAJqZmZmZmek/mpmZmZmZ6b8AAAAAAAAAAJqZmZmZmek/mpmZmZmZ6b8AAAAAAAAAAJqZmZmZmek/mpmZmZmZ6b8AAAAAAAAAAJqZmZmZmek/mpmZmZmZ6b8AAAAAAAAAAJqZmZmZmek/mpmZmZmZ6b8AAAAAAAAAAJqZmZmZmek/mpmZmZmZ6b8AAAAAAAAAAJqZmZmZmek/mpmZmZmZ6b8AAAAAAAAAAJqZmZmZmek/mpmZmZmZ6b8AAAAAAAAAAJqZmZmZmek/mpmZmZmZ6b8AAAAAAAAAAJqZmZmZmek/mpmZmZmZ6b8AAAAAAAAAAJqZmZmZmek/mpmZmZmZ6b8AAAAAAAAAAJqZmZmZmek/mpmZmZmZ6b8AAAAAAAAAAJqZmZmZmek/mpmZmZmZ6b8AAAAAAAAAAJqZmZmZmek/mpmZmZmZ6b8AAAAAAAAAAJqZmZmZmek/mpmZmZmZ6b8AAAAAAAAAAJqZmZmZmek/mpmZmZmZ6b8AAAAAAAAAAJqZmZmZmek/mpmZmZmZ6b8AAAAAAAAAAJqZmZmZmek/mpmZmZmZ6b8AAAAAAAAAAJqZmZmZmek/mpmZmZmZ6b8AAAAAAAAAAJqZmZmZmek/mpmZmZmZ6b8AAAAAAAAAAJqZmZmZmek/mpmZmZmZ6b8AAAAAAAAAAJqZmZmZmek/mpmZmZmZ6b8AAAAAAAAAAJqZmZmZmek/mpmZmZmZ6b8AAAAAAAAAAJqZmZmZmek/mpmZmZmZ6b8AAAAAAAAAAJqZmZmZmek/mpmZmZmZ6b8AAAAAAAAAAJqZmZmZmek/mpmZmZmZ6b8AAAAAAAAAAJqZmZmZmek/mpmZmZmZ6b8AAAAAAAAAAJqZmZmZmek/mpmZmZmZ6b8AAAAAAAAAAJqZmZmZmek/mpmZmZmZ6b8AAAAAAAAAAJqZmZmZmek/mpmZmZmZ6b8AAAAAAAAAAJqZmZmZmek/mpmZmZmZ6b8AAAAAAAAAAJqZmZmZmek/",
          "dtype": "f8"
         }
        }
       ],
       "layout": {
        "scene": {
         "xaxis": {
          "title": {
           "text": "X"
          }
         },
         "yaxis": {
          "title": {
           "text": "Y"
          }
         },
         "zaxis": {
          "title": {
           "text": "Z"
          }
         }
        },
        "template": {
         "data": {
          "bar": [
           {
            "error_x": {
             "color": "#2a3f5f"
            },
            "error_y": {
             "color": "#2a3f5f"
            },
            "marker": {
             "line": {
              "color": "#E5ECF6",
              "width": 0.5
             },
             "pattern": {
              "fillmode": "overlay",
              "size": 10,
              "solidity": 0.2
             }
            },
            "type": "bar"
           }
          ],
          "barpolar": [
           {
            "marker": {
             "line": {
              "color": "#E5ECF6",
              "width": 0.5
             },
             "pattern": {
              "fillmode": "overlay",
              "size": 10,
              "solidity": 0.2
             }
            },
            "type": "barpolar"
           }
          ],
          "carpet": [
           {
            "aaxis": {
             "endlinecolor": "#2a3f5f",
             "gridcolor": "white",
             "linecolor": "white",
             "minorgridcolor": "white",
             "startlinecolor": "#2a3f5f"
            },
            "baxis": {
             "endlinecolor": "#2a3f5f",
             "gridcolor": "white",
             "linecolor": "white",
             "minorgridcolor": "white",
             "startlinecolor": "#2a3f5f"
            },
            "type": "carpet"
           }
          ],
          "choropleth": [
           {
            "colorbar": {
             "outlinewidth": 0,
             "ticks": ""
            },
            "type": "choropleth"
           }
          ],
          "contour": [
           {
            "colorbar": {
             "outlinewidth": 0,
             "ticks": ""
            },
            "colorscale": [
             [
              0,
              "#0d0887"
             ],
             [
              0.1111111111111111,
              "#46039f"
             ],
             [
              0.2222222222222222,
              "#7201a8"
             ],
             [
              0.3333333333333333,
              "#9c179e"
             ],
             [
              0.4444444444444444,
              "#bd3786"
             ],
             [
              0.5555555555555556,
              "#d8576b"
             ],
             [
              0.6666666666666666,
              "#ed7953"
             ],
             [
              0.7777777777777778,
              "#fb9f3a"
             ],
             [
              0.8888888888888888,
              "#fdca26"
             ],
             [
              1,
              "#f0f921"
             ]
            ],
            "type": "contour"
           }
          ],
          "contourcarpet": [
           {
            "colorbar": {
             "outlinewidth": 0,
             "ticks": ""
            },
            "type": "contourcarpet"
           }
          ],
          "heatmap": [
           {
            "colorbar": {
             "outlinewidth": 0,
             "ticks": ""
            },
            "colorscale": [
             [
              0,
              "#0d0887"
             ],
             [
              0.1111111111111111,
              "#46039f"
             ],
             [
              0.2222222222222222,
              "#7201a8"
             ],
             [
              0.3333333333333333,
              "#9c179e"
             ],
             [
              0.4444444444444444,
              "#bd3786"
             ],
             [
              0.5555555555555556,
              "#d8576b"
             ],
             [
              0.6666666666666666,
              "#ed7953"
             ],
             [
              0.7777777777777778,
              "#fb9f3a"
             ],
             [
              0.8888888888888888,
              "#fdca26"
             ],
             [
              1,
              "#f0f921"
             ]
            ],
            "type": "heatmap"
           }
          ],
          "histogram": [
           {
            "marker": {
             "pattern": {
              "fillmode": "overlay",
              "size": 10,
              "solidity": 0.2
             }
            },
            "type": "histogram"
           }
          ],
          "histogram2d": [
           {
            "colorbar": {
             "outlinewidth": 0,
             "ticks": ""
            },
            "colorscale": [
             [
              0,
              "#0d0887"
             ],
             [
              0.1111111111111111,
              "#46039f"
             ],
             [
              0.2222222222222222,
              "#7201a8"
             ],
             [
              0.3333333333333333,
              "#9c179e"
             ],
             [
              0.4444444444444444,
              "#bd3786"
             ],
             [
              0.5555555555555556,
              "#d8576b"
             ],
             [
              0.6666666666666666,
              "#ed7953"
             ],
             [
              0.7777777777777778,
              "#fb9f3a"
             ],
             [
              0.8888888888888888,
              "#fdca26"
             ],
             [
              1,
              "#f0f921"
             ]
            ],
            "type": "histogram2d"
           }
          ],
          "histogram2dcontour": [
           {
            "colorbar": {
             "outlinewidth": 0,
             "ticks": ""
            },
            "colorscale": [
             [
              0,
              "#0d0887"
             ],
             [
              0.1111111111111111,
              "#46039f"
             ],
             [
              0.2222222222222222,
              "#7201a8"
             ],
             [
              0.3333333333333333,
              "#9c179e"
             ],
             [
              0.4444444444444444,
              "#bd3786"
             ],
             [
              0.5555555555555556,
              "#d8576b"
             ],
             [
              0.6666666666666666,
              "#ed7953"
             ],
             [
              0.7777777777777778,
              "#fb9f3a"
             ],
             [
              0.8888888888888888,
              "#fdca26"
             ],
             [
              1,
              "#f0f921"
             ]
            ],
            "type": "histogram2dcontour"
           }
          ],
          "mesh3d": [
           {
            "colorbar": {
             "outlinewidth": 0,
             "ticks": ""
            },
            "type": "mesh3d"
           }
          ],
          "parcoords": [
           {
            "line": {
             "colorbar": {
              "outlinewidth": 0,
              "ticks": ""
             }
            },
            "type": "parcoords"
           }
          ],
          "pie": [
           {
            "automargin": true,
            "type": "pie"
           }
          ],
          "scatter": [
           {
            "fillpattern": {
             "fillmode": "overlay",
             "size": 10,
             "solidity": 0.2
            },
            "type": "scatter"
           }
          ],
          "scatter3d": [
           {
            "line": {
             "colorbar": {
              "outlinewidth": 0,
              "ticks": ""
             }
            },
            "marker": {
             "colorbar": {
              "outlinewidth": 0,
              "ticks": ""
             }
            },
            "type": "scatter3d"
           }
          ],
          "scattercarpet": [
           {
            "marker": {
             "colorbar": {
              "outlinewidth": 0,
              "ticks": ""
             }
            },
            "type": "scattercarpet"
           }
          ],
          "scattergeo": [
           {
            "marker": {
             "colorbar": {
              "outlinewidth": 0,
              "ticks": ""
             }
            },
            "type": "scattergeo"
           }
          ],
          "scattergl": [
           {
            "marker": {
             "colorbar": {
              "outlinewidth": 0,
              "ticks": ""
             }
            },
            "type": "scattergl"
           }
          ],
          "scattermap": [
           {
            "marker": {
             "colorbar": {
              "outlinewidth": 0,
              "ticks": ""
             }
            },
            "type": "scattermap"
           }
          ],
          "scattermapbox": [
           {
            "marker": {
             "colorbar": {
              "outlinewidth": 0,
              "ticks": ""
             }
            },
            "type": "scattermapbox"
           }
          ],
          "scatterpolar": [
           {
            "marker": {
             "colorbar": {
              "outlinewidth": 0,
              "ticks": ""
             }
            },
            "type": "scatterpolar"
           }
          ],
          "scatterpolargl": [
           {
            "marker": {
             "colorbar": {
              "outlinewidth": 0,
              "ticks": ""
             }
            },
            "type": "scatterpolargl"
           }
          ],
          "scatterternary": [
           {
            "marker": {
             "colorbar": {
              "outlinewidth": 0,
              "ticks": ""
             }
            },
            "type": "scatterternary"
           }
          ],
          "surface": [
           {
            "colorbar": {
             "outlinewidth": 0,
             "ticks": ""
            },
            "colorscale": [
             [
              0,
              "#0d0887"
             ],
             [
              0.1111111111111111,
              "#46039f"
             ],
             [
              0.2222222222222222,
              "#7201a8"
             ],
             [
              0.3333333333333333,
              "#9c179e"
             ],
             [
              0.4444444444444444,
              "#bd3786"
             ],
             [
              0.5555555555555556,
              "#d8576b"
             ],
             [
              0.6666666666666666,
              "#ed7953"
             ],
             [
              0.7777777777777778,
              "#fb9f3a"
             ],
             [
              0.8888888888888888,
              "#fdca26"
             ],
             [
              1,
              "#f0f921"
             ]
            ],
            "type": "surface"
           }
          ],
          "table": [
           {
            "cells": {
             "fill": {
              "color": "#EBF0F8"
             },
             "line": {
              "color": "white"
             }
            },
            "header": {
             "fill": {
              "color": "#C8D4E3"
             },
             "line": {
              "color": "white"
             }
            },
            "type": "table"
           }
          ]
         },
         "layout": {
          "annotationdefaults": {
           "arrowcolor": "#2a3f5f",
           "arrowhead": 0,
           "arrowwidth": 1
          },
          "autotypenumbers": "strict",
          "coloraxis": {
           "colorbar": {
            "outlinewidth": 0,
            "ticks": ""
           }
          },
          "colorscale": {
           "diverging": [
            [
             0,
             "#8e0152"
            ],
            [
             0.1,
             "#c51b7d"
            ],
            [
             0.2,
             "#de77ae"
            ],
            [
             0.3,
             "#f1b6da"
            ],
            [
             0.4,
             "#fde0ef"
            ],
            [
             0.5,
             "#f7f7f7"
            ],
            [
             0.6,
             "#e6f5d0"
            ],
            [
             0.7,
             "#b8e186"
            ],
            [
             0.8,
             "#7fbc41"
            ],
            [
             0.9,
             "#4d9221"
            ],
            [
             1,
             "#276419"
            ]
           ],
           "sequential": [
            [
             0,
             "#0d0887"
            ],
            [
             0.1111111111111111,
             "#46039f"
            ],
            [
             0.2222222222222222,
             "#7201a8"
            ],
            [
             0.3333333333333333,
             "#9c179e"
            ],
            [
             0.4444444444444444,
             "#bd3786"
            ],
            [
             0.5555555555555556,
             "#d8576b"
            ],
            [
             0.6666666666666666,
             "#ed7953"
            ],
            [
             0.7777777777777778,
             "#fb9f3a"
            ],
            [
             0.8888888888888888,
             "#fdca26"
            ],
            [
             1,
             "#f0f921"
            ]
           ],
           "sequentialminus": [
            [
             0,
             "#0d0887"
            ],
            [
             0.1111111111111111,
             "#46039f"
            ],
            [
             0.2222222222222222,
             "#7201a8"
            ],
            [
             0.3333333333333333,
             "#9c179e"
            ],
            [
             0.4444444444444444,
             "#bd3786"
            ],
            [
             0.5555555555555556,
             "#d8576b"
            ],
            [
             0.6666666666666666,
             "#ed7953"
            ],
            [
             0.7777777777777778,
             "#fb9f3a"
            ],
            [
             0.8888888888888888,
             "#fdca26"
            ],
            [
             1,
             "#f0f921"
            ]
           ]
          },
          "colorway": [
           "#636efa",
           "#EF553B",
           "#00cc96",
           "#ab63fa",
           "#FFA15A",
           "#19d3f3",
           "#FF6692",
           "#B6E880",
           "#FF97FF",
           "#FECB52"
          ],
          "font": {
           "color": "#2a3f5f"
          },
          "geo": {
           "bgcolor": "white",
           "lakecolor": "white",
           "landcolor": "#E5ECF6",
           "showlakes": true,
           "showland": true,
           "subunitcolor": "white"
          },
          "hoverlabel": {
           "align": "left"
          },
          "hovermode": "closest",
          "mapbox": {
           "style": "light"
          },
          "paper_bgcolor": "white",
          "plot_bgcolor": "#E5ECF6",
          "polar": {
           "angularaxis": {
            "gridcolor": "white",
            "linecolor": "white",
            "ticks": ""
           },
           "bgcolor": "#E5ECF6",
           "radialaxis": {
            "gridcolor": "white",
            "linecolor": "white",
            "ticks": ""
           }
          },
          "scene": {
           "xaxis": {
            "backgroundcolor": "#E5ECF6",
            "gridcolor": "white",
            "gridwidth": 2,
            "linecolor": "white",
            "showbackground": true,
            "ticks": "",
            "zerolinecolor": "white"
           },
           "yaxis": {
            "backgroundcolor": "#E5ECF6",
            "gridcolor": "white",
            "gridwidth": 2,
            "linecolor": "white",
            "showbackground": true,
            "ticks": "",
            "zerolinecolor": "white"
           },
           "zaxis": {
            "backgroundcolor": "#E5ECF6",
            "gridcolor": "white",
            "gridwidth": 2,
            "linecolor": "white",
            "showbackground": true,
            "ticks": "",
            "zerolinecolor": "white"
           }
          },
          "shapedefaults": {
           "line": {
            "color": "#2a3f5f"
           }
          },
          "ternary": {
           "aaxis": {
            "gridcolor": "white",
            "linecolor": "white",
            "ticks": ""
           },
           "baxis": {
            "gridcolor": "white",
            "linecolor": "white",
            "ticks": ""
           },
           "bgcolor": "#E5ECF6",
           "caxis": {
            "gridcolor": "white",
            "linecolor": "white",
            "ticks": ""
           }
          },
          "title": {
           "x": 0.05
          },
          "xaxis": {
           "automargin": true,
           "gridcolor": "white",
           "linecolor": "white",
           "ticks": "",
           "title": {
            "standoff": 15
           },
           "zerolinecolor": "white",
           "zerolinewidth": 2
          },
          "yaxis": {
           "automargin": true,
           "gridcolor": "white",
           "linecolor": "white",
           "ticks": "",
           "title": {
            "standoff": 15
           },
           "zerolinecolor": "white",
           "zerolinewidth": 2
          }
         }
        }
       }
      }
     },
     "metadata": {},
     "output_type": "display_data"
    }
   ],
   "source": [
    "x2, y2, z2 = np.meshgrid(np.arange(-0.8, 1, 0.2),\n",
    "                      np.arange(-0.8, 1, 0.2),\n",
    "                      np.arange(-0.8, 1, 0.8))\n",
    "\n",
    "u2 = np.sin(np.pi * x2) * np.cos(np.pi * y2) * np.cos(np.pi * z2) \n",
    "v2 = -np.cos(np.pi * x2) * np.sin(np.pi * y2) * np.cos(np.pi * z2) \n",
    "w2 = (np.sqrt(2.0 / 3.0) * np.cos(np.pi * x2) * np.cos(np.pi * y2) * np.sin(np.pi * z2)) \n",
    "\n",
    "plotter.plotter(x2, y2, z2, u2, v2, w2)"
   ]
  },
  {
   "cell_type": "markdown",
   "metadata": {},
   "source": [
    "clear to me that some refinement needs doing on the plotting code so that we can see the underlying fields a lot clearer. This will be done in time"
   ]
  },
  {
   "cell_type": "markdown",
   "metadata": {},
   "source": [
    "## Generating Physics Related Vector Fields"
   ]
  },
  {
   "cell_type": "markdown",
   "metadata": {},
   "source": [
    "This is for the purpose of later having things to compare to. Possible examples of reasonable fields include:\n",
    "\n",
    "- field around infinite 1d wire\n",
    "- field around coil of wire\n",
    "- field around magnetised sphere\n",
    "- bar magnet? \n",
    "\n",
    "Plan is to make use of boundary conditions. If we have certain circumstances in which one field may be continuous but the other is not, then by allowing communication between these two can lead to accurate fields being derived for aggregate scenarios. "
   ]
  },
  {
   "cell_type": "code",
   "execution_count": 4,
   "metadata": {},
   "outputs": [],
   "source": [
    "from constants import CONSTANTS  # handy place to lump all of these and avoid typos "
   ]
  },
  {
   "cell_type": "code",
   "execution_count": 5,
   "metadata": {},
   "outputs": [
    {
     "data": {
      "application/vnd.plotly.v1+json": {
       "config": {
        "plotlyServerURL": "https://plot.ly"
       },
       "data": [
        {
         "anchor": "tail",
         "sizemode": "scaled",
         "sizeref": 2,
         "type": "cone",
         "u": {
          "bdata": "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",
          "dtype": "f8"
         },
         "v": {
          "bdata": "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",
          "dtype": "f8"
         },
         "w": {
          "bdata": "AAAAAAAAAAAAAAAAAAAAAAAAAAAAAAAAAAAAAAAAAAAAAAAAAAAAAAAAAAAAAAAAAAAAAAAAAAAAAAAAAAAAAAAAAAAAAAAAAAAAAAAAAAAAAAAAAAAAAAAAAAAAAAAAAAAAAAAAAAAAAAAAAAAAAAAAAAAAAAAAAAAAAAAAAAAAAAAAAAAAAAAAAAAAAAAAAAAAAAAAAAAAAAAAAAAAAAAAAAAAAAAAAAAAAAAAAAAAAAAAAAAAAAAAAAAAAAAAAAAAAAAAAAAAAAAAAAAAAAAAAAAAAAAAAAAAAAAAAAAAAAAAAAAAAAAAAAAAAAAAAAAAAAAAAAAAAAAAAAAAAAAAAAAAAAAAAAAAAAAAAAAAAAAAAAAAAAAAAAAAAAAAAAAAAAAAAAAAAAAAAAAAAAAAAAAAAAAAAAAAAAAAAAAAAAAAAAAAAAAAAAAAAAAAAAAAAAAAAAAAAAAAAAAAAAAAAAAAAAAAAAAAAAAAAAAAAAAAAAAAAAAAAAAAAAAAAAAAAAAAAAAAAAAAAAAAAAAAAAAAAAAAAAAAAAAAAAAAAAAAAAAAAAAAAAAAAAAAAAAAAAAAAAAAAAAAAAAAAAAAAAAAAAAAAAAAAAAAAAAAAAAAAAAAAAAAAAAAAAAAAAAAAAAAAAAAAAAAAAAAAAAAAAAAAAAAAAAAAAAAAAAAAAAAAAAAAAAAAAAAAAAAAAAAAAAAAAAAAAAAAAAAAAAAAAAAAAAAAAAAAAAAAAAAAAAAAAAAAAAAAAAAAAAAAAAAAAAAAAAAAAAAAAAAAAAAAAAAAAAAAAAAAAAAAAAAAAAAAAAAAAAAAAAAAAAAAAAAAAAAAAAAAAAAAAAAAAAAAAAAAAAAAAAAAAAAAAAAAAAAAAAAAAAAAAAAAAAAAAAAAAAAAAAAAAAAAAAAAAAAAAAAAAAAAAAAAAAAAAAAAAAAAAAAAAAAAAAAAAAAAAAAAAAAAAAAAAAAAAAAAAAAAAAAAAAAAAAAAAAAAAAAAAAAAAAAAAAAAAAAAAAAAAAAAAAAAAAAAAAAAAAAAAAAAAAAAAAAAAAAAAAAAAAAAAAAAAAAAAAAAAAAAAAAAAAAAAAAAAAAAAAAAAAAAAAAAAAAAAAAAAAAAAAAAAAAAAAAAAAAAAAAAAAAAAAAAAAAAAAAAAAAAAAAAAAAAAAAAAAAAAAAAAAAAAAAAAAAAAAAAAAAAAAAAAAAAAAAAAAAAAAAAAAAAAAAAAAAAAAAAAAAAAAAAAAAAAAAAAAAAAAAAAAAAAAAAAAAAAAAAAAAAAAAAAAAAAAAAAAAAAAAAAAAAAAAAAAAAAAAAAAAAAAAAAAAAAAAAAAAAAAAAAAAAAAAAAAAAAAAAAAAAAAAAAAAAAAAAAAAAAAAAAAAAAAAAAAAAAAAAAAAAAAAAAAAAAAAAAAAAAAAAAAAAAAAAAAAAAAAAAAAAAAAAAAAAAAAAAAAAAAAAAAAAAAAAAAAAAAAAAAAAAAAAAAAAAAAAAAAAAAAAAAAAAAAAAAAAAAAAAAAAAAAAAAAAAAAAAAAAAAAAAAAAAAAAAAAAAAAAAAAAAAAAAAAAAAAAAAAAAAAAAAAAAAAAAAAAAAAAAAAAAAAAAAAAAAAAAAAAAAAAAAAAAAAAAAAAAAAAAAAAAAAAAAAAAAAAAAAAAAAAAAAAAAAAAAAAAAAAAAAAAAAAAAAAAAAAAAAAAAAAAAAAAAAAAAAAAAAAAAAAAAAAAAAAAAAAAAAAAAAAAAAAAAAAAAAAAAAAAAAAAAAAAAAAAAAAAAAAAAAAAAAAAAAAAAAAAAAAAAAAAAAAAAAAAAAAAAAAAAAAAAAAAAAAAAAAAAAAAAAAAAAAAAAAAAAAAAAAAAAAAAAAAAAAAAAAAAAAAAAAAAAAAAAAAAAAAAAAAAAAAAAAAAAAAAAAAAAAAAAAAAAAAAAAAAAAAAAAAAAAAAAAAAAAAAAAAAAAAAAAAAAAAAAAAAAAAAAAAAAAAAAAAAAAAAAAAAAAAAAAAAAAAAAAAAAAAAAAAAAAAAAAAAAAAAAAAAAAAAAAAAAAAAAAAAAAAAAAAAAAAAAAAAAAAAAAAAAAAAAAAAAAAAAAAAAAAAAAAAAAAAAAAAAAAAAAAAAAAAAAAAAAAAAAAAAAAAAAAAAAAAAAAAAAAAAAAAAAAAAAAAAAAAAAAAAAAAAAAAAAAAAAAAAAAAAAAAAAAAAAAAAAAAAAAAAAAAAAAAAAAAAAAAAAAAAAAAAAAAAAAAAAAAAAAAAAAAAAAAAAAAAAAAAAAAAAAAAAAAAAAAAAAAAAAAAAAAAAAAAAAAAAAAAAAAAAAAAAAAAAAAAAAAAAAAAAAAAAAAAAAAAAAAAAAAAAAAAAAAAAAAAAAAAAAAAAAAAAAAAAAAAAAAAAAAAAAAAAAAAAAAAAAAAAAAAAAAAAAAAAAAAAAAAAAAAAAAAAAAAAAAAAAAAAAAAAAAAAAAAAAAAAAAAAAAAAAAAAAAAAAAAAAAAAAAAAAAAAAAAAAAAAAAAAAAAAAAAAAAAAAAAAAAAAAAAAAAAAAAAAAAAAAAAAAAAAAAAAAAAAAAAAAAAAAAAAAAAAAAAAAAAAAAAAAAAAAAAAAAAAAAAAAAAAAAAAAAAAAAAAAAAAAAAAAAAAAAAAAAAAAAAAAAAAAAAAAAAAAAAAAAAAAAAAAAAAAAAAAAAAAAAAAAAAAAAAAAAAAAAAAAAAAAAAAAAAAAAAAAAAAAAAAAAAAAAAAAAAAAAAAAAAAAAAAAAAAAAAAAAAAAAAAAAAAAAAAAAAAAAAAAAAAAAAAAAAAAAAAAAAAAAAAAAAAAAAAAAAAAAAAAAAAAAAAAAAAAAAAAAAAAAAAAAAAAAAAAAAAAAAAAAAAAAAAAAAAAAAAAAAAAAAAAAAAAAAAAAAAAAAAAAAAAAAAAAAAAAAAAAAAAAAAAAAAAAAAAAAAAAAAAAAAAAAAAAAAAAAAAAAAAAAAAAAAAAAAAAAAAAAAAAAAAAAAAAAAAAAAAAAAAAAAAAAAAAAAAAAAAAAAAAAAAAAAAAAAAAAAAAAAAAAAAAAAAAAAAAAAAAAAAAAAAAAAAAAAAAAAAAAAAAAAAAAAAAAAAAAAAAAAAAAAAAAAAAAAAAAAAAAAAAAAAAAAAAAAAAAAAAAAAAAAAAAAAAAAAAAAAAAAAAAAAAAAAAAAAAAAAAAAAAAAAAAAAAAAAAAAAAAAAAAAAAAAAAAAAAAAAAAAAAAAAAAAAAAAAAAAAAAAAAAAAAAAAAAAAAAAAAAAAAAAAAAAAAAAAAAAAAAAAAAAAAAAAAAAAAAAAAAAAAAAAAAAAAAAAAAAAAAAAAAAAAAAAAAAAAAAAAAAAAAAAAAAAAAAAAAAAAAAAAAAAAAAAAAAAAAAAAAAAAAAAAAAAAAAAAAAAAAAAAAAAAAAAAAAAAAAAAAAAAAAAAAAAAAAAAAAAAAAAAAAAAAAAAAAAAAAAAAAAAAAAAAAAAAAAAAAAAAAAAAAAAAAAAAAAAAAAAAAAAAAAAAAAAAAAAAAAAAAAAAAAAAAAAAAAAAAAAAAAAAAAAAAAAAAAAAAAAAAAAAAAAAAAAAAAAAAAAAAAAAAAAAAAAAAAAAAAAAAAAAAAAAAAAAAAAAAAAAAAAAAAAAAAAAAAAAAAAAAAAAAAAAAAAAAAAAAAAAAAAAAAAAAAAAAAAAAAAAAAAAAAAAAAAAAAAAAAAAAAAAAAAAAAAAAAAAAAAAAAAAAAAAAAAAAAAAAAAAAAAAAAAAAAAAAAAAAAAAAAAAAAAAAAAAAAAAAAAAAAAAAAAAAAAAAAAAAAAAAAAAAAAAAAAAAAAAAAAAAAAAAAAAAAAAAAAAAAAAAAAAAAAAAAAAAAAAAAAAAAAAAAAAAAAAAAAAAAAAAAAAAAAAAAAAAAAAAAAAAAAAAAAAAAAAAAAAAAAAAAAAAAAAAAAAAAAAAAAAAAAAAAAAAAAAAAAAAAAAAAAAAAAAAAAAAAAAAAAAAAAAAAAAAAAAAAAAAAAAAAAAAAAAAAAAAAAAAAAAAAAAAAAAAAAAAAAAAAAAAAAAAAAAAAAAAAAAAAAAAAAAAAAAAAAAAAAAAAAAAAAAAAAAAAAAAAAAAAAAAAAAAAAAAAAAAAAAAAAAAAAAAAAAAAAAAAAAAAAAAAAAAAAAAAAAAAAAAAAAAAAAAAAAAAAAAAAAAAAAAAAAAAAAAAAAAAAAAAAAAAAAAAAAAAAAAAAAAAAAAAAAAAAAAAAAAAAAAAAAAAAAAAAAAAAAAAAAAAAAAAAAAAAAAAAAAAAAAAAAAAAAAAAAAAAAAAAAAAAAAAAAAAAAAAAAAAAAAAAAAAAAAAAAAAAAAAAAAAAAAAAAAAAAAAAAAAAAAAAAAAAAAAAAAAAAAAAAAAAAAAAAAAAAAAAAAAAAAAAAAAAAAAAAAAAAAAAAAAAAAAAAAAAAAAAAAAAAAAAAAAAAAAAAAAAAAAAAAAAAAAAAAAAAAAAAAAAAAAAAAAAAAAAAAAAAAAAAAAAAAAAAAAAAAAAAAAAAAAAAAAAAAAAAAAAAAAAAAAAAAAAAAAAAAAAAAAAAAAAAAAAAAAAAAAAAAAAAAAAAAAAAAAAAAAAAAAAAAAAAAAAAAAAAAAAAAAAAAAAAAAAAAAAAAAAAAAAAAAAAAAAAAAAAAAAAAAAAAAAAAAAAAAAAAAAAAAAAAAAAAAAAAAAAAAAAAAAAAAAAAAAAAAAAAAAAAAAAAAAAAAAAAAAAAAAAAAAAAAAAAAAAAAAAAAAAAAAAAAAAAAAAAAAAAAAAAAAAAAAAAAAAAAAAAAAAAAAAAAAAAAAAAAAAAAAAAAAAAAAAAAAAAAAAAAAAAAAAAAAAAAAAAAAAAAAAAAAAAAAAAAAAAAAAAAAAAAAAAAAAAAAAAAAAAAAAAAAAAAAAAAAAAAAAAAAAAAAAAAAAAAAAAAAAAAAAAAAAAAAAAAAAAAAAAAAAAAAAAAAAAAAAAAAAAAAAAAAAAAAAAAAAAAAAAAAAAAAAAAAAAAAAAAAAAAAAAAAAAAAAAAAAAAAAAAAAAAAAAAAAAAAAAAAAAAAAAAAAAAAAAAAAAAAAAAAAAAAAAAAAAAAAAAAAAAAAAAAAAAAAAAAAAAAAAAAAAAAAAAAAAAAAAAAAAAAAAAAAAAAAAAAAAAAAAAAAAAAAAAAAAAAAAAAAAAAAAAAAAAAAAAAAAAAAAAAAAAAAAAAAAAAAAAAAAAAAAAAAAAAAAAAAAAAAAAAAAAAAAAAAAAAAAAAAAAAAAAAAAAAAAAAAAAAAAAAAAAAAAAAAAAAAAAAAAAAAAAAAAAAAAAAAAAAAAAAAAAAAAAAAAAAAAAAAAAAAAAAAAAAAAAAAAAAAAAAAAAAAAAAAAAAAAAAAAAAAAAAAAAAAAAAAAAAAAAAAAAAAAAAAAAAAAAAAAAAAAAAAAAAAAAAAAAAAAAAAAAAAAAAAAAAAAAAAAAAAAAAAAAAAAAAAAAAAAAAAAAAAAAAAAAAAAAAAAAAAAAAAAAAAAAAAAAAAAAAAAAAAAAAAAAAAAAAAAAAAAAAAAAAAAAAAAAAAAAAAAAAAAAAAAAAAAAAAAAAAAAAAAAAAAAAAAAAAAAAAAAAAAAAAAAAAAAAAAAAAAAAAAAAAAAAAAAAAAAAAAAAAAAAAAAAAAAAAAAAAAAAAAAAAAAAAAAAAAAAAAAAAAAAAAAAAAAAAAAAAAAAAAAAAAAAAAAAAAAAAAAAAAAAAAAAAAAAAAAAAAAAAAAAAAAAAAAAAAAAAAAAAAAAAAAAAAAAAAAAAAAAAAAAAAAAAAAAAAAAAAAAAAAAAAAAAAAAAAAAAAAAAAAAAAAAAAAAAAAAAAAAAAAAAAAAAAAAAAAAAAAAAAAAAAAAAAAAAAAAAAAAAAAAAAAAAAAAAAAAAAAAAAAAAAAAAAAAAAAAAAAAAAAAAAAAAAAAAAAAAAAAAAAAAAAAAAAAAAAAAAAAAAAAAAAAAAAAAAAAAAAAAAAAAAAAAAAAAAAAAAAAAAAAAAAAAAAAAAAAAAAAAAAAAAAAAAAAAAAAAAAAAAAAAAAAAAAAAAAAAAAAAAAAAAAAAAAAAAAAAAAAAAAAAAAAAAAAAAAAAAAAAAAAAAAAAAAAAAAAAAAAAAAAAAAAAAAAAAAAAAAAAAAAAAAAAAAAAAAAAAAAAAAAAAAAAAAAAAAAAAAAAAAAAAAAAAAAAAAAAAAAAAAAAAAAAAAAAAAAAAAAAAAAAAAAAAAAAAAAAAAAAAAAAAAAAAAAAAAAAAAAAAAAAAAAAAAAAAAAAAAAAAAAAAAAAAAAAAAAAAAAAAAAAAAAAAAAAAAAAAAAAAAAAAAAAAAAAAAAAAAAAAAAAAAAAAAAAAAAAAAAAAAAAAAAAAAAAAAAAAAAAAAAAAAAAAAAAAAAAAAAAAAAAAAAAAAAAAAAAAAAAAAAAAAAAAAAAAAAAAAAAAAAAAAAAAAAAAAAAAAAAAAAAAAAAAAAAAAAAAAAAAAAAAAAAAAAAAAAAAAAAAAAAAAAAAAAAAAAAAAAAAAAAAAAAAAAAAAAAAAAAAAAAAAAAAAAAAAAAAAAAAAAAAAAAAAAAAAAAAAAAAAAAAAAAAAAAAAAAAAAAAAAAAAAAAAAAAAAAAAAAAAAAAAAAAAAAAAAAAAAAAAAAAAAAAAAAAAAAAAAAAAAAAAAAAAAAAAAAAAAAAAAAAAAAAAAAAAAAAAAAAAAAAAAAAAAAAAAAAAAAAAAAAAAAAAAAAAAAAAAAAAAAAAAAAAAAAAAAAAAAAAAAAAAAAAAAAAAAAAAAAAAAAAAAAAAAAAAAAAAAAAAAAAAAAAAAAAAAAAAAAAAAAAAAAAAAAAAAAAAAAAAAAAAAAAAAAAAAAAAAAAAAAAAAAAAAAAAAAAAAAAAAAAAAAAAAAAAAAAAAAAAAAAAAAAAAAAAAAAAAAAAAAAAAAAAAAAAAAAAAAAAAAAAAAAAAAAAAAAAAAAAAAAAAAAAAAAAAAAAAAAAAAAAAAAAAAAAAAAAAAAAAAAAAAAAAAAAAAAAAAAAAAAAAAAAAAAAAAAAAAAAAAAAAAAAAAAAAAAAAAAAAAAAAAAAAAAAAAAAAAAAAAAAAAAAAAAAAAAAAAAAAAAAAAAAAAAAAAAAAAAAAAAAAAAAAAAAAAAAAAAAAAAAAAAAAAAAAAAAAAAAAAAAAAAAAAAAAAAAAAAAAAAAAAAAAAAAAAAAAAAAAAAAAAAAAAAAAAAAAAAAAAAAAAAAAAAAAAAAAAAAAAAAAAAAAAAAAAAAAAAAAAAAAAAAAAAAAAAAAAAAAAAAAAAAAAAAAAAAAAAAAAAAAAAAAAAAAAAAAAAAAAAAAAAAAAAAAAAAAAAAAAAAAAAAAAAAAAAAAAAAAAAAAAAAAAAAAAAAAAAAAAAAAAAAAAAAAAAAAAAAAAAAAAAAAAAAAAAAAAAAAAAAAAAAAAAAAAAAAAAAAAAAAAAAAAAAAAAAAAAAAAAAAAAAAAAAAAAAAAAAAAAAAAAAAAAAAAAAAAAAAAAAAAAAAAAAAAAAAAAAAAAAAAAAAAAAAAAAAAAAAAAAAAAAAAAAAAAAAAAAAAAAAAAAAAAAAAAAAAAAAAAAAAAAAAAAAAAAAAAAAAAAAAAAAAAAAAAAAAAAAAAAAAAAAAAAAAAAAAAAAAAAAAAAAAAAAAAAAAAAAAAAAAAAAAAAAAAAAAAAAAAAAAAAAAAAAAAAAAAAAAAAAAAAAAAAAAAAAAAAAAAAAAAAAAAAAAAAAAAAAAAAAAAAAAAAAAAAAAAAAAAAAAAAAAAAAAAAAAAAAAAAAAAAAAAAAAAAAAAAAAAAAAAAAAAAAAAAAAAAAAAAAAAAAAAAAAAAAAAAAAAAAAAAAAAAAAAAAAAAAAAAAAAAAAAAAAAAAAAAAAAAAAAAAAAAAAAAAAAAAAAAAAAAAAAAAAAAAAAAAAAAAAAAAAAAAAAAAAAAAAAAAAAAAAAAAAAAAAAAAAAAAAAAAAAAAAAAAAAAAAAAAAAAAAAAAAAAAAAAAAAAAAAAAAAAAAAAAAAAAAAAAAAAAAAAAAAAAAAAAAAAAAAAAAAAAAAAAAAAAAAAAAAAAAAAAAAAAAAAAAAAAAAAAAAAAAAAAAAAAAAAAAAAAAAAAAAAAAAAAAAAAAAAAAAAAAAAAAAAAAAAAAAAAAAAAAAAAAAAAAAAAAAAAAAAAAAAAAAAAAAAAAAAAAAAAAAAAAAAAAAAAAAAAAAAAAAAAAAAAAAAAAAAAAAAAAAAAAAAAAAAAAAAAAAAAAAAAAAAAAAAAAAAAAAAAAAAAAAAAAAAAAAAAAAAAAAAAAAAAAAAAAAAAAAAAAAAAAAAAAAAAAAAAAAAAAAAAAAAAAAAAAAAAAAAAAAAAAAAAAAAAAAAAAAAAAAAAAAAAAAAAAAAAAAAAAAAAAAAAAAAAAAAAAAAAAAAAAAAAAAAAAAAAAAAAAAAAAAAAAAAAAAAAAAAAAAAAAAAAAAAAAAAAAAAAAAAAAAAAAAAAAAAAAAAAAAAAAAAAAAAAAAAAAAAAAAAAAAAAAAAAAAAAAAAAAAAAAAAAAAAAAAAAAAAAAAAAAAAAAAAAAAAAAAAAAAAAAAAAAAAAAAAAAAAAAAAAAAAAAAAAAAAAAAAAAAAAAAAAAAAAAAAAAAAAAAAAAAAAAAAAAAAAAAAAAAAAAAAAAAAAAAAAAAAAAAAAAAAAAAAAAAAAAAAAAAAAAAAAAAAAAAAAAAAAAAAAAAAAAAAAAAAAAAAAAAAAAAAAAAAAAAAAAAAAAAAAAAAAAAAAAAAAAAAAAAAAAAAAAAAAAAAAAAAAAAAAAAAAAAAAAAAAAAAAAAAAAAAAAAAAAAAAAAAAAAAAAAAAAAAAAAAAAAAAAAAAAAAAAAAAAAAAAAAAAAAAAAAAAAAAAAAAAAAAAAAAAAAAAAAAAAAAAAAAAAAAAAAAAAAAAAAAAAAAAAAAAAAAAAAAAAAAAAAAAAAAAAAAAAAAAAAAAAAAAAAAAAAAAAAAAAAAAAAAAAAAAAAAAAAAAAAAAAAAAAAAAAAAAAAAAAAAAAAAAAAAAAAAAAAAAAAAAAAAAAAAAAAAAAAAAAAAAAAAAAAAAAAAAAAAAAAAAAAAAAAAAAAAAAAAAAAAAAAAAAAAAAAAAAAAAAAAAAAAAAAAAAAAAAAAAAAAAAAAAAAAAAAAAAAAAAAAAAAAAAAAAAAAAAAAAAAAAAAAAAAAAAAAAAAAAAAAAAAAAAAAAAAAAAAAAAAAAAAAAAAAAAAAAAAAAAAAAAAAAAAAAAAAAAAAAAAAAAAAAAAAAAAAAAAAAAAAAAAAAAAAAAAAAAAAAAAAAAAAAAAAAAAAAAAAAAAAAAAAAAAAAAAAAAAAAAAAAAAAAAAAAAAAAAAAAAAAAAAAAAAAAAAAAAAAAAAAAAAAAAAAAAAAAAAAAAAAAAAAAAAAAAAAAAAAAAAAAAAAAAAAAAAAAAAAAAAAAAAAAAAAAAAAAAAAAAAAAAAAAAAAAAAAAAAAAAAAAAAAAAAAAAAAAAAAAAAAAAAAAAAAAAAAAAAAAAAAAAAAAAAAAAAAAAAAAAAAAAAAAAAAAAAAAAAAAAAAAAAAAAAAAAAAAAAAAAAAAAAAAAAAAAAAAAAAAAAAAAAAAAAAAAAAAAAAAAAAAAAAAAAAAAAAAAAAAAAAAAAAAAAAAAAAAAAAAAAAAAAAAAAAAAAAAAAAAAAAAAAAAAAAAAAAAAAAAAAAAAAAAAAAAAAAAAAAAAAAAAAAAAAAAAAAAAAAAAAAAAAAAAAAAAAAAAAAAAAAAAAAAAAAAAAAAAAAAAAAAAAAAAAAAAAAAAAAAAAAAAAAAAAAAAAAAAAAAAAAAAAAAAAAAAAAAAAAAAAAAAAAAAAAAAAAAAAAAAAAAAAAAAAAAAAAAAAAAAAAAAAAAAAAAAAAAAAAAAAAAAAAAAAAAAAAAAAAAAAAAAAAAAAAAAAAAAAAAAAAAAAAAAAAAAAAAAAAAAAAAAAAAAAAAAAAAAAAAAAAAAAAAAAAAAAAAAAAAAAAAAAAAAAAAAAAAAAAAAAAAAAAAAAAAAAAAAAAAAAAAAAAAAAAAAAAAAAAAAAAAAAAAAAAAAAAAAAAAAAAAAAAAAAAAAAAAAAAAAAAAAAAAAAAAAAAAAAAAAAAAAAAAAAAAAAAAAAAAAAAAAAAAAAAAAAAAAAAAAAAAAAAAAAAAAAAAAAAAAAAAAAAAAAAAAAAAAAAAAAAAAAAAAAAAAAAAAAAAAAAAAAAAAAAAAAAAAAAAAAAAAAAAAAAAAAAAAAAAAAAAAAAAAAAAAAAAAAAAAAAAAAAAAAAAAAAAAAAAAAAAAAAAAAAAAAAAAAAAAAAAAAAAAAAAAAAAAAAAAAAAAAAAAAAAAAAAAAAAAAAAAAAAAAAAAAAAAAAAAAAAAAAAAAAAAAAAAAAAAAAAAAAAAAAAAAAAAAAAAAAAAAAAAAAAAAAAAAAAAAAAAAAAAAAAAAAAAAAAAAAAAAAAAAAAAAAAAAAAAAAAAAAAAAAAAAAAAAAAAAAAAAAAAAAAAAAAAAAAAAAAAAAAAAAAAAAAAAAAAAAAAAAAAAAAAAAAAAAAAAAAAAAAAAAAAAAAAAAAAAAAAAAAAAAAAAAAAAAAAAAAAAAAAAAAAAAAAAAAAAAAAAAAAAAAAAAAAAAAAAAAAAAAAAAAAAAAA=",
          "dtype": "f8"
         },
         "x": {
          "bdata": "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",
          "dtype": "f8"
         },
         "y": {
          "bdata": "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",
          "dtype": "f8"
         },
         "z": {
          "bdata": "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",
          "dtype": "f8"
         }
        }
       ],
       "layout": {
        "scene": {
         "xaxis": {
          "title": {
           "text": "X"
          }
         },
         "yaxis": {
          "title": {
           "text": "Y"
          }
         },
         "zaxis": {
          "title": {
           "text": "Z"
          }
         }
        },
        "template": {
         "data": {
          "bar": [
           {
            "error_x": {
             "color": "#2a3f5f"
            },
            "error_y": {
             "color": "#2a3f5f"
            },
            "marker": {
             "line": {
              "color": "#E5ECF6",
              "width": 0.5
             },
             "pattern": {
              "fillmode": "overlay",
              "size": 10,
              "solidity": 0.2
             }
            },
            "type": "bar"
           }
          ],
          "barpolar": [
           {
            "marker": {
             "line": {
              "color": "#E5ECF6",
              "width": 0.5
             },
             "pattern": {
              "fillmode": "overlay",
              "size": 10,
              "solidity": 0.2
             }
            },
            "type": "barpolar"
           }
          ],
          "carpet": [
           {
            "aaxis": {
             "endlinecolor": "#2a3f5f",
             "gridcolor": "white",
             "linecolor": "white",
             "minorgridcolor": "white",
             "startlinecolor": "#2a3f5f"
            },
            "baxis": {
             "endlinecolor": "#2a3f5f",
             "gridcolor": "white",
             "linecolor": "white",
             "minorgridcolor": "white",
             "startlinecolor": "#2a3f5f"
            },
            "type": "carpet"
           }
          ],
          "choropleth": [
           {
            "colorbar": {
             "outlinewidth": 0,
             "ticks": ""
            },
            "type": "choropleth"
           }
          ],
          "contour": [
           {
            "colorbar": {
             "outlinewidth": 0,
             "ticks": ""
            },
            "colorscale": [
             [
              0,
              "#0d0887"
             ],
             [
              0.1111111111111111,
              "#46039f"
             ],
             [
              0.2222222222222222,
              "#7201a8"
             ],
             [
              0.3333333333333333,
              "#9c179e"
             ],
             [
              0.4444444444444444,
              "#bd3786"
             ],
             [
              0.5555555555555556,
              "#d8576b"
             ],
             [
              0.6666666666666666,
              "#ed7953"
             ],
             [
              0.7777777777777778,
              "#fb9f3a"
             ],
             [
              0.8888888888888888,
              "#fdca26"
             ],
             [
              1,
              "#f0f921"
             ]
            ],
            "type": "contour"
           }
          ],
          "contourcarpet": [
           {
            "colorbar": {
             "outlinewidth": 0,
             "ticks": ""
            },
            "type": "contourcarpet"
           }
          ],
          "heatmap": [
           {
            "colorbar": {
             "outlinewidth": 0,
             "ticks": ""
            },
            "colorscale": [
             [
              0,
              "#0d0887"
             ],
             [
              0.1111111111111111,
              "#46039f"
             ],
             [
              0.2222222222222222,
              "#7201a8"
             ],
             [
              0.3333333333333333,
              "#9c179e"
             ],
             [
              0.4444444444444444,
              "#bd3786"
             ],
             [
              0.5555555555555556,
              "#d8576b"
             ],
             [
              0.6666666666666666,
              "#ed7953"
             ],
             [
              0.7777777777777778,
              "#fb9f3a"
             ],
             [
              0.8888888888888888,
              "#fdca26"
             ],
             [
              1,
              "#f0f921"
             ]
            ],
            "type": "heatmap"
           }
          ],
          "histogram": [
           {
            "marker": {
             "pattern": {
              "fillmode": "overlay",
              "size": 10,
              "solidity": 0.2
             }
            },
            "type": "histogram"
           }
          ],
          "histogram2d": [
           {
            "colorbar": {
             "outlinewidth": 0,
             "ticks": ""
            },
            "colorscale": [
             [
              0,
              "#0d0887"
             ],
             [
              0.1111111111111111,
              "#46039f"
             ],
             [
              0.2222222222222222,
              "#7201a8"
             ],
             [
              0.3333333333333333,
              "#9c179e"
             ],
             [
              0.4444444444444444,
              "#bd3786"
             ],
             [
              0.5555555555555556,
              "#d8576b"
             ],
             [
              0.6666666666666666,
              "#ed7953"
             ],
             [
              0.7777777777777778,
              "#fb9f3a"
             ],
             [
              0.8888888888888888,
              "#fdca26"
             ],
             [
              1,
              "#f0f921"
             ]
            ],
            "type": "histogram2d"
           }
          ],
          "histogram2dcontour": [
           {
            "colorbar": {
             "outlinewidth": 0,
             "ticks": ""
            },
            "colorscale": [
             [
              0,
              "#0d0887"
             ],
             [
              0.1111111111111111,
              "#46039f"
             ],
             [
              0.2222222222222222,
              "#7201a8"
             ],
             [
              0.3333333333333333,
              "#9c179e"
             ],
             [
              0.4444444444444444,
              "#bd3786"
             ],
             [
              0.5555555555555556,
              "#d8576b"
             ],
             [
              0.6666666666666666,
              "#ed7953"
             ],
             [
              0.7777777777777778,
              "#fb9f3a"
             ],
             [
              0.8888888888888888,
              "#fdca26"
             ],
             [
              1,
              "#f0f921"
             ]
            ],
            "type": "histogram2dcontour"
           }
          ],
          "mesh3d": [
           {
            "colorbar": {
             "outlinewidth": 0,
             "ticks": ""
            },
            "type": "mesh3d"
           }
          ],
          "parcoords": [
           {
            "line": {
             "colorbar": {
              "outlinewidth": 0,
              "ticks": ""
             }
            },
            "type": "parcoords"
           }
          ],
          "pie": [
           {
            "automargin": true,
            "type": "pie"
           }
          ],
          "scatter": [
           {
            "fillpattern": {
             "fillmode": "overlay",
             "size": 10,
             "solidity": 0.2
            },
            "type": "scatter"
           }
          ],
          "scatter3d": [
           {
            "line": {
             "colorbar": {
              "outlinewidth": 0,
              "ticks": ""
             }
            },
            "marker": {
             "colorbar": {
              "outlinewidth": 0,
              "ticks": ""
             }
            },
            "type": "scatter3d"
           }
          ],
          "scattercarpet": [
           {
            "marker": {
             "colorbar": {
              "outlinewidth": 0,
              "ticks": ""
             }
            },
            "type": "scattercarpet"
           }
          ],
          "scattergeo": [
           {
            "marker": {
             "colorbar": {
              "outlinewidth": 0,
              "ticks": ""
             }
            },
            "type": "scattergeo"
           }
          ],
          "scattergl": [
           {
            "marker": {
             "colorbar": {
              "outlinewidth": 0,
              "ticks": ""
             }
            },
            "type": "scattergl"
           }
          ],
          "scattermap": [
           {
            "marker": {
             "colorbar": {
              "outlinewidth": 0,
              "ticks": ""
             }
            },
            "type": "scattermap"
           }
          ],
          "scattermapbox": [
           {
            "marker": {
             "colorbar": {
              "outlinewidth": 0,
              "ticks": ""
             }
            },
            "type": "scattermapbox"
           }
          ],
          "scatterpolar": [
           {
            "marker": {
             "colorbar": {
              "outlinewidth": 0,
              "ticks": ""
             }
            },
            "type": "scatterpolar"
           }
          ],
          "scatterpolargl": [
           {
            "marker": {
             "colorbar": {
              "outlinewidth": 0,
              "ticks": ""
             }
            },
            "type": "scatterpolargl"
           }
          ],
          "scatterternary": [
           {
            "marker": {
             "colorbar": {
              "outlinewidth": 0,
              "ticks": ""
             }
            },
            "type": "scatterternary"
           }
          ],
          "surface": [
           {
            "colorbar": {
             "outlinewidth": 0,
             "ticks": ""
            },
            "colorscale": [
             [
              0,
              "#0d0887"
             ],
             [
              0.1111111111111111,
              "#46039f"
             ],
             [
              0.2222222222222222,
              "#7201a8"
             ],
             [
              0.3333333333333333,
              "#9c179e"
             ],
             [
              0.4444444444444444,
              "#bd3786"
             ],
             [
              0.5555555555555556,
              "#d8576b"
             ],
             [
              0.6666666666666666,
              "#ed7953"
             ],
             [
              0.7777777777777778,
              "#fb9f3a"
             ],
             [
              0.8888888888888888,
              "#fdca26"
             ],
             [
              1,
              "#f0f921"
             ]
            ],
            "type": "surface"
           }
          ],
          "table": [
           {
            "cells": {
             "fill": {
              "color": "#EBF0F8"
             },
             "line": {
              "color": "white"
             }
            },
            "header": {
             "fill": {
              "color": "#C8D4E3"
             },
             "line": {
              "color": "white"
             }
            },
            "type": "table"
           }
          ]
         },
         "layout": {
          "annotationdefaults": {
           "arrowcolor": "#2a3f5f",
           "arrowhead": 0,
           "arrowwidth": 1
          },
          "autotypenumbers": "strict",
          "coloraxis": {
           "colorbar": {
            "outlinewidth": 0,
            "ticks": ""
           }
          },
          "colorscale": {
           "diverging": [
            [
             0,
             "#8e0152"
            ],
            [
             0.1,
             "#c51b7d"
            ],
            [
             0.2,
             "#de77ae"
            ],
            [
             0.3,
             "#f1b6da"
            ],
            [
             0.4,
             "#fde0ef"
            ],
            [
             0.5,
             "#f7f7f7"
            ],
            [
             0.6,
             "#e6f5d0"
            ],
            [
             0.7,
             "#b8e186"
            ],
            [
             0.8,
             "#7fbc41"
            ],
            [
             0.9,
             "#4d9221"
            ],
            [
             1,
             "#276419"
            ]
           ],
           "sequential": [
            [
             0,
             "#0d0887"
            ],
            [
             0.1111111111111111,
             "#46039f"
            ],
            [
             0.2222222222222222,
             "#7201a8"
            ],
            [
             0.3333333333333333,
             "#9c179e"
            ],
            [
             0.4444444444444444,
             "#bd3786"
            ],
            [
             0.5555555555555556,
             "#d8576b"
            ],
            [
             0.6666666666666666,
             "#ed7953"
            ],
            [
             0.7777777777777778,
             "#fb9f3a"
            ],
            [
             0.8888888888888888,
             "#fdca26"
            ],
            [
             1,
             "#f0f921"
            ]
           ],
           "sequentialminus": [
            [
             0,
             "#0d0887"
            ],
            [
             0.1111111111111111,
             "#46039f"
            ],
            [
             0.2222222222222222,
             "#7201a8"
            ],
            [
             0.3333333333333333,
             "#9c179e"
            ],
            [
             0.4444444444444444,
             "#bd3786"
            ],
            [
             0.5555555555555556,
             "#d8576b"
            ],
            [
             0.6666666666666666,
             "#ed7953"
            ],
            [
             0.7777777777777778,
             "#fb9f3a"
            ],
            [
             0.8888888888888888,
             "#fdca26"
            ],
            [
             1,
             "#f0f921"
            ]
           ]
          },
          "colorway": [
           "#636efa",
           "#EF553B",
           "#00cc96",
           "#ab63fa",
           "#FFA15A",
           "#19d3f3",
           "#FF6692",
           "#B6E880",
           "#FF97FF",
           "#FECB52"
          ],
          "font": {
           "color": "#2a3f5f"
          },
          "geo": {
           "bgcolor": "white",
           "lakecolor": "white",
           "landcolor": "#E5ECF6",
           "showlakes": true,
           "showland": true,
           "subunitcolor": "white"
          },
          "hoverlabel": {
           "align": "left"
          },
          "hovermode": "closest",
          "mapbox": {
           "style": "light"
          },
          "paper_bgcolor": "white",
          "plot_bgcolor": "#E5ECF6",
          "polar": {
           "angularaxis": {
            "gridcolor": "white",
            "linecolor": "white",
            "ticks": ""
           },
           "bgcolor": "#E5ECF6",
           "radialaxis": {
            "gridcolor": "white",
            "linecolor": "white",
            "ticks": ""
           }
          },
          "scene": {
           "xaxis": {
            "backgroundcolor": "#E5ECF6",
            "gridcolor": "white",
            "gridwidth": 2,
            "linecolor": "white",
            "showbackground": true,
            "ticks": "",
            "zerolinecolor": "white"
           },
           "yaxis": {
            "backgroundcolor": "#E5ECF6",
            "gridcolor": "white",
            "gridwidth": 2,
            "linecolor": "white",
            "showbackground": true,
            "ticks": "",
            "zerolinecolor": "white"
           },
           "zaxis": {
            "backgroundcolor": "#E5ECF6",
            "gridcolor": "white",
            "gridwidth": 2,
            "linecolor": "white",
            "showbackground": true,
            "ticks": "",
            "zerolinecolor": "white"
           }
          },
          "shapedefaults": {
           "line": {
            "color": "#2a3f5f"
           }
          },
          "ternary": {
           "aaxis": {
            "gridcolor": "white",
            "linecolor": "white",
            "ticks": ""
           },
           "baxis": {
            "gridcolor": "white",
            "linecolor": "white",
            "ticks": ""
           },
           "bgcolor": "#E5ECF6",
           "caxis": {
            "gridcolor": "white",
            "linecolor": "white",
            "ticks": ""
           }
          },
          "title": {
           "x": 0.05
          },
          "xaxis": {
           "automargin": true,
           "gridcolor": "white",
           "linecolor": "white",
           "ticks": "",
           "title": {
            "standoff": 15
           },
           "zerolinecolor": "white",
           "zerolinewidth": 2
          },
          "yaxis": {
           "automargin": true,
           "gridcolor": "white",
           "linecolor": "white",
           "ticks": "",
           "title": {
            "standoff": 15
           },
           "zerolinecolor": "white",
           "zerolinewidth": 2
          }
         }
        }
       }
      }
     },
     "metadata": {},
     "output_type": "display_data"
    }
   ],
   "source": [
    "def field_around_current_carrying_wire(I:float, \n",
    "                                       CONSTANTS:dict, \n",
    "                                       x_extent:list = [-5, 5], \n",
    "                                       y_extent:list = [-5, 5],\n",
    "                                       z_extent:list = [5,-5], \n",
    "                                       resolution:float = 10) -> list[np.ndarray]:\n",
    "    '''\n",
    "    A current carrying wire will have a magnetic field around it. The wire will run parallel to the z\n",
    "    axis, and be placed at the origin of the x,y plane. Current will be travelling in the direction of positive z.\n",
    "\n",
    "    Direction of the current is dependent on the direction of travel. When it comes time to compare these outputs \n",
    "    to that of the GP, we can crank up the resolution of this and see if it can recreate the field.\n",
    "    \n",
    "    Args:\n",
    "        I (float): Current which the wire is carrying.\n",
    "        CONSTANTS (dict): Dictionary of all of the physical constants which could be useful.\n",
    "\n",
    "        x_extent (list[int]): extent in the x direction of the final field. In SI Units, this will be meters.\n",
    "        y_extent (list[int]): extent in the y direction of the final field. In SI Units, this will be meters.\n",
    "        z_extent (list[int]): extent in the z direction of the final field. In SI Units, this will be meters.\n",
    "\n",
    "    Returns:\n",
    "        6 numpy nd arrays \n",
    "    '''\n",
    "    x, y, z = np.meshgrid(\n",
    "        np.linspace(x_extent[0], x_extent[1], resolution),\n",
    "        np.linspace(y_extent[0], y_extent[1], resolution),\n",
    "        np.linspace(z_extent[0], z_extent[1], resolution)\n",
    "    )\n",
    "\n",
    "    r = np.sqrt(x**2 + y**2) + 1e-3  # avoid div by zero\n",
    "    theta = np.arctan2(y, x)\n",
    "\n",
    "    feild_strength = CONSTANTS[\"mu_naught\"] * I / (2 * CONSTANTS[\"pi\"])\n",
    "\n",
    "    u = -feild_strength / r * np.sin(theta)\n",
    "    v = feild_strength / r * np.cos(theta)\n",
    "    w = np.zeros_like(z)\n",
    "\n",
    "    return x, y, z, u, v, w\n",
    "\n",
    "# call\n",
    "x_wire, y_wire, z_wire, fields_x_wire, fields_y_wire, fields_z_wire = field_around_current_carrying_wire(10000,CONSTANTS)\n",
    "plotter.plotter(x_wire, y_wire, z_wire, fields_x_wire, fields_y_wire, fields_z_wire)"
   ]
  },
  {
   "cell_type": "code",
   "execution_count": 6,
   "metadata": {},
   "outputs": [
    {
     "data": {
      "application/vnd.plotly.v1+json": {
       "config": {
        "plotlyServerURL": "https://plot.ly"
       },
       "data": [
        {
         "anchor": "tail",
         "sizemode": "scaled",
         "sizeref": 2,
         "type": "cone",
         "u": {
          "bdata": "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",
          "dtype": "f8"
         },
         "v": {
          "bdata": "x0twufb0874HyTWNa1v2vgJpPaBY6fW+Xs9c/das8L5ls7rjUkrZvmWzuuNSStk+Xs9c/das8D4GaT2gWOn1PgfJNY1rW/Y+x0twufb08z6Jc1uxs0j8vkgYsqQU1QC//MEjr5+QAb9YZcg/8j78vo4l7CdkJOa+jiXsJ2Qk5j5TZcg/8j78PvzBI6+fkAE/SBiypBTVAD+Jc1uxs0j8PqCh7OwMBQO/mjgVkHgJCL+ED6nED8kKvyCG2ype5Aa/olpvAfum8r6iWm8B+6byPh6G2ype5AY/gw+pxA/JCj+aOBWQeAkIP6Ch7OwMBQM/MorvXGWnB7+ZX91FGGwPv3DG9uBKixK/ZWepwu7FEL/Y8C41q2L8vtjwLjWrYvw+ZWepwu7FED9wxvbgSosSP5xf3UUYbA8/MorvXGWnBz8uI9BGe5EKv+3/zxmCKRK/Zq1W61kwFr9RYVl5wssUv+jK7CBHCQK/6MrsIEcJAj9QYVl5wssUP2etVutZMBY/7//PGYIpEj8uI9BGe5EKPzYj0EZ7kQq/5P/PGYIpEr9grVbrWTAWv0thWXnCyxS/6crsIEcJAr/pyuwgRwkCP0thWXnCyxQ/Y61W61kwFj/k/88ZgikSPzYj0EZ7kQo/MorvXGWnB7+rX91FGGwPv37G9uBKixK/Z2epwu7FEL/d8C41q2L8vt3wLjWrYvw+aGepwu7FED9+xvbgSosSP6df3UUYbA8/MorvXGWnBz+ioezsDAUDv5k4FZB4CQi/hg+pxA/JCr8chtsqXuQGv65abwH7pvK+rlpvAfum8j4chtsqXuQGP4cPqcQPyQo/mjgVkHgJCD+ioezsDAUDP6FzW7GzSPy+ShiypBTVAL/+wSOvn5ABv2BlyD/yPvy+miXsJ2Qk5r6aJewnZCTmPl1lyD/yPvw+/cEjr5+QAT9MGLKkFNUAP6FzW7GzSPw+r0twufb0874QyTWNa1v2vhFpPaBY6fW+Uc9c/das8L5js7rjUkrZvmOzuuNSStk+Tc9c/das8D4QaT2gWOn1PhLJNY1rW/Y+r0twufb08z5Rdpw0qP/1vsMl3KoDL/q+iJ83gr9S+76gwNS/Efj1vlTkRa2/OOG+VORFrb844T6awNS/Efj1PoifN4K/Uvs+wyXcqgMv+j5Rdpw0qP/1PleaPTi5dQC/4n00KlxNBb+DRCcdqWMIvzXUbFhGZgW/yKZ4dXO98b7Ipnh1c73xPjbUbFhGZgU/gUQnHaljCD/ifTQqXE0FP1eaPTi5dQA/sJViuohVB78Hflq4uHcQv95jFnTM7BS/hYTsRRl0FL+org85z0gCv6iuDznPSAI/h4TsRRl0FD/dYxZ0zOwUPwl+Wri4dxA/sJViuohVBz8I6eLGdkoOvx/vcya9Che/c3zViCsjIL9xLhAcRKQhv2gmrtrCMxG/aCau2sIzET9vLhAcRKQhP3V81YgrIyA/IO9zJr0KFz8I6eLGdkoOPyBqtKdFbhG/hFWE8ey4G7/74l/xaKMkvzqzS4sWWii/9AoUa6xYGb/0ChRrrFgZPzqzS4sWWig//OJf8WijJD+FVYTx7LgbPyBqtKdFbhE/FWq0p0VuEb+IVYTx7Lgbv/biX/FooyS/N7NLixZaKL/6ChRrrFgZv/oKFGusWBk/N7NLixZaKD/44l/xaKMkP4lVhPHsuBs/FWq0p0VuET/+6OLGdkoOvy3vcya9Che/eHzViCsjIL9xLhAcRKQhv2kmrtrCMxG/aSau2sIzET9wLhAcRKQhP3p81YgrIyA/Lu9zJr0KFz/+6OLGdkoOP7CVYrqIVQe/BH5auLh3EL/lYxZ0zOwUv5aE7EUZdBS/p64POc9IAr+nrg85z0gCP5aE7EUZdBQ/52MWdMzsFD8Fflq4uHcQP7CVYrqIVQc/VZo9OLl1AL/kfTQqXE0Fv5NEJx2pYwi/OtRsWEZmBb/Jpnh1c73xvsmmeHVzvfE+OdRsWEZmBT+PRCcdqWMIP+Z9NCpcTQU/VZo9OLl1AD9Vdpw0qP/1vsMl3KoDL/q+qZ83gr9S+76ewNS/Efj1vlLkRa2/OOG+UuRFrb844T6XwNS/Efj1PqifN4K/Uvs+yCXcqgMv+j5Vdpw0qP/1PmUllVwOIvW+IpQXoDC1+r4Tg2YT9cL9vurNLBOFb/m+dNZCrIi55L501kKsiLnkPurNLBOFb/k+E4NmE/XC/T4ilBegMLX6PmUllVwOIvU+cY+PYM+qAL/N2KWZdYYHv+0gacqR5A2/yZi/GiQ4Db+cQs3j3h76vpxCzePeHvo+ypi/GiQ4DT/wIGnKkeQNP8/YpZl1hgc/cY+PYM+qAD/+cm+mrOYIv2fP8Ic7zRO/zGhkfbp7Hb8FgBGI62Qhv9YHfEzEGhK/1gd8TMQaEj8GgBGI62QhP81oZH26ex0/as/whzvNEz/+cm+mrOYIP1Otf9QH4hC/OlolrUbfHb8majIe5Agqv65dSiVsLzO/GT2gjxoFKb8ZPaCPGgUpP65dSiVsLzM/KWoyHuQIKj88WiWtRt8dP1Otf9QH4hA/RKh+mUPsE7/VDj0bjssiv4Z8EYhDJTK/gabkONWXP799nngGEo05v32eeAYSjTk/hKbkONWXPz+KfBGIQyUyP9oOPRuOyyI/RKh+mUPsEz85qH6ZQ+wTv9YOPRuOyyK/hnwRiEMlMr+EpuQ41Zc/v4KeeAYSjTm/gp54BhKNOT+FpuQ41Zc/P4p8EYhDJTI/2A49G47LIj85qH6ZQ+wTP1Ktf9QH4hC/NVolrUbfHb8najIe5Agqv7FdSiVsLzO/GD2gjxoFKb8YPaCPGgUpP7JdSiVsLzM/LGoyHuQIKj84WiWtRt8dP1Ktf9QH4hA//nJvpqzmCL9xz/CHO80Tv9VoZH26ex2/B4ARiOtkIb/XB3xMxBoSv9cHfEzEGhI/B4ARiOtkIT/WaGR9unsdP3TP8Ic7zRM//nJvpqzmCD+hj49gz6oAv53YpZl1hge/4yBpypHkDb/BmL8aJDgNv6FCzePeHvq+oULN494e+j7BmL8aJDgNP+MgacqR5A0/nNilmXWGBz+hj49gz6oAP04llVwOIvW+NpQXoDC1+r4Kg2YT9cL9vtnNLBOFb/m+hdZCrIi55L6F1kKsiLnkPtnNLBOFb/k+BoNmE/XC/T44lBegMLX6Pk4llVwOIvU+fQ3qe9yJ7769Pz7ZuvL0vl+z8yu5ufi+M9/hWD5d9r6LoHQjcuzivougdCNy7OI+Md/hWD5d9j5fs/Mrubn4PrI/Ptm68vQ+fQ3qe9yJ7z5Q7J3zrvb5vi0W0dcPwAO/0LDbfAGqC7/FmNKdKz4Ov/eKKglOff2+94oqCU59/T7FmNKdKz4OP9iw23wBqgs/LxbR1w/AAz9Q7J3zrvb5PpZpzMtvQgS/TWkWm13sEb/H5aKK3j0fv2lwjPm0BSe/HhaN3x8GHr8eFo3fHwYeP2hwjPm0BSc/zOWiit49Hz9RaRabXewRP5ZpzMtvQgQ/25SRwD1/DL/QKqG4wescv9O6M7+7jS+/Z+QWnIgsQb9V+azVfl1Ev1X5rNV+XUQ/aeQWnIgsQT/dujO/u40vP84qobjB6xw/25SRwD1/DD/3mMAr/SsRv05m1Im77iK/rZ/TIwfaN79WD5MSsUpRv3hWXyyjJGW/eFZfLKMkZT9YD5MSsUpRP7af0yMH2jc/UGbUibvuIj/3mMAr/SsRP/SYwCv9KxG/UGbUibvuIr+0n9MjB9o3v10PkxKxSlG/eFZfLKMkZb94Vl8soyRlP10PkxKxSlE/u5/TIwfaNz9SZtSJu+4iP/SYwCv9KxE/6ZSRwD1/DL/BKqG4wescv9W6M7+7jS+/auQWnIgsQb9Z+azVfl1Ev1n5rNV+XUQ/bOQWnIgsQT/kujO/u40vP8IqobjB6xw/6ZSRwD1/DD+OaczLb0IEv1ppFptd7BG/zeWiit49H79xcIz5tAUnvzEWjd8fBh6/MRaN3x8GHj9ycIz5tAUnP9DloorePR8/XGkWm13sET+OaczLb0IEP1/snfOu9vm+GxbR1w/AA7/PsNt8AaoLv7mY0p0rPg6/7ooqCU59/b7uiioJTn39PruY0p0rPg4/0rDbfAGqCz8ZFtHXD8ADP1/snfOu9vk+SA3qe9yJ776WPz7ZuvL0viWz8yu5ufi+Kt/hWD5d9r6CoHQjcuzivoKgdCNy7OI+J9/hWD5d9j4ms/Mrubn4PpE/Ptm68vQ+SA3qe9yJ7z6ykZzpwp3XvpscR2zlJOC+sETbezO5475RVogWO3zivskJtjk/CNC+yQm2OT8I0D5ZVogWO3ziPqxE23szueM+nRxHbOUk4D6ykZzpwp3XPjTC8lG96+O+PxhOpsWu775GurbKLpb3vvzM6Ays1Pu+iQxgeqD37L6JDGB6oPfsPv3M6Ays1Ps+T7q2yi6W9z5PGE6mxa7vPjTC8lG96+M+QKfKKGzg774XsWH4fBL+vknH6AxsCA2/bbiDLURGGb/JfmA423AUv8l+YDjbcBQ/cbiDLURGGT9Tx+gMbAgNPyGxYfh8Ev4+QKfKKGzg7z6AdquPUeX2vlOIcGJPPgm/oX9v2l7NH7/OaRluQQ43v/cdf5DZMEy/9x1/kNkwTD/UaRluQQ43P7p/b9pezR8/bohwYk8+CT+AdquPUeX2Pm2mxxot7fu+Zkfo98zlEL/aowE46/oovwC1LZUauEe/jOJqhS22ZL+M4mqFLbZkPwW1LZUauEc/4aMBOOv6KD9mR+j3zOUQP22mxxot7fs+HqbHGi3t+75SR+j3zOUQv8+jATjr+ii/ArUtlRq4R7+O4mqFLbZkv47iaoUttmQ/B7UtlRq4Rz/eowE46/ooP1lH6PfM5RA/HqbHGi3t+z6tdquPUeX2vo2IcGJPPgm/w39v2l7NH7/eaRluQQ43vwAef5DZMEy/AB5/kNkwTD/eaRluQQ43P81/b9pezR8/nYhwYk8+CT+tdquPUeX2Pramyihs4O++L7Fh+HwS/r44x+gMbAgNv3+4gy1ERhm/535gONtwFL/nfmA423AUP4G4gy1ERhk/PcfoDGwIDT80sWH4fBL+Pramyihs4O8+ZsLyUb3r475nGE6mxa7vvm26tsoulve+iczoDKzU+76BDGB6oPfsvoEMYHqg9+w+hczoDKzU+z5surbKLpb3PlcYTqbFru8+ZsLyUb3r4z5okZzpwp3Xvk4cR2zlJOC+c0TbezO5475sVogWO3zivrQJtjk/CNC+tAm2OT8I0D5zVogWO3ziPnZE23szueM+WxxHbOUk4D5okZzpwp3XPoSRnOnCndc+mBxHbOUk4D6eRNt7M7njPnxWiBY7fOI+0gm2OT8I0D7SCbY5PwjQvndWiBY7fOK+okTbezO5476lHEds5STgvoSRnOnCnde+6sHyUb3r4z4QGE6mxa7vPju6tsoulvc+28zoDKzU+z6/DGB6oPfsPr8MYHqg9+y+58zoDKzU+75FurbKLpb3vjQYTqbFru++6sHyUb3r477xpsoobODvPvWwYfh8Ev4++MboDGwIDT+LuIMtREYZP8t+YDjbcBQ/y35gONtwFL+LuIMtREYZv/rG6AxsCA2//bBh+HwS/r7xpsoobODvvkJ2q49R5fY+JohwYk8+CT+Ef2/aXs0fP81pGW5BDjc/9B1/kNkwTD/0HX+Q2TBMv89pGW5BDje/oH9v2l7NH78+iHBiTz4Jv0J2q49R5fa+aqbHGi3t+z5IR+j3zOUQP9ejATjr+ig/97QtlRq4Rz+d4mqFLbZkP53iaoUttmS//bQtlRq4R7/aowE46/oov05H6PfM5RC/aqbHGi3t+743pscaLe37Pl1H6PfM5RA/w6MBOOv6KD/1tC2VGrhHP5riaoUttmQ/muJqhS22ZL/8tC2VGrhHv9GjATjr+ii/YEfo98zlEL83pscaLe37vut2q49R5fY+UYhwYk8+CT/df2/aXs0fP+BpGW5BDjc//R1/kNkwTD/9HX+Q2TBMv+VpGW5BDje/639v2l7NH79viHBiTz4Jv+t2q49R5fa+/KbKKGzg7z4HsWH4fBL+PnHH6AxsCA0/Y7iDLURGGT/bfmA423AUP9t+YDjbcBS/ZbiDLURGGb91x+gMbAgNvwuxYfh8Ev6+/KbKKGzg7748wvJRvevjPmQYTqbFru8+d7q2yi6W9z6JzOgMrNT7PkQMYHqg9+w+RAxgeqD37L6DzOgMrNT7vmq6tsoulve+WBhOpsWu7748wvJRvevjvnWRnOnCndc+WBxHbOUk4D68RNt7M7njPpFWiBY7fOI+rgm2OT8I0D6uCbY5PwjQvo1WiBY7fOK+tUTbezO5475fHEds5STgvnWRnOnCnde+Pg3qe9yJ7z6jPz7ZuvL0Pm6z8yu5ufg+Ld/hWD5d9j6LoHQjcuziPougdCNy7OK+LN/hWD5d9r5ns/Mrubn4vqM/Ptm68vS+Pg3qe9yJ775W7J3zrvb5PikW0dcPwAM/zbDbfAGqCz/KmNKdKz4OP96KKglOff0+3ooqCU59/b7GmNKdKz4Ov9Ww23wBqgu/KRbR1w/AA79W7J3zrvb5vnxpzMtvQgQ/TWkWm13sET+x5aKK3j0fP2RwjPm0BSc/KBaN3x8GHj8oFo3fHwYev2BwjPm0BSe/veWiit49H79IaRabXewRv3xpzMtvQgS/q5SRwD1/DD/PKqG4wescP8G6M7+7jS8/bOQWnIgsQT9S+azVfl1EP1L5rNV+XUS/buQWnIgsQb/NujO/u40vv88qobjB6xy/q5SRwD1/DL/9mMAr/SsRP1Zm1Im77iI/q5/TIwfaNz9aD5MSsUpRP4NWXyyjJGU/g1ZfLKMkZb9cD5MSsUpRv7Of0yMH2je/VGbUibvuIr/9mMAr/SsRv9+YwCv9KxE/OmbUibvuIj+nn9MjB9o3P1sPkxKxSlE/gFZfLKMkZT+AVl8soyRlv10PkxKxSlG/q5/TIwfaN787ZtSJu+4iv9+YwCv9KxG/9JSRwD1/DD+/KqG4wescP9C6M7+7jS8/cOQWnIgsQT9Q+azVfl1EP1D5rNV+XUS/ceQWnIgsQb/eujO/u40vv8IqobjB6xy/9JSRwD1/DL+naczLb0IEP1ppFptd7BE/1eWiit49Hz93cIz5tAUnPzAWjd8fBh4/MBaN3x8GHr95cIz5tAUnv93loorePR+/XGkWm13sEb+naczLb0IEv07snfOu9vk+LRbR1w/AAz+wsNt8AaoLP6aY0p0rPg4/I4sqCU59/T4jiyoJTn39vqSY0p0rPg6/tLDbfAGqC78wFtHXD8ADv07snfOu9vm+jg3qe9yJ7z6uPz7ZuvL0PjKz8yu5ufg+Od/hWD5d9j6BoHQjcuziPoGgdCNy7OK+NN/hWD5d9r4ss/Mrubn4vqw/Ptm68vS+jg3qe9yJ775QJZVcDiL1PjeUF6Awtfo+/oJmE/XC/T7pzSwThW/5PnzWQqyIueQ+fNZCrIi55L7pzSwThW/5vvqCZhP1wv2+P5QXoDC1+r5QJZVcDiL1vnSPj2DPqgA/p9ilmXWGBz/8IGnKkeQNP8SYvxokOA0/qULN494e+j6pQs3j3h76vsSYvxokOA2//iBpypHkDb+o2KWZdYYHv3SPj2DPqgC/+HJvpqzmCD9Vz/CHO80TP+poZH26ex0/AYARiOtkIT/VB3xMxBoSP9UHfEzEGhK/AYARiOtkIb/uaGR9unsdv1fP8Ic7zRO/+HJvpqzmCL9nrX/UB+IQPzVaJa1G3x0/LGoyHuQIKj+4XUolbC8zPxc9oI8aBSk/Fz2gjxoFKb+7XUolbC8zvzNqMh7kCCq/OVolrUbfHb9nrX/UB+IQvzyofplD7BM/1w49G47LIj+HfBGIQyUyP4ym5DjVlz8/i554BhKNOT+LnngGEo05v4ym5DjVlz+/jHwRiEMlMr/dDj0bjssivzyofplD7BO/QKh+mUPsEz/WDj0bjssiP4d8EYhDJTI/g6bkONWXPz+EnngGEo05P4SeeAYSjTm/g6bkONWXP7+KfBGIQyUyv9oOPRuOyyK/QKh+mUPsE79drX/UB+IQPzVaJa1G3x0/TWoyHuQIKj/FXUolbC8zPyo9oI8aBSk/Kj2gjxoFKb/FXUolbC8zv1NqMh7kCCq/OVolrUbfHb9drX/UB+IQvwtzb6as5gg/YM/whzvNEz/0aGR9unsdPwmAEYjrZCE/3wd8TMQaEj/fB3xMxBoSvwmAEYjrZCG/92hkfbp7Hb9kz/CHO80Tvwtzb6as5gi/go+PYM+qAD+j2KWZdYYHP+UgacqR5A0/p5i/GiQ4DT+eQs3j3h76Pp5CzePeHvq+pZi/GiQ4Db/lIGnKkeQNv6PYpZl1hge/go+PYM+qAL9RJZVcDiL1Pk+UF6Awtfo++oJmE/XC/T7yzSwThW/5PnbWQqyIueQ+dtZCrIi55L72zSwThW/5vvKCZhP1wv2+UZQXoDC1+r5RJZVcDiL1vmB2nDSo//U+yyXcqgMv+j6VnzeCv1L7PoPA1L8R+PU+VeRFrb844T5V5EWtvzjhvoXA1L8R+PW+kZ83gr9S+77GJdyqAy/6vmB2nDSo//W+Rpo9OLl1AD/ZfTQqXE0FP55EJx2pYwg/ItRsWEZmBT/Gpnh1c73xPsameHVzvfG+IdRsWEZmBb+jRCcdqWMIv9p9NCpcTQW/Rpo9OLl1AL+tlWK6iFUHPyR+Wri4dxA/2WMWdMzsFD+OhOxFGXQUP6uuDznPSAI/q64POc9IAr+PhOxFGXQUv91jFnTM7BS/Jn5auLh3EL+tlWK6iFUHvwDp4sZ2Sg4/KO9zJr0KFz9wfNWIKyMgP2suEBxEpCE/aCau2sIzET9oJq7awjMRv2suEBxEpCG/cXzViCsjIL8o73MmvQoXvwDp4sZ2Sg6/E2q0p0VuET+QVYTx7LgbP/viX/FooyQ/QLNLixZaKD/wChRrrFgZP/AKFGusWBm/QLNLixZaKL//4l/xaKMkv5BVhPHsuBu/E2q0p0VuEb8WarSnRW4RP5VVhPHsuBs/AONf8WijJD86s0uLFlooP/kKFGusWBk/+QoUa6xYGb86s0uLFloovwTjX/FooyS/kVWE8ey4G78WarSnRW4RvwDp4sZ2Sg4/He9zJr0KFz9vfNWIKyMgP2ouEBxEpCE/aCau2sIzET9oJq7awjMRv2wuEBxEpCG/cXzViCsjIL8g73MmvQoXvwDp4sZ2Sg6/p5ViuohVBz8bflq4uHcQP+xjFnTM7BQ/joTsRRl0FD+3rg85z0gCP7euDznPSAK/i4TsRRl0FL/vYxZ0zOwUvxt+Wri4dxC/p5ViuohVB79Mmj04uXUAP9t9NCpcTQU/hkQnHaljCD841GxYRmYFP9ameHVzvfE+1qZ4dXO98b451GxYRmYFv4ZEJx2pYwi/3300KlxNBb9Mmj04uXUAv1t2nDSo//U+viXcqgMv+j59nzeCv1L7PorA1L8R+PU+R+RFrb844T5H5EWtvzjhvorA1L8R+PW+d583gr9S+764JdyqAy/6vlt2nDSo//W+zEtwufb08z4hyTWNa1v2Ph9pPaBY6fU+UM9c/das8D6Ds7rjUkrZPoOzuuNSStm+Tc9c/das8L4gaT2gWOn1vh3JNY1rW/a+zEtwufb0876Hc1uxs0j8PlcYsqQU1QA/BsIjr5+QAT9VZcg/8j78Ppsl7CdkJOY+myXsJ2Qk5r5TZcg/8j78vgTCI6+fkAG/VhiypBTVAL+Hc1uxs0j8vrOh7OwMBQM/pjgVkHgJCD+UD6nED8kKPwOG2ype5AY/pVpvAfum8j6lWm8B+6byvgGG2ype5Aa/lQ+pxA/JCr+nOBWQeAkIv7Oh7OwMBQO/LYrvXGWnBz+tX91FGGwPP2/G9uBKixI/ZGepwu7FED/i8C41q2L8PuLwLjWrYvy+YWepwu7FEL9vxvbgSosSv6tf3UUYbA+/LYrvXGWnB78mI9BGe5EKP93/zxmCKRI/aq1W61kwFj9SYVl5wssUP+DK7CBHCQI/4MrsIEcJAr9RYVl5wssUv2mtVutZMBa/4f/PGYIpEr8mI9BGe5EKvyYj0EZ7kQo/4P/PGYIpEj9hrVbrWTAWP1dhWXnCyxQ/58rsIEcJAj/nyuwgRwkCv1ZhWXnCyxS/Y61W61kwFr/g/88ZgikSvyYj0EZ7kQq/JIrvXGWnBz++X91FGGwPP4jG9uBKixI/YWepwu7FED/f8C41q2L8Pt/wLjWrYvy+YGepwu7FEL+KxvbgSosSv8Zf3UUYbA+/JIrvXGWnB7+0oezsDAUDP6E4FZB4CQg/cw+pxA/JCj8ShtsqXuQGP6FabwH7pvI+oVpvAfum8r4ThtsqXuQGv3MPqcQPyQq/ozgVkHgJCL+0oezsDAUDv4dzW7GzSPw+URiypBTVAD8JwiOvn5ABP09lyD/yPvw+hSXsJ2Qk5j6FJewnZCTmvlNlyD/yPvy+B8Ijr5+QAb9PGLKkFNUAv4dzW7GzSPy+uUtwufb08z4TyTWNa1v2PhppPaBY6fU+YM9c/das8D5qs7rjUkrZPmqzuuNSStm+X89c/das8L4baT2gWOn1vhPJNY1rW/a+uUtwufb0874=",
          "dtype": "f8"
         },
         "w": {
          "bdata": "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",
          "dtype": "f8"
         },
         "x": {
          "bdata": "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",
          "dtype": "f8"
         },
         "y": {
          "bdata": "AAAAAAAAAMAAAAAAAAAAwAAAAAAAAADAAAAAAAAAAMAAAAAAAAAAwAAAAAAAAADAAAAAAAAAAMAAAAAAAAAAwAAAAAAAAADAAAAAAAAAAMAAAAAAAAAAwAAAAAAAAADAAAAAAAAAAMAAAAAAAAAAwAAAAAAAAADAAAAAAAAAAMAAAAAAAAAAwAAAAAAAAADAAAAAAAAAAMAAAAAAAAAAwAAAAAAAAADAAAAAAAAAAMAAAAAAAAAAwAAAAAAAAADAAAAAAAAAAMAAAAAAAAAAwAAAAAAAAADAAAAAAAAAAMAAAAAAAAAAwAAAAAAAAADAAAAAAAAAAMAAAAAAAAAAwAAAAAAAAADAAAAAAAAAAMAAAAAAAAAAwAAAAAAAAADAAAAAAAAAAMAAAAAAAAAAwAAAAAAAAADAAAAAAAAAAMAAAAAAAAAAwAAAAAAAAADAAAAAAAAAAMAAAAAAAAAAwAAAAAAAAADAAAAAAAAAAMAAAAAAAAAAwAAAAAAAAADAAAAAAAAAAMAAAAAAAAAAwAAAAAAAAADAAAAAAAAAAMAAAAAAAAAAwAAAAAAAAADAAAAAAAAAAMAAAAAAAAAAwAAAAAAAAADAAAAAAAAAAMAAAAAAAAAAwAAAAAAAAADAAAAAAAAAAMAAAAAAAAAAwAAAAAAAAADAAAAAAAAAAMAAAAAAAAAAwAAAAAAAAADAAAAAAAAAAMAAAAAAAAAAwAAAAAAAAADAAAAAAAAAAMAAAAAAAAAAwAAAAAAAAADAAAAAAAAAAMAAAAAAAAAAwAAAAAAAAADAAAAAAAAAAMAAAAAAAAAAwAAAAAAAAADAAAAAAAAAAMAAAAAAAAAAwAAAAAAAAADAAAAAAAAAAMAAAAAAAAAAwAAAAAAAAADAAAAAAAAAAMAAAAAAAAAAwAAAAAAAAADAAAAAAAAAAMAAAAAAAAAAwAAAAAAAAADAAAAAAAAAAMAAAAAAAAAAwAAAAAAAAADAAAAAAAAAAMAAAAAAAAAAwAAAAAAAAADAAAAAAAAAAMAAAAAAAAAAwAAAAAAAAADAAAAAAAAAAMA5juM4juP4vzmO4ziO4/i/OY7jOI7j+L85juM4juP4vzmO4ziO4/i/OY7jOI7j+L85juM4juP4vzmO4ziO4/i/OY7jOI7j+L85juM4juP4vzmO4ziO4/i/OY7jOI7j+L85juM4juP4vzmO4ziO4/i/OY7jOI7j+L85juM4juP4vzmO4ziO4/i/OY7jOI7j+L85juM4juP4vzmO4ziO4/i/OY7jOI7j+L85juM4juP4vzmO4ziO4/i/OY7jOI7j+L85juM4juP4vzmO4ziO4/i/OY7jOI7j+L85juM4juP4vzmO4ziO4/i/OY7jOI7j+L85juM4juP4vzmO4ziO4/i/OY7jOI7j+L85juM4juP4vzmO4ziO4/i/OY7jOI7j+L85juM4juP4vzmO4ziO4/i/OY7jOI7j+L85juM4juP4vzmO4ziO4/i/OY7jOI7j+L85juM4juP4vzmO4ziO4/i/OY7jOI7j+L85juM4juP4vzmO4ziO4/i/OY7jOI7j+L85juM4juP4vzmO4ziO4/i/OY7jOI7j+L85juM4juP4vzmO4ziO4/i/OY7jOI7j+L85juM4juP4vzmO4ziO4/i/OY7jOI7j+L85juM4juP4vzmO4ziO4/i/OY7jOI7j+L85juM4juP4vzmO4ziO4/i/OY7jOI7j+L85juM4juP4vzmO4ziO4/i/OY7jOI7j+L85juM4juP4vzmO4ziO4/i/OY7jOI7j+L85juM4juP4vzmO4ziO4/i/OY7jOI7j+L85juM4juP4vzmO4ziO4/i/OY7jOI7j+L85juM4juP4vzmO4ziO4/i/OY7jOI7j+L85juM4juP4vzmO4ziO4/i/OY7jOI7j+L85juM4juP4vzmO4ziO4/i/OY7jOI7j+L85juM4juP4vzmO4ziO4/i/OY7jOI7j+L85juM4juP4vzmO4ziO4/i/OY7jOI7j+L85juM4juP4vzmO4ziO4/i/OY7jOI7j+L85juM4juP4vzmO4ziO4/i/OY7jOI7j+L85juM4juP4vzmO4ziO4/i/OY7jOI7j+L85juM4juP4v3Icx3Ecx/G/chzHcRzH8b9yHMdxHMfxv3Icx3Ecx/G/chzHcRzH8b9yHMdxHMfxv3Icx3Ecx/G/chzHcRzH8b9yHMdxHMfxv3Icx3Ecx/G/chzHcRzH8b9yHMdxHMfxv3Icx3Ecx/G/chzHcRzH8b9yHMdxHMfxv3Icx3Ecx/G/chzHcRzH8b9yHMdxHMfxv3Icx3Ecx/G/chzHcRzH8b9yHMdxHMfxv3Icx3Ecx/G/chzHcRzH8b9yHMdxHMfxv3Icx3Ecx/G/chzHcRzH8b9yHMdxHMfxv3Icx3Ecx/G/chzHcRzH8b9yHMdxHMfxv3Icx3Ecx/G/chzHcRzH8b9yHMdxHMfxv3Icx3Ecx/G/chzHcRzH8b9yHMdxHMfxv3Icx3Ecx/G/chzHcRzH8b9yHMdxHMfxv3Icx3Ecx/G/chzHcRzH8b9yHMdxHMfxv3Icx3Ecx/G/chzHcRzH8b9yHMdxHMfxv3Icx3Ecx/G/chzHcRzH8b9yHMdxHMfxv3Icx3Ecx/G/chzHcRzH8b9yHMdxHMfxv3Icx3Ecx/G/chzHcRzH8b9yHMdxHMfxv3Icx3Ecx/G/chzHcRzH8b9yHMdxHMfxv3Icx3Ecx/G/chzHcRzH8b9yHMdxHMfxv3Icx3Ecx/G/chzHcRzH8b9yHMdxHMfxv3Icx3Ecx/G/chzHcRzH8b9yHMdxHMfxv3Icx3Ecx/G/chzHcRzH8b9yHMdxHMfxv3Icx3Ecx/G/chzHcRzH8b9yHMdxHMfxv3Icx3Ecx/G/chzHcRzH8b9yHMdxHMfxv3Icx3Ecx/G/chzHcRzH8b9yHMdxHMfxv3Icx3Ecx/G/chzHcRzH8b9yHMdxHMfxv3Icx3Ecx/G/chzHcRzH8b9yHMdxHMfxv3Icx3Ecx/G/chzHcRzH8b9yHMdxHMfxv3Icx3Ecx/G/chzHcRzH8b9yHMdxHMfxv3Icx3Ecx/G/chzHcRzH8b9yHMdxHMfxv3Icx3Ecx/G/chzHcRzH8b9yHMdxHMfxv3Icx3Ecx/G/chzHcRzH8b9yHMdxHMfxv3Icx3Ecx/G/VlVVVVVV5b9WVVVVVVXlv1ZVVVVVVeW/VlVVVVVV5b9WVVVVVVXlv1ZVVVVVVeW/VlVVVVVV5b9WVVVVVVXlv1ZVVVVVVeW/VlVVVVVV5b9WVVVVVVXlv1ZVVVVVVeW/VlVVVVVV5b9WVVVVVVXlv1ZVVVVVVeW/VlVVVVVV5b9WVVVVVVXlv1ZVVVVVVeW/VlVVVVVV5b9WVVVVVVXlv1ZVVVVVVeW/VlVVVVVV5b9WVVVVVVXlv1ZVVVVVVeW/VlVVVVVV5b9WVVVVVVXlv1ZVVVVVVeW/VlVVVVVV5b9WVVVVVVXlv1ZVVVVVVeW/VlVVVVVV5b9WVVVVVVXlv1ZVVVVVVeW/VlVVVVVV5b9WVVVVVVXlv1ZVVVVVVeW/VlVVVVVV5b9WVVVVVVXlv1ZVVVVVVeW/VlVVVVVV5b9WVVVVVVXlv1ZVVVVVVeW/VlVVVVVV5b9WVVVVVVXlv1ZVVVVVVeW/VlVVVVVV5b9WVVVVVVXlv1ZVVVVVVeW/VlVVVVVV5b9WVVVVVVXlv1ZVVVVVVeW/VlVVVVVV5b9WVVVVVVXlv1ZVVVVVVeW/VlVVVVVV5b9WVVVVVVXlv1ZVVVVVVeW/VlVVVVVV5b9WVVVVVVXlv1ZVVVVVVeW/VlVVVVVV5b9WVVVVVVXlv1ZVVVVVVeW/VlVVVVVV5b9WVVVVVVXlv1ZVVVVVVeW/VlVVVVVV5b9WVVVVVVXlv1ZVVVVVVeW/VlVVVVVV5b9WVVVVVVXlv1ZVVVVVVeW/VlVVVVVV5b9WVVVVVVXlv1ZVVVVVVeW/VlVVVVVV5b9WVVVVVVXlv1ZVVVVVVeW/VlVVVVVV5b9WVVVVVVXlv1ZVVVVVVeW/VlVVVVVV5b9WVVVVVVXlv1ZVVVVVVeW/VlVVVVVV5b9WVVVVVVXlv1ZVVVVVVeW/VlVVVVVV5b9WVVVVVVXlv1ZVVVVVVeW/VlVVVVVV5b9WVVVVVVXlv1ZVVVVVVeW/VlVVVVVV5b9WVVVVVVXlv1ZVVVVVVeW/VlVVVVVV5b9WVVVVVVXlv1ZVVVVVVeW/VlVVVVVV5b8gx3Ecx3HMvyDHcRzHccy/IMdxHMdxzL8gx3Ecx3HMvyDHcRzHccy/IMdxHMdxzL8gx3Ecx3HMvyDHcRzHccy/IMdxHMdxzL8gx3Ecx3HMvyDHcRzHccy/IMdxHMdxzL8gx3Ecx3HMvyDHcRzHccy/IMdxHMdxzL8gx3Ecx3HMvyDHcRzHccy/IMdxHMdxzL8gx3Ecx3HMvyDHcRzHccy/IMdxHMdxzL8gx3Ecx3HMvyDHcRzHccy/IMdxHMdxzL8gx3Ecx3HMvyDHcRzHccy/IMdxHMdxzL8gx3Ecx3HMvyDHcRzHccy/IMdxHMdxzL8gx3Ecx3HMvyDHcRzHccy/IMdxHMdxzL8gx3Ecx3HMvyDHcRzHccy/IMdxHMdxzL8gx3Ecx3HMvyDHcRzHccy/IMdxHMdxzL8gx3Ecx3HMvyDHcRzHccy/IMdxHMdxzL8gx3Ecx3HMvyDHcRzHccy/IMdxHMdxzL8gx3Ecx3HMvyDHcRzHccy/IMdxHMdxzL8gx3Ecx3HMvyDHcRzHccy/IMdxHMdxzL8gx3Ecx3HMvyDHcRzHccy/IMdxHMdxzL8gx3Ecx3HMvyDHcRzHccy/IMdxHMdxzL8gx3Ecx3HMvyDHcRzHccy/IMdxHMdxzL8gx3Ecx3HMvyDHcRzHccy/IMdxHMdxzL8gx3Ecx3HMvyDHcRzHccy/IMdxHMdxzL8gx3Ecx3HMvyDHcRzHccy/IMdxHMdxzL8gx3Ecx3HMvyDHcRzHccy/IMdxHMdxzL8gx3Ecx3HMvyDHcRzHccy/IMdxHMdxzL8gx3Ecx3HMvyDHcRzHccy/IMdxHMdxzL8gx3Ecx3HMvyDHcRzHccy/IMdxHMdxzL8gx3Ecx3HMvyDHcRzHccy/IMdxHMdxzL8gx3Ecx3HMvyDHcRzHccy/IMdxHMdxzL8gx3Ecx3HMvyDHcRzHccy/IMdxHMdxzL8gx3Ecx3HMvyDHcRzHccy/IMdxHMdxzL8gx3Ecx3HMvyDHcRzHccy/IMdxHMdxzL8gx3Ecx3HMvyDHcRzHccy/IMdxHMdxzL8gx3Ecx3HMvyDHcRzHccw/IMdxHMdxzD8gx3Ecx3HMPyDHcRzHccw/IMdxHMdxzD8gx3Ecx3HMPyDHcRzHccw/IMdxHMdxzD8gx3Ecx3HMPyDHcRzHccw/IMdxHMdxzD8gx3Ecx3HMPyDHcRzHccw/IMdxHMdxzD8gx3Ecx3HMPyDHcRzHccw/IMdxHMdxzD8gx3Ecx3HMPyDHcRzHccw/IMdxHMdxzD8gx3Ecx3HMPyDHcRzHccw/IMdxHMdxzD8gx3Ecx3HMPyDHcRzHccw/IMdxHMdxzD8gx3Ecx3HMPyDHcRzHccw/IMdxHMdxzD8gx3Ecx3HMPyDHcRzHccw/IMdxHMdxzD8gx3Ecx3HMPyDHcRzHccw/IMdxHMdxzD8gx3Ecx3HMPyDHcRzHccw/IMdxHMdxzD8gx3Ecx3HMPyDHcRzHccw/IMdxHMdxzD8gx3Ecx3HMPyDHcRzHccw/IMdxHMdxzD8gx3Ecx3HMPyDHcRzHccw/IMdxHMdxzD8gx3Ecx3HMPyDHcRzHccw/IMdxHMdxzD8gx3Ecx3HMPyDHcRzHccw/IMdxHMdxzD8gx3Ecx3HMPyDHcRzHccw/IMdxHMdxzD8gx3Ecx3HMPyDHcRzHccw/IMdxHMdxzD8gx3Ecx3HMPyDHcRzHccw/IMdxHMdxzD8gx3Ecx3HMPyDHcRzHccw/IMdxHMdxzD8gx3Ecx3HMPyDHcRzHccw/IMdxHMdxzD8gx3Ecx3HMPyDHcRzHccw/IMdxHMdxzD8gx3Ecx3HMPyDHcRzHccw/IMdxHMdxzD8gx3Ecx3HMPyDHcRzHccw/IMdxHMdxzD8gx3Ecx3HMPyDHcRzHccw/IMdxHMdxzD8gx3Ecx3HMPyDHcRzHccw/IMdxHMdxzD8gx3Ecx3HMPyDHcRzHccw/IMdxHMdxzD8gx3Ecx3HMPyDHcRzHccw/IMdxHMdxzD8gx3Ecx3HMPyDHcRzHccw/IMdxHMdxzD8gx3Ecx3HMPyDHcRzHccw/IMdxHMdxzD8gx3Ecx3HMPyDHcRzHccw/IMdxHMdxzD8gx3Ecx3HMPyDHcRzHccw/VFVVVVVV5T9UVVVVVVXlP1RVVVVVVeU/VFVVVVVV5T9UVVVVVVXlP1RVVVVVVeU/VFVVVVVV5T9UVVVVVVXlP1RVVVVVVeU/VFVVVVVV5T9UVVVVVVXlP1RVVVVVVeU/VFVVVVVV5T9UVVVVVVXlP1RVVVVVVeU/VFVVVVVV5T9UVVVVVVXlP1RVVVVVVeU/VFVVVVVV5T9UVVVVVVXlP1RVVVVVVeU/VFVVVVVV5T9UVVVVVVXlP1RVVVVVVeU/VFVVVVVV5T9UVVVVVVXlP1RVVVVVVeU/VFVVVVVV5T9UVVVVVVXlP1RVVVVVVeU/VFVVVVVV5T9UVVVVVVXlP1RVVVVVVeU/VFVVVVVV5T9UVVVVVVXlP1RVVVVVVeU/VFVVVVVV5T9UVVVVVVXlP1RVVVVVVeU/VFVVVVVV5T9UVVVVVVXlP1RVVVVVVeU/VFVVVVVV5T9UVVVVVVXlP1RVVVVVVeU/VFVVVVVV5T9UVVVVVVXlP1RVVVVVVeU/VFVVVVVV5T9UVVVVVVXlP1RVVVVVVeU/VFVVVVVV5T9UVVVVVVXlP1RVVVVVVeU/VFVVVVVV5T9UVVVVVVXlP1RVVVVVVeU/VFVVVVVV5T9UVVVVVVXlP1RVVVVVVeU/VFVVVVVV5T9UVVVVVVXlP1RVVVVVVeU/VFVVVVVV5T9UVVVVVVXlP1RVVVVVVeU/VFVVVVVV5T9UVVVVVVXlP1RVVVVVVeU/VFVVVVVV5T9UVVVVVVXlP1RVVVVVVeU/VFVVVVVV5T9UVVVVVVXlP1RVVVVVVeU/VFVVVVVV5T9UVVVVVVXlP1RVVVVVVeU/VFVVVVVV5T9UVVVVVVXlP1RVVVVVVeU/VFVVVVVV5T9UVVVVVVXlP1RVVVVVVeU/VFVVVVVV5T9UVVVVVVXlP1RVVVVVVeU/VFVVVVVV5T9UVVVVVVXlP1RVVVVVVeU/VFVVVVVV5T9UVVVVVVXlP1RVVVVVVeU/VFVVVVVV5T9UVVVVVVXlP1RVVVVVVeU/VFVVVVVV5T9UVVVVVVXlP1RVVVVVVeU/VFVVVVVV5T9wHMdxHMfxP3Acx3Ecx/E/cBzHcRzH8T9wHMdxHMfxP3Acx3Ecx/E/cBzHcRzH8T9wHMdxHMfxP3Acx3Ecx/E/cBzHcRzH8T9wHMdxHMfxP3Acx3Ecx/E/cBzHcRzH8T9wHMdxHMfxP3Acx3Ecx/E/cBzHcRzH8T9wHMdxHMfxP3Acx3Ecx/E/cBzHcRzH8T9wHMdxHMfxP3Acx3Ecx/E/cBzHcRzH8T9wHMdxHMfxP3Acx3Ecx/E/cBzHcRzH8T9wHMdxHMfxP3Acx3Ecx/E/cBzHcRzH8T9wHMdxHMfxP3Acx3Ecx/E/cBzHcRzH8T9wHMdxHMfxP3Acx3Ecx/E/cBzHcRzH8T9wHMdxHMfxP3Acx3Ecx/E/cBzHcRzH8T9wHMdxHMfxP3Acx3Ecx/E/cBzHcRzH8T9wHMdxHMfxP3Acx3Ecx/E/cBzHcRzH8T9wHMdxHMfxP3Acx3Ecx/E/cBzHcRzH8T9wHMdxHMfxP3Acx3Ecx/E/cBzHcRzH8T9wHMdxHMfxP3Acx3Ecx/E/cBzHcRzH8T9wHMdxHMfxP3Acx3Ecx/E/cBzHcRzH8T9wHMdxHMfxP3Acx3Ecx/E/cBzHcRzH8T9wHMdxHMfxP3Acx3Ecx/E/cBzHcRzH8T9wHMdxHMfxP3Acx3Ecx/E/cBzHcRzH8T9wHMdxHMfxP3Acx3Ecx/E/cBzHcRzH8T9wHMdxHMfxP3Acx3Ecx/E/cBzHcRzH8T9wHMdxHMfxP3Acx3Ecx/E/cBzHcRzH8T9wHMdxHMfxP3Acx3Ecx/E/cBzHcRzH8T9wHMdxHMfxP3Acx3Ecx/E/cBzHcRzH8T9wHMdxHMfxP3Acx3Ecx/E/cBzHcRzH8T9wHMdxHMfxP3Acx3Ecx/E/cBzHcRzH8T9wHMdxHMfxP3Acx3Ecx/E/cBzHcRzH8T9wHMdxHMfxP3Acx3Ecx/E/cBzHcRzH8T9wHMdxHMfxP3Acx3Ecx/E/cBzHcRzH8T9wHMdxHMfxP3Acx3Ecx/E/cBzHcRzH8T9wHMdxHMfxP3Acx3Ecx/E/cBzHcRzH8T9wHMdxHMfxPziO4ziO4/g/OI7jOI7j+D84juM4juP4PziO4ziO4/g/OI7jOI7j+D84juM4juP4PziO4ziO4/g/OI7jOI7j+D84juM4juP4PziO4ziO4/g/OI7jOI7j+D84juM4juP4PziO4ziO4/g/OI7jOI7j+D84juM4juP4PziO4ziO4/g/OI7jOI7j+D84juM4juP4PziO4ziO4/g/OI7jOI7j+D84juM4juP4PziO4ziO4/g/OI7jOI7j+D84juM4juP4PziO4ziO4/g/OI7jOI7j+D84juM4juP4PziO4ziO4/g/OI7jOI7j+D84juM4juP4PziO4ziO4/g/OI7jOI7j+D84juM4juP4PziO4ziO4/g/OI7jOI7j+D84juM4juP4PziO4ziO4/g/OI7jOI7j+D84juM4juP4PziO4ziO4/g/OI7jOI7j+D84juM4juP4PziO4ziO4/g/OI7jOI7j+D84juM4juP4PziO4ziO4/g/OI7jOI7j+D84juM4juP4PziO4ziO4/g/OI7jOI7j+D84juM4juP4PziO4ziO4/g/OI7jOI7j+D84juM4juP4PziO4ziO4/g/OI7jOI7j+D84juM4juP4PziO4ziO4/g/OI7jOI7j+D84juM4juP4PziO4ziO4/g/OI7jOI7j+D84juM4juP4PziO4ziO4/g/OI7jOI7j+D84juM4juP4PziO4ziO4/g/OI7jOI7j+D84juM4juP4PziO4ziO4/g/OI7jOI7j+D84juM4juP4PziO4ziO4/g/OI7jOI7j+D84juM4juP4PziO4ziO4/g/OI7jOI7j+D84juM4juP4PziO4ziO4/g/OI7jOI7j+D84juM4juP4PziO4ziO4/g/OI7jOI7j+D84juM4juP4PziO4ziO4/g/OI7jOI7j+D84juM4juP4PziO4ziO4/g/OI7jOI7j+D84juM4juP4PziO4ziO4/g/OI7jOI7j+D84juM4juP4PziO4ziO4/g/OI7jOI7j+D84juM4juP4PziO4ziO4/g/OI7jOI7j+D84juM4juP4PziO4ziO4/g/AAAAAAAAAEAAAAAAAAAAQAAAAAAAAABAAAAAAAAAAEAAAAAAAAAAQAAAAAAAAABAAAAAAAAAAEAAAAAAAAAAQAAAAAAAAABAAAAAAAAAAEAAAAAAAAAAQAAAAAAAAABAAAAAAAAAAEAAAAAAAAAAQAAAAAAAAABAAAAAAAAAAEAAAAAAAAAAQAAAAAAAAABAAAAAAAAAAEAAAAAAAAAAQAAAAAAAAABAAAAAAAAAAEAAAAAAAAAAQAAAAAAAAABAAAAAAAAAAEAAAAAAAAAAQAAAAAAAAABAAAAAAAAAAEAAAAAAAAAAQAAAAAAAAABAAAAAAAAAAEAAAAAAAAAAQAAAAAAAAABAAAAAAAAAAEAAAAAAAAAAQAAAAAAAAABAAAAAAAAAAEAAAAAAAAAAQAAAAAAAAABAAAAAAAAAAEAAAAAAAAAAQAAAAAAAAABAAAAAAAAAAEAAAAAAAAAAQAAAAAAAAABAAAAAAAAAAEAAAAAAAAAAQAAAAAAAAABAAAAAAAAAAEAAAAAAAAAAQAAAAAAAAABAAAAAAAAAAEAAAAAAAAAAQAAAAAAAAABAAAAAAAAAAEAAAAAAAAAAQAAAAAAAAABAAAAAAAAAAEAAAAAAAAAAQAAAAAAAAABAAAAAAAAAAEAAAAAAAAAAQAAAAAAAAABAAAAAAAAAAEAAAAAAAAAAQAAAAAAAAABAAAAAAAAAAEAAAAAAAAAAQAAAAAAAAABAAAAAAAAAAEAAAAAAAAAAQAAAAAAAAABAAAAAAAAAAEAAAAAAAAAAQAAAAAAAAABAAAAAAAAAAEAAAAAAAAAAQAAAAAAAAABAAAAAAAAAAEAAAAAAAAAAQAAAAAAAAABAAAAAAAAAAEAAAAAAAAAAQAAAAAAAAABAAAAAAAAAAEAAAAAAAAAAQAAAAAAAAABAAAAAAAAAAEAAAAAAAAAAQAAAAAAAAABAAAAAAAAAAEAAAAAAAAAAQAAAAAAAAABAAAAAAAAAAEAAAAAAAAAAQAAAAAAAAABAAAAAAAAAAEAAAAAAAAAAQAAAAAAAAABAAAAAAAAAAEA=",
          "dtype": "f8"
         },
         "z": {
          "bdata": "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",
          "dtype": "f8"
         }
        }
       ],
       "layout": {
        "scene": {
         "xaxis": {
          "title": {
           "text": "X"
          }
         },
         "yaxis": {
          "title": {
           "text": "Y"
          }
         },
         "zaxis": {
          "title": {
           "text": "Z"
          }
         }
        },
        "template": {
         "data": {
          "bar": [
           {
            "error_x": {
             "color": "#2a3f5f"
            },
            "error_y": {
             "color": "#2a3f5f"
            },
            "marker": {
             "line": {
              "color": "#E5ECF6",
              "width": 0.5
             },
             "pattern": {
              "fillmode": "overlay",
              "size": 10,
              "solidity": 0.2
             }
            },
            "type": "bar"
           }
          ],
          "barpolar": [
           {
            "marker": {
             "line": {
              "color": "#E5ECF6",
              "width": 0.5
             },
             "pattern": {
              "fillmode": "overlay",
              "size": 10,
              "solidity": 0.2
             }
            },
            "type": "barpolar"
           }
          ],
          "carpet": [
           {
            "aaxis": {
             "endlinecolor": "#2a3f5f",
             "gridcolor": "white",
             "linecolor": "white",
             "minorgridcolor": "white",
             "startlinecolor": "#2a3f5f"
            },
            "baxis": {
             "endlinecolor": "#2a3f5f",
             "gridcolor": "white",
             "linecolor": "white",
             "minorgridcolor": "white",
             "startlinecolor": "#2a3f5f"
            },
            "type": "carpet"
           }
          ],
          "choropleth": [
           {
            "colorbar": {
             "outlinewidth": 0,
             "ticks": ""
            },
            "type": "choropleth"
           }
          ],
          "contour": [
           {
            "colorbar": {
             "outlinewidth": 0,
             "ticks": ""
            },
            "colorscale": [
             [
              0,
              "#0d0887"
             ],
             [
              0.1111111111111111,
              "#46039f"
             ],
             [
              0.2222222222222222,
              "#7201a8"
             ],
             [
              0.3333333333333333,
              "#9c179e"
             ],
             [
              0.4444444444444444,
              "#bd3786"
             ],
             [
              0.5555555555555556,
              "#d8576b"
             ],
             [
              0.6666666666666666,
              "#ed7953"
             ],
             [
              0.7777777777777778,
              "#fb9f3a"
             ],
             [
              0.8888888888888888,
              "#fdca26"
             ],
             [
              1,
              "#f0f921"
             ]
            ],
            "type": "contour"
           }
          ],
          "contourcarpet": [
           {
            "colorbar": {
             "outlinewidth": 0,
             "ticks": ""
            },
            "type": "contourcarpet"
           }
          ],
          "heatmap": [
           {
            "colorbar": {
             "outlinewidth": 0,
             "ticks": ""
            },
            "colorscale": [
             [
              0,
              "#0d0887"
             ],
             [
              0.1111111111111111,
              "#46039f"
             ],
             [
              0.2222222222222222,
              "#7201a8"
             ],
             [
              0.3333333333333333,
              "#9c179e"
             ],
             [
              0.4444444444444444,
              "#bd3786"
             ],
             [
              0.5555555555555556,
              "#d8576b"
             ],
             [
              0.6666666666666666,
              "#ed7953"
             ],
             [
              0.7777777777777778,
              "#fb9f3a"
             ],
             [
              0.8888888888888888,
              "#fdca26"
             ],
             [
              1,
              "#f0f921"
             ]
            ],
            "type": "heatmap"
           }
          ],
          "histogram": [
           {
            "marker": {
             "pattern": {
              "fillmode": "overlay",
              "size": 10,
              "solidity": 0.2
             }
            },
            "type": "histogram"
           }
          ],
          "histogram2d": [
           {
            "colorbar": {
             "outlinewidth": 0,
             "ticks": ""
            },
            "colorscale": [
             [
              0,
              "#0d0887"
             ],
             [
              0.1111111111111111,
              "#46039f"
             ],
             [
              0.2222222222222222,
              "#7201a8"
             ],
             [
              0.3333333333333333,
              "#9c179e"
             ],
             [
              0.4444444444444444,
              "#bd3786"
             ],
             [
              0.5555555555555556,
              "#d8576b"
             ],
             [
              0.6666666666666666,
              "#ed7953"
             ],
             [
              0.7777777777777778,
              "#fb9f3a"
             ],
             [
              0.8888888888888888,
              "#fdca26"
             ],
             [
              1,
              "#f0f921"
             ]
            ],
            "type": "histogram2d"
           }
          ],
          "histogram2dcontour": [
           {
            "colorbar": {
             "outlinewidth": 0,
             "ticks": ""
            },
            "colorscale": [
             [
              0,
              "#0d0887"
             ],
             [
              0.1111111111111111,
              "#46039f"
             ],
             [
              0.2222222222222222,
              "#7201a8"
             ],
             [
              0.3333333333333333,
              "#9c179e"
             ],
             [
              0.4444444444444444,
              "#bd3786"
             ],
             [
              0.5555555555555556,
              "#d8576b"
             ],
             [
              0.6666666666666666,
              "#ed7953"
             ],
             [
              0.7777777777777778,
              "#fb9f3a"
             ],
             [
              0.8888888888888888,
              "#fdca26"
             ],
             [
              1,
              "#f0f921"
             ]
            ],
            "type": "histogram2dcontour"
           }
          ],
          "mesh3d": [
           {
            "colorbar": {
             "outlinewidth": 0,
             "ticks": ""
            },
            "type": "mesh3d"
           }
          ],
          "parcoords": [
           {
            "line": {
             "colorbar": {
              "outlinewidth": 0,
              "ticks": ""
             }
            },
            "type": "parcoords"
           }
          ],
          "pie": [
           {
            "automargin": true,
            "type": "pie"
           }
          ],
          "scatter": [
           {
            "fillpattern": {
             "fillmode": "overlay",
             "size": 10,
             "solidity": 0.2
            },
            "type": "scatter"
           }
          ],
          "scatter3d": [
           {
            "line": {
             "colorbar": {
              "outlinewidth": 0,
              "ticks": ""
             }
            },
            "marker": {
             "colorbar": {
              "outlinewidth": 0,
              "ticks": ""
             }
            },
            "type": "scatter3d"
           }
          ],
          "scattercarpet": [
           {
            "marker": {
             "colorbar": {
              "outlinewidth": 0,
              "ticks": ""
             }
            },
            "type": "scattercarpet"
           }
          ],
          "scattergeo": [
           {
            "marker": {
             "colorbar": {
              "outlinewidth": 0,
              "ticks": ""
             }
            },
            "type": "scattergeo"
           }
          ],
          "scattergl": [
           {
            "marker": {
             "colorbar": {
              "outlinewidth": 0,
              "ticks": ""
             }
            },
            "type": "scattergl"
           }
          ],
          "scattermap": [
           {
            "marker": {
             "colorbar": {
              "outlinewidth": 0,
              "ticks": ""
             }
            },
            "type": "scattermap"
           }
          ],
          "scattermapbox": [
           {
            "marker": {
             "colorbar": {
              "outlinewidth": 0,
              "ticks": ""
             }
            },
            "type": "scattermapbox"
           }
          ],
          "scatterpolar": [
           {
            "marker": {
             "colorbar": {
              "outlinewidth": 0,
              "ticks": ""
             }
            },
            "type": "scatterpolar"
           }
          ],
          "scatterpolargl": [
           {
            "marker": {
             "colorbar": {
              "outlinewidth": 0,
              "ticks": ""
             }
            },
            "type": "scatterpolargl"
           }
          ],
          "scatterternary": [
           {
            "marker": {
             "colorbar": {
              "outlinewidth": 0,
              "ticks": ""
             }
            },
            "type": "scatterternary"
           }
          ],
          "surface": [
           {
            "colorbar": {
             "outlinewidth": 0,
             "ticks": ""
            },
            "colorscale": [
             [
              0,
              "#0d0887"
             ],
             [
              0.1111111111111111,
              "#46039f"
             ],
             [
              0.2222222222222222,
              "#7201a8"
             ],
             [
              0.3333333333333333,
              "#9c179e"
             ],
             [
              0.4444444444444444,
              "#bd3786"
             ],
             [
              0.5555555555555556,
              "#d8576b"
             ],
             [
              0.6666666666666666,
              "#ed7953"
             ],
             [
              0.7777777777777778,
              "#fb9f3a"
             ],
             [
              0.8888888888888888,
              "#fdca26"
             ],
             [
              1,
              "#f0f921"
             ]
            ],
            "type": "surface"
           }
          ],
          "table": [
           {
            "cells": {
             "fill": {
              "color": "#EBF0F8"
             },
             "line": {
              "color": "white"
             }
            },
            "header": {
             "fill": {
              "color": "#C8D4E3"
             },
             "line": {
              "color": "white"
             }
            },
            "type": "table"
           }
          ]
         },
         "layout": {
          "annotationdefaults": {
           "arrowcolor": "#2a3f5f",
           "arrowhead": 0,
           "arrowwidth": 1
          },
          "autotypenumbers": "strict",
          "coloraxis": {
           "colorbar": {
            "outlinewidth": 0,
            "ticks": ""
           }
          },
          "colorscale": {
           "diverging": [
            [
             0,
             "#8e0152"
            ],
            [
             0.1,
             "#c51b7d"
            ],
            [
             0.2,
             "#de77ae"
            ],
            [
             0.3,
             "#f1b6da"
            ],
            [
             0.4,
             "#fde0ef"
            ],
            [
             0.5,
             "#f7f7f7"
            ],
            [
             0.6,
             "#e6f5d0"
            ],
            [
             0.7,
             "#b8e186"
            ],
            [
             0.8,
             "#7fbc41"
            ],
            [
             0.9,
             "#4d9221"
            ],
            [
             1,
             "#276419"
            ]
           ],
           "sequential": [
            [
             0,
             "#0d0887"
            ],
            [
             0.1111111111111111,
             "#46039f"
            ],
            [
             0.2222222222222222,
             "#7201a8"
            ],
            [
             0.3333333333333333,
             "#9c179e"
            ],
            [
             0.4444444444444444,
             "#bd3786"
            ],
            [
             0.5555555555555556,
             "#d8576b"
            ],
            [
             0.6666666666666666,
             "#ed7953"
            ],
            [
             0.7777777777777778,
             "#fb9f3a"
            ],
            [
             0.8888888888888888,
             "#fdca26"
            ],
            [
             1,
             "#f0f921"
            ]
           ],
           "sequentialminus": [
            [
             0,
             "#0d0887"
            ],
            [
             0.1111111111111111,
             "#46039f"
            ],
            [
             0.2222222222222222,
             "#7201a8"
            ],
            [
             0.3333333333333333,
             "#9c179e"
            ],
            [
             0.4444444444444444,
             "#bd3786"
            ],
            [
             0.5555555555555556,
             "#d8576b"
            ],
            [
             0.6666666666666666,
             "#ed7953"
            ],
            [
             0.7777777777777778,
             "#fb9f3a"
            ],
            [
             0.8888888888888888,
             "#fdca26"
            ],
            [
             1,
             "#f0f921"
            ]
           ]
          },
          "colorway": [
           "#636efa",
           "#EF553B",
           "#00cc96",
           "#ab63fa",
           "#FFA15A",
           "#19d3f3",
           "#FF6692",
           "#B6E880",
           "#FF97FF",
           "#FECB52"
          ],
          "font": {
           "color": "#2a3f5f"
          },
          "geo": {
           "bgcolor": "white",
           "lakecolor": "white",
           "landcolor": "#E5ECF6",
           "showlakes": true,
           "showland": true,
           "subunitcolor": "white"
          },
          "hoverlabel": {
           "align": "left"
          },
          "hovermode": "closest",
          "mapbox": {
           "style": "light"
          },
          "paper_bgcolor": "white",
          "plot_bgcolor": "#E5ECF6",
          "polar": {
           "angularaxis": {
            "gridcolor": "white",
            "linecolor": "white",
            "ticks": ""
           },
           "bgcolor": "#E5ECF6",
           "radialaxis": {
            "gridcolor": "white",
            "linecolor": "white",
            "ticks": ""
           }
          },
          "scene": {
           "xaxis": {
            "backgroundcolor": "#E5ECF6",
            "gridcolor": "white",
            "gridwidth": 2,
            "linecolor": "white",
            "showbackground": true,
            "ticks": "",
            "zerolinecolor": "white"
           },
           "yaxis": {
            "backgroundcolor": "#E5ECF6",
            "gridcolor": "white",
            "gridwidth": 2,
            "linecolor": "white",
            "showbackground": true,
            "ticks": "",
            "zerolinecolor": "white"
           },
           "zaxis": {
            "backgroundcolor": "#E5ECF6",
            "gridcolor": "white",
            "gridwidth": 2,
            "linecolor": "white",
            "showbackground": true,
            "ticks": "",
            "zerolinecolor": "white"
           }
          },
          "shapedefaults": {
           "line": {
            "color": "#2a3f5f"
           }
          },
          "ternary": {
           "aaxis": {
            "gridcolor": "white",
            "linecolor": "white",
            "ticks": ""
           },
           "baxis": {
            "gridcolor": "white",
            "linecolor": "white",
            "ticks": ""
           },
           "bgcolor": "#E5ECF6",
           "caxis": {
            "gridcolor": "white",
            "linecolor": "white",
            "ticks": ""
           }
          },
          "title": {
           "x": 0.05
          },
          "xaxis": {
           "automargin": true,
           "gridcolor": "white",
           "linecolor": "white",
           "ticks": "",
           "title": {
            "standoff": 15
           },
           "zerolinecolor": "white",
           "zerolinewidth": 2
          },
          "yaxis": {
           "automargin": true,
           "gridcolor": "white",
           "linecolor": "white",
           "ticks": "",
           "title": {
            "standoff": 15
           },
           "zerolinecolor": "white",
           "zerolinewidth": 2
          }
         }
        }
       }
      }
     },
     "metadata": {},
     "output_type": "display_data"
    }
   ],
   "source": [
    "def field_around_toroidal_current_carrying_wire(I:float, \n",
    "                                                ring_radius:float = 0.5,\n",
    "                                                CONSTANTS:dict = CONSTANTS, \n",
    "                                                x_extent:list = [-2, 2], \n",
    "                                                y_extent:list = [-2, 2],\n",
    "                                                z_extent:list = [2,-2], \n",
    "                                                resolution:float = 10, \n",
    "                                                integral_discretisation:float = 1000) -> list[np.ndarray]:\n",
    "    '''\n",
    "    In the case of a circulating current, a magnetic field is formed inside of it. This is a nice parity to the previous case. \n",
    "    We will place our coil in the centre of the x,y plane, with current circulating anticlockwise as you look at it down the z \n",
    "    axis. By the right hand rule, this will lead to a magnetic field which is aligned directly up the z axis. \n",
    "    \n",
    "    Args:\n",
    "        I (float): Current which the wire is carrying.\n",
    "        ring_radius (float): Radius of our current carrying ring\n",
    "        CONSTANTS (dict): Dictionary of all of the physical constants which could be useful.\n",
    "        x_extent (list[int]): extent in the x direction of the final field. In SI Units, this will be meters.\n",
    "        y_extent (list[int]): extent in the y direction of the final field. In SI Units, this will be meters.\n",
    "        z_extent (list[int]): extent in the z direction of the final field. In SI Units, this will be meters.\n",
    "        resolution (int): side length of rectangular grid\n",
    "        integral_discretisation (int): how many segments we break up our integral into.\n",
    "\n",
    "    Returns:\n",
    "        6 numpy nd arrays \n",
    "    '''\n",
    "    mu0, Pi = CONSTANTS['mu_naught'], CONSTANTS['pi']\n",
    "\n",
    "\n",
    "    x, y, z = np.meshgrid(\n",
    "        np.linspace(x_extent[0], x_extent[1], resolution),\n",
    "        np.linspace(y_extent[0], y_extent[1], resolution),\n",
    "        np.linspace(z_extent[0], z_extent[1], resolution)\n",
    "    )\n",
    "    Bx, By, Bz = np.zeros_like(x), np.zeros_like(y), np.zeros_like(z)\n",
    "\n",
    "\n",
    "    # Biot savart prefactor\n",
    "    prefactor = mu0 * I / (4*Pi)\n",
    "    \n",
    "    # Discretise the loop into large number of pieces for summation approximation \n",
    "    dphi = 2*np.pi / integral_discretisation\n",
    "    phis = np.linspace(0, 2*Pi, integral_discretisation, endpoint=False)\n",
    "    \n",
    "    for phi in phis:\n",
    "        # Coordinates of the source point on the loop\n",
    "        xprime = ring_radius*np.cos(phi)\n",
    "        yprime = ring_radius*np.sin(phi)\n",
    "        zprime = 0.0\n",
    "        \n",
    "        dlx = -ring_radius * np.sin(phi) * dphi\n",
    "        dly =  ring_radius * np.cos(phi) * dphi\n",
    "        dlz =  0.0\n",
    "        \n",
    "        # r - r'\n",
    "        rx = x - xprime\n",
    "        ry = y - yprime\n",
    "        rz = z - zprime\n",
    "        \n",
    "        # distance^3 (have to add small amount for numerical stability )\n",
    "        r3 = (rx**2 + ry**2 + rz**2)**1.5 + 0.01  \n",
    "        \n",
    "        # cross product dl' x (r-r'):\n",
    "        cross_x = dly*rz - dlz*ry  # = R cos(phi)*z * dphi\n",
    "        cross_y = dlz*rx - dlx*rz  # = R sin(phi)*z * dphi\n",
    "        cross_z = dlx*ry - dly*rx  \n",
    "       \n",
    "        # Accumulate in B\n",
    "        Bx += prefactor * cross_x / r3\n",
    "        By += prefactor * cross_y / r3\n",
    "        Bz += prefactor * cross_z / r3\n",
    "\n",
    "    return x, y, z, Bx, By, Bz\n",
    "# call\n",
    "x_coil, y_coil, z_coil, fields_x_coil, fields_y_coil, fields_z_coil = field_around_toroidal_current_carrying_wire(10000)\n",
    "plotter.plotter(x_coil, y_coil, z_coil, fields_x_coil, fields_y_coil, fields_z_coil) "
   ]
  },
  {
   "cell_type": "code",
   "execution_count": 7,
   "metadata": {},
   "outputs": [],
   "source": [
    "def field_around_infinite_solenoid(I:float, \n",
    "                                   CONSTANTS:dict, \n",
    "                                   x_extent:list = [-5, 5], \n",
    "                                   y_extent:list = [-5, 5],\n",
    "                                   z_extent:list = [5,-5], \n",
    "                                   resolution:float = 10) -> list[np.ndarray]:\n",
    "    '''\n",
    "    To extend the previous case, we can also model an infinite current carrying solenoid, parallel to the z axis. \n",
    "    This is also a case for which the analytical solution is known exactly and hence offers a nice playground to \n",
    "    test the GP methods. \n",
    "\n",
    "    Will be interesting for investigating the tail behaviour of the GPs fitted field. \n",
    "\n",
    "    Args:\n",
    "        I (float): Current which the wire is carrying.\n",
    "        CONSTANTS (dict): Dictionary of all of the physical constants which could be useful.\n",
    "\n",
    "        x_extent (list[int]): extent in the x direction of the final field. In SI Units, this will be meters.\n",
    "        y_extent (list[int]): extent in the y direction of the final field. In SI Units, this will be meters.\n",
    "        z_extent (list[int]): extent in the z direction of the final field. In SI Units, this will be meters.\n",
    "\n",
    "    Returns:\n",
    "        6 numpy nd arrays \n",
    "    '''\n",
    "    pass"
   ]
  },
  {
   "cell_type": "markdown",
   "metadata": {},
   "source": [
    "## Example fields from Kernels"
   ]
  },
  {
   "cell_type": "code",
   "execution_count": 8,
   "metadata": {},
   "outputs": [],
   "source": [
    "import numpy as np \n",
    "import sys\n",
    "sys.path.append('..')  # go up one directory\n",
    "from GP_Implementation.Kernel import sample_vector_field"
   ]
  },
  {
   "cell_type": "code",
   "execution_count": 9,
   "metadata": {},
   "outputs": [
    {
     "name": "stderr",
     "output_type": "stream",
     "text": [
      "c:\\Users\\ellinghh\\Documents\\RT2\\vector_field_plottings\\..\\GP_Implementation\\Kernel.py:69: RuntimeWarning:\n",
      "\n",
      "covariance is not symmetric positive-semidefinite.\n",
      "\n"
     ]
    }
   ],
   "source": [
    "# Define grid\n",
    "grid_x, grid_y, grid_z = np.meshgrid(\n",
    "    np.linspace(-1, 1, 10),\n",
    "    np.linspace(-1, 1, 10),\n",
    "    np.linspace(-1, 1, 10)\n",
    ")\n",
    "\n",
    "grid_x, grid_y, grid_z, U, V, W = sample_vector_field(grid_x=grid_x, grid_y=grid_y, grid_z=grid_z,\n",
    "                                                      kernel_func = 'divergence_free_kernel')"
   ]
  },
  {
   "cell_type": "code",
   "execution_count": 10,
   "metadata": {},
   "outputs": [
    {
     "data": {
      "application/vnd.plotly.v1+json": {
       "config": {
        "plotlyServerURL": "https://plot.ly"
       },
       "data": [
        {
         "anchor": "tail",
         "sizemode": "scaled",
         "sizeref": 2,
         "type": "cone",
         "u": {
          "bdata": "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",
          "dtype": "f8"
         },
         "v": {
          "bdata": "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",
          "dtype": "f8"
         },
         "w": {
          "bdata": "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",
          "dtype": "f8"
         },
         "x": {
          "bdata": "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",
          "dtype": "f8"
         },
         "y": {
          "bdata": "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",
          "dtype": "f8"
         },
         "z": {
          "bdata": "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",
          "dtype": "f8"
         }
        }
       ],
       "layout": {
        "scene": {
         "xaxis": {
          "title": {
           "text": "X"
          }
         },
         "yaxis": {
          "title": {
           "text": "Y"
          }
         },
         "zaxis": {
          "title": {
           "text": "Z"
          }
         }
        },
        "template": {
         "data": {
          "bar": [
           {
            "error_x": {
             "color": "#2a3f5f"
            },
            "error_y": {
             "color": "#2a3f5f"
            },
            "marker": {
             "line": {
              "color": "#E5ECF6",
              "width": 0.5
             },
             "pattern": {
              "fillmode": "overlay",
              "size": 10,
              "solidity": 0.2
             }
            },
            "type": "bar"
           }
          ],
          "barpolar": [
           {
            "marker": {
             "line": {
              "color": "#E5ECF6",
              "width": 0.5
             },
             "pattern": {
              "fillmode": "overlay",
              "size": 10,
              "solidity": 0.2
             }
            },
            "type": "barpolar"
           }
          ],
          "carpet": [
           {
            "aaxis": {
             "endlinecolor": "#2a3f5f",
             "gridcolor": "white",
             "linecolor": "white",
             "minorgridcolor": "white",
             "startlinecolor": "#2a3f5f"
            },
            "baxis": {
             "endlinecolor": "#2a3f5f",
             "gridcolor": "white",
             "linecolor": "white",
             "minorgridcolor": "white",
             "startlinecolor": "#2a3f5f"
            },
            "type": "carpet"
           }
          ],
          "choropleth": [
           {
            "colorbar": {
             "outlinewidth": 0,
             "ticks": ""
            },
            "type": "choropleth"
           }
          ],
          "contour": [
           {
            "colorbar": {
             "outlinewidth": 0,
             "ticks": ""
            },
            "colorscale": [
             [
              0,
              "#0d0887"
             ],
             [
              0.1111111111111111,
              "#46039f"
             ],
             [
              0.2222222222222222,
              "#7201a8"
             ],
             [
              0.3333333333333333,
              "#9c179e"
             ],
             [
              0.4444444444444444,
              "#bd3786"
             ],
             [
              0.5555555555555556,
              "#d8576b"
             ],
             [
              0.6666666666666666,
              "#ed7953"
             ],
             [
              0.7777777777777778,
              "#fb9f3a"
             ],
             [
              0.8888888888888888,
              "#fdca26"
             ],
             [
              1,
              "#f0f921"
             ]
            ],
            "type": "contour"
           }
          ],
          "contourcarpet": [
           {
            "colorbar": {
             "outlinewidth": 0,
             "ticks": ""
            },
            "type": "contourcarpet"
           }
          ],
          "heatmap": [
           {
            "colorbar": {
             "outlinewidth": 0,
             "ticks": ""
            },
            "colorscale": [
             [
              0,
              "#0d0887"
             ],
             [
              0.1111111111111111,
              "#46039f"
             ],
             [
              0.2222222222222222,
              "#7201a8"
             ],
             [
              0.3333333333333333,
              "#9c179e"
             ],
             [
              0.4444444444444444,
              "#bd3786"
             ],
             [
              0.5555555555555556,
              "#d8576b"
             ],
             [
              0.6666666666666666,
              "#ed7953"
             ],
             [
              0.7777777777777778,
              "#fb9f3a"
             ],
             [
              0.8888888888888888,
              "#fdca26"
             ],
             [
              1,
              "#f0f921"
             ]
            ],
            "type": "heatmap"
           }
          ],
          "histogram": [
           {
            "marker": {
             "pattern": {
              "fillmode": "overlay",
              "size": 10,
              "solidity": 0.2
             }
            },
            "type": "histogram"
           }
          ],
          "histogram2d": [
           {
            "colorbar": {
             "outlinewidth": 0,
             "ticks": ""
            },
            "colorscale": [
             [
              0,
              "#0d0887"
             ],
             [
              0.1111111111111111,
              "#46039f"
             ],
             [
              0.2222222222222222,
              "#7201a8"
             ],
             [
              0.3333333333333333,
              "#9c179e"
             ],
             [
              0.4444444444444444,
              "#bd3786"
             ],
             [
              0.5555555555555556,
              "#d8576b"
             ],
             [
              0.6666666666666666,
              "#ed7953"
             ],
             [
              0.7777777777777778,
              "#fb9f3a"
             ],
             [
              0.8888888888888888,
              "#fdca26"
             ],
             [
              1,
              "#f0f921"
             ]
            ],
            "type": "histogram2d"
           }
          ],
          "histogram2dcontour": [
           {
            "colorbar": {
             "outlinewidth": 0,
             "ticks": ""
            },
            "colorscale": [
             [
              0,
              "#0d0887"
             ],
             [
              0.1111111111111111,
              "#46039f"
             ],
             [
              0.2222222222222222,
              "#7201a8"
             ],
             [
              0.3333333333333333,
              "#9c179e"
             ],
             [
              0.4444444444444444,
              "#bd3786"
             ],
             [
              0.5555555555555556,
              "#d8576b"
             ],
             [
              0.6666666666666666,
              "#ed7953"
             ],
             [
              0.7777777777777778,
              "#fb9f3a"
             ],
             [
              0.8888888888888888,
              "#fdca26"
             ],
             [
              1,
              "#f0f921"
             ]
            ],
            "type": "histogram2dcontour"
           }
          ],
          "mesh3d": [
           {
            "colorbar": {
             "outlinewidth": 0,
             "ticks": ""
            },
            "type": "mesh3d"
           }
          ],
          "parcoords": [
           {
            "line": {
             "colorbar": {
              "outlinewidth": 0,
              "ticks": ""
             }
            },
            "type": "parcoords"
           }
          ],
          "pie": [
           {
            "automargin": true,
            "type": "pie"
           }
          ],
          "scatter": [
           {
            "fillpattern": {
             "fillmode": "overlay",
             "size": 10,
             "solidity": 0.2
            },
            "type": "scatter"
           }
          ],
          "scatter3d": [
           {
            "line": {
             "colorbar": {
              "outlinewidth": 0,
              "ticks": ""
             }
            },
            "marker": {
             "colorbar": {
              "outlinewidth": 0,
              "ticks": ""
             }
            },
            "type": "scatter3d"
           }
          ],
          "scattercarpet": [
           {
            "marker": {
             "colorbar": {
              "outlinewidth": 0,
              "ticks": ""
             }
            },
            "type": "scattercarpet"
           }
          ],
          "scattergeo": [
           {
            "marker": {
             "colorbar": {
              "outlinewidth": 0,
              "ticks": ""
             }
            },
            "type": "scattergeo"
           }
          ],
          "scattergl": [
           {
            "marker": {
             "colorbar": {
              "outlinewidth": 0,
              "ticks": ""
             }
            },
            "type": "scattergl"
           }
          ],
          "scattermap": [
           {
            "marker": {
             "colorbar": {
              "outlinewidth": 0,
              "ticks": ""
             }
            },
            "type": "scattermap"
           }
          ],
          "scattermapbox": [
           {
            "marker": {
             "colorbar": {
              "outlinewidth": 0,
              "ticks": ""
             }
            },
            "type": "scattermapbox"
           }
          ],
          "scatterpolar": [
           {
            "marker": {
             "colorbar": {
              "outlinewidth": 0,
              "ticks": ""
             }
            },
            "type": "scatterpolar"
           }
          ],
          "scatterpolargl": [
           {
            "marker": {
             "colorbar": {
              "outlinewidth": 0,
              "ticks": ""
             }
            },
            "type": "scatterpolargl"
           }
          ],
          "scatterternary": [
           {
            "marker": {
             "colorbar": {
              "outlinewidth": 0,
              "ticks": ""
             }
            },
            "type": "scatterternary"
           }
          ],
          "surface": [
           {
            "colorbar": {
             "outlinewidth": 0,
             "ticks": ""
            },
            "colorscale": [
             [
              0,
              "#0d0887"
             ],
             [
              0.1111111111111111,
              "#46039f"
             ],
             [
              0.2222222222222222,
              "#7201a8"
             ],
             [
              0.3333333333333333,
              "#9c179e"
             ],
             [
              0.4444444444444444,
              "#bd3786"
             ],
             [
              0.5555555555555556,
              "#d8576b"
             ],
             [
              0.6666666666666666,
              "#ed7953"
             ],
             [
              0.7777777777777778,
              "#fb9f3a"
             ],
             [
              0.8888888888888888,
              "#fdca26"
             ],
             [
              1,
              "#f0f921"
             ]
            ],
            "type": "surface"
           }
          ],
          "table": [
           {
            "cells": {
             "fill": {
              "color": "#EBF0F8"
             },
             "line": {
              "color": "white"
             }
            },
            "header": {
             "fill": {
              "color": "#C8D4E3"
             },
             "line": {
              "color": "white"
             }
            },
            "type": "table"
           }
          ]
         },
         "layout": {
          "annotationdefaults": {
           "arrowcolor": "#2a3f5f",
           "arrowhead": 0,
           "arrowwidth": 1
          },
          "autotypenumbers": "strict",
          "coloraxis": {
           "colorbar": {
            "outlinewidth": 0,
            "ticks": ""
           }
          },
          "colorscale": {
           "diverging": [
            [
             0,
             "#8e0152"
            ],
            [
             0.1,
             "#c51b7d"
            ],
            [
             0.2,
             "#de77ae"
            ],
            [
             0.3,
             "#f1b6da"
            ],
            [
             0.4,
             "#fde0ef"
            ],
            [
             0.5,
             "#f7f7f7"
            ],
            [
             0.6,
             "#e6f5d0"
            ],
            [
             0.7,
             "#b8e186"
            ],
            [
             0.8,
             "#7fbc41"
            ],
            [
             0.9,
             "#4d9221"
            ],
            [
             1,
             "#276419"
            ]
           ],
           "sequential": [
            [
             0,
             "#0d0887"
            ],
            [
             0.1111111111111111,
             "#46039f"
            ],
            [
             0.2222222222222222,
             "#7201a8"
            ],
            [
             0.3333333333333333,
             "#9c179e"
            ],
            [
             0.4444444444444444,
             "#bd3786"
            ],
            [
             0.5555555555555556,
             "#d8576b"
            ],
            [
             0.6666666666666666,
             "#ed7953"
            ],
            [
             0.7777777777777778,
             "#fb9f3a"
            ],
            [
             0.8888888888888888,
             "#fdca26"
            ],
            [
             1,
             "#f0f921"
            ]
           ],
           "sequentialminus": [
            [
             0,
             "#0d0887"
            ],
            [
             0.1111111111111111,
             "#46039f"
            ],
            [
             0.2222222222222222,
             "#7201a8"
            ],
            [
             0.3333333333333333,
             "#9c179e"
            ],
            [
             0.4444444444444444,
             "#bd3786"
            ],
            [
             0.5555555555555556,
             "#d8576b"
            ],
            [
             0.6666666666666666,
             "#ed7953"
            ],
            [
             0.7777777777777778,
             "#fb9f3a"
            ],
            [
             0.8888888888888888,
             "#fdca26"
            ],
            [
             1,
             "#f0f921"
            ]
           ]
          },
          "colorway": [
           "#636efa",
           "#EF553B",
           "#00cc96",
           "#ab63fa",
           "#FFA15A",
           "#19d3f3",
           "#FF6692",
           "#B6E880",
           "#FF97FF",
           "#FECB52"
          ],
          "font": {
           "color": "#2a3f5f"
          },
          "geo": {
           "bgcolor": "white",
           "lakecolor": "white",
           "landcolor": "#E5ECF6",
           "showlakes": true,
           "showland": true,
           "subunitcolor": "white"
          },
          "hoverlabel": {
           "align": "left"
          },
          "hovermode": "closest",
          "mapbox": {
           "style": "light"
          },
          "paper_bgcolor": "white",
          "plot_bgcolor": "#E5ECF6",
          "polar": {
           "angularaxis": {
            "gridcolor": "white",
            "linecolor": "white",
            "ticks": ""
           },
           "bgcolor": "#E5ECF6",
           "radialaxis": {
            "gridcolor": "white",
            "linecolor": "white",
            "ticks": ""
           }
          },
          "scene": {
           "xaxis": {
            "backgroundcolor": "#E5ECF6",
            "gridcolor": "white",
            "gridwidth": 2,
            "linecolor": "white",
            "showbackground": true,
            "ticks": "",
            "zerolinecolor": "white"
           },
           "yaxis": {
            "backgroundcolor": "#E5ECF6",
            "gridcolor": "white",
            "gridwidth": 2,
            "linecolor": "white",
            "showbackground": true,
            "ticks": "",
            "zerolinecolor": "white"
           },
           "zaxis": {
            "backgroundcolor": "#E5ECF6",
            "gridcolor": "white",
            "gridwidth": 2,
            "linecolor": "white",
            "showbackground": true,
            "ticks": "",
            "zerolinecolor": "white"
           }
          },
          "shapedefaults": {
           "line": {
            "color": "#2a3f5f"
           }
          },
          "ternary": {
           "aaxis": {
            "gridcolor": "white",
            "linecolor": "white",
            "ticks": ""
           },
           "baxis": {
            "gridcolor": "white",
            "linecolor": "white",
            "ticks": ""
           },
           "bgcolor": "#E5ECF6",
           "caxis": {
            "gridcolor": "white",
            "linecolor": "white",
            "ticks": ""
           }
          },
          "title": {
           "x": 0.05
          },
          "xaxis": {
           "automargin": true,
           "gridcolor": "white",
           "linecolor": "white",
           "ticks": "",
           "title": {
            "standoff": 15
           },
           "zerolinecolor": "white",
           "zerolinewidth": 2
          },
          "yaxis": {
           "automargin": true,
           "gridcolor": "white",
           "linecolor": "white",
           "ticks": "",
           "title": {
            "standoff": 15
           },
           "zerolinecolor": "white",
           "zerolinewidth": 2
          }
         }
        }
       }
      }
     },
     "metadata": {},
     "output_type": "display_data"
    }
   ],
   "source": [
    "plotter.plotter(grid_x, grid_y, grid_z, U, V, W)"
   ]
  },
  {
   "cell_type": "code",
   "execution_count": 11,
   "metadata": {},
   "outputs": [],
   "source": [
    "grid_x, grid_y, grid_z, U1, V1, W1 = sample_vector_field(grid_x=grid_x, grid_y=grid_y, grid_z=grid_z,\n",
    "                                                         kernel_func = 'divergence_and_curl_free_kernel')"
   ]
  },
  {
   "cell_type": "code",
   "execution_count": 12,
   "metadata": {},
   "outputs": [
    {
     "data": {
      "application/vnd.plotly.v1+json": {
       "config": {
        "plotlyServerURL": "https://plot.ly"
       },
       "data": [
        {
         "anchor": "tail",
         "sizemode": "scaled",
         "sizeref": 2,
         "type": "cone",
         "u": {
          "bdata": "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",
          "dtype": "f8"
         },
         "v": {
          "bdata": "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",
          "dtype": "f8"
         },
         "w": {
          "bdata": "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",
          "dtype": "f8"
         },
         "x": {
          "bdata": "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",
          "dtype": "f8"
         },
         "y": {
          "bdata": "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",
          "dtype": "f8"
         },
         "z": {
          "bdata": "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",
          "dtype": "f8"
         }
        }
       ],
       "layout": {
        "scene": {
         "xaxis": {
          "title": {
           "text": "X"
          }
         },
         "yaxis": {
          "title": {
           "text": "Y"
          }
         },
         "zaxis": {
          "title": {
           "text": "Z"
          }
         }
        },
        "template": {
         "data": {
          "bar": [
           {
            "error_x": {
             "color": "#2a3f5f"
            },
            "error_y": {
             "color": "#2a3f5f"
            },
            "marker": {
             "line": {
              "color": "#E5ECF6",
              "width": 0.5
             },
             "pattern": {
              "fillmode": "overlay",
              "size": 10,
              "solidity": 0.2
             }
            },
            "type": "bar"
           }
          ],
          "barpolar": [
           {
            "marker": {
             "line": {
              "color": "#E5ECF6",
              "width": 0.5
             },
             "pattern": {
              "fillmode": "overlay",
              "size": 10,
              "solidity": 0.2
             }
            },
            "type": "barpolar"
           }
          ],
          "carpet": [
           {
            "aaxis": {
             "endlinecolor": "#2a3f5f",
             "gridcolor": "white",
             "linecolor": "white",
             "minorgridcolor": "white",
             "startlinecolor": "#2a3f5f"
            },
            "baxis": {
             "endlinecolor": "#2a3f5f",
             "gridcolor": "white",
             "linecolor": "white",
             "minorgridcolor": "white",
             "startlinecolor": "#2a3f5f"
            },
            "type": "carpet"
           }
          ],
          "choropleth": [
           {
            "colorbar": {
             "outlinewidth": 0,
             "ticks": ""
            },
            "type": "choropleth"
           }
          ],
          "contour": [
           {
            "colorbar": {
             "outlinewidth": 0,
             "ticks": ""
            },
            "colorscale": [
             [
              0,
              "#0d0887"
             ],
             [
              0.1111111111111111,
              "#46039f"
             ],
             [
              0.2222222222222222,
              "#7201a8"
             ],
             [
              0.3333333333333333,
              "#9c179e"
             ],
             [
              0.4444444444444444,
              "#bd3786"
             ],
             [
              0.5555555555555556,
              "#d8576b"
             ],
             [
              0.6666666666666666,
              "#ed7953"
             ],
             [
              0.7777777777777778,
              "#fb9f3a"
             ],
             [
              0.8888888888888888,
              "#fdca26"
             ],
             [
              1,
              "#f0f921"
             ]
            ],
            "type": "contour"
           }
          ],
          "contourcarpet": [
           {
            "colorbar": {
             "outlinewidth": 0,
             "ticks": ""
            },
            "type": "contourcarpet"
           }
          ],
          "heatmap": [
           {
            "colorbar": {
             "outlinewidth": 0,
             "ticks": ""
            },
            "colorscale": [
             [
              0,
              "#0d0887"
             ],
             [
              0.1111111111111111,
              "#46039f"
             ],
             [
              0.2222222222222222,
              "#7201a8"
             ],
             [
              0.3333333333333333,
              "#9c179e"
             ],
             [
              0.4444444444444444,
              "#bd3786"
             ],
             [
              0.5555555555555556,
              "#d8576b"
             ],
             [
              0.6666666666666666,
              "#ed7953"
             ],
             [
              0.7777777777777778,
              "#fb9f3a"
             ],
             [
              0.8888888888888888,
              "#fdca26"
             ],
             [
              1,
              "#f0f921"
             ]
            ],
            "type": "heatmap"
           }
          ],
          "histogram": [
           {
            "marker": {
             "pattern": {
              "fillmode": "overlay",
              "size": 10,
              "solidity": 0.2
             }
            },
            "type": "histogram"
           }
          ],
          "histogram2d": [
           {
            "colorbar": {
             "outlinewidth": 0,
             "ticks": ""
            },
            "colorscale": [
             [
              0,
              "#0d0887"
             ],
             [
              0.1111111111111111,
              "#46039f"
             ],
             [
              0.2222222222222222,
              "#7201a8"
             ],
             [
              0.3333333333333333,
              "#9c179e"
             ],
             [
              0.4444444444444444,
              "#bd3786"
             ],
             [
              0.5555555555555556,
              "#d8576b"
             ],
             [
              0.6666666666666666,
              "#ed7953"
             ],
             [
              0.7777777777777778,
              "#fb9f3a"
             ],
             [
              0.8888888888888888,
              "#fdca26"
             ],
             [
              1,
              "#f0f921"
             ]
            ],
            "type": "histogram2d"
           }
          ],
          "histogram2dcontour": [
           {
            "colorbar": {
             "outlinewidth": 0,
             "ticks": ""
            },
            "colorscale": [
             [
              0,
              "#0d0887"
             ],
             [
              0.1111111111111111,
              "#46039f"
             ],
             [
              0.2222222222222222,
              "#7201a8"
             ],
             [
              0.3333333333333333,
              "#9c179e"
             ],
             [
              0.4444444444444444,
              "#bd3786"
             ],
             [
              0.5555555555555556,
              "#d8576b"
             ],
             [
              0.6666666666666666,
              "#ed7953"
             ],
             [
              0.7777777777777778,
              "#fb9f3a"
             ],
             [
              0.8888888888888888,
              "#fdca26"
             ],
             [
              1,
              "#f0f921"
             ]
            ],
            "type": "histogram2dcontour"
           }
          ],
          "mesh3d": [
           {
            "colorbar": {
             "outlinewidth": 0,
             "ticks": ""
            },
            "type": "mesh3d"
           }
          ],
          "parcoords": [
           {
            "line": {
             "colorbar": {
              "outlinewidth": 0,
              "ticks": ""
             }
            },
            "type": "parcoords"
           }
          ],
          "pie": [
           {
            "automargin": true,
            "type": "pie"
           }
          ],
          "scatter": [
           {
            "fillpattern": {
             "fillmode": "overlay",
             "size": 10,
             "solidity": 0.2
            },
            "type": "scatter"
           }
          ],
          "scatter3d": [
           {
            "line": {
             "colorbar": {
              "outlinewidth": 0,
              "ticks": ""
             }
            },
            "marker": {
             "colorbar": {
              "outlinewidth": 0,
              "ticks": ""
             }
            },
            "type": "scatter3d"
           }
          ],
          "scattercarpet": [
           {
            "marker": {
             "colorbar": {
              "outlinewidth": 0,
              "ticks": ""
             }
            },
            "type": "scattercarpet"
           }
          ],
          "scattergeo": [
           {
            "marker": {
             "colorbar": {
              "outlinewidth": 0,
              "ticks": ""
             }
            },
            "type": "scattergeo"
           }
          ],
          "scattergl": [
           {
            "marker": {
             "colorbar": {
              "outlinewidth": 0,
              "ticks": ""
             }
            },
            "type": "scattergl"
           }
          ],
          "scattermap": [
           {
            "marker": {
             "colorbar": {
              "outlinewidth": 0,
              "ticks": ""
             }
            },
            "type": "scattermap"
           }
          ],
          "scattermapbox": [
           {
            "marker": {
             "colorbar": {
              "outlinewidth": 0,
              "ticks": ""
             }
            },
            "type": "scattermapbox"
           }
          ],
          "scatterpolar": [
           {
            "marker": {
             "colorbar": {
              "outlinewidth": 0,
              "ticks": ""
             }
            },
            "type": "scatterpolar"
           }
          ],
          "scatterpolargl": [
           {
            "marker": {
             "colorbar": {
              "outlinewidth": 0,
              "ticks": ""
             }
            },
            "type": "scatterpolargl"
           }
          ],
          "scatterternary": [
           {
            "marker": {
             "colorbar": {
              "outlinewidth": 0,
              "ticks": ""
             }
            },
            "type": "scatterternary"
           }
          ],
          "surface": [
           {
            "colorbar": {
             "outlinewidth": 0,
             "ticks": ""
            },
            "colorscale": [
             [
              0,
              "#0d0887"
             ],
             [
              0.1111111111111111,
              "#46039f"
             ],
             [
              0.2222222222222222,
              "#7201a8"
             ],
             [
              0.3333333333333333,
              "#9c179e"
             ],
             [
              0.4444444444444444,
              "#bd3786"
             ],
             [
              0.5555555555555556,
              "#d8576b"
             ],
             [
              0.6666666666666666,
              "#ed7953"
             ],
             [
              0.7777777777777778,
              "#fb9f3a"
             ],
             [
              0.8888888888888888,
              "#fdca26"
             ],
             [
              1,
              "#f0f921"
             ]
            ],
            "type": "surface"
           }
          ],
          "table": [
           {
            "cells": {
             "fill": {
              "color": "#EBF0F8"
             },
             "line": {
              "color": "white"
             }
            },
            "header": {
             "fill": {
              "color": "#C8D4E3"
             },
             "line": {
              "color": "white"
             }
            },
            "type": "table"
           }
          ]
         },
         "layout": {
          "annotationdefaults": {
           "arrowcolor": "#2a3f5f",
           "arrowhead": 0,
           "arrowwidth": 1
          },
          "autotypenumbers": "strict",
          "coloraxis": {
           "colorbar": {
            "outlinewidth": 0,
            "ticks": ""
           }
          },
          "colorscale": {
           "diverging": [
            [
             0,
             "#8e0152"
            ],
            [
             0.1,
             "#c51b7d"
            ],
            [
             0.2,
             "#de77ae"
            ],
            [
             0.3,
             "#f1b6da"
            ],
            [
             0.4,
             "#fde0ef"
            ],
            [
             0.5,
             "#f7f7f7"
            ],
            [
             0.6,
             "#e6f5d0"
            ],
            [
             0.7,
             "#b8e186"
            ],
            [
             0.8,
             "#7fbc41"
            ],
            [
             0.9,
             "#4d9221"
            ],
            [
             1,
             "#276419"
            ]
           ],
           "sequential": [
            [
             0,
             "#0d0887"
            ],
            [
             0.1111111111111111,
             "#46039f"
            ],
            [
             0.2222222222222222,
             "#7201a8"
            ],
            [
             0.3333333333333333,
             "#9c179e"
            ],
            [
             0.4444444444444444,
             "#bd3786"
            ],
            [
             0.5555555555555556,
             "#d8576b"
            ],
            [
             0.6666666666666666,
             "#ed7953"
            ],
            [
             0.7777777777777778,
             "#fb9f3a"
            ],
            [
             0.8888888888888888,
             "#fdca26"
            ],
            [
             1,
             "#f0f921"
            ]
           ],
           "sequentialminus": [
            [
             0,
             "#0d0887"
            ],
            [
             0.1111111111111111,
             "#46039f"
            ],
            [
             0.2222222222222222,
             "#7201a8"
            ],
            [
             0.3333333333333333,
             "#9c179e"
            ],
            [
             0.4444444444444444,
             "#bd3786"
            ],
            [
             0.5555555555555556,
             "#d8576b"
            ],
            [
             0.6666666666666666,
             "#ed7953"
            ],
            [
             0.7777777777777778,
             "#fb9f3a"
            ],
            [
             0.8888888888888888,
             "#fdca26"
            ],
            [
             1,
             "#f0f921"
            ]
           ]
          },
          "colorway": [
           "#636efa",
           "#EF553B",
           "#00cc96",
           "#ab63fa",
           "#FFA15A",
           "#19d3f3",
           "#FF6692",
           "#B6E880",
           "#FF97FF",
           "#FECB52"
          ],
          "font": {
           "color": "#2a3f5f"
          },
          "geo": {
           "bgcolor": "white",
           "lakecolor": "white",
           "landcolor": "#E5ECF6",
           "showlakes": true,
           "showland": true,
           "subunitcolor": "white"
          },
          "hoverlabel": {
           "align": "left"
          },
          "hovermode": "closest",
          "mapbox": {
           "style": "light"
          },
          "paper_bgcolor": "white",
          "plot_bgcolor": "#E5ECF6",
          "polar": {
           "angularaxis": {
            "gridcolor": "white",
            "linecolor": "white",
            "ticks": ""
           },
           "bgcolor": "#E5ECF6",
           "radialaxis": {
            "gridcolor": "white",
            "linecolor": "white",
            "ticks": ""
           }
          },
          "scene": {
           "xaxis": {
            "backgroundcolor": "#E5ECF6",
            "gridcolor": "white",
            "gridwidth": 2,
            "linecolor": "white",
            "showbackground": true,
            "ticks": "",
            "zerolinecolor": "white"
           },
           "yaxis": {
            "backgroundcolor": "#E5ECF6",
            "gridcolor": "white",
            "gridwidth": 2,
            "linecolor": "white",
            "showbackground": true,
            "ticks": "",
            "zerolinecolor": "white"
           },
           "zaxis": {
            "backgroundcolor": "#E5ECF6",
            "gridcolor": "white",
            "gridwidth": 2,
            "linecolor": "white",
            "showbackground": true,
            "ticks": "",
            "zerolinecolor": "white"
           }
          },
          "shapedefaults": {
           "line": {
            "color": "#2a3f5f"
           }
          },
          "ternary": {
           "aaxis": {
            "gridcolor": "white",
            "linecolor": "white",
            "ticks": ""
           },
           "baxis": {
            "gridcolor": "white",
            "linecolor": "white",
            "ticks": ""
           },
           "bgcolor": "#E5ECF6",
           "caxis": {
            "gridcolor": "white",
            "linecolor": "white",
            "ticks": ""
           }
          },
          "title": {
           "x": 0.05
          },
          "xaxis": {
           "automargin": true,
           "gridcolor": "white",
           "linecolor": "white",
           "ticks": "",
           "title": {
            "standoff": 15
           },
           "zerolinecolor": "white",
           "zerolinewidth": 2
          },
          "yaxis": {
           "automargin": true,
           "gridcolor": "white",
           "linecolor": "white",
           "ticks": "",
           "title": {
            "standoff": 15
           },
           "zerolinecolor": "white",
           "zerolinewidth": 2
          }
         }
        }
       }
      }
     },
     "metadata": {},
     "output_type": "display_data"
    }
   ],
   "source": [
    "plotter.plotter(grid_x, grid_y, grid_z, U1, V1, W1)"
   ]
  },
  {
   "cell_type": "markdown",
   "metadata": {},
   "source": [
    "## Updates given measurements "
   ]
  },
  {
   "cell_type": "markdown",
   "metadata": {},
   "source": [
    "This is a 2 step process. To start, we make a function which can take in all of these vector fields, and return some selection of points. Following this sampling, we will feed this to our GP and see what happens.\n"
   ]
  },
  {
   "cell_type": "markdown",
   "metadata": {},
   "source": [
    "### Generating samples"
   ]
  },
  {
   "cell_type": "code",
   "execution_count": 13,
   "metadata": {},
   "outputs": [],
   "source": [
    "def sample_field(x, y, z, Bx, By, Bz, n_samples: int, random_seed: int = 0):\n",
    "    '''\n",
    "    Helper function to use to get random points from earlier fields. Samples n points from the given field data. \n",
    "\n",
    "    Args:\n",
    "        x, y, z (np.ndarray): Meshgrid coordinates.\n",
    "        Bx, By, Bz (np.ndarray): Magnetic field components.\n",
    "        n_samples (int): Number of points to sample.\n",
    "\n",
    "    Returns:\n",
    "        Tuple of sampled coordinates and field components.\n",
    "    '''\n",
    "    np.random.seed(random_seed)\n",
    "    \n",
    "    resolution = x.shape[0]\n",
    "    indices = np.random.choice(resolution * resolution * resolution, size=n_samples, replace=False)\n",
    "    \n",
    "    x_samples = x.flatten()[indices]\n",
    "    y_samples = y.flatten()[indices]\n",
    "    z_samples = z.flatten()[indices]\n",
    "    Bx_samples = Bx.flatten()[indices]\n",
    "    By_samples = By.flatten()[indices]\n",
    "    Bz_samples = Bz.flatten()[indices]\n",
    "    \n",
    "    return x_samples, y_samples, z_samples, Bx_samples, By_samples, Bz_samples"
   ]
  },
  {
   "cell_type": "code",
   "execution_count": 26,
   "metadata": {},
   "outputs": [
    {
     "data": {
      "application/vnd.plotly.v1+json": {
       "config": {
        "plotlyServerURL": "https://plot.ly"
       },
       "data": [
        {
         "anchor": "tail",
         "sizemode": "scaled",
         "sizeref": 2,
         "type": "cone",
         "u": {
          "bdata": "b39yK4kyKr+6M27Bo4BAv/aE9s4JPiY/7ev13lNwXb84KsFJ48w0v6p3d22iBDS/q3d3baIEND8wo8sSaFVBP22H8kd0bx8/9oT2zgk+Jr8sA2vyUwAHP+3r9d5TcF2/A/p9ZQvcL78wo8sSaFVBP7ezxhgBIiK/lGO4cF7gOT9vf3IriTIqv5zIcS07TTY/NVpXdZ5SMD+qd3dtogQ0P5Hl9TWXkzc/HDsQ3SjcEj/IbpxqbGMoP8hunGpsYyg/Ag+elyvXML8D+n1lC9wvv5RjuHBe4Dk/4G9r7xJkKT8uo8sSaFVBv29/ciuJMio/nshxLTtNNr8G+n1lC9wvv8hunGpsYyi/94T2zgk+Jr8pA2vyUwAHPzCjyxJoVUG/lGO4cF7gOb8O/fPTeqRDPzVaV3WeUjC/LqPLEmhVQT8wo8sSaFVBP29/ciuJMiq/Dv3z03qkQ79th/JHdG8fv6pg+F6BqkY/A/p9ZQvcL78CD56XK9cwv7szbsGjgEA/yG6camxjKD8cOxDdKNwSvxD989N6pEM/9oT2zgk+Jj8uo8sSaFVBP4h0QjdNkTc/6CthfP5zPL8cOxDdKNwSv+VJVBQzkzc/5UlUFDOTNz81Wld1nlIwv8hunGpsYyg/gnRCN02RN79l13Hp+axRv7szbsGjgEA/9oT2zgk+Jj8XOxDdKNwSP+Bva+8SZCk/LqPLEmhVQT+IdEI3TZE3v6pg+F6BqkY/t7PGGAEiIr8wo8sSaFVBv/aE9s4JPiY/qWD4XoGqRr+qYPhegapGP6t3d22iBDS/FzsQ3SjcEj/GbpxqbGMoP/eE9s4JPia/bYfyR3RvH79l13Hp+axRvy6jyxJoVUE/7ev13lNwXT/GbpxqbGMoPzVaV3WeUjC/b39yK4kyKr9th/JHdG8fvzCjyxJoVUE/KQNr8lMAB78sA2vyUwAHP5vIcS07TTa/7ev13lNwXT8sA2vyUwAHP6t3d22iBDS/5UlUFDOTNz8O/fPTeqRDvxw7EN0o3BI/gnRCN02RN7/gb2vvEmQpPw7989N6pEM/Zddx6fmsUb8D+n1lC9wvv5vIcS07TTa/kOX1NZeTNz9vf3IriTIqv8hunGpsYyg/Dv3z03qkQ78O/fPTeqRDvwP6fWUL3C+/lGO4cF7gOb8G+n1lC9wvP29/ciuJMio/HDsQ3SjcEr+CdEI3TZE3P7azxhgBIiK/qmD4XoGqRj/GbpxqbGMoP+3r9d5TcF2/xm6camxjKD8cOxDdKNwSPxc7EN0o3BK/A/p9ZQvcL79vf3IriTIqv57IcS07TTY/lGO4cF7gOb+Q5fU1l5M3P7ozbsGjgEC/NirBSePMND8E+n1lC9wvP5Hl9TWXkze/bYfyR3RvH78sA2vyUwAHPw7989N6pEO/LANr8lMAB78G+n1lC9wvv6lg+F6Bqka/OSrBSePMNL/IbpxqbGMoP29/ciuJMio/trPGGAEiIr+byHEtO002v+Bva+8SZCk/yG6camxjKL+2s8YYASIiv6pg+F6BqkY/5UlUFDOTNz+2s8YYASIiP8ZunGpsYyg/a4fyR3RvHz+UY7hwXuA5P5Hl9TWXkzc/5UlUFDOTNz+R5fU1l5M3PykDa/JTAAc/qWD4XoGqRr+qd3dtogQ0v29/ciuJMiq/7ev13lNwXT8O/fPTeqRDP+grYXz+czy/HDsQ3SjcEj8cOxDdKNwSvzVaV3WeUjC/x26camxjKL/oK2F8/nM8v6t3d22iBDS/NirBSePMND86KsFJ48w0P5RjuHBe4Dm/Zddx6fmsUT8XOxDdKNwSP5RjuHBe4Dm/94T2zgk+Jr+7M27Bo4BAP57IcS07TTa/LANr8lMABz+pYPhegapGv6pg+F6BqkY/Zddx6fmsUb8CD56XK9cwv7szbsGjgEA/LqPLEmhVQb9vf3IriTIqv4J0QjdNkTc/yG6camxjKD81Wld1nlIwv6t3d22iBDS/Bvp9ZQvcL7/t6/XeU3BdP+RJVBQzkze/9oT2zgk+Jj/oK2F8/nM8v+grYXz+czy/iHRCN02RNz9vf3IriTIqPy6jyxJoVUG/OCrBSePMNL/mSVQUM5M3vwb6fWUL3C8/Zddx6fmsUb+7M27Bo4BAP8dunGpsYyi/KQNr8lMAB78Q/fPTeqRDP6p3d22iBDS/Ag+elyvXML85KsFJ48w0vwIPnpcr1zC/FzsQ3SjcEr8XOxDdKNwSv5RjuHBe4Dm/Ag+elyvXMD/IbpxqbGMov5Hl9TWXkzc/4W9r7xJkKb/hb2vvEmQpv29/ciuJMiq/uzNuwaOAQD+7M27Bo4BAP5RjuHBe4Dk/HDsQ3SjcEr/gb2vvEmQpvywDa/JTAAe/kOX1NZeTN78uo8sSaFVBPykDa/JTAAc/9oT2zgk+Jj9th/JHdG8fv7azxhgBIiK/NVpXdZ5SMD+2s8YYASIiP7azxhgBIiK/bYfyR3RvHz85KsFJ48w0v/eE9s4JPia/kOX1NZeTNz+qd3dtogQ0P8dunGpsYyi/4G9r7xJkKT+pYPhegapGvwIPnpcr1zA/iHRCN02RN78cOxDdKNwSP/aE9s4JPiY/Dv3z03qkQz9vf3IriTIqv4J0QjdNkTc/Zddx6fmsUT9vf3IriTIqP7ezxhgBIiI/bYfyR3RvH7+qYPhegapGPw7989N6pEO/NVpXdZ5SMD+Q5fU1l5M3v6p3d22iBDQ/A/p9ZQvcL79l13Hp+axRv4J0QjdNkTc/q3d3baIENL+R5fU1l5M3P5RjuHBe4Dm/5klUFDOTN7+IdEI3TZE3P7szbsGjgEA/Ag+elyvXML9th/JHdG8fv6lg+F6Bqka/t7PGGAEiIj9l13Hp+axRPxc7EN0o3BI/Bvp9ZQvcL7/t6/XeU3Bdv5RjuHBe4Dk/6CthfP5zPD8uo8sSaFVBv7ozbsGjgEC/6CthfP5zPL+2s8YYASIiv+3r9d5TcF0/nMhxLTtNNj+UY7hwXuA5vxD989N6pEM/Zddx6fmsUT+6M27Bo4BAvy6jyxJoVUG/keX1NZeTNz+6M27Bo4BAv5vIcS07TTa/uzNuwaOAQD/nSVQUM5M3P2XXcen5rFG/Bvp9ZQvcLz+pYPhegapGv5Dl9TWXkze/9oT2zgk+Jr/oK2F8/nM8P29/ciuJMiq/NVpXdZ5SML8sA2vyUwAHPzVaV3WeUjA/4G9r7xJkKT+Q5fU1l5M3P7ezxhgBIiI/a4fyR3RvHz+IdEI3TZE3P6pg+F6BqkY/nshxLTtNNr8CD56XK9cwv22H8kd0bx8/Ag+elyvXML+R5fU1l5M3v6t3d22iBDS/trPGGAEiIr+rd3dtogQ0P29/ciuJMiq/xm6camxjKD+2s8YYASIiPwT6fWUL3C8/qnd3baIEND+UY7hwXuA5P5zIcS07TTY/KQNr8lMAB7+rd3dtogQ0vwIPnpcr1zA/9oT2zgk+Jj+qd3dtogQ0P5RjuHBe4Dk/KQNr8lMAB78uo8sSaFVBP+Bva+8SZCm/6CthfP5zPL+pYPhegapGv5Dl9TWXkzc/94T2zgk+Jr+UY7hwXuA5P+3r9d5TcF0/nshxLTtNNj9l13Hp+axRvykDa/JTAAc/qWD4XoGqRr+UY7hwXuA5v7ezxhgBIiI/Ag+elyvXMD81Wld1nlIwP7szbsGjgEA/EP3z03qkQz+eyHEtO002P5RjuHBe4Dk/MKPLEmhVQT+IdEI3TZE3v6pg+F6BqkY/LANr8lMAB79l13Hp+axRP5RjuHBe4Dm/ujNuwaOAQL/3hPbOCT4mvzoqwUnjzDQ/4W9r7xJkKb/gb2vvEmQpv2XXcen5rFE/Dv3z03qkQz81Wld1nlIwPwIPnpcr1zA/KQNr8lMABz8Q/fPTeqRDP/aE9s4JPiY/kOX1NZeTN79l13Hp+axRP8hunGpsYyg/qmD4XoGqRj81Wld1nlIwv5zIcS07TTY/Ag+elyvXMD+R5fU1l5M3v+grYXz+czw/bYfyR3RvHz8wo8sSaFVBvzgqwUnjzDS/yG6camxjKD+qd3dtogQ0P7azxhgBIiK/Zddx6fmsUT/gb2vvEmQpP+grYXz+czy/7ev13lNwXb81Wld1nlIwvxw7EN0o3BK/7ev13lNwXT+rd3dtogQ0P+ZJVBQzkze/Bvp9ZQvcL7+qYPhegapGP6pg+F6BqkY/t7PGGAEiIr+R5fU1l5M3PzVaV3WeUjA/uzNuwaOAQD8Q/fPTeqRDP+grYXz+czy/t7PGGAEiIj84KsFJ48w0v+Bva+8SZCk/Dv3z03qkQ782KsFJ48w0PzkqwUnjzDS/bYfyR3RvH79vf3IriTIqP+3r9d5TcF0/Zddx6fmsUb+eyHEtO002v7ozbsGjgEC/a4fyR3RvHz+3s8YYASIivzVaV3WeUjC/trPGGAEiIj8G+n1lC9wvP5zIcS07TTY/6CthfP5zPD8wo8sSaFVBPwIPnpcr1zA/x26camxjKL/gb2vvEmQpv2XXcen5rFE/qWD4XoGqRr/t6/XeU3BdP2XXcen5rFG/6CthfP5zPL+7M27Bo4BAPxw7EN0o3BI/LANr8lMAB781Wld1nlIwv57IcS07TTY/kOX1NZeTNz9vf3IriTIqvxc7EN0o3BK/50lUFDOTNz8uo8sSaFVBP+grYXz+czw/Ag+elyvXML/IbpxqbGMovzgqwUnjzDS/nMhxLTtNNj+UY7hwXuA5vxc7EN0o3BI/4G9r7xJkKT8wo8sSaFVBv8dunGpsYyi/50lUFDOTNz8Q/fPTeqRDPzkqwUnjzDS/9oT2zgk+Jr+byHEtO002vxw7EN0o3BI/NVpXdZ5SML/nSVQUM5M3P2uH8kd0bx8/NVpXdZ5SML+2s8YYASIiP22H8kd0bx8/5ElUFDOTN78CD56XK9cwvzVaV3WeUjA/LANr8lMABz+qYPhegapGP+Fva+8SZCm/b39yK4kyKj/IbpxqbGMov4h0QjdNkTe/a4fyR3RvHz/mSVQUM5M3v7ozbsGjgEC/bYfyR3RvH7/gb2vvEmQpP22H8kd0bx8/7ev13lNwXb/mSVQUM5M3v/aE9s4JPiY/bYfyR3RvHz+UY7hwXuA5P29/ciuJMio/Zddx6fmsUT8O/fPTeqRDv4J0QjdNkTc/q3d3baIEND82KsFJ48w0P+3r9d5TcF2/iHRCN02RNz8G+n1lC9wvPzCjyxJoVUG/KQNr8lMAB79th/JHdG8fv+Bva+8SZCm/lGO4cF7gOb/HbpxqbGMov/aE9s4JPiY/Zddx6fmsUb/gb2vvEmQpPw7989N6pEM/Dv3z03qkQ782KsFJ48w0Pw==",
          "dtype": "f8"
         },
         "v": {
          "bdata": "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",
          "dtype": "f8"
         },
         "w": {
          "bdata": "AAAAAAAAAAAAAAAAAAAAAAAAAAAAAAAAAAAAAAAAAAAAAAAAAAAAAAAAAAAAAAAAAAAAAAAAAAAAAAAAAAAAAAAAAAAAAAAAAAAAAAAAAAAAAAAAAAAAAAAAAAAAAAAAAAAAAAAAAAAAAAAAAAAAAAAAAAAAAAAAAAAAAAAAAAAAAAAAAAAAAAAAAAAAAAAAAAAAAAAAAAAAAAAAAAAAAAAAAAAAAAAAAAAAAAAAAAAAAAAAAAAAAAAAAAAAAAAAAAAAAAAAAAAAAAAAAAAAAAAAAAAAAAAAAAAAAAAAAAAAAAAAAAAAAAAAAAAAAAAAAAAAAAAAAAAAAAAAAAAAAAAAAAAAAAAAAAAAAAAAAAAAAAAAAAAAAAAAAAAAAAAAAAAAAAAAAAAAAAAAAAAAAAAAAAAAAAAAAAAAAAAAAAAAAAAAAAAAAAAAAAAAAAAAAAAAAAAAAAAAAAAAAAAAAAAAAAAAAAAAAAAAAAAAAAAAAAAAAAAAAAAAAAAAAAAAAAAAAAAAAAAAAAAAAAAAAAAAAAAAAAAAAAAAAAAAAAAAAAAAAAAAAAAAAAAAAAAAAAAAAAAAAAAAAAAAAAAAAAAAAAAAAAAAAAAAAAAAAAAAAAAAAAAAAAAAAAAAAAAAAAAAAAAAAAAAAAAAAAAAAAAAAAAAAAAAAAAAAAAAAAAAAAAAAAAAAAAAAAAAAAAAAAAAAAAAAAAAAAAAAAAAAAAAAAAAAAAAAAAAAAAAAAAAAAAAAAAAAAAAAAAAAAAAAAAAAAAAAAAAAAAAAAAAAAAAAAAAAAAAAAAAAAAAAAAAAAAAAAAAAAAAAAAAAAAAAAAAAAAAAAAAAAAAAAAAAAAAAAAAAAAAAAAAAAAAAAAAAAAAAAAAAAAAAAAAAAAAAAAAAAAAAAAAAAAAAAAAAAAAAAAAAAAAAAAAAAAAAAAAAAAAAAAAAAAAAAAAAAAAAAAAAAAAAAAAAAAAAAAAAAAAAAAAAAAAAAAAAAAAAAAAAAAAAAAAAAAAAAAAAAAAAAAAAAAAAAAAAAAAAAAAAAAAAAAAAAAAAAAAAAAAAAAAAAAAAAAAAAAAAAAAAAAAAAAAAAAAAAAAAAAAAAAAAAAAAAAAAAAAAAAAAAAAAAAAAAAAAAAAAAAAAAAAAAAAAAAAAAAAAAAAAAAAAAAAAAAAAAAAAAAAAAAAAAAAAAAAAAAAAAAAAAAAAAAAAAAAAAAAAAAAAAAAAAAAAAAAAAAAAAAAAAAAAAAAAAAAAAAAAAAAAAAAAAAAAAAAAAAAAAAAAAAAAAAAAAAAAAAAAAAAAAAAAAAAAAAAAAAAAAAAAAAAAAAAAAAAAAAAAAAAAAAAAAAAAAAAAAAAAAAAAAAAAAAAAAAAAAAAAAAAAAAAAAAAAAAAAAAAAAAAAAAAAAAAAAAAAAAAAAAAAAAAAAAAAAAAAAAAAAAAAAAAAAAAAAAAAAAAAAAAAAAAAAAAAAAAAAAAAAAAAAAAAAAAAAAAAAAAAAAAAAAAAAAAAAAAAAAAAAAAAAAAAAAAAAAAAAAAAAAAAAAAAAAAAAAAAAAAAAAAAAAAAAAAAAAAAAAAAAAAAAAAAAAAAAAAAAAAAAAAAAAAAAAAAAAAAAAAAAAAAAAAAAAAAAAAAAAAAAAAAAAAAAAAAAAAAAAAAAAAAAAAAAAAAAAAAAAAAAAAAAAAAAAAAAAAAAAAAAAAAAAAAAAAAAAAAAAAAAAAAAAAAAAAAAAAAAAAAAAAAAAAAAAAAAAAAAAAAAAAAAAAAAAAAAAAAAAAAAAAAAAAAAAAAAAAAAAAAAAAAAAAAAAAAAAAAAAAAAAAAAAAAAAAAAAAAAAAAAAAAAAAAAAAAAAAAAAAAAAAAAAAAAAAAAAAAAAAAAAAAAAAAAAAAAAAAAAAAAAAAAAAAAAAAAAAAAAAAAAAAAAAAAAAAAAAAAAAAAAAAAAAAAAAAAAAAAAAAAAAAAAAAAAAAAAAAAAAAAAAAAAAAAAAAAAAAAAAAAAAAAAAAAAAAAAAAAAAAAAAAAAAAAAAAAAAAAAAAAAAAAAAAAAAAAAAAAAAAAAAAAAAAAAAAAAAAAAAAAAAAAAAAAAAAAAAAAAAAAAAAAAAAAAAAAAAAAAAAAAAAAAAAAAAAAAAAAAAAAAAAAAAAAAAAAAAAAAAAAAAAAAAAAAAAAAAAAAAAAAAAAAAAAAAAAAAAAAAAAAAAAAAAAAAAAAAAAAAAAAAAAAAAAAAAAAAAAAAAAAAAAAAAAAAAAAAAAAAAAAAAAAAAAAAAAAAAAAAAAAAAAAAAAAAAAAAAAAAAAAAAAAAAAAAAAAAAAAAAAAAAAAAAAAAAAAAAAAAAAAAAAAAAAAAAAAAAAAAAAAAAAAAAAAAAAAAAAAAAAAAAAAAAAAAAAAAAAAAAAAAAAAAAAAAAAAAAAAAAAAAAAAAAAAAAAAAAAAAAAAAAAAAAAAAAAAAAAAAAAAAAAAAAAAAAAAAAAAAAAAAAAAAAAAAAAAAAAAAAAAAAAAAAAAAAAAAAAAAAAAAAAAAAAAAAAAAAAAAAAAAAAAAAAAAAAAAAAAAAAAAAAAAAAAAAAAAAAAAAAAAAAAAAAAAAAAAAAAAAAAAAAAAAAAAAAAAAAAAAAAAAAAAAAAAAAAAAAAAAAAAAAAAAAAAAAAAAAAAAAAAAAAAAAAAAAAAAAAAAAAAAAAAAAAAAAAAAAAAAAAAAAAAAAAAAAAAAAAAAAAAAAAAAAAAAAAAAAAAAAAAAAAAAAAAAAAAAAAAAAAAAAAAAAAAAAAAAAAAAAAAAAAAAAAAAAAAAAAAAAAAAAAAAAAAAAAAAAAAAAAAAAAAAAAAAAAAAAAAAAAAAAAAAAAAAAAAAAAAAAAAAAAAAAAAAAAAAAAAAAAAAAAAAAAAAAAAAAAAAAAAAAAAAAAAAAAAAAAAAAAAAAAAAAAAAAAAAAAAAAAAAAAAAAAAAAAAAAAAAAAAAAAAAAAAAAAAAAAAAAAAAAAAAAAAAAAAAAAAAAAAAAAAAAAAAAAAAAAAAAAAAAAAAAAAAAAAAAAAAAAAAAAAAAAAAAAAAAAAAAAAAAAAAAAAAAAAAAAAAAAAAAAAAAAAAAAAAAAAAAAAAAAAAAAAAAAAAAAAAAAAAAAAAAAAAAAAAAAAAAAAAAAAAAAAAAAAAAAAAAAAAAAAAAAAAAAAAAAAAAAAAAAAAAAAAAAAAAAAAAAAAAAAAAAAAAAAAAAAAAAAAAAAAAAAAAAAAAAAAAAAAAAAAAAAAAAAAAAAAAAAAAAAAAAAAAAAAAAAAAAAAAAAAAAAAAAAAAAAAAAAAAAAAAAAAAAAAAAAAAAAAAAAAAAAAAAAAAAAAAAAAAAAAAAAAAAAAAAAAAAAAAAAAAAAAAAAAAAAAAAAAAAAAAAAAAAAAAAAAAAAAAAAAAAAAAAAAAAAAAAAAAAAAAAAAAAAAAAAAAAAAAAAAAAAAAAAAAAAAAAAAAAAAAAAAAAAAAAAAAAAAAAAAAAAAAAAAAAAAAAAAAAAAAAAAAAAAAAAAAAAAAAAAAAAAAAAAAAAAAAAAAAAAAAAAAAAAAAAAAAAAAAAAAAAAAAAAAAAAAAAAAAAAAAAAAAAAAAAAAAAAAAAAAAAAAAAAAAAAAAAAAAAAAAAAAAAAAAAAAAAAAAAAAAAAAAAAAAAAAAAAAAAAAAAAAAAAAAAAAAAAAAAAAAAAAAAAAAAAAAAAAAAAAAAAAAAAAAAAAAAAAAAAAAAAAAAAAAAAAAAAAAAAAAAAAAAAAAAAAAAAAAAAAAAAAAAAAAAAAAAAAAAAAAAAAAAAAAAAAAAAAAAAAAAAAAAAAAAAAAAAAAAAAAAAAAAAAAAAAAAAAAAAAAAAAAAAAAAAAAAAAAAAAAAAAAAAAAAAAAAAAAAAAAAAAAAAAAAAAAAAAAAAAAAAAAAAAAAAAAAAAAAAAAAAAAAAAAAAAAAAAAAAAAAAAAAAAAAAAAAAAAAAAAAAAAAAAAAAAAAAAAAAAAAAAAAAAAAAAAAAAAAAAAAAAAAAAAAAAAAAAAAAAAAAAAAAAAAAAAAAAAAAAAAAAAAAAAAAAAAAAAAAAAAAAAAAAAAAAAAAAAAAAAAAAAAAAAAAAAAAAAAAAAAAAAAAAAAAAAAAAAAAAAAAAAAAAAAAAAAAAAAAAAAAAAAAAAAAAAAAAAAAAAAAAAAAAAAAAAAAAAAAAAAAAAAAAAAAAAAAAAAAAAAAAAAAAAAAAAAAAAAAAAAAAAAAAAAAAAAAAAAAAAAAAAAAAAAAAAAAAAAAAAAAAAAAAAAAAAAAAAAAAAAAAAAAAAAAAAAAAAAAAAAAAAAAAAAAAAAAAAAAAAAAAAAAAAAAAAAAAAAAAAAAAAAAAAAAAAAAAAAAAAAAAAAAAAAAAAAAAAAAAAAAAAAAAAAAAAAAAAAAAAAAAAAAAAAAAAAAAAAAAAAAAAAAAAAAAAAAAAAAAAAAAAAAAAAAAAAAAAAAAAAAAAAAAAAAAAAAAAAAAAAAAAAAAAAAAAAAAAAAAAAAAAAAAAAAAAAAAAAAAAAAAAAAAAAAAAAAAAAAAAAAAAAAAAAAAAAAAAAAAAAAAAAAAAAAAAAAAAAAAAAAAAAAAAAAAAAAAAAAAAAAAAAAAAAAAAAAAAAAAAAAAAAAAAAAAAAAAAAAAAAAAAAAAAAAAAAAAAAAAAAAAAAAAAAAAAAAAAAAAAAAAAAAAAAAAAAAAAAAAAAAAAAAAAAAAAAAAAAAAAAAAAAAAAAAAAAAAAAAAAAAAAAAAAAAAAAAAAAAAAAAAAAAAAAAAAAAAAAAAAAAAAAAAAAAAAAAAAAAAAAAAAAAAAAAAAAAAAAAAAAAAAAAAAAAAAAAAAAAAAAAAAAAAAAAAAAAAAAAAAAAAAAAAAAAAAAAAAAAAAAAAAAAAAAAAAAAAAAAAAAAAAAAAAAAAAAAAAAAAAAAAAAAAAAAAAAAAAAAAAAAAAAAAAAAAAAAAAAAAAAAAAAAAAAAAAAAAAAAAAAAAAAAAAAAAAAAAAAAAAAAAAAAAAAAAAAAAAAAAAAAAAAAAAAAAAAAAAAAAAAAAAAAAAAAAAAAAAAAAAAAAAAAAAAAAAAAAAAAAAAAAAAAAAAAAAAAAAAAAAAAAAAAAAAAAAAAAAAAAAAAAAAAAAAAAAAAAAAAAAAAAAAAAAAAAAAAAAAAAAAAAAAAAAAAAAAAAAAAAAAAAAAAAAAAAAAAAAAAAAAAAAAAAAAAAAAAAAAAAAAAAAAAAAAAAAAAAAAAAAAAAAAAAAAAAAAAAAAAAAAAAAAAAAAAAAAAAAAAAAAAAAAAAAAAAAAAAAAAAAAAAAAAAAAAAAAAAAAAAAAAA==",
          "dtype": "f8"
         },
         "x": {
          "bdata": "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",
          "dtype": "f8"
         },
         "y": {
          "bdata": "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",
          "dtype": "f8"
         },
         "z": {
          "bdata": "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",
          "dtype": "f8"
         }
        }
       ],
       "layout": {
        "scene": {
         "xaxis": {
          "title": {
           "text": "X"
          }
         },
         "yaxis": {
          "title": {
           "text": "Y"
          }
         },
         "zaxis": {
          "title": {
           "text": "Z"
          }
         }
        },
        "template": {
         "data": {
          "bar": [
           {
            "error_x": {
             "color": "#2a3f5f"
            },
            "error_y": {
             "color": "#2a3f5f"
            },
            "marker": {
             "line": {
              "color": "#E5ECF6",
              "width": 0.5
             },
             "pattern": {
              "fillmode": "overlay",
              "size": 10,
              "solidity": 0.2
             }
            },
            "type": "bar"
           }
          ],
          "barpolar": [
           {
            "marker": {
             "line": {
              "color": "#E5ECF6",
              "width": 0.5
             },
             "pattern": {
              "fillmode": "overlay",
              "size": 10,
              "solidity": 0.2
             }
            },
            "type": "barpolar"
           }
          ],
          "carpet": [
           {
            "aaxis": {
             "endlinecolor": "#2a3f5f",
             "gridcolor": "white",
             "linecolor": "white",
             "minorgridcolor": "white",
             "startlinecolor": "#2a3f5f"
            },
            "baxis": {
             "endlinecolor": "#2a3f5f",
             "gridcolor": "white",
             "linecolor": "white",
             "minorgridcolor": "white",
             "startlinecolor": "#2a3f5f"
            },
            "type": "carpet"
           }
          ],
          "choropleth": [
           {
            "colorbar": {
             "outlinewidth": 0,
             "ticks": ""
            },
            "type": "choropleth"
           }
          ],
          "contour": [
           {
            "colorbar": {
             "outlinewidth": 0,
             "ticks": ""
            },
            "colorscale": [
             [
              0,
              "#0d0887"
             ],
             [
              0.1111111111111111,
              "#46039f"
             ],
             [
              0.2222222222222222,
              "#7201a8"
             ],
             [
              0.3333333333333333,
              "#9c179e"
             ],
             [
              0.4444444444444444,
              "#bd3786"
             ],
             [
              0.5555555555555556,
              "#d8576b"
             ],
             [
              0.6666666666666666,
              "#ed7953"
             ],
             [
              0.7777777777777778,
              "#fb9f3a"
             ],
             [
              0.8888888888888888,
              "#fdca26"
             ],
             [
              1,
              "#f0f921"
             ]
            ],
            "type": "contour"
           }
          ],
          "contourcarpet": [
           {
            "colorbar": {
             "outlinewidth": 0,
             "ticks": ""
            },
            "type": "contourcarpet"
           }
          ],
          "heatmap": [
           {
            "colorbar": {
             "outlinewidth": 0,
             "ticks": ""
            },
            "colorscale": [
             [
              0,
              "#0d0887"
             ],
             [
              0.1111111111111111,
              "#46039f"
             ],
             [
              0.2222222222222222,
              "#7201a8"
             ],
             [
              0.3333333333333333,
              "#9c179e"
             ],
             [
              0.4444444444444444,
              "#bd3786"
             ],
             [
              0.5555555555555556,
              "#d8576b"
             ],
             [
              0.6666666666666666,
              "#ed7953"
             ],
             [
              0.7777777777777778,
              "#fb9f3a"
             ],
             [
              0.8888888888888888,
              "#fdca26"
             ],
             [
              1,
              "#f0f921"
             ]
            ],
            "type": "heatmap"
           }
          ],
          "histogram": [
           {
            "marker": {
             "pattern": {
              "fillmode": "overlay",
              "size": 10,
              "solidity": 0.2
             }
            },
            "type": "histogram"
           }
          ],
          "histogram2d": [
           {
            "colorbar": {
             "outlinewidth": 0,
             "ticks": ""
            },
            "colorscale": [
             [
              0,
              "#0d0887"
             ],
             [
              0.1111111111111111,
              "#46039f"
             ],
             [
              0.2222222222222222,
              "#7201a8"
             ],
             [
              0.3333333333333333,
              "#9c179e"
             ],
             [
              0.4444444444444444,
              "#bd3786"
             ],
             [
              0.5555555555555556,
              "#d8576b"
             ],
             [
              0.6666666666666666,
              "#ed7953"
             ],
             [
              0.7777777777777778,
              "#fb9f3a"
             ],
             [
              0.8888888888888888,
              "#fdca26"
             ],
             [
              1,
              "#f0f921"
             ]
            ],
            "type": "histogram2d"
           }
          ],
          "histogram2dcontour": [
           {
            "colorbar": {
             "outlinewidth": 0,
             "ticks": ""
            },
            "colorscale": [
             [
              0,
              "#0d0887"
             ],
             [
              0.1111111111111111,
              "#46039f"
             ],
             [
              0.2222222222222222,
              "#7201a8"
             ],
             [
              0.3333333333333333,
              "#9c179e"
             ],
             [
              0.4444444444444444,
              "#bd3786"
             ],
             [
              0.5555555555555556,
              "#d8576b"
             ],
             [
              0.6666666666666666,
              "#ed7953"
             ],
             [
              0.7777777777777778,
              "#fb9f3a"
             ],
             [
              0.8888888888888888,
              "#fdca26"
             ],
             [
              1,
              "#f0f921"
             ]
            ],
            "type": "histogram2dcontour"
           }
          ],
          "mesh3d": [
           {
            "colorbar": {
             "outlinewidth": 0,
             "ticks": ""
            },
            "type": "mesh3d"
           }
          ],
          "parcoords": [
           {
            "line": {
             "colorbar": {
              "outlinewidth": 0,
              "ticks": ""
             }
            },
            "type": "parcoords"
           }
          ],
          "pie": [
           {
            "automargin": true,
            "type": "pie"
           }
          ],
          "scatter": [
           {
            "fillpattern": {
             "fillmode": "overlay",
             "size": 10,
             "solidity": 0.2
            },
            "type": "scatter"
           }
          ],
          "scatter3d": [
           {
            "line": {
             "colorbar": {
              "outlinewidth": 0,
              "ticks": ""
             }
            },
            "marker": {
             "colorbar": {
              "outlinewidth": 0,
              "ticks": ""
             }
            },
            "type": "scatter3d"
           }
          ],
          "scattercarpet": [
           {
            "marker": {
             "colorbar": {
              "outlinewidth": 0,
              "ticks": ""
             }
            },
            "type": "scattercarpet"
           }
          ],
          "scattergeo": [
           {
            "marker": {
             "colorbar": {
              "outlinewidth": 0,
              "ticks": ""
             }
            },
            "type": "scattergeo"
           }
          ],
          "scattergl": [
           {
            "marker": {
             "colorbar": {
              "outlinewidth": 0,
              "ticks": ""
             }
            },
            "type": "scattergl"
           }
          ],
          "scattermap": [
           {
            "marker": {
             "colorbar": {
              "outlinewidth": 0,
              "ticks": ""
             }
            },
            "type": "scattermap"
           }
          ],
          "scattermapbox": [
           {
            "marker": {
             "colorbar": {
              "outlinewidth": 0,
              "ticks": ""
             }
            },
            "type": "scattermapbox"
           }
          ],
          "scatterpolar": [
           {
            "marker": {
             "colorbar": {
              "outlinewidth": 0,
              "ticks": ""
             }
            },
            "type": "scatterpolar"
           }
          ],
          "scatterpolargl": [
           {
            "marker": {
             "colorbar": {
              "outlinewidth": 0,
              "ticks": ""
             }
            },
            "type": "scatterpolargl"
           }
          ],
          "scatterternary": [
           {
            "marker": {
             "colorbar": {
              "outlinewidth": 0,
              "ticks": ""
             }
            },
            "type": "scatterternary"
           }
          ],
          "surface": [
           {
            "colorbar": {
             "outlinewidth": 0,
             "ticks": ""
            },
            "colorscale": [
             [
              0,
              "#0d0887"
             ],
             [
              0.1111111111111111,
              "#46039f"
             ],
             [
              0.2222222222222222,
              "#7201a8"
             ],
             [
              0.3333333333333333,
              "#9c179e"
             ],
             [
              0.4444444444444444,
              "#bd3786"
             ],
             [
              0.5555555555555556,
              "#d8576b"
             ],
             [
              0.6666666666666666,
              "#ed7953"
             ],
             [
              0.7777777777777778,
              "#fb9f3a"
             ],
             [
              0.8888888888888888,
              "#fdca26"
             ],
             [
              1,
              "#f0f921"
             ]
            ],
            "type": "surface"
           }
          ],
          "table": [
           {
            "cells": {
             "fill": {
              "color": "#EBF0F8"
             },
             "line": {
              "color": "white"
             }
            },
            "header": {
             "fill": {
              "color": "#C8D4E3"
             },
             "line": {
              "color": "white"
             }
            },
            "type": "table"
           }
          ]
         },
         "layout": {
          "annotationdefaults": {
           "arrowcolor": "#2a3f5f",
           "arrowhead": 0,
           "arrowwidth": 1
          },
          "autotypenumbers": "strict",
          "coloraxis": {
           "colorbar": {
            "outlinewidth": 0,
            "ticks": ""
           }
          },
          "colorscale": {
           "diverging": [
            [
             0,
             "#8e0152"
            ],
            [
             0.1,
             "#c51b7d"
            ],
            [
             0.2,
             "#de77ae"
            ],
            [
             0.3,
             "#f1b6da"
            ],
            [
             0.4,
             "#fde0ef"
            ],
            [
             0.5,
             "#f7f7f7"
            ],
            [
             0.6,
             "#e6f5d0"
            ],
            [
             0.7,
             "#b8e186"
            ],
            [
             0.8,
             "#7fbc41"
            ],
            [
             0.9,
             "#4d9221"
            ],
            [
             1,
             "#276419"
            ]
           ],
           "sequential": [
            [
             0,
             "#0d0887"
            ],
            [
             0.1111111111111111,
             "#46039f"
            ],
            [
             0.2222222222222222,
             "#7201a8"
            ],
            [
             0.3333333333333333,
             "#9c179e"
            ],
            [
             0.4444444444444444,
             "#bd3786"
            ],
            [
             0.5555555555555556,
             "#d8576b"
            ],
            [
             0.6666666666666666,
             "#ed7953"
            ],
            [
             0.7777777777777778,
             "#fb9f3a"
            ],
            [
             0.8888888888888888,
             "#fdca26"
            ],
            [
             1,
             "#f0f921"
            ]
           ],
           "sequentialminus": [
            [
             0,
             "#0d0887"
            ],
            [
             0.1111111111111111,
             "#46039f"
            ],
            [
             0.2222222222222222,
             "#7201a8"
            ],
            [
             0.3333333333333333,
             "#9c179e"
            ],
            [
             0.4444444444444444,
             "#bd3786"
            ],
            [
             0.5555555555555556,
             "#d8576b"
            ],
            [
             0.6666666666666666,
             "#ed7953"
            ],
            [
             0.7777777777777778,
             "#fb9f3a"
            ],
            [
             0.8888888888888888,
             "#fdca26"
            ],
            [
             1,
             "#f0f921"
            ]
           ]
          },
          "colorway": [
           "#636efa",
           "#EF553B",
           "#00cc96",
           "#ab63fa",
           "#FFA15A",
           "#19d3f3",
           "#FF6692",
           "#B6E880",
           "#FF97FF",
           "#FECB52"
          ],
          "font": {
           "color": "#2a3f5f"
          },
          "geo": {
           "bgcolor": "white",
           "lakecolor": "white",
           "landcolor": "#E5ECF6",
           "showlakes": true,
           "showland": true,
           "subunitcolor": "white"
          },
          "hoverlabel": {
           "align": "left"
          },
          "hovermode": "closest",
          "mapbox": {
           "style": "light"
          },
          "paper_bgcolor": "white",
          "plot_bgcolor": "#E5ECF6",
          "polar": {
           "angularaxis": {
            "gridcolor": "white",
            "linecolor": "white",
            "ticks": ""
           },
           "bgcolor": "#E5ECF6",
           "radialaxis": {
            "gridcolor": "white",
            "linecolor": "white",
            "ticks": ""
           }
          },
          "scene": {
           "xaxis": {
            "backgroundcolor": "#E5ECF6",
            "gridcolor": "white",
            "gridwidth": 2,
            "linecolor": "white",
            "showbackground": true,
            "ticks": "",
            "zerolinecolor": "white"
           },
           "yaxis": {
            "backgroundcolor": "#E5ECF6",
            "gridcolor": "white",
            "gridwidth": 2,
            "linecolor": "white",
            "showbackground": true,
            "ticks": "",
            "zerolinecolor": "white"
           },
           "zaxis": {
            "backgroundcolor": "#E5ECF6",
            "gridcolor": "white",
            "gridwidth": 2,
            "linecolor": "white",
            "showbackground": true,
            "ticks": "",
            "zerolinecolor": "white"
           }
          },
          "shapedefaults": {
           "line": {
            "color": "#2a3f5f"
           }
          },
          "ternary": {
           "aaxis": {
            "gridcolor": "white",
            "linecolor": "white",
            "ticks": ""
           },
           "baxis": {
            "gridcolor": "white",
            "linecolor": "white",
            "ticks": ""
           },
           "bgcolor": "#E5ECF6",
           "caxis": {
            "gridcolor": "white",
            "linecolor": "white",
            "ticks": ""
           }
          },
          "title": {
           "x": 0.05
          },
          "xaxis": {
           "automargin": true,
           "gridcolor": "white",
           "linecolor": "white",
           "ticks": "",
           "title": {
            "standoff": 15
           },
           "zerolinecolor": "white",
           "zerolinewidth": 2
          },
          "yaxis": {
           "automargin": true,
           "gridcolor": "white",
           "linecolor": "white",
           "ticks": "",
           "title": {
            "standoff": 15
           },
           "zerolinecolor": "white",
           "zerolinewidth": 2
          }
         }
        }
       }
      }
     },
     "metadata": {},
     "output_type": "display_data"
    }
   ],
   "source": [
    "x_samples_wire, y_samples_wire, z_samples_wire, Bx_samples_wire, By_samples_wire, Bz_samples_wire = sample_field(\n",
    "    x_wire, y_wire, z_wire, fields_x_wire, fields_y_wire, fields_z_wire, n_samples=500\n",
    ")\n",
    "plotter.plotter(x_samples_wire, y_samples_wire, z_samples_wire, Bx_samples_wire, By_samples_wire, Bz_samples_wire)"
   ]
  },
  {
   "cell_type": "code",
   "execution_count": 25,
   "metadata": {},
   "outputs": [
    {
     "data": {
      "application/vnd.plotly.v1+json": {
       "config": {
        "plotlyServerURL": "https://plot.ly"
       },
       "data": [
        {
         "anchor": "tail",
         "sizemode": "scaled",
         "sizeref": 2,
         "type": "cone",
         "u": {
          "bdata": "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",
          "dtype": "f8"
         },
         "v": {
          "bdata": "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",
          "dtype": "f8"
         },
         "w": {
          "bdata": "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",
          "dtype": "f8"
         },
         "x": {
          "bdata": "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",
          "dtype": "f8"
         },
         "y": {
          "bdata": "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",
          "dtype": "f8"
         },
         "z": {
          "bdata": "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",
          "dtype": "f8"
         }
        }
       ],
       "layout": {
        "scene": {
         "xaxis": {
          "title": {
           "text": "X"
          }
         },
         "yaxis": {
          "title": {
           "text": "Y"
          }
         },
         "zaxis": {
          "title": {
           "text": "Z"
          }
         }
        },
        "template": {
         "data": {
          "bar": [
           {
            "error_x": {
             "color": "#2a3f5f"
            },
            "error_y": {
             "color": "#2a3f5f"
            },
            "marker": {
             "line": {
              "color": "#E5ECF6",
              "width": 0.5
             },
             "pattern": {
              "fillmode": "overlay",
              "size": 10,
              "solidity": 0.2
             }
            },
            "type": "bar"
           }
          ],
          "barpolar": [
           {
            "marker": {
             "line": {
              "color": "#E5ECF6",
              "width": 0.5
             },
             "pattern": {
              "fillmode": "overlay",
              "size": 10,
              "solidity": 0.2
             }
            },
            "type": "barpolar"
           }
          ],
          "carpet": [
           {
            "aaxis": {
             "endlinecolor": "#2a3f5f",
             "gridcolor": "white",
             "linecolor": "white",
             "minorgridcolor": "white",
             "startlinecolor": "#2a3f5f"
            },
            "baxis": {
             "endlinecolor": "#2a3f5f",
             "gridcolor": "white",
             "linecolor": "white",
             "minorgridcolor": "white",
             "startlinecolor": "#2a3f5f"
            },
            "type": "carpet"
           }
          ],
          "choropleth": [
           {
            "colorbar": {
             "outlinewidth": 0,
             "ticks": ""
            },
            "type": "choropleth"
           }
          ],
          "contour": [
           {
            "colorbar": {
             "outlinewidth": 0,
             "ticks": ""
            },
            "colorscale": [
             [
              0,
              "#0d0887"
             ],
             [
              0.1111111111111111,
              "#46039f"
             ],
             [
              0.2222222222222222,
              "#7201a8"
             ],
             [
              0.3333333333333333,
              "#9c179e"
             ],
             [
              0.4444444444444444,
              "#bd3786"
             ],
             [
              0.5555555555555556,
              "#d8576b"
             ],
             [
              0.6666666666666666,
              "#ed7953"
             ],
             [
              0.7777777777777778,
              "#fb9f3a"
             ],
             [
              0.8888888888888888,
              "#fdca26"
             ],
             [
              1,
              "#f0f921"
             ]
            ],
            "type": "contour"
           }
          ],
          "contourcarpet": [
           {
            "colorbar": {
             "outlinewidth": 0,
             "ticks": ""
            },
            "type": "contourcarpet"
           }
          ],
          "heatmap": [
           {
            "colorbar": {
             "outlinewidth": 0,
             "ticks": ""
            },
            "colorscale": [
             [
              0,
              "#0d0887"
             ],
             [
              0.1111111111111111,
              "#46039f"
             ],
             [
              0.2222222222222222,
              "#7201a8"
             ],
             [
              0.3333333333333333,
              "#9c179e"
             ],
             [
              0.4444444444444444,
              "#bd3786"
             ],
             [
              0.5555555555555556,
              "#d8576b"
             ],
             [
              0.6666666666666666,
              "#ed7953"
             ],
             [
              0.7777777777777778,
              "#fb9f3a"
             ],
             [
              0.8888888888888888,
              "#fdca26"
             ],
             [
              1,
              "#f0f921"
             ]
            ],
            "type": "heatmap"
           }
          ],
          "histogram": [
           {
            "marker": {
             "pattern": {
              "fillmode": "overlay",
              "size": 10,
              "solidity": 0.2
             }
            },
            "type": "histogram"
           }
          ],
          "histogram2d": [
           {
            "colorbar": {
             "outlinewidth": 0,
             "ticks": ""
            },
            "colorscale": [
             [
              0,
              "#0d0887"
             ],
             [
              0.1111111111111111,
              "#46039f"
             ],
             [
              0.2222222222222222,
              "#7201a8"
             ],
             [
              0.3333333333333333,
              "#9c179e"
             ],
             [
              0.4444444444444444,
              "#bd3786"
             ],
             [
              0.5555555555555556,
              "#d8576b"
             ],
             [
              0.6666666666666666,
              "#ed7953"
             ],
             [
              0.7777777777777778,
              "#fb9f3a"
             ],
             [
              0.8888888888888888,
              "#fdca26"
             ],
             [
              1,
              "#f0f921"
             ]
            ],
            "type": "histogram2d"
           }
          ],
          "histogram2dcontour": [
           {
            "colorbar": {
             "outlinewidth": 0,
             "ticks": ""
            },
            "colorscale": [
             [
              0,
              "#0d0887"
             ],
             [
              0.1111111111111111,
              "#46039f"
             ],
             [
              0.2222222222222222,
              "#7201a8"
             ],
             [
              0.3333333333333333,
              "#9c179e"
             ],
             [
              0.4444444444444444,
              "#bd3786"
             ],
             [
              0.5555555555555556,
              "#d8576b"
             ],
             [
              0.6666666666666666,
              "#ed7953"
             ],
             [
              0.7777777777777778,
              "#fb9f3a"
             ],
             [
              0.8888888888888888,
              "#fdca26"
             ],
             [
              1,
              "#f0f921"
             ]
            ],
            "type": "histogram2dcontour"
           }
          ],
          "mesh3d": [
           {
            "colorbar": {
             "outlinewidth": 0,
             "ticks": ""
            },
            "type": "mesh3d"
           }
          ],
          "parcoords": [
           {
            "line": {
             "colorbar": {
              "outlinewidth": 0,
              "ticks": ""
             }
            },
            "type": "parcoords"
           }
          ],
          "pie": [
           {
            "automargin": true,
            "type": "pie"
           }
          ],
          "scatter": [
           {
            "fillpattern": {
             "fillmode": "overlay",
             "size": 10,
             "solidity": 0.2
            },
            "type": "scatter"
           }
          ],
          "scatter3d": [
           {
            "line": {
             "colorbar": {
              "outlinewidth": 0,
              "ticks": ""
             }
            },
            "marker": {
             "colorbar": {
              "outlinewidth": 0,
              "ticks": ""
             }
            },
            "type": "scatter3d"
           }
          ],
          "scattercarpet": [
           {
            "marker": {
             "colorbar": {
              "outlinewidth": 0,
              "ticks": ""
             }
            },
            "type": "scattercarpet"
           }
          ],
          "scattergeo": [
           {
            "marker": {
             "colorbar": {
              "outlinewidth": 0,
              "ticks": ""
             }
            },
            "type": "scattergeo"
           }
          ],
          "scattergl": [
           {
            "marker": {
             "colorbar": {
              "outlinewidth": 0,
              "ticks": ""
             }
            },
            "type": "scattergl"
           }
          ],
          "scattermap": [
           {
            "marker": {
             "colorbar": {
              "outlinewidth": 0,
              "ticks": ""
             }
            },
            "type": "scattermap"
           }
          ],
          "scattermapbox": [
           {
            "marker": {
             "colorbar": {
              "outlinewidth": 0,
              "ticks": ""
             }
            },
            "type": "scattermapbox"
           }
          ],
          "scatterpolar": [
           {
            "marker": {
             "colorbar": {
              "outlinewidth": 0,
              "ticks": ""
             }
            },
            "type": "scatterpolar"
           }
          ],
          "scatterpolargl": [
           {
            "marker": {
             "colorbar": {
              "outlinewidth": 0,
              "ticks": ""
             }
            },
            "type": "scatterpolargl"
           }
          ],
          "scatterternary": [
           {
            "marker": {
             "colorbar": {
              "outlinewidth": 0,
              "ticks": ""
             }
            },
            "type": "scatterternary"
           }
          ],
          "surface": [
           {
            "colorbar": {
             "outlinewidth": 0,
             "ticks": ""
            },
            "colorscale": [
             [
              0,
              "#0d0887"
             ],
             [
              0.1111111111111111,
              "#46039f"
             ],
             [
              0.2222222222222222,
              "#7201a8"
             ],
             [
              0.3333333333333333,
              "#9c179e"
             ],
             [
              0.4444444444444444,
              "#bd3786"
             ],
             [
              0.5555555555555556,
              "#d8576b"
             ],
             [
              0.6666666666666666,
              "#ed7953"
             ],
             [
              0.7777777777777778,
              "#fb9f3a"
             ],
             [
              0.8888888888888888,
              "#fdca26"
             ],
             [
              1,
              "#f0f921"
             ]
            ],
            "type": "surface"
           }
          ],
          "table": [
           {
            "cells": {
             "fill": {
              "color": "#EBF0F8"
             },
             "line": {
              "color": "white"
             }
            },
            "header": {
             "fill": {
              "color": "#C8D4E3"
             },
             "line": {
              "color": "white"
             }
            },
            "type": "table"
           }
          ]
         },
         "layout": {
          "annotationdefaults": {
           "arrowcolor": "#2a3f5f",
           "arrowhead": 0,
           "arrowwidth": 1
          },
          "autotypenumbers": "strict",
          "coloraxis": {
           "colorbar": {
            "outlinewidth": 0,
            "ticks": ""
           }
          },
          "colorscale": {
           "diverging": [
            [
             0,
             "#8e0152"
            ],
            [
             0.1,
             "#c51b7d"
            ],
            [
             0.2,
             "#de77ae"
            ],
            [
             0.3,
             "#f1b6da"
            ],
            [
             0.4,
             "#fde0ef"
            ],
            [
             0.5,
             "#f7f7f7"
            ],
            [
             0.6,
             "#e6f5d0"
            ],
            [
             0.7,
             "#b8e186"
            ],
            [
             0.8,
             "#7fbc41"
            ],
            [
             0.9,
             "#4d9221"
            ],
            [
             1,
             "#276419"
            ]
           ],
           "sequential": [
            [
             0,
             "#0d0887"
            ],
            [
             0.1111111111111111,
             "#46039f"
            ],
            [
             0.2222222222222222,
             "#7201a8"
            ],
            [
             0.3333333333333333,
             "#9c179e"
            ],
            [
             0.4444444444444444,
             "#bd3786"
            ],
            [
             0.5555555555555556,
             "#d8576b"
            ],
            [
             0.6666666666666666,
             "#ed7953"
            ],
            [
             0.7777777777777778,
             "#fb9f3a"
            ],
            [
             0.8888888888888888,
             "#fdca26"
            ],
            [
             1,
             "#f0f921"
            ]
           ],
           "sequentialminus": [
            [
             0,
             "#0d0887"
            ],
            [
             0.1111111111111111,
             "#46039f"
            ],
            [
             0.2222222222222222,
             "#7201a8"
            ],
            [
             0.3333333333333333,
             "#9c179e"
            ],
            [
             0.4444444444444444,
             "#bd3786"
            ],
            [
             0.5555555555555556,
             "#d8576b"
            ],
            [
             0.6666666666666666,
             "#ed7953"
            ],
            [
             0.7777777777777778,
             "#fb9f3a"
            ],
            [
             0.8888888888888888,
             "#fdca26"
            ],
            [
             1,
             "#f0f921"
            ]
           ]
          },
          "colorway": [
           "#636efa",
           "#EF553B",
           "#00cc96",
           "#ab63fa",
           "#FFA15A",
           "#19d3f3",
           "#FF6692",
           "#B6E880",
           "#FF97FF",
           "#FECB52"
          ],
          "font": {
           "color": "#2a3f5f"
          },
          "geo": {
           "bgcolor": "white",
           "lakecolor": "white",
           "landcolor": "#E5ECF6",
           "showlakes": true,
           "showland": true,
           "subunitcolor": "white"
          },
          "hoverlabel": {
           "align": "left"
          },
          "hovermode": "closest",
          "mapbox": {
           "style": "light"
          },
          "paper_bgcolor": "white",
          "plot_bgcolor": "#E5ECF6",
          "polar": {
           "angularaxis": {
            "gridcolor": "white",
            "linecolor": "white",
            "ticks": ""
           },
           "bgcolor": "#E5ECF6",
           "radialaxis": {
            "gridcolor": "white",
            "linecolor": "white",
            "ticks": ""
           }
          },
          "scene": {
           "xaxis": {
            "backgroundcolor": "#E5ECF6",
            "gridcolor": "white",
            "gridwidth": 2,
            "linecolor": "white",
            "showbackground": true,
            "ticks": "",
            "zerolinecolor": "white"
           },
           "yaxis": {
            "backgroundcolor": "#E5ECF6",
            "gridcolor": "white",
            "gridwidth": 2,
            "linecolor": "white",
            "showbackground": true,
            "ticks": "",
            "zerolinecolor": "white"
           },
           "zaxis": {
            "backgroundcolor": "#E5ECF6",
            "gridcolor": "white",
            "gridwidth": 2,
            "linecolor": "white",
            "showbackground": true,
            "ticks": "",
            "zerolinecolor": "white"
           }
          },
          "shapedefaults": {
           "line": {
            "color": "#2a3f5f"
           }
          },
          "ternary": {
           "aaxis": {
            "gridcolor": "white",
            "linecolor": "white",
            "ticks": ""
           },
           "baxis": {
            "gridcolor": "white",
            "linecolor": "white",
            "ticks": ""
           },
           "bgcolor": "#E5ECF6",
           "caxis": {
            "gridcolor": "white",
            "linecolor": "white",
            "ticks": ""
           }
          },
          "title": {
           "x": 0.05
          },
          "xaxis": {
           "automargin": true,
           "gridcolor": "white",
           "linecolor": "white",
           "ticks": "",
           "title": {
            "standoff": 15
           },
           "zerolinecolor": "white",
           "zerolinewidth": 2
          },
          "yaxis": {
           "automargin": true,
           "gridcolor": "white",
           "linecolor": "white",
           "ticks": "",
           "title": {
            "standoff": 15
           },
           "zerolinecolor": "white",
           "zerolinewidth": 2
          }
         }
        }
       }
      }
     },
     "metadata": {},
     "output_type": "display_data"
    }
   ],
   "source": [
    "x_samples_coil, y_samples_coil, z_samples_coil, Bx_samples_coil, By_samples_coil, Bz_samples_coil = sample_field(\n",
    "    x_coil, y_coil, z_coil, fields_x_coil, fields_y_coil, fields_z_coil, n_samples=500\n",
    ")\n",
    "plotter.plotter(x_samples_coil, y_samples_coil, z_samples_coil, Bx_samples_coil, By_samples_coil, Bz_samples_coil)"
   ]
  },
  {
   "cell_type": "markdown",
   "metadata": {},
   "source": [
    "### Performing Updates"
   ]
  },
  {
   "cell_type": "markdown",
   "metadata": {},
   "source": [
    "Next, we plug these points into the updater and see what happens "
   ]
  },
  {
   "cell_type": "code",
   "execution_count": 16,
   "metadata": {},
   "outputs": [],
   "source": [
    "from GP_Implementation.Kernel import updated_vector_field"
   ]
  },
  {
   "cell_type": "markdown",
   "metadata": {},
   "source": [
    "#### Divergence free"
   ]
  },
  {
   "cell_type": "code",
   "execution_count": 27,
   "metadata": {},
   "outputs": [],
   "source": [
    "outputs_wire_div_free= updated_vector_field(\n",
    "    x_samples_wire, y_samples_wire, z_samples_wire, \n",
    "    Bx_samples_wire, By_samples_wire, Bz_samples_wire, \n",
    "    x_wire, y_wire, z_wire, \n",
    "    kernel_func='divergence_free_kernel', \n",
    "    sigma_f = 0.01, l = 3)\n",
    "\n",
    "# unpack outputs \n",
    "updated_x_samples_wire_div_free =  outputs_wire_div_free[0]\n",
    "updated_y_samples_wire_div_free =  outputs_wire_div_free[1]\n",
    "updated_z_samples_wire_div_free =  outputs_wire_div_free[2]\n",
    "updated_Bx_samples_wire_div_free = outputs_wire_div_free[3]\n",
    "updated_By_samples_wire_div_free = outputs_wire_div_free[4]\n",
    "updated_Bz_samples_wire_div_free = outputs_wire_div_free[5]"
   ]
  },
  {
   "cell_type": "code",
   "execution_count": 28,
   "metadata": {},
   "outputs": [
    {
     "data": {
      "application/vnd.plotly.v1+json": {
       "config": {
        "plotlyServerURL": "https://plot.ly"
       },
       "data": [
        {
         "anchor": "tail",
         "sizemode": "scaled",
         "sizeref": 2,
         "type": "cone",
         "u": {
          "bdata": "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",
          "dtype": "f8"
         },
         "v": {
          "bdata": "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",
          "dtype": "f8"
         },
         "w": {
          "bdata": "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",
          "dtype": "f8"
         },
         "x": {
          "bdata": "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",
          "dtype": "f8"
         },
         "y": {
          "bdata": "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",
          "dtype": "f8"
         },
         "z": {
          "bdata": "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",
          "dtype": "f8"
         }
        }
       ],
       "layout": {
        "scene": {
         "xaxis": {
          "title": {
           "text": "X"
          }
         },
         "yaxis": {
          "title": {
           "text": "Y"
          }
         },
         "zaxis": {
          "title": {
           "text": "Z"
          }
         }
        },
        "template": {
         "data": {
          "bar": [
           {
            "error_x": {
             "color": "#2a3f5f"
            },
            "error_y": {
             "color": "#2a3f5f"
            },
            "marker": {
             "line": {
              "color": "#E5ECF6",
              "width": 0.5
             },
             "pattern": {
              "fillmode": "overlay",
              "size": 10,
              "solidity": 0.2
             }
            },
            "type": "bar"
           }
          ],
          "barpolar": [
           {
            "marker": {
             "line": {
              "color": "#E5ECF6",
              "width": 0.5
             },
             "pattern": {
              "fillmode": "overlay",
              "size": 10,
              "solidity": 0.2
             }
            },
            "type": "barpolar"
           }
          ],
          "carpet": [
           {
            "aaxis": {
             "endlinecolor": "#2a3f5f",
             "gridcolor": "white",
             "linecolor": "white",
             "minorgridcolor": "white",
             "startlinecolor": "#2a3f5f"
            },
            "baxis": {
             "endlinecolor": "#2a3f5f",
             "gridcolor": "white",
             "linecolor": "white",
             "minorgridcolor": "white",
             "startlinecolor": "#2a3f5f"
            },
            "type": "carpet"
           }
          ],
          "choropleth": [
           {
            "colorbar": {
             "outlinewidth": 0,
             "ticks": ""
            },
            "type": "choropleth"
           }
          ],
          "contour": [
           {
            "colorbar": {
             "outlinewidth": 0,
             "ticks": ""
            },
            "colorscale": [
             [
              0,
              "#0d0887"
             ],
             [
              0.1111111111111111,
              "#46039f"
             ],
             [
              0.2222222222222222,
              "#7201a8"
             ],
             [
              0.3333333333333333,
              "#9c179e"
             ],
             [
              0.4444444444444444,
              "#bd3786"
             ],
             [
              0.5555555555555556,
              "#d8576b"
             ],
             [
              0.6666666666666666,
              "#ed7953"
             ],
             [
              0.7777777777777778,
              "#fb9f3a"
             ],
             [
              0.8888888888888888,
              "#fdca26"
             ],
             [
              1,
              "#f0f921"
             ]
            ],
            "type": "contour"
           }
          ],
          "contourcarpet": [
           {
            "colorbar": {
             "outlinewidth": 0,
             "ticks": ""
            },
            "type": "contourcarpet"
           }
          ],
          "heatmap": [
           {
            "colorbar": {
             "outlinewidth": 0,
             "ticks": ""
            },
            "colorscale": [
             [
              0,
              "#0d0887"
             ],
             [
              0.1111111111111111,
              "#46039f"
             ],
             [
              0.2222222222222222,
              "#7201a8"
             ],
             [
              0.3333333333333333,
              "#9c179e"
             ],
             [
              0.4444444444444444,
              "#bd3786"
             ],
             [
              0.5555555555555556,
              "#d8576b"
             ],
             [
              0.6666666666666666,
              "#ed7953"
             ],
             [
              0.7777777777777778,
              "#fb9f3a"
             ],
             [
              0.8888888888888888,
              "#fdca26"
             ],
             [
              1,
              "#f0f921"
             ]
            ],
            "type": "heatmap"
           }
          ],
          "histogram": [
           {
            "marker": {
             "pattern": {
              "fillmode": "overlay",
              "size": 10,
              "solidity": 0.2
             }
            },
            "type": "histogram"
           }
          ],
          "histogram2d": [
           {
            "colorbar": {
             "outlinewidth": 0,
             "ticks": ""
            },
            "colorscale": [
             [
              0,
              "#0d0887"
             ],
             [
              0.1111111111111111,
              "#46039f"
             ],
             [
              0.2222222222222222,
              "#7201a8"
             ],
             [
              0.3333333333333333,
              "#9c179e"
             ],
             [
              0.4444444444444444,
              "#bd3786"
             ],
             [
              0.5555555555555556,
              "#d8576b"
             ],
             [
              0.6666666666666666,
              "#ed7953"
             ],
             [
              0.7777777777777778,
              "#fb9f3a"
             ],
             [
              0.8888888888888888,
              "#fdca26"
             ],
             [
              1,
              "#f0f921"
             ]
            ],
            "type": "histogram2d"
           }
          ],
          "histogram2dcontour": [
           {
            "colorbar": {
             "outlinewidth": 0,
             "ticks": ""
            },
            "colorscale": [
             [
              0,
              "#0d0887"
             ],
             [
              0.1111111111111111,
              "#46039f"
             ],
             [
              0.2222222222222222,
              "#7201a8"
             ],
             [
              0.3333333333333333,
              "#9c179e"
             ],
             [
              0.4444444444444444,
              "#bd3786"
             ],
             [
              0.5555555555555556,
              "#d8576b"
             ],
             [
              0.6666666666666666,
              "#ed7953"
             ],
             [
              0.7777777777777778,
              "#fb9f3a"
             ],
             [
              0.8888888888888888,
              "#fdca26"
             ],
             [
              1,
              "#f0f921"
             ]
            ],
            "type": "histogram2dcontour"
           }
          ],
          "mesh3d": [
           {
            "colorbar": {
             "outlinewidth": 0,
             "ticks": ""
            },
            "type": "mesh3d"
           }
          ],
          "parcoords": [
           {
            "line": {
             "colorbar": {
              "outlinewidth": 0,
              "ticks": ""
             }
            },
            "type": "parcoords"
           }
          ],
          "pie": [
           {
            "automargin": true,
            "type": "pie"
           }
          ],
          "scatter": [
           {
            "fillpattern": {
             "fillmode": "overlay",
             "size": 10,
             "solidity": 0.2
            },
            "type": "scatter"
           }
          ],
          "scatter3d": [
           {
            "line": {
             "colorbar": {
              "outlinewidth": 0,
              "ticks": ""
             }
            },
            "marker": {
             "colorbar": {
              "outlinewidth": 0,
              "ticks": ""
             }
            },
            "type": "scatter3d"
           }
          ],
          "scattercarpet": [
           {
            "marker": {
             "colorbar": {
              "outlinewidth": 0,
              "ticks": ""
             }
            },
            "type": "scattercarpet"
           }
          ],
          "scattergeo": [
           {
            "marker": {
             "colorbar": {
              "outlinewidth": 0,
              "ticks": ""
             }
            },
            "type": "scattergeo"
           }
          ],
          "scattergl": [
           {
            "marker": {
             "colorbar": {
              "outlinewidth": 0,
              "ticks": ""
             }
            },
            "type": "scattergl"
           }
          ],
          "scattermap": [
           {
            "marker": {
             "colorbar": {
              "outlinewidth": 0,
              "ticks": ""
             }
            },
            "type": "scattermap"
           }
          ],
          "scattermapbox": [
           {
            "marker": {
             "colorbar": {
              "outlinewidth": 0,
              "ticks": ""
             }
            },
            "type": "scattermapbox"
           }
          ],
          "scatterpolar": [
           {
            "marker": {
             "colorbar": {
              "outlinewidth": 0,
              "ticks": ""
             }
            },
            "type": "scatterpolar"
           }
          ],
          "scatterpolargl": [
           {
            "marker": {
             "colorbar": {
              "outlinewidth": 0,
              "ticks": ""
             }
            },
            "type": "scatterpolargl"
           }
          ],
          "scatterternary": [
           {
            "marker": {
             "colorbar": {
              "outlinewidth": 0,
              "ticks": ""
             }
            },
            "type": "scatterternary"
           }
          ],
          "surface": [
           {
            "colorbar": {
             "outlinewidth": 0,
             "ticks": ""
            },
            "colorscale": [
             [
              0,
              "#0d0887"
             ],
             [
              0.1111111111111111,
              "#46039f"
             ],
             [
              0.2222222222222222,
              "#7201a8"
             ],
             [
              0.3333333333333333,
              "#9c179e"
             ],
             [
              0.4444444444444444,
              "#bd3786"
             ],
             [
              0.5555555555555556,
              "#d8576b"
             ],
             [
              0.6666666666666666,
              "#ed7953"
             ],
             [
              0.7777777777777778,
              "#fb9f3a"
             ],
             [
              0.8888888888888888,
              "#fdca26"
             ],
             [
              1,
              "#f0f921"
             ]
            ],
            "type": "surface"
           }
          ],
          "table": [
           {
            "cells": {
             "fill": {
              "color": "#EBF0F8"
             },
             "line": {
              "color": "white"
             }
            },
            "header": {
             "fill": {
              "color": "#C8D4E3"
             },
             "line": {
              "color": "white"
             }
            },
            "type": "table"
           }
          ]
         },
         "layout": {
          "annotationdefaults": {
           "arrowcolor": "#2a3f5f",
           "arrowhead": 0,
           "arrowwidth": 1
          },
          "autotypenumbers": "strict",
          "coloraxis": {
           "colorbar": {
            "outlinewidth": 0,
            "ticks": ""
           }
          },
          "colorscale": {
           "diverging": [
            [
             0,
             "#8e0152"
            ],
            [
             0.1,
             "#c51b7d"
            ],
            [
             0.2,
             "#de77ae"
            ],
            [
             0.3,
             "#f1b6da"
            ],
            [
             0.4,
             "#fde0ef"
            ],
            [
             0.5,
             "#f7f7f7"
            ],
            [
             0.6,
             "#e6f5d0"
            ],
            [
             0.7,
             "#b8e186"
            ],
            [
             0.8,
             "#7fbc41"
            ],
            [
             0.9,
             "#4d9221"
            ],
            [
             1,
             "#276419"
            ]
           ],
           "sequential": [
            [
             0,
             "#0d0887"
            ],
            [
             0.1111111111111111,
             "#46039f"
            ],
            [
             0.2222222222222222,
             "#7201a8"
            ],
            [
             0.3333333333333333,
             "#9c179e"
            ],
            [
             0.4444444444444444,
             "#bd3786"
            ],
            [
             0.5555555555555556,
             "#d8576b"
            ],
            [
             0.6666666666666666,
             "#ed7953"
            ],
            [
             0.7777777777777778,
             "#fb9f3a"
            ],
            [
             0.8888888888888888,
             "#fdca26"
            ],
            [
             1,
             "#f0f921"
            ]
           ],
           "sequentialminus": [
            [
             0,
             "#0d0887"
            ],
            [
             0.1111111111111111,
             "#46039f"
            ],
            [
             0.2222222222222222,
             "#7201a8"
            ],
            [
             0.3333333333333333,
             "#9c179e"
            ],
            [
             0.4444444444444444,
             "#bd3786"
            ],
            [
             0.5555555555555556,
             "#d8576b"
            ],
            [
             0.6666666666666666,
             "#ed7953"
            ],
            [
             0.7777777777777778,
             "#fb9f3a"
            ],
            [
             0.8888888888888888,
             "#fdca26"
            ],
            [
             1,
             "#f0f921"
            ]
           ]
          },
          "colorway": [
           "#636efa",
           "#EF553B",
           "#00cc96",
           "#ab63fa",
           "#FFA15A",
           "#19d3f3",
           "#FF6692",
           "#B6E880",
           "#FF97FF",
           "#FECB52"
          ],
          "font": {
           "color": "#2a3f5f"
          },
          "geo": {
           "bgcolor": "white",
           "lakecolor": "white",
           "landcolor": "#E5ECF6",
           "showlakes": true,
           "showland": true,
           "subunitcolor": "white"
          },
          "hoverlabel": {
           "align": "left"
          },
          "hovermode": "closest",
          "mapbox": {
           "style": "light"
          },
          "paper_bgcolor": "white",
          "plot_bgcolor": "#E5ECF6",
          "polar": {
           "angularaxis": {
            "gridcolor": "white",
            "linecolor": "white",
            "ticks": ""
           },
           "bgcolor": "#E5ECF6",
           "radialaxis": {
            "gridcolor": "white",
            "linecolor": "white",
            "ticks": ""
           }
          },
          "scene": {
           "xaxis": {
            "backgroundcolor": "#E5ECF6",
            "gridcolor": "white",
            "gridwidth": 2,
            "linecolor": "white",
            "showbackground": true,
            "ticks": "",
            "zerolinecolor": "white"
           },
           "yaxis": {
            "backgroundcolor": "#E5ECF6",
            "gridcolor": "white",
            "gridwidth": 2,
            "linecolor": "white",
            "showbackground": true,
            "ticks": "",
            "zerolinecolor": "white"
           },
           "zaxis": {
            "backgroundcolor": "#E5ECF6",
            "gridcolor": "white",
            "gridwidth": 2,
            "linecolor": "white",
            "showbackground": true,
            "ticks": "",
            "zerolinecolor": "white"
           }
          },
          "shapedefaults": {
           "line": {
            "color": "#2a3f5f"
           }
          },
          "ternary": {
           "aaxis": {
            "gridcolor": "white",
            "linecolor": "white",
            "ticks": ""
           },
           "baxis": {
            "gridcolor": "white",
            "linecolor": "white",
            "ticks": ""
           },
           "bgcolor": "#E5ECF6",
           "caxis": {
            "gridcolor": "white",
            "linecolor": "white",
            "ticks": ""
           }
          },
          "title": {
           "x": 0.05
          },
          "xaxis": {
           "automargin": true,
           "gridcolor": "white",
           "linecolor": "white",
           "ticks": "",
           "title": {
            "standoff": 15
           },
           "zerolinecolor": "white",
           "zerolinewidth": 2
          },
          "yaxis": {
           "automargin": true,
           "gridcolor": "white",
           "linecolor": "white",
           "ticks": "",
           "title": {
            "standoff": 15
           },
           "zerolinecolor": "white",
           "zerolinewidth": 2
          }
         }
        }
       }
      }
     },
     "metadata": {},
     "output_type": "display_data"
    }
   ],
   "source": [
    "plotter.plotter(updated_x_samples_wire_div_free, updated_y_samples_wire_div_free, updated_z_samples_wire_div_free, \n",
    "                updated_Bx_samples_wire_div_free, updated_By_samples_wire_div_free, updated_Bz_samples_wire_div_free)"
   ]
  },
  {
   "cell_type": "code",
   "execution_count": 29,
   "metadata": {},
   "outputs": [],
   "source": [
    "outputs_coil_div_free = updated_vector_field(\n",
    "    x_samples_coil, y_samples_coil, z_samples_coil, \n",
    "    Bx_samples_coil, By_samples_coil, Bz_samples_coil, \n",
    "    x_coil, y_coil, z_coil, \n",
    "    kernel_func='divergence_free_kernel', \n",
    "    sigma_f = 0.01, l = 3)\n",
    "\n",
    "# unpack outputs\n",
    "updated_x_samples_coil_div_free  = outputs_coil_div_free[0]\n",
    "updated_y_samples_coil_div_free  = outputs_coil_div_free[1]\n",
    "updated_z_samples_coil_div_free  = outputs_coil_div_free[2]\n",
    "updated_Bx_samples_coil_div_free = outputs_coil_div_free[3]\n",
    "updated_By_samples_coil_div_free = outputs_coil_div_free[4]\n",
    "updated_Bz_samples_coil_div_free = outputs_coil_div_free[5]"
   ]
  },
  {
   "cell_type": "code",
   "execution_count": 30,
   "metadata": {},
   "outputs": [
    {
     "data": {
      "application/vnd.plotly.v1+json": {
       "config": {
        "plotlyServerURL": "https://plot.ly"
       },
       "data": [
        {
         "anchor": "tail",
         "sizemode": "scaled",
         "sizeref": 2,
         "type": "cone",
         "u": {
          "bdata": "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",
          "dtype": "f8"
         },
         "v": {
          "bdata": "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",
          "dtype": "f8"
         },
         "w": {
          "bdata": "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",
          "dtype": "f8"
         },
         "x": {
          "bdata": "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",
          "dtype": "f8"
         },
         "y": {
          "bdata": "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",
          "dtype": "f8"
         },
         "z": {
          "bdata": "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",
          "dtype": "f8"
         }
        }
       ],
       "layout": {
        "scene": {
         "xaxis": {
          "title": {
           "text": "X"
          }
         },
         "yaxis": {
          "title": {
           "text": "Y"
          }
         },
         "zaxis": {
          "title": {
           "text": "Z"
          }
         }
        },
        "template": {
         "data": {
          "bar": [
           {
            "error_x": {
             "color": "#2a3f5f"
            },
            "error_y": {
             "color": "#2a3f5f"
            },
            "marker": {
             "line": {
              "color": "#E5ECF6",
              "width": 0.5
             },
             "pattern": {
              "fillmode": "overlay",
              "size": 10,
              "solidity": 0.2
             }
            },
            "type": "bar"
           }
          ],
          "barpolar": [
           {
            "marker": {
             "line": {
              "color": "#E5ECF6",
              "width": 0.5
             },
             "pattern": {
              "fillmode": "overlay",
              "size": 10,
              "solidity": 0.2
             }
            },
            "type": "barpolar"
           }
          ],
          "carpet": [
           {
            "aaxis": {
             "endlinecolor": "#2a3f5f",
             "gridcolor": "white",
             "linecolor": "white",
             "minorgridcolor": "white",
             "startlinecolor": "#2a3f5f"
            },
            "baxis": {
             "endlinecolor": "#2a3f5f",
             "gridcolor": "white",
             "linecolor": "white",
             "minorgridcolor": "white",
             "startlinecolor": "#2a3f5f"
            },
            "type": "carpet"
           }
          ],
          "choropleth": [
           {
            "colorbar": {
             "outlinewidth": 0,
             "ticks": ""
            },
            "type": "choropleth"
           }
          ],
          "contour": [
           {
            "colorbar": {
             "outlinewidth": 0,
             "ticks": ""
            },
            "colorscale": [
             [
              0,
              "#0d0887"
             ],
             [
              0.1111111111111111,
              "#46039f"
             ],
             [
              0.2222222222222222,
              "#7201a8"
             ],
             [
              0.3333333333333333,
              "#9c179e"
             ],
             [
              0.4444444444444444,
              "#bd3786"
             ],
             [
              0.5555555555555556,
              "#d8576b"
             ],
             [
              0.6666666666666666,
              "#ed7953"
             ],
             [
              0.7777777777777778,
              "#fb9f3a"
             ],
             [
              0.8888888888888888,
              "#fdca26"
             ],
             [
              1,
              "#f0f921"
             ]
            ],
            "type": "contour"
           }
          ],
          "contourcarpet": [
           {
            "colorbar": {
             "outlinewidth": 0,
             "ticks": ""
            },
            "type": "contourcarpet"
           }
          ],
          "heatmap": [
           {
            "colorbar": {
             "outlinewidth": 0,
             "ticks": ""
            },
            "colorscale": [
             [
              0,
              "#0d0887"
             ],
             [
              0.1111111111111111,
              "#46039f"
             ],
             [
              0.2222222222222222,
              "#7201a8"
             ],
             [
              0.3333333333333333,
              "#9c179e"
             ],
             [
              0.4444444444444444,
              "#bd3786"
             ],
             [
              0.5555555555555556,
              "#d8576b"
             ],
             [
              0.6666666666666666,
              "#ed7953"
             ],
             [
              0.7777777777777778,
              "#fb9f3a"
             ],
             [
              0.8888888888888888,
              "#fdca26"
             ],
             [
              1,
              "#f0f921"
             ]
            ],
            "type": "heatmap"
           }
          ],
          "histogram": [
           {
            "marker": {
             "pattern": {
              "fillmode": "overlay",
              "size": 10,
              "solidity": 0.2
             }
            },
            "type": "histogram"
           }
          ],
          "histogram2d": [
           {
            "colorbar": {
             "outlinewidth": 0,
             "ticks": ""
            },
            "colorscale": [
             [
              0,
              "#0d0887"
             ],
             [
              0.1111111111111111,
              "#46039f"
             ],
             [
              0.2222222222222222,
              "#7201a8"
             ],
             [
              0.3333333333333333,
              "#9c179e"
             ],
             [
              0.4444444444444444,
              "#bd3786"
             ],
             [
              0.5555555555555556,
              "#d8576b"
             ],
             [
              0.6666666666666666,
              "#ed7953"
             ],
             [
              0.7777777777777778,
              "#fb9f3a"
             ],
             [
              0.8888888888888888,
              "#fdca26"
             ],
             [
              1,
              "#f0f921"
             ]
            ],
            "type": "histogram2d"
           }
          ],
          "histogram2dcontour": [
           {
            "colorbar": {
             "outlinewidth": 0,
             "ticks": ""
            },
            "colorscale": [
             [
              0,
              "#0d0887"
             ],
             [
              0.1111111111111111,
              "#46039f"
             ],
             [
              0.2222222222222222,
              "#7201a8"
             ],
             [
              0.3333333333333333,
              "#9c179e"
             ],
             [
              0.4444444444444444,
              "#bd3786"
             ],
             [
              0.5555555555555556,
              "#d8576b"
             ],
             [
              0.6666666666666666,
              "#ed7953"
             ],
             [
              0.7777777777777778,
              "#fb9f3a"
             ],
             [
              0.8888888888888888,
              "#fdca26"
             ],
             [
              1,
              "#f0f921"
             ]
            ],
            "type": "histogram2dcontour"
           }
          ],
          "mesh3d": [
           {
            "colorbar": {
             "outlinewidth": 0,
             "ticks": ""
            },
            "type": "mesh3d"
           }
          ],
          "parcoords": [
           {
            "line": {
             "colorbar": {
              "outlinewidth": 0,
              "ticks": ""
             }
            },
            "type": "parcoords"
           }
          ],
          "pie": [
           {
            "automargin": true,
            "type": "pie"
           }
          ],
          "scatter": [
           {
            "fillpattern": {
             "fillmode": "overlay",
             "size": 10,
             "solidity": 0.2
            },
            "type": "scatter"
           }
          ],
          "scatter3d": [
           {
            "line": {
             "colorbar": {
              "outlinewidth": 0,
              "ticks": ""
             }
            },
            "marker": {
             "colorbar": {
              "outlinewidth": 0,
              "ticks": ""
             }
            },
            "type": "scatter3d"
           }
          ],
          "scattercarpet": [
           {
            "marker": {
             "colorbar": {
              "outlinewidth": 0,
              "ticks": ""
             }
            },
            "type": "scattercarpet"
           }
          ],
          "scattergeo": [
           {
            "marker": {
             "colorbar": {
              "outlinewidth": 0,
              "ticks": ""
             }
            },
            "type": "scattergeo"
           }
          ],
          "scattergl": [
           {
            "marker": {
             "colorbar": {
              "outlinewidth": 0,
              "ticks": ""
             }
            },
            "type": "scattergl"
           }
          ],
          "scattermap": [
           {
            "marker": {
             "colorbar": {
              "outlinewidth": 0,
              "ticks": ""
             }
            },
            "type": "scattermap"
           }
          ],
          "scattermapbox": [
           {
            "marker": {
             "colorbar": {
              "outlinewidth": 0,
              "ticks": ""
             }
            },
            "type": "scattermapbox"
           }
          ],
          "scatterpolar": [
           {
            "marker": {
             "colorbar": {
              "outlinewidth": 0,
              "ticks": ""
             }
            },
            "type": "scatterpolar"
           }
          ],
          "scatterpolargl": [
           {
            "marker": {
             "colorbar": {
              "outlinewidth": 0,
              "ticks": ""
             }
            },
            "type": "scatterpolargl"
           }
          ],
          "scatterternary": [
           {
            "marker": {
             "colorbar": {
              "outlinewidth": 0,
              "ticks": ""
             }
            },
            "type": "scatterternary"
           }
          ],
          "surface": [
           {
            "colorbar": {
             "outlinewidth": 0,
             "ticks": ""
            },
            "colorscale": [
             [
              0,
              "#0d0887"
             ],
             [
              0.1111111111111111,
              "#46039f"
             ],
             [
              0.2222222222222222,
              "#7201a8"
             ],
             [
              0.3333333333333333,
              "#9c179e"
             ],
             [
              0.4444444444444444,
              "#bd3786"
             ],
             [
              0.5555555555555556,
              "#d8576b"
             ],
             [
              0.6666666666666666,
              "#ed7953"
             ],
             [
              0.7777777777777778,
              "#fb9f3a"
             ],
             [
              0.8888888888888888,
              "#fdca26"
             ],
             [
              1,
              "#f0f921"
             ]
            ],
            "type": "surface"
           }
          ],
          "table": [
           {
            "cells": {
             "fill": {
              "color": "#EBF0F8"
             },
             "line": {
              "color": "white"
             }
            },
            "header": {
             "fill": {
              "color": "#C8D4E3"
             },
             "line": {
              "color": "white"
             }
            },
            "type": "table"
           }
          ]
         },
         "layout": {
          "annotationdefaults": {
           "arrowcolor": "#2a3f5f",
           "arrowhead": 0,
           "arrowwidth": 1
          },
          "autotypenumbers": "strict",
          "coloraxis": {
           "colorbar": {
            "outlinewidth": 0,
            "ticks": ""
           }
          },
          "colorscale": {
           "diverging": [
            [
             0,
             "#8e0152"
            ],
            [
             0.1,
             "#c51b7d"
            ],
            [
             0.2,
             "#de77ae"
            ],
            [
             0.3,
             "#f1b6da"
            ],
            [
             0.4,
             "#fde0ef"
            ],
            [
             0.5,
             "#f7f7f7"
            ],
            [
             0.6,
             "#e6f5d0"
            ],
            [
             0.7,
             "#b8e186"
            ],
            [
             0.8,
             "#7fbc41"
            ],
            [
             0.9,
             "#4d9221"
            ],
            [
             1,
             "#276419"
            ]
           ],
           "sequential": [
            [
             0,
             "#0d0887"
            ],
            [
             0.1111111111111111,
             "#46039f"
            ],
            [
             0.2222222222222222,
             "#7201a8"
            ],
            [
             0.3333333333333333,
             "#9c179e"
            ],
            [
             0.4444444444444444,
             "#bd3786"
            ],
            [
             0.5555555555555556,
             "#d8576b"
            ],
            [
             0.6666666666666666,
             "#ed7953"
            ],
            [
             0.7777777777777778,
             "#fb9f3a"
            ],
            [
             0.8888888888888888,
             "#fdca26"
            ],
            [
             1,
             "#f0f921"
            ]
           ],
           "sequentialminus": [
            [
             0,
             "#0d0887"
            ],
            [
             0.1111111111111111,
             "#46039f"
            ],
            [
             0.2222222222222222,
             "#7201a8"
            ],
            [
             0.3333333333333333,
             "#9c179e"
            ],
            [
             0.4444444444444444,
             "#bd3786"
            ],
            [
             0.5555555555555556,
             "#d8576b"
            ],
            [
             0.6666666666666666,
             "#ed7953"
            ],
            [
             0.7777777777777778,
             "#fb9f3a"
            ],
            [
             0.8888888888888888,
             "#fdca26"
            ],
            [
             1,
             "#f0f921"
            ]
           ]
          },
          "colorway": [
           "#636efa",
           "#EF553B",
           "#00cc96",
           "#ab63fa",
           "#FFA15A",
           "#19d3f3",
           "#FF6692",
           "#B6E880",
           "#FF97FF",
           "#FECB52"
          ],
          "font": {
           "color": "#2a3f5f"
          },
          "geo": {
           "bgcolor": "white",
           "lakecolor": "white",
           "landcolor": "#E5ECF6",
           "showlakes": true,
           "showland": true,
           "subunitcolor": "white"
          },
          "hoverlabel": {
           "align": "left"
          },
          "hovermode": "closest",
          "mapbox": {
           "style": "light"
          },
          "paper_bgcolor": "white",
          "plot_bgcolor": "#E5ECF6",
          "polar": {
           "angularaxis": {
            "gridcolor": "white",
            "linecolor": "white",
            "ticks": ""
           },
           "bgcolor": "#E5ECF6",
           "radialaxis": {
            "gridcolor": "white",
            "linecolor": "white",
            "ticks": ""
           }
          },
          "scene": {
           "xaxis": {
            "backgroundcolor": "#E5ECF6",
            "gridcolor": "white",
            "gridwidth": 2,
            "linecolor": "white",
            "showbackground": true,
            "ticks": "",
            "zerolinecolor": "white"
           },
           "yaxis": {
            "backgroundcolor": "#E5ECF6",
            "gridcolor": "white",
            "gridwidth": 2,
            "linecolor": "white",
            "showbackground": true,
            "ticks": "",
            "zerolinecolor": "white"
           },
           "zaxis": {
            "backgroundcolor": "#E5ECF6",
            "gridcolor": "white",
            "gridwidth": 2,
            "linecolor": "white",
            "showbackground": true,
            "ticks": "",
            "zerolinecolor": "white"
           }
          },
          "shapedefaults": {
           "line": {
            "color": "#2a3f5f"
           }
          },
          "ternary": {
           "aaxis": {
            "gridcolor": "white",
            "linecolor": "white",
            "ticks": ""
           },
           "baxis": {
            "gridcolor": "white",
            "linecolor": "white",
            "ticks": ""
           },
           "bgcolor": "#E5ECF6",
           "caxis": {
            "gridcolor": "white",
            "linecolor": "white",
            "ticks": ""
           }
          },
          "title": {
           "x": 0.05
          },
          "xaxis": {
           "automargin": true,
           "gridcolor": "white",
           "linecolor": "white",
           "ticks": "",
           "title": {
            "standoff": 15
           },
           "zerolinecolor": "white",
           "zerolinewidth": 2
          },
          "yaxis": {
           "automargin": true,
           "gridcolor": "white",
           "linecolor": "white",
           "ticks": "",
           "title": {
            "standoff": 15
           },
           "zerolinecolor": "white",
           "zerolinewidth": 2
          }
         }
        }
       }
      }
     },
     "metadata": {},
     "output_type": "display_data"
    }
   ],
   "source": [
    "plotter.plotter(updated_x_samples_coil_div_free, updated_y_samples_coil_div_free, updated_z_samples_coil_div_free, \n",
    "                updated_Bx_samples_coil_div_free, updated_By_samples_coil_div_free, updated_Bz_samples_coil_div_free)"
   ]
  },
  {
   "cell_type": "markdown",
   "metadata": {},
   "source": [
    "#### Divergence and Curl Free"
   ]
  },
  {
   "cell_type": "code",
   "execution_count": 31,
   "metadata": {},
   "outputs": [],
   "source": [
    "outputs_wire_div_curl_free = updated_vector_field(\n",
    "    x_samples_wire, y_samples_wire, z_samples_wire, \n",
    "    Bx_samples_wire, By_samples_wire, Bz_samples_wire, \n",
    "    x_wire, y_wire, z_wire, \n",
    "    kernel_func='divergence_and_curl_free_kernel', \n",
    "    sigma_f = 0.01, l = 3)\n",
    "\n",
    "# unpack outputs \n",
    "updated_x_samples_wire_div_curl_free =  outputs_wire_div_curl_free[0]\n",
    "updated_y_samples_wire_div_curl_free =  outputs_wire_div_curl_free[1]\n",
    "updated_z_samples_wire_div_curl_free =  outputs_wire_div_curl_free[2]\n",
    "updated_Bx_samples_wire_div_curl_free = outputs_wire_div_curl_free[3]\n",
    "updated_By_samples_wire_div_curl_free = outputs_wire_div_curl_free[4]\n",
    "updated_Bz_samples_wire_div_curl_free = outputs_wire_div_curl_free[5]"
   ]
  },
  {
   "cell_type": "code",
   "execution_count": 32,
   "metadata": {},
   "outputs": [
    {
     "data": {
      "application/vnd.plotly.v1+json": {
       "config": {
        "plotlyServerURL": "https://plot.ly"
       },
       "data": [
        {
         "anchor": "tail",
         "sizemode": "scaled",
         "sizeref": 2,
         "type": "cone",
         "u": {
          "bdata": "eLtcXZQNZD9oycYemTIqPzQkug6UMio/J4ckF8GeaT9pC1MOiCBqP1/aBCuLMio/b7xFbYoyKj81WTFLV/VpP0y4kNeFMio/MosXGgUTar/b3EpKpFIwP4UQf6O2w1C/s7KGKqZSMD857geBaV1hv9PKEF+hUjA/f5/tfZ9SMD/s037DTwZRP/qhSmibUjA/VfoWMJ5SMD9USy49RQZEP19Ab2anBDQ/3V1dfakEND/x5BaxqQQ0P/N4I28bCFq/Y+dw3ujtb7+eHlnvTd1sv0aeGNAwbme/kXySXZ8END+0bXz05ChcP1Vwkib5FGE/kHOU9JqTNz800K9lnJM3P59qx6y5yzW/29DW+NN+bL838knOlZM3P2p2hmqVkzc/lGd7N/izXb+CH9UxlJM3P9yRVIqTkzc/jb0HgJOTNz//XQ+cXuA5P1T0+TZi+l0/qAWtEzaAGb+hB2/ypmhXv45fAOUrplk/0NYOzVzgOT/GmlAiXeA5P26mLTq+mCw/r+twuFvgOT8W+OunW+A5P+RIGBdc4Dk/QnV90lzgOT/phO17W+A5P5u/qib/4HA/BlnXLGHgOT+M9PnqYOA5PxKUI20xAFM/mpHs4hI/Zz/QfgW+g5saP8jP5jsKcDA/1WVycpKTNz+odqpd0b9BP7S5YRqUkzc/xFydc2scMr+NJMVzl5M3P80YW8iYkzc/2ZwPlZqTNz9/b/la/MFoPwP66YeWkzc/0m2WmeLrWb93YbQh+aBiPxxych2cBDQ/xWIfQqA7YT9UXLuXUaVjP2COAU5sZyE/C7G4nKYEND+6Kf5YpwQ0P7Q4wPemBDQ/XmqLJqQEND8KjEbDnwQ0P1w8h7yXAGw/ZNK70ZtSMD+oAiNldsFkP4hS9h/crTc/cxiryZrzSL9D2B/Ro1IwPwCgLAOQjrg+3jgawFeOOD+xgpM8suhYPz6bWp4sgmE/tPMqZokyKj9m6Y72NW1hP2wtFkyKMio//uIhDZonPL/NdZxoZfNaP+D0KfWC+2S/X5H9FGvPNr90RpwonDIqP1py94e8uUs/fKiqb/tfaj8lSyyhFWQpP/NGVK8bZCk/7sY+HRqkRT/dujo7FmQpPyhgYikRZCk/8FpRmxZkKT8GmICEPCNQv+siTbvbulG/xSSNIRNkKT8WuZdhEmQpP+bjfVvmv0s/QJ1gVSrSbD+AwOHfjBFdPw4TAA4t1zA/wlwxWRIhX7+AvySEhlNLvwg9w3kr1zA/wFmL3jOeXL/Lcp2hKdcwP4LDGSxR8WA/m6kZXgCPYL+HN1Cg241cPxQlLlBATTY/I3obZK/Scb/rsJViPk02PxajeSM9TTY/jAbF0JWIUb/4KyOCN002PyOf6pv5TVE/QXjJp7opXr/INASYc/ZCv8J42r9vbF+/GGTcFID5Pz9Iry6sAHQ8P7OsxeFvlkG/4iJu30fDND8ddLZ6G5hdP2x+hKCgTma/50bCpUX7QT+SmGJUmmBov5ZhujejgEA/lKWPLqOAQD+Y+15ypIBAP82jNWqWiVY/29p6CaSAQD9yDiF7o4BAP3hvU+XSXyi/rGjYtprwSz/y17peHyJivxh9t+LZfkq/91tqkaKAQD+Ipe/1r+9sv5zY5Masd2c/VQ/BuTI5XD/dYz6po4BAP5qrtI2jgEA/fspWn6SAQD9lDNAJpIBAP7v0MeujgEA/p0PBzqOAQD+fwtBTglNnP8fpCFz7czw/6YJp5v1zPD+7rAW9UKZZv0hnL74sLVi/m07yrP5zPD/OpyQnk7JbP3Lu630AdDw/yH6MY20TRb8+5lHNCDZQv86Eg9w6TTY/hpp8aDtNNj8ZTlg6Ok02P69R7qH0pGy/3TGL+MWDd7+MEbFMPE02P/WzWvJh9FM/JWRxu+h3ML/ZOLpVPU02P684Apc6TTY/bvWItKIhej/dndx2LNcwP54lSDNQVTm/BgNJl5ASbr9QPAJg4yRiP+5wAFtE+E6/iUfhaDPXMD//m5O0MtcwP82splsu1zA/YYRiobbSYz9HW3dNFmQpP8OlsxymFmE/CobUTpswSL/F0yyZGGQpP7uvYMZxviY/lI1tt207X7+RFzv1KGQpP8s7MgyK0GC/DckDNhdkKT/ZO1hv/ZVFP/x0+T0EPiY/xP4sJLEb+z6hHn9JDz4mPwyzWqSk7QM/z9JJhwQ+Jj8v/T3rCz4mP3HVv2YKPiY/bVIOVHdXYL/w5sLABj4mPwdEYqV0s1i/JptCRgLcLz85gjL3E9wvP4nijUmeH2w/plBCvX/WSL9RfG+pDtwvP9S/9VQN3C8/RtH/D1FNRr9OIf/7HnFUP++mshoB3C8/xkzm+UdpdD9unEbMMpM3P8g3FYkbeEQ/AP7x/zaTNz82+rarUlNhP7fAGSE0kzc/fQ/Nr38gYz9f5f9gdaBIPySrk3iTDk4/1h/bOk81NL9OMEjZL5M3Pyp4i9BmVUE/28lpZ2hVQT/S0KyjX1laP9FNOtZ5kDg/oZnoFkFOUD9Ut48/Z1VBP4eZJRtnVUE/CuExvd3Ea7/iIDdDZlVBP+J35cxnVUE/lCBtSoCqRj+XaPJsgKpGP64lXWWAqkY/FnzOIoKqRj+sOZp19WVbPxxlUGSCqkY/F0GC/uCESL+9c2khgapGP45q2LMr5GI/yd4j/IGqRj/JUj+agKpGPwfOt4eAqkY/7TxfBoGqRj9vBMZwgapGP2cOoh11aEO/nzZHa4KqRj9YksYHyklNP1AnRpnsN1Q/exNLk4OqRj9MFS8eioVLv2gJSOLn/2M/H6gzWmdVQT8lM+KfZ1VBP5LbOjZoVUE/q+iAdmhVQT+YPBa1jZFEv2fAh/NqVUE/yuP2ZmpVQT9X5LTgaFVBP9w4EUneMzS/OaRjQDSTNz8Q/9bYNZM3P6R+0uI0kzc//jJumOrhYL+y51IlOqZVvwVDyQrxVUE/Ylp3liT8Zj8i3v87P4EQPxhZrlE3kzc/nvCkojaTNz/qNGnMwV0pv3gy28Mu/kk/pGrGYg+rPb/gHvyaE9wvP9dOv+IMkzQ/PVKjmRTcLz8pRJSHaHhAvyFQQDdmPmq/2xrvrtIySb9K4RwowGwIP2J99LwVSj4/YjYlP61qYD8xMdCNd6E2P/1znrQTPiY/u5sVphI+Jj8BgmmCFT4mP3AbvWuN2PC+afBn+88yYL80RUPsCT4mPxa/xxMEPiY/vmfvr6mORb+kdlyKcm8fPyuBf5N0bx8/9dw20HNvHz+A9CUabm8fPxAFpa0QRTa/lYPu83ZvHz+M0kMxIYYyPxtMh0Vlbx8/TxEDp2JvHz/keJGGZmMoP6C/cSprYyg/N3HhsW1jKD8bPuzLcGMoP5pWHGLQVEo/7igNHXNjKD/fcs9bbmMoP25U+glmYyg/8Igc3l1jKD+6nTO5XmMoP3khZjPhzDQ/Lxs3wYY6Vz/e8lsTKjBVP7o4VLJWZWA/aOau/njLYD/FqQjX5cw0P0i11eZ3UUi/3GzeaO1kWj9yn/XGLeJUP8pIIpDPvWs/iIg/2XikQz9lnHo6eqRDPyufxsZ7pEM/6979inukQz/Xfod8fKRDP416NBZn8Fy/TgLaeHt8QL9T9/RBe6RDP44pcet4pEM/ToqrI45iRr/IpuE65nBDv9rBHgvg/V0/XkC6yPisUT9OXdLWzlVxPy2TL7f6rFE/ygrVRPusUT9PJjQn+6xRPwMqhQNXS3A/GJ5Fi+aQZL+Mj/tBR25sv0CuJ5z5rFE/bsC+kfmsUT+lXFBk+axRP3APSrFfdDE/pwrLk/msUT8yYXKJ90hgP8SG6hH8rFE/oGnhJeNgZT+tGjSV+qxRP7Nx1rBuL3q/qmXgJ29xVj/Dt7gFe6RDP84+vGh6pEM/hbWkYHmkQz+bFDrCeqRDP+oQd6HmRVQ/gS7vnX6kQz8qiVyffqRDPz54cOdfyDe/dQTNgYxXTT8ezpP3oVU1P6MydF9bxD8/IaD0P+fMND8sCygN4R9lP7bz2wLnzDQ/q/DNBOjMND/koj1aeK1rP0JEXmEHI0W/zq5QOOnMND89ZFlT5Mw0P9O2NH14Yyg/kMt7tPGhWz8RLd1GdWMoP0Pd3RCOBEo/neQN4XJjKD+NTPRGd2MoP/CeJbN1Yyg/VzBm6s2zNz+lduG1qgRQP6af/l5qYyg/YJKZVYVvHz9UQ3iMg28fP8ScokIHZ2A/eCZ91vAtVT+XE5WZc9xOP6Cv35CJbx8/6KIlLTT+aL/twXzSeW8fPyRD1s1H8WI/GBX013JvHz/6Zi24rU1NP2l/0nloiUE/8oBtIDoABz+T0D6oPwAHPw2utdnX9C4/pr/D0O4kZD9mep7sXwAHP19xapKBWjo/5tQ+HUgABz+6niGVMwAHP02G+ocwZ3U/BYRbiTrHSj/qx9zxItwSPxGebVwn3BI/0mm8y2g1Ub8jG7kGMNwSP6sAmMko3BI/WXe/ZGK0R783iFV8F9wSP9aQtBNMIGM/qnIEtvshIj/Hzh3fQ7Eyv7NKyUQCIiI/Vp36HhDhTz8JLcntCiIiP37joo0LIiI/P5pr8E81Z7/P0nuW/CEiP7Z/cRc2iVW//NHSvX/xXj/97z4Ind9Uv8JEujn4VmS/lPqUV0uRNz9AM3uV4rMnv3rtcm9UkTc/wk++b1aRNz8qqNJ6VZE3P2fRrHiGWGC/6NE6wpqWKb9GnVqKSJE3Pwf674lTcF0/QSUkipz7ST88BQaLGGlxP37qtMdTcF0/cub93bcrRz+ae9x0RQ5ZP1aavZ7SGlQ/CeSd7FRwXT+dTc2fvSNJP5Zdro+jvnC/ADgvrE0Mrz6p9hc8U3BdP9np6DFTcF0/I8x5WFNwXT8Sp7cuHQFbP31eS3YmBmS/eT5QfVZwXT+HdJKGVXBdP3nbYStUcF0/MrkoSm67YL+1a5etTpE3P/trpM+RIlW/dWl9Nk2RNz8WBEN5A+ZiPzpj+C9bFmM/RL9oDVORNz8hL58qVpE3P2I/ATFVkTc/rhwWfkw+JD9Ac1fuYe4GP7zSwA3Jzmo/UIHlYQQiIj+8qClKeY8jP/Q8JDKGjly/EYU3uwgiIj/nae+D6MlvP1fkYOSOOlM/b3XVXQ8iIj/I+eaHCSIiP7WQWv8HIiI/9n14UFetYj/OVcyTMtwSP/oN4JI63BI/H/6AYi/cEj+tY5ogNtwSPz8M0lNF3BI/J940Ao7LWj9DE42ePdwSPx5Oghgd21g/B3sLZjDcEj+SUUu6Y15lP5zLuz5nAAc/acpPgFwABz9AaQNcRAAHP9n6nkdZAAc/Q85Kj2UABz9lSlAjfQAHP1LsNyNiAAc/RewnS2HoZr+0FuPNlMpWv7+KtvNPAAe/86bX21cAB7/RRUQXJklsPwtN4Cl9AAe/ehDsOtwwY7/Y3pvuRgAHv/0p4dVAAAe/79CPhfJDJb/Y9HVnAKRnv/8Hxzth0ka/hIw3oUaRYj//GQv9JNwSv9ZC3Vk4+UY/8ylJhTXcEr8q6Gxng2FYv637kUTfpTG/KUu84BvcEr/ZPXYYReBSvyCQsgoj3BK/6lw1rIsNOL+Ls5fo/iEivx6XJhoEIiK/sfMknwQiIr+eZdfDASIiv/NoCgX9ISK/Qa/HukyFbb/wokd49CEiv6Nyx/r6ISK/0L6/LhXtZz8HvUinCyIiv5RsB1SKYli/7Y9vG1CRN7/PDCoxuQ4rv1pDeBpJkTe/kFUK4SPOU78tVzgLRZE3vw7gcr1YF1e/zockdTFLab87itShSpE3vyw798WQ+ka/6u/vZIw9aL+2OHWKjURHv5VZ13TmxHA/+WAL6yz3YD9gyU9hm3ZOPwRY0YBRcF2/wi5WyFFwXb9H/F/ESgJQv9n9mWtTcF2/5VuDb1NwXb8xqQjAXHJzv0xhkQK2Z3W/fE41y5NCM79fTJ53U3BdvxbAsgEoGFy/WaQInv1xdL8KHzslydVnv5/nixFScF2/VcG84FJwXb9Mv6sk4ShrvzYUgzAnDk4/lb/EDdQwWD9JDUEb82tZvwlaJqG8pUk/BiJd5+CUO78q16avxEcwPzcRf04FZV+/bHSYpLnCMD/3e8UaSpE3vxaMnzxMkTe/suTk7s4iVD+VF5pX/iEivyjZnUwM9FK/TMSgcx+SXT8RAh94jORkv+7Q0T1Hr1a/7QUGh/AhIr8lunP98yEivzA1kfvzISK/dpprtPgfVr8h/hVJI9wSv3FH7K4wc1c/RFci+R7cEr+q59g3GdwSvz7RdqcCLFW/UvbImQncEr+YVBKo2wlFP12gHDoY3BK/l1nR/RzcEr85S80PZF5SP/n3Wuo+AAe/3wRxv3VoWb/iHkFvSQAHv5FyVLtOiCa/bMCjw7FB/z6eUkyYyUJXP4RqRkkqAAe/a0/FzzsAB79oK5dAwV1GvyQVVHoiBhe/4m/0yBDoUD8Jd4u+cm8fv3k5Qn9xbx+/9ul29m5vH79QSoUhcm8fvyuOaQxqbx+/2AW+UisuQr8x6L5D8klSv7dwxalfbx+/qAnFRHAaer/5MhfnthFmP252Ng2xCmY/ZBduGm5jKL9JzXqWbGMovxX+C79mYyi/DxKwl2VjKL8JTMrUfvJpv/oWuQkhrFe/du1PZGZjKL8XUa1kwKJyv7puAo7fzDS/G8W/9dLpWL924nIu48w0v8NZqFXJHF8/RwFiFeLMNL9AJkNQ3cw0v3S3gDIL1yQ/S4x9y97MNL8i9aVg/phhP258nELzH2I/zl4l4HmkQ7+9F5r1zVQ4v9in2q16pEO/HW5lrKYpSz8dXWkEsWRLPweVAO92pEO/f4iLFnekQ78pJ5HEI0pcv2ltdxN5pEO/rDcQXaXxRL/IDsgr02tJvy7qkTL6rFG/oogj9xHuQ79e/Enr+KxRv2KiBvr3rFG/igqbCXcDOb9GOGUD+KxRv37M+cH4rFG/BYNBaPmsUb+GXXqfXzhcv/20h8/5rFG/P1dFmjiAT7+MWYTM+axRv94T+gD5rFG/N1riMvisUb939ePLh31mv4DoKb/cNlu/5C6VU5jDRr/66WNf+axRv7gFd0vepnW/2nVVKkv1Xb9O/iMAeqRDvxK7j7dCDm0/mLpPkRgUQT9Ee6WxeKRDv+S7t7Hxaki/QF84OnikQ7+ffb6OeaRDv+B7ebxuyU2/CiBm4/yiW7+55vKd4sw0vw1bi8TizDS/sK7tdOLMNL9b9Tt2hO1LP9bJp8RdAEe/QQPUv6yFbr+wB+n23Mw0v7KSoeT9KFO/JJR+F1/sXr9arDWe48w0v4bvoZlpYyi/+h3Cr9W9Xj+cseAdVyYxP8saLbJmYyi/kjBl5WvKab/iFm7KXWMov+afOPnYT2U/aKPFO2JjKL9pQPQgZmMov6l3to5qYyi/B7qYL8rjXr8srzMIbW8fvz+uB/rvsmC/v/JF/HFvH79+hMbFeU9jP7Wjda1kbx+/OrZpwSMgcT/V0yTI/YRVv2PsRxlubx+/sxiOJa2fbL8OzbSCCD4mv2pWFJRfK24/N9ey5AQ+Jr9osynheRRav1BlNMLaNWA/XZzP5+GcYD9Ze11GBz4mv4Wx07Rfn1w/06R2vqGVOr/XSj12/NJkvy/FJcwK3C+/3xjPcAbcL78BKZnTSkRlv0LCa9oI3C+/yfRht82gTb+ihR4Xuq5pv8dsC5v48Du/BZ0jRgLcL7/L+OgdA9wvv/qK4jLfITg/IhJgCWqDVL+xxKBiMJM3vwxqXvUxkze/BU1lxQAsVr/X6hnRMZM3vxUC53kukze/ru6xNMlmRL9Oh1Pvy1hev9ou0ZxGhUC/CtB25C+TN79flP28eshkPzgFiYpnVUG//CXiGGARUD9xogXzZlVBv1hrKAfn8i0/alHUyas0Ir/hYHGUZFVBv6iI8RVlVUG/0NrlemZVQb/IoDMqAJBFP4y7EhuAqka/QVBlRoKqRr87lRD2A8lZvyWplgpyf0y/Qs3jOAYRST+IttbWfapGv6YND9B+qka/mG86U3AdW7/+Zt3lfqpGv8YGG7YLLmy/3eWJyYCqRr/eYtZHgapGv8DlvouBqka/nxLhlH+qRr8+pCTzr51SP6jUghHQxis/usTmOeG0TT+ABmABf6pGv/imf/ZWsma/8LzVCPICcL88YLmEZlVBv/UsWy+6O1Y/JIReRIPJSL/442yTazEaP7azo2WSe22/d3Fh7GRVQb88yyDUZVVBv6RiP1xlVUG/dQNDstRMQT/KauvBZ1VBv1MRibZx2UI/MSrwcyogZz+/aFq3TCpkPxmosxUvkze/+iyQ1tA3WT+uEgeSLJM3v8iY/+FDF0K/uJPCjeSJUr/Y4kjgx/ZRP/cLIY1ii14/kMjQXwTcL79saVADARViP5ytCg7raGw/8hTQUwjcL7991xMCCtwvv4fKWkoG3C+/NZPMewXcL79sjEkXMOdfP73BZ9YE3C+/iJzDFgbcL7838rcZ/z0mvxrZzCYgh1i/OhEoxQc+Jr9H/CBvo3Rev07hijkKPia/isPq1Qg+Jr9Tg8SFAz4mvwCM9L6QilW/PM1abQU+Jr8iyeWCeYFIv5yxJ2DmwkY/xHyo1wlkKb+GllSL5Jtdv085Nz8RZCm/ejfmghMseD+hhAMrE2QpvydofWEqgkm/uIc7Imt6Gz8C7UJeC2Qpv+LxwLENZCm/wusYHe4rd7+jhsoaJ9cwv1KG4oPEeUW/9i7pMSfXML+Jp9fZKtcwvwBdYNpUv2S/nepopvekW7/OBIpIKdcwv18Aklgo1zC/8SOQWSnXML8QSXx+o+9Gv84Qpd6423C/Mo0GCzZNNr/tE1DkN002vwWuVdbWSV+/ZNxUVDolZ781Zn3bOE02v6p9pgg3TTa/MNgHi7U7Tj9ht4oRZ9FCvybfHa//czy/kMLlAO3LQb9Ftlnp/HM8v6omzIlbtFQ/CqH2MfpzPL9zWKq3yzNqP6H6CKbiWGI/KQiEdfpzPL+ipZfuBhBuv8Bi5qJP8tg+p6KmReMyY79Sj16glqBkvy+2x5sClDY/wPyuuJfO7z7xX7rPoYBAv/DZVAQmpDa/QKvW9n/6Vz95mdlddLZrvyhhjkehgEC/XiI04Yz7TL8SCp5MZchgv8LtIllrNVq/Ke7K46OAQL/2cd3l/jdav2WWG8chY2K/brjmWKGAQL+lhJLuoYBAv+8v6oehgEC/VbdlyqKAQL9PVRoyooBAv9I2ZWP8czy/4NdwhPZtTr+ukM/Q/nM8v54/AGv7czy/UxYFhPxzPL9zVZcb+3M8v+Hw9fpgvXK/XufXIP1zPL+AIb2gz3Qqv9Ihtck6Xl6/et65+oNYcD+ZepxwWKNbP7qih5w+GVk/qo8MWDlNNr/ni6TWOE02v5UEK+I3TTa/+eF11DdNNr+r27Jexxk5v0Xd2/Y4TTa/UeispzdbRL9sFphjYdRsP4vzvEKdaGo/BCk+frR5XD+2Y2PaKtcwv5G+zPkp1zC/KTfkkyrXML8uF2sCKdcwv16IxtuZFE2/wbcAdGrkRr/+/zARbodRv5qQjSt5E1i/EDKdQ5xt7j6mMWslBmttP6zm+JtfCF0/KcPLchVkKb+itMyBFmQpvyzDo/+ZpVS/NL2TwRU8Rz9t/RxaEWQpv4TijK4KZCm/4JOmAwYQcD8Jqj+Uy7VtP/qIPiyBMiq/gYMHmTd1Xb9tXs/njjIqvwkLWxmNMiq/ALaOw4oyKr/CMoQFg6dbvzHhuQOHMiq/21GI54UyKr/Q/seC7fpSv5YnKG7qgWw/Awy3g5lSML8zv8SFnFIwv38lrPsfzjC/zkmij59SML/DcewBZyxCP+ztKSjjRzy/2xWH2p1SML8gZ2wrnlIwv/xlgaCgBDS/lt1/p5FLXb9ebCTFngQ0v8pBZwmgBDS/TjR32qAENL9SZbog/JhFv8Sd+SOgBDS/4acaSaAENL9scLVLSy5Pv/72JK6gBDS/5lrHvIj7Xz/mXLk+4uE7vwgNFyJ7zDk/FtJX8xpLRz9oovr5kpM3v3a26AZ1Jhm/B+sS9S3hQT9o8mmWz0dYPz2fw5GWkze/7TYjA5WTN7//8DuQXuA5v3b1Ys3dEko/V+GShl7gOb8YPir8mrplP3hNcQRY4Dm/nO+ljlngOb/OSzeaXOA5v3Drg7Wwqvs+KsO9j1vgOb/IjfHB1d5Sv8O5kdRc4Dm/eht18jwHar9dfGcMXuA5v0p0Vrw+BmG/k5yWcGYIXT9ANa/fYmRjP2wmZ1dZ4Dm/x73/PVzgOb88L/1cXuA5v3NFez5g4Dm/wCdDr5STN79l/M8AxPxUv9jFQcAb/la/YY+Xc5OTN7+TUvB/k5M3vxCV3iCMGla/6MtSRVqabb8/DV+WmNZIv1zB3ke5sE2/f/gF4peTN7/Rtm4H7k9jP/6sNPqgBDS/KKHt5pwkYD+X8IjR3GF0v+nLSD5E+nC/igbypJ8ENL8id7bi2/Vnv2CsPB8V+1O/WLZcVOdTPb9ReN7SogQ0v0Hh1cL/UlQ/hax4PFm9Qz+1k/rqnlIwvwcUgXnzZWe/V1A1f51SML8POmLmm1Iwv9XiDsecUjC/SSfMap1SML9+EsfunlIwv1wk5lWfUjC/CZCl7IUyKr++JgihhDIqv9jJ+qiGMiq/V4k9EokyKr8KD2ESHIdYP/EyoxYvs3I/vroxXY0yKr8BHTH377hov3hmJEiJMiq/Bf+1OIgyKr8=",
          "dtype": "f8"
         },
         "v": {
          "bdata": "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",
          "dtype": "f8"
         },
         "w": {
          "bdata": "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",
          "dtype": "f8"
         },
         "x": {
          "bdata": "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",
          "dtype": "f8"
         },
         "y": {
          "bdata": "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",
          "dtype": "f8"
         },
         "z": {
          "bdata": "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",
          "dtype": "f8"
         }
        }
       ],
       "layout": {
        "scene": {
         "xaxis": {
          "title": {
           "text": "X"
          }
         },
         "yaxis": {
          "title": {
           "text": "Y"
          }
         },
         "zaxis": {
          "title": {
           "text": "Z"
          }
         }
        },
        "template": {
         "data": {
          "bar": [
           {
            "error_x": {
             "color": "#2a3f5f"
            },
            "error_y": {
             "color": "#2a3f5f"
            },
            "marker": {
             "line": {
              "color": "#E5ECF6",
              "width": 0.5
             },
             "pattern": {
              "fillmode": "overlay",
              "size": 10,
              "solidity": 0.2
             }
            },
            "type": "bar"
           }
          ],
          "barpolar": [
           {
            "marker": {
             "line": {
              "color": "#E5ECF6",
              "width": 0.5
             },
             "pattern": {
              "fillmode": "overlay",
              "size": 10,
              "solidity": 0.2
             }
            },
            "type": "barpolar"
           }
          ],
          "carpet": [
           {
            "aaxis": {
             "endlinecolor": "#2a3f5f",
             "gridcolor": "white",
             "linecolor": "white",
             "minorgridcolor": "white",
             "startlinecolor": "#2a3f5f"
            },
            "baxis": {
             "endlinecolor": "#2a3f5f",
             "gridcolor": "white",
             "linecolor": "white",
             "minorgridcolor": "white",
             "startlinecolor": "#2a3f5f"
            },
            "type": "carpet"
           }
          ],
          "choropleth": [
           {
            "colorbar": {
             "outlinewidth": 0,
             "ticks": ""
            },
            "type": "choropleth"
           }
          ],
          "contour": [
           {
            "colorbar": {
             "outlinewidth": 0,
             "ticks": ""
            },
            "colorscale": [
             [
              0,
              "#0d0887"
             ],
             [
              0.1111111111111111,
              "#46039f"
             ],
             [
              0.2222222222222222,
              "#7201a8"
             ],
             [
              0.3333333333333333,
              "#9c179e"
             ],
             [
              0.4444444444444444,
              "#bd3786"
             ],
             [
              0.5555555555555556,
              "#d8576b"
             ],
             [
              0.6666666666666666,
              "#ed7953"
             ],
             [
              0.7777777777777778,
              "#fb9f3a"
             ],
             [
              0.8888888888888888,
              "#fdca26"
             ],
             [
              1,
              "#f0f921"
             ]
            ],
            "type": "contour"
           }
          ],
          "contourcarpet": [
           {
            "colorbar": {
             "outlinewidth": 0,
             "ticks": ""
            },
            "type": "contourcarpet"
           }
          ],
          "heatmap": [
           {
            "colorbar": {
             "outlinewidth": 0,
             "ticks": ""
            },
            "colorscale": [
             [
              0,
              "#0d0887"
             ],
             [
              0.1111111111111111,
              "#46039f"
             ],
             [
              0.2222222222222222,
              "#7201a8"
             ],
             [
              0.3333333333333333,
              "#9c179e"
             ],
             [
              0.4444444444444444,
              "#bd3786"
             ],
             [
              0.5555555555555556,
              "#d8576b"
             ],
             [
              0.6666666666666666,
              "#ed7953"
             ],
             [
              0.7777777777777778,
              "#fb9f3a"
             ],
             [
              0.8888888888888888,
              "#fdca26"
             ],
             [
              1,
              "#f0f921"
             ]
            ],
            "type": "heatmap"
           }
          ],
          "histogram": [
           {
            "marker": {
             "pattern": {
              "fillmode": "overlay",
              "size": 10,
              "solidity": 0.2
             }
            },
            "type": "histogram"
           }
          ],
          "histogram2d": [
           {
            "colorbar": {
             "outlinewidth": 0,
             "ticks": ""
            },
            "colorscale": [
             [
              0,
              "#0d0887"
             ],
             [
              0.1111111111111111,
              "#46039f"
             ],
             [
              0.2222222222222222,
              "#7201a8"
             ],
             [
              0.3333333333333333,
              "#9c179e"
             ],
             [
              0.4444444444444444,
              "#bd3786"
             ],
             [
              0.5555555555555556,
              "#d8576b"
             ],
             [
              0.6666666666666666,
              "#ed7953"
             ],
             [
              0.7777777777777778,
              "#fb9f3a"
             ],
             [
              0.8888888888888888,
              "#fdca26"
             ],
             [
              1,
              "#f0f921"
             ]
            ],
            "type": "histogram2d"
           }
          ],
          "histogram2dcontour": [
           {
            "colorbar": {
             "outlinewidth": 0,
             "ticks": ""
            },
            "colorscale": [
             [
              0,
              "#0d0887"
             ],
             [
              0.1111111111111111,
              "#46039f"
             ],
             [
              0.2222222222222222,
              "#7201a8"
             ],
             [
              0.3333333333333333,
              "#9c179e"
             ],
             [
              0.4444444444444444,
              "#bd3786"
             ],
             [
              0.5555555555555556,
              "#d8576b"
             ],
             [
              0.6666666666666666,
              "#ed7953"
             ],
             [
              0.7777777777777778,
              "#fb9f3a"
             ],
             [
              0.8888888888888888,
              "#fdca26"
             ],
             [
              1,
              "#f0f921"
             ]
            ],
            "type": "histogram2dcontour"
           }
          ],
          "mesh3d": [
           {
            "colorbar": {
             "outlinewidth": 0,
             "ticks": ""
            },
            "type": "mesh3d"
           }
          ],
          "parcoords": [
           {
            "line": {
             "colorbar": {
              "outlinewidth": 0,
              "ticks": ""
             }
            },
            "type": "parcoords"
           }
          ],
          "pie": [
           {
            "automargin": true,
            "type": "pie"
           }
          ],
          "scatter": [
           {
            "fillpattern": {
             "fillmode": "overlay",
             "size": 10,
             "solidity": 0.2
            },
            "type": "scatter"
           }
          ],
          "scatter3d": [
           {
            "line": {
             "colorbar": {
              "outlinewidth": 0,
              "ticks": ""
             }
            },
            "marker": {
             "colorbar": {
              "outlinewidth": 0,
              "ticks": ""
             }
            },
            "type": "scatter3d"
           }
          ],
          "scattercarpet": [
           {
            "marker": {
             "colorbar": {
              "outlinewidth": 0,
              "ticks": ""
             }
            },
            "type": "scattercarpet"
           }
          ],
          "scattergeo": [
           {
            "marker": {
             "colorbar": {
              "outlinewidth": 0,
              "ticks": ""
             }
            },
            "type": "scattergeo"
           }
          ],
          "scattergl": [
           {
            "marker": {
             "colorbar": {
              "outlinewidth": 0,
              "ticks": ""
             }
            },
            "type": "scattergl"
           }
          ],
          "scattermap": [
           {
            "marker": {
             "colorbar": {
              "outlinewidth": 0,
              "ticks": ""
             }
            },
            "type": "scattermap"
           }
          ],
          "scattermapbox": [
           {
            "marker": {
             "colorbar": {
              "outlinewidth": 0,
              "ticks": ""
             }
            },
            "type": "scattermapbox"
           }
          ],
          "scatterpolar": [
           {
            "marker": {
             "colorbar": {
              "outlinewidth": 0,
              "ticks": ""
             }
            },
            "type": "scatterpolar"
           }
          ],
          "scatterpolargl": [
           {
            "marker": {
             "colorbar": {
              "outlinewidth": 0,
              "ticks": ""
             }
            },
            "type": "scatterpolargl"
           }
          ],
          "scatterternary": [
           {
            "marker": {
             "colorbar": {
              "outlinewidth": 0,
              "ticks": ""
             }
            },
            "type": "scatterternary"
           }
          ],
          "surface": [
           {
            "colorbar": {
             "outlinewidth": 0,
             "ticks": ""
            },
            "colorscale": [
             [
              0,
              "#0d0887"
             ],
             [
              0.1111111111111111,
              "#46039f"
             ],
             [
              0.2222222222222222,
              "#7201a8"
             ],
             [
              0.3333333333333333,
              "#9c179e"
             ],
             [
              0.4444444444444444,
              "#bd3786"
             ],
             [
              0.5555555555555556,
              "#d8576b"
             ],
             [
              0.6666666666666666,
              "#ed7953"
             ],
             [
              0.7777777777777778,
              "#fb9f3a"
             ],
             [
              0.8888888888888888,
              "#fdca26"
             ],
             [
              1,
              "#f0f921"
             ]
            ],
            "type": "surface"
           }
          ],
          "table": [
           {
            "cells": {
             "fill": {
              "color": "#EBF0F8"
             },
             "line": {
              "color": "white"
             }
            },
            "header": {
             "fill": {
              "color": "#C8D4E3"
             },
             "line": {
              "color": "white"
             }
            },
            "type": "table"
           }
          ]
         },
         "layout": {
          "annotationdefaults": {
           "arrowcolor": "#2a3f5f",
           "arrowhead": 0,
           "arrowwidth": 1
          },
          "autotypenumbers": "strict",
          "coloraxis": {
           "colorbar": {
            "outlinewidth": 0,
            "ticks": ""
           }
          },
          "colorscale": {
           "diverging": [
            [
             0,
             "#8e0152"
            ],
            [
             0.1,
             "#c51b7d"
            ],
            [
             0.2,
             "#de77ae"
            ],
            [
             0.3,
             "#f1b6da"
            ],
            [
             0.4,
             "#fde0ef"
            ],
            [
             0.5,
             "#f7f7f7"
            ],
            [
             0.6,
             "#e6f5d0"
            ],
            [
             0.7,
             "#b8e186"
            ],
            [
             0.8,
             "#7fbc41"
            ],
            [
             0.9,
             "#4d9221"
            ],
            [
             1,
             "#276419"
            ]
           ],
           "sequential": [
            [
             0,
             "#0d0887"
            ],
            [
             0.1111111111111111,
             "#46039f"
            ],
            [
             0.2222222222222222,
             "#7201a8"
            ],
            [
             0.3333333333333333,
             "#9c179e"
            ],
            [
             0.4444444444444444,
             "#bd3786"
            ],
            [
             0.5555555555555556,
             "#d8576b"
            ],
            [
             0.6666666666666666,
             "#ed7953"
            ],
            [
             0.7777777777777778,
             "#fb9f3a"
            ],
            [
             0.8888888888888888,
             "#fdca26"
            ],
            [
             1,
             "#f0f921"
            ]
           ],
           "sequentialminus": [
            [
             0,
             "#0d0887"
            ],
            [
             0.1111111111111111,
             "#46039f"
            ],
            [
             0.2222222222222222,
             "#7201a8"
            ],
            [
             0.3333333333333333,
             "#9c179e"
            ],
            [
             0.4444444444444444,
             "#bd3786"
            ],
            [
             0.5555555555555556,
             "#d8576b"
            ],
            [
             0.6666666666666666,
             "#ed7953"
            ],
            [
             0.7777777777777778,
             "#fb9f3a"
            ],
            [
             0.8888888888888888,
             "#fdca26"
            ],
            [
             1,
             "#f0f921"
            ]
           ]
          },
          "colorway": [
           "#636efa",
           "#EF553B",
           "#00cc96",
           "#ab63fa",
           "#FFA15A",
           "#19d3f3",
           "#FF6692",
           "#B6E880",
           "#FF97FF",
           "#FECB52"
          ],
          "font": {
           "color": "#2a3f5f"
          },
          "geo": {
           "bgcolor": "white",
           "lakecolor": "white",
           "landcolor": "#E5ECF6",
           "showlakes": true,
           "showland": true,
           "subunitcolor": "white"
          },
          "hoverlabel": {
           "align": "left"
          },
          "hovermode": "closest",
          "mapbox": {
           "style": "light"
          },
          "paper_bgcolor": "white",
          "plot_bgcolor": "#E5ECF6",
          "polar": {
           "angularaxis": {
            "gridcolor": "white",
            "linecolor": "white",
            "ticks": ""
           },
           "bgcolor": "#E5ECF6",
           "radialaxis": {
            "gridcolor": "white",
            "linecolor": "white",
            "ticks": ""
           }
          },
          "scene": {
           "xaxis": {
            "backgroundcolor": "#E5ECF6",
            "gridcolor": "white",
            "gridwidth": 2,
            "linecolor": "white",
            "showbackground": true,
            "ticks": "",
            "zerolinecolor": "white"
           },
           "yaxis": {
            "backgroundcolor": "#E5ECF6",
            "gridcolor": "white",
            "gridwidth": 2,
            "linecolor": "white",
            "showbackground": true,
            "ticks": "",
            "zerolinecolor": "white"
           },
           "zaxis": {
            "backgroundcolor": "#E5ECF6",
            "gridcolor": "white",
            "gridwidth": 2,
            "linecolor": "white",
            "showbackground": true,
            "ticks": "",
            "zerolinecolor": "white"
           }
          },
          "shapedefaults": {
           "line": {
            "color": "#2a3f5f"
           }
          },
          "ternary": {
           "aaxis": {
            "gridcolor": "white",
            "linecolor": "white",
            "ticks": ""
           },
           "baxis": {
            "gridcolor": "white",
            "linecolor": "white",
            "ticks": ""
           },
           "bgcolor": "#E5ECF6",
           "caxis": {
            "gridcolor": "white",
            "linecolor": "white",
            "ticks": ""
           }
          },
          "title": {
           "x": 0.05
          },
          "xaxis": {
           "automargin": true,
           "gridcolor": "white",
           "linecolor": "white",
           "ticks": "",
           "title": {
            "standoff": 15
           },
           "zerolinecolor": "white",
           "zerolinewidth": 2
          },
          "yaxis": {
           "automargin": true,
           "gridcolor": "white",
           "linecolor": "white",
           "ticks": "",
           "title": {
            "standoff": 15
           },
           "zerolinecolor": "white",
           "zerolinewidth": 2
          }
         }
        }
       }
      }
     },
     "metadata": {},
     "output_type": "display_data"
    }
   ],
   "source": [
    "plotter.plotter(updated_x_samples_wire_div_curl_free, updated_y_samples_wire_div_curl_free, updated_z_samples_wire_div_curl_free, \n",
    "                updated_Bx_samples_wire_div_curl_free, updated_By_samples_wire_div_curl_free, updated_Bz_samples_wire_div_curl_free)"
   ]
  },
  {
   "cell_type": "code",
   "execution_count": 33,
   "metadata": {},
   "outputs": [],
   "source": [
    "outputs_coil_div_curl_free= updated_vector_field(\n",
    "    x_samples_coil, y_samples_coil, z_samples_coil, \n",
    "    Bx_samples_coil, By_samples_coil, Bz_samples_coil, \n",
    "    x_coil, y_coil, z_coil, \n",
    "    kernel_func='divergence_curl_free_kernel' ,\n",
    "    sigma_f = 0.01, l = 3)\n",
    "\n",
    "# unpack outputs \n",
    "updated_x_samples_coil_div_curl_free =  outputs_coil_div_curl_free[0]\n",
    "updated_y_samples_coil_div_curl_free =  outputs_coil_div_curl_free[1]\n",
    "updated_z_samples_coil_div_curl_free =  outputs_coil_div_curl_free[2]\n",
    "updated_Bx_samples_coil_div_curl_free = outputs_coil_div_curl_free[3]\n",
    "updated_By_samples_coil_div_curl_free = outputs_coil_div_curl_free[4]\n",
    "updated_Bz_samples_coil_div_curl_free = outputs_coil_div_curl_free[5]"
   ]
  },
  {
   "cell_type": "code",
   "execution_count": 34,
   "metadata": {},
   "outputs": [
    {
     "data": {
      "application/vnd.plotly.v1+json": {
       "config": {
        "plotlyServerURL": "https://plot.ly"
       },
       "data": [
        {
         "anchor": "tail",
         "sizemode": "scaled",
         "sizeref": 2,
         "type": "cone",
         "u": {
          "bdata": "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",
          "dtype": "f8"
         },
         "v": {
          "bdata": "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",
          "dtype": "f8"
         },
         "w": {
          "bdata": "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",
          "dtype": "f8"
         },
         "x": {
          "bdata": "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",
          "dtype": "f8"
         },
         "y": {
          "bdata": "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",
          "dtype": "f8"
         },
         "z": {
          "bdata": "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",
          "dtype": "f8"
         }
        }
       ],
       "layout": {
        "scene": {
         "xaxis": {
          "title": {
           "text": "X"
          }
         },
         "yaxis": {
          "title": {
           "text": "Y"
          }
         },
         "zaxis": {
          "title": {
           "text": "Z"
          }
         }
        },
        "template": {
         "data": {
          "bar": [
           {
            "error_x": {
             "color": "#2a3f5f"
            },
            "error_y": {
             "color": "#2a3f5f"
            },
            "marker": {
             "line": {
              "color": "#E5ECF6",
              "width": 0.5
             },
             "pattern": {
              "fillmode": "overlay",
              "size": 10,
              "solidity": 0.2
             }
            },
            "type": "bar"
           }
          ],
          "barpolar": [
           {
            "marker": {
             "line": {
              "color": "#E5ECF6",
              "width": 0.5
             },
             "pattern": {
              "fillmode": "overlay",
              "size": 10,
              "solidity": 0.2
             }
            },
            "type": "barpolar"
           }
          ],
          "carpet": [
           {
            "aaxis": {
             "endlinecolor": "#2a3f5f",
             "gridcolor": "white",
             "linecolor": "white",
             "minorgridcolor": "white",
             "startlinecolor": "#2a3f5f"
            },
            "baxis": {
             "endlinecolor": "#2a3f5f",
             "gridcolor": "white",
             "linecolor": "white",
             "minorgridcolor": "white",
             "startlinecolor": "#2a3f5f"
            },
            "type": "carpet"
           }
          ],
          "choropleth": [
           {
            "colorbar": {
             "outlinewidth": 0,
             "ticks": ""
            },
            "type": "choropleth"
           }
          ],
          "contour": [
           {
            "colorbar": {
             "outlinewidth": 0,
             "ticks": ""
            },
            "colorscale": [
             [
              0,
              "#0d0887"
             ],
             [
              0.1111111111111111,
              "#46039f"
             ],
             [
              0.2222222222222222,
              "#7201a8"
             ],
             [
              0.3333333333333333,
              "#9c179e"
             ],
             [
              0.4444444444444444,
              "#bd3786"
             ],
             [
              0.5555555555555556,
              "#d8576b"
             ],
             [
              0.6666666666666666,
              "#ed7953"
             ],
             [
              0.7777777777777778,
              "#fb9f3a"
             ],
             [
              0.8888888888888888,
              "#fdca26"
             ],
             [
              1,
              "#f0f921"
             ]
            ],
            "type": "contour"
           }
          ],
          "contourcarpet": [
           {
            "colorbar": {
             "outlinewidth": 0,
             "ticks": ""
            },
            "type": "contourcarpet"
           }
          ],
          "heatmap": [
           {
            "colorbar": {
             "outlinewidth": 0,
             "ticks": ""
            },
            "colorscale": [
             [
              0,
              "#0d0887"
             ],
             [
              0.1111111111111111,
              "#46039f"
             ],
             [
              0.2222222222222222,
              "#7201a8"
             ],
             [
              0.3333333333333333,
              "#9c179e"
             ],
             [
              0.4444444444444444,
              "#bd3786"
             ],
             [
              0.5555555555555556,
              "#d8576b"
             ],
             [
              0.6666666666666666,
              "#ed7953"
             ],
             [
              0.7777777777777778,
              "#fb9f3a"
             ],
             [
              0.8888888888888888,
              "#fdca26"
             ],
             [
              1,
              "#f0f921"
             ]
            ],
            "type": "heatmap"
           }
          ],
          "histogram": [
           {
            "marker": {
             "pattern": {
              "fillmode": "overlay",
              "size": 10,
              "solidity": 0.2
             }
            },
            "type": "histogram"
           }
          ],
          "histogram2d": [
           {
            "colorbar": {
             "outlinewidth": 0,
             "ticks": ""
            },
            "colorscale": [
             [
              0,
              "#0d0887"
             ],
             [
              0.1111111111111111,
              "#46039f"
             ],
             [
              0.2222222222222222,
              "#7201a8"
             ],
             [
              0.3333333333333333,
              "#9c179e"
             ],
             [
              0.4444444444444444,
              "#bd3786"
             ],
             [
              0.5555555555555556,
              "#d8576b"
             ],
             [
              0.6666666666666666,
              "#ed7953"
             ],
             [
              0.7777777777777778,
              "#fb9f3a"
             ],
             [
              0.8888888888888888,
              "#fdca26"
             ],
             [
              1,
              "#f0f921"
             ]
            ],
            "type": "histogram2d"
           }
          ],
          "histogram2dcontour": [
           {
            "colorbar": {
             "outlinewidth": 0,
             "ticks": ""
            },
            "colorscale": [
             [
              0,
              "#0d0887"
             ],
             [
              0.1111111111111111,
              "#46039f"
             ],
             [
              0.2222222222222222,
              "#7201a8"
             ],
             [
              0.3333333333333333,
              "#9c179e"
             ],
             [
              0.4444444444444444,
              "#bd3786"
             ],
             [
              0.5555555555555556,
              "#d8576b"
             ],
             [
              0.6666666666666666,
              "#ed7953"
             ],
             [
              0.7777777777777778,
              "#fb9f3a"
             ],
             [
              0.8888888888888888,
              "#fdca26"
             ],
             [
              1,
              "#f0f921"
             ]
            ],
            "type": "histogram2dcontour"
           }
          ],
          "mesh3d": [
           {
            "colorbar": {
             "outlinewidth": 0,
             "ticks": ""
            },
            "type": "mesh3d"
           }
          ],
          "parcoords": [
           {
            "line": {
             "colorbar": {
              "outlinewidth": 0,
              "ticks": ""
             }
            },
            "type": "parcoords"
           }
          ],
          "pie": [
           {
            "automargin": true,
            "type": "pie"
           }
          ],
          "scatter": [
           {
            "fillpattern": {
             "fillmode": "overlay",
             "size": 10,
             "solidity": 0.2
            },
            "type": "scatter"
           }
          ],
          "scatter3d": [
           {
            "line": {
             "colorbar": {
              "outlinewidth": 0,
              "ticks": ""
             }
            },
            "marker": {
             "colorbar": {
              "outlinewidth": 0,
              "ticks": ""
             }
            },
            "type": "scatter3d"
           }
          ],
          "scattercarpet": [
           {
            "marker": {
             "colorbar": {
              "outlinewidth": 0,
              "ticks": ""
             }
            },
            "type": "scattercarpet"
           }
          ],
          "scattergeo": [
           {
            "marker": {
             "colorbar": {
              "outlinewidth": 0,
              "ticks": ""
             }
            },
            "type": "scattergeo"
           }
          ],
          "scattergl": [
           {
            "marker": {
             "colorbar": {
              "outlinewidth": 0,
              "ticks": ""
             }
            },
            "type": "scattergl"
           }
          ],
          "scattermap": [
           {
            "marker": {
             "colorbar": {
              "outlinewidth": 0,
              "ticks": ""
             }
            },
            "type": "scattermap"
           }
          ],
          "scattermapbox": [
           {
            "marker": {
             "colorbar": {
              "outlinewidth": 0,
              "ticks": ""
             }
            },
            "type": "scattermapbox"
           }
          ],
          "scatterpolar": [
           {
            "marker": {
             "colorbar": {
              "outlinewidth": 0,
              "ticks": ""
             }
            },
            "type": "scatterpolar"
           }
          ],
          "scatterpolargl": [
           {
            "marker": {
             "colorbar": {
              "outlinewidth": 0,
              "ticks": ""
             }
            },
            "type": "scatterpolargl"
           }
          ],
          "scatterternary": [
           {
            "marker": {
             "colorbar": {
              "outlinewidth": 0,
              "ticks": ""
             }
            },
            "type": "scatterternary"
           }
          ],
          "surface": [
           {
            "colorbar": {
             "outlinewidth": 0,
             "ticks": ""
            },
            "colorscale": [
             [
              0,
              "#0d0887"
             ],
             [
              0.1111111111111111,
              "#46039f"
             ],
             [
              0.2222222222222222,
              "#7201a8"
             ],
             [
              0.3333333333333333,
              "#9c179e"
             ],
             [
              0.4444444444444444,
              "#bd3786"
             ],
             [
              0.5555555555555556,
              "#d8576b"
             ],
             [
              0.6666666666666666,
              "#ed7953"
             ],
             [
              0.7777777777777778,
              "#fb9f3a"
             ],
             [
              0.8888888888888888,
              "#fdca26"
             ],
             [
              1,
              "#f0f921"
             ]
            ],
            "type": "surface"
           }
          ],
          "table": [
           {
            "cells": {
             "fill": {
              "color": "#EBF0F8"
             },
             "line": {
              "color": "white"
             }
            },
            "header": {
             "fill": {
              "color": "#C8D4E3"
             },
             "line": {
              "color": "white"
             }
            },
            "type": "table"
           }
          ]
         },
         "layout": {
          "annotationdefaults": {
           "arrowcolor": "#2a3f5f",
           "arrowhead": 0,
           "arrowwidth": 1
          },
          "autotypenumbers": "strict",
          "coloraxis": {
           "colorbar": {
            "outlinewidth": 0,
            "ticks": ""
           }
          },
          "colorscale": {
           "diverging": [
            [
             0,
             "#8e0152"
            ],
            [
             0.1,
             "#c51b7d"
            ],
            [
             0.2,
             "#de77ae"
            ],
            [
             0.3,
             "#f1b6da"
            ],
            [
             0.4,
             "#fde0ef"
            ],
            [
             0.5,
             "#f7f7f7"
            ],
            [
             0.6,
             "#e6f5d0"
            ],
            [
             0.7,
             "#b8e186"
            ],
            [
             0.8,
             "#7fbc41"
            ],
            [
             0.9,
             "#4d9221"
            ],
            [
             1,
             "#276419"
            ]
           ],
           "sequential": [
            [
             0,
             "#0d0887"
            ],
            [
             0.1111111111111111,
             "#46039f"
            ],
            [
             0.2222222222222222,
             "#7201a8"
            ],
            [
             0.3333333333333333,
             "#9c179e"
            ],
            [
             0.4444444444444444,
             "#bd3786"
            ],
            [
             0.5555555555555556,
             "#d8576b"
            ],
            [
             0.6666666666666666,
             "#ed7953"
            ],
            [
             0.7777777777777778,
             "#fb9f3a"
            ],
            [
             0.8888888888888888,
             "#fdca26"
            ],
            [
             1,
             "#f0f921"
            ]
           ],
           "sequentialminus": [
            [
             0,
             "#0d0887"
            ],
            [
             0.1111111111111111,
             "#46039f"
            ],
            [
             0.2222222222222222,
             "#7201a8"
            ],
            [
             0.3333333333333333,
             "#9c179e"
            ],
            [
             0.4444444444444444,
             "#bd3786"
            ],
            [
             0.5555555555555556,
             "#d8576b"
            ],
            [
             0.6666666666666666,
             "#ed7953"
            ],
            [
             0.7777777777777778,
             "#fb9f3a"
            ],
            [
             0.8888888888888888,
             "#fdca26"
            ],
            [
             1,
             "#f0f921"
            ]
           ]
          },
          "colorway": [
           "#636efa",
           "#EF553B",
           "#00cc96",
           "#ab63fa",
           "#FFA15A",
           "#19d3f3",
           "#FF6692",
           "#B6E880",
           "#FF97FF",
           "#FECB52"
          ],
          "font": {
           "color": "#2a3f5f"
          },
          "geo": {
           "bgcolor": "white",
           "lakecolor": "white",
           "landcolor": "#E5ECF6",
           "showlakes": true,
           "showland": true,
           "subunitcolor": "white"
          },
          "hoverlabel": {
           "align": "left"
          },
          "hovermode": "closest",
          "mapbox": {
           "style": "light"
          },
          "paper_bgcolor": "white",
          "plot_bgcolor": "#E5ECF6",
          "polar": {
           "angularaxis": {
            "gridcolor": "white",
            "linecolor": "white",
            "ticks": ""
           },
           "bgcolor": "#E5ECF6",
           "radialaxis": {
            "gridcolor": "white",
            "linecolor": "white",
            "ticks": ""
           }
          },
          "scene": {
           "xaxis": {
            "backgroundcolor": "#E5ECF6",
            "gridcolor": "white",
            "gridwidth": 2,
            "linecolor": "white",
            "showbackground": true,
            "ticks": "",
            "zerolinecolor": "white"
           },
           "yaxis": {
            "backgroundcolor": "#E5ECF6",
            "gridcolor": "white",
            "gridwidth": 2,
            "linecolor": "white",
            "showbackground": true,
            "ticks": "",
            "zerolinecolor": "white"
           },
           "zaxis": {
            "backgroundcolor": "#E5ECF6",
            "gridcolor": "white",
            "gridwidth": 2,
            "linecolor": "white",
            "showbackground": true,
            "ticks": "",
            "zerolinecolor": "white"
           }
          },
          "shapedefaults": {
           "line": {
            "color": "#2a3f5f"
           }
          },
          "ternary": {
           "aaxis": {
            "gridcolor": "white",
            "linecolor": "white",
            "ticks": ""
           },
           "baxis": {
            "gridcolor": "white",
            "linecolor": "white",
            "ticks": ""
           },
           "bgcolor": "#E5ECF6",
           "caxis": {
            "gridcolor": "white",
            "linecolor": "white",
            "ticks": ""
           }
          },
          "title": {
           "x": 0.05
          },
          "xaxis": {
           "automargin": true,
           "gridcolor": "white",
           "linecolor": "white",
           "ticks": "",
           "title": {
            "standoff": 15
           },
           "zerolinecolor": "white",
           "zerolinewidth": 2
          },
          "yaxis": {
           "automargin": true,
           "gridcolor": "white",
           "linecolor": "white",
           "ticks": "",
           "title": {
            "standoff": 15
           },
           "zerolinecolor": "white",
           "zerolinewidth": 2
          }
         }
        }
       }
      }
     },
     "metadata": {},
     "output_type": "display_data"
    }
   ],
   "source": [
    "plotter.plotter(updated_x_samples_coil_div_curl_free, updated_y_samples_coil_div_curl_free, updated_z_samples_coil_div_curl_free, \n",
    "                updated_Bx_samples_coil_div_curl_free, updated_By_samples_coil_div_curl_free, updated_Bz_samples_coil_div_curl_free)"
   ]
  },
  {
   "cell_type": "code",
   "execution_count": null,
   "metadata": {},
   "outputs": [],
   "source": []
  }
 ],
 "metadata": {
  "kernelspec": {
   "display_name": "env",
   "language": "python",
   "name": "python3"
  },
  "language_info": {
   "codemirror_mode": {
    "name": "ipython",
    "version": 3
   },
   "file_extension": ".py",
   "mimetype": "text/x-python",
   "name": "python",
   "nbconvert_exporter": "python",
   "pygments_lexer": "ipython3",
   "version": "3.12.0"
  }
 },
 "nbformat": 4,
 "nbformat_minor": 2
}

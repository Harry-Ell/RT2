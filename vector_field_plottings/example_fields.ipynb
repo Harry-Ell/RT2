{
 "cells": [
  {
   "cell_type": "markdown",
   "metadata": {},
   "source": [
    "# Vector field plottings "
   ]
  },
  {
   "cell_type": "code",
   "execution_count": 1,
   "metadata": {},
   "outputs": [],
   "source": [
    "import numpy as np \n",
    "import plotter # my 3d plotting code with plotly\n",
    "import matplotlib.pyplot as plt "
   ]
  },
  {
   "cell_type": "markdown",
   "metadata": {},
   "source": [
    "## Two Example Fields and Call Sequences"
   ]
  },
  {
   "cell_type": "code",
   "execution_count": 2,
   "metadata": {},
   "outputs": [
    {
     "data": {
      "application/vnd.plotly.v1+json": {
       "config": {
        "plotlyServerURL": "https://plot.ly"
       },
       "data": [
        {
         "anchor": "tail",
         "sizemode": "scaled",
         "sizeref": 2,
         "type": "cone",
         "u": {
          "bdata": "AAAAAAAA8L8AAAAAAADwvwAAAAAAAPC/AAAAAAAA8L8AAAAAAADwvwAAAAAAAOC/AAAAAAAA4L8AAAAAAADgvwAAAAAAAOC/AAAAAAAA4L8AAAAAAAAAAAAAAAAAAAAAAAAAAAAAAAAAAAAAAAAAAAAAAAAAAAAAAAAAAAAA4D8AAAAAAADgPwAAAAAAAOA/AAAAAAAA4D8AAAAAAADgPwAAAAAAAPA/AAAAAAAA8D8AAAAAAADwPwAAAAAAAPA/AAAAAAAA8D8AAAAAAADwvwAAAAAAAPC/AAAAAAAA8L8AAAAAAADwvwAAAAAAAPC/AAAAAAAA4L8AAAAAAADgvwAAAAAAAOC/AAAAAAAA4L8AAAAAAADgvwAAAAAAAAAAAAAAAAAAAAAAAAAAAAAAAAAAAAAAAAAAAAAAAAAAAAAAAAAAAADgPwAAAAAAAOA/AAAAAAAA4D8AAAAAAADgPwAAAAAAAOA/AAAAAAAA8D8AAAAAAADwPwAAAAAAAPA/AAAAAAAA8D8AAAAAAADwPwAAAAAAAPC/AAAAAAAA8L8AAAAAAADwvwAAAAAAAPC/AAAAAAAA8L8AAAAAAADgvwAAAAAAAOC/AAAAAAAA4L8AAAAAAADgvwAAAAAAAOC/AAAAAAAAAAAAAAAAAAAAAAAAAAAAAAAAAAAAAAAAAAAAAAAAAAAAAAAAAAAAAOA/AAAAAAAA4D8AAAAAAADgPwAAAAAAAOA/AAAAAAAA4D8AAAAAAADwPwAAAAAAAPA/AAAAAAAA8D8AAAAAAADwPwAAAAAAAPA/AAAAAAAA8L8AAAAAAADwvwAAAAAAAPC/AAAAAAAA8L8AAAAAAADwvwAAAAAAAOC/AAAAAAAA4L8AAAAAAADgvwAAAAAAAOC/AAAAAAAA4L8AAAAAAAAAAAAAAAAAAAAAAAAAAAAAAAAAAAAAAAAAAAAAAAAAAAAAAAAAAAAA4D8AAAAAAADgPwAAAAAAAOA/AAAAAAAA4D8AAAAAAADgPwAAAAAAAPA/AAAAAAAA8D8AAAAAAADwPwAAAAAAAPA/AAAAAAAA8D8AAAAAAADwvwAAAAAAAPC/AAAAAAAA8L8AAAAAAADwvwAAAAAAAPC/AAAAAAAA4L8AAAAAAADgvwAAAAAAAOC/AAAAAAAA4L8AAAAAAADgvwAAAAAAAAAAAAAAAAAAAAAAAAAAAAAAAAAAAAAAAAAAAAAAAAAAAAAAAAAAAADgPwAAAAAAAOA/AAAAAAAA4D8AAAAAAADgPwAAAAAAAOA/AAAAAAAA8D8AAAAAAADwPwAAAAAAAPA/AAAAAAAA8D8AAAAAAADwPw==",
          "dtype": "f8"
         },
         "v": {
          "bdata": "AAAAAAAA8L8AAAAAAADwvwAAAAAAAPC/AAAAAAAA8L8AAAAAAADwvwAAAAAAAPC/AAAAAAAA8L8AAAAAAADwvwAAAAAAAPC/AAAAAAAA8L8AAAAAAADwvwAAAAAAAPC/AAAAAAAA8L8AAAAAAADwvwAAAAAAAPC/AAAAAAAA8L8AAAAAAADwvwAAAAAAAPC/AAAAAAAA8L8AAAAAAADwvwAAAAAAAPC/AAAAAAAA8L8AAAAAAADwvwAAAAAAAPC/AAAAAAAA8L8AAAAAAADgvwAAAAAAAOC/AAAAAAAA4L8AAAAAAADgvwAAAAAAAOC/AAAAAAAA4L8AAAAAAADgvwAAAAAAAOC/AAAAAAAA4L8AAAAAAADgvwAAAAAAAOC/AAAAAAAA4L8AAAAAAADgvwAAAAAAAOC/AAAAAAAA4L8AAAAAAADgvwAAAAAAAOC/AAAAAAAA4L8AAAAAAADgvwAAAAAAAOC/AAAAAAAA4L8AAAAAAADgvwAAAAAAAOC/AAAAAAAA4L8AAAAAAADgvwAAAAAAAAAAAAAAAAAAAAAAAAAAAAAAAAAAAAAAAAAAAAAAAAAAAAAAAAAAAAAAAAAAAAAAAAAAAAAAAAAAAAAAAAAAAAAAAAAAAAAAAAAAAAAAAAAAAAAAAAAAAAAAAAAAAAAAAAAAAAAAAAAAAAAAAAAAAAAAAAAAAAAAAAAAAAAAAAAAAAAAAAAAAAAAAAAAAAAAAAAAAAAAAAAAAAAAAAAAAAAAAAAAAAAAAAAAAAAAAAAAAAAAAAAAAAAAAAAAAAAAAAAAAAAAAAAA4D8AAAAAAADgPwAAAAAAAOA/AAAAAAAA4D8AAAAAAADgPwAAAAAAAOA/AAAAAAAA4D8AAAAAAADgPwAAAAAAAOA/AAAAAAAA4D8AAAAAAADgPwAAAAAAAOA/AAAAAAAA4D8AAAAAAADgPwAAAAAAAOA/AAAAAAAA4D8AAAAAAADgPwAAAAAAAOA/AAAAAAAA4D8AAAAAAADgPwAAAAAAAOA/AAAAAAAA4D8AAAAAAADgPwAAAAAAAOA/AAAAAAAA4D8AAAAAAADwPwAAAAAAAPA/AAAAAAAA8D8AAAAAAADwPwAAAAAAAPA/AAAAAAAA8D8AAAAAAADwPwAAAAAAAPA/AAAAAAAA8D8AAAAAAADwPwAAAAAAAPA/AAAAAAAA8D8AAAAAAADwPwAAAAAAAPA/AAAAAAAA8D8AAAAAAADwPwAAAAAAAPA/AAAAAAAA8D8AAAAAAADwPwAAAAAAAPA/AAAAAAAA8D8AAAAAAADwPwAAAAAAAPA/AAAAAAAA8D8AAAAAAADwPw==",
          "dtype": "f8"
         },
         "w": {
          "bdata": "AAAAAAAA8L8AAAAAAADgvwAAAAAAAAAAAAAAAAAA4D8AAAAAAADwPwAAAAAAAPC/AAAAAAAA4L8AAAAAAAAAAAAAAAAAAOA/AAAAAAAA8D8AAAAAAADwvwAAAAAAAOC/AAAAAAAAAAAAAAAAAADgPwAAAAAAAPA/AAAAAAAA8L8AAAAAAADgvwAAAAAAAAAAAAAAAAAA4D8AAAAAAADwPwAAAAAAAPC/AAAAAAAA4L8AAAAAAAAAAAAAAAAAAOA/AAAAAAAA8D8AAAAAAADwvwAAAAAAAOC/AAAAAAAAAAAAAAAAAADgPwAAAAAAAPA/AAAAAAAA8L8AAAAAAADgvwAAAAAAAAAAAAAAAAAA4D8AAAAAAADwPwAAAAAAAPC/AAAAAAAA4L8AAAAAAAAAAAAAAAAAAOA/AAAAAAAA8D8AAAAAAADwvwAAAAAAAOC/AAAAAAAAAAAAAAAAAADgPwAAAAAAAPA/AAAAAAAA8L8AAAAAAADgvwAAAAAAAAAAAAAAAAAA4D8AAAAAAADwPwAAAAAAAPC/AAAAAAAA4L8AAAAAAAAAAAAAAAAAAOA/AAAAAAAA8D8AAAAAAADwvwAAAAAAAOC/AAAAAAAAAAAAAAAAAADgPwAAAAAAAPA/AAAAAAAA8L8AAAAAAADgvwAAAAAAAAAAAAAAAAAA4D8AAAAAAADwPwAAAAAAAPC/AAAAAAAA4L8AAAAAAAAAAAAAAAAAAOA/AAAAAAAA8D8AAAAAAADwvwAAAAAAAOC/AAAAAAAAAAAAAAAAAADgPwAAAAAAAPA/AAAAAAAA8L8AAAAAAADgvwAAAAAAAAAAAAAAAAAA4D8AAAAAAADwPwAAAAAAAPC/AAAAAAAA4L8AAAAAAAAAAAAAAAAAAOA/AAAAAAAA8D8AAAAAAADwvwAAAAAAAOC/AAAAAAAAAAAAAAAAAADgPwAAAAAAAPA/AAAAAAAA8L8AAAAAAADgvwAAAAAAAAAAAAAAAAAA4D8AAAAAAADwPwAAAAAAAPC/AAAAAAAA4L8AAAAAAAAAAAAAAAAAAOA/AAAAAAAA8D8AAAAAAADwvwAAAAAAAOC/AAAAAAAAAAAAAAAAAADgPwAAAAAAAPA/AAAAAAAA8L8AAAAAAADgvwAAAAAAAAAAAAAAAAAA4D8AAAAAAADwPwAAAAAAAPC/AAAAAAAA4L8AAAAAAAAAAAAAAAAAAOA/AAAAAAAA8D8AAAAAAADwvwAAAAAAAOC/AAAAAAAAAAAAAAAAAADgPwAAAAAAAPA/AAAAAAAA8L8AAAAAAADgvwAAAAAAAAAAAAAAAAAA4D8AAAAAAADwPw==",
          "dtype": "f8"
         },
         "x": {
          "bdata": "AAAAAAAA8L8AAAAAAADwvwAAAAAAAPC/AAAAAAAA8L8AAAAAAADwvwAAAAAAAOC/AAAAAAAA4L8AAAAAAADgvwAAAAAAAOC/AAAAAAAA4L8AAAAAAAAAAAAAAAAAAAAAAAAAAAAAAAAAAAAAAAAAAAAAAAAAAAAAAAAAAAAA4D8AAAAAAADgPwAAAAAAAOA/AAAAAAAA4D8AAAAAAADgPwAAAAAAAPA/AAAAAAAA8D8AAAAAAADwPwAAAAAAAPA/AAAAAAAA8D8AAAAAAADwvwAAAAAAAPC/AAAAAAAA8L8AAAAAAADwvwAAAAAAAPC/AAAAAAAA4L8AAAAAAADgvwAAAAAAAOC/AAAAAAAA4L8AAAAAAADgvwAAAAAAAAAAAAAAAAAAAAAAAAAAAAAAAAAAAAAAAAAAAAAAAAAAAAAAAAAAAADgPwAAAAAAAOA/AAAAAAAA4D8AAAAAAADgPwAAAAAAAOA/AAAAAAAA8D8AAAAAAADwPwAAAAAAAPA/AAAAAAAA8D8AAAAAAADwPwAAAAAAAPC/AAAAAAAA8L8AAAAAAADwvwAAAAAAAPC/AAAAAAAA8L8AAAAAAADgvwAAAAAAAOC/AAAAAAAA4L8AAAAAAADgvwAAAAAAAOC/AAAAAAAAAAAAAAAAAAAAAAAAAAAAAAAAAAAAAAAAAAAAAAAAAAAAAAAAAAAAAOA/AAAAAAAA4D8AAAAAAADgPwAAAAAAAOA/AAAAAAAA4D8AAAAAAADwPwAAAAAAAPA/AAAAAAAA8D8AAAAAAADwPwAAAAAAAPA/AAAAAAAA8L8AAAAAAADwvwAAAAAAAPC/AAAAAAAA8L8AAAAAAADwvwAAAAAAAOC/AAAAAAAA4L8AAAAAAADgvwAAAAAAAOC/AAAAAAAA4L8AAAAAAAAAAAAAAAAAAAAAAAAAAAAAAAAAAAAAAAAAAAAAAAAAAAAAAAAAAAAA4D8AAAAAAADgPwAAAAAAAOA/AAAAAAAA4D8AAAAAAADgPwAAAAAAAPA/AAAAAAAA8D8AAAAAAADwPwAAAAAAAPA/AAAAAAAA8D8AAAAAAADwvwAAAAAAAPC/AAAAAAAA8L8AAAAAAADwvwAAAAAAAPC/AAAAAAAA4L8AAAAAAADgvwAAAAAAAOC/AAAAAAAA4L8AAAAAAADgvwAAAAAAAAAAAAAAAAAAAAAAAAAAAAAAAAAAAAAAAAAAAAAAAAAAAAAAAAAAAADgPwAAAAAAAOA/AAAAAAAA4D8AAAAAAADgPwAAAAAAAOA/AAAAAAAA8D8AAAAAAADwPwAAAAAAAPA/AAAAAAAA8D8AAAAAAADwPw==",
          "dtype": "f8"
         },
         "y": {
          "bdata": "AAAAAAAA8L8AAAAAAADwvwAAAAAAAPC/AAAAAAAA8L8AAAAAAADwvwAAAAAAAPC/AAAAAAAA8L8AAAAAAADwvwAAAAAAAPC/AAAAAAAA8L8AAAAAAADwvwAAAAAAAPC/AAAAAAAA8L8AAAAAAADwvwAAAAAAAPC/AAAAAAAA8L8AAAAAAADwvwAAAAAAAPC/AAAAAAAA8L8AAAAAAADwvwAAAAAAAPC/AAAAAAAA8L8AAAAAAADwvwAAAAAAAPC/AAAAAAAA8L8AAAAAAADgvwAAAAAAAOC/AAAAAAAA4L8AAAAAAADgvwAAAAAAAOC/AAAAAAAA4L8AAAAAAADgvwAAAAAAAOC/AAAAAAAA4L8AAAAAAADgvwAAAAAAAOC/AAAAAAAA4L8AAAAAAADgvwAAAAAAAOC/AAAAAAAA4L8AAAAAAADgvwAAAAAAAOC/AAAAAAAA4L8AAAAAAADgvwAAAAAAAOC/AAAAAAAA4L8AAAAAAADgvwAAAAAAAOC/AAAAAAAA4L8AAAAAAADgvwAAAAAAAAAAAAAAAAAAAAAAAAAAAAAAAAAAAAAAAAAAAAAAAAAAAAAAAAAAAAAAAAAAAAAAAAAAAAAAAAAAAAAAAAAAAAAAAAAAAAAAAAAAAAAAAAAAAAAAAAAAAAAAAAAAAAAAAAAAAAAAAAAAAAAAAAAAAAAAAAAAAAAAAAAAAAAAAAAAAAAAAAAAAAAAAAAAAAAAAAAAAAAAAAAAAAAAAAAAAAAAAAAAAAAAAAAAAAAAAAAAAAAAAAAAAAAAAAAAAAAAAAAAAAAAAAAA4D8AAAAAAADgPwAAAAAAAOA/AAAAAAAA4D8AAAAAAADgPwAAAAAAAOA/AAAAAAAA4D8AAAAAAADgPwAAAAAAAOA/AAAAAAAA4D8AAAAAAADgPwAAAAAAAOA/AAAAAAAA4D8AAAAAAADgPwAAAAAAAOA/AAAAAAAA4D8AAAAAAADgPwAAAAAAAOA/AAAAAAAA4D8AAAAAAADgPwAAAAAAAOA/AAAAAAAA4D8AAAAAAADgPwAAAAAAAOA/AAAAAAAA4D8AAAAAAADwPwAAAAAAAPA/AAAAAAAA8D8AAAAAAADwPwAAAAAAAPA/AAAAAAAA8D8AAAAAAADwPwAAAAAAAPA/AAAAAAAA8D8AAAAAAADwPwAAAAAAAPA/AAAAAAAA8D8AAAAAAADwPwAAAAAAAPA/AAAAAAAA8D8AAAAAAADwPwAAAAAAAPA/AAAAAAAA8D8AAAAAAADwPwAAAAAAAPA/AAAAAAAA8D8AAAAAAADwPwAAAAAAAPA/AAAAAAAA8D8AAAAAAADwPw==",
          "dtype": "f8"
         },
         "z": {
          "bdata": "AAAAAAAA8L8AAAAAAADgvwAAAAAAAAAAAAAAAAAA4D8AAAAAAADwPwAAAAAAAPC/AAAAAAAA4L8AAAAAAAAAAAAAAAAAAOA/AAAAAAAA8D8AAAAAAADwvwAAAAAAAOC/AAAAAAAAAAAAAAAAAADgPwAAAAAAAPA/AAAAAAAA8L8AAAAAAADgvwAAAAAAAAAAAAAAAAAA4D8AAAAAAADwPwAAAAAAAPC/AAAAAAAA4L8AAAAAAAAAAAAAAAAAAOA/AAAAAAAA8D8AAAAAAADwvwAAAAAAAOC/AAAAAAAAAAAAAAAAAADgPwAAAAAAAPA/AAAAAAAA8L8AAAAAAADgvwAAAAAAAAAAAAAAAAAA4D8AAAAAAADwPwAAAAAAAPC/AAAAAAAA4L8AAAAAAAAAAAAAAAAAAOA/AAAAAAAA8D8AAAAAAADwvwAAAAAAAOC/AAAAAAAAAAAAAAAAAADgPwAAAAAAAPA/AAAAAAAA8L8AAAAAAADgvwAAAAAAAAAAAAAAAAAA4D8AAAAAAADwPwAAAAAAAPC/AAAAAAAA4L8AAAAAAAAAAAAAAAAAAOA/AAAAAAAA8D8AAAAAAADwvwAAAAAAAOC/AAAAAAAAAAAAAAAAAADgPwAAAAAAAPA/AAAAAAAA8L8AAAAAAADgvwAAAAAAAAAAAAAAAAAA4D8AAAAAAADwPwAAAAAAAPC/AAAAAAAA4L8AAAAAAAAAAAAAAAAAAOA/AAAAAAAA8D8AAAAAAADwvwAAAAAAAOC/AAAAAAAAAAAAAAAAAADgPwAAAAAAAPA/AAAAAAAA8L8AAAAAAADgvwAAAAAAAAAAAAAAAAAA4D8AAAAAAADwPwAAAAAAAPC/AAAAAAAA4L8AAAAAAAAAAAAAAAAAAOA/AAAAAAAA8D8AAAAAAADwvwAAAAAAAOC/AAAAAAAAAAAAAAAAAADgPwAAAAAAAPA/AAAAAAAA8L8AAAAAAADgvwAAAAAAAAAAAAAAAAAA4D8AAAAAAADwPwAAAAAAAPC/AAAAAAAA4L8AAAAAAAAAAAAAAAAAAOA/AAAAAAAA8D8AAAAAAADwvwAAAAAAAOC/AAAAAAAAAAAAAAAAAADgPwAAAAAAAPA/AAAAAAAA8L8AAAAAAADgvwAAAAAAAAAAAAAAAAAA4D8AAAAAAADwPwAAAAAAAPC/AAAAAAAA4L8AAAAAAAAAAAAAAAAAAOA/AAAAAAAA8D8AAAAAAADwvwAAAAAAAOC/AAAAAAAAAAAAAAAAAADgPwAAAAAAAPA/AAAAAAAA8L8AAAAAAADgvwAAAAAAAAAAAAAAAAAA4D8AAAAAAADwPw==",
          "dtype": "f8"
         }
        }
       ],
       "layout": {
        "scene": {
         "xaxis": {
          "title": {
           "text": "X"
          }
         },
         "yaxis": {
          "title": {
           "text": "Y"
          }
         },
         "zaxis": {
          "title": {
           "text": "Z"
          }
         }
        },
        "template": {
         "data": {
          "bar": [
           {
            "error_x": {
             "color": "#2a3f5f"
            },
            "error_y": {
             "color": "#2a3f5f"
            },
            "marker": {
             "line": {
              "color": "#E5ECF6",
              "width": 0.5
             },
             "pattern": {
              "fillmode": "overlay",
              "size": 10,
              "solidity": 0.2
             }
            },
            "type": "bar"
           }
          ],
          "barpolar": [
           {
            "marker": {
             "line": {
              "color": "#E5ECF6",
              "width": 0.5
             },
             "pattern": {
              "fillmode": "overlay",
              "size": 10,
              "solidity": 0.2
             }
            },
            "type": "barpolar"
           }
          ],
          "carpet": [
           {
            "aaxis": {
             "endlinecolor": "#2a3f5f",
             "gridcolor": "white",
             "linecolor": "white",
             "minorgridcolor": "white",
             "startlinecolor": "#2a3f5f"
            },
            "baxis": {
             "endlinecolor": "#2a3f5f",
             "gridcolor": "white",
             "linecolor": "white",
             "minorgridcolor": "white",
             "startlinecolor": "#2a3f5f"
            },
            "type": "carpet"
           }
          ],
          "choropleth": [
           {
            "colorbar": {
             "outlinewidth": 0,
             "ticks": ""
            },
            "type": "choropleth"
           }
          ],
          "contour": [
           {
            "colorbar": {
             "outlinewidth": 0,
             "ticks": ""
            },
            "colorscale": [
             [
              0,
              "#0d0887"
             ],
             [
              0.1111111111111111,
              "#46039f"
             ],
             [
              0.2222222222222222,
              "#7201a8"
             ],
             [
              0.3333333333333333,
              "#9c179e"
             ],
             [
              0.4444444444444444,
              "#bd3786"
             ],
             [
              0.5555555555555556,
              "#d8576b"
             ],
             [
              0.6666666666666666,
              "#ed7953"
             ],
             [
              0.7777777777777778,
              "#fb9f3a"
             ],
             [
              0.8888888888888888,
              "#fdca26"
             ],
             [
              1,
              "#f0f921"
             ]
            ],
            "type": "contour"
           }
          ],
          "contourcarpet": [
           {
            "colorbar": {
             "outlinewidth": 0,
             "ticks": ""
            },
            "type": "contourcarpet"
           }
          ],
          "heatmap": [
           {
            "colorbar": {
             "outlinewidth": 0,
             "ticks": ""
            },
            "colorscale": [
             [
              0,
              "#0d0887"
             ],
             [
              0.1111111111111111,
              "#46039f"
             ],
             [
              0.2222222222222222,
              "#7201a8"
             ],
             [
              0.3333333333333333,
              "#9c179e"
             ],
             [
              0.4444444444444444,
              "#bd3786"
             ],
             [
              0.5555555555555556,
              "#d8576b"
             ],
             [
              0.6666666666666666,
              "#ed7953"
             ],
             [
              0.7777777777777778,
              "#fb9f3a"
             ],
             [
              0.8888888888888888,
              "#fdca26"
             ],
             [
              1,
              "#f0f921"
             ]
            ],
            "type": "heatmap"
           }
          ],
          "histogram": [
           {
            "marker": {
             "pattern": {
              "fillmode": "overlay",
              "size": 10,
              "solidity": 0.2
             }
            },
            "type": "histogram"
           }
          ],
          "histogram2d": [
           {
            "colorbar": {
             "outlinewidth": 0,
             "ticks": ""
            },
            "colorscale": [
             [
              0,
              "#0d0887"
             ],
             [
              0.1111111111111111,
              "#46039f"
             ],
             [
              0.2222222222222222,
              "#7201a8"
             ],
             [
              0.3333333333333333,
              "#9c179e"
             ],
             [
              0.4444444444444444,
              "#bd3786"
             ],
             [
              0.5555555555555556,
              "#d8576b"
             ],
             [
              0.6666666666666666,
              "#ed7953"
             ],
             [
              0.7777777777777778,
              "#fb9f3a"
             ],
             [
              0.8888888888888888,
              "#fdca26"
             ],
             [
              1,
              "#f0f921"
             ]
            ],
            "type": "histogram2d"
           }
          ],
          "histogram2dcontour": [
           {
            "colorbar": {
             "outlinewidth": 0,
             "ticks": ""
            },
            "colorscale": [
             [
              0,
              "#0d0887"
             ],
             [
              0.1111111111111111,
              "#46039f"
             ],
             [
              0.2222222222222222,
              "#7201a8"
             ],
             [
              0.3333333333333333,
              "#9c179e"
             ],
             [
              0.4444444444444444,
              "#bd3786"
             ],
             [
              0.5555555555555556,
              "#d8576b"
             ],
             [
              0.6666666666666666,
              "#ed7953"
             ],
             [
              0.7777777777777778,
              "#fb9f3a"
             ],
             [
              0.8888888888888888,
              "#fdca26"
             ],
             [
              1,
              "#f0f921"
             ]
            ],
            "type": "histogram2dcontour"
           }
          ],
          "mesh3d": [
           {
            "colorbar": {
             "outlinewidth": 0,
             "ticks": ""
            },
            "type": "mesh3d"
           }
          ],
          "parcoords": [
           {
            "line": {
             "colorbar": {
              "outlinewidth": 0,
              "ticks": ""
             }
            },
            "type": "parcoords"
           }
          ],
          "pie": [
           {
            "automargin": true,
            "type": "pie"
           }
          ],
          "scatter": [
           {
            "fillpattern": {
             "fillmode": "overlay",
             "size": 10,
             "solidity": 0.2
            },
            "type": "scatter"
           }
          ],
          "scatter3d": [
           {
            "line": {
             "colorbar": {
              "outlinewidth": 0,
              "ticks": ""
             }
            },
            "marker": {
             "colorbar": {
              "outlinewidth": 0,
              "ticks": ""
             }
            },
            "type": "scatter3d"
           }
          ],
          "scattercarpet": [
           {
            "marker": {
             "colorbar": {
              "outlinewidth": 0,
              "ticks": ""
             }
            },
            "type": "scattercarpet"
           }
          ],
          "scattergeo": [
           {
            "marker": {
             "colorbar": {
              "outlinewidth": 0,
              "ticks": ""
             }
            },
            "type": "scattergeo"
           }
          ],
          "scattergl": [
           {
            "marker": {
             "colorbar": {
              "outlinewidth": 0,
              "ticks": ""
             }
            },
            "type": "scattergl"
           }
          ],
          "scattermap": [
           {
            "marker": {
             "colorbar": {
              "outlinewidth": 0,
              "ticks": ""
             }
            },
            "type": "scattermap"
           }
          ],
          "scattermapbox": [
           {
            "marker": {
             "colorbar": {
              "outlinewidth": 0,
              "ticks": ""
             }
            },
            "type": "scattermapbox"
           }
          ],
          "scatterpolar": [
           {
            "marker": {
             "colorbar": {
              "outlinewidth": 0,
              "ticks": ""
             }
            },
            "type": "scatterpolar"
           }
          ],
          "scatterpolargl": [
           {
            "marker": {
             "colorbar": {
              "outlinewidth": 0,
              "ticks": ""
             }
            },
            "type": "scatterpolargl"
           }
          ],
          "scatterternary": [
           {
            "marker": {
             "colorbar": {
              "outlinewidth": 0,
              "ticks": ""
             }
            },
            "type": "scatterternary"
           }
          ],
          "surface": [
           {
            "colorbar": {
             "outlinewidth": 0,
             "ticks": ""
            },
            "colorscale": [
             [
              0,
              "#0d0887"
             ],
             [
              0.1111111111111111,
              "#46039f"
             ],
             [
              0.2222222222222222,
              "#7201a8"
             ],
             [
              0.3333333333333333,
              "#9c179e"
             ],
             [
              0.4444444444444444,
              "#bd3786"
             ],
             [
              0.5555555555555556,
              "#d8576b"
             ],
             [
              0.6666666666666666,
              "#ed7953"
             ],
             [
              0.7777777777777778,
              "#fb9f3a"
             ],
             [
              0.8888888888888888,
              "#fdca26"
             ],
             [
              1,
              "#f0f921"
             ]
            ],
            "type": "surface"
           }
          ],
          "table": [
           {
            "cells": {
             "fill": {
              "color": "#EBF0F8"
             },
             "line": {
              "color": "white"
             }
            },
            "header": {
             "fill": {
              "color": "#C8D4E3"
             },
             "line": {
              "color": "white"
             }
            },
            "type": "table"
           }
          ]
         },
         "layout": {
          "annotationdefaults": {
           "arrowcolor": "#2a3f5f",
           "arrowhead": 0,
           "arrowwidth": 1
          },
          "autotypenumbers": "strict",
          "coloraxis": {
           "colorbar": {
            "outlinewidth": 0,
            "ticks": ""
           }
          },
          "colorscale": {
           "diverging": [
            [
             0,
             "#8e0152"
            ],
            [
             0.1,
             "#c51b7d"
            ],
            [
             0.2,
             "#de77ae"
            ],
            [
             0.3,
             "#f1b6da"
            ],
            [
             0.4,
             "#fde0ef"
            ],
            [
             0.5,
             "#f7f7f7"
            ],
            [
             0.6,
             "#e6f5d0"
            ],
            [
             0.7,
             "#b8e186"
            ],
            [
             0.8,
             "#7fbc41"
            ],
            [
             0.9,
             "#4d9221"
            ],
            [
             1,
             "#276419"
            ]
           ],
           "sequential": [
            [
             0,
             "#0d0887"
            ],
            [
             0.1111111111111111,
             "#46039f"
            ],
            [
             0.2222222222222222,
             "#7201a8"
            ],
            [
             0.3333333333333333,
             "#9c179e"
            ],
            [
             0.4444444444444444,
             "#bd3786"
            ],
            [
             0.5555555555555556,
             "#d8576b"
            ],
            [
             0.6666666666666666,
             "#ed7953"
            ],
            [
             0.7777777777777778,
             "#fb9f3a"
            ],
            [
             0.8888888888888888,
             "#fdca26"
            ],
            [
             1,
             "#f0f921"
            ]
           ],
           "sequentialminus": [
            [
             0,
             "#0d0887"
            ],
            [
             0.1111111111111111,
             "#46039f"
            ],
            [
             0.2222222222222222,
             "#7201a8"
            ],
            [
             0.3333333333333333,
             "#9c179e"
            ],
            [
             0.4444444444444444,
             "#bd3786"
            ],
            [
             0.5555555555555556,
             "#d8576b"
            ],
            [
             0.6666666666666666,
             "#ed7953"
            ],
            [
             0.7777777777777778,
             "#fb9f3a"
            ],
            [
             0.8888888888888888,
             "#fdca26"
            ],
            [
             1,
             "#f0f921"
            ]
           ]
          },
          "colorway": [
           "#636efa",
           "#EF553B",
           "#00cc96",
           "#ab63fa",
           "#FFA15A",
           "#19d3f3",
           "#FF6692",
           "#B6E880",
           "#FF97FF",
           "#FECB52"
          ],
          "font": {
           "color": "#2a3f5f"
          },
          "geo": {
           "bgcolor": "white",
           "lakecolor": "white",
           "landcolor": "#E5ECF6",
           "showlakes": true,
           "showland": true,
           "subunitcolor": "white"
          },
          "hoverlabel": {
           "align": "left"
          },
          "hovermode": "closest",
          "mapbox": {
           "style": "light"
          },
          "paper_bgcolor": "white",
          "plot_bgcolor": "#E5ECF6",
          "polar": {
           "angularaxis": {
            "gridcolor": "white",
            "linecolor": "white",
            "ticks": ""
           },
           "bgcolor": "#E5ECF6",
           "radialaxis": {
            "gridcolor": "white",
            "linecolor": "white",
            "ticks": ""
           }
          },
          "scene": {
           "xaxis": {
            "backgroundcolor": "#E5ECF6",
            "gridcolor": "white",
            "gridwidth": 2,
            "linecolor": "white",
            "showbackground": true,
            "ticks": "",
            "zerolinecolor": "white"
           },
           "yaxis": {
            "backgroundcolor": "#E5ECF6",
            "gridcolor": "white",
            "gridwidth": 2,
            "linecolor": "white",
            "showbackground": true,
            "ticks": "",
            "zerolinecolor": "white"
           },
           "zaxis": {
            "backgroundcolor": "#E5ECF6",
            "gridcolor": "white",
            "gridwidth": 2,
            "linecolor": "white",
            "showbackground": true,
            "ticks": "",
            "zerolinecolor": "white"
           }
          },
          "shapedefaults": {
           "line": {
            "color": "#2a3f5f"
           }
          },
          "ternary": {
           "aaxis": {
            "gridcolor": "white",
            "linecolor": "white",
            "ticks": ""
           },
           "baxis": {
            "gridcolor": "white",
            "linecolor": "white",
            "ticks": ""
           },
           "bgcolor": "#E5ECF6",
           "caxis": {
            "gridcolor": "white",
            "linecolor": "white",
            "ticks": ""
           }
          },
          "title": {
           "x": 0.05
          },
          "xaxis": {
           "automargin": true,
           "gridcolor": "white",
           "linecolor": "white",
           "ticks": "",
           "title": {
            "standoff": 15
           },
           "zerolinecolor": "white",
           "zerolinewidth": 2
          },
          "yaxis": {
           "automargin": true,
           "gridcolor": "white",
           "linecolor": "white",
           "ticks": "",
           "title": {
            "standoff": 15
           },
           "zerolinecolor": "white",
           "zerolinewidth": 2
          }
         }
        },
        "title": {
         "text": "Example Radial Field Plot"
        }
       }
      }
     },
     "metadata": {},
     "output_type": "display_data"
    }
   ],
   "source": [
    "# Define grid\n",
    "x1, y1, z1 = np.meshgrid(\n",
    "    np.linspace(-1, 1, 5),\n",
    "    np.linspace(-1, 1, 5),\n",
    "    np.linspace(-1, 1, 5)\n",
    ")\n",
    "\n",
    "# Simple radial field example \n",
    "u1 = x1\n",
    "v1 = y1\n",
    "w1 = z1\n",
    "\n",
    "plotter.plotter(x1, y1, z1, u1, v1, w1, title = 'Example Radial Field Plot')"
   ]
  },
  {
   "cell_type": "code",
   "execution_count": 3,
   "metadata": {},
   "outputs": [
    {
     "data": {
      "application/vnd.plotly.v1+json": {
       "config": {
        "plotlyServerURL": "https://plot.ly"
       },
       "data": [
        {
         "anchor": "tail",
         "sizemode": "scaled",
         "sizeref": 2,
         "type": "cone",
         "u": {
          "bdata": "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",
          "dtype": "f8"
         },
         "v": {
          "bdata": "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",
          "dtype": "f8"
         },
         "w": {
          "bdata": "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",
          "dtype": "f8"
         },
         "x": {
          "bdata": "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",
          "dtype": "f8"
         },
         "y": {
          "bdata": "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",
          "dtype": "f8"
         },
         "z": {
          "bdata": "mpmZmZmZ6b8AAAAAAAAAAJqZmZmZmek/mpmZmZmZ6b8AAAAAAAAAAJqZmZmZmek/mpmZmZmZ6b8AAAAAAAAAAJqZmZmZmek/mpmZmZmZ6b8AAAAAAAAAAJqZmZmZmek/mpmZmZmZ6b8AAAAAAAAAAJqZmZmZmek/mpmZmZmZ6b8AAAAAAAAAAJqZmZmZmek/mpmZmZmZ6b8AAAAAAAAAAJqZmZmZmek/mpmZmZmZ6b8AAAAAAAAAAJqZmZmZmek/mpmZmZmZ6b8AAAAAAAAAAJqZmZmZmek/mpmZmZmZ6b8AAAAAAAAAAJqZmZmZmek/mpmZmZmZ6b8AAAAAAAAAAJqZmZmZmek/mpmZmZmZ6b8AAAAAAAAAAJqZmZmZmek/mpmZmZmZ6b8AAAAAAAAAAJqZmZmZmek/mpmZmZmZ6b8AAAAAAAAAAJqZmZmZmek/mpmZmZmZ6b8AAAAAAAAAAJqZmZmZmek/mpmZmZmZ6b8AAAAAAAAAAJqZmZmZmek/mpmZmZmZ6b8AAAAAAAAAAJqZmZmZmek/mpmZmZmZ6b8AAAAAAAAAAJqZmZmZmek/mpmZmZmZ6b8AAAAAAAAAAJqZmZmZmek/mpmZmZmZ6b8AAAAAAAAAAJqZmZmZmek/mpmZmZmZ6b8AAAAAAAAAAJqZmZmZmek/mpmZmZmZ6b8AAAAAAAAAAJqZmZmZmek/mpmZmZmZ6b8AAAAAAAAAAJqZmZmZmek/mpmZmZmZ6b8AAAAAAAAAAJqZmZmZmek/mpmZmZmZ6b8AAAAAAAAAAJqZmZmZmek/mpmZmZmZ6b8AAAAAAAAAAJqZmZmZmek/mpmZmZmZ6b8AAAAAAAAAAJqZmZmZmek/mpmZmZmZ6b8AAAAAAAAAAJqZmZmZmek/mpmZmZmZ6b8AAAAAAAAAAJqZmZmZmek/mpmZmZmZ6b8AAAAAAAAAAJqZmZmZmek/mpmZmZmZ6b8AAAAAAAAAAJqZmZmZmek/mpmZmZmZ6b8AAAAAAAAAAJqZmZmZmek/mpmZmZmZ6b8AAAAAAAAAAJqZmZmZmek/mpmZmZmZ6b8AAAAAAAAAAJqZmZmZmek/mpmZmZmZ6b8AAAAAAAAAAJqZmZmZmek/mpmZmZmZ6b8AAAAAAAAAAJqZmZmZmek/mpmZmZmZ6b8AAAAAAAAAAJqZmZmZmek/mpmZmZmZ6b8AAAAAAAAAAJqZmZmZmek/mpmZmZmZ6b8AAAAAAAAAAJqZmZmZmek/mpmZmZmZ6b8AAAAAAAAAAJqZmZmZmek/mpmZmZmZ6b8AAAAAAAAAAJqZmZmZmek/mpmZmZmZ6b8AAAAAAAAAAJqZmZmZmek/mpmZmZmZ6b8AAAAAAAAAAJqZmZmZmek/mpmZmZmZ6b8AAAAAAAAAAJqZmZmZmek/mpmZmZmZ6b8AAAAAAAAAAJqZmZmZmek/mpmZmZmZ6b8AAAAAAAAAAJqZmZmZmek/mpmZmZmZ6b8AAAAAAAAAAJqZmZmZmek/mpmZmZmZ6b8AAAAAAAAAAJqZmZmZmek/mpmZmZmZ6b8AAAAAAAAAAJqZmZmZmek/mpmZmZmZ6b8AAAAAAAAAAJqZmZmZmek/mpmZmZmZ6b8AAAAAAAAAAJqZmZmZmek/mpmZmZmZ6b8AAAAAAAAAAJqZmZmZmek/mpmZmZmZ6b8AAAAAAAAAAJqZmZmZmek/mpmZmZmZ6b8AAAAAAAAAAJqZmZmZmek/mpmZmZmZ6b8AAAAAAAAAAJqZmZmZmek/mpmZmZmZ6b8AAAAAAAAAAJqZmZmZmek/mpmZmZmZ6b8AAAAAAAAAAJqZmZmZmek/mpmZmZmZ6b8AAAAAAAAAAJqZmZmZmek/mpmZmZmZ6b8AAAAAAAAAAJqZmZmZmek/mpmZmZmZ6b8AAAAAAAAAAJqZmZmZmek/mpmZmZmZ6b8AAAAAAAAAAJqZmZmZmek/mpmZmZmZ6b8AAAAAAAAAAJqZmZmZmek/mpmZmZmZ6b8AAAAAAAAAAJqZmZmZmek/mpmZmZmZ6b8AAAAAAAAAAJqZmZmZmek/mpmZmZmZ6b8AAAAAAAAAAJqZmZmZmek/mpmZmZmZ6b8AAAAAAAAAAJqZmZmZmek/mpmZmZmZ6b8AAAAAAAAAAJqZmZmZmek/mpmZmZmZ6b8AAAAAAAAAAJqZmZmZmek/mpmZmZmZ6b8AAAAAAAAAAJqZmZmZmek/mpmZmZmZ6b8AAAAAAAAAAJqZmZmZmek/mpmZmZmZ6b8AAAAAAAAAAJqZmZmZmek/mpmZmZmZ6b8AAAAAAAAAAJqZmZmZmek/mpmZmZmZ6b8AAAAAAAAAAJqZmZmZmek/mpmZmZmZ6b8AAAAAAAAAAJqZmZmZmek/mpmZmZmZ6b8AAAAAAAAAAJqZmZmZmek/mpmZmZmZ6b8AAAAAAAAAAJqZmZmZmek/mpmZmZmZ6b8AAAAAAAAAAJqZmZmZmek/mpmZmZmZ6b8AAAAAAAAAAJqZmZmZmek/mpmZmZmZ6b8AAAAAAAAAAJqZmZmZmek/mpmZmZmZ6b8AAAAAAAAAAJqZmZmZmek/mpmZmZmZ6b8AAAAAAAAAAJqZmZmZmek/",
          "dtype": "f8"
         }
        }
       ],
       "layout": {
        "scene": {
         "xaxis": {
          "title": {
           "text": "X"
          }
         },
         "yaxis": {
          "title": {
           "text": "Y"
          }
         },
         "zaxis": {
          "title": {
           "text": "Z"
          }
         }
        },
        "template": {
         "data": {
          "bar": [
           {
            "error_x": {
             "color": "#2a3f5f"
            },
            "error_y": {
             "color": "#2a3f5f"
            },
            "marker": {
             "line": {
              "color": "#E5ECF6",
              "width": 0.5
             },
             "pattern": {
              "fillmode": "overlay",
              "size": 10,
              "solidity": 0.2
             }
            },
            "type": "bar"
           }
          ],
          "barpolar": [
           {
            "marker": {
             "line": {
              "color": "#E5ECF6",
              "width": 0.5
             },
             "pattern": {
              "fillmode": "overlay",
              "size": 10,
              "solidity": 0.2
             }
            },
            "type": "barpolar"
           }
          ],
          "carpet": [
           {
            "aaxis": {
             "endlinecolor": "#2a3f5f",
             "gridcolor": "white",
             "linecolor": "white",
             "minorgridcolor": "white",
             "startlinecolor": "#2a3f5f"
            },
            "baxis": {
             "endlinecolor": "#2a3f5f",
             "gridcolor": "white",
             "linecolor": "white",
             "minorgridcolor": "white",
             "startlinecolor": "#2a3f5f"
            },
            "type": "carpet"
           }
          ],
          "choropleth": [
           {
            "colorbar": {
             "outlinewidth": 0,
             "ticks": ""
            },
            "type": "choropleth"
           }
          ],
          "contour": [
           {
            "colorbar": {
             "outlinewidth": 0,
             "ticks": ""
            },
            "colorscale": [
             [
              0,
              "#0d0887"
             ],
             [
              0.1111111111111111,
              "#46039f"
             ],
             [
              0.2222222222222222,
              "#7201a8"
             ],
             [
              0.3333333333333333,
              "#9c179e"
             ],
             [
              0.4444444444444444,
              "#bd3786"
             ],
             [
              0.5555555555555556,
              "#d8576b"
             ],
             [
              0.6666666666666666,
              "#ed7953"
             ],
             [
              0.7777777777777778,
              "#fb9f3a"
             ],
             [
              0.8888888888888888,
              "#fdca26"
             ],
             [
              1,
              "#f0f921"
             ]
            ],
            "type": "contour"
           }
          ],
          "contourcarpet": [
           {
            "colorbar": {
             "outlinewidth": 0,
             "ticks": ""
            },
            "type": "contourcarpet"
           }
          ],
          "heatmap": [
           {
            "colorbar": {
             "outlinewidth": 0,
             "ticks": ""
            },
            "colorscale": [
             [
              0,
              "#0d0887"
             ],
             [
              0.1111111111111111,
              "#46039f"
             ],
             [
              0.2222222222222222,
              "#7201a8"
             ],
             [
              0.3333333333333333,
              "#9c179e"
             ],
             [
              0.4444444444444444,
              "#bd3786"
             ],
             [
              0.5555555555555556,
              "#d8576b"
             ],
             [
              0.6666666666666666,
              "#ed7953"
             ],
             [
              0.7777777777777778,
              "#fb9f3a"
             ],
             [
              0.8888888888888888,
              "#fdca26"
             ],
             [
              1,
              "#f0f921"
             ]
            ],
            "type": "heatmap"
           }
          ],
          "histogram": [
           {
            "marker": {
             "pattern": {
              "fillmode": "overlay",
              "size": 10,
              "solidity": 0.2
             }
            },
            "type": "histogram"
           }
          ],
          "histogram2d": [
           {
            "colorbar": {
             "outlinewidth": 0,
             "ticks": ""
            },
            "colorscale": [
             [
              0,
              "#0d0887"
             ],
             [
              0.1111111111111111,
              "#46039f"
             ],
             [
              0.2222222222222222,
              "#7201a8"
             ],
             [
              0.3333333333333333,
              "#9c179e"
             ],
             [
              0.4444444444444444,
              "#bd3786"
             ],
             [
              0.5555555555555556,
              "#d8576b"
             ],
             [
              0.6666666666666666,
              "#ed7953"
             ],
             [
              0.7777777777777778,
              "#fb9f3a"
             ],
             [
              0.8888888888888888,
              "#fdca26"
             ],
             [
              1,
              "#f0f921"
             ]
            ],
            "type": "histogram2d"
           }
          ],
          "histogram2dcontour": [
           {
            "colorbar": {
             "outlinewidth": 0,
             "ticks": ""
            },
            "colorscale": [
             [
              0,
              "#0d0887"
             ],
             [
              0.1111111111111111,
              "#46039f"
             ],
             [
              0.2222222222222222,
              "#7201a8"
             ],
             [
              0.3333333333333333,
              "#9c179e"
             ],
             [
              0.4444444444444444,
              "#bd3786"
             ],
             [
              0.5555555555555556,
              "#d8576b"
             ],
             [
              0.6666666666666666,
              "#ed7953"
             ],
             [
              0.7777777777777778,
              "#fb9f3a"
             ],
             [
              0.8888888888888888,
              "#fdca26"
             ],
             [
              1,
              "#f0f921"
             ]
            ],
            "type": "histogram2dcontour"
           }
          ],
          "mesh3d": [
           {
            "colorbar": {
             "outlinewidth": 0,
             "ticks": ""
            },
            "type": "mesh3d"
           }
          ],
          "parcoords": [
           {
            "line": {
             "colorbar": {
              "outlinewidth": 0,
              "ticks": ""
             }
            },
            "type": "parcoords"
           }
          ],
          "pie": [
           {
            "automargin": true,
            "type": "pie"
           }
          ],
          "scatter": [
           {
            "fillpattern": {
             "fillmode": "overlay",
             "size": 10,
             "solidity": 0.2
            },
            "type": "scatter"
           }
          ],
          "scatter3d": [
           {
            "line": {
             "colorbar": {
              "outlinewidth": 0,
              "ticks": ""
             }
            },
            "marker": {
             "colorbar": {
              "outlinewidth": 0,
              "ticks": ""
             }
            },
            "type": "scatter3d"
           }
          ],
          "scattercarpet": [
           {
            "marker": {
             "colorbar": {
              "outlinewidth": 0,
              "ticks": ""
             }
            },
            "type": "scattercarpet"
           }
          ],
          "scattergeo": [
           {
            "marker": {
             "colorbar": {
              "outlinewidth": 0,
              "ticks": ""
             }
            },
            "type": "scattergeo"
           }
          ],
          "scattergl": [
           {
            "marker": {
             "colorbar": {
              "outlinewidth": 0,
              "ticks": ""
             }
            },
            "type": "scattergl"
           }
          ],
          "scattermap": [
           {
            "marker": {
             "colorbar": {
              "outlinewidth": 0,
              "ticks": ""
             }
            },
            "type": "scattermap"
           }
          ],
          "scattermapbox": [
           {
            "marker": {
             "colorbar": {
              "outlinewidth": 0,
              "ticks": ""
             }
            },
            "type": "scattermapbox"
           }
          ],
          "scatterpolar": [
           {
            "marker": {
             "colorbar": {
              "outlinewidth": 0,
              "ticks": ""
             }
            },
            "type": "scatterpolar"
           }
          ],
          "scatterpolargl": [
           {
            "marker": {
             "colorbar": {
              "outlinewidth": 0,
              "ticks": ""
             }
            },
            "type": "scatterpolargl"
           }
          ],
          "scatterternary": [
           {
            "marker": {
             "colorbar": {
              "outlinewidth": 0,
              "ticks": ""
             }
            },
            "type": "scatterternary"
           }
          ],
          "surface": [
           {
            "colorbar": {
             "outlinewidth": 0,
             "ticks": ""
            },
            "colorscale": [
             [
              0,
              "#0d0887"
             ],
             [
              0.1111111111111111,
              "#46039f"
             ],
             [
              0.2222222222222222,
              "#7201a8"
             ],
             [
              0.3333333333333333,
              "#9c179e"
             ],
             [
              0.4444444444444444,
              "#bd3786"
             ],
             [
              0.5555555555555556,
              "#d8576b"
             ],
             [
              0.6666666666666666,
              "#ed7953"
             ],
             [
              0.7777777777777778,
              "#fb9f3a"
             ],
             [
              0.8888888888888888,
              "#fdca26"
             ],
             [
              1,
              "#f0f921"
             ]
            ],
            "type": "surface"
           }
          ],
          "table": [
           {
            "cells": {
             "fill": {
              "color": "#EBF0F8"
             },
             "line": {
              "color": "white"
             }
            },
            "header": {
             "fill": {
              "color": "#C8D4E3"
             },
             "line": {
              "color": "white"
             }
            },
            "type": "table"
           }
          ]
         },
         "layout": {
          "annotationdefaults": {
           "arrowcolor": "#2a3f5f",
           "arrowhead": 0,
           "arrowwidth": 1
          },
          "autotypenumbers": "strict",
          "coloraxis": {
           "colorbar": {
            "outlinewidth": 0,
            "ticks": ""
           }
          },
          "colorscale": {
           "diverging": [
            [
             0,
             "#8e0152"
            ],
            [
             0.1,
             "#c51b7d"
            ],
            [
             0.2,
             "#de77ae"
            ],
            [
             0.3,
             "#f1b6da"
            ],
            [
             0.4,
             "#fde0ef"
            ],
            [
             0.5,
             "#f7f7f7"
            ],
            [
             0.6,
             "#e6f5d0"
            ],
            [
             0.7,
             "#b8e186"
            ],
            [
             0.8,
             "#7fbc41"
            ],
            [
             0.9,
             "#4d9221"
            ],
            [
             1,
             "#276419"
            ]
           ],
           "sequential": [
            [
             0,
             "#0d0887"
            ],
            [
             0.1111111111111111,
             "#46039f"
            ],
            [
             0.2222222222222222,
             "#7201a8"
            ],
            [
             0.3333333333333333,
             "#9c179e"
            ],
            [
             0.4444444444444444,
             "#bd3786"
            ],
            [
             0.5555555555555556,
             "#d8576b"
            ],
            [
             0.6666666666666666,
             "#ed7953"
            ],
            [
             0.7777777777777778,
             "#fb9f3a"
            ],
            [
             0.8888888888888888,
             "#fdca26"
            ],
            [
             1,
             "#f0f921"
            ]
           ],
           "sequentialminus": [
            [
             0,
             "#0d0887"
            ],
            [
             0.1111111111111111,
             "#46039f"
            ],
            [
             0.2222222222222222,
             "#7201a8"
            ],
            [
             0.3333333333333333,
             "#9c179e"
            ],
            [
             0.4444444444444444,
             "#bd3786"
            ],
            [
             0.5555555555555556,
             "#d8576b"
            ],
            [
             0.6666666666666666,
             "#ed7953"
            ],
            [
             0.7777777777777778,
             "#fb9f3a"
            ],
            [
             0.8888888888888888,
             "#fdca26"
            ],
            [
             1,
             "#f0f921"
            ]
           ]
          },
          "colorway": [
           "#636efa",
           "#EF553B",
           "#00cc96",
           "#ab63fa",
           "#FFA15A",
           "#19d3f3",
           "#FF6692",
           "#B6E880",
           "#FF97FF",
           "#FECB52"
          ],
          "font": {
           "color": "#2a3f5f"
          },
          "geo": {
           "bgcolor": "white",
           "lakecolor": "white",
           "landcolor": "#E5ECF6",
           "showlakes": true,
           "showland": true,
           "subunitcolor": "white"
          },
          "hoverlabel": {
           "align": "left"
          },
          "hovermode": "closest",
          "mapbox": {
           "style": "light"
          },
          "paper_bgcolor": "white",
          "plot_bgcolor": "#E5ECF6",
          "polar": {
           "angularaxis": {
            "gridcolor": "white",
            "linecolor": "white",
            "ticks": ""
           },
           "bgcolor": "#E5ECF6",
           "radialaxis": {
            "gridcolor": "white",
            "linecolor": "white",
            "ticks": ""
           }
          },
          "scene": {
           "xaxis": {
            "backgroundcolor": "#E5ECF6",
            "gridcolor": "white",
            "gridwidth": 2,
            "linecolor": "white",
            "showbackground": true,
            "ticks": "",
            "zerolinecolor": "white"
           },
           "yaxis": {
            "backgroundcolor": "#E5ECF6",
            "gridcolor": "white",
            "gridwidth": 2,
            "linecolor": "white",
            "showbackground": true,
            "ticks": "",
            "zerolinecolor": "white"
           },
           "zaxis": {
            "backgroundcolor": "#E5ECF6",
            "gridcolor": "white",
            "gridwidth": 2,
            "linecolor": "white",
            "showbackground": true,
            "ticks": "",
            "zerolinecolor": "white"
           }
          },
          "shapedefaults": {
           "line": {
            "color": "#2a3f5f"
           }
          },
          "ternary": {
           "aaxis": {
            "gridcolor": "white",
            "linecolor": "white",
            "ticks": ""
           },
           "baxis": {
            "gridcolor": "white",
            "linecolor": "white",
            "ticks": ""
           },
           "bgcolor": "#E5ECF6",
           "caxis": {
            "gridcolor": "white",
            "linecolor": "white",
            "ticks": ""
           }
          },
          "title": {
           "x": 0.05
          },
          "xaxis": {
           "automargin": true,
           "gridcolor": "white",
           "linecolor": "white",
           "ticks": "",
           "title": {
            "standoff": 15
           },
           "zerolinecolor": "white",
           "zerolinewidth": 2
          },
          "yaxis": {
           "automargin": true,
           "gridcolor": "white",
           "linecolor": "white",
           "ticks": "",
           "title": {
            "standoff": 15
           },
           "zerolinecolor": "white",
           "zerolinewidth": 2
          }
         }
        },
        "title": {
         "text": "An example of a More complicated Field"
        }
       }
      }
     },
     "metadata": {},
     "output_type": "display_data"
    }
   ],
   "source": [
    "x2, y2, z2 = np.meshgrid(np.arange(-0.8, 1, 0.2),\n",
    "                      np.arange(-0.8, 1, 0.2),\n",
    "                      np.arange(-0.8, 1, 0.8))\n",
    "\n",
    "u2 = np.sin(np.pi * x2) * np.cos(np.pi * y2) * np.cos(np.pi * z2) \n",
    "v2 = -np.cos(np.pi * x2) * np.sin(np.pi * y2) * np.cos(np.pi * z2) \n",
    "w2 = (np.sqrt(2.0 / 3.0) * np.cos(np.pi * x2) * np.cos(np.pi * y2) * np.sin(np.pi * z2)) \n",
    "\n",
    "plotter.plotter(x2, y2, z2, u2, v2, w2, title = 'An example of a More complicated Field')"
   ]
  },
  {
   "cell_type": "markdown",
   "metadata": {},
   "source": [
    "clear to me that some refinement needs doing on the plotting code so that we can see the underlying fields a lot clearer. This will be done in time"
   ]
  },
  {
   "cell_type": "markdown",
   "metadata": {},
   "source": [
    "## Generating Physics Related Vector Fields"
   ]
  },
  {
   "cell_type": "markdown",
   "metadata": {},
   "source": [
    "This is for the purpose of later having things to compare to. Possible examples of reasonable fields include:\n",
    "\n",
    "- field around infinite 1d wire\n",
    "- field around coil of wire\n",
    "- field around magnetised sphere\n",
    "- bar magnet? \n",
    "\n",
    "Plan is to make use of boundary conditions. If we have certain circumstances in which one field may be continuous but the other is not, then by allowing communication between these two can lead to accurate fields being derived for aggregate scenarios. "
   ]
  },
  {
   "cell_type": "code",
   "execution_count": 4,
   "metadata": {},
   "outputs": [],
   "source": [
    "from constants import CONSTANTS  # handy place to lump all of these and avoid typos "
   ]
  },
  {
   "cell_type": "code",
   "execution_count": 5,
   "metadata": {},
   "outputs": [
    {
     "data": {
      "application/vnd.plotly.v1+json": {
       "config": {
        "plotlyServerURL": "https://plot.ly"
       },
       "data": [
        {
         "anchor": "tail",
         "sizemode": "scaled",
         "sizeref": 2,
         "type": "cone",
         "u": {
          "bdata": "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",
          "dtype": "f8"
         },
         "v": {
          "bdata": "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",
          "dtype": "f8"
         },
         "w": {
          "bdata": "AAAAAAAAAAAAAAAAAAAAAAAAAAAAAAAAAAAAAAAAAAAAAAAAAAAAAAAAAAAAAAAAAAAAAAAAAAAAAAAAAAAAAAAAAAAAAAAAAAAAAAAAAAAAAAAAAAAAAAAAAAAAAAAAAAAAAAAAAAAAAAAAAAAAAAAAAAAAAAAAAAAAAAAAAAAAAAAAAAAAAAAAAAAAAAAAAAAAAAAAAAAAAAAAAAAAAAAAAAAAAAAAAAAAAAAAAAAAAAAAAAAAAAAAAAAAAAAAAAAAAAAAAAAAAAAAAAAAAAAAAAAAAAAAAAAAAAAAAAAAAAAAAAAAAAAAAAAAAAAAAAAAAAAAAAAAAAAAAAAAAAAAAAAAAAAAAAAAAAAAAAAAAAAAAAAAAAAAAAAAAAAAAAAAAAAAAAAAAAAAAAAAAAAAAAAAAAAAAAAAAAAAAAAAAAAAAAAAAAAAAAAAAAAAAAAAAAAAAAAAAAAAAAAAAAAAAAAAAAAAAAAAAAAAAAAAAAAAAAAAAAAAAAAAAAAAAAAAAAAAAAAAAAAAAAAAAAAAAAAAAAAAAAAAAAAAAAAAAAAAAAAAAAAAAAAAAAAAAAAAAAAAAAAAAAAAAAAAAAAAAAAAAAAAAAAAAAAAAAAAAAAAAAAAAAAAAAAAAAAAAAAAAAAAAAAAAAAAAAAAAAAAAAAAAAAAAAAAAAAAAAAAAAAAAAAAAAAAAAAAAAAAAAAAAAAAAAAAAAAAAAAAAAAAAAAAAAAAAAAAAAAAAAAAAAAAAAAAAAAAAAAAAAAAAAAAAAAAAAAAAAAAAAAAAAAAAAAAAAAAAAAAAAAAAAAAAAAAAAAAAAAAAAAAAAAAAAAAAAAAAAAAAAAAAAAAAAAAAAAAAAAAAAAAAAAAAAAAAAAAAAAAAAAAAAAAAAAAAAAAAAAAAAAAAAAAAAAAAAAAAAAAAAAAAAAAAAAAAAAAAAAAAAAAAAAAAAAAAAAAAAAAAAAAAAAAAAAAAAAAAAAAAAAAAAAAAAAAAAAAAAAAAAAAAAAAAAAAAAAAAAAAAAAAAAAAAAAAAAAAAAAAAAAAAAAAAAAAAAAAAAAAAAAAAAAAAAAAAAAAAAAAAAAAAAAAAAAAAAAAAAAAAAAAAAAAAAAAAAAAAAAAAAAAAAAAAAAAAAAAAAAAAAAAAAAAAAAAAAAAAAAAAAAAAAAAAAAAAAAAAAAAAAAAAAAAAAAAAAAAAAAAAAAAAAAAAAAAAAAAAAAAAAAAAAAAAAAAAAAAAAAAAAAAAAAAAAAAAAAAAAAAAAAAAAAAAAAAAAAAAAAAAAAAAAAAAAAAAAAAAAAAAAAAAAAAAAAAAAAAAAAAAAAAAAAAAAAAAAAAAAAAAAAAAAAAAAAAAAAAAAAAAAAAAAAAAAAAAAAAAAAAAAAAAAAAAAAAAAAAAAAAAAAAAAAAAAAAAAAAAAAAAAAAAAAAAAAAAAAAAAAAAAAAAAAAAAAAAAAAAAAAAAAAAAAAAAAAAAAAAAAAAAAAAAAAAAAAAAAAAAAAAAAAAAAAAAAAAAAAAAAAAAAAAAAAAAAAAAAAAAAAAAAAAAAAAAAAAAAAAAAAAAAAAAAAAAAAAAAAAAAAAAAAAAAAAAAAAAAAAAAAAAAAAAAAAAAAAAAAAAAAAAAAAAAAAAAAAAAAAAAAAAAAAAAAAAAAAAAAAAAAAAAAAAAAAAAAAAAAAAAAAAAAAAAAAAAAAAAAAAAAAAAAAAAAAAAAAAAAAAAAAAAAAAAAAAAAAAAAAAAAAAAAAAAAAAAAAAAAAAAAAAAAAAAAAAAAAAAAAAAAAAAAAAAAAAAAAAAAAAAAAAAAAAAAAAAAAAAAAAAAAAAAAAAAAAAAAAAAAAAAAAAAAAAAAAAAAAAAAAAAAAAAAAAAAAAAAAAAAAAAAAAAAAAAAAAAAAAAAAAAAAAAAAAAAAAAAAAAAAAAAAAAAAAAAAAAAAAAAAAAAAAAAAAAAAAAAAAAAAAAAAAAAAAAAAAAAAAAAAAAAAAAAAAAAAAAAAAAAAAAAAAAAAAAAAAAAAAAAAAAAAAAAAAAAAAAAAAAAAAAAAAAAAAAAAAAAAAAAAAAAAAAAAAAAAAAAAAAAAAAAAAAAAAAAAAAAAAAAAAAAAAAAAAAAAAAAAAAAAAAAAAAAAAAAAAAAAAAAAAAAAAAAAAAAAAAAAAAAAAAAAAAAAAAAAAAAAAAAAAAAAAAAAAAAAAAAAAAAAAAAAAAAAAAAAAAAAAAAAAAAAAAAAAAAAAAAAAAAAAAAAAAAAAAAAAAAAAAAAAAAAAAAAAAAAAAAAAAAAAAAAAAAAAAAAAAAAAAAAAAAAAAAAAAAAAAAAAAAAAAAAAAAAAAAAAAAAAAAAAAAAAAAAAAAAAAAAAAAAAAAAAAAAAAAAAAAAAAAAAAAAAAAAAAAAAAAAAAAAAAAAAAAAAAAAAAAAAAAAAAAAAAAAAAAAAAAAAAAAAAAAAAAAAAAAAAAAAAAAAAAAAAAAAAAAAAAAAAAAAAAAAAAAAAAAAAAAAAAAAAAAAAAAAAAAAAAAAAAAAAAAAAAAAAAAAAAAAAAAAAAAAAAAAAAAAAAAAAAAAAAAAAAAAAAAAAAAAAAAAAAAAAAAAAAAAAAAAAAAAAAAAAAAAAAAAAAAAAAAAAAAAAAAAAAAAAAAAAAAAAAAAAAAAAAAAAAAAAAAAAAAAAAAAAAAAAAAAAAAAAAAAAAAAAAAAAAAAAAAAAAAAAAAAAAAAAAAAAAAAAAAAAAAAAAAAAAAAAAAAAAAAAAAAAAAAAAAAAAAAAAAAAAAAAAAAAAAAAAAAAAAAAAAAAAAAAAAAAAAAAAAAAAAAAAAAAAAAAAAAAAAAAAAAAAAAAAAAAAAAAAAAAAAAAAAAAAAAAAAAAAAAAAAAAAAAAAAAAAAAAAAAAAAAAAAAAAAAAAAAAAAAAAAAAAAAAAAAAAAAAAAAAAAAAAAAAAAAAAAAAAAAAAAAAAAAAAAAAAAAAAAAAAAAAAAAAAAAAAAAAAAAAAAAAAAAAAAAAAAAAAAAAAAAAAAAAAAAAAAAAAAAAAAAAAAAAAAAAAAAAAAAAAAAAAAAAAAAAAAAAAAAAAAAAAAAAAAAAAAAAAAAAAAAAAAAAAAAAAAAAAAAAAAAAAAAAAAAAAAAAAAAAAAAAAAAAAAAAAAAAAAAAAAAAAAAAAAAAAAAAAAAAAAAAAAAAAAAAAAAAAAAAAAAAAAAAAAAAAAAAAAAAAAAAAAAAAAAAAAAAAAAAAAAAAAAAAAAAAAAAAAAAAAAAAAAAAAAAAAAAAAAAAAAAAAAAAAAAAAAAAAAAAAAAAAAAAAAAAAAAAAAAAAAAAAAAAAAAAAAAAAAAAAAAAAAAAAAAAAAAAAAAAAAAAAAAAAAAAAAAAAAAAAAAAAAAAAAAAAAAAAAAAAAAAAAAAAAAAAAAAAAAAAAAAAAAAAAAAAAAAAAAAAAAAAAAAAAAAAAAAAAAAAAAAAAAAAAAAAAAAAAAAAAAAAAAAAAAAAAAAAAAAAAAAAAAAAAAAAAAAAAAAAAAAAAAAAAAAAAAAAAAAAAAAAAAAAAAAAAAAAAAAAAAAAAAAAAAAAAAAAAAAAAAAAAAAAAAAAAAAAAAAAAAAAAAAAAAAAAAAAAAAAAAAAAAAAAAAAAAAAAAAAAAAAAAAAAAAAAAAAAAAAAAAAAAAAAAAAAAAAAAAAAAAAAAAAAAAAAAAAAAAAAAAAAAAAAAAAAAAAAAAAAAAAAAAAAAAAAAAAAAAAAAAAAAAAAAAAAAAAAAAAAAAAAAAAAAAAAAAAAAAAAAAAAAAAAAAAAAAAAAAAAAAAAAAAAAAAAAAAAAAAAAAAAAAAAAAAAAAAAAAAAAAAAAAAAAAAAAAAAAAAAAAAAAAAAAAAAAAAAAAAAAAAAAAAAAAAAAAAAAAAAAAAAAAAAAAAAAAAAAAAAAAAAAAAAAAAAAAAAAAAAAAAAAAAAAAAAAAAAAAAAAAAAAAAAAAAAAAAAAAAAAAAAAAAAAAAAAAAAAAAAAAAAAAAAAAAAAAAAAAAAAAAAAAAAAAAAAAAAAAAAAAAAAAAAAAAAAAAAAAAAAAAAAAAAAAAAAAAAAAAAAAAAAAAAAAAAAAAAAAAAAAAAAAAAAAAAAAAAAAAAAAAAAAAAAAAAAAAAAAAAAAAAAAAAAAAAAAAAAAAAAAAAAAAAAAAAAAAAAAAAAAAAAAAAAAAAAAAAAAAAAAAAAAAAAAAAAAAAAAAAAAAAAAAAAAAAAAAAAAAAAAAAAAAAAAAAAAAAAAAAAAAAAAAAAAAAAAAAAAAAAAAAAAAAAAAAAAAAAAAAAAAAAAAAAAAAAAAAAAAAAAAAAAAAAAAAAAAAAAAAAAAAAAAAAAAAAAAAAAAAAAAAAAAAAAAAAAAAAAAAAAAAAAAAAAAAAAAAAAAAAAAAAAAAAAAAAAAAAAAAAAAAAAAAAAAAAAAAAAAAAAAAAAAAAAAAAAAAAAAAAAAAAAAAAAAAAAAAAAAAAAAAAAAAAAAAAAAAAAAAAAAAAAAAAAAAAAAAAAAAAAAAAAAAAAAAAAAAAAAAAAAAAAAAAAAAAAAAAAAAAAAAAAAAAAAAAAAAAAAAAAAAAAAAAAAAAAAAAAAAAAAAAAAAAAAAAAAAAAAAAAAAAAAAAAAAAAAAAAAAAAAAAAAAAAAAAAAAAAAAAAAAAAAAAAAAAAAAAAAAAAAAAAAAAAAAAAAAAAAAAAAAAAAAAAAAAAAAAAAAAAAAAAAAAAAAAAAAAAAAAAAAAAAAAAAAAAAAAAAAAAAAAAAAAAAAAAAAAAAAAAAAAAAAAAAAAAAAAAAAAAAAAAAAAAAAAAAAAAAAAAAAAAAAAAAAAAAAAAAAAAAAAAAAAAAAAAAAAAAAAAAAAAAAAAAAAAAAAAAAAAAAAAAAAAAAAAAAAAAAAAAAAAAAAAAAAAAAAAAAAAAAAAAAAAAAAAAAAAAAAAAAAAAAAAAAAAAAAAAAAAAAAAAAAAAAAAAAAAAAAAAAAAAAAAAAAAAAAAAAAAAAAAAAAAAAAAAAAAAAAAAAAAAAAAAAAAAAAAAAAAAAAAAAAAAAAAAAAAAAAAAAAAAAAAAAAAAAAAAAAAAAAAAAAAAAAAAAAAAAAAAAAAAAAAAAAAAAAAAAAAAAAAAAAAAAAAAAAAAAAAAAAAAAAAAAAAAAAAAAAAAAAAAAAAAAAAAAAAAAAAAAAAAAAAAAAAAAAAAAAAAAAAAAAAAAAAAAAAAAAAAAAAAAAAAAAAAAAAAAAAAAAAAAAAAAAAAAAAAAAAAAAAAAAAAAAAAAAAAAAAAAAAAAAAAAAAAAAAAAAAAAAAAAAAAAAAAAAAAAAAAAAAAAAAAAAAAAAAAAAAAAAAAAAAAAAAAAAAAAAAAAAAAAAAAAAAAAAAAAAAAAAAAAAAAAAAAAAAAAAAAAAAAAAAAAAAAAAAAAAAAAAAAAAAAAAAAAAAAAAAAAAAAAAAAAAAAAAAAAAAAAAAAAAAAAAAAAAAAAAAAAAAAAAAAAAAAAAAAAAAAAAAAAAAAAAAAAAAAAAAAAAAAAAAAAAAAAAAAAAAAAAAAAAAAAAAAAAAAAAAAAAAAAAAAAAAAAAAAAAAAAAAAAAAAAAAAAAAAAAAAAAAAAAAAAAAAAAAAAAAAAAAAAAAAAAAAAAAAAAAAAAAAAAAAAAAAAAAAAAAAAAAAAAAAAAAAAAAAAAAAAAAAAAAAAAAAAAAAAAAAAAAAAAAAAAAAAAAAAAAAAAAAAAAAAAAAAAAAAAAAAAAAAAAAAAAAAAAAAAAAAAAAAAAAAAAAAAAAAAAAAAAAAAAAAAAAAAAAAAAAAAAAAAAAAAAAAAAAAAAAAAAAAAAAAAAAAAAAAAAAAAAAAAAAAAAAAAAAAAAAAAAAAAAAAAAAAAAAAAAAAAAAAAAAAAAAAAAAAAAAAAAAAAAAAAAAAAAAAAAAAAAAAAAAAAAAAAAAAAAAAAAAAAAAAAAAAAAAAAAAAAAAAAAAAAAAAAAAAAAAAAAAAAAAAAAAAAAAAAAAAAAAAAAAAAAAAAAAAAAAAAAAAAAAAAAAAAAAAAAAAAAAAAAAAAAAAAAAAAAAAAAAAAAAAAAAAAAAAAAAAAAAAAAAAAAAAAAAAAAAAAAAAAAAAAAAAAAAAAAAAAAAAAAAAAAAAAAAAAAAAAAAAAAAAAAAAAAAAAAAAAAAAAAAAAAAAAAAAAAAAAAAAAAAAAAAAAAAAAAAAAAAAAAAAAAAAAAAAAAAAAAAAAAAAAAAAAAAAAAAAAAAAAAAAAAAAAAAAAAAAAAAAAAAAAAAAAAAAAAAAAAAAAAAAAAAAAAAAAAAAAAAAAAAAAAAAAAAAAAAAAAAAAAAAAAAAAAAAAAAAAAAAAAAAAAAAAAAAAAAAAAAAAAAAAAAAAAAAAAAAAAAAAAAAAAAAAAAAAAAAAAAAAAAAAAAAAAAAAAAAAAAAAAAAAAAAAAAAAAAAAAAAAAAAAAAAAAAAAAAAAAAAAAAAAAAAAAAAAAAAAAAAAAAAAAAAAAAAAAAAAAAAAAAAAAAAAAAAAAAAAAAAAAAAAAAAAAAAAAAAAAAAAAAAAAAAAAAAAAAAAAAAAAAAAAAAAAAAAAAAAAAAAAAAAAAAAAAAAAAAAAAAAAAAAAAAAAAAAAAAAAAAAAAAAAAAAAAAAAAAAAAAAAAAAAAAAAAAAAAAAAAAAAAAAAAAAAAAAAAAAAAAAAAAAAAAAAAAAAAAAAAAAAAAAAAAAAAAAAAAAAAAAAAAAAAAAAAAAAAAAAAAAAAAAAAAAAAAAAAAAAAAAAAAAAAAAAAAAAAAAAAAAAAAAAAAAAAAAAAAAAAAAAAAAAAAAAAAAAAAAAAAAAAAAAAAAAAAAAAAAAAAAAAAAAAAAAAAAAAAAAAAAAAAAAAAAAAAAAAAAAAAAAAAAAAAAAAAAAAAAAAAAAAAAAAAAAAAAAAAAAAAAAAAAAAAAAAAAAAAAAAAAAAAAAAAAAAAAAAAAAAAAAAAAAAAAAAAAAAAAAAAAAAAAAAAAAAAAAAAAAAAAAAAAAAAAAAAAAAAAAAAAAAAAAAAAAAAAAAAAAAAAAAAAAAAAAAAAAAAAAAAAAAAAAAAAAAAAAAAAAAAAAAAAAAAAAAAAAAAAAAAAAAAAAAAAAAAAAAAAAAAAAAAAAAAAAAAAAAAAAAAAAAAAAAAAAAAAAAAAAAAAAAAAAAAAAAAAAAAAAAAAAAAAAAAAAAAAAAAAAAAAAAAAAAAAAAAAAAAAAAAAAAAAAAAAAAAAAAAAAAAAAAAAAAAAAAAAAAAAAAAAAAAAAAAAAAAAAAAAAAAAAAAAAAAAAAAAAAAAAAAAAAAAAAAAAAAAAAAAAAAAAAAAAAAAAAAAAAAAAAAAAAAAAAAAAAAAAAAAAAAAAAAAAAAAAAAAAAAAAAAAAAAAAAAAAAAAAAAAAAAAAAAAAAAAAAAAAAAAAAAAAAAAAAAAAAAAAAAAAAAAAAAAAAAAAAAAAAAAAAAAAAAAAAAAAAAAAAAAAAAAAAAAAAAAAAAAAAAAAAAAAAAAAAAAAAAAAAAAAAAAAAAAAAAAAAAAAAAAAAAAAAAAAAAAAAAAAAAAAAAAAAAAAAAAAAAAAAAAAAAAAAAAAAAAAAAAAAAAAAAAAAAAAAAAAAAAAAAAAAAAAAAAAAAAAAAAAAAAAAAAAAAAAAAAAAAAAAAAAAAAAAAAAAAAAAAAAAAAAAAAAAAAAAAAAAAAAAAAAAAAAAAAAAAAAAAAAAAAAAAAAAAAAAAAAAAAAAAAAAAAAAAAAAAAAAAAAAAAAAAAAAAAAAAAAAAAAAAAAAAAAAAAAAAAAAAAAAAAAAAAAAAAAAAAAAAAAAAAAAAAAAAAAAAAAAAAAAAAAAAAAAAAAAAAAAAAAAAAAAAAAAAAAAAAAAAAAAAAAAAAAAAAAAAAAAAAAAAAAAAAAAAAAAAAAAAAAAAAAAAAAAAAAAAAAAAAAAAAAAAAAAAAAAAAAAAAAAAAAAAAAAAAAAAAAAAAAAAAAAAAAAAAAAAAAAAAAAAAAAAAAAAAAAAAAAAAAAAAAAAAAAAAAAAAAAAAAAAAAAAAAAAAAAAAAAAAAAAAAAAAAAAAAAAAAAAAAAAAAAAAAAAAAAAAAAAAAAAAAAAAAAAAAAAAAAAAAAAAAAAAAAAAAAAAAAAAAAAAAAAAAAAAAAAAAAAAAAAAAAAAAAAAAAAAAAAAAAAAAAAAAAAAAAAAAAAAAAAAAAAAAAAAAAAAAAAAAAAAAAAAAAAAAAAAAAAAAAAAAAAAAAAAAAAAAAAAAAAAAAAAAAAAAAAAAAAAAAAAAAAAAAAAAAAAAAAAAAAAAAAAAAAAAAAAAAAAAAAAAAAAAAAAAAAAAAAAAAAAAAAAAAAAAAAAAAAAAAAAAAAAAAAAAAAAAAAAAAAAAAAAAAAAAAAAAAAAAAAAAAAAAAAAAAAAAAAAAAAAAAAAAAAAAAAAAAAAAAAAAAAAAAAAAAAAAAAAAAAAAAAAAAAAAAAAAAAAAAAAAAAAAAAAAAAAAAAAAAAAAAAAAAAAAAAAAAAAAAAAAAAAAAAAAAAAAAAAAAAAAAAAAAAAAAAAAAAAAAAAAAAAAAAAAAAAAAAAAAAAAAAAAAAAAAAAAAAAAAAAAAAAAAAAAAAAAAAAAAAAAAAAAAAAAAAAAAAAAAAAAAAAAAAAAAAAAAAAAAAAAAAAAAAAAAAAAAAAAAAAAAAAAAAAAAAAAAAAAAAAAAAAAAAAAAAAAAAAAAAAAAAAAAAAAAAAAAAAAAAAAAAAAAAAAAAAAAAAAAAAAAAAAAAAAAAAAAAAAAAAAAAAAAAAAAAAAAAAAAAAAAAAAAAAAAAAAAAAAAAAAAAAAAAAAAAAAAAAAAAAAAAAAAAAAAAAAAAAAAAAAAAAAAAAAAAAAAAAAAAAAAAAAAAAAAAAAAAAAAAAAAAAAAAAAAAAAAAAAAAAAAAAAAAAAAAAAAAAAAAAAAAAAAAAAAAAAAAAAAAAAAAAAAAAAAAAAAAAAAAAAAAAAAAAAAAAAAAAAAAAAAAAAAAAAAAAAAAAAAAAAAAAAAAAAAAAAAAAAAAAAAAAAAAAAAAAAAAAAAAAAAAAAAAAAAAAAAAAAAAAAAAAAAAAAAAAAAAAAAAAAAAAAAAAAAAAAAAAAAAAAAAAAAAAAAAAAAAAAAAAAAAAAAAAAAAAAAAAAAAAAAAAAAAAAAAAAAAAAAAAAAAAAAAAAAAAAAAAAAAAAAAAAAAAAAAAAAAAAAAAAAAAAAAAAAAAAAAAAAAAAAAAAAAAAAAAAAAAAAAAAAAAAAAAAAAAAAAAAAAAAAAAAAAAAAAAAAAAAAAAAAAAAAAAAAAAAAAAAAAAAAAAAAAAAAAAAAAAAAAAAAAAAAAAAAAAAAAAAAAAAAAAAAAAAAAAAAAAAAAAAAAAAAAAAAAAAAAAAAAAAAAAAAAAAAAAAAAAAAAAAAAAAAAAAAAAAAAAAAAAAAAAAAAAAAAAAAAAAAAAAAAAAAAAAAAAAAAAAAAAAAAAAAAAAAAAAAAAAAAAAAAAAAAAAAAAAAAAAAAAAAAAAAAAAAAAAAAAAAAAAAAAAAAAAAAAAAAAAAAAAAAAAAAAAAAAAAAAAAAAAAAAAAAAAAAAAAAAAAAAAAAAAAAAAAAAAAAAAAAAAAAAAAAAAAAAAAAAAAAAAAAAAAAAAAAAAAAAAAAAAAAAAAAAAAAAAAAAAAAAAAAAAAAAAAAAAAAAAAAAAAAAAAAAAAAAAAAAAAAAAAAAAAAAAAAAAAAAAAAAAAAAAAAAAAAAAAAAAAAAAAAAAAAAAAAAAAAAAAAAAAAAAAAAAAAAAAAAAAAAAAAAAAAAAAAAAAAAAAAAAAAAAAAAAAAAAAAAAAAAAAAAAAAAAAAAAAAAAAAAAAAAAAAAAAAAAAAAAAAAAAAAAAAAAAAAAAAAAAAAAAAAAAAAAAAAAAAAAAAAAAAAAAAAAAAAAAAAAAAAAAAAAAAAAAAAAAAAAAAAAAAAAAAAAAAAAAAAAAAAAAAAAAAAAAAAAAAAAAAAAAAAAAAAAAAAAAAAAAAAAAAAAAAAAAAAAAAAAAAAAAAAAAAAAAAAAAAAAAAAAAAAAAAAAAAAAAAAAAAAAAAAAAAAAAAAAAAAAAAAAAAAAAAAAAAAAAAAAAAAAAAAAAAAAAAAAAAAAAAAAAAAAAAAAAAAAAAAAAAAAAAAAAAAAAAAAAAAAAAAAAAAAAAAAAAAAAAAAAAAAAAAAAAAAAAAAAAAAAAAAAAAAAAAAAAAAAAAAAAAAAAAAAAAAAAAAAAAAAAAAAAAAAAAAAAAAAAAAAAAAAAAAAAAAAAAAAAAAAAAAAAAAAAAAAAAAAAAAAAAAAAAAAAAAAAAAAAAAAAAAAAAAAAAAAAAAAAAAAAAAAAAAAAAAAAAAAAAAAAAAAAAAAAAAAAAAAAAAAAAAAAAAAAAAAAAAAAAAAAAAAAAAAAAAAAAAAAAAAAAAAAAAAAAAAAAAAAAAAAAAAAAAAAAAAAAAAAAAAAAAAAAAAAAAAAAAAAAAAAAAAAAAAAAAAAAAAAAAAAAAAAAAAAAAAAAAAAAAAAAAAAAAAAAAAAAAAAAAAAAAAAAAAAAAAAAAAAAAAAAAAAAAAAAAAAAAAAAAAAAAAAAAAAAAAAAAAAAAAAAAAAAAAAAAAAAAAAAAAAAAAAAAAAAAAAAAAAAAAAAAAAAAAAAAAA=",
          "dtype": "f8"
         },
         "x": {
          "bdata": "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",
          "dtype": "f8"
         },
         "y": {
          "bdata": "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",
          "dtype": "f8"
         },
         "z": {
          "bdata": "AAAAAAAA4L85juM4juPYv3Icx3Ecx9G/VlVVVVVVxb8gx3Ecx3GsvyDHcRzHcaw/VFVVVVVVxT9wHMdxHMfRPziO4ziO49g/AAAAAAAA4D8AAAAAAADgvzmO4ziO49i/chzHcRzH0b9WVVVVVVXFvyDHcRzHcay/IMdxHMdxrD9UVVVVVVXFP3Acx3Ecx9E/OI7jOI7j2D8AAAAAAADgPwAAAAAAAOC/OY7jOI7j2L9yHMdxHMfRv1ZVVVVVVcW/IMdxHMdxrL8gx3Ecx3GsP1RVVVVVVcU/cBzHcRzH0T84juM4juPYPwAAAAAAAOA/AAAAAAAA4L85juM4juPYv3Icx3Ecx9G/VlVVVVVVxb8gx3Ecx3GsvyDHcRzHcaw/VFVVVVVVxT9wHMdxHMfRPziO4ziO49g/AAAAAAAA4D8AAAAAAADgvzmO4ziO49i/chzHcRzH0b9WVVVVVVXFvyDHcRzHcay/IMdxHMdxrD9UVVVVVVXFP3Acx3Ecx9E/OI7jOI7j2D8AAAAAAADgPwAAAAAAAOC/OY7jOI7j2L9yHMdxHMfRv1ZVVVVVVcW/IMdxHMdxrL8gx3Ecx3GsP1RVVVVVVcU/cBzHcRzH0T84juM4juPYPwAAAAAAAOA/AAAAAAAA4L85juM4juPYv3Icx3Ecx9G/VlVVVVVVxb8gx3Ecx3GsvyDHcRzHcaw/VFVVVVVVxT9wHMdxHMfRPziO4ziO49g/AAAAAAAA4D8AAAAAAADgvzmO4ziO49i/chzHcRzH0b9WVVVVVVXFvyDHcRzHcay/IMdxHMdxrD9UVVVVVVXFP3Acx3Ecx9E/OI7jOI7j2D8AAAAAAADgPwAAAAAAAOC/OY7jOI7j2L9yHMdxHMfRv1ZVVVVVVcW/IMdxHMdxrL8gx3Ecx3GsP1RVVVVVVcU/cBzHcRzH0T84juM4juPYPwAAAAAAAOA/AAAAAAAA4L85juM4juPYv3Icx3Ecx9G/VlVVVVVVxb8gx3Ecx3GsvyDHcRzHcaw/VFVVVVVVxT9wHMdxHMfRPziO4ziO49g/AAAAAAAA4D8AAAAAAADgvzmO4ziO49i/chzHcRzH0b9WVVVVVVXFvyDHcRzHcay/IMdxHMdxrD9UVVVVVVXFP3Acx3Ecx9E/OI7jOI7j2D8AAAAAAADgPwAAAAAAAOC/OY7jOI7j2L9yHMdxHMfRv1ZVVVVVVcW/IMdxHMdxrL8gx3Ecx3GsP1RVVVVVVcU/cBzHcRzH0T84juM4juPYPwAAAAAAAOA/AAAAAAAA4L85juM4juPYv3Icx3Ecx9G/VlVVVVVVxb8gx3Ecx3GsvyDHcRzHcaw/VFVVVVVVxT9wHMdxHMfRPziO4ziO49g/AAAAAAAA4D8AAAAAAADgvzmO4ziO49i/chzHcRzH0b9WVVVVVVXFvyDHcRzHcay/IMdxHMdxrD9UVVVVVVXFP3Acx3Ecx9E/OI7jOI7j2D8AAAAAAADgPwAAAAAAAOC/OY7jOI7j2L9yHMdxHMfRv1ZVVVVVVcW/IMdxHMdxrL8gx3Ecx3GsP1RVVVVVVcU/cBzHcRzH0T84juM4juPYPwAAAAAAAOA/AAAAAAAA4L85juM4juPYv3Icx3Ecx9G/VlVVVVVVxb8gx3Ecx3GsvyDHcRzHcaw/VFVVVVVVxT9wHMdxHMfRPziO4ziO49g/AAAAAAAA4D8AAAAAAADgvzmO4ziO49i/chzHcRzH0b9WVVVVVVXFvyDHcRzHcay/IMdxHMdxrD9UVVVVVVXFP3Acx3Ecx9E/OI7jOI7j2D8AAAAAAADgPwAAAAAAAOC/OY7jOI7j2L9yHMdxHMfRv1ZVVVVVVcW/IMdxHMdxrL8gx3Ecx3GsP1RVVVVVVcU/cBzHcRzH0T84juM4juPYPwAAAAAAAOA/AAAAAAAA4L85juM4juPYv3Icx3Ecx9G/VlVVVVVVxb8gx3Ecx3GsvyDHcRzHcaw/VFVVVVVVxT9wHMdxHMfRPziO4ziO49g/AAAAAAAA4D8AAAAAAADgvzmO4ziO49i/chzHcRzH0b9WVVVVVVXFvyDHcRzHcay/IMdxHMdxrD9UVVVVVVXFP3Acx3Ecx9E/OI7jOI7j2D8AAAAAAADgPwAAAAAAAOC/OY7jOI7j2L9yHMdxHMfRv1ZVVVVVVcW/IMdxHMdxrL8gx3Ecx3GsP1RVVVVVVcU/cBzHcRzH0T84juM4juPYPwAAAAAAAOA/AAAAAAAA4L85juM4juPYv3Icx3Ecx9G/VlVVVVVVxb8gx3Ecx3GsvyDHcRzHcaw/VFVVVVVVxT9wHMdxHMfRPziO4ziO49g/AAAAAAAA4D8AAAAAAADgvzmO4ziO49i/chzHcRzH0b9WVVVVVVXFvyDHcRzHcay/IMdxHMdxrD9UVVVVVVXFP3Acx3Ecx9E/OI7jOI7j2D8AAAAAAADgPwAAAAAAAOC/OY7jOI7j2L9yHMdxHMfRv1ZVVVVVVcW/IMdxHMdxrL8gx3Ecx3GsP1RVVVVVVcU/cBzHcRzH0T84juM4juPYPwAAAAAAAOA/AAAAAAAA4L85juM4juPYv3Icx3Ecx9G/VlVVVVVVxb8gx3Ecx3GsvyDHcRzHcaw/VFVVVVVVxT9wHMdxHMfRPziO4ziO49g/AAAAAAAA4D8AAAAAAADgvzmO4ziO49i/chzHcRzH0b9WVVVVVVXFvyDHcRzHcay/IMdxHMdxrD9UVVVVVVXFP3Acx3Ecx9E/OI7jOI7j2D8AAAAAAADgPwAAAAAAAOC/OY7jOI7j2L9yHMdxHMfRv1ZVVVVVVcW/IMdxHMdxrL8gx3Ecx3GsP1RVVVVVVcU/cBzHcRzH0T84juM4juPYPwAAAAAAAOA/AAAAAAAA4L85juM4juPYv3Icx3Ecx9G/VlVVVVVVxb8gx3Ecx3GsvyDHcRzHcaw/VFVVVVVVxT9wHMdxHMfRPziO4ziO49g/AAAAAAAA4D8AAAAAAADgvzmO4ziO49i/chzHcRzH0b9WVVVVVVXFvyDHcRzHcay/IMdxHMdxrD9UVVVVVVXFP3Acx3Ecx9E/OI7jOI7j2D8AAAAAAADgPwAAAAAAAOC/OY7jOI7j2L9yHMdxHMfRv1ZVVVVVVcW/IMdxHMdxrL8gx3Ecx3GsP1RVVVVVVcU/cBzHcRzH0T84juM4juPYPwAAAAAAAOA/AAAAAAAA4L85juM4juPYv3Icx3Ecx9G/VlVVVVVVxb8gx3Ecx3GsvyDHcRzHcaw/VFVVVVVVxT9wHMdxHMfRPziO4ziO49g/AAAAAAAA4D8AAAAAAADgvzmO4ziO49i/chzHcRzH0b9WVVVVVVXFvyDHcRzHcay/IMdxHMdxrD9UVVVVVVXFP3Acx3Ecx9E/OI7jOI7j2D8AAAAAAADgPwAAAAAAAOC/OY7jOI7j2L9yHMdxHMfRv1ZVVVVVVcW/IMdxHMdxrL8gx3Ecx3GsP1RVVVVVVcU/cBzHcRzH0T84juM4juPYPwAAAAAAAOA/AAAAAAAA4L85juM4juPYv3Icx3Ecx9G/VlVVVVVVxb8gx3Ecx3GsvyDHcRzHcaw/VFVVVVVVxT9wHMdxHMfRPziO4ziO49g/AAAAAAAA4D8AAAAAAADgvzmO4ziO49i/chzHcRzH0b9WVVVVVVXFvyDHcRzHcay/IMdxHMdxrD9UVVVVVVXFP3Acx3Ecx9E/OI7jOI7j2D8AAAAAAADgPwAAAAAAAOC/OY7jOI7j2L9yHMdxHMfRv1ZVVVVVVcW/IMdxHMdxrL8gx3Ecx3GsP1RVVVVVVcU/cBzHcRzH0T84juM4juPYPwAAAAAAAOA/AAAAAAAA4L85juM4juPYv3Icx3Ecx9G/VlVVVVVVxb8gx3Ecx3GsvyDHcRzHcaw/VFVVVVVVxT9wHMdxHMfRPziO4ziO49g/AAAAAAAA4D8AAAAAAADgvzmO4ziO49i/chzHcRzH0b9WVVVVVVXFvyDHcRzHcay/IMdxHMdxrD9UVVVVVVXFP3Acx3Ecx9E/OI7jOI7j2D8AAAAAAADgPwAAAAAAAOC/OY7jOI7j2L9yHMdxHMfRv1ZVVVVVVcW/IMdxHMdxrL8gx3Ecx3GsP1RVVVVVVcU/cBzHcRzH0T84juM4juPYPwAAAAAAAOA/AAAAAAAA4L85juM4juPYv3Icx3Ecx9G/VlVVVVVVxb8gx3Ecx3GsvyDHcRzHcaw/VFVVVVVVxT9wHMdxHMfRPziO4ziO49g/AAAAAAAA4D8AAAAAAADgvzmO4ziO49i/chzHcRzH0b9WVVVVVVXFvyDHcRzHcay/IMdxHMdxrD9UVVVVVVXFP3Acx3Ecx9E/OI7jOI7j2D8AAAAAAADgPwAAAAAAAOC/OY7jOI7j2L9yHMdxHMfRv1ZVVVVVVcW/IMdxHMdxrL8gx3Ecx3GsP1RVVVVVVcU/cBzHcRzH0T84juM4juPYPwAAAAAAAOA/AAAAAAAA4L85juM4juPYv3Icx3Ecx9G/VlVVVVVVxb8gx3Ecx3GsvyDHcRzHcaw/VFVVVVVVxT9wHMdxHMfRPziO4ziO49g/AAAAAAAA4D8AAAAAAADgvzmO4ziO49i/chzHcRzH0b9WVVVVVVXFvyDHcRzHcay/IMdxHMdxrD9UVVVVVVXFP3Acx3Ecx9E/OI7jOI7j2D8AAAAAAADgPwAAAAAAAOC/OY7jOI7j2L9yHMdxHMfRv1ZVVVVVVcW/IMdxHMdxrL8gx3Ecx3GsP1RVVVVVVcU/cBzHcRzH0T84juM4juPYPwAAAAAAAOA/AAAAAAAA4L85juM4juPYv3Icx3Ecx9G/VlVVVVVVxb8gx3Ecx3GsvyDHcRzHcaw/VFVVVVVVxT9wHMdxHMfRPziO4ziO49g/AAAAAAAA4D8AAAAAAADgvzmO4ziO49i/chzHcRzH0b9WVVVVVVXFvyDHcRzHcay/IMdxHMdxrD9UVVVVVVXFP3Acx3Ecx9E/OI7jOI7j2D8AAAAAAADgPwAAAAAAAOC/OY7jOI7j2L9yHMdxHMfRv1ZVVVVVVcW/IMdxHMdxrL8gx3Ecx3GsP1RVVVVVVcU/cBzHcRzH0T84juM4juPYPwAAAAAAAOA/AAAAAAAA4L85juM4juPYv3Icx3Ecx9G/VlVVVVVVxb8gx3Ecx3GsvyDHcRzHcaw/VFVVVVVVxT9wHMdxHMfRPziO4ziO49g/AAAAAAAA4D8AAAAAAADgvzmO4ziO49i/chzHcRzH0b9WVVVVVVXFvyDHcRzHcay/IMdxHMdxrD9UVVVVVVXFP3Acx3Ecx9E/OI7jOI7j2D8AAAAAAADgPwAAAAAAAOC/OY7jOI7j2L9yHMdxHMfRv1ZVVVVVVcW/IMdxHMdxrL8gx3Ecx3GsP1RVVVVVVcU/cBzHcRzH0T84juM4juPYPwAAAAAAAOA/AAAAAAAA4L85juM4juPYv3Icx3Ecx9G/VlVVVVVVxb8gx3Ecx3GsvyDHcRzHcaw/VFVVVVVVxT9wHMdxHMfRPziO4ziO49g/AAAAAAAA4D8AAAAAAADgvzmO4ziO49i/chzHcRzH0b9WVVVVVVXFvyDHcRzHcay/IMdxHMdxrD9UVVVVVVXFP3Acx3Ecx9E/OI7jOI7j2D8AAAAAAADgPwAAAAAAAOC/OY7jOI7j2L9yHMdxHMfRv1ZVVVVVVcW/IMdxHMdxrL8gx3Ecx3GsP1RVVVVVVcU/cBzHcRzH0T84juM4juPYPwAAAAAAAOA/AAAAAAAA4L85juM4juPYv3Icx3Ecx9G/VlVVVVVVxb8gx3Ecx3GsvyDHcRzHcaw/VFVVVVVVxT9wHMdxHMfRPziO4ziO49g/AAAAAAAA4D8AAAAAAADgvzmO4ziO49i/chzHcRzH0b9WVVVVVVXFvyDHcRzHcay/IMdxHMdxrD9UVVVVVVXFP3Acx3Ecx9E/OI7jOI7j2D8AAAAAAADgPwAAAAAAAOC/OY7jOI7j2L9yHMdxHMfRv1ZVVVVVVcW/IMdxHMdxrL8gx3Ecx3GsP1RVVVVVVcU/cBzHcRzH0T84juM4juPYPwAAAAAAAOA/AAAAAAAA4L85juM4juPYv3Icx3Ecx9G/VlVVVVVVxb8gx3Ecx3GsvyDHcRzHcaw/VFVVVVVVxT9wHMdxHMfRPziO4ziO49g/AAAAAAAA4D8AAAAAAADgvzmO4ziO49i/chzHcRzH0b9WVVVVVVXFvyDHcRzHcay/IMdxHMdxrD9UVVVVVVXFP3Acx3Ecx9E/OI7jOI7j2D8AAAAAAADgPwAAAAAAAOC/OY7jOI7j2L9yHMdxHMfRv1ZVVVVVVcW/IMdxHMdxrL8gx3Ecx3GsP1RVVVVVVcU/cBzHcRzH0T84juM4juPYPwAAAAAAAOA/AAAAAAAA4L85juM4juPYv3Icx3Ecx9G/VlVVVVVVxb8gx3Ecx3GsvyDHcRzHcaw/VFVVVVVVxT9wHMdxHMfRPziO4ziO49g/AAAAAAAA4D8AAAAAAADgvzmO4ziO49i/chzHcRzH0b9WVVVVVVXFvyDHcRzHcay/IMdxHMdxrD9UVVVVVVXFP3Acx3Ecx9E/OI7jOI7j2D8AAAAAAADgPwAAAAAAAOC/OY7jOI7j2L9yHMdxHMfRv1ZVVVVVVcW/IMdxHMdxrL8gx3Ecx3GsP1RVVVVVVcU/cBzHcRzH0T84juM4juPYPwAAAAAAAOA/AAAAAAAA4L85juM4juPYv3Icx3Ecx9G/VlVVVVVVxb8gx3Ecx3GsvyDHcRzHcaw/VFVVVVVVxT9wHMdxHMfRPziO4ziO49g/AAAAAAAA4D8AAAAAAADgvzmO4ziO49i/chzHcRzH0b9WVVVVVVXFvyDHcRzHcay/IMdxHMdxrD9UVVVVVVXFP3Acx3Ecx9E/OI7jOI7j2D8AAAAAAADgPwAAAAAAAOC/OY7jOI7j2L9yHMdxHMfRv1ZVVVVVVcW/IMdxHMdxrL8gx3Ecx3GsP1RVVVVVVcU/cBzHcRzH0T84juM4juPYPwAAAAAAAOA/AAAAAAAA4L85juM4juPYv3Icx3Ecx9G/VlVVVVVVxb8gx3Ecx3GsvyDHcRzHcaw/VFVVVVVVxT9wHMdxHMfRPziO4ziO49g/AAAAAAAA4D8AAAAAAADgvzmO4ziO49i/chzHcRzH0b9WVVVVVVXFvyDHcRzHcay/IMdxHMdxrD9UVVVVVVXFP3Acx3Ecx9E/OI7jOI7j2D8AAAAAAADgPwAAAAAAAOC/OY7jOI7j2L9yHMdxHMfRv1ZVVVVVVcW/IMdxHMdxrL8gx3Ecx3GsP1RVVVVVVcU/cBzHcRzH0T84juM4juPYPwAAAAAAAOA/AAAAAAAA4L85juM4juPYv3Icx3Ecx9G/VlVVVVVVxb8gx3Ecx3GsvyDHcRzHcaw/VFVVVVVVxT9wHMdxHMfRPziO4ziO49g/AAAAAAAA4D8AAAAAAADgvzmO4ziO49i/chzHcRzH0b9WVVVVVVXFvyDHcRzHcay/IMdxHMdxrD9UVVVVVVXFP3Acx3Ecx9E/OI7jOI7j2D8AAAAAAADgPwAAAAAAAOC/OY7jOI7j2L9yHMdxHMfRv1ZVVVVVVcW/IMdxHMdxrL8gx3Ecx3GsP1RVVVVVVcU/cBzHcRzH0T84juM4juPYPwAAAAAAAOA/AAAAAAAA4L85juM4juPYv3Icx3Ecx9G/VlVVVVVVxb8gx3Ecx3GsvyDHcRzHcaw/VFVVVVVVxT9wHMdxHMfRPziO4ziO49g/AAAAAAAA4D8AAAAAAADgvzmO4ziO49i/chzHcRzH0b9WVVVVVVXFvyDHcRzHcay/IMdxHMdxrD9UVVVVVVXFP3Acx3Ecx9E/OI7jOI7j2D8AAAAAAADgPwAAAAAAAOC/OY7jOI7j2L9yHMdxHMfRv1ZVVVVVVcW/IMdxHMdxrL8gx3Ecx3GsP1RVVVVVVcU/cBzHcRzH0T84juM4juPYPwAAAAAAAOA/AAAAAAAA4L85juM4juPYv3Icx3Ecx9G/VlVVVVVVxb8gx3Ecx3GsvyDHcRzHcaw/VFVVVVVVxT9wHMdxHMfRPziO4ziO49g/AAAAAAAA4D8AAAAAAADgvzmO4ziO49i/chzHcRzH0b9WVVVVVVXFvyDHcRzHcay/IMdxHMdxrD9UVVVVVVXFP3Acx3Ecx9E/OI7jOI7j2D8AAAAAAADgPwAAAAAAAOC/OY7jOI7j2L9yHMdxHMfRv1ZVVVVVVcW/IMdxHMdxrL8gx3Ecx3GsP1RVVVVVVcU/cBzHcRzH0T84juM4juPYPwAAAAAAAOA/AAAAAAAA4L85juM4juPYv3Icx3Ecx9G/VlVVVVVVxb8gx3Ecx3GsvyDHcRzHcaw/VFVVVVVVxT9wHMdxHMfRPziO4ziO49g/AAAAAAAA4D8AAAAAAADgvzmO4ziO49i/chzHcRzH0b9WVVVVVVXFvyDHcRzHcay/IMdxHMdxrD9UVVVVVVXFP3Acx3Ecx9E/OI7jOI7j2D8AAAAAAADgPwAAAAAAAOC/OY7jOI7j2L9yHMdxHMfRv1ZVVVVVVcW/IMdxHMdxrL8gx3Ecx3GsP1RVVVVVVcU/cBzHcRzH0T84juM4juPYPwAAAAAAAOA/AAAAAAAA4L85juM4juPYv3Icx3Ecx9G/VlVVVVVVxb8gx3Ecx3GsvyDHcRzHcaw/VFVVVVVVxT9wHMdxHMfRPziO4ziO49g/AAAAAAAA4D8AAAAAAADgvzmO4ziO49i/chzHcRzH0b9WVVVVVVXFvyDHcRzHcay/IMdxHMdxrD9UVVVVVVXFP3Acx3Ecx9E/OI7jOI7j2D8AAAAAAADgPwAAAAAAAOC/OY7jOI7j2L9yHMdxHMfRv1ZVVVVVVcW/IMdxHMdxrL8gx3Ecx3GsP1RVVVVVVcU/cBzHcRzH0T84juM4juPYPwAAAAAAAOA/AAAAAAAA4L85juM4juPYv3Icx3Ecx9G/VlVVVVVVxb8gx3Ecx3GsvyDHcRzHcaw/VFVVVVVVxT9wHMdxHMfRPziO4ziO49g/AAAAAAAA4D8AAAAAAADgvzmO4ziO49i/chzHcRzH0b9WVVVVVVXFvyDHcRzHcay/IMdxHMdxrD9UVVVVVVXFP3Acx3Ecx9E/OI7jOI7j2D8AAAAAAADgPwAAAAAAAOC/OY7jOI7j2L9yHMdxHMfRv1ZVVVVVVcW/IMdxHMdxrL8gx3Ecx3GsP1RVVVVVVcU/cBzHcRzH0T84juM4juPYPwAAAAAAAOA/AAAAAAAA4L85juM4juPYv3Icx3Ecx9G/VlVVVVVVxb8gx3Ecx3GsvyDHcRzHcaw/VFVVVVVVxT9wHMdxHMfRPziO4ziO49g/AAAAAAAA4D8AAAAAAADgvzmO4ziO49i/chzHcRzH0b9WVVVVVVXFvyDHcRzHcay/IMdxHMdxrD9UVVVVVVXFP3Acx3Ecx9E/OI7jOI7j2D8AAAAAAADgPwAAAAAAAOC/OY7jOI7j2L9yHMdxHMfRv1ZVVVVVVcW/IMdxHMdxrL8gx3Ecx3GsP1RVVVVVVcU/cBzHcRzH0T84juM4juPYPwAAAAAAAOA/AAAAAAAA4L85juM4juPYv3Icx3Ecx9G/VlVVVVVVxb8gx3Ecx3GsvyDHcRzHcaw/VFVVVVVVxT9wHMdxHMfRPziO4ziO49g/AAAAAAAA4D8AAAAAAADgvzmO4ziO49i/chzHcRzH0b9WVVVVVVXFvyDHcRzHcay/IMdxHMdxrD9UVVVVVVXFP3Acx3Ecx9E/OI7jOI7j2D8AAAAAAADgPwAAAAAAAOC/OY7jOI7j2L9yHMdxHMfRv1ZVVVVVVcW/IMdxHMdxrL8gx3Ecx3GsP1RVVVVVVcU/cBzHcRzH0T84juM4juPYPwAAAAAAAOA/AAAAAAAA4L85juM4juPYv3Icx3Ecx9G/VlVVVVVVxb8gx3Ecx3GsvyDHcRzHcaw/VFVVVVVVxT9wHMdxHMfRPziO4ziO49g/AAAAAAAA4D8AAAAAAADgvzmO4ziO49i/chzHcRzH0b9WVVVVVVXFvyDHcRzHcay/IMdxHMdxrD9UVVVVVVXFP3Acx3Ecx9E/OI7jOI7j2D8AAAAAAADgPwAAAAAAAOC/OY7jOI7j2L9yHMdxHMfRv1ZVVVVVVcW/IMdxHMdxrL8gx3Ecx3GsP1RVVVVVVcU/cBzHcRzH0T84juM4juPYPwAAAAAAAOA/AAAAAAAA4L85juM4juPYv3Icx3Ecx9G/VlVVVVVVxb8gx3Ecx3GsvyDHcRzHcaw/VFVVVVVVxT9wHMdxHMfRPziO4ziO49g/AAAAAAAA4D8AAAAAAADgvzmO4ziO49i/chzHcRzH0b9WVVVVVVXFvyDHcRzHcay/IMdxHMdxrD9UVVVVVVXFP3Acx3Ecx9E/OI7jOI7j2D8AAAAAAADgPwAAAAAAAOC/OY7jOI7j2L9yHMdxHMfRv1ZVVVVVVcW/IMdxHMdxrL8gx3Ecx3GsP1RVVVVVVcU/cBzHcRzH0T84juM4juPYPwAAAAAAAOA/AAAAAAAA4L85juM4juPYv3Icx3Ecx9G/VlVVVVVVxb8gx3Ecx3GsvyDHcRzHcaw/VFVVVVVVxT9wHMdxHMfRPziO4ziO49g/AAAAAAAA4D8=",
          "dtype": "f8"
         }
        }
       ],
       "layout": {
        "scene": {
         "xaxis": {
          "title": {
           "text": "X"
          }
         },
         "yaxis": {
          "title": {
           "text": "Y"
          }
         },
         "zaxis": {
          "title": {
           "text": "Z"
          }
         }
        },
        "template": {
         "data": {
          "bar": [
           {
            "error_x": {
             "color": "#2a3f5f"
            },
            "error_y": {
             "color": "#2a3f5f"
            },
            "marker": {
             "line": {
              "color": "#E5ECF6",
              "width": 0.5
             },
             "pattern": {
              "fillmode": "overlay",
              "size": 10,
              "solidity": 0.2
             }
            },
            "type": "bar"
           }
          ],
          "barpolar": [
           {
            "marker": {
             "line": {
              "color": "#E5ECF6",
              "width": 0.5
             },
             "pattern": {
              "fillmode": "overlay",
              "size": 10,
              "solidity": 0.2
             }
            },
            "type": "barpolar"
           }
          ],
          "carpet": [
           {
            "aaxis": {
             "endlinecolor": "#2a3f5f",
             "gridcolor": "white",
             "linecolor": "white",
             "minorgridcolor": "white",
             "startlinecolor": "#2a3f5f"
            },
            "baxis": {
             "endlinecolor": "#2a3f5f",
             "gridcolor": "white",
             "linecolor": "white",
             "minorgridcolor": "white",
             "startlinecolor": "#2a3f5f"
            },
            "type": "carpet"
           }
          ],
          "choropleth": [
           {
            "colorbar": {
             "outlinewidth": 0,
             "ticks": ""
            },
            "type": "choropleth"
           }
          ],
          "contour": [
           {
            "colorbar": {
             "outlinewidth": 0,
             "ticks": ""
            },
            "colorscale": [
             [
              0,
              "#0d0887"
             ],
             [
              0.1111111111111111,
              "#46039f"
             ],
             [
              0.2222222222222222,
              "#7201a8"
             ],
             [
              0.3333333333333333,
              "#9c179e"
             ],
             [
              0.4444444444444444,
              "#bd3786"
             ],
             [
              0.5555555555555556,
              "#d8576b"
             ],
             [
              0.6666666666666666,
              "#ed7953"
             ],
             [
              0.7777777777777778,
              "#fb9f3a"
             ],
             [
              0.8888888888888888,
              "#fdca26"
             ],
             [
              1,
              "#f0f921"
             ]
            ],
            "type": "contour"
           }
          ],
          "contourcarpet": [
           {
            "colorbar": {
             "outlinewidth": 0,
             "ticks": ""
            },
            "type": "contourcarpet"
           }
          ],
          "heatmap": [
           {
            "colorbar": {
             "outlinewidth": 0,
             "ticks": ""
            },
            "colorscale": [
             [
              0,
              "#0d0887"
             ],
             [
              0.1111111111111111,
              "#46039f"
             ],
             [
              0.2222222222222222,
              "#7201a8"
             ],
             [
              0.3333333333333333,
              "#9c179e"
             ],
             [
              0.4444444444444444,
              "#bd3786"
             ],
             [
              0.5555555555555556,
              "#d8576b"
             ],
             [
              0.6666666666666666,
              "#ed7953"
             ],
             [
              0.7777777777777778,
              "#fb9f3a"
             ],
             [
              0.8888888888888888,
              "#fdca26"
             ],
             [
              1,
              "#f0f921"
             ]
            ],
            "type": "heatmap"
           }
          ],
          "histogram": [
           {
            "marker": {
             "pattern": {
              "fillmode": "overlay",
              "size": 10,
              "solidity": 0.2
             }
            },
            "type": "histogram"
           }
          ],
          "histogram2d": [
           {
            "colorbar": {
             "outlinewidth": 0,
             "ticks": ""
            },
            "colorscale": [
             [
              0,
              "#0d0887"
             ],
             [
              0.1111111111111111,
              "#46039f"
             ],
             [
              0.2222222222222222,
              "#7201a8"
             ],
             [
              0.3333333333333333,
              "#9c179e"
             ],
             [
              0.4444444444444444,
              "#bd3786"
             ],
             [
              0.5555555555555556,
              "#d8576b"
             ],
             [
              0.6666666666666666,
              "#ed7953"
             ],
             [
              0.7777777777777778,
              "#fb9f3a"
             ],
             [
              0.8888888888888888,
              "#fdca26"
             ],
             [
              1,
              "#f0f921"
             ]
            ],
            "type": "histogram2d"
           }
          ],
          "histogram2dcontour": [
           {
            "colorbar": {
             "outlinewidth": 0,
             "ticks": ""
            },
            "colorscale": [
             [
              0,
              "#0d0887"
             ],
             [
              0.1111111111111111,
              "#46039f"
             ],
             [
              0.2222222222222222,
              "#7201a8"
             ],
             [
              0.3333333333333333,
              "#9c179e"
             ],
             [
              0.4444444444444444,
              "#bd3786"
             ],
             [
              0.5555555555555556,
              "#d8576b"
             ],
             [
              0.6666666666666666,
              "#ed7953"
             ],
             [
              0.7777777777777778,
              "#fb9f3a"
             ],
             [
              0.8888888888888888,
              "#fdca26"
             ],
             [
              1,
              "#f0f921"
             ]
            ],
            "type": "histogram2dcontour"
           }
          ],
          "mesh3d": [
           {
            "colorbar": {
             "outlinewidth": 0,
             "ticks": ""
            },
            "type": "mesh3d"
           }
          ],
          "parcoords": [
           {
            "line": {
             "colorbar": {
              "outlinewidth": 0,
              "ticks": ""
             }
            },
            "type": "parcoords"
           }
          ],
          "pie": [
           {
            "automargin": true,
            "type": "pie"
           }
          ],
          "scatter": [
           {
            "fillpattern": {
             "fillmode": "overlay",
             "size": 10,
             "solidity": 0.2
            },
            "type": "scatter"
           }
          ],
          "scatter3d": [
           {
            "line": {
             "colorbar": {
              "outlinewidth": 0,
              "ticks": ""
             }
            },
            "marker": {
             "colorbar": {
              "outlinewidth": 0,
              "ticks": ""
             }
            },
            "type": "scatter3d"
           }
          ],
          "scattercarpet": [
           {
            "marker": {
             "colorbar": {
              "outlinewidth": 0,
              "ticks": ""
             }
            },
            "type": "scattercarpet"
           }
          ],
          "scattergeo": [
           {
            "marker": {
             "colorbar": {
              "outlinewidth": 0,
              "ticks": ""
             }
            },
            "type": "scattergeo"
           }
          ],
          "scattergl": [
           {
            "marker": {
             "colorbar": {
              "outlinewidth": 0,
              "ticks": ""
             }
            },
            "type": "scattergl"
           }
          ],
          "scattermap": [
           {
            "marker": {
             "colorbar": {
              "outlinewidth": 0,
              "ticks": ""
             }
            },
            "type": "scattermap"
           }
          ],
          "scattermapbox": [
           {
            "marker": {
             "colorbar": {
              "outlinewidth": 0,
              "ticks": ""
             }
            },
            "type": "scattermapbox"
           }
          ],
          "scatterpolar": [
           {
            "marker": {
             "colorbar": {
              "outlinewidth": 0,
              "ticks": ""
             }
            },
            "type": "scatterpolar"
           }
          ],
          "scatterpolargl": [
           {
            "marker": {
             "colorbar": {
              "outlinewidth": 0,
              "ticks": ""
             }
            },
            "type": "scatterpolargl"
           }
          ],
          "scatterternary": [
           {
            "marker": {
             "colorbar": {
              "outlinewidth": 0,
              "ticks": ""
             }
            },
            "type": "scatterternary"
           }
          ],
          "surface": [
           {
            "colorbar": {
             "outlinewidth": 0,
             "ticks": ""
            },
            "colorscale": [
             [
              0,
              "#0d0887"
             ],
             [
              0.1111111111111111,
              "#46039f"
             ],
             [
              0.2222222222222222,
              "#7201a8"
             ],
             [
              0.3333333333333333,
              "#9c179e"
             ],
             [
              0.4444444444444444,
              "#bd3786"
             ],
             [
              0.5555555555555556,
              "#d8576b"
             ],
             [
              0.6666666666666666,
              "#ed7953"
             ],
             [
              0.7777777777777778,
              "#fb9f3a"
             ],
             [
              0.8888888888888888,
              "#fdca26"
             ],
             [
              1,
              "#f0f921"
             ]
            ],
            "type": "surface"
           }
          ],
          "table": [
           {
            "cells": {
             "fill": {
              "color": "#EBF0F8"
             },
             "line": {
              "color": "white"
             }
            },
            "header": {
             "fill": {
              "color": "#C8D4E3"
             },
             "line": {
              "color": "white"
             }
            },
            "type": "table"
           }
          ]
         },
         "layout": {
          "annotationdefaults": {
           "arrowcolor": "#2a3f5f",
           "arrowhead": 0,
           "arrowwidth": 1
          },
          "autotypenumbers": "strict",
          "coloraxis": {
           "colorbar": {
            "outlinewidth": 0,
            "ticks": ""
           }
          },
          "colorscale": {
           "diverging": [
            [
             0,
             "#8e0152"
            ],
            [
             0.1,
             "#c51b7d"
            ],
            [
             0.2,
             "#de77ae"
            ],
            [
             0.3,
             "#f1b6da"
            ],
            [
             0.4,
             "#fde0ef"
            ],
            [
             0.5,
             "#f7f7f7"
            ],
            [
             0.6,
             "#e6f5d0"
            ],
            [
             0.7,
             "#b8e186"
            ],
            [
             0.8,
             "#7fbc41"
            ],
            [
             0.9,
             "#4d9221"
            ],
            [
             1,
             "#276419"
            ]
           ],
           "sequential": [
            [
             0,
             "#0d0887"
            ],
            [
             0.1111111111111111,
             "#46039f"
            ],
            [
             0.2222222222222222,
             "#7201a8"
            ],
            [
             0.3333333333333333,
             "#9c179e"
            ],
            [
             0.4444444444444444,
             "#bd3786"
            ],
            [
             0.5555555555555556,
             "#d8576b"
            ],
            [
             0.6666666666666666,
             "#ed7953"
            ],
            [
             0.7777777777777778,
             "#fb9f3a"
            ],
            [
             0.8888888888888888,
             "#fdca26"
            ],
            [
             1,
             "#f0f921"
            ]
           ],
           "sequentialminus": [
            [
             0,
             "#0d0887"
            ],
            [
             0.1111111111111111,
             "#46039f"
            ],
            [
             0.2222222222222222,
             "#7201a8"
            ],
            [
             0.3333333333333333,
             "#9c179e"
            ],
            [
             0.4444444444444444,
             "#bd3786"
            ],
            [
             0.5555555555555556,
             "#d8576b"
            ],
            [
             0.6666666666666666,
             "#ed7953"
            ],
            [
             0.7777777777777778,
             "#fb9f3a"
            ],
            [
             0.8888888888888888,
             "#fdca26"
            ],
            [
             1,
             "#f0f921"
            ]
           ]
          },
          "colorway": [
           "#636efa",
           "#EF553B",
           "#00cc96",
           "#ab63fa",
           "#FFA15A",
           "#19d3f3",
           "#FF6692",
           "#B6E880",
           "#FF97FF",
           "#FECB52"
          ],
          "font": {
           "color": "#2a3f5f"
          },
          "geo": {
           "bgcolor": "white",
           "lakecolor": "white",
           "landcolor": "#E5ECF6",
           "showlakes": true,
           "showland": true,
           "subunitcolor": "white"
          },
          "hoverlabel": {
           "align": "left"
          },
          "hovermode": "closest",
          "mapbox": {
           "style": "light"
          },
          "paper_bgcolor": "white",
          "plot_bgcolor": "#E5ECF6",
          "polar": {
           "angularaxis": {
            "gridcolor": "white",
            "linecolor": "white",
            "ticks": ""
           },
           "bgcolor": "#E5ECF6",
           "radialaxis": {
            "gridcolor": "white",
            "linecolor": "white",
            "ticks": ""
           }
          },
          "scene": {
           "xaxis": {
            "backgroundcolor": "#E5ECF6",
            "gridcolor": "white",
            "gridwidth": 2,
            "linecolor": "white",
            "showbackground": true,
            "ticks": "",
            "zerolinecolor": "white"
           },
           "yaxis": {
            "backgroundcolor": "#E5ECF6",
            "gridcolor": "white",
            "gridwidth": 2,
            "linecolor": "white",
            "showbackground": true,
            "ticks": "",
            "zerolinecolor": "white"
           },
           "zaxis": {
            "backgroundcolor": "#E5ECF6",
            "gridcolor": "white",
            "gridwidth": 2,
            "linecolor": "white",
            "showbackground": true,
            "ticks": "",
            "zerolinecolor": "white"
           }
          },
          "shapedefaults": {
           "line": {
            "color": "#2a3f5f"
           }
          },
          "ternary": {
           "aaxis": {
            "gridcolor": "white",
            "linecolor": "white",
            "ticks": ""
           },
           "baxis": {
            "gridcolor": "white",
            "linecolor": "white",
            "ticks": ""
           },
           "bgcolor": "#E5ECF6",
           "caxis": {
            "gridcolor": "white",
            "linecolor": "white",
            "ticks": ""
           }
          },
          "title": {
           "x": 0.05
          },
          "xaxis": {
           "automargin": true,
           "gridcolor": "white",
           "linecolor": "white",
           "ticks": "",
           "title": {
            "standoff": 15
           },
           "zerolinecolor": "white",
           "zerolinewidth": 2
          },
          "yaxis": {
           "automargin": true,
           "gridcolor": "white",
           "linecolor": "white",
           "ticks": "",
           "title": {
            "standoff": 15
           },
           "zerolinecolor": "white",
           "zerolinewidth": 2
          }
         }
        },
        "title": {
         "text": "B fields around current carrying wire"
        }
       }
      }
     },
     "metadata": {},
     "output_type": "display_data"
    }
   ],
   "source": [
    "def field_around_current_carrying_wire(I:float, \n",
    "                                       CONSTANTS:dict, \n",
    "                                       x_extent:list = [-0.5, 0.5], \n",
    "                                       y_extent:list = [-0.5, 0.5],\n",
    "                                       z_extent:list = [-0.5, 0.5], \n",
    "                                       resolution:float = 10) -> list[np.ndarray]:\n",
    "    '''\n",
    "    A current carrying wire will have a magnetic field around it. The wire will run parallel to the z\n",
    "    axis, and be placed at the origin of the x,y plane. Current will be travelling in the direction of positive z.\n",
    "\n",
    "    Direction of the current is dependent on the direction of travel. When it comes time to compare these outputs \n",
    "    to that of the GP, we can crank up the resolution of this and see if it can recreate the field.\n",
    "    \n",
    "    Args:\n",
    "        I (float): Current which the wire is carrying.\n",
    "        CONSTANTS (dict): Dictionary of all of the physical constants which could be useful.\n",
    "\n",
    "        x_extent (list[int]): extent in the x direction of the final field. In SI Units, this will be meters.\n",
    "        y_extent (list[int]): extent in the y direction of the final field. In SI Units, this will be meters.\n",
    "        z_extent (list[int]): extent in the z direction of the final field. In SI Units, this will be meters.\n",
    "\n",
    "    Returns:\n",
    "        6 numpy nd arrays \n",
    "    '''\n",
    "    x, y, z = np.meshgrid(\n",
    "        np.linspace(x_extent[0], x_extent[1], resolution),\n",
    "        np.linspace(y_extent[0], y_extent[1], resolution),\n",
    "        np.linspace(z_extent[0], z_extent[1], resolution)\n",
    "    )\n",
    "\n",
    "    r = np.sqrt(x**2 + y**2) + 1e-3  # avoid div by zero\n",
    "    theta = np.arctan2(y, x)\n",
    "\n",
    "    feild_strength = CONSTANTS[\"mu_naught\"] * I / (2 * CONSTANTS[\"pi\"])\n",
    "\n",
    "    u = -feild_strength / r * np.sin(theta)\n",
    "    v = feild_strength / r * np.cos(theta)\n",
    "    w = np.zeros_like(z)\n",
    "\n",
    "    return x, y, z, u, v, w\n",
    "\n",
    "# call\n",
    "x_wire, y_wire, z_wire, fields_x_wire, fields_y_wire, fields_z_wire = field_around_current_carrying_wire(100000000,CONSTANTS)\n",
    "plotter.plotter(x_wire, y_wire, z_wire, fields_x_wire, fields_y_wire, fields_z_wire, title = 'B fields around current carrying wire')"
   ]
  },
  {
   "cell_type": "code",
   "execution_count": 6,
   "metadata": {},
   "outputs": [
    {
     "data": {
      "application/vnd.plotly.v1+json": {
       "config": {
        "plotlyServerURL": "https://plot.ly"
       },
       "data": [
        {
         "anchor": "tail",
         "sizemode": "scaled",
         "sizeref": 2,
         "type": "cone",
         "u": {
          "bdata": "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",
          "dtype": "f8"
         },
         "v": {
          "bdata": "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",
          "dtype": "f8"
         },
         "w": {
          "bdata": "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",
          "dtype": "f8"
         },
         "x": {
          "bdata": "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",
          "dtype": "f8"
         },
         "y": {
          "bdata": "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",
          "dtype": "f8"
         },
         "z": {
          "bdata": "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",
          "dtype": "f8"
         }
        }
       ],
       "layout": {
        "scene": {
         "xaxis": {
          "title": {
           "text": "X"
          }
         },
         "yaxis": {
          "title": {
           "text": "Y"
          }
         },
         "zaxis": {
          "title": {
           "text": "Z"
          }
         }
        },
        "template": {
         "data": {
          "bar": [
           {
            "error_x": {
             "color": "#2a3f5f"
            },
            "error_y": {
             "color": "#2a3f5f"
            },
            "marker": {
             "line": {
              "color": "#E5ECF6",
              "width": 0.5
             },
             "pattern": {
              "fillmode": "overlay",
              "size": 10,
              "solidity": 0.2
             }
            },
            "type": "bar"
           }
          ],
          "barpolar": [
           {
            "marker": {
             "line": {
              "color": "#E5ECF6",
              "width": 0.5
             },
             "pattern": {
              "fillmode": "overlay",
              "size": 10,
              "solidity": 0.2
             }
            },
            "type": "barpolar"
           }
          ],
          "carpet": [
           {
            "aaxis": {
             "endlinecolor": "#2a3f5f",
             "gridcolor": "white",
             "linecolor": "white",
             "minorgridcolor": "white",
             "startlinecolor": "#2a3f5f"
            },
            "baxis": {
             "endlinecolor": "#2a3f5f",
             "gridcolor": "white",
             "linecolor": "white",
             "minorgridcolor": "white",
             "startlinecolor": "#2a3f5f"
            },
            "type": "carpet"
           }
          ],
          "choropleth": [
           {
            "colorbar": {
             "outlinewidth": 0,
             "ticks": ""
            },
            "type": "choropleth"
           }
          ],
          "contour": [
           {
            "colorbar": {
             "outlinewidth": 0,
             "ticks": ""
            },
            "colorscale": [
             [
              0,
              "#0d0887"
             ],
             [
              0.1111111111111111,
              "#46039f"
             ],
             [
              0.2222222222222222,
              "#7201a8"
             ],
             [
              0.3333333333333333,
              "#9c179e"
             ],
             [
              0.4444444444444444,
              "#bd3786"
             ],
             [
              0.5555555555555556,
              "#d8576b"
             ],
             [
              0.6666666666666666,
              "#ed7953"
             ],
             [
              0.7777777777777778,
              "#fb9f3a"
             ],
             [
              0.8888888888888888,
              "#fdca26"
             ],
             [
              1,
              "#f0f921"
             ]
            ],
            "type": "contour"
           }
          ],
          "contourcarpet": [
           {
            "colorbar": {
             "outlinewidth": 0,
             "ticks": ""
            },
            "type": "contourcarpet"
           }
          ],
          "heatmap": [
           {
            "colorbar": {
             "outlinewidth": 0,
             "ticks": ""
            },
            "colorscale": [
             [
              0,
              "#0d0887"
             ],
             [
              0.1111111111111111,
              "#46039f"
             ],
             [
              0.2222222222222222,
              "#7201a8"
             ],
             [
              0.3333333333333333,
              "#9c179e"
             ],
             [
              0.4444444444444444,
              "#bd3786"
             ],
             [
              0.5555555555555556,
              "#d8576b"
             ],
             [
              0.6666666666666666,
              "#ed7953"
             ],
             [
              0.7777777777777778,
              "#fb9f3a"
             ],
             [
              0.8888888888888888,
              "#fdca26"
             ],
             [
              1,
              "#f0f921"
             ]
            ],
            "type": "heatmap"
           }
          ],
          "histogram": [
           {
            "marker": {
             "pattern": {
              "fillmode": "overlay",
              "size": 10,
              "solidity": 0.2
             }
            },
            "type": "histogram"
           }
          ],
          "histogram2d": [
           {
            "colorbar": {
             "outlinewidth": 0,
             "ticks": ""
            },
            "colorscale": [
             [
              0,
              "#0d0887"
             ],
             [
              0.1111111111111111,
              "#46039f"
             ],
             [
              0.2222222222222222,
              "#7201a8"
             ],
             [
              0.3333333333333333,
              "#9c179e"
             ],
             [
              0.4444444444444444,
              "#bd3786"
             ],
             [
              0.5555555555555556,
              "#d8576b"
             ],
             [
              0.6666666666666666,
              "#ed7953"
             ],
             [
              0.7777777777777778,
              "#fb9f3a"
             ],
             [
              0.8888888888888888,
              "#fdca26"
             ],
             [
              1,
              "#f0f921"
             ]
            ],
            "type": "histogram2d"
           }
          ],
          "histogram2dcontour": [
           {
            "colorbar": {
             "outlinewidth": 0,
             "ticks": ""
            },
            "colorscale": [
             [
              0,
              "#0d0887"
             ],
             [
              0.1111111111111111,
              "#46039f"
             ],
             [
              0.2222222222222222,
              "#7201a8"
             ],
             [
              0.3333333333333333,
              "#9c179e"
             ],
             [
              0.4444444444444444,
              "#bd3786"
             ],
             [
              0.5555555555555556,
              "#d8576b"
             ],
             [
              0.6666666666666666,
              "#ed7953"
             ],
             [
              0.7777777777777778,
              "#fb9f3a"
             ],
             [
              0.8888888888888888,
              "#fdca26"
             ],
             [
              1,
              "#f0f921"
             ]
            ],
            "type": "histogram2dcontour"
           }
          ],
          "mesh3d": [
           {
            "colorbar": {
             "outlinewidth": 0,
             "ticks": ""
            },
            "type": "mesh3d"
           }
          ],
          "parcoords": [
           {
            "line": {
             "colorbar": {
              "outlinewidth": 0,
              "ticks": ""
             }
            },
            "type": "parcoords"
           }
          ],
          "pie": [
           {
            "automargin": true,
            "type": "pie"
           }
          ],
          "scatter": [
           {
            "fillpattern": {
             "fillmode": "overlay",
             "size": 10,
             "solidity": 0.2
            },
            "type": "scatter"
           }
          ],
          "scatter3d": [
           {
            "line": {
             "colorbar": {
              "outlinewidth": 0,
              "ticks": ""
             }
            },
            "marker": {
             "colorbar": {
              "outlinewidth": 0,
              "ticks": ""
             }
            },
            "type": "scatter3d"
           }
          ],
          "scattercarpet": [
           {
            "marker": {
             "colorbar": {
              "outlinewidth": 0,
              "ticks": ""
             }
            },
            "type": "scattercarpet"
           }
          ],
          "scattergeo": [
           {
            "marker": {
             "colorbar": {
              "outlinewidth": 0,
              "ticks": ""
             }
            },
            "type": "scattergeo"
           }
          ],
          "scattergl": [
           {
            "marker": {
             "colorbar": {
              "outlinewidth": 0,
              "ticks": ""
             }
            },
            "type": "scattergl"
           }
          ],
          "scattermap": [
           {
            "marker": {
             "colorbar": {
              "outlinewidth": 0,
              "ticks": ""
             }
            },
            "type": "scattermap"
           }
          ],
          "scattermapbox": [
           {
            "marker": {
             "colorbar": {
              "outlinewidth": 0,
              "ticks": ""
             }
            },
            "type": "scattermapbox"
           }
          ],
          "scatterpolar": [
           {
            "marker": {
             "colorbar": {
              "outlinewidth": 0,
              "ticks": ""
             }
            },
            "type": "scatterpolar"
           }
          ],
          "scatterpolargl": [
           {
            "marker": {
             "colorbar": {
              "outlinewidth": 0,
              "ticks": ""
             }
            },
            "type": "scatterpolargl"
           }
          ],
          "scatterternary": [
           {
            "marker": {
             "colorbar": {
              "outlinewidth": 0,
              "ticks": ""
             }
            },
            "type": "scatterternary"
           }
          ],
          "surface": [
           {
            "colorbar": {
             "outlinewidth": 0,
             "ticks": ""
            },
            "colorscale": [
             [
              0,
              "#0d0887"
             ],
             [
              0.1111111111111111,
              "#46039f"
             ],
             [
              0.2222222222222222,
              "#7201a8"
             ],
             [
              0.3333333333333333,
              "#9c179e"
             ],
             [
              0.4444444444444444,
              "#bd3786"
             ],
             [
              0.5555555555555556,
              "#d8576b"
             ],
             [
              0.6666666666666666,
              "#ed7953"
             ],
             [
              0.7777777777777778,
              "#fb9f3a"
             ],
             [
              0.8888888888888888,
              "#fdca26"
             ],
             [
              1,
              "#f0f921"
             ]
            ],
            "type": "surface"
           }
          ],
          "table": [
           {
            "cells": {
             "fill": {
              "color": "#EBF0F8"
             },
             "line": {
              "color": "white"
             }
            },
            "header": {
             "fill": {
              "color": "#C8D4E3"
             },
             "line": {
              "color": "white"
             }
            },
            "type": "table"
           }
          ]
         },
         "layout": {
          "annotationdefaults": {
           "arrowcolor": "#2a3f5f",
           "arrowhead": 0,
           "arrowwidth": 1
          },
          "autotypenumbers": "strict",
          "coloraxis": {
           "colorbar": {
            "outlinewidth": 0,
            "ticks": ""
           }
          },
          "colorscale": {
           "diverging": [
            [
             0,
             "#8e0152"
            ],
            [
             0.1,
             "#c51b7d"
            ],
            [
             0.2,
             "#de77ae"
            ],
            [
             0.3,
             "#f1b6da"
            ],
            [
             0.4,
             "#fde0ef"
            ],
            [
             0.5,
             "#f7f7f7"
            ],
            [
             0.6,
             "#e6f5d0"
            ],
            [
             0.7,
             "#b8e186"
            ],
            [
             0.8,
             "#7fbc41"
            ],
            [
             0.9,
             "#4d9221"
            ],
            [
             1,
             "#276419"
            ]
           ],
           "sequential": [
            [
             0,
             "#0d0887"
            ],
            [
             0.1111111111111111,
             "#46039f"
            ],
            [
             0.2222222222222222,
             "#7201a8"
            ],
            [
             0.3333333333333333,
             "#9c179e"
            ],
            [
             0.4444444444444444,
             "#bd3786"
            ],
            [
             0.5555555555555556,
             "#d8576b"
            ],
            [
             0.6666666666666666,
             "#ed7953"
            ],
            [
             0.7777777777777778,
             "#fb9f3a"
            ],
            [
             0.8888888888888888,
             "#fdca26"
            ],
            [
             1,
             "#f0f921"
            ]
           ],
           "sequentialminus": [
            [
             0,
             "#0d0887"
            ],
            [
             0.1111111111111111,
             "#46039f"
            ],
            [
             0.2222222222222222,
             "#7201a8"
            ],
            [
             0.3333333333333333,
             "#9c179e"
            ],
            [
             0.4444444444444444,
             "#bd3786"
            ],
            [
             0.5555555555555556,
             "#d8576b"
            ],
            [
             0.6666666666666666,
             "#ed7953"
            ],
            [
             0.7777777777777778,
             "#fb9f3a"
            ],
            [
             0.8888888888888888,
             "#fdca26"
            ],
            [
             1,
             "#f0f921"
            ]
           ]
          },
          "colorway": [
           "#636efa",
           "#EF553B",
           "#00cc96",
           "#ab63fa",
           "#FFA15A",
           "#19d3f3",
           "#FF6692",
           "#B6E880",
           "#FF97FF",
           "#FECB52"
          ],
          "font": {
           "color": "#2a3f5f"
          },
          "geo": {
           "bgcolor": "white",
           "lakecolor": "white",
           "landcolor": "#E5ECF6",
           "showlakes": true,
           "showland": true,
           "subunitcolor": "white"
          },
          "hoverlabel": {
           "align": "left"
          },
          "hovermode": "closest",
          "mapbox": {
           "style": "light"
          },
          "paper_bgcolor": "white",
          "plot_bgcolor": "#E5ECF6",
          "polar": {
           "angularaxis": {
            "gridcolor": "white",
            "linecolor": "white",
            "ticks": ""
           },
           "bgcolor": "#E5ECF6",
           "radialaxis": {
            "gridcolor": "white",
            "linecolor": "white",
            "ticks": ""
           }
          },
          "scene": {
           "xaxis": {
            "backgroundcolor": "#E5ECF6",
            "gridcolor": "white",
            "gridwidth": 2,
            "linecolor": "white",
            "showbackground": true,
            "ticks": "",
            "zerolinecolor": "white"
           },
           "yaxis": {
            "backgroundcolor": "#E5ECF6",
            "gridcolor": "white",
            "gridwidth": 2,
            "linecolor": "white",
            "showbackground": true,
            "ticks": "",
            "zerolinecolor": "white"
           },
           "zaxis": {
            "backgroundcolor": "#E5ECF6",
            "gridcolor": "white",
            "gridwidth": 2,
            "linecolor": "white",
            "showbackground": true,
            "ticks": "",
            "zerolinecolor": "white"
           }
          },
          "shapedefaults": {
           "line": {
            "color": "#2a3f5f"
           }
          },
          "ternary": {
           "aaxis": {
            "gridcolor": "white",
            "linecolor": "white",
            "ticks": ""
           },
           "baxis": {
            "gridcolor": "white",
            "linecolor": "white",
            "ticks": ""
           },
           "bgcolor": "#E5ECF6",
           "caxis": {
            "gridcolor": "white",
            "linecolor": "white",
            "ticks": ""
           }
          },
          "title": {
           "x": 0.05
          },
          "xaxis": {
           "automargin": true,
           "gridcolor": "white",
           "linecolor": "white",
           "ticks": "",
           "title": {
            "standoff": 15
           },
           "zerolinecolor": "white",
           "zerolinewidth": 2
          },
          "yaxis": {
           "automargin": true,
           "gridcolor": "white",
           "linecolor": "white",
           "ticks": "",
           "title": {
            "standoff": 15
           },
           "zerolinecolor": "white",
           "zerolinewidth": 2
          }
         }
        },
        "title": {
         "text": "B fields around current carrying loop"
        }
       }
      }
     },
     "metadata": {},
     "output_type": "display_data"
    }
   ],
   "source": [
    "def field_around_toroidal_current_carrying_wire(I:float, \n",
    "                                                ring_radius:float = 0.5,\n",
    "                                                CONSTANTS:dict = CONSTANTS, \n",
    "                                                x_extent:list = [-0.5, 0.5], \n",
    "                                                y_extent:list = [-0.5, 0.5],\n",
    "                                                z_extent:list = [-0.5,0.5], \n",
    "                                                resolution:float = 10, \n",
    "                                                integral_discretisation:float = 1000) -> list[np.ndarray]:\n",
    "    '''\n",
    "    In the case of a circulating current, a magnetic field is formed inside of it. This is a nice parity to the previous case. \n",
    "    We will place our coil in the centre of the x,y plane, with current circulating anticlockwise as you look at it down the z \n",
    "    axis. By the right hand rule, this will lead to a magnetic field which is aligned directly up the z axis. \n",
    "    \n",
    "    Args:\n",
    "        I (float): Current which the wire is carrying.\n",
    "        ring_radius (float): Radius of our current carrying ring\n",
    "        CONSTANTS (dict): Dictionary of all of the physical constants which could be useful.\n",
    "        x_extent (list[int]): extent in the x direction of the final field. In SI Units, this will be meters.\n",
    "        y_extent (list[int]): extent in the y direction of the final field. In SI Units, this will be meters.\n",
    "        z_extent (list[int]): extent in the z direction of the final field. In SI Units, this will be meters.\n",
    "        resolution (int): side length of rectangular grid\n",
    "        integral_discretisation (int): how many segments we break up our integral into.\n",
    "\n",
    "    Returns:\n",
    "        6 numpy nd arrays \n",
    "    '''\n",
    "    mu0, Pi = CONSTANTS['mu_naught'], CONSTANTS['pi']\n",
    "\n",
    "\n",
    "    x, y, z = np.meshgrid(\n",
    "        np.linspace(x_extent[0], x_extent[1], resolution),\n",
    "        np.linspace(y_extent[0], y_extent[1], resolution),\n",
    "        np.linspace(z_extent[0], z_extent[1], resolution)\n",
    "    )\n",
    "    Bx, By, Bz = np.zeros_like(x), np.zeros_like(y), np.zeros_like(z)\n",
    "\n",
    "\n",
    "    # Biot savart prefactor\n",
    "    prefactor = mu0 * I / (4*Pi)\n",
    "    \n",
    "    # Discretise the loop into large number of pieces for summation approximation \n",
    "    dphi = 2*np.pi / integral_discretisation\n",
    "    phis = np.linspace(0, 2*Pi, integral_discretisation, endpoint=False)\n",
    "    \n",
    "    for phi in phis:\n",
    "        # Coordinates of the source point on the loop\n",
    "        xprime = ring_radius*np.cos(phi)\n",
    "        yprime = ring_radius*np.sin(phi)\n",
    "        zprime = 0.0\n",
    "        \n",
    "        dlx = -ring_radius * np.sin(phi) * dphi\n",
    "        dly =  ring_radius * np.cos(phi) * dphi\n",
    "        dlz =  0.0\n",
    "        \n",
    "        # r - r'\n",
    "        rx = x - xprime\n",
    "        ry = y - yprime\n",
    "        rz = z - zprime\n",
    "        \n",
    "        # distance^3 (have to add small amount for numerical stability )\n",
    "        r3 = (rx**2 + ry**2 + rz**2)**1.5 + 0.01  \n",
    "        \n",
    "        # cross product dl' x (r-r'):\n",
    "        cross_x = dly*rz - dlz*ry  # = R cos(phi)*z * dphi\n",
    "        cross_y = dlz*rx - dlx*rz  # = R sin(phi)*z * dphi\n",
    "        cross_z = dlx*ry - dly*rx  \n",
    "       \n",
    "        # Accumulate in B\n",
    "        Bx += prefactor * cross_x / r3\n",
    "        By += prefactor * cross_y / r3\n",
    "        Bz += prefactor * cross_z / r3\n",
    "\n",
    "    return x, y, z, Bx, By, Bz\n",
    "# call\n",
    "x_coil, y_coil, z_coil, fields_x_coil, fields_y_coil, fields_z_coil = field_around_toroidal_current_carrying_wire(100000000)\n",
    "plotter.plotter(x_coil, y_coil, z_coil, fields_x_coil, fields_y_coil, fields_z_coil, title = 'B fields around current carrying loop') "
   ]
  },
  {
   "cell_type": "code",
   "execution_count": 7,
   "metadata": {},
   "outputs": [],
   "source": [
    "def field_around_infinite_solenoid(I:float, \n",
    "                                   CONSTANTS:dict, \n",
    "                                   x_extent:list = [-5, 5], \n",
    "                                   y_extent:list = [-5, 5],\n",
    "                                   z_extent:list = [5,-5], \n",
    "                                   resolution:float = 10) -> list[np.ndarray]:\n",
    "    '''\n",
    "    To extend the previous case, we can also model an infinite current carrying solenoid, parallel to the z axis. \n",
    "    This is also a case for which the analytical solution is known exactly and hence offers a nice playground to \n",
    "    test the GP methods. \n",
    "\n",
    "    Will be interesting for investigating the tail behaviour of the GPs fitted field. \n",
    "\n",
    "    Args:\n",
    "        I (float): Current which the wire is carrying.\n",
    "        CONSTANTS (dict): Dictionary of all of the physical constants which could be useful.\n",
    "\n",
    "        x_extent (list[int]): extent in the x direction of the final field. In SI Units, this will be meters.\n",
    "        y_extent (list[int]): extent in the y direction of the final field. In SI Units, this will be meters.\n",
    "        z_extent (list[int]): extent in the z direction of the final field. In SI Units, this will be meters.\n",
    "\n",
    "    Returns:\n",
    "        6 numpy nd arrays \n",
    "    '''\n",
    "    pass"
   ]
  },
  {
   "cell_type": "markdown",
   "metadata": {},
   "source": [
    "## Example fields from Kernels"
   ]
  },
  {
   "cell_type": "code",
   "execution_count": 8,
   "metadata": {},
   "outputs": [],
   "source": [
    "import numpy as np \n",
    "import sys\n",
    "sys.path.append('..')  \n",
    "from GP_Implementation.Kernel import sample_vector_field"
   ]
  },
  {
   "cell_type": "code",
   "execution_count": 9,
   "metadata": {},
   "outputs": [],
   "source": [
    "# Define grid\n",
    "grid_x, grid_y, grid_z = np.meshgrid(\n",
    "    np.linspace(-0.5, 0.5, 10),\n",
    "    np.linspace(-0.5, 0.5, 10),\n",
    "    np.linspace(-0.5, 0.5, 10)\n",
    ")"
   ]
  },
  {
   "cell_type": "code",
   "execution_count": 10,
   "metadata": {},
   "outputs": [
    {
     "data": {
      "application/vnd.plotly.v1+json": {
       "config": {
        "plotlyServerURL": "https://plot.ly"
       },
       "data": [
        {
         "anchor": "tail",
         "sizemode": "scaled",
         "sizeref": 2,
         "type": "cone",
         "u": {
          "bdata": "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",
          "dtype": "f8"
         },
         "v": {
          "bdata": "OJXf0QpN5L+8WpZUVE7ov+Bker2bP+q/2ADii8AR6r/u0YmcKdXnv+aveNZ0uOO/mAs1S8cI3L/kTkTdpFTMv6/+SbK00ZU//K12NEK/0T/LgHUYWb7uvzAKZ0bhqfC/C3u6zdPK8L+EG2AKkonvv1Juz2BSWOu/UkhJtFJK5b8T63mfJILbv3pWIMsUuMS/C9z9BSrCvz91q5JMm4LaP4kN89v34vS/vistUDV19b/16ZfUiL/0v+5WNC/Fz/K/6jhV5CSO778zCFWQxa3nvwY059ed8dy/jLsFzCTWwb9fa9syn1rHPyCipqnr5t8/G32BHUNv+r9ciIh5+kv6v5rDvXxsx/i/GnFYLs369b/wX15WCRTyv8iZxrAvo+q/B2KFA37y37+CtM8xFRDDv6k1PaaIp8k/LYpZgDQS4T8ppfC+tcL/vwuw/rGD8f6/Xa9MPC+r/L899qthJxT5v3i2Cf2qZvS/bZu8Zffa7b9lXcmOrvnhv5c2uGpHU8e/KG3BA9DWxz9yzDtacePgP+OYlGksUQLAh7YTJUSXAcCVnqy6sxsAwPec6iQM7Pu/V+E/xyWS9r8l6RLErX/wv85ttPexJeS/WZLQEipIzb9GVugK01DDPzZ/k8TCj98/xv/nigFvBMDRZgIJyWoDwONNWK+OoAHA8V8Alm1Z/r+HkAEDbG74v6q+G5QA4PG/KvH1gSsq5r9H+CVowMbRv5KYGw17KLs/th7z4UtQ3D+R2cv91CkGwPRf0kpC4wTA5Apdhc/UAsAUse5gHR8AwGUzK14T3fm/80cW4Jzu8r/wqzi3c8Lnv1yyhYmnetS/SJgo8QLBrz9xyjUutMLYPwinANOeeAfADsj1zVz4BcAN9dDfhLADwPQrCqw/xQDALldftDDN+r/A7CEBtZjzv1/T1GyUw+i/AVcygZxc1r+0ltqzwEqaP+3+lu8vadU/LTXObl1aCMBSd/rQsqkGwJr8bgeNMwTAxjjZk98eAcA0mibyTD37v/x1c5c12/O/hIiuvisj6b+beHYp6U3Xv6JGuPMvazu/08k67Dp40j8dXPpnM2Hjv0zWsKjc1OW/0ZBRihdI5r+x2PpGeLrkvwOXaLGySuG/NwHgn8Bn2L8neOxJmCDHv8LrvNq5cqk/jJlMXHgG0z+MC8lV0JnhPzRwLPU/D+6/v3LUeh0e77/nn4RpquLtvx/aX1CMcuq/2ZZfdzYG5b/J6OKBf+fbv/1HYi0MnMa/YGcbT7lFuz9J0YDIdIjZPweZcAB4/+U/wMwF52+m9L8/REc0j330v4BHGcv8DfO/tDqYpAxu8L9Wu+cPWY7pv3lPmpwwpOC/zlazFVWMyr81ZbXXIUK/P29gLgVx7tw/oG5iRnGV6D+QtD39CVH6v289grblfvm/HDBqPg1J97/5BVQ+adHzv5t1cpLknO6/0I4tQ2YM5L+1TP0Kqx7RvwIDKCfFy7k/q8/n/RZz3T919aev4HXpPzPyWh5yy/+/BOPjkw1b/r/c7yj2JW/7v/h6UrXUNPe/xo9i5fvu8b/YGyQJTODnvzPXAcO+Sta/HR4horv6qT/nPZJhf5zbP9tdQNo05ug/Cx7dGupuAsDp2nsngW4BwIt1PzlHTv+/hERafiRp+r+gIx5Z4nv0v4CKIi3OyOu/WEfKyEUd3L8HZ2hsQJWRv30fdnDpI9g/7bw37iFJ5z+t59/nMKwEwHEPYn5SawPAMKkzr+9cAcDskTCw40L9v/ec0NcRyva/l+RARa5u77/SfxfyyPDgv7SheFK8Ybe/3CbHrirV0z8GH6FnOgzlP8llGIA+iwbAeWm2BhYSBcB1LH1+UscCwDmgK9Sxnv+/dtNR4FK1+L99DiSKHkPxv8SYaDlOe+O/DB1th4ihxL/JZnyy49bOPxSrQ+pwlOI/llY6U3AACMCa/tCLXVcGwJ2+ztfT2gPAaqR/qniyAMAODFnqvST6v5zSgTjtbPK/i8JyQNhz5b9OJTDueQXMvz1TPpp548Y/uqu+6vYs4D+MnUHhOgcJwASAn1fLNgfAU2s2EQSTBMAE5gVREUYBwA+48vC6Dfu/3qHqWb4o87+l0bCMAb/mv32srMmdsNC/D+rUDUdZwD8WQaLbsvbbP+NHkankMuO/gkft4gPX479aFU9REoviv0YJBOpjw96/VvpDK4IX1b/9O95cVVDBv7P8FPiXO7c/kwjDqR9+1T/oJ9XGc8viPxFs+xvzr+o/d6fiIQsL7r/9ojJ0m1TtvxtPQPhVXuq//nHagjxS5b8Yqt7lV/jcv0v2+MsBDMm/zkDkln8Htz/Yb+qZyOLYP9OqYVZf9uU//4SEVDYJ7z9G+Ek+oLP0v4YEV688svO/vDQv/y9s8b+CaRkYrQTsv+LN1ZJyUOO/vKkrpyl90r9FLhP2GOepP0rSiib9ZNk/R2bDXdJ15z/91pshh7zwP3a4wv3dbvq/0pYIkbnS+L9PmjzxWtH1vyMeJ3NJl/G/CHyWxYDK6L8ZVAdxyyjavyLHtKLv9pa/TIRs+LRF1z9VfeOfL2XnPzxeR5pODPE/ond4N4EAAMBtGtD3qNj9v9/lGjpVL/q/6jfuaJg89b+6RQMtG5vuvyyNrrd6e+G/tV1Q217nvr/88VRzEwrTP7S/V4lWB+Y/EDIhf6OW8D9JkLvt15oCwJ7WIPK7SAHAftREq5hV/r+pam7nrcP4v9Ltc9QINPK/gRpjCSob5r/vpqPtuuDNv7L7zwEW0co/as4y54i74z9lgFpKqxvvP5s3Hb3T7gTAkjlQ2DxnA8BdkWwTBAsBwLxmxGqw/vu/Ownz8pPq9L8C713JTZXqv1GhjeQMUNa/IIchon+1vD88WQHdj+3gP4hFGiCzVew/0ctngu3oBsDAsPF4KzQFwE9sDiNqpALAgv0aYPzE/r8JfzJOPUf3v1Vnn6Nsku6/O6jMD+cg3b/1NQXGNa6RPy0TnvbdB9w/QSXVWxlH6T/auDUp+HoIwEEdcWEKoQbAzlUYgQroA8Bd1vo/tnsAwBvcCuZTKfm/iG+MMr3m8L/WA2A0eWjhvwxmTTYF1LC/7hxxb6ye1j9i3V8NrkPmP76jn//qnAnAlfZpWpGlB8DBk4tDP80EwFMw937cQQHAZNaxZml9+r/81Q+/og7yv9BfmSa5hOO/6jDAm+zPwL9PPZUrbPzRP9WoJPydeuM/3LnYqOOU47+m/rdmIDbivyp+y5WS8t2/ybs7BTgP1L/Tlrwr2Tm9v5KevKSmVr4/0Oe8MHrG1z9b/Rjv2zLkPyRgVljaUew/CKjz/eP08T+7O6h9yofuv4YNTUxk2+u/5StKNAb85r+7/00AfyvgvyACl575L8+/ZJdWOS+Jqj94RhHjwlfXP1ZN2LkOuOU/5URb2oZU7z/Swey5cBD0P3u+m5xd9/S/pWl1PKMG878uDJ7yjanvvwe9zHKvHee/DK9350rP2b8QJnIPytypv0nO4HsJPtQ/Q9Q8O+Sy5T/44FThpkrwP0SZ/TN7LvU/3pRhr063+r87uvt74zv4v71vTWR0W/S/rlRXnHWd7r9XViv56MPiv6j9oiE/b8e/n/nmRmeDzT9r77PRUkHkP+OmKp8uF/A/OcISGXFb9T9q0ogrsykAwHfO5fBUX/2/iAUl38Dm+L//b7OqJi3zvxi+lH/+Fem/gW8i85eW1b8r+owbL6S9PwjxTNRzpeE/LzRRurBi7j/Fu6vpGrr0Pw3EneNpzQLAjjwTxXEgAcAmvLQJokf9vwxDktYV/Pa/jY5XJUuD77/p2TX77hHgv/ESPPLDUJG/4LtROGd63D+/Km2H65PrP3oYGDuOffM/d5JkVX0vBcAdoZhns1gDwHmTHJI+pwDAQIO9pVuL+r88k+LB1NTyvw5Oqa72SuW/LbZ+blfQw7+kP0kFA+rUP9CtAZQMM+g/fXThmH7g8T/6Q1FKNzsHwA2NcpcGQwXAEm6U7ItnAsBAnAc5N639v2gdEnsWlfW/fGZTqrAT6r+g8RuZ10LSv/In5XpZ3so/VAg01Weu5D/7tLmzgxvwP7S/Ccnq3wjAiRWFJu7NBsD/v36tZNIDwOUo3KuhHQDAUixP4kja979ZMzczhxjuv0P6GIvwd9m/BidEZdzuuj/6XdPtZGDhP0YpUUMauOw/Rs7X+SYSCsA3z1FfVu0HwJWO+c4M2wTAnlGv42ENAcCvg4e/mYj5vwGBJbYbkPC/iy0xolIT37+fNq7MPjmUPxasa47iA90/qKuuGyl76T8s9rvgc0nkv9UOeSE3xOC/7OrVOFrq1r8+cSXya3vCv/rbN73kCLs/KEmzfJEz2D/qh8iCPxHlPwjLJo980O0/MmQwe5z38j/gWGRv+I72P/kL9zcLSu+/Uru8IiqG6r+Ryee0c5/jv9A/887449W/GHhL/YIMn7+A+B0Vyn3TPzVdI4e0nuQ/M5ZqKlIZ7z9ll/6v9Fr0P6jh2POfjfg/B3b3eWtV9b9Qp+GqhGXyvyPbc+IndOy/jha5aBcb4r8sewqzO1rJv7Y+rAcWucg/jGBSkLHD4j9AsK3a98XuPyY1CKI21vQ/4RbnmHiK+T9QhY4bww/7v/MeSVz+pfe/xDZdHOXZ8r8MJWMg+OLpv3Vv06JiFdm/JfYBvnXsqD+8NG7KOUHfP5ktQHs78uw/tjqZFgx29D/KYzw9+JH5P0WajkXRVADAkzWUoGDb/L8GN38w54f3v0RnvAOm//C/PMh8C2dO479pTvsmvuG+v5oxH4BJ7tY/6f3Yca7f6T/Vjl0u71vzP9kaDL7mxvg/dntRvtz6AsBA57w6CewAwKuQFqeTFvy/AtXjh6QK9b81AtQsz0bqvz2qftwTbtO/dqIPt/6Syj8DqMDyde7lPxG9eWOdufE/9Gm7AMRc9z8uXD2lAGMFwGT1nKw5NgPAcUbJH3IqAMCW2ydXHOD4v1DpBIArhvC/PXcaEc4t37+Of6dT3XqpP+I+5ilmkOE/6BBdp1WT7z92ze5tdY/1Pwl/ow9VdwfAWtzHPyQ1BcDCCRhuMQkCwJ2D6cdzTfy/x0UbXN+a879ZobokxQ7lv/eZQVwZ/bm/351/ZURx2j+jGwSjB43rP9Mm9kKbmfM/kPgxhrQkCcB4/ZOBYdQGwIpwo5DwkQPAxZnLhFwl/7+i3YDOYTL2v9+jwgSOvem/Xxplz075zb97tQlSO5XSP1LOL2vwwuc//xGbrl2r8T+05U0JXlwKwMQAF4AxBAjAgh3Szwu0BMCdennzjaIAwJQiImMBKfi/hkwZ/ylb7b+GdAqR37nVvyd9q6O+Lsg/w9cmQe925D8Ww6CWpsbvP9r/TwbmBeW/5d588Q6P3r+r/sF6alnPv8GzIh+YBJ4/I3iGjNkq1T+p5W7lppPkPx1OpmHDYe4/9h3SkFbA8z+j1mt99MP3P0ajIJS7F/s/mGCFWT4E8L/Ntdqu2Bvpv90XL1dMIOC/3Va76UM3xr+gx5Lkvh3IP2YeFk/L++E/gu/7E+iq7T/J0HmNpj/0P74LIzUyAPk/78vJd3Xu/D+ulF3VTar1v5TobsjhsvG/JguI4P0P6b+juXU5lsjZv8oGOfp9OIs/YkGW+0hG3D9kU/uC1H/rP/qA7rvh6/M/6FGi9mxR+T/bXHS0kcP9P/BF8bxHVvu/uFfz4sb19r+KFhyKpDjxv0e7VEGe5eS//SUok6hMyL/MWILPy1XSP/tdQsoS/ec/LXfYRM7R8j+m6+I80sP4P2PBIrR4o/0/rMXRD8RxAMCtJrsuZDL8v/Nqs3fb/vW/xk85qcNN7b+JLvPs2G3av7qVaoIxmro/6eEcBWdi4z/3SeuHrRHxPwz3xKSLePc/EZR4iJmw/D+NR0CWDRQDwMDQIhDKngDA4zSeB7Cu+r+NR8FPxOHyv7NQJe3No+S/3X9+cqo6uL8lKDeRCh3cP4V1BpBwuO0/6kmZZ76h9T8+fn+DXR77P1/U3fs3ewXApNmu1p7zAsDbExDz1RX/vxHnD7ot7/a/LACPVn3t67+EhqPoFOrSv3OJ+O9F6dA/TYnae+vY6D9vYnnpd3vzP1Q2NaEyKfk/Ya5uOiCQB8BMG2p76v4EwBG7MpzpfwHAG61e9AiY+r+Fg65NrVDxv51Ey2gt/96/5cquTNxsuD9wCW9/+f7jP56E0rawQvE/TTQeXxIN9z9+CdHKLT0JwAdI9ntxqQbAeTcPbKIdA8DZmSlriqj9vyQ1NnsZKvS/FZRRaZy55L/VcoXco4qrv1BtooqBLt8/oaXgyEtY7j+EfBKPMfz0Pxt0wsVlcArAfRaas+nfB8AfQ+DOtk8EwPhf29do9v+/C9Z/MPRX9r/vKEgzSs3ov9MVyrJZKsa/4/MRMWPi1z/IlsiPPLnqP+rD9JijF/M/taNhfyR45b86NFxc/v/av+KqGRdnd7+/acC7o5AHyz+wVdLKjwLiP1wkdysWOO0/xmDe0xfl8z/azuHv8Jj4P0ca3Xllg/w/iZuETnSE/z9TB1uJ2zjwvw2fH+dCXOe/VAyKQQCg2L/z/IlLbc5uP2SWbU1zhNo/ulw7YVxh6j88yPrndmTzP3AprtwH7vg/pKCFTHiR/T8F/CIcPJUAQNB+E1pCzvW/hUaeWgTP8L/Jdxn4LE7lv6naYcNZac2/a/yGoj7NzT+e1/Uqc0XmP4j0FwJ2J/I/mjXujuFu+D+CTr0ll7X9P9kF3WWP6QBA0nRJIZRk+78RIbF9Qgz2v7YWX8yywO6/XaJDzicL378rkW5L0J+WP6FZosts/+A/+NurtCo68D+Bic8D1Cb3P7xeLzga+/w/JO/luTTFAEC/otSCX24AwF8SoRl+Rvu/Co9taaY09L9aPvRviCXovwLwJeqI8Mq/qWoV6FKX1T+6l99BHnbrP+i97Z0bNfU//YUte1CC+z8AJvDf7jgAQA/x48H6BwPABrYYvX0qAMC03u3+vfn4v07QiqWScfC/FsQtPhsN3b9zNZwz3hjAP8Ei7UQOs+U/c2KRenDK8j9Dr9gLIH35P4Qm+EwkvP4/J1mNj3loBcCUcNABm4MCwLOjoxpJfP2/AkJrcGSp9L/0B7/aRzrmv92rNKoD6ba/TenU/OFD3z9jnkmjQSPwP+VAGUBQKPc/KGQxX4el/D+8BMNQdXcHwPCYhWU3lATANpefJAnCAMBDw810Fn/4v8Aat1JlXO2/bOuZN2LA0r+EhVkJY4XTP7HCtLPx/uo/ZlmJzb7C9D8B7go3smr6P7c2dSTmHAnAVFstc1pCBsDWqQWu7GwCwM+xD4nXuPu/w0/1a++68b/S2cJmGxXevyb+Y2nbM8I/Tui4BcAy5j8MeSL+AITyPyrTXOBqP/g/6lhw0qZDCsAyaT7NUHcHwP7d8uXhpgPAX6ggmjgl/r8pLO2FZhH0v8Cyf6mkeeO/pwgdpm7ihz+yPHonmzriP4086rhOlPA/STxeMfBG9j9/rs2LMU7lv15ugsG+XNa/B0QGYQBgiz9S9vcxA+LZPz6ea7Zds+k/QErtKXMC8z+u3KGcSJ/4P1/2oj3yaP0/dx0fiL6VAECEpCpajOUBQHDOyHH6GfC/rrrL0sQH5b+41ZbQFgLQv8hBCj84wcg/TTzp2l/F5D/OPI0NZ3jxP5eDop2H+Pc/QHJsIUKR/T+oKSKxqAMBQGU0gA54nQJAasc5Aj6Z9b+hGAcX3jTvv5ImDPbuAOG/5ujaa2f6pb/3wdPdS5jdP3MfB2k3me4/+khdrm+W9j/ysQ6TlOf8PxdkiZ7S/gBAm58jt3zaAkDegIvxGRT7v/xgSPrOyvS/cIHwxdp06r/TEsfTt0nTv+ttqejxec8/R4WlNGkS6T+2bMkGbYL0P1Rx/6xEdfs/9YaETzSMAEDzUGSPF6ICQL78erNnOADAXHsriG/6+b+F+KTTehPyv3BuNvQpaeK/m9BQuKl1eT/xm+Qh0pPiP5JeOtT32PE/CWHghdlX+T9aRXLGU3b/P9eO6TA6BAJA8Udovb/FAsDxqYGnAgP/vxLHUI1M4/a/DMCXCW1Y679RJR8EonzPv6+wK22/79Y/fk331nuR7T+L0MwSRL/2P6bB9yRBSP0/t8V5cHcZAUBlaqIGhRsFwF2x9PnU2QHAXBEUL8h1+78UUYIMcALyv+IDq9Ghyt+/HbJxgSXTwD8+kJODWRznP7O9kTyS6PM/aFRPUfvK+j8HuW6AFv//P5lfN34EIAfA39esb03qA8DkKQd0Wo//v5TdOjaX+PW/pOtHZp5d57/rc19ykoW1v7G5JkAT2OA/m/q149MV8T/hZ2Vvoz74P1Kv2CnSqf0/DXusu8u4CMClWcSJUZYFwATCwfefeQHA6QcoJ0pP+b97x8x4R8btvzT+jz90bNG/hRcRsfKJ1j9vm3FHmgntP7tBNqtE3fU/GoGMlSpo+z9MSHrYnc0JwBzY8szjwwbA8mvLTmy1AsB1MbhmXs77vzOy1R06V/G/mYZOI5Da2r9sAW+ZZjHLP++ITRZdzOg/W8LhYmDS8z9SWb7Pgl/5P3UbxLDtPuS/gPcOTjw50L9kLfZaK4jFPwdZi+3hjuM/giiTtdjU8D9FY4jirHf3P29J6UWCVf0/G8VnqNsRAUApTvngZtcCQMREllKm7wNA6ZXZQQ4G77+IbVF0vefhv9COU517ebi/H9uxFNNz2T/eCAOlcZXsP801UpOK0fU/ib0ceiCK/D9hMod12A8BQJya8avrKwNAPUyimb+LBEDAwgFNdOf0v/xr5Glu9Ou/MMdojxYI2L8fI5ikV3/EP8sYtgOzfeY/s3SCPw2N8z843ZltIwf7PzguqjRPpwBA06bm6DIRA0C5+B9537EEQElxZHOSQvq/4T4EnpIX878LlbzXwmrlv/ZeQu8Cfrm/62gRxjzg3j9BY1tYc7DwP7XWPFi20vg/bNngPTG3/z+5Nr4IGosCQA/4aFSYZgRAatisea5//7+0H5fUGjb4vzj6Fm0wFu+/Azj4xRgN2L9dWMv+D3HOP49tre6xqOo/goh6iI4G9j/9elyaZXT9P2hTaT3IpwFAEzpJgJ+4A0DxQqeBzj4CwHYHtSnxMf2/LeO61QJd9L8pzymuQBTlv8RDDGy+O5W/w8l+h9RI4z8l1UB/2M/yP0fhYCWXtPo/oPd5Kr1+AECbcNOsZb8CQF3IIeKghwTAKePcxADtAMCjmI8SpPb4v7s/nykD6u2/fQEGoHfd0b+ntKSM8XDXP826vBd81u4/d45gGKi09z88RGGhCVz+P4zfRDT1lwFATH5PqUp/BsBiROtj1PkCwOhaJt5mGf2/KFZBB0QC87+a59Ynp6rgv3g1GF4NBsI/XTCMG1Q76D+tUq1ZNbj0P1r9q8cnrPs/VIF9+rBgAEBaT7ha+AgIwCb5wlFWoATAgWoR67VBAMAfQIaVdG32vwvGz8wrUue/LjiF/qsMrb+9l0A0QlbiP9Xz/1IkAPI/ZQa6yRwq+T8xa2X7fGn+PyDRbkRlCQnAC5bFbVzDBcDGJ+zMynsBwGdMulr79/i/qeGGThpo7L/fS8kmDRLLv0VZJk5/Nds/KbHBUd6C7z/OuONT0AT3PwWj/HEAUPw//SIRSRkT4r8jMqkwMpjAv5rD/1ILAtY/R6cOANuc6j/Y1Bx8Fuz0Pxq3iw4z7/s//Qmc5pv7AEDXJFwoTVsDQACxGCZO/QRA8zemVBXYBUAVNCumdrDsvzTW323Ardu/eJh6TSTItD/FIYEVwr7jPwjhrHjfU/I/SpSYSXkx+j+ocj0Jm4UAQNAwjuLqRANA0b52GQo6BUAOIvKQw1kGQJzaPYjPnfO/9VG9R2G4578jRZbXxxHJv12gYzAoT9g/DCR4anh+7j8SaTPqj9r3P9/V4283bf8/4RZGsWDLAkCGSS8wzQsFQNWAOzX4agZAoaoYLWbW+L+Wxa5JneHwv7MAWbViIt+/um3XvL3gvj+0IHvNKmDnP0CSz/5F7PQ/aiWPgHgf/T8xufrnTPABQC2a3M7udARARdYqXuUOBkCI1WR+A/L9vxsccEmC6vW/G28mkA0p6b+L4gNUpffDvyb+7AjB6N4/+v0ZrHp78T8LTLJrLTj6P+BzF5OAvwBA7GCg6/KBA0B0IafPmVIFQG2Jxy79aAHAxOKQ0XzV+r++pcQnSmLxv8bjvqezNdy/a3RBNOwpzD+eKynxLWPrP3DllOQz4vY/vSB8Ueqd/j+SUE74CEkCQH9cLJ8OTARA16SeDIqkA8DR2n4wZnH/v1s5bzVX/fW/zfmkw+gL579TpbboUqKmvyHpTXPUk+M/uY14W7hZ8z/dS5FLY3n7P89E7OWZ5wBAibtTm2QXA0AYbh2sVo8FwC/nOGF8wAHASEwcB4sk+r8fJQ1F3kjvv5ILMlqxutK/L+fdzH8t2D+VEfRga8rvP4rfXX8WVvg/iK2c8Kb8/j8mQrGT3tIBQC9c8Go6CgfAJxdBzp9gA8C3sfttRpH9vzs4ZTbOH/O/JkMCdek64L9WZLPku/zFP0GUl3BsmOk/xzvYMNZ39T9Y/yUQ8Fj8P+O1itFamgBAdfpcEfv2B8CHNwUE33gEwFdgYAwbAADA3uMiJFWz9b/cgDuT1XnlvzIo4ow3i4Q/FuDNgwWb5D+kciD0DBjzP1oRUqSqFvo/nrb17GAG/z8=",
          "dtype": "f8"
         },
         "w": {
          "bdata": "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",
          "dtype": "f8"
         },
         "x": {
          "bdata": "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",
          "dtype": "f8"
         },
         "y": {
          "bdata": "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",
          "dtype": "f8"
         },
         "z": {
          "bdata": "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",
          "dtype": "f8"
         }
        }
       ],
       "layout": {
        "scene": {
         "xaxis": {
          "title": {
           "text": "X"
          }
         },
         "yaxis": {
          "title": {
           "text": "Y"
          }
         },
         "zaxis": {
          "title": {
           "text": "Z"
          }
         }
        },
        "template": {
         "data": {
          "bar": [
           {
            "error_x": {
             "color": "#2a3f5f"
            },
            "error_y": {
             "color": "#2a3f5f"
            },
            "marker": {
             "line": {
              "color": "#E5ECF6",
              "width": 0.5
             },
             "pattern": {
              "fillmode": "overlay",
              "size": 10,
              "solidity": 0.2
             }
            },
            "type": "bar"
           }
          ],
          "barpolar": [
           {
            "marker": {
             "line": {
              "color": "#E5ECF6",
              "width": 0.5
             },
             "pattern": {
              "fillmode": "overlay",
              "size": 10,
              "solidity": 0.2
             }
            },
            "type": "barpolar"
           }
          ],
          "carpet": [
           {
            "aaxis": {
             "endlinecolor": "#2a3f5f",
             "gridcolor": "white",
             "linecolor": "white",
             "minorgridcolor": "white",
             "startlinecolor": "#2a3f5f"
            },
            "baxis": {
             "endlinecolor": "#2a3f5f",
             "gridcolor": "white",
             "linecolor": "white",
             "minorgridcolor": "white",
             "startlinecolor": "#2a3f5f"
            },
            "type": "carpet"
           }
          ],
          "choropleth": [
           {
            "colorbar": {
             "outlinewidth": 0,
             "ticks": ""
            },
            "type": "choropleth"
           }
          ],
          "contour": [
           {
            "colorbar": {
             "outlinewidth": 0,
             "ticks": ""
            },
            "colorscale": [
             [
              0,
              "#0d0887"
             ],
             [
              0.1111111111111111,
              "#46039f"
             ],
             [
              0.2222222222222222,
              "#7201a8"
             ],
             [
              0.3333333333333333,
              "#9c179e"
             ],
             [
              0.4444444444444444,
              "#bd3786"
             ],
             [
              0.5555555555555556,
              "#d8576b"
             ],
             [
              0.6666666666666666,
              "#ed7953"
             ],
             [
              0.7777777777777778,
              "#fb9f3a"
             ],
             [
              0.8888888888888888,
              "#fdca26"
             ],
             [
              1,
              "#f0f921"
             ]
            ],
            "type": "contour"
           }
          ],
          "contourcarpet": [
           {
            "colorbar": {
             "outlinewidth": 0,
             "ticks": ""
            },
            "type": "contourcarpet"
           }
          ],
          "heatmap": [
           {
            "colorbar": {
             "outlinewidth": 0,
             "ticks": ""
            },
            "colorscale": [
             [
              0,
              "#0d0887"
             ],
             [
              0.1111111111111111,
              "#46039f"
             ],
             [
              0.2222222222222222,
              "#7201a8"
             ],
             [
              0.3333333333333333,
              "#9c179e"
             ],
             [
              0.4444444444444444,
              "#bd3786"
             ],
             [
              0.5555555555555556,
              "#d8576b"
             ],
             [
              0.6666666666666666,
              "#ed7953"
             ],
             [
              0.7777777777777778,
              "#fb9f3a"
             ],
             [
              0.8888888888888888,
              "#fdca26"
             ],
             [
              1,
              "#f0f921"
             ]
            ],
            "type": "heatmap"
           }
          ],
          "histogram": [
           {
            "marker": {
             "pattern": {
              "fillmode": "overlay",
              "size": 10,
              "solidity": 0.2
             }
            },
            "type": "histogram"
           }
          ],
          "histogram2d": [
           {
            "colorbar": {
             "outlinewidth": 0,
             "ticks": ""
            },
            "colorscale": [
             [
              0,
              "#0d0887"
             ],
             [
              0.1111111111111111,
              "#46039f"
             ],
             [
              0.2222222222222222,
              "#7201a8"
             ],
             [
              0.3333333333333333,
              "#9c179e"
             ],
             [
              0.4444444444444444,
              "#bd3786"
             ],
             [
              0.5555555555555556,
              "#d8576b"
             ],
             [
              0.6666666666666666,
              "#ed7953"
             ],
             [
              0.7777777777777778,
              "#fb9f3a"
             ],
             [
              0.8888888888888888,
              "#fdca26"
             ],
             [
              1,
              "#f0f921"
             ]
            ],
            "type": "histogram2d"
           }
          ],
          "histogram2dcontour": [
           {
            "colorbar": {
             "outlinewidth": 0,
             "ticks": ""
            },
            "colorscale": [
             [
              0,
              "#0d0887"
             ],
             [
              0.1111111111111111,
              "#46039f"
             ],
             [
              0.2222222222222222,
              "#7201a8"
             ],
             [
              0.3333333333333333,
              "#9c179e"
             ],
             [
              0.4444444444444444,
              "#bd3786"
             ],
             [
              0.5555555555555556,
              "#d8576b"
             ],
             [
              0.6666666666666666,
              "#ed7953"
             ],
             [
              0.7777777777777778,
              "#fb9f3a"
             ],
             [
              0.8888888888888888,
              "#fdca26"
             ],
             [
              1,
              "#f0f921"
             ]
            ],
            "type": "histogram2dcontour"
           }
          ],
          "mesh3d": [
           {
            "colorbar": {
             "outlinewidth": 0,
             "ticks": ""
            },
            "type": "mesh3d"
           }
          ],
          "parcoords": [
           {
            "line": {
             "colorbar": {
              "outlinewidth": 0,
              "ticks": ""
             }
            },
            "type": "parcoords"
           }
          ],
          "pie": [
           {
            "automargin": true,
            "type": "pie"
           }
          ],
          "scatter": [
           {
            "fillpattern": {
             "fillmode": "overlay",
             "size": 10,
             "solidity": 0.2
            },
            "type": "scatter"
           }
          ],
          "scatter3d": [
           {
            "line": {
             "colorbar": {
              "outlinewidth": 0,
              "ticks": ""
             }
            },
            "marker": {
             "colorbar": {
              "outlinewidth": 0,
              "ticks": ""
             }
            },
            "type": "scatter3d"
           }
          ],
          "scattercarpet": [
           {
            "marker": {
             "colorbar": {
              "outlinewidth": 0,
              "ticks": ""
             }
            },
            "type": "scattercarpet"
           }
          ],
          "scattergeo": [
           {
            "marker": {
             "colorbar": {
              "outlinewidth": 0,
              "ticks": ""
             }
            },
            "type": "scattergeo"
           }
          ],
          "scattergl": [
           {
            "marker": {
             "colorbar": {
              "outlinewidth": 0,
              "ticks": ""
             }
            },
            "type": "scattergl"
           }
          ],
          "scattermap": [
           {
            "marker": {
             "colorbar": {
              "outlinewidth": 0,
              "ticks": ""
             }
            },
            "type": "scattermap"
           }
          ],
          "scattermapbox": [
           {
            "marker": {
             "colorbar": {
              "outlinewidth": 0,
              "ticks": ""
             }
            },
            "type": "scattermapbox"
           }
          ],
          "scatterpolar": [
           {
            "marker": {
             "colorbar": {
              "outlinewidth": 0,
              "ticks": ""
             }
            },
            "type": "scatterpolar"
           }
          ],
          "scatterpolargl": [
           {
            "marker": {
             "colorbar": {
              "outlinewidth": 0,
              "ticks": ""
             }
            },
            "type": "scatterpolargl"
           }
          ],
          "scatterternary": [
           {
            "marker": {
             "colorbar": {
              "outlinewidth": 0,
              "ticks": ""
             }
            },
            "type": "scatterternary"
           }
          ],
          "surface": [
           {
            "colorbar": {
             "outlinewidth": 0,
             "ticks": ""
            },
            "colorscale": [
             [
              0,
              "#0d0887"
             ],
             [
              0.1111111111111111,
              "#46039f"
             ],
             [
              0.2222222222222222,
              "#7201a8"
             ],
             [
              0.3333333333333333,
              "#9c179e"
             ],
             [
              0.4444444444444444,
              "#bd3786"
             ],
             [
              0.5555555555555556,
              "#d8576b"
             ],
             [
              0.6666666666666666,
              "#ed7953"
             ],
             [
              0.7777777777777778,
              "#fb9f3a"
             ],
             [
              0.8888888888888888,
              "#fdca26"
             ],
             [
              1,
              "#f0f921"
             ]
            ],
            "type": "surface"
           }
          ],
          "table": [
           {
            "cells": {
             "fill": {
              "color": "#EBF0F8"
             },
             "line": {
              "color": "white"
             }
            },
            "header": {
             "fill": {
              "color": "#C8D4E3"
             },
             "line": {
              "color": "white"
             }
            },
            "type": "table"
           }
          ]
         },
         "layout": {
          "annotationdefaults": {
           "arrowcolor": "#2a3f5f",
           "arrowhead": 0,
           "arrowwidth": 1
          },
          "autotypenumbers": "strict",
          "coloraxis": {
           "colorbar": {
            "outlinewidth": 0,
            "ticks": ""
           }
          },
          "colorscale": {
           "diverging": [
            [
             0,
             "#8e0152"
            ],
            [
             0.1,
             "#c51b7d"
            ],
            [
             0.2,
             "#de77ae"
            ],
            [
             0.3,
             "#f1b6da"
            ],
            [
             0.4,
             "#fde0ef"
            ],
            [
             0.5,
             "#f7f7f7"
            ],
            [
             0.6,
             "#e6f5d0"
            ],
            [
             0.7,
             "#b8e186"
            ],
            [
             0.8,
             "#7fbc41"
            ],
            [
             0.9,
             "#4d9221"
            ],
            [
             1,
             "#276419"
            ]
           ],
           "sequential": [
            [
             0,
             "#0d0887"
            ],
            [
             0.1111111111111111,
             "#46039f"
            ],
            [
             0.2222222222222222,
             "#7201a8"
            ],
            [
             0.3333333333333333,
             "#9c179e"
            ],
            [
             0.4444444444444444,
             "#bd3786"
            ],
            [
             0.5555555555555556,
             "#d8576b"
            ],
            [
             0.6666666666666666,
             "#ed7953"
            ],
            [
             0.7777777777777778,
             "#fb9f3a"
            ],
            [
             0.8888888888888888,
             "#fdca26"
            ],
            [
             1,
             "#f0f921"
            ]
           ],
           "sequentialminus": [
            [
             0,
             "#0d0887"
            ],
            [
             0.1111111111111111,
             "#46039f"
            ],
            [
             0.2222222222222222,
             "#7201a8"
            ],
            [
             0.3333333333333333,
             "#9c179e"
            ],
            [
             0.4444444444444444,
             "#bd3786"
            ],
            [
             0.5555555555555556,
             "#d8576b"
            ],
            [
             0.6666666666666666,
             "#ed7953"
            ],
            [
             0.7777777777777778,
             "#fb9f3a"
            ],
            [
             0.8888888888888888,
             "#fdca26"
            ],
            [
             1,
             "#f0f921"
            ]
           ]
          },
          "colorway": [
           "#636efa",
           "#EF553B",
           "#00cc96",
           "#ab63fa",
           "#FFA15A",
           "#19d3f3",
           "#FF6692",
           "#B6E880",
           "#FF97FF",
           "#FECB52"
          ],
          "font": {
           "color": "#2a3f5f"
          },
          "geo": {
           "bgcolor": "white",
           "lakecolor": "white",
           "landcolor": "#E5ECF6",
           "showlakes": true,
           "showland": true,
           "subunitcolor": "white"
          },
          "hoverlabel": {
           "align": "left"
          },
          "hovermode": "closest",
          "mapbox": {
           "style": "light"
          },
          "paper_bgcolor": "white",
          "plot_bgcolor": "#E5ECF6",
          "polar": {
           "angularaxis": {
            "gridcolor": "white",
            "linecolor": "white",
            "ticks": ""
           },
           "bgcolor": "#E5ECF6",
           "radialaxis": {
            "gridcolor": "white",
            "linecolor": "white",
            "ticks": ""
           }
          },
          "scene": {
           "xaxis": {
            "backgroundcolor": "#E5ECF6",
            "gridcolor": "white",
            "gridwidth": 2,
            "linecolor": "white",
            "showbackground": true,
            "ticks": "",
            "zerolinecolor": "white"
           },
           "yaxis": {
            "backgroundcolor": "#E5ECF6",
            "gridcolor": "white",
            "gridwidth": 2,
            "linecolor": "white",
            "showbackground": true,
            "ticks": "",
            "zerolinecolor": "white"
           },
           "zaxis": {
            "backgroundcolor": "#E5ECF6",
            "gridcolor": "white",
            "gridwidth": 2,
            "linecolor": "white",
            "showbackground": true,
            "ticks": "",
            "zerolinecolor": "white"
           }
          },
          "shapedefaults": {
           "line": {
            "color": "#2a3f5f"
           }
          },
          "ternary": {
           "aaxis": {
            "gridcolor": "white",
            "linecolor": "white",
            "ticks": ""
           },
           "baxis": {
            "gridcolor": "white",
            "linecolor": "white",
            "ticks": ""
           },
           "bgcolor": "#E5ECF6",
           "caxis": {
            "gridcolor": "white",
            "linecolor": "white",
            "ticks": ""
           }
          },
          "title": {
           "x": 0.05
          },
          "xaxis": {
           "automargin": true,
           "gridcolor": "white",
           "linecolor": "white",
           "ticks": "",
           "title": {
            "standoff": 15
           },
           "zerolinecolor": "white",
           "zerolinewidth": 2
          },
          "yaxis": {
           "automargin": true,
           "gridcolor": "white",
           "linecolor": "white",
           "ticks": "",
           "title": {
            "standoff": 15
           },
           "zerolinecolor": "white",
           "zerolinewidth": 2
          }
         }
        },
        "title": {
         "text": "Sample from a divergence free prior"
        }
       }
      }
     },
     "metadata": {},
     "output_type": "display_data"
    }
   ],
   "source": [
    "grid_x, grid_y, grid_z, U, V, W = sample_vector_field(grid_x=grid_x, grid_y=grid_y, grid_z=grid_z,\n",
    "                                                      kernel_func = 'divergence_free_kernel')\n",
    "plotter.plotter(grid_x, grid_y, grid_z, U, V, W, title = 'Sample from a divergence free prior')"
   ]
  },
  {
   "cell_type": "code",
   "execution_count": 11,
   "metadata": {},
   "outputs": [
    {
     "data": {
      "application/vnd.plotly.v1+json": {
       "config": {
        "plotlyServerURL": "https://plot.ly"
       },
       "data": [
        {
         "anchor": "tail",
         "sizemode": "scaled",
         "sizeref": 2,
         "type": "cone",
         "u": {
          "bdata": "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",
          "dtype": "f8"
         },
         "v": {
          "bdata": "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",
          "dtype": "f8"
         },
         "w": {
          "bdata": "jZec/wUR/z/Wo/XzjYP+P/f6BREuB/0/rdyfuxqX+j/l6Gfo5Dz3P3QA+BQ4FPM/Q29TPuWZ7D/sqszfk1TiPxMv7qzS8c8/7HDULX3Rq79toE9xGab+P+dOhf4jmf4/w1B0+IeN/T/Fdr06IHn7P1+XddzkYfg/UcdlE79h9D9US0E32FDvP3CepVua9OQ/toWj7eyt1D9YtRHGjl53P5u6s0s4u/0/p/YRGiU7/j9vkYPwzbH9P34AL0MND/w/hL1ehRVU+T+nZV5DWZf1PyGiecRvBvE/xDf2n5nJ5z/94xh06RraP4on8Gt9jrQ/yqEdpGVl/D9B3sStiHn9P9TWtBExf/0/GuyLT9Ff/D95D6r7xxb6PygN+ViCtfY/vwaK/39l8j+npt4Vdc7qP7pZYr2bGuA/u7ZybhKixT/LqexF/MD6P0H2UVnGavw/3qwkRSQG/T++j8f3+HX8PyKCtjYVr/o/M2xWKo689z+hwaXDIMLzP3VyKO/09u0/VT7Fsqhv4z9lJlA830jRPxa8DheR7vg/K+95+Fwp+z9sD91Tilr8P7GEUNSiXvw/j4PlBnsj+z+H0pXV7az4Pxuqju2pF/U/TY8+vxmZ8D/U9ym+TPfmP3lG+SS0Xtg/mOvjEzAP9z8m7kZZqtD5P7xorNhUkfs/nOgxFdsn/D/UGTqqGXv7P8M/8y81h/k/nxrn0P9g9j+u3dGQlTbyP1fl9Yn9mOo/wIWZk6Xd3z+0+Vc4jUD1P9vsAGWuefg/DmAQ5O+9+j8hS5sf3t77P2ZM53q9vPs/16P6FPlL+j9sYNToK5n3P0Xk7m6QyvM/SctQWR887j80XCgmzcfjP3IixgK3mfM/3T6CaiI49z9TDryL5e/5P69SKwpgjvs/dp+7Q+Tt+z/91cMZhvv6P3UiCGHAu/g/rqvqkLtM9T/dDBDZXOXwPxqOpnazoec/8qVfOc8o8j+NRirWaxj2P6sQvS8rMfk/qDxjAEE9+z9MGsft7hH8P2STDVWYlfs/EiwbsAPF+T+c4Uq1cLb2PyaeHnuamfI/sKBWZYxo6z+ALBmwQa79P5TSdrgCJf0/RctiECWp+z+lA8ZuuDn5P0PwSNTX5PU/0QitGZvK8T8IAi9l/DzqP3ijirsnTOA/rOW6uleiyT+SLA8vAOq1v8tdmvnoHf0/iqpCNqYl/T8XD18bJCz8P1v/1KwFKvo/L6LmLcAo9z/gl7YJqkXzPyhmGVGpZu0/it7Ksetv4z/ecZc3cKHSP8CL1chhOoC/doJ7VdcY/D9dQCr2gL38P7o8fn04V/w/8cVU/4LX+j96+AA/6kH4P6h+4I9Pr/Q/Whcj8VNP8D+feM6his3mP6fRX7PtKdk/KzsLTZJutT95Q0l2p7b6PyY9SwYt/vs/KybfOCU2/D+EyxzAjUj7Px04GkcHMvk/s2YXDXUF9j93hQv0re3xP6OzeTI+WOo/MkmBncwn4D8yZvUIhgzIP96YhZtWFfk/W6lcDuj++j/VTB1YJtn7PzRWNzZ/hvs/JzUYxQb8+T8giQ0peUX3P2g1F9ZVh/M/zsjHY/j77T/Fb7xMbPLjP1ErwXy1UdM/DKgoVgZW9z9ipaSRANr5Pyo7u6oeU/s/5K8Oepyc+z/eOPFD0aP6P6svILmcbPg/d3c1pQ8U9T+yAtmrLdDwPxIrPk4+2Oc/UBQIxzAE2z8Z7Lh9M5n1P5KolhW3qfg/37ErWUK3+j/EUdoUoZb7P3GgMEOxLfs/85DFFEV4+T9M9JKvaIv2P9DVzl3nlfI/aaCpn6a66z92+DGgPm/hP9xVtJPr+vM/pKA8BweF9z8gauEznRb6P0UfdTEYf/s/oR+uroyd+z/8tdBXCmb6P6BYdISC5fc/EbAZKyZD9D9Vu6rOoHzvP1WeAhABUuU/znX/n5yP8j8F1YR06nz2PzirYI/lffk/tZe82dxd+z8hz0q+Hvb7P1LpwCiqM/s/1iYEG7Ub+T9moOmf1c31PzaCcxbjgvE/YIdRMKUQ6T+cuO6o/GHxP36iLNJ5mvU/G70Jevnz+D/1tS9hBTf7P5QKOzdfOPw/wDHD4vHe+z/t039C5Sj6P4dWIZOKLvc/sGYLgSIi8z/9vLkkT5jsPxt3pUYT7fs/xOUZc29g+z8UWehHGd35P4zRrETQZfc//AJoV1oN9D8FqGrkSPHvP6rFsAbdvuY/+AgaCNYp2j8VbbMxwua8P/or3J074cO/DniOUlk3+z900Rkzz0r7Pz98ZbAJWvo/g95LEm1g+D8r5i9LImv1Px/kE2tvm/E/ow4/pNRO6j+8jCf94K/gP7HeyPaIGsw/0JWZYnllr7/Gutkg1Bn6P82G9Sis2Po/XnzkynuK+j+mMLnwjCL5P8hzf8Qfp/Y/cOjmcR008z+XVfNl4/ftP/WVccwzi+Q/nWh/tPGc1T/Z++VgNLWnP6OU7qLBrvg/TQ5PSFAd+j+xIwIaynr6PzTc0qX/sfk/e/lWBFrB9z+1+7qc7730P5APbf+/1PA/kL3pvA2S6D+SBLYCZbzdP0clFwpdIMU/US8oba0V9z/DGH9SrzD5P39dxtHsOvo/QQXGCdsW+j+wCMoNi7r4P2UEF8w+M/Y/Md1peSan8j8djPGqXKjsP2xt5nG4FuM/HyBfK2+j0j9uqoavGHD1P1i9AenELPg/0nbhn67c+T8tQkn2gVr6Px+IFLkBlPk/gTGHpCGO9z8FBi/iWGf0P7hHC5skV/A/RP6wYBRU5z/uHPxl+ujaP0GMwNGn3fM/GAq6g3oq9z9p2pvGY3H5P8Vu8ntMhvo/A8qcpjdP+j+8ussi3Mj4P9R6e9SiCfY/QHDFMOxB8j+SJQiUxHHrP3IQIg3Bi+E/Nmlxu2l48j9/sde2iz72P8Lso3SWB/k/lefTCw6i+j9fNiUgOe36P20lcaIr3vk/xPHhSW6D9z/H/7z9Dgb0P/aNRX25Tu8/rXdTlzp25T+0MD0x1lHxP6IXLZv1dvU//aso2gmp+D+/1zSgybL6P6H1WX0Ybvs/wqtQZW7J+j8m+YBJEcz4P+28seLzl/U/NTf44lBo8T8wTCkphhnpP9oZ6FfncPA/083htlLZ9D/OPbe/cVn4P/0Ng3rXufo/dJCmdY7Q+z871bV+vYb7P79h/fJY3fk/dr5xK7jv9j9IAsdrAvPyPzh9GddqZOw//GiCSJrk+T8aFibD+0n5PxJTkR7zs/c/Fougw+Eo9T9QcEv6dcDxP1ozmujoSes/y9+YpEQm4j8knJbLEF/RP0RSNYWq6oq/OVl5S8Lw0L++g0ECdgn5P6OLyhjCG/k/KPw51lQm+D/TqkG/bCf2P0BdzQZDMPM/NQxgAVfN7j+o5qumFQrmP6jq+qj/Xtk/grQQs2B2uz9e9cZU1P7Dv7g1iU0r1Pc/EJkAPdad+D/oylQLAlj4P3a/Y9IG+PY/RnI2vmCH9D/rwFoGuSXxP3/EOM5EEuo/FeHifTv34D9pDj092KrOPydH95jwf6G/dJShzKhh9j82xks9R+X3P1aGhkIHVvg/Z/ZYZhGg9z9DK/oOSMT1P77IcSvR2vI/TB2cI4In7j+cfrvy5WnlP/DSC5peUtg/ira8H7QJuT998IGP/dL0P2fKE+3ECvc/lwDCpjEw+D86bfD+fyb4P3kvGneo5fY/zTt0gHR99D93fohfvhbxP39K8iGk4+k/5R0CfvDC4D+Fu06kUxbOP1nzkPzsSfM/XTq6hfEn9j+LAwi8Qff3PybTW1n6kvg/R8moIm3q9z9+ZTeDyQT2P9/Yx8D9AvM/YIEZIZc97j8rDi4zBU3lP7y6Ev6X1dc/rmDL9Rfl8T8xZb0uUlT1PyE1wGG8uvc/qJAVkJ3s+D/D8DhGe9H4Pyu2NBVDaPc/pKE9vdrJ9D/gDG1s/yjxP5DdU66Mnek/wa5wuIcn4D819HotY7zwP1Vwgt9RovQ/zfZ5obeG9z/6+eDUsjj5P5AhgUdNmfk/2eCA5Bmg+D9RjNnoZV72P8tKHzfk//I/x8vF/ROQ7T8OLT0vEhjkP/yyKWlEvO8/Inv69uQc9D+Vl/W3GGL3P1sk+beVefk/hN7cCJg/+j/ZpnrrqKX5P9jhNoldtvc/etG2G8CW9D/kDUSAiITwP+fnqTrtoec/qFKExvea7j9U8DDGJ8bzP0rVSlaGTfc/2ELhhBmu+T8JXmxhI8H6P2T9CHi1c/o/618vutnK+D+A1X+GmuX1P+2BnvIN/PE/REs9CBO26j/1n3cRLbH3P1IGkqGs+/Y/IB5PJRtF9T/FI1GRlJfyP/XZRrgQIO4/GHM/Bme95T9+IWqHsxjZPxsqqhpSgrk/BIk6b2+Fxr9uYkF0AmXavyykyCSVsPY/euusFa+x9j8kqBYu6Kb1PyDRl+KZkfM/gDYneZKH8D/8oTcRzmfpP49isjRPrOA/bHNr1nT4zT9VA+Yau7imv+dRnZlVq9K/xkJZSjtj9T+HTEqeYiT2P3XaTEw10/U/bwgbD5Nn9D+ynzIp4e7xP8RiO566Gu0/rJSli0v75D/ntaeBRjbYP5byPVmYf7k/DYj/ssMixL8RED7dvujzP4JLZMm1avU/4xskWvXX9T+nJ9wcsh71P7YL2q8pQ/M/5N9nQ4Zh8D++65tMwVvpPw1o2wT/4uA/6pSDB6UT0D9Au03MGnyMvxfnFBmvY/I/DH9XzS2e9D+rxU9i/cT1P6uWRXMXvfU/ADHCW26B9D8nAibTbyXyP5eefQQ5q+0/JVZZEbiq5T+AFh1/X+bZP8ABtnsjAsE/Bj80KgH28D//NzlyKtjzP+1Olj49qvU/fwQDLgBJ9j8Z4K9poKb1P04qffHIzfM/krrYrOPi8D9AnzCDVUXqP4JTi3fXuuE/64MJhrq80T9L1oozi3rvP2qlEHXfLvM/uETEl6GV9T/DR/hxrMf2P53fNGqHr/Y/htvaUbVP9T9QyQUjrcTyP85MVWBNiO4/JNY10mgy5j/ifCy4i3TaPyGQeR9anu0/h3+joYOy8j8MdzEEDZH1P3um7Cs4PPc/7JjeNoGY9z8EdANmdKH2Py8WnNc8bPQ/lVN9y70n8T8AuGqqATPqPzlrgW7XLuE/M+msqddt7D+D93jZJGvyPytSYOXIoPU/NZ+C2rmm9z98vsq/Xl34P2WLOwjjuvc/Z32LqULO9T80pvgNF8DyP1Rhcy3GoO0/IY3sfi6i5D/LsweZ0OfrPwKi/wCRV/I/um49l7bC9T/E/Z6b2wP4P6v/Gy9k+fg/iTzQ7OiV+D+uBAzKl+P2P1+AF/+VBfQ/2wYRCoo28D8+U680DYjnP6LdFl/wcfU/wlQlOFST9D8QdpRD0qzyP6NvdavrmO8/vvpQes4p6D+iCg9kMvTeP1p4tPTwcMg/g0HsZJMHur+Bjf0Onb/XvxHit9o/BuO/b5cV6QBM9D9Q9Qu+4Cn0P9qGirnl9vI/ygV0Pva38D+E4vkPFRDrP+fyg7WMMOM/W7GkRPK41D8GVKjox/mjP4w1wx1bns2/0QJD0aK13b/YhU6ih+XyP0TKW8woiPM/hMYItj0V8z9yppDo0YfxP8knZCz64+0/CZ3aevP65j+tShC3Q6ndP/JC+sKLV8g/CqhHTcgqtL+PzvXH53nUvzplQ/vKYPE/+BR2LRrH8j/UdfWi7BbzP3uWU8lnQfI/iYZcfSFP8D+E5AzwmcLqP+zknR7hYeM/BywPw7Et1j/MHbGUSr+0P1ZHf3QxbcW/iBO0x6jD7z9mP355NAHyPxM3Hj4gDPM/8fHpgXbq8j+wN6YSV5vxPyva9eHibe4/fyXgkMHc5z9ELH5eihHgP43lpMiu6s4/RXle5Jy4ir9cQ91ElhXtP7BZA/+/T/E/VmRdcE8E8z9+oHQ1UIjzP6IRq00u0vI/TmNrnErx8D9ovlhVCh3sP/sSqBsq1OQ/mL/VuC1Z2T/BstV9KXvBP9mjc6Fs8Oo/769kztfH8D8UT5kgLwzzPwp34SHbHvQ/0PGtze/u8z+ZCtN034PyP9CKfbBJ/e8/zCMTTMow6T8qVDflBjzhP4F8OiLgotE/AZExCFJ76T82pE2Mt3fwP3dZizHRK/M/55adDomv9D/XbwBZgOz0P1oPM4Wj4/M/z4eBBuyu8T9jFg4lgwHtP34dPGnTQOU/EpggjNCN2T96wMzZy8boP8fzHrPVZPA/XQaUM0tl8z8rTHS0rzj1P4VeHOZgxfU/HuOc+ZYH9T8SB4WDmRPzPxIu6UDLFfA/zKchidCf6D8/5uZYuCbgPwrCwn+wyug/q6+QygaL8D+ibtqzJrTzP2KQMrpOtfU/cY5pW9lz9j+bocuNT+n1P4PRwg7TJfQ/LFAoW7VQ8T/K/f4Z70zrP02B93/x5+I/QbRyEU1G8z92TBgyQjDyP468tb0fCvA/nIxeenLM6T9bNc6j5NrhP1pAI5UQeNE/T8Kh/Fbdnb+Xv4uAiNTUv5LGM1Ml7+K/KFkZIui+6b9iyRgpafvxP9SVfzx4o/E/PkHrmcg08D8peZ0UonDrP7/lW/vTneQ/bR3TAxHC2D9Loaf2+5e6P1l/3emhU8e/Oy9GMUmg3L/5QRaR4Vzlv+V13xc+evA/HwmLjFbn8D9K6k5/QTvwP4xbfUf76ew/YcOpalxY5z+WCOIQ1CHgP0UcG3SnS88/0DUvyNyjnL+Wh+qS9YbSv2iqUnSeheC/l4EBQk3P7T9YzQfQ5hbwP4+BCLYPLvA/k4Dq2nhE7j9nkPqBwALqP4p0aSBp5eM/hVegvQ3U2D9PFe5jftLAPxjURiPS9b+/1/cAB0be1r8x5yGONdLqPzgwisSfm+4/CfwCUhge8D8ef9dA6IvvP/MexDzNk+w/i1vdUfaP5z8TVrqEdO3gP3s/rFnJhdI/ojrcSok0pD+JakUVQ1HJv0ZNNZjzQeg/hoZtfgBL7T8S8n9exBrwP8j6ieglZfA/fhM4YVwB7z9u7+zURgXrP25Gq3hUMuU/nQt8tVYh3D8oUbWMNSLJPytMrPmH6aa/+f3a1rRV5j8CPnC4f2TsPyUuCNQJMPA/9fyLf/wC8T90b/zgPqDwP2PWYZXRKu4/B4o4S4cR6T+Ix31xP27iP7yZB4lFu9U/VrmSBLJ/uD80xrl6yDDlP3IssfFaAew/x1UIYqpk8D8Jjoxe5Z/xPzdMQdu8ovE/Hz/IOrt08D+r8VNsxWrsP91brVF4NeY/H9LS5Mi03T86FCraNQbMPw71Yq5q3uQ/Ocd/lBco7D+e7UyMCrnwPwpBN8kJOfI/pLTVTgGC8j/wJv9Jb5fxPw/wvRYMJ+8/RVzdn8RM6T+/xOfUcyXiP8FhQ4nfn9Q/On+xn0xQ5T+G/l1Ta8vsP9tsurzjJvE/SmSbAU/I8j85GUEZ7TfzP6AFcfpUd/I/E2SNlR2d8D8+ZSiaF6nrP3hTdLoDtuQ/nZLdQwXs2T92rSfDZUvxPx1VkTad4e8/6/111A/56j9uf+04KQvkPws5vJFU7tY/gczotmCVrD9wmMZVVZrQv78OBfraAuK/Is9s7v2G6r/IBQaSJIvwv8R6JLCsuO8/OxQL0gZ67j+u0/XjOwDrP1EaQZCKZuU/DRMSDVn32z9Iscg6C/rEPzW52c+ApcC/fWgYJCHw2r/SngYyf97lv3KoMxd0l+y/sY5/pnZ97D86+WQ5QcDsP/Nqj5SmyOo/sH20TSGe5j9e4ijTuHzgP7ib+8fApdE/4G/X0qFyfT+vq9OsfCHRv/Z9uQcmxuC/qKgzm9Sg578AXp/OvjPpP0iUSSTB7uo//MkVW9l26j8hfZfwK8DnP6csRAFd8+I/lAuTv03Z2D+P97KGz9nCP+TNDQCjCby/8MQz6zvx1r8W5FNUgW7iv6R42SYyKeY/wu2Hj4I/6T93+HgI2y7qP6mQ5E362eg/QMNZkPVW5T+RnSvJ997fPzV+2lKVOdI/f/Km5b/mpz95VMrEmNHIv3ccf/ahf9q/xckv0wyj4z9r7P9vLebnP372seBZEOo/umt3I0H26T/5qucesp3nPyTiuuj/PuM/Qk6U6ZCE2j8DPhEJ597IP93AXe+JV6O/ULE7AFCh0L/uv5q04NbhP/XkGA1WCuc/q3Hkb8oy6j8rrPN0MxvrP5Olm3i5vOk/Q0T/JNlA5j9Aryeq7f/gP08zCR//9dQ/YTn+tTSEuj/JyeLW+Zu+v2dRZ6Kr5OA/kus8Vc/C5j+ZB1LBI6LqP3sD4F/7SOw/IFBDj1Wo6z8PwBfOed7oPwgnAidwNuQ/tanxXbJG3D/jcaNoh9vMPzqMf7cjV2M/0drsnyLT4D94aF+ttBLnP7KYAW/yXOs/eeZ/Hdt47T8T9ctnSVTtPxhRE/ePBus/AmFVC6TQ5j8sWsC8ohnhP9KWwgIbztQ/h+tIGMKFuj9Q60xa8Y7hP/rGGYTm6Oc/BpgixjRU7D/t1+Wbjp3uP7wZfw+htO4/+ZOtDUiu7D+lEo7l88ToPxHZ6F0nVuM/vgYBxUC42T8FFdBlBY/HP4nJDsmoM+8/gVTN6AXg6z+eBU4jWkPmP/EYJlGeK90/pvnIUMYTxT9APdA8gUnEv+MnTf/TXN+/2SXgS3O36b/ssQvZbCnxvxIoXtV9XPS/JE5pz7oP7D821E/eTSTqP8rUO25l7uU/tFYVwXQn3z9yMdokjMTNP5BoUlcJqK6/uqyqCROQ17/r51WhnVblv1kEqhCyvu2/RuRIdBcc8r+V5e84fpjoP6U30UXqHOg//XTYxUBe5T+VaiIV/W7gP04A+1eZMtM/w7w/TQexpT821CvnUYvOvxrxbFxMmuC/28TsOZS66L/+mYR4/T3vv6qAYOT1IOU/VXD6cNAI5j9KdbJkibvkP6x2KF4iOeE/y14FY0Nx1z/Ix4FIYJXCP0PHW3uURLu/o1pw8bFx179GO51/ioTjv46/T4UFC+q/ZFNza1X54T+wbB/57yTkP91YHMVOLeQ/7vUI5TMC4j9Zv/IqQ5HbP64sfdJEZc8/sVSNNiNRlz9RC4NghKzLv4Hfh5+8udy/4aASZWDh5L+LP84sxM7eP1xA9Tw3puI/Fy0jCwPV4z8nB4M23tbiPwaqv0nVgt8/kVb3CXq41T9xny9XL3DCPyM+c6v6N7O/rQTC/03/0r+Ef8eEjfvfv/diwKa3Pts/X98bufGz4T+gzkyDpsrjP45AKZ2SvuM/sSq/g9WZ4T8USQ7YXyvbP3XgeP/CLdA/kiYfXJxZqj+T4ZCne3zEv73jhaNUI9e/Z2+IgwV92T8BvTNuXGPhP9v2cezAGeQ/UglXbg665D8AxvpEnUfjP9/eUABr4t8/tr9xoaQc1j8AzEtfG2LEP4mUdFYm86W/jtDaHNr6zr/I+U2Q7Y/ZP2wU1RIzteE/6arOw8y/5D9bP7Y6w8LlP3wq7vvXv+Q/XTdCncnf4T9RJgXRZeDaPz08PXSqeM8/4gSeYW7Vqj8B4aUO+FDCvzTHBNkMSds/iHgGDbaV4j/GuDvkdazlPyxcSkh8y+Y/zYRe2ur35T9nTOGnCVnjP5tBVy6LbN4/CriCDobl0z/Tx7GWvxfAP0D/tm36dLC/hi/DRbOH7D/DmpznIofoPwn1LFklJuI/lJWXJ1ZP0z8WDA/lrAGOv6KjMi+HFte/bvaPwb+/5r+8JQX77Jfwvw+G7S/L+/S/zOBtuN0l+L8f+cPwkCHpP8/AxwYHc+Y/CbgJr5Bp4T/FNHwVkmzUP3Rawi+fTaQ/baztpQCX0b/GvlbK7zPjvyeFcOLmFu2/t+LJNXvK8r84NcnB+/H1vzOiYp8MbOU/6CPcCrUT5D8yURJiRm/gP2Fc7RL7OtU/9dTBlpm8tz8ZYGs6NtLHv16trR913t6/s2jBVwCn6L/NIjaxa2Lwv8LCUHxtgfO/tTRg5A++4T/yzBsBnKzhPxjq2vHyyN4/I4hv5Rbm1T/1PZ7ecnvCP+8r7MM357i/z49AYEs0179vxvAWjhbkvzNRdU+wxuu/A+dJEdr18L845QSMEdTcP0c47wya+94/OfoVqcbn3D+Vz7lBnpXWP/+srjJM38g/Uv2+CaEgh78SXyVRcnrPv3Ior/ROOt+/79UT7pna5r9CQNbSi+Hsv4LtKattbNc/IkzeO8p72z+DFlswHoPbPzaS4yZRadc/jUbvGQ34zj8ot9bxRaqxP4bVhl0ZkMG/nGY94lfc1r95afGH8jriv/gu/Yc8IOi/lG8p0KKr0z+zPrLz+yjZP6H0dUfqzdo/VBitfOR02D8mCr3xylbSP3Jf4RQ3DsI/gJM9tb29pL/wiK8XjtDOv39SEU3bLdy/JVhTmL/W479j4sS088fRP82TM3klLNg/85J5pWTg2j8ZdtG2U73ZP//TGErd8NQ/fN58P0H1yT+/RQFJFhGlP2Ki+pNzNMK/TouvdPcc1b98EpZTEyPgv/9kM4VKwtE/HBOsHw+E2D/DldZ+bLXbP0SaxG0NONs/Y69mqTM51z/CcUkvtS3QP012hS+hJLs/vAo4FLdCsL/yZKstkr/Ov7ZewjA6INq/eTExvzln0z9AEgfsXAbaPwr12PwJLN0/0loTub3M3D86L+E2AB/ZP8ZKEOvzldI/jLbslGCxwz/umMJC1ZZyv1jt0hBb3MW/GG7ZCDcr1b8=",
          "dtype": "f8"
         },
         "x": {
          "bdata": "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",
          "dtype": "f8"
         },
         "y": {
          "bdata": "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",
          "dtype": "f8"
         },
         "z": {
          "bdata": "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",
          "dtype": "f8"
         }
        }
       ],
       "layout": {
        "scene": {
         "xaxis": {
          "title": {
           "text": "X"
          }
         },
         "yaxis": {
          "title": {
           "text": "Y"
          }
         },
         "zaxis": {
          "title": {
           "text": "Z"
          }
         }
        },
        "template": {
         "data": {
          "bar": [
           {
            "error_x": {
             "color": "#2a3f5f"
            },
            "error_y": {
             "color": "#2a3f5f"
            },
            "marker": {
             "line": {
              "color": "#E5ECF6",
              "width": 0.5
             },
             "pattern": {
              "fillmode": "overlay",
              "size": 10,
              "solidity": 0.2
             }
            },
            "type": "bar"
           }
          ],
          "barpolar": [
           {
            "marker": {
             "line": {
              "color": "#E5ECF6",
              "width": 0.5
             },
             "pattern": {
              "fillmode": "overlay",
              "size": 10,
              "solidity": 0.2
             }
            },
            "type": "barpolar"
           }
          ],
          "carpet": [
           {
            "aaxis": {
             "endlinecolor": "#2a3f5f",
             "gridcolor": "white",
             "linecolor": "white",
             "minorgridcolor": "white",
             "startlinecolor": "#2a3f5f"
            },
            "baxis": {
             "endlinecolor": "#2a3f5f",
             "gridcolor": "white",
             "linecolor": "white",
             "minorgridcolor": "white",
             "startlinecolor": "#2a3f5f"
            },
            "type": "carpet"
           }
          ],
          "choropleth": [
           {
            "colorbar": {
             "outlinewidth": 0,
             "ticks": ""
            },
            "type": "choropleth"
           }
          ],
          "contour": [
           {
            "colorbar": {
             "outlinewidth": 0,
             "ticks": ""
            },
            "colorscale": [
             [
              0,
              "#0d0887"
             ],
             [
              0.1111111111111111,
              "#46039f"
             ],
             [
              0.2222222222222222,
              "#7201a8"
             ],
             [
              0.3333333333333333,
              "#9c179e"
             ],
             [
              0.4444444444444444,
              "#bd3786"
             ],
             [
              0.5555555555555556,
              "#d8576b"
             ],
             [
              0.6666666666666666,
              "#ed7953"
             ],
             [
              0.7777777777777778,
              "#fb9f3a"
             ],
             [
              0.8888888888888888,
              "#fdca26"
             ],
             [
              1,
              "#f0f921"
             ]
            ],
            "type": "contour"
           }
          ],
          "contourcarpet": [
           {
            "colorbar": {
             "outlinewidth": 0,
             "ticks": ""
            },
            "type": "contourcarpet"
           }
          ],
          "heatmap": [
           {
            "colorbar": {
             "outlinewidth": 0,
             "ticks": ""
            },
            "colorscale": [
             [
              0,
              "#0d0887"
             ],
             [
              0.1111111111111111,
              "#46039f"
             ],
             [
              0.2222222222222222,
              "#7201a8"
             ],
             [
              0.3333333333333333,
              "#9c179e"
             ],
             [
              0.4444444444444444,
              "#bd3786"
             ],
             [
              0.5555555555555556,
              "#d8576b"
             ],
             [
              0.6666666666666666,
              "#ed7953"
             ],
             [
              0.7777777777777778,
              "#fb9f3a"
             ],
             [
              0.8888888888888888,
              "#fdca26"
             ],
             [
              1,
              "#f0f921"
             ]
            ],
            "type": "heatmap"
           }
          ],
          "histogram": [
           {
            "marker": {
             "pattern": {
              "fillmode": "overlay",
              "size": 10,
              "solidity": 0.2
             }
            },
            "type": "histogram"
           }
          ],
          "histogram2d": [
           {
            "colorbar": {
             "outlinewidth": 0,
             "ticks": ""
            },
            "colorscale": [
             [
              0,
              "#0d0887"
             ],
             [
              0.1111111111111111,
              "#46039f"
             ],
             [
              0.2222222222222222,
              "#7201a8"
             ],
             [
              0.3333333333333333,
              "#9c179e"
             ],
             [
              0.4444444444444444,
              "#bd3786"
             ],
             [
              0.5555555555555556,
              "#d8576b"
             ],
             [
              0.6666666666666666,
              "#ed7953"
             ],
             [
              0.7777777777777778,
              "#fb9f3a"
             ],
             [
              0.8888888888888888,
              "#fdca26"
             ],
             [
              1,
              "#f0f921"
             ]
            ],
            "type": "histogram2d"
           }
          ],
          "histogram2dcontour": [
           {
            "colorbar": {
             "outlinewidth": 0,
             "ticks": ""
            },
            "colorscale": [
             [
              0,
              "#0d0887"
             ],
             [
              0.1111111111111111,
              "#46039f"
             ],
             [
              0.2222222222222222,
              "#7201a8"
             ],
             [
              0.3333333333333333,
              "#9c179e"
             ],
             [
              0.4444444444444444,
              "#bd3786"
             ],
             [
              0.5555555555555556,
              "#d8576b"
             ],
             [
              0.6666666666666666,
              "#ed7953"
             ],
             [
              0.7777777777777778,
              "#fb9f3a"
             ],
             [
              0.8888888888888888,
              "#fdca26"
             ],
             [
              1,
              "#f0f921"
             ]
            ],
            "type": "histogram2dcontour"
           }
          ],
          "mesh3d": [
           {
            "colorbar": {
             "outlinewidth": 0,
             "ticks": ""
            },
            "type": "mesh3d"
           }
          ],
          "parcoords": [
           {
            "line": {
             "colorbar": {
              "outlinewidth": 0,
              "ticks": ""
             }
            },
            "type": "parcoords"
           }
          ],
          "pie": [
           {
            "automargin": true,
            "type": "pie"
           }
          ],
          "scatter": [
           {
            "fillpattern": {
             "fillmode": "overlay",
             "size": 10,
             "solidity": 0.2
            },
            "type": "scatter"
           }
          ],
          "scatter3d": [
           {
            "line": {
             "colorbar": {
              "outlinewidth": 0,
              "ticks": ""
             }
            },
            "marker": {
             "colorbar": {
              "outlinewidth": 0,
              "ticks": ""
             }
            },
            "type": "scatter3d"
           }
          ],
          "scattercarpet": [
           {
            "marker": {
             "colorbar": {
              "outlinewidth": 0,
              "ticks": ""
             }
            },
            "type": "scattercarpet"
           }
          ],
          "scattergeo": [
           {
            "marker": {
             "colorbar": {
              "outlinewidth": 0,
              "ticks": ""
             }
            },
            "type": "scattergeo"
           }
          ],
          "scattergl": [
           {
            "marker": {
             "colorbar": {
              "outlinewidth": 0,
              "ticks": ""
             }
            },
            "type": "scattergl"
           }
          ],
          "scattermap": [
           {
            "marker": {
             "colorbar": {
              "outlinewidth": 0,
              "ticks": ""
             }
            },
            "type": "scattermap"
           }
          ],
          "scattermapbox": [
           {
            "marker": {
             "colorbar": {
              "outlinewidth": 0,
              "ticks": ""
             }
            },
            "type": "scattermapbox"
           }
          ],
          "scatterpolar": [
           {
            "marker": {
             "colorbar": {
              "outlinewidth": 0,
              "ticks": ""
             }
            },
            "type": "scatterpolar"
           }
          ],
          "scatterpolargl": [
           {
            "marker": {
             "colorbar": {
              "outlinewidth": 0,
              "ticks": ""
             }
            },
            "type": "scatterpolargl"
           }
          ],
          "scatterternary": [
           {
            "marker": {
             "colorbar": {
              "outlinewidth": 0,
              "ticks": ""
             }
            },
            "type": "scatterternary"
           }
          ],
          "surface": [
           {
            "colorbar": {
             "outlinewidth": 0,
             "ticks": ""
            },
            "colorscale": [
             [
              0,
              "#0d0887"
             ],
             [
              0.1111111111111111,
              "#46039f"
             ],
             [
              0.2222222222222222,
              "#7201a8"
             ],
             [
              0.3333333333333333,
              "#9c179e"
             ],
             [
              0.4444444444444444,
              "#bd3786"
             ],
             [
              0.5555555555555556,
              "#d8576b"
             ],
             [
              0.6666666666666666,
              "#ed7953"
             ],
             [
              0.7777777777777778,
              "#fb9f3a"
             ],
             [
              0.8888888888888888,
              "#fdca26"
             ],
             [
              1,
              "#f0f921"
             ]
            ],
            "type": "surface"
           }
          ],
          "table": [
           {
            "cells": {
             "fill": {
              "color": "#EBF0F8"
             },
             "line": {
              "color": "white"
             }
            },
            "header": {
             "fill": {
              "color": "#C8D4E3"
             },
             "line": {
              "color": "white"
             }
            },
            "type": "table"
           }
          ]
         },
         "layout": {
          "annotationdefaults": {
           "arrowcolor": "#2a3f5f",
           "arrowhead": 0,
           "arrowwidth": 1
          },
          "autotypenumbers": "strict",
          "coloraxis": {
           "colorbar": {
            "outlinewidth": 0,
            "ticks": ""
           }
          },
          "colorscale": {
           "diverging": [
            [
             0,
             "#8e0152"
            ],
            [
             0.1,
             "#c51b7d"
            ],
            [
             0.2,
             "#de77ae"
            ],
            [
             0.3,
             "#f1b6da"
            ],
            [
             0.4,
             "#fde0ef"
            ],
            [
             0.5,
             "#f7f7f7"
            ],
            [
             0.6,
             "#e6f5d0"
            ],
            [
             0.7,
             "#b8e186"
            ],
            [
             0.8,
             "#7fbc41"
            ],
            [
             0.9,
             "#4d9221"
            ],
            [
             1,
             "#276419"
            ]
           ],
           "sequential": [
            [
             0,
             "#0d0887"
            ],
            [
             0.1111111111111111,
             "#46039f"
            ],
            [
             0.2222222222222222,
             "#7201a8"
            ],
            [
             0.3333333333333333,
             "#9c179e"
            ],
            [
             0.4444444444444444,
             "#bd3786"
            ],
            [
             0.5555555555555556,
             "#d8576b"
            ],
            [
             0.6666666666666666,
             "#ed7953"
            ],
            [
             0.7777777777777778,
             "#fb9f3a"
            ],
            [
             0.8888888888888888,
             "#fdca26"
            ],
            [
             1,
             "#f0f921"
            ]
           ],
           "sequentialminus": [
            [
             0,
             "#0d0887"
            ],
            [
             0.1111111111111111,
             "#46039f"
            ],
            [
             0.2222222222222222,
             "#7201a8"
            ],
            [
             0.3333333333333333,
             "#9c179e"
            ],
            [
             0.4444444444444444,
             "#bd3786"
            ],
            [
             0.5555555555555556,
             "#d8576b"
            ],
            [
             0.6666666666666666,
             "#ed7953"
            ],
            [
             0.7777777777777778,
             "#fb9f3a"
            ],
            [
             0.8888888888888888,
             "#fdca26"
            ],
            [
             1,
             "#f0f921"
            ]
           ]
          },
          "colorway": [
           "#636efa",
           "#EF553B",
           "#00cc96",
           "#ab63fa",
           "#FFA15A",
           "#19d3f3",
           "#FF6692",
           "#B6E880",
           "#FF97FF",
           "#FECB52"
          ],
          "font": {
           "color": "#2a3f5f"
          },
          "geo": {
           "bgcolor": "white",
           "lakecolor": "white",
           "landcolor": "#E5ECF6",
           "showlakes": true,
           "showland": true,
           "subunitcolor": "white"
          },
          "hoverlabel": {
           "align": "left"
          },
          "hovermode": "closest",
          "mapbox": {
           "style": "light"
          },
          "paper_bgcolor": "white",
          "plot_bgcolor": "#E5ECF6",
          "polar": {
           "angularaxis": {
            "gridcolor": "white",
            "linecolor": "white",
            "ticks": ""
           },
           "bgcolor": "#E5ECF6",
           "radialaxis": {
            "gridcolor": "white",
            "linecolor": "white",
            "ticks": ""
           }
          },
          "scene": {
           "xaxis": {
            "backgroundcolor": "#E5ECF6",
            "gridcolor": "white",
            "gridwidth": 2,
            "linecolor": "white",
            "showbackground": true,
            "ticks": "",
            "zerolinecolor": "white"
           },
           "yaxis": {
            "backgroundcolor": "#E5ECF6",
            "gridcolor": "white",
            "gridwidth": 2,
            "linecolor": "white",
            "showbackground": true,
            "ticks": "",
            "zerolinecolor": "white"
           },
           "zaxis": {
            "backgroundcolor": "#E5ECF6",
            "gridcolor": "white",
            "gridwidth": 2,
            "linecolor": "white",
            "showbackground": true,
            "ticks": "",
            "zerolinecolor": "white"
           }
          },
          "shapedefaults": {
           "line": {
            "color": "#2a3f5f"
           }
          },
          "ternary": {
           "aaxis": {
            "gridcolor": "white",
            "linecolor": "white",
            "ticks": ""
           },
           "baxis": {
            "gridcolor": "white",
            "linecolor": "white",
            "ticks": ""
           },
           "bgcolor": "#E5ECF6",
           "caxis": {
            "gridcolor": "white",
            "linecolor": "white",
            "ticks": ""
           }
          },
          "title": {
           "x": 0.05
          },
          "xaxis": {
           "automargin": true,
           "gridcolor": "white",
           "linecolor": "white",
           "ticks": "",
           "title": {
            "standoff": 15
           },
           "zerolinecolor": "white",
           "zerolinewidth": 2
          },
          "yaxis": {
           "automargin": true,
           "gridcolor": "white",
           "linecolor": "white",
           "ticks": "",
           "title": {
            "standoff": 15
           },
           "zerolinecolor": "white",
           "zerolinewidth": 2
          }
         }
        },
        "title": {
         "text": "Sample from a curl free prior"
        }
       }
      }
     },
     "metadata": {},
     "output_type": "display_data"
    }
   ],
   "source": [
    "grid_x, grid_y, grid_z, U1, V1, W1 = sample_vector_field(grid_x=grid_x, grid_y=grid_y, grid_z=grid_z,\n",
    "                                                         kernel_func = 'curl_free_kernel')\n",
    "plotter.plotter(grid_x, grid_y, grid_z, U1, V1, W1, title = 'Sample from a curl free prior')"
   ]
  },
  {
   "cell_type": "markdown",
   "metadata": {},
   "source": [
    "## Updates given measurements "
   ]
  },
  {
   "cell_type": "markdown",
   "metadata": {},
   "source": [
    "This is a 2 step process. To start, we make a function which can take in all of these vector fields, and return some selection of points. Following this sampling, we will feed this to our GP and see what happens.\n"
   ]
  },
  {
   "cell_type": "markdown",
   "metadata": {},
   "source": [
    "### Generating samples"
   ]
  },
  {
   "cell_type": "code",
   "execution_count": 12,
   "metadata": {},
   "outputs": [],
   "source": [
    "def sample_field(x, y, z, Bx, By, Bz, n_samples: int, random_seed: int = 0):\n",
    "    '''\n",
    "    Helper function to use to get random points from earlier fields. Samples n points from the given field data. \n",
    "\n",
    "    Args:\n",
    "        x, y, z (np.ndarray): Meshgrid coordinates.\n",
    "        Bx, By, Bz (np.ndarray): Magnetic field components.\n",
    "        n_samples (int): Number of points to sample.\n",
    "\n",
    "    Returns:\n",
    "        Tuple of sampled coordinates and field components.\n",
    "    '''\n",
    "    np.random.seed(random_seed)\n",
    "    \n",
    "    resolution = x.shape[0]\n",
    "    indices = np.random.choice(resolution * resolution * resolution, size=n_samples, replace=False)\n",
    "    \n",
    "    x_samples = x.flatten()[indices]\n",
    "    y_samples = y.flatten()[indices]\n",
    "    z_samples = z.flatten()[indices]\n",
    "    Bx_samples = Bx.flatten()[indices]\n",
    "    By_samples = By.flatten()[indices]\n",
    "    Bz_samples = Bz.flatten()[indices]\n",
    "    \n",
    "    return x_samples, y_samples, z_samples, Bx_samples, By_samples, Bz_samples"
   ]
  },
  {
   "cell_type": "code",
   "execution_count": 13,
   "metadata": {},
   "outputs": [
    {
     "data": {
      "application/vnd.plotly.v1+json": {
       "config": {
        "plotlyServerURL": "https://plot.ly"
       },
       "data": [
        {
         "anchor": "tail",
         "sizemode": "scaled",
         "sizeref": 2,
         "type": "cone",
         "u": {
          "bdata": "dLJecC32M8AA/6i0jh9JwICC5ANi8TBAYj3Qpbk0ZsAxytkvoaY/wLa3AQdKfz7AtLcBB0p/PkDPfTX9MGBKQNZKrHxB8SdAgYLkA2LxMMDJWpWsaoQRQGI90KW5NGbAoXeIy99COMDPfTX9MGBKQOjWwj22lCvAIAYoAvi0Q0B0sl5wLfYzwCS6Eqic+0BAirw6gQXfOEC2twEHSn8+QCA4gR3x9EFAA0gK81m2HECJt4DdPpEyQIm3gN0+kTJAsTN4CJSnOcChd4jL30I4wCAGKAL4tENAwFnYuSBYM0DTfTX9MGBKwHSyXnAt9jNAI7oSqJz7QMChd4jL30I4wIm3gN0+kTLAgILkA2LxMMDDWpWsaoQRQM99Nf0wYErAIAYoAvi0Q8ALMWtcrdtNQIq8OoEF3zjA0H01/TBgSkDPfTX9MGBKQHSyXnAt9jPABTFrXK3bTcDUSqx8QfEnwEzGmebxPFFAoXeIy99COMCwM3gIlKc5wAD/qLSOH0lAibeA3T6RMkADSArzWbYcwAgxa1yt201AgILkA2LxMEDQfTX9MGBKQFmfBK+Y40FAzIBrAnSpRcADSArzWbYcwAFt5jf48UFAAW3mN/jxQUCLvDqBBd84wIm3gN0+kTJAXp8Er5jjQcAH74YGZdVawAD/qLSOH0lAgILkA2LxMEAMSArzWbYcQMFZ2LkgWDNA0H01/TBgSkBZnwSvmONBwEzGmebxPFFA6NbCPbaUK8DPfTX9MGBKwICC5ANi8TBATcaZ5vE8UcBLxpnm8TxRQLS3AQdKfz7ADEgK81m2HECKt4DdPpEyQICC5ANi8TDA1kqsfEHxJ8AH74YGZdVawNB9Nf0wYEpAYj3Qpbk0ZkCKt4DdPpEyQIu8OoEF3zjAdLJecC32M8DUSqx8QfEnwM99Nf0wYEpAw1qVrGqEEcDJWpWsaoQRQCW6Eqic+0DAYj3Qpbk0ZkDJWpWsaoQRQLS3AQdKfz7AAW3mN/jxQUAFMWtcrdtNwANICvNZthxAXp8Er5jjQcDAWdi5IFgzQAsxa1yt201AB++GBmXVWsA=",
          "dtype": "f8"
         },
         "v": {
          "bdata": "dLJecC32M0AKSArzWbYcQLS3AQdKfz5AYj3Qpbk0ZkDTfTX9MGBKQIGC5ANi8TBAf4LkA2LxMMAoytkvoaY/wCA4gR3x9EHAtrcBB0p/PsAgBigC+LRDQGI90KW5NGZAJboSqJz7QEAoytkvoaY/wE3GmebxPFFAylqVrGqEEUBzsl5wLfYzwJ93iMvfQjhAwlnYuSBYM8CBguQDYvEwQNhKrHxB8SfAAP+otI4fSUDKgGsCdKlFwMqAawJ0qUXAsTN4CJSnOUAluhKonPtAQMRalaxqhBHAjLw6gQXfOMAvytkvoaY/QHOyXnAt9jPApHeIy99COMAkuhKonPtAwMqAawJ0qUXAtrcBB0p/PkAgBigC+LRDwDPK2S+hpj/AylqVrGqEEUAHMWtcrdtNQMJZ2LkgWDPALMrZL6GmP0AoytkvoaY/wHSyXnAt9jNADDFrXK3bTcAgOIEd8fRBQN3Wwj22lCtAJboSqJz7QECvM3gIlKc5wAFICvNZthzAyoBrAnSpRcAA/6i0jh9JQAcxa1yt203AtLcBB0p/PkAsytkvoaY/QATvhgZl1VrAireA3T6RMkAA/6i0jh9JQP9s5jf48UFA/2zmN/jxQUDAWdi5IFgzQMqAawJ0qUXAB++GBmXVWkBcnwSvmONBwAFICvNZthzAtLcBB0p/PsD//qi0jh9JwIu8OoEF3zhALMrZL6GmP0AE74YGZdVawN3Wwj22lCtATcaZ5vE8UUAzytkvoaY/wLS3AQdKfz5A5dbCPbaUK8Dh1sI9tpQrwH+C5ANi8TDA//6otI4fScDLgGsCdKlFQLa3AQdKfz5AIDiBHfH0QcBenwSvmONBQCzK2S+hpj9AYj3Qpbk0ZkDLgGsCdKlFQMBZ2LkgWDNAc7JecC32M8AgOIEd8fRBQCjK2S+hpj/AIAYoAvi0Q8AgBigC+LRDQKB3iMvfQjhAYj3Qpbk0ZkAgBigC+LRDQH+C5ANi8TDA/2zmN/jxQUAMMWtcrdtNwAD/qLSOH0lAB++GBmXVWkCMvDqBBd84wAcxa1yt201AXJ8Er5jjQcA=",
          "dtype": "f8"
         },
         "w": {
          "bdata": "AAAAAAAAAAAAAAAAAAAAAAAAAAAAAAAAAAAAAAAAAAAAAAAAAAAAAAAAAAAAAAAAAAAAAAAAAAAAAAAAAAAAAAAAAAAAAAAAAAAAAAAAAAAAAAAAAAAAAAAAAAAAAAAAAAAAAAAAAAAAAAAAAAAAAAAAAAAAAAAAAAAAAAAAAAAAAAAAAAAAAAAAAAAAAAAAAAAAAAAAAAAAAAAAAAAAAAAAAAAAAAAAAAAAAAAAAAAAAAAAAAAAAAAAAAAAAAAAAAAAAAAAAAAAAAAAAAAAAAAAAAAAAAAAAAAAAAAAAAAAAAAAAAAAAAAAAAAAAAAAAAAAAAAAAAAAAAAAAAAAAAAAAAAAAAAAAAAAAAAAAAAAAAAAAAAAAAAAAAAAAAAAAAAAAAAAAAAAAAAAAAAAAAAAAAAAAAAAAAAAAAAAAAAAAAAAAAAAAAAAAAAAAAAAAAAAAAAAAAAAAAAAAAAAAAAAAAAAAAAAAAAAAAAAAAAAAAAAAAAAAAAAAAAAAAAAAAAAAAAAAAAAAAAAAAAAAAAAAAAAAAAAAAAAAAAAAAAAAAAAAAAAAAAAAAAAAAAAAAAAAAAAAAAAAAAAAAAAAAAAAAAAAAAAAAAAAAAAAAAAAAAAAAAAAAAAAAAAAAAAAAAAAAAAAAAAAAAAAAAAAAAAAAAAAAAAAAAAAAAAAAAAAAAAAAAAAAAAAAAAAAAAAAAAAAAAAAAAAAAAAAAAAAAAAAAAAAAAAAAAAAAAAAAAAAAAAAAAAAAAAAAAAAAAAAAAAAAAAAAAAAAAAAAAAAAAAAAAAAAAAAAAAAAAAAAAAAAAAAAAAAAAAAAAAAAAAAAAAAAAAAAAAAAAAAAAAAAAAAAAAAAAAAAAAAAAAAAAAAAAAAAAAAAAAAAAAAAAAAAAAAAAAAAAAAAAAAAAAAAAAAAAAAAAAAAAAAAAAAAAAAAAAAAAAAAAAAAAAAAAAAAAAAAAAAAAAAAAAAAAAAAAAAAAAAAAAAAAAAAAAAAAAAAAAAAAAAAAAAAAAAAAAAAAAAAAAAAAAAAAAAAAAAAAAAAAAAAAAAAAAAAAAAA=",
          "dtype": "f8"
         },
         "x": {
          "bdata": "AAAAAAAA4D8gx3Ecx3GsPwAAAAAAAOA/IMdxHMdxrD9wHMdxHMfRP3Acx3Ecx9E/chzHcRzH0b9WVVVVVVXFvwAAAAAAAOC/AAAAAAAA4L8AAAAAAADgPyDHcRzHcaw/OI7jOI7j2D9WVVVVVVXFv3Acx3Ecx9E/IMdxHMdxrD8AAAAAAADgv3Acx3Ecx9E/OY7jOI7j2L9wHMdxHMfRP1ZVVVVVVcW/OI7jOI7j2D85juM4juPYvzmO4ziO49i/OI7jOI7j2D84juM4juPYPyDHcRzHcay/AAAAAAAA4L9UVVVVVVXFPwAAAAAAAOC/chzHcRzH0b85juM4juPYvzmO4ziO49i/AAAAAAAA4D8AAAAAAADgv1ZVVVVVVcW/IMdxHMdxrD9UVVVVVVXFPzmO4ziO49i/VFVVVVVVxT9WVVVVVVXFvwAAAAAAAOA/VlVVVVVVxb8AAAAAAADgPyDHcRzHcaw/OI7jOI7j2D85juM4juPYvyDHcRzHcay/OY7jOI7j2L84juM4juPYP1ZVVVVVVcW/AAAAAAAA4D9UVVVVVVXFP1ZVVVVVVcW/VFVVVVVVxT84juM4juPYP3Acx3Ecx9E/cBzHcRzH0T84juM4juPYPzmO4ziO49i/VFVVVVVVxT8gx3Ecx3GsvyDHcRzHcay/AAAAAAAA4L85juM4juPYvwAAAAAAAOA/VFVVVVVVxT9WVVVVVVXFvyDHcRzHcaw/cBzHcRzH0T9WVVVVVVXFvwAAAAAAAOA/IMdxHMdxrL8gx3Ecx3Gsv3Icx3Ecx9G/OY7jOI7j2L84juM4juPYPwAAAAAAAOA/AAAAAAAA4L8gx3Ecx3GsP1RVVVVVVcU/IMdxHMdxrD84juM4juPYPziO4ziO49g/AAAAAAAA4L8AAAAAAADgP1ZVVVVVVcW/AAAAAAAA4L8AAAAAAADgP3Acx3Ecx9E/IMdxHMdxrD8AAAAAAADgP3Icx3Ecx9G/cBzHcRzH0T9WVVVVVVXFvziO4ziO49g/VFVVVVVVxT8AAAAAAADgv1RVVVVVVcU/IMdxHMdxrL8=",
          "dtype": "f8"
         },
         "y": {
          "bdata": "AAAAAAAA4D84juM4juPYP3Icx3Ecx9G/IMdxHMdxrD9UVVVVVVXFPwAAAAAAAOA/AAAAAAAA4L9yHMdxHMfRv1ZVVVVVVcW/cBzHcRzH0T8gx3Ecx3GsvyDHcRzHcaw/cBzHcRzH0T9yHMdxHMfRvyDHcRzHcaw/AAAAAAAA4L8AAAAAAADgPzmO4ziO49i/AAAAAAAA4L8AAAAAAADgvwAAAAAAAOC/IMdxHMdxrL9WVVVVVVXFv1ZVVVVVVcW/OI7jOI7j2D9wHMdxHMfRPwAAAAAAAOC/OY7jOI7j2L9wHMdxHMfRPwAAAAAAAOC/OI7jOI7j2D9wHMdxHMfRP1RVVVVVVcU/cBzHcRzH0T8gx3Ecx3Gsv3Acx3Ecx9E/AAAAAAAA4D9WVVVVVVXFvwAAAAAAAOA/chzHcRzH0b9yHMdxHMfRvwAAAAAAAOA/VFVVVVVVxT9UVVVVVVXFP3Icx3Ecx9G/cBzHcRzH0T84juM4juPYPzmO4ziO49i/VlVVVVVVxb8gx3Ecx3GsP1ZVVVVVVcW/chzHcRzH0b9yHMdxHMfRvyDHcRzHcay/OI7jOI7j2D8gx3Ecx3GsP3Icx3Ecx9G/chzHcRzH0b8AAAAAAADgP1ZVVVVVVcW/IMdxHMdxrD9UVVVVVVXFPzmO4ziO49i/chzHcRzH0b8gx3Ecx3GsvzmO4ziO49i/chzHcRzH0b8gx3Ecx3GsP3Icx3Ecx9G/IMdxHMdxrD9wHMdxHMfRP3Icx3Ecx9G/cBzHcRzH0T9yHMdxHMfRvwAAAAAAAOA/IMdxHMdxrL9WVVVVVVXFv3Acx3Ecx9E/VFVVVVVVxT9UVVVVVVXFP3Icx3Ecx9G/IMdxHMdxrL9WVVVVVVXFvwAAAAAAAOA/AAAAAAAA4D9UVVVVVVXFP3Icx3Ecx9G/IMdxHMdxrD8gx3Ecx3GsvziO4ziO49g/IMdxHMdxrL8gx3Ecx3GsvwAAAAAAAOA/chzHcRzH0b9UVVVVVVXFPyDHcRzHcay/IMdxHMdxrD85juM4juPYv1ZVVVVVVcW/VFVVVVVVxT8=",
          "dtype": "f8"
         },
         "z": {
          "bdata": "VlVVVVVVxb8AAAAAAADgPziO4ziO49g/VlVVVVVVxb9yHMdxHMfRvzmO4ziO49i/cBzHcRzH0T85juM4juPYv1RVVVVVVcU/VFVVVVVVxT9UVVVVVVXFPziO4ziO49g/IMdxHMdxrL8AAAAAAADgPziO4ziO49g/IMdxHMdxrD9UVVVVVVXFPyDHcRzHcaw/IMdxHMdxrL9wHMdxHMfRPzmO4ziO49i/OY7jOI7j2L8AAAAAAADgvzmO4ziO49i/VlVVVVVVxb84juM4juPYPyDHcRzHcaw/VlVVVVVVxb8AAAAAAADgvzmO4ziO49i/VlVVVVVVxb8AAAAAAADgvyDHcRzHcay/AAAAAAAA4L84juM4juPYP1RVVVVVVcU/cBzHcRzH0T9UVVVVVVXFPziO4ziO49g/cBzHcRzH0T8AAAAAAADgv1RVVVVVVcU/IMdxHMdxrD84juM4juPYPzmO4ziO49i/VlVVVVVVxb8AAAAAAADgPzmO4ziO49i/VFVVVVVVxT9wHMdxHMfRPzmO4ziO49i/IMdxHMdxrD9yHMdxHMfRv3Icx3Ecx9G/chzHcRzH0b9yHMdxHMfRv3Icx3Ecx9G/AAAAAAAA4L9wHMdxHMfRPwAAAAAAAOA/AAAAAAAA4D9WVVVVVVXFv3Icx3Ecx9G/chzHcRzH0b9WVVVVVVXFv1RVVVVVVcU/IMdxHMdxrL85juM4juPYv3Icx3Ecx9G/VFVVVVVVxT84juM4juPYPwAAAAAAAOA/AAAAAAAA4L9wHMdxHMfRP1RVVVVVVcU/chzHcRzH0b8AAAAAAADgP1RVVVVVVcU/OY7jOI7j2L8gx3Ecx3GsvzmO4ziO49i/VFVVVVVVxT9UVVVVVVXFP3Icx3Ecx9G/AAAAAAAA4D9WVVVVVVXFv1RVVVVVVcU/OY7jOI7j2L9wHMdxHMfRPyDHcRzHcay/chzHcRzH0b8gx3Ecx3Gsv1ZVVVVVVcW/AAAAAAAA4D84juM4juPYPyDHcRzHcaw/OI7jOI7j2D84juM4juPYP3Acx3Ecx9E/IMdxHMdxrL8=",
          "dtype": "f8"
         }
        }
       ],
       "layout": {
        "scene": {
         "xaxis": {
          "title": {
           "text": "X"
          }
         },
         "yaxis": {
          "title": {
           "text": "Y"
          }
         },
         "zaxis": {
          "title": {
           "text": "Z"
          }
         }
        },
        "template": {
         "data": {
          "bar": [
           {
            "error_x": {
             "color": "#2a3f5f"
            },
            "error_y": {
             "color": "#2a3f5f"
            },
            "marker": {
             "line": {
              "color": "#E5ECF6",
              "width": 0.5
             },
             "pattern": {
              "fillmode": "overlay",
              "size": 10,
              "solidity": 0.2
             }
            },
            "type": "bar"
           }
          ],
          "barpolar": [
           {
            "marker": {
             "line": {
              "color": "#E5ECF6",
              "width": 0.5
             },
             "pattern": {
              "fillmode": "overlay",
              "size": 10,
              "solidity": 0.2
             }
            },
            "type": "barpolar"
           }
          ],
          "carpet": [
           {
            "aaxis": {
             "endlinecolor": "#2a3f5f",
             "gridcolor": "white",
             "linecolor": "white",
             "minorgridcolor": "white",
             "startlinecolor": "#2a3f5f"
            },
            "baxis": {
             "endlinecolor": "#2a3f5f",
             "gridcolor": "white",
             "linecolor": "white",
             "minorgridcolor": "white",
             "startlinecolor": "#2a3f5f"
            },
            "type": "carpet"
           }
          ],
          "choropleth": [
           {
            "colorbar": {
             "outlinewidth": 0,
             "ticks": ""
            },
            "type": "choropleth"
           }
          ],
          "contour": [
           {
            "colorbar": {
             "outlinewidth": 0,
             "ticks": ""
            },
            "colorscale": [
             [
              0,
              "#0d0887"
             ],
             [
              0.1111111111111111,
              "#46039f"
             ],
             [
              0.2222222222222222,
              "#7201a8"
             ],
             [
              0.3333333333333333,
              "#9c179e"
             ],
             [
              0.4444444444444444,
              "#bd3786"
             ],
             [
              0.5555555555555556,
              "#d8576b"
             ],
             [
              0.6666666666666666,
              "#ed7953"
             ],
             [
              0.7777777777777778,
              "#fb9f3a"
             ],
             [
              0.8888888888888888,
              "#fdca26"
             ],
             [
              1,
              "#f0f921"
             ]
            ],
            "type": "contour"
           }
          ],
          "contourcarpet": [
           {
            "colorbar": {
             "outlinewidth": 0,
             "ticks": ""
            },
            "type": "contourcarpet"
           }
          ],
          "heatmap": [
           {
            "colorbar": {
             "outlinewidth": 0,
             "ticks": ""
            },
            "colorscale": [
             [
              0,
              "#0d0887"
             ],
             [
              0.1111111111111111,
              "#46039f"
             ],
             [
              0.2222222222222222,
              "#7201a8"
             ],
             [
              0.3333333333333333,
              "#9c179e"
             ],
             [
              0.4444444444444444,
              "#bd3786"
             ],
             [
              0.5555555555555556,
              "#d8576b"
             ],
             [
              0.6666666666666666,
              "#ed7953"
             ],
             [
              0.7777777777777778,
              "#fb9f3a"
             ],
             [
              0.8888888888888888,
              "#fdca26"
             ],
             [
              1,
              "#f0f921"
             ]
            ],
            "type": "heatmap"
           }
          ],
          "histogram": [
           {
            "marker": {
             "pattern": {
              "fillmode": "overlay",
              "size": 10,
              "solidity": 0.2
             }
            },
            "type": "histogram"
           }
          ],
          "histogram2d": [
           {
            "colorbar": {
             "outlinewidth": 0,
             "ticks": ""
            },
            "colorscale": [
             [
              0,
              "#0d0887"
             ],
             [
              0.1111111111111111,
              "#46039f"
             ],
             [
              0.2222222222222222,
              "#7201a8"
             ],
             [
              0.3333333333333333,
              "#9c179e"
             ],
             [
              0.4444444444444444,
              "#bd3786"
             ],
             [
              0.5555555555555556,
              "#d8576b"
             ],
             [
              0.6666666666666666,
              "#ed7953"
             ],
             [
              0.7777777777777778,
              "#fb9f3a"
             ],
             [
              0.8888888888888888,
              "#fdca26"
             ],
             [
              1,
              "#f0f921"
             ]
            ],
            "type": "histogram2d"
           }
          ],
          "histogram2dcontour": [
           {
            "colorbar": {
             "outlinewidth": 0,
             "ticks": ""
            },
            "colorscale": [
             [
              0,
              "#0d0887"
             ],
             [
              0.1111111111111111,
              "#46039f"
             ],
             [
              0.2222222222222222,
              "#7201a8"
             ],
             [
              0.3333333333333333,
              "#9c179e"
             ],
             [
              0.4444444444444444,
              "#bd3786"
             ],
             [
              0.5555555555555556,
              "#d8576b"
             ],
             [
              0.6666666666666666,
              "#ed7953"
             ],
             [
              0.7777777777777778,
              "#fb9f3a"
             ],
             [
              0.8888888888888888,
              "#fdca26"
             ],
             [
              1,
              "#f0f921"
             ]
            ],
            "type": "histogram2dcontour"
           }
          ],
          "mesh3d": [
           {
            "colorbar": {
             "outlinewidth": 0,
             "ticks": ""
            },
            "type": "mesh3d"
           }
          ],
          "parcoords": [
           {
            "line": {
             "colorbar": {
              "outlinewidth": 0,
              "ticks": ""
             }
            },
            "type": "parcoords"
           }
          ],
          "pie": [
           {
            "automargin": true,
            "type": "pie"
           }
          ],
          "scatter": [
           {
            "fillpattern": {
             "fillmode": "overlay",
             "size": 10,
             "solidity": 0.2
            },
            "type": "scatter"
           }
          ],
          "scatter3d": [
           {
            "line": {
             "colorbar": {
              "outlinewidth": 0,
              "ticks": ""
             }
            },
            "marker": {
             "colorbar": {
              "outlinewidth": 0,
              "ticks": ""
             }
            },
            "type": "scatter3d"
           }
          ],
          "scattercarpet": [
           {
            "marker": {
             "colorbar": {
              "outlinewidth": 0,
              "ticks": ""
             }
            },
            "type": "scattercarpet"
           }
          ],
          "scattergeo": [
           {
            "marker": {
             "colorbar": {
              "outlinewidth": 0,
              "ticks": ""
             }
            },
            "type": "scattergeo"
           }
          ],
          "scattergl": [
           {
            "marker": {
             "colorbar": {
              "outlinewidth": 0,
              "ticks": ""
             }
            },
            "type": "scattergl"
           }
          ],
          "scattermap": [
           {
            "marker": {
             "colorbar": {
              "outlinewidth": 0,
              "ticks": ""
             }
            },
            "type": "scattermap"
           }
          ],
          "scattermapbox": [
           {
            "marker": {
             "colorbar": {
              "outlinewidth": 0,
              "ticks": ""
             }
            },
            "type": "scattermapbox"
           }
          ],
          "scatterpolar": [
           {
            "marker": {
             "colorbar": {
              "outlinewidth": 0,
              "ticks": ""
             }
            },
            "type": "scatterpolar"
           }
          ],
          "scatterpolargl": [
           {
            "marker": {
             "colorbar": {
              "outlinewidth": 0,
              "ticks": ""
             }
            },
            "type": "scatterpolargl"
           }
          ],
          "scatterternary": [
           {
            "marker": {
             "colorbar": {
              "outlinewidth": 0,
              "ticks": ""
             }
            },
            "type": "scatterternary"
           }
          ],
          "surface": [
           {
            "colorbar": {
             "outlinewidth": 0,
             "ticks": ""
            },
            "colorscale": [
             [
              0,
              "#0d0887"
             ],
             [
              0.1111111111111111,
              "#46039f"
             ],
             [
              0.2222222222222222,
              "#7201a8"
             ],
             [
              0.3333333333333333,
              "#9c179e"
             ],
             [
              0.4444444444444444,
              "#bd3786"
             ],
             [
              0.5555555555555556,
              "#d8576b"
             ],
             [
              0.6666666666666666,
              "#ed7953"
             ],
             [
              0.7777777777777778,
              "#fb9f3a"
             ],
             [
              0.8888888888888888,
              "#fdca26"
             ],
             [
              1,
              "#f0f921"
             ]
            ],
            "type": "surface"
           }
          ],
          "table": [
           {
            "cells": {
             "fill": {
              "color": "#EBF0F8"
             },
             "line": {
              "color": "white"
             }
            },
            "header": {
             "fill": {
              "color": "#C8D4E3"
             },
             "line": {
              "color": "white"
             }
            },
            "type": "table"
           }
          ]
         },
         "layout": {
          "annotationdefaults": {
           "arrowcolor": "#2a3f5f",
           "arrowhead": 0,
           "arrowwidth": 1
          },
          "autotypenumbers": "strict",
          "coloraxis": {
           "colorbar": {
            "outlinewidth": 0,
            "ticks": ""
           }
          },
          "colorscale": {
           "diverging": [
            [
             0,
             "#8e0152"
            ],
            [
             0.1,
             "#c51b7d"
            ],
            [
             0.2,
             "#de77ae"
            ],
            [
             0.3,
             "#f1b6da"
            ],
            [
             0.4,
             "#fde0ef"
            ],
            [
             0.5,
             "#f7f7f7"
            ],
            [
             0.6,
             "#e6f5d0"
            ],
            [
             0.7,
             "#b8e186"
            ],
            [
             0.8,
             "#7fbc41"
            ],
            [
             0.9,
             "#4d9221"
            ],
            [
             1,
             "#276419"
            ]
           ],
           "sequential": [
            [
             0,
             "#0d0887"
            ],
            [
             0.1111111111111111,
             "#46039f"
            ],
            [
             0.2222222222222222,
             "#7201a8"
            ],
            [
             0.3333333333333333,
             "#9c179e"
            ],
            [
             0.4444444444444444,
             "#bd3786"
            ],
            [
             0.5555555555555556,
             "#d8576b"
            ],
            [
             0.6666666666666666,
             "#ed7953"
            ],
            [
             0.7777777777777778,
             "#fb9f3a"
            ],
            [
             0.8888888888888888,
             "#fdca26"
            ],
            [
             1,
             "#f0f921"
            ]
           ],
           "sequentialminus": [
            [
             0,
             "#0d0887"
            ],
            [
             0.1111111111111111,
             "#46039f"
            ],
            [
             0.2222222222222222,
             "#7201a8"
            ],
            [
             0.3333333333333333,
             "#9c179e"
            ],
            [
             0.4444444444444444,
             "#bd3786"
            ],
            [
             0.5555555555555556,
             "#d8576b"
            ],
            [
             0.6666666666666666,
             "#ed7953"
            ],
            [
             0.7777777777777778,
             "#fb9f3a"
            ],
            [
             0.8888888888888888,
             "#fdca26"
            ],
            [
             1,
             "#f0f921"
            ]
           ]
          },
          "colorway": [
           "#636efa",
           "#EF553B",
           "#00cc96",
           "#ab63fa",
           "#FFA15A",
           "#19d3f3",
           "#FF6692",
           "#B6E880",
           "#FF97FF",
           "#FECB52"
          ],
          "font": {
           "color": "#2a3f5f"
          },
          "geo": {
           "bgcolor": "white",
           "lakecolor": "white",
           "landcolor": "#E5ECF6",
           "showlakes": true,
           "showland": true,
           "subunitcolor": "white"
          },
          "hoverlabel": {
           "align": "left"
          },
          "hovermode": "closest",
          "mapbox": {
           "style": "light"
          },
          "paper_bgcolor": "white",
          "plot_bgcolor": "#E5ECF6",
          "polar": {
           "angularaxis": {
            "gridcolor": "white",
            "linecolor": "white",
            "ticks": ""
           },
           "bgcolor": "#E5ECF6",
           "radialaxis": {
            "gridcolor": "white",
            "linecolor": "white",
            "ticks": ""
           }
          },
          "scene": {
           "xaxis": {
            "backgroundcolor": "#E5ECF6",
            "gridcolor": "white",
            "gridwidth": 2,
            "linecolor": "white",
            "showbackground": true,
            "ticks": "",
            "zerolinecolor": "white"
           },
           "yaxis": {
            "backgroundcolor": "#E5ECF6",
            "gridcolor": "white",
            "gridwidth": 2,
            "linecolor": "white",
            "showbackground": true,
            "ticks": "",
            "zerolinecolor": "white"
           },
           "zaxis": {
            "backgroundcolor": "#E5ECF6",
            "gridcolor": "white",
            "gridwidth": 2,
            "linecolor": "white",
            "showbackground": true,
            "ticks": "",
            "zerolinecolor": "white"
           }
          },
          "shapedefaults": {
           "line": {
            "color": "#2a3f5f"
           }
          },
          "ternary": {
           "aaxis": {
            "gridcolor": "white",
            "linecolor": "white",
            "ticks": ""
           },
           "baxis": {
            "gridcolor": "white",
            "linecolor": "white",
            "ticks": ""
           },
           "bgcolor": "#E5ECF6",
           "caxis": {
            "gridcolor": "white",
            "linecolor": "white",
            "ticks": ""
           }
          },
          "title": {
           "x": 0.05
          },
          "xaxis": {
           "automargin": true,
           "gridcolor": "white",
           "linecolor": "white",
           "ticks": "",
           "title": {
            "standoff": 15
           },
           "zerolinecolor": "white",
           "zerolinewidth": 2
          },
          "yaxis": {
           "automargin": true,
           "gridcolor": "white",
           "linecolor": "white",
           "ticks": "",
           "title": {
            "standoff": 15
           },
           "zerolinecolor": "white",
           "zerolinewidth": 2
          }
         }
        },
        "title": {
         "text": "Points given to our GP Regressor for current carrying wire"
        }
       }
      }
     },
     "metadata": {},
     "output_type": "display_data"
    }
   ],
   "source": [
    "x_samples_wire, y_samples_wire, z_samples_wire, Bx_samples_wire, By_samples_wire, Bz_samples_wire = sample_field(\n",
    "    x_wire, y_wire, z_wire, fields_x_wire, fields_y_wire, fields_z_wire, n_samples=100\n",
    ")\n",
    "plotter.plotter(x_samples_wire, y_samples_wire, z_samples_wire, Bx_samples_wire, By_samples_wire, Bz_samples_wire, \n",
    "                title = 'Points given to our GP Regressor for current carrying wire')"
   ]
  },
  {
   "cell_type": "code",
   "execution_count": 14,
   "metadata": {},
   "outputs": [
    {
     "data": {
      "application/vnd.plotly.v1+json": {
       "config": {
        "plotlyServerURL": "https://plot.ly"
       },
       "data": [
        {
         "anchor": "tail",
         "sizemode": "scaled",
         "sizeref": 2,
         "type": "cone",
         "u": {
          "bdata": "cqNXjIO+McAkaV0PuuoGQJ4BxqmDQzlAZnkYt9U2E8CCmiWYg209wP+Pv4MgEizAhKH4zcUdM8CmSg4hUYgqQDvpATdb8UbAIhmQdvs4Q8ATRGKvEbNIQGhEJ1xzfhJAiF6eySfCM8D5EJRUgaEiwHK23F7dmTZAPuEAdwouBUBwo1eMg74xwL70T7LvOSxA1gyO3FjCJEB4ofjNxR0zQKwduTwiMiNABIxie7cFPcCUss/07yozQG1TI2ol1jtA6/3NwL9nQMB1xjs8NjE5QEzhAHcKLgXAW3UsC2wIPEDvEJRUgaEiwIMHNfXahS5ATOdTT38xPUCbeJHY5l8xQLtohkTnlTVAybj2mUXvMcDvoPtaGJk+wHqKvImNszLAC0WbIN0WE0AlzUGzUd4wQGuPv+rvzy/AiimwwRuoMUD5EJRUgaEiQHOjV4yDvjFASnd6UrEyHsCCrBVbM8s8QO6RsBixFBLAUYiHt3JvRMAeITFcT4ktwK69E2uNlRBA0RIw7PojRsD6a6baDBFEQDZ6zd9LhitAmDLmOzSSMkCIKbDBG6gxwIjdmK9G0zBASehQk4OuMMD4a6baDBFEwBxREqakqjzAS8M0k2ilLMABc1fQ/p40QJSyz/TvKjPAnp0+HbZvJEC799qoI+UUQLMNdR7q7hZAf8RfOWU0QUDc+iOtcXZGQGR1LAtsCDxAZQT62RzJIcCooe44YLsrQIvXgvP9bRfA+L25AMTZPUCoSg4hUYgqwMy49plF7zFALxcjeCy5CUCR14Lz/W0XwDdx9RHCWzXAAGym2gwRRECTss/07yozQCoZkHb7OENAg6wVWzPLPEAVYHhZkwgCwKFKDiFRiCrAZXkYt9U2E0DWEjDs+iNGQABzV9D+njTA85XA+UeqJ8A66QE3W/FGwIGKvImNszLA26D7WhiZPkCdra7EuHlFQLn0T7LvOSzA8j5M3r6fFcBn/eDFy9M3wDhx9RHCWzVAS8M0k2ilLEBCes3fS4YrwPxViYIr5zVApqHuOGC7K0CHbg1gY3M0wPLG4E2ZSTFAFmB4WZMIAkA=",
          "dtype": "f8"
         },
         "v": {
          "bdata": "bqNXjIO+McD3u3HNYg00QAiQv4MgEizAWXkYt9U2E8CCKbDBG6gxwKABxqmDQznAhsRfOWU0QcDn6IubQxw2QKjhV0kkly7AOnH1EcJbNUDOynN/gfQVwIFEJ1xzfhJAtvRPsu85LMA8HEziLA0vwNeRsBixFBJAZv3gxcvTN8Bqo1eMg74xQIJensknwjPAyKK2ZLuwKkCCxF85ZTRBwIGsFVszyzxAtL0Ta42VEECGdI0/8m0gQPIi1REg3CdA6/3NwL9nQMBesip0lP4xQHX94MXL0zfAZCIGXqnNNUA8HEziLA0vwJgHNfXahS5AS4iHt3JvRMD+GWI1JdIowJ0QKhZ9gCLAxumDx2ntI8CHq99QwDILwK7m5DpBKz9Ama2uxLh5RUAozUGzUd4wwIBuDWBjczRAjZolmINtPcA8HEziLA0vQG6jV4yDvjFAYHd6UrEyHkC2Hbk8IjIjQGW23F7dmTZAVedTT38xPcAlITFcT4ktQAGMYnu3BT1ASllyykT6MsCNDXUe6u4WQCh6zd9LhitAAqo47XKiJMCMmiWYg209QFcnIeoIbxZAUmTeK0R2Q8CPDXUe6u4WwCRREqakqjxAVcM0k2ilLEDPSieeR4M6QIZ0jT/ybSDAsHxTfJ0/C0CEc0h9tVcvwP5rptoMEURAdqH4zcUdM0D9sE2h76sZQGgiBl6pzTXAqlxLa4WkLUBcFp/Q6nwSwG6NY3B9ST1AczEummnhF0DU6IubQxw2QMfpg8dp7SPAhO4Vy7sTMMBvjWNwfUk9wCAZkHb7OENAvQ11HuruFkCFdI0/8m0gwEBx9RHCWzVApR25PCIyI8AVkDQG3QwbwNzoi5tDHDZAYXkYt9U2E8BHWXLKRPoywM1KJ55HgzrA9ZXA+UeqJ0Cf4VdJJJcuwM/m5DpBKz/AoKvfUMAyC8D0RJsg3RYTwIhensknwjPA8z5M3r6fFUBB4QB3Ci4FQCAZkHb7OEPAVcM0k2ilLMAtes3fS4YrQM2GwbkxCAnAZhaf0Op8EkB/j7/q788vwPDG4E2ZSTHAFJA0Bt0MG8A=",
          "dtype": "f8"
         },
         "w": {
          "bdata": "e+UkaBofJcCKLaa2mWY7QKXST+d7NC5A0OV5+v8lWUCypk9/pS5QQKnST+d7NC5A8zt+MR1iLkA4L/11xaNGQBmj8I5SJTtA2bP8mV/+J0CLdCNiHiBCQGA62W6OX01AQbLw4T+XS0A/vx+DJi1AQNOXJPn5fEhAXVKI5KO+RECB5SRoGh8lwEKy8OE/l0tAJ+IEVgcuJ8AFPH4xHWIuQBfB5Ye3dDRAKfamwA3WQkD748IQVQ05QMKx9WmJ9EBAC+meE5IFM0BgbqZY7cc6QFtSiOSjvkRAOQFLP2tzBMBGvx+DJi1AQOByLSFougtAL5rGHB4OR0BnP4rWlbA0QM5PmQRX61RAlOK8yhsCK0AnCPpX0oA3QOYZah0H31ZANUWYcfd6PUCh5NvLE9xYQFmhduUKyiFAsKZPf6UuUEA/vx+DJi1AQH3lJGgaHyXAJz0QCFIJXkAPweWHt3Q0QNWXJPn5fEhANZrGHB4OR0CwuSYXzDQuQC32psAN1kJAMyVH98elUECtlkImV7ZKQHgH0ADwP0pAl7BqW1wuH0Cupk9/pS5QQF0EyiFuM1NAzopjpLmnR0CplkImV7ZKQKiWQiZXtkpAji2mtplmO0Cexs/+1yMWQPvjwhBVDTlADHp5v2YGREA8LJwWTC5ZQK2WQiZXtkpA+Tt+MR1iLkCfDgDb8gxTQGkBSz9rcwTAcAK4XfXQXEAAzxK+b+NLQMwf4r9EYlFAL4rTTPoaWEA7L/11xaNGQJnivMobAitArv7Mg5V0QUDPH+K/RGJRQMmz/Jlf/idAo5ZCJle2SkD748IQVQ05QNuz/Jlf/idAE8Hlh7d0NEAOE5Ohi6BdQD4v/XXFo0ZAyuV5+v8lWUA3JUf3x6VQQKrGz/7XIxZA0yifUWUsFkAZo/COUiU7QOsZah0H31ZAIAj6V9KAN0A4RZhx93o9QEOy8OE/l0tAR0VbFWHLU0BdUojko75EQMyz/Jlf/idAji2mtplmO0B0B9AA8D9KQLi8ylX7MVhAB88Svm/jS0BeoXblCsohQHDkMXVzZVJAChOToYugXUA=",
          "dtype": "f8"
         },
         "x": {
          "bdata": "AAAAAAAA4D8gx3Ecx3GsPwAAAAAAAOA/IMdxHMdxrD9wHMdxHMfRP3Acx3Ecx9E/chzHcRzH0b9WVVVVVVXFvwAAAAAAAOC/AAAAAAAA4L8AAAAAAADgPyDHcRzHcaw/OI7jOI7j2D9WVVVVVVXFv3Acx3Ecx9E/IMdxHMdxrD8AAAAAAADgv3Acx3Ecx9E/OY7jOI7j2L9wHMdxHMfRP1ZVVVVVVcW/OI7jOI7j2D85juM4juPYvzmO4ziO49i/OI7jOI7j2D84juM4juPYPyDHcRzHcay/AAAAAAAA4L9UVVVVVVXFPwAAAAAAAOC/chzHcRzH0b85juM4juPYvzmO4ziO49i/AAAAAAAA4D8AAAAAAADgv1ZVVVVVVcW/IMdxHMdxrD9UVVVVVVXFPzmO4ziO49i/VFVVVVVVxT9WVVVVVVXFvwAAAAAAAOA/VlVVVVVVxb8AAAAAAADgPyDHcRzHcaw/OI7jOI7j2D85juM4juPYvyDHcRzHcay/OY7jOI7j2L84juM4juPYP1ZVVVVVVcW/AAAAAAAA4D9UVVVVVVXFP1ZVVVVVVcW/VFVVVVVVxT84juM4juPYP3Acx3Ecx9E/cBzHcRzH0T84juM4juPYPzmO4ziO49i/VFVVVVVVxT8gx3Ecx3GsvyDHcRzHcay/AAAAAAAA4L85juM4juPYvwAAAAAAAOA/VFVVVVVVxT9WVVVVVVXFvyDHcRzHcaw/cBzHcRzH0T9WVVVVVVXFvwAAAAAAAOA/IMdxHMdxrL8gx3Ecx3Gsv3Icx3Ecx9G/OY7jOI7j2L84juM4juPYPwAAAAAAAOA/AAAAAAAA4L8gx3Ecx3GsP1RVVVVVVcU/IMdxHMdxrD84juM4juPYPziO4ziO49g/AAAAAAAA4L8AAAAAAADgP1ZVVVVVVcW/AAAAAAAA4L8AAAAAAADgP3Acx3Ecx9E/IMdxHMdxrD8AAAAAAADgP3Icx3Ecx9G/cBzHcRzH0T9WVVVVVVXFvziO4ziO49g/VFVVVVVVxT8AAAAAAADgv1RVVVVVVcU/IMdxHMdxrL8=",
          "dtype": "f8"
         },
         "y": {
          "bdata": "AAAAAAAA4D84juM4juPYP3Icx3Ecx9G/IMdxHMdxrD9UVVVVVVXFPwAAAAAAAOA/AAAAAAAA4L9yHMdxHMfRv1ZVVVVVVcW/cBzHcRzH0T8gx3Ecx3GsvyDHcRzHcaw/cBzHcRzH0T9yHMdxHMfRvyDHcRzHcaw/AAAAAAAA4L8AAAAAAADgPzmO4ziO49i/AAAAAAAA4L8AAAAAAADgvwAAAAAAAOC/IMdxHMdxrL9WVVVVVVXFv1ZVVVVVVcW/OI7jOI7j2D9wHMdxHMfRPwAAAAAAAOC/OY7jOI7j2L9wHMdxHMfRPwAAAAAAAOC/OI7jOI7j2D9wHMdxHMfRP1RVVVVVVcU/cBzHcRzH0T8gx3Ecx3Gsv3Acx3Ecx9E/AAAAAAAA4D9WVVVVVVXFvwAAAAAAAOA/chzHcRzH0b9yHMdxHMfRvwAAAAAAAOA/VFVVVVVVxT9UVVVVVVXFP3Icx3Ecx9G/cBzHcRzH0T84juM4juPYPzmO4ziO49i/VlVVVVVVxb8gx3Ecx3GsP1ZVVVVVVcW/chzHcRzH0b9yHMdxHMfRvyDHcRzHcay/OI7jOI7j2D8gx3Ecx3GsP3Icx3Ecx9G/chzHcRzH0b8AAAAAAADgP1ZVVVVVVcW/IMdxHMdxrD9UVVVVVVXFPzmO4ziO49i/chzHcRzH0b8gx3Ecx3GsvzmO4ziO49i/chzHcRzH0b8gx3Ecx3GsP3Icx3Ecx9G/IMdxHMdxrD9wHMdxHMfRP3Icx3Ecx9G/cBzHcRzH0T9yHMdxHMfRvwAAAAAAAOA/IMdxHMdxrL9WVVVVVVXFv3Acx3Ecx9E/VFVVVVVVxT9UVVVVVVXFP3Icx3Ecx9G/IMdxHMdxrL9WVVVVVVXFvwAAAAAAAOA/AAAAAAAA4D9UVVVVVVXFP3Icx3Ecx9G/IMdxHMdxrD8gx3Ecx3GsvziO4ziO49g/IMdxHMdxrL8gx3Ecx3GsvwAAAAAAAOA/chzHcRzH0b9UVVVVVVXFPyDHcRzHcay/IMdxHMdxrD85juM4juPYv1ZVVVVVVcW/VFVVVVVVxT8=",
          "dtype": "f8"
         },
         "z": {
          "bdata": "VlVVVVVVxb8AAAAAAADgPziO4ziO49g/VlVVVVVVxb9yHMdxHMfRvzmO4ziO49i/cBzHcRzH0T85juM4juPYv1RVVVVVVcU/VFVVVVVVxT9UVVVVVVXFPziO4ziO49g/IMdxHMdxrL8AAAAAAADgPziO4ziO49g/IMdxHMdxrD9UVVVVVVXFPyDHcRzHcaw/IMdxHMdxrL9wHMdxHMfRPzmO4ziO49i/OY7jOI7j2L8AAAAAAADgvzmO4ziO49i/VlVVVVVVxb84juM4juPYPyDHcRzHcaw/VlVVVVVVxb8AAAAAAADgvzmO4ziO49i/VlVVVVVVxb8AAAAAAADgvyDHcRzHcay/AAAAAAAA4L84juM4juPYP1RVVVVVVcU/cBzHcRzH0T9UVVVVVVXFPziO4ziO49g/cBzHcRzH0T8AAAAAAADgv1RVVVVVVcU/IMdxHMdxrD84juM4juPYPzmO4ziO49i/VlVVVVVVxb8AAAAAAADgPzmO4ziO49i/VFVVVVVVxT9wHMdxHMfRPzmO4ziO49i/IMdxHMdxrD9yHMdxHMfRv3Icx3Ecx9G/chzHcRzH0b9yHMdxHMfRv3Icx3Ecx9G/AAAAAAAA4L9wHMdxHMfRPwAAAAAAAOA/AAAAAAAA4D9WVVVVVVXFv3Icx3Ecx9G/chzHcRzH0b9WVVVVVVXFv1RVVVVVVcU/IMdxHMdxrL85juM4juPYv3Icx3Ecx9G/VFVVVVVVxT84juM4juPYPwAAAAAAAOA/AAAAAAAA4L9wHMdxHMfRP1RVVVVVVcU/chzHcRzH0b8AAAAAAADgP1RVVVVVVcU/OY7jOI7j2L8gx3Ecx3GsvzmO4ziO49i/VFVVVVVVxT9UVVVVVVXFP3Icx3Ecx9G/AAAAAAAA4D9WVVVVVVXFv1RVVVVVVcU/OY7jOI7j2L9wHMdxHMfRPyDHcRzHcay/chzHcRzH0b8gx3Ecx3Gsv1ZVVVVVVcW/AAAAAAAA4D84juM4juPYPyDHcRzHcaw/OI7jOI7j2D84juM4juPYP3Acx3Ecx9E/IMdxHMdxrL8=",
          "dtype": "f8"
         }
        }
       ],
       "layout": {
        "scene": {
         "xaxis": {
          "title": {
           "text": "X"
          }
         },
         "yaxis": {
          "title": {
           "text": "Y"
          }
         },
         "zaxis": {
          "title": {
           "text": "Z"
          }
         }
        },
        "template": {
         "data": {
          "bar": [
           {
            "error_x": {
             "color": "#2a3f5f"
            },
            "error_y": {
             "color": "#2a3f5f"
            },
            "marker": {
             "line": {
              "color": "#E5ECF6",
              "width": 0.5
             },
             "pattern": {
              "fillmode": "overlay",
              "size": 10,
              "solidity": 0.2
             }
            },
            "type": "bar"
           }
          ],
          "barpolar": [
           {
            "marker": {
             "line": {
              "color": "#E5ECF6",
              "width": 0.5
             },
             "pattern": {
              "fillmode": "overlay",
              "size": 10,
              "solidity": 0.2
             }
            },
            "type": "barpolar"
           }
          ],
          "carpet": [
           {
            "aaxis": {
             "endlinecolor": "#2a3f5f",
             "gridcolor": "white",
             "linecolor": "white",
             "minorgridcolor": "white",
             "startlinecolor": "#2a3f5f"
            },
            "baxis": {
             "endlinecolor": "#2a3f5f",
             "gridcolor": "white",
             "linecolor": "white",
             "minorgridcolor": "white",
             "startlinecolor": "#2a3f5f"
            },
            "type": "carpet"
           }
          ],
          "choropleth": [
           {
            "colorbar": {
             "outlinewidth": 0,
             "ticks": ""
            },
            "type": "choropleth"
           }
          ],
          "contour": [
           {
            "colorbar": {
             "outlinewidth": 0,
             "ticks": ""
            },
            "colorscale": [
             [
              0,
              "#0d0887"
             ],
             [
              0.1111111111111111,
              "#46039f"
             ],
             [
              0.2222222222222222,
              "#7201a8"
             ],
             [
              0.3333333333333333,
              "#9c179e"
             ],
             [
              0.4444444444444444,
              "#bd3786"
             ],
             [
              0.5555555555555556,
              "#d8576b"
             ],
             [
              0.6666666666666666,
              "#ed7953"
             ],
             [
              0.7777777777777778,
              "#fb9f3a"
             ],
             [
              0.8888888888888888,
              "#fdca26"
             ],
             [
              1,
              "#f0f921"
             ]
            ],
            "type": "contour"
           }
          ],
          "contourcarpet": [
           {
            "colorbar": {
             "outlinewidth": 0,
             "ticks": ""
            },
            "type": "contourcarpet"
           }
          ],
          "heatmap": [
           {
            "colorbar": {
             "outlinewidth": 0,
             "ticks": ""
            },
            "colorscale": [
             [
              0,
              "#0d0887"
             ],
             [
              0.1111111111111111,
              "#46039f"
             ],
             [
              0.2222222222222222,
              "#7201a8"
             ],
             [
              0.3333333333333333,
              "#9c179e"
             ],
             [
              0.4444444444444444,
              "#bd3786"
             ],
             [
              0.5555555555555556,
              "#d8576b"
             ],
             [
              0.6666666666666666,
              "#ed7953"
             ],
             [
              0.7777777777777778,
              "#fb9f3a"
             ],
             [
              0.8888888888888888,
              "#fdca26"
             ],
             [
              1,
              "#f0f921"
             ]
            ],
            "type": "heatmap"
           }
          ],
          "histogram": [
           {
            "marker": {
             "pattern": {
              "fillmode": "overlay",
              "size": 10,
              "solidity": 0.2
             }
            },
            "type": "histogram"
           }
          ],
          "histogram2d": [
           {
            "colorbar": {
             "outlinewidth": 0,
             "ticks": ""
            },
            "colorscale": [
             [
              0,
              "#0d0887"
             ],
             [
              0.1111111111111111,
              "#46039f"
             ],
             [
              0.2222222222222222,
              "#7201a8"
             ],
             [
              0.3333333333333333,
              "#9c179e"
             ],
             [
              0.4444444444444444,
              "#bd3786"
             ],
             [
              0.5555555555555556,
              "#d8576b"
             ],
             [
              0.6666666666666666,
              "#ed7953"
             ],
             [
              0.7777777777777778,
              "#fb9f3a"
             ],
             [
              0.8888888888888888,
              "#fdca26"
             ],
             [
              1,
              "#f0f921"
             ]
            ],
            "type": "histogram2d"
           }
          ],
          "histogram2dcontour": [
           {
            "colorbar": {
             "outlinewidth": 0,
             "ticks": ""
            },
            "colorscale": [
             [
              0,
              "#0d0887"
             ],
             [
              0.1111111111111111,
              "#46039f"
             ],
             [
              0.2222222222222222,
              "#7201a8"
             ],
             [
              0.3333333333333333,
              "#9c179e"
             ],
             [
              0.4444444444444444,
              "#bd3786"
             ],
             [
              0.5555555555555556,
              "#d8576b"
             ],
             [
              0.6666666666666666,
              "#ed7953"
             ],
             [
              0.7777777777777778,
              "#fb9f3a"
             ],
             [
              0.8888888888888888,
              "#fdca26"
             ],
             [
              1,
              "#f0f921"
             ]
            ],
            "type": "histogram2dcontour"
           }
          ],
          "mesh3d": [
           {
            "colorbar": {
             "outlinewidth": 0,
             "ticks": ""
            },
            "type": "mesh3d"
           }
          ],
          "parcoords": [
           {
            "line": {
             "colorbar": {
              "outlinewidth": 0,
              "ticks": ""
             }
            },
            "type": "parcoords"
           }
          ],
          "pie": [
           {
            "automargin": true,
            "type": "pie"
           }
          ],
          "scatter": [
           {
            "fillpattern": {
             "fillmode": "overlay",
             "size": 10,
             "solidity": 0.2
            },
            "type": "scatter"
           }
          ],
          "scatter3d": [
           {
            "line": {
             "colorbar": {
              "outlinewidth": 0,
              "ticks": ""
             }
            },
            "marker": {
             "colorbar": {
              "outlinewidth": 0,
              "ticks": ""
             }
            },
            "type": "scatter3d"
           }
          ],
          "scattercarpet": [
           {
            "marker": {
             "colorbar": {
              "outlinewidth": 0,
              "ticks": ""
             }
            },
            "type": "scattercarpet"
           }
          ],
          "scattergeo": [
           {
            "marker": {
             "colorbar": {
              "outlinewidth": 0,
              "ticks": ""
             }
            },
            "type": "scattergeo"
           }
          ],
          "scattergl": [
           {
            "marker": {
             "colorbar": {
              "outlinewidth": 0,
              "ticks": ""
             }
            },
            "type": "scattergl"
           }
          ],
          "scattermap": [
           {
            "marker": {
             "colorbar": {
              "outlinewidth": 0,
              "ticks": ""
             }
            },
            "type": "scattermap"
           }
          ],
          "scattermapbox": [
           {
            "marker": {
             "colorbar": {
              "outlinewidth": 0,
              "ticks": ""
             }
            },
            "type": "scattermapbox"
           }
          ],
          "scatterpolar": [
           {
            "marker": {
             "colorbar": {
              "outlinewidth": 0,
              "ticks": ""
             }
            },
            "type": "scatterpolar"
           }
          ],
          "scatterpolargl": [
           {
            "marker": {
             "colorbar": {
              "outlinewidth": 0,
              "ticks": ""
             }
            },
            "type": "scatterpolargl"
           }
          ],
          "scatterternary": [
           {
            "marker": {
             "colorbar": {
              "outlinewidth": 0,
              "ticks": ""
             }
            },
            "type": "scatterternary"
           }
          ],
          "surface": [
           {
            "colorbar": {
             "outlinewidth": 0,
             "ticks": ""
            },
            "colorscale": [
             [
              0,
              "#0d0887"
             ],
             [
              0.1111111111111111,
              "#46039f"
             ],
             [
              0.2222222222222222,
              "#7201a8"
             ],
             [
              0.3333333333333333,
              "#9c179e"
             ],
             [
              0.4444444444444444,
              "#bd3786"
             ],
             [
              0.5555555555555556,
              "#d8576b"
             ],
             [
              0.6666666666666666,
              "#ed7953"
             ],
             [
              0.7777777777777778,
              "#fb9f3a"
             ],
             [
              0.8888888888888888,
              "#fdca26"
             ],
             [
              1,
              "#f0f921"
             ]
            ],
            "type": "surface"
           }
          ],
          "table": [
           {
            "cells": {
             "fill": {
              "color": "#EBF0F8"
             },
             "line": {
              "color": "white"
             }
            },
            "header": {
             "fill": {
              "color": "#C8D4E3"
             },
             "line": {
              "color": "white"
             }
            },
            "type": "table"
           }
          ]
         },
         "layout": {
          "annotationdefaults": {
           "arrowcolor": "#2a3f5f",
           "arrowhead": 0,
           "arrowwidth": 1
          },
          "autotypenumbers": "strict",
          "coloraxis": {
           "colorbar": {
            "outlinewidth": 0,
            "ticks": ""
           }
          },
          "colorscale": {
           "diverging": [
            [
             0,
             "#8e0152"
            ],
            [
             0.1,
             "#c51b7d"
            ],
            [
             0.2,
             "#de77ae"
            ],
            [
             0.3,
             "#f1b6da"
            ],
            [
             0.4,
             "#fde0ef"
            ],
            [
             0.5,
             "#f7f7f7"
            ],
            [
             0.6,
             "#e6f5d0"
            ],
            [
             0.7,
             "#b8e186"
            ],
            [
             0.8,
             "#7fbc41"
            ],
            [
             0.9,
             "#4d9221"
            ],
            [
             1,
             "#276419"
            ]
           ],
           "sequential": [
            [
             0,
             "#0d0887"
            ],
            [
             0.1111111111111111,
             "#46039f"
            ],
            [
             0.2222222222222222,
             "#7201a8"
            ],
            [
             0.3333333333333333,
             "#9c179e"
            ],
            [
             0.4444444444444444,
             "#bd3786"
            ],
            [
             0.5555555555555556,
             "#d8576b"
            ],
            [
             0.6666666666666666,
             "#ed7953"
            ],
            [
             0.7777777777777778,
             "#fb9f3a"
            ],
            [
             0.8888888888888888,
             "#fdca26"
            ],
            [
             1,
             "#f0f921"
            ]
           ],
           "sequentialminus": [
            [
             0,
             "#0d0887"
            ],
            [
             0.1111111111111111,
             "#46039f"
            ],
            [
             0.2222222222222222,
             "#7201a8"
            ],
            [
             0.3333333333333333,
             "#9c179e"
            ],
            [
             0.4444444444444444,
             "#bd3786"
            ],
            [
             0.5555555555555556,
             "#d8576b"
            ],
            [
             0.6666666666666666,
             "#ed7953"
            ],
            [
             0.7777777777777778,
             "#fb9f3a"
            ],
            [
             0.8888888888888888,
             "#fdca26"
            ],
            [
             1,
             "#f0f921"
            ]
           ]
          },
          "colorway": [
           "#636efa",
           "#EF553B",
           "#00cc96",
           "#ab63fa",
           "#FFA15A",
           "#19d3f3",
           "#FF6692",
           "#B6E880",
           "#FF97FF",
           "#FECB52"
          ],
          "font": {
           "color": "#2a3f5f"
          },
          "geo": {
           "bgcolor": "white",
           "lakecolor": "white",
           "landcolor": "#E5ECF6",
           "showlakes": true,
           "showland": true,
           "subunitcolor": "white"
          },
          "hoverlabel": {
           "align": "left"
          },
          "hovermode": "closest",
          "mapbox": {
           "style": "light"
          },
          "paper_bgcolor": "white",
          "plot_bgcolor": "#E5ECF6",
          "polar": {
           "angularaxis": {
            "gridcolor": "white",
            "linecolor": "white",
            "ticks": ""
           },
           "bgcolor": "#E5ECF6",
           "radialaxis": {
            "gridcolor": "white",
            "linecolor": "white",
            "ticks": ""
           }
          },
          "scene": {
           "xaxis": {
            "backgroundcolor": "#E5ECF6",
            "gridcolor": "white",
            "gridwidth": 2,
            "linecolor": "white",
            "showbackground": true,
            "ticks": "",
            "zerolinecolor": "white"
           },
           "yaxis": {
            "backgroundcolor": "#E5ECF6",
            "gridcolor": "white",
            "gridwidth": 2,
            "linecolor": "white",
            "showbackground": true,
            "ticks": "",
            "zerolinecolor": "white"
           },
           "zaxis": {
            "backgroundcolor": "#E5ECF6",
            "gridcolor": "white",
            "gridwidth": 2,
            "linecolor": "white",
            "showbackground": true,
            "ticks": "",
            "zerolinecolor": "white"
           }
          },
          "shapedefaults": {
           "line": {
            "color": "#2a3f5f"
           }
          },
          "ternary": {
           "aaxis": {
            "gridcolor": "white",
            "linecolor": "white",
            "ticks": ""
           },
           "baxis": {
            "gridcolor": "white",
            "linecolor": "white",
            "ticks": ""
           },
           "bgcolor": "#E5ECF6",
           "caxis": {
            "gridcolor": "white",
            "linecolor": "white",
            "ticks": ""
           }
          },
          "title": {
           "x": 0.05
          },
          "xaxis": {
           "automargin": true,
           "gridcolor": "white",
           "linecolor": "white",
           "ticks": "",
           "title": {
            "standoff": 15
           },
           "zerolinecolor": "white",
           "zerolinewidth": 2
          },
          "yaxis": {
           "automargin": true,
           "gridcolor": "white",
           "linecolor": "white",
           "ticks": "",
           "title": {
            "standoff": 15
           },
           "zerolinecolor": "white",
           "zerolinewidth": 2
          }
         }
        },
        "title": {
         "text": "Points given to our GP Regressor for current carrying loop"
        }
       }
      }
     },
     "metadata": {},
     "output_type": "display_data"
    }
   ],
   "source": [
    "x_samples_coil, y_samples_coil, z_samples_coil, Bx_samples_coil, By_samples_coil, Bz_samples_coil = sample_field(\n",
    "    x_coil, y_coil, z_coil, fields_x_coil, fields_y_coil, fields_z_coil, n_samples=100\n",
    ")\n",
    "plotter.plotter(x_samples_coil, y_samples_coil, z_samples_coil, Bx_samples_coil, By_samples_coil, Bz_samples_coil, \n",
    "                title = 'Points given to our GP Regressor for current carrying loop')"
   ]
  },
  {
   "cell_type": "markdown",
   "metadata": {},
   "source": [
    "### Performing Updates"
   ]
  },
  {
   "cell_type": "markdown",
   "metadata": {},
   "source": [
    "Next, we plug these points into the updater and see what happens "
   ]
  },
  {
   "cell_type": "code",
   "execution_count": 15,
   "metadata": {},
   "outputs": [],
   "source": [
    "from GP_Implementation.Kernel import updated_vector_field"
   ]
  },
  {
   "cell_type": "markdown",
   "metadata": {},
   "source": [
    "#### Divergence free"
   ]
  },
  {
   "cell_type": "code",
   "execution_count": 16,
   "metadata": {},
   "outputs": [
    {
     "name": "stdout",
     "output_type": "stream",
     "text": [
      "Parameters for sigma_f and l specified, using these.\n"
     ]
    }
   ],
   "source": [
    "outputs_wire_div_free= updated_vector_field(\n",
    "    x_samples_wire, y_samples_wire, z_samples_wire, \n",
    "    Bx_samples_wire, By_samples_wire, Bz_samples_wire, \n",
    "    x_wire, y_wire, z_wire, \n",
    "    kernel_func='divergence_free_kernel', \n",
    "    sigma_f =  0.1, l = 1.2323)\n",
    "\n",
    "# unpack outputs \n",
    "updated_x_samples_wire_div_free =  outputs_wire_div_free[0]\n",
    "updated_y_samples_wire_div_free =  outputs_wire_div_free[1]\n",
    "updated_z_samples_wire_div_free =  outputs_wire_div_free[2]\n",
    "updated_Bx_samples_wire_div_free = outputs_wire_div_free[3]\n",
    "updated_By_samples_wire_div_free = outputs_wire_div_free[4]\n",
    "updated_Bz_samples_wire_div_free = outputs_wire_div_free[5]\n",
    "\n",
    "# from giving the code a large number of samples, the optimum \n",
    "# parameters seem to be about: sigma_f = 0.1, l = 1.2323 (this is from mle and it works poorly)\n",
    "# sigma_f = 0.005, l = 0.8 seem to work okay "
   ]
  },
  {
   "cell_type": "code",
   "execution_count": 17,
   "metadata": {},
   "outputs": [
    {
     "data": {
      "application/vnd.plotly.v1+json": {
       "config": {
        "plotlyServerURL": "https://plot.ly"
       },
       "data": [
        {
         "anchor": "tail",
         "sizemode": "scaled",
         "sizeref": 2,
         "type": "cone",
         "u": {
          "bdata": "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",
          "dtype": "f8"
         },
         "v": {
          "bdata": "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",
          "dtype": "f8"
         },
         "w": {
          "bdata": "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",
          "dtype": "f8"
         },
         "x": {
          "bdata": "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",
          "dtype": "f8"
         },
         "y": {
          "bdata": "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",
          "dtype": "f8"
         },
         "z": {
          "bdata": "AAAAAAAA4L85juM4juPYv3Icx3Ecx9G/VlVVVVVVxb8gx3Ecx3GsvyDHcRzHcaw/VFVVVVVVxT9wHMdxHMfRPziO4ziO49g/AAAAAAAA4D8AAAAAAADgvzmO4ziO49i/chzHcRzH0b9WVVVVVVXFvyDHcRzHcay/IMdxHMdxrD9UVVVVVVXFP3Acx3Ecx9E/OI7jOI7j2D8AAAAAAADgPwAAAAAAAOC/OY7jOI7j2L9yHMdxHMfRv1ZVVVVVVcW/IMdxHMdxrL8gx3Ecx3GsP1RVVVVVVcU/cBzHcRzH0T84juM4juPYPwAAAAAAAOA/AAAAAAAA4L85juM4juPYv3Icx3Ecx9G/VlVVVVVVxb8gx3Ecx3GsvyDHcRzHcaw/VFVVVVVVxT9wHMdxHMfRPziO4ziO49g/AAAAAAAA4D8AAAAAAADgvzmO4ziO49i/chzHcRzH0b9WVVVVVVXFvyDHcRzHcay/IMdxHMdxrD9UVVVVVVXFP3Acx3Ecx9E/OI7jOI7j2D8AAAAAAADgPwAAAAAAAOC/OY7jOI7j2L9yHMdxHMfRv1ZVVVVVVcW/IMdxHMdxrL8gx3Ecx3GsP1RVVVVVVcU/cBzHcRzH0T84juM4juPYPwAAAAAAAOA/AAAAAAAA4L85juM4juPYv3Icx3Ecx9G/VlVVVVVVxb8gx3Ecx3GsvyDHcRzHcaw/VFVVVVVVxT9wHMdxHMfRPziO4ziO49g/AAAAAAAA4D8AAAAAAADgvzmO4ziO49i/chzHcRzH0b9WVVVVVVXFvyDHcRzHcay/IMdxHMdxrD9UVVVVVVXFP3Acx3Ecx9E/OI7jOI7j2D8AAAAAAADgPwAAAAAAAOC/OY7jOI7j2L9yHMdxHMfRv1ZVVVVVVcW/IMdxHMdxrL8gx3Ecx3GsP1RVVVVVVcU/cBzHcRzH0T84juM4juPYPwAAAAAAAOA/AAAAAAAA4L85juM4juPYv3Icx3Ecx9G/VlVVVVVVxb8gx3Ecx3GsvyDHcRzHcaw/VFVVVVVVxT9wHMdxHMfRPziO4ziO49g/AAAAAAAA4D8AAAAAAADgvzmO4ziO49i/chzHcRzH0b9WVVVVVVXFvyDHcRzHcay/IMdxHMdxrD9UVVVVVVXFP3Acx3Ecx9E/OI7jOI7j2D8AAAAAAADgPwAAAAAAAOC/OY7jOI7j2L9yHMdxHMfRv1ZVVVVVVcW/IMdxHMdxrL8gx3Ecx3GsP1RVVVVVVcU/cBzHcRzH0T84juM4juPYPwAAAAAAAOA/AAAAAAAA4L85juM4juPYv3Icx3Ecx9G/VlVVVVVVxb8gx3Ecx3GsvyDHcRzHcaw/VFVVVVVVxT9wHMdxHMfRPziO4ziO49g/AAAAAAAA4D8AAAAAAADgvzmO4ziO49i/chzHcRzH0b9WVVVVVVXFvyDHcRzHcay/IMdxHMdxrD9UVVVVVVXFP3Acx3Ecx9E/OI7jOI7j2D8AAAAAAADgPwAAAAAAAOC/OY7jOI7j2L9yHMdxHMfRv1ZVVVVVVcW/IMdxHMdxrL8gx3Ecx3GsP1RVVVVVVcU/cBzHcRzH0T84juM4juPYPwAAAAAAAOA/AAAAAAAA4L85juM4juPYv3Icx3Ecx9G/VlVVVVVVxb8gx3Ecx3GsvyDHcRzHcaw/VFVVVVVVxT9wHMdxHMfRPziO4ziO49g/AAAAAAAA4D8AAAAAAADgvzmO4ziO49i/chzHcRzH0b9WVVVVVVXFvyDHcRzHcay/IMdxHMdxrD9UVVVVVVXFP3Acx3Ecx9E/OI7jOI7j2D8AAAAAAADgPwAAAAAAAOC/OY7jOI7j2L9yHMdxHMfRv1ZVVVVVVcW/IMdxHMdxrL8gx3Ecx3GsP1RVVVVVVcU/cBzHcRzH0T84juM4juPYPwAAAAAAAOA/AAAAAAAA4L85juM4juPYv3Icx3Ecx9G/VlVVVVVVxb8gx3Ecx3GsvyDHcRzHcaw/VFVVVVVVxT9wHMdxHMfRPziO4ziO49g/AAAAAAAA4D8AAAAAAADgvzmO4ziO49i/chzHcRzH0b9WVVVVVVXFvyDHcRzHcay/IMdxHMdxrD9UVVVVVVXFP3Acx3Ecx9E/OI7jOI7j2D8AAAAAAADgPwAAAAAAAOC/OY7jOI7j2L9yHMdxHMfRv1ZVVVVVVcW/IMdxHMdxrL8gx3Ecx3GsP1RVVVVVVcU/cBzHcRzH0T84juM4juPYPwAAAAAAAOA/AAAAAAAA4L85juM4juPYv3Icx3Ecx9G/VlVVVVVVxb8gx3Ecx3GsvyDHcRzHcaw/VFVVVVVVxT9wHMdxHMfRPziO4ziO49g/AAAAAAAA4D8AAAAAAADgvzmO4ziO49i/chzHcRzH0b9WVVVVVVXFvyDHcRzHcay/IMdxHMdxrD9UVVVVVVXFP3Acx3Ecx9E/OI7jOI7j2D8AAAAAAADgPwAAAAAAAOC/OY7jOI7j2L9yHMdxHMfRv1ZVVVVVVcW/IMdxHMdxrL8gx3Ecx3GsP1RVVVVVVcU/cBzHcRzH0T84juM4juPYPwAAAAAAAOA/AAAAAAAA4L85juM4juPYv3Icx3Ecx9G/VlVVVVVVxb8gx3Ecx3GsvyDHcRzHcaw/VFVVVVVVxT9wHMdxHMfRPziO4ziO49g/AAAAAAAA4D8AAAAAAADgvzmO4ziO49i/chzHcRzH0b9WVVVVVVXFvyDHcRzHcay/IMdxHMdxrD9UVVVVVVXFP3Acx3Ecx9E/OI7jOI7j2D8AAAAAAADgPwAAAAAAAOC/OY7jOI7j2L9yHMdxHMfRv1ZVVVVVVcW/IMdxHMdxrL8gx3Ecx3GsP1RVVVVVVcU/cBzHcRzH0T84juM4juPYPwAAAAAAAOA/AAAAAAAA4L85juM4juPYv3Icx3Ecx9G/VlVVVVVVxb8gx3Ecx3GsvyDHcRzHcaw/VFVVVVVVxT9wHMdxHMfRPziO4ziO49g/AAAAAAAA4D8AAAAAAADgvzmO4ziO49i/chzHcRzH0b9WVVVVVVXFvyDHcRzHcay/IMdxHMdxrD9UVVVVVVXFP3Acx3Ecx9E/OI7jOI7j2D8AAAAAAADgPwAAAAAAAOC/OY7jOI7j2L9yHMdxHMfRv1ZVVVVVVcW/IMdxHMdxrL8gx3Ecx3GsP1RVVVVVVcU/cBzHcRzH0T84juM4juPYPwAAAAAAAOA/AAAAAAAA4L85juM4juPYv3Icx3Ecx9G/VlVVVVVVxb8gx3Ecx3GsvyDHcRzHcaw/VFVVVVVVxT9wHMdxHMfRPziO4ziO49g/AAAAAAAA4D8AAAAAAADgvzmO4ziO49i/chzHcRzH0b9WVVVVVVXFvyDHcRzHcay/IMdxHMdxrD9UVVVVVVXFP3Acx3Ecx9E/OI7jOI7j2D8AAAAAAADgPwAAAAAAAOC/OY7jOI7j2L9yHMdxHMfRv1ZVVVVVVcW/IMdxHMdxrL8gx3Ecx3GsP1RVVVVVVcU/cBzHcRzH0T84juM4juPYPwAAAAAAAOA/AAAAAAAA4L85juM4juPYv3Icx3Ecx9G/VlVVVVVVxb8gx3Ecx3GsvyDHcRzHcaw/VFVVVVVVxT9wHMdxHMfRPziO4ziO49g/AAAAAAAA4D8AAAAAAADgvzmO4ziO49i/chzHcRzH0b9WVVVVVVXFvyDHcRzHcay/IMdxHMdxrD9UVVVVVVXFP3Acx3Ecx9E/OI7jOI7j2D8AAAAAAADgPwAAAAAAAOC/OY7jOI7j2L9yHMdxHMfRv1ZVVVVVVcW/IMdxHMdxrL8gx3Ecx3GsP1RVVVVVVcU/cBzHcRzH0T84juM4juPYPwAAAAAAAOA/AAAAAAAA4L85juM4juPYv3Icx3Ecx9G/VlVVVVVVxb8gx3Ecx3GsvyDHcRzHcaw/VFVVVVVVxT9wHMdxHMfRPziO4ziO49g/AAAAAAAA4D8AAAAAAADgvzmO4ziO49i/chzHcRzH0b9WVVVVVVXFvyDHcRzHcay/IMdxHMdxrD9UVVVVVVXFP3Acx3Ecx9E/OI7jOI7j2D8AAAAAAADgPwAAAAAAAOC/OY7jOI7j2L9yHMdxHMfRv1ZVVVVVVcW/IMdxHMdxrL8gx3Ecx3GsP1RVVVVVVcU/cBzHcRzH0T84juM4juPYPwAAAAAAAOA/AAAAAAAA4L85juM4juPYv3Icx3Ecx9G/VlVVVVVVxb8gx3Ecx3GsvyDHcRzHcaw/VFVVVVVVxT9wHMdxHMfRPziO4ziO49g/AAAAAAAA4D8AAAAAAADgvzmO4ziO49i/chzHcRzH0b9WVVVVVVXFvyDHcRzHcay/IMdxHMdxrD9UVVVVVVXFP3Acx3Ecx9E/OI7jOI7j2D8AAAAAAADgPwAAAAAAAOC/OY7jOI7j2L9yHMdxHMfRv1ZVVVVVVcW/IMdxHMdxrL8gx3Ecx3GsP1RVVVVVVcU/cBzHcRzH0T84juM4juPYPwAAAAAAAOA/AAAAAAAA4L85juM4juPYv3Icx3Ecx9G/VlVVVVVVxb8gx3Ecx3GsvyDHcRzHcaw/VFVVVVVVxT9wHMdxHMfRPziO4ziO49g/AAAAAAAA4D8AAAAAAADgvzmO4ziO49i/chzHcRzH0b9WVVVVVVXFvyDHcRzHcay/IMdxHMdxrD9UVVVVVVXFP3Acx3Ecx9E/OI7jOI7j2D8AAAAAAADgPwAAAAAAAOC/OY7jOI7j2L9yHMdxHMfRv1ZVVVVVVcW/IMdxHMdxrL8gx3Ecx3GsP1RVVVVVVcU/cBzHcRzH0T84juM4juPYPwAAAAAAAOA/AAAAAAAA4L85juM4juPYv3Icx3Ecx9G/VlVVVVVVxb8gx3Ecx3GsvyDHcRzHcaw/VFVVVVVVxT9wHMdxHMfRPziO4ziO49g/AAAAAAAA4D8AAAAAAADgvzmO4ziO49i/chzHcRzH0b9WVVVVVVXFvyDHcRzHcay/IMdxHMdxrD9UVVVVVVXFP3Acx3Ecx9E/OI7jOI7j2D8AAAAAAADgPwAAAAAAAOC/OY7jOI7j2L9yHMdxHMfRv1ZVVVVVVcW/IMdxHMdxrL8gx3Ecx3GsP1RVVVVVVcU/cBzHcRzH0T84juM4juPYPwAAAAAAAOA/AAAAAAAA4L85juM4juPYv3Icx3Ecx9G/VlVVVVVVxb8gx3Ecx3GsvyDHcRzHcaw/VFVVVVVVxT9wHMdxHMfRPziO4ziO49g/AAAAAAAA4D8AAAAAAADgvzmO4ziO49i/chzHcRzH0b9WVVVVVVXFvyDHcRzHcay/IMdxHMdxrD9UVVVVVVXFP3Acx3Ecx9E/OI7jOI7j2D8AAAAAAADgPwAAAAAAAOC/OY7jOI7j2L9yHMdxHMfRv1ZVVVVVVcW/IMdxHMdxrL8gx3Ecx3GsP1RVVVVVVcU/cBzHcRzH0T84juM4juPYPwAAAAAAAOA/AAAAAAAA4L85juM4juPYv3Icx3Ecx9G/VlVVVVVVxb8gx3Ecx3GsvyDHcRzHcaw/VFVVVVVVxT9wHMdxHMfRPziO4ziO49g/AAAAAAAA4D8AAAAAAADgvzmO4ziO49i/chzHcRzH0b9WVVVVVVXFvyDHcRzHcay/IMdxHMdxrD9UVVVVVVXFP3Acx3Ecx9E/OI7jOI7j2D8AAAAAAADgPwAAAAAAAOC/OY7jOI7j2L9yHMdxHMfRv1ZVVVVVVcW/IMdxHMdxrL8gx3Ecx3GsP1RVVVVVVcU/cBzHcRzH0T84juM4juPYPwAAAAAAAOA/AAAAAAAA4L85juM4juPYv3Icx3Ecx9G/VlVVVVVVxb8gx3Ecx3GsvyDHcRzHcaw/VFVVVVVVxT9wHMdxHMfRPziO4ziO49g/AAAAAAAA4D8AAAAAAADgvzmO4ziO49i/chzHcRzH0b9WVVVVVVXFvyDHcRzHcay/IMdxHMdxrD9UVVVVVVXFP3Acx3Ecx9E/OI7jOI7j2D8AAAAAAADgPwAAAAAAAOC/OY7jOI7j2L9yHMdxHMfRv1ZVVVVVVcW/IMdxHMdxrL8gx3Ecx3GsP1RVVVVVVcU/cBzHcRzH0T84juM4juPYPwAAAAAAAOA/AAAAAAAA4L85juM4juPYv3Icx3Ecx9G/VlVVVVVVxb8gx3Ecx3GsvyDHcRzHcaw/VFVVVVVVxT9wHMdxHMfRPziO4ziO49g/AAAAAAAA4D8AAAAAAADgvzmO4ziO49i/chzHcRzH0b9WVVVVVVXFvyDHcRzHcay/IMdxHMdxrD9UVVVVVVXFP3Acx3Ecx9E/OI7jOI7j2D8AAAAAAADgPwAAAAAAAOC/OY7jOI7j2L9yHMdxHMfRv1ZVVVVVVcW/IMdxHMdxrL8gx3Ecx3GsP1RVVVVVVcU/cBzHcRzH0T84juM4juPYPwAAAAAAAOA/AAAAAAAA4L85juM4juPYv3Icx3Ecx9G/VlVVVVVVxb8gx3Ecx3GsvyDHcRzHcaw/VFVVVVVVxT9wHMdxHMfRPziO4ziO49g/AAAAAAAA4D8AAAAAAADgvzmO4ziO49i/chzHcRzH0b9WVVVVVVXFvyDHcRzHcay/IMdxHMdxrD9UVVVVVVXFP3Acx3Ecx9E/OI7jOI7j2D8AAAAAAADgPwAAAAAAAOC/OY7jOI7j2L9yHMdxHMfRv1ZVVVVVVcW/IMdxHMdxrL8gx3Ecx3GsP1RVVVVVVcU/cBzHcRzH0T84juM4juPYPwAAAAAAAOA/AAAAAAAA4L85juM4juPYv3Icx3Ecx9G/VlVVVVVVxb8gx3Ecx3GsvyDHcRzHcaw/VFVVVVVVxT9wHMdxHMfRPziO4ziO49g/AAAAAAAA4D8AAAAAAADgvzmO4ziO49i/chzHcRzH0b9WVVVVVVXFvyDHcRzHcay/IMdxHMdxrD9UVVVVVVXFP3Acx3Ecx9E/OI7jOI7j2D8AAAAAAADgPwAAAAAAAOC/OY7jOI7j2L9yHMdxHMfRv1ZVVVVVVcW/IMdxHMdxrL8gx3Ecx3GsP1RVVVVVVcU/cBzHcRzH0T84juM4juPYPwAAAAAAAOA/AAAAAAAA4L85juM4juPYv3Icx3Ecx9G/VlVVVVVVxb8gx3Ecx3GsvyDHcRzHcaw/VFVVVVVVxT9wHMdxHMfRPziO4ziO49g/AAAAAAAA4D8AAAAAAADgvzmO4ziO49i/chzHcRzH0b9WVVVVVVXFvyDHcRzHcay/IMdxHMdxrD9UVVVVVVXFP3Acx3Ecx9E/OI7jOI7j2D8AAAAAAADgPwAAAAAAAOC/OY7jOI7j2L9yHMdxHMfRv1ZVVVVVVcW/IMdxHMdxrL8gx3Ecx3GsP1RVVVVVVcU/cBzHcRzH0T84juM4juPYPwAAAAAAAOA/AAAAAAAA4L85juM4juPYv3Icx3Ecx9G/VlVVVVVVxb8gx3Ecx3GsvyDHcRzHcaw/VFVVVVVVxT9wHMdxHMfRPziO4ziO49g/AAAAAAAA4D8AAAAAAADgvzmO4ziO49i/chzHcRzH0b9WVVVVVVXFvyDHcRzHcay/IMdxHMdxrD9UVVVVVVXFP3Acx3Ecx9E/OI7jOI7j2D8AAAAAAADgPwAAAAAAAOC/OY7jOI7j2L9yHMdxHMfRv1ZVVVVVVcW/IMdxHMdxrL8gx3Ecx3GsP1RVVVVVVcU/cBzHcRzH0T84juM4juPYPwAAAAAAAOA/AAAAAAAA4L85juM4juPYv3Icx3Ecx9G/VlVVVVVVxb8gx3Ecx3GsvyDHcRzHcaw/VFVVVVVVxT9wHMdxHMfRPziO4ziO49g/AAAAAAAA4D8AAAAAAADgvzmO4ziO49i/chzHcRzH0b9WVVVVVVXFvyDHcRzHcay/IMdxHMdxrD9UVVVVVVXFP3Acx3Ecx9E/OI7jOI7j2D8AAAAAAADgPwAAAAAAAOC/OY7jOI7j2L9yHMdxHMfRv1ZVVVVVVcW/IMdxHMdxrL8gx3Ecx3GsP1RVVVVVVcU/cBzHcRzH0T84juM4juPYPwAAAAAAAOA/AAAAAAAA4L85juM4juPYv3Icx3Ecx9G/VlVVVVVVxb8gx3Ecx3GsvyDHcRzHcaw/VFVVVVVVxT9wHMdxHMfRPziO4ziO49g/AAAAAAAA4D8AAAAAAADgvzmO4ziO49i/chzHcRzH0b9WVVVVVVXFvyDHcRzHcay/IMdxHMdxrD9UVVVVVVXFP3Acx3Ecx9E/OI7jOI7j2D8AAAAAAADgPwAAAAAAAOC/OY7jOI7j2L9yHMdxHMfRv1ZVVVVVVcW/IMdxHMdxrL8gx3Ecx3GsP1RVVVVVVcU/cBzHcRzH0T84juM4juPYPwAAAAAAAOA/AAAAAAAA4L85juM4juPYv3Icx3Ecx9G/VlVVVVVVxb8gx3Ecx3GsvyDHcRzHcaw/VFVVVVVVxT9wHMdxHMfRPziO4ziO49g/AAAAAAAA4D8AAAAAAADgvzmO4ziO49i/chzHcRzH0b9WVVVVVVXFvyDHcRzHcay/IMdxHMdxrD9UVVVVVVXFP3Acx3Ecx9E/OI7jOI7j2D8AAAAAAADgPwAAAAAAAOC/OY7jOI7j2L9yHMdxHMfRv1ZVVVVVVcW/IMdxHMdxrL8gx3Ecx3GsP1RVVVVVVcU/cBzHcRzH0T84juM4juPYPwAAAAAAAOA/AAAAAAAA4L85juM4juPYv3Icx3Ecx9G/VlVVVVVVxb8gx3Ecx3GsvyDHcRzHcaw/VFVVVVVVxT9wHMdxHMfRPziO4ziO49g/AAAAAAAA4D8AAAAAAADgvzmO4ziO49i/chzHcRzH0b9WVVVVVVXFvyDHcRzHcay/IMdxHMdxrD9UVVVVVVXFP3Acx3Ecx9E/OI7jOI7j2D8AAAAAAADgPwAAAAAAAOC/OY7jOI7j2L9yHMdxHMfRv1ZVVVVVVcW/IMdxHMdxrL8gx3Ecx3GsP1RVVVVVVcU/cBzHcRzH0T84juM4juPYPwAAAAAAAOA/AAAAAAAA4L85juM4juPYv3Icx3Ecx9G/VlVVVVVVxb8gx3Ecx3GsvyDHcRzHcaw/VFVVVVVVxT9wHMdxHMfRPziO4ziO49g/AAAAAAAA4D8AAAAAAADgvzmO4ziO49i/chzHcRzH0b9WVVVVVVXFvyDHcRzHcay/IMdxHMdxrD9UVVVVVVXFP3Acx3Ecx9E/OI7jOI7j2D8AAAAAAADgPwAAAAAAAOC/OY7jOI7j2L9yHMdxHMfRv1ZVVVVVVcW/IMdxHMdxrL8gx3Ecx3GsP1RVVVVVVcU/cBzHcRzH0T84juM4juPYPwAAAAAAAOA/AAAAAAAA4L85juM4juPYv3Icx3Ecx9G/VlVVVVVVxb8gx3Ecx3GsvyDHcRzHcaw/VFVVVVVVxT9wHMdxHMfRPziO4ziO49g/AAAAAAAA4D8AAAAAAADgvzmO4ziO49i/chzHcRzH0b9WVVVVVVXFvyDHcRzHcay/IMdxHMdxrD9UVVVVVVXFP3Acx3Ecx9E/OI7jOI7j2D8AAAAAAADgPwAAAAAAAOC/OY7jOI7j2L9yHMdxHMfRv1ZVVVVVVcW/IMdxHMdxrL8gx3Ecx3GsP1RVVVVVVcU/cBzHcRzH0T84juM4juPYPwAAAAAAAOA/AAAAAAAA4L85juM4juPYv3Icx3Ecx9G/VlVVVVVVxb8gx3Ecx3GsvyDHcRzHcaw/VFVVVVVVxT9wHMdxHMfRPziO4ziO49g/AAAAAAAA4D8AAAAAAADgvzmO4ziO49i/chzHcRzH0b9WVVVVVVXFvyDHcRzHcay/IMdxHMdxrD9UVVVVVVXFP3Acx3Ecx9E/OI7jOI7j2D8AAAAAAADgPwAAAAAAAOC/OY7jOI7j2L9yHMdxHMfRv1ZVVVVVVcW/IMdxHMdxrL8gx3Ecx3GsP1RVVVVVVcU/cBzHcRzH0T84juM4juPYPwAAAAAAAOA/AAAAAAAA4L85juM4juPYv3Icx3Ecx9G/VlVVVVVVxb8gx3Ecx3GsvyDHcRzHcaw/VFVVVVVVxT9wHMdxHMfRPziO4ziO49g/AAAAAAAA4D8AAAAAAADgvzmO4ziO49i/chzHcRzH0b9WVVVVVVXFvyDHcRzHcay/IMdxHMdxrD9UVVVVVVXFP3Acx3Ecx9E/OI7jOI7j2D8AAAAAAADgPwAAAAAAAOC/OY7jOI7j2L9yHMdxHMfRv1ZVVVVVVcW/IMdxHMdxrL8gx3Ecx3GsP1RVVVVVVcU/cBzHcRzH0T84juM4juPYPwAAAAAAAOA/AAAAAAAA4L85juM4juPYv3Icx3Ecx9G/VlVVVVVVxb8gx3Ecx3GsvyDHcRzHcaw/VFVVVVVVxT9wHMdxHMfRPziO4ziO49g/AAAAAAAA4D8AAAAAAADgvzmO4ziO49i/chzHcRzH0b9WVVVVVVXFvyDHcRzHcay/IMdxHMdxrD9UVVVVVVXFP3Acx3Ecx9E/OI7jOI7j2D8AAAAAAADgPwAAAAAAAOC/OY7jOI7j2L9yHMdxHMfRv1ZVVVVVVcW/IMdxHMdxrL8gx3Ecx3GsP1RVVVVVVcU/cBzHcRzH0T84juM4juPYPwAAAAAAAOA/AAAAAAAA4L85juM4juPYv3Icx3Ecx9G/VlVVVVVVxb8gx3Ecx3GsvyDHcRzHcaw/VFVVVVVVxT9wHMdxHMfRPziO4ziO49g/AAAAAAAA4D8=",
          "dtype": "f8"
         }
        }
       ],
       "layout": {
        "scene": {
         "xaxis": {
          "title": {
           "text": "X"
          }
         },
         "yaxis": {
          "title": {
           "text": "Y"
          }
         },
         "zaxis": {
          "title": {
           "text": "Z"
          }
         }
        },
        "template": {
         "data": {
          "bar": [
           {
            "error_x": {
             "color": "#2a3f5f"
            },
            "error_y": {
             "color": "#2a3f5f"
            },
            "marker": {
             "line": {
              "color": "#E5ECF6",
              "width": 0.5
             },
             "pattern": {
              "fillmode": "overlay",
              "size": 10,
              "solidity": 0.2
             }
            },
            "type": "bar"
           }
          ],
          "barpolar": [
           {
            "marker": {
             "line": {
              "color": "#E5ECF6",
              "width": 0.5
             },
             "pattern": {
              "fillmode": "overlay",
              "size": 10,
              "solidity": 0.2
             }
            },
            "type": "barpolar"
           }
          ],
          "carpet": [
           {
            "aaxis": {
             "endlinecolor": "#2a3f5f",
             "gridcolor": "white",
             "linecolor": "white",
             "minorgridcolor": "white",
             "startlinecolor": "#2a3f5f"
            },
            "baxis": {
             "endlinecolor": "#2a3f5f",
             "gridcolor": "white",
             "linecolor": "white",
             "minorgridcolor": "white",
             "startlinecolor": "#2a3f5f"
            },
            "type": "carpet"
           }
          ],
          "choropleth": [
           {
            "colorbar": {
             "outlinewidth": 0,
             "ticks": ""
            },
            "type": "choropleth"
           }
          ],
          "contour": [
           {
            "colorbar": {
             "outlinewidth": 0,
             "ticks": ""
            },
            "colorscale": [
             [
              0,
              "#0d0887"
             ],
             [
              0.1111111111111111,
              "#46039f"
             ],
             [
              0.2222222222222222,
              "#7201a8"
             ],
             [
              0.3333333333333333,
              "#9c179e"
             ],
             [
              0.4444444444444444,
              "#bd3786"
             ],
             [
              0.5555555555555556,
              "#d8576b"
             ],
             [
              0.6666666666666666,
              "#ed7953"
             ],
             [
              0.7777777777777778,
              "#fb9f3a"
             ],
             [
              0.8888888888888888,
              "#fdca26"
             ],
             [
              1,
              "#f0f921"
             ]
            ],
            "type": "contour"
           }
          ],
          "contourcarpet": [
           {
            "colorbar": {
             "outlinewidth": 0,
             "ticks": ""
            },
            "type": "contourcarpet"
           }
          ],
          "heatmap": [
           {
            "colorbar": {
             "outlinewidth": 0,
             "ticks": ""
            },
            "colorscale": [
             [
              0,
              "#0d0887"
             ],
             [
              0.1111111111111111,
              "#46039f"
             ],
             [
              0.2222222222222222,
              "#7201a8"
             ],
             [
              0.3333333333333333,
              "#9c179e"
             ],
             [
              0.4444444444444444,
              "#bd3786"
             ],
             [
              0.5555555555555556,
              "#d8576b"
             ],
             [
              0.6666666666666666,
              "#ed7953"
             ],
             [
              0.7777777777777778,
              "#fb9f3a"
             ],
             [
              0.8888888888888888,
              "#fdca26"
             ],
             [
              1,
              "#f0f921"
             ]
            ],
            "type": "heatmap"
           }
          ],
          "histogram": [
           {
            "marker": {
             "pattern": {
              "fillmode": "overlay",
              "size": 10,
              "solidity": 0.2
             }
            },
            "type": "histogram"
           }
          ],
          "histogram2d": [
           {
            "colorbar": {
             "outlinewidth": 0,
             "ticks": ""
            },
            "colorscale": [
             [
              0,
              "#0d0887"
             ],
             [
              0.1111111111111111,
              "#46039f"
             ],
             [
              0.2222222222222222,
              "#7201a8"
             ],
             [
              0.3333333333333333,
              "#9c179e"
             ],
             [
              0.4444444444444444,
              "#bd3786"
             ],
             [
              0.5555555555555556,
              "#d8576b"
             ],
             [
              0.6666666666666666,
              "#ed7953"
             ],
             [
              0.7777777777777778,
              "#fb9f3a"
             ],
             [
              0.8888888888888888,
              "#fdca26"
             ],
             [
              1,
              "#f0f921"
             ]
            ],
            "type": "histogram2d"
           }
          ],
          "histogram2dcontour": [
           {
            "colorbar": {
             "outlinewidth": 0,
             "ticks": ""
            },
            "colorscale": [
             [
              0,
              "#0d0887"
             ],
             [
              0.1111111111111111,
              "#46039f"
             ],
             [
              0.2222222222222222,
              "#7201a8"
             ],
             [
              0.3333333333333333,
              "#9c179e"
             ],
             [
              0.4444444444444444,
              "#bd3786"
             ],
             [
              0.5555555555555556,
              "#d8576b"
             ],
             [
              0.6666666666666666,
              "#ed7953"
             ],
             [
              0.7777777777777778,
              "#fb9f3a"
             ],
             [
              0.8888888888888888,
              "#fdca26"
             ],
             [
              1,
              "#f0f921"
             ]
            ],
            "type": "histogram2dcontour"
           }
          ],
          "mesh3d": [
           {
            "colorbar": {
             "outlinewidth": 0,
             "ticks": ""
            },
            "type": "mesh3d"
           }
          ],
          "parcoords": [
           {
            "line": {
             "colorbar": {
              "outlinewidth": 0,
              "ticks": ""
             }
            },
            "type": "parcoords"
           }
          ],
          "pie": [
           {
            "automargin": true,
            "type": "pie"
           }
          ],
          "scatter": [
           {
            "fillpattern": {
             "fillmode": "overlay",
             "size": 10,
             "solidity": 0.2
            },
            "type": "scatter"
           }
          ],
          "scatter3d": [
           {
            "line": {
             "colorbar": {
              "outlinewidth": 0,
              "ticks": ""
             }
            },
            "marker": {
             "colorbar": {
              "outlinewidth": 0,
              "ticks": ""
             }
            },
            "type": "scatter3d"
           }
          ],
          "scattercarpet": [
           {
            "marker": {
             "colorbar": {
              "outlinewidth": 0,
              "ticks": ""
             }
            },
            "type": "scattercarpet"
           }
          ],
          "scattergeo": [
           {
            "marker": {
             "colorbar": {
              "outlinewidth": 0,
              "ticks": ""
             }
            },
            "type": "scattergeo"
           }
          ],
          "scattergl": [
           {
            "marker": {
             "colorbar": {
              "outlinewidth": 0,
              "ticks": ""
             }
            },
            "type": "scattergl"
           }
          ],
          "scattermap": [
           {
            "marker": {
             "colorbar": {
              "outlinewidth": 0,
              "ticks": ""
             }
            },
            "type": "scattermap"
           }
          ],
          "scattermapbox": [
           {
            "marker": {
             "colorbar": {
              "outlinewidth": 0,
              "ticks": ""
             }
            },
            "type": "scattermapbox"
           }
          ],
          "scatterpolar": [
           {
            "marker": {
             "colorbar": {
              "outlinewidth": 0,
              "ticks": ""
             }
            },
            "type": "scatterpolar"
           }
          ],
          "scatterpolargl": [
           {
            "marker": {
             "colorbar": {
              "outlinewidth": 0,
              "ticks": ""
             }
            },
            "type": "scatterpolargl"
           }
          ],
          "scatterternary": [
           {
            "marker": {
             "colorbar": {
              "outlinewidth": 0,
              "ticks": ""
             }
            },
            "type": "scatterternary"
           }
          ],
          "surface": [
           {
            "colorbar": {
             "outlinewidth": 0,
             "ticks": ""
            },
            "colorscale": [
             [
              0,
              "#0d0887"
             ],
             [
              0.1111111111111111,
              "#46039f"
             ],
             [
              0.2222222222222222,
              "#7201a8"
             ],
             [
              0.3333333333333333,
              "#9c179e"
             ],
             [
              0.4444444444444444,
              "#bd3786"
             ],
             [
              0.5555555555555556,
              "#d8576b"
             ],
             [
              0.6666666666666666,
              "#ed7953"
             ],
             [
              0.7777777777777778,
              "#fb9f3a"
             ],
             [
              0.8888888888888888,
              "#fdca26"
             ],
             [
              1,
              "#f0f921"
             ]
            ],
            "type": "surface"
           }
          ],
          "table": [
           {
            "cells": {
             "fill": {
              "color": "#EBF0F8"
             },
             "line": {
              "color": "white"
             }
            },
            "header": {
             "fill": {
              "color": "#C8D4E3"
             },
             "line": {
              "color": "white"
             }
            },
            "type": "table"
           }
          ]
         },
         "layout": {
          "annotationdefaults": {
           "arrowcolor": "#2a3f5f",
           "arrowhead": 0,
           "arrowwidth": 1
          },
          "autotypenumbers": "strict",
          "coloraxis": {
           "colorbar": {
            "outlinewidth": 0,
            "ticks": ""
           }
          },
          "colorscale": {
           "diverging": [
            [
             0,
             "#8e0152"
            ],
            [
             0.1,
             "#c51b7d"
            ],
            [
             0.2,
             "#de77ae"
            ],
            [
             0.3,
             "#f1b6da"
            ],
            [
             0.4,
             "#fde0ef"
            ],
            [
             0.5,
             "#f7f7f7"
            ],
            [
             0.6,
             "#e6f5d0"
            ],
            [
             0.7,
             "#b8e186"
            ],
            [
             0.8,
             "#7fbc41"
            ],
            [
             0.9,
             "#4d9221"
            ],
            [
             1,
             "#276419"
            ]
           ],
           "sequential": [
            [
             0,
             "#0d0887"
            ],
            [
             0.1111111111111111,
             "#46039f"
            ],
            [
             0.2222222222222222,
             "#7201a8"
            ],
            [
             0.3333333333333333,
             "#9c179e"
            ],
            [
             0.4444444444444444,
             "#bd3786"
            ],
            [
             0.5555555555555556,
             "#d8576b"
            ],
            [
             0.6666666666666666,
             "#ed7953"
            ],
            [
             0.7777777777777778,
             "#fb9f3a"
            ],
            [
             0.8888888888888888,
             "#fdca26"
            ],
            [
             1,
             "#f0f921"
            ]
           ],
           "sequentialminus": [
            [
             0,
             "#0d0887"
            ],
            [
             0.1111111111111111,
             "#46039f"
            ],
            [
             0.2222222222222222,
             "#7201a8"
            ],
            [
             0.3333333333333333,
             "#9c179e"
            ],
            [
             0.4444444444444444,
             "#bd3786"
            ],
            [
             0.5555555555555556,
             "#d8576b"
            ],
            [
             0.6666666666666666,
             "#ed7953"
            ],
            [
             0.7777777777777778,
             "#fb9f3a"
            ],
            [
             0.8888888888888888,
             "#fdca26"
            ],
            [
             1,
             "#f0f921"
            ]
           ]
          },
          "colorway": [
           "#636efa",
           "#EF553B",
           "#00cc96",
           "#ab63fa",
           "#FFA15A",
           "#19d3f3",
           "#FF6692",
           "#B6E880",
           "#FF97FF",
           "#FECB52"
          ],
          "font": {
           "color": "#2a3f5f"
          },
          "geo": {
           "bgcolor": "white",
           "lakecolor": "white",
           "landcolor": "#E5ECF6",
           "showlakes": true,
           "showland": true,
           "subunitcolor": "white"
          },
          "hoverlabel": {
           "align": "left"
          },
          "hovermode": "closest",
          "mapbox": {
           "style": "light"
          },
          "paper_bgcolor": "white",
          "plot_bgcolor": "#E5ECF6",
          "polar": {
           "angularaxis": {
            "gridcolor": "white",
            "linecolor": "white",
            "ticks": ""
           },
           "bgcolor": "#E5ECF6",
           "radialaxis": {
            "gridcolor": "white",
            "linecolor": "white",
            "ticks": ""
           }
          },
          "scene": {
           "xaxis": {
            "backgroundcolor": "#E5ECF6",
            "gridcolor": "white",
            "gridwidth": 2,
            "linecolor": "white",
            "showbackground": true,
            "ticks": "",
            "zerolinecolor": "white"
           },
           "yaxis": {
            "backgroundcolor": "#E5ECF6",
            "gridcolor": "white",
            "gridwidth": 2,
            "linecolor": "white",
            "showbackground": true,
            "ticks": "",
            "zerolinecolor": "white"
           },
           "zaxis": {
            "backgroundcolor": "#E5ECF6",
            "gridcolor": "white",
            "gridwidth": 2,
            "linecolor": "white",
            "showbackground": true,
            "ticks": "",
            "zerolinecolor": "white"
           }
          },
          "shapedefaults": {
           "line": {
            "color": "#2a3f5f"
           }
          },
          "ternary": {
           "aaxis": {
            "gridcolor": "white",
            "linecolor": "white",
            "ticks": ""
           },
           "baxis": {
            "gridcolor": "white",
            "linecolor": "white",
            "ticks": ""
           },
           "bgcolor": "#E5ECF6",
           "caxis": {
            "gridcolor": "white",
            "linecolor": "white",
            "ticks": ""
           }
          },
          "title": {
           "x": 0.05
          },
          "xaxis": {
           "automargin": true,
           "gridcolor": "white",
           "linecolor": "white",
           "ticks": "",
           "title": {
            "standoff": 15
           },
           "zerolinecolor": "white",
           "zerolinewidth": 2
          },
          "yaxis": {
           "automargin": true,
           "gridcolor": "white",
           "linecolor": "white",
           "ticks": "",
           "title": {
            "standoff": 15
           },
           "zerolinecolor": "white",
           "zerolinewidth": 2
          }
         }
        },
        "title": {
         "text": "Output from GP Regression for n = 100 input vectors for current carrying wire"
        }
       }
      }
     },
     "metadata": {},
     "output_type": "display_data"
    }
   ],
   "source": [
    "given_samples_wire = x_samples_wire.shape[0]\n",
    "plotter.plotter(updated_x_samples_wire_div_free, updated_y_samples_wire_div_free, updated_z_samples_wire_div_free, \n",
    "                updated_Bx_samples_wire_div_free, updated_By_samples_wire_div_free, updated_Bz_samples_wire_div_free, \n",
    "                title = f'Output from GP Regression for n = {given_samples_wire} input vectors for current carrying wire')"
   ]
  },
  {
   "cell_type": "code",
   "execution_count": 18,
   "metadata": {},
   "outputs": [
    {
     "name": "stdout",
     "output_type": "stream",
     "text": [
      "Parameters for sigma_f and l specified, using these.\n"
     ]
    }
   ],
   "source": [
    "outputs_coil_div_free = updated_vector_field(\n",
    "    x_samples_coil, y_samples_coil, z_samples_coil, \n",
    "    Bx_samples_coil, By_samples_coil, Bz_samples_coil, \n",
    "    x_coil, y_coil, z_coil, \n",
    "    kernel_func='divergence_free_kernel', \n",
    "    sigma_f = 0.1, l = 0.1191608)\n",
    "\n",
    "# unpack outputs\n",
    "updated_x_samples_coil_div_free  = outputs_coil_div_free[0]\n",
    "updated_y_samples_coil_div_free  = outputs_coil_div_free[1]\n",
    "updated_z_samples_coil_div_free  = outputs_coil_div_free[2]\n",
    "updated_Bx_samples_coil_div_free = outputs_coil_div_free[3]\n",
    "updated_By_samples_coil_div_free = outputs_coil_div_free[4]\n",
    "updated_Bz_samples_coil_div_free = outputs_coil_div_free[5]\n",
    "\n",
    "# from giving the code a large number of samples, the optimum \n",
    "# parameters seem to be about: sigma_f = 0.1, l = 0.1191608\n",
    "# sigma_f = 0.01, l = 1.5 seem to work okay "
   ]
  },
  {
   "cell_type": "code",
   "execution_count": 19,
   "metadata": {},
   "outputs": [
    {
     "data": {
      "application/vnd.plotly.v1+json": {
       "config": {
        "plotlyServerURL": "https://plot.ly"
       },
       "data": [
        {
         "anchor": "tail",
         "sizemode": "scaled",
         "sizeref": 2,
         "type": "cone",
         "u": {
          "bdata": "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",
          "dtype": "f8"
         },
         "v": {
          "bdata": "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",
          "dtype": "f8"
         },
         "w": {
          "bdata": "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",
          "dtype": "f8"
         },
         "x": {
          "bdata": "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",
          "dtype": "f8"
         },
         "y": {
          "bdata": "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",
          "dtype": "f8"
         },
         "z": {
          "bdata": "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",
          "dtype": "f8"
         }
        }
       ],
       "layout": {
        "scene": {
         "xaxis": {
          "title": {
           "text": "X"
          }
         },
         "yaxis": {
          "title": {
           "text": "Y"
          }
         },
         "zaxis": {
          "title": {
           "text": "Z"
          }
         }
        },
        "template": {
         "data": {
          "bar": [
           {
            "error_x": {
             "color": "#2a3f5f"
            },
            "error_y": {
             "color": "#2a3f5f"
            },
            "marker": {
             "line": {
              "color": "#E5ECF6",
              "width": 0.5
             },
             "pattern": {
              "fillmode": "overlay",
              "size": 10,
              "solidity": 0.2
             }
            },
            "type": "bar"
           }
          ],
          "barpolar": [
           {
            "marker": {
             "line": {
              "color": "#E5ECF6",
              "width": 0.5
             },
             "pattern": {
              "fillmode": "overlay",
              "size": 10,
              "solidity": 0.2
             }
            },
            "type": "barpolar"
           }
          ],
          "carpet": [
           {
            "aaxis": {
             "endlinecolor": "#2a3f5f",
             "gridcolor": "white",
             "linecolor": "white",
             "minorgridcolor": "white",
             "startlinecolor": "#2a3f5f"
            },
            "baxis": {
             "endlinecolor": "#2a3f5f",
             "gridcolor": "white",
             "linecolor": "white",
             "minorgridcolor": "white",
             "startlinecolor": "#2a3f5f"
            },
            "type": "carpet"
           }
          ],
          "choropleth": [
           {
            "colorbar": {
             "outlinewidth": 0,
             "ticks": ""
            },
            "type": "choropleth"
           }
          ],
          "contour": [
           {
            "colorbar": {
             "outlinewidth": 0,
             "ticks": ""
            },
            "colorscale": [
             [
              0,
              "#0d0887"
             ],
             [
              0.1111111111111111,
              "#46039f"
             ],
             [
              0.2222222222222222,
              "#7201a8"
             ],
             [
              0.3333333333333333,
              "#9c179e"
             ],
             [
              0.4444444444444444,
              "#bd3786"
             ],
             [
              0.5555555555555556,
              "#d8576b"
             ],
             [
              0.6666666666666666,
              "#ed7953"
             ],
             [
              0.7777777777777778,
              "#fb9f3a"
             ],
             [
              0.8888888888888888,
              "#fdca26"
             ],
             [
              1,
              "#f0f921"
             ]
            ],
            "type": "contour"
           }
          ],
          "contourcarpet": [
           {
            "colorbar": {
             "outlinewidth": 0,
             "ticks": ""
            },
            "type": "contourcarpet"
           }
          ],
          "heatmap": [
           {
            "colorbar": {
             "outlinewidth": 0,
             "ticks": ""
            },
            "colorscale": [
             [
              0,
              "#0d0887"
             ],
             [
              0.1111111111111111,
              "#46039f"
             ],
             [
              0.2222222222222222,
              "#7201a8"
             ],
             [
              0.3333333333333333,
              "#9c179e"
             ],
             [
              0.4444444444444444,
              "#bd3786"
             ],
             [
              0.5555555555555556,
              "#d8576b"
             ],
             [
              0.6666666666666666,
              "#ed7953"
             ],
             [
              0.7777777777777778,
              "#fb9f3a"
             ],
             [
              0.8888888888888888,
              "#fdca26"
             ],
             [
              1,
              "#f0f921"
             ]
            ],
            "type": "heatmap"
           }
          ],
          "histogram": [
           {
            "marker": {
             "pattern": {
              "fillmode": "overlay",
              "size": 10,
              "solidity": 0.2
             }
            },
            "type": "histogram"
           }
          ],
          "histogram2d": [
           {
            "colorbar": {
             "outlinewidth": 0,
             "ticks": ""
            },
            "colorscale": [
             [
              0,
              "#0d0887"
             ],
             [
              0.1111111111111111,
              "#46039f"
             ],
             [
              0.2222222222222222,
              "#7201a8"
             ],
             [
              0.3333333333333333,
              "#9c179e"
             ],
             [
              0.4444444444444444,
              "#bd3786"
             ],
             [
              0.5555555555555556,
              "#d8576b"
             ],
             [
              0.6666666666666666,
              "#ed7953"
             ],
             [
              0.7777777777777778,
              "#fb9f3a"
             ],
             [
              0.8888888888888888,
              "#fdca26"
             ],
             [
              1,
              "#f0f921"
             ]
            ],
            "type": "histogram2d"
           }
          ],
          "histogram2dcontour": [
           {
            "colorbar": {
             "outlinewidth": 0,
             "ticks": ""
            },
            "colorscale": [
             [
              0,
              "#0d0887"
             ],
             [
              0.1111111111111111,
              "#46039f"
             ],
             [
              0.2222222222222222,
              "#7201a8"
             ],
             [
              0.3333333333333333,
              "#9c179e"
             ],
             [
              0.4444444444444444,
              "#bd3786"
             ],
             [
              0.5555555555555556,
              "#d8576b"
             ],
             [
              0.6666666666666666,
              "#ed7953"
             ],
             [
              0.7777777777777778,
              "#fb9f3a"
             ],
             [
              0.8888888888888888,
              "#fdca26"
             ],
             [
              1,
              "#f0f921"
             ]
            ],
            "type": "histogram2dcontour"
           }
          ],
          "mesh3d": [
           {
            "colorbar": {
             "outlinewidth": 0,
             "ticks": ""
            },
            "type": "mesh3d"
           }
          ],
          "parcoords": [
           {
            "line": {
             "colorbar": {
              "outlinewidth": 0,
              "ticks": ""
             }
            },
            "type": "parcoords"
           }
          ],
          "pie": [
           {
            "automargin": true,
            "type": "pie"
           }
          ],
          "scatter": [
           {
            "fillpattern": {
             "fillmode": "overlay",
             "size": 10,
             "solidity": 0.2
            },
            "type": "scatter"
           }
          ],
          "scatter3d": [
           {
            "line": {
             "colorbar": {
              "outlinewidth": 0,
              "ticks": ""
             }
            },
            "marker": {
             "colorbar": {
              "outlinewidth": 0,
              "ticks": ""
             }
            },
            "type": "scatter3d"
           }
          ],
          "scattercarpet": [
           {
            "marker": {
             "colorbar": {
              "outlinewidth": 0,
              "ticks": ""
             }
            },
            "type": "scattercarpet"
           }
          ],
          "scattergeo": [
           {
            "marker": {
             "colorbar": {
              "outlinewidth": 0,
              "ticks": ""
             }
            },
            "type": "scattergeo"
           }
          ],
          "scattergl": [
           {
            "marker": {
             "colorbar": {
              "outlinewidth": 0,
              "ticks": ""
             }
            },
            "type": "scattergl"
           }
          ],
          "scattermap": [
           {
            "marker": {
             "colorbar": {
              "outlinewidth": 0,
              "ticks": ""
             }
            },
            "type": "scattermap"
           }
          ],
          "scattermapbox": [
           {
            "marker": {
             "colorbar": {
              "outlinewidth": 0,
              "ticks": ""
             }
            },
            "type": "scattermapbox"
           }
          ],
          "scatterpolar": [
           {
            "marker": {
             "colorbar": {
              "outlinewidth": 0,
              "ticks": ""
             }
            },
            "type": "scatterpolar"
           }
          ],
          "scatterpolargl": [
           {
            "marker": {
             "colorbar": {
              "outlinewidth": 0,
              "ticks": ""
             }
            },
            "type": "scatterpolargl"
           }
          ],
          "scatterternary": [
           {
            "marker": {
             "colorbar": {
              "outlinewidth": 0,
              "ticks": ""
             }
            },
            "type": "scatterternary"
           }
          ],
          "surface": [
           {
            "colorbar": {
             "outlinewidth": 0,
             "ticks": ""
            },
            "colorscale": [
             [
              0,
              "#0d0887"
             ],
             [
              0.1111111111111111,
              "#46039f"
             ],
             [
              0.2222222222222222,
              "#7201a8"
             ],
             [
              0.3333333333333333,
              "#9c179e"
             ],
             [
              0.4444444444444444,
              "#bd3786"
             ],
             [
              0.5555555555555556,
              "#d8576b"
             ],
             [
              0.6666666666666666,
              "#ed7953"
             ],
             [
              0.7777777777777778,
              "#fb9f3a"
             ],
             [
              0.8888888888888888,
              "#fdca26"
             ],
             [
              1,
              "#f0f921"
             ]
            ],
            "type": "surface"
           }
          ],
          "table": [
           {
            "cells": {
             "fill": {
              "color": "#EBF0F8"
             },
             "line": {
              "color": "white"
             }
            },
            "header": {
             "fill": {
              "color": "#C8D4E3"
             },
             "line": {
              "color": "white"
             }
            },
            "type": "table"
           }
          ]
         },
         "layout": {
          "annotationdefaults": {
           "arrowcolor": "#2a3f5f",
           "arrowhead": 0,
           "arrowwidth": 1
          },
          "autotypenumbers": "strict",
          "coloraxis": {
           "colorbar": {
            "outlinewidth": 0,
            "ticks": ""
           }
          },
          "colorscale": {
           "diverging": [
            [
             0,
             "#8e0152"
            ],
            [
             0.1,
             "#c51b7d"
            ],
            [
             0.2,
             "#de77ae"
            ],
            [
             0.3,
             "#f1b6da"
            ],
            [
             0.4,
             "#fde0ef"
            ],
            [
             0.5,
             "#f7f7f7"
            ],
            [
             0.6,
             "#e6f5d0"
            ],
            [
             0.7,
             "#b8e186"
            ],
            [
             0.8,
             "#7fbc41"
            ],
            [
             0.9,
             "#4d9221"
            ],
            [
             1,
             "#276419"
            ]
           ],
           "sequential": [
            [
             0,
             "#0d0887"
            ],
            [
             0.1111111111111111,
             "#46039f"
            ],
            [
             0.2222222222222222,
             "#7201a8"
            ],
            [
             0.3333333333333333,
             "#9c179e"
            ],
            [
             0.4444444444444444,
             "#bd3786"
            ],
            [
             0.5555555555555556,
             "#d8576b"
            ],
            [
             0.6666666666666666,
             "#ed7953"
            ],
            [
             0.7777777777777778,
             "#fb9f3a"
            ],
            [
             0.8888888888888888,
             "#fdca26"
            ],
            [
             1,
             "#f0f921"
            ]
           ],
           "sequentialminus": [
            [
             0,
             "#0d0887"
            ],
            [
             0.1111111111111111,
             "#46039f"
            ],
            [
             0.2222222222222222,
             "#7201a8"
            ],
            [
             0.3333333333333333,
             "#9c179e"
            ],
            [
             0.4444444444444444,
             "#bd3786"
            ],
            [
             0.5555555555555556,
             "#d8576b"
            ],
            [
             0.6666666666666666,
             "#ed7953"
            ],
            [
             0.7777777777777778,
             "#fb9f3a"
            ],
            [
             0.8888888888888888,
             "#fdca26"
            ],
            [
             1,
             "#f0f921"
            ]
           ]
          },
          "colorway": [
           "#636efa",
           "#EF553B",
           "#00cc96",
           "#ab63fa",
           "#FFA15A",
           "#19d3f3",
           "#FF6692",
           "#B6E880",
           "#FF97FF",
           "#FECB52"
          ],
          "font": {
           "color": "#2a3f5f"
          },
          "geo": {
           "bgcolor": "white",
           "lakecolor": "white",
           "landcolor": "#E5ECF6",
           "showlakes": true,
           "showland": true,
           "subunitcolor": "white"
          },
          "hoverlabel": {
           "align": "left"
          },
          "hovermode": "closest",
          "mapbox": {
           "style": "light"
          },
          "paper_bgcolor": "white",
          "plot_bgcolor": "#E5ECF6",
          "polar": {
           "angularaxis": {
            "gridcolor": "white",
            "linecolor": "white",
            "ticks": ""
           },
           "bgcolor": "#E5ECF6",
           "radialaxis": {
            "gridcolor": "white",
            "linecolor": "white",
            "ticks": ""
           }
          },
          "scene": {
           "xaxis": {
            "backgroundcolor": "#E5ECF6",
            "gridcolor": "white",
            "gridwidth": 2,
            "linecolor": "white",
            "showbackground": true,
            "ticks": "",
            "zerolinecolor": "white"
           },
           "yaxis": {
            "backgroundcolor": "#E5ECF6",
            "gridcolor": "white",
            "gridwidth": 2,
            "linecolor": "white",
            "showbackground": true,
            "ticks": "",
            "zerolinecolor": "white"
           },
           "zaxis": {
            "backgroundcolor": "#E5ECF6",
            "gridcolor": "white",
            "gridwidth": 2,
            "linecolor": "white",
            "showbackground": true,
            "ticks": "",
            "zerolinecolor": "white"
           }
          },
          "shapedefaults": {
           "line": {
            "color": "#2a3f5f"
           }
          },
          "ternary": {
           "aaxis": {
            "gridcolor": "white",
            "linecolor": "white",
            "ticks": ""
           },
           "baxis": {
            "gridcolor": "white",
            "linecolor": "white",
            "ticks": ""
           },
           "bgcolor": "#E5ECF6",
           "caxis": {
            "gridcolor": "white",
            "linecolor": "white",
            "ticks": ""
           }
          },
          "title": {
           "x": 0.05
          },
          "xaxis": {
           "automargin": true,
           "gridcolor": "white",
           "linecolor": "white",
           "ticks": "",
           "title": {
            "standoff": 15
           },
           "zerolinecolor": "white",
           "zerolinewidth": 2
          },
          "yaxis": {
           "automargin": true,
           "gridcolor": "white",
           "linecolor": "white",
           "ticks": "",
           "title": {
            "standoff": 15
           },
           "zerolinecolor": "white",
           "zerolinewidth": 2
          }
         }
        },
        "title": {
         "text": "Output from GP Regression for n = 100 input vectors for current carrying wire"
        }
       }
      }
     },
     "metadata": {},
     "output_type": "display_data"
    }
   ],
   "source": [
    "given_samples_coil = x_samples_coil.shape[0]\n",
    "\n",
    "plotter.plotter(updated_x_samples_coil_div_free, updated_y_samples_coil_div_free, updated_z_samples_coil_div_free, \n",
    "                updated_Bx_samples_coil_div_free, updated_By_samples_coil_div_free, updated_Bz_samples_coil_div_free, \n",
    "                title = f'Output from GP Regression for n = {given_samples_coil} input vectors for current carrying wire')"
   ]
  },
  {
   "cell_type": "markdown",
   "metadata": {},
   "source": [
    "#### Curl Free (most of these work very poorly)"
   ]
  },
  {
   "cell_type": "code",
   "execution_count": 20,
   "metadata": {},
   "outputs": [
    {
     "name": "stdout",
     "output_type": "stream",
     "text": [
      "Parameters for sigma_f and l specified, using these.\n"
     ]
    }
   ],
   "source": [
    "outputs_wire_curl_free = updated_vector_field(\n",
    "    x_samples_wire, y_samples_wire, z_samples_wire, \n",
    "    Bx_samples_wire, By_samples_wire, Bz_samples_wire, \n",
    "    x_wire, y_wire, z_wire, \n",
    "    kernel_func='curl_free_kernel', \n",
    "    sigma_f = 0.1, l = 0.3)\n",
    "\n",
    "# unpack outputs \n",
    "updated_x_samples_wire_curl_free =  outputs_wire_curl_free[0]\n",
    "updated_y_samples_wire_curl_free =  outputs_wire_curl_free[1]\n",
    "updated_z_samples_wire_curl_free =  outputs_wire_curl_free[2]\n",
    "updated_Bx_samples_wire_curl_free = outputs_wire_curl_free[3]\n",
    "updated_By_samples_wire_curl_free = outputs_wire_curl_free[4]\n",
    "updated_Bz_samples_wire_curl_free = outputs_wire_curl_free[5]"
   ]
  },
  {
   "cell_type": "code",
   "execution_count": 21,
   "metadata": {},
   "outputs": [
    {
     "data": {
      "application/vnd.plotly.v1+json": {
       "config": {
        "plotlyServerURL": "https://plot.ly"
       },
       "data": [
        {
         "anchor": "tail",
         "sizemode": "scaled",
         "sizeref": 2,
         "type": "cone",
         "u": {
          "bdata": "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",
          "dtype": "f8"
         },
         "v": {
          "bdata": "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",
          "dtype": "f8"
         },
         "w": {
          "bdata": "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",
          "dtype": "f8"
         },
         "x": {
          "bdata": "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",
          "dtype": "f8"
         },
         "y": {
          "bdata": "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",
          "dtype": "f8"
         },
         "z": {
          "bdata": "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",
          "dtype": "f8"
         }
        }
       ],
       "layout": {
        "scene": {
         "xaxis": {
          "title": {
           "text": "X"
          }
         },
         "yaxis": {
          "title": {
           "text": "Y"
          }
         },
         "zaxis": {
          "title": {
           "text": "Z"
          }
         }
        },
        "template": {
         "data": {
          "bar": [
           {
            "error_x": {
             "color": "#2a3f5f"
            },
            "error_y": {
             "color": "#2a3f5f"
            },
            "marker": {
             "line": {
              "color": "#E5ECF6",
              "width": 0.5
             },
             "pattern": {
              "fillmode": "overlay",
              "size": 10,
              "solidity": 0.2
             }
            },
            "type": "bar"
           }
          ],
          "barpolar": [
           {
            "marker": {
             "line": {
              "color": "#E5ECF6",
              "width": 0.5
             },
             "pattern": {
              "fillmode": "overlay",
              "size": 10,
              "solidity": 0.2
             }
            },
            "type": "barpolar"
           }
          ],
          "carpet": [
           {
            "aaxis": {
             "endlinecolor": "#2a3f5f",
             "gridcolor": "white",
             "linecolor": "white",
             "minorgridcolor": "white",
             "startlinecolor": "#2a3f5f"
            },
            "baxis": {
             "endlinecolor": "#2a3f5f",
             "gridcolor": "white",
             "linecolor": "white",
             "minorgridcolor": "white",
             "startlinecolor": "#2a3f5f"
            },
            "type": "carpet"
           }
          ],
          "choropleth": [
           {
            "colorbar": {
             "outlinewidth": 0,
             "ticks": ""
            },
            "type": "choropleth"
           }
          ],
          "contour": [
           {
            "colorbar": {
             "outlinewidth": 0,
             "ticks": ""
            },
            "colorscale": [
             [
              0,
              "#0d0887"
             ],
             [
              0.1111111111111111,
              "#46039f"
             ],
             [
              0.2222222222222222,
              "#7201a8"
             ],
             [
              0.3333333333333333,
              "#9c179e"
             ],
             [
              0.4444444444444444,
              "#bd3786"
             ],
             [
              0.5555555555555556,
              "#d8576b"
             ],
             [
              0.6666666666666666,
              "#ed7953"
             ],
             [
              0.7777777777777778,
              "#fb9f3a"
             ],
             [
              0.8888888888888888,
              "#fdca26"
             ],
             [
              1,
              "#f0f921"
             ]
            ],
            "type": "contour"
           }
          ],
          "contourcarpet": [
           {
            "colorbar": {
             "outlinewidth": 0,
             "ticks": ""
            },
            "type": "contourcarpet"
           }
          ],
          "heatmap": [
           {
            "colorbar": {
             "outlinewidth": 0,
             "ticks": ""
            },
            "colorscale": [
             [
              0,
              "#0d0887"
             ],
             [
              0.1111111111111111,
              "#46039f"
             ],
             [
              0.2222222222222222,
              "#7201a8"
             ],
             [
              0.3333333333333333,
              "#9c179e"
             ],
             [
              0.4444444444444444,
              "#bd3786"
             ],
             [
              0.5555555555555556,
              "#d8576b"
             ],
             [
              0.6666666666666666,
              "#ed7953"
             ],
             [
              0.7777777777777778,
              "#fb9f3a"
             ],
             [
              0.8888888888888888,
              "#fdca26"
             ],
             [
              1,
              "#f0f921"
             ]
            ],
            "type": "heatmap"
           }
          ],
          "histogram": [
           {
            "marker": {
             "pattern": {
              "fillmode": "overlay",
              "size": 10,
              "solidity": 0.2
             }
            },
            "type": "histogram"
           }
          ],
          "histogram2d": [
           {
            "colorbar": {
             "outlinewidth": 0,
             "ticks": ""
            },
            "colorscale": [
             [
              0,
              "#0d0887"
             ],
             [
              0.1111111111111111,
              "#46039f"
             ],
             [
              0.2222222222222222,
              "#7201a8"
             ],
             [
              0.3333333333333333,
              "#9c179e"
             ],
             [
              0.4444444444444444,
              "#bd3786"
             ],
             [
              0.5555555555555556,
              "#d8576b"
             ],
             [
              0.6666666666666666,
              "#ed7953"
             ],
             [
              0.7777777777777778,
              "#fb9f3a"
             ],
             [
              0.8888888888888888,
              "#fdca26"
             ],
             [
              1,
              "#f0f921"
             ]
            ],
            "type": "histogram2d"
           }
          ],
          "histogram2dcontour": [
           {
            "colorbar": {
             "outlinewidth": 0,
             "ticks": ""
            },
            "colorscale": [
             [
              0,
              "#0d0887"
             ],
             [
              0.1111111111111111,
              "#46039f"
             ],
             [
              0.2222222222222222,
              "#7201a8"
             ],
             [
              0.3333333333333333,
              "#9c179e"
             ],
             [
              0.4444444444444444,
              "#bd3786"
             ],
             [
              0.5555555555555556,
              "#d8576b"
             ],
             [
              0.6666666666666666,
              "#ed7953"
             ],
             [
              0.7777777777777778,
              "#fb9f3a"
             ],
             [
              0.8888888888888888,
              "#fdca26"
             ],
             [
              1,
              "#f0f921"
             ]
            ],
            "type": "histogram2dcontour"
           }
          ],
          "mesh3d": [
           {
            "colorbar": {
             "outlinewidth": 0,
             "ticks": ""
            },
            "type": "mesh3d"
           }
          ],
          "parcoords": [
           {
            "line": {
             "colorbar": {
              "outlinewidth": 0,
              "ticks": ""
             }
            },
            "type": "parcoords"
           }
          ],
          "pie": [
           {
            "automargin": true,
            "type": "pie"
           }
          ],
          "scatter": [
           {
            "fillpattern": {
             "fillmode": "overlay",
             "size": 10,
             "solidity": 0.2
            },
            "type": "scatter"
           }
          ],
          "scatter3d": [
           {
            "line": {
             "colorbar": {
              "outlinewidth": 0,
              "ticks": ""
             }
            },
            "marker": {
             "colorbar": {
              "outlinewidth": 0,
              "ticks": ""
             }
            },
            "type": "scatter3d"
           }
          ],
          "scattercarpet": [
           {
            "marker": {
             "colorbar": {
              "outlinewidth": 0,
              "ticks": ""
             }
            },
            "type": "scattercarpet"
           }
          ],
          "scattergeo": [
           {
            "marker": {
             "colorbar": {
              "outlinewidth": 0,
              "ticks": ""
             }
            },
            "type": "scattergeo"
           }
          ],
          "scattergl": [
           {
            "marker": {
             "colorbar": {
              "outlinewidth": 0,
              "ticks": ""
             }
            },
            "type": "scattergl"
           }
          ],
          "scattermap": [
           {
            "marker": {
             "colorbar": {
              "outlinewidth": 0,
              "ticks": ""
             }
            },
            "type": "scattermap"
           }
          ],
          "scattermapbox": [
           {
            "marker": {
             "colorbar": {
              "outlinewidth": 0,
              "ticks": ""
             }
            },
            "type": "scattermapbox"
           }
          ],
          "scatterpolar": [
           {
            "marker": {
             "colorbar": {
              "outlinewidth": 0,
              "ticks": ""
             }
            },
            "type": "scatterpolar"
           }
          ],
          "scatterpolargl": [
           {
            "marker": {
             "colorbar": {
              "outlinewidth": 0,
              "ticks": ""
             }
            },
            "type": "scatterpolargl"
           }
          ],
          "scatterternary": [
           {
            "marker": {
             "colorbar": {
              "outlinewidth": 0,
              "ticks": ""
             }
            },
            "type": "scatterternary"
           }
          ],
          "surface": [
           {
            "colorbar": {
             "outlinewidth": 0,
             "ticks": ""
            },
            "colorscale": [
             [
              0,
              "#0d0887"
             ],
             [
              0.1111111111111111,
              "#46039f"
             ],
             [
              0.2222222222222222,
              "#7201a8"
             ],
             [
              0.3333333333333333,
              "#9c179e"
             ],
             [
              0.4444444444444444,
              "#bd3786"
             ],
             [
              0.5555555555555556,
              "#d8576b"
             ],
             [
              0.6666666666666666,
              "#ed7953"
             ],
             [
              0.7777777777777778,
              "#fb9f3a"
             ],
             [
              0.8888888888888888,
              "#fdca26"
             ],
             [
              1,
              "#f0f921"
             ]
            ],
            "type": "surface"
           }
          ],
          "table": [
           {
            "cells": {
             "fill": {
              "color": "#EBF0F8"
             },
             "line": {
              "color": "white"
             }
            },
            "header": {
             "fill": {
              "color": "#C8D4E3"
             },
             "line": {
              "color": "white"
             }
            },
            "type": "table"
           }
          ]
         },
         "layout": {
          "annotationdefaults": {
           "arrowcolor": "#2a3f5f",
           "arrowhead": 0,
           "arrowwidth": 1
          },
          "autotypenumbers": "strict",
          "coloraxis": {
           "colorbar": {
            "outlinewidth": 0,
            "ticks": ""
           }
          },
          "colorscale": {
           "diverging": [
            [
             0,
             "#8e0152"
            ],
            [
             0.1,
             "#c51b7d"
            ],
            [
             0.2,
             "#de77ae"
            ],
            [
             0.3,
             "#f1b6da"
            ],
            [
             0.4,
             "#fde0ef"
            ],
            [
             0.5,
             "#f7f7f7"
            ],
            [
             0.6,
             "#e6f5d0"
            ],
            [
             0.7,
             "#b8e186"
            ],
            [
             0.8,
             "#7fbc41"
            ],
            [
             0.9,
             "#4d9221"
            ],
            [
             1,
             "#276419"
            ]
           ],
           "sequential": [
            [
             0,
             "#0d0887"
            ],
            [
             0.1111111111111111,
             "#46039f"
            ],
            [
             0.2222222222222222,
             "#7201a8"
            ],
            [
             0.3333333333333333,
             "#9c179e"
            ],
            [
             0.4444444444444444,
             "#bd3786"
            ],
            [
             0.5555555555555556,
             "#d8576b"
            ],
            [
             0.6666666666666666,
             "#ed7953"
            ],
            [
             0.7777777777777778,
             "#fb9f3a"
            ],
            [
             0.8888888888888888,
             "#fdca26"
            ],
            [
             1,
             "#f0f921"
            ]
           ],
           "sequentialminus": [
            [
             0,
             "#0d0887"
            ],
            [
             0.1111111111111111,
             "#46039f"
            ],
            [
             0.2222222222222222,
             "#7201a8"
            ],
            [
             0.3333333333333333,
             "#9c179e"
            ],
            [
             0.4444444444444444,
             "#bd3786"
            ],
            [
             0.5555555555555556,
             "#d8576b"
            ],
            [
             0.6666666666666666,
             "#ed7953"
            ],
            [
             0.7777777777777778,
             "#fb9f3a"
            ],
            [
             0.8888888888888888,
             "#fdca26"
            ],
            [
             1,
             "#f0f921"
            ]
           ]
          },
          "colorway": [
           "#636efa",
           "#EF553B",
           "#00cc96",
           "#ab63fa",
           "#FFA15A",
           "#19d3f3",
           "#FF6692",
           "#B6E880",
           "#FF97FF",
           "#FECB52"
          ],
          "font": {
           "color": "#2a3f5f"
          },
          "geo": {
           "bgcolor": "white",
           "lakecolor": "white",
           "landcolor": "#E5ECF6",
           "showlakes": true,
           "showland": true,
           "subunitcolor": "white"
          },
          "hoverlabel": {
           "align": "left"
          },
          "hovermode": "closest",
          "mapbox": {
           "style": "light"
          },
          "paper_bgcolor": "white",
          "plot_bgcolor": "#E5ECF6",
          "polar": {
           "angularaxis": {
            "gridcolor": "white",
            "linecolor": "white",
            "ticks": ""
           },
           "bgcolor": "#E5ECF6",
           "radialaxis": {
            "gridcolor": "white",
            "linecolor": "white",
            "ticks": ""
           }
          },
          "scene": {
           "xaxis": {
            "backgroundcolor": "#E5ECF6",
            "gridcolor": "white",
            "gridwidth": 2,
            "linecolor": "white",
            "showbackground": true,
            "ticks": "",
            "zerolinecolor": "white"
           },
           "yaxis": {
            "backgroundcolor": "#E5ECF6",
            "gridcolor": "white",
            "gridwidth": 2,
            "linecolor": "white",
            "showbackground": true,
            "ticks": "",
            "zerolinecolor": "white"
           },
           "zaxis": {
            "backgroundcolor": "#E5ECF6",
            "gridcolor": "white",
            "gridwidth": 2,
            "linecolor": "white",
            "showbackground": true,
            "ticks": "",
            "zerolinecolor": "white"
           }
          },
          "shapedefaults": {
           "line": {
            "color": "#2a3f5f"
           }
          },
          "ternary": {
           "aaxis": {
            "gridcolor": "white",
            "linecolor": "white",
            "ticks": ""
           },
           "baxis": {
            "gridcolor": "white",
            "linecolor": "white",
            "ticks": ""
           },
           "bgcolor": "#E5ECF6",
           "caxis": {
            "gridcolor": "white",
            "linecolor": "white",
            "ticks": ""
           }
          },
          "title": {
           "x": 0.05
          },
          "xaxis": {
           "automargin": true,
           "gridcolor": "white",
           "linecolor": "white",
           "ticks": "",
           "title": {
            "standoff": 15
           },
           "zerolinecolor": "white",
           "zerolinewidth": 2
          },
          "yaxis": {
           "automargin": true,
           "gridcolor": "white",
           "linecolor": "white",
           "ticks": "",
           "title": {
            "standoff": 15
           },
           "zerolinecolor": "white",
           "zerolinewidth": 2
          }
         }
        }
       }
      }
     },
     "metadata": {},
     "output_type": "display_data"
    }
   ],
   "source": [
    "plotter.plotter(updated_x_samples_wire_curl_free, updated_y_samples_wire_curl_free, updated_z_samples_wire_curl_free, \n",
    "                updated_Bx_samples_wire_curl_free, updated_By_samples_wire_curl_free, updated_Bz_samples_wire_curl_free)"
   ]
  },
  {
   "cell_type": "code",
   "execution_count": null,
   "metadata": {},
   "outputs": [
    {
     "name": "stdout",
     "output_type": "stream",
     "text": [
      "Parameters for sigma_f and l specified, using these.\n"
     ]
    }
   ],
   "source": [
    "outputs_coil_curl_free= updated_vector_field(\n",
    "    x_samples_coil, y_samples_coil, z_samples_coil, \n",
    "    Bx_samples_coil, By_samples_coil, Bz_samples_coil, \n",
    "    x_coil, y_coil, z_coil, \n",
    "    kernel_func='curl_free_kernel',\n",
    "    sigma_f = 0.1, l = 0.3)\n",
    "\n",
    "# unpack outputs \n",
    "updated_x_samples_coil_curl_free =  outputs_coil_curl_free[0]\n",
    "updated_y_samples_coil_curl_free =  outputs_coil_curl_free[1]\n",
    "updated_z_samples_coil_curl_free =  outputs_coil_curl_free[2]\n",
    "updated_Bx_samples_coil_curl_free = outputs_coil_curl_free[3]\n",
    "updated_By_samples_coil_curl_free = outputs_coil_curl_free[4]\n",
    "updated_Bz_samples_coil_curl_free = outputs_coil_curl_free[5]"
   ]
  },
  {
   "cell_type": "code",
   "execution_count": 23,
   "metadata": {},
   "outputs": [
    {
     "data": {
      "application/vnd.plotly.v1+json": {
       "config": {
        "plotlyServerURL": "https://plot.ly"
       },
       "data": [
        {
         "anchor": "tail",
         "sizemode": "scaled",
         "sizeref": 2,
         "type": "cone",
         "u": {
          "bdata": "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",
          "dtype": "f8"
         },
         "v": {
          "bdata": "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",
          "dtype": "f8"
         },
         "w": {
          "bdata": "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",
          "dtype": "f8"
         },
         "x": {
          "bdata": "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",
          "dtype": "f8"
         },
         "y": {
          "bdata": "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",
          "dtype": "f8"
         },
         "z": {
          "bdata": "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",
          "dtype": "f8"
         }
        }
       ],
       "layout": {
        "scene": {
         "xaxis": {
          "title": {
           "text": "X"
          }
         },
         "yaxis": {
          "title": {
           "text": "Y"
          }
         },
         "zaxis": {
          "title": {
           "text": "Z"
          }
         }
        },
        "template": {
         "data": {
          "bar": [
           {
            "error_x": {
             "color": "#2a3f5f"
            },
            "error_y": {
             "color": "#2a3f5f"
            },
            "marker": {
             "line": {
              "color": "#E5ECF6",
              "width": 0.5
             },
             "pattern": {
              "fillmode": "overlay",
              "size": 10,
              "solidity": 0.2
             }
            },
            "type": "bar"
           }
          ],
          "barpolar": [
           {
            "marker": {
             "line": {
              "color": "#E5ECF6",
              "width": 0.5
             },
             "pattern": {
              "fillmode": "overlay",
              "size": 10,
              "solidity": 0.2
             }
            },
            "type": "barpolar"
           }
          ],
          "carpet": [
           {
            "aaxis": {
             "endlinecolor": "#2a3f5f",
             "gridcolor": "white",
             "linecolor": "white",
             "minorgridcolor": "white",
             "startlinecolor": "#2a3f5f"
            },
            "baxis": {
             "endlinecolor": "#2a3f5f",
             "gridcolor": "white",
             "linecolor": "white",
             "minorgridcolor": "white",
             "startlinecolor": "#2a3f5f"
            },
            "type": "carpet"
           }
          ],
          "choropleth": [
           {
            "colorbar": {
             "outlinewidth": 0,
             "ticks": ""
            },
            "type": "choropleth"
           }
          ],
          "contour": [
           {
            "colorbar": {
             "outlinewidth": 0,
             "ticks": ""
            },
            "colorscale": [
             [
              0,
              "#0d0887"
             ],
             [
              0.1111111111111111,
              "#46039f"
             ],
             [
              0.2222222222222222,
              "#7201a8"
             ],
             [
              0.3333333333333333,
              "#9c179e"
             ],
             [
              0.4444444444444444,
              "#bd3786"
             ],
             [
              0.5555555555555556,
              "#d8576b"
             ],
             [
              0.6666666666666666,
              "#ed7953"
             ],
             [
              0.7777777777777778,
              "#fb9f3a"
             ],
             [
              0.8888888888888888,
              "#fdca26"
             ],
             [
              1,
              "#f0f921"
             ]
            ],
            "type": "contour"
           }
          ],
          "contourcarpet": [
           {
            "colorbar": {
             "outlinewidth": 0,
             "ticks": ""
            },
            "type": "contourcarpet"
           }
          ],
          "heatmap": [
           {
            "colorbar": {
             "outlinewidth": 0,
             "ticks": ""
            },
            "colorscale": [
             [
              0,
              "#0d0887"
             ],
             [
              0.1111111111111111,
              "#46039f"
             ],
             [
              0.2222222222222222,
              "#7201a8"
             ],
             [
              0.3333333333333333,
              "#9c179e"
             ],
             [
              0.4444444444444444,
              "#bd3786"
             ],
             [
              0.5555555555555556,
              "#d8576b"
             ],
             [
              0.6666666666666666,
              "#ed7953"
             ],
             [
              0.7777777777777778,
              "#fb9f3a"
             ],
             [
              0.8888888888888888,
              "#fdca26"
             ],
             [
              1,
              "#f0f921"
             ]
            ],
            "type": "heatmap"
           }
          ],
          "histogram": [
           {
            "marker": {
             "pattern": {
              "fillmode": "overlay",
              "size": 10,
              "solidity": 0.2
             }
            },
            "type": "histogram"
           }
          ],
          "histogram2d": [
           {
            "colorbar": {
             "outlinewidth": 0,
             "ticks": ""
            },
            "colorscale": [
             [
              0,
              "#0d0887"
             ],
             [
              0.1111111111111111,
              "#46039f"
             ],
             [
              0.2222222222222222,
              "#7201a8"
             ],
             [
              0.3333333333333333,
              "#9c179e"
             ],
             [
              0.4444444444444444,
              "#bd3786"
             ],
             [
              0.5555555555555556,
              "#d8576b"
             ],
             [
              0.6666666666666666,
              "#ed7953"
             ],
             [
              0.7777777777777778,
              "#fb9f3a"
             ],
             [
              0.8888888888888888,
              "#fdca26"
             ],
             [
              1,
              "#f0f921"
             ]
            ],
            "type": "histogram2d"
           }
          ],
          "histogram2dcontour": [
           {
            "colorbar": {
             "outlinewidth": 0,
             "ticks": ""
            },
            "colorscale": [
             [
              0,
              "#0d0887"
             ],
             [
              0.1111111111111111,
              "#46039f"
             ],
             [
              0.2222222222222222,
              "#7201a8"
             ],
             [
              0.3333333333333333,
              "#9c179e"
             ],
             [
              0.4444444444444444,
              "#bd3786"
             ],
             [
              0.5555555555555556,
              "#d8576b"
             ],
             [
              0.6666666666666666,
              "#ed7953"
             ],
             [
              0.7777777777777778,
              "#fb9f3a"
             ],
             [
              0.8888888888888888,
              "#fdca26"
             ],
             [
              1,
              "#f0f921"
             ]
            ],
            "type": "histogram2dcontour"
           }
          ],
          "mesh3d": [
           {
            "colorbar": {
             "outlinewidth": 0,
             "ticks": ""
            },
            "type": "mesh3d"
           }
          ],
          "parcoords": [
           {
            "line": {
             "colorbar": {
              "outlinewidth": 0,
              "ticks": ""
             }
            },
            "type": "parcoords"
           }
          ],
          "pie": [
           {
            "automargin": true,
            "type": "pie"
           }
          ],
          "scatter": [
           {
            "fillpattern": {
             "fillmode": "overlay",
             "size": 10,
             "solidity": 0.2
            },
            "type": "scatter"
           }
          ],
          "scatter3d": [
           {
            "line": {
             "colorbar": {
              "outlinewidth": 0,
              "ticks": ""
             }
            },
            "marker": {
             "colorbar": {
              "outlinewidth": 0,
              "ticks": ""
             }
            },
            "type": "scatter3d"
           }
          ],
          "scattercarpet": [
           {
            "marker": {
             "colorbar": {
              "outlinewidth": 0,
              "ticks": ""
             }
            },
            "type": "scattercarpet"
           }
          ],
          "scattergeo": [
           {
            "marker": {
             "colorbar": {
              "outlinewidth": 0,
              "ticks": ""
             }
            },
            "type": "scattergeo"
           }
          ],
          "scattergl": [
           {
            "marker": {
             "colorbar": {
              "outlinewidth": 0,
              "ticks": ""
             }
            },
            "type": "scattergl"
           }
          ],
          "scattermap": [
           {
            "marker": {
             "colorbar": {
              "outlinewidth": 0,
              "ticks": ""
             }
            },
            "type": "scattermap"
           }
          ],
          "scattermapbox": [
           {
            "marker": {
             "colorbar": {
              "outlinewidth": 0,
              "ticks": ""
             }
            },
            "type": "scattermapbox"
           }
          ],
          "scatterpolar": [
           {
            "marker": {
             "colorbar": {
              "outlinewidth": 0,
              "ticks": ""
             }
            },
            "type": "scatterpolar"
           }
          ],
          "scatterpolargl": [
           {
            "marker": {
             "colorbar": {
              "outlinewidth": 0,
              "ticks": ""
             }
            },
            "type": "scatterpolargl"
           }
          ],
          "scatterternary": [
           {
            "marker": {
             "colorbar": {
              "outlinewidth": 0,
              "ticks": ""
             }
            },
            "type": "scatterternary"
           }
          ],
          "surface": [
           {
            "colorbar": {
             "outlinewidth": 0,
             "ticks": ""
            },
            "colorscale": [
             [
              0,
              "#0d0887"
             ],
             [
              0.1111111111111111,
              "#46039f"
             ],
             [
              0.2222222222222222,
              "#7201a8"
             ],
             [
              0.3333333333333333,
              "#9c179e"
             ],
             [
              0.4444444444444444,
              "#bd3786"
             ],
             [
              0.5555555555555556,
              "#d8576b"
             ],
             [
              0.6666666666666666,
              "#ed7953"
             ],
             [
              0.7777777777777778,
              "#fb9f3a"
             ],
             [
              0.8888888888888888,
              "#fdca26"
             ],
             [
              1,
              "#f0f921"
             ]
            ],
            "type": "surface"
           }
          ],
          "table": [
           {
            "cells": {
             "fill": {
              "color": "#EBF0F8"
             },
             "line": {
              "color": "white"
             }
            },
            "header": {
             "fill": {
              "color": "#C8D4E3"
             },
             "line": {
              "color": "white"
             }
            },
            "type": "table"
           }
          ]
         },
         "layout": {
          "annotationdefaults": {
           "arrowcolor": "#2a3f5f",
           "arrowhead": 0,
           "arrowwidth": 1
          },
          "autotypenumbers": "strict",
          "coloraxis": {
           "colorbar": {
            "outlinewidth": 0,
            "ticks": ""
           }
          },
          "colorscale": {
           "diverging": [
            [
             0,
             "#8e0152"
            ],
            [
             0.1,
             "#c51b7d"
            ],
            [
             0.2,
             "#de77ae"
            ],
            [
             0.3,
             "#f1b6da"
            ],
            [
             0.4,
             "#fde0ef"
            ],
            [
             0.5,
             "#f7f7f7"
            ],
            [
             0.6,
             "#e6f5d0"
            ],
            [
             0.7,
             "#b8e186"
            ],
            [
             0.8,
             "#7fbc41"
            ],
            [
             0.9,
             "#4d9221"
            ],
            [
             1,
             "#276419"
            ]
           ],
           "sequential": [
            [
             0,
             "#0d0887"
            ],
            [
             0.1111111111111111,
             "#46039f"
            ],
            [
             0.2222222222222222,
             "#7201a8"
            ],
            [
             0.3333333333333333,
             "#9c179e"
            ],
            [
             0.4444444444444444,
             "#bd3786"
            ],
            [
             0.5555555555555556,
             "#d8576b"
            ],
            [
             0.6666666666666666,
             "#ed7953"
            ],
            [
             0.7777777777777778,
             "#fb9f3a"
            ],
            [
             0.8888888888888888,
             "#fdca26"
            ],
            [
             1,
             "#f0f921"
            ]
           ],
           "sequentialminus": [
            [
             0,
             "#0d0887"
            ],
            [
             0.1111111111111111,
             "#46039f"
            ],
            [
             0.2222222222222222,
             "#7201a8"
            ],
            [
             0.3333333333333333,
             "#9c179e"
            ],
            [
             0.4444444444444444,
             "#bd3786"
            ],
            [
             0.5555555555555556,
             "#d8576b"
            ],
            [
             0.6666666666666666,
             "#ed7953"
            ],
            [
             0.7777777777777778,
             "#fb9f3a"
            ],
            [
             0.8888888888888888,
             "#fdca26"
            ],
            [
             1,
             "#f0f921"
            ]
           ]
          },
          "colorway": [
           "#636efa",
           "#EF553B",
           "#00cc96",
           "#ab63fa",
           "#FFA15A",
           "#19d3f3",
           "#FF6692",
           "#B6E880",
           "#FF97FF",
           "#FECB52"
          ],
          "font": {
           "color": "#2a3f5f"
          },
          "geo": {
           "bgcolor": "white",
           "lakecolor": "white",
           "landcolor": "#E5ECF6",
           "showlakes": true,
           "showland": true,
           "subunitcolor": "white"
          },
          "hoverlabel": {
           "align": "left"
          },
          "hovermode": "closest",
          "mapbox": {
           "style": "light"
          },
          "paper_bgcolor": "white",
          "plot_bgcolor": "#E5ECF6",
          "polar": {
           "angularaxis": {
            "gridcolor": "white",
            "linecolor": "white",
            "ticks": ""
           },
           "bgcolor": "#E5ECF6",
           "radialaxis": {
            "gridcolor": "white",
            "linecolor": "white",
            "ticks": ""
           }
          },
          "scene": {
           "xaxis": {
            "backgroundcolor": "#E5ECF6",
            "gridcolor": "white",
            "gridwidth": 2,
            "linecolor": "white",
            "showbackground": true,
            "ticks": "",
            "zerolinecolor": "white"
           },
           "yaxis": {
            "backgroundcolor": "#E5ECF6",
            "gridcolor": "white",
            "gridwidth": 2,
            "linecolor": "white",
            "showbackground": true,
            "ticks": "",
            "zerolinecolor": "white"
           },
           "zaxis": {
            "backgroundcolor": "#E5ECF6",
            "gridcolor": "white",
            "gridwidth": 2,
            "linecolor": "white",
            "showbackground": true,
            "ticks": "",
            "zerolinecolor": "white"
           }
          },
          "shapedefaults": {
           "line": {
            "color": "#2a3f5f"
           }
          },
          "ternary": {
           "aaxis": {
            "gridcolor": "white",
            "linecolor": "white",
            "ticks": ""
           },
           "baxis": {
            "gridcolor": "white",
            "linecolor": "white",
            "ticks": ""
           },
           "bgcolor": "#E5ECF6",
           "caxis": {
            "gridcolor": "white",
            "linecolor": "white",
            "ticks": ""
           }
          },
          "title": {
           "x": 0.05
          },
          "xaxis": {
           "automargin": true,
           "gridcolor": "white",
           "linecolor": "white",
           "ticks": "",
           "title": {
            "standoff": 15
           },
           "zerolinecolor": "white",
           "zerolinewidth": 2
          },
          "yaxis": {
           "automargin": true,
           "gridcolor": "white",
           "linecolor": "white",
           "ticks": "",
           "title": {
            "standoff": 15
           },
           "zerolinecolor": "white",
           "zerolinewidth": 2
          }
         }
        }
       }
      }
     },
     "metadata": {},
     "output_type": "display_data"
    }
   ],
   "source": [
    "plotter.plotter(updated_x_samples_coil_curl_free, updated_y_samples_coil_curl_free, updated_z_samples_coil_curl_free, \n",
    "                updated_Bx_samples_coil_curl_free, updated_By_samples_coil_curl_free, updated_Bz_samples_coil_curl_free)"
   ]
  },
  {
   "cell_type": "code",
   "execution_count": null,
   "metadata": {},
   "outputs": [],
   "source": []
  }
 ],
 "metadata": {
  "kernelspec": {
   "display_name": "env",
   "language": "python",
   "name": "python3"
  },
  "language_info": {
   "codemirror_mode": {
    "name": "ipython",
    "version": 3
   },
   "file_extension": ".py",
   "mimetype": "text/x-python",
   "name": "python",
   "nbconvert_exporter": "python",
   "pygments_lexer": "ipython3",
   "version": "3.12.0"
  }
 },
 "nbformat": 4,
 "nbformat_minor": 2
}

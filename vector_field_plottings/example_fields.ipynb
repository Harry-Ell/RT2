{
 "cells": [
  {
   "cell_type": "markdown",
   "metadata": {},
   "source": [
    "# Vector field plottings "
   ]
  },
  {
   "cell_type": "code",
   "execution_count": 1,
   "metadata": {},
   "outputs": [],
   "source": [
    "import numpy as np \n",
    "import plotter # my 3d plotting code with plotly\n",
    "import matplotlib.pyplot as plt "
   ]
  },
  {
   "cell_type": "markdown",
   "metadata": {},
   "source": [
    "## Two Example Fields and Call Sequences"
   ]
  },
  {
   "cell_type": "code",
   "execution_count": 2,
   "metadata": {},
   "outputs": [
    {
     "data": {
      "application/vnd.plotly.v1+json": {
       "config": {
        "plotlyServerURL": "https://plot.ly"
       },
       "data": [
        {
         "anchor": "tail",
         "sizemode": "scaled",
         "sizeref": 2,
         "type": "cone",
         "u": {
          "bdata": "AAAAAAAA8L8AAAAAAADwvwAAAAAAAPC/AAAAAAAA8L8AAAAAAADwvwAAAAAAAOC/AAAAAAAA4L8AAAAAAADgvwAAAAAAAOC/AAAAAAAA4L8AAAAAAAAAAAAAAAAAAAAAAAAAAAAAAAAAAAAAAAAAAAAAAAAAAAAAAAAAAAAA4D8AAAAAAADgPwAAAAAAAOA/AAAAAAAA4D8AAAAAAADgPwAAAAAAAPA/AAAAAAAA8D8AAAAAAADwPwAAAAAAAPA/AAAAAAAA8D8AAAAAAADwvwAAAAAAAPC/AAAAAAAA8L8AAAAAAADwvwAAAAAAAPC/AAAAAAAA4L8AAAAAAADgvwAAAAAAAOC/AAAAAAAA4L8AAAAAAADgvwAAAAAAAAAAAAAAAAAAAAAAAAAAAAAAAAAAAAAAAAAAAAAAAAAAAAAAAAAAAADgPwAAAAAAAOA/AAAAAAAA4D8AAAAAAADgPwAAAAAAAOA/AAAAAAAA8D8AAAAAAADwPwAAAAAAAPA/AAAAAAAA8D8AAAAAAADwPwAAAAAAAPC/AAAAAAAA8L8AAAAAAADwvwAAAAAAAPC/AAAAAAAA8L8AAAAAAADgvwAAAAAAAOC/AAAAAAAA4L8AAAAAAADgvwAAAAAAAOC/AAAAAAAAAAAAAAAAAAAAAAAAAAAAAAAAAAAAAAAAAAAAAAAAAAAAAAAAAAAAAOA/AAAAAAAA4D8AAAAAAADgPwAAAAAAAOA/AAAAAAAA4D8AAAAAAADwPwAAAAAAAPA/AAAAAAAA8D8AAAAAAADwPwAAAAAAAPA/AAAAAAAA8L8AAAAAAADwvwAAAAAAAPC/AAAAAAAA8L8AAAAAAADwvwAAAAAAAOC/AAAAAAAA4L8AAAAAAADgvwAAAAAAAOC/AAAAAAAA4L8AAAAAAAAAAAAAAAAAAAAAAAAAAAAAAAAAAAAAAAAAAAAAAAAAAAAAAAAAAAAA4D8AAAAAAADgPwAAAAAAAOA/AAAAAAAA4D8AAAAAAADgPwAAAAAAAPA/AAAAAAAA8D8AAAAAAADwPwAAAAAAAPA/AAAAAAAA8D8AAAAAAADwvwAAAAAAAPC/AAAAAAAA8L8AAAAAAADwvwAAAAAAAPC/AAAAAAAA4L8AAAAAAADgvwAAAAAAAOC/AAAAAAAA4L8AAAAAAADgvwAAAAAAAAAAAAAAAAAAAAAAAAAAAAAAAAAAAAAAAAAAAAAAAAAAAAAAAAAAAADgPwAAAAAAAOA/AAAAAAAA4D8AAAAAAADgPwAAAAAAAOA/AAAAAAAA8D8AAAAAAADwPwAAAAAAAPA/AAAAAAAA8D8AAAAAAADwPw==",
          "dtype": "f8"
         },
         "v": {
          "bdata": "AAAAAAAA8L8AAAAAAADwvwAAAAAAAPC/AAAAAAAA8L8AAAAAAADwvwAAAAAAAPC/AAAAAAAA8L8AAAAAAADwvwAAAAAAAPC/AAAAAAAA8L8AAAAAAADwvwAAAAAAAPC/AAAAAAAA8L8AAAAAAADwvwAAAAAAAPC/AAAAAAAA8L8AAAAAAADwvwAAAAAAAPC/AAAAAAAA8L8AAAAAAADwvwAAAAAAAPC/AAAAAAAA8L8AAAAAAADwvwAAAAAAAPC/AAAAAAAA8L8AAAAAAADgvwAAAAAAAOC/AAAAAAAA4L8AAAAAAADgvwAAAAAAAOC/AAAAAAAA4L8AAAAAAADgvwAAAAAAAOC/AAAAAAAA4L8AAAAAAADgvwAAAAAAAOC/AAAAAAAA4L8AAAAAAADgvwAAAAAAAOC/AAAAAAAA4L8AAAAAAADgvwAAAAAAAOC/AAAAAAAA4L8AAAAAAADgvwAAAAAAAOC/AAAAAAAA4L8AAAAAAADgvwAAAAAAAOC/AAAAAAAA4L8AAAAAAADgvwAAAAAAAAAAAAAAAAAAAAAAAAAAAAAAAAAAAAAAAAAAAAAAAAAAAAAAAAAAAAAAAAAAAAAAAAAAAAAAAAAAAAAAAAAAAAAAAAAAAAAAAAAAAAAAAAAAAAAAAAAAAAAAAAAAAAAAAAAAAAAAAAAAAAAAAAAAAAAAAAAAAAAAAAAAAAAAAAAAAAAAAAAAAAAAAAAAAAAAAAAAAAAAAAAAAAAAAAAAAAAAAAAAAAAAAAAAAAAAAAAAAAAAAAAAAAAAAAAAAAAAAAAAAAAAAAAA4D8AAAAAAADgPwAAAAAAAOA/AAAAAAAA4D8AAAAAAADgPwAAAAAAAOA/AAAAAAAA4D8AAAAAAADgPwAAAAAAAOA/AAAAAAAA4D8AAAAAAADgPwAAAAAAAOA/AAAAAAAA4D8AAAAAAADgPwAAAAAAAOA/AAAAAAAA4D8AAAAAAADgPwAAAAAAAOA/AAAAAAAA4D8AAAAAAADgPwAAAAAAAOA/AAAAAAAA4D8AAAAAAADgPwAAAAAAAOA/AAAAAAAA4D8AAAAAAADwPwAAAAAAAPA/AAAAAAAA8D8AAAAAAADwPwAAAAAAAPA/AAAAAAAA8D8AAAAAAADwPwAAAAAAAPA/AAAAAAAA8D8AAAAAAADwPwAAAAAAAPA/AAAAAAAA8D8AAAAAAADwPwAAAAAAAPA/AAAAAAAA8D8AAAAAAADwPwAAAAAAAPA/AAAAAAAA8D8AAAAAAADwPwAAAAAAAPA/AAAAAAAA8D8AAAAAAADwPwAAAAAAAPA/AAAAAAAA8D8AAAAAAADwPw==",
          "dtype": "f8"
         },
         "w": {
          "bdata": "AAAAAAAA8L8AAAAAAADgvwAAAAAAAAAAAAAAAAAA4D8AAAAAAADwPwAAAAAAAPC/AAAAAAAA4L8AAAAAAAAAAAAAAAAAAOA/AAAAAAAA8D8AAAAAAADwvwAAAAAAAOC/AAAAAAAAAAAAAAAAAADgPwAAAAAAAPA/AAAAAAAA8L8AAAAAAADgvwAAAAAAAAAAAAAAAAAA4D8AAAAAAADwPwAAAAAAAPC/AAAAAAAA4L8AAAAAAAAAAAAAAAAAAOA/AAAAAAAA8D8AAAAAAADwvwAAAAAAAOC/AAAAAAAAAAAAAAAAAADgPwAAAAAAAPA/AAAAAAAA8L8AAAAAAADgvwAAAAAAAAAAAAAAAAAA4D8AAAAAAADwPwAAAAAAAPC/AAAAAAAA4L8AAAAAAAAAAAAAAAAAAOA/AAAAAAAA8D8AAAAAAADwvwAAAAAAAOC/AAAAAAAAAAAAAAAAAADgPwAAAAAAAPA/AAAAAAAA8L8AAAAAAADgvwAAAAAAAAAAAAAAAAAA4D8AAAAAAADwPwAAAAAAAPC/AAAAAAAA4L8AAAAAAAAAAAAAAAAAAOA/AAAAAAAA8D8AAAAAAADwvwAAAAAAAOC/AAAAAAAAAAAAAAAAAADgPwAAAAAAAPA/AAAAAAAA8L8AAAAAAADgvwAAAAAAAAAAAAAAAAAA4D8AAAAAAADwPwAAAAAAAPC/AAAAAAAA4L8AAAAAAAAAAAAAAAAAAOA/AAAAAAAA8D8AAAAAAADwvwAAAAAAAOC/AAAAAAAAAAAAAAAAAADgPwAAAAAAAPA/AAAAAAAA8L8AAAAAAADgvwAAAAAAAAAAAAAAAAAA4D8AAAAAAADwPwAAAAAAAPC/AAAAAAAA4L8AAAAAAAAAAAAAAAAAAOA/AAAAAAAA8D8AAAAAAADwvwAAAAAAAOC/AAAAAAAAAAAAAAAAAADgPwAAAAAAAPA/AAAAAAAA8L8AAAAAAADgvwAAAAAAAAAAAAAAAAAA4D8AAAAAAADwPwAAAAAAAPC/AAAAAAAA4L8AAAAAAAAAAAAAAAAAAOA/AAAAAAAA8D8AAAAAAADwvwAAAAAAAOC/AAAAAAAAAAAAAAAAAADgPwAAAAAAAPA/AAAAAAAA8L8AAAAAAADgvwAAAAAAAAAAAAAAAAAA4D8AAAAAAADwPwAAAAAAAPC/AAAAAAAA4L8AAAAAAAAAAAAAAAAAAOA/AAAAAAAA8D8AAAAAAADwvwAAAAAAAOC/AAAAAAAAAAAAAAAAAADgPwAAAAAAAPA/AAAAAAAA8L8AAAAAAADgvwAAAAAAAAAAAAAAAAAA4D8AAAAAAADwPw==",
          "dtype": "f8"
         },
         "x": {
          "bdata": "AAAAAAAA8L8AAAAAAADwvwAAAAAAAPC/AAAAAAAA8L8AAAAAAADwvwAAAAAAAOC/AAAAAAAA4L8AAAAAAADgvwAAAAAAAOC/AAAAAAAA4L8AAAAAAAAAAAAAAAAAAAAAAAAAAAAAAAAAAAAAAAAAAAAAAAAAAAAAAAAAAAAA4D8AAAAAAADgPwAAAAAAAOA/AAAAAAAA4D8AAAAAAADgPwAAAAAAAPA/AAAAAAAA8D8AAAAAAADwPwAAAAAAAPA/AAAAAAAA8D8AAAAAAADwvwAAAAAAAPC/AAAAAAAA8L8AAAAAAADwvwAAAAAAAPC/AAAAAAAA4L8AAAAAAADgvwAAAAAAAOC/AAAAAAAA4L8AAAAAAADgvwAAAAAAAAAAAAAAAAAAAAAAAAAAAAAAAAAAAAAAAAAAAAAAAAAAAAAAAAAAAADgPwAAAAAAAOA/AAAAAAAA4D8AAAAAAADgPwAAAAAAAOA/AAAAAAAA8D8AAAAAAADwPwAAAAAAAPA/AAAAAAAA8D8AAAAAAADwPwAAAAAAAPC/AAAAAAAA8L8AAAAAAADwvwAAAAAAAPC/AAAAAAAA8L8AAAAAAADgvwAAAAAAAOC/AAAAAAAA4L8AAAAAAADgvwAAAAAAAOC/AAAAAAAAAAAAAAAAAAAAAAAAAAAAAAAAAAAAAAAAAAAAAAAAAAAAAAAAAAAAAOA/AAAAAAAA4D8AAAAAAADgPwAAAAAAAOA/AAAAAAAA4D8AAAAAAADwPwAAAAAAAPA/AAAAAAAA8D8AAAAAAADwPwAAAAAAAPA/AAAAAAAA8L8AAAAAAADwvwAAAAAAAPC/AAAAAAAA8L8AAAAAAADwvwAAAAAAAOC/AAAAAAAA4L8AAAAAAADgvwAAAAAAAOC/AAAAAAAA4L8AAAAAAAAAAAAAAAAAAAAAAAAAAAAAAAAAAAAAAAAAAAAAAAAAAAAAAAAAAAAA4D8AAAAAAADgPwAAAAAAAOA/AAAAAAAA4D8AAAAAAADgPwAAAAAAAPA/AAAAAAAA8D8AAAAAAADwPwAAAAAAAPA/AAAAAAAA8D8AAAAAAADwvwAAAAAAAPC/AAAAAAAA8L8AAAAAAADwvwAAAAAAAPC/AAAAAAAA4L8AAAAAAADgvwAAAAAAAOC/AAAAAAAA4L8AAAAAAADgvwAAAAAAAAAAAAAAAAAAAAAAAAAAAAAAAAAAAAAAAAAAAAAAAAAAAAAAAAAAAADgPwAAAAAAAOA/AAAAAAAA4D8AAAAAAADgPwAAAAAAAOA/AAAAAAAA8D8AAAAAAADwPwAAAAAAAPA/AAAAAAAA8D8AAAAAAADwPw==",
          "dtype": "f8"
         },
         "y": {
          "bdata": "AAAAAAAA8L8AAAAAAADwvwAAAAAAAPC/AAAAAAAA8L8AAAAAAADwvwAAAAAAAPC/AAAAAAAA8L8AAAAAAADwvwAAAAAAAPC/AAAAAAAA8L8AAAAAAADwvwAAAAAAAPC/AAAAAAAA8L8AAAAAAADwvwAAAAAAAPC/AAAAAAAA8L8AAAAAAADwvwAAAAAAAPC/AAAAAAAA8L8AAAAAAADwvwAAAAAAAPC/AAAAAAAA8L8AAAAAAADwvwAAAAAAAPC/AAAAAAAA8L8AAAAAAADgvwAAAAAAAOC/AAAAAAAA4L8AAAAAAADgvwAAAAAAAOC/AAAAAAAA4L8AAAAAAADgvwAAAAAAAOC/AAAAAAAA4L8AAAAAAADgvwAAAAAAAOC/AAAAAAAA4L8AAAAAAADgvwAAAAAAAOC/AAAAAAAA4L8AAAAAAADgvwAAAAAAAOC/AAAAAAAA4L8AAAAAAADgvwAAAAAAAOC/AAAAAAAA4L8AAAAAAADgvwAAAAAAAOC/AAAAAAAA4L8AAAAAAADgvwAAAAAAAAAAAAAAAAAAAAAAAAAAAAAAAAAAAAAAAAAAAAAAAAAAAAAAAAAAAAAAAAAAAAAAAAAAAAAAAAAAAAAAAAAAAAAAAAAAAAAAAAAAAAAAAAAAAAAAAAAAAAAAAAAAAAAAAAAAAAAAAAAAAAAAAAAAAAAAAAAAAAAAAAAAAAAAAAAAAAAAAAAAAAAAAAAAAAAAAAAAAAAAAAAAAAAAAAAAAAAAAAAAAAAAAAAAAAAAAAAAAAAAAAAAAAAAAAAAAAAAAAAAAAAAAAAA4D8AAAAAAADgPwAAAAAAAOA/AAAAAAAA4D8AAAAAAADgPwAAAAAAAOA/AAAAAAAA4D8AAAAAAADgPwAAAAAAAOA/AAAAAAAA4D8AAAAAAADgPwAAAAAAAOA/AAAAAAAA4D8AAAAAAADgPwAAAAAAAOA/AAAAAAAA4D8AAAAAAADgPwAAAAAAAOA/AAAAAAAA4D8AAAAAAADgPwAAAAAAAOA/AAAAAAAA4D8AAAAAAADgPwAAAAAAAOA/AAAAAAAA4D8AAAAAAADwPwAAAAAAAPA/AAAAAAAA8D8AAAAAAADwPwAAAAAAAPA/AAAAAAAA8D8AAAAAAADwPwAAAAAAAPA/AAAAAAAA8D8AAAAAAADwPwAAAAAAAPA/AAAAAAAA8D8AAAAAAADwPwAAAAAAAPA/AAAAAAAA8D8AAAAAAADwPwAAAAAAAPA/AAAAAAAA8D8AAAAAAADwPwAAAAAAAPA/AAAAAAAA8D8AAAAAAADwPwAAAAAAAPA/AAAAAAAA8D8AAAAAAADwPw==",
          "dtype": "f8"
         },
         "z": {
          "bdata": "AAAAAAAA8L8AAAAAAADgvwAAAAAAAAAAAAAAAAAA4D8AAAAAAADwPwAAAAAAAPC/AAAAAAAA4L8AAAAAAAAAAAAAAAAAAOA/AAAAAAAA8D8AAAAAAADwvwAAAAAAAOC/AAAAAAAAAAAAAAAAAADgPwAAAAAAAPA/AAAAAAAA8L8AAAAAAADgvwAAAAAAAAAAAAAAAAAA4D8AAAAAAADwPwAAAAAAAPC/AAAAAAAA4L8AAAAAAAAAAAAAAAAAAOA/AAAAAAAA8D8AAAAAAADwvwAAAAAAAOC/AAAAAAAAAAAAAAAAAADgPwAAAAAAAPA/AAAAAAAA8L8AAAAAAADgvwAAAAAAAAAAAAAAAAAA4D8AAAAAAADwPwAAAAAAAPC/AAAAAAAA4L8AAAAAAAAAAAAAAAAAAOA/AAAAAAAA8D8AAAAAAADwvwAAAAAAAOC/AAAAAAAAAAAAAAAAAADgPwAAAAAAAPA/AAAAAAAA8L8AAAAAAADgvwAAAAAAAAAAAAAAAAAA4D8AAAAAAADwPwAAAAAAAPC/AAAAAAAA4L8AAAAAAAAAAAAAAAAAAOA/AAAAAAAA8D8AAAAAAADwvwAAAAAAAOC/AAAAAAAAAAAAAAAAAADgPwAAAAAAAPA/AAAAAAAA8L8AAAAAAADgvwAAAAAAAAAAAAAAAAAA4D8AAAAAAADwPwAAAAAAAPC/AAAAAAAA4L8AAAAAAAAAAAAAAAAAAOA/AAAAAAAA8D8AAAAAAADwvwAAAAAAAOC/AAAAAAAAAAAAAAAAAADgPwAAAAAAAPA/AAAAAAAA8L8AAAAAAADgvwAAAAAAAAAAAAAAAAAA4D8AAAAAAADwPwAAAAAAAPC/AAAAAAAA4L8AAAAAAAAAAAAAAAAAAOA/AAAAAAAA8D8AAAAAAADwvwAAAAAAAOC/AAAAAAAAAAAAAAAAAADgPwAAAAAAAPA/AAAAAAAA8L8AAAAAAADgvwAAAAAAAAAAAAAAAAAA4D8AAAAAAADwPwAAAAAAAPC/AAAAAAAA4L8AAAAAAAAAAAAAAAAAAOA/AAAAAAAA8D8AAAAAAADwvwAAAAAAAOC/AAAAAAAAAAAAAAAAAADgPwAAAAAAAPA/AAAAAAAA8L8AAAAAAADgvwAAAAAAAAAAAAAAAAAA4D8AAAAAAADwPwAAAAAAAPC/AAAAAAAA4L8AAAAAAAAAAAAAAAAAAOA/AAAAAAAA8D8AAAAAAADwvwAAAAAAAOC/AAAAAAAAAAAAAAAAAADgPwAAAAAAAPA/AAAAAAAA8L8AAAAAAADgvwAAAAAAAAAAAAAAAAAA4D8AAAAAAADwPw==",
          "dtype": "f8"
         }
        }
       ],
       "layout": {
        "scene": {
         "xaxis": {
          "title": {
           "text": "X"
          }
         },
         "yaxis": {
          "title": {
           "text": "Y"
          }
         },
         "zaxis": {
          "title": {
           "text": "Z"
          }
         }
        },
        "template": {
         "data": {
          "bar": [
           {
            "error_x": {
             "color": "#2a3f5f"
            },
            "error_y": {
             "color": "#2a3f5f"
            },
            "marker": {
             "line": {
              "color": "#E5ECF6",
              "width": 0.5
             },
             "pattern": {
              "fillmode": "overlay",
              "size": 10,
              "solidity": 0.2
             }
            },
            "type": "bar"
           }
          ],
          "barpolar": [
           {
            "marker": {
             "line": {
              "color": "#E5ECF6",
              "width": 0.5
             },
             "pattern": {
              "fillmode": "overlay",
              "size": 10,
              "solidity": 0.2
             }
            },
            "type": "barpolar"
           }
          ],
          "carpet": [
           {
            "aaxis": {
             "endlinecolor": "#2a3f5f",
             "gridcolor": "white",
             "linecolor": "white",
             "minorgridcolor": "white",
             "startlinecolor": "#2a3f5f"
            },
            "baxis": {
             "endlinecolor": "#2a3f5f",
             "gridcolor": "white",
             "linecolor": "white",
             "minorgridcolor": "white",
             "startlinecolor": "#2a3f5f"
            },
            "type": "carpet"
           }
          ],
          "choropleth": [
           {
            "colorbar": {
             "outlinewidth": 0,
             "ticks": ""
            },
            "type": "choropleth"
           }
          ],
          "contour": [
           {
            "colorbar": {
             "outlinewidth": 0,
             "ticks": ""
            },
            "colorscale": [
             [
              0,
              "#0d0887"
             ],
             [
              0.1111111111111111,
              "#46039f"
             ],
             [
              0.2222222222222222,
              "#7201a8"
             ],
             [
              0.3333333333333333,
              "#9c179e"
             ],
             [
              0.4444444444444444,
              "#bd3786"
             ],
             [
              0.5555555555555556,
              "#d8576b"
             ],
             [
              0.6666666666666666,
              "#ed7953"
             ],
             [
              0.7777777777777778,
              "#fb9f3a"
             ],
             [
              0.8888888888888888,
              "#fdca26"
             ],
             [
              1,
              "#f0f921"
             ]
            ],
            "type": "contour"
           }
          ],
          "contourcarpet": [
           {
            "colorbar": {
             "outlinewidth": 0,
             "ticks": ""
            },
            "type": "contourcarpet"
           }
          ],
          "heatmap": [
           {
            "colorbar": {
             "outlinewidth": 0,
             "ticks": ""
            },
            "colorscale": [
             [
              0,
              "#0d0887"
             ],
             [
              0.1111111111111111,
              "#46039f"
             ],
             [
              0.2222222222222222,
              "#7201a8"
             ],
             [
              0.3333333333333333,
              "#9c179e"
             ],
             [
              0.4444444444444444,
              "#bd3786"
             ],
             [
              0.5555555555555556,
              "#d8576b"
             ],
             [
              0.6666666666666666,
              "#ed7953"
             ],
             [
              0.7777777777777778,
              "#fb9f3a"
             ],
             [
              0.8888888888888888,
              "#fdca26"
             ],
             [
              1,
              "#f0f921"
             ]
            ],
            "type": "heatmap"
           }
          ],
          "histogram": [
           {
            "marker": {
             "pattern": {
              "fillmode": "overlay",
              "size": 10,
              "solidity": 0.2
             }
            },
            "type": "histogram"
           }
          ],
          "histogram2d": [
           {
            "colorbar": {
             "outlinewidth": 0,
             "ticks": ""
            },
            "colorscale": [
             [
              0,
              "#0d0887"
             ],
             [
              0.1111111111111111,
              "#46039f"
             ],
             [
              0.2222222222222222,
              "#7201a8"
             ],
             [
              0.3333333333333333,
              "#9c179e"
             ],
             [
              0.4444444444444444,
              "#bd3786"
             ],
             [
              0.5555555555555556,
              "#d8576b"
             ],
             [
              0.6666666666666666,
              "#ed7953"
             ],
             [
              0.7777777777777778,
              "#fb9f3a"
             ],
             [
              0.8888888888888888,
              "#fdca26"
             ],
             [
              1,
              "#f0f921"
             ]
            ],
            "type": "histogram2d"
           }
          ],
          "histogram2dcontour": [
           {
            "colorbar": {
             "outlinewidth": 0,
             "ticks": ""
            },
            "colorscale": [
             [
              0,
              "#0d0887"
             ],
             [
              0.1111111111111111,
              "#46039f"
             ],
             [
              0.2222222222222222,
              "#7201a8"
             ],
             [
              0.3333333333333333,
              "#9c179e"
             ],
             [
              0.4444444444444444,
              "#bd3786"
             ],
             [
              0.5555555555555556,
              "#d8576b"
             ],
             [
              0.6666666666666666,
              "#ed7953"
             ],
             [
              0.7777777777777778,
              "#fb9f3a"
             ],
             [
              0.8888888888888888,
              "#fdca26"
             ],
             [
              1,
              "#f0f921"
             ]
            ],
            "type": "histogram2dcontour"
           }
          ],
          "mesh3d": [
           {
            "colorbar": {
             "outlinewidth": 0,
             "ticks": ""
            },
            "type": "mesh3d"
           }
          ],
          "parcoords": [
           {
            "line": {
             "colorbar": {
              "outlinewidth": 0,
              "ticks": ""
             }
            },
            "type": "parcoords"
           }
          ],
          "pie": [
           {
            "automargin": true,
            "type": "pie"
           }
          ],
          "scatter": [
           {
            "fillpattern": {
             "fillmode": "overlay",
             "size": 10,
             "solidity": 0.2
            },
            "type": "scatter"
           }
          ],
          "scatter3d": [
           {
            "line": {
             "colorbar": {
              "outlinewidth": 0,
              "ticks": ""
             }
            },
            "marker": {
             "colorbar": {
              "outlinewidth": 0,
              "ticks": ""
             }
            },
            "type": "scatter3d"
           }
          ],
          "scattercarpet": [
           {
            "marker": {
             "colorbar": {
              "outlinewidth": 0,
              "ticks": ""
             }
            },
            "type": "scattercarpet"
           }
          ],
          "scattergeo": [
           {
            "marker": {
             "colorbar": {
              "outlinewidth": 0,
              "ticks": ""
             }
            },
            "type": "scattergeo"
           }
          ],
          "scattergl": [
           {
            "marker": {
             "colorbar": {
              "outlinewidth": 0,
              "ticks": ""
             }
            },
            "type": "scattergl"
           }
          ],
          "scattermap": [
           {
            "marker": {
             "colorbar": {
              "outlinewidth": 0,
              "ticks": ""
             }
            },
            "type": "scattermap"
           }
          ],
          "scattermapbox": [
           {
            "marker": {
             "colorbar": {
              "outlinewidth": 0,
              "ticks": ""
             }
            },
            "type": "scattermapbox"
           }
          ],
          "scatterpolar": [
           {
            "marker": {
             "colorbar": {
              "outlinewidth": 0,
              "ticks": ""
             }
            },
            "type": "scatterpolar"
           }
          ],
          "scatterpolargl": [
           {
            "marker": {
             "colorbar": {
              "outlinewidth": 0,
              "ticks": ""
             }
            },
            "type": "scatterpolargl"
           }
          ],
          "scatterternary": [
           {
            "marker": {
             "colorbar": {
              "outlinewidth": 0,
              "ticks": ""
             }
            },
            "type": "scatterternary"
           }
          ],
          "surface": [
           {
            "colorbar": {
             "outlinewidth": 0,
             "ticks": ""
            },
            "colorscale": [
             [
              0,
              "#0d0887"
             ],
             [
              0.1111111111111111,
              "#46039f"
             ],
             [
              0.2222222222222222,
              "#7201a8"
             ],
             [
              0.3333333333333333,
              "#9c179e"
             ],
             [
              0.4444444444444444,
              "#bd3786"
             ],
             [
              0.5555555555555556,
              "#d8576b"
             ],
             [
              0.6666666666666666,
              "#ed7953"
             ],
             [
              0.7777777777777778,
              "#fb9f3a"
             ],
             [
              0.8888888888888888,
              "#fdca26"
             ],
             [
              1,
              "#f0f921"
             ]
            ],
            "type": "surface"
           }
          ],
          "table": [
           {
            "cells": {
             "fill": {
              "color": "#EBF0F8"
             },
             "line": {
              "color": "white"
             }
            },
            "header": {
             "fill": {
              "color": "#C8D4E3"
             },
             "line": {
              "color": "white"
             }
            },
            "type": "table"
           }
          ]
         },
         "layout": {
          "annotationdefaults": {
           "arrowcolor": "#2a3f5f",
           "arrowhead": 0,
           "arrowwidth": 1
          },
          "autotypenumbers": "strict",
          "coloraxis": {
           "colorbar": {
            "outlinewidth": 0,
            "ticks": ""
           }
          },
          "colorscale": {
           "diverging": [
            [
             0,
             "#8e0152"
            ],
            [
             0.1,
             "#c51b7d"
            ],
            [
             0.2,
             "#de77ae"
            ],
            [
             0.3,
             "#f1b6da"
            ],
            [
             0.4,
             "#fde0ef"
            ],
            [
             0.5,
             "#f7f7f7"
            ],
            [
             0.6,
             "#e6f5d0"
            ],
            [
             0.7,
             "#b8e186"
            ],
            [
             0.8,
             "#7fbc41"
            ],
            [
             0.9,
             "#4d9221"
            ],
            [
             1,
             "#276419"
            ]
           ],
           "sequential": [
            [
             0,
             "#0d0887"
            ],
            [
             0.1111111111111111,
             "#46039f"
            ],
            [
             0.2222222222222222,
             "#7201a8"
            ],
            [
             0.3333333333333333,
             "#9c179e"
            ],
            [
             0.4444444444444444,
             "#bd3786"
            ],
            [
             0.5555555555555556,
             "#d8576b"
            ],
            [
             0.6666666666666666,
             "#ed7953"
            ],
            [
             0.7777777777777778,
             "#fb9f3a"
            ],
            [
             0.8888888888888888,
             "#fdca26"
            ],
            [
             1,
             "#f0f921"
            ]
           ],
           "sequentialminus": [
            [
             0,
             "#0d0887"
            ],
            [
             0.1111111111111111,
             "#46039f"
            ],
            [
             0.2222222222222222,
             "#7201a8"
            ],
            [
             0.3333333333333333,
             "#9c179e"
            ],
            [
             0.4444444444444444,
             "#bd3786"
            ],
            [
             0.5555555555555556,
             "#d8576b"
            ],
            [
             0.6666666666666666,
             "#ed7953"
            ],
            [
             0.7777777777777778,
             "#fb9f3a"
            ],
            [
             0.8888888888888888,
             "#fdca26"
            ],
            [
             1,
             "#f0f921"
            ]
           ]
          },
          "colorway": [
           "#636efa",
           "#EF553B",
           "#00cc96",
           "#ab63fa",
           "#FFA15A",
           "#19d3f3",
           "#FF6692",
           "#B6E880",
           "#FF97FF",
           "#FECB52"
          ],
          "font": {
           "color": "#2a3f5f"
          },
          "geo": {
           "bgcolor": "white",
           "lakecolor": "white",
           "landcolor": "#E5ECF6",
           "showlakes": true,
           "showland": true,
           "subunitcolor": "white"
          },
          "hoverlabel": {
           "align": "left"
          },
          "hovermode": "closest",
          "mapbox": {
           "style": "light"
          },
          "paper_bgcolor": "white",
          "plot_bgcolor": "#E5ECF6",
          "polar": {
           "angularaxis": {
            "gridcolor": "white",
            "linecolor": "white",
            "ticks": ""
           },
           "bgcolor": "#E5ECF6",
           "radialaxis": {
            "gridcolor": "white",
            "linecolor": "white",
            "ticks": ""
           }
          },
          "scene": {
           "xaxis": {
            "backgroundcolor": "#E5ECF6",
            "gridcolor": "white",
            "gridwidth": 2,
            "linecolor": "white",
            "showbackground": true,
            "ticks": "",
            "zerolinecolor": "white"
           },
           "yaxis": {
            "backgroundcolor": "#E5ECF6",
            "gridcolor": "white",
            "gridwidth": 2,
            "linecolor": "white",
            "showbackground": true,
            "ticks": "",
            "zerolinecolor": "white"
           },
           "zaxis": {
            "backgroundcolor": "#E5ECF6",
            "gridcolor": "white",
            "gridwidth": 2,
            "linecolor": "white",
            "showbackground": true,
            "ticks": "",
            "zerolinecolor": "white"
           }
          },
          "shapedefaults": {
           "line": {
            "color": "#2a3f5f"
           }
          },
          "ternary": {
           "aaxis": {
            "gridcolor": "white",
            "linecolor": "white",
            "ticks": ""
           },
           "baxis": {
            "gridcolor": "white",
            "linecolor": "white",
            "ticks": ""
           },
           "bgcolor": "#E5ECF6",
           "caxis": {
            "gridcolor": "white",
            "linecolor": "white",
            "ticks": ""
           }
          },
          "title": {
           "x": 0.05
          },
          "xaxis": {
           "automargin": true,
           "gridcolor": "white",
           "linecolor": "white",
           "ticks": "",
           "title": {
            "standoff": 15
           },
           "zerolinecolor": "white",
           "zerolinewidth": 2
          },
          "yaxis": {
           "automargin": true,
           "gridcolor": "white",
           "linecolor": "white",
           "ticks": "",
           "title": {
            "standoff": 15
           },
           "zerolinecolor": "white",
           "zerolinewidth": 2
          }
         }
        }
       }
      }
     },
     "metadata": {},
     "output_type": "display_data"
    }
   ],
   "source": [
    "# Define grid\n",
    "x1, y1, z1 = np.meshgrid(\n",
    "    np.linspace(-1, 1, 5),\n",
    "    np.linspace(-1, 1, 5),\n",
    "    np.linspace(-1, 1, 5)\n",
    ")\n",
    "\n",
    "# Simple radial field example \n",
    "u1 = x1\n",
    "v1 = y1\n",
    "w1 = z1\n",
    "\n",
    "plotter.plotter(x1, y1, z1, u1, v1, w1)"
   ]
  },
  {
   "cell_type": "code",
   "execution_count": 3,
   "metadata": {},
   "outputs": [
    {
     "data": {
      "application/vnd.plotly.v1+json": {
       "config": {
        "plotlyServerURL": "https://plot.ly"
       },
       "data": [
        {
         "anchor": "tail",
         "sizemode": "scaled",
         "sizeref": 2,
         "type": "cone",
         "u": {
          "bdata": "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",
          "dtype": "f8"
         },
         "v": {
          "bdata": "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",
          "dtype": "f8"
         },
         "w": {
          "bdata": "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",
          "dtype": "f8"
         },
         "x": {
          "bdata": "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",
          "dtype": "f8"
         },
         "y": {
          "bdata": "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",
          "dtype": "f8"
         },
         "z": {
          "bdata": "mpmZmZmZ6b8AAAAAAAAAAJqZmZmZmek/mpmZmZmZ6b8AAAAAAAAAAJqZmZmZmek/mpmZmZmZ6b8AAAAAAAAAAJqZmZmZmek/mpmZmZmZ6b8AAAAAAAAAAJqZmZmZmek/mpmZmZmZ6b8AAAAAAAAAAJqZmZmZmek/mpmZmZmZ6b8AAAAAAAAAAJqZmZmZmek/mpmZmZmZ6b8AAAAAAAAAAJqZmZmZmek/mpmZmZmZ6b8AAAAAAAAAAJqZmZmZmek/mpmZmZmZ6b8AAAAAAAAAAJqZmZmZmek/mpmZmZmZ6b8AAAAAAAAAAJqZmZmZmek/mpmZmZmZ6b8AAAAAAAAAAJqZmZmZmek/mpmZmZmZ6b8AAAAAAAAAAJqZmZmZmek/mpmZmZmZ6b8AAAAAAAAAAJqZmZmZmek/mpmZmZmZ6b8AAAAAAAAAAJqZmZmZmek/mpmZmZmZ6b8AAAAAAAAAAJqZmZmZmek/mpmZmZmZ6b8AAAAAAAAAAJqZmZmZmek/mpmZmZmZ6b8AAAAAAAAAAJqZmZmZmek/mpmZmZmZ6b8AAAAAAAAAAJqZmZmZmek/mpmZmZmZ6b8AAAAAAAAAAJqZmZmZmek/mpmZmZmZ6b8AAAAAAAAAAJqZmZmZmek/mpmZmZmZ6b8AAAAAAAAAAJqZmZmZmek/mpmZmZmZ6b8AAAAAAAAAAJqZmZmZmek/mpmZmZmZ6b8AAAAAAAAAAJqZmZmZmek/mpmZmZmZ6b8AAAAAAAAAAJqZmZmZmek/mpmZmZmZ6b8AAAAAAAAAAJqZmZmZmek/mpmZmZmZ6b8AAAAAAAAAAJqZmZmZmek/mpmZmZmZ6b8AAAAAAAAAAJqZmZmZmek/mpmZmZmZ6b8AAAAAAAAAAJqZmZmZmek/mpmZmZmZ6b8AAAAAAAAAAJqZmZmZmek/mpmZmZmZ6b8AAAAAAAAAAJqZmZmZmek/mpmZmZmZ6b8AAAAAAAAAAJqZmZmZmek/mpmZmZmZ6b8AAAAAAAAAAJqZmZmZmek/mpmZmZmZ6b8AAAAAAAAAAJqZmZmZmek/mpmZmZmZ6b8AAAAAAAAAAJqZmZmZmek/mpmZmZmZ6b8AAAAAAAAAAJqZmZmZmek/mpmZmZmZ6b8AAAAAAAAAAJqZmZmZmek/mpmZmZmZ6b8AAAAAAAAAAJqZmZmZmek/mpmZmZmZ6b8AAAAAAAAAAJqZmZmZmek/mpmZmZmZ6b8AAAAAAAAAAJqZmZmZmek/mpmZmZmZ6b8AAAAAAAAAAJqZmZmZmek/mpmZmZmZ6b8AAAAAAAAAAJqZmZmZmek/mpmZmZmZ6b8AAAAAAAAAAJqZmZmZmek/mpmZmZmZ6b8AAAAAAAAAAJqZmZmZmek/mpmZmZmZ6b8AAAAAAAAAAJqZmZmZmek/mpmZmZmZ6b8AAAAAAAAAAJqZmZmZmek/mpmZmZmZ6b8AAAAAAAAAAJqZmZmZmek/mpmZmZmZ6b8AAAAAAAAAAJqZmZmZmek/mpmZmZmZ6b8AAAAAAAAAAJqZmZmZmek/mpmZmZmZ6b8AAAAAAAAAAJqZmZmZmek/mpmZmZmZ6b8AAAAAAAAAAJqZmZmZmek/mpmZmZmZ6b8AAAAAAAAAAJqZmZmZmek/mpmZmZmZ6b8AAAAAAAAAAJqZmZmZmek/mpmZmZmZ6b8AAAAAAAAAAJqZmZmZmek/mpmZmZmZ6b8AAAAAAAAAAJqZmZmZmek/mpmZmZmZ6b8AAAAAAAAAAJqZmZmZmek/mpmZmZmZ6b8AAAAAAAAAAJqZmZmZmek/mpmZmZmZ6b8AAAAAAAAAAJqZmZmZmek/mpmZmZmZ6b8AAAAAAAAAAJqZmZmZmek/mpmZmZmZ6b8AAAAAAAAAAJqZmZmZmek/mpmZmZmZ6b8AAAAAAAAAAJqZmZmZmek/mpmZmZmZ6b8AAAAAAAAAAJqZmZmZmek/mpmZmZmZ6b8AAAAAAAAAAJqZmZmZmek/mpmZmZmZ6b8AAAAAAAAAAJqZmZmZmek/mpmZmZmZ6b8AAAAAAAAAAJqZmZmZmek/mpmZmZmZ6b8AAAAAAAAAAJqZmZmZmek/mpmZmZmZ6b8AAAAAAAAAAJqZmZmZmek/mpmZmZmZ6b8AAAAAAAAAAJqZmZmZmek/mpmZmZmZ6b8AAAAAAAAAAJqZmZmZmek/mpmZmZmZ6b8AAAAAAAAAAJqZmZmZmek/mpmZmZmZ6b8AAAAAAAAAAJqZmZmZmek/mpmZmZmZ6b8AAAAAAAAAAJqZmZmZmek/mpmZmZmZ6b8AAAAAAAAAAJqZmZmZmek/mpmZmZmZ6b8AAAAAAAAAAJqZmZmZmek/mpmZmZmZ6b8AAAAAAAAAAJqZmZmZmek/mpmZmZmZ6b8AAAAAAAAAAJqZmZmZmek/mpmZmZmZ6b8AAAAAAAAAAJqZmZmZmek/mpmZmZmZ6b8AAAAAAAAAAJqZmZmZmek/mpmZmZmZ6b8AAAAAAAAAAJqZmZmZmek/mpmZmZmZ6b8AAAAAAAAAAJqZmZmZmek/mpmZmZmZ6b8AAAAAAAAAAJqZmZmZmek/mpmZmZmZ6b8AAAAAAAAAAJqZmZmZmek/",
          "dtype": "f8"
         }
        }
       ],
       "layout": {
        "scene": {
         "xaxis": {
          "title": {
           "text": "X"
          }
         },
         "yaxis": {
          "title": {
           "text": "Y"
          }
         },
         "zaxis": {
          "title": {
           "text": "Z"
          }
         }
        },
        "template": {
         "data": {
          "bar": [
           {
            "error_x": {
             "color": "#2a3f5f"
            },
            "error_y": {
             "color": "#2a3f5f"
            },
            "marker": {
             "line": {
              "color": "#E5ECF6",
              "width": 0.5
             },
             "pattern": {
              "fillmode": "overlay",
              "size": 10,
              "solidity": 0.2
             }
            },
            "type": "bar"
           }
          ],
          "barpolar": [
           {
            "marker": {
             "line": {
              "color": "#E5ECF6",
              "width": 0.5
             },
             "pattern": {
              "fillmode": "overlay",
              "size": 10,
              "solidity": 0.2
             }
            },
            "type": "barpolar"
           }
          ],
          "carpet": [
           {
            "aaxis": {
             "endlinecolor": "#2a3f5f",
             "gridcolor": "white",
             "linecolor": "white",
             "minorgridcolor": "white",
             "startlinecolor": "#2a3f5f"
            },
            "baxis": {
             "endlinecolor": "#2a3f5f",
             "gridcolor": "white",
             "linecolor": "white",
             "minorgridcolor": "white",
             "startlinecolor": "#2a3f5f"
            },
            "type": "carpet"
           }
          ],
          "choropleth": [
           {
            "colorbar": {
             "outlinewidth": 0,
             "ticks": ""
            },
            "type": "choropleth"
           }
          ],
          "contour": [
           {
            "colorbar": {
             "outlinewidth": 0,
             "ticks": ""
            },
            "colorscale": [
             [
              0,
              "#0d0887"
             ],
             [
              0.1111111111111111,
              "#46039f"
             ],
             [
              0.2222222222222222,
              "#7201a8"
             ],
             [
              0.3333333333333333,
              "#9c179e"
             ],
             [
              0.4444444444444444,
              "#bd3786"
             ],
             [
              0.5555555555555556,
              "#d8576b"
             ],
             [
              0.6666666666666666,
              "#ed7953"
             ],
             [
              0.7777777777777778,
              "#fb9f3a"
             ],
             [
              0.8888888888888888,
              "#fdca26"
             ],
             [
              1,
              "#f0f921"
             ]
            ],
            "type": "contour"
           }
          ],
          "contourcarpet": [
           {
            "colorbar": {
             "outlinewidth": 0,
             "ticks": ""
            },
            "type": "contourcarpet"
           }
          ],
          "heatmap": [
           {
            "colorbar": {
             "outlinewidth": 0,
             "ticks": ""
            },
            "colorscale": [
             [
              0,
              "#0d0887"
             ],
             [
              0.1111111111111111,
              "#46039f"
             ],
             [
              0.2222222222222222,
              "#7201a8"
             ],
             [
              0.3333333333333333,
              "#9c179e"
             ],
             [
              0.4444444444444444,
              "#bd3786"
             ],
             [
              0.5555555555555556,
              "#d8576b"
             ],
             [
              0.6666666666666666,
              "#ed7953"
             ],
             [
              0.7777777777777778,
              "#fb9f3a"
             ],
             [
              0.8888888888888888,
              "#fdca26"
             ],
             [
              1,
              "#f0f921"
             ]
            ],
            "type": "heatmap"
           }
          ],
          "histogram": [
           {
            "marker": {
             "pattern": {
              "fillmode": "overlay",
              "size": 10,
              "solidity": 0.2
             }
            },
            "type": "histogram"
           }
          ],
          "histogram2d": [
           {
            "colorbar": {
             "outlinewidth": 0,
             "ticks": ""
            },
            "colorscale": [
             [
              0,
              "#0d0887"
             ],
             [
              0.1111111111111111,
              "#46039f"
             ],
             [
              0.2222222222222222,
              "#7201a8"
             ],
             [
              0.3333333333333333,
              "#9c179e"
             ],
             [
              0.4444444444444444,
              "#bd3786"
             ],
             [
              0.5555555555555556,
              "#d8576b"
             ],
             [
              0.6666666666666666,
              "#ed7953"
             ],
             [
              0.7777777777777778,
              "#fb9f3a"
             ],
             [
              0.8888888888888888,
              "#fdca26"
             ],
             [
              1,
              "#f0f921"
             ]
            ],
            "type": "histogram2d"
           }
          ],
          "histogram2dcontour": [
           {
            "colorbar": {
             "outlinewidth": 0,
             "ticks": ""
            },
            "colorscale": [
             [
              0,
              "#0d0887"
             ],
             [
              0.1111111111111111,
              "#46039f"
             ],
             [
              0.2222222222222222,
              "#7201a8"
             ],
             [
              0.3333333333333333,
              "#9c179e"
             ],
             [
              0.4444444444444444,
              "#bd3786"
             ],
             [
              0.5555555555555556,
              "#d8576b"
             ],
             [
              0.6666666666666666,
              "#ed7953"
             ],
             [
              0.7777777777777778,
              "#fb9f3a"
             ],
             [
              0.8888888888888888,
              "#fdca26"
             ],
             [
              1,
              "#f0f921"
             ]
            ],
            "type": "histogram2dcontour"
           }
          ],
          "mesh3d": [
           {
            "colorbar": {
             "outlinewidth": 0,
             "ticks": ""
            },
            "type": "mesh3d"
           }
          ],
          "parcoords": [
           {
            "line": {
             "colorbar": {
              "outlinewidth": 0,
              "ticks": ""
             }
            },
            "type": "parcoords"
           }
          ],
          "pie": [
           {
            "automargin": true,
            "type": "pie"
           }
          ],
          "scatter": [
           {
            "fillpattern": {
             "fillmode": "overlay",
             "size": 10,
             "solidity": 0.2
            },
            "type": "scatter"
           }
          ],
          "scatter3d": [
           {
            "line": {
             "colorbar": {
              "outlinewidth": 0,
              "ticks": ""
             }
            },
            "marker": {
             "colorbar": {
              "outlinewidth": 0,
              "ticks": ""
             }
            },
            "type": "scatter3d"
           }
          ],
          "scattercarpet": [
           {
            "marker": {
             "colorbar": {
              "outlinewidth": 0,
              "ticks": ""
             }
            },
            "type": "scattercarpet"
           }
          ],
          "scattergeo": [
           {
            "marker": {
             "colorbar": {
              "outlinewidth": 0,
              "ticks": ""
             }
            },
            "type": "scattergeo"
           }
          ],
          "scattergl": [
           {
            "marker": {
             "colorbar": {
              "outlinewidth": 0,
              "ticks": ""
             }
            },
            "type": "scattergl"
           }
          ],
          "scattermap": [
           {
            "marker": {
             "colorbar": {
              "outlinewidth": 0,
              "ticks": ""
             }
            },
            "type": "scattermap"
           }
          ],
          "scattermapbox": [
           {
            "marker": {
             "colorbar": {
              "outlinewidth": 0,
              "ticks": ""
             }
            },
            "type": "scattermapbox"
           }
          ],
          "scatterpolar": [
           {
            "marker": {
             "colorbar": {
              "outlinewidth": 0,
              "ticks": ""
             }
            },
            "type": "scatterpolar"
           }
          ],
          "scatterpolargl": [
           {
            "marker": {
             "colorbar": {
              "outlinewidth": 0,
              "ticks": ""
             }
            },
            "type": "scatterpolargl"
           }
          ],
          "scatterternary": [
           {
            "marker": {
             "colorbar": {
              "outlinewidth": 0,
              "ticks": ""
             }
            },
            "type": "scatterternary"
           }
          ],
          "surface": [
           {
            "colorbar": {
             "outlinewidth": 0,
             "ticks": ""
            },
            "colorscale": [
             [
              0,
              "#0d0887"
             ],
             [
              0.1111111111111111,
              "#46039f"
             ],
             [
              0.2222222222222222,
              "#7201a8"
             ],
             [
              0.3333333333333333,
              "#9c179e"
             ],
             [
              0.4444444444444444,
              "#bd3786"
             ],
             [
              0.5555555555555556,
              "#d8576b"
             ],
             [
              0.6666666666666666,
              "#ed7953"
             ],
             [
              0.7777777777777778,
              "#fb9f3a"
             ],
             [
              0.8888888888888888,
              "#fdca26"
             ],
             [
              1,
              "#f0f921"
             ]
            ],
            "type": "surface"
           }
          ],
          "table": [
           {
            "cells": {
             "fill": {
              "color": "#EBF0F8"
             },
             "line": {
              "color": "white"
             }
            },
            "header": {
             "fill": {
              "color": "#C8D4E3"
             },
             "line": {
              "color": "white"
             }
            },
            "type": "table"
           }
          ]
         },
         "layout": {
          "annotationdefaults": {
           "arrowcolor": "#2a3f5f",
           "arrowhead": 0,
           "arrowwidth": 1
          },
          "autotypenumbers": "strict",
          "coloraxis": {
           "colorbar": {
            "outlinewidth": 0,
            "ticks": ""
           }
          },
          "colorscale": {
           "diverging": [
            [
             0,
             "#8e0152"
            ],
            [
             0.1,
             "#c51b7d"
            ],
            [
             0.2,
             "#de77ae"
            ],
            [
             0.3,
             "#f1b6da"
            ],
            [
             0.4,
             "#fde0ef"
            ],
            [
             0.5,
             "#f7f7f7"
            ],
            [
             0.6,
             "#e6f5d0"
            ],
            [
             0.7,
             "#b8e186"
            ],
            [
             0.8,
             "#7fbc41"
            ],
            [
             0.9,
             "#4d9221"
            ],
            [
             1,
             "#276419"
            ]
           ],
           "sequential": [
            [
             0,
             "#0d0887"
            ],
            [
             0.1111111111111111,
             "#46039f"
            ],
            [
             0.2222222222222222,
             "#7201a8"
            ],
            [
             0.3333333333333333,
             "#9c179e"
            ],
            [
             0.4444444444444444,
             "#bd3786"
            ],
            [
             0.5555555555555556,
             "#d8576b"
            ],
            [
             0.6666666666666666,
             "#ed7953"
            ],
            [
             0.7777777777777778,
             "#fb9f3a"
            ],
            [
             0.8888888888888888,
             "#fdca26"
            ],
            [
             1,
             "#f0f921"
            ]
           ],
           "sequentialminus": [
            [
             0,
             "#0d0887"
            ],
            [
             0.1111111111111111,
             "#46039f"
            ],
            [
             0.2222222222222222,
             "#7201a8"
            ],
            [
             0.3333333333333333,
             "#9c179e"
            ],
            [
             0.4444444444444444,
             "#bd3786"
            ],
            [
             0.5555555555555556,
             "#d8576b"
            ],
            [
             0.6666666666666666,
             "#ed7953"
            ],
            [
             0.7777777777777778,
             "#fb9f3a"
            ],
            [
             0.8888888888888888,
             "#fdca26"
            ],
            [
             1,
             "#f0f921"
            ]
           ]
          },
          "colorway": [
           "#636efa",
           "#EF553B",
           "#00cc96",
           "#ab63fa",
           "#FFA15A",
           "#19d3f3",
           "#FF6692",
           "#B6E880",
           "#FF97FF",
           "#FECB52"
          ],
          "font": {
           "color": "#2a3f5f"
          },
          "geo": {
           "bgcolor": "white",
           "lakecolor": "white",
           "landcolor": "#E5ECF6",
           "showlakes": true,
           "showland": true,
           "subunitcolor": "white"
          },
          "hoverlabel": {
           "align": "left"
          },
          "hovermode": "closest",
          "mapbox": {
           "style": "light"
          },
          "paper_bgcolor": "white",
          "plot_bgcolor": "#E5ECF6",
          "polar": {
           "angularaxis": {
            "gridcolor": "white",
            "linecolor": "white",
            "ticks": ""
           },
           "bgcolor": "#E5ECF6",
           "radialaxis": {
            "gridcolor": "white",
            "linecolor": "white",
            "ticks": ""
           }
          },
          "scene": {
           "xaxis": {
            "backgroundcolor": "#E5ECF6",
            "gridcolor": "white",
            "gridwidth": 2,
            "linecolor": "white",
            "showbackground": true,
            "ticks": "",
            "zerolinecolor": "white"
           },
           "yaxis": {
            "backgroundcolor": "#E5ECF6",
            "gridcolor": "white",
            "gridwidth": 2,
            "linecolor": "white",
            "showbackground": true,
            "ticks": "",
            "zerolinecolor": "white"
           },
           "zaxis": {
            "backgroundcolor": "#E5ECF6",
            "gridcolor": "white",
            "gridwidth": 2,
            "linecolor": "white",
            "showbackground": true,
            "ticks": "",
            "zerolinecolor": "white"
           }
          },
          "shapedefaults": {
           "line": {
            "color": "#2a3f5f"
           }
          },
          "ternary": {
           "aaxis": {
            "gridcolor": "white",
            "linecolor": "white",
            "ticks": ""
           },
           "baxis": {
            "gridcolor": "white",
            "linecolor": "white",
            "ticks": ""
           },
           "bgcolor": "#E5ECF6",
           "caxis": {
            "gridcolor": "white",
            "linecolor": "white",
            "ticks": ""
           }
          },
          "title": {
           "x": 0.05
          },
          "xaxis": {
           "automargin": true,
           "gridcolor": "white",
           "linecolor": "white",
           "ticks": "",
           "title": {
            "standoff": 15
           },
           "zerolinecolor": "white",
           "zerolinewidth": 2
          },
          "yaxis": {
           "automargin": true,
           "gridcolor": "white",
           "linecolor": "white",
           "ticks": "",
           "title": {
            "standoff": 15
           },
           "zerolinecolor": "white",
           "zerolinewidth": 2
          }
         }
        }
       }
      }
     },
     "metadata": {},
     "output_type": "display_data"
    }
   ],
   "source": [
    "x2, y2, z2 = np.meshgrid(np.arange(-0.8, 1, 0.2),\n",
    "                      np.arange(-0.8, 1, 0.2),\n",
    "                      np.arange(-0.8, 1, 0.8))\n",
    "\n",
    "u2 = np.sin(np.pi * x2) * np.cos(np.pi * y2) * np.cos(np.pi * z2) \n",
    "v2 = -np.cos(np.pi * x2) * np.sin(np.pi * y2) * np.cos(np.pi * z2) \n",
    "w2 = (np.sqrt(2.0 / 3.0) * np.cos(np.pi * x2) * np.cos(np.pi * y2) * np.sin(np.pi * z2)) \n",
    "\n",
    "plotter.plotter(x2, y2, z2, u2, v2, w2)"
   ]
  },
  {
   "cell_type": "markdown",
   "metadata": {},
   "source": [
    "clear to me that some refinement needs doing on the plotting code so that we can see the underlying fields a lot clearer. This will be done in time"
   ]
  },
  {
   "cell_type": "markdown",
   "metadata": {},
   "source": [
    "## Generating Physics Related Vector Fields"
   ]
  },
  {
   "cell_type": "markdown",
   "metadata": {},
   "source": [
    "This is for the purpose of later having things to compare to. Possible examples of reasonable fields include:\n",
    "\n",
    "- field around infinite 1d wire\n",
    "- field around coil of wire\n",
    "- field around magnetised sphere\n",
    "- bar magnet? \n",
    "\n",
    "Plan is to make use of boundary conditions. If we have certain circumstances in which one field may be continuous but the other is not, then by allowing communication between these two can lead to accurate fields being derived for aggregate scenarios. "
   ]
  },
  {
   "cell_type": "code",
   "execution_count": 4,
   "metadata": {},
   "outputs": [],
   "source": [
    "from constants import CONSTANTS  # handy place to lump all of these and avoid typos "
   ]
  },
  {
   "cell_type": "code",
   "execution_count": 5,
   "metadata": {},
   "outputs": [
    {
     "data": {
      "application/vnd.plotly.v1+json": {
       "config": {
        "plotlyServerURL": "https://plot.ly"
       },
       "data": [
        {
         "anchor": "tail",
         "sizemode": "scaled",
         "sizeref": 2,
         "type": "cone",
         "u": {
          "bdata": "dLJecC32M0B0sl5wLfYzQHSyXnAt9jNAdLJecC32M0B0sl5wLfYzQHSyXnAt9jNAdLJecC32M0B0sl5wLfYzQHSyXnAt9jNAdLJecC32M0CKvDqBBd84QIq8OoEF3zhAirw6gQXfOECKvDqBBd84QIq8OoEF3zhAirw6gQXfOECKvDqBBd84QIq8OoEF3zhAirw6gQXfOECKvDqBBd84QLS3AQdKfz5AtLcBB0p/PkC0twEHSn8+QLS3AQdKfz5AtLcBB0p/PkC0twEHSn8+QLS3AQdKfz5AtLcBB0p/PkC0twEHSn8+QLS3AQdKfz5AIDiBHfH0QUAgOIEd8fRBQCA4gR3x9EFAIDiBHfH0QUAgOIEd8fRBQCA4gR3x9EFAIDiBHfH0QUAgOIEd8fRBQCA4gR3x9EFAIDiBHfH0QUAgBigC+LRDQCAGKAL4tENAIAYoAvi0Q0AgBigC+LRDQCAGKAL4tENAIAYoAvi0Q0AgBigC+LRDQCAGKAL4tENAIAYoAvi0Q0AgBigC+LRDQCAGKAL4tENAIAYoAvi0Q0AgBigC+LRDQCAGKAL4tENAIAYoAvi0Q0AgBigC+LRDQCAGKAL4tENAIAYoAvi0Q0AgBigC+LRDQCAGKAL4tENAIDiBHfH0QUAgOIEd8fRBQCA4gR3x9EFAIDiBHfH0QUAgOIEd8fRBQCA4gR3x9EFAIDiBHfH0QUAgOIEd8fRBQCA4gR3x9EFAIDiBHfH0QUC2twEHSn8+QLa3AQdKfz5AtrcBB0p/PkC2twEHSn8+QLa3AQdKfz5AtrcBB0p/PkC2twEHSn8+QLa3AQdKfz5AtrcBB0p/PkC2twEHSn8+QIu8OoEF3zhAi7w6gQXfOECLvDqBBd84QIu8OoEF3zhAi7w6gQXfOECLvDqBBd84QIu8OoEF3zhAi7w6gQXfOECLvDqBBd84QIu8OoEF3zhAdLJecC32M0B0sl5wLfYzQHSyXnAt9jNAdLJecC32M0B0sl5wLfYzQHSyXnAt9jNAdLJecC32M0B0sl5wLfYzQHSyXnAt9jNAdLJecC32M0DAWdi5IFgzQMBZ2LkgWDNAwFnYuSBYM0DAWdi5IFgzQMBZ2LkgWDNAwFnYuSBYM0DAWdi5IFgzQMBZ2LkgWDNAwFnYuSBYM0DAWdi5IFgzQLAzeAiUpzlAsDN4CJSnOUCwM3gIlKc5QLAzeAiUpzlAsDN4CJSnOUCwM3gIlKc5QLAzeAiUpzlAsDN4CJSnOUCwM3gIlKc5QLAzeAiUpzlAJboSqJz7QEAluhKonPtAQCW6Eqic+0BAJboSqJz7QEAluhKonPtAQCW6Eqic+0BAJboSqJz7QEAluhKonPtAQCW6Eqic+0BAJboSqJz7QEDJgGsCdKlFQMmAawJ0qUVAyYBrAnSpRUDJgGsCdKlFQMmAawJ0qUVAyYBrAnSpRUDJgGsCdKlFQMmAawJ0qUVAyYBrAnSpRUDJgGsCdKlFQAD/qLSOH0lAAP+otI4fSUAA/6i0jh9JQAD/qLSOH0lAAP+otI4fSUAA/6i0jh9JQAD/qLSOH0lAAP+otI4fSUAA/6i0jh9JQAD/qLSOH0lA//6otI4fSUD//qi0jh9JQP/+qLSOH0lA//6otI4fSUD//qi0jh9JQP/+qLSOH0lA//6otI4fSUD//qi0jh9JQP/+qLSOH0lA//6otI4fSUDKgGsCdKlFQMqAawJ0qUVAyoBrAnSpRUDKgGsCdKlFQMqAawJ0qUVAyoBrAnSpRUDKgGsCdKlFQMqAawJ0qUVAyoBrAnSpRUDKgGsCdKlFQCS6Eqic+0BAJLoSqJz7QEAkuhKonPtAQCS6Eqic+0BAJLoSqJz7QEAkuhKonPtAQCS6Eqic+0BAJLoSqJz7QEAkuhKonPtAQCS6Eqic+0BAsDN4CJSnOUCwM3gIlKc5QLAzeAiUpzlAsDN4CJSnOUCwM3gIlKc5QLAzeAiUpzlAsDN4CJSnOUCwM3gIlKc5QLAzeAiUpzlAsDN4CJSnOUDBWdi5IFgzQMFZ2LkgWDNAwVnYuSBYM0DBWdi5IFgzQMFZ2LkgWDNAwVnYuSBYM0DBWdi5IFgzQMFZ2LkgWDNAwVnYuSBYM0DBWdi5IFgzQICC5ANi8TBAgILkA2LxMECAguQDYvEwQICC5ANi8TBAgILkA2LxMECAguQDYvEwQICC5ANi8TBAgILkA2LxMECAguQDYvEwQICC5ANi8TBAoXeIy99COEChd4jL30I4QKF3iMvfQjhAoXeIy99COEChd4jL30I4QKF3iMvfQjhAoXeIy99COEChd4jL30I4QKF3iMvfQjhAoXeIy99COEAAbeY3+PFBQABt5jf48UFAAG3mN/jxQUAAbeY3+PFBQABt5jf48UFAAG3mN/jxQUAAbeY3+PFBQABt5jf48UFAAG3mN/jxQUAAbeY3+PFBQM99Nf0wYEpAz301/TBgSkDPfTX9MGBKQM99Nf0wYEpAz301/TBgSkDPfTX9MGBKQM99Nf0wYEpAz301/TBgSkDPfTX9MGBKQM99Nf0wYEpAS8aZ5vE8UUBLxpnm8TxRQEvGmebxPFFAS8aZ5vE8UUBLxpnm8TxRQEvGmebxPFFAS8aZ5vE8UUBLxpnm8TxRQEvGmebxPFFAS8aZ5vE8UUBMxpnm8TxRQEzGmebxPFFATMaZ5vE8UUBMxpnm8TxRQEzGmebxPFFATMaZ5vE8UUBMxpnm8TxRQEzGmebxPFFATMaZ5vE8UUBMxpnm8TxRQNB9Nf0wYEpA0H01/TBgSkDQfTX9MGBKQNB9Nf0wYEpA0H01/TBgSkDQfTX9MGBKQNB9Nf0wYEpA0H01/TBgSkDQfTX9MGBKQNB9Nf0wYEpAAW3mN/jxQUABbeY3+PFBQAFt5jf48UFAAW3mN/jxQUABbeY3+PFBQAFt5jf48UFAAW3mN/jxQUABbeY3+PFBQAFt5jf48UFAAW3mN/jxQUChd4jL30I4QKF3iMvfQjhAoXeIy99COEChd4jL30I4QKF3iMvfQjhAoXeIy99COEChd4jL30I4QKF3iMvfQjhAoXeIy99COEChd4jL30I4QICC5ANi8TBAgILkA2LxMECAguQDYvEwQICC5ANi8TBAgILkA2LxMECAguQDYvEwQICC5ANi8TBAgILkA2LxMECAguQDYvEwQICC5ANi8TBA1kqsfEHxJ0DWSqx8QfEnQNZKrHxB8SdA1kqsfEHxJ0DWSqx8QfEnQNZKrHxB8SdA1kqsfEHxJ0DWSqx8QfEnQNZKrHxB8SdA1kqsfEHxJ0CJt4DdPpEyQIm3gN0+kTJAibeA3T6RMkCJt4DdPpEyQIm3gN0+kTJAibeA3T6RMkCJt4DdPpEyQIm3gN0+kTJAibeA3T6RMkCJt4DdPpEyQCzK2S+hpj9ALMrZL6GmP0AsytkvoaY/QCzK2S+hpj9ALMrZL6GmP0AsytkvoaY/QCzK2S+hpj9ALMrZL6GmP0AsytkvoaY/QCzK2S+hpj9ACDFrXK3bTUAIMWtcrdtNQAgxa1yt201ACDFrXK3bTUAIMWtcrdtNQAgxa1yt201ACDFrXK3bTUAIMWtcrdtNQAgxa1yt201ACDFrXK3bTUAE74YGZdVaQATvhgZl1VpABO+GBmXVWkAE74YGZdVaQATvhgZl1VpABO+GBmXVWkAE74YGZdVaQATvhgZl1VpABO+GBmXVWkAE74YGZdVaQATvhgZl1VpABO+GBmXVWkAE74YGZdVaQATvhgZl1VpABO+GBmXVWkAE74YGZdVaQATvhgZl1VpABO+GBmXVWkAE74YGZdVaQATvhgZl1VpACzFrXK3bTUALMWtcrdtNQAsxa1yt201ACzFrXK3bTUALMWtcrdtNQAsxa1yt201ACzFrXK3bTUALMWtcrdtNQAsxa1yt201ACzFrXK3bTUAxytkvoaY/QDHK2S+hpj9AMcrZL6GmP0AxytkvoaY/QDHK2S+hpj9AMcrZL6GmP0AxytkvoaY/QDHK2S+hpj9AMcrZL6GmP0AxytkvoaY/QIq3gN0+kTJAireA3T6RMkCKt4DdPpEyQIq3gN0+kTJAireA3T6RMkCKt4DdPpEyQIq3gN0+kTJAireA3T6RMkCKt4DdPpEyQIq3gN0+kTJA1kqsfEHxJ0DWSqx8QfEnQNZKrHxB8SdA1kqsfEHxJ0DWSqx8QfEnQNZKrHxB8SdA1kqsfEHxJ0DWSqx8QfEnQNZKrHxB8SdA1kqsfEHxJ0DDWpWsaoQRQMNalaxqhBFAw1qVrGqEEUDDWpWsaoQRQMNalaxqhBFAw1qVrGqEEUDDWpWsaoQRQMNalaxqhBFAw1qVrGqEEUDDWpWsaoQRQAxICvNZthxADEgK81m2HEAMSArzWbYcQAxICvNZthxADEgK81m2HEAMSArzWbYcQAxICvNZthxADEgK81m2HEAMSArzWbYcQAxICvNZthxA6NbCPbaUK0Do1sI9tpQrQOjWwj22lCtA6NbCPbaUK0Do1sI9tpQrQOjWwj22lCtA6NbCPbaUK0Do1sI9tpQrQOjWwj22lCtA6NbCPbaUK0BZnwSvmONBQFmfBK+Y40FAWZ8Er5jjQUBZnwSvmONBQFmfBK+Y40FAWZ8Er5jjQUBZnwSvmONBQFmfBK+Y40FAWZ8Er5jjQUBZnwSvmONBQGI90KW5NGZAYj3Qpbk0ZkBiPdCluTRmQGI90KW5NGZAYj3Qpbk0ZkBiPdCluTRmQGI90KW5NGZAYj3Qpbk0ZkBiPdCluTRmQGI90KW5NGZAYj3Qpbk0ZkBiPdCluTRmQGI90KW5NGZAYj3Qpbk0ZkBiPdCluTRmQGI90KW5NGZAYj3Qpbk0ZkBiPdCluTRmQGI90KW5NGZAYj3Qpbk0ZkBenwSvmONBQF6fBK+Y40FAXp8Er5jjQUBenwSvmONBQF6fBK+Y40FAXp8Er5jjQUBenwSvmONBQF6fBK+Y40FAXp8Er5jjQUBenwSvmONBQOjWwj22lCtA6NbCPbaUK0Do1sI9tpQrQOjWwj22lCtA6NbCPbaUK0Do1sI9tpQrQOjWwj22lCtA6NbCPbaUK0Do1sI9tpQrQOjWwj22lCtAA0gK81m2HEADSArzWbYcQANICvNZthxAA0gK81m2HEADSArzWbYcQANICvNZthxAA0gK81m2HEADSArzWbYcQANICvNZthxAA0gK81m2HEDJWpWsaoQRQMlalaxqhBFAyVqVrGqEEUDJWpWsaoQRQMlalaxqhBFAyVqVrGqEEUDJWpWsaoQRQMlalaxqhBFAyVqVrGqEEUDJWpWsaoQRQMNalaxqhBHAw1qVrGqEEcDDWpWsaoQRwMNalaxqhBHAw1qVrGqEEcDDWpWsaoQRwMNalaxqhBHAw1qVrGqEEcDDWpWsaoQRwMNalaxqhBHADEgK81m2HMAMSArzWbYcwAxICvNZthzADEgK81m2HMAMSArzWbYcwAxICvNZthzADEgK81m2HMAMSArzWbYcwAxICvNZthzADEgK81m2HMDo1sI9tpQrwOjWwj22lCvA6NbCPbaUK8Do1sI9tpQrwOjWwj22lCvA6NbCPbaUK8Do1sI9tpQrwOjWwj22lCvA6NbCPbaUK8Do1sI9tpQrwFmfBK+Y40HAWZ8Er5jjQcBZnwSvmONBwFmfBK+Y40HAWZ8Er5jjQcBZnwSvmONBwFmfBK+Y40HAWZ8Er5jjQcBZnwSvmONBwFmfBK+Y40HAYj3Qpbk0ZsBiPdCluTRmwGI90KW5NGbAYj3Qpbk0ZsBiPdCluTRmwGI90KW5NGbAYj3Qpbk0ZsBiPdCluTRmwGI90KW5NGbAYj3Qpbk0ZsBiPdCluTRmwGI90KW5NGbAYj3Qpbk0ZsBiPdCluTRmwGI90KW5NGbAYj3Qpbk0ZsBiPdCluTRmwGI90KW5NGbAYj3Qpbk0ZsBiPdCluTRmwF6fBK+Y40HAXp8Er5jjQcBenwSvmONBwF6fBK+Y40HAXp8Er5jjQcBenwSvmONBwF6fBK+Y40HAXp8Er5jjQcBenwSvmONBwF6fBK+Y40HA6NbCPbaUK8Do1sI9tpQrwOjWwj22lCvA6NbCPbaUK8Do1sI9tpQrwOjWwj22lCvA6NbCPbaUK8Do1sI9tpQrwOjWwj22lCvA6NbCPbaUK8ADSArzWbYcwANICvNZthzAA0gK81m2HMADSArzWbYcwANICvNZthzAA0gK81m2HMADSArzWbYcwANICvNZthzAA0gK81m2HMADSArzWbYcwMlalaxqhBHAyVqVrGqEEcDJWpWsaoQRwMlalaxqhBHAyVqVrGqEEcDJWpWsaoQRwMlalaxqhBHAyVqVrGqEEcDJWpWsaoQRwMlalaxqhBHA1kqsfEHxJ8DWSqx8QfEnwNZKrHxB8SfA1kqsfEHxJ8DWSqx8QfEnwNZKrHxB8SfA1kqsfEHxJ8DWSqx8QfEnwNZKrHxB8SfA1kqsfEHxJ8CJt4DdPpEywIm3gN0+kTLAibeA3T6RMsCJt4DdPpEywIm3gN0+kTLAibeA3T6RMsCJt4DdPpEywIm3gN0+kTLAibeA3T6RMsCJt4DdPpEywC7K2S+hpj/ALsrZL6GmP8AuytkvoaY/wC7K2S+hpj/ALsrZL6GmP8AuytkvoaY/wC7K2S+hpj/ALsrZL6GmP8AuytkvoaY/wC7K2S+hpj/ABTFrXK3bTcAFMWtcrdtNwAUxa1yt203ABTFrXK3bTcAFMWtcrdtNwAUxa1yt203ABTFrXK3bTcAFMWtcrdtNwAUxa1yt203ABTFrXK3bTcAH74YGZdVawAfvhgZl1VrAB++GBmXVWsAH74YGZdVawAfvhgZl1VrAB++GBmXVWsAH74YGZdVawAfvhgZl1VrAB++GBmXVWsAH74YGZdVawAfvhgZl1VrAB++GBmXVWsAH74YGZdVawAfvhgZl1VrAB++GBmXVWsAH74YGZdVawAfvhgZl1VrAB++GBmXVWsAH74YGZdVawAfvhgZl1VrACzFrXK3bTcALMWtcrdtNwAsxa1yt203ACzFrXK3bTcALMWtcrdtNwAsxa1yt203ACzFrXK3bTcALMWtcrdtNwAsxa1yt203ACzFrXK3bTcAxytkvoaY/wDHK2S+hpj/AMcrZL6GmP8AxytkvoaY/wDHK2S+hpj/AMcrZL6GmP8AxytkvoaY/wDHK2S+hpj/AMcrZL6GmP8AxytkvoaY/wIm3gN0+kTLAibeA3T6RMsCJt4DdPpEywIm3gN0+kTLAibeA3T6RMsCJt4DdPpEywIm3gN0+kTLAibeA3T6RMsCJt4DdPpEywIm3gN0+kTLA1EqsfEHxJ8DUSqx8QfEnwNRKrHxB8SfA1EqsfEHxJ8DUSqx8QfEnwNRKrHxB8SfA1EqsfEHxJ8DUSqx8QfEnwNRKrHxB8SfA1EqsfEHxJ8CBguQDYvEwwIGC5ANi8TDAgYLkA2LxMMCBguQDYvEwwIGC5ANi8TDAgYLkA2LxMMCBguQDYvEwwIGC5ANi8TDAgYLkA2LxMMCBguQDYvEwwKF3iMvfQjjAoXeIy99COMChd4jL30I4wKF3iMvfQjjAoXeIy99COMChd4jL30I4wKF3iMvfQjjAoXeIy99COMChd4jL30I4wKF3iMvfQjjA/mzmN/jxQcD+bOY3+PFBwP5s5jf48UHA/mzmN/jxQcD+bOY3+PFBwP5s5jf48UHA/mzmN/jxQcD+bOY3+PFBwP5s5jf48UHA/mzmN/jxQcDPfTX9MGBKwM99Nf0wYErAz301/TBgSsDPfTX9MGBKwM99Nf0wYErAz301/TBgSsDPfTX9MGBKwM99Nf0wYErAz301/TBgSsDPfTX9MGBKwE3GmebxPFHATcaZ5vE8UcBNxpnm8TxRwE3GmebxPFHATcaZ5vE8UcBNxpnm8TxRwE3GmebxPFHATcaZ5vE8UcBNxpnm8TxRwE3GmebxPFHATcaZ5vE8UcBNxpnm8TxRwE3GmebxPFHATcaZ5vE8UcBNxpnm8TxRwE3GmebxPFHATcaZ5vE8UcBNxpnm8TxRwE3GmebxPFHATcaZ5vE8UcDTfTX9MGBKwNN9Nf0wYErA0301/TBgSsDTfTX9MGBKwNN9Nf0wYErA0301/TBgSsDTfTX9MGBKwNN9Nf0wYErA0301/TBgSsDTfTX9MGBKwAJt5jf48UHAAm3mN/jxQcACbeY3+PFBwAJt5jf48UHAAm3mN/jxQcACbeY3+PFBwAJt5jf48UHAAm3mN/jxQcACbeY3+PFBwAJt5jf48UHAoXeIy99COMChd4jL30I4wKF3iMvfQjjAoXeIy99COMChd4jL30I4wKF3iMvfQjjAoXeIy99COMChd4jL30I4wKF3iMvfQjjAoXeIy99COMCAguQDYvEwwICC5ANi8TDAgILkA2LxMMCAguQDYvEwwICC5ANi8TDAgILkA2LxMMCAguQDYvEwwICC5ANi8TDAgILkA2LxMMCAguQDYvEwwMBZ2LkgWDPAwFnYuSBYM8DAWdi5IFgzwMBZ2LkgWDPAwFnYuSBYM8DAWdi5IFgzwMBZ2LkgWDPAwFnYuSBYM8DAWdi5IFgzwMBZ2LkgWDPAsDN4CJSnOcCwM3gIlKc5wLAzeAiUpznAsDN4CJSnOcCwM3gIlKc5wLAzeAiUpznAsDN4CJSnOcCwM3gIlKc5wLAzeAiUpznAsDN4CJSnOcAjuhKonPtAwCO6Eqic+0DAI7oSqJz7QMAjuhKonPtAwCO6Eqic+0DAI7oSqJz7QMAjuhKonPtAwCO6Eqic+0DAI7oSqJz7QMAjuhKonPtAwMqAawJ0qUXAyoBrAnSpRcDKgGsCdKlFwMqAawJ0qUXAyoBrAnSpRcDKgGsCdKlFwMqAawJ0qUXAyoBrAnSpRcDKgGsCdKlFwMqAawJ0qUXAAf+otI4fScAB/6i0jh9JwAH/qLSOH0nAAf+otI4fScAB/6i0jh9JwAH/qLSOH0nAAf+otI4fScAB/6i0jh9JwAH/qLSOH0nAAf+otI4fScAA/6i0jh9JwAD/qLSOH0nAAP+otI4fScAA/6i0jh9JwAD/qLSOH0nAAP+otI4fScAA/6i0jh9JwAD/qLSOH0nAAP+otI4fScAA/6i0jh9JwMyAawJ0qUXAzIBrAnSpRcDMgGsCdKlFwMyAawJ0qUXAzIBrAnSpRcDMgGsCdKlFwMyAawJ0qUXAzIBrAnSpRcDMgGsCdKlFwMyAawJ0qUXAJboSqJz7QMAluhKonPtAwCW6Eqic+0DAJboSqJz7QMAluhKonPtAwCW6Eqic+0DAJboSqJz7QMAluhKonPtAwCW6Eqic+0DAJboSqJz7QMCxM3gIlKc5wLEzeAiUpznAsTN4CJSnOcCxM3gIlKc5wLEzeAiUpznAsTN4CJSnOcCxM3gIlKc5wLEzeAiUpznAsTN4CJSnOcCxM3gIlKc5wMBZ2LkgWDPAwFnYuSBYM8DAWdi5IFgzwMBZ2LkgWDPAwFnYuSBYM8DAWdi5IFgzwMBZ2LkgWDPAwFnYuSBYM8DAWdi5IFgzwMBZ2LkgWDPAdLJecC32M8B0sl5wLfYzwHSyXnAt9jPAdLJecC32M8B0sl5wLfYzwHSyXnAt9jPAdLJecC32M8B0sl5wLfYzwHSyXnAt9jPAdLJecC32M8CKvDqBBd84wIq8OoEF3zjAirw6gQXfOMCKvDqBBd84wIq8OoEF3zjAirw6gQXfOMCKvDqBBd84wIq8OoEF3zjAirw6gQXfOMCKvDqBBd84wLS3AQdKfz7AtLcBB0p/PsC0twEHSn8+wLS3AQdKfz7AtLcBB0p/PsC0twEHSn8+wLS3AQdKfz7AtLcBB0p/PsC0twEHSn8+wLS3AQdKfz7AIDiBHfH0QcAgOIEd8fRBwCA4gR3x9EHAIDiBHfH0QcAgOIEd8fRBwCA4gR3x9EHAIDiBHfH0QcAgOIEd8fRBwCA4gR3x9EHAIDiBHfH0QcAgBigC+LRDwCAGKAL4tEPAIAYoAvi0Q8AgBigC+LRDwCAGKAL4tEPAIAYoAvi0Q8AgBigC+LRDwCAGKAL4tEPAIAYoAvi0Q8AgBigC+LRDwCAGKAL4tEPAIAYoAvi0Q8AgBigC+LRDwCAGKAL4tEPAIAYoAvi0Q8AgBigC+LRDwCAGKAL4tEPAIAYoAvi0Q8AgBigC+LRDwCAGKAL4tEPAIDiBHfH0QcAgOIEd8fRBwCA4gR3x9EHAIDiBHfH0QcAgOIEd8fRBwCA4gR3x9EHAIDiBHfH0QcAgOIEd8fRBwCA4gR3x9EHAIDiBHfH0QcC2twEHSn8+wLa3AQdKfz7AtrcBB0p/PsC2twEHSn8+wLa3AQdKfz7AtrcBB0p/PsC2twEHSn8+wLa3AQdKfz7AtrcBB0p/PsC2twEHSn8+wIu8OoEF3zjAi7w6gQXfOMCLvDqBBd84wIu8OoEF3zjAi7w6gQXfOMCLvDqBBd84wIu8OoEF3zjAi7w6gQXfOMCLvDqBBd84wIu8OoEF3zjAdLJecC32M8B0sl5wLfYzwHSyXnAt9jPAdLJecC32M8B0sl5wLfYzwHSyXnAt9jPAdLJecC32M8B0sl5wLfYzwHSyXnAt9jPAdLJecC32M8A=",
          "dtype": "f8"
         },
         "v": {
          "bdata": "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",
          "dtype": "f8"
         },
         "w": {
          "bdata": "AAAAAAAAAAAAAAAAAAAAAAAAAAAAAAAAAAAAAAAAAAAAAAAAAAAAAAAAAAAAAAAAAAAAAAAAAAAAAAAAAAAAAAAAAAAAAAAAAAAAAAAAAAAAAAAAAAAAAAAAAAAAAAAAAAAAAAAAAAAAAAAAAAAAAAAAAAAAAAAAAAAAAAAAAAAAAAAAAAAAAAAAAAAAAAAAAAAAAAAAAAAAAAAAAAAAAAAAAAAAAAAAAAAAAAAAAAAAAAAAAAAAAAAAAAAAAAAAAAAAAAAAAAAAAAAAAAAAAAAAAAAAAAAAAAAAAAAAAAAAAAAAAAAAAAAAAAAAAAAAAAAAAAAAAAAAAAAAAAAAAAAAAAAAAAAAAAAAAAAAAAAAAAAAAAAAAAAAAAAAAAAAAAAAAAAAAAAAAAAAAAAAAAAAAAAAAAAAAAAAAAAAAAAAAAAAAAAAAAAAAAAAAAAAAAAAAAAAAAAAAAAAAAAAAAAAAAAAAAAAAAAAAAAAAAAAAAAAAAAAAAAAAAAAAAAAAAAAAAAAAAAAAAAAAAAAAAAAAAAAAAAAAAAAAAAAAAAAAAAAAAAAAAAAAAAAAAAAAAAAAAAAAAAAAAAAAAAAAAAAAAAAAAAAAAAAAAAAAAAAAAAAAAAAAAAAAAAAAAAAAAAAAAAAAAAAAAAAAAAAAAAAAAAAAAAAAAAAAAAAAAAAAAAAAAAAAAAAAAAAAAAAAAAAAAAAAAAAAAAAAAAAAAAAAAAAAAAAAAAAAAAAAAAAAAAAAAAAAAAAAAAAAAAAAAAAAAAAAAAAAAAAAAAAAAAAAAAAAAAAAAAAAAAAAAAAAAAAAAAAAAAAAAAAAAAAAAAAAAAAAAAAAAAAAAAAAAAAAAAAAAAAAAAAAAAAAAAAAAAAAAAAAAAAAAAAAAAAAAAAAAAAAAAAAAAAAAAAAAAAAAAAAAAAAAAAAAAAAAAAAAAAAAAAAAAAAAAAAAAAAAAAAAAAAAAAAAAAAAAAAAAAAAAAAAAAAAAAAAAAAAAAAAAAAAAAAAAAAAAAAAAAAAAAAAAAAAAAAAAAAAAAAAAAAAAAAAAAAAAAAAAAAAAAAAAAAAAAAAAAAAAAAAAAAAAAAAAAAAAAAAAAAAAAAAAAAAAAAAAAAAAAAAAAAAAAAAAAAAAAAAAAAAAAAAAAAAAAAAAAAAAAAAAAAAAAAAAAAAAAAAAAAAAAAAAAAAAAAAAAAAAAAAAAAAAAAAAAAAAAAAAAAAAAAAAAAAAAAAAAAAAAAAAAAAAAAAAAAAAAAAAAAAAAAAAAAAAAAAAAAAAAAAAAAAAAAAAAAAAAAAAAAAAAAAAAAAAAAAAAAAAAAAAAAAAAAAAAAAAAAAAAAAAAAAAAAAAAAAAAAAAAAAAAAAAAAAAAAAAAAAAAAAAAAAAAAAAAAAAAAAAAAAAAAAAAAAAAAAAAAAAAAAAAAAAAAAAAAAAAAAAAAAAAAAAAAAAAAAAAAAAAAAAAAAAAAAAAAAAAAAAAAAAAAAAAAAAAAAAAAAAAAAAAAAAAAAAAAAAAAAAAAAAAAAAAAAAAAAAAAAAAAAAAAAAAAAAAAAAAAAAAAAAAAAAAAAAAAAAAAAAAAAAAAAAAAAAAAAAAAAAAAAAAAAAAAAAAAAAAAAAAAAAAAAAAAAAAAAAAAAAAAAAAAAAAAAAAAAAAAAAAAAAAAAAAAAAAAAAAAAAAAAAAAAAAAAAAAAAAAAAAAAAAAAAAAAAAAAAAAAAAAAAAAAAAAAAAAAAAAAAAAAAAAAAAAAAAAAAAAAAAAAAAAAAAAAAAAAAAAAAAAAAAAAAAAAAAAAAAAAAAAAAAAAAAAAAAAAAAAAAAAAAAAAAAAAAAAAAAAAAAAAAAAAAAAAAAAAAAAAAAAAAAAAAAAAAAAAAAAAAAAAAAAAAAAAAAAAAAAAAAAAAAAAAAAAAAAAAAAAAAAAAAAAAAAAAAAAAAAAAAAAAAAAAAAAAAAAAAAAAAAAAAAAAAAAAAAAAAAAAAAAAAAAAAAAAAAAAAAAAAAAAAAAAAAAAAAAAAAAAAAAAAAAAAAAAAAAAAAAAAAAAAAAAAAAAAAAAAAAAAAAAAAAAAAAAAAAAAAAAAAAAAAAAAAAAAAAAAAAAAAAAAAAAAAAAAAAAAAAAAAAAAAAAAAAAAAAAAAAAAAAAAAAAAAAAAAAAAAAAAAAAAAAAAAAAAAAAAAAAAAAAAAAAAAAAAAAAAAAAAAAAAAAAAAAAAAAAAAAAAAAAAAAAAAAAAAAAAAAAAAAAAAAAAAAAAAAAAAAAAAAAAAAAAAAAAAAAAAAAAAAAAAAAAAAAAAAAAAAAAAAAAAAAAAAAAAAAAAAAAAAAAAAAAAAAAAAAAAAAAAAAAAAAAAAAAAAAAAAAAAAAAAAAAAAAAAAAAAAAAAAAAAAAAAAAAAAAAAAAAAAAAAAAAAAAAAAAAAAAAAAAAAAAAAAAAAAAAAAAAAAAAAAAAAAAAAAAAAAAAAAAAAAAAAAAAAAAAAAAAAAAAAAAAAAAAAAAAAAAAAAAAAAAAAAAAAAAAAAAAAAAAAAAAAAAAAAAAAAAAAAAAAAAAAAAAAAAAAAAAAAAAAAAAAAAAAAAAAAAAAAAAAAAAAAAAAAAAAAAAAAAAAAAAAAAAAAAAAAAAAAAAAAAAAAAAAAAAAAAAAAAAAAAAAAAAAAAAAAAAAAAAAAAAAAAAAAAAAAAAAAAAAAAAAAAAAAAAAAAAAAAAAAAAAAAAAAAAAAAAAAAAAAAAAAAAAAAAAAAAAAAAAAAAAAAAAAAAAAAAAAAAAAAAAAAAAAAAAAAAAAAAAAAAAAAAAAAAAAAAAAAAAAAAAAAAAAAAAAAAAAAAAAAAAAAAAAAAAAAAAAAAAAAAAAAAAAAAAAAAAAAAAAAAAAAAAAAAAAAAAAAAAAAAAAAAAAAAAAAAAAAAAAAAAAAAAAAAAAAAAAAAAAAAAAAAAAAAAAAAAAAAAAAAAAAAAAAAAAAAAAAAAAAAAAAAAAAAAAAAAAAAAAAAAAAAAAAAAAAAAAAAAAAAAAAAAAAAAAAAAAAAAAAAAAAAAAAAAAAAAAAAAAAAAAAAAAAAAAAAAAAAAAAAAAAAAAAAAAAAAAAAAAAAAAAAAAAAAAAAAAAAAAAAAAAAAAAAAAAAAAAAAAAAAAAAAAAAAAAAAAAAAAAAAAAAAAAAAAAAAAAAAAAAAAAAAAAAAAAAAAAAAAAAAAAAAAAAAAAAAAAAAAAAAAAAAAAAAAAAAAAAAAAAAAAAAAAAAAAAAAAAAAAAAAAAAAAAAAAAAAAAAAAAAAAAAAAAAAAAAAAAAAAAAAAAAAAAAAAAAAAAAAAAAAAAAAAAAAAAAAAAAAAAAAAAAAAAAAAAAAAAAAAAAAAAAAAAAAAAAAAAAAAAAAAAAAAAAAAAAAAAAAAAAAAAAAAAAAAAAAAAAAAAAAAAAAAAAAAAAAAAAAAAAAAAAAAAAAAAAAAAAAAAAAAAAAAAAAAAAAAAAAAAAAAAAAAAAAAAAAAAAAAAAAAAAAAAAAAAAAAAAAAAAAAAAAAAAAAAAAAAAAAAAAAAAAAAAAAAAAAAAAAAAAAAAAAAAAAAAAAAAAAAAAAAAAAAAAAAAAAAAAAAAAAAAAAAAAAAAAAAAAAAAAAAAAAAAAAAAAAAAAAAAAAAAAAAAAAAAAAAAAAAAAAAAAAAAAAAAAAAAAAAAAAAAAAAAAAAAAAAAAAAAAAAAAAAAAAAAAAAAAAAAAAAAAAAAAAAAAAAAAAAAAAAAAAAAAAAAAAAAAAAAAAAAAAAAAAAAAAAAAAAAAAAAAAAAAAAAAAAAAAAAAAAAAAAAAAAAAAAAAAAAAAAAAAAAAAAAAAAAAAAAAAAAAAAAAAAAAAAAAAAAAAAAAAAAAAAAAAAAAAAAAAAAAAAAAAAAAAAAAAAAAAAAAAAAAAAAAAAAAAAAAAAAAAAAAAAAAAAAAAAAAAAAAAAAAAAAAAAAAAAAAAAAAAAAAAAAAAAAAAAAAAAAAAAAAAAAAAAAAAAAAAAAAAAAAAAAAAAAAAAAAAAAAAAAAAAAAAAAAAAAAAAAAAAAAAAAAAAAAAAAAAAAAAAAAAAAAAAAAAAAAAAAAAAAAAAAAAAAAAAAAAAAAAAAAAAAAAAAAAAAAAAAAAAAAAAAAAAAAAAAAAAAAAAAAAAAAAAAAAAAAAAAAAAAAAAAAAAAAAAAAAAAAAAAAAAAAAAAAAAAAAAAAAAAAAAAAAAAAAAAAAAAAAAAAAAAAAAAAAAAAAAAAAAAAAAAAAAAAAAAAAAAAAAAAAAAAAAAAAAAAAAAAAAAAAAAAAAAAAAAAAAAAAAAAAAAAAAAAAAAAAAAAAAAAAAAAAAAAAAAAAAAAAAAAAAAAAAAAAAAAAAAAAAAAAAAAAAAAAAAAAAAAAAAAAAAAAAAAAAAAAAAAAAAAAAAAAAAAAAAAAAAAAAAAAAAAAAAAAAAAAAAAAAAAAAAAAAAAAAAAAAAAAAAAAAAAAAAAAAAAAAAAAAAAAAAAAAAAAAAAAAAAAAAAAAAAAAAAAAAAAAAAAAAAAAAAAAAAAAAAAAAAAAAAAAAAAAAAAAAAAAAAAAAAAAAAAAAAAAAAAAAAAAAAAAAAAAAAAAAAAAAAAAAAAAAAAAAAAAAAAAAAAAAAAAAAAAAAAAAAAAAAAAAAAAAAAAAAAAAAAAAAAAAAAAAAAAAAAAAAAAAAAAAAAAAAAAAAAAAAAAAAAAAAAAAAAAAAAAAAAAAAAAAAAAAAAAAAAAAAAAAAAAAAAAAAAAAAAAAAAAAAAAAAAAAAAAAAAAAAAAAAAAAAAAAAAAAAAAAAAAAAAAAAAAAAAAAAAAAAAAAAAAAAAAAAAAAAAAAAAAAAAAAAAAAAAAAAAAAAAAAAAAAAAAAAAAAAAAAAAAAAAAAAAAAAAAAAAAAAAAAAAAAAAAAAAAAAAAAAAAAAAAAAAAAAAAAAAAAAAAAAAAAAAAAAAAAAAAAAAAAAAAAAAAAAAAAAAAAAAAAAAAAAAAAAAAAAAAAAAAAAAAAAAAAAAAAAAAAAAAAAAAAAAAAAAAAAAAAAAAAAAAAAAAAAAAAAAAAAAAAAAAAAAAAAAAAAAAAAAAAAAAAAAAAAAAAAAAAAAAAAAAAAAAAAAAAAAAAAAAAAAAAAAAAAAAAAAAAAAAAAAAAAAAAAAAAAAAAAAAAAAAAAAAAAAAAAAAAAAAAAAAAAAAAAAAAAAAAAAAAAAAAAAAAAAAAAAAAAAAAAAAAAAAAAAAAAAAAAAAAAAAAAAAAAAAAAAAAAAAAAAAAAAAAAAAAAAAAAAAAAAAAAAAAAAAAAAAAAAAAAAAAAAAAAAAAAAAAAAAAAAAAAAAAAAAAAAAAAAAAAAAAAAAAAAAAAAAAAAAAAAAAAAAAAAAAAAAAAAAAAAAAAAAAAAAAAAAAAAAAAAAAAAAAAAAAAAAAAAAAAAAAAAAAAAAAAAAAAAAAAAAAAAAAAAAAAAAAAAAAAAAAAAAAAAAAAAAAAAAAAAAAAAAAAAAAAAAAAAAAAAAAAAAAAAAAAAAAAAAAAAAAAAAAAAAAAAAAAAAAAAAAAAAAAAAAAAAAAAAAAAAAAAAAAAAAAAAAAAAAAAAAAAAAAAAAAAAAAAAAAAAAAAAAAAAAAAAAAAAAAAAAAAAAAAAAAAAAAAAAAAAAAAAAAAAAAAAAAAAAAAAAAAAAAAAAAAAAAAAAAAAAAAAAAAAAAAAAAAAAAAAAAAAAAAAAAAAAAAAAAAAAAAAAAAAAAAAAAAAAAAAAAAAAAAAAAAAAAAAAAAAAAAAAAAAAAAAAAAAAAAAAAAAAAAAAAAAAAAAAAAAAAAAAAAAAAAAAAAAAAAAAAAAAAAAAAAAAAAAAAAAAAAAAAAAAAAAAAAAAAAAAAAAAAAAAAAAAAAAAAAAAAAAAAAAAAAAAAAAAAAAAAAAAAAAAAAAAAAAAAAAAAAAAAAAAAAAAAAAAAAAAAAAAAAAAAAAAAAAAAAAAAAAAAAAAAAAAAAAAAAAAAAAAAAAAAAAAAAAAAAAAAAAAAAAAAAAAAAAAAAAAAAAAAAAAAAAAAAAAAAAAAAAAAAAAAAAAAAAAAAAAAAAAAAAAAAAAAAAAAAAAAAAAAAAAAAAAAAAAAAAAAAAAAAAAAAAAAAAAAAAAAAAAAAAAAAAAAAAAAAAAAAAAAAAAAAAAAAAAAAAAAAAAAAAAAAAAAAAAAAAAAAAAAAAAAAAAAAAAAAAAAAAAAAAAAAAAAAAAAAAAAAAAAAAAAAAAAAAAAAAAAAAAAAAAAAAAAAAAAAAAAAAAAAAAAAAAAAAAAAAAAAAAAAAAAAAAAAAAAAAAAAAAAAAAAAAAAAAAAAAAAAAAAAAAAAAAAAAAAAAAAAAAAAAAAAAAAAAAAAAAAAAAAAAAAAAAAAAAAAAAAAAAAAAAAAAAAAAAAAAAAAAAAAAAAAAAAAAAAAAAAAAAAAAAAAAAAAAAAAAAAAAAAAAAAAAAAAAAAAAAAAAAAAAAAAAAAAAAAAAAAAAAAAAAAAAAAAAAAAAAAAAAAAAAAAAAAAAAAAAAAAAAAAAAAAAAAAAAAAAAAAAAAAAAAAAAAAAAAAAAAAAAAAAAAAAAAAAAAAAAAAAAAAAAAAAAAAAAAAAAAAAAAAAAAAAAAAAAAAAAAAAAAAAAAAAAAAAAAAAAAAAAAAAAAAAAAAAAAAAAAAAAAAAAAAAAAAAAAAAAAAAAAAAAAAAAAAAAAAAAAAAAAAAAAAAAAAAAAAAAAAAAAAAAAAAAAAAAAAAAAAAAAAAAAAAAAAAAAAAAAAAAAAAAAAAAAAAAAAAAAAAAAAAAAAAAAAAAAAAAAAAAAAAAAAAAAAAAAAAAAAAAAAAAAAAAAAAAAAAAAAAAAAAAAAAAAAAAAAAAAAAAAAAAAAAAAAAAAAAAAAAAAAAAAAAAAAAAAAAAAAAAAAAAAAAAAAAAAAAAAAAAAAAAAAAAAAAAAAAAAAAAAAAAAAAAAAAAAAAAAAAAAAAAAAAAAAAAAAAAAAAAAAAAAAAAAAAAAAAAAAAAAAAAAAAAAAAAAAAAAAAAAAAAAAAAAAAAAAAAAAAAAAAAAAAAAAAAAAAAAAAAAAAAAAAAAAAAAAAAAAAAAAAAAAAAAAAAAAAAAAAAAAAAAAAAAAAAAAAAAAAAAAAAAAAAAAAAAAAAAAAAAAAAAAAAAAAAAAAAAAAAAAAAAAAAAAAAAAAAAAAAAAAAAAAAAAAAAAAAAAAAAAAAAAAAAAAAAAAAAAAAAAAAAAAAAAAAAAAAAAAAAAAAAAAAAAAAAAAAAAAAAAAAAAAAAAAAAAAAAAAAAAAAAAAAAAAAAAAAAAAAAAAAAAAAAAAAAAAAAAAAAAAAAAAAAAAAAAAAAAAAAAAAAAAAAAAAAAAAAAAAAAAAAAAAAAAAAAAAAAAAAAAAAAAAAAAAAAAAAAAAAAAAAAAAAAAAAAAAAAAAAAAAAAAAAAAAAAAAAAAAAAAAAAAAAAAAAAAAAAAAAAAAAAAAAAAAAAAAAAAAAAAAAAAAAAAAAAAAAAAAAAAAAAAAAAAAAAAAAAAAAAAAAAAAAAAAAAAAAAAAAAAAAAAAAAAAAAAAAAAAAAAAAAAAAAAAAAAAAAAAAAAAAAAAAAAAAAAAAAAAAAAAAAAAAAAAAAAAAAAAAAAAAAAAAAAAAAAAAAAAAAAAAAAAAAAAAAAAAAAAAAAAAAAAAAAAAAAAAAAAAAAAAAAAAAAAAAAAAAAAAAAAAAAAAAAAAAAAAAAAAAAAAAAAAAAAAAAAAAAAAAAAAAAAAAAAAAAAAAAAAAAAAAAAAAAAAAAAAAAAAAAAAAAAAAAAAAAAAAAAAAAAAAAAAAAAAAAAAAAAAAAAAAAAAAAAAAAAAAAAAAAAAAAAAAAAAAAAAAAAAAAAAAAAAAAAAAAAAAAAAAAAAAAAAAAAAAAAAAAAAAAAAAAAAAAAAAAAAAAAAAAAAAAAAAAAAAAAAAAAAAAAAAAAAAAAAAAAAAAAAAAAAAAAAAAAAAAAAAAAAAAAAAAAAAAAAAAAAAAAAAAAAAAAAAAAAAAAAAAAAAAAAAAAAAAAAAAAAAAAAAAAAAAAAAAAAAAAAAAAAAAAAAAAAAAAAAAAAAAAAAAAAAAAAAAAAAAAAAAAAAAAAAAAAAAAAAAAAAAAAAAAAAAAAAAAAAAAAAAAAAAAAAAAAAAAAAAAAAAAAAAAAAAAAAAAAAAAAAAAAAAAAAAAAAAAAAAAAAAAAAAAAAAAAAAAAAAAAAAAAAAAAAAAAAAAAAAAAAAAAAAAAAAAAAAAAAAAAAAAAAAAAAAAAAAAAAAAAAAAAAAAAAAAAAAAAAAAAAAAAAAAAAAAAAAAAAAAAAAAAAAAAAAAAAAAAAAAAAAAAAAAAAAAAAAAAAAAAAAAAAAAAAAAAAAAAAAAAAAAAAAAAAAAAAAAAAAAAAAAAAAAAAAAAAAAAAAAAAAAAAAAAAAAAAAAAAAAAAAAAAAAAAAAAAAAAAAAAAAAAAAAAAAAAAAAAAAAAAAAAAAAAAAAAAAAAAAAAAAAAAAAAAAAAAAAAAAAAAAAAAAAAAAAAAAAAAAAAAAAAAAAAAAAAAAAAAAAAAAAAAAAAAAAAAAAAAAAAAAAAAAAAAAAAAAAAAAAAAAAAAAAAAAAAAAAAAAAAAAAAAAAAAAAAAAAAAAAAAAAAAAAAAAAAAAAAAAAAAAAAAAAAAAAAAAAAAAAAAAAAAAAAAAAAAAAAAAAAAAAAAAAAAAAAAAAAAAAAAAAAAAAAAAAAAAAAAAAAAAAAAAAAAAAAAAAAAAAAAAAAAAAAAAAAAAAAAAAAAAAAAAAAAAAAAAAAAAAAAAAAAAAAAAAAAAAAAAAAAAAAAAAAAAAAAAAAAAAAAAAAAAAAAAAAAAAAAAAAAAAAAAAAAAAAAAAAAAAAAAAAAAAAAAAAAAAAAAAAAAAAAAAAAAAAAAAAAAAAAAAAAAAAAAAAAAAAAAAAAAAAAAAAAAAAAAAAAAAAAAAAAAAAAAAAAAAAAAAAAAAAAAAAAAAAAAAAAAAAAAAAAAAAAAAAAAAAAAAAAAAAAAAAAAAAAAAAAAAAAAAAAAAAAAAAAAAAAAAAAAAAAAAAAAAAAAAAAAAAAAAAAAAAAAAAAAAAAAAAAAAAAAAAAAAAAAAAAAAAAAAAAAAAAAAAAAAAAAAAAAAAAAAAAAAAAAAAAAAAAAAAAAAAAAAAAAAAAAAAAAAAAAAAAAAAAAAAAAAAAAAAAAAAAAAAAAAAAAAAAAAAAAAAAAAAAAAAAAAAAAAAAAAAAAAAAAAAAAAAAAAAAAAAAAAAAAAAAAAAAAAAAAAAAAAAAAAAAAAAAAAAAAAAAAAAAAAAAAAAAAAAAAAAAAAAAAAAAAAAAAAAAAAAAAAAAAAAAAAAAAAAAAAAAAAAAAAAAAAAAAAAAAAAAAAAAAAAAAAAAAAAAAAAAAAAAAAAAAAAAAAAAAAAAAAAAAAAAAAAAAAAAAAAAAAAAAAAAAAAAAAAAAAAAAAAAAAAAAAAAAAAAAAAAAAAAAAAAAAAAAAAAAAAAAAAAAAAAAAAAAAAAAAAAAAAAAAAAAAAAAAAAAAAAAAAAAAAAAAAAAAAAAAAAAAAAAAAAAAAAAAAAAAAAAAAAAAAAAAAAAAAAAAAAAAAAAAAAAAAAAAAAAAAAAAAAAAAAAAAAAAAAAAAAAAAAAAAAAAAAAAAAAAAAAAAAAAAAAAAAAAAAAAAAAAAAAAAAAAAAAAAAAAAAAAAAAAAAAAAAAAAAAAAAAAAAAAAAAAAAAAAAAAAAAAAAAAAAAAAAAAAAAAAAAAAAAAAAAAAAAAAAAAAAAAAAAAAAAAAAAAAAAAAAAAAAAAAAAAAAAAAAAAAAAAAAAAAAAAAAAAAAAAAAAAAAAAAAAAAAAAAAAAAAAAAAAAAAAAAAAAAAAAAAAAAAAAAAAAAAAAAAAAAAAAAAAAAAAAAAAAAAAAAAAAAAAAAAAAAAAAAAAAAAAAAAAAAAAAAAAAAAAAAAAAAAAAAAAAAAAAAAAAAAAAAAAAAAAAAAAAAAAAAAAAAAAAAAAAAAAAAAAAAAAAAAAAAAAAAAAAAAAAAAAAAAAAAAAAAAAAAAAAAAAAAAAAAAAAAAAAAAAAAAAAAAAAAAAAAAAAAAAAAAAAAAAAAAAAAAAAAAAAAAAAAAAAAAAAAAAAAAAAAAAAAAAAAAAAAAAAAAAAAAAAAAAAAAAAAAAAAAAAAAAAAAAAAAAAAAAAAAAAAAAAAAAAAAAAAAAAAAAAAAAAAAAAAAAAAAAAAAAAAAAAAAAAAAAAAAAAAAAAAAAAAAAAAAAAAAAAAAAAAAAAAAAAAAAAAAAAAAAAAAAAAAAAAAAAAAAAAAAAAAAAAAAAAAAAAAAAAAAAAAAAAAAAAAAAAAAAAAAAAAAAAAAAAAAAAAAAAAAAAAAAAAAAAAAAAAAAAAAAAAAAAAAAAAAAAAAAAAAAAAAAAAAAAAAAAAAAAAAAAAAAAAAAAAAAAAAAAAAAAAAAAAAAAAAAAAAAAAAAAAAAAAAAAAAAAAAAAAAAAAAAAAAAAAAAAAAAAAAAAAAAAAAAAAAAAAAAAAAAAAAAAAAAAAAAAAAAAAAAAAAAAAAAAAAAAAAAAAAAAAAAAAAAAAAAAAAAAAAAAAAAAAAAAAAAAAAAAAAAAAAAAAAAAAAAAAAAAAAAAAAAAAAAAAAAAAAAAA=",
          "dtype": "f8"
         },
         "x": {
          "bdata": "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",
          "dtype": "f8"
         },
         "y": {
          "bdata": "AAAAAAAA4L8AAAAAAADgvwAAAAAAAOC/AAAAAAAA4L8AAAAAAADgvwAAAAAAAOC/AAAAAAAA4L8AAAAAAADgvwAAAAAAAOC/AAAAAAAA4L8AAAAAAADgvwAAAAAAAOC/AAAAAAAA4L8AAAAAAADgvwAAAAAAAOC/AAAAAAAA4L8AAAAAAADgvwAAAAAAAOC/AAAAAAAA4L8AAAAAAADgvwAAAAAAAOC/AAAAAAAA4L8AAAAAAADgvwAAAAAAAOC/AAAAAAAA4L8AAAAAAADgvwAAAAAAAOC/AAAAAAAA4L8AAAAAAADgvwAAAAAAAOC/AAAAAAAA4L8AAAAAAADgvwAAAAAAAOC/AAAAAAAA4L8AAAAAAADgvwAAAAAAAOC/AAAAAAAA4L8AAAAAAADgvwAAAAAAAOC/AAAAAAAA4L8AAAAAAADgvwAAAAAAAOC/AAAAAAAA4L8AAAAAAADgvwAAAAAAAOC/AAAAAAAA4L8AAAAAAADgvwAAAAAAAOC/AAAAAAAA4L8AAAAAAADgvwAAAAAAAOC/AAAAAAAA4L8AAAAAAADgvwAAAAAAAOC/AAAAAAAA4L8AAAAAAADgvwAAAAAAAOC/AAAAAAAA4L8AAAAAAADgvwAAAAAAAOC/AAAAAAAA4L8AAAAAAADgvwAAAAAAAOC/AAAAAAAA4L8AAAAAAADgvwAAAAAAAOC/AAAAAAAA4L8AAAAAAADgvwAAAAAAAOC/AAAAAAAA4L8AAAAAAADgvwAAAAAAAOC/AAAAAAAA4L8AAAAAAADgvwAAAAAAAOC/AAAAAAAA4L8AAAAAAADgvwAAAAAAAOC/AAAAAAAA4L8AAAAAAADgvwAAAAAAAOC/AAAAAAAA4L8AAAAAAADgvwAAAAAAAOC/AAAAAAAA4L8AAAAAAADgvwAAAAAAAOC/AAAAAAAA4L8AAAAAAADgvwAAAAAAAOC/AAAAAAAA4L8AAAAAAADgvwAAAAAAAOC/AAAAAAAA4L8AAAAAAADgvwAAAAAAAOC/AAAAAAAA4L8AAAAAAADgvwAAAAAAAOC/AAAAAAAA4L85juM4juPYvzmO4ziO49i/OY7jOI7j2L85juM4juPYvzmO4ziO49i/OY7jOI7j2L85juM4juPYvzmO4ziO49i/OY7jOI7j2L85juM4juPYvzmO4ziO49i/OY7jOI7j2L85juM4juPYvzmO4ziO49i/OY7jOI7j2L85juM4juPYvzmO4ziO49i/OY7jOI7j2L85juM4juPYvzmO4ziO49i/OY7jOI7j2L85juM4juPYvzmO4ziO49i/OY7jOI7j2L85juM4juPYvzmO4ziO49i/OY7jOI7j2L85juM4juPYvzmO4ziO49i/OY7jOI7j2L85juM4juPYvzmO4ziO49i/OY7jOI7j2L85juM4juPYvzmO4ziO49i/OY7jOI7j2L85juM4juPYvzmO4ziO49i/OY7jOI7j2L85juM4juPYvzmO4ziO49i/OY7jOI7j2L85juM4juPYvzmO4ziO49i/OY7jOI7j2L85juM4juPYvzmO4ziO49i/OY7jOI7j2L85juM4juPYvzmO4ziO49i/OY7jOI7j2L85juM4juPYvzmO4ziO49i/OY7jOI7j2L85juM4juPYvzmO4ziO49i/OY7jOI7j2L85juM4juPYvzmO4ziO49i/OY7jOI7j2L85juM4juPYvzmO4ziO49i/OY7jOI7j2L85juM4juPYvzmO4ziO49i/OY7jOI7j2L85juM4juPYvzmO4ziO49i/OY7jOI7j2L85juM4juPYvzmO4ziO49i/OY7jOI7j2L85juM4juPYvzmO4ziO49i/OY7jOI7j2L85juM4juPYvzmO4ziO49i/OY7jOI7j2L85juM4juPYvzmO4ziO49i/OY7jOI7j2L85juM4juPYvzmO4ziO49i/OY7jOI7j2L85juM4juPYvzmO4ziO49i/OY7jOI7j2L85juM4juPYvzmO4ziO49i/OY7jOI7j2L85juM4juPYvzmO4ziO49i/OY7jOI7j2L85juM4juPYvzmO4ziO49i/OY7jOI7j2L85juM4juPYvzmO4ziO49i/OY7jOI7j2L85juM4juPYv3Icx3Ecx9G/chzHcRzH0b9yHMdxHMfRv3Icx3Ecx9G/chzHcRzH0b9yHMdxHMfRv3Icx3Ecx9G/chzHcRzH0b9yHMdxHMfRv3Icx3Ecx9G/chzHcRzH0b9yHMdxHMfRv3Icx3Ecx9G/chzHcRzH0b9yHMdxHMfRv3Icx3Ecx9G/chzHcRzH0b9yHMdxHMfRv3Icx3Ecx9G/chzHcRzH0b9yHMdxHMfRv3Icx3Ecx9G/chzHcRzH0b9yHMdxHMfRv3Icx3Ecx9G/chzHcRzH0b9yHMdxHMfRv3Icx3Ecx9G/chzHcRzH0b9yHMdxHMfRv3Icx3Ecx9G/chzHcRzH0b9yHMdxHMfRv3Icx3Ecx9G/chzHcRzH0b9yHMdxHMfRv3Icx3Ecx9G/chzHcRzH0b9yHMdxHMfRv3Icx3Ecx9G/chzHcRzH0b9yHMdxHMfRv3Icx3Ecx9G/chzHcRzH0b9yHMdxHMfRv3Icx3Ecx9G/chzHcRzH0b9yHMdxHMfRv3Icx3Ecx9G/chzHcRzH0b9yHMdxHMfRv3Icx3Ecx9G/chzHcRzH0b9yHMdxHMfRv3Icx3Ecx9G/chzHcRzH0b9yHMdxHMfRv3Icx3Ecx9G/chzHcRzH0b9yHMdxHMfRv3Icx3Ecx9G/chzHcRzH0b9yHMdxHMfRv3Icx3Ecx9G/chzHcRzH0b9yHMdxHMfRv3Icx3Ecx9G/chzHcRzH0b9yHMdxHMfRv3Icx3Ecx9G/chzHcRzH0b9yHMdxHMfRv3Icx3Ecx9G/chzHcRzH0b9yHMdxHMfRv3Icx3Ecx9G/chzHcRzH0b9yHMdxHMfRv3Icx3Ecx9G/chzHcRzH0b9yHMdxHMfRv3Icx3Ecx9G/chzHcRzH0b9yHMdxHMfRv3Icx3Ecx9G/chzHcRzH0b9yHMdxHMfRv3Icx3Ecx9G/chzHcRzH0b9yHMdxHMfRv3Icx3Ecx9G/chzHcRzH0b9yHMdxHMfRv3Icx3Ecx9G/chzHcRzH0b9yHMdxHMfRv3Icx3Ecx9G/chzHcRzH0b9yHMdxHMfRv3Icx3Ecx9G/VlVVVVVVxb9WVVVVVVXFv1ZVVVVVVcW/VlVVVVVVxb9WVVVVVVXFv1ZVVVVVVcW/VlVVVVVVxb9WVVVVVVXFv1ZVVVVVVcW/VlVVVVVVxb9WVVVVVVXFv1ZVVVVVVcW/VlVVVVVVxb9WVVVVVVXFv1ZVVVVVVcW/VlVVVVVVxb9WVVVVVVXFv1ZVVVVVVcW/VlVVVVVVxb9WVVVVVVXFv1ZVVVVVVcW/VlVVVVVVxb9WVVVVVVXFv1ZVVVVVVcW/VlVVVVVVxb9WVVVVVVXFv1ZVVVVVVcW/VlVVVVVVxb9WVVVVVVXFv1ZVVVVVVcW/VlVVVVVVxb9WVVVVVVXFv1ZVVVVVVcW/VlVVVVVVxb9WVVVVVVXFv1ZVVVVVVcW/VlVVVVVVxb9WVVVVVVXFv1ZVVVVVVcW/VlVVVVVVxb9WVVVVVVXFv1ZVVVVVVcW/VlVVVVVVxb9WVVVVVVXFv1ZVVVVVVcW/VlVVVVVVxb9WVVVVVVXFv1ZVVVVVVcW/VlVVVVVVxb9WVVVVVVXFv1ZVVVVVVcW/VlVVVVVVxb9WVVVVVVXFv1ZVVVVVVcW/VlVVVVVVxb9WVVVVVVXFv1ZVVVVVVcW/VlVVVVVVxb9WVVVVVVXFv1ZVVVVVVcW/VlVVVVVVxb9WVVVVVVXFv1ZVVVVVVcW/VlVVVVVVxb9WVVVVVVXFv1ZVVVVVVcW/VlVVVVVVxb9WVVVVVVXFv1ZVVVVVVcW/VlVVVVVVxb9WVVVVVVXFv1ZVVVVVVcW/VlVVVVVVxb9WVVVVVVXFv1ZVVVVVVcW/VlVVVVVVxb9WVVVVVVXFv1ZVVVVVVcW/VlVVVVVVxb9WVVVVVVXFv1ZVVVVVVcW/VlVVVVVVxb9WVVVVVVXFv1ZVVVVVVcW/VlVVVVVVxb9WVVVVVVXFv1ZVVVVVVcW/VlVVVVVVxb9WVVVVVVXFv1ZVVVVVVcW/VlVVVVVVxb9WVVVVVVXFv1ZVVVVVVcW/VlVVVVVVxb9WVVVVVVXFv1ZVVVVVVcW/VlVVVVVVxb9WVVVVVVXFv1ZVVVVVVcW/VlVVVVVVxb8gx3Ecx3GsvyDHcRzHcay/IMdxHMdxrL8gx3Ecx3GsvyDHcRzHcay/IMdxHMdxrL8gx3Ecx3GsvyDHcRzHcay/IMdxHMdxrL8gx3Ecx3GsvyDHcRzHcay/IMdxHMdxrL8gx3Ecx3GsvyDHcRzHcay/IMdxHMdxrL8gx3Ecx3GsvyDHcRzHcay/IMdxHMdxrL8gx3Ecx3GsvyDHcRzHcay/IMdxHMdxrL8gx3Ecx3GsvyDHcRzHcay/IMdxHMdxrL8gx3Ecx3GsvyDHcRzHcay/IMdxHMdxrL8gx3Ecx3GsvyDHcRzHcay/IMdxHMdxrL8gx3Ecx3GsvyDHcRzHcay/IMdxHMdxrL8gx3Ecx3GsvyDHcRzHcay/IMdxHMdxrL8gx3Ecx3GsvyDHcRzHcay/IMdxHMdxrL8gx3Ecx3GsvyDHcRzHcay/IMdxHMdxrL8gx3Ecx3GsvyDHcRzHcay/IMdxHMdxrL8gx3Ecx3GsvyDHcRzHcay/IMdxHMdxrL8gx3Ecx3GsvyDHcRzHcay/IMdxHMdxrL8gx3Ecx3GsvyDHcRzHcay/IMdxHMdxrL8gx3Ecx3GsvyDHcRzHcay/IMdxHMdxrL8gx3Ecx3GsvyDHcRzHcay/IMdxHMdxrL8gx3Ecx3GsvyDHcRzHcay/IMdxHMdxrL8gx3Ecx3GsvyDHcRzHcay/IMdxHMdxrL8gx3Ecx3GsvyDHcRzHcay/IMdxHMdxrL8gx3Ecx3GsvyDHcRzHcay/IMdxHMdxrL8gx3Ecx3GsvyDHcRzHcay/IMdxHMdxrL8gx3Ecx3GsvyDHcRzHcay/IMdxHMdxrL8gx3Ecx3GsvyDHcRzHcay/IMdxHMdxrL8gx3Ecx3GsvyDHcRzHcay/IMdxHMdxrL8gx3Ecx3GsvyDHcRzHcay/IMdxHMdxrL8gx3Ecx3GsvyDHcRzHcay/IMdxHMdxrL8gx3Ecx3GsvyDHcRzHcay/IMdxHMdxrL8gx3Ecx3GsvyDHcRzHcay/IMdxHMdxrL8gx3Ecx3GsvyDHcRzHcay/IMdxHMdxrL8gx3Ecx3GsvyDHcRzHcaw/IMdxHMdxrD8gx3Ecx3GsPyDHcRzHcaw/IMdxHMdxrD8gx3Ecx3GsPyDHcRzHcaw/IMdxHMdxrD8gx3Ecx3GsPyDHcRzHcaw/IMdxHMdxrD8gx3Ecx3GsPyDHcRzHcaw/IMdxHMdxrD8gx3Ecx3GsPyDHcRzHcaw/IMdxHMdxrD8gx3Ecx3GsPyDHcRzHcaw/IMdxHMdxrD8gx3Ecx3GsPyDHcRzHcaw/IMdxHMdxrD8gx3Ecx3GsPyDHcRzHcaw/IMdxHMdxrD8gx3Ecx3GsPyDHcRzHcaw/IMdxHMdxrD8gx3Ecx3GsPyDHcRzHcaw/IMdxHMdxrD8gx3Ecx3GsPyDHcRzHcaw/IMdxHMdxrD8gx3Ecx3GsPyDHcRzHcaw/IMdxHMdxrD8gx3Ecx3GsPyDHcRzHcaw/IMdxHMdxrD8gx3Ecx3GsPyDHcRzHcaw/IMdxHMdxrD8gx3Ecx3GsPyDHcRzHcaw/IMdxHMdxrD8gx3Ecx3GsPyDHcRzHcaw/IMdxHMdxrD8gx3Ecx3GsPyDHcRzHcaw/IMdxHMdxrD8gx3Ecx3GsPyDHcRzHcaw/IMdxHMdxrD8gx3Ecx3GsPyDHcRzHcaw/IMdxHMdxrD8gx3Ecx3GsPyDHcRzHcaw/IMdxHMdxrD8gx3Ecx3GsPyDHcRzHcaw/IMdxHMdxrD8gx3Ecx3GsPyDHcRzHcaw/IMdxHMdxrD8gx3Ecx3GsPyDHcRzHcaw/IMdxHMdxrD8gx3Ecx3GsPyDHcRzHcaw/IMdxHMdxrD8gx3Ecx3GsPyDHcRzHcaw/IMdxHMdxrD8gx3Ecx3GsPyDHcRzHcaw/IMdxHMdxrD8gx3Ecx3GsPyDHcRzHcaw/IMdxHMdxrD8gx3Ecx3GsPyDHcRzHcaw/IMdxHMdxrD8gx3Ecx3GsPyDHcRzHcaw/IMdxHMdxrD8gx3Ecx3GsPyDHcRzHcaw/IMdxHMdxrD8gx3Ecx3GsPyDHcRzHcaw/IMdxHMdxrD8gx3Ecx3GsPyDHcRzHcaw/IMdxHMdxrD8gx3Ecx3GsPyDHcRzHcaw/VFVVVVVVxT9UVVVVVVXFP1RVVVVVVcU/VFVVVVVVxT9UVVVVVVXFP1RVVVVVVcU/VFVVVVVVxT9UVVVVVVXFP1RVVVVVVcU/VFVVVVVVxT9UVVVVVVXFP1RVVVVVVcU/VFVVVVVVxT9UVVVVVVXFP1RVVVVVVcU/VFVVVVVVxT9UVVVVVVXFP1RVVVVVVcU/VFVVVVVVxT9UVVVVVVXFP1RVVVVVVcU/VFVVVVVVxT9UVVVVVVXFP1RVVVVVVcU/VFVVVVVVxT9UVVVVVVXFP1RVVVVVVcU/VFVVVVVVxT9UVVVVVVXFP1RVVVVVVcU/VFVVVVVVxT9UVVVVVVXFP1RVVVVVVcU/VFVVVVVVxT9UVVVVVVXFP1RVVVVVVcU/VFVVVVVVxT9UVVVVVVXFP1RVVVVVVcU/VFVVVVVVxT9UVVVVVVXFP1RVVVVVVcU/VFVVVVVVxT9UVVVVVVXFP1RVVVVVVcU/VFVVVVVVxT9UVVVVVVXFP1RVVVVVVcU/VFVVVVVVxT9UVVVVVVXFP1RVVVVVVcU/VFVVVVVVxT9UVVVVVVXFP1RVVVVVVcU/VFVVVVVVxT9UVVVVVVXFP1RVVVVVVcU/VFVVVVVVxT9UVVVVVVXFP1RVVVVVVcU/VFVVVVVVxT9UVVVVVVXFP1RVVVVVVcU/VFVVVVVVxT9UVVVVVVXFP1RVVVVVVcU/VFVVVVVVxT9UVVVVVVXFP1RVVVVVVcU/VFVVVVVVxT9UVVVVVVXFP1RVVVVVVcU/VFVVVVVVxT9UVVVVVVXFP1RVVVVVVcU/VFVVVVVVxT9UVVVVVVXFP1RVVVVVVcU/VFVVVVVVxT9UVVVVVVXFP1RVVVVVVcU/VFVVVVVVxT9UVVVVVVXFP1RVVVVVVcU/VFVVVVVVxT9UVVVVVVXFP1RVVVVVVcU/VFVVVVVVxT9UVVVVVVXFP1RVVVVVVcU/VFVVVVVVxT9UVVVVVVXFP1RVVVVVVcU/VFVVVVVVxT9UVVVVVVXFP1RVVVVVVcU/VFVVVVVVxT9UVVVVVVXFP1RVVVVVVcU/VFVVVVVVxT9wHMdxHMfRP3Acx3Ecx9E/cBzHcRzH0T9wHMdxHMfRP3Acx3Ecx9E/cBzHcRzH0T9wHMdxHMfRP3Acx3Ecx9E/cBzHcRzH0T9wHMdxHMfRP3Acx3Ecx9E/cBzHcRzH0T9wHMdxHMfRP3Acx3Ecx9E/cBzHcRzH0T9wHMdxHMfRP3Acx3Ecx9E/cBzHcRzH0T9wHMdxHMfRP3Acx3Ecx9E/cBzHcRzH0T9wHMdxHMfRP3Acx3Ecx9E/cBzHcRzH0T9wHMdxHMfRP3Acx3Ecx9E/cBzHcRzH0T9wHMdxHMfRP3Acx3Ecx9E/cBzHcRzH0T9wHMdxHMfRP3Acx3Ecx9E/cBzHcRzH0T9wHMdxHMfRP3Acx3Ecx9E/cBzHcRzH0T9wHMdxHMfRP3Acx3Ecx9E/cBzHcRzH0T9wHMdxHMfRP3Acx3Ecx9E/cBzHcRzH0T9wHMdxHMfRP3Acx3Ecx9E/cBzHcRzH0T9wHMdxHMfRP3Acx3Ecx9E/cBzHcRzH0T9wHMdxHMfRP3Acx3Ecx9E/cBzHcRzH0T9wHMdxHMfRP3Acx3Ecx9E/cBzHcRzH0T9wHMdxHMfRP3Acx3Ecx9E/cBzHcRzH0T9wHMdxHMfRP3Acx3Ecx9E/cBzHcRzH0T9wHMdxHMfRP3Acx3Ecx9E/cBzHcRzH0T9wHMdxHMfRP3Acx3Ecx9E/cBzHcRzH0T9wHMdxHMfRP3Acx3Ecx9E/cBzHcRzH0T9wHMdxHMfRP3Acx3Ecx9E/cBzHcRzH0T9wHMdxHMfRP3Acx3Ecx9E/cBzHcRzH0T9wHMdxHMfRP3Acx3Ecx9E/cBzHcRzH0T9wHMdxHMfRP3Acx3Ecx9E/cBzHcRzH0T9wHMdxHMfRP3Acx3Ecx9E/cBzHcRzH0T9wHMdxHMfRP3Acx3Ecx9E/cBzHcRzH0T9wHMdxHMfRP3Acx3Ecx9E/cBzHcRzH0T9wHMdxHMfRP3Acx3Ecx9E/cBzHcRzH0T9wHMdxHMfRP3Acx3Ecx9E/cBzHcRzH0T9wHMdxHMfRP3Acx3Ecx9E/cBzHcRzH0T9wHMdxHMfRPziO4ziO49g/OI7jOI7j2D84juM4juPYPziO4ziO49g/OI7jOI7j2D84juM4juPYPziO4ziO49g/OI7jOI7j2D84juM4juPYPziO4ziO49g/OI7jOI7j2D84juM4juPYPziO4ziO49g/OI7jOI7j2D84juM4juPYPziO4ziO49g/OI7jOI7j2D84juM4juPYPziO4ziO49g/OI7jOI7j2D84juM4juPYPziO4ziO49g/OI7jOI7j2D84juM4juPYPziO4ziO49g/OI7jOI7j2D84juM4juPYPziO4ziO49g/OI7jOI7j2D84juM4juPYPziO4ziO49g/OI7jOI7j2D84juM4juPYPziO4ziO49g/OI7jOI7j2D84juM4juPYPziO4ziO49g/OI7jOI7j2D84juM4juPYPziO4ziO49g/OI7jOI7j2D84juM4juPYPziO4ziO49g/OI7jOI7j2D84juM4juPYPziO4ziO49g/OI7jOI7j2D84juM4juPYPziO4ziO49g/OI7jOI7j2D84juM4juPYPziO4ziO49g/OI7jOI7j2D84juM4juPYPziO4ziO49g/OI7jOI7j2D84juM4juPYPziO4ziO49g/OI7jOI7j2D84juM4juPYPziO4ziO49g/OI7jOI7j2D84juM4juPYPziO4ziO49g/OI7jOI7j2D84juM4juPYPziO4ziO49g/OI7jOI7j2D84juM4juPYPziO4ziO49g/OI7jOI7j2D84juM4juPYPziO4ziO49g/OI7jOI7j2D84juM4juPYPziO4ziO49g/OI7jOI7j2D84juM4juPYPziO4ziO49g/OI7jOI7j2D84juM4juPYPziO4ziO49g/OI7jOI7j2D84juM4juPYPziO4ziO49g/OI7jOI7j2D84juM4juPYPziO4ziO49g/OI7jOI7j2D84juM4juPYPziO4ziO49g/OI7jOI7j2D84juM4juPYPziO4ziO49g/OI7jOI7j2D84juM4juPYPziO4ziO49g/OI7jOI7j2D84juM4juPYPziO4ziO49g/AAAAAAAA4D8AAAAAAADgPwAAAAAAAOA/AAAAAAAA4D8AAAAAAADgPwAAAAAAAOA/AAAAAAAA4D8AAAAAAADgPwAAAAAAAOA/AAAAAAAA4D8AAAAAAADgPwAAAAAAAOA/AAAAAAAA4D8AAAAAAADgPwAAAAAAAOA/AAAAAAAA4D8AAAAAAADgPwAAAAAAAOA/AAAAAAAA4D8AAAAAAADgPwAAAAAAAOA/AAAAAAAA4D8AAAAAAADgPwAAAAAAAOA/AAAAAAAA4D8AAAAAAADgPwAAAAAAAOA/AAAAAAAA4D8AAAAAAADgPwAAAAAAAOA/AAAAAAAA4D8AAAAAAADgPwAAAAAAAOA/AAAAAAAA4D8AAAAAAADgPwAAAAAAAOA/AAAAAAAA4D8AAAAAAADgPwAAAAAAAOA/AAAAAAAA4D8AAAAAAADgPwAAAAAAAOA/AAAAAAAA4D8AAAAAAADgPwAAAAAAAOA/AAAAAAAA4D8AAAAAAADgPwAAAAAAAOA/AAAAAAAA4D8AAAAAAADgPwAAAAAAAOA/AAAAAAAA4D8AAAAAAADgPwAAAAAAAOA/AAAAAAAA4D8AAAAAAADgPwAAAAAAAOA/AAAAAAAA4D8AAAAAAADgPwAAAAAAAOA/AAAAAAAA4D8AAAAAAADgPwAAAAAAAOA/AAAAAAAA4D8AAAAAAADgPwAAAAAAAOA/AAAAAAAA4D8AAAAAAADgPwAAAAAAAOA/AAAAAAAA4D8AAAAAAADgPwAAAAAAAOA/AAAAAAAA4D8AAAAAAADgPwAAAAAAAOA/AAAAAAAA4D8AAAAAAADgPwAAAAAAAOA/AAAAAAAA4D8AAAAAAADgPwAAAAAAAOA/AAAAAAAA4D8AAAAAAADgPwAAAAAAAOA/AAAAAAAA4D8AAAAAAADgPwAAAAAAAOA/AAAAAAAA4D8AAAAAAADgPwAAAAAAAOA/AAAAAAAA4D8AAAAAAADgPwAAAAAAAOA/AAAAAAAA4D8AAAAAAADgPwAAAAAAAOA/AAAAAAAA4D8AAAAAAADgPwAAAAAAAOA/AAAAAAAA4D8=",
          "dtype": "f8"
         },
         "z": {
          "bdata": "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",
          "dtype": "f8"
         }
        }
       ],
       "layout": {
        "scene": {
         "xaxis": {
          "title": {
           "text": "X"
          }
         },
         "yaxis": {
          "title": {
           "text": "Y"
          }
         },
         "zaxis": {
          "title": {
           "text": "Z"
          }
         }
        },
        "template": {
         "data": {
          "bar": [
           {
            "error_x": {
             "color": "#2a3f5f"
            },
            "error_y": {
             "color": "#2a3f5f"
            },
            "marker": {
             "line": {
              "color": "#E5ECF6",
              "width": 0.5
             },
             "pattern": {
              "fillmode": "overlay",
              "size": 10,
              "solidity": 0.2
             }
            },
            "type": "bar"
           }
          ],
          "barpolar": [
           {
            "marker": {
             "line": {
              "color": "#E5ECF6",
              "width": 0.5
             },
             "pattern": {
              "fillmode": "overlay",
              "size": 10,
              "solidity": 0.2
             }
            },
            "type": "barpolar"
           }
          ],
          "carpet": [
           {
            "aaxis": {
             "endlinecolor": "#2a3f5f",
             "gridcolor": "white",
             "linecolor": "white",
             "minorgridcolor": "white",
             "startlinecolor": "#2a3f5f"
            },
            "baxis": {
             "endlinecolor": "#2a3f5f",
             "gridcolor": "white",
             "linecolor": "white",
             "minorgridcolor": "white",
             "startlinecolor": "#2a3f5f"
            },
            "type": "carpet"
           }
          ],
          "choropleth": [
           {
            "colorbar": {
             "outlinewidth": 0,
             "ticks": ""
            },
            "type": "choropleth"
           }
          ],
          "contour": [
           {
            "colorbar": {
             "outlinewidth": 0,
             "ticks": ""
            },
            "colorscale": [
             [
              0,
              "#0d0887"
             ],
             [
              0.1111111111111111,
              "#46039f"
             ],
             [
              0.2222222222222222,
              "#7201a8"
             ],
             [
              0.3333333333333333,
              "#9c179e"
             ],
             [
              0.4444444444444444,
              "#bd3786"
             ],
             [
              0.5555555555555556,
              "#d8576b"
             ],
             [
              0.6666666666666666,
              "#ed7953"
             ],
             [
              0.7777777777777778,
              "#fb9f3a"
             ],
             [
              0.8888888888888888,
              "#fdca26"
             ],
             [
              1,
              "#f0f921"
             ]
            ],
            "type": "contour"
           }
          ],
          "contourcarpet": [
           {
            "colorbar": {
             "outlinewidth": 0,
             "ticks": ""
            },
            "type": "contourcarpet"
           }
          ],
          "heatmap": [
           {
            "colorbar": {
             "outlinewidth": 0,
             "ticks": ""
            },
            "colorscale": [
             [
              0,
              "#0d0887"
             ],
             [
              0.1111111111111111,
              "#46039f"
             ],
             [
              0.2222222222222222,
              "#7201a8"
             ],
             [
              0.3333333333333333,
              "#9c179e"
             ],
             [
              0.4444444444444444,
              "#bd3786"
             ],
             [
              0.5555555555555556,
              "#d8576b"
             ],
             [
              0.6666666666666666,
              "#ed7953"
             ],
             [
              0.7777777777777778,
              "#fb9f3a"
             ],
             [
              0.8888888888888888,
              "#fdca26"
             ],
             [
              1,
              "#f0f921"
             ]
            ],
            "type": "heatmap"
           }
          ],
          "histogram": [
           {
            "marker": {
             "pattern": {
              "fillmode": "overlay",
              "size": 10,
              "solidity": 0.2
             }
            },
            "type": "histogram"
           }
          ],
          "histogram2d": [
           {
            "colorbar": {
             "outlinewidth": 0,
             "ticks": ""
            },
            "colorscale": [
             [
              0,
              "#0d0887"
             ],
             [
              0.1111111111111111,
              "#46039f"
             ],
             [
              0.2222222222222222,
              "#7201a8"
             ],
             [
              0.3333333333333333,
              "#9c179e"
             ],
             [
              0.4444444444444444,
              "#bd3786"
             ],
             [
              0.5555555555555556,
              "#d8576b"
             ],
             [
              0.6666666666666666,
              "#ed7953"
             ],
             [
              0.7777777777777778,
              "#fb9f3a"
             ],
             [
              0.8888888888888888,
              "#fdca26"
             ],
             [
              1,
              "#f0f921"
             ]
            ],
            "type": "histogram2d"
           }
          ],
          "histogram2dcontour": [
           {
            "colorbar": {
             "outlinewidth": 0,
             "ticks": ""
            },
            "colorscale": [
             [
              0,
              "#0d0887"
             ],
             [
              0.1111111111111111,
              "#46039f"
             ],
             [
              0.2222222222222222,
              "#7201a8"
             ],
             [
              0.3333333333333333,
              "#9c179e"
             ],
             [
              0.4444444444444444,
              "#bd3786"
             ],
             [
              0.5555555555555556,
              "#d8576b"
             ],
             [
              0.6666666666666666,
              "#ed7953"
             ],
             [
              0.7777777777777778,
              "#fb9f3a"
             ],
             [
              0.8888888888888888,
              "#fdca26"
             ],
             [
              1,
              "#f0f921"
             ]
            ],
            "type": "histogram2dcontour"
           }
          ],
          "mesh3d": [
           {
            "colorbar": {
             "outlinewidth": 0,
             "ticks": ""
            },
            "type": "mesh3d"
           }
          ],
          "parcoords": [
           {
            "line": {
             "colorbar": {
              "outlinewidth": 0,
              "ticks": ""
             }
            },
            "type": "parcoords"
           }
          ],
          "pie": [
           {
            "automargin": true,
            "type": "pie"
           }
          ],
          "scatter": [
           {
            "fillpattern": {
             "fillmode": "overlay",
             "size": 10,
             "solidity": 0.2
            },
            "type": "scatter"
           }
          ],
          "scatter3d": [
           {
            "line": {
             "colorbar": {
              "outlinewidth": 0,
              "ticks": ""
             }
            },
            "marker": {
             "colorbar": {
              "outlinewidth": 0,
              "ticks": ""
             }
            },
            "type": "scatter3d"
           }
          ],
          "scattercarpet": [
           {
            "marker": {
             "colorbar": {
              "outlinewidth": 0,
              "ticks": ""
             }
            },
            "type": "scattercarpet"
           }
          ],
          "scattergeo": [
           {
            "marker": {
             "colorbar": {
              "outlinewidth": 0,
              "ticks": ""
             }
            },
            "type": "scattergeo"
           }
          ],
          "scattergl": [
           {
            "marker": {
             "colorbar": {
              "outlinewidth": 0,
              "ticks": ""
             }
            },
            "type": "scattergl"
           }
          ],
          "scattermap": [
           {
            "marker": {
             "colorbar": {
              "outlinewidth": 0,
              "ticks": ""
             }
            },
            "type": "scattermap"
           }
          ],
          "scattermapbox": [
           {
            "marker": {
             "colorbar": {
              "outlinewidth": 0,
              "ticks": ""
             }
            },
            "type": "scattermapbox"
           }
          ],
          "scatterpolar": [
           {
            "marker": {
             "colorbar": {
              "outlinewidth": 0,
              "ticks": ""
             }
            },
            "type": "scatterpolar"
           }
          ],
          "scatterpolargl": [
           {
            "marker": {
             "colorbar": {
              "outlinewidth": 0,
              "ticks": ""
             }
            },
            "type": "scatterpolargl"
           }
          ],
          "scatterternary": [
           {
            "marker": {
             "colorbar": {
              "outlinewidth": 0,
              "ticks": ""
             }
            },
            "type": "scatterternary"
           }
          ],
          "surface": [
           {
            "colorbar": {
             "outlinewidth": 0,
             "ticks": ""
            },
            "colorscale": [
             [
              0,
              "#0d0887"
             ],
             [
              0.1111111111111111,
              "#46039f"
             ],
             [
              0.2222222222222222,
              "#7201a8"
             ],
             [
              0.3333333333333333,
              "#9c179e"
             ],
             [
              0.4444444444444444,
              "#bd3786"
             ],
             [
              0.5555555555555556,
              "#d8576b"
             ],
             [
              0.6666666666666666,
              "#ed7953"
             ],
             [
              0.7777777777777778,
              "#fb9f3a"
             ],
             [
              0.8888888888888888,
              "#fdca26"
             ],
             [
              1,
              "#f0f921"
             ]
            ],
            "type": "surface"
           }
          ],
          "table": [
           {
            "cells": {
             "fill": {
              "color": "#EBF0F8"
             },
             "line": {
              "color": "white"
             }
            },
            "header": {
             "fill": {
              "color": "#C8D4E3"
             },
             "line": {
              "color": "white"
             }
            },
            "type": "table"
           }
          ]
         },
         "layout": {
          "annotationdefaults": {
           "arrowcolor": "#2a3f5f",
           "arrowhead": 0,
           "arrowwidth": 1
          },
          "autotypenumbers": "strict",
          "coloraxis": {
           "colorbar": {
            "outlinewidth": 0,
            "ticks": ""
           }
          },
          "colorscale": {
           "diverging": [
            [
             0,
             "#8e0152"
            ],
            [
             0.1,
             "#c51b7d"
            ],
            [
             0.2,
             "#de77ae"
            ],
            [
             0.3,
             "#f1b6da"
            ],
            [
             0.4,
             "#fde0ef"
            ],
            [
             0.5,
             "#f7f7f7"
            ],
            [
             0.6,
             "#e6f5d0"
            ],
            [
             0.7,
             "#b8e186"
            ],
            [
             0.8,
             "#7fbc41"
            ],
            [
             0.9,
             "#4d9221"
            ],
            [
             1,
             "#276419"
            ]
           ],
           "sequential": [
            [
             0,
             "#0d0887"
            ],
            [
             0.1111111111111111,
             "#46039f"
            ],
            [
             0.2222222222222222,
             "#7201a8"
            ],
            [
             0.3333333333333333,
             "#9c179e"
            ],
            [
             0.4444444444444444,
             "#bd3786"
            ],
            [
             0.5555555555555556,
             "#d8576b"
            ],
            [
             0.6666666666666666,
             "#ed7953"
            ],
            [
             0.7777777777777778,
             "#fb9f3a"
            ],
            [
             0.8888888888888888,
             "#fdca26"
            ],
            [
             1,
             "#f0f921"
            ]
           ],
           "sequentialminus": [
            [
             0,
             "#0d0887"
            ],
            [
             0.1111111111111111,
             "#46039f"
            ],
            [
             0.2222222222222222,
             "#7201a8"
            ],
            [
             0.3333333333333333,
             "#9c179e"
            ],
            [
             0.4444444444444444,
             "#bd3786"
            ],
            [
             0.5555555555555556,
             "#d8576b"
            ],
            [
             0.6666666666666666,
             "#ed7953"
            ],
            [
             0.7777777777777778,
             "#fb9f3a"
            ],
            [
             0.8888888888888888,
             "#fdca26"
            ],
            [
             1,
             "#f0f921"
            ]
           ]
          },
          "colorway": [
           "#636efa",
           "#EF553B",
           "#00cc96",
           "#ab63fa",
           "#FFA15A",
           "#19d3f3",
           "#FF6692",
           "#B6E880",
           "#FF97FF",
           "#FECB52"
          ],
          "font": {
           "color": "#2a3f5f"
          },
          "geo": {
           "bgcolor": "white",
           "lakecolor": "white",
           "landcolor": "#E5ECF6",
           "showlakes": true,
           "showland": true,
           "subunitcolor": "white"
          },
          "hoverlabel": {
           "align": "left"
          },
          "hovermode": "closest",
          "mapbox": {
           "style": "light"
          },
          "paper_bgcolor": "white",
          "plot_bgcolor": "#E5ECF6",
          "polar": {
           "angularaxis": {
            "gridcolor": "white",
            "linecolor": "white",
            "ticks": ""
           },
           "bgcolor": "#E5ECF6",
           "radialaxis": {
            "gridcolor": "white",
            "linecolor": "white",
            "ticks": ""
           }
          },
          "scene": {
           "xaxis": {
            "backgroundcolor": "#E5ECF6",
            "gridcolor": "white",
            "gridwidth": 2,
            "linecolor": "white",
            "showbackground": true,
            "ticks": "",
            "zerolinecolor": "white"
           },
           "yaxis": {
            "backgroundcolor": "#E5ECF6",
            "gridcolor": "white",
            "gridwidth": 2,
            "linecolor": "white",
            "showbackground": true,
            "ticks": "",
            "zerolinecolor": "white"
           },
           "zaxis": {
            "backgroundcolor": "#E5ECF6",
            "gridcolor": "white",
            "gridwidth": 2,
            "linecolor": "white",
            "showbackground": true,
            "ticks": "",
            "zerolinecolor": "white"
           }
          },
          "shapedefaults": {
           "line": {
            "color": "#2a3f5f"
           }
          },
          "ternary": {
           "aaxis": {
            "gridcolor": "white",
            "linecolor": "white",
            "ticks": ""
           },
           "baxis": {
            "gridcolor": "white",
            "linecolor": "white",
            "ticks": ""
           },
           "bgcolor": "#E5ECF6",
           "caxis": {
            "gridcolor": "white",
            "linecolor": "white",
            "ticks": ""
           }
          },
          "title": {
           "x": 0.05
          },
          "xaxis": {
           "automargin": true,
           "gridcolor": "white",
           "linecolor": "white",
           "ticks": "",
           "title": {
            "standoff": 15
           },
           "zerolinecolor": "white",
           "zerolinewidth": 2
          },
          "yaxis": {
           "automargin": true,
           "gridcolor": "white",
           "linecolor": "white",
           "ticks": "",
           "title": {
            "standoff": 15
           },
           "zerolinecolor": "white",
           "zerolinewidth": 2
          }
         }
        }
       }
      }
     },
     "metadata": {},
     "output_type": "display_data"
    }
   ],
   "source": [
    "def field_around_current_carrying_wire(I:float, \n",
    "                                       CONSTANTS:dict, \n",
    "                                       x_extent:list = [-0.5, 0.5], \n",
    "                                       y_extent:list = [-0.5, 0.5],\n",
    "                                       z_extent:list = [-0.5, 0.5], \n",
    "                                       resolution:float = 10) -> list[np.ndarray]:\n",
    "    '''\n",
    "    A current carrying wire will have a magnetic field around it. The wire will run parallel to the z\n",
    "    axis, and be placed at the origin of the x,y plane. Current will be travelling in the direction of positive z.\n",
    "\n",
    "    Direction of the current is dependent on the direction of travel. When it comes time to compare these outputs \n",
    "    to that of the GP, we can crank up the resolution of this and see if it can recreate the field.\n",
    "    \n",
    "    Args:\n",
    "        I (float): Current which the wire is carrying.\n",
    "        CONSTANTS (dict): Dictionary of all of the physical constants which could be useful.\n",
    "\n",
    "        x_extent (list[int]): extent in the x direction of the final field. In SI Units, this will be meters.\n",
    "        y_extent (list[int]): extent in the y direction of the final field. In SI Units, this will be meters.\n",
    "        z_extent (list[int]): extent in the z direction of the final field. In SI Units, this will be meters.\n",
    "\n",
    "    Returns:\n",
    "        6 numpy nd arrays \n",
    "    '''\n",
    "    x, y, z = np.meshgrid(\n",
    "        np.linspace(x_extent[0], x_extent[1], resolution),\n",
    "        np.linspace(y_extent[0], y_extent[1], resolution),\n",
    "        np.linspace(z_extent[0], z_extent[1], resolution)\n",
    "    )\n",
    "\n",
    "    r = np.sqrt(x**2 + y**2) + 1e-3  # avoid div by zero\n",
    "    theta = np.arctan2(y, x)\n",
    "\n",
    "    feild_strength = CONSTANTS[\"mu_naught\"] * I / (2 * CONSTANTS[\"pi\"])\n",
    "\n",
    "    u = -feild_strength / r * np.sin(theta)\n",
    "    v = feild_strength / r * np.cos(theta)\n",
    "    w = np.zeros_like(z)\n",
    "\n",
    "    return x, y, z, u, v, w\n",
    "\n",
    "# call\n",
    "x_wire, y_wire, z_wire, fields_x_wire, fields_y_wire, fields_z_wire = field_around_current_carrying_wire(100000000,CONSTANTS)\n",
    "plotter.plotter(x_wire, y_wire, z_wire, fields_x_wire, fields_y_wire, fields_z_wire)"
   ]
  },
  {
   "cell_type": "code",
   "execution_count": 6,
   "metadata": {},
   "outputs": [
    {
     "data": {
      "application/vnd.plotly.v1+json": {
       "config": {
        "plotlyServerURL": "https://plot.ly"
       },
       "data": [
        {
         "anchor": "tail",
         "sizemode": "scaled",
         "sizeref": 2,
         "type": "cone",
         "u": {
          "bdata": "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",
          "dtype": "f8"
         },
         "v": {
          "bdata": "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",
          "dtype": "f8"
         },
         "w": {
          "bdata": "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",
          "dtype": "f8"
         },
         "x": {
          "bdata": "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",
          "dtype": "f8"
         },
         "y": {
          "bdata": "AAAAAAAA4L8AAAAAAADgvwAAAAAAAOC/AAAAAAAA4L8AAAAAAADgvwAAAAAAAOC/AAAAAAAA4L8AAAAAAADgvwAAAAAAAOC/AAAAAAAA4L8AAAAAAADgvwAAAAAAAOC/AAAAAAAA4L8AAAAAAADgvwAAAAAAAOC/AAAAAAAA4L8AAAAAAADgvwAAAAAAAOC/AAAAAAAA4L8AAAAAAADgvwAAAAAAAOC/AAAAAAAA4L8AAAAAAADgvwAAAAAAAOC/AAAAAAAA4L8AAAAAAADgvwAAAAAAAOC/AAAAAAAA4L8AAAAAAADgvwAAAAAAAOC/AAAAAAAA4L8AAAAAAADgvwAAAAAAAOC/AAAAAAAA4L8AAAAAAADgvwAAAAAAAOC/AAAAAAAA4L8AAAAAAADgvwAAAAAAAOC/AAAAAAAA4L8AAAAAAADgvwAAAAAAAOC/AAAAAAAA4L8AAAAAAADgvwAAAAAAAOC/AAAAAAAA4L8AAAAAAADgvwAAAAAAAOC/AAAAAAAA4L8AAAAAAADgvwAAAAAAAOC/AAAAAAAA4L8AAAAAAADgvwAAAAAAAOC/AAAAAAAA4L8AAAAAAADgvwAAAAAAAOC/AAAAAAAA4L8AAAAAAADgvwAAAAAAAOC/AAAAAAAA4L8AAAAAAADgvwAAAAAAAOC/AAAAAAAA4L8AAAAAAADgvwAAAAAAAOC/AAAAAAAA4L8AAAAAAADgvwAAAAAAAOC/AAAAAAAA4L8AAAAAAADgvwAAAAAAAOC/AAAAAAAA4L8AAAAAAADgvwAAAAAAAOC/AAAAAAAA4L8AAAAAAADgvwAAAAAAAOC/AAAAAAAA4L8AAAAAAADgvwAAAAAAAOC/AAAAAAAA4L8AAAAAAADgvwAAAAAAAOC/AAAAAAAA4L8AAAAAAADgvwAAAAAAAOC/AAAAAAAA4L8AAAAAAADgvwAAAAAAAOC/AAAAAAAA4L8AAAAAAADgvwAAAAAAAOC/AAAAAAAA4L8AAAAAAADgvwAAAAAAAOC/AAAAAAAA4L8AAAAAAADgvwAAAAAAAOC/AAAAAAAA4L85juM4juPYvzmO4ziO49i/OY7jOI7j2L85juM4juPYvzmO4ziO49i/OY7jOI7j2L85juM4juPYvzmO4ziO49i/OY7jOI7j2L85juM4juPYvzmO4ziO49i/OY7jOI7j2L85juM4juPYvzmO4ziO49i/OY7jOI7j2L85juM4juPYvzmO4ziO49i/OY7jOI7j2L85juM4juPYvzmO4ziO49i/OY7jOI7j2L85juM4juPYvzmO4ziO49i/OY7jOI7j2L85juM4juPYvzmO4ziO49i/OY7jOI7j2L85juM4juPYvzmO4ziO49i/OY7jOI7j2L85juM4juPYvzmO4ziO49i/OY7jOI7j2L85juM4juPYvzmO4ziO49i/OY7jOI7j2L85juM4juPYvzmO4ziO49i/OY7jOI7j2L85juM4juPYvzmO4ziO49i/OY7jOI7j2L85juM4juPYvzmO4ziO49i/OY7jOI7j2L85juM4juPYvzmO4ziO49i/OY7jOI7j2L85juM4juPYvzmO4ziO49i/OY7jOI7j2L85juM4juPYvzmO4ziO49i/OY7jOI7j2L85juM4juPYvzmO4ziO49i/OY7jOI7j2L85juM4juPYvzmO4ziO49i/OY7jOI7j2L85juM4juPYvzmO4ziO49i/OY7jOI7j2L85juM4juPYvzmO4ziO49i/OY7jOI7j2L85juM4juPYvzmO4ziO49i/OY7jOI7j2L85juM4juPYvzmO4ziO49i/OY7jOI7j2L85juM4juPYvzmO4ziO49i/OY7jOI7j2L85juM4juPYvzmO4ziO49i/OY7jOI7j2L85juM4juPYvzmO4ziO49i/OY7jOI7j2L85juM4juPYvzmO4ziO49i/OY7jOI7j2L85juM4juPYvzmO4ziO49i/OY7jOI7j2L85juM4juPYvzmO4ziO49i/OY7jOI7j2L85juM4juPYvzmO4ziO49i/OY7jOI7j2L85juM4juPYvzmO4ziO49i/OY7jOI7j2L85juM4juPYvzmO4ziO49i/OY7jOI7j2L85juM4juPYv3Icx3Ecx9G/chzHcRzH0b9yHMdxHMfRv3Icx3Ecx9G/chzHcRzH0b9yHMdxHMfRv3Icx3Ecx9G/chzHcRzH0b9yHMdxHMfRv3Icx3Ecx9G/chzHcRzH0b9yHMdxHMfRv3Icx3Ecx9G/chzHcRzH0b9yHMdxHMfRv3Icx3Ecx9G/chzHcRzH0b9yHMdxHMfRv3Icx3Ecx9G/chzHcRzH0b9yHMdxHMfRv3Icx3Ecx9G/chzHcRzH0b9yHMdxHMfRv3Icx3Ecx9G/chzHcRzH0b9yHMdxHMfRv3Icx3Ecx9G/chzHcRzH0b9yHMdxHMfRv3Icx3Ecx9G/chzHcRzH0b9yHMdxHMfRv3Icx3Ecx9G/chzHcRzH0b9yHMdxHMfRv3Icx3Ecx9G/chzHcRzH0b9yHMdxHMfRv3Icx3Ecx9G/chzHcRzH0b9yHMdxHMfRv3Icx3Ecx9G/chzHcRzH0b9yHMdxHMfRv3Icx3Ecx9G/chzHcRzH0b9yHMdxHMfRv3Icx3Ecx9G/chzHcRzH0b9yHMdxHMfRv3Icx3Ecx9G/chzHcRzH0b9yHMdxHMfRv3Icx3Ecx9G/chzHcRzH0b9yHMdxHMfRv3Icx3Ecx9G/chzHcRzH0b9yHMdxHMfRv3Icx3Ecx9G/chzHcRzH0b9yHMdxHMfRv3Icx3Ecx9G/chzHcRzH0b9yHMdxHMfRv3Icx3Ecx9G/chzHcRzH0b9yHMdxHMfRv3Icx3Ecx9G/chzHcRzH0b9yHMdxHMfRv3Icx3Ecx9G/chzHcRzH0b9yHMdxHMfRv3Icx3Ecx9G/chzHcRzH0b9yHMdxHMfRv3Icx3Ecx9G/chzHcRzH0b9yHMdxHMfRv3Icx3Ecx9G/chzHcRzH0b9yHMdxHMfRv3Icx3Ecx9G/chzHcRzH0b9yHMdxHMfRv3Icx3Ecx9G/chzHcRzH0b9yHMdxHMfRv3Icx3Ecx9G/chzHcRzH0b9yHMdxHMfRv3Icx3Ecx9G/chzHcRzH0b9yHMdxHMfRv3Icx3Ecx9G/chzHcRzH0b9yHMdxHMfRv3Icx3Ecx9G/VlVVVVVVxb9WVVVVVVXFv1ZVVVVVVcW/VlVVVVVVxb9WVVVVVVXFv1ZVVVVVVcW/VlVVVVVVxb9WVVVVVVXFv1ZVVVVVVcW/VlVVVVVVxb9WVVVVVVXFv1ZVVVVVVcW/VlVVVVVVxb9WVVVVVVXFv1ZVVVVVVcW/VlVVVVVVxb9WVVVVVVXFv1ZVVVVVVcW/VlVVVVVVxb9WVVVVVVXFv1ZVVVVVVcW/VlVVVVVVxb9WVVVVVVXFv1ZVVVVVVcW/VlVVVVVVxb9WVVVVVVXFv1ZVVVVVVcW/VlVVVVVVxb9WVVVVVVXFv1ZVVVVVVcW/VlVVVVVVxb9WVVVVVVXFv1ZVVVVVVcW/VlVVVVVVxb9WVVVVVVXFv1ZVVVVVVcW/VlVVVVVVxb9WVVVVVVXFv1ZVVVVVVcW/VlVVVVVVxb9WVVVVVVXFv1ZVVVVVVcW/VlVVVVVVxb9WVVVVVVXFv1ZVVVVVVcW/VlVVVVVVxb9WVVVVVVXFv1ZVVVVVVcW/VlVVVVVVxb9WVVVVVVXFv1ZVVVVVVcW/VlVVVVVVxb9WVVVVVVXFv1ZVVVVVVcW/VlVVVVVVxb9WVVVVVVXFv1ZVVVVVVcW/VlVVVVVVxb9WVVVVVVXFv1ZVVVVVVcW/VlVVVVVVxb9WVVVVVVXFv1ZVVVVVVcW/VlVVVVVVxb9WVVVVVVXFv1ZVVVVVVcW/VlVVVVVVxb9WVVVVVVXFv1ZVVVVVVcW/VlVVVVVVxb9WVVVVVVXFv1ZVVVVVVcW/VlVVVVVVxb9WVVVVVVXFv1ZVVVVVVcW/VlVVVVVVxb9WVVVVVVXFv1ZVVVVVVcW/VlVVVVVVxb9WVVVVVVXFv1ZVVVVVVcW/VlVVVVVVxb9WVVVVVVXFv1ZVVVVVVcW/VlVVVVVVxb9WVVVVVVXFv1ZVVVVVVcW/VlVVVVVVxb9WVVVVVVXFv1ZVVVVVVcW/VlVVVVVVxb9WVVVVVVXFv1ZVVVVVVcW/VlVVVVVVxb9WVVVVVVXFv1ZVVVVVVcW/VlVVVVVVxb9WVVVVVVXFv1ZVVVVVVcW/VlVVVVVVxb8gx3Ecx3GsvyDHcRzHcay/IMdxHMdxrL8gx3Ecx3GsvyDHcRzHcay/IMdxHMdxrL8gx3Ecx3GsvyDHcRzHcay/IMdxHMdxrL8gx3Ecx3GsvyDHcRzHcay/IMdxHMdxrL8gx3Ecx3GsvyDHcRzHcay/IMdxHMdxrL8gx3Ecx3GsvyDHcRzHcay/IMdxHMdxrL8gx3Ecx3GsvyDHcRzHcay/IMdxHMdxrL8gx3Ecx3GsvyDHcRzHcay/IMdxHMdxrL8gx3Ecx3GsvyDHcRzHcay/IMdxHMdxrL8gx3Ecx3GsvyDHcRzHcay/IMdxHMdxrL8gx3Ecx3GsvyDHcRzHcay/IMdxHMdxrL8gx3Ecx3GsvyDHcRzHcay/IMdxHMdxrL8gx3Ecx3GsvyDHcRzHcay/IMdxHMdxrL8gx3Ecx3GsvyDHcRzHcay/IMdxHMdxrL8gx3Ecx3GsvyDHcRzHcay/IMdxHMdxrL8gx3Ecx3GsvyDHcRzHcay/IMdxHMdxrL8gx3Ecx3GsvyDHcRzHcay/IMdxHMdxrL8gx3Ecx3GsvyDHcRzHcay/IMdxHMdxrL8gx3Ecx3GsvyDHcRzHcay/IMdxHMdxrL8gx3Ecx3GsvyDHcRzHcay/IMdxHMdxrL8gx3Ecx3GsvyDHcRzHcay/IMdxHMdxrL8gx3Ecx3GsvyDHcRzHcay/IMdxHMdxrL8gx3Ecx3GsvyDHcRzHcay/IMdxHMdxrL8gx3Ecx3GsvyDHcRzHcay/IMdxHMdxrL8gx3Ecx3GsvyDHcRzHcay/IMdxHMdxrL8gx3Ecx3GsvyDHcRzHcay/IMdxHMdxrL8gx3Ecx3GsvyDHcRzHcay/IMdxHMdxrL8gx3Ecx3GsvyDHcRzHcay/IMdxHMdxrL8gx3Ecx3GsvyDHcRzHcay/IMdxHMdxrL8gx3Ecx3GsvyDHcRzHcay/IMdxHMdxrL8gx3Ecx3GsvyDHcRzHcay/IMdxHMdxrL8gx3Ecx3GsvyDHcRzHcay/IMdxHMdxrL8gx3Ecx3GsvyDHcRzHcay/IMdxHMdxrL8gx3Ecx3GsvyDHcRzHcaw/IMdxHMdxrD8gx3Ecx3GsPyDHcRzHcaw/IMdxHMdxrD8gx3Ecx3GsPyDHcRzHcaw/IMdxHMdxrD8gx3Ecx3GsPyDHcRzHcaw/IMdxHMdxrD8gx3Ecx3GsPyDHcRzHcaw/IMdxHMdxrD8gx3Ecx3GsPyDHcRzHcaw/IMdxHMdxrD8gx3Ecx3GsPyDHcRzHcaw/IMdxHMdxrD8gx3Ecx3GsPyDHcRzHcaw/IMdxHMdxrD8gx3Ecx3GsPyDHcRzHcaw/IMdxHMdxrD8gx3Ecx3GsPyDHcRzHcaw/IMdxHMdxrD8gx3Ecx3GsPyDHcRzHcaw/IMdxHMdxrD8gx3Ecx3GsPyDHcRzHcaw/IMdxHMdxrD8gx3Ecx3GsPyDHcRzHcaw/IMdxHMdxrD8gx3Ecx3GsPyDHcRzHcaw/IMdxHMdxrD8gx3Ecx3GsPyDHcRzHcaw/IMdxHMdxrD8gx3Ecx3GsPyDHcRzHcaw/IMdxHMdxrD8gx3Ecx3GsPyDHcRzHcaw/IMdxHMdxrD8gx3Ecx3GsPyDHcRzHcaw/IMdxHMdxrD8gx3Ecx3GsPyDHcRzHcaw/IMdxHMdxrD8gx3Ecx3GsPyDHcRzHcaw/IMdxHMdxrD8gx3Ecx3GsPyDHcRzHcaw/IMdxHMdxrD8gx3Ecx3GsPyDHcRzHcaw/IMdxHMdxrD8gx3Ecx3GsPyDHcRzHcaw/IMdxHMdxrD8gx3Ecx3GsPyDHcRzHcaw/IMdxHMdxrD8gx3Ecx3GsPyDHcRzHcaw/IMdxHMdxrD8gx3Ecx3GsPyDHcRzHcaw/IMdxHMdxrD8gx3Ecx3GsPyDHcRzHcaw/IMdxHMdxrD8gx3Ecx3GsPyDHcRzHcaw/IMdxHMdxrD8gx3Ecx3GsPyDHcRzHcaw/IMdxHMdxrD8gx3Ecx3GsPyDHcRzHcaw/IMdxHMdxrD8gx3Ecx3GsPyDHcRzHcaw/IMdxHMdxrD8gx3Ecx3GsPyDHcRzHcaw/IMdxHMdxrD8gx3Ecx3GsPyDHcRzHcaw/IMdxHMdxrD8gx3Ecx3GsPyDHcRzHcaw/VFVVVVVVxT9UVVVVVVXFP1RVVVVVVcU/VFVVVVVVxT9UVVVVVVXFP1RVVVVVVcU/VFVVVVVVxT9UVVVVVVXFP1RVVVVVVcU/VFVVVVVVxT9UVVVVVVXFP1RVVVVVVcU/VFVVVVVVxT9UVVVVVVXFP1RVVVVVVcU/VFVVVVVVxT9UVVVVVVXFP1RVVVVVVcU/VFVVVVVVxT9UVVVVVVXFP1RVVVVVVcU/VFVVVVVVxT9UVVVVVVXFP1RVVVVVVcU/VFVVVVVVxT9UVVVVVVXFP1RVVVVVVcU/VFVVVVVVxT9UVVVVVVXFP1RVVVVVVcU/VFVVVVVVxT9UVVVVVVXFP1RVVVVVVcU/VFVVVVVVxT9UVVVVVVXFP1RVVVVVVcU/VFVVVVVVxT9UVVVVVVXFP1RVVVVVVcU/VFVVVVVVxT9UVVVVVVXFP1RVVVVVVcU/VFVVVVVVxT9UVVVVVVXFP1RVVVVVVcU/VFVVVVVVxT9UVVVVVVXFP1RVVVVVVcU/VFVVVVVVxT9UVVVVVVXFP1RVVVVVVcU/VFVVVVVVxT9UVVVVVVXFP1RVVVVVVcU/VFVVVVVVxT9UVVVVVVXFP1RVVVVVVcU/VFVVVVVVxT9UVVVVVVXFP1RVVVVVVcU/VFVVVVVVxT9UVVVVVVXFP1RVVVVVVcU/VFVVVVVVxT9UVVVVVVXFP1RVVVVVVcU/VFVVVVVVxT9UVVVVVVXFP1RVVVVVVcU/VFVVVVVVxT9UVVVVVVXFP1RVVVVVVcU/VFVVVVVVxT9UVVVVVVXFP1RVVVVVVcU/VFVVVVVVxT9UVVVVVVXFP1RVVVVVVcU/VFVVVVVVxT9UVVVVVVXFP1RVVVVVVcU/VFVVVVVVxT9UVVVVVVXFP1RVVVVVVcU/VFVVVVVVxT9UVVVVVVXFP1RVVVVVVcU/VFVVVVVVxT9UVVVVVVXFP1RVVVVVVcU/VFVVVVVVxT9UVVVVVVXFP1RVVVVVVcU/VFVVVVVVxT9UVVVVVVXFP1RVVVVVVcU/VFVVVVVVxT9UVVVVVVXFP1RVVVVVVcU/VFVVVVVVxT9wHMdxHMfRP3Acx3Ecx9E/cBzHcRzH0T9wHMdxHMfRP3Acx3Ecx9E/cBzHcRzH0T9wHMdxHMfRP3Acx3Ecx9E/cBzHcRzH0T9wHMdxHMfRP3Acx3Ecx9E/cBzHcRzH0T9wHMdxHMfRP3Acx3Ecx9E/cBzHcRzH0T9wHMdxHMfRP3Acx3Ecx9E/cBzHcRzH0T9wHMdxHMfRP3Acx3Ecx9E/cBzHcRzH0T9wHMdxHMfRP3Acx3Ecx9E/cBzHcRzH0T9wHMdxHMfRP3Acx3Ecx9E/cBzHcRzH0T9wHMdxHMfRP3Acx3Ecx9E/cBzHcRzH0T9wHMdxHMfRP3Acx3Ecx9E/cBzHcRzH0T9wHMdxHMfRP3Acx3Ecx9E/cBzHcRzH0T9wHMdxHMfRP3Acx3Ecx9E/cBzHcRzH0T9wHMdxHMfRP3Acx3Ecx9E/cBzHcRzH0T9wHMdxHMfRP3Acx3Ecx9E/cBzHcRzH0T9wHMdxHMfRP3Acx3Ecx9E/cBzHcRzH0T9wHMdxHMfRP3Acx3Ecx9E/cBzHcRzH0T9wHMdxHMfRP3Acx3Ecx9E/cBzHcRzH0T9wHMdxHMfRP3Acx3Ecx9E/cBzHcRzH0T9wHMdxHMfRP3Acx3Ecx9E/cBzHcRzH0T9wHMdxHMfRP3Acx3Ecx9E/cBzHcRzH0T9wHMdxHMfRP3Acx3Ecx9E/cBzHcRzH0T9wHMdxHMfRP3Acx3Ecx9E/cBzHcRzH0T9wHMdxHMfRP3Acx3Ecx9E/cBzHcRzH0T9wHMdxHMfRP3Acx3Ecx9E/cBzHcRzH0T9wHMdxHMfRP3Acx3Ecx9E/cBzHcRzH0T9wHMdxHMfRP3Acx3Ecx9E/cBzHcRzH0T9wHMdxHMfRP3Acx3Ecx9E/cBzHcRzH0T9wHMdxHMfRP3Acx3Ecx9E/cBzHcRzH0T9wHMdxHMfRP3Acx3Ecx9E/cBzHcRzH0T9wHMdxHMfRP3Acx3Ecx9E/cBzHcRzH0T9wHMdxHMfRP3Acx3Ecx9E/cBzHcRzH0T9wHMdxHMfRP3Acx3Ecx9E/cBzHcRzH0T9wHMdxHMfRPziO4ziO49g/OI7jOI7j2D84juM4juPYPziO4ziO49g/OI7jOI7j2D84juM4juPYPziO4ziO49g/OI7jOI7j2D84juM4juPYPziO4ziO49g/OI7jOI7j2D84juM4juPYPziO4ziO49g/OI7jOI7j2D84juM4juPYPziO4ziO49g/OI7jOI7j2D84juM4juPYPziO4ziO49g/OI7jOI7j2D84juM4juPYPziO4ziO49g/OI7jOI7j2D84juM4juPYPziO4ziO49g/OI7jOI7j2D84juM4juPYPziO4ziO49g/OI7jOI7j2D84juM4juPYPziO4ziO49g/OI7jOI7j2D84juM4juPYPziO4ziO49g/OI7jOI7j2D84juM4juPYPziO4ziO49g/OI7jOI7j2D84juM4juPYPziO4ziO49g/OI7jOI7j2D84juM4juPYPziO4ziO49g/OI7jOI7j2D84juM4juPYPziO4ziO49g/OI7jOI7j2D84juM4juPYPziO4ziO49g/OI7jOI7j2D84juM4juPYPziO4ziO49g/OI7jOI7j2D84juM4juPYPziO4ziO49g/OI7jOI7j2D84juM4juPYPziO4ziO49g/OI7jOI7j2D84juM4juPYPziO4ziO49g/OI7jOI7j2D84juM4juPYPziO4ziO49g/OI7jOI7j2D84juM4juPYPziO4ziO49g/OI7jOI7j2D84juM4juPYPziO4ziO49g/OI7jOI7j2D84juM4juPYPziO4ziO49g/OI7jOI7j2D84juM4juPYPziO4ziO49g/OI7jOI7j2D84juM4juPYPziO4ziO49g/OI7jOI7j2D84juM4juPYPziO4ziO49g/OI7jOI7j2D84juM4juPYPziO4ziO49g/OI7jOI7j2D84juM4juPYPziO4ziO49g/OI7jOI7j2D84juM4juPYPziO4ziO49g/OI7jOI7j2D84juM4juPYPziO4ziO49g/OI7jOI7j2D84juM4juPYPziO4ziO49g/OI7jOI7j2D84juM4juPYPziO4ziO49g/AAAAAAAA4D8AAAAAAADgPwAAAAAAAOA/AAAAAAAA4D8AAAAAAADgPwAAAAAAAOA/AAAAAAAA4D8AAAAAAADgPwAAAAAAAOA/AAAAAAAA4D8AAAAAAADgPwAAAAAAAOA/AAAAAAAA4D8AAAAAAADgPwAAAAAAAOA/AAAAAAAA4D8AAAAAAADgPwAAAAAAAOA/AAAAAAAA4D8AAAAAAADgPwAAAAAAAOA/AAAAAAAA4D8AAAAAAADgPwAAAAAAAOA/AAAAAAAA4D8AAAAAAADgPwAAAAAAAOA/AAAAAAAA4D8AAAAAAADgPwAAAAAAAOA/AAAAAAAA4D8AAAAAAADgPwAAAAAAAOA/AAAAAAAA4D8AAAAAAADgPwAAAAAAAOA/AAAAAAAA4D8AAAAAAADgPwAAAAAAAOA/AAAAAAAA4D8AAAAAAADgPwAAAAAAAOA/AAAAAAAA4D8AAAAAAADgPwAAAAAAAOA/AAAAAAAA4D8AAAAAAADgPwAAAAAAAOA/AAAAAAAA4D8AAAAAAADgPwAAAAAAAOA/AAAAAAAA4D8AAAAAAADgPwAAAAAAAOA/AAAAAAAA4D8AAAAAAADgPwAAAAAAAOA/AAAAAAAA4D8AAAAAAADgPwAAAAAAAOA/AAAAAAAA4D8AAAAAAADgPwAAAAAAAOA/AAAAAAAA4D8AAAAAAADgPwAAAAAAAOA/AAAAAAAA4D8AAAAAAADgPwAAAAAAAOA/AAAAAAAA4D8AAAAAAADgPwAAAAAAAOA/AAAAAAAA4D8AAAAAAADgPwAAAAAAAOA/AAAAAAAA4D8AAAAAAADgPwAAAAAAAOA/AAAAAAAA4D8AAAAAAADgPwAAAAAAAOA/AAAAAAAA4D8AAAAAAADgPwAAAAAAAOA/AAAAAAAA4D8AAAAAAADgPwAAAAAAAOA/AAAAAAAA4D8AAAAAAADgPwAAAAAAAOA/AAAAAAAA4D8AAAAAAADgPwAAAAAAAOA/AAAAAAAA4D8AAAAAAADgPwAAAAAAAOA/AAAAAAAA4D8AAAAAAADgPwAAAAAAAOA/AAAAAAAA4D8=",
          "dtype": "f8"
         },
         "z": {
          "bdata": "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",
          "dtype": "f8"
         }
        }
       ],
       "layout": {
        "scene": {
         "xaxis": {
          "title": {
           "text": "X"
          }
         },
         "yaxis": {
          "title": {
           "text": "Y"
          }
         },
         "zaxis": {
          "title": {
           "text": "Z"
          }
         }
        },
        "template": {
         "data": {
          "bar": [
           {
            "error_x": {
             "color": "#2a3f5f"
            },
            "error_y": {
             "color": "#2a3f5f"
            },
            "marker": {
             "line": {
              "color": "#E5ECF6",
              "width": 0.5
             },
             "pattern": {
              "fillmode": "overlay",
              "size": 10,
              "solidity": 0.2
             }
            },
            "type": "bar"
           }
          ],
          "barpolar": [
           {
            "marker": {
             "line": {
              "color": "#E5ECF6",
              "width": 0.5
             },
             "pattern": {
              "fillmode": "overlay",
              "size": 10,
              "solidity": 0.2
             }
            },
            "type": "barpolar"
           }
          ],
          "carpet": [
           {
            "aaxis": {
             "endlinecolor": "#2a3f5f",
             "gridcolor": "white",
             "linecolor": "white",
             "minorgridcolor": "white",
             "startlinecolor": "#2a3f5f"
            },
            "baxis": {
             "endlinecolor": "#2a3f5f",
             "gridcolor": "white",
             "linecolor": "white",
             "minorgridcolor": "white",
             "startlinecolor": "#2a3f5f"
            },
            "type": "carpet"
           }
          ],
          "choropleth": [
           {
            "colorbar": {
             "outlinewidth": 0,
             "ticks": ""
            },
            "type": "choropleth"
           }
          ],
          "contour": [
           {
            "colorbar": {
             "outlinewidth": 0,
             "ticks": ""
            },
            "colorscale": [
             [
              0,
              "#0d0887"
             ],
             [
              0.1111111111111111,
              "#46039f"
             ],
             [
              0.2222222222222222,
              "#7201a8"
             ],
             [
              0.3333333333333333,
              "#9c179e"
             ],
             [
              0.4444444444444444,
              "#bd3786"
             ],
             [
              0.5555555555555556,
              "#d8576b"
             ],
             [
              0.6666666666666666,
              "#ed7953"
             ],
             [
              0.7777777777777778,
              "#fb9f3a"
             ],
             [
              0.8888888888888888,
              "#fdca26"
             ],
             [
              1,
              "#f0f921"
             ]
            ],
            "type": "contour"
           }
          ],
          "contourcarpet": [
           {
            "colorbar": {
             "outlinewidth": 0,
             "ticks": ""
            },
            "type": "contourcarpet"
           }
          ],
          "heatmap": [
           {
            "colorbar": {
             "outlinewidth": 0,
             "ticks": ""
            },
            "colorscale": [
             [
              0,
              "#0d0887"
             ],
             [
              0.1111111111111111,
              "#46039f"
             ],
             [
              0.2222222222222222,
              "#7201a8"
             ],
             [
              0.3333333333333333,
              "#9c179e"
             ],
             [
              0.4444444444444444,
              "#bd3786"
             ],
             [
              0.5555555555555556,
              "#d8576b"
             ],
             [
              0.6666666666666666,
              "#ed7953"
             ],
             [
              0.7777777777777778,
              "#fb9f3a"
             ],
             [
              0.8888888888888888,
              "#fdca26"
             ],
             [
              1,
              "#f0f921"
             ]
            ],
            "type": "heatmap"
           }
          ],
          "histogram": [
           {
            "marker": {
             "pattern": {
              "fillmode": "overlay",
              "size": 10,
              "solidity": 0.2
             }
            },
            "type": "histogram"
           }
          ],
          "histogram2d": [
           {
            "colorbar": {
             "outlinewidth": 0,
             "ticks": ""
            },
            "colorscale": [
             [
              0,
              "#0d0887"
             ],
             [
              0.1111111111111111,
              "#46039f"
             ],
             [
              0.2222222222222222,
              "#7201a8"
             ],
             [
              0.3333333333333333,
              "#9c179e"
             ],
             [
              0.4444444444444444,
              "#bd3786"
             ],
             [
              0.5555555555555556,
              "#d8576b"
             ],
             [
              0.6666666666666666,
              "#ed7953"
             ],
             [
              0.7777777777777778,
              "#fb9f3a"
             ],
             [
              0.8888888888888888,
              "#fdca26"
             ],
             [
              1,
              "#f0f921"
             ]
            ],
            "type": "histogram2d"
           }
          ],
          "histogram2dcontour": [
           {
            "colorbar": {
             "outlinewidth": 0,
             "ticks": ""
            },
            "colorscale": [
             [
              0,
              "#0d0887"
             ],
             [
              0.1111111111111111,
              "#46039f"
             ],
             [
              0.2222222222222222,
              "#7201a8"
             ],
             [
              0.3333333333333333,
              "#9c179e"
             ],
             [
              0.4444444444444444,
              "#bd3786"
             ],
             [
              0.5555555555555556,
              "#d8576b"
             ],
             [
              0.6666666666666666,
              "#ed7953"
             ],
             [
              0.7777777777777778,
              "#fb9f3a"
             ],
             [
              0.8888888888888888,
              "#fdca26"
             ],
             [
              1,
              "#f0f921"
             ]
            ],
            "type": "histogram2dcontour"
           }
          ],
          "mesh3d": [
           {
            "colorbar": {
             "outlinewidth": 0,
             "ticks": ""
            },
            "type": "mesh3d"
           }
          ],
          "parcoords": [
           {
            "line": {
             "colorbar": {
              "outlinewidth": 0,
              "ticks": ""
             }
            },
            "type": "parcoords"
           }
          ],
          "pie": [
           {
            "automargin": true,
            "type": "pie"
           }
          ],
          "scatter": [
           {
            "fillpattern": {
             "fillmode": "overlay",
             "size": 10,
             "solidity": 0.2
            },
            "type": "scatter"
           }
          ],
          "scatter3d": [
           {
            "line": {
             "colorbar": {
              "outlinewidth": 0,
              "ticks": ""
             }
            },
            "marker": {
             "colorbar": {
              "outlinewidth": 0,
              "ticks": ""
             }
            },
            "type": "scatter3d"
           }
          ],
          "scattercarpet": [
           {
            "marker": {
             "colorbar": {
              "outlinewidth": 0,
              "ticks": ""
             }
            },
            "type": "scattercarpet"
           }
          ],
          "scattergeo": [
           {
            "marker": {
             "colorbar": {
              "outlinewidth": 0,
              "ticks": ""
             }
            },
            "type": "scattergeo"
           }
          ],
          "scattergl": [
           {
            "marker": {
             "colorbar": {
              "outlinewidth": 0,
              "ticks": ""
             }
            },
            "type": "scattergl"
           }
          ],
          "scattermap": [
           {
            "marker": {
             "colorbar": {
              "outlinewidth": 0,
              "ticks": ""
             }
            },
            "type": "scattermap"
           }
          ],
          "scattermapbox": [
           {
            "marker": {
             "colorbar": {
              "outlinewidth": 0,
              "ticks": ""
             }
            },
            "type": "scattermapbox"
           }
          ],
          "scatterpolar": [
           {
            "marker": {
             "colorbar": {
              "outlinewidth": 0,
              "ticks": ""
             }
            },
            "type": "scatterpolar"
           }
          ],
          "scatterpolargl": [
           {
            "marker": {
             "colorbar": {
              "outlinewidth": 0,
              "ticks": ""
             }
            },
            "type": "scatterpolargl"
           }
          ],
          "scatterternary": [
           {
            "marker": {
             "colorbar": {
              "outlinewidth": 0,
              "ticks": ""
             }
            },
            "type": "scatterternary"
           }
          ],
          "surface": [
           {
            "colorbar": {
             "outlinewidth": 0,
             "ticks": ""
            },
            "colorscale": [
             [
              0,
              "#0d0887"
             ],
             [
              0.1111111111111111,
              "#46039f"
             ],
             [
              0.2222222222222222,
              "#7201a8"
             ],
             [
              0.3333333333333333,
              "#9c179e"
             ],
             [
              0.4444444444444444,
              "#bd3786"
             ],
             [
              0.5555555555555556,
              "#d8576b"
             ],
             [
              0.6666666666666666,
              "#ed7953"
             ],
             [
              0.7777777777777778,
              "#fb9f3a"
             ],
             [
              0.8888888888888888,
              "#fdca26"
             ],
             [
              1,
              "#f0f921"
             ]
            ],
            "type": "surface"
           }
          ],
          "table": [
           {
            "cells": {
             "fill": {
              "color": "#EBF0F8"
             },
             "line": {
              "color": "white"
             }
            },
            "header": {
             "fill": {
              "color": "#C8D4E3"
             },
             "line": {
              "color": "white"
             }
            },
            "type": "table"
           }
          ]
         },
         "layout": {
          "annotationdefaults": {
           "arrowcolor": "#2a3f5f",
           "arrowhead": 0,
           "arrowwidth": 1
          },
          "autotypenumbers": "strict",
          "coloraxis": {
           "colorbar": {
            "outlinewidth": 0,
            "ticks": ""
           }
          },
          "colorscale": {
           "diverging": [
            [
             0,
             "#8e0152"
            ],
            [
             0.1,
             "#c51b7d"
            ],
            [
             0.2,
             "#de77ae"
            ],
            [
             0.3,
             "#f1b6da"
            ],
            [
             0.4,
             "#fde0ef"
            ],
            [
             0.5,
             "#f7f7f7"
            ],
            [
             0.6,
             "#e6f5d0"
            ],
            [
             0.7,
             "#b8e186"
            ],
            [
             0.8,
             "#7fbc41"
            ],
            [
             0.9,
             "#4d9221"
            ],
            [
             1,
             "#276419"
            ]
           ],
           "sequential": [
            [
             0,
             "#0d0887"
            ],
            [
             0.1111111111111111,
             "#46039f"
            ],
            [
             0.2222222222222222,
             "#7201a8"
            ],
            [
             0.3333333333333333,
             "#9c179e"
            ],
            [
             0.4444444444444444,
             "#bd3786"
            ],
            [
             0.5555555555555556,
             "#d8576b"
            ],
            [
             0.6666666666666666,
             "#ed7953"
            ],
            [
             0.7777777777777778,
             "#fb9f3a"
            ],
            [
             0.8888888888888888,
             "#fdca26"
            ],
            [
             1,
             "#f0f921"
            ]
           ],
           "sequentialminus": [
            [
             0,
             "#0d0887"
            ],
            [
             0.1111111111111111,
             "#46039f"
            ],
            [
             0.2222222222222222,
             "#7201a8"
            ],
            [
             0.3333333333333333,
             "#9c179e"
            ],
            [
             0.4444444444444444,
             "#bd3786"
            ],
            [
             0.5555555555555556,
             "#d8576b"
            ],
            [
             0.6666666666666666,
             "#ed7953"
            ],
            [
             0.7777777777777778,
             "#fb9f3a"
            ],
            [
             0.8888888888888888,
             "#fdca26"
            ],
            [
             1,
             "#f0f921"
            ]
           ]
          },
          "colorway": [
           "#636efa",
           "#EF553B",
           "#00cc96",
           "#ab63fa",
           "#FFA15A",
           "#19d3f3",
           "#FF6692",
           "#B6E880",
           "#FF97FF",
           "#FECB52"
          ],
          "font": {
           "color": "#2a3f5f"
          },
          "geo": {
           "bgcolor": "white",
           "lakecolor": "white",
           "landcolor": "#E5ECF6",
           "showlakes": true,
           "showland": true,
           "subunitcolor": "white"
          },
          "hoverlabel": {
           "align": "left"
          },
          "hovermode": "closest",
          "mapbox": {
           "style": "light"
          },
          "paper_bgcolor": "white",
          "plot_bgcolor": "#E5ECF6",
          "polar": {
           "angularaxis": {
            "gridcolor": "white",
            "linecolor": "white",
            "ticks": ""
           },
           "bgcolor": "#E5ECF6",
           "radialaxis": {
            "gridcolor": "white",
            "linecolor": "white",
            "ticks": ""
           }
          },
          "scene": {
           "xaxis": {
            "backgroundcolor": "#E5ECF6",
            "gridcolor": "white",
            "gridwidth": 2,
            "linecolor": "white",
            "showbackground": true,
            "ticks": "",
            "zerolinecolor": "white"
           },
           "yaxis": {
            "backgroundcolor": "#E5ECF6",
            "gridcolor": "white",
            "gridwidth": 2,
            "linecolor": "white",
            "showbackground": true,
            "ticks": "",
            "zerolinecolor": "white"
           },
           "zaxis": {
            "backgroundcolor": "#E5ECF6",
            "gridcolor": "white",
            "gridwidth": 2,
            "linecolor": "white",
            "showbackground": true,
            "ticks": "",
            "zerolinecolor": "white"
           }
          },
          "shapedefaults": {
           "line": {
            "color": "#2a3f5f"
           }
          },
          "ternary": {
           "aaxis": {
            "gridcolor": "white",
            "linecolor": "white",
            "ticks": ""
           },
           "baxis": {
            "gridcolor": "white",
            "linecolor": "white",
            "ticks": ""
           },
           "bgcolor": "#E5ECF6",
           "caxis": {
            "gridcolor": "white",
            "linecolor": "white",
            "ticks": ""
           }
          },
          "title": {
           "x": 0.05
          },
          "xaxis": {
           "automargin": true,
           "gridcolor": "white",
           "linecolor": "white",
           "ticks": "",
           "title": {
            "standoff": 15
           },
           "zerolinecolor": "white",
           "zerolinewidth": 2
          },
          "yaxis": {
           "automargin": true,
           "gridcolor": "white",
           "linecolor": "white",
           "ticks": "",
           "title": {
            "standoff": 15
           },
           "zerolinecolor": "white",
           "zerolinewidth": 2
          }
         }
        }
       }
      }
     },
     "metadata": {},
     "output_type": "display_data"
    }
   ],
   "source": [
    "def field_around_toroidal_current_carrying_wire(I:float, \n",
    "                                                ring_radius:float = 0.5,\n",
    "                                                CONSTANTS:dict = CONSTANTS, \n",
    "                                                x_extent:list = [-0.5, 0.5], \n",
    "                                                y_extent:list = [-0.5, 0.5],\n",
    "                                                z_extent:list = [-0.5,0.5], \n",
    "                                                resolution:float = 10, \n",
    "                                                integral_discretisation:float = 1000) -> list[np.ndarray]:\n",
    "    '''\n",
    "    In the case of a circulating current, a magnetic field is formed inside of it. This is a nice parity to the previous case. \n",
    "    We will place our coil in the centre of the x,y plane, with current circulating anticlockwise as you look at it down the z \n",
    "    axis. By the right hand rule, this will lead to a magnetic field which is aligned directly up the z axis. \n",
    "    \n",
    "    Args:\n",
    "        I (float): Current which the wire is carrying.\n",
    "        ring_radius (float): Radius of our current carrying ring\n",
    "        CONSTANTS (dict): Dictionary of all of the physical constants which could be useful.\n",
    "        x_extent (list[int]): extent in the x direction of the final field. In SI Units, this will be meters.\n",
    "        y_extent (list[int]): extent in the y direction of the final field. In SI Units, this will be meters.\n",
    "        z_extent (list[int]): extent in the z direction of the final field. In SI Units, this will be meters.\n",
    "        resolution (int): side length of rectangular grid\n",
    "        integral_discretisation (int): how many segments we break up our integral into.\n",
    "\n",
    "    Returns:\n",
    "        6 numpy nd arrays \n",
    "    '''\n",
    "    mu0, Pi = CONSTANTS['mu_naught'], CONSTANTS['pi']\n",
    "\n",
    "\n",
    "    x, y, z = np.meshgrid(\n",
    "        np.linspace(x_extent[0], x_extent[1], resolution),\n",
    "        np.linspace(y_extent[0], y_extent[1], resolution),\n",
    "        np.linspace(z_extent[0], z_extent[1], resolution)\n",
    "    )\n",
    "    Bx, By, Bz = np.zeros_like(x), np.zeros_like(y), np.zeros_like(z)\n",
    "\n",
    "\n",
    "    # Biot savart prefactor\n",
    "    prefactor = mu0 * I / (4*Pi)\n",
    "    \n",
    "    # Discretise the loop into large number of pieces for summation approximation \n",
    "    dphi = 2*np.pi / integral_discretisation\n",
    "    phis = np.linspace(0, 2*Pi, integral_discretisation, endpoint=False)\n",
    "    \n",
    "    for phi in phis:\n",
    "        # Coordinates of the source point on the loop\n",
    "        xprime = ring_radius*np.cos(phi)\n",
    "        yprime = ring_radius*np.sin(phi)\n",
    "        zprime = 0.0\n",
    "        \n",
    "        dlx = -ring_radius * np.sin(phi) * dphi\n",
    "        dly =  ring_radius * np.cos(phi) * dphi\n",
    "        dlz =  0.0\n",
    "        \n",
    "        # r - r'\n",
    "        rx = x - xprime\n",
    "        ry = y - yprime\n",
    "        rz = z - zprime\n",
    "        \n",
    "        # distance^3 (have to add small amount for numerical stability )\n",
    "        r3 = (rx**2 + ry**2 + rz**2)**1.5 + 0.01  \n",
    "        \n",
    "        # cross product dl' x (r-r'):\n",
    "        cross_x = dly*rz - dlz*ry  # = R cos(phi)*z * dphi\n",
    "        cross_y = dlz*rx - dlx*rz  # = R sin(phi)*z * dphi\n",
    "        cross_z = dlx*ry - dly*rx  \n",
    "       \n",
    "        # Accumulate in B\n",
    "        Bx += prefactor * cross_x / r3\n",
    "        By += prefactor * cross_y / r3\n",
    "        Bz += prefactor * cross_z / r3\n",
    "\n",
    "    return x, y, z, Bx, By, Bz\n",
    "# call\n",
    "x_coil, y_coil, z_coil, fields_x_coil, fields_y_coil, fields_z_coil = field_around_toroidal_current_carrying_wire(100000000)\n",
    "plotter.plotter(x_coil, y_coil, z_coil, fields_x_coil, fields_y_coil, fields_z_coil) "
   ]
  },
  {
   "cell_type": "code",
   "execution_count": 7,
   "metadata": {},
   "outputs": [],
   "source": [
    "def field_around_infinite_solenoid(I:float, \n",
    "                                   CONSTANTS:dict, \n",
    "                                   x_extent:list = [-5, 5], \n",
    "                                   y_extent:list = [-5, 5],\n",
    "                                   z_extent:list = [5,-5], \n",
    "                                   resolution:float = 10) -> list[np.ndarray]:\n",
    "    '''\n",
    "    To extend the previous case, we can also model an infinite current carrying solenoid, parallel to the z axis. \n",
    "    This is also a case for which the analytical solution is known exactly and hence offers a nice playground to \n",
    "    test the GP methods. \n",
    "\n",
    "    Will be interesting for investigating the tail behaviour of the GPs fitted field. \n",
    "\n",
    "    Args:\n",
    "        I (float): Current which the wire is carrying.\n",
    "        CONSTANTS (dict): Dictionary of all of the physical constants which could be useful.\n",
    "\n",
    "        x_extent (list[int]): extent in the x direction of the final field. In SI Units, this will be meters.\n",
    "        y_extent (list[int]): extent in the y direction of the final field. In SI Units, this will be meters.\n",
    "        z_extent (list[int]): extent in the z direction of the final field. In SI Units, this will be meters.\n",
    "\n",
    "    Returns:\n",
    "        6 numpy nd arrays \n",
    "    '''\n",
    "    pass"
   ]
  },
  {
   "cell_type": "markdown",
   "metadata": {},
   "source": [
    "## Example fields from Kernels"
   ]
  },
  {
   "cell_type": "code",
   "execution_count": 8,
   "metadata": {},
   "outputs": [],
   "source": [
    "import numpy as np \n",
    "import sys\n",
    "sys.path.append('..')  \n",
    "from GP_Implementation.Kernel import sample_vector_field"
   ]
  },
  {
   "cell_type": "code",
   "execution_count": 9,
   "metadata": {},
   "outputs": [],
   "source": [
    "# Define grid\n",
    "grid_x, grid_y, grid_z = np.meshgrid(\n",
    "    np.linspace(-0.5, 0.5, 10),\n",
    "    np.linspace(-0.5, 0.5, 10),\n",
    "    np.linspace(-0.5, 0.5, 10)\n",
    ")"
   ]
  },
  {
   "cell_type": "code",
   "execution_count": 10,
   "metadata": {},
   "outputs": [
    {
     "data": {
      "application/vnd.plotly.v1+json": {
       "config": {
        "plotlyServerURL": "https://plot.ly"
       },
       "data": [
        {
         "anchor": "tail",
         "sizemode": "scaled",
         "sizeref": 2,
         "type": "cone",
         "u": {
          "bdata": "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",
          "dtype": "f8"
         },
         "v": {
          "bdata": "OJXf0QpN5L+8WpZUVE7ov+Bker2bP+q/2ADii8AR6r/u0YmcKdXnv+aveNZ0uOO/mAs1S8cI3L/kTkTdpFTMv6/+SbK00ZU//K12NEK/0T/LgHUYWb7uvzAKZ0bhqfC/C3u6zdPK8L+EG2AKkonvv1Juz2BSWOu/UkhJtFJK5b8T63mfJILbv3pWIMsUuMS/C9z9BSrCvz91q5JMm4LaP4kN89v34vS/vistUDV19b/16ZfUiL/0v+5WNC/Fz/K/6jhV5CSO778zCFWQxa3nvwY059ed8dy/jLsFzCTWwb9fa9syn1rHPyCipqnr5t8/G32BHUNv+r9ciIh5+kv6v5rDvXxsx/i/GnFYLs369b/wX15WCRTyv8iZxrAvo+q/B2KFA37y37+CtM8xFRDDv6k1PaaIp8k/LYpZgDQS4T8ppfC+tcL/vwuw/rGD8f6/Xa9MPC+r/L899qthJxT5v3i2Cf2qZvS/bZu8Zffa7b9lXcmOrvnhv5c2uGpHU8e/KG3BA9DWxz9yzDtacePgP+OYlGksUQLAh7YTJUSXAcCVnqy6sxsAwPec6iQM7Pu/V+E/xyWS9r8l6RLErX/wv85ttPexJeS/WZLQEipIzb9GVugK01DDPzZ/k8TCj98/xv/nigFvBMDRZgIJyWoDwONNWK+OoAHA8V8Alm1Z/r+HkAEDbG74v6q+G5QA4PG/KvH1gSsq5r9H+CVowMbRv5KYGw17KLs/th7z4UtQ3D+R2cv91CkGwPRf0kpC4wTA5Apdhc/UAsAUse5gHR8AwGUzK14T3fm/80cW4Jzu8r/wqzi3c8Lnv1yyhYmnetS/SJgo8QLBrz9xyjUutMLYPwinANOeeAfADsj1zVz4BcAN9dDfhLADwPQrCqw/xQDALldftDDN+r/A7CEBtZjzv1/T1GyUw+i/AVcygZxc1r+0ltqzwEqaP+3+lu8vadU/LTXObl1aCMBSd/rQsqkGwJr8bgeNMwTAxjjZk98eAcA0mibyTD37v/x1c5c12/O/hIiuvisj6b+beHYp6U3Xv6JGuPMvazu/08k67Dp40j8dXPpnM2Hjv0zWsKjc1OW/0ZBRihdI5r+x2PpGeLrkvwOXaLGySuG/NwHgn8Bn2L8neOxJmCDHv8LrvNq5cqk/jJlMXHgG0z+MC8lV0JnhPzRwLPU/D+6/v3LUeh0e77/nn4RpquLtvx/aX1CMcuq/2ZZfdzYG5b/J6OKBf+fbv/1HYi0MnMa/YGcbT7lFuz9J0YDIdIjZPweZcAB4/+U/wMwF52+m9L8/REc0j330v4BHGcv8DfO/tDqYpAxu8L9Wu+cPWY7pv3lPmpwwpOC/zlazFVWMyr81ZbXXIUK/P29gLgVx7tw/oG5iRnGV6D+QtD39CVH6v289grblfvm/HDBqPg1J97/5BVQ+adHzv5t1cpLknO6/0I4tQ2YM5L+1TP0Kqx7RvwIDKCfFy7k/q8/n/RZz3T919aev4HXpPzPyWh5yy/+/BOPjkw1b/r/c7yj2JW/7v/h6UrXUNPe/xo9i5fvu8b/YGyQJTODnvzPXAcO+Sta/HR4horv6qT/nPZJhf5zbP9tdQNo05ug/Cx7dGupuAsDp2nsngW4BwIt1PzlHTv+/hERafiRp+r+gIx5Z4nv0v4CKIi3OyOu/WEfKyEUd3L8HZ2hsQJWRv30fdnDpI9g/7bw37iFJ5z+t59/nMKwEwHEPYn5SawPAMKkzr+9cAcDskTCw40L9v/ec0NcRyva/l+RARa5u77/SfxfyyPDgv7SheFK8Ybe/3CbHrirV0z8GH6FnOgzlP8llGIA+iwbAeWm2BhYSBcB1LH1+UscCwDmgK9Sxnv+/dtNR4FK1+L99DiSKHkPxv8SYaDlOe+O/DB1th4ihxL/JZnyy49bOPxSrQ+pwlOI/llY6U3AACMCa/tCLXVcGwJ2+ztfT2gPAaqR/qniyAMAODFnqvST6v5zSgTjtbPK/i8JyQNhz5b9OJTDueQXMvz1TPpp548Y/uqu+6vYs4D+MnUHhOgcJwASAn1fLNgfAU2s2EQSTBMAE5gVREUYBwA+48vC6Dfu/3qHqWb4o87+l0bCMAb/mv32srMmdsNC/D+rUDUdZwD8WQaLbsvbbP+NHkankMuO/gkft4gPX479aFU9REoviv0YJBOpjw96/VvpDK4IX1b/9O95cVVDBv7P8FPiXO7c/kwjDqR9+1T/oJ9XGc8viPxFs+xvzr+o/d6fiIQsL7r/9ojJ0m1TtvxtPQPhVXuq//nHagjxS5b8Yqt7lV/jcv0v2+MsBDMm/zkDkln8Htz/Yb+qZyOLYP9OqYVZf9uU//4SEVDYJ7z9G+Ek+oLP0v4YEV688svO/vDQv/y9s8b+CaRkYrQTsv+LN1ZJyUOO/vKkrpyl90r9FLhP2GOepP0rSiib9ZNk/R2bDXdJ15z/91pshh7zwP3a4wv3dbvq/0pYIkbnS+L9PmjzxWtH1vyMeJ3NJl/G/CHyWxYDK6L8ZVAdxyyjavyLHtKLv9pa/TIRs+LRF1z9VfeOfL2XnPzxeR5pODPE/ond4N4EAAMBtGtD3qNj9v9/lGjpVL/q/6jfuaJg89b+6RQMtG5vuvyyNrrd6e+G/tV1Q217nvr/88VRzEwrTP7S/V4lWB+Y/EDIhf6OW8D9JkLvt15oCwJ7WIPK7SAHAftREq5hV/r+pam7nrcP4v9Ltc9QINPK/gRpjCSob5r/vpqPtuuDNv7L7zwEW0co/as4y54i74z9lgFpKqxvvP5s3Hb3T7gTAkjlQ2DxnA8BdkWwTBAsBwLxmxGqw/vu/Ownz8pPq9L8C713JTZXqv1GhjeQMUNa/IIchon+1vD88WQHdj+3gP4hFGiCzVew/0ctngu3oBsDAsPF4KzQFwE9sDiNqpALAgv0aYPzE/r8JfzJOPUf3v1Vnn6Nsku6/O6jMD+cg3b/1NQXGNa6RPy0TnvbdB9w/QSXVWxlH6T/auDUp+HoIwEEdcWEKoQbAzlUYgQroA8Bd1vo/tnsAwBvcCuZTKfm/iG+MMr3m8L/WA2A0eWjhvwxmTTYF1LC/7hxxb6ye1j9i3V8NrkPmP76jn//qnAnAlfZpWpGlB8DBk4tDP80EwFMw937cQQHAZNaxZml9+r/81Q+/og7yv9BfmSa5hOO/6jDAm+zPwL9PPZUrbPzRP9WoJPydeuM/3LnYqOOU47+m/rdmIDbivyp+y5WS8t2/ybs7BTgP1L/Tlrwr2Tm9v5KevKSmVr4/0Oe8MHrG1z9b/Rjv2zLkPyRgVljaUew/CKjz/eP08T+7O6h9yofuv4YNTUxk2+u/5StKNAb85r+7/00AfyvgvyACl575L8+/ZJdWOS+Jqj94RhHjwlfXP1ZN2LkOuOU/5URb2oZU7z/Swey5cBD0P3u+m5xd9/S/pWl1PKMG878uDJ7yjanvvwe9zHKvHee/DK9350rP2b8QJnIPytypv0nO4HsJPtQ/Q9Q8O+Sy5T/44FThpkrwP0SZ/TN7LvU/3pRhr063+r87uvt74zv4v71vTWR0W/S/rlRXnHWd7r9XViv56MPiv6j9oiE/b8e/n/nmRmeDzT9r77PRUkHkP+OmKp8uF/A/OcISGXFb9T9q0ogrsykAwHfO5fBUX/2/iAUl38Dm+L//b7OqJi3zvxi+lH/+Fem/gW8i85eW1b8r+owbL6S9PwjxTNRzpeE/LzRRurBi7j/Fu6vpGrr0Pw3EneNpzQLAjjwTxXEgAcAmvLQJokf9vwxDktYV/Pa/jY5XJUuD77/p2TX77hHgv/ESPPLDUJG/4LtROGd63D+/Km2H65PrP3oYGDuOffM/d5JkVX0vBcAdoZhns1gDwHmTHJI+pwDAQIO9pVuL+r88k+LB1NTyvw5Oqa72SuW/LbZ+blfQw7+kP0kFA+rUP9CtAZQMM+g/fXThmH7g8T/6Q1FKNzsHwA2NcpcGQwXAEm6U7ItnAsBAnAc5N639v2gdEnsWlfW/fGZTqrAT6r+g8RuZ10LSv/In5XpZ3so/VAg01Weu5D/7tLmzgxvwP7S/Ccnq3wjAiRWFJu7NBsD/v36tZNIDwOUo3KuhHQDAUixP4kja979ZMzczhxjuv0P6GIvwd9m/BidEZdzuuj/6XdPtZGDhP0YpUUMauOw/Rs7X+SYSCsA3z1FfVu0HwJWO+c4M2wTAnlGv42ENAcCvg4e/mYj5vwGBJbYbkPC/iy0xolIT37+fNq7MPjmUPxasa47iA90/qKuuGyl76T8s9rvgc0nkv9UOeSE3xOC/7OrVOFrq1r8+cSXya3vCv/rbN73kCLs/KEmzfJEz2D/qh8iCPxHlPwjLJo980O0/MmQwe5z38j/gWGRv+I72P/kL9zcLSu+/Uru8IiqG6r+Ryee0c5/jv9A/887449W/GHhL/YIMn7+A+B0Vyn3TPzVdI4e0nuQ/M5ZqKlIZ7z9ll/6v9Fr0P6jh2POfjfg/B3b3eWtV9b9Qp+GqhGXyvyPbc+IndOy/jha5aBcb4r8sewqzO1rJv7Y+rAcWucg/jGBSkLHD4j9AsK3a98XuPyY1CKI21vQ/4RbnmHiK+T9QhY4bww/7v/MeSVz+pfe/xDZdHOXZ8r8MJWMg+OLpv3Vv06JiFdm/JfYBvnXsqD+8NG7KOUHfP5ktQHs78uw/tjqZFgx29D/KYzw9+JH5P0WajkXRVADAkzWUoGDb/L8GN38w54f3v0RnvAOm//C/PMh8C2dO479pTvsmvuG+v5oxH4BJ7tY/6f3Yca7f6T/Vjl0u71vzP9kaDL7mxvg/dntRvtz6AsBA57w6CewAwKuQFqeTFvy/AtXjh6QK9b81AtQsz0bqvz2qftwTbtO/dqIPt/6Syj8DqMDyde7lPxG9eWOdufE/9Gm7AMRc9z8uXD2lAGMFwGT1nKw5NgPAcUbJH3IqAMCW2ydXHOD4v1DpBIArhvC/PXcaEc4t37+Of6dT3XqpP+I+5ilmkOE/6BBdp1WT7z92ze5tdY/1Pwl/ow9VdwfAWtzHPyQ1BcDCCRhuMQkCwJ2D6cdzTfy/x0UbXN+a879ZobokxQ7lv/eZQVwZ/bm/351/ZURx2j+jGwSjB43rP9Mm9kKbmfM/kPgxhrQkCcB4/ZOBYdQGwIpwo5DwkQPAxZnLhFwl/7+i3YDOYTL2v9+jwgSOvem/Xxplz075zb97tQlSO5XSP1LOL2vwwuc//xGbrl2r8T+05U0JXlwKwMQAF4AxBAjAgh3Szwu0BMCdennzjaIAwJQiImMBKfi/hkwZ/ylb7b+GdAqR37nVvyd9q6O+Lsg/w9cmQe925D8Ww6CWpsbvP9r/TwbmBeW/5d588Q6P3r+r/sF6alnPv8GzIh+YBJ4/I3iGjNkq1T+p5W7lppPkPx1OpmHDYe4/9h3SkFbA8z+j1mt99MP3P0ajIJS7F/s/mGCFWT4E8L/Ntdqu2Bvpv90XL1dMIOC/3Va76UM3xr+gx5Lkvh3IP2YeFk/L++E/gu/7E+iq7T/J0HmNpj/0P74LIzUyAPk/78vJd3Xu/D+ulF3VTar1v5TobsjhsvG/JguI4P0P6b+juXU5lsjZv8oGOfp9OIs/YkGW+0hG3D9kU/uC1H/rP/qA7rvh6/M/6FGi9mxR+T/bXHS0kcP9P/BF8bxHVvu/uFfz4sb19r+KFhyKpDjxv0e7VEGe5eS//SUok6hMyL/MWILPy1XSP/tdQsoS/ec/LXfYRM7R8j+m6+I80sP4P2PBIrR4o/0/rMXRD8RxAMCtJrsuZDL8v/Nqs3fb/vW/xk85qcNN7b+JLvPs2G3av7qVaoIxmro/6eEcBWdi4z/3SeuHrRHxPwz3xKSLePc/EZR4iJmw/D+NR0CWDRQDwMDQIhDKngDA4zSeB7Cu+r+NR8FPxOHyv7NQJe3No+S/3X9+cqo6uL8lKDeRCh3cP4V1BpBwuO0/6kmZZ76h9T8+fn+DXR77P1/U3fs3ewXApNmu1p7zAsDbExDz1RX/vxHnD7ot7/a/LACPVn3t67+EhqPoFOrSv3OJ+O9F6dA/TYnae+vY6D9vYnnpd3vzP1Q2NaEyKfk/Ya5uOiCQB8BMG2p76v4EwBG7MpzpfwHAG61e9AiY+r+Fg65NrVDxv51Ey2gt/96/5cquTNxsuD9wCW9/+f7jP56E0rawQvE/TTQeXxIN9z9+CdHKLT0JwAdI9ntxqQbAeTcPbKIdA8DZmSlriqj9vyQ1NnsZKvS/FZRRaZy55L/VcoXco4qrv1BtooqBLt8/oaXgyEtY7j+EfBKPMfz0Pxt0wsVlcArAfRaas+nfB8AfQ+DOtk8EwPhf29do9v+/C9Z/MPRX9r/vKEgzSs3ov9MVyrJZKsa/4/MRMWPi1z/IlsiPPLnqP+rD9JijF/M/taNhfyR45b86NFxc/v/av+KqGRdnd7+/acC7o5AHyz+wVdLKjwLiP1wkdysWOO0/xmDe0xfl8z/azuHv8Jj4P0ca3Xllg/w/iZuETnSE/z9TB1uJ2zjwvw2fH+dCXOe/VAyKQQCg2L/z/IlLbc5uP2SWbU1zhNo/ulw7YVxh6j88yPrndmTzP3AprtwH7vg/pKCFTHiR/T8F/CIcPJUAQNB+E1pCzvW/hUaeWgTP8L/Jdxn4LE7lv6naYcNZac2/a/yGoj7NzT+e1/Uqc0XmP4j0FwJ2J/I/mjXujuFu+D+CTr0ll7X9P9kF3WWP6QBA0nRJIZRk+78RIbF9Qgz2v7YWX8yywO6/XaJDzicL378rkW5L0J+WP6FZosts/+A/+NurtCo68D+Bic8D1Cb3P7xeLzga+/w/JO/luTTFAEC/otSCX24AwF8SoRl+Rvu/Co9taaY09L9aPvRviCXovwLwJeqI8Mq/qWoV6FKX1T+6l99BHnbrP+i97Z0bNfU//YUte1CC+z8AJvDf7jgAQA/x48H6BwPABrYYvX0qAMC03u3+vfn4v07QiqWScfC/FsQtPhsN3b9zNZwz3hjAP8Ei7UQOs+U/c2KRenDK8j9Dr9gLIH35P4Qm+EwkvP4/J1mNj3loBcCUcNABm4MCwLOjoxpJfP2/AkJrcGSp9L/0B7/aRzrmv92rNKoD6ba/TenU/OFD3z9jnkmjQSPwP+VAGUBQKPc/KGQxX4el/D+8BMNQdXcHwPCYhWU3lATANpefJAnCAMBDw810Fn/4v8Aat1JlXO2/bOuZN2LA0r+EhVkJY4XTP7HCtLPx/uo/ZlmJzb7C9D8B7go3smr6P7c2dSTmHAnAVFstc1pCBsDWqQWu7GwCwM+xD4nXuPu/w0/1a++68b/S2cJmGxXevyb+Y2nbM8I/Tui4BcAy5j8MeSL+AITyPyrTXOBqP/g/6lhw0qZDCsAyaT7NUHcHwP7d8uXhpgPAX6ggmjgl/r8pLO2FZhH0v8Cyf6mkeeO/pwgdpm7ihz+yPHonmzriP4086rhOlPA/STxeMfBG9j9/rs2LMU7lv15ugsG+XNa/B0QGYQBgiz9S9vcxA+LZPz6ea7Zds+k/QErtKXMC8z+u3KGcSJ/4P1/2oj3yaP0/dx0fiL6VAECEpCpajOUBQHDOyHH6GfC/rrrL0sQH5b+41ZbQFgLQv8hBCj84wcg/TTzp2l/F5D/OPI0NZ3jxP5eDop2H+Pc/QHJsIUKR/T+oKSKxqAMBQGU0gA54nQJAasc5Aj6Z9b+hGAcX3jTvv5ImDPbuAOG/5ujaa2f6pb/3wdPdS5jdP3MfB2k3me4/+khdrm+W9j/ysQ6TlOf8PxdkiZ7S/gBAm58jt3zaAkDegIvxGRT7v/xgSPrOyvS/cIHwxdp06r/TEsfTt0nTv+ttqejxec8/R4WlNGkS6T+2bMkGbYL0P1Rx/6xEdfs/9YaETzSMAEDzUGSPF6ICQL78erNnOADAXHsriG/6+b+F+KTTehPyv3BuNvQpaeK/m9BQuKl1eT/xm+Qh0pPiP5JeOtT32PE/CWHghdlX+T9aRXLGU3b/P9eO6TA6BAJA8Udovb/FAsDxqYGnAgP/vxLHUI1M4/a/DMCXCW1Y679RJR8EonzPv6+wK22/79Y/fk331nuR7T+L0MwSRL/2P6bB9yRBSP0/t8V5cHcZAUBlaqIGhRsFwF2x9PnU2QHAXBEUL8h1+78UUYIMcALyv+IDq9Ghyt+/HbJxgSXTwD8+kJODWRznP7O9kTyS6PM/aFRPUfvK+j8HuW6AFv//P5lfN34EIAfA39esb03qA8DkKQd0Wo//v5TdOjaX+PW/pOtHZp5d57/rc19ykoW1v7G5JkAT2OA/m/q149MV8T/hZ2Vvoz74P1Kv2CnSqf0/DXusu8u4CMClWcSJUZYFwATCwfefeQHA6QcoJ0pP+b97x8x4R8btvzT+jz90bNG/hRcRsfKJ1j9vm3FHmgntP7tBNqtE3fU/GoGMlSpo+z9MSHrYnc0JwBzY8szjwwbA8mvLTmy1AsB1MbhmXs77vzOy1R06V/G/mYZOI5Da2r9sAW+ZZjHLP++ITRZdzOg/W8LhYmDS8z9SWb7Pgl/5P3UbxLDtPuS/gPcOTjw50L9kLfZaK4jFPwdZi+3hjuM/giiTtdjU8D9FY4jirHf3P29J6UWCVf0/G8VnqNsRAUApTvngZtcCQMREllKm7wNA6ZXZQQ4G77+IbVF0vefhv9COU517ebi/H9uxFNNz2T/eCAOlcZXsP801UpOK0fU/ib0ceiCK/D9hMod12A8BQJya8avrKwNAPUyimb+LBEDAwgFNdOf0v/xr5Glu9Ou/MMdojxYI2L8fI5ikV3/EP8sYtgOzfeY/s3SCPw2N8z843ZltIwf7PzguqjRPpwBA06bm6DIRA0C5+B9537EEQElxZHOSQvq/4T4EnpIX878LlbzXwmrlv/ZeQu8Cfrm/62gRxjzg3j9BY1tYc7DwP7XWPFi20vg/bNngPTG3/z+5Nr4IGosCQA/4aFSYZgRAatisea5//7+0H5fUGjb4vzj6Fm0wFu+/Azj4xRgN2L9dWMv+D3HOP49tre6xqOo/goh6iI4G9j/9elyaZXT9P2hTaT3IpwFAEzpJgJ+4A0DxQqeBzj4CwHYHtSnxMf2/LeO61QJd9L8pzymuQBTlv8RDDGy+O5W/w8l+h9RI4z8l1UB/2M/yP0fhYCWXtPo/oPd5Kr1+AECbcNOsZb8CQF3IIeKghwTAKePcxADtAMCjmI8SpPb4v7s/nykD6u2/fQEGoHfd0b+ntKSM8XDXP826vBd81u4/d45gGKi09z88RGGhCVz+P4zfRDT1lwFATH5PqUp/BsBiROtj1PkCwOhaJt5mGf2/KFZBB0QC87+a59Ynp6rgv3g1GF4NBsI/XTCMG1Q76D+tUq1ZNbj0P1r9q8cnrPs/VIF9+rBgAEBaT7ha+AgIwCb5wlFWoATAgWoR67VBAMAfQIaVdG32vwvGz8wrUue/LjiF/qsMrb+9l0A0QlbiP9Xz/1IkAPI/ZQa6yRwq+T8xa2X7fGn+PyDRbkRlCQnAC5bFbVzDBcDGJ+zMynsBwGdMulr79/i/qeGGThpo7L/fS8kmDRLLv0VZJk5/Nds/KbHBUd6C7z/OuONT0AT3PwWj/HEAUPw//SIRSRkT4r8jMqkwMpjAv5rD/1ILAtY/R6cOANuc6j/Y1Bx8Fuz0Pxq3iw4z7/s//Qmc5pv7AEDXJFwoTVsDQACxGCZO/QRA8zemVBXYBUAVNCumdrDsvzTW323Ardu/eJh6TSTItD/FIYEVwr7jPwjhrHjfU/I/SpSYSXkx+j+ocj0Jm4UAQNAwjuLqRANA0b52GQo6BUAOIvKQw1kGQJzaPYjPnfO/9VG9R2G4578jRZbXxxHJv12gYzAoT9g/DCR4anh+7j8SaTPqj9r3P9/V4283bf8/4RZGsWDLAkCGSS8wzQsFQNWAOzX4agZAoaoYLWbW+L+Wxa5JneHwv7MAWbViIt+/um3XvL3gvj+0IHvNKmDnP0CSz/5F7PQ/aiWPgHgf/T8xufrnTPABQC2a3M7udARARdYqXuUOBkCI1WR+A/L9vxsccEmC6vW/G28mkA0p6b+L4gNUpffDvyb+7AjB6N4/+v0ZrHp78T8LTLJrLTj6P+BzF5OAvwBA7GCg6/KBA0B0IafPmVIFQG2Jxy79aAHAxOKQ0XzV+r++pcQnSmLxv8bjvqezNdy/a3RBNOwpzD+eKynxLWPrP3DllOQz4vY/vSB8Ueqd/j+SUE74CEkCQH9cLJ8OTARA16SeDIqkA8DR2n4wZnH/v1s5bzVX/fW/zfmkw+gL579TpbboUqKmvyHpTXPUk+M/uY14W7hZ8z/dS5FLY3n7P89E7OWZ5wBAibtTm2QXA0AYbh2sVo8FwC/nOGF8wAHASEwcB4sk+r8fJQ1F3kjvv5ILMlqxutK/L+fdzH8t2D+VEfRga8rvP4rfXX8WVvg/iK2c8Kb8/j8mQrGT3tIBQC9c8Go6CgfAJxdBzp9gA8C3sfttRpH9vzs4ZTbOH/O/JkMCdek64L9WZLPku/zFP0GUl3BsmOk/xzvYMNZ39T9Y/yUQ8Fj8P+O1itFamgBAdfpcEfv2B8CHNwUE33gEwFdgYAwbAADA3uMiJFWz9b/cgDuT1XnlvzIo4ow3i4Q/FuDNgwWb5D+kciD0DBjzP1oRUqSqFvo/nrb17GAG/z8=",
          "dtype": "f8"
         },
         "w": {
          "bdata": "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",
          "dtype": "f8"
         },
         "x": {
          "bdata": "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",
          "dtype": "f8"
         },
         "y": {
          "bdata": "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",
          "dtype": "f8"
         },
         "z": {
          "bdata": "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",
          "dtype": "f8"
         }
        }
       ],
       "layout": {
        "scene": {
         "xaxis": {
          "title": {
           "text": "X"
          }
         },
         "yaxis": {
          "title": {
           "text": "Y"
          }
         },
         "zaxis": {
          "title": {
           "text": "Z"
          }
         }
        },
        "template": {
         "data": {
          "bar": [
           {
            "error_x": {
             "color": "#2a3f5f"
            },
            "error_y": {
             "color": "#2a3f5f"
            },
            "marker": {
             "line": {
              "color": "#E5ECF6",
              "width": 0.5
             },
             "pattern": {
              "fillmode": "overlay",
              "size": 10,
              "solidity": 0.2
             }
            },
            "type": "bar"
           }
          ],
          "barpolar": [
           {
            "marker": {
             "line": {
              "color": "#E5ECF6",
              "width": 0.5
             },
             "pattern": {
              "fillmode": "overlay",
              "size": 10,
              "solidity": 0.2
             }
            },
            "type": "barpolar"
           }
          ],
          "carpet": [
           {
            "aaxis": {
             "endlinecolor": "#2a3f5f",
             "gridcolor": "white",
             "linecolor": "white",
             "minorgridcolor": "white",
             "startlinecolor": "#2a3f5f"
            },
            "baxis": {
             "endlinecolor": "#2a3f5f",
             "gridcolor": "white",
             "linecolor": "white",
             "minorgridcolor": "white",
             "startlinecolor": "#2a3f5f"
            },
            "type": "carpet"
           }
          ],
          "choropleth": [
           {
            "colorbar": {
             "outlinewidth": 0,
             "ticks": ""
            },
            "type": "choropleth"
           }
          ],
          "contour": [
           {
            "colorbar": {
             "outlinewidth": 0,
             "ticks": ""
            },
            "colorscale": [
             [
              0,
              "#0d0887"
             ],
             [
              0.1111111111111111,
              "#46039f"
             ],
             [
              0.2222222222222222,
              "#7201a8"
             ],
             [
              0.3333333333333333,
              "#9c179e"
             ],
             [
              0.4444444444444444,
              "#bd3786"
             ],
             [
              0.5555555555555556,
              "#d8576b"
             ],
             [
              0.6666666666666666,
              "#ed7953"
             ],
             [
              0.7777777777777778,
              "#fb9f3a"
             ],
             [
              0.8888888888888888,
              "#fdca26"
             ],
             [
              1,
              "#f0f921"
             ]
            ],
            "type": "contour"
           }
          ],
          "contourcarpet": [
           {
            "colorbar": {
             "outlinewidth": 0,
             "ticks": ""
            },
            "type": "contourcarpet"
           }
          ],
          "heatmap": [
           {
            "colorbar": {
             "outlinewidth": 0,
             "ticks": ""
            },
            "colorscale": [
             [
              0,
              "#0d0887"
             ],
             [
              0.1111111111111111,
              "#46039f"
             ],
             [
              0.2222222222222222,
              "#7201a8"
             ],
             [
              0.3333333333333333,
              "#9c179e"
             ],
             [
              0.4444444444444444,
              "#bd3786"
             ],
             [
              0.5555555555555556,
              "#d8576b"
             ],
             [
              0.6666666666666666,
              "#ed7953"
             ],
             [
              0.7777777777777778,
              "#fb9f3a"
             ],
             [
              0.8888888888888888,
              "#fdca26"
             ],
             [
              1,
              "#f0f921"
             ]
            ],
            "type": "heatmap"
           }
          ],
          "histogram": [
           {
            "marker": {
             "pattern": {
              "fillmode": "overlay",
              "size": 10,
              "solidity": 0.2
             }
            },
            "type": "histogram"
           }
          ],
          "histogram2d": [
           {
            "colorbar": {
             "outlinewidth": 0,
             "ticks": ""
            },
            "colorscale": [
             [
              0,
              "#0d0887"
             ],
             [
              0.1111111111111111,
              "#46039f"
             ],
             [
              0.2222222222222222,
              "#7201a8"
             ],
             [
              0.3333333333333333,
              "#9c179e"
             ],
             [
              0.4444444444444444,
              "#bd3786"
             ],
             [
              0.5555555555555556,
              "#d8576b"
             ],
             [
              0.6666666666666666,
              "#ed7953"
             ],
             [
              0.7777777777777778,
              "#fb9f3a"
             ],
             [
              0.8888888888888888,
              "#fdca26"
             ],
             [
              1,
              "#f0f921"
             ]
            ],
            "type": "histogram2d"
           }
          ],
          "histogram2dcontour": [
           {
            "colorbar": {
             "outlinewidth": 0,
             "ticks": ""
            },
            "colorscale": [
             [
              0,
              "#0d0887"
             ],
             [
              0.1111111111111111,
              "#46039f"
             ],
             [
              0.2222222222222222,
              "#7201a8"
             ],
             [
              0.3333333333333333,
              "#9c179e"
             ],
             [
              0.4444444444444444,
              "#bd3786"
             ],
             [
              0.5555555555555556,
              "#d8576b"
             ],
             [
              0.6666666666666666,
              "#ed7953"
             ],
             [
              0.7777777777777778,
              "#fb9f3a"
             ],
             [
              0.8888888888888888,
              "#fdca26"
             ],
             [
              1,
              "#f0f921"
             ]
            ],
            "type": "histogram2dcontour"
           }
          ],
          "mesh3d": [
           {
            "colorbar": {
             "outlinewidth": 0,
             "ticks": ""
            },
            "type": "mesh3d"
           }
          ],
          "parcoords": [
           {
            "line": {
             "colorbar": {
              "outlinewidth": 0,
              "ticks": ""
             }
            },
            "type": "parcoords"
           }
          ],
          "pie": [
           {
            "automargin": true,
            "type": "pie"
           }
          ],
          "scatter": [
           {
            "fillpattern": {
             "fillmode": "overlay",
             "size": 10,
             "solidity": 0.2
            },
            "type": "scatter"
           }
          ],
          "scatter3d": [
           {
            "line": {
             "colorbar": {
              "outlinewidth": 0,
              "ticks": ""
             }
            },
            "marker": {
             "colorbar": {
              "outlinewidth": 0,
              "ticks": ""
             }
            },
            "type": "scatter3d"
           }
          ],
          "scattercarpet": [
           {
            "marker": {
             "colorbar": {
              "outlinewidth": 0,
              "ticks": ""
             }
            },
            "type": "scattercarpet"
           }
          ],
          "scattergeo": [
           {
            "marker": {
             "colorbar": {
              "outlinewidth": 0,
              "ticks": ""
             }
            },
            "type": "scattergeo"
           }
          ],
          "scattergl": [
           {
            "marker": {
             "colorbar": {
              "outlinewidth": 0,
              "ticks": ""
             }
            },
            "type": "scattergl"
           }
          ],
          "scattermap": [
           {
            "marker": {
             "colorbar": {
              "outlinewidth": 0,
              "ticks": ""
             }
            },
            "type": "scattermap"
           }
          ],
          "scattermapbox": [
           {
            "marker": {
             "colorbar": {
              "outlinewidth": 0,
              "ticks": ""
             }
            },
            "type": "scattermapbox"
           }
          ],
          "scatterpolar": [
           {
            "marker": {
             "colorbar": {
              "outlinewidth": 0,
              "ticks": ""
             }
            },
            "type": "scatterpolar"
           }
          ],
          "scatterpolargl": [
           {
            "marker": {
             "colorbar": {
              "outlinewidth": 0,
              "ticks": ""
             }
            },
            "type": "scatterpolargl"
           }
          ],
          "scatterternary": [
           {
            "marker": {
             "colorbar": {
              "outlinewidth": 0,
              "ticks": ""
             }
            },
            "type": "scatterternary"
           }
          ],
          "surface": [
           {
            "colorbar": {
             "outlinewidth": 0,
             "ticks": ""
            },
            "colorscale": [
             [
              0,
              "#0d0887"
             ],
             [
              0.1111111111111111,
              "#46039f"
             ],
             [
              0.2222222222222222,
              "#7201a8"
             ],
             [
              0.3333333333333333,
              "#9c179e"
             ],
             [
              0.4444444444444444,
              "#bd3786"
             ],
             [
              0.5555555555555556,
              "#d8576b"
             ],
             [
              0.6666666666666666,
              "#ed7953"
             ],
             [
              0.7777777777777778,
              "#fb9f3a"
             ],
             [
              0.8888888888888888,
              "#fdca26"
             ],
             [
              1,
              "#f0f921"
             ]
            ],
            "type": "surface"
           }
          ],
          "table": [
           {
            "cells": {
             "fill": {
              "color": "#EBF0F8"
             },
             "line": {
              "color": "white"
             }
            },
            "header": {
             "fill": {
              "color": "#C8D4E3"
             },
             "line": {
              "color": "white"
             }
            },
            "type": "table"
           }
          ]
         },
         "layout": {
          "annotationdefaults": {
           "arrowcolor": "#2a3f5f",
           "arrowhead": 0,
           "arrowwidth": 1
          },
          "autotypenumbers": "strict",
          "coloraxis": {
           "colorbar": {
            "outlinewidth": 0,
            "ticks": ""
           }
          },
          "colorscale": {
           "diverging": [
            [
             0,
             "#8e0152"
            ],
            [
             0.1,
             "#c51b7d"
            ],
            [
             0.2,
             "#de77ae"
            ],
            [
             0.3,
             "#f1b6da"
            ],
            [
             0.4,
             "#fde0ef"
            ],
            [
             0.5,
             "#f7f7f7"
            ],
            [
             0.6,
             "#e6f5d0"
            ],
            [
             0.7,
             "#b8e186"
            ],
            [
             0.8,
             "#7fbc41"
            ],
            [
             0.9,
             "#4d9221"
            ],
            [
             1,
             "#276419"
            ]
           ],
           "sequential": [
            [
             0,
             "#0d0887"
            ],
            [
             0.1111111111111111,
             "#46039f"
            ],
            [
             0.2222222222222222,
             "#7201a8"
            ],
            [
             0.3333333333333333,
             "#9c179e"
            ],
            [
             0.4444444444444444,
             "#bd3786"
            ],
            [
             0.5555555555555556,
             "#d8576b"
            ],
            [
             0.6666666666666666,
             "#ed7953"
            ],
            [
             0.7777777777777778,
             "#fb9f3a"
            ],
            [
             0.8888888888888888,
             "#fdca26"
            ],
            [
             1,
             "#f0f921"
            ]
           ],
           "sequentialminus": [
            [
             0,
             "#0d0887"
            ],
            [
             0.1111111111111111,
             "#46039f"
            ],
            [
             0.2222222222222222,
             "#7201a8"
            ],
            [
             0.3333333333333333,
             "#9c179e"
            ],
            [
             0.4444444444444444,
             "#bd3786"
            ],
            [
             0.5555555555555556,
             "#d8576b"
            ],
            [
             0.6666666666666666,
             "#ed7953"
            ],
            [
             0.7777777777777778,
             "#fb9f3a"
            ],
            [
             0.8888888888888888,
             "#fdca26"
            ],
            [
             1,
             "#f0f921"
            ]
           ]
          },
          "colorway": [
           "#636efa",
           "#EF553B",
           "#00cc96",
           "#ab63fa",
           "#FFA15A",
           "#19d3f3",
           "#FF6692",
           "#B6E880",
           "#FF97FF",
           "#FECB52"
          ],
          "font": {
           "color": "#2a3f5f"
          },
          "geo": {
           "bgcolor": "white",
           "lakecolor": "white",
           "landcolor": "#E5ECF6",
           "showlakes": true,
           "showland": true,
           "subunitcolor": "white"
          },
          "hoverlabel": {
           "align": "left"
          },
          "hovermode": "closest",
          "mapbox": {
           "style": "light"
          },
          "paper_bgcolor": "white",
          "plot_bgcolor": "#E5ECF6",
          "polar": {
           "angularaxis": {
            "gridcolor": "white",
            "linecolor": "white",
            "ticks": ""
           },
           "bgcolor": "#E5ECF6",
           "radialaxis": {
            "gridcolor": "white",
            "linecolor": "white",
            "ticks": ""
           }
          },
          "scene": {
           "xaxis": {
            "backgroundcolor": "#E5ECF6",
            "gridcolor": "white",
            "gridwidth": 2,
            "linecolor": "white",
            "showbackground": true,
            "ticks": "",
            "zerolinecolor": "white"
           },
           "yaxis": {
            "backgroundcolor": "#E5ECF6",
            "gridcolor": "white",
            "gridwidth": 2,
            "linecolor": "white",
            "showbackground": true,
            "ticks": "",
            "zerolinecolor": "white"
           },
           "zaxis": {
            "backgroundcolor": "#E5ECF6",
            "gridcolor": "white",
            "gridwidth": 2,
            "linecolor": "white",
            "showbackground": true,
            "ticks": "",
            "zerolinecolor": "white"
           }
          },
          "shapedefaults": {
           "line": {
            "color": "#2a3f5f"
           }
          },
          "ternary": {
           "aaxis": {
            "gridcolor": "white",
            "linecolor": "white",
            "ticks": ""
           },
           "baxis": {
            "gridcolor": "white",
            "linecolor": "white",
            "ticks": ""
           },
           "bgcolor": "#E5ECF6",
           "caxis": {
            "gridcolor": "white",
            "linecolor": "white",
            "ticks": ""
           }
          },
          "title": {
           "x": 0.05
          },
          "xaxis": {
           "automargin": true,
           "gridcolor": "white",
           "linecolor": "white",
           "ticks": "",
           "title": {
            "standoff": 15
           },
           "zerolinecolor": "white",
           "zerolinewidth": 2
          },
          "yaxis": {
           "automargin": true,
           "gridcolor": "white",
           "linecolor": "white",
           "ticks": "",
           "title": {
            "standoff": 15
           },
           "zerolinecolor": "white",
           "zerolinewidth": 2
          }
         }
        }
       }
      }
     },
     "metadata": {},
     "output_type": "display_data"
    }
   ],
   "source": [
    "grid_x, grid_y, grid_z, U, V, W = sample_vector_field(grid_x=grid_x, grid_y=grid_y, grid_z=grid_z,\n",
    "                                                      kernel_func = 'divergence_free_kernel')\n",
    "plotter.plotter(grid_x, grid_y, grid_z, U, V, W)"
   ]
  },
  {
   "cell_type": "code",
   "execution_count": 11,
   "metadata": {},
   "outputs": [
    {
     "data": {
      "application/vnd.plotly.v1+json": {
       "config": {
        "plotlyServerURL": "https://plot.ly"
       },
       "data": [
        {
         "anchor": "tail",
         "sizemode": "scaled",
         "sizeref": 2,
         "type": "cone",
         "u": {
          "bdata": "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",
          "dtype": "f8"
         },
         "v": {
          "bdata": "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",
          "dtype": "f8"
         },
         "w": {
          "bdata": "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",
          "dtype": "f8"
         },
         "x": {
          "bdata": "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",
          "dtype": "f8"
         },
         "y": {
          "bdata": "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",
          "dtype": "f8"
         },
         "z": {
          "bdata": "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",
          "dtype": "f8"
         }
        }
       ],
       "layout": {
        "scene": {
         "xaxis": {
          "title": {
           "text": "X"
          }
         },
         "yaxis": {
          "title": {
           "text": "Y"
          }
         },
         "zaxis": {
          "title": {
           "text": "Z"
          }
         }
        },
        "template": {
         "data": {
          "bar": [
           {
            "error_x": {
             "color": "#2a3f5f"
            },
            "error_y": {
             "color": "#2a3f5f"
            },
            "marker": {
             "line": {
              "color": "#E5ECF6",
              "width": 0.5
             },
             "pattern": {
              "fillmode": "overlay",
              "size": 10,
              "solidity": 0.2
             }
            },
            "type": "bar"
           }
          ],
          "barpolar": [
           {
            "marker": {
             "line": {
              "color": "#E5ECF6",
              "width": 0.5
             },
             "pattern": {
              "fillmode": "overlay",
              "size": 10,
              "solidity": 0.2
             }
            },
            "type": "barpolar"
           }
          ],
          "carpet": [
           {
            "aaxis": {
             "endlinecolor": "#2a3f5f",
             "gridcolor": "white",
             "linecolor": "white",
             "minorgridcolor": "white",
             "startlinecolor": "#2a3f5f"
            },
            "baxis": {
             "endlinecolor": "#2a3f5f",
             "gridcolor": "white",
             "linecolor": "white",
             "minorgridcolor": "white",
             "startlinecolor": "#2a3f5f"
            },
            "type": "carpet"
           }
          ],
          "choropleth": [
           {
            "colorbar": {
             "outlinewidth": 0,
             "ticks": ""
            },
            "type": "choropleth"
           }
          ],
          "contour": [
           {
            "colorbar": {
             "outlinewidth": 0,
             "ticks": ""
            },
            "colorscale": [
             [
              0,
              "#0d0887"
             ],
             [
              0.1111111111111111,
              "#46039f"
             ],
             [
              0.2222222222222222,
              "#7201a8"
             ],
             [
              0.3333333333333333,
              "#9c179e"
             ],
             [
              0.4444444444444444,
              "#bd3786"
             ],
             [
              0.5555555555555556,
              "#d8576b"
             ],
             [
              0.6666666666666666,
              "#ed7953"
             ],
             [
              0.7777777777777778,
              "#fb9f3a"
             ],
             [
              0.8888888888888888,
              "#fdca26"
             ],
             [
              1,
              "#f0f921"
             ]
            ],
            "type": "contour"
           }
          ],
          "contourcarpet": [
           {
            "colorbar": {
             "outlinewidth": 0,
             "ticks": ""
            },
            "type": "contourcarpet"
           }
          ],
          "heatmap": [
           {
            "colorbar": {
             "outlinewidth": 0,
             "ticks": ""
            },
            "colorscale": [
             [
              0,
              "#0d0887"
             ],
             [
              0.1111111111111111,
              "#46039f"
             ],
             [
              0.2222222222222222,
              "#7201a8"
             ],
             [
              0.3333333333333333,
              "#9c179e"
             ],
             [
              0.4444444444444444,
              "#bd3786"
             ],
             [
              0.5555555555555556,
              "#d8576b"
             ],
             [
              0.6666666666666666,
              "#ed7953"
             ],
             [
              0.7777777777777778,
              "#fb9f3a"
             ],
             [
              0.8888888888888888,
              "#fdca26"
             ],
             [
              1,
              "#f0f921"
             ]
            ],
            "type": "heatmap"
           }
          ],
          "histogram": [
           {
            "marker": {
             "pattern": {
              "fillmode": "overlay",
              "size": 10,
              "solidity": 0.2
             }
            },
            "type": "histogram"
           }
          ],
          "histogram2d": [
           {
            "colorbar": {
             "outlinewidth": 0,
             "ticks": ""
            },
            "colorscale": [
             [
              0,
              "#0d0887"
             ],
             [
              0.1111111111111111,
              "#46039f"
             ],
             [
              0.2222222222222222,
              "#7201a8"
             ],
             [
              0.3333333333333333,
              "#9c179e"
             ],
             [
              0.4444444444444444,
              "#bd3786"
             ],
             [
              0.5555555555555556,
              "#d8576b"
             ],
             [
              0.6666666666666666,
              "#ed7953"
             ],
             [
              0.7777777777777778,
              "#fb9f3a"
             ],
             [
              0.8888888888888888,
              "#fdca26"
             ],
             [
              1,
              "#f0f921"
             ]
            ],
            "type": "histogram2d"
           }
          ],
          "histogram2dcontour": [
           {
            "colorbar": {
             "outlinewidth": 0,
             "ticks": ""
            },
            "colorscale": [
             [
              0,
              "#0d0887"
             ],
             [
              0.1111111111111111,
              "#46039f"
             ],
             [
              0.2222222222222222,
              "#7201a8"
             ],
             [
              0.3333333333333333,
              "#9c179e"
             ],
             [
              0.4444444444444444,
              "#bd3786"
             ],
             [
              0.5555555555555556,
              "#d8576b"
             ],
             [
              0.6666666666666666,
              "#ed7953"
             ],
             [
              0.7777777777777778,
              "#fb9f3a"
             ],
             [
              0.8888888888888888,
              "#fdca26"
             ],
             [
              1,
              "#f0f921"
             ]
            ],
            "type": "histogram2dcontour"
           }
          ],
          "mesh3d": [
           {
            "colorbar": {
             "outlinewidth": 0,
             "ticks": ""
            },
            "type": "mesh3d"
           }
          ],
          "parcoords": [
           {
            "line": {
             "colorbar": {
              "outlinewidth": 0,
              "ticks": ""
             }
            },
            "type": "parcoords"
           }
          ],
          "pie": [
           {
            "automargin": true,
            "type": "pie"
           }
          ],
          "scatter": [
           {
            "fillpattern": {
             "fillmode": "overlay",
             "size": 10,
             "solidity": 0.2
            },
            "type": "scatter"
           }
          ],
          "scatter3d": [
           {
            "line": {
             "colorbar": {
              "outlinewidth": 0,
              "ticks": ""
             }
            },
            "marker": {
             "colorbar": {
              "outlinewidth": 0,
              "ticks": ""
             }
            },
            "type": "scatter3d"
           }
          ],
          "scattercarpet": [
           {
            "marker": {
             "colorbar": {
              "outlinewidth": 0,
              "ticks": ""
             }
            },
            "type": "scattercarpet"
           }
          ],
          "scattergeo": [
           {
            "marker": {
             "colorbar": {
              "outlinewidth": 0,
              "ticks": ""
             }
            },
            "type": "scattergeo"
           }
          ],
          "scattergl": [
           {
            "marker": {
             "colorbar": {
              "outlinewidth": 0,
              "ticks": ""
             }
            },
            "type": "scattergl"
           }
          ],
          "scattermap": [
           {
            "marker": {
             "colorbar": {
              "outlinewidth": 0,
              "ticks": ""
             }
            },
            "type": "scattermap"
           }
          ],
          "scattermapbox": [
           {
            "marker": {
             "colorbar": {
              "outlinewidth": 0,
              "ticks": ""
             }
            },
            "type": "scattermapbox"
           }
          ],
          "scatterpolar": [
           {
            "marker": {
             "colorbar": {
              "outlinewidth": 0,
              "ticks": ""
             }
            },
            "type": "scatterpolar"
           }
          ],
          "scatterpolargl": [
           {
            "marker": {
             "colorbar": {
              "outlinewidth": 0,
              "ticks": ""
             }
            },
            "type": "scatterpolargl"
           }
          ],
          "scatterternary": [
           {
            "marker": {
             "colorbar": {
              "outlinewidth": 0,
              "ticks": ""
             }
            },
            "type": "scatterternary"
           }
          ],
          "surface": [
           {
            "colorbar": {
             "outlinewidth": 0,
             "ticks": ""
            },
            "colorscale": [
             [
              0,
              "#0d0887"
             ],
             [
              0.1111111111111111,
              "#46039f"
             ],
             [
              0.2222222222222222,
              "#7201a8"
             ],
             [
              0.3333333333333333,
              "#9c179e"
             ],
             [
              0.4444444444444444,
              "#bd3786"
             ],
             [
              0.5555555555555556,
              "#d8576b"
             ],
             [
              0.6666666666666666,
              "#ed7953"
             ],
             [
              0.7777777777777778,
              "#fb9f3a"
             ],
             [
              0.8888888888888888,
              "#fdca26"
             ],
             [
              1,
              "#f0f921"
             ]
            ],
            "type": "surface"
           }
          ],
          "table": [
           {
            "cells": {
             "fill": {
              "color": "#EBF0F8"
             },
             "line": {
              "color": "white"
             }
            },
            "header": {
             "fill": {
              "color": "#C8D4E3"
             },
             "line": {
              "color": "white"
             }
            },
            "type": "table"
           }
          ]
         },
         "layout": {
          "annotationdefaults": {
           "arrowcolor": "#2a3f5f",
           "arrowhead": 0,
           "arrowwidth": 1
          },
          "autotypenumbers": "strict",
          "coloraxis": {
           "colorbar": {
            "outlinewidth": 0,
            "ticks": ""
           }
          },
          "colorscale": {
           "diverging": [
            [
             0,
             "#8e0152"
            ],
            [
             0.1,
             "#c51b7d"
            ],
            [
             0.2,
             "#de77ae"
            ],
            [
             0.3,
             "#f1b6da"
            ],
            [
             0.4,
             "#fde0ef"
            ],
            [
             0.5,
             "#f7f7f7"
            ],
            [
             0.6,
             "#e6f5d0"
            ],
            [
             0.7,
             "#b8e186"
            ],
            [
             0.8,
             "#7fbc41"
            ],
            [
             0.9,
             "#4d9221"
            ],
            [
             1,
             "#276419"
            ]
           ],
           "sequential": [
            [
             0,
             "#0d0887"
            ],
            [
             0.1111111111111111,
             "#46039f"
            ],
            [
             0.2222222222222222,
             "#7201a8"
            ],
            [
             0.3333333333333333,
             "#9c179e"
            ],
            [
             0.4444444444444444,
             "#bd3786"
            ],
            [
             0.5555555555555556,
             "#d8576b"
            ],
            [
             0.6666666666666666,
             "#ed7953"
            ],
            [
             0.7777777777777778,
             "#fb9f3a"
            ],
            [
             0.8888888888888888,
             "#fdca26"
            ],
            [
             1,
             "#f0f921"
            ]
           ],
           "sequentialminus": [
            [
             0,
             "#0d0887"
            ],
            [
             0.1111111111111111,
             "#46039f"
            ],
            [
             0.2222222222222222,
             "#7201a8"
            ],
            [
             0.3333333333333333,
             "#9c179e"
            ],
            [
             0.4444444444444444,
             "#bd3786"
            ],
            [
             0.5555555555555556,
             "#d8576b"
            ],
            [
             0.6666666666666666,
             "#ed7953"
            ],
            [
             0.7777777777777778,
             "#fb9f3a"
            ],
            [
             0.8888888888888888,
             "#fdca26"
            ],
            [
             1,
             "#f0f921"
            ]
           ]
          },
          "colorway": [
           "#636efa",
           "#EF553B",
           "#00cc96",
           "#ab63fa",
           "#FFA15A",
           "#19d3f3",
           "#FF6692",
           "#B6E880",
           "#FF97FF",
           "#FECB52"
          ],
          "font": {
           "color": "#2a3f5f"
          },
          "geo": {
           "bgcolor": "white",
           "lakecolor": "white",
           "landcolor": "#E5ECF6",
           "showlakes": true,
           "showland": true,
           "subunitcolor": "white"
          },
          "hoverlabel": {
           "align": "left"
          },
          "hovermode": "closest",
          "mapbox": {
           "style": "light"
          },
          "paper_bgcolor": "white",
          "plot_bgcolor": "#E5ECF6",
          "polar": {
           "angularaxis": {
            "gridcolor": "white",
            "linecolor": "white",
            "ticks": ""
           },
           "bgcolor": "#E5ECF6",
           "radialaxis": {
            "gridcolor": "white",
            "linecolor": "white",
            "ticks": ""
           }
          },
          "scene": {
           "xaxis": {
            "backgroundcolor": "#E5ECF6",
            "gridcolor": "white",
            "gridwidth": 2,
            "linecolor": "white",
            "showbackground": true,
            "ticks": "",
            "zerolinecolor": "white"
           },
           "yaxis": {
            "backgroundcolor": "#E5ECF6",
            "gridcolor": "white",
            "gridwidth": 2,
            "linecolor": "white",
            "showbackground": true,
            "ticks": "",
            "zerolinecolor": "white"
           },
           "zaxis": {
            "backgroundcolor": "#E5ECF6",
            "gridcolor": "white",
            "gridwidth": 2,
            "linecolor": "white",
            "showbackground": true,
            "ticks": "",
            "zerolinecolor": "white"
           }
          },
          "shapedefaults": {
           "line": {
            "color": "#2a3f5f"
           }
          },
          "ternary": {
           "aaxis": {
            "gridcolor": "white",
            "linecolor": "white",
            "ticks": ""
           },
           "baxis": {
            "gridcolor": "white",
            "linecolor": "white",
            "ticks": ""
           },
           "bgcolor": "#E5ECF6",
           "caxis": {
            "gridcolor": "white",
            "linecolor": "white",
            "ticks": ""
           }
          },
          "title": {
           "x": 0.05
          },
          "xaxis": {
           "automargin": true,
           "gridcolor": "white",
           "linecolor": "white",
           "ticks": "",
           "title": {
            "standoff": 15
           },
           "zerolinecolor": "white",
           "zerolinewidth": 2
          },
          "yaxis": {
           "automargin": true,
           "gridcolor": "white",
           "linecolor": "white",
           "ticks": "",
           "title": {
            "standoff": 15
           },
           "zerolinecolor": "white",
           "zerolinewidth": 2
          }
         }
        }
       }
      }
     },
     "metadata": {},
     "output_type": "display_data"
    }
   ],
   "source": [
    "grid_x, grid_y, grid_z, U1, V1, W1 = sample_vector_field(grid_x=grid_x, grid_y=grid_y, grid_z=grid_z,\n",
    "                                                         kernel_func = 'curl_free_kernel')\n",
    "plotter.plotter(grid_x, grid_y, grid_z, U1, V1, W1)"
   ]
  },
  {
   "cell_type": "markdown",
   "metadata": {},
   "source": [
    "## Updates given measurements "
   ]
  },
  {
   "cell_type": "markdown",
   "metadata": {},
   "source": [
    "This is a 2 step process. To start, we make a function which can take in all of these vector fields, and return some selection of points. Following this sampling, we will feed this to our GP and see what happens.\n"
   ]
  },
  {
   "cell_type": "markdown",
   "metadata": {},
   "source": [
    "### Generating samples"
   ]
  },
  {
   "cell_type": "code",
   "execution_count": 12,
   "metadata": {},
   "outputs": [],
   "source": [
    "def sample_field(x, y, z, Bx, By, Bz, n_samples: int, random_seed: int = 0):\n",
    "    '''\n",
    "    Helper function to use to get random points from earlier fields. Samples n points from the given field data. \n",
    "\n",
    "    Args:\n",
    "        x, y, z (np.ndarray): Meshgrid coordinates.\n",
    "        Bx, By, Bz (np.ndarray): Magnetic field components.\n",
    "        n_samples (int): Number of points to sample.\n",
    "\n",
    "    Returns:\n",
    "        Tuple of sampled coordinates and field components.\n",
    "    '''\n",
    "    np.random.seed(random_seed)\n",
    "    \n",
    "    resolution = x.shape[0]\n",
    "    indices = np.random.choice(resolution * resolution * resolution, size=n_samples, replace=False)\n",
    "    \n",
    "    x_samples = x.flatten()[indices]\n",
    "    y_samples = y.flatten()[indices]\n",
    "    z_samples = z.flatten()[indices]\n",
    "    Bx_samples = Bx.flatten()[indices]\n",
    "    By_samples = By.flatten()[indices]\n",
    "    Bz_samples = Bz.flatten()[indices]\n",
    "    \n",
    "    return x_samples, y_samples, z_samples, Bx_samples, By_samples, Bz_samples"
   ]
  },
  {
   "cell_type": "code",
   "execution_count": 27,
   "metadata": {},
   "outputs": [
    {
     "data": {
      "application/vnd.plotly.v1+json": {
       "config": {
        "plotlyServerURL": "https://plot.ly"
       },
       "data": [
        {
         "anchor": "tail",
         "sizemode": "scaled",
         "sizeref": 2,
         "type": "cone",
         "u": {
          "bdata": "dLJecC32M8AA/6i0jh9JwICC5ANi8TBAYj3Qpbk0ZsAxytkvoaY/wLa3AQdKfz7AtLcBB0p/PkDPfTX9MGBKQNZKrHxB8SdAgYLkA2LxMMDJWpWsaoQRQGI90KW5NGbAoXeIy99COMDPfTX9MGBKQOjWwj22lCvAIAYoAvi0Q0B0sl5wLfYzwCS6Eqic+0BAirw6gQXfOEC2twEHSn8+QCA4gR3x9EFAA0gK81m2HECJt4DdPpEyQIm3gN0+kTJAsTN4CJSnOcChd4jL30I4wCAGKAL4tENAwFnYuSBYM0DTfTX9MGBKwHSyXnAt9jNAI7oSqJz7QMChd4jL30I4wIm3gN0+kTLAgILkA2LxMMDDWpWsaoQRQM99Nf0wYErAIAYoAvi0Q8ALMWtcrdtNQIq8OoEF3zjA0H01/TBgSkDPfTX9MGBKQHSyXnAt9jPABTFrXK3bTcDUSqx8QfEnwEzGmebxPFFAoXeIy99COMCwM3gIlKc5wAD/qLSOH0lAibeA3T6RMkADSArzWbYcwAgxa1yt201AgILkA2LxMEDQfTX9MGBKQFmfBK+Y40FAzIBrAnSpRcADSArzWbYcwAFt5jf48UFAAW3mN/jxQUCLvDqBBd84wIm3gN0+kTJA",
          "dtype": "f8"
         },
         "v": {
          "bdata": "dLJecC32M0AKSArzWbYcQLS3AQdKfz5AYj3Qpbk0ZkDTfTX9MGBKQIGC5ANi8TBAf4LkA2LxMMAoytkvoaY/wCA4gR3x9EHAtrcBB0p/PsAgBigC+LRDQGI90KW5NGZAJboSqJz7QEAoytkvoaY/wE3GmebxPFFAylqVrGqEEUBzsl5wLfYzwJ93iMvfQjhAwlnYuSBYM8CBguQDYvEwQNhKrHxB8SfAAP+otI4fSUDKgGsCdKlFwMqAawJ0qUXAsTN4CJSnOUAluhKonPtAQMRalaxqhBHAjLw6gQXfOMAvytkvoaY/QHOyXnAt9jPApHeIy99COMAkuhKonPtAwMqAawJ0qUXAtrcBB0p/PkAgBigC+LRDwDPK2S+hpj/AylqVrGqEEUAHMWtcrdtNQMJZ2LkgWDPALMrZL6GmP0AoytkvoaY/wHSyXnAt9jNADDFrXK3bTcAgOIEd8fRBQN3Wwj22lCtAJboSqJz7QECvM3gIlKc5wAFICvNZthzAyoBrAnSpRcAA/6i0jh9JQAcxa1yt203AtLcBB0p/PkAsytkvoaY/QATvhgZl1VrAireA3T6RMkAA/6i0jh9JQP9s5jf48UFA/2zmN/jxQUDAWdi5IFgzQMqAawJ0qUXA",
          "dtype": "f8"
         },
         "w": {
          "bdata": "AAAAAAAAAAAAAAAAAAAAAAAAAAAAAAAAAAAAAAAAAAAAAAAAAAAAAAAAAAAAAAAAAAAAAAAAAAAAAAAAAAAAAAAAAAAAAAAAAAAAAAAAAAAAAAAAAAAAAAAAAAAAAAAAAAAAAAAAAAAAAAAAAAAAAAAAAAAAAAAAAAAAAAAAAAAAAAAAAAAAAAAAAAAAAAAAAAAAAAAAAAAAAAAAAAAAAAAAAAAAAAAAAAAAAAAAAAAAAAAAAAAAAAAAAAAAAAAAAAAAAAAAAAAAAAAAAAAAAAAAAAAAAAAAAAAAAAAAAAAAAAAAAAAAAAAAAAAAAAAAAAAAAAAAAAAAAAAAAAAAAAAAAAAAAAAAAAAAAAAAAAAAAAAAAAAAAAAAAAAAAAAAAAAAAAAAAAAAAAAAAAAAAAAAAAAAAAAAAAAAAAAAAAAAAAAAAAAAAAAAAAAAAAAAAAAAAAAAAAAAAAAAAAAAAAAAAAAAAAAAAAAAAAAAAAAAAAAAAAAAAAAAAAAAAAAAAAAAAAAAAAAAAAAAAAAAAAAAAAAAAAAAAAAAAAAAAAAAAAAAAAAAAAAAAAAAAAAAAAAAAAAAAAAAAAAAAAAAAAAAAAAAAAAAAAAAAAAAAAAAAAAAAAAAAAAAAAAAAAAA",
          "dtype": "f8"
         },
         "x": {
          "bdata": "AAAAAAAA4D8gx3Ecx3GsPwAAAAAAAOA/IMdxHMdxrD9wHMdxHMfRP3Acx3Ecx9E/chzHcRzH0b9WVVVVVVXFvwAAAAAAAOC/AAAAAAAA4L8AAAAAAADgPyDHcRzHcaw/OI7jOI7j2D9WVVVVVVXFv3Acx3Ecx9E/IMdxHMdxrD8AAAAAAADgv3Acx3Ecx9E/OY7jOI7j2L9wHMdxHMfRP1ZVVVVVVcW/OI7jOI7j2D85juM4juPYvzmO4ziO49i/OI7jOI7j2D84juM4juPYPyDHcRzHcay/AAAAAAAA4L9UVVVVVVXFPwAAAAAAAOC/chzHcRzH0b85juM4juPYvzmO4ziO49i/AAAAAAAA4D8AAAAAAADgv1ZVVVVVVcW/IMdxHMdxrD9UVVVVVVXFPzmO4ziO49i/VFVVVVVVxT9WVVVVVVXFvwAAAAAAAOA/VlVVVVVVxb8AAAAAAADgPyDHcRzHcaw/OI7jOI7j2D85juM4juPYvyDHcRzHcay/OY7jOI7j2L84juM4juPYP1ZVVVVVVcW/AAAAAAAA4D9UVVVVVVXFP1ZVVVVVVcW/VFVVVVVVxT84juM4juPYP3Acx3Ecx9E/cBzHcRzH0T84juM4juPYPzmO4ziO49i/",
          "dtype": "f8"
         },
         "y": {
          "bdata": "AAAAAAAA4D84juM4juPYP3Icx3Ecx9G/IMdxHMdxrD9UVVVVVVXFPwAAAAAAAOA/AAAAAAAA4L9yHMdxHMfRv1ZVVVVVVcW/cBzHcRzH0T8gx3Ecx3GsvyDHcRzHcaw/cBzHcRzH0T9yHMdxHMfRvyDHcRzHcaw/AAAAAAAA4L8AAAAAAADgPzmO4ziO49i/AAAAAAAA4L8AAAAAAADgvwAAAAAAAOC/IMdxHMdxrL9WVVVVVVXFv1ZVVVVVVcW/OI7jOI7j2D9wHMdxHMfRPwAAAAAAAOC/OY7jOI7j2L9wHMdxHMfRPwAAAAAAAOC/OI7jOI7j2D9wHMdxHMfRP1RVVVVVVcU/cBzHcRzH0T8gx3Ecx3Gsv3Acx3Ecx9E/AAAAAAAA4D9WVVVVVVXFvwAAAAAAAOA/chzHcRzH0b9yHMdxHMfRvwAAAAAAAOA/VFVVVVVVxT9UVVVVVVXFP3Icx3Ecx9G/cBzHcRzH0T84juM4juPYPzmO4ziO49i/VlVVVVVVxb8gx3Ecx3GsP1ZVVVVVVcW/chzHcRzH0b9yHMdxHMfRvyDHcRzHcay/OI7jOI7j2D8gx3Ecx3GsP3Icx3Ecx9G/chzHcRzH0b8AAAAAAADgP1ZVVVVVVcW/",
          "dtype": "f8"
         },
         "z": {
          "bdata": "VlVVVVVVxb8AAAAAAADgPziO4ziO49g/VlVVVVVVxb9yHMdxHMfRvzmO4ziO49i/cBzHcRzH0T85juM4juPYv1RVVVVVVcU/VFVVVVVVxT9UVVVVVVXFPziO4ziO49g/IMdxHMdxrL8AAAAAAADgPziO4ziO49g/IMdxHMdxrD9UVVVVVVXFPyDHcRzHcaw/IMdxHMdxrL9wHMdxHMfRPzmO4ziO49i/OY7jOI7j2L8AAAAAAADgvzmO4ziO49i/VlVVVVVVxb84juM4juPYPyDHcRzHcaw/VlVVVVVVxb8AAAAAAADgvzmO4ziO49i/VlVVVVVVxb8AAAAAAADgvyDHcRzHcay/AAAAAAAA4L84juM4juPYP1RVVVVVVcU/cBzHcRzH0T9UVVVVVVXFPziO4ziO49g/cBzHcRzH0T8AAAAAAADgv1RVVVVVVcU/IMdxHMdxrD84juM4juPYPzmO4ziO49i/VlVVVVVVxb8AAAAAAADgPzmO4ziO49i/VFVVVVVVxT9wHMdxHMfRPzmO4ziO49i/IMdxHMdxrD9yHMdxHMfRv3Icx3Ecx9G/chzHcRzH0b9yHMdxHMfRv3Icx3Ecx9G/AAAAAAAA4L9wHMdxHMfRPwAAAAAAAOA/",
          "dtype": "f8"
         }
        }
       ],
       "layout": {
        "scene": {
         "xaxis": {
          "title": {
           "text": "X"
          }
         },
         "yaxis": {
          "title": {
           "text": "Y"
          }
         },
         "zaxis": {
          "title": {
           "text": "Z"
          }
         }
        },
        "template": {
         "data": {
          "bar": [
           {
            "error_x": {
             "color": "#2a3f5f"
            },
            "error_y": {
             "color": "#2a3f5f"
            },
            "marker": {
             "line": {
              "color": "#E5ECF6",
              "width": 0.5
             },
             "pattern": {
              "fillmode": "overlay",
              "size": 10,
              "solidity": 0.2
             }
            },
            "type": "bar"
           }
          ],
          "barpolar": [
           {
            "marker": {
             "line": {
              "color": "#E5ECF6",
              "width": 0.5
             },
             "pattern": {
              "fillmode": "overlay",
              "size": 10,
              "solidity": 0.2
             }
            },
            "type": "barpolar"
           }
          ],
          "carpet": [
           {
            "aaxis": {
             "endlinecolor": "#2a3f5f",
             "gridcolor": "white",
             "linecolor": "white",
             "minorgridcolor": "white",
             "startlinecolor": "#2a3f5f"
            },
            "baxis": {
             "endlinecolor": "#2a3f5f",
             "gridcolor": "white",
             "linecolor": "white",
             "minorgridcolor": "white",
             "startlinecolor": "#2a3f5f"
            },
            "type": "carpet"
           }
          ],
          "choropleth": [
           {
            "colorbar": {
             "outlinewidth": 0,
             "ticks": ""
            },
            "type": "choropleth"
           }
          ],
          "contour": [
           {
            "colorbar": {
             "outlinewidth": 0,
             "ticks": ""
            },
            "colorscale": [
             [
              0,
              "#0d0887"
             ],
             [
              0.1111111111111111,
              "#46039f"
             ],
             [
              0.2222222222222222,
              "#7201a8"
             ],
             [
              0.3333333333333333,
              "#9c179e"
             ],
             [
              0.4444444444444444,
              "#bd3786"
             ],
             [
              0.5555555555555556,
              "#d8576b"
             ],
             [
              0.6666666666666666,
              "#ed7953"
             ],
             [
              0.7777777777777778,
              "#fb9f3a"
             ],
             [
              0.8888888888888888,
              "#fdca26"
             ],
             [
              1,
              "#f0f921"
             ]
            ],
            "type": "contour"
           }
          ],
          "contourcarpet": [
           {
            "colorbar": {
             "outlinewidth": 0,
             "ticks": ""
            },
            "type": "contourcarpet"
           }
          ],
          "heatmap": [
           {
            "colorbar": {
             "outlinewidth": 0,
             "ticks": ""
            },
            "colorscale": [
             [
              0,
              "#0d0887"
             ],
             [
              0.1111111111111111,
              "#46039f"
             ],
             [
              0.2222222222222222,
              "#7201a8"
             ],
             [
              0.3333333333333333,
              "#9c179e"
             ],
             [
              0.4444444444444444,
              "#bd3786"
             ],
             [
              0.5555555555555556,
              "#d8576b"
             ],
             [
              0.6666666666666666,
              "#ed7953"
             ],
             [
              0.7777777777777778,
              "#fb9f3a"
             ],
             [
              0.8888888888888888,
              "#fdca26"
             ],
             [
              1,
              "#f0f921"
             ]
            ],
            "type": "heatmap"
           }
          ],
          "histogram": [
           {
            "marker": {
             "pattern": {
              "fillmode": "overlay",
              "size": 10,
              "solidity": 0.2
             }
            },
            "type": "histogram"
           }
          ],
          "histogram2d": [
           {
            "colorbar": {
             "outlinewidth": 0,
             "ticks": ""
            },
            "colorscale": [
             [
              0,
              "#0d0887"
             ],
             [
              0.1111111111111111,
              "#46039f"
             ],
             [
              0.2222222222222222,
              "#7201a8"
             ],
             [
              0.3333333333333333,
              "#9c179e"
             ],
             [
              0.4444444444444444,
              "#bd3786"
             ],
             [
              0.5555555555555556,
              "#d8576b"
             ],
             [
              0.6666666666666666,
              "#ed7953"
             ],
             [
              0.7777777777777778,
              "#fb9f3a"
             ],
             [
              0.8888888888888888,
              "#fdca26"
             ],
             [
              1,
              "#f0f921"
             ]
            ],
            "type": "histogram2d"
           }
          ],
          "histogram2dcontour": [
           {
            "colorbar": {
             "outlinewidth": 0,
             "ticks": ""
            },
            "colorscale": [
             [
              0,
              "#0d0887"
             ],
             [
              0.1111111111111111,
              "#46039f"
             ],
             [
              0.2222222222222222,
              "#7201a8"
             ],
             [
              0.3333333333333333,
              "#9c179e"
             ],
             [
              0.4444444444444444,
              "#bd3786"
             ],
             [
              0.5555555555555556,
              "#d8576b"
             ],
             [
              0.6666666666666666,
              "#ed7953"
             ],
             [
              0.7777777777777778,
              "#fb9f3a"
             ],
             [
              0.8888888888888888,
              "#fdca26"
             ],
             [
              1,
              "#f0f921"
             ]
            ],
            "type": "histogram2dcontour"
           }
          ],
          "mesh3d": [
           {
            "colorbar": {
             "outlinewidth": 0,
             "ticks": ""
            },
            "type": "mesh3d"
           }
          ],
          "parcoords": [
           {
            "line": {
             "colorbar": {
              "outlinewidth": 0,
              "ticks": ""
             }
            },
            "type": "parcoords"
           }
          ],
          "pie": [
           {
            "automargin": true,
            "type": "pie"
           }
          ],
          "scatter": [
           {
            "fillpattern": {
             "fillmode": "overlay",
             "size": 10,
             "solidity": 0.2
            },
            "type": "scatter"
           }
          ],
          "scatter3d": [
           {
            "line": {
             "colorbar": {
              "outlinewidth": 0,
              "ticks": ""
             }
            },
            "marker": {
             "colorbar": {
              "outlinewidth": 0,
              "ticks": ""
             }
            },
            "type": "scatter3d"
           }
          ],
          "scattercarpet": [
           {
            "marker": {
             "colorbar": {
              "outlinewidth": 0,
              "ticks": ""
             }
            },
            "type": "scattercarpet"
           }
          ],
          "scattergeo": [
           {
            "marker": {
             "colorbar": {
              "outlinewidth": 0,
              "ticks": ""
             }
            },
            "type": "scattergeo"
           }
          ],
          "scattergl": [
           {
            "marker": {
             "colorbar": {
              "outlinewidth": 0,
              "ticks": ""
             }
            },
            "type": "scattergl"
           }
          ],
          "scattermap": [
           {
            "marker": {
             "colorbar": {
              "outlinewidth": 0,
              "ticks": ""
             }
            },
            "type": "scattermap"
           }
          ],
          "scattermapbox": [
           {
            "marker": {
             "colorbar": {
              "outlinewidth": 0,
              "ticks": ""
             }
            },
            "type": "scattermapbox"
           }
          ],
          "scatterpolar": [
           {
            "marker": {
             "colorbar": {
              "outlinewidth": 0,
              "ticks": ""
             }
            },
            "type": "scatterpolar"
           }
          ],
          "scatterpolargl": [
           {
            "marker": {
             "colorbar": {
              "outlinewidth": 0,
              "ticks": ""
             }
            },
            "type": "scatterpolargl"
           }
          ],
          "scatterternary": [
           {
            "marker": {
             "colorbar": {
              "outlinewidth": 0,
              "ticks": ""
             }
            },
            "type": "scatterternary"
           }
          ],
          "surface": [
           {
            "colorbar": {
             "outlinewidth": 0,
             "ticks": ""
            },
            "colorscale": [
             [
              0,
              "#0d0887"
             ],
             [
              0.1111111111111111,
              "#46039f"
             ],
             [
              0.2222222222222222,
              "#7201a8"
             ],
             [
              0.3333333333333333,
              "#9c179e"
             ],
             [
              0.4444444444444444,
              "#bd3786"
             ],
             [
              0.5555555555555556,
              "#d8576b"
             ],
             [
              0.6666666666666666,
              "#ed7953"
             ],
             [
              0.7777777777777778,
              "#fb9f3a"
             ],
             [
              0.8888888888888888,
              "#fdca26"
             ],
             [
              1,
              "#f0f921"
             ]
            ],
            "type": "surface"
           }
          ],
          "table": [
           {
            "cells": {
             "fill": {
              "color": "#EBF0F8"
             },
             "line": {
              "color": "white"
             }
            },
            "header": {
             "fill": {
              "color": "#C8D4E3"
             },
             "line": {
              "color": "white"
             }
            },
            "type": "table"
           }
          ]
         },
         "layout": {
          "annotationdefaults": {
           "arrowcolor": "#2a3f5f",
           "arrowhead": 0,
           "arrowwidth": 1
          },
          "autotypenumbers": "strict",
          "coloraxis": {
           "colorbar": {
            "outlinewidth": 0,
            "ticks": ""
           }
          },
          "colorscale": {
           "diverging": [
            [
             0,
             "#8e0152"
            ],
            [
             0.1,
             "#c51b7d"
            ],
            [
             0.2,
             "#de77ae"
            ],
            [
             0.3,
             "#f1b6da"
            ],
            [
             0.4,
             "#fde0ef"
            ],
            [
             0.5,
             "#f7f7f7"
            ],
            [
             0.6,
             "#e6f5d0"
            ],
            [
             0.7,
             "#b8e186"
            ],
            [
             0.8,
             "#7fbc41"
            ],
            [
             0.9,
             "#4d9221"
            ],
            [
             1,
             "#276419"
            ]
           ],
           "sequential": [
            [
             0,
             "#0d0887"
            ],
            [
             0.1111111111111111,
             "#46039f"
            ],
            [
             0.2222222222222222,
             "#7201a8"
            ],
            [
             0.3333333333333333,
             "#9c179e"
            ],
            [
             0.4444444444444444,
             "#bd3786"
            ],
            [
             0.5555555555555556,
             "#d8576b"
            ],
            [
             0.6666666666666666,
             "#ed7953"
            ],
            [
             0.7777777777777778,
             "#fb9f3a"
            ],
            [
             0.8888888888888888,
             "#fdca26"
            ],
            [
             1,
             "#f0f921"
            ]
           ],
           "sequentialminus": [
            [
             0,
             "#0d0887"
            ],
            [
             0.1111111111111111,
             "#46039f"
            ],
            [
             0.2222222222222222,
             "#7201a8"
            ],
            [
             0.3333333333333333,
             "#9c179e"
            ],
            [
             0.4444444444444444,
             "#bd3786"
            ],
            [
             0.5555555555555556,
             "#d8576b"
            ],
            [
             0.6666666666666666,
             "#ed7953"
            ],
            [
             0.7777777777777778,
             "#fb9f3a"
            ],
            [
             0.8888888888888888,
             "#fdca26"
            ],
            [
             1,
             "#f0f921"
            ]
           ]
          },
          "colorway": [
           "#636efa",
           "#EF553B",
           "#00cc96",
           "#ab63fa",
           "#FFA15A",
           "#19d3f3",
           "#FF6692",
           "#B6E880",
           "#FF97FF",
           "#FECB52"
          ],
          "font": {
           "color": "#2a3f5f"
          },
          "geo": {
           "bgcolor": "white",
           "lakecolor": "white",
           "landcolor": "#E5ECF6",
           "showlakes": true,
           "showland": true,
           "subunitcolor": "white"
          },
          "hoverlabel": {
           "align": "left"
          },
          "hovermode": "closest",
          "mapbox": {
           "style": "light"
          },
          "paper_bgcolor": "white",
          "plot_bgcolor": "#E5ECF6",
          "polar": {
           "angularaxis": {
            "gridcolor": "white",
            "linecolor": "white",
            "ticks": ""
           },
           "bgcolor": "#E5ECF6",
           "radialaxis": {
            "gridcolor": "white",
            "linecolor": "white",
            "ticks": ""
           }
          },
          "scene": {
           "xaxis": {
            "backgroundcolor": "#E5ECF6",
            "gridcolor": "white",
            "gridwidth": 2,
            "linecolor": "white",
            "showbackground": true,
            "ticks": "",
            "zerolinecolor": "white"
           },
           "yaxis": {
            "backgroundcolor": "#E5ECF6",
            "gridcolor": "white",
            "gridwidth": 2,
            "linecolor": "white",
            "showbackground": true,
            "ticks": "",
            "zerolinecolor": "white"
           },
           "zaxis": {
            "backgroundcolor": "#E5ECF6",
            "gridcolor": "white",
            "gridwidth": 2,
            "linecolor": "white",
            "showbackground": true,
            "ticks": "",
            "zerolinecolor": "white"
           }
          },
          "shapedefaults": {
           "line": {
            "color": "#2a3f5f"
           }
          },
          "ternary": {
           "aaxis": {
            "gridcolor": "white",
            "linecolor": "white",
            "ticks": ""
           },
           "baxis": {
            "gridcolor": "white",
            "linecolor": "white",
            "ticks": ""
           },
           "bgcolor": "#E5ECF6",
           "caxis": {
            "gridcolor": "white",
            "linecolor": "white",
            "ticks": ""
           }
          },
          "title": {
           "x": 0.05
          },
          "xaxis": {
           "automargin": true,
           "gridcolor": "white",
           "linecolor": "white",
           "ticks": "",
           "title": {
            "standoff": 15
           },
           "zerolinecolor": "white",
           "zerolinewidth": 2
          },
          "yaxis": {
           "automargin": true,
           "gridcolor": "white",
           "linecolor": "white",
           "ticks": "",
           "title": {
            "standoff": 15
           },
           "zerolinecolor": "white",
           "zerolinewidth": 2
          }
         }
        }
       }
      }
     },
     "metadata": {},
     "output_type": "display_data"
    }
   ],
   "source": [
    "x_samples_wire, y_samples_wire, z_samples_wire, Bx_samples_wire, By_samples_wire, Bz_samples_wire = sample_field(\n",
    "    x_wire, y_wire, z_wire, fields_x_wire, fields_y_wire, fields_z_wire, n_samples=60\n",
    ")\n",
    "plotter.plotter(x_samples_wire, y_samples_wire, z_samples_wire, Bx_samples_wire, By_samples_wire, Bz_samples_wire)"
   ]
  },
  {
   "cell_type": "code",
   "execution_count": 14,
   "metadata": {},
   "outputs": [
    {
     "data": {
      "application/vnd.plotly.v1+json": {
       "config": {
        "plotlyServerURL": "https://plot.ly"
       },
       "data": [
        {
         "anchor": "tail",
         "sizemode": "scaled",
         "sizeref": 2,
         "type": "cone",
         "u": {
          "bdata": "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",
          "dtype": "f8"
         },
         "v": {
          "bdata": "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",
          "dtype": "f8"
         },
         "w": {
          "bdata": "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",
          "dtype": "f8"
         },
         "x": {
          "bdata": "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",
          "dtype": "f8"
         },
         "y": {
          "bdata": "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",
          "dtype": "f8"
         },
         "z": {
          "bdata": "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",
          "dtype": "f8"
         }
        }
       ],
       "layout": {
        "scene": {
         "xaxis": {
          "title": {
           "text": "X"
          }
         },
         "yaxis": {
          "title": {
           "text": "Y"
          }
         },
         "zaxis": {
          "title": {
           "text": "Z"
          }
         }
        },
        "template": {
         "data": {
          "bar": [
           {
            "error_x": {
             "color": "#2a3f5f"
            },
            "error_y": {
             "color": "#2a3f5f"
            },
            "marker": {
             "line": {
              "color": "#E5ECF6",
              "width": 0.5
             },
             "pattern": {
              "fillmode": "overlay",
              "size": 10,
              "solidity": 0.2
             }
            },
            "type": "bar"
           }
          ],
          "barpolar": [
           {
            "marker": {
             "line": {
              "color": "#E5ECF6",
              "width": 0.5
             },
             "pattern": {
              "fillmode": "overlay",
              "size": 10,
              "solidity": 0.2
             }
            },
            "type": "barpolar"
           }
          ],
          "carpet": [
           {
            "aaxis": {
             "endlinecolor": "#2a3f5f",
             "gridcolor": "white",
             "linecolor": "white",
             "minorgridcolor": "white",
             "startlinecolor": "#2a3f5f"
            },
            "baxis": {
             "endlinecolor": "#2a3f5f",
             "gridcolor": "white",
             "linecolor": "white",
             "minorgridcolor": "white",
             "startlinecolor": "#2a3f5f"
            },
            "type": "carpet"
           }
          ],
          "choropleth": [
           {
            "colorbar": {
             "outlinewidth": 0,
             "ticks": ""
            },
            "type": "choropleth"
           }
          ],
          "contour": [
           {
            "colorbar": {
             "outlinewidth": 0,
             "ticks": ""
            },
            "colorscale": [
             [
              0,
              "#0d0887"
             ],
             [
              0.1111111111111111,
              "#46039f"
             ],
             [
              0.2222222222222222,
              "#7201a8"
             ],
             [
              0.3333333333333333,
              "#9c179e"
             ],
             [
              0.4444444444444444,
              "#bd3786"
             ],
             [
              0.5555555555555556,
              "#d8576b"
             ],
             [
              0.6666666666666666,
              "#ed7953"
             ],
             [
              0.7777777777777778,
              "#fb9f3a"
             ],
             [
              0.8888888888888888,
              "#fdca26"
             ],
             [
              1,
              "#f0f921"
             ]
            ],
            "type": "contour"
           }
          ],
          "contourcarpet": [
           {
            "colorbar": {
             "outlinewidth": 0,
             "ticks": ""
            },
            "type": "contourcarpet"
           }
          ],
          "heatmap": [
           {
            "colorbar": {
             "outlinewidth": 0,
             "ticks": ""
            },
            "colorscale": [
             [
              0,
              "#0d0887"
             ],
             [
              0.1111111111111111,
              "#46039f"
             ],
             [
              0.2222222222222222,
              "#7201a8"
             ],
             [
              0.3333333333333333,
              "#9c179e"
             ],
             [
              0.4444444444444444,
              "#bd3786"
             ],
             [
              0.5555555555555556,
              "#d8576b"
             ],
             [
              0.6666666666666666,
              "#ed7953"
             ],
             [
              0.7777777777777778,
              "#fb9f3a"
             ],
             [
              0.8888888888888888,
              "#fdca26"
             ],
             [
              1,
              "#f0f921"
             ]
            ],
            "type": "heatmap"
           }
          ],
          "histogram": [
           {
            "marker": {
             "pattern": {
              "fillmode": "overlay",
              "size": 10,
              "solidity": 0.2
             }
            },
            "type": "histogram"
           }
          ],
          "histogram2d": [
           {
            "colorbar": {
             "outlinewidth": 0,
             "ticks": ""
            },
            "colorscale": [
             [
              0,
              "#0d0887"
             ],
             [
              0.1111111111111111,
              "#46039f"
             ],
             [
              0.2222222222222222,
              "#7201a8"
             ],
             [
              0.3333333333333333,
              "#9c179e"
             ],
             [
              0.4444444444444444,
              "#bd3786"
             ],
             [
              0.5555555555555556,
              "#d8576b"
             ],
             [
              0.6666666666666666,
              "#ed7953"
             ],
             [
              0.7777777777777778,
              "#fb9f3a"
             ],
             [
              0.8888888888888888,
              "#fdca26"
             ],
             [
              1,
              "#f0f921"
             ]
            ],
            "type": "histogram2d"
           }
          ],
          "histogram2dcontour": [
           {
            "colorbar": {
             "outlinewidth": 0,
             "ticks": ""
            },
            "colorscale": [
             [
              0,
              "#0d0887"
             ],
             [
              0.1111111111111111,
              "#46039f"
             ],
             [
              0.2222222222222222,
              "#7201a8"
             ],
             [
              0.3333333333333333,
              "#9c179e"
             ],
             [
              0.4444444444444444,
              "#bd3786"
             ],
             [
              0.5555555555555556,
              "#d8576b"
             ],
             [
              0.6666666666666666,
              "#ed7953"
             ],
             [
              0.7777777777777778,
              "#fb9f3a"
             ],
             [
              0.8888888888888888,
              "#fdca26"
             ],
             [
              1,
              "#f0f921"
             ]
            ],
            "type": "histogram2dcontour"
           }
          ],
          "mesh3d": [
           {
            "colorbar": {
             "outlinewidth": 0,
             "ticks": ""
            },
            "type": "mesh3d"
           }
          ],
          "parcoords": [
           {
            "line": {
             "colorbar": {
              "outlinewidth": 0,
              "ticks": ""
             }
            },
            "type": "parcoords"
           }
          ],
          "pie": [
           {
            "automargin": true,
            "type": "pie"
           }
          ],
          "scatter": [
           {
            "fillpattern": {
             "fillmode": "overlay",
             "size": 10,
             "solidity": 0.2
            },
            "type": "scatter"
           }
          ],
          "scatter3d": [
           {
            "line": {
             "colorbar": {
              "outlinewidth": 0,
              "ticks": ""
             }
            },
            "marker": {
             "colorbar": {
              "outlinewidth": 0,
              "ticks": ""
             }
            },
            "type": "scatter3d"
           }
          ],
          "scattercarpet": [
           {
            "marker": {
             "colorbar": {
              "outlinewidth": 0,
              "ticks": ""
             }
            },
            "type": "scattercarpet"
           }
          ],
          "scattergeo": [
           {
            "marker": {
             "colorbar": {
              "outlinewidth": 0,
              "ticks": ""
             }
            },
            "type": "scattergeo"
           }
          ],
          "scattergl": [
           {
            "marker": {
             "colorbar": {
              "outlinewidth": 0,
              "ticks": ""
             }
            },
            "type": "scattergl"
           }
          ],
          "scattermap": [
           {
            "marker": {
             "colorbar": {
              "outlinewidth": 0,
              "ticks": ""
             }
            },
            "type": "scattermap"
           }
          ],
          "scattermapbox": [
           {
            "marker": {
             "colorbar": {
              "outlinewidth": 0,
              "ticks": ""
             }
            },
            "type": "scattermapbox"
           }
          ],
          "scatterpolar": [
           {
            "marker": {
             "colorbar": {
              "outlinewidth": 0,
              "ticks": ""
             }
            },
            "type": "scatterpolar"
           }
          ],
          "scatterpolargl": [
           {
            "marker": {
             "colorbar": {
              "outlinewidth": 0,
              "ticks": ""
             }
            },
            "type": "scatterpolargl"
           }
          ],
          "scatterternary": [
           {
            "marker": {
             "colorbar": {
              "outlinewidth": 0,
              "ticks": ""
             }
            },
            "type": "scatterternary"
           }
          ],
          "surface": [
           {
            "colorbar": {
             "outlinewidth": 0,
             "ticks": ""
            },
            "colorscale": [
             [
              0,
              "#0d0887"
             ],
             [
              0.1111111111111111,
              "#46039f"
             ],
             [
              0.2222222222222222,
              "#7201a8"
             ],
             [
              0.3333333333333333,
              "#9c179e"
             ],
             [
              0.4444444444444444,
              "#bd3786"
             ],
             [
              0.5555555555555556,
              "#d8576b"
             ],
             [
              0.6666666666666666,
              "#ed7953"
             ],
             [
              0.7777777777777778,
              "#fb9f3a"
             ],
             [
              0.8888888888888888,
              "#fdca26"
             ],
             [
              1,
              "#f0f921"
             ]
            ],
            "type": "surface"
           }
          ],
          "table": [
           {
            "cells": {
             "fill": {
              "color": "#EBF0F8"
             },
             "line": {
              "color": "white"
             }
            },
            "header": {
             "fill": {
              "color": "#C8D4E3"
             },
             "line": {
              "color": "white"
             }
            },
            "type": "table"
           }
          ]
         },
         "layout": {
          "annotationdefaults": {
           "arrowcolor": "#2a3f5f",
           "arrowhead": 0,
           "arrowwidth": 1
          },
          "autotypenumbers": "strict",
          "coloraxis": {
           "colorbar": {
            "outlinewidth": 0,
            "ticks": ""
           }
          },
          "colorscale": {
           "diverging": [
            [
             0,
             "#8e0152"
            ],
            [
             0.1,
             "#c51b7d"
            ],
            [
             0.2,
             "#de77ae"
            ],
            [
             0.3,
             "#f1b6da"
            ],
            [
             0.4,
             "#fde0ef"
            ],
            [
             0.5,
             "#f7f7f7"
            ],
            [
             0.6,
             "#e6f5d0"
            ],
            [
             0.7,
             "#b8e186"
            ],
            [
             0.8,
             "#7fbc41"
            ],
            [
             0.9,
             "#4d9221"
            ],
            [
             1,
             "#276419"
            ]
           ],
           "sequential": [
            [
             0,
             "#0d0887"
            ],
            [
             0.1111111111111111,
             "#46039f"
            ],
            [
             0.2222222222222222,
             "#7201a8"
            ],
            [
             0.3333333333333333,
             "#9c179e"
            ],
            [
             0.4444444444444444,
             "#bd3786"
            ],
            [
             0.5555555555555556,
             "#d8576b"
            ],
            [
             0.6666666666666666,
             "#ed7953"
            ],
            [
             0.7777777777777778,
             "#fb9f3a"
            ],
            [
             0.8888888888888888,
             "#fdca26"
            ],
            [
             1,
             "#f0f921"
            ]
           ],
           "sequentialminus": [
            [
             0,
             "#0d0887"
            ],
            [
             0.1111111111111111,
             "#46039f"
            ],
            [
             0.2222222222222222,
             "#7201a8"
            ],
            [
             0.3333333333333333,
             "#9c179e"
            ],
            [
             0.4444444444444444,
             "#bd3786"
            ],
            [
             0.5555555555555556,
             "#d8576b"
            ],
            [
             0.6666666666666666,
             "#ed7953"
            ],
            [
             0.7777777777777778,
             "#fb9f3a"
            ],
            [
             0.8888888888888888,
             "#fdca26"
            ],
            [
             1,
             "#f0f921"
            ]
           ]
          },
          "colorway": [
           "#636efa",
           "#EF553B",
           "#00cc96",
           "#ab63fa",
           "#FFA15A",
           "#19d3f3",
           "#FF6692",
           "#B6E880",
           "#FF97FF",
           "#FECB52"
          ],
          "font": {
           "color": "#2a3f5f"
          },
          "geo": {
           "bgcolor": "white",
           "lakecolor": "white",
           "landcolor": "#E5ECF6",
           "showlakes": true,
           "showland": true,
           "subunitcolor": "white"
          },
          "hoverlabel": {
           "align": "left"
          },
          "hovermode": "closest",
          "mapbox": {
           "style": "light"
          },
          "paper_bgcolor": "white",
          "plot_bgcolor": "#E5ECF6",
          "polar": {
           "angularaxis": {
            "gridcolor": "white",
            "linecolor": "white",
            "ticks": ""
           },
           "bgcolor": "#E5ECF6",
           "radialaxis": {
            "gridcolor": "white",
            "linecolor": "white",
            "ticks": ""
           }
          },
          "scene": {
           "xaxis": {
            "backgroundcolor": "#E5ECF6",
            "gridcolor": "white",
            "gridwidth": 2,
            "linecolor": "white",
            "showbackground": true,
            "ticks": "",
            "zerolinecolor": "white"
           },
           "yaxis": {
            "backgroundcolor": "#E5ECF6",
            "gridcolor": "white",
            "gridwidth": 2,
            "linecolor": "white",
            "showbackground": true,
            "ticks": "",
            "zerolinecolor": "white"
           },
           "zaxis": {
            "backgroundcolor": "#E5ECF6",
            "gridcolor": "white",
            "gridwidth": 2,
            "linecolor": "white",
            "showbackground": true,
            "ticks": "",
            "zerolinecolor": "white"
           }
          },
          "shapedefaults": {
           "line": {
            "color": "#2a3f5f"
           }
          },
          "ternary": {
           "aaxis": {
            "gridcolor": "white",
            "linecolor": "white",
            "ticks": ""
           },
           "baxis": {
            "gridcolor": "white",
            "linecolor": "white",
            "ticks": ""
           },
           "bgcolor": "#E5ECF6",
           "caxis": {
            "gridcolor": "white",
            "linecolor": "white",
            "ticks": ""
           }
          },
          "title": {
           "x": 0.05
          },
          "xaxis": {
           "automargin": true,
           "gridcolor": "white",
           "linecolor": "white",
           "ticks": "",
           "title": {
            "standoff": 15
           },
           "zerolinecolor": "white",
           "zerolinewidth": 2
          },
          "yaxis": {
           "automargin": true,
           "gridcolor": "white",
           "linecolor": "white",
           "ticks": "",
           "title": {
            "standoff": 15
           },
           "zerolinecolor": "white",
           "zerolinewidth": 2
          }
         }
        }
       }
      }
     },
     "metadata": {},
     "output_type": "display_data"
    }
   ],
   "source": [
    "x_samples_coil, y_samples_coil, z_samples_coil, Bx_samples_coil, By_samples_coil, Bz_samples_coil = sample_field(\n",
    "    x_coil, y_coil, z_coil, fields_x_coil, fields_y_coil, fields_z_coil, n_samples=500\n",
    ")\n",
    "plotter.plotter(x_samples_coil, y_samples_coil, z_samples_coil, Bx_samples_coil, By_samples_coil, Bz_samples_coil)"
   ]
  },
  {
   "cell_type": "markdown",
   "metadata": {},
   "source": [
    "### Performing Updates"
   ]
  },
  {
   "cell_type": "markdown",
   "metadata": {},
   "source": [
    "Next, we plug these points into the updater and see what happens "
   ]
  },
  {
   "cell_type": "code",
   "execution_count": 28,
   "metadata": {},
   "outputs": [],
   "source": [
    "from GP_Implementation.Kernel import updated_vector_field"
   ]
  },
  {
   "cell_type": "markdown",
   "metadata": {},
   "source": [
    "#### Divergence free"
   ]
  },
  {
   "cell_type": "code",
   "execution_count": 31,
   "metadata": {},
   "outputs": [],
   "source": [
    "outputs_wire_div_free= updated_vector_field(\n",
    "    x_samples_wire, y_samples_wire, z_samples_wire, \n",
    "    Bx_samples_wire, By_samples_wire, Bz_samples_wire, \n",
    "    x_wire, y_wire, z_wire, \n",
    "    kernel_func='divergence_free_kernel', \n",
    "    sigma_f = 0.1, l = 0.8)\n",
    "\n",
    "# unpack outputs \n",
    "updated_x_samples_wire_div_free =  outputs_wire_div_free[0]\n",
    "updated_y_samples_wire_div_free =  outputs_wire_div_free[1]\n",
    "updated_z_samples_wire_div_free =  outputs_wire_div_free[2]\n",
    "updated_Bx_samples_wire_div_free = outputs_wire_div_free[3]\n",
    "updated_By_samples_wire_div_free = outputs_wire_div_free[4]\n",
    "updated_Bz_samples_wire_div_free = outputs_wire_div_free[5]"
   ]
  },
  {
   "cell_type": "code",
   "execution_count": 32,
   "metadata": {},
   "outputs": [
    {
     "data": {
      "application/vnd.plotly.v1+json": {
       "config": {
        "plotlyServerURL": "https://plot.ly"
       },
       "data": [
        {
         "anchor": "tail",
         "sizemode": "scaled",
         "sizeref": 2,
         "type": "cone",
         "u": {
          "bdata": "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",
          "dtype": "f8"
         },
         "v": {
          "bdata": "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",
          "dtype": "f8"
         },
         "w": {
          "bdata": "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",
          "dtype": "f8"
         },
         "x": {
          "bdata": "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",
          "dtype": "f8"
         },
         "y": {
          "bdata": "AAAAAAAA4L8AAAAAAADgvwAAAAAAAOC/AAAAAAAA4L8AAAAAAADgvwAAAAAAAOC/AAAAAAAA4L8AAAAAAADgvwAAAAAAAOC/AAAAAAAA4L8AAAAAAADgvwAAAAAAAOC/AAAAAAAA4L8AAAAAAADgvwAAAAAAAOC/AAAAAAAA4L8AAAAAAADgvwAAAAAAAOC/AAAAAAAA4L8AAAAAAADgvwAAAAAAAOC/AAAAAAAA4L8AAAAAAADgvwAAAAAAAOC/AAAAAAAA4L8AAAAAAADgvwAAAAAAAOC/AAAAAAAA4L8AAAAAAADgvwAAAAAAAOC/AAAAAAAA4L8AAAAAAADgvwAAAAAAAOC/AAAAAAAA4L8AAAAAAADgvwAAAAAAAOC/AAAAAAAA4L8AAAAAAADgvwAAAAAAAOC/AAAAAAAA4L8AAAAAAADgvwAAAAAAAOC/AAAAAAAA4L8AAAAAAADgvwAAAAAAAOC/AAAAAAAA4L8AAAAAAADgvwAAAAAAAOC/AAAAAAAA4L8AAAAAAADgvwAAAAAAAOC/AAAAAAAA4L8AAAAAAADgvwAAAAAAAOC/AAAAAAAA4L8AAAAAAADgvwAAAAAAAOC/AAAAAAAA4L8AAAAAAADgvwAAAAAAAOC/AAAAAAAA4L8AAAAAAADgvwAAAAAAAOC/AAAAAAAA4L8AAAAAAADgvwAAAAAAAOC/AAAAAAAA4L8AAAAAAADgvwAAAAAAAOC/AAAAAAAA4L8AAAAAAADgvwAAAAAAAOC/AAAAAAAA4L8AAAAAAADgvwAAAAAAAOC/AAAAAAAA4L8AAAAAAADgvwAAAAAAAOC/AAAAAAAA4L8AAAAAAADgvwAAAAAAAOC/AAAAAAAA4L8AAAAAAADgvwAAAAAAAOC/AAAAAAAA4L8AAAAAAADgvwAAAAAAAOC/AAAAAAAA4L8AAAAAAADgvwAAAAAAAOC/AAAAAAAA4L8AAAAAAADgvwAAAAAAAOC/AAAAAAAA4L8AAAAAAADgvwAAAAAAAOC/AAAAAAAA4L8AAAAAAADgvwAAAAAAAOC/AAAAAAAA4L85juM4juPYvzmO4ziO49i/OY7jOI7j2L85juM4juPYvzmO4ziO49i/OY7jOI7j2L85juM4juPYvzmO4ziO49i/OY7jOI7j2L85juM4juPYvzmO4ziO49i/OY7jOI7j2L85juM4juPYvzmO4ziO49i/OY7jOI7j2L85juM4juPYvzmO4ziO49i/OY7jOI7j2L85juM4juPYvzmO4ziO49i/OY7jOI7j2L85juM4juPYvzmO4ziO49i/OY7jOI7j2L85juM4juPYvzmO4ziO49i/OY7jOI7j2L85juM4juPYvzmO4ziO49i/OY7jOI7j2L85juM4juPYvzmO4ziO49i/OY7jOI7j2L85juM4juPYvzmO4ziO49i/OY7jOI7j2L85juM4juPYvzmO4ziO49i/OY7jOI7j2L85juM4juPYvzmO4ziO49i/OY7jOI7j2L85juM4juPYvzmO4ziO49i/OY7jOI7j2L85juM4juPYvzmO4ziO49i/OY7jOI7j2L85juM4juPYvzmO4ziO49i/OY7jOI7j2L85juM4juPYvzmO4ziO49i/OY7jOI7j2L85juM4juPYvzmO4ziO49i/OY7jOI7j2L85juM4juPYvzmO4ziO49i/OY7jOI7j2L85juM4juPYvzmO4ziO49i/OY7jOI7j2L85juM4juPYvzmO4ziO49i/OY7jOI7j2L85juM4juPYvzmO4ziO49i/OY7jOI7j2L85juM4juPYvzmO4ziO49i/OY7jOI7j2L85juM4juPYvzmO4ziO49i/OY7jOI7j2L85juM4juPYvzmO4ziO49i/OY7jOI7j2L85juM4juPYvzmO4ziO49i/OY7jOI7j2L85juM4juPYvzmO4ziO49i/OY7jOI7j2L85juM4juPYvzmO4ziO49i/OY7jOI7j2L85juM4juPYvzmO4ziO49i/OY7jOI7j2L85juM4juPYvzmO4ziO49i/OY7jOI7j2L85juM4juPYvzmO4ziO49i/OY7jOI7j2L85juM4juPYvzmO4ziO49i/OY7jOI7j2L85juM4juPYv3Icx3Ecx9G/chzHcRzH0b9yHMdxHMfRv3Icx3Ecx9G/chzHcRzH0b9yHMdxHMfRv3Icx3Ecx9G/chzHcRzH0b9yHMdxHMfRv3Icx3Ecx9G/chzHcRzH0b9yHMdxHMfRv3Icx3Ecx9G/chzHcRzH0b9yHMdxHMfRv3Icx3Ecx9G/chzHcRzH0b9yHMdxHMfRv3Icx3Ecx9G/chzHcRzH0b9yHMdxHMfRv3Icx3Ecx9G/chzHcRzH0b9yHMdxHMfRv3Icx3Ecx9G/chzHcRzH0b9yHMdxHMfRv3Icx3Ecx9G/chzHcRzH0b9yHMdxHMfRv3Icx3Ecx9G/chzHcRzH0b9yHMdxHMfRv3Icx3Ecx9G/chzHcRzH0b9yHMdxHMfRv3Icx3Ecx9G/chzHcRzH0b9yHMdxHMfRv3Icx3Ecx9G/chzHcRzH0b9yHMdxHMfRv3Icx3Ecx9G/chzHcRzH0b9yHMdxHMfRv3Icx3Ecx9G/chzHcRzH0b9yHMdxHMfRv3Icx3Ecx9G/chzHcRzH0b9yHMdxHMfRv3Icx3Ecx9G/chzHcRzH0b9yHMdxHMfRv3Icx3Ecx9G/chzHcRzH0b9yHMdxHMfRv3Icx3Ecx9G/chzHcRzH0b9yHMdxHMfRv3Icx3Ecx9G/chzHcRzH0b9yHMdxHMfRv3Icx3Ecx9G/chzHcRzH0b9yHMdxHMfRv3Icx3Ecx9G/chzHcRzH0b9yHMdxHMfRv3Icx3Ecx9G/chzHcRzH0b9yHMdxHMfRv3Icx3Ecx9G/chzHcRzH0b9yHMdxHMfRv3Icx3Ecx9G/chzHcRzH0b9yHMdxHMfRv3Icx3Ecx9G/chzHcRzH0b9yHMdxHMfRv3Icx3Ecx9G/chzHcRzH0b9yHMdxHMfRv3Icx3Ecx9G/chzHcRzH0b9yHMdxHMfRv3Icx3Ecx9G/chzHcRzH0b9yHMdxHMfRv3Icx3Ecx9G/chzHcRzH0b9yHMdxHMfRv3Icx3Ecx9G/chzHcRzH0b9yHMdxHMfRv3Icx3Ecx9G/chzHcRzH0b9yHMdxHMfRv3Icx3Ecx9G/VlVVVVVVxb9WVVVVVVXFv1ZVVVVVVcW/VlVVVVVVxb9WVVVVVVXFv1ZVVVVVVcW/VlVVVVVVxb9WVVVVVVXFv1ZVVVVVVcW/VlVVVVVVxb9WVVVVVVXFv1ZVVVVVVcW/VlVVVVVVxb9WVVVVVVXFv1ZVVVVVVcW/VlVVVVVVxb9WVVVVVVXFv1ZVVVVVVcW/VlVVVVVVxb9WVVVVVVXFv1ZVVVVVVcW/VlVVVVVVxb9WVVVVVVXFv1ZVVVVVVcW/VlVVVVVVxb9WVVVVVVXFv1ZVVVVVVcW/VlVVVVVVxb9WVVVVVVXFv1ZVVVVVVcW/VlVVVVVVxb9WVVVVVVXFv1ZVVVVVVcW/VlVVVVVVxb9WVVVVVVXFv1ZVVVVVVcW/VlVVVVVVxb9WVVVVVVXFv1ZVVVVVVcW/VlVVVVVVxb9WVVVVVVXFv1ZVVVVVVcW/VlVVVVVVxb9WVVVVVVXFv1ZVVVVVVcW/VlVVVVVVxb9WVVVVVVXFv1ZVVVVVVcW/VlVVVVVVxb9WVVVVVVXFv1ZVVVVVVcW/VlVVVVVVxb9WVVVVVVXFv1ZVVVVVVcW/VlVVVVVVxb9WVVVVVVXFv1ZVVVVVVcW/VlVVVVVVxb9WVVVVVVXFv1ZVVVVVVcW/VlVVVVVVxb9WVVVVVVXFv1ZVVVVVVcW/VlVVVVVVxb9WVVVVVVXFv1ZVVVVVVcW/VlVVVVVVxb9WVVVVVVXFv1ZVVVVVVcW/VlVVVVVVxb9WVVVVVVXFv1ZVVVVVVcW/VlVVVVVVxb9WVVVVVVXFv1ZVVVVVVcW/VlVVVVVVxb9WVVVVVVXFv1ZVVVVVVcW/VlVVVVVVxb9WVVVVVVXFv1ZVVVVVVcW/VlVVVVVVxb9WVVVVVVXFv1ZVVVVVVcW/VlVVVVVVxb9WVVVVVVXFv1ZVVVVVVcW/VlVVVVVVxb9WVVVVVVXFv1ZVVVVVVcW/VlVVVVVVxb9WVVVVVVXFv1ZVVVVVVcW/VlVVVVVVxb9WVVVVVVXFv1ZVVVVVVcW/VlVVVVVVxb9WVVVVVVXFv1ZVVVVVVcW/VlVVVVVVxb8gx3Ecx3GsvyDHcRzHcay/IMdxHMdxrL8gx3Ecx3GsvyDHcRzHcay/IMdxHMdxrL8gx3Ecx3GsvyDHcRzHcay/IMdxHMdxrL8gx3Ecx3GsvyDHcRzHcay/IMdxHMdxrL8gx3Ecx3GsvyDHcRzHcay/IMdxHMdxrL8gx3Ecx3GsvyDHcRzHcay/IMdxHMdxrL8gx3Ecx3GsvyDHcRzHcay/IMdxHMdxrL8gx3Ecx3GsvyDHcRzHcay/IMdxHMdxrL8gx3Ecx3GsvyDHcRzHcay/IMdxHMdxrL8gx3Ecx3GsvyDHcRzHcay/IMdxHMdxrL8gx3Ecx3GsvyDHcRzHcay/IMdxHMdxrL8gx3Ecx3GsvyDHcRzHcay/IMdxHMdxrL8gx3Ecx3GsvyDHcRzHcay/IMdxHMdxrL8gx3Ecx3GsvyDHcRzHcay/IMdxHMdxrL8gx3Ecx3GsvyDHcRzHcay/IMdxHMdxrL8gx3Ecx3GsvyDHcRzHcay/IMdxHMdxrL8gx3Ecx3GsvyDHcRzHcay/IMdxHMdxrL8gx3Ecx3GsvyDHcRzHcay/IMdxHMdxrL8gx3Ecx3GsvyDHcRzHcay/IMdxHMdxrL8gx3Ecx3GsvyDHcRzHcay/IMdxHMdxrL8gx3Ecx3GsvyDHcRzHcay/IMdxHMdxrL8gx3Ecx3GsvyDHcRzHcay/IMdxHMdxrL8gx3Ecx3GsvyDHcRzHcay/IMdxHMdxrL8gx3Ecx3GsvyDHcRzHcay/IMdxHMdxrL8gx3Ecx3GsvyDHcRzHcay/IMdxHMdxrL8gx3Ecx3GsvyDHcRzHcay/IMdxHMdxrL8gx3Ecx3GsvyDHcRzHcay/IMdxHMdxrL8gx3Ecx3GsvyDHcRzHcay/IMdxHMdxrL8gx3Ecx3GsvyDHcRzHcay/IMdxHMdxrL8gx3Ecx3GsvyDHcRzHcay/IMdxHMdxrL8gx3Ecx3GsvyDHcRzHcay/IMdxHMdxrL8gx3Ecx3GsvyDHcRzHcay/IMdxHMdxrL8gx3Ecx3GsvyDHcRzHcay/IMdxHMdxrL8gx3Ecx3GsvyDHcRzHcaw/IMdxHMdxrD8gx3Ecx3GsPyDHcRzHcaw/IMdxHMdxrD8gx3Ecx3GsPyDHcRzHcaw/IMdxHMdxrD8gx3Ecx3GsPyDHcRzHcaw/IMdxHMdxrD8gx3Ecx3GsPyDHcRzHcaw/IMdxHMdxrD8gx3Ecx3GsPyDHcRzHcaw/IMdxHMdxrD8gx3Ecx3GsPyDHcRzHcaw/IMdxHMdxrD8gx3Ecx3GsPyDHcRzHcaw/IMdxHMdxrD8gx3Ecx3GsPyDHcRzHcaw/IMdxHMdxrD8gx3Ecx3GsPyDHcRzHcaw/IMdxHMdxrD8gx3Ecx3GsPyDHcRzHcaw/IMdxHMdxrD8gx3Ecx3GsPyDHcRzHcaw/IMdxHMdxrD8gx3Ecx3GsPyDHcRzHcaw/IMdxHMdxrD8gx3Ecx3GsPyDHcRzHcaw/IMdxHMdxrD8gx3Ecx3GsPyDHcRzHcaw/IMdxHMdxrD8gx3Ecx3GsPyDHcRzHcaw/IMdxHMdxrD8gx3Ecx3GsPyDHcRzHcaw/IMdxHMdxrD8gx3Ecx3GsPyDHcRzHcaw/IMdxHMdxrD8gx3Ecx3GsPyDHcRzHcaw/IMdxHMdxrD8gx3Ecx3GsPyDHcRzHcaw/IMdxHMdxrD8gx3Ecx3GsPyDHcRzHcaw/IMdxHMdxrD8gx3Ecx3GsPyDHcRzHcaw/IMdxHMdxrD8gx3Ecx3GsPyDHcRzHcaw/IMdxHMdxrD8gx3Ecx3GsPyDHcRzHcaw/IMdxHMdxrD8gx3Ecx3GsPyDHcRzHcaw/IMdxHMdxrD8gx3Ecx3GsPyDHcRzHcaw/IMdxHMdxrD8gx3Ecx3GsPyDHcRzHcaw/IMdxHMdxrD8gx3Ecx3GsPyDHcRzHcaw/IMdxHMdxrD8gx3Ecx3GsPyDHcRzHcaw/IMdxHMdxrD8gx3Ecx3GsPyDHcRzHcaw/IMdxHMdxrD8gx3Ecx3GsPyDHcRzHcaw/IMdxHMdxrD8gx3Ecx3GsPyDHcRzHcaw/IMdxHMdxrD8gx3Ecx3GsPyDHcRzHcaw/IMdxHMdxrD8gx3Ecx3GsPyDHcRzHcaw/VFVVVVVVxT9UVVVVVVXFP1RVVVVVVcU/VFVVVVVVxT9UVVVVVVXFP1RVVVVVVcU/VFVVVVVVxT9UVVVVVVXFP1RVVVVVVcU/VFVVVVVVxT9UVVVVVVXFP1RVVVVVVcU/VFVVVVVVxT9UVVVVVVXFP1RVVVVVVcU/VFVVVVVVxT9UVVVVVVXFP1RVVVVVVcU/VFVVVVVVxT9UVVVVVVXFP1RVVVVVVcU/VFVVVVVVxT9UVVVVVVXFP1RVVVVVVcU/VFVVVVVVxT9UVVVVVVXFP1RVVVVVVcU/VFVVVVVVxT9UVVVVVVXFP1RVVVVVVcU/VFVVVVVVxT9UVVVVVVXFP1RVVVVVVcU/VFVVVVVVxT9UVVVVVVXFP1RVVVVVVcU/VFVVVVVVxT9UVVVVVVXFP1RVVVVVVcU/VFVVVVVVxT9UVVVVVVXFP1RVVVVVVcU/VFVVVVVVxT9UVVVVVVXFP1RVVVVVVcU/VFVVVVVVxT9UVVVVVVXFP1RVVVVVVcU/VFVVVVVVxT9UVVVVVVXFP1RVVVVVVcU/VFVVVVVVxT9UVVVVVVXFP1RVVVVVVcU/VFVVVVVVxT9UVVVVVVXFP1RVVVVVVcU/VFVVVVVVxT9UVVVVVVXFP1RVVVVVVcU/VFVVVVVVxT9UVVVVVVXFP1RVVVVVVcU/VFVVVVVVxT9UVVVVVVXFP1RVVVVVVcU/VFVVVVVVxT9UVVVVVVXFP1RVVVVVVcU/VFVVVVVVxT9UVVVVVVXFP1RVVVVVVcU/VFVVVVVVxT9UVVVVVVXFP1RVVVVVVcU/VFVVVVVVxT9UVVVVVVXFP1RVVVVVVcU/VFVVVVVVxT9UVVVVVVXFP1RVVVVVVcU/VFVVVVVVxT9UVVVVVVXFP1RVVVVVVcU/VFVVVVVVxT9UVVVVVVXFP1RVVVVVVcU/VFVVVVVVxT9UVVVVVVXFP1RVVVVVVcU/VFVVVVVVxT9UVVVVVVXFP1RVVVVVVcU/VFVVVVVVxT9UVVVVVVXFP1RVVVVVVcU/VFVVVVVVxT9UVVVVVVXFP1RVVVVVVcU/VFVVVVVVxT9wHMdxHMfRP3Acx3Ecx9E/cBzHcRzH0T9wHMdxHMfRP3Acx3Ecx9E/cBzHcRzH0T9wHMdxHMfRP3Acx3Ecx9E/cBzHcRzH0T9wHMdxHMfRP3Acx3Ecx9E/cBzHcRzH0T9wHMdxHMfRP3Acx3Ecx9E/cBzHcRzH0T9wHMdxHMfRP3Acx3Ecx9E/cBzHcRzH0T9wHMdxHMfRP3Acx3Ecx9E/cBzHcRzH0T9wHMdxHMfRP3Acx3Ecx9E/cBzHcRzH0T9wHMdxHMfRP3Acx3Ecx9E/cBzHcRzH0T9wHMdxHMfRP3Acx3Ecx9E/cBzHcRzH0T9wHMdxHMfRP3Acx3Ecx9E/cBzHcRzH0T9wHMdxHMfRP3Acx3Ecx9E/cBzHcRzH0T9wHMdxHMfRP3Acx3Ecx9E/cBzHcRzH0T9wHMdxHMfRP3Acx3Ecx9E/cBzHcRzH0T9wHMdxHMfRP3Acx3Ecx9E/cBzHcRzH0T9wHMdxHMfRP3Acx3Ecx9E/cBzHcRzH0T9wHMdxHMfRP3Acx3Ecx9E/cBzHcRzH0T9wHMdxHMfRP3Acx3Ecx9E/cBzHcRzH0T9wHMdxHMfRP3Acx3Ecx9E/cBzHcRzH0T9wHMdxHMfRP3Acx3Ecx9E/cBzHcRzH0T9wHMdxHMfRP3Acx3Ecx9E/cBzHcRzH0T9wHMdxHMfRP3Acx3Ecx9E/cBzHcRzH0T9wHMdxHMfRP3Acx3Ecx9E/cBzHcRzH0T9wHMdxHMfRP3Acx3Ecx9E/cBzHcRzH0T9wHMdxHMfRP3Acx3Ecx9E/cBzHcRzH0T9wHMdxHMfRP3Acx3Ecx9E/cBzHcRzH0T9wHMdxHMfRP3Acx3Ecx9E/cBzHcRzH0T9wHMdxHMfRP3Acx3Ecx9E/cBzHcRzH0T9wHMdxHMfRP3Acx3Ecx9E/cBzHcRzH0T9wHMdxHMfRP3Acx3Ecx9E/cBzHcRzH0T9wHMdxHMfRP3Acx3Ecx9E/cBzHcRzH0T9wHMdxHMfRP3Acx3Ecx9E/cBzHcRzH0T9wHMdxHMfRP3Acx3Ecx9E/cBzHcRzH0T9wHMdxHMfRPziO4ziO49g/OI7jOI7j2D84juM4juPYPziO4ziO49g/OI7jOI7j2D84juM4juPYPziO4ziO49g/OI7jOI7j2D84juM4juPYPziO4ziO49g/OI7jOI7j2D84juM4juPYPziO4ziO49g/OI7jOI7j2D84juM4juPYPziO4ziO49g/OI7jOI7j2D84juM4juPYPziO4ziO49g/OI7jOI7j2D84juM4juPYPziO4ziO49g/OI7jOI7j2D84juM4juPYPziO4ziO49g/OI7jOI7j2D84juM4juPYPziO4ziO49g/OI7jOI7j2D84juM4juPYPziO4ziO49g/OI7jOI7j2D84juM4juPYPziO4ziO49g/OI7jOI7j2D84juM4juPYPziO4ziO49g/OI7jOI7j2D84juM4juPYPziO4ziO49g/OI7jOI7j2D84juM4juPYPziO4ziO49g/OI7jOI7j2D84juM4juPYPziO4ziO49g/OI7jOI7j2D84juM4juPYPziO4ziO49g/OI7jOI7j2D84juM4juPYPziO4ziO49g/OI7jOI7j2D84juM4juPYPziO4ziO49g/OI7jOI7j2D84juM4juPYPziO4ziO49g/OI7jOI7j2D84juM4juPYPziO4ziO49g/OI7jOI7j2D84juM4juPYPziO4ziO49g/OI7jOI7j2D84juM4juPYPziO4ziO49g/OI7jOI7j2D84juM4juPYPziO4ziO49g/OI7jOI7j2D84juM4juPYPziO4ziO49g/OI7jOI7j2D84juM4juPYPziO4ziO49g/OI7jOI7j2D84juM4juPYPziO4ziO49g/OI7jOI7j2D84juM4juPYPziO4ziO49g/OI7jOI7j2D84juM4juPYPziO4ziO49g/OI7jOI7j2D84juM4juPYPziO4ziO49g/OI7jOI7j2D84juM4juPYPziO4ziO49g/OI7jOI7j2D84juM4juPYPziO4ziO49g/OI7jOI7j2D84juM4juPYPziO4ziO49g/OI7jOI7j2D84juM4juPYPziO4ziO49g/AAAAAAAA4D8AAAAAAADgPwAAAAAAAOA/AAAAAAAA4D8AAAAAAADgPwAAAAAAAOA/AAAAAAAA4D8AAAAAAADgPwAAAAAAAOA/AAAAAAAA4D8AAAAAAADgPwAAAAAAAOA/AAAAAAAA4D8AAAAAAADgPwAAAAAAAOA/AAAAAAAA4D8AAAAAAADgPwAAAAAAAOA/AAAAAAAA4D8AAAAAAADgPwAAAAAAAOA/AAAAAAAA4D8AAAAAAADgPwAAAAAAAOA/AAAAAAAA4D8AAAAAAADgPwAAAAAAAOA/AAAAAAAA4D8AAAAAAADgPwAAAAAAAOA/AAAAAAAA4D8AAAAAAADgPwAAAAAAAOA/AAAAAAAA4D8AAAAAAADgPwAAAAAAAOA/AAAAAAAA4D8AAAAAAADgPwAAAAAAAOA/AAAAAAAA4D8AAAAAAADgPwAAAAAAAOA/AAAAAAAA4D8AAAAAAADgPwAAAAAAAOA/AAAAAAAA4D8AAAAAAADgPwAAAAAAAOA/AAAAAAAA4D8AAAAAAADgPwAAAAAAAOA/AAAAAAAA4D8AAAAAAADgPwAAAAAAAOA/AAAAAAAA4D8AAAAAAADgPwAAAAAAAOA/AAAAAAAA4D8AAAAAAADgPwAAAAAAAOA/AAAAAAAA4D8AAAAAAADgPwAAAAAAAOA/AAAAAAAA4D8AAAAAAADgPwAAAAAAAOA/AAAAAAAA4D8AAAAAAADgPwAAAAAAAOA/AAAAAAAA4D8AAAAAAADgPwAAAAAAAOA/AAAAAAAA4D8AAAAAAADgPwAAAAAAAOA/AAAAAAAA4D8AAAAAAADgPwAAAAAAAOA/AAAAAAAA4D8AAAAAAADgPwAAAAAAAOA/AAAAAAAA4D8AAAAAAADgPwAAAAAAAOA/AAAAAAAA4D8AAAAAAADgPwAAAAAAAOA/AAAAAAAA4D8AAAAAAADgPwAAAAAAAOA/AAAAAAAA4D8AAAAAAADgPwAAAAAAAOA/AAAAAAAA4D8AAAAAAADgPwAAAAAAAOA/AAAAAAAA4D8AAAAAAADgPwAAAAAAAOA/AAAAAAAA4D8=",
          "dtype": "f8"
         },
         "z": {
          "bdata": "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",
          "dtype": "f8"
         }
        }
       ],
       "layout": {
        "scene": {
         "xaxis": {
          "title": {
           "text": "X"
          }
         },
         "yaxis": {
          "title": {
           "text": "Y"
          }
         },
         "zaxis": {
          "title": {
           "text": "Z"
          }
         }
        },
        "template": {
         "data": {
          "bar": [
           {
            "error_x": {
             "color": "#2a3f5f"
            },
            "error_y": {
             "color": "#2a3f5f"
            },
            "marker": {
             "line": {
              "color": "#E5ECF6",
              "width": 0.5
             },
             "pattern": {
              "fillmode": "overlay",
              "size": 10,
              "solidity": 0.2
             }
            },
            "type": "bar"
           }
          ],
          "barpolar": [
           {
            "marker": {
             "line": {
              "color": "#E5ECF6",
              "width": 0.5
             },
             "pattern": {
              "fillmode": "overlay",
              "size": 10,
              "solidity": 0.2
             }
            },
            "type": "barpolar"
           }
          ],
          "carpet": [
           {
            "aaxis": {
             "endlinecolor": "#2a3f5f",
             "gridcolor": "white",
             "linecolor": "white",
             "minorgridcolor": "white",
             "startlinecolor": "#2a3f5f"
            },
            "baxis": {
             "endlinecolor": "#2a3f5f",
             "gridcolor": "white",
             "linecolor": "white",
             "minorgridcolor": "white",
             "startlinecolor": "#2a3f5f"
            },
            "type": "carpet"
           }
          ],
          "choropleth": [
           {
            "colorbar": {
             "outlinewidth": 0,
             "ticks": ""
            },
            "type": "choropleth"
           }
          ],
          "contour": [
           {
            "colorbar": {
             "outlinewidth": 0,
             "ticks": ""
            },
            "colorscale": [
             [
              0,
              "#0d0887"
             ],
             [
              0.1111111111111111,
              "#46039f"
             ],
             [
              0.2222222222222222,
              "#7201a8"
             ],
             [
              0.3333333333333333,
              "#9c179e"
             ],
             [
              0.4444444444444444,
              "#bd3786"
             ],
             [
              0.5555555555555556,
              "#d8576b"
             ],
             [
              0.6666666666666666,
              "#ed7953"
             ],
             [
              0.7777777777777778,
              "#fb9f3a"
             ],
             [
              0.8888888888888888,
              "#fdca26"
             ],
             [
              1,
              "#f0f921"
             ]
            ],
            "type": "contour"
           }
          ],
          "contourcarpet": [
           {
            "colorbar": {
             "outlinewidth": 0,
             "ticks": ""
            },
            "type": "contourcarpet"
           }
          ],
          "heatmap": [
           {
            "colorbar": {
             "outlinewidth": 0,
             "ticks": ""
            },
            "colorscale": [
             [
              0,
              "#0d0887"
             ],
             [
              0.1111111111111111,
              "#46039f"
             ],
             [
              0.2222222222222222,
              "#7201a8"
             ],
             [
              0.3333333333333333,
              "#9c179e"
             ],
             [
              0.4444444444444444,
              "#bd3786"
             ],
             [
              0.5555555555555556,
              "#d8576b"
             ],
             [
              0.6666666666666666,
              "#ed7953"
             ],
             [
              0.7777777777777778,
              "#fb9f3a"
             ],
             [
              0.8888888888888888,
              "#fdca26"
             ],
             [
              1,
              "#f0f921"
             ]
            ],
            "type": "heatmap"
           }
          ],
          "histogram": [
           {
            "marker": {
             "pattern": {
              "fillmode": "overlay",
              "size": 10,
              "solidity": 0.2
             }
            },
            "type": "histogram"
           }
          ],
          "histogram2d": [
           {
            "colorbar": {
             "outlinewidth": 0,
             "ticks": ""
            },
            "colorscale": [
             [
              0,
              "#0d0887"
             ],
             [
              0.1111111111111111,
              "#46039f"
             ],
             [
              0.2222222222222222,
              "#7201a8"
             ],
             [
              0.3333333333333333,
              "#9c179e"
             ],
             [
              0.4444444444444444,
              "#bd3786"
             ],
             [
              0.5555555555555556,
              "#d8576b"
             ],
             [
              0.6666666666666666,
              "#ed7953"
             ],
             [
              0.7777777777777778,
              "#fb9f3a"
             ],
             [
              0.8888888888888888,
              "#fdca26"
             ],
             [
              1,
              "#f0f921"
             ]
            ],
            "type": "histogram2d"
           }
          ],
          "histogram2dcontour": [
           {
            "colorbar": {
             "outlinewidth": 0,
             "ticks": ""
            },
            "colorscale": [
             [
              0,
              "#0d0887"
             ],
             [
              0.1111111111111111,
              "#46039f"
             ],
             [
              0.2222222222222222,
              "#7201a8"
             ],
             [
              0.3333333333333333,
              "#9c179e"
             ],
             [
              0.4444444444444444,
              "#bd3786"
             ],
             [
              0.5555555555555556,
              "#d8576b"
             ],
             [
              0.6666666666666666,
              "#ed7953"
             ],
             [
              0.7777777777777778,
              "#fb9f3a"
             ],
             [
              0.8888888888888888,
              "#fdca26"
             ],
             [
              1,
              "#f0f921"
             ]
            ],
            "type": "histogram2dcontour"
           }
          ],
          "mesh3d": [
           {
            "colorbar": {
             "outlinewidth": 0,
             "ticks": ""
            },
            "type": "mesh3d"
           }
          ],
          "parcoords": [
           {
            "line": {
             "colorbar": {
              "outlinewidth": 0,
              "ticks": ""
             }
            },
            "type": "parcoords"
           }
          ],
          "pie": [
           {
            "automargin": true,
            "type": "pie"
           }
          ],
          "scatter": [
           {
            "fillpattern": {
             "fillmode": "overlay",
             "size": 10,
             "solidity": 0.2
            },
            "type": "scatter"
           }
          ],
          "scatter3d": [
           {
            "line": {
             "colorbar": {
              "outlinewidth": 0,
              "ticks": ""
             }
            },
            "marker": {
             "colorbar": {
              "outlinewidth": 0,
              "ticks": ""
             }
            },
            "type": "scatter3d"
           }
          ],
          "scattercarpet": [
           {
            "marker": {
             "colorbar": {
              "outlinewidth": 0,
              "ticks": ""
             }
            },
            "type": "scattercarpet"
           }
          ],
          "scattergeo": [
           {
            "marker": {
             "colorbar": {
              "outlinewidth": 0,
              "ticks": ""
             }
            },
            "type": "scattergeo"
           }
          ],
          "scattergl": [
           {
            "marker": {
             "colorbar": {
              "outlinewidth": 0,
              "ticks": ""
             }
            },
            "type": "scattergl"
           }
          ],
          "scattermap": [
           {
            "marker": {
             "colorbar": {
              "outlinewidth": 0,
              "ticks": ""
             }
            },
            "type": "scattermap"
           }
          ],
          "scattermapbox": [
           {
            "marker": {
             "colorbar": {
              "outlinewidth": 0,
              "ticks": ""
             }
            },
            "type": "scattermapbox"
           }
          ],
          "scatterpolar": [
           {
            "marker": {
             "colorbar": {
              "outlinewidth": 0,
              "ticks": ""
             }
            },
            "type": "scatterpolar"
           }
          ],
          "scatterpolargl": [
           {
            "marker": {
             "colorbar": {
              "outlinewidth": 0,
              "ticks": ""
             }
            },
            "type": "scatterpolargl"
           }
          ],
          "scatterternary": [
           {
            "marker": {
             "colorbar": {
              "outlinewidth": 0,
              "ticks": ""
             }
            },
            "type": "scatterternary"
           }
          ],
          "surface": [
           {
            "colorbar": {
             "outlinewidth": 0,
             "ticks": ""
            },
            "colorscale": [
             [
              0,
              "#0d0887"
             ],
             [
              0.1111111111111111,
              "#46039f"
             ],
             [
              0.2222222222222222,
              "#7201a8"
             ],
             [
              0.3333333333333333,
              "#9c179e"
             ],
             [
              0.4444444444444444,
              "#bd3786"
             ],
             [
              0.5555555555555556,
              "#d8576b"
             ],
             [
              0.6666666666666666,
              "#ed7953"
             ],
             [
              0.7777777777777778,
              "#fb9f3a"
             ],
             [
              0.8888888888888888,
              "#fdca26"
             ],
             [
              1,
              "#f0f921"
             ]
            ],
            "type": "surface"
           }
          ],
          "table": [
           {
            "cells": {
             "fill": {
              "color": "#EBF0F8"
             },
             "line": {
              "color": "white"
             }
            },
            "header": {
             "fill": {
              "color": "#C8D4E3"
             },
             "line": {
              "color": "white"
             }
            },
            "type": "table"
           }
          ]
         },
         "layout": {
          "annotationdefaults": {
           "arrowcolor": "#2a3f5f",
           "arrowhead": 0,
           "arrowwidth": 1
          },
          "autotypenumbers": "strict",
          "coloraxis": {
           "colorbar": {
            "outlinewidth": 0,
            "ticks": ""
           }
          },
          "colorscale": {
           "diverging": [
            [
             0,
             "#8e0152"
            ],
            [
             0.1,
             "#c51b7d"
            ],
            [
             0.2,
             "#de77ae"
            ],
            [
             0.3,
             "#f1b6da"
            ],
            [
             0.4,
             "#fde0ef"
            ],
            [
             0.5,
             "#f7f7f7"
            ],
            [
             0.6,
             "#e6f5d0"
            ],
            [
             0.7,
             "#b8e186"
            ],
            [
             0.8,
             "#7fbc41"
            ],
            [
             0.9,
             "#4d9221"
            ],
            [
             1,
             "#276419"
            ]
           ],
           "sequential": [
            [
             0,
             "#0d0887"
            ],
            [
             0.1111111111111111,
             "#46039f"
            ],
            [
             0.2222222222222222,
             "#7201a8"
            ],
            [
             0.3333333333333333,
             "#9c179e"
            ],
            [
             0.4444444444444444,
             "#bd3786"
            ],
            [
             0.5555555555555556,
             "#d8576b"
            ],
            [
             0.6666666666666666,
             "#ed7953"
            ],
            [
             0.7777777777777778,
             "#fb9f3a"
            ],
            [
             0.8888888888888888,
             "#fdca26"
            ],
            [
             1,
             "#f0f921"
            ]
           ],
           "sequentialminus": [
            [
             0,
             "#0d0887"
            ],
            [
             0.1111111111111111,
             "#46039f"
            ],
            [
             0.2222222222222222,
             "#7201a8"
            ],
            [
             0.3333333333333333,
             "#9c179e"
            ],
            [
             0.4444444444444444,
             "#bd3786"
            ],
            [
             0.5555555555555556,
             "#d8576b"
            ],
            [
             0.6666666666666666,
             "#ed7953"
            ],
            [
             0.7777777777777778,
             "#fb9f3a"
            ],
            [
             0.8888888888888888,
             "#fdca26"
            ],
            [
             1,
             "#f0f921"
            ]
           ]
          },
          "colorway": [
           "#636efa",
           "#EF553B",
           "#00cc96",
           "#ab63fa",
           "#FFA15A",
           "#19d3f3",
           "#FF6692",
           "#B6E880",
           "#FF97FF",
           "#FECB52"
          ],
          "font": {
           "color": "#2a3f5f"
          },
          "geo": {
           "bgcolor": "white",
           "lakecolor": "white",
           "landcolor": "#E5ECF6",
           "showlakes": true,
           "showland": true,
           "subunitcolor": "white"
          },
          "hoverlabel": {
           "align": "left"
          },
          "hovermode": "closest",
          "mapbox": {
           "style": "light"
          },
          "paper_bgcolor": "white",
          "plot_bgcolor": "#E5ECF6",
          "polar": {
           "angularaxis": {
            "gridcolor": "white",
            "linecolor": "white",
            "ticks": ""
           },
           "bgcolor": "#E5ECF6",
           "radialaxis": {
            "gridcolor": "white",
            "linecolor": "white",
            "ticks": ""
           }
          },
          "scene": {
           "xaxis": {
            "backgroundcolor": "#E5ECF6",
            "gridcolor": "white",
            "gridwidth": 2,
            "linecolor": "white",
            "showbackground": true,
            "ticks": "",
            "zerolinecolor": "white"
           },
           "yaxis": {
            "backgroundcolor": "#E5ECF6",
            "gridcolor": "white",
            "gridwidth": 2,
            "linecolor": "white",
            "showbackground": true,
            "ticks": "",
            "zerolinecolor": "white"
           },
           "zaxis": {
            "backgroundcolor": "#E5ECF6",
            "gridcolor": "white",
            "gridwidth": 2,
            "linecolor": "white",
            "showbackground": true,
            "ticks": "",
            "zerolinecolor": "white"
           }
          },
          "shapedefaults": {
           "line": {
            "color": "#2a3f5f"
           }
          },
          "ternary": {
           "aaxis": {
            "gridcolor": "white",
            "linecolor": "white",
            "ticks": ""
           },
           "baxis": {
            "gridcolor": "white",
            "linecolor": "white",
            "ticks": ""
           },
           "bgcolor": "#E5ECF6",
           "caxis": {
            "gridcolor": "white",
            "linecolor": "white",
            "ticks": ""
           }
          },
          "title": {
           "x": 0.05
          },
          "xaxis": {
           "automargin": true,
           "gridcolor": "white",
           "linecolor": "white",
           "ticks": "",
           "title": {
            "standoff": 15
           },
           "zerolinecolor": "white",
           "zerolinewidth": 2
          },
          "yaxis": {
           "automargin": true,
           "gridcolor": "white",
           "linecolor": "white",
           "ticks": "",
           "title": {
            "standoff": 15
           },
           "zerolinecolor": "white",
           "zerolinewidth": 2
          }
         }
        }
       }
      }
     },
     "metadata": {},
     "output_type": "display_data"
    }
   ],
   "source": [
    "plotter.plotter(updated_x_samples_wire_div_free, updated_y_samples_wire_div_free, updated_z_samples_wire_div_free, \n",
    "                updated_Bx_samples_wire_div_free, updated_By_samples_wire_div_free, updated_Bz_samples_wire_div_free)"
   ]
  },
  {
   "cell_type": "code",
   "execution_count": 18,
   "metadata": {},
   "outputs": [],
   "source": [
    "outputs_coil_div_free = updated_vector_field(\n",
    "    x_samples_coil, y_samples_coil, z_samples_coil, \n",
    "    Bx_samples_coil, By_samples_coil, Bz_samples_coil, \n",
    "    x_coil, y_coil, z_coil, \n",
    "    kernel_func='divergence_free_kernel', \n",
    "    sigma_f = 0.1, l = 0.3)\n",
    "\n",
    "# unpack outputs\n",
    "updated_x_samples_coil_div_free  = outputs_coil_div_free[0]\n",
    "updated_y_samples_coil_div_free  = outputs_coil_div_free[1]\n",
    "updated_z_samples_coil_div_free  = outputs_coil_div_free[2]\n",
    "updated_Bx_samples_coil_div_free = outputs_coil_div_free[3]\n",
    "updated_By_samples_coil_div_free = outputs_coil_div_free[4]\n",
    "updated_Bz_samples_coil_div_free = outputs_coil_div_free[5]"
   ]
  },
  {
   "cell_type": "code",
   "execution_count": 19,
   "metadata": {},
   "outputs": [
    {
     "data": {
      "application/vnd.plotly.v1+json": {
       "config": {
        "plotlyServerURL": "https://plot.ly"
       },
       "data": [
        {
         "anchor": "tail",
         "sizemode": "scaled",
         "sizeref": 2,
         "type": "cone",
         "u": {
          "bdata": "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",
          "dtype": "f8"
         },
         "v": {
          "bdata": "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",
          "dtype": "f8"
         },
         "w": {
          "bdata": "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",
          "dtype": "f8"
         },
         "x": {
          "bdata": "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",
          "dtype": "f8"
         },
         "y": {
          "bdata": "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",
          "dtype": "f8"
         },
         "z": {
          "bdata": "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",
          "dtype": "f8"
         }
        }
       ],
       "layout": {
        "scene": {
         "xaxis": {
          "title": {
           "text": "X"
          }
         },
         "yaxis": {
          "title": {
           "text": "Y"
          }
         },
         "zaxis": {
          "title": {
           "text": "Z"
          }
         }
        },
        "template": {
         "data": {
          "bar": [
           {
            "error_x": {
             "color": "#2a3f5f"
            },
            "error_y": {
             "color": "#2a3f5f"
            },
            "marker": {
             "line": {
              "color": "#E5ECF6",
              "width": 0.5
             },
             "pattern": {
              "fillmode": "overlay",
              "size": 10,
              "solidity": 0.2
             }
            },
            "type": "bar"
           }
          ],
          "barpolar": [
           {
            "marker": {
             "line": {
              "color": "#E5ECF6",
              "width": 0.5
             },
             "pattern": {
              "fillmode": "overlay",
              "size": 10,
              "solidity": 0.2
             }
            },
            "type": "barpolar"
           }
          ],
          "carpet": [
           {
            "aaxis": {
             "endlinecolor": "#2a3f5f",
             "gridcolor": "white",
             "linecolor": "white",
             "minorgridcolor": "white",
             "startlinecolor": "#2a3f5f"
            },
            "baxis": {
             "endlinecolor": "#2a3f5f",
             "gridcolor": "white",
             "linecolor": "white",
             "minorgridcolor": "white",
             "startlinecolor": "#2a3f5f"
            },
            "type": "carpet"
           }
          ],
          "choropleth": [
           {
            "colorbar": {
             "outlinewidth": 0,
             "ticks": ""
            },
            "type": "choropleth"
           }
          ],
          "contour": [
           {
            "colorbar": {
             "outlinewidth": 0,
             "ticks": ""
            },
            "colorscale": [
             [
              0,
              "#0d0887"
             ],
             [
              0.1111111111111111,
              "#46039f"
             ],
             [
              0.2222222222222222,
              "#7201a8"
             ],
             [
              0.3333333333333333,
              "#9c179e"
             ],
             [
              0.4444444444444444,
              "#bd3786"
             ],
             [
              0.5555555555555556,
              "#d8576b"
             ],
             [
              0.6666666666666666,
              "#ed7953"
             ],
             [
              0.7777777777777778,
              "#fb9f3a"
             ],
             [
              0.8888888888888888,
              "#fdca26"
             ],
             [
              1,
              "#f0f921"
             ]
            ],
            "type": "contour"
           }
          ],
          "contourcarpet": [
           {
            "colorbar": {
             "outlinewidth": 0,
             "ticks": ""
            },
            "type": "contourcarpet"
           }
          ],
          "heatmap": [
           {
            "colorbar": {
             "outlinewidth": 0,
             "ticks": ""
            },
            "colorscale": [
             [
              0,
              "#0d0887"
             ],
             [
              0.1111111111111111,
              "#46039f"
             ],
             [
              0.2222222222222222,
              "#7201a8"
             ],
             [
              0.3333333333333333,
              "#9c179e"
             ],
             [
              0.4444444444444444,
              "#bd3786"
             ],
             [
              0.5555555555555556,
              "#d8576b"
             ],
             [
              0.6666666666666666,
              "#ed7953"
             ],
             [
              0.7777777777777778,
              "#fb9f3a"
             ],
             [
              0.8888888888888888,
              "#fdca26"
             ],
             [
              1,
              "#f0f921"
             ]
            ],
            "type": "heatmap"
           }
          ],
          "histogram": [
           {
            "marker": {
             "pattern": {
              "fillmode": "overlay",
              "size": 10,
              "solidity": 0.2
             }
            },
            "type": "histogram"
           }
          ],
          "histogram2d": [
           {
            "colorbar": {
             "outlinewidth": 0,
             "ticks": ""
            },
            "colorscale": [
             [
              0,
              "#0d0887"
             ],
             [
              0.1111111111111111,
              "#46039f"
             ],
             [
              0.2222222222222222,
              "#7201a8"
             ],
             [
              0.3333333333333333,
              "#9c179e"
             ],
             [
              0.4444444444444444,
              "#bd3786"
             ],
             [
              0.5555555555555556,
              "#d8576b"
             ],
             [
              0.6666666666666666,
              "#ed7953"
             ],
             [
              0.7777777777777778,
              "#fb9f3a"
             ],
             [
              0.8888888888888888,
              "#fdca26"
             ],
             [
              1,
              "#f0f921"
             ]
            ],
            "type": "histogram2d"
           }
          ],
          "histogram2dcontour": [
           {
            "colorbar": {
             "outlinewidth": 0,
             "ticks": ""
            },
            "colorscale": [
             [
              0,
              "#0d0887"
             ],
             [
              0.1111111111111111,
              "#46039f"
             ],
             [
              0.2222222222222222,
              "#7201a8"
             ],
             [
              0.3333333333333333,
              "#9c179e"
             ],
             [
              0.4444444444444444,
              "#bd3786"
             ],
             [
              0.5555555555555556,
              "#d8576b"
             ],
             [
              0.6666666666666666,
              "#ed7953"
             ],
             [
              0.7777777777777778,
              "#fb9f3a"
             ],
             [
              0.8888888888888888,
              "#fdca26"
             ],
             [
              1,
              "#f0f921"
             ]
            ],
            "type": "histogram2dcontour"
           }
          ],
          "mesh3d": [
           {
            "colorbar": {
             "outlinewidth": 0,
             "ticks": ""
            },
            "type": "mesh3d"
           }
          ],
          "parcoords": [
           {
            "line": {
             "colorbar": {
              "outlinewidth": 0,
              "ticks": ""
             }
            },
            "type": "parcoords"
           }
          ],
          "pie": [
           {
            "automargin": true,
            "type": "pie"
           }
          ],
          "scatter": [
           {
            "fillpattern": {
             "fillmode": "overlay",
             "size": 10,
             "solidity": 0.2
            },
            "type": "scatter"
           }
          ],
          "scatter3d": [
           {
            "line": {
             "colorbar": {
              "outlinewidth": 0,
              "ticks": ""
             }
            },
            "marker": {
             "colorbar": {
              "outlinewidth": 0,
              "ticks": ""
             }
            },
            "type": "scatter3d"
           }
          ],
          "scattercarpet": [
           {
            "marker": {
             "colorbar": {
              "outlinewidth": 0,
              "ticks": ""
             }
            },
            "type": "scattercarpet"
           }
          ],
          "scattergeo": [
           {
            "marker": {
             "colorbar": {
              "outlinewidth": 0,
              "ticks": ""
             }
            },
            "type": "scattergeo"
           }
          ],
          "scattergl": [
           {
            "marker": {
             "colorbar": {
              "outlinewidth": 0,
              "ticks": ""
             }
            },
            "type": "scattergl"
           }
          ],
          "scattermap": [
           {
            "marker": {
             "colorbar": {
              "outlinewidth": 0,
              "ticks": ""
             }
            },
            "type": "scattermap"
           }
          ],
          "scattermapbox": [
           {
            "marker": {
             "colorbar": {
              "outlinewidth": 0,
              "ticks": ""
             }
            },
            "type": "scattermapbox"
           }
          ],
          "scatterpolar": [
           {
            "marker": {
             "colorbar": {
              "outlinewidth": 0,
              "ticks": ""
             }
            },
            "type": "scatterpolar"
           }
          ],
          "scatterpolargl": [
           {
            "marker": {
             "colorbar": {
              "outlinewidth": 0,
              "ticks": ""
             }
            },
            "type": "scatterpolargl"
           }
          ],
          "scatterternary": [
           {
            "marker": {
             "colorbar": {
              "outlinewidth": 0,
              "ticks": ""
             }
            },
            "type": "scatterternary"
           }
          ],
          "surface": [
           {
            "colorbar": {
             "outlinewidth": 0,
             "ticks": ""
            },
            "colorscale": [
             [
              0,
              "#0d0887"
             ],
             [
              0.1111111111111111,
              "#46039f"
             ],
             [
              0.2222222222222222,
              "#7201a8"
             ],
             [
              0.3333333333333333,
              "#9c179e"
             ],
             [
              0.4444444444444444,
              "#bd3786"
             ],
             [
              0.5555555555555556,
              "#d8576b"
             ],
             [
              0.6666666666666666,
              "#ed7953"
             ],
             [
              0.7777777777777778,
              "#fb9f3a"
             ],
             [
              0.8888888888888888,
              "#fdca26"
             ],
             [
              1,
              "#f0f921"
             ]
            ],
            "type": "surface"
           }
          ],
          "table": [
           {
            "cells": {
             "fill": {
              "color": "#EBF0F8"
             },
             "line": {
              "color": "white"
             }
            },
            "header": {
             "fill": {
              "color": "#C8D4E3"
             },
             "line": {
              "color": "white"
             }
            },
            "type": "table"
           }
          ]
         },
         "layout": {
          "annotationdefaults": {
           "arrowcolor": "#2a3f5f",
           "arrowhead": 0,
           "arrowwidth": 1
          },
          "autotypenumbers": "strict",
          "coloraxis": {
           "colorbar": {
            "outlinewidth": 0,
            "ticks": ""
           }
          },
          "colorscale": {
           "diverging": [
            [
             0,
             "#8e0152"
            ],
            [
             0.1,
             "#c51b7d"
            ],
            [
             0.2,
             "#de77ae"
            ],
            [
             0.3,
             "#f1b6da"
            ],
            [
             0.4,
             "#fde0ef"
            ],
            [
             0.5,
             "#f7f7f7"
            ],
            [
             0.6,
             "#e6f5d0"
            ],
            [
             0.7,
             "#b8e186"
            ],
            [
             0.8,
             "#7fbc41"
            ],
            [
             0.9,
             "#4d9221"
            ],
            [
             1,
             "#276419"
            ]
           ],
           "sequential": [
            [
             0,
             "#0d0887"
            ],
            [
             0.1111111111111111,
             "#46039f"
            ],
            [
             0.2222222222222222,
             "#7201a8"
            ],
            [
             0.3333333333333333,
             "#9c179e"
            ],
            [
             0.4444444444444444,
             "#bd3786"
            ],
            [
             0.5555555555555556,
             "#d8576b"
            ],
            [
             0.6666666666666666,
             "#ed7953"
            ],
            [
             0.7777777777777778,
             "#fb9f3a"
            ],
            [
             0.8888888888888888,
             "#fdca26"
            ],
            [
             1,
             "#f0f921"
            ]
           ],
           "sequentialminus": [
            [
             0,
             "#0d0887"
            ],
            [
             0.1111111111111111,
             "#46039f"
            ],
            [
             0.2222222222222222,
             "#7201a8"
            ],
            [
             0.3333333333333333,
             "#9c179e"
            ],
            [
             0.4444444444444444,
             "#bd3786"
            ],
            [
             0.5555555555555556,
             "#d8576b"
            ],
            [
             0.6666666666666666,
             "#ed7953"
            ],
            [
             0.7777777777777778,
             "#fb9f3a"
            ],
            [
             0.8888888888888888,
             "#fdca26"
            ],
            [
             1,
             "#f0f921"
            ]
           ]
          },
          "colorway": [
           "#636efa",
           "#EF553B",
           "#00cc96",
           "#ab63fa",
           "#FFA15A",
           "#19d3f3",
           "#FF6692",
           "#B6E880",
           "#FF97FF",
           "#FECB52"
          ],
          "font": {
           "color": "#2a3f5f"
          },
          "geo": {
           "bgcolor": "white",
           "lakecolor": "white",
           "landcolor": "#E5ECF6",
           "showlakes": true,
           "showland": true,
           "subunitcolor": "white"
          },
          "hoverlabel": {
           "align": "left"
          },
          "hovermode": "closest",
          "mapbox": {
           "style": "light"
          },
          "paper_bgcolor": "white",
          "plot_bgcolor": "#E5ECF6",
          "polar": {
           "angularaxis": {
            "gridcolor": "white",
            "linecolor": "white",
            "ticks": ""
           },
           "bgcolor": "#E5ECF6",
           "radialaxis": {
            "gridcolor": "white",
            "linecolor": "white",
            "ticks": ""
           }
          },
          "scene": {
           "xaxis": {
            "backgroundcolor": "#E5ECF6",
            "gridcolor": "white",
            "gridwidth": 2,
            "linecolor": "white",
            "showbackground": true,
            "ticks": "",
            "zerolinecolor": "white"
           },
           "yaxis": {
            "backgroundcolor": "#E5ECF6",
            "gridcolor": "white",
            "gridwidth": 2,
            "linecolor": "white",
            "showbackground": true,
            "ticks": "",
            "zerolinecolor": "white"
           },
           "zaxis": {
            "backgroundcolor": "#E5ECF6",
            "gridcolor": "white",
            "gridwidth": 2,
            "linecolor": "white",
            "showbackground": true,
            "ticks": "",
            "zerolinecolor": "white"
           }
          },
          "shapedefaults": {
           "line": {
            "color": "#2a3f5f"
           }
          },
          "ternary": {
           "aaxis": {
            "gridcolor": "white",
            "linecolor": "white",
            "ticks": ""
           },
           "baxis": {
            "gridcolor": "white",
            "linecolor": "white",
            "ticks": ""
           },
           "bgcolor": "#E5ECF6",
           "caxis": {
            "gridcolor": "white",
            "linecolor": "white",
            "ticks": ""
           }
          },
          "title": {
           "x": 0.05
          },
          "xaxis": {
           "automargin": true,
           "gridcolor": "white",
           "linecolor": "white",
           "ticks": "",
           "title": {
            "standoff": 15
           },
           "zerolinecolor": "white",
           "zerolinewidth": 2
          },
          "yaxis": {
           "automargin": true,
           "gridcolor": "white",
           "linecolor": "white",
           "ticks": "",
           "title": {
            "standoff": 15
           },
           "zerolinecolor": "white",
           "zerolinewidth": 2
          }
         }
        }
       }
      }
     },
     "metadata": {},
     "output_type": "display_data"
    }
   ],
   "source": [
    "plotter.plotter(updated_x_samples_coil_div_free, updated_y_samples_coil_div_free, updated_z_samples_coil_div_free, \n",
    "                updated_Bx_samples_coil_div_free, updated_By_samples_coil_div_free, updated_Bz_samples_coil_div_free)"
   ]
  },
  {
   "cell_type": "markdown",
   "metadata": {},
   "source": [
    "#### Curl Free"
   ]
  },
  {
   "cell_type": "code",
   "execution_count": 20,
   "metadata": {},
   "outputs": [],
   "source": [
    "outputs_wire_curl_free = updated_vector_field(\n",
    "    x_samples_wire, y_samples_wire, z_samples_wire, \n",
    "    Bx_samples_wire, By_samples_wire, Bz_samples_wire, \n",
    "    x_wire, y_wire, z_wire, \n",
    "    kernel_func='curl_free_kernel', \n",
    "    sigma_f = 0.1, l = 0.3)\n",
    "\n",
    "# unpack outputs \n",
    "updated_x_samples_wire_curl_free =  outputs_wire_curl_free[0]\n",
    "updated_y_samples_wire_curl_free =  outputs_wire_curl_free[1]\n",
    "updated_z_samples_wire_curl_free =  outputs_wire_curl_free[2]\n",
    "updated_Bx_samples_wire_curl_free = outputs_wire_curl_free[3]\n",
    "updated_By_samples_wire_curl_free = outputs_wire_curl_free[4]\n",
    "updated_Bz_samples_wire_curl_free = outputs_wire_curl_free[5]"
   ]
  },
  {
   "cell_type": "code",
   "execution_count": 21,
   "metadata": {},
   "outputs": [
    {
     "data": {
      "application/vnd.plotly.v1+json": {
       "config": {
        "plotlyServerURL": "https://plot.ly"
       },
       "data": [
        {
         "anchor": "tail",
         "sizemode": "scaled",
         "sizeref": 2,
         "type": "cone",
         "u": {
          "bdata": "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",
          "dtype": "f8"
         },
         "v": {
          "bdata": "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",
          "dtype": "f8"
         },
         "w": {
          "bdata": "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",
          "dtype": "f8"
         },
         "x": {
          "bdata": "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",
          "dtype": "f8"
         },
         "y": {
          "bdata": "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",
          "dtype": "f8"
         },
         "z": {
          "bdata": "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",
          "dtype": "f8"
         }
        }
       ],
       "layout": {
        "scene": {
         "xaxis": {
          "title": {
           "text": "X"
          }
         },
         "yaxis": {
          "title": {
           "text": "Y"
          }
         },
         "zaxis": {
          "title": {
           "text": "Z"
          }
         }
        },
        "template": {
         "data": {
          "bar": [
           {
            "error_x": {
             "color": "#2a3f5f"
            },
            "error_y": {
             "color": "#2a3f5f"
            },
            "marker": {
             "line": {
              "color": "#E5ECF6",
              "width": 0.5
             },
             "pattern": {
              "fillmode": "overlay",
              "size": 10,
              "solidity": 0.2
             }
            },
            "type": "bar"
           }
          ],
          "barpolar": [
           {
            "marker": {
             "line": {
              "color": "#E5ECF6",
              "width": 0.5
             },
             "pattern": {
              "fillmode": "overlay",
              "size": 10,
              "solidity": 0.2
             }
            },
            "type": "barpolar"
           }
          ],
          "carpet": [
           {
            "aaxis": {
             "endlinecolor": "#2a3f5f",
             "gridcolor": "white",
             "linecolor": "white",
             "minorgridcolor": "white",
             "startlinecolor": "#2a3f5f"
            },
            "baxis": {
             "endlinecolor": "#2a3f5f",
             "gridcolor": "white",
             "linecolor": "white",
             "minorgridcolor": "white",
             "startlinecolor": "#2a3f5f"
            },
            "type": "carpet"
           }
          ],
          "choropleth": [
           {
            "colorbar": {
             "outlinewidth": 0,
             "ticks": ""
            },
            "type": "choropleth"
           }
          ],
          "contour": [
           {
            "colorbar": {
             "outlinewidth": 0,
             "ticks": ""
            },
            "colorscale": [
             [
              0,
              "#0d0887"
             ],
             [
              0.1111111111111111,
              "#46039f"
             ],
             [
              0.2222222222222222,
              "#7201a8"
             ],
             [
              0.3333333333333333,
              "#9c179e"
             ],
             [
              0.4444444444444444,
              "#bd3786"
             ],
             [
              0.5555555555555556,
              "#d8576b"
             ],
             [
              0.6666666666666666,
              "#ed7953"
             ],
             [
              0.7777777777777778,
              "#fb9f3a"
             ],
             [
              0.8888888888888888,
              "#fdca26"
             ],
             [
              1,
              "#f0f921"
             ]
            ],
            "type": "contour"
           }
          ],
          "contourcarpet": [
           {
            "colorbar": {
             "outlinewidth": 0,
             "ticks": ""
            },
            "type": "contourcarpet"
           }
          ],
          "heatmap": [
           {
            "colorbar": {
             "outlinewidth": 0,
             "ticks": ""
            },
            "colorscale": [
             [
              0,
              "#0d0887"
             ],
             [
              0.1111111111111111,
              "#46039f"
             ],
             [
              0.2222222222222222,
              "#7201a8"
             ],
             [
              0.3333333333333333,
              "#9c179e"
             ],
             [
              0.4444444444444444,
              "#bd3786"
             ],
             [
              0.5555555555555556,
              "#d8576b"
             ],
             [
              0.6666666666666666,
              "#ed7953"
             ],
             [
              0.7777777777777778,
              "#fb9f3a"
             ],
             [
              0.8888888888888888,
              "#fdca26"
             ],
             [
              1,
              "#f0f921"
             ]
            ],
            "type": "heatmap"
           }
          ],
          "histogram": [
           {
            "marker": {
             "pattern": {
              "fillmode": "overlay",
              "size": 10,
              "solidity": 0.2
             }
            },
            "type": "histogram"
           }
          ],
          "histogram2d": [
           {
            "colorbar": {
             "outlinewidth": 0,
             "ticks": ""
            },
            "colorscale": [
             [
              0,
              "#0d0887"
             ],
             [
              0.1111111111111111,
              "#46039f"
             ],
             [
              0.2222222222222222,
              "#7201a8"
             ],
             [
              0.3333333333333333,
              "#9c179e"
             ],
             [
              0.4444444444444444,
              "#bd3786"
             ],
             [
              0.5555555555555556,
              "#d8576b"
             ],
             [
              0.6666666666666666,
              "#ed7953"
             ],
             [
              0.7777777777777778,
              "#fb9f3a"
             ],
             [
              0.8888888888888888,
              "#fdca26"
             ],
             [
              1,
              "#f0f921"
             ]
            ],
            "type": "histogram2d"
           }
          ],
          "histogram2dcontour": [
           {
            "colorbar": {
             "outlinewidth": 0,
             "ticks": ""
            },
            "colorscale": [
             [
              0,
              "#0d0887"
             ],
             [
              0.1111111111111111,
              "#46039f"
             ],
             [
              0.2222222222222222,
              "#7201a8"
             ],
             [
              0.3333333333333333,
              "#9c179e"
             ],
             [
              0.4444444444444444,
              "#bd3786"
             ],
             [
              0.5555555555555556,
              "#d8576b"
             ],
             [
              0.6666666666666666,
              "#ed7953"
             ],
             [
              0.7777777777777778,
              "#fb9f3a"
             ],
             [
              0.8888888888888888,
              "#fdca26"
             ],
             [
              1,
              "#f0f921"
             ]
            ],
            "type": "histogram2dcontour"
           }
          ],
          "mesh3d": [
           {
            "colorbar": {
             "outlinewidth": 0,
             "ticks": ""
            },
            "type": "mesh3d"
           }
          ],
          "parcoords": [
           {
            "line": {
             "colorbar": {
              "outlinewidth": 0,
              "ticks": ""
             }
            },
            "type": "parcoords"
           }
          ],
          "pie": [
           {
            "automargin": true,
            "type": "pie"
           }
          ],
          "scatter": [
           {
            "fillpattern": {
             "fillmode": "overlay",
             "size": 10,
             "solidity": 0.2
            },
            "type": "scatter"
           }
          ],
          "scatter3d": [
           {
            "line": {
             "colorbar": {
              "outlinewidth": 0,
              "ticks": ""
             }
            },
            "marker": {
             "colorbar": {
              "outlinewidth": 0,
              "ticks": ""
             }
            },
            "type": "scatter3d"
           }
          ],
          "scattercarpet": [
           {
            "marker": {
             "colorbar": {
              "outlinewidth": 0,
              "ticks": ""
             }
            },
            "type": "scattercarpet"
           }
          ],
          "scattergeo": [
           {
            "marker": {
             "colorbar": {
              "outlinewidth": 0,
              "ticks": ""
             }
            },
            "type": "scattergeo"
           }
          ],
          "scattergl": [
           {
            "marker": {
             "colorbar": {
              "outlinewidth": 0,
              "ticks": ""
             }
            },
            "type": "scattergl"
           }
          ],
          "scattermap": [
           {
            "marker": {
             "colorbar": {
              "outlinewidth": 0,
              "ticks": ""
             }
            },
            "type": "scattermap"
           }
          ],
          "scattermapbox": [
           {
            "marker": {
             "colorbar": {
              "outlinewidth": 0,
              "ticks": ""
             }
            },
            "type": "scattermapbox"
           }
          ],
          "scatterpolar": [
           {
            "marker": {
             "colorbar": {
              "outlinewidth": 0,
              "ticks": ""
             }
            },
            "type": "scatterpolar"
           }
          ],
          "scatterpolargl": [
           {
            "marker": {
             "colorbar": {
              "outlinewidth": 0,
              "ticks": ""
             }
            },
            "type": "scatterpolargl"
           }
          ],
          "scatterternary": [
           {
            "marker": {
             "colorbar": {
              "outlinewidth": 0,
              "ticks": ""
             }
            },
            "type": "scatterternary"
           }
          ],
          "surface": [
           {
            "colorbar": {
             "outlinewidth": 0,
             "ticks": ""
            },
            "colorscale": [
             [
              0,
              "#0d0887"
             ],
             [
              0.1111111111111111,
              "#46039f"
             ],
             [
              0.2222222222222222,
              "#7201a8"
             ],
             [
              0.3333333333333333,
              "#9c179e"
             ],
             [
              0.4444444444444444,
              "#bd3786"
             ],
             [
              0.5555555555555556,
              "#d8576b"
             ],
             [
              0.6666666666666666,
              "#ed7953"
             ],
             [
              0.7777777777777778,
              "#fb9f3a"
             ],
             [
              0.8888888888888888,
              "#fdca26"
             ],
             [
              1,
              "#f0f921"
             ]
            ],
            "type": "surface"
           }
          ],
          "table": [
           {
            "cells": {
             "fill": {
              "color": "#EBF0F8"
             },
             "line": {
              "color": "white"
             }
            },
            "header": {
             "fill": {
              "color": "#C8D4E3"
             },
             "line": {
              "color": "white"
             }
            },
            "type": "table"
           }
          ]
         },
         "layout": {
          "annotationdefaults": {
           "arrowcolor": "#2a3f5f",
           "arrowhead": 0,
           "arrowwidth": 1
          },
          "autotypenumbers": "strict",
          "coloraxis": {
           "colorbar": {
            "outlinewidth": 0,
            "ticks": ""
           }
          },
          "colorscale": {
           "diverging": [
            [
             0,
             "#8e0152"
            ],
            [
             0.1,
             "#c51b7d"
            ],
            [
             0.2,
             "#de77ae"
            ],
            [
             0.3,
             "#f1b6da"
            ],
            [
             0.4,
             "#fde0ef"
            ],
            [
             0.5,
             "#f7f7f7"
            ],
            [
             0.6,
             "#e6f5d0"
            ],
            [
             0.7,
             "#b8e186"
            ],
            [
             0.8,
             "#7fbc41"
            ],
            [
             0.9,
             "#4d9221"
            ],
            [
             1,
             "#276419"
            ]
           ],
           "sequential": [
            [
             0,
             "#0d0887"
            ],
            [
             0.1111111111111111,
             "#46039f"
            ],
            [
             0.2222222222222222,
             "#7201a8"
            ],
            [
             0.3333333333333333,
             "#9c179e"
            ],
            [
             0.4444444444444444,
             "#bd3786"
            ],
            [
             0.5555555555555556,
             "#d8576b"
            ],
            [
             0.6666666666666666,
             "#ed7953"
            ],
            [
             0.7777777777777778,
             "#fb9f3a"
            ],
            [
             0.8888888888888888,
             "#fdca26"
            ],
            [
             1,
             "#f0f921"
            ]
           ],
           "sequentialminus": [
            [
             0,
             "#0d0887"
            ],
            [
             0.1111111111111111,
             "#46039f"
            ],
            [
             0.2222222222222222,
             "#7201a8"
            ],
            [
             0.3333333333333333,
             "#9c179e"
            ],
            [
             0.4444444444444444,
             "#bd3786"
            ],
            [
             0.5555555555555556,
             "#d8576b"
            ],
            [
             0.6666666666666666,
             "#ed7953"
            ],
            [
             0.7777777777777778,
             "#fb9f3a"
            ],
            [
             0.8888888888888888,
             "#fdca26"
            ],
            [
             1,
             "#f0f921"
            ]
           ]
          },
          "colorway": [
           "#636efa",
           "#EF553B",
           "#00cc96",
           "#ab63fa",
           "#FFA15A",
           "#19d3f3",
           "#FF6692",
           "#B6E880",
           "#FF97FF",
           "#FECB52"
          ],
          "font": {
           "color": "#2a3f5f"
          },
          "geo": {
           "bgcolor": "white",
           "lakecolor": "white",
           "landcolor": "#E5ECF6",
           "showlakes": true,
           "showland": true,
           "subunitcolor": "white"
          },
          "hoverlabel": {
           "align": "left"
          },
          "hovermode": "closest",
          "mapbox": {
           "style": "light"
          },
          "paper_bgcolor": "white",
          "plot_bgcolor": "#E5ECF6",
          "polar": {
           "angularaxis": {
            "gridcolor": "white",
            "linecolor": "white",
            "ticks": ""
           },
           "bgcolor": "#E5ECF6",
           "radialaxis": {
            "gridcolor": "white",
            "linecolor": "white",
            "ticks": ""
           }
          },
          "scene": {
           "xaxis": {
            "backgroundcolor": "#E5ECF6",
            "gridcolor": "white",
            "gridwidth": 2,
            "linecolor": "white",
            "showbackground": true,
            "ticks": "",
            "zerolinecolor": "white"
           },
           "yaxis": {
            "backgroundcolor": "#E5ECF6",
            "gridcolor": "white",
            "gridwidth": 2,
            "linecolor": "white",
            "showbackground": true,
            "ticks": "",
            "zerolinecolor": "white"
           },
           "zaxis": {
            "backgroundcolor": "#E5ECF6",
            "gridcolor": "white",
            "gridwidth": 2,
            "linecolor": "white",
            "showbackground": true,
            "ticks": "",
            "zerolinecolor": "white"
           }
          },
          "shapedefaults": {
           "line": {
            "color": "#2a3f5f"
           }
          },
          "ternary": {
           "aaxis": {
            "gridcolor": "white",
            "linecolor": "white",
            "ticks": ""
           },
           "baxis": {
            "gridcolor": "white",
            "linecolor": "white",
            "ticks": ""
           },
           "bgcolor": "#E5ECF6",
           "caxis": {
            "gridcolor": "white",
            "linecolor": "white",
            "ticks": ""
           }
          },
          "title": {
           "x": 0.05
          },
          "xaxis": {
           "automargin": true,
           "gridcolor": "white",
           "linecolor": "white",
           "ticks": "",
           "title": {
            "standoff": 15
           },
           "zerolinecolor": "white",
           "zerolinewidth": 2
          },
          "yaxis": {
           "automargin": true,
           "gridcolor": "white",
           "linecolor": "white",
           "ticks": "",
           "title": {
            "standoff": 15
           },
           "zerolinecolor": "white",
           "zerolinewidth": 2
          }
         }
        }
       }
      }
     },
     "metadata": {},
     "output_type": "display_data"
    }
   ],
   "source": [
    "plotter.plotter(updated_x_samples_wire_curl_free, updated_y_samples_wire_curl_free, updated_z_samples_wire_curl_free, \n",
    "                updated_Bx_samples_wire_curl_free, updated_By_samples_wire_curl_free, updated_Bz_samples_wire_curl_free)"
   ]
  },
  {
   "cell_type": "code",
   "execution_count": 22,
   "metadata": {},
   "outputs": [],
   "source": [
    "outputs_coil_curl_free= updated_vector_field(\n",
    "    x_samples_coil, y_samples_coil, z_samples_coil, \n",
    "    Bx_samples_coil, By_samples_coil, Bz_samples_coil, \n",
    "    x_coil, y_coil, z_coil, \n",
    "    kernel_func='curl_free_kernel' ,\n",
    "    sigma_f = 0.1, l = 0.3)\n",
    "\n",
    "# unpack outputs \n",
    "updated_x_samples_coil_curl_free =  outputs_coil_curl_free[0]\n",
    "updated_y_samples_coil_curl_free =  outputs_coil_curl_free[1]\n",
    "updated_z_samples_coil_curl_free =  outputs_coil_curl_free[2]\n",
    "updated_Bx_samples_coil_curl_free = outputs_coil_curl_free[3]\n",
    "updated_By_samples_coil_curl_free = outputs_coil_curl_free[4]\n",
    "updated_Bz_samples_coil_curl_free = outputs_coil_curl_free[5]"
   ]
  },
  {
   "cell_type": "code",
   "execution_count": 23,
   "metadata": {},
   "outputs": [
    {
     "data": {
      "application/vnd.plotly.v1+json": {
       "config": {
        "plotlyServerURL": "https://plot.ly"
       },
       "data": [
        {
         "anchor": "tail",
         "sizemode": "scaled",
         "sizeref": 2,
         "type": "cone",
         "u": {
          "bdata": "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",
          "dtype": "f8"
         },
         "v": {
          "bdata": "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",
          "dtype": "f8"
         },
         "w": {
          "bdata": "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",
          "dtype": "f8"
         },
         "x": {
          "bdata": "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",
          "dtype": "f8"
         },
         "y": {
          "bdata": "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",
          "dtype": "f8"
         },
         "z": {
          "bdata": "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",
          "dtype": "f8"
         }
        }
       ],
       "layout": {
        "scene": {
         "xaxis": {
          "title": {
           "text": "X"
          }
         },
         "yaxis": {
          "title": {
           "text": "Y"
          }
         },
         "zaxis": {
          "title": {
           "text": "Z"
          }
         }
        },
        "template": {
         "data": {
          "bar": [
           {
            "error_x": {
             "color": "#2a3f5f"
            },
            "error_y": {
             "color": "#2a3f5f"
            },
            "marker": {
             "line": {
              "color": "#E5ECF6",
              "width": 0.5
             },
             "pattern": {
              "fillmode": "overlay",
              "size": 10,
              "solidity": 0.2
             }
            },
            "type": "bar"
           }
          ],
          "barpolar": [
           {
            "marker": {
             "line": {
              "color": "#E5ECF6",
              "width": 0.5
             },
             "pattern": {
              "fillmode": "overlay",
              "size": 10,
              "solidity": 0.2
             }
            },
            "type": "barpolar"
           }
          ],
          "carpet": [
           {
            "aaxis": {
             "endlinecolor": "#2a3f5f",
             "gridcolor": "white",
             "linecolor": "white",
             "minorgridcolor": "white",
             "startlinecolor": "#2a3f5f"
            },
            "baxis": {
             "endlinecolor": "#2a3f5f",
             "gridcolor": "white",
             "linecolor": "white",
             "minorgridcolor": "white",
             "startlinecolor": "#2a3f5f"
            },
            "type": "carpet"
           }
          ],
          "choropleth": [
           {
            "colorbar": {
             "outlinewidth": 0,
             "ticks": ""
            },
            "type": "choropleth"
           }
          ],
          "contour": [
           {
            "colorbar": {
             "outlinewidth": 0,
             "ticks": ""
            },
            "colorscale": [
             [
              0,
              "#0d0887"
             ],
             [
              0.1111111111111111,
              "#46039f"
             ],
             [
              0.2222222222222222,
              "#7201a8"
             ],
             [
              0.3333333333333333,
              "#9c179e"
             ],
             [
              0.4444444444444444,
              "#bd3786"
             ],
             [
              0.5555555555555556,
              "#d8576b"
             ],
             [
              0.6666666666666666,
              "#ed7953"
             ],
             [
              0.7777777777777778,
              "#fb9f3a"
             ],
             [
              0.8888888888888888,
              "#fdca26"
             ],
             [
              1,
              "#f0f921"
             ]
            ],
            "type": "contour"
           }
          ],
          "contourcarpet": [
           {
            "colorbar": {
             "outlinewidth": 0,
             "ticks": ""
            },
            "type": "contourcarpet"
           }
          ],
          "heatmap": [
           {
            "colorbar": {
             "outlinewidth": 0,
             "ticks": ""
            },
            "colorscale": [
             [
              0,
              "#0d0887"
             ],
             [
              0.1111111111111111,
              "#46039f"
             ],
             [
              0.2222222222222222,
              "#7201a8"
             ],
             [
              0.3333333333333333,
              "#9c179e"
             ],
             [
              0.4444444444444444,
              "#bd3786"
             ],
             [
              0.5555555555555556,
              "#d8576b"
             ],
             [
              0.6666666666666666,
              "#ed7953"
             ],
             [
              0.7777777777777778,
              "#fb9f3a"
             ],
             [
              0.8888888888888888,
              "#fdca26"
             ],
             [
              1,
              "#f0f921"
             ]
            ],
            "type": "heatmap"
           }
          ],
          "histogram": [
           {
            "marker": {
             "pattern": {
              "fillmode": "overlay",
              "size": 10,
              "solidity": 0.2
             }
            },
            "type": "histogram"
           }
          ],
          "histogram2d": [
           {
            "colorbar": {
             "outlinewidth": 0,
             "ticks": ""
            },
            "colorscale": [
             [
              0,
              "#0d0887"
             ],
             [
              0.1111111111111111,
              "#46039f"
             ],
             [
              0.2222222222222222,
              "#7201a8"
             ],
             [
              0.3333333333333333,
              "#9c179e"
             ],
             [
              0.4444444444444444,
              "#bd3786"
             ],
             [
              0.5555555555555556,
              "#d8576b"
             ],
             [
              0.6666666666666666,
              "#ed7953"
             ],
             [
              0.7777777777777778,
              "#fb9f3a"
             ],
             [
              0.8888888888888888,
              "#fdca26"
             ],
             [
              1,
              "#f0f921"
             ]
            ],
            "type": "histogram2d"
           }
          ],
          "histogram2dcontour": [
           {
            "colorbar": {
             "outlinewidth": 0,
             "ticks": ""
            },
            "colorscale": [
             [
              0,
              "#0d0887"
             ],
             [
              0.1111111111111111,
              "#46039f"
             ],
             [
              0.2222222222222222,
              "#7201a8"
             ],
             [
              0.3333333333333333,
              "#9c179e"
             ],
             [
              0.4444444444444444,
              "#bd3786"
             ],
             [
              0.5555555555555556,
              "#d8576b"
             ],
             [
              0.6666666666666666,
              "#ed7953"
             ],
             [
              0.7777777777777778,
              "#fb9f3a"
             ],
             [
              0.8888888888888888,
              "#fdca26"
             ],
             [
              1,
              "#f0f921"
             ]
            ],
            "type": "histogram2dcontour"
           }
          ],
          "mesh3d": [
           {
            "colorbar": {
             "outlinewidth": 0,
             "ticks": ""
            },
            "type": "mesh3d"
           }
          ],
          "parcoords": [
           {
            "line": {
             "colorbar": {
              "outlinewidth": 0,
              "ticks": ""
             }
            },
            "type": "parcoords"
           }
          ],
          "pie": [
           {
            "automargin": true,
            "type": "pie"
           }
          ],
          "scatter": [
           {
            "fillpattern": {
             "fillmode": "overlay",
             "size": 10,
             "solidity": 0.2
            },
            "type": "scatter"
           }
          ],
          "scatter3d": [
           {
            "line": {
             "colorbar": {
              "outlinewidth": 0,
              "ticks": ""
             }
            },
            "marker": {
             "colorbar": {
              "outlinewidth": 0,
              "ticks": ""
             }
            },
            "type": "scatter3d"
           }
          ],
          "scattercarpet": [
           {
            "marker": {
             "colorbar": {
              "outlinewidth": 0,
              "ticks": ""
             }
            },
            "type": "scattercarpet"
           }
          ],
          "scattergeo": [
           {
            "marker": {
             "colorbar": {
              "outlinewidth": 0,
              "ticks": ""
             }
            },
            "type": "scattergeo"
           }
          ],
          "scattergl": [
           {
            "marker": {
             "colorbar": {
              "outlinewidth": 0,
              "ticks": ""
             }
            },
            "type": "scattergl"
           }
          ],
          "scattermap": [
           {
            "marker": {
             "colorbar": {
              "outlinewidth": 0,
              "ticks": ""
             }
            },
            "type": "scattermap"
           }
          ],
          "scattermapbox": [
           {
            "marker": {
             "colorbar": {
              "outlinewidth": 0,
              "ticks": ""
             }
            },
            "type": "scattermapbox"
           }
          ],
          "scatterpolar": [
           {
            "marker": {
             "colorbar": {
              "outlinewidth": 0,
              "ticks": ""
             }
            },
            "type": "scatterpolar"
           }
          ],
          "scatterpolargl": [
           {
            "marker": {
             "colorbar": {
              "outlinewidth": 0,
              "ticks": ""
             }
            },
            "type": "scatterpolargl"
           }
          ],
          "scatterternary": [
           {
            "marker": {
             "colorbar": {
              "outlinewidth": 0,
              "ticks": ""
             }
            },
            "type": "scatterternary"
           }
          ],
          "surface": [
           {
            "colorbar": {
             "outlinewidth": 0,
             "ticks": ""
            },
            "colorscale": [
             [
              0,
              "#0d0887"
             ],
             [
              0.1111111111111111,
              "#46039f"
             ],
             [
              0.2222222222222222,
              "#7201a8"
             ],
             [
              0.3333333333333333,
              "#9c179e"
             ],
             [
              0.4444444444444444,
              "#bd3786"
             ],
             [
              0.5555555555555556,
              "#d8576b"
             ],
             [
              0.6666666666666666,
              "#ed7953"
             ],
             [
              0.7777777777777778,
              "#fb9f3a"
             ],
             [
              0.8888888888888888,
              "#fdca26"
             ],
             [
              1,
              "#f0f921"
             ]
            ],
            "type": "surface"
           }
          ],
          "table": [
           {
            "cells": {
             "fill": {
              "color": "#EBF0F8"
             },
             "line": {
              "color": "white"
             }
            },
            "header": {
             "fill": {
              "color": "#C8D4E3"
             },
             "line": {
              "color": "white"
             }
            },
            "type": "table"
           }
          ]
         },
         "layout": {
          "annotationdefaults": {
           "arrowcolor": "#2a3f5f",
           "arrowhead": 0,
           "arrowwidth": 1
          },
          "autotypenumbers": "strict",
          "coloraxis": {
           "colorbar": {
            "outlinewidth": 0,
            "ticks": ""
           }
          },
          "colorscale": {
           "diverging": [
            [
             0,
             "#8e0152"
            ],
            [
             0.1,
             "#c51b7d"
            ],
            [
             0.2,
             "#de77ae"
            ],
            [
             0.3,
             "#f1b6da"
            ],
            [
             0.4,
             "#fde0ef"
            ],
            [
             0.5,
             "#f7f7f7"
            ],
            [
             0.6,
             "#e6f5d0"
            ],
            [
             0.7,
             "#b8e186"
            ],
            [
             0.8,
             "#7fbc41"
            ],
            [
             0.9,
             "#4d9221"
            ],
            [
             1,
             "#276419"
            ]
           ],
           "sequential": [
            [
             0,
             "#0d0887"
            ],
            [
             0.1111111111111111,
             "#46039f"
            ],
            [
             0.2222222222222222,
             "#7201a8"
            ],
            [
             0.3333333333333333,
             "#9c179e"
            ],
            [
             0.4444444444444444,
             "#bd3786"
            ],
            [
             0.5555555555555556,
             "#d8576b"
            ],
            [
             0.6666666666666666,
             "#ed7953"
            ],
            [
             0.7777777777777778,
             "#fb9f3a"
            ],
            [
             0.8888888888888888,
             "#fdca26"
            ],
            [
             1,
             "#f0f921"
            ]
           ],
           "sequentialminus": [
            [
             0,
             "#0d0887"
            ],
            [
             0.1111111111111111,
             "#46039f"
            ],
            [
             0.2222222222222222,
             "#7201a8"
            ],
            [
             0.3333333333333333,
             "#9c179e"
            ],
            [
             0.4444444444444444,
             "#bd3786"
            ],
            [
             0.5555555555555556,
             "#d8576b"
            ],
            [
             0.6666666666666666,
             "#ed7953"
            ],
            [
             0.7777777777777778,
             "#fb9f3a"
            ],
            [
             0.8888888888888888,
             "#fdca26"
            ],
            [
             1,
             "#f0f921"
            ]
           ]
          },
          "colorway": [
           "#636efa",
           "#EF553B",
           "#00cc96",
           "#ab63fa",
           "#FFA15A",
           "#19d3f3",
           "#FF6692",
           "#B6E880",
           "#FF97FF",
           "#FECB52"
          ],
          "font": {
           "color": "#2a3f5f"
          },
          "geo": {
           "bgcolor": "white",
           "lakecolor": "white",
           "landcolor": "#E5ECF6",
           "showlakes": true,
           "showland": true,
           "subunitcolor": "white"
          },
          "hoverlabel": {
           "align": "left"
          },
          "hovermode": "closest",
          "mapbox": {
           "style": "light"
          },
          "paper_bgcolor": "white",
          "plot_bgcolor": "#E5ECF6",
          "polar": {
           "angularaxis": {
            "gridcolor": "white",
            "linecolor": "white",
            "ticks": ""
           },
           "bgcolor": "#E5ECF6",
           "radialaxis": {
            "gridcolor": "white",
            "linecolor": "white",
            "ticks": ""
           }
          },
          "scene": {
           "xaxis": {
            "backgroundcolor": "#E5ECF6",
            "gridcolor": "white",
            "gridwidth": 2,
            "linecolor": "white",
            "showbackground": true,
            "ticks": "",
            "zerolinecolor": "white"
           },
           "yaxis": {
            "backgroundcolor": "#E5ECF6",
            "gridcolor": "white",
            "gridwidth": 2,
            "linecolor": "white",
            "showbackground": true,
            "ticks": "",
            "zerolinecolor": "white"
           },
           "zaxis": {
            "backgroundcolor": "#E5ECF6",
            "gridcolor": "white",
            "gridwidth": 2,
            "linecolor": "white",
            "showbackground": true,
            "ticks": "",
            "zerolinecolor": "white"
           }
          },
          "shapedefaults": {
           "line": {
            "color": "#2a3f5f"
           }
          },
          "ternary": {
           "aaxis": {
            "gridcolor": "white",
            "linecolor": "white",
            "ticks": ""
           },
           "baxis": {
            "gridcolor": "white",
            "linecolor": "white",
            "ticks": ""
           },
           "bgcolor": "#E5ECF6",
           "caxis": {
            "gridcolor": "white",
            "linecolor": "white",
            "ticks": ""
           }
          },
          "title": {
           "x": 0.05
          },
          "xaxis": {
           "automargin": true,
           "gridcolor": "white",
           "linecolor": "white",
           "ticks": "",
           "title": {
            "standoff": 15
           },
           "zerolinecolor": "white",
           "zerolinewidth": 2
          },
          "yaxis": {
           "automargin": true,
           "gridcolor": "white",
           "linecolor": "white",
           "ticks": "",
           "title": {
            "standoff": 15
           },
           "zerolinecolor": "white",
           "zerolinewidth": 2
          }
         }
        }
       }
      }
     },
     "metadata": {},
     "output_type": "display_data"
    }
   ],
   "source": [
    "plotter.plotter(updated_x_samples_coil_curl_free, updated_y_samples_coil_curl_free, updated_z_samples_coil_curl_free, \n",
    "                updated_Bx_samples_coil_curl_free, updated_By_samples_coil_curl_free, updated_Bz_samples_coil_curl_free)"
   ]
  },
  {
   "cell_type": "code",
   "execution_count": null,
   "metadata": {},
   "outputs": [],
   "source": []
  }
 ],
 "metadata": {
  "kernelspec": {
   "display_name": "env",
   "language": "python",
   "name": "python3"
  },
  "language_info": {
   "codemirror_mode": {
    "name": "ipython",
    "version": 3
   },
   "file_extension": ".py",
   "mimetype": "text/x-python",
   "name": "python",
   "nbconvert_exporter": "python",
   "pygments_lexer": "ipython3",
   "version": "3.12.0"
  }
 },
 "nbformat": 4,
 "nbformat_minor": 2
}

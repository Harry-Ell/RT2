{
 "cells": [
  {
   "cell_type": "markdown",
   "id": "3ec91524",
   "metadata": {},
   "source": [
    "# Playing around with Kernels"
   ]
  },
  {
   "cell_type": "markdown",
   "id": "5a586559",
   "metadata": {},
   "source": []
  }
 ],
 "metadata": {
  "kernelspec": {
   "display_name": "env",
   "language": "python",
   "name": "python3"
  },
  "language_info": {
   "name": "python",
   "version": "3.12.0"
  }
 },
 "nbformat": 4,
 "nbformat_minor": 5
}

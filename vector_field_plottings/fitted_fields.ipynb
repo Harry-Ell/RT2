{
 "cells": [
  {
   "cell_type": "markdown",
   "id": "2c13ec42",
   "metadata": {},
   "source": [
    "# Gaussian Updated Fields + Analytics"
   ]
  },
  {
   "cell_type": "code",
   "execution_count": 1,
   "id": "be29ef2e",
   "metadata": {},
   "outputs": [],
   "source": [
    "import sys\n",
    "import numpy as np \n",
    "sys.path.append('..')"
   ]
  },
  {
   "cell_type": "code",
   "execution_count": 2,
   "id": "fbe8d646",
   "metadata": {},
   "outputs": [],
   "source": [
    "# Loading my modules\n",
    "from plotting_tools.plotter import plotter, cross_section_plotter\n",
    "from plotting_tools.field_comparison import differencer\n",
    "from physics_informed_vector_fields.current_carrying_wire import field_around_current_carrying_wire\n",
    "from physics_informed_vector_fields.current_carrying_coil import field_around_current_carrying_coil\n",
    "from GP_Implementation.Kernel import updated_vector_field"
   ]
  },
  {
   "cell_type": "code",
   "execution_count": 3,
   "id": "7efbb339",
   "metadata": {},
   "outputs": [],
   "source": [
    "# getting the fields to draw samples from\n",
    "outputs_wire = field_around_current_carrying_wire(100000000)\n",
    "outputs_coil = field_around_current_carrying_coil(100000000)"
   ]
  },
  {
   "cell_type": "markdown",
   "id": "7ae0a99c",
   "metadata": {},
   "source": [
    "## Determining Sampling Points"
   ]
  },
  {
   "cell_type": "code",
   "execution_count": 4,
   "id": "e9599020",
   "metadata": {},
   "outputs": [],
   "source": [
    "def sample_field(inputs, n_samples: int, random_seed: int = 0):\n",
    "    '''\n",
    "    Helper function to use to get random points from earlier fields. Samples n points from the given field data. \n",
    "\n",
    "    Args: \n",
    "        inputs[0], inputs[1], inputs[2] (np.ndarray): x, y, z Meshgrid coordinates.\n",
    "        inputs[3], inputs[4], inputs[5] (np.ndarray): Bx, By, Bz Magnetic field components.\n",
    "        n_samples (int): Number of points to sample.\n",
    "\n",
    "    Returns:\n",
    "        list of nd.arrays of sampled x, y and zs and fields at these points\n",
    "    '''\n",
    "    x, y, z, Bx, By, Bz = inputs[0], inputs[1], inputs[2], inputs[3], inputs[4], inputs[5]\n",
    "    np.random.seed(random_seed)\n",
    "    \n",
    "    resolution = x.shape[0]\n",
    "    indices = np.random.choice(resolution * resolution * resolution, size=n_samples, replace=False)\n",
    "    \n",
    "    x_samples = x.flatten()[indices]\n",
    "    y_samples = y.flatten()[indices]\n",
    "    z_samples = z.flatten()[indices]\n",
    "    Bx_samples = Bx.flatten()[indices]\n",
    "    By_samples = By.flatten()[indices]\n",
    "    Bz_samples = Bz.flatten()[indices]\n",
    "    \n",
    "    return x_samples, y_samples, z_samples, Bx_samples, By_samples, Bz_samples"
   ]
  },
  {
   "cell_type": "code",
   "execution_count": 5,
   "id": "458ef6ee",
   "metadata": {},
   "outputs": [
    {
     "data": {
      "application/vnd.plotly.v1+json": {
       "config": {
        "plotlyServerURL": "https://plot.ly"
       },
       "data": [
        {
         "anchor": "tail",
         "sizemode": "scaled",
         "sizeref": 2,
         "type": "cone",
         "u": {
          "bdata": "dLJecC32M8ADSArzWbYcwLS3AQdKfz7AYj3Qpbk0ZsDTfTX9MGBKwICC5ANi8TDAgILkA2LxMEAsytkvoaY/QCA4gR3x9EFAtrcBB0p/PkAgBigC+LRDwGI90KW5NGbAJboSqJz7QMAsytkvoaY/QE3GmebxPFHAw1qVrGqEEcB0sl5wLfYzQKF3iMvfQjjAwFnYuSBYM0CBguQDYvEwwNZKrHxB8SdAAf+otI4fScDJgGsCdKlFQMmAawJ0qUVAsTN4CJSnOcAluhKonPtAwMNalaxqhBFAirw6gQXfOEAxytkvoaY/wHSyXnAt9jNAoXeIy99COEAkuhKonPtAQMqAawJ0qUVAtrcBB0p/PsAgBigC+LRDQDHK2S+hpj9AyVqVrGqEEcAFMWtcrdtNwMFZ2LkgWDNALsrZL6GmP8AsytkvoaY/QHSyXnAt9jPACzFrXK3bTUAgOIEd8fRBwOjWwj22lCvAJboSqJz7QMCwM3gIlKc5QAxICvNZthxAyYBrAnSpRUAA/6i0jh9JwAgxa1yt201AtLcBB0p/PsAuytkvoaY/wATvhgZl1VpAibeA3T6RMsAA/6i0jh9JwP5s5jf48UHA/mzmN/jxQcDAWdi5IFgzwMmAawJ0qUVAB++GBmXVWsBenwSvmONBQAxICvNZthxAtLcBB0p/PkAA/6i0jh9JQIq8OoEF3zjALsrZL6GmP8AE74YGZdVaQOjWwj22lCvATcaZ5vE8UcAxytkvoaY/QLS3AQdKfz7A6NbCPbaUK0Do1sI9tpQrQICC5ANi8TBAAP+otI4fSUDKgGsCdKlFwLa3AQdKfz7AIDiBHfH0QUBenwSvmONBwC7K2S+hpj/AYj3Qpbk0ZsDKgGsCdKlFwMBZ2LkgWDPAdLJecC32M0AgOIEd8fRBwCzK2S+hpj9AIAYoAvi0Q0AgBigC+LRDwKF3iMvfQjjAYj3Qpbk0ZsAgBigC+LRDwICC5ANi8TBA/mzmN/jxQcALMWtcrdtNQAH/qLSOH0nAB++GBmXVWsCKvDqBBd84QAUxa1yt203AXp8Er5jjQUA=",
          "dtype": "f8"
         },
         "v": {
          "bdata": "dLJecC32M0AA/6i0jh9JQH+C5ANi8TDAYj3Qpbk0ZkAvytkvoaY/QLa3AQdKfz5AtLcBB0p/PsDOfTX9MGBKwNhKrHxB8SfAgYLkA2LxMEDEWpWsaoQRwGI90KW5NGZAoHeIy99COEDOfTX9MGBKwOnWwj22lCtAIAYoAvi0Q8B0sl5wLfYzQCS6Eqic+0DAjLw6gQXfOMC2twEHSn8+wCA4gR3x9EHAAkgK81m2HMCKt4DdPpEywIq3gN0+kTLAsTN4CJSnOUCgd4jL30I4QCAGKAL4tEPAwlnYuSBYM8DTfTX9MGBKQHOyXnAt9jPAI7oSqJz7QECfd4jL30I4QIi3gN0+kTJAgYLkA2LxMEDEWpWsaoQRwNB9Nf0wYEpAIAYoAvi0Q0AMMWtcrdtNwIu8OoEF3zhA0H01/TBgSsDOfTX9MGBKwHSyXnAt9jNABzFrXK3bTUDVSqx8QfEnQEvGmebxPFHAoHeIy99COECvM3gIlKc5QP/+qLSOH0nAireA3T6RMsAKSArzWbYcQAcxa1yt203Af4LkA2LxMMDQfTX9MGBKwFqfBK+Y40HAzIBrAnSpRUAKSArzWbYcQAJt5jf48UHAAm3mN/jxQcCLvDqBBd84QIq3gN0+kTLAXp8Er5jjQUAH74YGZdVaQP/+qLSOH0nAf4LkA2LxMMABSArzWbYcwMJZ2LkgWDPA0H01/TBgSsBZnwSvmONBQEvGmebxPFHA6dbCPbaUK0DQfTX9MGBKQH+C5ANi8TDATcaZ5vE8UUBLxpnm8TxRwLS3AQdKfz5AAUgK81m2HMCLt4DdPpEywIGC5ANi8TBA1UqsfEHxJ0AH74YGZdVaQNB9Nf0wYErAYT3Qpbk0ZsCLt4DdPpEywIu8OoEF3zhAdLJecC32M0DVSqx8QfEnQM59Nf0wYErAylqVrGqEEUDEWpWsaoQRwCW6Eqic+0BAYT3Qpbk0ZsDEWpWsaoQRwLS3AQdKfz5AAm3mN/jxQcAHMWtcrdtNQAJICvNZthzAXp8Er5jjQUDCWdi5IFgzwAwxa1yt203AB++GBmXVWkA=",
          "dtype": "f8"
         },
         "w": {
          "bdata": "AAAAAAAAAAAAAAAAAAAAAAAAAAAAAAAAAAAAAAAAAAAAAAAAAAAAAAAAAAAAAAAAAAAAAAAAAAAAAAAAAAAAAAAAAAAAAAAAAAAAAAAAAAAAAAAAAAAAAAAAAAAAAAAAAAAAAAAAAAAAAAAAAAAAAAAAAAAAAAAAAAAAAAAAAAAAAAAAAAAAAAAAAAAAAAAAAAAAAAAAAAAAAAAAAAAAAAAAAAAAAAAAAAAAAAAAAAAAAAAAAAAAAAAAAAAAAAAAAAAAAAAAAAAAAAAAAAAAAAAAAAAAAAAAAAAAAAAAAAAAAAAAAAAAAAAAAAAAAAAAAAAAAAAAAAAAAAAAAAAAAAAAAAAAAAAAAAAAAAAAAAAAAAAAAAAAAAAAAAAAAAAAAAAAAAAAAAAAAAAAAAAAAAAAAAAAAAAAAAAAAAAAAAAAAAAAAAAAAAAAAAAAAAAAAAAAAAAAAAAAAAAAAAAAAAAAAAAAAAAAAAAAAAAAAAAAAAAAAAAAAAAAAAAAAAAAAAAAAAAAAAAAAAAAAAAAAAAAAAAAAAAAAAAAAAAAAAAAAAAAAAAAAAAAAAAAAAAAAAAAAAAAAAAAAAAAAAAAAAAAAAAAAAAAAAAAAAAAAAAAAAAAAAAAAAAAAAAAAAAAAAAAAAAAAAAAAAAAAAAAAAAAAAAAAAAAAAAAAAAAAAAAAAAAAAAAAAAAAAAAAAAAAAAAAAAAAAAAAAAAAAAAAAAAAAAAAAAAAAAAAAAAAAAAAAAAAAAAAAAAAAAAAAAAAAAAAAAAAAAAAAAAAAAAAAAAAAAAAAAAAAAAAAAAAAAAAAAAAAAAAAAAAAAAAAAAAAAAAAAAAAAAAAAAAAAAAAAAAAAAAAAAAAAAAAAAAAAAAAAAAAAAAAAAAAAAAAAAAAAAAAAAAAAAAAAAAAAAAAAAAAAAAAAAAAAAAAAAAAAAAAAAAAAAAAAAAAAAAAAAAAAAAAAAAAAAAAAAAAAAAAAAAAAAAAAAAAAAAAAAAAAAAAAAAAAAAAAAAAAAAAAAAAAAAAAAAAAAAAAAAAAAAAAAAAAAAAAAAAAAAAAAAAA=",
          "dtype": "f8"
         },
         "x": {
          "bdata": "AAAAAAAA4D84juM4juPYP3Icx3Ecx9G/IMdxHMdxrD9UVVVVVVXFPwAAAAAAAOA/AAAAAAAA4L9yHMdxHMfRv1ZVVVVVVcW/cBzHcRzH0T8gx3Ecx3GsvyDHcRzHcaw/cBzHcRzH0T9yHMdxHMfRvyDHcRzHcaw/AAAAAAAA4L8AAAAAAADgPzmO4ziO49i/AAAAAAAA4L8AAAAAAADgvwAAAAAAAOC/IMdxHMdxrL9WVVVVVVXFv1ZVVVVVVcW/OI7jOI7j2D9wHMdxHMfRPwAAAAAAAOC/OY7jOI7j2L9wHMdxHMfRPwAAAAAAAOC/OI7jOI7j2D9wHMdxHMfRP1RVVVVVVcU/cBzHcRzH0T8gx3Ecx3Gsv3Acx3Ecx9E/AAAAAAAA4D9WVVVVVVXFvwAAAAAAAOA/chzHcRzH0b9yHMdxHMfRvwAAAAAAAOA/VFVVVVVVxT9UVVVVVVXFP3Icx3Ecx9G/cBzHcRzH0T84juM4juPYPzmO4ziO49i/VlVVVVVVxb8gx3Ecx3GsP1ZVVVVVVcW/chzHcRzH0b9yHMdxHMfRvyDHcRzHcay/OI7jOI7j2D8gx3Ecx3GsP3Icx3Ecx9G/chzHcRzH0b8AAAAAAADgP1ZVVVVVVcW/IMdxHMdxrD9UVVVVVVXFPzmO4ziO49i/chzHcRzH0b8gx3Ecx3GsvzmO4ziO49i/chzHcRzH0b8gx3Ecx3GsP3Icx3Ecx9G/IMdxHMdxrD9wHMdxHMfRP3Icx3Ecx9G/cBzHcRzH0T9yHMdxHMfRvwAAAAAAAOA/IMdxHMdxrL9WVVVVVVXFv3Acx3Ecx9E/VFVVVVVVxT9UVVVVVVXFP3Icx3Ecx9G/IMdxHMdxrL9WVVVVVVXFvwAAAAAAAOA/AAAAAAAA4D9UVVVVVVXFP3Icx3Ecx9G/IMdxHMdxrD8gx3Ecx3GsvziO4ziO49g/IMdxHMdxrL8gx3Ecx3GsvwAAAAAAAOA/chzHcRzH0b9UVVVVVVXFPyDHcRzHcay/IMdxHMdxrD85juM4juPYv1ZVVVVVVcW/VFVVVVVVxT8=",
          "dtype": "f8"
         },
         "y": {
          "bdata": "AAAAAAAA4D8gx3Ecx3GsPwAAAAAAAOA/IMdxHMdxrD9wHMdxHMfRP3Acx3Ecx9E/chzHcRzH0b9WVVVVVVXFvwAAAAAAAOC/AAAAAAAA4L8AAAAAAADgPyDHcRzHcaw/OI7jOI7j2D9WVVVVVVXFv3Acx3Ecx9E/IMdxHMdxrD8AAAAAAADgv3Acx3Ecx9E/OY7jOI7j2L9wHMdxHMfRP1ZVVVVVVcW/OI7jOI7j2D85juM4juPYvzmO4ziO49i/OI7jOI7j2D84juM4juPYPyDHcRzHcay/AAAAAAAA4L9UVVVVVVXFPwAAAAAAAOC/chzHcRzH0b85juM4juPYvzmO4ziO49i/AAAAAAAA4D8AAAAAAADgv1ZVVVVVVcW/IMdxHMdxrD9UVVVVVVXFPzmO4ziO49i/VFVVVVVVxT9WVVVVVVXFvwAAAAAAAOA/VlVVVVVVxb8AAAAAAADgPyDHcRzHcaw/OI7jOI7j2D85juM4juPYvyDHcRzHcay/OY7jOI7j2L84juM4juPYP1ZVVVVVVcW/AAAAAAAA4D9UVVVVVVXFP1ZVVVVVVcW/VFVVVVVVxT84juM4juPYP3Acx3Ecx9E/cBzHcRzH0T84juM4juPYPzmO4ziO49i/VFVVVVVVxT8gx3Ecx3GsvyDHcRzHcay/AAAAAAAA4L85juM4juPYvwAAAAAAAOA/VFVVVVVVxT9WVVVVVVXFvyDHcRzHcaw/cBzHcRzH0T9WVVVVVVXFvwAAAAAAAOA/IMdxHMdxrL8gx3Ecx3Gsv3Icx3Ecx9G/OY7jOI7j2L84juM4juPYPwAAAAAAAOA/AAAAAAAA4L8gx3Ecx3GsP1RVVVVVVcU/IMdxHMdxrD84juM4juPYPziO4ziO49g/AAAAAAAA4L8AAAAAAADgP1ZVVVVVVcW/AAAAAAAA4L8AAAAAAADgP3Acx3Ecx9E/IMdxHMdxrD8AAAAAAADgP3Icx3Ecx9G/cBzHcRzH0T9WVVVVVVXFvziO4ziO49g/VFVVVVVVxT8AAAAAAADgv1RVVVVVVcU/IMdxHMdxrL8=",
          "dtype": "f8"
         },
         "z": {
          "bdata": "VlVVVVVVxb8AAAAAAADgPziO4ziO49g/VlVVVVVVxb9yHMdxHMfRvzmO4ziO49i/cBzHcRzH0T85juM4juPYv1RVVVVVVcU/VFVVVVVVxT9UVVVVVVXFPziO4ziO49g/IMdxHMdxrL8AAAAAAADgPziO4ziO49g/IMdxHMdxrD9UVVVVVVXFPyDHcRzHcaw/IMdxHMdxrL9wHMdxHMfRPzmO4ziO49i/OY7jOI7j2L8AAAAAAADgvzmO4ziO49i/VlVVVVVVxb84juM4juPYPyDHcRzHcaw/VlVVVVVVxb8AAAAAAADgvzmO4ziO49i/VlVVVVVVxb8AAAAAAADgvyDHcRzHcay/AAAAAAAA4L84juM4juPYP1RVVVVVVcU/cBzHcRzH0T9UVVVVVVXFPziO4ziO49g/cBzHcRzH0T8AAAAAAADgv1RVVVVVVcU/IMdxHMdxrD84juM4juPYPzmO4ziO49i/VlVVVVVVxb8AAAAAAADgPzmO4ziO49i/VFVVVVVVxT9wHMdxHMfRPzmO4ziO49i/IMdxHMdxrD9yHMdxHMfRv3Icx3Ecx9G/chzHcRzH0b9yHMdxHMfRv3Icx3Ecx9G/AAAAAAAA4L9wHMdxHMfRPwAAAAAAAOA/AAAAAAAA4D9WVVVVVVXFv3Icx3Ecx9G/chzHcRzH0b9WVVVVVVXFv1RVVVVVVcU/IMdxHMdxrL85juM4juPYv3Icx3Ecx9G/VFVVVVVVxT84juM4juPYPwAAAAAAAOA/AAAAAAAA4L9wHMdxHMfRP1RVVVVVVcU/chzHcRzH0b8AAAAAAADgP1RVVVVVVcU/OY7jOI7j2L8gx3Ecx3GsvzmO4ziO49i/VFVVVVVVxT9UVVVVVVXFP3Icx3Ecx9G/AAAAAAAA4D9WVVVVVVXFv1RVVVVVVcU/OY7jOI7j2L9wHMdxHMfRPyDHcRzHcay/chzHcRzH0b8gx3Ecx3Gsv1ZVVVVVVcW/AAAAAAAA4D84juM4juPYPyDHcRzHcaw/OI7jOI7j2D84juM4juPYP3Acx3Ecx9E/IMdxHMdxrL8=",
          "dtype": "f8"
         }
        }
       ],
       "layout": {
        "scene": {
         "xaxis": {
          "title": {
           "text": "X"
          }
         },
         "yaxis": {
          "title": {
           "text": "Y"
          }
         },
         "zaxis": {
          "title": {
           "text": "Z"
          }
         }
        },
        "template": {
         "data": {
          "bar": [
           {
            "error_x": {
             "color": "#2a3f5f"
            },
            "error_y": {
             "color": "#2a3f5f"
            },
            "marker": {
             "line": {
              "color": "#E5ECF6",
              "width": 0.5
             },
             "pattern": {
              "fillmode": "overlay",
              "size": 10,
              "solidity": 0.2
             }
            },
            "type": "bar"
           }
          ],
          "barpolar": [
           {
            "marker": {
             "line": {
              "color": "#E5ECF6",
              "width": 0.5
             },
             "pattern": {
              "fillmode": "overlay",
              "size": 10,
              "solidity": 0.2
             }
            },
            "type": "barpolar"
           }
          ],
          "carpet": [
           {
            "aaxis": {
             "endlinecolor": "#2a3f5f",
             "gridcolor": "white",
             "linecolor": "white",
             "minorgridcolor": "white",
             "startlinecolor": "#2a3f5f"
            },
            "baxis": {
             "endlinecolor": "#2a3f5f",
             "gridcolor": "white",
             "linecolor": "white",
             "minorgridcolor": "white",
             "startlinecolor": "#2a3f5f"
            },
            "type": "carpet"
           }
          ],
          "choropleth": [
           {
            "colorbar": {
             "outlinewidth": 0,
             "ticks": ""
            },
            "type": "choropleth"
           }
          ],
          "contour": [
           {
            "colorbar": {
             "outlinewidth": 0,
             "ticks": ""
            },
            "colorscale": [
             [
              0,
              "#0d0887"
             ],
             [
              0.1111111111111111,
              "#46039f"
             ],
             [
              0.2222222222222222,
              "#7201a8"
             ],
             [
              0.3333333333333333,
              "#9c179e"
             ],
             [
              0.4444444444444444,
              "#bd3786"
             ],
             [
              0.5555555555555556,
              "#d8576b"
             ],
             [
              0.6666666666666666,
              "#ed7953"
             ],
             [
              0.7777777777777778,
              "#fb9f3a"
             ],
             [
              0.8888888888888888,
              "#fdca26"
             ],
             [
              1,
              "#f0f921"
             ]
            ],
            "type": "contour"
           }
          ],
          "contourcarpet": [
           {
            "colorbar": {
             "outlinewidth": 0,
             "ticks": ""
            },
            "type": "contourcarpet"
           }
          ],
          "heatmap": [
           {
            "colorbar": {
             "outlinewidth": 0,
             "ticks": ""
            },
            "colorscale": [
             [
              0,
              "#0d0887"
             ],
             [
              0.1111111111111111,
              "#46039f"
             ],
             [
              0.2222222222222222,
              "#7201a8"
             ],
             [
              0.3333333333333333,
              "#9c179e"
             ],
             [
              0.4444444444444444,
              "#bd3786"
             ],
             [
              0.5555555555555556,
              "#d8576b"
             ],
             [
              0.6666666666666666,
              "#ed7953"
             ],
             [
              0.7777777777777778,
              "#fb9f3a"
             ],
             [
              0.8888888888888888,
              "#fdca26"
             ],
             [
              1,
              "#f0f921"
             ]
            ],
            "type": "heatmap"
           }
          ],
          "histogram": [
           {
            "marker": {
             "pattern": {
              "fillmode": "overlay",
              "size": 10,
              "solidity": 0.2
             }
            },
            "type": "histogram"
           }
          ],
          "histogram2d": [
           {
            "colorbar": {
             "outlinewidth": 0,
             "ticks": ""
            },
            "colorscale": [
             [
              0,
              "#0d0887"
             ],
             [
              0.1111111111111111,
              "#46039f"
             ],
             [
              0.2222222222222222,
              "#7201a8"
             ],
             [
              0.3333333333333333,
              "#9c179e"
             ],
             [
              0.4444444444444444,
              "#bd3786"
             ],
             [
              0.5555555555555556,
              "#d8576b"
             ],
             [
              0.6666666666666666,
              "#ed7953"
             ],
             [
              0.7777777777777778,
              "#fb9f3a"
             ],
             [
              0.8888888888888888,
              "#fdca26"
             ],
             [
              1,
              "#f0f921"
             ]
            ],
            "type": "histogram2d"
           }
          ],
          "histogram2dcontour": [
           {
            "colorbar": {
             "outlinewidth": 0,
             "ticks": ""
            },
            "colorscale": [
             [
              0,
              "#0d0887"
             ],
             [
              0.1111111111111111,
              "#46039f"
             ],
             [
              0.2222222222222222,
              "#7201a8"
             ],
             [
              0.3333333333333333,
              "#9c179e"
             ],
             [
              0.4444444444444444,
              "#bd3786"
             ],
             [
              0.5555555555555556,
              "#d8576b"
             ],
             [
              0.6666666666666666,
              "#ed7953"
             ],
             [
              0.7777777777777778,
              "#fb9f3a"
             ],
             [
              0.8888888888888888,
              "#fdca26"
             ],
             [
              1,
              "#f0f921"
             ]
            ],
            "type": "histogram2dcontour"
           }
          ],
          "mesh3d": [
           {
            "colorbar": {
             "outlinewidth": 0,
             "ticks": ""
            },
            "type": "mesh3d"
           }
          ],
          "parcoords": [
           {
            "line": {
             "colorbar": {
              "outlinewidth": 0,
              "ticks": ""
             }
            },
            "type": "parcoords"
           }
          ],
          "pie": [
           {
            "automargin": true,
            "type": "pie"
           }
          ],
          "scatter": [
           {
            "fillpattern": {
             "fillmode": "overlay",
             "size": 10,
             "solidity": 0.2
            },
            "type": "scatter"
           }
          ],
          "scatter3d": [
           {
            "line": {
             "colorbar": {
              "outlinewidth": 0,
              "ticks": ""
             }
            },
            "marker": {
             "colorbar": {
              "outlinewidth": 0,
              "ticks": ""
             }
            },
            "type": "scatter3d"
           }
          ],
          "scattercarpet": [
           {
            "marker": {
             "colorbar": {
              "outlinewidth": 0,
              "ticks": ""
             }
            },
            "type": "scattercarpet"
           }
          ],
          "scattergeo": [
           {
            "marker": {
             "colorbar": {
              "outlinewidth": 0,
              "ticks": ""
             }
            },
            "type": "scattergeo"
           }
          ],
          "scattergl": [
           {
            "marker": {
             "colorbar": {
              "outlinewidth": 0,
              "ticks": ""
             }
            },
            "type": "scattergl"
           }
          ],
          "scattermap": [
           {
            "marker": {
             "colorbar": {
              "outlinewidth": 0,
              "ticks": ""
             }
            },
            "type": "scattermap"
           }
          ],
          "scattermapbox": [
           {
            "marker": {
             "colorbar": {
              "outlinewidth": 0,
              "ticks": ""
             }
            },
            "type": "scattermapbox"
           }
          ],
          "scatterpolar": [
           {
            "marker": {
             "colorbar": {
              "outlinewidth": 0,
              "ticks": ""
             }
            },
            "type": "scatterpolar"
           }
          ],
          "scatterpolargl": [
           {
            "marker": {
             "colorbar": {
              "outlinewidth": 0,
              "ticks": ""
             }
            },
            "type": "scatterpolargl"
           }
          ],
          "scatterternary": [
           {
            "marker": {
             "colorbar": {
              "outlinewidth": 0,
              "ticks": ""
             }
            },
            "type": "scatterternary"
           }
          ],
          "surface": [
           {
            "colorbar": {
             "outlinewidth": 0,
             "ticks": ""
            },
            "colorscale": [
             [
              0,
              "#0d0887"
             ],
             [
              0.1111111111111111,
              "#46039f"
             ],
             [
              0.2222222222222222,
              "#7201a8"
             ],
             [
              0.3333333333333333,
              "#9c179e"
             ],
             [
              0.4444444444444444,
              "#bd3786"
             ],
             [
              0.5555555555555556,
              "#d8576b"
             ],
             [
              0.6666666666666666,
              "#ed7953"
             ],
             [
              0.7777777777777778,
              "#fb9f3a"
             ],
             [
              0.8888888888888888,
              "#fdca26"
             ],
             [
              1,
              "#f0f921"
             ]
            ],
            "type": "surface"
           }
          ],
          "table": [
           {
            "cells": {
             "fill": {
              "color": "#EBF0F8"
             },
             "line": {
              "color": "white"
             }
            },
            "header": {
             "fill": {
              "color": "#C8D4E3"
             },
             "line": {
              "color": "white"
             }
            },
            "type": "table"
           }
          ]
         },
         "layout": {
          "annotationdefaults": {
           "arrowcolor": "#2a3f5f",
           "arrowhead": 0,
           "arrowwidth": 1
          },
          "autotypenumbers": "strict",
          "coloraxis": {
           "colorbar": {
            "outlinewidth": 0,
            "ticks": ""
           }
          },
          "colorscale": {
           "diverging": [
            [
             0,
             "#8e0152"
            ],
            [
             0.1,
             "#c51b7d"
            ],
            [
             0.2,
             "#de77ae"
            ],
            [
             0.3,
             "#f1b6da"
            ],
            [
             0.4,
             "#fde0ef"
            ],
            [
             0.5,
             "#f7f7f7"
            ],
            [
             0.6,
             "#e6f5d0"
            ],
            [
             0.7,
             "#b8e186"
            ],
            [
             0.8,
             "#7fbc41"
            ],
            [
             0.9,
             "#4d9221"
            ],
            [
             1,
             "#276419"
            ]
           ],
           "sequential": [
            [
             0,
             "#0d0887"
            ],
            [
             0.1111111111111111,
             "#46039f"
            ],
            [
             0.2222222222222222,
             "#7201a8"
            ],
            [
             0.3333333333333333,
             "#9c179e"
            ],
            [
             0.4444444444444444,
             "#bd3786"
            ],
            [
             0.5555555555555556,
             "#d8576b"
            ],
            [
             0.6666666666666666,
             "#ed7953"
            ],
            [
             0.7777777777777778,
             "#fb9f3a"
            ],
            [
             0.8888888888888888,
             "#fdca26"
            ],
            [
             1,
             "#f0f921"
            ]
           ],
           "sequentialminus": [
            [
             0,
             "#0d0887"
            ],
            [
             0.1111111111111111,
             "#46039f"
            ],
            [
             0.2222222222222222,
             "#7201a8"
            ],
            [
             0.3333333333333333,
             "#9c179e"
            ],
            [
             0.4444444444444444,
             "#bd3786"
            ],
            [
             0.5555555555555556,
             "#d8576b"
            ],
            [
             0.6666666666666666,
             "#ed7953"
            ],
            [
             0.7777777777777778,
             "#fb9f3a"
            ],
            [
             0.8888888888888888,
             "#fdca26"
            ],
            [
             1,
             "#f0f921"
            ]
           ]
          },
          "colorway": [
           "#636efa",
           "#EF553B",
           "#00cc96",
           "#ab63fa",
           "#FFA15A",
           "#19d3f3",
           "#FF6692",
           "#B6E880",
           "#FF97FF",
           "#FECB52"
          ],
          "font": {
           "color": "#2a3f5f"
          },
          "geo": {
           "bgcolor": "white",
           "lakecolor": "white",
           "landcolor": "#E5ECF6",
           "showlakes": true,
           "showland": true,
           "subunitcolor": "white"
          },
          "hoverlabel": {
           "align": "left"
          },
          "hovermode": "closest",
          "mapbox": {
           "style": "light"
          },
          "paper_bgcolor": "white",
          "plot_bgcolor": "#E5ECF6",
          "polar": {
           "angularaxis": {
            "gridcolor": "white",
            "linecolor": "white",
            "ticks": ""
           },
           "bgcolor": "#E5ECF6",
           "radialaxis": {
            "gridcolor": "white",
            "linecolor": "white",
            "ticks": ""
           }
          },
          "scene": {
           "xaxis": {
            "backgroundcolor": "#E5ECF6",
            "gridcolor": "white",
            "gridwidth": 2,
            "linecolor": "white",
            "showbackground": true,
            "ticks": "",
            "zerolinecolor": "white"
           },
           "yaxis": {
            "backgroundcolor": "#E5ECF6",
            "gridcolor": "white",
            "gridwidth": 2,
            "linecolor": "white",
            "showbackground": true,
            "ticks": "",
            "zerolinecolor": "white"
           },
           "zaxis": {
            "backgroundcolor": "#E5ECF6",
            "gridcolor": "white",
            "gridwidth": 2,
            "linecolor": "white",
            "showbackground": true,
            "ticks": "",
            "zerolinecolor": "white"
           }
          },
          "shapedefaults": {
           "line": {
            "color": "#2a3f5f"
           }
          },
          "ternary": {
           "aaxis": {
            "gridcolor": "white",
            "linecolor": "white",
            "ticks": ""
           },
           "baxis": {
            "gridcolor": "white",
            "linecolor": "white",
            "ticks": ""
           },
           "bgcolor": "#E5ECF6",
           "caxis": {
            "gridcolor": "white",
            "linecolor": "white",
            "ticks": ""
           }
          },
          "title": {
           "x": 0.05
          },
          "xaxis": {
           "automargin": true,
           "gridcolor": "white",
           "linecolor": "white",
           "ticks": "",
           "title": {
            "standoff": 15
           },
           "zerolinecolor": "white",
           "zerolinewidth": 2
          },
          "yaxis": {
           "automargin": true,
           "gridcolor": "white",
           "linecolor": "white",
           "ticks": "",
           "title": {
            "standoff": 15
           },
           "zerolinecolor": "white",
           "zerolinewidth": 2
          }
         }
        },
        "title": {
         "text": "Points given to our GP Regressor for current carrying wire"
        }
       }
      }
     },
     "metadata": {},
     "output_type": "display_data"
    }
   ],
   "source": [
    "sampled_outputs_wire = sample_field(outputs_wire, n_samples=100)\n",
    "plotter(sampled_outputs_wire, \n",
    "        title = 'Points given to our GP Regressor for current carrying wire')"
   ]
  },
  {
   "cell_type": "code",
   "execution_count": 6,
   "id": "883ecf1a",
   "metadata": {},
   "outputs": [
    {
     "data": {
      "application/vnd.plotly.v1+json": {
       "config": {
        "plotlyServerURL": "https://plot.ly"
       },
       "data": [
        {
         "anchor": "tail",
         "sizemode": "scaled",
         "sizeref": 2,
         "type": "cone",
         "u": {
          "bdata": "cqNXjIO+McDru3HNYg00QPyPv4MgEizAZnkYt9U2E8CJKbDBG6gxwKMBxqmDQznAgMRfOWU0QcDW6IubQxw2QKDhV0kkly7AL3H1EcJbNUDCynN/gfQVwGhEJ1xzfhJAufRPsu85LMA+HEziLA0vwPiRsBixFBJAd/3gxcvTN8Bzo1eMg74xQI9ensknwjPAzKK2ZLuwKkCExF85ZTRBwIasFVszyzxAr70Ta42VEECOdI0/8m0gQPMi1REg3CdA6/3NwL9nQMBbsip0lP4xQGX94MXL0zfAbCIGXqnNNUBAHEziLA0vwIMHNfXahS5AToiHt3JvRMD8GWI1JdIowKYQKhZ9gCLAxemDx2ntI8CYq99QwDILwMbm5DpBKz9Ana2uxLh5RUAlzUGzUd4wwIduDWBjczRAiZolmINtPcA+HEziLA0vQHOjV4yDvjFATnd6UrEyHkCwHbk8IjIjQGm23F7dmTZASOdTT38xPcAeITFcT4ktQAGMYnu3BT1ASVlyykT6MsDFDXUe6u4WQDZ6zd9LhitADao47XKiJMCGmiWYg209QGMnIeoIbxZAX2TeK0R2Q8C9DXUe6u4WwBFREqakqjxAXcM0k2ilLEDNSieeR4M6QI50jT/ybSDA4XxTfJ0/C0CTc0h9tVcvwABsptoMEURAgqH4zcUdM0D/sE2h76sZQGoiBl6pzTXAtFxLa4WkLUBrFp/Q6nwSwGuNY3B9ST1AiTEummnhF0Dk6IubQxw2QM3pg8dp7SPAhu4Vy7sTMMB5jWNwfUk9wBIZkHb7OENAsw11HuruFkCKdI0/8m0gwENx9RHCWzVArR25PCIyI8AlkDQG3QwbwOToi5tDHDZAYXkYt9U2E8BRWXLKRPoywM1KJ55HgzrA8JXA+UeqJ0Cf4VdJJJcuwMDm5DpBKz/AbKvfUMAyC8ADRZsg3RYTwIhensknwjPA9T5M3r6fFUA74QB3Ci4FQBMZkHb7OEPAXcM0k2ilLMAnes3fS4YrQNqGwbkxCAnAaBaf0Op8EkBxj7/q788vwPPG4E2ZSTHAJJA0Bt0MG8A=",
          "dtype": "f8"
         },
         "v": {
          "bdata": "bqNXjIO+McAcaV0PuuoGQJ0BxqmDQzlAWXkYt9U2E8B/miWYg209wAaQv4MgEizAeKH4zcUdM8CoSg4hUYgqQDbpATdb8UbAFRmQdvs4Q8AcRGKvEbNIQIFEJ1xzfhJAiF6eySfCM8D4EJRUgaEiwGy23F7dmTZAQuEAdwouBUBxo1eMg74xwLb0T7LvOSxA4AyO3FjCJECJofjNxR0zQKEduTwiMiNAD4xie7cFPcCZss/07yozQGZTI2ol1jtA6/3NwL9nQMB0xjs8NjE5QD7hAHcKLgXAX3UsC2wIPEDxEJRUgaEiwJgHNfXahS5ATOdTT38xPUCbeJHY5l8xQL9ohkTnlTVAyrj2mUXvMcDwoPtaGJk+wHiKvImNszLA8kSbIN0WE0AszUGzUd4wQHGPv+rvzy/AgSmwwRuoMUD4EJRUgaEiQG6jV4yDvjFAU3d6UrEyHsB/rBVbM8s8QOGRsBixFBLAUoiHt3JvRMAkITFcT4ktwKi9E2uNlRBA2RIw7PojRsD5a6baDBFEQCh6zd9LhitAkzLmOzSSMkB/KbDBG6gxwIndmK9G0zBAROhQk4OuMMD1a6baDBFEwA1REqakqjzAUsM0k2ilLMAEc1fQ/p40QJmyz/TvKjPAoJ0+HbZvJEDC99qoI+UUQL0NdR7q7hZAhMRfOWU0QUDa+iOtcXZGQFh1LAtsCDxAcQT62RzJIcCcoe44YLsrQIbXgvP9bRfA9725AMTZPUCoSg4hUYgqwNC49plF7zFAXRcjeCy5CUCh14Lz/W0XwDJx9RHCWzXA/mum2gwRRECUss/07yozQCkZkHb7OENAgqwVWzPLPEAhYHhZkwgCwJNKDiFRiCrAd3kYt9U2E0DSEjDs+iNGQAJzV9D+njTA95XA+UeqJ8A66QE3W/FGwH6KvImNszLA56D7WhiZPkCOra7EuHlFQLb0T7LvOSzABT9M3r6fFcBo/eDFy9M3wDNx9RHCWzVAUsM0k2ilLEAtes3fS4YrwA1WiYIr5zVAqKHuOGC7K0CDbg1gY3M0wPTG4E2ZSTFAGWB4WZMIAkA=",
          "dtype": "f8"
         },
         "w": {
          "bdata": "e+UkaBofJcCILaa2mWY7QKzST+d7NC5A0OV5+v8lWUCxpk9/pS5QQKfST+d7NC5A+zt+MR1iLkA7L/11xaNGQBaj8I5SJTtA0LP8mV/+J0CKdCNiHiBCQGA62W6OX01AQ7Lw4T+XS0BFvx+DJi1AQOaXJPn5fEhAVVKI5KO+RECA5SRoGh8lwD6y8OE/l0tAIuIEVgcuJ8D/O34xHWIuQBfB5Ye3dDRAKvamwA3WQkD+48IQVQ05QL2x9WmJ9EBAC+meE5IFM0BSbqZY7cc6QFdSiOSjvkRAPgFLP2tzBMBDvx+DJi1AQOByLSFougtAO5rGHB4OR0BxP4rWlbA0QMxPmQRX61RAjuK8yhsCK0ApCPpX0oA3QO0Zah0H31ZAM0WYcfd6PUC15NvLE9xYQFmhduUKyiFAsqZPf6UuUEBFvx+DJi1AQH3lJGgaHyXAMT0QCFIJXkAWweWHt3Q0QN2XJPn5fEhAOZrGHB4OR0C1uSYXzDQuQC/2psAN1kJANSVH98elUECnlkImV7ZKQHgH0ADwP0pAl7BqW1wuH0Cwpk9/pS5QQFsEyiFuM1NA04pjpLmnR0CjlkImV7ZKQKqWQiZXtkpAii2mtplmO0CYxs/+1yMWQP7jwhBVDTlABnp5v2YGREA+LJwWTC5ZQKOWQiZXtkpA+Dt+MR1iLkCpDgDb8gxTQEUBSz9rcwTAcAK4XfXQXEABzxK+b+NLQMkf4r9EYlFAJYrTTPoaWEA4L/11xaNGQJXivMobAitAsv7Mg5V0QUDLH+K/RGJRQN+z/Jlf/idArZZCJle2SkDx48IQVQ05QN+z/Jlf/idADcHlh7d0NEAKE5Ohi6BdQD8v/XXFo0ZAzuV5+v8lWUA5JUf3x6VQQJvGz/7XIxZAzyifUWUsFkAZo/COUiU7QOkZah0H31ZAJQj6V9KAN0AuRZhx93o9QEGy8OE/l0tAQUVbFWHLU0BUUojko75EQN+z/Jlf/idAii2mtplmO0B8B9AA8D9KQK+8ylX7MVhA/M4Svm/jS0BXoXblCsohQHPkMXVzZVJAEBOToYugXUA=",
          "dtype": "f8"
         },
         "x": {
          "bdata": "AAAAAAAA4D84juM4juPYP3Icx3Ecx9G/IMdxHMdxrD9UVVVVVVXFPwAAAAAAAOA/AAAAAAAA4L9yHMdxHMfRv1ZVVVVVVcW/cBzHcRzH0T8gx3Ecx3GsvyDHcRzHcaw/cBzHcRzH0T9yHMdxHMfRvyDHcRzHcaw/AAAAAAAA4L8AAAAAAADgPzmO4ziO49i/AAAAAAAA4L8AAAAAAADgvwAAAAAAAOC/IMdxHMdxrL9WVVVVVVXFv1ZVVVVVVcW/OI7jOI7j2D9wHMdxHMfRPwAAAAAAAOC/OY7jOI7j2L9wHMdxHMfRPwAAAAAAAOC/OI7jOI7j2D9wHMdxHMfRP1RVVVVVVcU/cBzHcRzH0T8gx3Ecx3Gsv3Acx3Ecx9E/AAAAAAAA4D9WVVVVVVXFvwAAAAAAAOA/chzHcRzH0b9yHMdxHMfRvwAAAAAAAOA/VFVVVVVVxT9UVVVVVVXFP3Icx3Ecx9G/cBzHcRzH0T84juM4juPYPzmO4ziO49i/VlVVVVVVxb8gx3Ecx3GsP1ZVVVVVVcW/chzHcRzH0b9yHMdxHMfRvyDHcRzHcay/OI7jOI7j2D8gx3Ecx3GsP3Icx3Ecx9G/chzHcRzH0b8AAAAAAADgP1ZVVVVVVcW/IMdxHMdxrD9UVVVVVVXFPzmO4ziO49i/chzHcRzH0b8gx3Ecx3GsvzmO4ziO49i/chzHcRzH0b8gx3Ecx3GsP3Icx3Ecx9G/IMdxHMdxrD9wHMdxHMfRP3Icx3Ecx9G/cBzHcRzH0T9yHMdxHMfRvwAAAAAAAOA/IMdxHMdxrL9WVVVVVVXFv3Acx3Ecx9E/VFVVVVVVxT9UVVVVVVXFP3Icx3Ecx9G/IMdxHMdxrL9WVVVVVVXFvwAAAAAAAOA/AAAAAAAA4D9UVVVVVVXFP3Icx3Ecx9G/IMdxHMdxrD8gx3Ecx3GsvziO4ziO49g/IMdxHMdxrL8gx3Ecx3GsvwAAAAAAAOA/chzHcRzH0b9UVVVVVVXFPyDHcRzHcay/IMdxHMdxrD85juM4juPYv1ZVVVVVVcW/VFVVVVVVxT8=",
          "dtype": "f8"
         },
         "y": {
          "bdata": "AAAAAAAA4D8gx3Ecx3GsPwAAAAAAAOA/IMdxHMdxrD9wHMdxHMfRP3Acx3Ecx9E/chzHcRzH0b9WVVVVVVXFvwAAAAAAAOC/AAAAAAAA4L8AAAAAAADgPyDHcRzHcaw/OI7jOI7j2D9WVVVVVVXFv3Acx3Ecx9E/IMdxHMdxrD8AAAAAAADgv3Acx3Ecx9E/OY7jOI7j2L9wHMdxHMfRP1ZVVVVVVcW/OI7jOI7j2D85juM4juPYvzmO4ziO49i/OI7jOI7j2D84juM4juPYPyDHcRzHcay/AAAAAAAA4L9UVVVVVVXFPwAAAAAAAOC/chzHcRzH0b85juM4juPYvzmO4ziO49i/AAAAAAAA4D8AAAAAAADgv1ZVVVVVVcW/IMdxHMdxrD9UVVVVVVXFPzmO4ziO49i/VFVVVVVVxT9WVVVVVVXFvwAAAAAAAOA/VlVVVVVVxb8AAAAAAADgPyDHcRzHcaw/OI7jOI7j2D85juM4juPYvyDHcRzHcay/OY7jOI7j2L84juM4juPYP1ZVVVVVVcW/AAAAAAAA4D9UVVVVVVXFP1ZVVVVVVcW/VFVVVVVVxT84juM4juPYP3Acx3Ecx9E/cBzHcRzH0T84juM4juPYPzmO4ziO49i/VFVVVVVVxT8gx3Ecx3GsvyDHcRzHcay/AAAAAAAA4L85juM4juPYvwAAAAAAAOA/VFVVVVVVxT9WVVVVVVXFvyDHcRzHcaw/cBzHcRzH0T9WVVVVVVXFvwAAAAAAAOA/IMdxHMdxrL8gx3Ecx3Gsv3Icx3Ecx9G/OY7jOI7j2L84juM4juPYPwAAAAAAAOA/AAAAAAAA4L8gx3Ecx3GsP1RVVVVVVcU/IMdxHMdxrD84juM4juPYPziO4ziO49g/AAAAAAAA4L8AAAAAAADgP1ZVVVVVVcW/AAAAAAAA4L8AAAAAAADgP3Acx3Ecx9E/IMdxHMdxrD8AAAAAAADgP3Icx3Ecx9G/cBzHcRzH0T9WVVVVVVXFvziO4ziO49g/VFVVVVVVxT8AAAAAAADgv1RVVVVVVcU/IMdxHMdxrL8=",
          "dtype": "f8"
         },
         "z": {
          "bdata": "VlVVVVVVxb8AAAAAAADgPziO4ziO49g/VlVVVVVVxb9yHMdxHMfRvzmO4ziO49i/cBzHcRzH0T85juM4juPYv1RVVVVVVcU/VFVVVVVVxT9UVVVVVVXFPziO4ziO49g/IMdxHMdxrL8AAAAAAADgPziO4ziO49g/IMdxHMdxrD9UVVVVVVXFPyDHcRzHcaw/IMdxHMdxrL9wHMdxHMfRPzmO4ziO49i/OY7jOI7j2L8AAAAAAADgvzmO4ziO49i/VlVVVVVVxb84juM4juPYPyDHcRzHcaw/VlVVVVVVxb8AAAAAAADgvzmO4ziO49i/VlVVVVVVxb8AAAAAAADgvyDHcRzHcay/AAAAAAAA4L84juM4juPYP1RVVVVVVcU/cBzHcRzH0T9UVVVVVVXFPziO4ziO49g/cBzHcRzH0T8AAAAAAADgv1RVVVVVVcU/IMdxHMdxrD84juM4juPYPzmO4ziO49i/VlVVVVVVxb8AAAAAAADgPzmO4ziO49i/VFVVVVVVxT9wHMdxHMfRPzmO4ziO49i/IMdxHMdxrD9yHMdxHMfRv3Icx3Ecx9G/chzHcRzH0b9yHMdxHMfRv3Icx3Ecx9G/AAAAAAAA4L9wHMdxHMfRPwAAAAAAAOA/AAAAAAAA4D9WVVVVVVXFv3Icx3Ecx9G/chzHcRzH0b9WVVVVVVXFv1RVVVVVVcU/IMdxHMdxrL85juM4juPYv3Icx3Ecx9G/VFVVVVVVxT84juM4juPYPwAAAAAAAOA/AAAAAAAA4L9wHMdxHMfRP1RVVVVVVcU/chzHcRzH0b8AAAAAAADgP1RVVVVVVcU/OY7jOI7j2L8gx3Ecx3GsvzmO4ziO49i/VFVVVVVVxT9UVVVVVVXFP3Icx3Ecx9G/AAAAAAAA4D9WVVVVVVXFv1RVVVVVVcU/OY7jOI7j2L9wHMdxHMfRPyDHcRzHcay/chzHcRzH0b8gx3Ecx3Gsv1ZVVVVVVcW/AAAAAAAA4D84juM4juPYPyDHcRzHcaw/OI7jOI7j2D84juM4juPYP3Acx3Ecx9E/IMdxHMdxrL8=",
          "dtype": "f8"
         }
        }
       ],
       "layout": {
        "scene": {
         "xaxis": {
          "title": {
           "text": "X"
          }
         },
         "yaxis": {
          "title": {
           "text": "Y"
          }
         },
         "zaxis": {
          "title": {
           "text": "Z"
          }
         }
        },
        "template": {
         "data": {
          "bar": [
           {
            "error_x": {
             "color": "#2a3f5f"
            },
            "error_y": {
             "color": "#2a3f5f"
            },
            "marker": {
             "line": {
              "color": "#E5ECF6",
              "width": 0.5
             },
             "pattern": {
              "fillmode": "overlay",
              "size": 10,
              "solidity": 0.2
             }
            },
            "type": "bar"
           }
          ],
          "barpolar": [
           {
            "marker": {
             "line": {
              "color": "#E5ECF6",
              "width": 0.5
             },
             "pattern": {
              "fillmode": "overlay",
              "size": 10,
              "solidity": 0.2
             }
            },
            "type": "barpolar"
           }
          ],
          "carpet": [
           {
            "aaxis": {
             "endlinecolor": "#2a3f5f",
             "gridcolor": "white",
             "linecolor": "white",
             "minorgridcolor": "white",
             "startlinecolor": "#2a3f5f"
            },
            "baxis": {
             "endlinecolor": "#2a3f5f",
             "gridcolor": "white",
             "linecolor": "white",
             "minorgridcolor": "white",
             "startlinecolor": "#2a3f5f"
            },
            "type": "carpet"
           }
          ],
          "choropleth": [
           {
            "colorbar": {
             "outlinewidth": 0,
             "ticks": ""
            },
            "type": "choropleth"
           }
          ],
          "contour": [
           {
            "colorbar": {
             "outlinewidth": 0,
             "ticks": ""
            },
            "colorscale": [
             [
              0,
              "#0d0887"
             ],
             [
              0.1111111111111111,
              "#46039f"
             ],
             [
              0.2222222222222222,
              "#7201a8"
             ],
             [
              0.3333333333333333,
              "#9c179e"
             ],
             [
              0.4444444444444444,
              "#bd3786"
             ],
             [
              0.5555555555555556,
              "#d8576b"
             ],
             [
              0.6666666666666666,
              "#ed7953"
             ],
             [
              0.7777777777777778,
              "#fb9f3a"
             ],
             [
              0.8888888888888888,
              "#fdca26"
             ],
             [
              1,
              "#f0f921"
             ]
            ],
            "type": "contour"
           }
          ],
          "contourcarpet": [
           {
            "colorbar": {
             "outlinewidth": 0,
             "ticks": ""
            },
            "type": "contourcarpet"
           }
          ],
          "heatmap": [
           {
            "colorbar": {
             "outlinewidth": 0,
             "ticks": ""
            },
            "colorscale": [
             [
              0,
              "#0d0887"
             ],
             [
              0.1111111111111111,
              "#46039f"
             ],
             [
              0.2222222222222222,
              "#7201a8"
             ],
             [
              0.3333333333333333,
              "#9c179e"
             ],
             [
              0.4444444444444444,
              "#bd3786"
             ],
             [
              0.5555555555555556,
              "#d8576b"
             ],
             [
              0.6666666666666666,
              "#ed7953"
             ],
             [
              0.7777777777777778,
              "#fb9f3a"
             ],
             [
              0.8888888888888888,
              "#fdca26"
             ],
             [
              1,
              "#f0f921"
             ]
            ],
            "type": "heatmap"
           }
          ],
          "histogram": [
           {
            "marker": {
             "pattern": {
              "fillmode": "overlay",
              "size": 10,
              "solidity": 0.2
             }
            },
            "type": "histogram"
           }
          ],
          "histogram2d": [
           {
            "colorbar": {
             "outlinewidth": 0,
             "ticks": ""
            },
            "colorscale": [
             [
              0,
              "#0d0887"
             ],
             [
              0.1111111111111111,
              "#46039f"
             ],
             [
              0.2222222222222222,
              "#7201a8"
             ],
             [
              0.3333333333333333,
              "#9c179e"
             ],
             [
              0.4444444444444444,
              "#bd3786"
             ],
             [
              0.5555555555555556,
              "#d8576b"
             ],
             [
              0.6666666666666666,
              "#ed7953"
             ],
             [
              0.7777777777777778,
              "#fb9f3a"
             ],
             [
              0.8888888888888888,
              "#fdca26"
             ],
             [
              1,
              "#f0f921"
             ]
            ],
            "type": "histogram2d"
           }
          ],
          "histogram2dcontour": [
           {
            "colorbar": {
             "outlinewidth": 0,
             "ticks": ""
            },
            "colorscale": [
             [
              0,
              "#0d0887"
             ],
             [
              0.1111111111111111,
              "#46039f"
             ],
             [
              0.2222222222222222,
              "#7201a8"
             ],
             [
              0.3333333333333333,
              "#9c179e"
             ],
             [
              0.4444444444444444,
              "#bd3786"
             ],
             [
              0.5555555555555556,
              "#d8576b"
             ],
             [
              0.6666666666666666,
              "#ed7953"
             ],
             [
              0.7777777777777778,
              "#fb9f3a"
             ],
             [
              0.8888888888888888,
              "#fdca26"
             ],
             [
              1,
              "#f0f921"
             ]
            ],
            "type": "histogram2dcontour"
           }
          ],
          "mesh3d": [
           {
            "colorbar": {
             "outlinewidth": 0,
             "ticks": ""
            },
            "type": "mesh3d"
           }
          ],
          "parcoords": [
           {
            "line": {
             "colorbar": {
              "outlinewidth": 0,
              "ticks": ""
             }
            },
            "type": "parcoords"
           }
          ],
          "pie": [
           {
            "automargin": true,
            "type": "pie"
           }
          ],
          "scatter": [
           {
            "fillpattern": {
             "fillmode": "overlay",
             "size": 10,
             "solidity": 0.2
            },
            "type": "scatter"
           }
          ],
          "scatter3d": [
           {
            "line": {
             "colorbar": {
              "outlinewidth": 0,
              "ticks": ""
             }
            },
            "marker": {
             "colorbar": {
              "outlinewidth": 0,
              "ticks": ""
             }
            },
            "type": "scatter3d"
           }
          ],
          "scattercarpet": [
           {
            "marker": {
             "colorbar": {
              "outlinewidth": 0,
              "ticks": ""
             }
            },
            "type": "scattercarpet"
           }
          ],
          "scattergeo": [
           {
            "marker": {
             "colorbar": {
              "outlinewidth": 0,
              "ticks": ""
             }
            },
            "type": "scattergeo"
           }
          ],
          "scattergl": [
           {
            "marker": {
             "colorbar": {
              "outlinewidth": 0,
              "ticks": ""
             }
            },
            "type": "scattergl"
           }
          ],
          "scattermap": [
           {
            "marker": {
             "colorbar": {
              "outlinewidth": 0,
              "ticks": ""
             }
            },
            "type": "scattermap"
           }
          ],
          "scattermapbox": [
           {
            "marker": {
             "colorbar": {
              "outlinewidth": 0,
              "ticks": ""
             }
            },
            "type": "scattermapbox"
           }
          ],
          "scatterpolar": [
           {
            "marker": {
             "colorbar": {
              "outlinewidth": 0,
              "ticks": ""
             }
            },
            "type": "scatterpolar"
           }
          ],
          "scatterpolargl": [
           {
            "marker": {
             "colorbar": {
              "outlinewidth": 0,
              "ticks": ""
             }
            },
            "type": "scatterpolargl"
           }
          ],
          "scatterternary": [
           {
            "marker": {
             "colorbar": {
              "outlinewidth": 0,
              "ticks": ""
             }
            },
            "type": "scatterternary"
           }
          ],
          "surface": [
           {
            "colorbar": {
             "outlinewidth": 0,
             "ticks": ""
            },
            "colorscale": [
             [
              0,
              "#0d0887"
             ],
             [
              0.1111111111111111,
              "#46039f"
             ],
             [
              0.2222222222222222,
              "#7201a8"
             ],
             [
              0.3333333333333333,
              "#9c179e"
             ],
             [
              0.4444444444444444,
              "#bd3786"
             ],
             [
              0.5555555555555556,
              "#d8576b"
             ],
             [
              0.6666666666666666,
              "#ed7953"
             ],
             [
              0.7777777777777778,
              "#fb9f3a"
             ],
             [
              0.8888888888888888,
              "#fdca26"
             ],
             [
              1,
              "#f0f921"
             ]
            ],
            "type": "surface"
           }
          ],
          "table": [
           {
            "cells": {
             "fill": {
              "color": "#EBF0F8"
             },
             "line": {
              "color": "white"
             }
            },
            "header": {
             "fill": {
              "color": "#C8D4E3"
             },
             "line": {
              "color": "white"
             }
            },
            "type": "table"
           }
          ]
         },
         "layout": {
          "annotationdefaults": {
           "arrowcolor": "#2a3f5f",
           "arrowhead": 0,
           "arrowwidth": 1
          },
          "autotypenumbers": "strict",
          "coloraxis": {
           "colorbar": {
            "outlinewidth": 0,
            "ticks": ""
           }
          },
          "colorscale": {
           "diverging": [
            [
             0,
             "#8e0152"
            ],
            [
             0.1,
             "#c51b7d"
            ],
            [
             0.2,
             "#de77ae"
            ],
            [
             0.3,
             "#f1b6da"
            ],
            [
             0.4,
             "#fde0ef"
            ],
            [
             0.5,
             "#f7f7f7"
            ],
            [
             0.6,
             "#e6f5d0"
            ],
            [
             0.7,
             "#b8e186"
            ],
            [
             0.8,
             "#7fbc41"
            ],
            [
             0.9,
             "#4d9221"
            ],
            [
             1,
             "#276419"
            ]
           ],
           "sequential": [
            [
             0,
             "#0d0887"
            ],
            [
             0.1111111111111111,
             "#46039f"
            ],
            [
             0.2222222222222222,
             "#7201a8"
            ],
            [
             0.3333333333333333,
             "#9c179e"
            ],
            [
             0.4444444444444444,
             "#bd3786"
            ],
            [
             0.5555555555555556,
             "#d8576b"
            ],
            [
             0.6666666666666666,
             "#ed7953"
            ],
            [
             0.7777777777777778,
             "#fb9f3a"
            ],
            [
             0.8888888888888888,
             "#fdca26"
            ],
            [
             1,
             "#f0f921"
            ]
           ],
           "sequentialminus": [
            [
             0,
             "#0d0887"
            ],
            [
             0.1111111111111111,
             "#46039f"
            ],
            [
             0.2222222222222222,
             "#7201a8"
            ],
            [
             0.3333333333333333,
             "#9c179e"
            ],
            [
             0.4444444444444444,
             "#bd3786"
            ],
            [
             0.5555555555555556,
             "#d8576b"
            ],
            [
             0.6666666666666666,
             "#ed7953"
            ],
            [
             0.7777777777777778,
             "#fb9f3a"
            ],
            [
             0.8888888888888888,
             "#fdca26"
            ],
            [
             1,
             "#f0f921"
            ]
           ]
          },
          "colorway": [
           "#636efa",
           "#EF553B",
           "#00cc96",
           "#ab63fa",
           "#FFA15A",
           "#19d3f3",
           "#FF6692",
           "#B6E880",
           "#FF97FF",
           "#FECB52"
          ],
          "font": {
           "color": "#2a3f5f"
          },
          "geo": {
           "bgcolor": "white",
           "lakecolor": "white",
           "landcolor": "#E5ECF6",
           "showlakes": true,
           "showland": true,
           "subunitcolor": "white"
          },
          "hoverlabel": {
           "align": "left"
          },
          "hovermode": "closest",
          "mapbox": {
           "style": "light"
          },
          "paper_bgcolor": "white",
          "plot_bgcolor": "#E5ECF6",
          "polar": {
           "angularaxis": {
            "gridcolor": "white",
            "linecolor": "white",
            "ticks": ""
           },
           "bgcolor": "#E5ECF6",
           "radialaxis": {
            "gridcolor": "white",
            "linecolor": "white",
            "ticks": ""
           }
          },
          "scene": {
           "xaxis": {
            "backgroundcolor": "#E5ECF6",
            "gridcolor": "white",
            "gridwidth": 2,
            "linecolor": "white",
            "showbackground": true,
            "ticks": "",
            "zerolinecolor": "white"
           },
           "yaxis": {
            "backgroundcolor": "#E5ECF6",
            "gridcolor": "white",
            "gridwidth": 2,
            "linecolor": "white",
            "showbackground": true,
            "ticks": "",
            "zerolinecolor": "white"
           },
           "zaxis": {
            "backgroundcolor": "#E5ECF6",
            "gridcolor": "white",
            "gridwidth": 2,
            "linecolor": "white",
            "showbackground": true,
            "ticks": "",
            "zerolinecolor": "white"
           }
          },
          "shapedefaults": {
           "line": {
            "color": "#2a3f5f"
           }
          },
          "ternary": {
           "aaxis": {
            "gridcolor": "white",
            "linecolor": "white",
            "ticks": ""
           },
           "baxis": {
            "gridcolor": "white",
            "linecolor": "white",
            "ticks": ""
           },
           "bgcolor": "#E5ECF6",
           "caxis": {
            "gridcolor": "white",
            "linecolor": "white",
            "ticks": ""
           }
          },
          "title": {
           "x": 0.05
          },
          "xaxis": {
           "automargin": true,
           "gridcolor": "white",
           "linecolor": "white",
           "ticks": "",
           "title": {
            "standoff": 15
           },
           "zerolinecolor": "white",
           "zerolinewidth": 2
          },
          "yaxis": {
           "automargin": true,
           "gridcolor": "white",
           "linecolor": "white",
           "ticks": "",
           "title": {
            "standoff": 15
           },
           "zerolinecolor": "white",
           "zerolinewidth": 2
          }
         }
        },
        "title": {
         "text": "Points given to our GP Regressor for current carrying loop"
        }
       }
      }
     },
     "metadata": {},
     "output_type": "display_data"
    }
   ],
   "source": [
    "sampled_outputs_coil = sample_field(outputs_coil, n_samples=100)\n",
    "plotter(sampled_outputs_coil, \n",
    "        title = 'Points given to our GP Regressor for current carrying loop')"
   ]
  },
  {
   "cell_type": "markdown",
   "id": "e9a0412d",
   "metadata": {},
   "source": [
    "## Applying GP Regression to Current Carrying Wire"
   ]
  },
  {
   "cell_type": "code",
   "execution_count": 7,
   "id": "129904d9",
   "metadata": {},
   "outputs": [
    {
     "name": "stdout",
     "output_type": "stream",
     "text": [
      "Parameters for sigma_f and l specified, using these.\n"
     ]
    }
   ],
   "source": [
    "# Divergence free attempt\n",
    "outputs_wire_div_free= updated_vector_field(\n",
    "    sampled_outputs_wire, \n",
    "    outputs_wire[0], outputs_wire[1], outputs_wire[2], \n",
    "    kernel_func='divergence_free_kernel', \n",
    "    sigma_f =  0.005, l = 0.8)\n",
    "\n",
    "\n",
    "# from giving the code a large number of samples, the optimum \n",
    "# parameters seem to be about: sigma_f = 0.1, l = 1.2323 (this is from mle and it works poorly)\n",
    "# sigma_f = 0.005, l = 0.8 seem to work okay "
   ]
  },
  {
   "cell_type": "code",
   "execution_count": 8,
   "id": "1517847b",
   "metadata": {},
   "outputs": [
    {
     "data": {
      "application/vnd.plotly.v1+json": {
       "config": {
        "plotlyServerURL": "https://plot.ly"
       },
       "data": [
        {
         "anchor": "tail",
         "sizemode": "scaled",
         "sizeref": 2,
         "type": "cone",
         "u": {
          "bdata": "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",
          "dtype": "f8"
         },
         "v": {
          "bdata": "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",
          "dtype": "f8"
         },
         "w": {
          "bdata": "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",
          "dtype": "f8"
         },
         "x": {
          "bdata": "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",
          "dtype": "f8"
         },
         "y": {
          "bdata": "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",
          "dtype": "f8"
         },
         "z": {
          "bdata": "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",
          "dtype": "f8"
         }
        }
       ],
       "layout": {
        "scene": {
         "xaxis": {
          "title": {
           "text": "X"
          }
         },
         "yaxis": {
          "title": {
           "text": "Y"
          }
         },
         "zaxis": {
          "title": {
           "text": "Z"
          }
         }
        },
        "template": {
         "data": {
          "bar": [
           {
            "error_x": {
             "color": "#2a3f5f"
            },
            "error_y": {
             "color": "#2a3f5f"
            },
            "marker": {
             "line": {
              "color": "#E5ECF6",
              "width": 0.5
             },
             "pattern": {
              "fillmode": "overlay",
              "size": 10,
              "solidity": 0.2
             }
            },
            "type": "bar"
           }
          ],
          "barpolar": [
           {
            "marker": {
             "line": {
              "color": "#E5ECF6",
              "width": 0.5
             },
             "pattern": {
              "fillmode": "overlay",
              "size": 10,
              "solidity": 0.2
             }
            },
            "type": "barpolar"
           }
          ],
          "carpet": [
           {
            "aaxis": {
             "endlinecolor": "#2a3f5f",
             "gridcolor": "white",
             "linecolor": "white",
             "minorgridcolor": "white",
             "startlinecolor": "#2a3f5f"
            },
            "baxis": {
             "endlinecolor": "#2a3f5f",
             "gridcolor": "white",
             "linecolor": "white",
             "minorgridcolor": "white",
             "startlinecolor": "#2a3f5f"
            },
            "type": "carpet"
           }
          ],
          "choropleth": [
           {
            "colorbar": {
             "outlinewidth": 0,
             "ticks": ""
            },
            "type": "choropleth"
           }
          ],
          "contour": [
           {
            "colorbar": {
             "outlinewidth": 0,
             "ticks": ""
            },
            "colorscale": [
             [
              0,
              "#0d0887"
             ],
             [
              0.1111111111111111,
              "#46039f"
             ],
             [
              0.2222222222222222,
              "#7201a8"
             ],
             [
              0.3333333333333333,
              "#9c179e"
             ],
             [
              0.4444444444444444,
              "#bd3786"
             ],
             [
              0.5555555555555556,
              "#d8576b"
             ],
             [
              0.6666666666666666,
              "#ed7953"
             ],
             [
              0.7777777777777778,
              "#fb9f3a"
             ],
             [
              0.8888888888888888,
              "#fdca26"
             ],
             [
              1,
              "#f0f921"
             ]
            ],
            "type": "contour"
           }
          ],
          "contourcarpet": [
           {
            "colorbar": {
             "outlinewidth": 0,
             "ticks": ""
            },
            "type": "contourcarpet"
           }
          ],
          "heatmap": [
           {
            "colorbar": {
             "outlinewidth": 0,
             "ticks": ""
            },
            "colorscale": [
             [
              0,
              "#0d0887"
             ],
             [
              0.1111111111111111,
              "#46039f"
             ],
             [
              0.2222222222222222,
              "#7201a8"
             ],
             [
              0.3333333333333333,
              "#9c179e"
             ],
             [
              0.4444444444444444,
              "#bd3786"
             ],
             [
              0.5555555555555556,
              "#d8576b"
             ],
             [
              0.6666666666666666,
              "#ed7953"
             ],
             [
              0.7777777777777778,
              "#fb9f3a"
             ],
             [
              0.8888888888888888,
              "#fdca26"
             ],
             [
              1,
              "#f0f921"
             ]
            ],
            "type": "heatmap"
           }
          ],
          "histogram": [
           {
            "marker": {
             "pattern": {
              "fillmode": "overlay",
              "size": 10,
              "solidity": 0.2
             }
            },
            "type": "histogram"
           }
          ],
          "histogram2d": [
           {
            "colorbar": {
             "outlinewidth": 0,
             "ticks": ""
            },
            "colorscale": [
             [
              0,
              "#0d0887"
             ],
             [
              0.1111111111111111,
              "#46039f"
             ],
             [
              0.2222222222222222,
              "#7201a8"
             ],
             [
              0.3333333333333333,
              "#9c179e"
             ],
             [
              0.4444444444444444,
              "#bd3786"
             ],
             [
              0.5555555555555556,
              "#d8576b"
             ],
             [
              0.6666666666666666,
              "#ed7953"
             ],
             [
              0.7777777777777778,
              "#fb9f3a"
             ],
             [
              0.8888888888888888,
              "#fdca26"
             ],
             [
              1,
              "#f0f921"
             ]
            ],
            "type": "histogram2d"
           }
          ],
          "histogram2dcontour": [
           {
            "colorbar": {
             "outlinewidth": 0,
             "ticks": ""
            },
            "colorscale": [
             [
              0,
              "#0d0887"
             ],
             [
              0.1111111111111111,
              "#46039f"
             ],
             [
              0.2222222222222222,
              "#7201a8"
             ],
             [
              0.3333333333333333,
              "#9c179e"
             ],
             [
              0.4444444444444444,
              "#bd3786"
             ],
             [
              0.5555555555555556,
              "#d8576b"
             ],
             [
              0.6666666666666666,
              "#ed7953"
             ],
             [
              0.7777777777777778,
              "#fb9f3a"
             ],
             [
              0.8888888888888888,
              "#fdca26"
             ],
             [
              1,
              "#f0f921"
             ]
            ],
            "type": "histogram2dcontour"
           }
          ],
          "mesh3d": [
           {
            "colorbar": {
             "outlinewidth": 0,
             "ticks": ""
            },
            "type": "mesh3d"
           }
          ],
          "parcoords": [
           {
            "line": {
             "colorbar": {
              "outlinewidth": 0,
              "ticks": ""
             }
            },
            "type": "parcoords"
           }
          ],
          "pie": [
           {
            "automargin": true,
            "type": "pie"
           }
          ],
          "scatter": [
           {
            "fillpattern": {
             "fillmode": "overlay",
             "size": 10,
             "solidity": 0.2
            },
            "type": "scatter"
           }
          ],
          "scatter3d": [
           {
            "line": {
             "colorbar": {
              "outlinewidth": 0,
              "ticks": ""
             }
            },
            "marker": {
             "colorbar": {
              "outlinewidth": 0,
              "ticks": ""
             }
            },
            "type": "scatter3d"
           }
          ],
          "scattercarpet": [
           {
            "marker": {
             "colorbar": {
              "outlinewidth": 0,
              "ticks": ""
             }
            },
            "type": "scattercarpet"
           }
          ],
          "scattergeo": [
           {
            "marker": {
             "colorbar": {
              "outlinewidth": 0,
              "ticks": ""
             }
            },
            "type": "scattergeo"
           }
          ],
          "scattergl": [
           {
            "marker": {
             "colorbar": {
              "outlinewidth": 0,
              "ticks": ""
             }
            },
            "type": "scattergl"
           }
          ],
          "scattermap": [
           {
            "marker": {
             "colorbar": {
              "outlinewidth": 0,
              "ticks": ""
             }
            },
            "type": "scattermap"
           }
          ],
          "scattermapbox": [
           {
            "marker": {
             "colorbar": {
              "outlinewidth": 0,
              "ticks": ""
             }
            },
            "type": "scattermapbox"
           }
          ],
          "scatterpolar": [
           {
            "marker": {
             "colorbar": {
              "outlinewidth": 0,
              "ticks": ""
             }
            },
            "type": "scatterpolar"
           }
          ],
          "scatterpolargl": [
           {
            "marker": {
             "colorbar": {
              "outlinewidth": 0,
              "ticks": ""
             }
            },
            "type": "scatterpolargl"
           }
          ],
          "scatterternary": [
           {
            "marker": {
             "colorbar": {
              "outlinewidth": 0,
              "ticks": ""
             }
            },
            "type": "scatterternary"
           }
          ],
          "surface": [
           {
            "colorbar": {
             "outlinewidth": 0,
             "ticks": ""
            },
            "colorscale": [
             [
              0,
              "#0d0887"
             ],
             [
              0.1111111111111111,
              "#46039f"
             ],
             [
              0.2222222222222222,
              "#7201a8"
             ],
             [
              0.3333333333333333,
              "#9c179e"
             ],
             [
              0.4444444444444444,
              "#bd3786"
             ],
             [
              0.5555555555555556,
              "#d8576b"
             ],
             [
              0.6666666666666666,
              "#ed7953"
             ],
             [
              0.7777777777777778,
              "#fb9f3a"
             ],
             [
              0.8888888888888888,
              "#fdca26"
             ],
             [
              1,
              "#f0f921"
             ]
            ],
            "type": "surface"
           }
          ],
          "table": [
           {
            "cells": {
             "fill": {
              "color": "#EBF0F8"
             },
             "line": {
              "color": "white"
             }
            },
            "header": {
             "fill": {
              "color": "#C8D4E3"
             },
             "line": {
              "color": "white"
             }
            },
            "type": "table"
           }
          ]
         },
         "layout": {
          "annotationdefaults": {
           "arrowcolor": "#2a3f5f",
           "arrowhead": 0,
           "arrowwidth": 1
          },
          "autotypenumbers": "strict",
          "coloraxis": {
           "colorbar": {
            "outlinewidth": 0,
            "ticks": ""
           }
          },
          "colorscale": {
           "diverging": [
            [
             0,
             "#8e0152"
            ],
            [
             0.1,
             "#c51b7d"
            ],
            [
             0.2,
             "#de77ae"
            ],
            [
             0.3,
             "#f1b6da"
            ],
            [
             0.4,
             "#fde0ef"
            ],
            [
             0.5,
             "#f7f7f7"
            ],
            [
             0.6,
             "#e6f5d0"
            ],
            [
             0.7,
             "#b8e186"
            ],
            [
             0.8,
             "#7fbc41"
            ],
            [
             0.9,
             "#4d9221"
            ],
            [
             1,
             "#276419"
            ]
           ],
           "sequential": [
            [
             0,
             "#0d0887"
            ],
            [
             0.1111111111111111,
             "#46039f"
            ],
            [
             0.2222222222222222,
             "#7201a8"
            ],
            [
             0.3333333333333333,
             "#9c179e"
            ],
            [
             0.4444444444444444,
             "#bd3786"
            ],
            [
             0.5555555555555556,
             "#d8576b"
            ],
            [
             0.6666666666666666,
             "#ed7953"
            ],
            [
             0.7777777777777778,
             "#fb9f3a"
            ],
            [
             0.8888888888888888,
             "#fdca26"
            ],
            [
             1,
             "#f0f921"
            ]
           ],
           "sequentialminus": [
            [
             0,
             "#0d0887"
            ],
            [
             0.1111111111111111,
             "#46039f"
            ],
            [
             0.2222222222222222,
             "#7201a8"
            ],
            [
             0.3333333333333333,
             "#9c179e"
            ],
            [
             0.4444444444444444,
             "#bd3786"
            ],
            [
             0.5555555555555556,
             "#d8576b"
            ],
            [
             0.6666666666666666,
             "#ed7953"
            ],
            [
             0.7777777777777778,
             "#fb9f3a"
            ],
            [
             0.8888888888888888,
             "#fdca26"
            ],
            [
             1,
             "#f0f921"
            ]
           ]
          },
          "colorway": [
           "#636efa",
           "#EF553B",
           "#00cc96",
           "#ab63fa",
           "#FFA15A",
           "#19d3f3",
           "#FF6692",
           "#B6E880",
           "#FF97FF",
           "#FECB52"
          ],
          "font": {
           "color": "#2a3f5f"
          },
          "geo": {
           "bgcolor": "white",
           "lakecolor": "white",
           "landcolor": "#E5ECF6",
           "showlakes": true,
           "showland": true,
           "subunitcolor": "white"
          },
          "hoverlabel": {
           "align": "left"
          },
          "hovermode": "closest",
          "mapbox": {
           "style": "light"
          },
          "paper_bgcolor": "white",
          "plot_bgcolor": "#E5ECF6",
          "polar": {
           "angularaxis": {
            "gridcolor": "white",
            "linecolor": "white",
            "ticks": ""
           },
           "bgcolor": "#E5ECF6",
           "radialaxis": {
            "gridcolor": "white",
            "linecolor": "white",
            "ticks": ""
           }
          },
          "scene": {
           "xaxis": {
            "backgroundcolor": "#E5ECF6",
            "gridcolor": "white",
            "gridwidth": 2,
            "linecolor": "white",
            "showbackground": true,
            "ticks": "",
            "zerolinecolor": "white"
           },
           "yaxis": {
            "backgroundcolor": "#E5ECF6",
            "gridcolor": "white",
            "gridwidth": 2,
            "linecolor": "white",
            "showbackground": true,
            "ticks": "",
            "zerolinecolor": "white"
           },
           "zaxis": {
            "backgroundcolor": "#E5ECF6",
            "gridcolor": "white",
            "gridwidth": 2,
            "linecolor": "white",
            "showbackground": true,
            "ticks": "",
            "zerolinecolor": "white"
           }
          },
          "shapedefaults": {
           "line": {
            "color": "#2a3f5f"
           }
          },
          "ternary": {
           "aaxis": {
            "gridcolor": "white",
            "linecolor": "white",
            "ticks": ""
           },
           "baxis": {
            "gridcolor": "white",
            "linecolor": "white",
            "ticks": ""
           },
           "bgcolor": "#E5ECF6",
           "caxis": {
            "gridcolor": "white",
            "linecolor": "white",
            "ticks": ""
           }
          },
          "title": {
           "x": 0.05
          },
          "xaxis": {
           "automargin": true,
           "gridcolor": "white",
           "linecolor": "white",
           "ticks": "",
           "title": {
            "standoff": 15
           },
           "zerolinecolor": "white",
           "zerolinewidth": 2
          },
          "yaxis": {
           "automargin": true,
           "gridcolor": "white",
           "linecolor": "white",
           "ticks": "",
           "title": {
            "standoff": 15
           },
           "zerolinecolor": "white",
           "zerolinewidth": 2
          }
         }
        },
        "title": {
         "text": "Div free output from GP Regression for n = 100 input vectors for current carrying wire"
        }
       }
      }
     },
     "metadata": {},
     "output_type": "display_data"
    }
   ],
   "source": [
    "given_samples_wire = sampled_outputs_wire[0].shape[0]\n",
    "plotter(outputs_wire_div_free, \n",
    "        title = f'Div free output from GP Regression for n = {given_samples_wire} input vectors for current carrying wire')"
   ]
  },
  {
   "cell_type": "code",
   "execution_count": 9,
   "id": "c7cdeed7",
   "metadata": {},
   "outputs": [
    {
     "name": "stdout",
     "output_type": "stream",
     "text": [
      "MSE for this case of 31.21112248201693\n"
     ]
    },
    {
     "data": {
      "application/vnd.plotly.v1+json": {
       "config": {
        "plotlyServerURL": "https://plot.ly"
       },
       "data": [
        {
         "anchor": "tail",
         "sizemode": "scaled",
         "sizeref": 2,
         "type": "cone",
         "u": {
          "bdata": "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",
          "dtype": "f8"
         },
         "v": {
          "bdata": "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",
          "dtype": "f8"
         },
         "w": {
          "bdata": "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",
          "dtype": "f8"
         },
         "x": {
          "bdata": "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",
          "dtype": "f8"
         },
         "y": {
          "bdata": "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",
          "dtype": "f8"
         },
         "z": {
          "bdata": "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",
          "dtype": "f8"
         }
        }
       ],
       "layout": {
        "scene": {
         "xaxis": {
          "title": {
           "text": "X"
          }
         },
         "yaxis": {
          "title": {
           "text": "Y"
          }
         },
         "zaxis": {
          "title": {
           "text": "Z"
          }
         }
        },
        "template": {
         "data": {
          "bar": [
           {
            "error_x": {
             "color": "#2a3f5f"
            },
            "error_y": {
             "color": "#2a3f5f"
            },
            "marker": {
             "line": {
              "color": "#E5ECF6",
              "width": 0.5
             },
             "pattern": {
              "fillmode": "overlay",
              "size": 10,
              "solidity": 0.2
             }
            },
            "type": "bar"
           }
          ],
          "barpolar": [
           {
            "marker": {
             "line": {
              "color": "#E5ECF6",
              "width": 0.5
             },
             "pattern": {
              "fillmode": "overlay",
              "size": 10,
              "solidity": 0.2
             }
            },
            "type": "barpolar"
           }
          ],
          "carpet": [
           {
            "aaxis": {
             "endlinecolor": "#2a3f5f",
             "gridcolor": "white",
             "linecolor": "white",
             "minorgridcolor": "white",
             "startlinecolor": "#2a3f5f"
            },
            "baxis": {
             "endlinecolor": "#2a3f5f",
             "gridcolor": "white",
             "linecolor": "white",
             "minorgridcolor": "white",
             "startlinecolor": "#2a3f5f"
            },
            "type": "carpet"
           }
          ],
          "choropleth": [
           {
            "colorbar": {
             "outlinewidth": 0,
             "ticks": ""
            },
            "type": "choropleth"
           }
          ],
          "contour": [
           {
            "colorbar": {
             "outlinewidth": 0,
             "ticks": ""
            },
            "colorscale": [
             [
              0,
              "#0d0887"
             ],
             [
              0.1111111111111111,
              "#46039f"
             ],
             [
              0.2222222222222222,
              "#7201a8"
             ],
             [
              0.3333333333333333,
              "#9c179e"
             ],
             [
              0.4444444444444444,
              "#bd3786"
             ],
             [
              0.5555555555555556,
              "#d8576b"
             ],
             [
              0.6666666666666666,
              "#ed7953"
             ],
             [
              0.7777777777777778,
              "#fb9f3a"
             ],
             [
              0.8888888888888888,
              "#fdca26"
             ],
             [
              1,
              "#f0f921"
             ]
            ],
            "type": "contour"
           }
          ],
          "contourcarpet": [
           {
            "colorbar": {
             "outlinewidth": 0,
             "ticks": ""
            },
            "type": "contourcarpet"
           }
          ],
          "heatmap": [
           {
            "colorbar": {
             "outlinewidth": 0,
             "ticks": ""
            },
            "colorscale": [
             [
              0,
              "#0d0887"
             ],
             [
              0.1111111111111111,
              "#46039f"
             ],
             [
              0.2222222222222222,
              "#7201a8"
             ],
             [
              0.3333333333333333,
              "#9c179e"
             ],
             [
              0.4444444444444444,
              "#bd3786"
             ],
             [
              0.5555555555555556,
              "#d8576b"
             ],
             [
              0.6666666666666666,
              "#ed7953"
             ],
             [
              0.7777777777777778,
              "#fb9f3a"
             ],
             [
              0.8888888888888888,
              "#fdca26"
             ],
             [
              1,
              "#f0f921"
             ]
            ],
            "type": "heatmap"
           }
          ],
          "histogram": [
           {
            "marker": {
             "pattern": {
              "fillmode": "overlay",
              "size": 10,
              "solidity": 0.2
             }
            },
            "type": "histogram"
           }
          ],
          "histogram2d": [
           {
            "colorbar": {
             "outlinewidth": 0,
             "ticks": ""
            },
            "colorscale": [
             [
              0,
              "#0d0887"
             ],
             [
              0.1111111111111111,
              "#46039f"
             ],
             [
              0.2222222222222222,
              "#7201a8"
             ],
             [
              0.3333333333333333,
              "#9c179e"
             ],
             [
              0.4444444444444444,
              "#bd3786"
             ],
             [
              0.5555555555555556,
              "#d8576b"
             ],
             [
              0.6666666666666666,
              "#ed7953"
             ],
             [
              0.7777777777777778,
              "#fb9f3a"
             ],
             [
              0.8888888888888888,
              "#fdca26"
             ],
             [
              1,
              "#f0f921"
             ]
            ],
            "type": "histogram2d"
           }
          ],
          "histogram2dcontour": [
           {
            "colorbar": {
             "outlinewidth": 0,
             "ticks": ""
            },
            "colorscale": [
             [
              0,
              "#0d0887"
             ],
             [
              0.1111111111111111,
              "#46039f"
             ],
             [
              0.2222222222222222,
              "#7201a8"
             ],
             [
              0.3333333333333333,
              "#9c179e"
             ],
             [
              0.4444444444444444,
              "#bd3786"
             ],
             [
              0.5555555555555556,
              "#d8576b"
             ],
             [
              0.6666666666666666,
              "#ed7953"
             ],
             [
              0.7777777777777778,
              "#fb9f3a"
             ],
             [
              0.8888888888888888,
              "#fdca26"
             ],
             [
              1,
              "#f0f921"
             ]
            ],
            "type": "histogram2dcontour"
           }
          ],
          "mesh3d": [
           {
            "colorbar": {
             "outlinewidth": 0,
             "ticks": ""
            },
            "type": "mesh3d"
           }
          ],
          "parcoords": [
           {
            "line": {
             "colorbar": {
              "outlinewidth": 0,
              "ticks": ""
             }
            },
            "type": "parcoords"
           }
          ],
          "pie": [
           {
            "automargin": true,
            "type": "pie"
           }
          ],
          "scatter": [
           {
            "fillpattern": {
             "fillmode": "overlay",
             "size": 10,
             "solidity": 0.2
            },
            "type": "scatter"
           }
          ],
          "scatter3d": [
           {
            "line": {
             "colorbar": {
              "outlinewidth": 0,
              "ticks": ""
             }
            },
            "marker": {
             "colorbar": {
              "outlinewidth": 0,
              "ticks": ""
             }
            },
            "type": "scatter3d"
           }
          ],
          "scattercarpet": [
           {
            "marker": {
             "colorbar": {
              "outlinewidth": 0,
              "ticks": ""
             }
            },
            "type": "scattercarpet"
           }
          ],
          "scattergeo": [
           {
            "marker": {
             "colorbar": {
              "outlinewidth": 0,
              "ticks": ""
             }
            },
            "type": "scattergeo"
           }
          ],
          "scattergl": [
           {
            "marker": {
             "colorbar": {
              "outlinewidth": 0,
              "ticks": ""
             }
            },
            "type": "scattergl"
           }
          ],
          "scattermap": [
           {
            "marker": {
             "colorbar": {
              "outlinewidth": 0,
              "ticks": ""
             }
            },
            "type": "scattermap"
           }
          ],
          "scattermapbox": [
           {
            "marker": {
             "colorbar": {
              "outlinewidth": 0,
              "ticks": ""
             }
            },
            "type": "scattermapbox"
           }
          ],
          "scatterpolar": [
           {
            "marker": {
             "colorbar": {
              "outlinewidth": 0,
              "ticks": ""
             }
            },
            "type": "scatterpolar"
           }
          ],
          "scatterpolargl": [
           {
            "marker": {
             "colorbar": {
              "outlinewidth": 0,
              "ticks": ""
             }
            },
            "type": "scatterpolargl"
           }
          ],
          "scatterternary": [
           {
            "marker": {
             "colorbar": {
              "outlinewidth": 0,
              "ticks": ""
             }
            },
            "type": "scatterternary"
           }
          ],
          "surface": [
           {
            "colorbar": {
             "outlinewidth": 0,
             "ticks": ""
            },
            "colorscale": [
             [
              0,
              "#0d0887"
             ],
             [
              0.1111111111111111,
              "#46039f"
             ],
             [
              0.2222222222222222,
              "#7201a8"
             ],
             [
              0.3333333333333333,
              "#9c179e"
             ],
             [
              0.4444444444444444,
              "#bd3786"
             ],
             [
              0.5555555555555556,
              "#d8576b"
             ],
             [
              0.6666666666666666,
              "#ed7953"
             ],
             [
              0.7777777777777778,
              "#fb9f3a"
             ],
             [
              0.8888888888888888,
              "#fdca26"
             ],
             [
              1,
              "#f0f921"
             ]
            ],
            "type": "surface"
           }
          ],
          "table": [
           {
            "cells": {
             "fill": {
              "color": "#EBF0F8"
             },
             "line": {
              "color": "white"
             }
            },
            "header": {
             "fill": {
              "color": "#C8D4E3"
             },
             "line": {
              "color": "white"
             }
            },
            "type": "table"
           }
          ]
         },
         "layout": {
          "annotationdefaults": {
           "arrowcolor": "#2a3f5f",
           "arrowhead": 0,
           "arrowwidth": 1
          },
          "autotypenumbers": "strict",
          "coloraxis": {
           "colorbar": {
            "outlinewidth": 0,
            "ticks": ""
           }
          },
          "colorscale": {
           "diverging": [
            [
             0,
             "#8e0152"
            ],
            [
             0.1,
             "#c51b7d"
            ],
            [
             0.2,
             "#de77ae"
            ],
            [
             0.3,
             "#f1b6da"
            ],
            [
             0.4,
             "#fde0ef"
            ],
            [
             0.5,
             "#f7f7f7"
            ],
            [
             0.6,
             "#e6f5d0"
            ],
            [
             0.7,
             "#b8e186"
            ],
            [
             0.8,
             "#7fbc41"
            ],
            [
             0.9,
             "#4d9221"
            ],
            [
             1,
             "#276419"
            ]
           ],
           "sequential": [
            [
             0,
             "#0d0887"
            ],
            [
             0.1111111111111111,
             "#46039f"
            ],
            [
             0.2222222222222222,
             "#7201a8"
            ],
            [
             0.3333333333333333,
             "#9c179e"
            ],
            [
             0.4444444444444444,
             "#bd3786"
            ],
            [
             0.5555555555555556,
             "#d8576b"
            ],
            [
             0.6666666666666666,
             "#ed7953"
            ],
            [
             0.7777777777777778,
             "#fb9f3a"
            ],
            [
             0.8888888888888888,
             "#fdca26"
            ],
            [
             1,
             "#f0f921"
            ]
           ],
           "sequentialminus": [
            [
             0,
             "#0d0887"
            ],
            [
             0.1111111111111111,
             "#46039f"
            ],
            [
             0.2222222222222222,
             "#7201a8"
            ],
            [
             0.3333333333333333,
             "#9c179e"
            ],
            [
             0.4444444444444444,
             "#bd3786"
            ],
            [
             0.5555555555555556,
             "#d8576b"
            ],
            [
             0.6666666666666666,
             "#ed7953"
            ],
            [
             0.7777777777777778,
             "#fb9f3a"
            ],
            [
             0.8888888888888888,
             "#fdca26"
            ],
            [
             1,
             "#f0f921"
            ]
           ]
          },
          "colorway": [
           "#636efa",
           "#EF553B",
           "#00cc96",
           "#ab63fa",
           "#FFA15A",
           "#19d3f3",
           "#FF6692",
           "#B6E880",
           "#FF97FF",
           "#FECB52"
          ],
          "font": {
           "color": "#2a3f5f"
          },
          "geo": {
           "bgcolor": "white",
           "lakecolor": "white",
           "landcolor": "#E5ECF6",
           "showlakes": true,
           "showland": true,
           "subunitcolor": "white"
          },
          "hoverlabel": {
           "align": "left"
          },
          "hovermode": "closest",
          "mapbox": {
           "style": "light"
          },
          "paper_bgcolor": "white",
          "plot_bgcolor": "#E5ECF6",
          "polar": {
           "angularaxis": {
            "gridcolor": "white",
            "linecolor": "white",
            "ticks": ""
           },
           "bgcolor": "#E5ECF6",
           "radialaxis": {
            "gridcolor": "white",
            "linecolor": "white",
            "ticks": ""
           }
          },
          "scene": {
           "xaxis": {
            "backgroundcolor": "#E5ECF6",
            "gridcolor": "white",
            "gridwidth": 2,
            "linecolor": "white",
            "showbackground": true,
            "ticks": "",
            "zerolinecolor": "white"
           },
           "yaxis": {
            "backgroundcolor": "#E5ECF6",
            "gridcolor": "white",
            "gridwidth": 2,
            "linecolor": "white",
            "showbackground": true,
            "ticks": "",
            "zerolinecolor": "white"
           },
           "zaxis": {
            "backgroundcolor": "#E5ECF6",
            "gridcolor": "white",
            "gridwidth": 2,
            "linecolor": "white",
            "showbackground": true,
            "ticks": "",
            "zerolinecolor": "white"
           }
          },
          "shapedefaults": {
           "line": {
            "color": "#2a3f5f"
           }
          },
          "ternary": {
           "aaxis": {
            "gridcolor": "white",
            "linecolor": "white",
            "ticks": ""
           },
           "baxis": {
            "gridcolor": "white",
            "linecolor": "white",
            "ticks": ""
           },
           "bgcolor": "#E5ECF6",
           "caxis": {
            "gridcolor": "white",
            "linecolor": "white",
            "ticks": ""
           }
          },
          "title": {
           "x": 0.05
          },
          "xaxis": {
           "automargin": true,
           "gridcolor": "white",
           "linecolor": "white",
           "ticks": "",
           "title": {
            "standoff": 15
           },
           "zerolinecolor": "white",
           "zerolinewidth": 2
          },
          "yaxis": {
           "automargin": true,
           "gridcolor": "white",
           "linecolor": "white",
           "ticks": "",
           "title": {
            "standoff": 15
           },
           "zerolinecolor": "white",
           "zerolinewidth": 2
          }
         }
        },
        "title": {
         "text": "Div free regression errors for n = 100 input vectors for current carrying wire"
        }
       }
      }
     },
     "metadata": {},
     "output_type": "display_data"
    }
   ],
   "source": [
    "# plot residuals of fit above: \n",
    "residuals_wire_div_free, mse_wire_div_free = differencer(outputs_wire, outputs_wire_div_free)\n",
    "print(f'MSE for this case of {mse_wire_div_free}')\n",
    "plotter(residuals_wire_div_free, \n",
    "        title = f'Div free regression errors for n = {given_samples_wire} input vectors for current carrying wire')"
   ]
  },
  {
   "cell_type": "markdown",
   "id": "d87edac5",
   "metadata": {},
   "source": [
    "Errors are largest inside of the coil. The fields here are at their largest and vary most rapidly, hence "
   ]
  },
  {
   "cell_type": "code",
   "execution_count": 10,
   "id": "c49b1f47",
   "metadata": {},
   "outputs": [
    {
     "name": "stdout",
     "output_type": "stream",
     "text": [
      "Parameters for sigma_f and l specified, using these.\n"
     ]
    }
   ],
   "source": [
    "# these curl ones work very poorly in general\n",
    "outputs_wire_curl_free = updated_vector_field(\n",
    "    sampled_outputs_wire, \n",
    "    outputs_wire[0], outputs_wire[1], outputs_wire[2], \n",
    "    kernel_func='curl_free_kernel', \n",
    "    sigma_f = 0.1, l = 0.3)"
   ]
  },
  {
   "cell_type": "code",
   "execution_count": 11,
   "id": "b5ab1df7",
   "metadata": {},
   "outputs": [
    {
     "data": {
      "application/vnd.plotly.v1+json": {
       "config": {
        "plotlyServerURL": "https://plot.ly"
       },
       "data": [
        {
         "anchor": "tail",
         "sizemode": "scaled",
         "sizeref": 2,
         "type": "cone",
         "u": {
          "bdata": "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",
          "dtype": "f8"
         },
         "v": {
          "bdata": "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",
          "dtype": "f8"
         },
         "w": {
          "bdata": "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",
          "dtype": "f8"
         },
         "x": {
          "bdata": "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",
          "dtype": "f8"
         },
         "y": {
          "bdata": "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",
          "dtype": "f8"
         },
         "z": {
          "bdata": "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",
          "dtype": "f8"
         }
        }
       ],
       "layout": {
        "scene": {
         "xaxis": {
          "title": {
           "text": "X"
          }
         },
         "yaxis": {
          "title": {
           "text": "Y"
          }
         },
         "zaxis": {
          "title": {
           "text": "Z"
          }
         }
        },
        "template": {
         "data": {
          "bar": [
           {
            "error_x": {
             "color": "#2a3f5f"
            },
            "error_y": {
             "color": "#2a3f5f"
            },
            "marker": {
             "line": {
              "color": "#E5ECF6",
              "width": 0.5
             },
             "pattern": {
              "fillmode": "overlay",
              "size": 10,
              "solidity": 0.2
             }
            },
            "type": "bar"
           }
          ],
          "barpolar": [
           {
            "marker": {
             "line": {
              "color": "#E5ECF6",
              "width": 0.5
             },
             "pattern": {
              "fillmode": "overlay",
              "size": 10,
              "solidity": 0.2
             }
            },
            "type": "barpolar"
           }
          ],
          "carpet": [
           {
            "aaxis": {
             "endlinecolor": "#2a3f5f",
             "gridcolor": "white",
             "linecolor": "white",
             "minorgridcolor": "white",
             "startlinecolor": "#2a3f5f"
            },
            "baxis": {
             "endlinecolor": "#2a3f5f",
             "gridcolor": "white",
             "linecolor": "white",
             "minorgridcolor": "white",
             "startlinecolor": "#2a3f5f"
            },
            "type": "carpet"
           }
          ],
          "choropleth": [
           {
            "colorbar": {
             "outlinewidth": 0,
             "ticks": ""
            },
            "type": "choropleth"
           }
          ],
          "contour": [
           {
            "colorbar": {
             "outlinewidth": 0,
             "ticks": ""
            },
            "colorscale": [
             [
              0,
              "#0d0887"
             ],
             [
              0.1111111111111111,
              "#46039f"
             ],
             [
              0.2222222222222222,
              "#7201a8"
             ],
             [
              0.3333333333333333,
              "#9c179e"
             ],
             [
              0.4444444444444444,
              "#bd3786"
             ],
             [
              0.5555555555555556,
              "#d8576b"
             ],
             [
              0.6666666666666666,
              "#ed7953"
             ],
             [
              0.7777777777777778,
              "#fb9f3a"
             ],
             [
              0.8888888888888888,
              "#fdca26"
             ],
             [
              1,
              "#f0f921"
             ]
            ],
            "type": "contour"
           }
          ],
          "contourcarpet": [
           {
            "colorbar": {
             "outlinewidth": 0,
             "ticks": ""
            },
            "type": "contourcarpet"
           }
          ],
          "heatmap": [
           {
            "colorbar": {
             "outlinewidth": 0,
             "ticks": ""
            },
            "colorscale": [
             [
              0,
              "#0d0887"
             ],
             [
              0.1111111111111111,
              "#46039f"
             ],
             [
              0.2222222222222222,
              "#7201a8"
             ],
             [
              0.3333333333333333,
              "#9c179e"
             ],
             [
              0.4444444444444444,
              "#bd3786"
             ],
             [
              0.5555555555555556,
              "#d8576b"
             ],
             [
              0.6666666666666666,
              "#ed7953"
             ],
             [
              0.7777777777777778,
              "#fb9f3a"
             ],
             [
              0.8888888888888888,
              "#fdca26"
             ],
             [
              1,
              "#f0f921"
             ]
            ],
            "type": "heatmap"
           }
          ],
          "histogram": [
           {
            "marker": {
             "pattern": {
              "fillmode": "overlay",
              "size": 10,
              "solidity": 0.2
             }
            },
            "type": "histogram"
           }
          ],
          "histogram2d": [
           {
            "colorbar": {
             "outlinewidth": 0,
             "ticks": ""
            },
            "colorscale": [
             [
              0,
              "#0d0887"
             ],
             [
              0.1111111111111111,
              "#46039f"
             ],
             [
              0.2222222222222222,
              "#7201a8"
             ],
             [
              0.3333333333333333,
              "#9c179e"
             ],
             [
              0.4444444444444444,
              "#bd3786"
             ],
             [
              0.5555555555555556,
              "#d8576b"
             ],
             [
              0.6666666666666666,
              "#ed7953"
             ],
             [
              0.7777777777777778,
              "#fb9f3a"
             ],
             [
              0.8888888888888888,
              "#fdca26"
             ],
             [
              1,
              "#f0f921"
             ]
            ],
            "type": "histogram2d"
           }
          ],
          "histogram2dcontour": [
           {
            "colorbar": {
             "outlinewidth": 0,
             "ticks": ""
            },
            "colorscale": [
             [
              0,
              "#0d0887"
             ],
             [
              0.1111111111111111,
              "#46039f"
             ],
             [
              0.2222222222222222,
              "#7201a8"
             ],
             [
              0.3333333333333333,
              "#9c179e"
             ],
             [
              0.4444444444444444,
              "#bd3786"
             ],
             [
              0.5555555555555556,
              "#d8576b"
             ],
             [
              0.6666666666666666,
              "#ed7953"
             ],
             [
              0.7777777777777778,
              "#fb9f3a"
             ],
             [
              0.8888888888888888,
              "#fdca26"
             ],
             [
              1,
              "#f0f921"
             ]
            ],
            "type": "histogram2dcontour"
           }
          ],
          "mesh3d": [
           {
            "colorbar": {
             "outlinewidth": 0,
             "ticks": ""
            },
            "type": "mesh3d"
           }
          ],
          "parcoords": [
           {
            "line": {
             "colorbar": {
              "outlinewidth": 0,
              "ticks": ""
             }
            },
            "type": "parcoords"
           }
          ],
          "pie": [
           {
            "automargin": true,
            "type": "pie"
           }
          ],
          "scatter": [
           {
            "fillpattern": {
             "fillmode": "overlay",
             "size": 10,
             "solidity": 0.2
            },
            "type": "scatter"
           }
          ],
          "scatter3d": [
           {
            "line": {
             "colorbar": {
              "outlinewidth": 0,
              "ticks": ""
             }
            },
            "marker": {
             "colorbar": {
              "outlinewidth": 0,
              "ticks": ""
             }
            },
            "type": "scatter3d"
           }
          ],
          "scattercarpet": [
           {
            "marker": {
             "colorbar": {
              "outlinewidth": 0,
              "ticks": ""
             }
            },
            "type": "scattercarpet"
           }
          ],
          "scattergeo": [
           {
            "marker": {
             "colorbar": {
              "outlinewidth": 0,
              "ticks": ""
             }
            },
            "type": "scattergeo"
           }
          ],
          "scattergl": [
           {
            "marker": {
             "colorbar": {
              "outlinewidth": 0,
              "ticks": ""
             }
            },
            "type": "scattergl"
           }
          ],
          "scattermap": [
           {
            "marker": {
             "colorbar": {
              "outlinewidth": 0,
              "ticks": ""
             }
            },
            "type": "scattermap"
           }
          ],
          "scattermapbox": [
           {
            "marker": {
             "colorbar": {
              "outlinewidth": 0,
              "ticks": ""
             }
            },
            "type": "scattermapbox"
           }
          ],
          "scatterpolar": [
           {
            "marker": {
             "colorbar": {
              "outlinewidth": 0,
              "ticks": ""
             }
            },
            "type": "scatterpolar"
           }
          ],
          "scatterpolargl": [
           {
            "marker": {
             "colorbar": {
              "outlinewidth": 0,
              "ticks": ""
             }
            },
            "type": "scatterpolargl"
           }
          ],
          "scatterternary": [
           {
            "marker": {
             "colorbar": {
              "outlinewidth": 0,
              "ticks": ""
             }
            },
            "type": "scatterternary"
           }
          ],
          "surface": [
           {
            "colorbar": {
             "outlinewidth": 0,
             "ticks": ""
            },
            "colorscale": [
             [
              0,
              "#0d0887"
             ],
             [
              0.1111111111111111,
              "#46039f"
             ],
             [
              0.2222222222222222,
              "#7201a8"
             ],
             [
              0.3333333333333333,
              "#9c179e"
             ],
             [
              0.4444444444444444,
              "#bd3786"
             ],
             [
              0.5555555555555556,
              "#d8576b"
             ],
             [
              0.6666666666666666,
              "#ed7953"
             ],
             [
              0.7777777777777778,
              "#fb9f3a"
             ],
             [
              0.8888888888888888,
              "#fdca26"
             ],
             [
              1,
              "#f0f921"
             ]
            ],
            "type": "surface"
           }
          ],
          "table": [
           {
            "cells": {
             "fill": {
              "color": "#EBF0F8"
             },
             "line": {
              "color": "white"
             }
            },
            "header": {
             "fill": {
              "color": "#C8D4E3"
             },
             "line": {
              "color": "white"
             }
            },
            "type": "table"
           }
          ]
         },
         "layout": {
          "annotationdefaults": {
           "arrowcolor": "#2a3f5f",
           "arrowhead": 0,
           "arrowwidth": 1
          },
          "autotypenumbers": "strict",
          "coloraxis": {
           "colorbar": {
            "outlinewidth": 0,
            "ticks": ""
           }
          },
          "colorscale": {
           "diverging": [
            [
             0,
             "#8e0152"
            ],
            [
             0.1,
             "#c51b7d"
            ],
            [
             0.2,
             "#de77ae"
            ],
            [
             0.3,
             "#f1b6da"
            ],
            [
             0.4,
             "#fde0ef"
            ],
            [
             0.5,
             "#f7f7f7"
            ],
            [
             0.6,
             "#e6f5d0"
            ],
            [
             0.7,
             "#b8e186"
            ],
            [
             0.8,
             "#7fbc41"
            ],
            [
             0.9,
             "#4d9221"
            ],
            [
             1,
             "#276419"
            ]
           ],
           "sequential": [
            [
             0,
             "#0d0887"
            ],
            [
             0.1111111111111111,
             "#46039f"
            ],
            [
             0.2222222222222222,
             "#7201a8"
            ],
            [
             0.3333333333333333,
             "#9c179e"
            ],
            [
             0.4444444444444444,
             "#bd3786"
            ],
            [
             0.5555555555555556,
             "#d8576b"
            ],
            [
             0.6666666666666666,
             "#ed7953"
            ],
            [
             0.7777777777777778,
             "#fb9f3a"
            ],
            [
             0.8888888888888888,
             "#fdca26"
            ],
            [
             1,
             "#f0f921"
            ]
           ],
           "sequentialminus": [
            [
             0,
             "#0d0887"
            ],
            [
             0.1111111111111111,
             "#46039f"
            ],
            [
             0.2222222222222222,
             "#7201a8"
            ],
            [
             0.3333333333333333,
             "#9c179e"
            ],
            [
             0.4444444444444444,
             "#bd3786"
            ],
            [
             0.5555555555555556,
             "#d8576b"
            ],
            [
             0.6666666666666666,
             "#ed7953"
            ],
            [
             0.7777777777777778,
             "#fb9f3a"
            ],
            [
             0.8888888888888888,
             "#fdca26"
            ],
            [
             1,
             "#f0f921"
            ]
           ]
          },
          "colorway": [
           "#636efa",
           "#EF553B",
           "#00cc96",
           "#ab63fa",
           "#FFA15A",
           "#19d3f3",
           "#FF6692",
           "#B6E880",
           "#FF97FF",
           "#FECB52"
          ],
          "font": {
           "color": "#2a3f5f"
          },
          "geo": {
           "bgcolor": "white",
           "lakecolor": "white",
           "landcolor": "#E5ECF6",
           "showlakes": true,
           "showland": true,
           "subunitcolor": "white"
          },
          "hoverlabel": {
           "align": "left"
          },
          "hovermode": "closest",
          "mapbox": {
           "style": "light"
          },
          "paper_bgcolor": "white",
          "plot_bgcolor": "#E5ECF6",
          "polar": {
           "angularaxis": {
            "gridcolor": "white",
            "linecolor": "white",
            "ticks": ""
           },
           "bgcolor": "#E5ECF6",
           "radialaxis": {
            "gridcolor": "white",
            "linecolor": "white",
            "ticks": ""
           }
          },
          "scene": {
           "xaxis": {
            "backgroundcolor": "#E5ECF6",
            "gridcolor": "white",
            "gridwidth": 2,
            "linecolor": "white",
            "showbackground": true,
            "ticks": "",
            "zerolinecolor": "white"
           },
           "yaxis": {
            "backgroundcolor": "#E5ECF6",
            "gridcolor": "white",
            "gridwidth": 2,
            "linecolor": "white",
            "showbackground": true,
            "ticks": "",
            "zerolinecolor": "white"
           },
           "zaxis": {
            "backgroundcolor": "#E5ECF6",
            "gridcolor": "white",
            "gridwidth": 2,
            "linecolor": "white",
            "showbackground": true,
            "ticks": "",
            "zerolinecolor": "white"
           }
          },
          "shapedefaults": {
           "line": {
            "color": "#2a3f5f"
           }
          },
          "ternary": {
           "aaxis": {
            "gridcolor": "white",
            "linecolor": "white",
            "ticks": ""
           },
           "baxis": {
            "gridcolor": "white",
            "linecolor": "white",
            "ticks": ""
           },
           "bgcolor": "#E5ECF6",
           "caxis": {
            "gridcolor": "white",
            "linecolor": "white",
            "ticks": ""
           }
          },
          "title": {
           "x": 0.05
          },
          "xaxis": {
           "automargin": true,
           "gridcolor": "white",
           "linecolor": "white",
           "ticks": "",
           "title": {
            "standoff": 15
           },
           "zerolinecolor": "white",
           "zerolinewidth": 2
          },
          "yaxis": {
           "automargin": true,
           "gridcolor": "white",
           "linecolor": "white",
           "ticks": "",
           "title": {
            "standoff": 15
           },
           "zerolinecolor": "white",
           "zerolinewidth": 2
          }
         }
        },
        "title": {
         "text": "Curl free output from GP Regression for n = 100 input vectors for current carrying wire"
        }
       }
      }
     },
     "metadata": {},
     "output_type": "display_data"
    }
   ],
   "source": [
    "plotter(outputs_wire_curl_free, \n",
    "        title = f'Curl free output from GP Regression for n = {given_samples_wire} input vectors for current carrying wire')"
   ]
  },
  {
   "cell_type": "code",
   "execution_count": 12,
   "id": "6c57ec51",
   "metadata": {},
   "outputs": [
    {
     "name": "stdout",
     "output_type": "stream",
     "text": [
      "MSE for this case of 367.4297374089136\n"
     ]
    },
    {
     "data": {
      "application/vnd.plotly.v1+json": {
       "config": {
        "plotlyServerURL": "https://plot.ly"
       },
       "data": [
        {
         "anchor": "tail",
         "sizemode": "scaled",
         "sizeref": 2,
         "type": "cone",
         "u": {
          "bdata": "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",
          "dtype": "f8"
         },
         "v": {
          "bdata": "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",
          "dtype": "f8"
         },
         "w": {
          "bdata": "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",
          "dtype": "f8"
         },
         "x": {
          "bdata": "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",
          "dtype": "f8"
         },
         "y": {
          "bdata": "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",
          "dtype": "f8"
         },
         "z": {
          "bdata": "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",
          "dtype": "f8"
         }
        }
       ],
       "layout": {
        "scene": {
         "xaxis": {
          "title": {
           "text": "X"
          }
         },
         "yaxis": {
          "title": {
           "text": "Y"
          }
         },
         "zaxis": {
          "title": {
           "text": "Z"
          }
         }
        },
        "template": {
         "data": {
          "bar": [
           {
            "error_x": {
             "color": "#2a3f5f"
            },
            "error_y": {
             "color": "#2a3f5f"
            },
            "marker": {
             "line": {
              "color": "#E5ECF6",
              "width": 0.5
             },
             "pattern": {
              "fillmode": "overlay",
              "size": 10,
              "solidity": 0.2
             }
            },
            "type": "bar"
           }
          ],
          "barpolar": [
           {
            "marker": {
             "line": {
              "color": "#E5ECF6",
              "width": 0.5
             },
             "pattern": {
              "fillmode": "overlay",
              "size": 10,
              "solidity": 0.2
             }
            },
            "type": "barpolar"
           }
          ],
          "carpet": [
           {
            "aaxis": {
             "endlinecolor": "#2a3f5f",
             "gridcolor": "white",
             "linecolor": "white",
             "minorgridcolor": "white",
             "startlinecolor": "#2a3f5f"
            },
            "baxis": {
             "endlinecolor": "#2a3f5f",
             "gridcolor": "white",
             "linecolor": "white",
             "minorgridcolor": "white",
             "startlinecolor": "#2a3f5f"
            },
            "type": "carpet"
           }
          ],
          "choropleth": [
           {
            "colorbar": {
             "outlinewidth": 0,
             "ticks": ""
            },
            "type": "choropleth"
           }
          ],
          "contour": [
           {
            "colorbar": {
             "outlinewidth": 0,
             "ticks": ""
            },
            "colorscale": [
             [
              0,
              "#0d0887"
             ],
             [
              0.1111111111111111,
              "#46039f"
             ],
             [
              0.2222222222222222,
              "#7201a8"
             ],
             [
              0.3333333333333333,
              "#9c179e"
             ],
             [
              0.4444444444444444,
              "#bd3786"
             ],
             [
              0.5555555555555556,
              "#d8576b"
             ],
             [
              0.6666666666666666,
              "#ed7953"
             ],
             [
              0.7777777777777778,
              "#fb9f3a"
             ],
             [
              0.8888888888888888,
              "#fdca26"
             ],
             [
              1,
              "#f0f921"
             ]
            ],
            "type": "contour"
           }
          ],
          "contourcarpet": [
           {
            "colorbar": {
             "outlinewidth": 0,
             "ticks": ""
            },
            "type": "contourcarpet"
           }
          ],
          "heatmap": [
           {
            "colorbar": {
             "outlinewidth": 0,
             "ticks": ""
            },
            "colorscale": [
             [
              0,
              "#0d0887"
             ],
             [
              0.1111111111111111,
              "#46039f"
             ],
             [
              0.2222222222222222,
              "#7201a8"
             ],
             [
              0.3333333333333333,
              "#9c179e"
             ],
             [
              0.4444444444444444,
              "#bd3786"
             ],
             [
              0.5555555555555556,
              "#d8576b"
             ],
             [
              0.6666666666666666,
              "#ed7953"
             ],
             [
              0.7777777777777778,
              "#fb9f3a"
             ],
             [
              0.8888888888888888,
              "#fdca26"
             ],
             [
              1,
              "#f0f921"
             ]
            ],
            "type": "heatmap"
           }
          ],
          "histogram": [
           {
            "marker": {
             "pattern": {
              "fillmode": "overlay",
              "size": 10,
              "solidity": 0.2
             }
            },
            "type": "histogram"
           }
          ],
          "histogram2d": [
           {
            "colorbar": {
             "outlinewidth": 0,
             "ticks": ""
            },
            "colorscale": [
             [
              0,
              "#0d0887"
             ],
             [
              0.1111111111111111,
              "#46039f"
             ],
             [
              0.2222222222222222,
              "#7201a8"
             ],
             [
              0.3333333333333333,
              "#9c179e"
             ],
             [
              0.4444444444444444,
              "#bd3786"
             ],
             [
              0.5555555555555556,
              "#d8576b"
             ],
             [
              0.6666666666666666,
              "#ed7953"
             ],
             [
              0.7777777777777778,
              "#fb9f3a"
             ],
             [
              0.8888888888888888,
              "#fdca26"
             ],
             [
              1,
              "#f0f921"
             ]
            ],
            "type": "histogram2d"
           }
          ],
          "histogram2dcontour": [
           {
            "colorbar": {
             "outlinewidth": 0,
             "ticks": ""
            },
            "colorscale": [
             [
              0,
              "#0d0887"
             ],
             [
              0.1111111111111111,
              "#46039f"
             ],
             [
              0.2222222222222222,
              "#7201a8"
             ],
             [
              0.3333333333333333,
              "#9c179e"
             ],
             [
              0.4444444444444444,
              "#bd3786"
             ],
             [
              0.5555555555555556,
              "#d8576b"
             ],
             [
              0.6666666666666666,
              "#ed7953"
             ],
             [
              0.7777777777777778,
              "#fb9f3a"
             ],
             [
              0.8888888888888888,
              "#fdca26"
             ],
             [
              1,
              "#f0f921"
             ]
            ],
            "type": "histogram2dcontour"
           }
          ],
          "mesh3d": [
           {
            "colorbar": {
             "outlinewidth": 0,
             "ticks": ""
            },
            "type": "mesh3d"
           }
          ],
          "parcoords": [
           {
            "line": {
             "colorbar": {
              "outlinewidth": 0,
              "ticks": ""
             }
            },
            "type": "parcoords"
           }
          ],
          "pie": [
           {
            "automargin": true,
            "type": "pie"
           }
          ],
          "scatter": [
           {
            "fillpattern": {
             "fillmode": "overlay",
             "size": 10,
             "solidity": 0.2
            },
            "type": "scatter"
           }
          ],
          "scatter3d": [
           {
            "line": {
             "colorbar": {
              "outlinewidth": 0,
              "ticks": ""
             }
            },
            "marker": {
             "colorbar": {
              "outlinewidth": 0,
              "ticks": ""
             }
            },
            "type": "scatter3d"
           }
          ],
          "scattercarpet": [
           {
            "marker": {
             "colorbar": {
              "outlinewidth": 0,
              "ticks": ""
             }
            },
            "type": "scattercarpet"
           }
          ],
          "scattergeo": [
           {
            "marker": {
             "colorbar": {
              "outlinewidth": 0,
              "ticks": ""
             }
            },
            "type": "scattergeo"
           }
          ],
          "scattergl": [
           {
            "marker": {
             "colorbar": {
              "outlinewidth": 0,
              "ticks": ""
             }
            },
            "type": "scattergl"
           }
          ],
          "scattermap": [
           {
            "marker": {
             "colorbar": {
              "outlinewidth": 0,
              "ticks": ""
             }
            },
            "type": "scattermap"
           }
          ],
          "scattermapbox": [
           {
            "marker": {
             "colorbar": {
              "outlinewidth": 0,
              "ticks": ""
             }
            },
            "type": "scattermapbox"
           }
          ],
          "scatterpolar": [
           {
            "marker": {
             "colorbar": {
              "outlinewidth": 0,
              "ticks": ""
             }
            },
            "type": "scatterpolar"
           }
          ],
          "scatterpolargl": [
           {
            "marker": {
             "colorbar": {
              "outlinewidth": 0,
              "ticks": ""
             }
            },
            "type": "scatterpolargl"
           }
          ],
          "scatterternary": [
           {
            "marker": {
             "colorbar": {
              "outlinewidth": 0,
              "ticks": ""
             }
            },
            "type": "scatterternary"
           }
          ],
          "surface": [
           {
            "colorbar": {
             "outlinewidth": 0,
             "ticks": ""
            },
            "colorscale": [
             [
              0,
              "#0d0887"
             ],
             [
              0.1111111111111111,
              "#46039f"
             ],
             [
              0.2222222222222222,
              "#7201a8"
             ],
             [
              0.3333333333333333,
              "#9c179e"
             ],
             [
              0.4444444444444444,
              "#bd3786"
             ],
             [
              0.5555555555555556,
              "#d8576b"
             ],
             [
              0.6666666666666666,
              "#ed7953"
             ],
             [
              0.7777777777777778,
              "#fb9f3a"
             ],
             [
              0.8888888888888888,
              "#fdca26"
             ],
             [
              1,
              "#f0f921"
             ]
            ],
            "type": "surface"
           }
          ],
          "table": [
           {
            "cells": {
             "fill": {
              "color": "#EBF0F8"
             },
             "line": {
              "color": "white"
             }
            },
            "header": {
             "fill": {
              "color": "#C8D4E3"
             },
             "line": {
              "color": "white"
             }
            },
            "type": "table"
           }
          ]
         },
         "layout": {
          "annotationdefaults": {
           "arrowcolor": "#2a3f5f",
           "arrowhead": 0,
           "arrowwidth": 1
          },
          "autotypenumbers": "strict",
          "coloraxis": {
           "colorbar": {
            "outlinewidth": 0,
            "ticks": ""
           }
          },
          "colorscale": {
           "diverging": [
            [
             0,
             "#8e0152"
            ],
            [
             0.1,
             "#c51b7d"
            ],
            [
             0.2,
             "#de77ae"
            ],
            [
             0.3,
             "#f1b6da"
            ],
            [
             0.4,
             "#fde0ef"
            ],
            [
             0.5,
             "#f7f7f7"
            ],
            [
             0.6,
             "#e6f5d0"
            ],
            [
             0.7,
             "#b8e186"
            ],
            [
             0.8,
             "#7fbc41"
            ],
            [
             0.9,
             "#4d9221"
            ],
            [
             1,
             "#276419"
            ]
           ],
           "sequential": [
            [
             0,
             "#0d0887"
            ],
            [
             0.1111111111111111,
             "#46039f"
            ],
            [
             0.2222222222222222,
             "#7201a8"
            ],
            [
             0.3333333333333333,
             "#9c179e"
            ],
            [
             0.4444444444444444,
             "#bd3786"
            ],
            [
             0.5555555555555556,
             "#d8576b"
            ],
            [
             0.6666666666666666,
             "#ed7953"
            ],
            [
             0.7777777777777778,
             "#fb9f3a"
            ],
            [
             0.8888888888888888,
             "#fdca26"
            ],
            [
             1,
             "#f0f921"
            ]
           ],
           "sequentialminus": [
            [
             0,
             "#0d0887"
            ],
            [
             0.1111111111111111,
             "#46039f"
            ],
            [
             0.2222222222222222,
             "#7201a8"
            ],
            [
             0.3333333333333333,
             "#9c179e"
            ],
            [
             0.4444444444444444,
             "#bd3786"
            ],
            [
             0.5555555555555556,
             "#d8576b"
            ],
            [
             0.6666666666666666,
             "#ed7953"
            ],
            [
             0.7777777777777778,
             "#fb9f3a"
            ],
            [
             0.8888888888888888,
             "#fdca26"
            ],
            [
             1,
             "#f0f921"
            ]
           ]
          },
          "colorway": [
           "#636efa",
           "#EF553B",
           "#00cc96",
           "#ab63fa",
           "#FFA15A",
           "#19d3f3",
           "#FF6692",
           "#B6E880",
           "#FF97FF",
           "#FECB52"
          ],
          "font": {
           "color": "#2a3f5f"
          },
          "geo": {
           "bgcolor": "white",
           "lakecolor": "white",
           "landcolor": "#E5ECF6",
           "showlakes": true,
           "showland": true,
           "subunitcolor": "white"
          },
          "hoverlabel": {
           "align": "left"
          },
          "hovermode": "closest",
          "mapbox": {
           "style": "light"
          },
          "paper_bgcolor": "white",
          "plot_bgcolor": "#E5ECF6",
          "polar": {
           "angularaxis": {
            "gridcolor": "white",
            "linecolor": "white",
            "ticks": ""
           },
           "bgcolor": "#E5ECF6",
           "radialaxis": {
            "gridcolor": "white",
            "linecolor": "white",
            "ticks": ""
           }
          },
          "scene": {
           "xaxis": {
            "backgroundcolor": "#E5ECF6",
            "gridcolor": "white",
            "gridwidth": 2,
            "linecolor": "white",
            "showbackground": true,
            "ticks": "",
            "zerolinecolor": "white"
           },
           "yaxis": {
            "backgroundcolor": "#E5ECF6",
            "gridcolor": "white",
            "gridwidth": 2,
            "linecolor": "white",
            "showbackground": true,
            "ticks": "",
            "zerolinecolor": "white"
           },
           "zaxis": {
            "backgroundcolor": "#E5ECF6",
            "gridcolor": "white",
            "gridwidth": 2,
            "linecolor": "white",
            "showbackground": true,
            "ticks": "",
            "zerolinecolor": "white"
           }
          },
          "shapedefaults": {
           "line": {
            "color": "#2a3f5f"
           }
          },
          "ternary": {
           "aaxis": {
            "gridcolor": "white",
            "linecolor": "white",
            "ticks": ""
           },
           "baxis": {
            "gridcolor": "white",
            "linecolor": "white",
            "ticks": ""
           },
           "bgcolor": "#E5ECF6",
           "caxis": {
            "gridcolor": "white",
            "linecolor": "white",
            "ticks": ""
           }
          },
          "title": {
           "x": 0.05
          },
          "xaxis": {
           "automargin": true,
           "gridcolor": "white",
           "linecolor": "white",
           "ticks": "",
           "title": {
            "standoff": 15
           },
           "zerolinecolor": "white",
           "zerolinewidth": 2
          },
          "yaxis": {
           "automargin": true,
           "gridcolor": "white",
           "linecolor": "white",
           "ticks": "",
           "title": {
            "standoff": 15
           },
           "zerolinecolor": "white",
           "zerolinewidth": 2
          }
         }
        },
        "title": {
         "text": "Curl free regression errors for n = 100 input vectors for current carrying wire"
        }
       }
      }
     },
     "metadata": {},
     "output_type": "display_data"
    }
   ],
   "source": [
    "# plot residuals of fit above: \n",
    "residuals_wire_curl_free, mse_wire_curl_free = differencer(outputs_wire, outputs_wire_curl_free)\n",
    "print(f'MSE for this case of {mse_wire_curl_free}')\n",
    "plotter(residuals_wire_curl_free, \n",
    "        title = f'Curl free regression errors for n = {given_samples_wire} input vectors for current carrying wire')"
   ]
  },
  {
   "cell_type": "markdown",
   "id": "78bfed5b",
   "metadata": {},
   "source": [
    "## Applying GP Regression to Current Carrying Coil"
   ]
  },
  {
   "cell_type": "code",
   "execution_count": 13,
   "id": "439bb977",
   "metadata": {},
   "outputs": [
    {
     "name": "stdout",
     "output_type": "stream",
     "text": [
      "Parameters for sigma_f and l specified, using these.\n"
     ]
    }
   ],
   "source": [
    "given_samples_coil = sampled_outputs_coil[0].shape[0]\n",
    "\n",
    "outputs_coil_div_free = updated_vector_field(\n",
    "    sampled_outputs_coil, \n",
    "    outputs_coil[0], outputs_coil[1], outputs_coil[2], \n",
    "    kernel_func='divergence_free_kernel', \n",
    "    sigma_f = 0.01, l = 1.5)\n",
    "\n",
    "# from giving the code a large number of samples, the optimum \n",
    "# parameters seem to be about: sigma_f = 0.1, l = 0.1191608\n",
    "# sigma_f = 0.01, l = 1.5 seem to work okay "
   ]
  },
  {
   "cell_type": "code",
   "execution_count": 14,
   "id": "896cbdc4",
   "metadata": {},
   "outputs": [
    {
     "data": {
      "application/vnd.plotly.v1+json": {
       "config": {
        "plotlyServerURL": "https://plot.ly"
       },
       "data": [
        {
         "anchor": "tail",
         "sizemode": "scaled",
         "sizeref": 2,
         "type": "cone",
         "u": {
          "bdata": "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",
          "dtype": "f8"
         },
         "v": {
          "bdata": "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",
          "dtype": "f8"
         },
         "w": {
          "bdata": "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",
          "dtype": "f8"
         },
         "x": {
          "bdata": "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",
          "dtype": "f8"
         },
         "y": {
          "bdata": "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",
          "dtype": "f8"
         },
         "z": {
          "bdata": "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",
          "dtype": "f8"
         }
        }
       ],
       "layout": {
        "scene": {
         "xaxis": {
          "title": {
           "text": "X"
          }
         },
         "yaxis": {
          "title": {
           "text": "Y"
          }
         },
         "zaxis": {
          "title": {
           "text": "Z"
          }
         }
        },
        "template": {
         "data": {
          "bar": [
           {
            "error_x": {
             "color": "#2a3f5f"
            },
            "error_y": {
             "color": "#2a3f5f"
            },
            "marker": {
             "line": {
              "color": "#E5ECF6",
              "width": 0.5
             },
             "pattern": {
              "fillmode": "overlay",
              "size": 10,
              "solidity": 0.2
             }
            },
            "type": "bar"
           }
          ],
          "barpolar": [
           {
            "marker": {
             "line": {
              "color": "#E5ECF6",
              "width": 0.5
             },
             "pattern": {
              "fillmode": "overlay",
              "size": 10,
              "solidity": 0.2
             }
            },
            "type": "barpolar"
           }
          ],
          "carpet": [
           {
            "aaxis": {
             "endlinecolor": "#2a3f5f",
             "gridcolor": "white",
             "linecolor": "white",
             "minorgridcolor": "white",
             "startlinecolor": "#2a3f5f"
            },
            "baxis": {
             "endlinecolor": "#2a3f5f",
             "gridcolor": "white",
             "linecolor": "white",
             "minorgridcolor": "white",
             "startlinecolor": "#2a3f5f"
            },
            "type": "carpet"
           }
          ],
          "choropleth": [
           {
            "colorbar": {
             "outlinewidth": 0,
             "ticks": ""
            },
            "type": "choropleth"
           }
          ],
          "contour": [
           {
            "colorbar": {
             "outlinewidth": 0,
             "ticks": ""
            },
            "colorscale": [
             [
              0,
              "#0d0887"
             ],
             [
              0.1111111111111111,
              "#46039f"
             ],
             [
              0.2222222222222222,
              "#7201a8"
             ],
             [
              0.3333333333333333,
              "#9c179e"
             ],
             [
              0.4444444444444444,
              "#bd3786"
             ],
             [
              0.5555555555555556,
              "#d8576b"
             ],
             [
              0.6666666666666666,
              "#ed7953"
             ],
             [
              0.7777777777777778,
              "#fb9f3a"
             ],
             [
              0.8888888888888888,
              "#fdca26"
             ],
             [
              1,
              "#f0f921"
             ]
            ],
            "type": "contour"
           }
          ],
          "contourcarpet": [
           {
            "colorbar": {
             "outlinewidth": 0,
             "ticks": ""
            },
            "type": "contourcarpet"
           }
          ],
          "heatmap": [
           {
            "colorbar": {
             "outlinewidth": 0,
             "ticks": ""
            },
            "colorscale": [
             [
              0,
              "#0d0887"
             ],
             [
              0.1111111111111111,
              "#46039f"
             ],
             [
              0.2222222222222222,
              "#7201a8"
             ],
             [
              0.3333333333333333,
              "#9c179e"
             ],
             [
              0.4444444444444444,
              "#bd3786"
             ],
             [
              0.5555555555555556,
              "#d8576b"
             ],
             [
              0.6666666666666666,
              "#ed7953"
             ],
             [
              0.7777777777777778,
              "#fb9f3a"
             ],
             [
              0.8888888888888888,
              "#fdca26"
             ],
             [
              1,
              "#f0f921"
             ]
            ],
            "type": "heatmap"
           }
          ],
          "histogram": [
           {
            "marker": {
             "pattern": {
              "fillmode": "overlay",
              "size": 10,
              "solidity": 0.2
             }
            },
            "type": "histogram"
           }
          ],
          "histogram2d": [
           {
            "colorbar": {
             "outlinewidth": 0,
             "ticks": ""
            },
            "colorscale": [
             [
              0,
              "#0d0887"
             ],
             [
              0.1111111111111111,
              "#46039f"
             ],
             [
              0.2222222222222222,
              "#7201a8"
             ],
             [
              0.3333333333333333,
              "#9c179e"
             ],
             [
              0.4444444444444444,
              "#bd3786"
             ],
             [
              0.5555555555555556,
              "#d8576b"
             ],
             [
              0.6666666666666666,
              "#ed7953"
             ],
             [
              0.7777777777777778,
              "#fb9f3a"
             ],
             [
              0.8888888888888888,
              "#fdca26"
             ],
             [
              1,
              "#f0f921"
             ]
            ],
            "type": "histogram2d"
           }
          ],
          "histogram2dcontour": [
           {
            "colorbar": {
             "outlinewidth": 0,
             "ticks": ""
            },
            "colorscale": [
             [
              0,
              "#0d0887"
             ],
             [
              0.1111111111111111,
              "#46039f"
             ],
             [
              0.2222222222222222,
              "#7201a8"
             ],
             [
              0.3333333333333333,
              "#9c179e"
             ],
             [
              0.4444444444444444,
              "#bd3786"
             ],
             [
              0.5555555555555556,
              "#d8576b"
             ],
             [
              0.6666666666666666,
              "#ed7953"
             ],
             [
              0.7777777777777778,
              "#fb9f3a"
             ],
             [
              0.8888888888888888,
              "#fdca26"
             ],
             [
              1,
              "#f0f921"
             ]
            ],
            "type": "histogram2dcontour"
           }
          ],
          "mesh3d": [
           {
            "colorbar": {
             "outlinewidth": 0,
             "ticks": ""
            },
            "type": "mesh3d"
           }
          ],
          "parcoords": [
           {
            "line": {
             "colorbar": {
              "outlinewidth": 0,
              "ticks": ""
             }
            },
            "type": "parcoords"
           }
          ],
          "pie": [
           {
            "automargin": true,
            "type": "pie"
           }
          ],
          "scatter": [
           {
            "fillpattern": {
             "fillmode": "overlay",
             "size": 10,
             "solidity": 0.2
            },
            "type": "scatter"
           }
          ],
          "scatter3d": [
           {
            "line": {
             "colorbar": {
              "outlinewidth": 0,
              "ticks": ""
             }
            },
            "marker": {
             "colorbar": {
              "outlinewidth": 0,
              "ticks": ""
             }
            },
            "type": "scatter3d"
           }
          ],
          "scattercarpet": [
           {
            "marker": {
             "colorbar": {
              "outlinewidth": 0,
              "ticks": ""
             }
            },
            "type": "scattercarpet"
           }
          ],
          "scattergeo": [
           {
            "marker": {
             "colorbar": {
              "outlinewidth": 0,
              "ticks": ""
             }
            },
            "type": "scattergeo"
           }
          ],
          "scattergl": [
           {
            "marker": {
             "colorbar": {
              "outlinewidth": 0,
              "ticks": ""
             }
            },
            "type": "scattergl"
           }
          ],
          "scattermap": [
           {
            "marker": {
             "colorbar": {
              "outlinewidth": 0,
              "ticks": ""
             }
            },
            "type": "scattermap"
           }
          ],
          "scattermapbox": [
           {
            "marker": {
             "colorbar": {
              "outlinewidth": 0,
              "ticks": ""
             }
            },
            "type": "scattermapbox"
           }
          ],
          "scatterpolar": [
           {
            "marker": {
             "colorbar": {
              "outlinewidth": 0,
              "ticks": ""
             }
            },
            "type": "scatterpolar"
           }
          ],
          "scatterpolargl": [
           {
            "marker": {
             "colorbar": {
              "outlinewidth": 0,
              "ticks": ""
             }
            },
            "type": "scatterpolargl"
           }
          ],
          "scatterternary": [
           {
            "marker": {
             "colorbar": {
              "outlinewidth": 0,
              "ticks": ""
             }
            },
            "type": "scatterternary"
           }
          ],
          "surface": [
           {
            "colorbar": {
             "outlinewidth": 0,
             "ticks": ""
            },
            "colorscale": [
             [
              0,
              "#0d0887"
             ],
             [
              0.1111111111111111,
              "#46039f"
             ],
             [
              0.2222222222222222,
              "#7201a8"
             ],
             [
              0.3333333333333333,
              "#9c179e"
             ],
             [
              0.4444444444444444,
              "#bd3786"
             ],
             [
              0.5555555555555556,
              "#d8576b"
             ],
             [
              0.6666666666666666,
              "#ed7953"
             ],
             [
              0.7777777777777778,
              "#fb9f3a"
             ],
             [
              0.8888888888888888,
              "#fdca26"
             ],
             [
              1,
              "#f0f921"
             ]
            ],
            "type": "surface"
           }
          ],
          "table": [
           {
            "cells": {
             "fill": {
              "color": "#EBF0F8"
             },
             "line": {
              "color": "white"
             }
            },
            "header": {
             "fill": {
              "color": "#C8D4E3"
             },
             "line": {
              "color": "white"
             }
            },
            "type": "table"
           }
          ]
         },
         "layout": {
          "annotationdefaults": {
           "arrowcolor": "#2a3f5f",
           "arrowhead": 0,
           "arrowwidth": 1
          },
          "autotypenumbers": "strict",
          "coloraxis": {
           "colorbar": {
            "outlinewidth": 0,
            "ticks": ""
           }
          },
          "colorscale": {
           "diverging": [
            [
             0,
             "#8e0152"
            ],
            [
             0.1,
             "#c51b7d"
            ],
            [
             0.2,
             "#de77ae"
            ],
            [
             0.3,
             "#f1b6da"
            ],
            [
             0.4,
             "#fde0ef"
            ],
            [
             0.5,
             "#f7f7f7"
            ],
            [
             0.6,
             "#e6f5d0"
            ],
            [
             0.7,
             "#b8e186"
            ],
            [
             0.8,
             "#7fbc41"
            ],
            [
             0.9,
             "#4d9221"
            ],
            [
             1,
             "#276419"
            ]
           ],
           "sequential": [
            [
             0,
             "#0d0887"
            ],
            [
             0.1111111111111111,
             "#46039f"
            ],
            [
             0.2222222222222222,
             "#7201a8"
            ],
            [
             0.3333333333333333,
             "#9c179e"
            ],
            [
             0.4444444444444444,
             "#bd3786"
            ],
            [
             0.5555555555555556,
             "#d8576b"
            ],
            [
             0.6666666666666666,
             "#ed7953"
            ],
            [
             0.7777777777777778,
             "#fb9f3a"
            ],
            [
             0.8888888888888888,
             "#fdca26"
            ],
            [
             1,
             "#f0f921"
            ]
           ],
           "sequentialminus": [
            [
             0,
             "#0d0887"
            ],
            [
             0.1111111111111111,
             "#46039f"
            ],
            [
             0.2222222222222222,
             "#7201a8"
            ],
            [
             0.3333333333333333,
             "#9c179e"
            ],
            [
             0.4444444444444444,
             "#bd3786"
            ],
            [
             0.5555555555555556,
             "#d8576b"
            ],
            [
             0.6666666666666666,
             "#ed7953"
            ],
            [
             0.7777777777777778,
             "#fb9f3a"
            ],
            [
             0.8888888888888888,
             "#fdca26"
            ],
            [
             1,
             "#f0f921"
            ]
           ]
          },
          "colorway": [
           "#636efa",
           "#EF553B",
           "#00cc96",
           "#ab63fa",
           "#FFA15A",
           "#19d3f3",
           "#FF6692",
           "#B6E880",
           "#FF97FF",
           "#FECB52"
          ],
          "font": {
           "color": "#2a3f5f"
          },
          "geo": {
           "bgcolor": "white",
           "lakecolor": "white",
           "landcolor": "#E5ECF6",
           "showlakes": true,
           "showland": true,
           "subunitcolor": "white"
          },
          "hoverlabel": {
           "align": "left"
          },
          "hovermode": "closest",
          "mapbox": {
           "style": "light"
          },
          "paper_bgcolor": "white",
          "plot_bgcolor": "#E5ECF6",
          "polar": {
           "angularaxis": {
            "gridcolor": "white",
            "linecolor": "white",
            "ticks": ""
           },
           "bgcolor": "#E5ECF6",
           "radialaxis": {
            "gridcolor": "white",
            "linecolor": "white",
            "ticks": ""
           }
          },
          "scene": {
           "xaxis": {
            "backgroundcolor": "#E5ECF6",
            "gridcolor": "white",
            "gridwidth": 2,
            "linecolor": "white",
            "showbackground": true,
            "ticks": "",
            "zerolinecolor": "white"
           },
           "yaxis": {
            "backgroundcolor": "#E5ECF6",
            "gridcolor": "white",
            "gridwidth": 2,
            "linecolor": "white",
            "showbackground": true,
            "ticks": "",
            "zerolinecolor": "white"
           },
           "zaxis": {
            "backgroundcolor": "#E5ECF6",
            "gridcolor": "white",
            "gridwidth": 2,
            "linecolor": "white",
            "showbackground": true,
            "ticks": "",
            "zerolinecolor": "white"
           }
          },
          "shapedefaults": {
           "line": {
            "color": "#2a3f5f"
           }
          },
          "ternary": {
           "aaxis": {
            "gridcolor": "white",
            "linecolor": "white",
            "ticks": ""
           },
           "baxis": {
            "gridcolor": "white",
            "linecolor": "white",
            "ticks": ""
           },
           "bgcolor": "#E5ECF6",
           "caxis": {
            "gridcolor": "white",
            "linecolor": "white",
            "ticks": ""
           }
          },
          "title": {
           "x": 0.05
          },
          "xaxis": {
           "automargin": true,
           "gridcolor": "white",
           "linecolor": "white",
           "ticks": "",
           "title": {
            "standoff": 15
           },
           "zerolinecolor": "white",
           "zerolinewidth": 2
          },
          "yaxis": {
           "automargin": true,
           "gridcolor": "white",
           "linecolor": "white",
           "ticks": "",
           "title": {
            "standoff": 15
           },
           "zerolinecolor": "white",
           "zerolinewidth": 2
          }
         }
        },
        "title": {
         "text": "Div free output from GP Regression for n = 100 input vectors for current carrying coil"
        }
       }
      }
     },
     "metadata": {},
     "output_type": "display_data"
    }
   ],
   "source": [
    "plotter(outputs_coil_div_free, \n",
    "        title = f'Div free output from GP Regression for n = {given_samples_coil} input vectors for current carrying coil')"
   ]
  },
  {
   "cell_type": "code",
   "execution_count": 15,
   "id": "b7e7a1bb",
   "metadata": {},
   "outputs": [
    {
     "name": "stdout",
     "output_type": "stream",
     "text": [
      "MSE for this case of 20.614333604296107\n"
     ]
    },
    {
     "data": {
      "application/vnd.plotly.v1+json": {
       "config": {
        "plotlyServerURL": "https://plot.ly"
       },
       "data": [
        {
         "anchor": "tail",
         "sizemode": "scaled",
         "sizeref": 2,
         "type": "cone",
         "u": {
          "bdata": "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",
          "dtype": "f8"
         },
         "v": {
          "bdata": "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",
          "dtype": "f8"
         },
         "w": {
          "bdata": "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",
          "dtype": "f8"
         },
         "x": {
          "bdata": "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",
          "dtype": "f8"
         },
         "y": {
          "bdata": "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",
          "dtype": "f8"
         },
         "z": {
          "bdata": "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",
          "dtype": "f8"
         }
        }
       ],
       "layout": {
        "scene": {
         "xaxis": {
          "title": {
           "text": "X"
          }
         },
         "yaxis": {
          "title": {
           "text": "Y"
          }
         },
         "zaxis": {
          "title": {
           "text": "Z"
          }
         }
        },
        "template": {
         "data": {
          "bar": [
           {
            "error_x": {
             "color": "#2a3f5f"
            },
            "error_y": {
             "color": "#2a3f5f"
            },
            "marker": {
             "line": {
              "color": "#E5ECF6",
              "width": 0.5
             },
             "pattern": {
              "fillmode": "overlay",
              "size": 10,
              "solidity": 0.2
             }
            },
            "type": "bar"
           }
          ],
          "barpolar": [
           {
            "marker": {
             "line": {
              "color": "#E5ECF6",
              "width": 0.5
             },
             "pattern": {
              "fillmode": "overlay",
              "size": 10,
              "solidity": 0.2
             }
            },
            "type": "barpolar"
           }
          ],
          "carpet": [
           {
            "aaxis": {
             "endlinecolor": "#2a3f5f",
             "gridcolor": "white",
             "linecolor": "white",
             "minorgridcolor": "white",
             "startlinecolor": "#2a3f5f"
            },
            "baxis": {
             "endlinecolor": "#2a3f5f",
             "gridcolor": "white",
             "linecolor": "white",
             "minorgridcolor": "white",
             "startlinecolor": "#2a3f5f"
            },
            "type": "carpet"
           }
          ],
          "choropleth": [
           {
            "colorbar": {
             "outlinewidth": 0,
             "ticks": ""
            },
            "type": "choropleth"
           }
          ],
          "contour": [
           {
            "colorbar": {
             "outlinewidth": 0,
             "ticks": ""
            },
            "colorscale": [
             [
              0,
              "#0d0887"
             ],
             [
              0.1111111111111111,
              "#46039f"
             ],
             [
              0.2222222222222222,
              "#7201a8"
             ],
             [
              0.3333333333333333,
              "#9c179e"
             ],
             [
              0.4444444444444444,
              "#bd3786"
             ],
             [
              0.5555555555555556,
              "#d8576b"
             ],
             [
              0.6666666666666666,
              "#ed7953"
             ],
             [
              0.7777777777777778,
              "#fb9f3a"
             ],
             [
              0.8888888888888888,
              "#fdca26"
             ],
             [
              1,
              "#f0f921"
             ]
            ],
            "type": "contour"
           }
          ],
          "contourcarpet": [
           {
            "colorbar": {
             "outlinewidth": 0,
             "ticks": ""
            },
            "type": "contourcarpet"
           }
          ],
          "heatmap": [
           {
            "colorbar": {
             "outlinewidth": 0,
             "ticks": ""
            },
            "colorscale": [
             [
              0,
              "#0d0887"
             ],
             [
              0.1111111111111111,
              "#46039f"
             ],
             [
              0.2222222222222222,
              "#7201a8"
             ],
             [
              0.3333333333333333,
              "#9c179e"
             ],
             [
              0.4444444444444444,
              "#bd3786"
             ],
             [
              0.5555555555555556,
              "#d8576b"
             ],
             [
              0.6666666666666666,
              "#ed7953"
             ],
             [
              0.7777777777777778,
              "#fb9f3a"
             ],
             [
              0.8888888888888888,
              "#fdca26"
             ],
             [
              1,
              "#f0f921"
             ]
            ],
            "type": "heatmap"
           }
          ],
          "histogram": [
           {
            "marker": {
             "pattern": {
              "fillmode": "overlay",
              "size": 10,
              "solidity": 0.2
             }
            },
            "type": "histogram"
           }
          ],
          "histogram2d": [
           {
            "colorbar": {
             "outlinewidth": 0,
             "ticks": ""
            },
            "colorscale": [
             [
              0,
              "#0d0887"
             ],
             [
              0.1111111111111111,
              "#46039f"
             ],
             [
              0.2222222222222222,
              "#7201a8"
             ],
             [
              0.3333333333333333,
              "#9c179e"
             ],
             [
              0.4444444444444444,
              "#bd3786"
             ],
             [
              0.5555555555555556,
              "#d8576b"
             ],
             [
              0.6666666666666666,
              "#ed7953"
             ],
             [
              0.7777777777777778,
              "#fb9f3a"
             ],
             [
              0.8888888888888888,
              "#fdca26"
             ],
             [
              1,
              "#f0f921"
             ]
            ],
            "type": "histogram2d"
           }
          ],
          "histogram2dcontour": [
           {
            "colorbar": {
             "outlinewidth": 0,
             "ticks": ""
            },
            "colorscale": [
             [
              0,
              "#0d0887"
             ],
             [
              0.1111111111111111,
              "#46039f"
             ],
             [
              0.2222222222222222,
              "#7201a8"
             ],
             [
              0.3333333333333333,
              "#9c179e"
             ],
             [
              0.4444444444444444,
              "#bd3786"
             ],
             [
              0.5555555555555556,
              "#d8576b"
             ],
             [
              0.6666666666666666,
              "#ed7953"
             ],
             [
              0.7777777777777778,
              "#fb9f3a"
             ],
             [
              0.8888888888888888,
              "#fdca26"
             ],
             [
              1,
              "#f0f921"
             ]
            ],
            "type": "histogram2dcontour"
           }
          ],
          "mesh3d": [
           {
            "colorbar": {
             "outlinewidth": 0,
             "ticks": ""
            },
            "type": "mesh3d"
           }
          ],
          "parcoords": [
           {
            "line": {
             "colorbar": {
              "outlinewidth": 0,
              "ticks": ""
             }
            },
            "type": "parcoords"
           }
          ],
          "pie": [
           {
            "automargin": true,
            "type": "pie"
           }
          ],
          "scatter": [
           {
            "fillpattern": {
             "fillmode": "overlay",
             "size": 10,
             "solidity": 0.2
            },
            "type": "scatter"
           }
          ],
          "scatter3d": [
           {
            "line": {
             "colorbar": {
              "outlinewidth": 0,
              "ticks": ""
             }
            },
            "marker": {
             "colorbar": {
              "outlinewidth": 0,
              "ticks": ""
             }
            },
            "type": "scatter3d"
           }
          ],
          "scattercarpet": [
           {
            "marker": {
             "colorbar": {
              "outlinewidth": 0,
              "ticks": ""
             }
            },
            "type": "scattercarpet"
           }
          ],
          "scattergeo": [
           {
            "marker": {
             "colorbar": {
              "outlinewidth": 0,
              "ticks": ""
             }
            },
            "type": "scattergeo"
           }
          ],
          "scattergl": [
           {
            "marker": {
             "colorbar": {
              "outlinewidth": 0,
              "ticks": ""
             }
            },
            "type": "scattergl"
           }
          ],
          "scattermap": [
           {
            "marker": {
             "colorbar": {
              "outlinewidth": 0,
              "ticks": ""
             }
            },
            "type": "scattermap"
           }
          ],
          "scattermapbox": [
           {
            "marker": {
             "colorbar": {
              "outlinewidth": 0,
              "ticks": ""
             }
            },
            "type": "scattermapbox"
           }
          ],
          "scatterpolar": [
           {
            "marker": {
             "colorbar": {
              "outlinewidth": 0,
              "ticks": ""
             }
            },
            "type": "scatterpolar"
           }
          ],
          "scatterpolargl": [
           {
            "marker": {
             "colorbar": {
              "outlinewidth": 0,
              "ticks": ""
             }
            },
            "type": "scatterpolargl"
           }
          ],
          "scatterternary": [
           {
            "marker": {
             "colorbar": {
              "outlinewidth": 0,
              "ticks": ""
             }
            },
            "type": "scatterternary"
           }
          ],
          "surface": [
           {
            "colorbar": {
             "outlinewidth": 0,
             "ticks": ""
            },
            "colorscale": [
             [
              0,
              "#0d0887"
             ],
             [
              0.1111111111111111,
              "#46039f"
             ],
             [
              0.2222222222222222,
              "#7201a8"
             ],
             [
              0.3333333333333333,
              "#9c179e"
             ],
             [
              0.4444444444444444,
              "#bd3786"
             ],
             [
              0.5555555555555556,
              "#d8576b"
             ],
             [
              0.6666666666666666,
              "#ed7953"
             ],
             [
              0.7777777777777778,
              "#fb9f3a"
             ],
             [
              0.8888888888888888,
              "#fdca26"
             ],
             [
              1,
              "#f0f921"
             ]
            ],
            "type": "surface"
           }
          ],
          "table": [
           {
            "cells": {
             "fill": {
              "color": "#EBF0F8"
             },
             "line": {
              "color": "white"
             }
            },
            "header": {
             "fill": {
              "color": "#C8D4E3"
             },
             "line": {
              "color": "white"
             }
            },
            "type": "table"
           }
          ]
         },
         "layout": {
          "annotationdefaults": {
           "arrowcolor": "#2a3f5f",
           "arrowhead": 0,
           "arrowwidth": 1
          },
          "autotypenumbers": "strict",
          "coloraxis": {
           "colorbar": {
            "outlinewidth": 0,
            "ticks": ""
           }
          },
          "colorscale": {
           "diverging": [
            [
             0,
             "#8e0152"
            ],
            [
             0.1,
             "#c51b7d"
            ],
            [
             0.2,
             "#de77ae"
            ],
            [
             0.3,
             "#f1b6da"
            ],
            [
             0.4,
             "#fde0ef"
            ],
            [
             0.5,
             "#f7f7f7"
            ],
            [
             0.6,
             "#e6f5d0"
            ],
            [
             0.7,
             "#b8e186"
            ],
            [
             0.8,
             "#7fbc41"
            ],
            [
             0.9,
             "#4d9221"
            ],
            [
             1,
             "#276419"
            ]
           ],
           "sequential": [
            [
             0,
             "#0d0887"
            ],
            [
             0.1111111111111111,
             "#46039f"
            ],
            [
             0.2222222222222222,
             "#7201a8"
            ],
            [
             0.3333333333333333,
             "#9c179e"
            ],
            [
             0.4444444444444444,
             "#bd3786"
            ],
            [
             0.5555555555555556,
             "#d8576b"
            ],
            [
             0.6666666666666666,
             "#ed7953"
            ],
            [
             0.7777777777777778,
             "#fb9f3a"
            ],
            [
             0.8888888888888888,
             "#fdca26"
            ],
            [
             1,
             "#f0f921"
            ]
           ],
           "sequentialminus": [
            [
             0,
             "#0d0887"
            ],
            [
             0.1111111111111111,
             "#46039f"
            ],
            [
             0.2222222222222222,
             "#7201a8"
            ],
            [
             0.3333333333333333,
             "#9c179e"
            ],
            [
             0.4444444444444444,
             "#bd3786"
            ],
            [
             0.5555555555555556,
             "#d8576b"
            ],
            [
             0.6666666666666666,
             "#ed7953"
            ],
            [
             0.7777777777777778,
             "#fb9f3a"
            ],
            [
             0.8888888888888888,
             "#fdca26"
            ],
            [
             1,
             "#f0f921"
            ]
           ]
          },
          "colorway": [
           "#636efa",
           "#EF553B",
           "#00cc96",
           "#ab63fa",
           "#FFA15A",
           "#19d3f3",
           "#FF6692",
           "#B6E880",
           "#FF97FF",
           "#FECB52"
          ],
          "font": {
           "color": "#2a3f5f"
          },
          "geo": {
           "bgcolor": "white",
           "lakecolor": "white",
           "landcolor": "#E5ECF6",
           "showlakes": true,
           "showland": true,
           "subunitcolor": "white"
          },
          "hoverlabel": {
           "align": "left"
          },
          "hovermode": "closest",
          "mapbox": {
           "style": "light"
          },
          "paper_bgcolor": "white",
          "plot_bgcolor": "#E5ECF6",
          "polar": {
           "angularaxis": {
            "gridcolor": "white",
            "linecolor": "white",
            "ticks": ""
           },
           "bgcolor": "#E5ECF6",
           "radialaxis": {
            "gridcolor": "white",
            "linecolor": "white",
            "ticks": ""
           }
          },
          "scene": {
           "xaxis": {
            "backgroundcolor": "#E5ECF6",
            "gridcolor": "white",
            "gridwidth": 2,
            "linecolor": "white",
            "showbackground": true,
            "ticks": "",
            "zerolinecolor": "white"
           },
           "yaxis": {
            "backgroundcolor": "#E5ECF6",
            "gridcolor": "white",
            "gridwidth": 2,
            "linecolor": "white",
            "showbackground": true,
            "ticks": "",
            "zerolinecolor": "white"
           },
           "zaxis": {
            "backgroundcolor": "#E5ECF6",
            "gridcolor": "white",
            "gridwidth": 2,
            "linecolor": "white",
            "showbackground": true,
            "ticks": "",
            "zerolinecolor": "white"
           }
          },
          "shapedefaults": {
           "line": {
            "color": "#2a3f5f"
           }
          },
          "ternary": {
           "aaxis": {
            "gridcolor": "white",
            "linecolor": "white",
            "ticks": ""
           },
           "baxis": {
            "gridcolor": "white",
            "linecolor": "white",
            "ticks": ""
           },
           "bgcolor": "#E5ECF6",
           "caxis": {
            "gridcolor": "white",
            "linecolor": "white",
            "ticks": ""
           }
          },
          "title": {
           "x": 0.05
          },
          "xaxis": {
           "automargin": true,
           "gridcolor": "white",
           "linecolor": "white",
           "ticks": "",
           "title": {
            "standoff": 15
           },
           "zerolinecolor": "white",
           "zerolinewidth": 2
          },
          "yaxis": {
           "automargin": true,
           "gridcolor": "white",
           "linecolor": "white",
           "ticks": "",
           "title": {
            "standoff": 15
           },
           "zerolinecolor": "white",
           "zerolinewidth": 2
          }
         }
        },
        "title": {
         "text": "Div free regression errors for n = 100 input vectors for current carrying coil"
        }
       }
      }
     },
     "metadata": {},
     "output_type": "display_data"
    }
   ],
   "source": [
    "# plot residuals of fit above: \n",
    "residuals_coil_div_free, mse_coil_div_free = differencer(outputs_coil, outputs_coil_div_free)\n",
    "print(f'MSE for this case of {mse_coil_div_free}')\n",
    "plotter(residuals_coil_div_free, \n",
    "        title = f'Div free regression errors for n = {given_samples_coil} input vectors for current carrying coil')"
   ]
  },
  {
   "cell_type": "markdown",
   "id": "6250963c",
   "metadata": {},
   "source": [
    "Interestingly we can see this does well everywhere apart from nearby to the conductor. I think this is becuase the length scale which would be good here is different to other places. "
   ]
  },
  {
   "cell_type": "code",
   "execution_count": 16,
   "id": "5b0593c0",
   "metadata": {},
   "outputs": [
    {
     "name": "stdout",
     "output_type": "stream",
     "text": [
      "Parameters for sigma_f and l specified, using these.\n"
     ]
    }
   ],
   "source": [
    "outputs_coil_curl_free= updated_vector_field(\n",
    "    sampled_outputs_coil, \n",
    "    outputs_coil[0], outputs_coil[1], outputs_coil[2], \n",
    "    kernel_func='curl_free_kernel',\n",
    "    sigma_f = 0.1, l = 0.3)"
   ]
  },
  {
   "cell_type": "code",
   "execution_count": 17,
   "id": "ff920a68",
   "metadata": {},
   "outputs": [
    {
     "data": {
      "application/vnd.plotly.v1+json": {
       "config": {
        "plotlyServerURL": "https://plot.ly"
       },
       "data": [
        {
         "anchor": "tail",
         "sizemode": "scaled",
         "sizeref": 2,
         "type": "cone",
         "u": {
          "bdata": "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",
          "dtype": "f8"
         },
         "v": {
          "bdata": "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",
          "dtype": "f8"
         },
         "w": {
          "bdata": "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",
          "dtype": "f8"
         },
         "x": {
          "bdata": "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",
          "dtype": "f8"
         },
         "y": {
          "bdata": "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",
          "dtype": "f8"
         },
         "z": {
          "bdata": "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",
          "dtype": "f8"
         }
        }
       ],
       "layout": {
        "scene": {
         "xaxis": {
          "title": {
           "text": "X"
          }
         },
         "yaxis": {
          "title": {
           "text": "Y"
          }
         },
         "zaxis": {
          "title": {
           "text": "Z"
          }
         }
        },
        "template": {
         "data": {
          "bar": [
           {
            "error_x": {
             "color": "#2a3f5f"
            },
            "error_y": {
             "color": "#2a3f5f"
            },
            "marker": {
             "line": {
              "color": "#E5ECF6",
              "width": 0.5
             },
             "pattern": {
              "fillmode": "overlay",
              "size": 10,
              "solidity": 0.2
             }
            },
            "type": "bar"
           }
          ],
          "barpolar": [
           {
            "marker": {
             "line": {
              "color": "#E5ECF6",
              "width": 0.5
             },
             "pattern": {
              "fillmode": "overlay",
              "size": 10,
              "solidity": 0.2
             }
            },
            "type": "barpolar"
           }
          ],
          "carpet": [
           {
            "aaxis": {
             "endlinecolor": "#2a3f5f",
             "gridcolor": "white",
             "linecolor": "white",
             "minorgridcolor": "white",
             "startlinecolor": "#2a3f5f"
            },
            "baxis": {
             "endlinecolor": "#2a3f5f",
             "gridcolor": "white",
             "linecolor": "white",
             "minorgridcolor": "white",
             "startlinecolor": "#2a3f5f"
            },
            "type": "carpet"
           }
          ],
          "choropleth": [
           {
            "colorbar": {
             "outlinewidth": 0,
             "ticks": ""
            },
            "type": "choropleth"
           }
          ],
          "contour": [
           {
            "colorbar": {
             "outlinewidth": 0,
             "ticks": ""
            },
            "colorscale": [
             [
              0,
              "#0d0887"
             ],
             [
              0.1111111111111111,
              "#46039f"
             ],
             [
              0.2222222222222222,
              "#7201a8"
             ],
             [
              0.3333333333333333,
              "#9c179e"
             ],
             [
              0.4444444444444444,
              "#bd3786"
             ],
             [
              0.5555555555555556,
              "#d8576b"
             ],
             [
              0.6666666666666666,
              "#ed7953"
             ],
             [
              0.7777777777777778,
              "#fb9f3a"
             ],
             [
              0.8888888888888888,
              "#fdca26"
             ],
             [
              1,
              "#f0f921"
             ]
            ],
            "type": "contour"
           }
          ],
          "contourcarpet": [
           {
            "colorbar": {
             "outlinewidth": 0,
             "ticks": ""
            },
            "type": "contourcarpet"
           }
          ],
          "heatmap": [
           {
            "colorbar": {
             "outlinewidth": 0,
             "ticks": ""
            },
            "colorscale": [
             [
              0,
              "#0d0887"
             ],
             [
              0.1111111111111111,
              "#46039f"
             ],
             [
              0.2222222222222222,
              "#7201a8"
             ],
             [
              0.3333333333333333,
              "#9c179e"
             ],
             [
              0.4444444444444444,
              "#bd3786"
             ],
             [
              0.5555555555555556,
              "#d8576b"
             ],
             [
              0.6666666666666666,
              "#ed7953"
             ],
             [
              0.7777777777777778,
              "#fb9f3a"
             ],
             [
              0.8888888888888888,
              "#fdca26"
             ],
             [
              1,
              "#f0f921"
             ]
            ],
            "type": "heatmap"
           }
          ],
          "histogram": [
           {
            "marker": {
             "pattern": {
              "fillmode": "overlay",
              "size": 10,
              "solidity": 0.2
             }
            },
            "type": "histogram"
           }
          ],
          "histogram2d": [
           {
            "colorbar": {
             "outlinewidth": 0,
             "ticks": ""
            },
            "colorscale": [
             [
              0,
              "#0d0887"
             ],
             [
              0.1111111111111111,
              "#46039f"
             ],
             [
              0.2222222222222222,
              "#7201a8"
             ],
             [
              0.3333333333333333,
              "#9c179e"
             ],
             [
              0.4444444444444444,
              "#bd3786"
             ],
             [
              0.5555555555555556,
              "#d8576b"
             ],
             [
              0.6666666666666666,
              "#ed7953"
             ],
             [
              0.7777777777777778,
              "#fb9f3a"
             ],
             [
              0.8888888888888888,
              "#fdca26"
             ],
             [
              1,
              "#f0f921"
             ]
            ],
            "type": "histogram2d"
           }
          ],
          "histogram2dcontour": [
           {
            "colorbar": {
             "outlinewidth": 0,
             "ticks": ""
            },
            "colorscale": [
             [
              0,
              "#0d0887"
             ],
             [
              0.1111111111111111,
              "#46039f"
             ],
             [
              0.2222222222222222,
              "#7201a8"
             ],
             [
              0.3333333333333333,
              "#9c179e"
             ],
             [
              0.4444444444444444,
              "#bd3786"
             ],
             [
              0.5555555555555556,
              "#d8576b"
             ],
             [
              0.6666666666666666,
              "#ed7953"
             ],
             [
              0.7777777777777778,
              "#fb9f3a"
             ],
             [
              0.8888888888888888,
              "#fdca26"
             ],
             [
              1,
              "#f0f921"
             ]
            ],
            "type": "histogram2dcontour"
           }
          ],
          "mesh3d": [
           {
            "colorbar": {
             "outlinewidth": 0,
             "ticks": ""
            },
            "type": "mesh3d"
           }
          ],
          "parcoords": [
           {
            "line": {
             "colorbar": {
              "outlinewidth": 0,
              "ticks": ""
             }
            },
            "type": "parcoords"
           }
          ],
          "pie": [
           {
            "automargin": true,
            "type": "pie"
           }
          ],
          "scatter": [
           {
            "fillpattern": {
             "fillmode": "overlay",
             "size": 10,
             "solidity": 0.2
            },
            "type": "scatter"
           }
          ],
          "scatter3d": [
           {
            "line": {
             "colorbar": {
              "outlinewidth": 0,
              "ticks": ""
             }
            },
            "marker": {
             "colorbar": {
              "outlinewidth": 0,
              "ticks": ""
             }
            },
            "type": "scatter3d"
           }
          ],
          "scattercarpet": [
           {
            "marker": {
             "colorbar": {
              "outlinewidth": 0,
              "ticks": ""
             }
            },
            "type": "scattercarpet"
           }
          ],
          "scattergeo": [
           {
            "marker": {
             "colorbar": {
              "outlinewidth": 0,
              "ticks": ""
             }
            },
            "type": "scattergeo"
           }
          ],
          "scattergl": [
           {
            "marker": {
             "colorbar": {
              "outlinewidth": 0,
              "ticks": ""
             }
            },
            "type": "scattergl"
           }
          ],
          "scattermap": [
           {
            "marker": {
             "colorbar": {
              "outlinewidth": 0,
              "ticks": ""
             }
            },
            "type": "scattermap"
           }
          ],
          "scattermapbox": [
           {
            "marker": {
             "colorbar": {
              "outlinewidth": 0,
              "ticks": ""
             }
            },
            "type": "scattermapbox"
           }
          ],
          "scatterpolar": [
           {
            "marker": {
             "colorbar": {
              "outlinewidth": 0,
              "ticks": ""
             }
            },
            "type": "scatterpolar"
           }
          ],
          "scatterpolargl": [
           {
            "marker": {
             "colorbar": {
              "outlinewidth": 0,
              "ticks": ""
             }
            },
            "type": "scatterpolargl"
           }
          ],
          "scatterternary": [
           {
            "marker": {
             "colorbar": {
              "outlinewidth": 0,
              "ticks": ""
             }
            },
            "type": "scatterternary"
           }
          ],
          "surface": [
           {
            "colorbar": {
             "outlinewidth": 0,
             "ticks": ""
            },
            "colorscale": [
             [
              0,
              "#0d0887"
             ],
             [
              0.1111111111111111,
              "#46039f"
             ],
             [
              0.2222222222222222,
              "#7201a8"
             ],
             [
              0.3333333333333333,
              "#9c179e"
             ],
             [
              0.4444444444444444,
              "#bd3786"
             ],
             [
              0.5555555555555556,
              "#d8576b"
             ],
             [
              0.6666666666666666,
              "#ed7953"
             ],
             [
              0.7777777777777778,
              "#fb9f3a"
             ],
             [
              0.8888888888888888,
              "#fdca26"
             ],
             [
              1,
              "#f0f921"
             ]
            ],
            "type": "surface"
           }
          ],
          "table": [
           {
            "cells": {
             "fill": {
              "color": "#EBF0F8"
             },
             "line": {
              "color": "white"
             }
            },
            "header": {
             "fill": {
              "color": "#C8D4E3"
             },
             "line": {
              "color": "white"
             }
            },
            "type": "table"
           }
          ]
         },
         "layout": {
          "annotationdefaults": {
           "arrowcolor": "#2a3f5f",
           "arrowhead": 0,
           "arrowwidth": 1
          },
          "autotypenumbers": "strict",
          "coloraxis": {
           "colorbar": {
            "outlinewidth": 0,
            "ticks": ""
           }
          },
          "colorscale": {
           "diverging": [
            [
             0,
             "#8e0152"
            ],
            [
             0.1,
             "#c51b7d"
            ],
            [
             0.2,
             "#de77ae"
            ],
            [
             0.3,
             "#f1b6da"
            ],
            [
             0.4,
             "#fde0ef"
            ],
            [
             0.5,
             "#f7f7f7"
            ],
            [
             0.6,
             "#e6f5d0"
            ],
            [
             0.7,
             "#b8e186"
            ],
            [
             0.8,
             "#7fbc41"
            ],
            [
             0.9,
             "#4d9221"
            ],
            [
             1,
             "#276419"
            ]
           ],
           "sequential": [
            [
             0,
             "#0d0887"
            ],
            [
             0.1111111111111111,
             "#46039f"
            ],
            [
             0.2222222222222222,
             "#7201a8"
            ],
            [
             0.3333333333333333,
             "#9c179e"
            ],
            [
             0.4444444444444444,
             "#bd3786"
            ],
            [
             0.5555555555555556,
             "#d8576b"
            ],
            [
             0.6666666666666666,
             "#ed7953"
            ],
            [
             0.7777777777777778,
             "#fb9f3a"
            ],
            [
             0.8888888888888888,
             "#fdca26"
            ],
            [
             1,
             "#f0f921"
            ]
           ],
           "sequentialminus": [
            [
             0,
             "#0d0887"
            ],
            [
             0.1111111111111111,
             "#46039f"
            ],
            [
             0.2222222222222222,
             "#7201a8"
            ],
            [
             0.3333333333333333,
             "#9c179e"
            ],
            [
             0.4444444444444444,
             "#bd3786"
            ],
            [
             0.5555555555555556,
             "#d8576b"
            ],
            [
             0.6666666666666666,
             "#ed7953"
            ],
            [
             0.7777777777777778,
             "#fb9f3a"
            ],
            [
             0.8888888888888888,
             "#fdca26"
            ],
            [
             1,
             "#f0f921"
            ]
           ]
          },
          "colorway": [
           "#636efa",
           "#EF553B",
           "#00cc96",
           "#ab63fa",
           "#FFA15A",
           "#19d3f3",
           "#FF6692",
           "#B6E880",
           "#FF97FF",
           "#FECB52"
          ],
          "font": {
           "color": "#2a3f5f"
          },
          "geo": {
           "bgcolor": "white",
           "lakecolor": "white",
           "landcolor": "#E5ECF6",
           "showlakes": true,
           "showland": true,
           "subunitcolor": "white"
          },
          "hoverlabel": {
           "align": "left"
          },
          "hovermode": "closest",
          "mapbox": {
           "style": "light"
          },
          "paper_bgcolor": "white",
          "plot_bgcolor": "#E5ECF6",
          "polar": {
           "angularaxis": {
            "gridcolor": "white",
            "linecolor": "white",
            "ticks": ""
           },
           "bgcolor": "#E5ECF6",
           "radialaxis": {
            "gridcolor": "white",
            "linecolor": "white",
            "ticks": ""
           }
          },
          "scene": {
           "xaxis": {
            "backgroundcolor": "#E5ECF6",
            "gridcolor": "white",
            "gridwidth": 2,
            "linecolor": "white",
            "showbackground": true,
            "ticks": "",
            "zerolinecolor": "white"
           },
           "yaxis": {
            "backgroundcolor": "#E5ECF6",
            "gridcolor": "white",
            "gridwidth": 2,
            "linecolor": "white",
            "showbackground": true,
            "ticks": "",
            "zerolinecolor": "white"
           },
           "zaxis": {
            "backgroundcolor": "#E5ECF6",
            "gridcolor": "white",
            "gridwidth": 2,
            "linecolor": "white",
            "showbackground": true,
            "ticks": "",
            "zerolinecolor": "white"
           }
          },
          "shapedefaults": {
           "line": {
            "color": "#2a3f5f"
           }
          },
          "ternary": {
           "aaxis": {
            "gridcolor": "white",
            "linecolor": "white",
            "ticks": ""
           },
           "baxis": {
            "gridcolor": "white",
            "linecolor": "white",
            "ticks": ""
           },
           "bgcolor": "#E5ECF6",
           "caxis": {
            "gridcolor": "white",
            "linecolor": "white",
            "ticks": ""
           }
          },
          "title": {
           "x": 0.05
          },
          "xaxis": {
           "automargin": true,
           "gridcolor": "white",
           "linecolor": "white",
           "ticks": "",
           "title": {
            "standoff": 15
           },
           "zerolinecolor": "white",
           "zerolinewidth": 2
          },
          "yaxis": {
           "automargin": true,
           "gridcolor": "white",
           "linecolor": "white",
           "ticks": "",
           "title": {
            "standoff": 15
           },
           "zerolinecolor": "white",
           "zerolinewidth": 2
          }
         }
        },
        "title": {
         "text": "Curl free output from GP Regression for n = 100 input vectors for current carrying coil"
        }
       }
      }
     },
     "metadata": {},
     "output_type": "display_data"
    }
   ],
   "source": [
    "plotter(outputs_coil_curl_free, \n",
    "        title = f'Curl free output from GP Regression for n = {given_samples_coil} input vectors for current carrying coil')"
   ]
  },
  {
   "cell_type": "code",
   "execution_count": 18,
   "id": "7c539e0e",
   "metadata": {},
   "outputs": [
    {
     "name": "stdout",
     "output_type": "stream",
     "text": [
      "MSE for this case of 143.3251164482789\n"
     ]
    },
    {
     "data": {
      "application/vnd.plotly.v1+json": {
       "config": {
        "plotlyServerURL": "https://plot.ly"
       },
       "data": [
        {
         "anchor": "tail",
         "sizemode": "scaled",
         "sizeref": 2,
         "type": "cone",
         "u": {
          "bdata": "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",
          "dtype": "f8"
         },
         "v": {
          "bdata": "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",
          "dtype": "f8"
         },
         "w": {
          "bdata": "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",
          "dtype": "f8"
         },
         "x": {
          "bdata": "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",
          "dtype": "f8"
         },
         "y": {
          "bdata": "AAAAAAAA4L8AAAAAAADgvwAAAAAAAOC/AAAAAAAA4L8AAAAAAADgvwAAAAAAAOC/AAAAAAAA4L8AAAAAAADgvwAAAAAAAOC/AAAAAAAA4L85juM4juPYvzmO4ziO49i/OY7jOI7j2L85juM4juPYvzmO4ziO49i/OY7jOI7j2L85juM4juPYvzmO4ziO49i/OY7jOI7j2L85juM4juPYv3Icx3Ecx9G/chzHcRzH0b9yHMdxHMfRv3Icx3Ecx9G/chzHcRzH0b9yHMdxHMfRv3Icx3Ecx9G/chzHcRzH0b9yHMdxHMfRv3Icx3Ecx9G/VlVVVVVVxb9WVVVVVVXFv1ZVVVVVVcW/VlVVVVVVxb9WVVVVVVXFv1ZVVVVVVcW/VlVVVVVVxb9WVVVVVVXFv1ZVVVVVVcW/VlVVVVVVxb8gx3Ecx3GsvyDHcRzHcay/IMdxHMdxrL8gx3Ecx3GsvyDHcRzHcay/IMdxHMdxrL8gx3Ecx3GsvyDHcRzHcay/IMdxHMdxrL8gx3Ecx3GsvyDHcRzHcaw/IMdxHMdxrD8gx3Ecx3GsPyDHcRzHcaw/IMdxHMdxrD8gx3Ecx3GsPyDHcRzHcaw/IMdxHMdxrD8gx3Ecx3GsPyDHcRzHcaw/VFVVVVVVxT9UVVVVVVXFP1RVVVVVVcU/VFVVVVVVxT9UVVVVVVXFP1RVVVVVVcU/VFVVVVVVxT9UVVVVVVXFP1RVVVVVVcU/VFVVVVVVxT9wHMdxHMfRP3Acx3Ecx9E/cBzHcRzH0T9wHMdxHMfRP3Acx3Ecx9E/cBzHcRzH0T9wHMdxHMfRP3Acx3Ecx9E/cBzHcRzH0T9wHMdxHMfRPziO4ziO49g/OI7jOI7j2D84juM4juPYPziO4ziO49g/OI7jOI7j2D84juM4juPYPziO4ziO49g/OI7jOI7j2D84juM4juPYPziO4ziO49g/AAAAAAAA4D8AAAAAAADgPwAAAAAAAOA/AAAAAAAA4D8AAAAAAADgPwAAAAAAAOA/AAAAAAAA4D8AAAAAAADgPwAAAAAAAOA/AAAAAAAA4D8AAAAAAADgvwAAAAAAAOC/AAAAAAAA4L8AAAAAAADgvwAAAAAAAOC/AAAAAAAA4L8AAAAAAADgvwAAAAAAAOC/AAAAAAAA4L8AAAAAAADgvzmO4ziO49i/OY7jOI7j2L85juM4juPYvzmO4ziO49i/OY7jOI7j2L85juM4juPYvzmO4ziO49i/OY7jOI7j2L85juM4juPYvzmO4ziO49i/chzHcRzH0b9yHMdxHMfRv3Icx3Ecx9G/chzHcRzH0b9yHMdxHMfRv3Icx3Ecx9G/chzHcRzH0b9yHMdxHMfRv3Icx3Ecx9G/chzHcRzH0b9WVVVVVVXFv1ZVVVVVVcW/VlVVVVVVxb9WVVVVVVXFv1ZVVVVVVcW/VlVVVVVVxb9WVVVVVVXFv1ZVVVVVVcW/VlVVVVVVxb9WVVVVVVXFvyDHcRzHcay/IMdxHMdxrL8gx3Ecx3GsvyDHcRzHcay/IMdxHMdxrL8gx3Ecx3GsvyDHcRzHcay/IMdxHMdxrL8gx3Ecx3GsvyDHcRzHcay/IMdxHMdxrD8gx3Ecx3GsPyDHcRzHcaw/IMdxHMdxrD8gx3Ecx3GsPyDHcRzHcaw/IMdxHMdxrD8gx3Ecx3GsPyDHcRzHcaw/IMdxHMdxrD9UVVVVVVXFP1RVVVVVVcU/VFVVVVVVxT9UVVVVVVXFP1RVVVVVVcU/VFVVVVVVxT9UVVVVVVXFP1RVVVVVVcU/VFVVVVVVxT9UVVVVVVXFP3Acx3Ecx9E/cBzHcRzH0T9wHMdxHMfRP3Acx3Ecx9E/cBzHcRzH0T9wHMdxHMfRP3Acx3Ecx9E/cBzHcRzH0T9wHMdxHMfRP3Acx3Ecx9E/OI7jOI7j2D84juM4juPYPziO4ziO49g/OI7jOI7j2D84juM4juPYPziO4ziO49g/OI7jOI7j2D84juM4juPYPziO4ziO49g/OI7jOI7j2D8AAAAAAADgPwAAAAAAAOA/AAAAAAAA4D8AAAAAAADgPwAAAAAAAOA/AAAAAAAA4D8AAAAAAADgPwAAAAAAAOA/AAAAAAAA4D8AAAAAAADgPwAAAAAAAOC/AAAAAAAA4L8AAAAAAADgvwAAAAAAAOC/AAAAAAAA4L8AAAAAAADgvwAAAAAAAOC/AAAAAAAA4L8AAAAAAADgvwAAAAAAAOC/OY7jOI7j2L85juM4juPYvzmO4ziO49i/OY7jOI7j2L85juM4juPYvzmO4ziO49i/OY7jOI7j2L85juM4juPYvzmO4ziO49i/OY7jOI7j2L9yHMdxHMfRv3Icx3Ecx9G/chzHcRzH0b9yHMdxHMfRv3Icx3Ecx9G/chzHcRzH0b9yHMdxHMfRv3Icx3Ecx9G/chzHcRzH0b9yHMdxHMfRv1ZVVVVVVcW/VlVVVVVVxb9WVVVVVVXFv1ZVVVVVVcW/VlVVVVVVxb9WVVVVVVXFv1ZVVVVVVcW/VlVVVVVVxb9WVVVVVVXFv1ZVVVVVVcW/IMdxHMdxrL8gx3Ecx3GsvyDHcRzHcay/IMdxHMdxrL8gx3Ecx3GsvyDHcRzHcay/IMdxHMdxrL8gx3Ecx3GsvyDHcRzHcay/IMdxHMdxrL8gx3Ecx3GsPyDHcRzHcaw/IMdxHMdxrD8gx3Ecx3GsPyDHcRzHcaw/IMdxHMdxrD8gx3Ecx3GsPyDHcRzHcaw/IMdxHMdxrD8gx3Ecx3GsP1RVVVVVVcU/VFVVVVVVxT9UVVVVVVXFP1RVVVVVVcU/VFVVVVVVxT9UVVVVVVXFP1RVVVVVVcU/VFVVVVVVxT9UVVVVVVXFP1RVVVVVVcU/cBzHcRzH0T9wHMdxHMfRP3Acx3Ecx9E/cBzHcRzH0T9wHMdxHMfRP3Acx3Ecx9E/cBzHcRzH0T9wHMdxHMfRP3Acx3Ecx9E/cBzHcRzH0T84juM4juPYPziO4ziO49g/OI7jOI7j2D84juM4juPYPziO4ziO49g/OI7jOI7j2D84juM4juPYPziO4ziO49g/OI7jOI7j2D84juM4juPYPwAAAAAAAOA/AAAAAAAA4D8AAAAAAADgPwAAAAAAAOA/AAAAAAAA4D8AAAAAAADgPwAAAAAAAOA/AAAAAAAA4D8AAAAAAADgPwAAAAAAAOA/AAAAAAAA4L8AAAAAAADgvwAAAAAAAOC/AAAAAAAA4L8AAAAAAADgvwAAAAAAAOC/AAAAAAAA4L8AAAAAAADgvwAAAAAAAOC/AAAAAAAA4L85juM4juPYvzmO4ziO49i/OY7jOI7j2L85juM4juPYvzmO4ziO49i/OY7jOI7j2L85juM4juPYvzmO4ziO49i/OY7jOI7j2L85juM4juPYv3Icx3Ecx9G/chzHcRzH0b9yHMdxHMfRv3Icx3Ecx9G/chzHcRzH0b9yHMdxHMfRv3Icx3Ecx9G/chzHcRzH0b9yHMdxHMfRv3Icx3Ecx9G/VlVVVVVVxb9WVVVVVVXFv1ZVVVVVVcW/VlVVVVVVxb9WVVVVVVXFv1ZVVVVVVcW/VlVVVVVVxb9WVVVVVVXFv1ZVVVVVVcW/VlVVVVVVxb8gx3Ecx3GsvyDHcRzHcay/IMdxHMdxrL8gx3Ecx3GsvyDHcRzHcay/IMdxHMdxrL8gx3Ecx3GsvyDHcRzHcay/IMdxHMdxrL8gx3Ecx3GsvyDHcRzHcaw/IMdxHMdxrD8gx3Ecx3GsPyDHcRzHcaw/IMdxHMdxrD8gx3Ecx3GsPyDHcRzHcaw/IMdxHMdxrD8gx3Ecx3GsPyDHcRzHcaw/VFVVVVVVxT9UVVVVVVXFP1RVVVVVVcU/VFVVVVVVxT9UVVVVVVXFP1RVVVVVVcU/VFVVVVVVxT9UVVVVVVXFP1RVVVVVVcU/VFVVVVVVxT9wHMdxHMfRP3Acx3Ecx9E/cBzHcRzH0T9wHMdxHMfRP3Acx3Ecx9E/cBzHcRzH0T9wHMdxHMfRP3Acx3Ecx9E/cBzHcRzH0T9wHMdxHMfRPziO4ziO49g/OI7jOI7j2D84juM4juPYPziO4ziO49g/OI7jOI7j2D84juM4juPYPziO4ziO49g/OI7jOI7j2D84juM4juPYPziO4ziO49g/AAAAAAAA4D8AAAAAAADgPwAAAAAAAOA/AAAAAAAA4D8AAAAAAADgPwAAAAAAAOA/AAAAAAAA4D8AAAAAAADgPwAAAAAAAOA/AAAAAAAA4D8AAAAAAADgvwAAAAAAAOC/AAAAAAAA4L8AAAAAAADgvwAAAAAAAOC/AAAAAAAA4L8AAAAAAADgvwAAAAAAAOC/AAAAAAAA4L8AAAAAAADgvzmO4ziO49i/OY7jOI7j2L85juM4juPYvzmO4ziO49i/OY7jOI7j2L85juM4juPYvzmO4ziO49i/OY7jOI7j2L85juM4juPYvzmO4ziO49i/chzHcRzH0b9yHMdxHMfRv3Icx3Ecx9G/chzHcRzH0b9yHMdxHMfRv3Icx3Ecx9G/chzHcRzH0b9yHMdxHMfRv3Icx3Ecx9G/chzHcRzH0b9WVVVVVVXFv1ZVVVVVVcW/VlVVVVVVxb9WVVVVVVXFv1ZVVVVVVcW/VlVVVVVVxb9WVVVVVVXFv1ZVVVVVVcW/VlVVVVVVxb9WVVVVVVXFvyDHcRzHcay/IMdxHMdxrL8gx3Ecx3GsvyDHcRzHcay/IMdxHMdxrL8gx3Ecx3GsvyDHcRzHcay/IMdxHMdxrL8gx3Ecx3GsvyDHcRzHcay/IMdxHMdxrD8gx3Ecx3GsPyDHcRzHcaw/IMdxHMdxrD8gx3Ecx3GsPyDHcRzHcaw/IMdxHMdxrD8gx3Ecx3GsPyDHcRzHcaw/IMdxHMdxrD9UVVVVVVXFP1RVVVVVVcU/VFVVVVVVxT9UVVVVVVXFP1RVVVVVVcU/VFVVVVVVxT9UVVVVVVXFP1RVVVVVVcU/VFVVVVVVxT9UVVVVVVXFP3Acx3Ecx9E/cBzHcRzH0T9wHMdxHMfRP3Acx3Ecx9E/cBzHcRzH0T9wHMdxHMfRP3Acx3Ecx9E/cBzHcRzH0T9wHMdxHMfRP3Acx3Ecx9E/OI7jOI7j2D84juM4juPYPziO4ziO49g/OI7jOI7j2D84juM4juPYPziO4ziO49g/OI7jOI7j2D84juM4juPYPziO4ziO49g/OI7jOI7j2D8AAAAAAADgPwAAAAAAAOA/AAAAAAAA4D8AAAAAAADgPwAAAAAAAOA/AAAAAAAA4D8AAAAAAADgPwAAAAAAAOA/AAAAAAAA4D8AAAAAAADgPwAAAAAAAOC/AAAAAAAA4L8AAAAAAADgvwAAAAAAAOC/AAAAAAAA4L8AAAAAAADgvwAAAAAAAOC/AAAAAAAA4L8AAAAAAADgvwAAAAAAAOC/OY7jOI7j2L85juM4juPYvzmO4ziO49i/OY7jOI7j2L85juM4juPYvzmO4ziO49i/OY7jOI7j2L85juM4juPYvzmO4ziO49i/OY7jOI7j2L9yHMdxHMfRv3Icx3Ecx9G/chzHcRzH0b9yHMdxHMfRv3Icx3Ecx9G/chzHcRzH0b9yHMdxHMfRv3Icx3Ecx9G/chzHcRzH0b9yHMdxHMfRv1ZVVVVVVcW/VlVVVVVVxb9WVVVVVVXFv1ZVVVVVVcW/VlVVVVVVxb9WVVVVVVXFv1ZVVVVVVcW/VlVVVVVVxb9WVVVVVVXFv1ZVVVVVVcW/IMdxHMdxrL8gx3Ecx3GsvyDHcRzHcay/IMdxHMdxrL8gx3Ecx3GsvyDHcRzHcay/IMdxHMdxrL8gx3Ecx3GsvyDHcRzHcay/IMdxHMdxrL8gx3Ecx3GsPyDHcRzHcaw/IMdxHMdxrD8gx3Ecx3GsPyDHcRzHcaw/IMdxHMdxrD8gx3Ecx3GsPyDHcRzHcaw/IMdxHMdxrD8gx3Ecx3GsP1RVVVVVVcU/VFVVVVVVxT9UVVVVVVXFP1RVVVVVVcU/VFVVVVVVxT9UVVVVVVXFP1RVVVVVVcU/VFVVVVVVxT9UVVVVVVXFP1RVVVVVVcU/cBzHcRzH0T9wHMdxHMfRP3Acx3Ecx9E/cBzHcRzH0T9wHMdxHMfRP3Acx3Ecx9E/cBzHcRzH0T9wHMdxHMfRP3Acx3Ecx9E/cBzHcRzH0T84juM4juPYPziO4ziO49g/OI7jOI7j2D84juM4juPYPziO4ziO49g/OI7jOI7j2D84juM4juPYPziO4ziO49g/OI7jOI7j2D84juM4juPYPwAAAAAAAOA/AAAAAAAA4D8AAAAAAADgPwAAAAAAAOA/AAAAAAAA4D8AAAAAAADgPwAAAAAAAOA/AAAAAAAA4D8AAAAAAADgPwAAAAAAAOA/AAAAAAAA4L8AAAAAAADgvwAAAAAAAOC/AAAAAAAA4L8AAAAAAADgvwAAAAAAAOC/AAAAAAAA4L8AAAAAAADgvwAAAAAAAOC/AAAAAAAA4L85juM4juPYvzmO4ziO49i/OY7jOI7j2L85juM4juPYvzmO4ziO49i/OY7jOI7j2L85juM4juPYvzmO4ziO49i/OY7jOI7j2L85juM4juPYv3Icx3Ecx9G/chzHcRzH0b9yHMdxHMfRv3Icx3Ecx9G/chzHcRzH0b9yHMdxHMfRv3Icx3Ecx9G/chzHcRzH0b9yHMdxHMfRv3Icx3Ecx9G/VlVVVVVVxb9WVVVVVVXFv1ZVVVVVVcW/VlVVVVVVxb9WVVVVVVXFv1ZVVVVVVcW/VlVVVVVVxb9WVVVVVVXFv1ZVVVVVVcW/VlVVVVVVxb8gx3Ecx3GsvyDHcRzHcay/IMdxHMdxrL8gx3Ecx3GsvyDHcRzHcay/IMdxHMdxrL8gx3Ecx3GsvyDHcRzHcay/IMdxHMdxrL8gx3Ecx3GsvyDHcRzHcaw/IMdxHMdxrD8gx3Ecx3GsPyDHcRzHcaw/IMdxHMdxrD8gx3Ecx3GsPyDHcRzHcaw/IMdxHMdxrD8gx3Ecx3GsPyDHcRzHcaw/VFVVVVVVxT9UVVVVVVXFP1RVVVVVVcU/VFVVVVVVxT9UVVVVVVXFP1RVVVVVVcU/VFVVVVVVxT9UVVVVVVXFP1RVVVVVVcU/VFVVVVVVxT9wHMdxHMfRP3Acx3Ecx9E/cBzHcRzH0T9wHMdxHMfRP3Acx3Ecx9E/cBzHcRzH0T9wHMdxHMfRP3Acx3Ecx9E/cBzHcRzH0T9wHMdxHMfRPziO4ziO49g/OI7jOI7j2D84juM4juPYPziO4ziO49g/OI7jOI7j2D84juM4juPYPziO4ziO49g/OI7jOI7j2D84juM4juPYPziO4ziO49g/AAAAAAAA4D8AAAAAAADgPwAAAAAAAOA/AAAAAAAA4D8AAAAAAADgPwAAAAAAAOA/AAAAAAAA4D8AAAAAAADgPwAAAAAAAOA/AAAAAAAA4D8AAAAAAADgvwAAAAAAAOC/AAAAAAAA4L8AAAAAAADgvwAAAAAAAOC/AAAAAAAA4L8AAAAAAADgvwAAAAAAAOC/AAAAAAAA4L8AAAAAAADgvzmO4ziO49i/OY7jOI7j2L85juM4juPYvzmO4ziO49i/OY7jOI7j2L85juM4juPYvzmO4ziO49i/OY7jOI7j2L85juM4juPYvzmO4ziO49i/chzHcRzH0b9yHMdxHMfRv3Icx3Ecx9G/chzHcRzH0b9yHMdxHMfRv3Icx3Ecx9G/chzHcRzH0b9yHMdxHMfRv3Icx3Ecx9G/chzHcRzH0b9WVVVVVVXFv1ZVVVVVVcW/VlVVVVVVxb9WVVVVVVXFv1ZVVVVVVcW/VlVVVVVVxb9WVVVVVVXFv1ZVVVVVVcW/VlVVVVVVxb9WVVVVVVXFvyDHcRzHcay/IMdxHMdxrL8gx3Ecx3GsvyDHcRzHcay/IMdxHMdxrL8gx3Ecx3GsvyDHcRzHcay/IMdxHMdxrL8gx3Ecx3GsvyDHcRzHcay/IMdxHMdxrD8gx3Ecx3GsPyDHcRzHcaw/IMdxHMdxrD8gx3Ecx3GsPyDHcRzHcaw/IMdxHMdxrD8gx3Ecx3GsPyDHcRzHcaw/IMdxHMdxrD9UVVVVVVXFP1RVVVVVVcU/VFVVVVVVxT9UVVVVVVXFP1RVVVVVVcU/VFVVVVVVxT9UVVVVVVXFP1RVVVVVVcU/VFVVVVVVxT9UVVVVVVXFP3Acx3Ecx9E/cBzHcRzH0T9wHMdxHMfRP3Acx3Ecx9E/cBzHcRzH0T9wHMdxHMfRP3Acx3Ecx9E/cBzHcRzH0T9wHMdxHMfRP3Acx3Ecx9E/OI7jOI7j2D84juM4juPYPziO4ziO49g/OI7jOI7j2D84juM4juPYPziO4ziO49g/OI7jOI7j2D84juM4juPYPziO4ziO49g/OI7jOI7j2D8AAAAAAADgPwAAAAAAAOA/AAAAAAAA4D8AAAAAAADgPwAAAAAAAOA/AAAAAAAA4D8AAAAAAADgPwAAAAAAAOA/AAAAAAAA4D8AAAAAAADgPwAAAAAAAOC/AAAAAAAA4L8AAAAAAADgvwAAAAAAAOC/AAAAAAAA4L8AAAAAAADgvwAAAAAAAOC/AAAAAAAA4L8AAAAAAADgvwAAAAAAAOC/OY7jOI7j2L85juM4juPYvzmO4ziO49i/OY7jOI7j2L85juM4juPYvzmO4ziO49i/OY7jOI7j2L85juM4juPYvzmO4ziO49i/OY7jOI7j2L9yHMdxHMfRv3Icx3Ecx9G/chzHcRzH0b9yHMdxHMfRv3Icx3Ecx9G/chzHcRzH0b9yHMdxHMfRv3Icx3Ecx9G/chzHcRzH0b9yHMdxHMfRv1ZVVVVVVcW/VlVVVVVVxb9WVVVVVVXFv1ZVVVVVVcW/VlVVVVVVxb9WVVVVVVXFv1ZVVVVVVcW/VlVVVVVVxb9WVVVVVVXFv1ZVVVVVVcW/IMdxHMdxrL8gx3Ecx3GsvyDHcRzHcay/IMdxHMdxrL8gx3Ecx3GsvyDHcRzHcay/IMdxHMdxrL8gx3Ecx3GsvyDHcRzHcay/IMdxHMdxrL8gx3Ecx3GsPyDHcRzHcaw/IMdxHMdxrD8gx3Ecx3GsPyDHcRzHcaw/IMdxHMdxrD8gx3Ecx3GsPyDHcRzHcaw/IMdxHMdxrD8gx3Ecx3GsP1RVVVVVVcU/VFVVVVVVxT9UVVVVVVXFP1RVVVVVVcU/VFVVVVVVxT9UVVVVVVXFP1RVVVVVVcU/VFVVVVVVxT9UVVVVVVXFP1RVVVVVVcU/cBzHcRzH0T9wHMdxHMfRP3Acx3Ecx9E/cBzHcRzH0T9wHMdxHMfRP3Acx3Ecx9E/cBzHcRzH0T9wHMdxHMfRP3Acx3Ecx9E/cBzHcRzH0T84juM4juPYPziO4ziO49g/OI7jOI7j2D84juM4juPYPziO4ziO49g/OI7jOI7j2D84juM4juPYPziO4ziO49g/OI7jOI7j2D84juM4juPYPwAAAAAAAOA/AAAAAAAA4D8AAAAAAADgPwAAAAAAAOA/AAAAAAAA4D8AAAAAAADgPwAAAAAAAOA/AAAAAAAA4D8AAAAAAADgPwAAAAAAAOA/AAAAAAAA4L8AAAAAAADgvwAAAAAAAOC/AAAAAAAA4L8AAAAAAADgvwAAAAAAAOC/AAAAAAAA4L8AAAAAAADgvwAAAAAAAOC/AAAAAAAA4L85juM4juPYvzmO4ziO49i/OY7jOI7j2L85juM4juPYvzmO4ziO49i/OY7jOI7j2L85juM4juPYvzmO4ziO49i/OY7jOI7j2L85juM4juPYv3Icx3Ecx9G/chzHcRzH0b9yHMdxHMfRv3Icx3Ecx9G/chzHcRzH0b9yHMdxHMfRv3Icx3Ecx9G/chzHcRzH0b9yHMdxHMfRv3Icx3Ecx9G/VlVVVVVVxb9WVVVVVVXFv1ZVVVVVVcW/VlVVVVVVxb9WVVVVVVXFv1ZVVVVVVcW/VlVVVVVVxb9WVVVVVVXFv1ZVVVVVVcW/VlVVVVVVxb8gx3Ecx3GsvyDHcRzHcay/IMdxHMdxrL8gx3Ecx3GsvyDHcRzHcay/IMdxHMdxrL8gx3Ecx3GsvyDHcRzHcay/IMdxHMdxrL8gx3Ecx3GsvyDHcRzHcaw/IMdxHMdxrD8gx3Ecx3GsPyDHcRzHcaw/IMdxHMdxrD8gx3Ecx3GsPyDHcRzHcaw/IMdxHMdxrD8gx3Ecx3GsPyDHcRzHcaw/VFVVVVVVxT9UVVVVVVXFP1RVVVVVVcU/VFVVVVVVxT9UVVVVVVXFP1RVVVVVVcU/VFVVVVVVxT9UVVVVVVXFP1RVVVVVVcU/VFVVVVVVxT9wHMdxHMfRP3Acx3Ecx9E/cBzHcRzH0T9wHMdxHMfRP3Acx3Ecx9E/cBzHcRzH0T9wHMdxHMfRP3Acx3Ecx9E/cBzHcRzH0T9wHMdxHMfRPziO4ziO49g/OI7jOI7j2D84juM4juPYPziO4ziO49g/OI7jOI7j2D84juM4juPYPziO4ziO49g/OI7jOI7j2D84juM4juPYPziO4ziO49g/AAAAAAAA4D8AAAAAAADgPwAAAAAAAOA/AAAAAAAA4D8AAAAAAADgPwAAAAAAAOA/AAAAAAAA4D8AAAAAAADgPwAAAAAAAOA/AAAAAAAA4D8=",
          "dtype": "f8"
         },
         "z": {
          "bdata": "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",
          "dtype": "f8"
         }
        }
       ],
       "layout": {
        "scene": {
         "xaxis": {
          "title": {
           "text": "X"
          }
         },
         "yaxis": {
          "title": {
           "text": "Y"
          }
         },
         "zaxis": {
          "title": {
           "text": "Z"
          }
         }
        },
        "template": {
         "data": {
          "bar": [
           {
            "error_x": {
             "color": "#2a3f5f"
            },
            "error_y": {
             "color": "#2a3f5f"
            },
            "marker": {
             "line": {
              "color": "#E5ECF6",
              "width": 0.5
             },
             "pattern": {
              "fillmode": "overlay",
              "size": 10,
              "solidity": 0.2
             }
            },
            "type": "bar"
           }
          ],
          "barpolar": [
           {
            "marker": {
             "line": {
              "color": "#E5ECF6",
              "width": 0.5
             },
             "pattern": {
              "fillmode": "overlay",
              "size": 10,
              "solidity": 0.2
             }
            },
            "type": "barpolar"
           }
          ],
          "carpet": [
           {
            "aaxis": {
             "endlinecolor": "#2a3f5f",
             "gridcolor": "white",
             "linecolor": "white",
             "minorgridcolor": "white",
             "startlinecolor": "#2a3f5f"
            },
            "baxis": {
             "endlinecolor": "#2a3f5f",
             "gridcolor": "white",
             "linecolor": "white",
             "minorgridcolor": "white",
             "startlinecolor": "#2a3f5f"
            },
            "type": "carpet"
           }
          ],
          "choropleth": [
           {
            "colorbar": {
             "outlinewidth": 0,
             "ticks": ""
            },
            "type": "choropleth"
           }
          ],
          "contour": [
           {
            "colorbar": {
             "outlinewidth": 0,
             "ticks": ""
            },
            "colorscale": [
             [
              0,
              "#0d0887"
             ],
             [
              0.1111111111111111,
              "#46039f"
             ],
             [
              0.2222222222222222,
              "#7201a8"
             ],
             [
              0.3333333333333333,
              "#9c179e"
             ],
             [
              0.4444444444444444,
              "#bd3786"
             ],
             [
              0.5555555555555556,
              "#d8576b"
             ],
             [
              0.6666666666666666,
              "#ed7953"
             ],
             [
              0.7777777777777778,
              "#fb9f3a"
             ],
             [
              0.8888888888888888,
              "#fdca26"
             ],
             [
              1,
              "#f0f921"
             ]
            ],
            "type": "contour"
           }
          ],
          "contourcarpet": [
           {
            "colorbar": {
             "outlinewidth": 0,
             "ticks": ""
            },
            "type": "contourcarpet"
           }
          ],
          "heatmap": [
           {
            "colorbar": {
             "outlinewidth": 0,
             "ticks": ""
            },
            "colorscale": [
             [
              0,
              "#0d0887"
             ],
             [
              0.1111111111111111,
              "#46039f"
             ],
             [
              0.2222222222222222,
              "#7201a8"
             ],
             [
              0.3333333333333333,
              "#9c179e"
             ],
             [
              0.4444444444444444,
              "#bd3786"
             ],
             [
              0.5555555555555556,
              "#d8576b"
             ],
             [
              0.6666666666666666,
              "#ed7953"
             ],
             [
              0.7777777777777778,
              "#fb9f3a"
             ],
             [
              0.8888888888888888,
              "#fdca26"
             ],
             [
              1,
              "#f0f921"
             ]
            ],
            "type": "heatmap"
           }
          ],
          "histogram": [
           {
            "marker": {
             "pattern": {
              "fillmode": "overlay",
              "size": 10,
              "solidity": 0.2
             }
            },
            "type": "histogram"
           }
          ],
          "histogram2d": [
           {
            "colorbar": {
             "outlinewidth": 0,
             "ticks": ""
            },
            "colorscale": [
             [
              0,
              "#0d0887"
             ],
             [
              0.1111111111111111,
              "#46039f"
             ],
             [
              0.2222222222222222,
              "#7201a8"
             ],
             [
              0.3333333333333333,
              "#9c179e"
             ],
             [
              0.4444444444444444,
              "#bd3786"
             ],
             [
              0.5555555555555556,
              "#d8576b"
             ],
             [
              0.6666666666666666,
              "#ed7953"
             ],
             [
              0.7777777777777778,
              "#fb9f3a"
             ],
             [
              0.8888888888888888,
              "#fdca26"
             ],
             [
              1,
              "#f0f921"
             ]
            ],
            "type": "histogram2d"
           }
          ],
          "histogram2dcontour": [
           {
            "colorbar": {
             "outlinewidth": 0,
             "ticks": ""
            },
            "colorscale": [
             [
              0,
              "#0d0887"
             ],
             [
              0.1111111111111111,
              "#46039f"
             ],
             [
              0.2222222222222222,
              "#7201a8"
             ],
             [
              0.3333333333333333,
              "#9c179e"
             ],
             [
              0.4444444444444444,
              "#bd3786"
             ],
             [
              0.5555555555555556,
              "#d8576b"
             ],
             [
              0.6666666666666666,
              "#ed7953"
             ],
             [
              0.7777777777777778,
              "#fb9f3a"
             ],
             [
              0.8888888888888888,
              "#fdca26"
             ],
             [
              1,
              "#f0f921"
             ]
            ],
            "type": "histogram2dcontour"
           }
          ],
          "mesh3d": [
           {
            "colorbar": {
             "outlinewidth": 0,
             "ticks": ""
            },
            "type": "mesh3d"
           }
          ],
          "parcoords": [
           {
            "line": {
             "colorbar": {
              "outlinewidth": 0,
              "ticks": ""
             }
            },
            "type": "parcoords"
           }
          ],
          "pie": [
           {
            "automargin": true,
            "type": "pie"
           }
          ],
          "scatter": [
           {
            "fillpattern": {
             "fillmode": "overlay",
             "size": 10,
             "solidity": 0.2
            },
            "type": "scatter"
           }
          ],
          "scatter3d": [
           {
            "line": {
             "colorbar": {
              "outlinewidth": 0,
              "ticks": ""
             }
            },
            "marker": {
             "colorbar": {
              "outlinewidth": 0,
              "ticks": ""
             }
            },
            "type": "scatter3d"
           }
          ],
          "scattercarpet": [
           {
            "marker": {
             "colorbar": {
              "outlinewidth": 0,
              "ticks": ""
             }
            },
            "type": "scattercarpet"
           }
          ],
          "scattergeo": [
           {
            "marker": {
             "colorbar": {
              "outlinewidth": 0,
              "ticks": ""
             }
            },
            "type": "scattergeo"
           }
          ],
          "scattergl": [
           {
            "marker": {
             "colorbar": {
              "outlinewidth": 0,
              "ticks": ""
             }
            },
            "type": "scattergl"
           }
          ],
          "scattermap": [
           {
            "marker": {
             "colorbar": {
              "outlinewidth": 0,
              "ticks": ""
             }
            },
            "type": "scattermap"
           }
          ],
          "scattermapbox": [
           {
            "marker": {
             "colorbar": {
              "outlinewidth": 0,
              "ticks": ""
             }
            },
            "type": "scattermapbox"
           }
          ],
          "scatterpolar": [
           {
            "marker": {
             "colorbar": {
              "outlinewidth": 0,
              "ticks": ""
             }
            },
            "type": "scatterpolar"
           }
          ],
          "scatterpolargl": [
           {
            "marker": {
             "colorbar": {
              "outlinewidth": 0,
              "ticks": ""
             }
            },
            "type": "scatterpolargl"
           }
          ],
          "scatterternary": [
           {
            "marker": {
             "colorbar": {
              "outlinewidth": 0,
              "ticks": ""
             }
            },
            "type": "scatterternary"
           }
          ],
          "surface": [
           {
            "colorbar": {
             "outlinewidth": 0,
             "ticks": ""
            },
            "colorscale": [
             [
              0,
              "#0d0887"
             ],
             [
              0.1111111111111111,
              "#46039f"
             ],
             [
              0.2222222222222222,
              "#7201a8"
             ],
             [
              0.3333333333333333,
              "#9c179e"
             ],
             [
              0.4444444444444444,
              "#bd3786"
             ],
             [
              0.5555555555555556,
              "#d8576b"
             ],
             [
              0.6666666666666666,
              "#ed7953"
             ],
             [
              0.7777777777777778,
              "#fb9f3a"
             ],
             [
              0.8888888888888888,
              "#fdca26"
             ],
             [
              1,
              "#f0f921"
             ]
            ],
            "type": "surface"
           }
          ],
          "table": [
           {
            "cells": {
             "fill": {
              "color": "#EBF0F8"
             },
             "line": {
              "color": "white"
             }
            },
            "header": {
             "fill": {
              "color": "#C8D4E3"
             },
             "line": {
              "color": "white"
             }
            },
            "type": "table"
           }
          ]
         },
         "layout": {
          "annotationdefaults": {
           "arrowcolor": "#2a3f5f",
           "arrowhead": 0,
           "arrowwidth": 1
          },
          "autotypenumbers": "strict",
          "coloraxis": {
           "colorbar": {
            "outlinewidth": 0,
            "ticks": ""
           }
          },
          "colorscale": {
           "diverging": [
            [
             0,
             "#8e0152"
            ],
            [
             0.1,
             "#c51b7d"
            ],
            [
             0.2,
             "#de77ae"
            ],
            [
             0.3,
             "#f1b6da"
            ],
            [
             0.4,
             "#fde0ef"
            ],
            [
             0.5,
             "#f7f7f7"
            ],
            [
             0.6,
             "#e6f5d0"
            ],
            [
             0.7,
             "#b8e186"
            ],
            [
             0.8,
             "#7fbc41"
            ],
            [
             0.9,
             "#4d9221"
            ],
            [
             1,
             "#276419"
            ]
           ],
           "sequential": [
            [
             0,
             "#0d0887"
            ],
            [
             0.1111111111111111,
             "#46039f"
            ],
            [
             0.2222222222222222,
             "#7201a8"
            ],
            [
             0.3333333333333333,
             "#9c179e"
            ],
            [
             0.4444444444444444,
             "#bd3786"
            ],
            [
             0.5555555555555556,
             "#d8576b"
            ],
            [
             0.6666666666666666,
             "#ed7953"
            ],
            [
             0.7777777777777778,
             "#fb9f3a"
            ],
            [
             0.8888888888888888,
             "#fdca26"
            ],
            [
             1,
             "#f0f921"
            ]
           ],
           "sequentialminus": [
            [
             0,
             "#0d0887"
            ],
            [
             0.1111111111111111,
             "#46039f"
            ],
            [
             0.2222222222222222,
             "#7201a8"
            ],
            [
             0.3333333333333333,
             "#9c179e"
            ],
            [
             0.4444444444444444,
             "#bd3786"
            ],
            [
             0.5555555555555556,
             "#d8576b"
            ],
            [
             0.6666666666666666,
             "#ed7953"
            ],
            [
             0.7777777777777778,
             "#fb9f3a"
            ],
            [
             0.8888888888888888,
             "#fdca26"
            ],
            [
             1,
             "#f0f921"
            ]
           ]
          },
          "colorway": [
           "#636efa",
           "#EF553B",
           "#00cc96",
           "#ab63fa",
           "#FFA15A",
           "#19d3f3",
           "#FF6692",
           "#B6E880",
           "#FF97FF",
           "#FECB52"
          ],
          "font": {
           "color": "#2a3f5f"
          },
          "geo": {
           "bgcolor": "white",
           "lakecolor": "white",
           "landcolor": "#E5ECF6",
           "showlakes": true,
           "showland": true,
           "subunitcolor": "white"
          },
          "hoverlabel": {
           "align": "left"
          },
          "hovermode": "closest",
          "mapbox": {
           "style": "light"
          },
          "paper_bgcolor": "white",
          "plot_bgcolor": "#E5ECF6",
          "polar": {
           "angularaxis": {
            "gridcolor": "white",
            "linecolor": "white",
            "ticks": ""
           },
           "bgcolor": "#E5ECF6",
           "radialaxis": {
            "gridcolor": "white",
            "linecolor": "white",
            "ticks": ""
           }
          },
          "scene": {
           "xaxis": {
            "backgroundcolor": "#E5ECF6",
            "gridcolor": "white",
            "gridwidth": 2,
            "linecolor": "white",
            "showbackground": true,
            "ticks": "",
            "zerolinecolor": "white"
           },
           "yaxis": {
            "backgroundcolor": "#E5ECF6",
            "gridcolor": "white",
            "gridwidth": 2,
            "linecolor": "white",
            "showbackground": true,
            "ticks": "",
            "zerolinecolor": "white"
           },
           "zaxis": {
            "backgroundcolor": "#E5ECF6",
            "gridcolor": "white",
            "gridwidth": 2,
            "linecolor": "white",
            "showbackground": true,
            "ticks": "",
            "zerolinecolor": "white"
           }
          },
          "shapedefaults": {
           "line": {
            "color": "#2a3f5f"
           }
          },
          "ternary": {
           "aaxis": {
            "gridcolor": "white",
            "linecolor": "white",
            "ticks": ""
           },
           "baxis": {
            "gridcolor": "white",
            "linecolor": "white",
            "ticks": ""
           },
           "bgcolor": "#E5ECF6",
           "caxis": {
            "gridcolor": "white",
            "linecolor": "white",
            "ticks": ""
           }
          },
          "title": {
           "x": 0.05
          },
          "xaxis": {
           "automargin": true,
           "gridcolor": "white",
           "linecolor": "white",
           "ticks": "",
           "title": {
            "standoff": 15
           },
           "zerolinecolor": "white",
           "zerolinewidth": 2
          },
          "yaxis": {
           "automargin": true,
           "gridcolor": "white",
           "linecolor": "white",
           "ticks": "",
           "title": {
            "standoff": 15
           },
           "zerolinecolor": "white",
           "zerolinewidth": 2
          }
         }
        },
        "title": {
         "text": "Curl free regression errors for n = 100 input vectors for current carrying coil"
        }
       }
      }
     },
     "metadata": {},
     "output_type": "display_data"
    }
   ],
   "source": [
    "# plot residuals of fit above: \n",
    "residuals_coil_curl_free, mse_coil_curl_free = differencer(outputs_coil, outputs_coil_curl_free)\n",
    "print(f'MSE for this case of {mse_coil_curl_free}')\n",
    "plotter(residuals_coil_curl_free, \n",
    "        title = f'Curl free regression errors for n = {given_samples_coil} input vectors for current carrying coil')"
   ]
  }
 ],
 "metadata": {
  "kernelspec": {
   "display_name": "env",
   "language": "python",
   "name": "python3"
  },
  "language_info": {
   "codemirror_mode": {
    "name": "ipython",
    "version": 3
   },
   "file_extension": ".py",
   "mimetype": "text/x-python",
   "name": "python",
   "nbconvert_exporter": "python",
   "pygments_lexer": "ipython3",
   "version": "3.12.0"
  }
 },
 "nbformat": 4,
 "nbformat_minor": 5
}

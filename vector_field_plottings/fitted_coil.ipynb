{
 "cells": [
  {
   "cell_type": "markdown",
   "id": "2c13ec42",
   "metadata": {},
   "source": [
    "# Gaussian Updated Fields + analytics for current carrying coil"
   ]
  },
  {
   "cell_type": "code",
   "execution_count": 10,
   "id": "be29ef2e",
   "metadata": {},
   "outputs": [],
   "source": [
    "import sys\n",
    "sys.path.append('..')"
   ]
  },
  {
   "cell_type": "code",
   "execution_count": 11,
   "id": "fbe8d646",
   "metadata": {},
   "outputs": [],
   "source": [
    "# Loading my modules\n",
    "from plotting_tools.plotter import plotter\n",
    "from plotting_tools.field_comparison import differencer\n",
    "from plotting_tools.sample_field import sample_field\n",
    "from physics_informed_vector_fields.current_carrying_coil import field_around_current_carrying_coil\n",
    "from GP_Implementation.Kernel import updated_vector_field"
   ]
  },
  {
   "cell_type": "code",
   "execution_count": 12,
   "id": "7efbb339",
   "metadata": {},
   "outputs": [
    {
     "data": {
      "application/vnd.plotly.v1+json": {
       "config": {
        "plotlyServerURL": "https://plot.ly"
       },
       "data": [
        {
         "anchor": "tail",
         "sizemode": "scaled",
         "sizeref": 2,
         "type": "cone",
         "u": {
          "bdata": "cqNXjIO+McDru3HNYg00QPyPv4MgEizAZnkYt9U2E8CJKbDBG6gxwKMBxqmDQznAgMRfOWU0QcDW6IubQxw2QKDhV0kkly7AL3H1EcJbNUDCynN/gfQVwGhEJ1xzfhJAufRPsu85LMA+HEziLA0vwPiRsBixFBJAd/3gxcvTN8Bzo1eMg74xQI9ensknwjPAzKK2ZLuwKkCExF85ZTRBwIasFVszyzxAr70Ta42VEECOdI0/8m0gQPMi1REg3CdA6/3NwL9nQMBbsip0lP4xQGX94MXL0zfAbCIGXqnNNUBAHEziLA0vwIMHNfXahS5AToiHt3JvRMD8GWI1JdIowKYQKhZ9gCLAxemDx2ntI8CYq99QwDILwMbm5DpBKz9Ana2uxLh5RUAlzUGzUd4wwIduDWBjczRAiZolmINtPcA+HEziLA0vQHOjV4yDvjFATnd6UrEyHkCwHbk8IjIjQGm23F7dmTZASOdTT38xPcAeITFcT4ktQAGMYnu3BT1ASVlyykT6MsDFDXUe6u4WQDZ6zd9LhitADao47XKiJMCGmiWYg209QGMnIeoIbxZAX2TeK0R2Q8C9DXUe6u4WwBFREqakqjxAXcM0k2ilLEDNSieeR4M6QI50jT/ybSDA4XxTfJ0/C0CTc0h9tVcvwABsptoMEURAgqH4zcUdM0D/sE2h76sZQGoiBl6pzTXAtFxLa4WkLUBrFp/Q6nwSwGuNY3B9ST1AiTEummnhF0Dk6IubQxw2QM3pg8dp7SPAhu4Vy7sTMMB5jWNwfUk9wBIZkHb7OENAsw11HuruFkCKdI0/8m0gwENx9RHCWzVArR25PCIyI8AlkDQG3QwbwOToi5tDHDZAYXkYt9U2E8BRWXLKRPoywM1KJ55HgzrA8JXA+UeqJ0Cf4VdJJJcuwMDm5DpBKz/AbKvfUMAyC8ADRZsg3RYTwIhensknwjPA9T5M3r6fFUA74QB3Ci4FQBMZkHb7OEPAXcM0k2ilLMAnes3fS4YrQNqGwbkxCAnAaBaf0Op8EkBxj7/q788vwPPG4E2ZSTHAJJA0Bt0MG8A=",
          "dtype": "f8"
         },
         "v": {
          "bdata": "bqNXjIO+McAcaV0PuuoGQJ0BxqmDQzlAWXkYt9U2E8B/miWYg209wAaQv4MgEizAeKH4zcUdM8CoSg4hUYgqQDbpATdb8UbAFRmQdvs4Q8AcRGKvEbNIQIFEJ1xzfhJAiF6eySfCM8D4EJRUgaEiwGy23F7dmTZAQuEAdwouBUBxo1eMg74xwLb0T7LvOSxA4AyO3FjCJECJofjNxR0zQKEduTwiMiNAD4xie7cFPcCZss/07yozQGZTI2ol1jtA6/3NwL9nQMB0xjs8NjE5QD7hAHcKLgXAX3UsC2wIPEDxEJRUgaEiwJgHNfXahS5ATOdTT38xPUCbeJHY5l8xQL9ohkTnlTVAyrj2mUXvMcDwoPtaGJk+wHiKvImNszLA8kSbIN0WE0AszUGzUd4wQHGPv+rvzy/AgSmwwRuoMUD4EJRUgaEiQG6jV4yDvjFAU3d6UrEyHsB/rBVbM8s8QOGRsBixFBLAUoiHt3JvRMAkITFcT4ktwKi9E2uNlRBA2RIw7PojRsD5a6baDBFEQCh6zd9LhitAkzLmOzSSMkB/KbDBG6gxwIndmK9G0zBAROhQk4OuMMD1a6baDBFEwA1REqakqjzAUsM0k2ilLMAEc1fQ/p40QJmyz/TvKjPAoJ0+HbZvJEDC99qoI+UUQL0NdR7q7hZAhMRfOWU0QUDa+iOtcXZGQFh1LAtsCDxAcQT62RzJIcCcoe44YLsrQIbXgvP9bRfA9725AMTZPUCoSg4hUYgqwNC49plF7zFAXRcjeCy5CUCh14Lz/W0XwDJx9RHCWzXA/mum2gwRRECUss/07yozQCkZkHb7OENAgqwVWzPLPEAhYHhZkwgCwJNKDiFRiCrAd3kYt9U2E0DSEjDs+iNGQAJzV9D+njTA95XA+UeqJ8A66QE3W/FGwH6KvImNszLA56D7WhiZPkCOra7EuHlFQLb0T7LvOSzABT9M3r6fFcBo/eDFy9M3wDNx9RHCWzVAUsM0k2ilLEAtes3fS4YrwA1WiYIr5zVAqKHuOGC7K0CDbg1gY3M0wPTG4E2ZSTFAGWB4WZMIAkA=",
          "dtype": "f8"
         },
         "w": {
          "bdata": "e+UkaBofJcCILaa2mWY7QKzST+d7NC5A0OV5+v8lWUCxpk9/pS5QQKfST+d7NC5A+zt+MR1iLkA7L/11xaNGQBaj8I5SJTtA0LP8mV/+J0CKdCNiHiBCQGA62W6OX01AQ7Lw4T+XS0BFvx+DJi1AQOaXJPn5fEhAVVKI5KO+RECA5SRoGh8lwD6y8OE/l0tAIuIEVgcuJ8D/O34xHWIuQBfB5Ye3dDRAKvamwA3WQkD+48IQVQ05QL2x9WmJ9EBAC+meE5IFM0BSbqZY7cc6QFdSiOSjvkRAPgFLP2tzBMBDvx+DJi1AQOByLSFougtAO5rGHB4OR0BxP4rWlbA0QMxPmQRX61RAjuK8yhsCK0ApCPpX0oA3QO0Zah0H31ZAM0WYcfd6PUC15NvLE9xYQFmhduUKyiFAsqZPf6UuUEBFvx+DJi1AQH3lJGgaHyXAMT0QCFIJXkAWweWHt3Q0QN2XJPn5fEhAOZrGHB4OR0C1uSYXzDQuQC/2psAN1kJANSVH98elUECnlkImV7ZKQHgH0ADwP0pAl7BqW1wuH0Cwpk9/pS5QQFsEyiFuM1NA04pjpLmnR0CjlkImV7ZKQKqWQiZXtkpAii2mtplmO0CYxs/+1yMWQP7jwhBVDTlABnp5v2YGREA+LJwWTC5ZQKOWQiZXtkpA+Dt+MR1iLkCpDgDb8gxTQEUBSz9rcwTAcAK4XfXQXEABzxK+b+NLQMkf4r9EYlFAJYrTTPoaWEA4L/11xaNGQJXivMobAitAsv7Mg5V0QUDLH+K/RGJRQN+z/Jlf/idArZZCJle2SkDx48IQVQ05QN+z/Jlf/idADcHlh7d0NEAKE5Ohi6BdQD8v/XXFo0ZAzuV5+v8lWUA5JUf3x6VQQJvGz/7XIxZAzyifUWUsFkAZo/COUiU7QOkZah0H31ZAJQj6V9KAN0AuRZhx93o9QEGy8OE/l0tAQUVbFWHLU0BUUojko75EQN+z/Jlf/idAii2mtplmO0B8B9AA8D9KQK+8ylX7MVhA/M4Svm/jS0BXoXblCsohQHPkMXVzZVJAEBOToYugXUA=",
          "dtype": "f8"
         },
         "x": {
          "bdata": "AAAAAAAA4D84juM4juPYP3Icx3Ecx9G/IMdxHMdxrD9UVVVVVVXFPwAAAAAAAOA/AAAAAAAA4L9yHMdxHMfRv1ZVVVVVVcW/cBzHcRzH0T8gx3Ecx3GsvyDHcRzHcaw/cBzHcRzH0T9yHMdxHMfRvyDHcRzHcaw/AAAAAAAA4L8AAAAAAADgPzmO4ziO49i/AAAAAAAA4L8AAAAAAADgvwAAAAAAAOC/IMdxHMdxrL9WVVVVVVXFv1ZVVVVVVcW/OI7jOI7j2D9wHMdxHMfRPwAAAAAAAOC/OY7jOI7j2L9wHMdxHMfRPwAAAAAAAOC/OI7jOI7j2D9wHMdxHMfRP1RVVVVVVcU/cBzHcRzH0T8gx3Ecx3Gsv3Acx3Ecx9E/AAAAAAAA4D9WVVVVVVXFvwAAAAAAAOA/chzHcRzH0b9yHMdxHMfRvwAAAAAAAOA/VFVVVVVVxT9UVVVVVVXFP3Icx3Ecx9G/cBzHcRzH0T84juM4juPYPzmO4ziO49i/VlVVVVVVxb8gx3Ecx3GsP1ZVVVVVVcW/chzHcRzH0b9yHMdxHMfRvyDHcRzHcay/OI7jOI7j2D8gx3Ecx3GsP3Icx3Ecx9G/chzHcRzH0b8AAAAAAADgP1ZVVVVVVcW/IMdxHMdxrD9UVVVVVVXFPzmO4ziO49i/chzHcRzH0b8gx3Ecx3GsvzmO4ziO49i/chzHcRzH0b8gx3Ecx3GsP3Icx3Ecx9G/IMdxHMdxrD9wHMdxHMfRP3Icx3Ecx9G/cBzHcRzH0T9yHMdxHMfRvwAAAAAAAOA/IMdxHMdxrL9WVVVVVVXFv3Acx3Ecx9E/VFVVVVVVxT9UVVVVVVXFP3Icx3Ecx9G/IMdxHMdxrL9WVVVVVVXFvwAAAAAAAOA/AAAAAAAA4D9UVVVVVVXFP3Icx3Ecx9G/IMdxHMdxrD8gx3Ecx3GsvziO4ziO49g/IMdxHMdxrL8gx3Ecx3GsvwAAAAAAAOA/chzHcRzH0b9UVVVVVVXFPyDHcRzHcay/IMdxHMdxrD85juM4juPYv1ZVVVVVVcW/VFVVVVVVxT8=",
          "dtype": "f8"
         },
         "y": {
          "bdata": "AAAAAAAA4D8gx3Ecx3GsPwAAAAAAAOA/IMdxHMdxrD9wHMdxHMfRP3Acx3Ecx9E/chzHcRzH0b9WVVVVVVXFvwAAAAAAAOC/AAAAAAAA4L8AAAAAAADgPyDHcRzHcaw/OI7jOI7j2D9WVVVVVVXFv3Acx3Ecx9E/IMdxHMdxrD8AAAAAAADgv3Acx3Ecx9E/OY7jOI7j2L9wHMdxHMfRP1ZVVVVVVcW/OI7jOI7j2D85juM4juPYvzmO4ziO49i/OI7jOI7j2D84juM4juPYPyDHcRzHcay/AAAAAAAA4L9UVVVVVVXFPwAAAAAAAOC/chzHcRzH0b85juM4juPYvzmO4ziO49i/AAAAAAAA4D8AAAAAAADgv1ZVVVVVVcW/IMdxHMdxrD9UVVVVVVXFPzmO4ziO49i/VFVVVVVVxT9WVVVVVVXFvwAAAAAAAOA/VlVVVVVVxb8AAAAAAADgPyDHcRzHcaw/OI7jOI7j2D85juM4juPYvyDHcRzHcay/OY7jOI7j2L84juM4juPYP1ZVVVVVVcW/AAAAAAAA4D9UVVVVVVXFP1ZVVVVVVcW/VFVVVVVVxT84juM4juPYP3Acx3Ecx9E/cBzHcRzH0T84juM4juPYPzmO4ziO49i/VFVVVVVVxT8gx3Ecx3GsvyDHcRzHcay/AAAAAAAA4L85juM4juPYvwAAAAAAAOA/VFVVVVVVxT9WVVVVVVXFvyDHcRzHcaw/cBzHcRzH0T9WVVVVVVXFvwAAAAAAAOA/IMdxHMdxrL8gx3Ecx3Gsv3Icx3Ecx9G/OY7jOI7j2L84juM4juPYPwAAAAAAAOA/AAAAAAAA4L8gx3Ecx3GsP1RVVVVVVcU/IMdxHMdxrD84juM4juPYPziO4ziO49g/AAAAAAAA4L8AAAAAAADgP1ZVVVVVVcW/AAAAAAAA4L8AAAAAAADgP3Acx3Ecx9E/IMdxHMdxrD8AAAAAAADgP3Icx3Ecx9G/cBzHcRzH0T9WVVVVVVXFvziO4ziO49g/VFVVVVVVxT8AAAAAAADgv1RVVVVVVcU/IMdxHMdxrL8=",
          "dtype": "f8"
         },
         "z": {
          "bdata": "VlVVVVVVxb8AAAAAAADgPziO4ziO49g/VlVVVVVVxb9yHMdxHMfRvzmO4ziO49i/cBzHcRzH0T85juM4juPYv1RVVVVVVcU/VFVVVVVVxT9UVVVVVVXFPziO4ziO49g/IMdxHMdxrL8AAAAAAADgPziO4ziO49g/IMdxHMdxrD9UVVVVVVXFPyDHcRzHcaw/IMdxHMdxrL9wHMdxHMfRPzmO4ziO49i/OY7jOI7j2L8AAAAAAADgvzmO4ziO49i/VlVVVVVVxb84juM4juPYPyDHcRzHcaw/VlVVVVVVxb8AAAAAAADgvzmO4ziO49i/VlVVVVVVxb8AAAAAAADgvyDHcRzHcay/AAAAAAAA4L84juM4juPYP1RVVVVVVcU/cBzHcRzH0T9UVVVVVVXFPziO4ziO49g/cBzHcRzH0T8AAAAAAADgv1RVVVVVVcU/IMdxHMdxrD84juM4juPYPzmO4ziO49i/VlVVVVVVxb8AAAAAAADgPzmO4ziO49i/VFVVVVVVxT9wHMdxHMfRPzmO4ziO49i/IMdxHMdxrD9yHMdxHMfRv3Icx3Ecx9G/chzHcRzH0b9yHMdxHMfRv3Icx3Ecx9G/AAAAAAAA4L9wHMdxHMfRPwAAAAAAAOA/AAAAAAAA4D9WVVVVVVXFv3Icx3Ecx9G/chzHcRzH0b9WVVVVVVXFv1RVVVVVVcU/IMdxHMdxrL85juM4juPYv3Icx3Ecx9G/VFVVVVVVxT84juM4juPYPwAAAAAAAOA/AAAAAAAA4L9wHMdxHMfRP1RVVVVVVcU/chzHcRzH0b8AAAAAAADgP1RVVVVVVcU/OY7jOI7j2L8gx3Ecx3GsvzmO4ziO49i/VFVVVVVVxT9UVVVVVVXFP3Icx3Ecx9G/AAAAAAAA4D9WVVVVVVXFv1RVVVVVVcU/OY7jOI7j2L9wHMdxHMfRPyDHcRzHcay/chzHcRzH0b8gx3Ecx3Gsv1ZVVVVVVcW/AAAAAAAA4D84juM4juPYPyDHcRzHcaw/OI7jOI7j2D84juM4juPYP3Acx3Ecx9E/IMdxHMdxrL8=",
          "dtype": "f8"
         }
        }
       ],
       "layout": {
        "scene": {
         "xaxis": {
          "title": {
           "text": "X"
          }
         },
         "yaxis": {
          "title": {
           "text": "Y"
          }
         },
         "zaxis": {
          "title": {
           "text": "Z"
          }
         }
        },
        "template": {
         "data": {
          "bar": [
           {
            "error_x": {
             "color": "#2a3f5f"
            },
            "error_y": {
             "color": "#2a3f5f"
            },
            "marker": {
             "line": {
              "color": "#E5ECF6",
              "width": 0.5
             },
             "pattern": {
              "fillmode": "overlay",
              "size": 10,
              "solidity": 0.2
             }
            },
            "type": "bar"
           }
          ],
          "barpolar": [
           {
            "marker": {
             "line": {
              "color": "#E5ECF6",
              "width": 0.5
             },
             "pattern": {
              "fillmode": "overlay",
              "size": 10,
              "solidity": 0.2
             }
            },
            "type": "barpolar"
           }
          ],
          "carpet": [
           {
            "aaxis": {
             "endlinecolor": "#2a3f5f",
             "gridcolor": "white",
             "linecolor": "white",
             "minorgridcolor": "white",
             "startlinecolor": "#2a3f5f"
            },
            "baxis": {
             "endlinecolor": "#2a3f5f",
             "gridcolor": "white",
             "linecolor": "white",
             "minorgridcolor": "white",
             "startlinecolor": "#2a3f5f"
            },
            "type": "carpet"
           }
          ],
          "choropleth": [
           {
            "colorbar": {
             "outlinewidth": 0,
             "ticks": ""
            },
            "type": "choropleth"
           }
          ],
          "contour": [
           {
            "colorbar": {
             "outlinewidth": 0,
             "ticks": ""
            },
            "colorscale": [
             [
              0,
              "#0d0887"
             ],
             [
              0.1111111111111111,
              "#46039f"
             ],
             [
              0.2222222222222222,
              "#7201a8"
             ],
             [
              0.3333333333333333,
              "#9c179e"
             ],
             [
              0.4444444444444444,
              "#bd3786"
             ],
             [
              0.5555555555555556,
              "#d8576b"
             ],
             [
              0.6666666666666666,
              "#ed7953"
             ],
             [
              0.7777777777777778,
              "#fb9f3a"
             ],
             [
              0.8888888888888888,
              "#fdca26"
             ],
             [
              1,
              "#f0f921"
             ]
            ],
            "type": "contour"
           }
          ],
          "contourcarpet": [
           {
            "colorbar": {
             "outlinewidth": 0,
             "ticks": ""
            },
            "type": "contourcarpet"
           }
          ],
          "heatmap": [
           {
            "colorbar": {
             "outlinewidth": 0,
             "ticks": ""
            },
            "colorscale": [
             [
              0,
              "#0d0887"
             ],
             [
              0.1111111111111111,
              "#46039f"
             ],
             [
              0.2222222222222222,
              "#7201a8"
             ],
             [
              0.3333333333333333,
              "#9c179e"
             ],
             [
              0.4444444444444444,
              "#bd3786"
             ],
             [
              0.5555555555555556,
              "#d8576b"
             ],
             [
              0.6666666666666666,
              "#ed7953"
             ],
             [
              0.7777777777777778,
              "#fb9f3a"
             ],
             [
              0.8888888888888888,
              "#fdca26"
             ],
             [
              1,
              "#f0f921"
             ]
            ],
            "type": "heatmap"
           }
          ],
          "histogram": [
           {
            "marker": {
             "pattern": {
              "fillmode": "overlay",
              "size": 10,
              "solidity": 0.2
             }
            },
            "type": "histogram"
           }
          ],
          "histogram2d": [
           {
            "colorbar": {
             "outlinewidth": 0,
             "ticks": ""
            },
            "colorscale": [
             [
              0,
              "#0d0887"
             ],
             [
              0.1111111111111111,
              "#46039f"
             ],
             [
              0.2222222222222222,
              "#7201a8"
             ],
             [
              0.3333333333333333,
              "#9c179e"
             ],
             [
              0.4444444444444444,
              "#bd3786"
             ],
             [
              0.5555555555555556,
              "#d8576b"
             ],
             [
              0.6666666666666666,
              "#ed7953"
             ],
             [
              0.7777777777777778,
              "#fb9f3a"
             ],
             [
              0.8888888888888888,
              "#fdca26"
             ],
             [
              1,
              "#f0f921"
             ]
            ],
            "type": "histogram2d"
           }
          ],
          "histogram2dcontour": [
           {
            "colorbar": {
             "outlinewidth": 0,
             "ticks": ""
            },
            "colorscale": [
             [
              0,
              "#0d0887"
             ],
             [
              0.1111111111111111,
              "#46039f"
             ],
             [
              0.2222222222222222,
              "#7201a8"
             ],
             [
              0.3333333333333333,
              "#9c179e"
             ],
             [
              0.4444444444444444,
              "#bd3786"
             ],
             [
              0.5555555555555556,
              "#d8576b"
             ],
             [
              0.6666666666666666,
              "#ed7953"
             ],
             [
              0.7777777777777778,
              "#fb9f3a"
             ],
             [
              0.8888888888888888,
              "#fdca26"
             ],
             [
              1,
              "#f0f921"
             ]
            ],
            "type": "histogram2dcontour"
           }
          ],
          "mesh3d": [
           {
            "colorbar": {
             "outlinewidth": 0,
             "ticks": ""
            },
            "type": "mesh3d"
           }
          ],
          "parcoords": [
           {
            "line": {
             "colorbar": {
              "outlinewidth": 0,
              "ticks": ""
             }
            },
            "type": "parcoords"
           }
          ],
          "pie": [
           {
            "automargin": true,
            "type": "pie"
           }
          ],
          "scatter": [
           {
            "fillpattern": {
             "fillmode": "overlay",
             "size": 10,
             "solidity": 0.2
            },
            "type": "scatter"
           }
          ],
          "scatter3d": [
           {
            "line": {
             "colorbar": {
              "outlinewidth": 0,
              "ticks": ""
             }
            },
            "marker": {
             "colorbar": {
              "outlinewidth": 0,
              "ticks": ""
             }
            },
            "type": "scatter3d"
           }
          ],
          "scattercarpet": [
           {
            "marker": {
             "colorbar": {
              "outlinewidth": 0,
              "ticks": ""
             }
            },
            "type": "scattercarpet"
           }
          ],
          "scattergeo": [
           {
            "marker": {
             "colorbar": {
              "outlinewidth": 0,
              "ticks": ""
             }
            },
            "type": "scattergeo"
           }
          ],
          "scattergl": [
           {
            "marker": {
             "colorbar": {
              "outlinewidth": 0,
              "ticks": ""
             }
            },
            "type": "scattergl"
           }
          ],
          "scattermap": [
           {
            "marker": {
             "colorbar": {
              "outlinewidth": 0,
              "ticks": ""
             }
            },
            "type": "scattermap"
           }
          ],
          "scattermapbox": [
           {
            "marker": {
             "colorbar": {
              "outlinewidth": 0,
              "ticks": ""
             }
            },
            "type": "scattermapbox"
           }
          ],
          "scatterpolar": [
           {
            "marker": {
             "colorbar": {
              "outlinewidth": 0,
              "ticks": ""
             }
            },
            "type": "scatterpolar"
           }
          ],
          "scatterpolargl": [
           {
            "marker": {
             "colorbar": {
              "outlinewidth": 0,
              "ticks": ""
             }
            },
            "type": "scatterpolargl"
           }
          ],
          "scatterternary": [
           {
            "marker": {
             "colorbar": {
              "outlinewidth": 0,
              "ticks": ""
             }
            },
            "type": "scatterternary"
           }
          ],
          "surface": [
           {
            "colorbar": {
             "outlinewidth": 0,
             "ticks": ""
            },
            "colorscale": [
             [
              0,
              "#0d0887"
             ],
             [
              0.1111111111111111,
              "#46039f"
             ],
             [
              0.2222222222222222,
              "#7201a8"
             ],
             [
              0.3333333333333333,
              "#9c179e"
             ],
             [
              0.4444444444444444,
              "#bd3786"
             ],
             [
              0.5555555555555556,
              "#d8576b"
             ],
             [
              0.6666666666666666,
              "#ed7953"
             ],
             [
              0.7777777777777778,
              "#fb9f3a"
             ],
             [
              0.8888888888888888,
              "#fdca26"
             ],
             [
              1,
              "#f0f921"
             ]
            ],
            "type": "surface"
           }
          ],
          "table": [
           {
            "cells": {
             "fill": {
              "color": "#EBF0F8"
             },
             "line": {
              "color": "white"
             }
            },
            "header": {
             "fill": {
              "color": "#C8D4E3"
             },
             "line": {
              "color": "white"
             }
            },
            "type": "table"
           }
          ]
         },
         "layout": {
          "annotationdefaults": {
           "arrowcolor": "#2a3f5f",
           "arrowhead": 0,
           "arrowwidth": 1
          },
          "autotypenumbers": "strict",
          "coloraxis": {
           "colorbar": {
            "outlinewidth": 0,
            "ticks": ""
           }
          },
          "colorscale": {
           "diverging": [
            [
             0,
             "#8e0152"
            ],
            [
             0.1,
             "#c51b7d"
            ],
            [
             0.2,
             "#de77ae"
            ],
            [
             0.3,
             "#f1b6da"
            ],
            [
             0.4,
             "#fde0ef"
            ],
            [
             0.5,
             "#f7f7f7"
            ],
            [
             0.6,
             "#e6f5d0"
            ],
            [
             0.7,
             "#b8e186"
            ],
            [
             0.8,
             "#7fbc41"
            ],
            [
             0.9,
             "#4d9221"
            ],
            [
             1,
             "#276419"
            ]
           ],
           "sequential": [
            [
             0,
             "#0d0887"
            ],
            [
             0.1111111111111111,
             "#46039f"
            ],
            [
             0.2222222222222222,
             "#7201a8"
            ],
            [
             0.3333333333333333,
             "#9c179e"
            ],
            [
             0.4444444444444444,
             "#bd3786"
            ],
            [
             0.5555555555555556,
             "#d8576b"
            ],
            [
             0.6666666666666666,
             "#ed7953"
            ],
            [
             0.7777777777777778,
             "#fb9f3a"
            ],
            [
             0.8888888888888888,
             "#fdca26"
            ],
            [
             1,
             "#f0f921"
            ]
           ],
           "sequentialminus": [
            [
             0,
             "#0d0887"
            ],
            [
             0.1111111111111111,
             "#46039f"
            ],
            [
             0.2222222222222222,
             "#7201a8"
            ],
            [
             0.3333333333333333,
             "#9c179e"
            ],
            [
             0.4444444444444444,
             "#bd3786"
            ],
            [
             0.5555555555555556,
             "#d8576b"
            ],
            [
             0.6666666666666666,
             "#ed7953"
            ],
            [
             0.7777777777777778,
             "#fb9f3a"
            ],
            [
             0.8888888888888888,
             "#fdca26"
            ],
            [
             1,
             "#f0f921"
            ]
           ]
          },
          "colorway": [
           "#636efa",
           "#EF553B",
           "#00cc96",
           "#ab63fa",
           "#FFA15A",
           "#19d3f3",
           "#FF6692",
           "#B6E880",
           "#FF97FF",
           "#FECB52"
          ],
          "font": {
           "color": "#2a3f5f"
          },
          "geo": {
           "bgcolor": "white",
           "lakecolor": "white",
           "landcolor": "#E5ECF6",
           "showlakes": true,
           "showland": true,
           "subunitcolor": "white"
          },
          "hoverlabel": {
           "align": "left"
          },
          "hovermode": "closest",
          "mapbox": {
           "style": "light"
          },
          "paper_bgcolor": "white",
          "plot_bgcolor": "#E5ECF6",
          "polar": {
           "angularaxis": {
            "gridcolor": "white",
            "linecolor": "white",
            "ticks": ""
           },
           "bgcolor": "#E5ECF6",
           "radialaxis": {
            "gridcolor": "white",
            "linecolor": "white",
            "ticks": ""
           }
          },
          "scene": {
           "xaxis": {
            "backgroundcolor": "#E5ECF6",
            "gridcolor": "white",
            "gridwidth": 2,
            "linecolor": "white",
            "showbackground": true,
            "ticks": "",
            "zerolinecolor": "white"
           },
           "yaxis": {
            "backgroundcolor": "#E5ECF6",
            "gridcolor": "white",
            "gridwidth": 2,
            "linecolor": "white",
            "showbackground": true,
            "ticks": "",
            "zerolinecolor": "white"
           },
           "zaxis": {
            "backgroundcolor": "#E5ECF6",
            "gridcolor": "white",
            "gridwidth": 2,
            "linecolor": "white",
            "showbackground": true,
            "ticks": "",
            "zerolinecolor": "white"
           }
          },
          "shapedefaults": {
           "line": {
            "color": "#2a3f5f"
           }
          },
          "ternary": {
           "aaxis": {
            "gridcolor": "white",
            "linecolor": "white",
            "ticks": ""
           },
           "baxis": {
            "gridcolor": "white",
            "linecolor": "white",
            "ticks": ""
           },
           "bgcolor": "#E5ECF6",
           "caxis": {
            "gridcolor": "white",
            "linecolor": "white",
            "ticks": ""
           }
          },
          "title": {
           "x": 0.05
          },
          "xaxis": {
           "automargin": true,
           "gridcolor": "white",
           "linecolor": "white",
           "ticks": "",
           "title": {
            "standoff": 15
           },
           "zerolinecolor": "white",
           "zerolinewidth": 2
          },
          "yaxis": {
           "automargin": true,
           "gridcolor": "white",
           "linecolor": "white",
           "ticks": "",
           "title": {
            "standoff": 15
           },
           "zerolinecolor": "white",
           "zerolinewidth": 2
          }
         }
        },
        "title": {
         "text": "Points given to our GP Regressor for current carrying loop"
        }
       }
      }
     },
     "metadata": {},
     "output_type": "display_data"
    }
   ],
   "source": [
    "# getting the fields to draw samples from\n",
    "outputs_coil = field_around_current_carrying_coil(100000000)\n",
    "sampled_outputs_coil = sample_field(outputs_coil, n_samples=100)\n",
    "plotter(sampled_outputs_coil, \n",
    "        title = 'Points given to our GP Regressor for current carrying loop')"
   ]
  },
  {
   "cell_type": "markdown",
   "id": "78bfed5b",
   "metadata": {},
   "source": [
    "## Applying GP Regression to Current Carrying Coil"
   ]
  },
  {
   "cell_type": "code",
   "execution_count": 13,
   "id": "439bb977",
   "metadata": {},
   "outputs": [
    {
     "name": "stdout",
     "output_type": "stream",
     "text": [
      "Parameters for sigma_f and l specified, using these.\n"
     ]
    }
   ],
   "source": [
    "given_samples_coil = sampled_outputs_coil[0].shape[0]\n",
    "\n",
    "outputs_coil_div_free = updated_vector_field(\n",
    "    sampled_outputs_coil, \n",
    "    outputs_coil[0], outputs_coil[1], outputs_coil[2], \n",
    "    kernel_func='divergence_free_kernel', \n",
    "    sigma_f = 0.01, l = 1.5)\n",
    "\n",
    "# from giving the code a large number of samples, the optimum \n",
    "# parameters seem to be about: sigma_f = 0.1, l = 0.1191608\n",
    "# sigma_f = 0.01, l = 1.5 seem to work okay "
   ]
  },
  {
   "cell_type": "code",
   "execution_count": 14,
   "id": "896cbdc4",
   "metadata": {},
   "outputs": [
    {
     "data": {
      "application/vnd.plotly.v1+json": {
       "config": {
        "plotlyServerURL": "https://plot.ly"
       },
       "data": [
        {
         "anchor": "tail",
         "sizemode": "scaled",
         "sizeref": 2,
         "type": "cone",
         "u": {
          "bdata": "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",
          "dtype": "f8"
         },
         "v": {
          "bdata": "10KmLCMrQUBDTqbfJ/I8QGknMtN6UDZAr49VYN0+LUDC+q33U14YQGOmq2wLMQjAMv0njJnlKMAO0j78P+Q1wBu5QUzjDz/AWYUmYMrWQ8CN9qbNTiI7QFhB0VOTOzdAt6Y3FEtBMkDp11nHC6UoQEt/0/ggXhZAV+AOndr3+7+PMRRcL/giwDhGl6eCYzHAaa5ifdg4OcCJTEL1rF9AwE3vx2hDJTNAoEi5ybPhMEDoJhZr33ErQPKDR111cyNAmRmc6P3qE0BU8qUphnzZv/pQPNr5DhnAUpS0nlDpKMCgvaZowMoywOlvLg3MFTnAG8oLrY8nJUCmPaCnux4kQHoN3GfgriFAxYyXlmOmG0AW/WabyScRQNcJFqxaNvA/Lo6F1LPCBsDkYZmlR8QcwEKdzwGZ0SfAdmd/o6/cMMCh0StZQ4H6P42Z/ym8ngdALa1K/DsADkCs8pr6dcQPQDf7p9L+cgxAOwAFi8fEA0ANq9lIP6zmP/zubTC+WPu/tLfMGArrEsCtFIJnyoogwFNs0m/GgB3ALNexhLD7EMBApa84UIP2vyWNP4jDwO8/K6Iii+iKBkBqC321PqcPQKY9EXb2SxFA7s4JBtP0DkAs3LoZkqIEQAnLOY1CsN4/RRK+60ZGMMCv/CAxZKwmwE4Z15oQ7xnATk8jpMro/r+3npRtL98AQIIkv/hVyxVAziijNcazH0DxccL6MdUiQJ+a0+E2ryNABqkGVLtYIkAIhzPJqsw4wBEuRg1lIDLAoCQlhVasJsDk3nQDadoSwIPOEfxEY/c/435wDBuxG0CikKWQcN4mQDqCfq2gmi1AJLEedQziMECBRBTp9JcxQITR9na2XEDAyt/p6vNuOMB1lyMNtKovwPFBu6doFR3Ag3gFXoXs7D+hD7IeWbUgQAaD6EL+iy1ARMx/I3PmM0CvAWOX/4c3QHrL2S/4hzlAHrzSRyjsQ8CH+FEsChg+wPm4CYvu2jPAtE6tkycRI8DMGdT8Q0rdP91li29wbiNATjq9UlbeMUCQVWXiq5c4QNtfOYTHoD1A0D2f7FtlQEDeoIYnBSJCQCPYRC2ZVj5A6SLTZhM5N0DcHeC0azwuQA54ErRzCRlA+DiYuU21CMDeWHJ/TkgpwP3oZ7M/GzbAZvm1cNAxP8AjmTUao9BDwEDfdj0RuDxA4H9sxIxSOECE50ujhukyQOd/+WWOQClASNy93M2JFkAAbVYnM9b9v8eZHj8DTyPAjDyujgSBMcDqFwrRCi45wI5XOGP3OUDAXR3tkqdeNEAhqXzGVagxQCQ7ydntPixAqHJ8/EytI0Axm3AT550TQPUu2J6jxOG/U98vRJeTGcACNGJEheYowET4cj/ojDLAY/GH0EWEOMCdXEBckN0mQDORY1/NCSVAGgS/DIn5IUBIXq8YpF0bQOdjIy9mbRBAZj6uoTSZ6j+c5hC7qFMHwDZDk60gLRzAvEu+Bs7jJsDiXXjPb/0vwPjs+UfaKAFATCK70J7NCECUBl26UzQNQM2xnuIj1A1A7rRi+MJDCkDbfO2nxkECQAaDCrky7eY/YLPd2zVf9r9TAW7TExUQwOrLFE76VRzALZu15xn5HMA0O1splZQRwMq0tvXDxPu/niY20SUb4z9l2UfH1skDQFeJA/FdQA5AotGB8fa5EUBJTThnznQRQF6vHXl/agxAmKUPgG0IAEAtacSuO3owwCPfZhKvhSfA2VYwKhQSHMDA475Qb6YDwOhkimCVePs/zHXsWg09FUCTrfNFlE4gQMxbMbQHOiRAOX08ImwwJkD7IS6PshgmQI+jhdIOTznAICa2TufLMsBEwQffMRgowJK2hHjhWhXAyVQqe8/F8D9mGsJxWGAbQKu3iBBZmydAggoBwqlvL0AIPU30cG0yQIlnID2Z0zNAa/It12zAQMDgCW4yG1A5wJO6mYGnrzDAdNMhYrjcH8DdxBOQxNbfPzTVhIIquCBAY6ki5RKbLkCnX1Fnqgw1QFZya1JLYDlAdlDR+9YfPECLxS0H3WxEwKWd3sBDJD/AWhyJrMfPNMCl/H0/lIYkwMTLuDQ2hLY/v8PrpruoI0C8TGddfJMyQPE/fS5d/DlABR+RGO/GP0BR+c6u9d5BQBQEOkxR60JAk+5l31RnP0BB7BTxIdk3QPa1mOxhxi5ALx5YnpYVGUA2glsev88JwFVWSTbAoSnAaKeu/V00NsA1+N4nbBs/wNH/WRHdoEPA4DkNl+z+PUCKWpFwFx45QKHU0z5GTTNAdc2jsepnKUBrotvJGgQWQJb+3listgDACIUQWvm1I8CcuWnp5JAxwAokjmZB/jjA+CusJSbrP8DgYM89wlY1QGYbnqP0LDJA04KoxfGMLEAGltbju3MjQF33vteGjhJAfCo4kvlS67/Wl+2hIGwawIoxfff46SjAlOgiGzI+MsAUi9ENTMw3wIcKgEY4LihAv7D0jXCFJUCk17NLidAhQClAZ+vJMRpAAVM0GpfCDUD01en6s1neP6dLeNUO9AjAWgPUkXbmG8Cp/7ozaP0lwJhI7QW2Iy7A0MrpGoj1A0B7HaphzZUIQFtu7vqJywpAcFrmEa0oCkD1dVuPKlUGQFVZ9qbjLP4/LvC6QstW4T+5mk6xIrfzv3CSUnoWQQvAfBGQQ+W5F8BWsFE+Z8EcwKsEvZQ5tBLAx7d8o7jrAcCeWJ5zBud/v2yyRgKqYP4/5r00UeTxCkCZdV6sNTsRQAMv3BY0mBJAnMRYdDlmEUCD5a5rUTcLQAXfqe3qsjDAT3MlryCMKMAgcyPL3c4ewOZQbe4qdgnAi2Vk5ktV8T9NFZDlHp0TQD5URU8INSBAlQGeHjwTJUCiqyQ8oDAoQDoj0+n7aSlAGY4k1HvHOcBTWjHEN4MzwN9bKibkwynAAmNqRuihGMDqAiveSI7YP/T4FmU54hlAQy7mApWzJ0BxMW6AVU0wQELauvCQpTNAPVVVJBXCNUDsUYGPRhhBwJiqlhPrMjrAHKSNQaijMcBV1f6NHrEhwDnA/QP7jcW/+CaIZK4XIEAt9ocG0fAuQDb0agfKzzVAUNz6qOHTOkCSY1YeOFY+QBG/h+1020TAg0f7EHAUQMB6WW3+ldg1wEBcHLwVVybAp5i149WL4b/TyrqRfTQjQOVQMmmt4jJATm2ZsD7xOkAJYYmlSLxAQCRp3dqSHkNAlcQ1NZOGQ0ARZbCEIxNAQKPKZsX/NDhAfF+IBVPpLkDte81xa6EYQA9Kl1O9PAvA+UWtsLPgKcCBMTdOcyc2wPYjQtGdxT7AY76E/rlEQ8DetZcwMfc+QNaTS8IdoTlABeR+JZtxM0BqCQdBgigpQDWVnZzv6xRAnAHaaosdA8CDCH4fPx0kwN0efwYVjDHAT0kJ+d+jOMC1XZexXyE/wDRrp7wuDzZAHf3WUoRzMkCnlBiYhmcsQJNrynbu1CJAA34laN7bEECaZs4/VTj0v3FITKQKfBvA1zSAauznKMDG1x9Ml9oxwCCtQ/E17DbApjljQ2YfKUDG/u8np5slQGRGvrbxQCFA8At146dAGEBMFp6YzUQJQJ5pVN6Drp2/S9gu3ZRxC8CjBEON2N0bwNLNT8awGSXAAqQJhfssLMDwWY2excgFQNZHgQmTJwdA0X9o2rD/BkDO8KIKSwAFQMCjsDBx5ABAKAQKjB7z9D8m9flo5FPKP89zEPodLPO/mEVAYu4VB8By3uUmYUsTwKc9BKR4wxzAXWfj8ok+FMBgFyjrxB4HwGhboDQGT+m/90cRQ9/08T/QpBAeE+4FQMS7zI6Awg9ASjmSvR3sEkC6yn8lhd8TQL/eKP+snhJAO0q2NJDpMMANf73M4a8pwPdpmF/jASHA00uL8PtQEMAMM4UdZEfOP/e5A9kbAhFAl/g7etknH0CaLBaAq2ElQHsJdgHUqSlADQjiRug+LEDZPRZoEi46wBgL05egPTTANfBXBridK8BY5MD8Z44cwOd6dN5dKOC/M2oHlHBKF0BRsng1misnQLkdftnDjDBAyZ8ys5WFNECU6qqBZ1o3QPYsuITYX0HAmGQIpwYOO8CGzRajMagywLfFpW6JwiPABUFBXIUX8b/9onZ0TrgdQMtYTeJbjy5Ax8oo3UAtNkBEDBoqFtw7QAIsgDL9D0BAy5UqAR8zRcAvYM8QAo5AwGi33hUE7DbALBhQcJNyKMC9FMAwz9f2vz4Z9HM7GCJAtC6YpMbLMkDQ7xsGOnI7QMLo4FeZVkFA5PJQ45odREBzSURoFvVDQKtV9i9aTEBAnm4/+h1UOEA28hg5TbcuQNZX94fO1BdARyNJ34yqDMAcYmCsnvEpwL1PEs3b6zXAsivsp4cpPsC67CBP+LlCwMOlh96BpD9ARdZtcNDhOUBX7EAVuF4zQF6vXTV+lShAf2T1oWpqE0BG7FwFms0FwAIaEQPGcSTA9XOYvXxqMcB+qq0V5Bg4wEhpgPZCEz7AezlB/6WMNkDjKKAyJoMyQHwIaHGT4CtAhJ++1RzlIUAnC5mDR2ANQL7rMqDH6vu/dxL7nHaeHMAQLInubtEowPBgAlIGXTHAn0rI8OvhNcCDHsytvrwpQHUZOEaRXCVAroLDoh1eIECYbFx4oLQVQEsZCAeXtwNAx/lDXQVw5L++MKzalIUOwIu3wig2+BvA2zt50I8wJMDmmnnMuhcqwNR6dGDK2QZAatPyUZ7KBEChpkQNoCMCQBQGx+hNZv0/cwZeEMuR9D/zIhBiNO3iP9CBGR4/mdC/Ff+oCHBe9L/GgsGkFZEDwJ7cUmP1GQ7AqsUHKpDfHMDL2n2EVwwWwD5M3pzbIw3Aqne0d3ZT+79GfaRPsf7HP/AsAD5NBv8/Bh35lquWC0CJv1t0BoUSQIbACtBGqBVA43alB+cEF0AuiStVRxUxwGPjs6nc2yrABYNHHXnBIsAXtW3GgGYUwGj5D0Fc++i/X7Z6qI4jC0CsA1MBM/McQKuOFlezLSVA0Y4FWiadKkAPMo9PTJAuQEbU0rEUeTrAHGWOsvTvNMADQ+lT940twGWRFtq6eCDA2Hzf3Q41+b/Rf33h/bwTQPqoPt1LECZAb/F9hUx5MECazR5XyAw1QHbvbmB1lzhA6uodseeRQcD6YdEswdU7wNK2FiAnsTPAbZbtWSkLJsAly5KezUkBwCLBler6LBpAG9aGmvWBLUAKxfrtKCc2QOWLyLnhdjxAcTClcj27QEBhdkWnV25FwFQRzUHV+EDAcX0wC9r9N8BAwJMp48EqwBFZ6mzhFQTA4lFHDpBjIEBvW0N1g1MyQFXvt2VIgDtA+JD5sLqwQUBOouoq+ddEQK4WRW2XOURAcjUZ00FjQEDNP6AaO0A4QPysDUspRi5AEiZtC0ndFkAN+q/EZcANwK3hS4JgwCnAo/3eO0h5NcBZBYIXRkE9wPxrEk0n/0HAa4ag5pYGQED4d5gb6eg5QOIu9QgiHzNAsd7e+RjGJ0BdHO5wXq8RQNI4++WyagjASjxQCvKeJMCjk6hCwyMxwMx0zG2ZVzfAPtKCylm+PMDAkwU2UNY2QJ4S2StlZTJAejROvKMOK0BsFBJl0LwgQHcGYeyCeghATdt521wBAsBdTbbVdqkdwGF1cbrdlSjAYpCJAgvAMMD61Q0gc6s0wGJG4ek+FipA3yfAYtncJEAy6XBHCIAeQBydi48rwRJA7oQHieQE+z+4iCZNq+r0v71ERnWx7RDA29S8yrQUHMBBQGkVwjcjwPrvbbwV4SfAP1pDgP5uB0AfEiOzh9cBQM70/QPCOPk/4C+I6Yex7j9O9D7pN2jXPwGHhSokFcy/+nVpRNn66b+kcLCLss32v3bQDEaxjADAu/oGMNL2BcDOLCk0eO8cwEhNefqm7hfABVwvrLjIEcA7tADKTKMFwGVs+KsMSuu/QZJxVeop8D+vmOK6CkcGQMoLflTpgRFAFhhHTIDRFkByAZ3q584aQMglzA3WKzHA1JJl1Wr3K8CbT1xt4YokwJFVrcQRwxjAIjezNX6i/r8bNcOxBvwCQN9qK3lp9RlAw7QDXxCGJEBTKFjw9xErQA7Jd6F5LjBAgQKDXrSdOsCLcyy+aI01wAmUcQeleC/Acb5zsdvIIsCTqffYODEGwFPHpiV61g5AI8oMmLR1JECJvBTM0xkwQOrJssozPjVAhCX2wdV3OUA32HWf0ahBwDUEEMD3fDzAC6pVklWwNMC+NnX7M24owOFP6hF+JQvAqjrfcLO9FUAaUhwd0dsrQN7JjHjSwzVA6tY6GJWmPEAni9GkuStBQEg+oNVRh0XAgPuxcD5OQcAnG26R1f84wGouiI9oKC3AnhuFE1D1DcCO9+JFtVscQHqlJxrzgjFAi8IvfAwhO0AAp7EibstBQPXpyl0VTEVAh0jOd99XREDO6kQAr1xAQP+qJWpyBDhApycqJ5StLUA7KhyKFuoVQA8D76BJJg7AIO9YiSE6KcBAxZSgm8g0wHquO+20CDzAeIZ8nPoTQcB8gFgKsBxAQJzUTk3DwDlA9nql47i+MkDtUQnBnNMmQFmHbhCN2g9AX9tBpJOWCsDhgUXdepAkwMSkzqcrsDDA/v/+u1tbNsCwnhDFsSE7wF4qJgrt9DZAy1DQ6kclMkAAikq47AoqQKf42J+x7R5AjuU+BXxxA0A6Wbb6/dsFwCdcnunPcR7AreHwhJgkKMBgt+02GP0vwIH5kyiIRzPAnnsPQYA+KkDoOOOvzDMkQHrJPQFnAhxAs5yGyGI9D0DEoPRnyVfsP1RhgFgDvP+/MS4rwuKLEsArH8K6CxAcwDnknHFJJCLAOD+0mvyFJcDZl6PC1dYHQK/lcEITYP0/oCE4qvFj6z+kKLRmbG2oPy9KJBEb5+K/+/hElOAc8b98GvqlT3z2v7Jk9eL55fm/h/NczGa0+78xgYQV6j78v0thw2oqyhzA2Eo52aSyGcCB5W0CMvoUwDQIDkGfxg3AO/tUuP8G/7/Lj/lq2QWFP1TXT4cVNgBAg5eCYQ0JEEDDFcLbZ3MXQGjLXQ0nBB5AOWXCzZkiMcB3oF4oVegswPyUA9KCQCbAhropxCooHcAgb+uPaNYIwDUbHNyjA/Q/qvek39VgFkBlzxjyUX4jQNhM51unFCtAVcBiu1fUMECnDIstA5E6wOcEcqmUCDbArnfIg8mfMMCJ7ekwyhclwGMkMwH1JxDAFLownyAgBUCKcU0MS3UiQPhYDFtu8C5AzQRPSwwgNUAmF3a5ZP05QHbKzV8Fn0HAtlzz6BL2PMCufoK3fJY1wOlqT6GayyrACrgmEuvPEsDV0U4ajKUQQFz3tcNltilA1euIcw4NNUAeU8esSnE8QI+BPDpMYkFAHtOq9294RcB4dt7baYdBwDJwgoGw4jnAKFOCtx6GL8AoJb/a2kUUwNwXHtvdKBdAzAt6OqtmMEA0v2zsJl46QCVk0vmjqUFAiEg10Kh6RUCCBidHU1REQGCdGk3cPUBA4pAj/zesN0Bz73lS+gQtQNbntoAAKBVANE5h4QWNDcAjNxXeMk8owKGaxZrD1DPAVc/EkSl+OsCTrNXeKvM/wPkaYlwbGUBA7ny0ql50OUAifZGmq0kyQNESt9s+1yVAPC81TwaqDEBW7WTjGvkLwP9yGyFZNCTAU1nMAHMJMMAV5yiTVSE1wCRh2cx1PjnAT8YIfOTxNkBLmUtaTM4xQIRKasUn7yhAB3qKHzJcHECmAhv7bl39P9qg2jyXJAnAfyjr2erOHsAxRa2bx24nwBA91KUbKS7A/7t3Qzu2McB2XxfVzkgqQKc641xGeSNAF1uopT55GUAVqZpgGAwJQNIrWS/pWbw/c9PLklPtBMBkhevWf/ATwFm3d80fyBvAa3OdmPfrIMCVc5QyaQQjwDGoGisHYAhAKVgS4g1t9z+SCfhKsJjEPx1tYAi/1uq/x8N3EKBo+L+z2W99I3j+v7raF5bD3/+/zUXsG28O/b/iTqdCKJH2vz/927hnDuq/iIVfDMJHHMAN+zcL8SUbwGHzUM+D7BfAl1ycXOzLEsD3RmQXOBYIwAB8Be2JDPC/R2/fQ8qY8z8wUj67sogMQJCqOHRJqhdAAwhlYkVYIEDx+WW0hu8wwAXtP2b+lC3A/CRN08DEJ8CyXHcK/6ogwEdtKtFvJhHAcRbU0yIWtj+CQdZXv2wSQMDZwuMDLSJAlsygKwO1KkDajeDOkD0xQHggfyPzSDrAWxmmBIpUNsAZAgfMVWIxwGRXMOXvRCfAgRB3DdE4FcDilj5Tx631PyZgd2LkKyBA1+UwgsdALUBTCqpy6ro0QHjyvrGpLDpAXjZ+k4NvQcBQ+7+MHDQ9wPYlHyBzVDbAX4DIDV0CLcBIgj0gxhgYwOR8nW7rSwZAaRX31GYvJ0BSHePjRw80QNoUlPwk4DtAqYBpTYJhQUA/rbY8wzxFwHDUFjHlnUHAY2hXWUKXOsCMKhGS8twwwFMbfi9fqBnAuvf/YtNwEUDPqnKqjxsuQJGHhixURDlAGjYVAR1QQUABwE4QdmZFQJpttcF+M0RAxhp91+0LQEBviYtxVkI3QLzt9Ul/YSxAgkSUsmO9FECLE99CvrULwGU6CFjH9CbAEuUwBXmbMsBKxNyBEaM4wDNio/WLZT3A2TuHR2oAQEB8rJnhXg45QBmRlmptyzFALSg99gLoJEBY6LE9ZCMKQIiku/4xSAzAnA9GFJh8I8D46CPeOlcuwJtO5gErqTPAQ6sPmnAYN8BPvJQ+VNY2QAYF70thazFAc0vcsGzTJ0C2ftyqsPYZQHanxKIiI/U/DblFqCKGC8AdnGuBpp4ewBvohHgNaSbA1szjMdD/K8AQg/TW+/IvwNLGtfQ8RypAn6+aQpjDIkC5PCRr2hYXQNNz2CMTWANAOVC/Pg+84r9Oiact0kMJwBI1Ezdk8xTAAJ137pEfG8DU4vOG4A0fwGaYeFGPXCDAAjTgGsRRCUDtEzWtFovyPwNXJEQnTt2/nFzX979U+r+3XplpuhIDwOJpCPz2YAXAXWKnjDY4BMCRYgKjJbj/v46VrsZRVfG/PH0yW4RKvT/9nyqOZ0UbwJeP1ijrGhzAJtE66yFqGsCfDaJsPlEWwMd/A2XfCRDAzjKnU4GV/7+bq5SdkYHbP5Piaqf5ughAjf2PtjiTF0DYtFMi33AhQPolfzojijDAJ/1lMo3mLcCE4ylqSfwowF58BW4aiCLAwjoAhc2bFcBuUjvJmvrwv6F7BUQBogxAMwsEUrWpIEDjQc2OlAQqQLBr6pMqbzFAwlmv3lG9OcAg5I2X6WU2wIxgpuog9jHAlpilP1ExKcD+XGATKAoawLj2rx7N4a4/3zCEiPtuG0BFFIjwqD4rQIBEb//qGDRATKouzB8MOkDyLzdcWxZBwExeb8TUKz3ANDetaE7cNsDtGCjo7/IuwAS8uLtaKh3Ar9fBPxQI9j/3Fe6Mh2YkQDPFnNR+2DJAhBWeqmr+OkABqCC6PS1BQCYiCjiH0ETAfCIv5iiMQcB4Sj/Wpg87wLFKkwzy0THANGlpTfPdHsDXkW08UPEGQOXTxgyZEStAgzecJmbiN0A0m5iN98RAQJAYHcfpE0VAPZEF46b5Q0CkO0D9+pY/QJbk9J0C0DZAaxaD/SnUK0Bp5NyBsMYUQGmKhtZieAjAAQZYp2AmJcCbmFTT1x0xwNarS7xlfDbASf9bH1WIOsBn3Xeiga0/QN1PXdMdmDhAEiebLcBNMUC/qQqw0BgkQNOx7+LwiQhAf0Mpvr9OC8DPntjy5GAiwLWFk5VAKyzABRB4CYD1McBXZVpCarY0wFtp/oAtqjZAIFZaPvMFMUBB3yEiN8wmQFFy1seE5hdAa11E76Kd7T9ebXFarr4MwLFRV8e4yB3AWssm5P4MJcA31em8v4EpwCJpsG8nKyzA+VdNPttIKkBQImWJmyUiQE46Z/fXBRVANdP+4RL1/D9zSbPqGJHyv3yjo1oXkwzAV58iycV0FcDTT2RF9AAawFQX8o0A4hvAlN3VrcgjG8CNNtEwkuQKQJUkOKrJn+4/E+S1qguk7r+EoB/6O50CwMvXJgMP9QjAdw7Pg92iCsA3Ai7cG8kHwKIH4rP5tQDA9ZdIhi905787pw+SFmHwP6RfXHLjqBnAiTYGkKhsHMBmFMgUB0YcwIwTYRwbQRnAg9pyTvGJE8DWLoMyGNMGwC78dzZkFtS/ejxspHz0BEClNZZq3EgXQCeFeZlKUiJAqja+8NfYL8DTdcS56cotwFEAwqw60CnAvlBlfjURJMDr7bLCiJMZwNUlAsm6GAHAII9nnJCDBEC0iokTChYeQO0sLLLnFClAHrZ4SqluMUBFFO+Mqug4wAb/AGbiMzbA/0ok7J1PMsAcdKQZ1MEqwG21PVsJYR7Ad19HeyDz8r+IFV8hEWoWQEd8OpEZBClAlPnzG8ZEM0D0PpIBcaM5QBEHNQEakUDApfwB7K/UPMDoYnYgeSI3wDQOcUjEQDDA+PJYQozjIMDhn6rcLPZ4v8/8FnU3eyFA8cHnhDl3MUDMWobfktg5QMSpDaVMykBABNKHxI8xRMAIEiEyFk5BwBXO6z5TQDvAVRoVLu2TMsA+ioDkftMhwMA3AYAXDvY/YmFS5fnQJ0D2uhUoLkg2QNDzyWExD0BAVKkGUK2IREA=",
          "dtype": "f8"
         },
         "w": {
          "bdata": "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",
          "dtype": "f8"
         },
         "x": {
          "bdata": "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",
          "dtype": "f8"
         },
         "y": {
          "bdata": "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",
          "dtype": "f8"
         },
         "z": {
          "bdata": "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",
          "dtype": "f8"
         }
        }
       ],
       "layout": {
        "scene": {
         "xaxis": {
          "title": {
           "text": "X"
          }
         },
         "yaxis": {
          "title": {
           "text": "Y"
          }
         },
         "zaxis": {
          "title": {
           "text": "Z"
          }
         }
        },
        "template": {
         "data": {
          "bar": [
           {
            "error_x": {
             "color": "#2a3f5f"
            },
            "error_y": {
             "color": "#2a3f5f"
            },
            "marker": {
             "line": {
              "color": "#E5ECF6",
              "width": 0.5
             },
             "pattern": {
              "fillmode": "overlay",
              "size": 10,
              "solidity": 0.2
             }
            },
            "type": "bar"
           }
          ],
          "barpolar": [
           {
            "marker": {
             "line": {
              "color": "#E5ECF6",
              "width": 0.5
             },
             "pattern": {
              "fillmode": "overlay",
              "size": 10,
              "solidity": 0.2
             }
            },
            "type": "barpolar"
           }
          ],
          "carpet": [
           {
            "aaxis": {
             "endlinecolor": "#2a3f5f",
             "gridcolor": "white",
             "linecolor": "white",
             "minorgridcolor": "white",
             "startlinecolor": "#2a3f5f"
            },
            "baxis": {
             "endlinecolor": "#2a3f5f",
             "gridcolor": "white",
             "linecolor": "white",
             "minorgridcolor": "white",
             "startlinecolor": "#2a3f5f"
            },
            "type": "carpet"
           }
          ],
          "choropleth": [
           {
            "colorbar": {
             "outlinewidth": 0,
             "ticks": ""
            },
            "type": "choropleth"
           }
          ],
          "contour": [
           {
            "colorbar": {
             "outlinewidth": 0,
             "ticks": ""
            },
            "colorscale": [
             [
              0,
              "#0d0887"
             ],
             [
              0.1111111111111111,
              "#46039f"
             ],
             [
              0.2222222222222222,
              "#7201a8"
             ],
             [
              0.3333333333333333,
              "#9c179e"
             ],
             [
              0.4444444444444444,
              "#bd3786"
             ],
             [
              0.5555555555555556,
              "#d8576b"
             ],
             [
              0.6666666666666666,
              "#ed7953"
             ],
             [
              0.7777777777777778,
              "#fb9f3a"
             ],
             [
              0.8888888888888888,
              "#fdca26"
             ],
             [
              1,
              "#f0f921"
             ]
            ],
            "type": "contour"
           }
          ],
          "contourcarpet": [
           {
            "colorbar": {
             "outlinewidth": 0,
             "ticks": ""
            },
            "type": "contourcarpet"
           }
          ],
          "heatmap": [
           {
            "colorbar": {
             "outlinewidth": 0,
             "ticks": ""
            },
            "colorscale": [
             [
              0,
              "#0d0887"
             ],
             [
              0.1111111111111111,
              "#46039f"
             ],
             [
              0.2222222222222222,
              "#7201a8"
             ],
             [
              0.3333333333333333,
              "#9c179e"
             ],
             [
              0.4444444444444444,
              "#bd3786"
             ],
             [
              0.5555555555555556,
              "#d8576b"
             ],
             [
              0.6666666666666666,
              "#ed7953"
             ],
             [
              0.7777777777777778,
              "#fb9f3a"
             ],
             [
              0.8888888888888888,
              "#fdca26"
             ],
             [
              1,
              "#f0f921"
             ]
            ],
            "type": "heatmap"
           }
          ],
          "histogram": [
           {
            "marker": {
             "pattern": {
              "fillmode": "overlay",
              "size": 10,
              "solidity": 0.2
             }
            },
            "type": "histogram"
           }
          ],
          "histogram2d": [
           {
            "colorbar": {
             "outlinewidth": 0,
             "ticks": ""
            },
            "colorscale": [
             [
              0,
              "#0d0887"
             ],
             [
              0.1111111111111111,
              "#46039f"
             ],
             [
              0.2222222222222222,
              "#7201a8"
             ],
             [
              0.3333333333333333,
              "#9c179e"
             ],
             [
              0.4444444444444444,
              "#bd3786"
             ],
             [
              0.5555555555555556,
              "#d8576b"
             ],
             [
              0.6666666666666666,
              "#ed7953"
             ],
             [
              0.7777777777777778,
              "#fb9f3a"
             ],
             [
              0.8888888888888888,
              "#fdca26"
             ],
             [
              1,
              "#f0f921"
             ]
            ],
            "type": "histogram2d"
           }
          ],
          "histogram2dcontour": [
           {
            "colorbar": {
             "outlinewidth": 0,
             "ticks": ""
            },
            "colorscale": [
             [
              0,
              "#0d0887"
             ],
             [
              0.1111111111111111,
              "#46039f"
             ],
             [
              0.2222222222222222,
              "#7201a8"
             ],
             [
              0.3333333333333333,
              "#9c179e"
             ],
             [
              0.4444444444444444,
              "#bd3786"
             ],
             [
              0.5555555555555556,
              "#d8576b"
             ],
             [
              0.6666666666666666,
              "#ed7953"
             ],
             [
              0.7777777777777778,
              "#fb9f3a"
             ],
             [
              0.8888888888888888,
              "#fdca26"
             ],
             [
              1,
              "#f0f921"
             ]
            ],
            "type": "histogram2dcontour"
           }
          ],
          "mesh3d": [
           {
            "colorbar": {
             "outlinewidth": 0,
             "ticks": ""
            },
            "type": "mesh3d"
           }
          ],
          "parcoords": [
           {
            "line": {
             "colorbar": {
              "outlinewidth": 0,
              "ticks": ""
             }
            },
            "type": "parcoords"
           }
          ],
          "pie": [
           {
            "automargin": true,
            "type": "pie"
           }
          ],
          "scatter": [
           {
            "fillpattern": {
             "fillmode": "overlay",
             "size": 10,
             "solidity": 0.2
            },
            "type": "scatter"
           }
          ],
          "scatter3d": [
           {
            "line": {
             "colorbar": {
              "outlinewidth": 0,
              "ticks": ""
             }
            },
            "marker": {
             "colorbar": {
              "outlinewidth": 0,
              "ticks": ""
             }
            },
            "type": "scatter3d"
           }
          ],
          "scattercarpet": [
           {
            "marker": {
             "colorbar": {
              "outlinewidth": 0,
              "ticks": ""
             }
            },
            "type": "scattercarpet"
           }
          ],
          "scattergeo": [
           {
            "marker": {
             "colorbar": {
              "outlinewidth": 0,
              "ticks": ""
             }
            },
            "type": "scattergeo"
           }
          ],
          "scattergl": [
           {
            "marker": {
             "colorbar": {
              "outlinewidth": 0,
              "ticks": ""
             }
            },
            "type": "scattergl"
           }
          ],
          "scattermap": [
           {
            "marker": {
             "colorbar": {
              "outlinewidth": 0,
              "ticks": ""
             }
            },
            "type": "scattermap"
           }
          ],
          "scattermapbox": [
           {
            "marker": {
             "colorbar": {
              "outlinewidth": 0,
              "ticks": ""
             }
            },
            "type": "scattermapbox"
           }
          ],
          "scatterpolar": [
           {
            "marker": {
             "colorbar": {
              "outlinewidth": 0,
              "ticks": ""
             }
            },
            "type": "scatterpolar"
           }
          ],
          "scatterpolargl": [
           {
            "marker": {
             "colorbar": {
              "outlinewidth": 0,
              "ticks": ""
             }
            },
            "type": "scatterpolargl"
           }
          ],
          "scatterternary": [
           {
            "marker": {
             "colorbar": {
              "outlinewidth": 0,
              "ticks": ""
             }
            },
            "type": "scatterternary"
           }
          ],
          "surface": [
           {
            "colorbar": {
             "outlinewidth": 0,
             "ticks": ""
            },
            "colorscale": [
             [
              0,
              "#0d0887"
             ],
             [
              0.1111111111111111,
              "#46039f"
             ],
             [
              0.2222222222222222,
              "#7201a8"
             ],
             [
              0.3333333333333333,
              "#9c179e"
             ],
             [
              0.4444444444444444,
              "#bd3786"
             ],
             [
              0.5555555555555556,
              "#d8576b"
             ],
             [
              0.6666666666666666,
              "#ed7953"
             ],
             [
              0.7777777777777778,
              "#fb9f3a"
             ],
             [
              0.8888888888888888,
              "#fdca26"
             ],
             [
              1,
              "#f0f921"
             ]
            ],
            "type": "surface"
           }
          ],
          "table": [
           {
            "cells": {
             "fill": {
              "color": "#EBF0F8"
             },
             "line": {
              "color": "white"
             }
            },
            "header": {
             "fill": {
              "color": "#C8D4E3"
             },
             "line": {
              "color": "white"
             }
            },
            "type": "table"
           }
          ]
         },
         "layout": {
          "annotationdefaults": {
           "arrowcolor": "#2a3f5f",
           "arrowhead": 0,
           "arrowwidth": 1
          },
          "autotypenumbers": "strict",
          "coloraxis": {
           "colorbar": {
            "outlinewidth": 0,
            "ticks": ""
           }
          },
          "colorscale": {
           "diverging": [
            [
             0,
             "#8e0152"
            ],
            [
             0.1,
             "#c51b7d"
            ],
            [
             0.2,
             "#de77ae"
            ],
            [
             0.3,
             "#f1b6da"
            ],
            [
             0.4,
             "#fde0ef"
            ],
            [
             0.5,
             "#f7f7f7"
            ],
            [
             0.6,
             "#e6f5d0"
            ],
            [
             0.7,
             "#b8e186"
            ],
            [
             0.8,
             "#7fbc41"
            ],
            [
             0.9,
             "#4d9221"
            ],
            [
             1,
             "#276419"
            ]
           ],
           "sequential": [
            [
             0,
             "#0d0887"
            ],
            [
             0.1111111111111111,
             "#46039f"
            ],
            [
             0.2222222222222222,
             "#7201a8"
            ],
            [
             0.3333333333333333,
             "#9c179e"
            ],
            [
             0.4444444444444444,
             "#bd3786"
            ],
            [
             0.5555555555555556,
             "#d8576b"
            ],
            [
             0.6666666666666666,
             "#ed7953"
            ],
            [
             0.7777777777777778,
             "#fb9f3a"
            ],
            [
             0.8888888888888888,
             "#fdca26"
            ],
            [
             1,
             "#f0f921"
            ]
           ],
           "sequentialminus": [
            [
             0,
             "#0d0887"
            ],
            [
             0.1111111111111111,
             "#46039f"
            ],
            [
             0.2222222222222222,
             "#7201a8"
            ],
            [
             0.3333333333333333,
             "#9c179e"
            ],
            [
             0.4444444444444444,
             "#bd3786"
            ],
            [
             0.5555555555555556,
             "#d8576b"
            ],
            [
             0.6666666666666666,
             "#ed7953"
            ],
            [
             0.7777777777777778,
             "#fb9f3a"
            ],
            [
             0.8888888888888888,
             "#fdca26"
            ],
            [
             1,
             "#f0f921"
            ]
           ]
          },
          "colorway": [
           "#636efa",
           "#EF553B",
           "#00cc96",
           "#ab63fa",
           "#FFA15A",
           "#19d3f3",
           "#FF6692",
           "#B6E880",
           "#FF97FF",
           "#FECB52"
          ],
          "font": {
           "color": "#2a3f5f"
          },
          "geo": {
           "bgcolor": "white",
           "lakecolor": "white",
           "landcolor": "#E5ECF6",
           "showlakes": true,
           "showland": true,
           "subunitcolor": "white"
          },
          "hoverlabel": {
           "align": "left"
          },
          "hovermode": "closest",
          "mapbox": {
           "style": "light"
          },
          "paper_bgcolor": "white",
          "plot_bgcolor": "#E5ECF6",
          "polar": {
           "angularaxis": {
            "gridcolor": "white",
            "linecolor": "white",
            "ticks": ""
           },
           "bgcolor": "#E5ECF6",
           "radialaxis": {
            "gridcolor": "white",
            "linecolor": "white",
            "ticks": ""
           }
          },
          "scene": {
           "xaxis": {
            "backgroundcolor": "#E5ECF6",
            "gridcolor": "white",
            "gridwidth": 2,
            "linecolor": "white",
            "showbackground": true,
            "ticks": "",
            "zerolinecolor": "white"
           },
           "yaxis": {
            "backgroundcolor": "#E5ECF6",
            "gridcolor": "white",
            "gridwidth": 2,
            "linecolor": "white",
            "showbackground": true,
            "ticks": "",
            "zerolinecolor": "white"
           },
           "zaxis": {
            "backgroundcolor": "#E5ECF6",
            "gridcolor": "white",
            "gridwidth": 2,
            "linecolor": "white",
            "showbackground": true,
            "ticks": "",
            "zerolinecolor": "white"
           }
          },
          "shapedefaults": {
           "line": {
            "color": "#2a3f5f"
           }
          },
          "ternary": {
           "aaxis": {
            "gridcolor": "white",
            "linecolor": "white",
            "ticks": ""
           },
           "baxis": {
            "gridcolor": "white",
            "linecolor": "white",
            "ticks": ""
           },
           "bgcolor": "#E5ECF6",
           "caxis": {
            "gridcolor": "white",
            "linecolor": "white",
            "ticks": ""
           }
          },
          "title": {
           "x": 0.05
          },
          "xaxis": {
           "automargin": true,
           "gridcolor": "white",
           "linecolor": "white",
           "ticks": "",
           "title": {
            "standoff": 15
           },
           "zerolinecolor": "white",
           "zerolinewidth": 2
          },
          "yaxis": {
           "automargin": true,
           "gridcolor": "white",
           "linecolor": "white",
           "ticks": "",
           "title": {
            "standoff": 15
           },
           "zerolinecolor": "white",
           "zerolinewidth": 2
          }
         }
        },
        "title": {
         "text": "Div free output from GP Regression for n = 100 input vectors for current carrying coil"
        }
       }
      }
     },
     "metadata": {},
     "output_type": "display_data"
    }
   ],
   "source": [
    "plotter(outputs_coil_div_free, \n",
    "        title = f'Div free output from GP Regression for n = {given_samples_coil} input vectors for current carrying coil')"
   ]
  },
  {
   "cell_type": "code",
   "execution_count": 20,
   "id": "b7e7a1bb",
   "metadata": {},
   "outputs": [
    {
     "name": "stdout",
     "output_type": "stream",
     "text": [
      "MSE for this case of 20.614333604296107\n"
     ]
    },
    {
     "data": {
      "application/vnd.plotly.v1+json": {
       "config": {
        "plotlyServerURL": "https://plot.ly"
       },
       "data": [
        {
         "anchor": "tail",
         "sizemode": "scaled",
         "sizeref": 2,
         "type": "cone",
         "u": {
          "bdata": "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",
          "dtype": "f8"
         },
         "v": {
          "bdata": "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",
          "dtype": "f8"
         },
         "w": {
          "bdata": "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",
          "dtype": "f8"
         },
         "x": {
          "bdata": "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",
          "dtype": "f8"
         },
         "y": {
          "bdata": "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",
          "dtype": "f8"
         },
         "z": {
          "bdata": "AAAAAAAA4L85juM4juPYv3Icx3Ecx9G/VlVVVVVVxb8gx3Ecx3GsvyDHcRzHcaw/VFVVVVVVxT9wHMdxHMfRPziO4ziO49g/AAAAAAAA4D8AAAAAAADgvzmO4ziO49i/chzHcRzH0b9WVVVVVVXFvyDHcRzHcay/IMdxHMdxrD9UVVVVVVXFP3Acx3Ecx9E/OI7jOI7j2D8AAAAAAADgPwAAAAAAAOC/OY7jOI7j2L9yHMdxHMfRv1ZVVVVVVcW/IMdxHMdxrL8gx3Ecx3GsP1RVVVVVVcU/cBzHcRzH0T84juM4juPYPwAAAAAAAOA/AAAAAAAA4L85juM4juPYv3Icx3Ecx9G/VlVVVVVVxb8gx3Ecx3GsvyDHcRzHcaw/VFVVVVVVxT9wHMdxHMfRPziO4ziO49g/AAAAAAAA4D8AAAAAAADgvzmO4ziO49i/chzHcRzH0b9WVVVVVVXFvyDHcRzHcay/IMdxHMdxrD9UVVVVVVXFP3Acx3Ecx9E/OI7jOI7j2D8AAAAAAADgPwAAAAAAAOC/OY7jOI7j2L9yHMdxHMfRv1ZVVVVVVcW/IMdxHMdxrL8gx3Ecx3GsP1RVVVVVVcU/cBzHcRzH0T84juM4juPYPwAAAAAAAOA/AAAAAAAA4L85juM4juPYv3Icx3Ecx9G/VlVVVVVVxb8gx3Ecx3GsvyDHcRzHcaw/VFVVVVVVxT9wHMdxHMfRPziO4ziO49g/AAAAAAAA4D8AAAAAAADgvzmO4ziO49i/chzHcRzH0b9WVVVVVVXFvyDHcRzHcay/IMdxHMdxrD9UVVVVVVXFP3Acx3Ecx9E/OI7jOI7j2D8AAAAAAADgPwAAAAAAAOC/OY7jOI7j2L9yHMdxHMfRv1ZVVVVVVcW/IMdxHMdxrL8gx3Ecx3GsP1RVVVVVVcU/cBzHcRzH0T84juM4juPYPwAAAAAAAOA/AAAAAAAA4L85juM4juPYv3Icx3Ecx9G/VlVVVVVVxb8gx3Ecx3GsvyDHcRzHcaw/VFVVVVVVxT9wHMdxHMfRPziO4ziO49g/AAAAAAAA4D8AAAAAAADgvzmO4ziO49i/chzHcRzH0b9WVVVVVVXFvyDHcRzHcay/IMdxHMdxrD9UVVVVVVXFP3Acx3Ecx9E/OI7jOI7j2D8AAAAAAADgPwAAAAAAAOC/OY7jOI7j2L9yHMdxHMfRv1ZVVVVVVcW/IMdxHMdxrL8gx3Ecx3GsP1RVVVVVVcU/cBzHcRzH0T84juM4juPYPwAAAAAAAOA/AAAAAAAA4L85juM4juPYv3Icx3Ecx9G/VlVVVVVVxb8gx3Ecx3GsvyDHcRzHcaw/VFVVVVVVxT9wHMdxHMfRPziO4ziO49g/AAAAAAAA4D8AAAAAAADgvzmO4ziO49i/chzHcRzH0b9WVVVVVVXFvyDHcRzHcay/IMdxHMdxrD9UVVVVVVXFP3Acx3Ecx9E/OI7jOI7j2D8AAAAAAADgPwAAAAAAAOC/OY7jOI7j2L9yHMdxHMfRv1ZVVVVVVcW/IMdxHMdxrL8gx3Ecx3GsP1RVVVVVVcU/cBzHcRzH0T84juM4juPYPwAAAAAAAOA/AAAAAAAA4L85juM4juPYv3Icx3Ecx9G/VlVVVVVVxb8gx3Ecx3GsvyDHcRzHcaw/VFVVVVVVxT9wHMdxHMfRPziO4ziO49g/AAAAAAAA4D8AAAAAAADgvzmO4ziO49i/chzHcRzH0b9WVVVVVVXFvyDHcRzHcay/IMdxHMdxrD9UVVVVVVXFP3Acx3Ecx9E/OI7jOI7j2D8AAAAAAADgPwAAAAAAAOC/OY7jOI7j2L9yHMdxHMfRv1ZVVVVVVcW/IMdxHMdxrL8gx3Ecx3GsP1RVVVVVVcU/cBzHcRzH0T84juM4juPYPwAAAAAAAOA/AAAAAAAA4L85juM4juPYv3Icx3Ecx9G/VlVVVVVVxb8gx3Ecx3GsvyDHcRzHcaw/VFVVVVVVxT9wHMdxHMfRPziO4ziO49g/AAAAAAAA4D8AAAAAAADgvzmO4ziO49i/chzHcRzH0b9WVVVVVVXFvyDHcRzHcay/IMdxHMdxrD9UVVVVVVXFP3Acx3Ecx9E/OI7jOI7j2D8AAAAAAADgPwAAAAAAAOC/OY7jOI7j2L9yHMdxHMfRv1ZVVVVVVcW/IMdxHMdxrL8gx3Ecx3GsP1RVVVVVVcU/cBzHcRzH0T84juM4juPYPwAAAAAAAOA/AAAAAAAA4L85juM4juPYv3Icx3Ecx9G/VlVVVVVVxb8gx3Ecx3GsvyDHcRzHcaw/VFVVVVVVxT9wHMdxHMfRPziO4ziO49g/AAAAAAAA4D8AAAAAAADgvzmO4ziO49i/chzHcRzH0b9WVVVVVVXFvyDHcRzHcay/IMdxHMdxrD9UVVVVVVXFP3Acx3Ecx9E/OI7jOI7j2D8AAAAAAADgPwAAAAAAAOC/OY7jOI7j2L9yHMdxHMfRv1ZVVVVVVcW/IMdxHMdxrL8gx3Ecx3GsP1RVVVVVVcU/cBzHcRzH0T84juM4juPYPwAAAAAAAOA/AAAAAAAA4L85juM4juPYv3Icx3Ecx9G/VlVVVVVVxb8gx3Ecx3GsvyDHcRzHcaw/VFVVVVVVxT9wHMdxHMfRPziO4ziO49g/AAAAAAAA4D8AAAAAAADgvzmO4ziO49i/chzHcRzH0b9WVVVVVVXFvyDHcRzHcay/IMdxHMdxrD9UVVVVVVXFP3Acx3Ecx9E/OI7jOI7j2D8AAAAAAADgPwAAAAAAAOC/OY7jOI7j2L9yHMdxHMfRv1ZVVVVVVcW/IMdxHMdxrL8gx3Ecx3GsP1RVVVVVVcU/cBzHcRzH0T84juM4juPYPwAAAAAAAOA/AAAAAAAA4L85juM4juPYv3Icx3Ecx9G/VlVVVVVVxb8gx3Ecx3GsvyDHcRzHcaw/VFVVVVVVxT9wHMdxHMfRPziO4ziO49g/AAAAAAAA4D8AAAAAAADgvzmO4ziO49i/chzHcRzH0b9WVVVVVVXFvyDHcRzHcay/IMdxHMdxrD9UVVVVVVXFP3Acx3Ecx9E/OI7jOI7j2D8AAAAAAADgPwAAAAAAAOC/OY7jOI7j2L9yHMdxHMfRv1ZVVVVVVcW/IMdxHMdxrL8gx3Ecx3GsP1RVVVVVVcU/cBzHcRzH0T84juM4juPYPwAAAAAAAOA/AAAAAAAA4L85juM4juPYv3Icx3Ecx9G/VlVVVVVVxb8gx3Ecx3GsvyDHcRzHcaw/VFVVVVVVxT9wHMdxHMfRPziO4ziO49g/AAAAAAAA4D8AAAAAAADgvzmO4ziO49i/chzHcRzH0b9WVVVVVVXFvyDHcRzHcay/IMdxHMdxrD9UVVVVVVXFP3Acx3Ecx9E/OI7jOI7j2D8AAAAAAADgPwAAAAAAAOC/OY7jOI7j2L9yHMdxHMfRv1ZVVVVVVcW/IMdxHMdxrL8gx3Ecx3GsP1RVVVVVVcU/cBzHcRzH0T84juM4juPYPwAAAAAAAOA/AAAAAAAA4L85juM4juPYv3Icx3Ecx9G/VlVVVVVVxb8gx3Ecx3GsvyDHcRzHcaw/VFVVVVVVxT9wHMdxHMfRPziO4ziO49g/AAAAAAAA4D8AAAAAAADgvzmO4ziO49i/chzHcRzH0b9WVVVVVVXFvyDHcRzHcay/IMdxHMdxrD9UVVVVVVXFP3Acx3Ecx9E/OI7jOI7j2D8AAAAAAADgPwAAAAAAAOC/OY7jOI7j2L9yHMdxHMfRv1ZVVVVVVcW/IMdxHMdxrL8gx3Ecx3GsP1RVVVVVVcU/cBzHcRzH0T84juM4juPYPwAAAAAAAOA/AAAAAAAA4L85juM4juPYv3Icx3Ecx9G/VlVVVVVVxb8gx3Ecx3GsvyDHcRzHcaw/VFVVVVVVxT9wHMdxHMfRPziO4ziO49g/AAAAAAAA4D8AAAAAAADgvzmO4ziO49i/chzHcRzH0b9WVVVVVVXFvyDHcRzHcay/IMdxHMdxrD9UVVVVVVXFP3Acx3Ecx9E/OI7jOI7j2D8AAAAAAADgPwAAAAAAAOC/OY7jOI7j2L9yHMdxHMfRv1ZVVVVVVcW/IMdxHMdxrL8gx3Ecx3GsP1RVVVVVVcU/cBzHcRzH0T84juM4juPYPwAAAAAAAOA/AAAAAAAA4L85juM4juPYv3Icx3Ecx9G/VlVVVVVVxb8gx3Ecx3GsvyDHcRzHcaw/VFVVVVVVxT9wHMdxHMfRPziO4ziO49g/AAAAAAAA4D8AAAAAAADgvzmO4ziO49i/chzHcRzH0b9WVVVVVVXFvyDHcRzHcay/IMdxHMdxrD9UVVVVVVXFP3Acx3Ecx9E/OI7jOI7j2D8AAAAAAADgPwAAAAAAAOC/OY7jOI7j2L9yHMdxHMfRv1ZVVVVVVcW/IMdxHMdxrL8gx3Ecx3GsP1RVVVVVVcU/cBzHcRzH0T84juM4juPYPwAAAAAAAOA/AAAAAAAA4L85juM4juPYv3Icx3Ecx9G/VlVVVVVVxb8gx3Ecx3GsvyDHcRzHcaw/VFVVVVVVxT9wHMdxHMfRPziO4ziO49g/AAAAAAAA4D8AAAAAAADgvzmO4ziO49i/chzHcRzH0b9WVVVVVVXFvyDHcRzHcay/IMdxHMdxrD9UVVVVVVXFP3Acx3Ecx9E/OI7jOI7j2D8AAAAAAADgPwAAAAAAAOC/OY7jOI7j2L9yHMdxHMfRv1ZVVVVVVcW/IMdxHMdxrL8gx3Ecx3GsP1RVVVVVVcU/cBzHcRzH0T84juM4juPYPwAAAAAAAOA/AAAAAAAA4L85juM4juPYv3Icx3Ecx9G/VlVVVVVVxb8gx3Ecx3GsvyDHcRzHcaw/VFVVVVVVxT9wHMdxHMfRPziO4ziO49g/AAAAAAAA4D8AAAAAAADgvzmO4ziO49i/chzHcRzH0b9WVVVVVVXFvyDHcRzHcay/IMdxHMdxrD9UVVVVVVXFP3Acx3Ecx9E/OI7jOI7j2D8AAAAAAADgPwAAAAAAAOC/OY7jOI7j2L9yHMdxHMfRv1ZVVVVVVcW/IMdxHMdxrL8gx3Ecx3GsP1RVVVVVVcU/cBzHcRzH0T84juM4juPYPwAAAAAAAOA/AAAAAAAA4L85juM4juPYv3Icx3Ecx9G/VlVVVVVVxb8gx3Ecx3GsvyDHcRzHcaw/VFVVVVVVxT9wHMdxHMfRPziO4ziO49g/AAAAAAAA4D8AAAAAAADgvzmO4ziO49i/chzHcRzH0b9WVVVVVVXFvyDHcRzHcay/IMdxHMdxrD9UVVVVVVXFP3Acx3Ecx9E/OI7jOI7j2D8AAAAAAADgPwAAAAAAAOC/OY7jOI7j2L9yHMdxHMfRv1ZVVVVVVcW/IMdxHMdxrL8gx3Ecx3GsP1RVVVVVVcU/cBzHcRzH0T84juM4juPYPwAAAAAAAOA/AAAAAAAA4L85juM4juPYv3Icx3Ecx9G/VlVVVVVVxb8gx3Ecx3GsvyDHcRzHcaw/VFVVVVVVxT9wHMdxHMfRPziO4ziO49g/AAAAAAAA4D8AAAAAAADgvzmO4ziO49i/chzHcRzH0b9WVVVVVVXFvyDHcRzHcay/IMdxHMdxrD9UVVVVVVXFP3Acx3Ecx9E/OI7jOI7j2D8AAAAAAADgPwAAAAAAAOC/OY7jOI7j2L9yHMdxHMfRv1ZVVVVVVcW/IMdxHMdxrL8gx3Ecx3GsP1RVVVVVVcU/cBzHcRzH0T84juM4juPYPwAAAAAAAOA/AAAAAAAA4L85juM4juPYv3Icx3Ecx9G/VlVVVVVVxb8gx3Ecx3GsvyDHcRzHcaw/VFVVVVVVxT9wHMdxHMfRPziO4ziO49g/AAAAAAAA4D8AAAAAAADgvzmO4ziO49i/chzHcRzH0b9WVVVVVVXFvyDHcRzHcay/IMdxHMdxrD9UVVVVVVXFP3Acx3Ecx9E/OI7jOI7j2D8AAAAAAADgPwAAAAAAAOC/OY7jOI7j2L9yHMdxHMfRv1ZVVVVVVcW/IMdxHMdxrL8gx3Ecx3GsP1RVVVVVVcU/cBzHcRzH0T84juM4juPYPwAAAAAAAOA/AAAAAAAA4L85juM4juPYv3Icx3Ecx9G/VlVVVVVVxb8gx3Ecx3GsvyDHcRzHcaw/VFVVVVVVxT9wHMdxHMfRPziO4ziO49g/AAAAAAAA4D8AAAAAAADgvzmO4ziO49i/chzHcRzH0b9WVVVVVVXFvyDHcRzHcay/IMdxHMdxrD9UVVVVVVXFP3Acx3Ecx9E/OI7jOI7j2D8AAAAAAADgPwAAAAAAAOC/OY7jOI7j2L9yHMdxHMfRv1ZVVVVVVcW/IMdxHMdxrL8gx3Ecx3GsP1RVVVVVVcU/cBzHcRzH0T84juM4juPYPwAAAAAAAOA/AAAAAAAA4L85juM4juPYv3Icx3Ecx9G/VlVVVVVVxb8gx3Ecx3GsvyDHcRzHcaw/VFVVVVVVxT9wHMdxHMfRPziO4ziO49g/AAAAAAAA4D8AAAAAAADgvzmO4ziO49i/chzHcRzH0b9WVVVVVVXFvyDHcRzHcay/IMdxHMdxrD9UVVVVVVXFP3Acx3Ecx9E/OI7jOI7j2D8AAAAAAADgPwAAAAAAAOC/OY7jOI7j2L9yHMdxHMfRv1ZVVVVVVcW/IMdxHMdxrL8gx3Ecx3GsP1RVVVVVVcU/cBzHcRzH0T84juM4juPYPwAAAAAAAOA/AAAAAAAA4L85juM4juPYv3Icx3Ecx9G/VlVVVVVVxb8gx3Ecx3GsvyDHcRzHcaw/VFVVVVVVxT9wHMdxHMfRPziO4ziO49g/AAAAAAAA4D8AAAAAAADgvzmO4ziO49i/chzHcRzH0b9WVVVVVVXFvyDHcRzHcay/IMdxHMdxrD9UVVVVVVXFP3Acx3Ecx9E/OI7jOI7j2D8AAAAAAADgPwAAAAAAAOC/OY7jOI7j2L9yHMdxHMfRv1ZVVVVVVcW/IMdxHMdxrL8gx3Ecx3GsP1RVVVVVVcU/cBzHcRzH0T84juM4juPYPwAAAAAAAOA/AAAAAAAA4L85juM4juPYv3Icx3Ecx9G/VlVVVVVVxb8gx3Ecx3GsvyDHcRzHcaw/VFVVVVVVxT9wHMdxHMfRPziO4ziO49g/AAAAAAAA4D8AAAAAAADgvzmO4ziO49i/chzHcRzH0b9WVVVVVVXFvyDHcRzHcay/IMdxHMdxrD9UVVVVVVXFP3Acx3Ecx9E/OI7jOI7j2D8AAAAAAADgPwAAAAAAAOC/OY7jOI7j2L9yHMdxHMfRv1ZVVVVVVcW/IMdxHMdxrL8gx3Ecx3GsP1RVVVVVVcU/cBzHcRzH0T84juM4juPYPwAAAAAAAOA/AAAAAAAA4L85juM4juPYv3Icx3Ecx9G/VlVVVVVVxb8gx3Ecx3GsvyDHcRzHcaw/VFVVVVVVxT9wHMdxHMfRPziO4ziO49g/AAAAAAAA4D8AAAAAAADgvzmO4ziO49i/chzHcRzH0b9WVVVVVVXFvyDHcRzHcay/IMdxHMdxrD9UVVVVVVXFP3Acx3Ecx9E/OI7jOI7j2D8AAAAAAADgPwAAAAAAAOC/OY7jOI7j2L9yHMdxHMfRv1ZVVVVVVcW/IMdxHMdxrL8gx3Ecx3GsP1RVVVVVVcU/cBzHcRzH0T84juM4juPYPwAAAAAAAOA/AAAAAAAA4L85juM4juPYv3Icx3Ecx9G/VlVVVVVVxb8gx3Ecx3GsvyDHcRzHcaw/VFVVVVVVxT9wHMdxHMfRPziO4ziO49g/AAAAAAAA4D8AAAAAAADgvzmO4ziO49i/chzHcRzH0b9WVVVVVVXFvyDHcRzHcay/IMdxHMdxrD9UVVVVVVXFP3Acx3Ecx9E/OI7jOI7j2D8AAAAAAADgPwAAAAAAAOC/OY7jOI7j2L9yHMdxHMfRv1ZVVVVVVcW/IMdxHMdxrL8gx3Ecx3GsP1RVVVVVVcU/cBzHcRzH0T84juM4juPYPwAAAAAAAOA/AAAAAAAA4L85juM4juPYv3Icx3Ecx9G/VlVVVVVVxb8gx3Ecx3GsvyDHcRzHcaw/VFVVVVVVxT9wHMdxHMfRPziO4ziO49g/AAAAAAAA4D8AAAAAAADgvzmO4ziO49i/chzHcRzH0b9WVVVVVVXFvyDHcRzHcay/IMdxHMdxrD9UVVVVVVXFP3Acx3Ecx9E/OI7jOI7j2D8AAAAAAADgPwAAAAAAAOC/OY7jOI7j2L9yHMdxHMfRv1ZVVVVVVcW/IMdxHMdxrL8gx3Ecx3GsP1RVVVVVVcU/cBzHcRzH0T84juM4juPYPwAAAAAAAOA/AAAAAAAA4L85juM4juPYv3Icx3Ecx9G/VlVVVVVVxb8gx3Ecx3GsvyDHcRzHcaw/VFVVVVVVxT9wHMdxHMfRPziO4ziO49g/AAAAAAAA4D8AAAAAAADgvzmO4ziO49i/chzHcRzH0b9WVVVVVVXFvyDHcRzHcay/IMdxHMdxrD9UVVVVVVXFP3Acx3Ecx9E/OI7jOI7j2D8AAAAAAADgPwAAAAAAAOC/OY7jOI7j2L9yHMdxHMfRv1ZVVVVVVcW/IMdxHMdxrL8gx3Ecx3GsP1RVVVVVVcU/cBzHcRzH0T84juM4juPYPwAAAAAAAOA/AAAAAAAA4L85juM4juPYv3Icx3Ecx9G/VlVVVVVVxb8gx3Ecx3GsvyDHcRzHcaw/VFVVVVVVxT9wHMdxHMfRPziO4ziO49g/AAAAAAAA4D8AAAAAAADgvzmO4ziO49i/chzHcRzH0b9WVVVVVVXFvyDHcRzHcay/IMdxHMdxrD9UVVVVVVXFP3Acx3Ecx9E/OI7jOI7j2D8AAAAAAADgPwAAAAAAAOC/OY7jOI7j2L9yHMdxHMfRv1ZVVVVVVcW/IMdxHMdxrL8gx3Ecx3GsP1RVVVVVVcU/cBzHcRzH0T84juM4juPYPwAAAAAAAOA/AAAAAAAA4L85juM4juPYv3Icx3Ecx9G/VlVVVVVVxb8gx3Ecx3GsvyDHcRzHcaw/VFVVVVVVxT9wHMdxHMfRPziO4ziO49g/AAAAAAAA4D8AAAAAAADgvzmO4ziO49i/chzHcRzH0b9WVVVVVVXFvyDHcRzHcay/IMdxHMdxrD9UVVVVVVXFP3Acx3Ecx9E/OI7jOI7j2D8AAAAAAADgPwAAAAAAAOC/OY7jOI7j2L9yHMdxHMfRv1ZVVVVVVcW/IMdxHMdxrL8gx3Ecx3GsP1RVVVVVVcU/cBzHcRzH0T84juM4juPYPwAAAAAAAOA/AAAAAAAA4L85juM4juPYv3Icx3Ecx9G/VlVVVVVVxb8gx3Ecx3GsvyDHcRzHcaw/VFVVVVVVxT9wHMdxHMfRPziO4ziO49g/AAAAAAAA4D8AAAAAAADgvzmO4ziO49i/chzHcRzH0b9WVVVVVVXFvyDHcRzHcay/IMdxHMdxrD9UVVVVVVXFP3Acx3Ecx9E/OI7jOI7j2D8AAAAAAADgPwAAAAAAAOC/OY7jOI7j2L9yHMdxHMfRv1ZVVVVVVcW/IMdxHMdxrL8gx3Ecx3GsP1RVVVVVVcU/cBzHcRzH0T84juM4juPYPwAAAAAAAOA/AAAAAAAA4L85juM4juPYv3Icx3Ecx9G/VlVVVVVVxb8gx3Ecx3GsvyDHcRzHcaw/VFVVVVVVxT9wHMdxHMfRPziO4ziO49g/AAAAAAAA4D8AAAAAAADgvzmO4ziO49i/chzHcRzH0b9WVVVVVVXFvyDHcRzHcay/IMdxHMdxrD9UVVVVVVXFP3Acx3Ecx9E/OI7jOI7j2D8AAAAAAADgPwAAAAAAAOC/OY7jOI7j2L9yHMdxHMfRv1ZVVVVVVcW/IMdxHMdxrL8gx3Ecx3GsP1RVVVVVVcU/cBzHcRzH0T84juM4juPYPwAAAAAAAOA/AAAAAAAA4L85juM4juPYv3Icx3Ecx9G/VlVVVVVVxb8gx3Ecx3GsvyDHcRzHcaw/VFVVVVVVxT9wHMdxHMfRPziO4ziO49g/AAAAAAAA4D8AAAAAAADgvzmO4ziO49i/chzHcRzH0b9WVVVVVVXFvyDHcRzHcay/IMdxHMdxrD9UVVVVVVXFP3Acx3Ecx9E/OI7jOI7j2D8AAAAAAADgPwAAAAAAAOC/OY7jOI7j2L9yHMdxHMfRv1ZVVVVVVcW/IMdxHMdxrL8gx3Ecx3GsP1RVVVVVVcU/cBzHcRzH0T84juM4juPYPwAAAAAAAOA/AAAAAAAA4L85juM4juPYv3Icx3Ecx9G/VlVVVVVVxb8gx3Ecx3GsvyDHcRzHcaw/VFVVVVVVxT9wHMdxHMfRPziO4ziO49g/AAAAAAAA4D8AAAAAAADgvzmO4ziO49i/chzHcRzH0b9WVVVVVVXFvyDHcRzHcay/IMdxHMdxrD9UVVVVVVXFP3Acx3Ecx9E/OI7jOI7j2D8AAAAAAADgPwAAAAAAAOC/OY7jOI7j2L9yHMdxHMfRv1ZVVVVVVcW/IMdxHMdxrL8gx3Ecx3GsP1RVVVVVVcU/cBzHcRzH0T84juM4juPYPwAAAAAAAOA/AAAAAAAA4L85juM4juPYv3Icx3Ecx9G/VlVVVVVVxb8gx3Ecx3GsvyDHcRzHcaw/VFVVVVVVxT9wHMdxHMfRPziO4ziO49g/AAAAAAAA4D8=",
          "dtype": "f8"
         }
        }
       ],
       "layout": {
        "scene": {
         "xaxis": {
          "title": {
           "text": "X"
          }
         },
         "yaxis": {
          "title": {
           "text": "Y"
          }
         },
         "zaxis": {
          "title": {
           "text": "Z"
          }
         }
        },
        "template": {
         "data": {
          "bar": [
           {
            "error_x": {
             "color": "#2a3f5f"
            },
            "error_y": {
             "color": "#2a3f5f"
            },
            "marker": {
             "line": {
              "color": "#E5ECF6",
              "width": 0.5
             },
             "pattern": {
              "fillmode": "overlay",
              "size": 10,
              "solidity": 0.2
             }
            },
            "type": "bar"
           }
          ],
          "barpolar": [
           {
            "marker": {
             "line": {
              "color": "#E5ECF6",
              "width": 0.5
             },
             "pattern": {
              "fillmode": "overlay",
              "size": 10,
              "solidity": 0.2
             }
            },
            "type": "barpolar"
           }
          ],
          "carpet": [
           {
            "aaxis": {
             "endlinecolor": "#2a3f5f",
             "gridcolor": "white",
             "linecolor": "white",
             "minorgridcolor": "white",
             "startlinecolor": "#2a3f5f"
            },
            "baxis": {
             "endlinecolor": "#2a3f5f",
             "gridcolor": "white",
             "linecolor": "white",
             "minorgridcolor": "white",
             "startlinecolor": "#2a3f5f"
            },
            "type": "carpet"
           }
          ],
          "choropleth": [
           {
            "colorbar": {
             "outlinewidth": 0,
             "ticks": ""
            },
            "type": "choropleth"
           }
          ],
          "contour": [
           {
            "colorbar": {
             "outlinewidth": 0,
             "ticks": ""
            },
            "colorscale": [
             [
              0,
              "#0d0887"
             ],
             [
              0.1111111111111111,
              "#46039f"
             ],
             [
              0.2222222222222222,
              "#7201a8"
             ],
             [
              0.3333333333333333,
              "#9c179e"
             ],
             [
              0.4444444444444444,
              "#bd3786"
             ],
             [
              0.5555555555555556,
              "#d8576b"
             ],
             [
              0.6666666666666666,
              "#ed7953"
             ],
             [
              0.7777777777777778,
              "#fb9f3a"
             ],
             [
              0.8888888888888888,
              "#fdca26"
             ],
             [
              1,
              "#f0f921"
             ]
            ],
            "type": "contour"
           }
          ],
          "contourcarpet": [
           {
            "colorbar": {
             "outlinewidth": 0,
             "ticks": ""
            },
            "type": "contourcarpet"
           }
          ],
          "heatmap": [
           {
            "colorbar": {
             "outlinewidth": 0,
             "ticks": ""
            },
            "colorscale": [
             [
              0,
              "#0d0887"
             ],
             [
              0.1111111111111111,
              "#46039f"
             ],
             [
              0.2222222222222222,
              "#7201a8"
             ],
             [
              0.3333333333333333,
              "#9c179e"
             ],
             [
              0.4444444444444444,
              "#bd3786"
             ],
             [
              0.5555555555555556,
              "#d8576b"
             ],
             [
              0.6666666666666666,
              "#ed7953"
             ],
             [
              0.7777777777777778,
              "#fb9f3a"
             ],
             [
              0.8888888888888888,
              "#fdca26"
             ],
             [
              1,
              "#f0f921"
             ]
            ],
            "type": "heatmap"
           }
          ],
          "histogram": [
           {
            "marker": {
             "pattern": {
              "fillmode": "overlay",
              "size": 10,
              "solidity": 0.2
             }
            },
            "type": "histogram"
           }
          ],
          "histogram2d": [
           {
            "colorbar": {
             "outlinewidth": 0,
             "ticks": ""
            },
            "colorscale": [
             [
              0,
              "#0d0887"
             ],
             [
              0.1111111111111111,
              "#46039f"
             ],
             [
              0.2222222222222222,
              "#7201a8"
             ],
             [
              0.3333333333333333,
              "#9c179e"
             ],
             [
              0.4444444444444444,
              "#bd3786"
             ],
             [
              0.5555555555555556,
              "#d8576b"
             ],
             [
              0.6666666666666666,
              "#ed7953"
             ],
             [
              0.7777777777777778,
              "#fb9f3a"
             ],
             [
              0.8888888888888888,
              "#fdca26"
             ],
             [
              1,
              "#f0f921"
             ]
            ],
            "type": "histogram2d"
           }
          ],
          "histogram2dcontour": [
           {
            "colorbar": {
             "outlinewidth": 0,
             "ticks": ""
            },
            "colorscale": [
             [
              0,
              "#0d0887"
             ],
             [
              0.1111111111111111,
              "#46039f"
             ],
             [
              0.2222222222222222,
              "#7201a8"
             ],
             [
              0.3333333333333333,
              "#9c179e"
             ],
             [
              0.4444444444444444,
              "#bd3786"
             ],
             [
              0.5555555555555556,
              "#d8576b"
             ],
             [
              0.6666666666666666,
              "#ed7953"
             ],
             [
              0.7777777777777778,
              "#fb9f3a"
             ],
             [
              0.8888888888888888,
              "#fdca26"
             ],
             [
              1,
              "#f0f921"
             ]
            ],
            "type": "histogram2dcontour"
           }
          ],
          "mesh3d": [
           {
            "colorbar": {
             "outlinewidth": 0,
             "ticks": ""
            },
            "type": "mesh3d"
           }
          ],
          "parcoords": [
           {
            "line": {
             "colorbar": {
              "outlinewidth": 0,
              "ticks": ""
             }
            },
            "type": "parcoords"
           }
          ],
          "pie": [
           {
            "automargin": true,
            "type": "pie"
           }
          ],
          "scatter": [
           {
            "fillpattern": {
             "fillmode": "overlay",
             "size": 10,
             "solidity": 0.2
            },
            "type": "scatter"
           }
          ],
          "scatter3d": [
           {
            "line": {
             "colorbar": {
              "outlinewidth": 0,
              "ticks": ""
             }
            },
            "marker": {
             "colorbar": {
              "outlinewidth": 0,
              "ticks": ""
             }
            },
            "type": "scatter3d"
           }
          ],
          "scattercarpet": [
           {
            "marker": {
             "colorbar": {
              "outlinewidth": 0,
              "ticks": ""
             }
            },
            "type": "scattercarpet"
           }
          ],
          "scattergeo": [
           {
            "marker": {
             "colorbar": {
              "outlinewidth": 0,
              "ticks": ""
             }
            },
            "type": "scattergeo"
           }
          ],
          "scattergl": [
           {
            "marker": {
             "colorbar": {
              "outlinewidth": 0,
              "ticks": ""
             }
            },
            "type": "scattergl"
           }
          ],
          "scattermap": [
           {
            "marker": {
             "colorbar": {
              "outlinewidth": 0,
              "ticks": ""
             }
            },
            "type": "scattermap"
           }
          ],
          "scattermapbox": [
           {
            "marker": {
             "colorbar": {
              "outlinewidth": 0,
              "ticks": ""
             }
            },
            "type": "scattermapbox"
           }
          ],
          "scatterpolar": [
           {
            "marker": {
             "colorbar": {
              "outlinewidth": 0,
              "ticks": ""
             }
            },
            "type": "scatterpolar"
           }
          ],
          "scatterpolargl": [
           {
            "marker": {
             "colorbar": {
              "outlinewidth": 0,
              "ticks": ""
             }
            },
            "type": "scatterpolargl"
           }
          ],
          "scatterternary": [
           {
            "marker": {
             "colorbar": {
              "outlinewidth": 0,
              "ticks": ""
             }
            },
            "type": "scatterternary"
           }
          ],
          "surface": [
           {
            "colorbar": {
             "outlinewidth": 0,
             "ticks": ""
            },
            "colorscale": [
             [
              0,
              "#0d0887"
             ],
             [
              0.1111111111111111,
              "#46039f"
             ],
             [
              0.2222222222222222,
              "#7201a8"
             ],
             [
              0.3333333333333333,
              "#9c179e"
             ],
             [
              0.4444444444444444,
              "#bd3786"
             ],
             [
              0.5555555555555556,
              "#d8576b"
             ],
             [
              0.6666666666666666,
              "#ed7953"
             ],
             [
              0.7777777777777778,
              "#fb9f3a"
             ],
             [
              0.8888888888888888,
              "#fdca26"
             ],
             [
              1,
              "#f0f921"
             ]
            ],
            "type": "surface"
           }
          ],
          "table": [
           {
            "cells": {
             "fill": {
              "color": "#EBF0F8"
             },
             "line": {
              "color": "white"
             }
            },
            "header": {
             "fill": {
              "color": "#C8D4E3"
             },
             "line": {
              "color": "white"
             }
            },
            "type": "table"
           }
          ]
         },
         "layout": {
          "annotationdefaults": {
           "arrowcolor": "#2a3f5f",
           "arrowhead": 0,
           "arrowwidth": 1
          },
          "autotypenumbers": "strict",
          "coloraxis": {
           "colorbar": {
            "outlinewidth": 0,
            "ticks": ""
           }
          },
          "colorscale": {
           "diverging": [
            [
             0,
             "#8e0152"
            ],
            [
             0.1,
             "#c51b7d"
            ],
            [
             0.2,
             "#de77ae"
            ],
            [
             0.3,
             "#f1b6da"
            ],
            [
             0.4,
             "#fde0ef"
            ],
            [
             0.5,
             "#f7f7f7"
            ],
            [
             0.6,
             "#e6f5d0"
            ],
            [
             0.7,
             "#b8e186"
            ],
            [
             0.8,
             "#7fbc41"
            ],
            [
             0.9,
             "#4d9221"
            ],
            [
             1,
             "#276419"
            ]
           ],
           "sequential": [
            [
             0,
             "#0d0887"
            ],
            [
             0.1111111111111111,
             "#46039f"
            ],
            [
             0.2222222222222222,
             "#7201a8"
            ],
            [
             0.3333333333333333,
             "#9c179e"
            ],
            [
             0.4444444444444444,
             "#bd3786"
            ],
            [
             0.5555555555555556,
             "#d8576b"
            ],
            [
             0.6666666666666666,
             "#ed7953"
            ],
            [
             0.7777777777777778,
             "#fb9f3a"
            ],
            [
             0.8888888888888888,
             "#fdca26"
            ],
            [
             1,
             "#f0f921"
            ]
           ],
           "sequentialminus": [
            [
             0,
             "#0d0887"
            ],
            [
             0.1111111111111111,
             "#46039f"
            ],
            [
             0.2222222222222222,
             "#7201a8"
            ],
            [
             0.3333333333333333,
             "#9c179e"
            ],
            [
             0.4444444444444444,
             "#bd3786"
            ],
            [
             0.5555555555555556,
             "#d8576b"
            ],
            [
             0.6666666666666666,
             "#ed7953"
            ],
            [
             0.7777777777777778,
             "#fb9f3a"
            ],
            [
             0.8888888888888888,
             "#fdca26"
            ],
            [
             1,
             "#f0f921"
            ]
           ]
          },
          "colorway": [
           "#636efa",
           "#EF553B",
           "#00cc96",
           "#ab63fa",
           "#FFA15A",
           "#19d3f3",
           "#FF6692",
           "#B6E880",
           "#FF97FF",
           "#FECB52"
          ],
          "font": {
           "color": "#2a3f5f"
          },
          "geo": {
           "bgcolor": "white",
           "lakecolor": "white",
           "landcolor": "#E5ECF6",
           "showlakes": true,
           "showland": true,
           "subunitcolor": "white"
          },
          "hoverlabel": {
           "align": "left"
          },
          "hovermode": "closest",
          "mapbox": {
           "style": "light"
          },
          "paper_bgcolor": "white",
          "plot_bgcolor": "#E5ECF6",
          "polar": {
           "angularaxis": {
            "gridcolor": "white",
            "linecolor": "white",
            "ticks": ""
           },
           "bgcolor": "#E5ECF6",
           "radialaxis": {
            "gridcolor": "white",
            "linecolor": "white",
            "ticks": ""
           }
          },
          "scene": {
           "xaxis": {
            "backgroundcolor": "#E5ECF6",
            "gridcolor": "white",
            "gridwidth": 2,
            "linecolor": "white",
            "showbackground": true,
            "ticks": "",
            "zerolinecolor": "white"
           },
           "yaxis": {
            "backgroundcolor": "#E5ECF6",
            "gridcolor": "white",
            "gridwidth": 2,
            "linecolor": "white",
            "showbackground": true,
            "ticks": "",
            "zerolinecolor": "white"
           },
           "zaxis": {
            "backgroundcolor": "#E5ECF6",
            "gridcolor": "white",
            "gridwidth": 2,
            "linecolor": "white",
            "showbackground": true,
            "ticks": "",
            "zerolinecolor": "white"
           }
          },
          "shapedefaults": {
           "line": {
            "color": "#2a3f5f"
           }
          },
          "ternary": {
           "aaxis": {
            "gridcolor": "white",
            "linecolor": "white",
            "ticks": ""
           },
           "baxis": {
            "gridcolor": "white",
            "linecolor": "white",
            "ticks": ""
           },
           "bgcolor": "#E5ECF6",
           "caxis": {
            "gridcolor": "white",
            "linecolor": "white",
            "ticks": ""
           }
          },
          "title": {
           "x": 0.05
          },
          "xaxis": {
           "automargin": true,
           "gridcolor": "white",
           "linecolor": "white",
           "ticks": "",
           "title": {
            "standoff": 15
           },
           "zerolinecolor": "white",
           "zerolinewidth": 2
          },
          "yaxis": {
           "automargin": true,
           "gridcolor": "white",
           "linecolor": "white",
           "ticks": "",
           "title": {
            "standoff": 15
           },
           "zerolinecolor": "white",
           "zerolinewidth": 2
          }
         }
        },
        "title": {
         "text": "Div free regression errors for n = 100 input vectors for current carrying coil"
        }
       }
      }
     },
     "metadata": {},
     "output_type": "display_data"
    }
   ],
   "source": [
    "# plot residuals of fit above: \n",
    "residuals_coil_div_free, mse_coil_div_free = differencer(outputs_coil, outputs_coil_div_free)\n",
    "print(f'MSE for this case of {mse_coil_div_free}')\n",
    "plotter(residuals_coil_div_free, \n",
    "        title = f'Div free regression errors for n = {given_samples_coil} input vectors for current carrying coil')"
   ]
  },
  {
   "cell_type": "markdown",
   "id": "6250963c",
   "metadata": {},
   "source": [
    "Interestingly we can see this does well everywhere apart from nearby to the conductor. I think this is becuase the length scale which would be good here is different to other places. "
   ]
  },
  {
   "cell_type": "code",
   "execution_count": 16,
   "id": "5b0593c0",
   "metadata": {},
   "outputs": [
    {
     "name": "stdout",
     "output_type": "stream",
     "text": [
      "Parameters for sigma_f and l specified, using these.\n"
     ]
    }
   ],
   "source": [
    "outputs_coil_curl_free= updated_vector_field(\n",
    "    sampled_outputs_coil, \n",
    "    outputs_coil[0], outputs_coil[1], outputs_coil[2], \n",
    "    kernel_func='curl_free_kernel',\n",
    "    sigma_f = 0.1, l = 0.3)"
   ]
  },
  {
   "cell_type": "code",
   "execution_count": 17,
   "id": "ff920a68",
   "metadata": {},
   "outputs": [
    {
     "data": {
      "application/vnd.plotly.v1+json": {
       "config": {
        "plotlyServerURL": "https://plot.ly"
       },
       "data": [
        {
         "anchor": "tail",
         "sizemode": "scaled",
         "sizeref": 2,
         "type": "cone",
         "u": {
          "bdata": "4CJVw57FWkAUjkC39VQuQJInjxyuk2TACnSWNTkGbMBxD/2/xlBbwHk28RSSZxNAtt08A9VYR8B0xhSk2VZnwF6KRMLPkmnAFERB+RvoRMARZWaJTq5OQIZHXg0vqEVABoqdmxNGSMDDZHDDwp1QwA0FKenSaSpAt1MYY8OPS0APye85UZs6wBeVstwTllzAMyEkZfwHPsAcgj5qMlhrQGIWtHHX3kdAe8C//8LZUUCVFaXEVsksQKkuQ0ZvDDLA+h+sMuRFEkCx5V/Dt38hQKavPh4L9kLA+qkxuwIdQcC3YfM7K7RgQMXJuCkoLHpAQlNyKIsOJkBrSS3Ac9w8QIieyfuKBkDA51ULfEjXVMAwzu90NaRSwKdBgWbnYELAqfdHQyIBEEBX3OKC3bNWQLTsZ9iCEXFAjCshcifmf0Bn1ivbuBldwPGmSsDQolvAhdevmbFdY8DbHyPYzfNlwAIYZLhwFF/AnZULXT7kN8BdJF49zgdWQC8EUaCR32lAsYn7m7dsdUARpfWQ60Z+QLfiJC4QOXjAL0NppeBCdsANmQTKIbJ0wFSzRleR53DAW5gOFrW9Y8A/ZPDgXYs3wPJKh/QbglpA2WqL7cLKa0B0eqGQxddzQPHOO8iwZnhAOyYrkVcoiMB7h//W5JmFwBaLnW5CGoLAy2NVlvUQe8B4r25w1wxxwHwaTT90cWDAiwEpgJ7sEsBAfZIt3aZeQNDO3ygCqGxA6xwOKk1GckBJIYhNTcqRwEDVvi0UPpDAzz7w3oECjMC/Aa7ueGSGwLm9k1ChgIDAFJ27+JSldsDBZqaBvp9pwLhTXSUYM0HAqkI+poIOXUBwZqwP2h9pQJ+7Wp0QO5TA4oFxzit0k8AMU0DGjlySwNern2EOkZDAvUuvW0yoi8CLypoBHg+FwG/CnNdpMXzAJ27FghHjbMAggXB348dIwMFEZ8Phx0xAPs4LrkBZkcD14ruZh/qRwKB3wuygj5PAbvz49LOqlMBI2r73fYeTwIEkoCEzFJDAB+uxZ9SOh8DVcCQUeut/wMcIvKGwl3TAIKvQfu43acCJpHK+A0FiwMl21qqocFXA2Ki9lDyjUcAJo89tb801QPpGkb941WdAEoSa51ilcUCu+o7qxi1oQNDuGeIrUD9AHpVi4aHHL8DOGpFD6bdSQPwZIcTxXV7Abjl4ReOySsBBy/Qn8gn0v7duf3kvGltAiZOf9rd9bkAaeKBo0KJxQNiE/BX8RmZA9Hu/I5B/TkCxzHFOQVZWQMMcxURgEW5ApQ3u1u8NT8D44jGZni/2v9Vjg04XgkdA8QBLNmYSXUC87yOO0n5mQBUDmurn4mVAXtvzvOeGWEDNWi5F57pGQDfzy4Rd2FxAD0koZizNcECJaSsNMIrwP9fQ7M/gS0FAzVevK/hBSkBg46YXJdtQQD5TzDez+FFARLz7+rO7S0Dd2c0iq4Q8QPByPwTKqjpAUVa7ZooOVUAD/2fxWi5mQMM6fPekuiRAPWiMjHzWPECfY+8SBspDQKAh58u8wkVAiskEa2GQQEBrxlLz0TIzQJXCL2bpZjJA/9HHnMNNO0AGTt5IBv9DQBQNilvu8ktAI9UKFwWWV8A6vXW+ku1JwN+Y/GOQ5QfAeeU7SCNuREDcQ3RNWARJQGYqY4MwTUBAYLGCwSOPNkBbvYK3pQk1QJdrFnn9qyJA4ZAyOMqFIcDnGD0RhK5ywO3BYFmbnGnAPCtsSd7kWcCZ/Z9RVkQjwMV9uZ1GmkBAf4c6G24gN0B91H1qe40XQJyrhYhdtxBAE5gz/0J3FECyefPOhC4AQIEECwvvAYDASdIgLa2sd8AQsMKCUmZwwMJLHPCEG2PA7Qr2FmfiUMC8OhMZOUs0wHRZdK32MvQ/flKfeY6gLEBeJmN8TKQ7QOnwL9GDhERAxf8YPWa8g8C+yYvL/CV/wFjTXAxPNHvAs/DEWdlRd8Deg8xAhmpvwOoky5Fm2VfAOWQH4NvwK0BDIMwvSV1FQNxwRmnOfkJARBKMtZkmREDIyU/6jL+CwPXNlTkkhn/AEo/F1KV5gcAJXZP/Jz6DwANo6JTaHX/Aotdr2pT7bMAMYIl3kUk1wACZXHgfPTJAjg0fdosnOcDxXpG1P89DwC8ayQikVGDALCJuqzZTQ8Bs+6V9M5EyQE+sY0Q8FFNAXjzbaE2hYEA7SnQYRfFhQLxV3UKB1VVAHmqc3unDMkBzCBl94Z8iQLhEFL3clUZADpy76gT9UcDrxTvTYbYywB1NxszSwjZAHtwP6685UUDeaqYueGxaQHEUA3TgJVpAO+iCiHFQT0CspJ4E4lM6QIzHUCSY1khALbZFn/HjWkBBH/4eYr03wCfuoJCRgglANrAbUxJuPkCk/qp227dIQLsMBCL1HEhAJAx1EayBQUBYE7lemLA2QJhDpdE/yzZAW4tSdrleSUDOH8UJBLpUQEpfMdzjUy9ABSq6ByBgN0Dfe/5nkT1CQCgnig4BnTtAQeQ28QFRKMD3rm0WNnREwOQLPR1PJD/ACynaugHQH8DD2IskQ40GQPnyyj21Yy/Ar8f9K9plQUASvln5U7o+QMKPOtDdC0RATRgkD2H2PUAl7OUMZiM0wFes9atYIU7AG7STa7YXScD1owyECgo8wDsyhLUWwUTAMFBAyqkpWcATgIQWviM+QPP/Hw9aPjVAkLqFEVJnP0CebFX0sgVDQKiQh0CMkQZAoGf+M4+DQ8DUe3phgHxEwDC7A/OVkD7AKY5wfFakScAG3/Qob+pawLJavkdGYDlA82U0dP1HN0CgdE8p4wk6QNvzufvzpkFA07LaAfDYLUAlpOlTTYExwNYjwfPOIDvAnfklzwT2PMCzJ2V7fZZEwG95fw/QQk3Ar0X/q88gLUAwSti+yWBEQEiK7L4aST5AyyFDtKQLMUAmYGtV9T8VQCf469lk6g9AmsJnBnwGE0DKG+e3if4qwOUhppiuZDzADjaypBRLLMBQR9oFWY5QwFlsSsxtxCJA38WV9puzI8CkC6nMAaxLwHwGWIvhdkjAz6Gxh8utLkAK2HoctcNKQB7DCYsToDFA85ZVveq/M8CIeBJb97gRwHXlURvDPHDAviKZjN/0YMDXdGHUouxjwDuiPAYwWmzABSiWnYkeZsBA8tbuVFgpwK9FXvwoa1ZAED8VDM/WR0Dc/6+T1mkqwNjo95tMCCTAUxy+GnA9NcAYY4LwZ2P4Pw2KQAP+LTRAiUaB435JKkB4P/AhWrkwwFFy0bmVIEDAjpD+4SzBLsByrP5CXIkcQCyuCF6TVSJACrXhdbOVGMD9RFMx35MfQPSsSiIc/CdA2jMg2FzQKUDfqgHaL5siwIi8DLXIaUbAPynJtVAAScD6c19cd+4xwAufycIKyBxAHKpZVjaGEEAQqHKIlSkhwOP+88dyJC5ABmkagbQmMEDkST7lslI0QKA57353Ptk/0swf9OWYQcA/Ox7Bv8NBwOJrSVyaJBlAC+5dvc94QkCMO5FN01FAQJ3pNP6tUCRAvv7O5LkJGUAmJoDvl80qQME/ktVybDxAKp2pN8u2MUChkVNexvk0wKU4l9DUk0HAFpVP1ZkaFMBGf2wAnIg5QO6Q34vSjT1APc/bY8n5DEAuU8PSThgbwCKMb5BZv+m/ow2M49IjMUD1niixzsMzQKTdAndVjSXAd6si6SQRQcD4tEb800E1wPKoyCUhmvs/qcvri1o9KUBC/UWe/ZEiwLEJTP090jVAT75QR+SuDEAul6jSdMvqvxKycOOvHu0/h4Vs00d+McAivkwsNK9AwJ0O1Riu7jfAPzcl9Y8kHsAuNI6+WTEbQIdFtaS2qvo/2Ls5eeb9XUCWKACSSfJQQApGmyTo/zdAvWDmR4gZ/L89wRWXI8s7wJ/jXiNekELA5Ykl9yggOMClU1w5q44swN6+UX8YBOg/IhYfG/G/NkCwZI4shrJpQEi5m7YlrWJA+z/gNosFVkB8TkeWoBQ+QIBmIO7TOjPAZjg5p8u/P8B1XQwNRCg1wOC+5az2dTjAIRPF7TEoLsCqqLJiWao1QNQ4vOcW3VxAW9PM9/q8WkDMIKEGw+BTQI2CFk5vNThADDdtPWNcOMBuXataqd06wP4H7TYqJDLAmheI9/wEQsDKEfvh+a1AwBQeNixPOx3ApenyFCUTbcBI23pzstRkwJmc9GT2MV3AW9cDVBcQW8DUsEkO1W9WwC4qDSqBOEPADuO5VFomMsB26uVcxvFGwEEGRfPy6ETANV/1n+q+QMBo4ReVEMBGQO6Fyvz/WP6/p5GAUyRlDUBKZiqO+gQZQPsVPAGgGTXA7PGt/cyOQMBpXH5LKhUGwK/5ul+vYjRAQ3q6DYZtDMDo6SRS0C8/wJkC/oWXzSdACr48dM8WIcDxmjQJ11sZQLahruxAIh1A+WeN3Mu7L8APcQXZD0wwwKhdhaotoSlAKIBpVAPXJUCbsgBvaNBDwG6v7f1bgFHAA3SRuV+nuz+B0ZzSL8AlwExG/ikTDCFAOUXJA/vFNUCgFhy0TgEzQMecN6jCED1AuU5EKqx2R0APosWiCAA+QKYSvUQOByfAtm9tHApaM8BCkRhPo5AZwNjAK6ApQSfAnuw9f9PFE0BI1lkI+Tw7QJN+nbaiZkRAS5SEEkcISEDuLwgisBlEQGbbxKNkXChAB7iya4kNDEC0YU0srOlBQMLx5m1rdSzALF7Sz486JcAEwcSc0xkQwJpvhkueUCtAmh6ldK+8QEDR7zVDB89DQB0D622jNjBARUutm9fqMMBSlSxmRdTFPxQr8Mfj/UxA+FpldWwyK0AmZwVjgqkwQCPxk6j54xpAnDY4FikmA0Cfz23WjKkiQEhArU/sczBAkCTydT6m5L9S6hyngDU8wFiDSHvq0g7ApHTZi5WzS0A493HKi6ZVQEI2P+XG8lFA6VxvZ2kOSkBDmAPYKEo3QNhvX1ft3AHAuu1nhAt9H8AlKehHonMrwASbNwM0ND3AoZVbuuP0G8B7ZvNOuBlEQDZOvglsmGBAQCJYxulmWECF1mXQqHxXQEa7H+W9W1BAivolv04+KkDjALlorjYtwCaD+mlAAjLALxh9m3rcNcBKVNJ2W5YKwKqhUxKvtS1AkiX1BlsgR0BoonxnVZAZQAfUschTRUdAyiiBYqhCTkDmNhpn1Ko4QEvLMdZylxPATeyX/0icIsDAz4Cf0LETwEZOCfa2VSZAakhCZ0IfNsBoGqXhRhtswH7pqxqs2m/AoSmOtBxGY8CB3pDjyN5IwLZD0YCVBADAQU30BdqpF0DotGCV2fANwOOe7KSZUhPACne/BXY5KUBePgTMSaxQwONnXOI2EUlAUy0ITXrOCsC71JSL+9AtQMePapBqxUVAKjSfRsJAO0DSCkLQhiMrwOQo/Z0D20LARUyAWL1iSMDEdNW6aexLwFgLuecY5znAy1qpd0T8DsDaNfuHcd4wwDQpC/c3JzFAtvPjmLQbRkDpkIgY7kNAQIUOWJjC8BxAmuVdwRw4JsCtNwj35kxEwIWIYR98L1PAywUxVldYUMDra1o4BhkcQLSyO43OKTLAyo3B07pVEcC4r3uE9ho1QBsQ24Skp0FAO/9x/Bh9QkC19YWOTdAzQB51kjAWcjbAHZTTRNq7S8A6ZL7UJTg9wDsdDJFvCkNAMI6b/ujfFsDOWiZkDok6wPHYJKbSCirAHYd2wZ2yOUAYjLc0/SdLQLIPfwAvoEFA+mLC0cXJMMAG+y03wpM/wOIwd480RDZAcsrQrFHoSUARDZvOOp03QJqH2DIajTHAoQLVK+a7PsBIxwXkMAEeQBHT/3Lt6UpAlLDrMLB/RUDZP1feDKggwC5VIgT+kybAyyzCqO+xR0C+569m8PVEQBFmY/yDLExAuUjXo5crPkAjRobHvAkXwEjLe6aX0glAhgcLyOefRUBfnmUCBUZGQIMThLiutBVA5Brab4IADkD0ggzTGPxCQMd0YHAjkvk/mKb/CXRURkDJMXCvJO5QQNE0hOog1ERAGm6Cgq8uMUBKo90Op/85QCCRHBxdxDtAYu9DXmKuFUDaqW725/ISQBxDscty4hFATFZLPUwBScChx/FkC6o1wN40y9kY60lA+65/1ZGcUEBW3lAlcjVAQKQoJ+bnSSRAGlNCaJgJEEB6O89pVn76v6TE1oAb/f8/AltTzVM5QsD2ipgiG4ZQwIrh5Z0+R1fAVP+4/kopI8B4wP9fpPZGQP+kU9nAQUJAB5bXgAcnKECiO2KZ60IPQP3WCe2W+iZApDtobyjBMEBCTvu73TtRwOWJNIclzk/AkIz5zyA2ZMAfkKv7/QFbwNDNtVbepzHAoEGJruiuP0Dm48Habj5BQOEDq+jCHDVAyvo6oAzzOUBLpFAJdNI/QKGtWNdslVXA0ksSg6Y1KMBMoS6mlbkiwAkXKXRqgxxAbr/4cofGOUCuwq02o1MuQB7/2Ait8EDAtGyGv2QrVsBQ2Ydq7N9ZwAXwtsUpek7AxWuQ1Xx8LkAkmk1WU/Q4wK0YEtJxXee/zdyDWokjJ0DKcqWi18giQJUGdVwRXyDANI4ggGzeQcCBeiSWi/NMwF5NJxnJd0zAVKSrl+49PMCCSV4XcPgoQJfZOkrs4zFA0GKXMy34LUBpSe4M9zPrv4W8/d3zDzLAABFxEpy7N8Bdzc6t0j81wCmhtP9b/jTADpxV4Ph0M8D4XJ0EdbIYwNhMO7jJhCtA5bS3iytqUEBeHLsyMSlEQA2hm9JDCaC/X83iy8+/PsCFs2d7sfw2wHrDXBPa/SJAslVGL54cOkAHz8PMmSszQD9FYZfFfy5ATa3x76HiNkCpZLbr8AZVQNn4CePP9FJArBDuN1c2QUBHdAkvdZcuwHcxJSeUPS/Ab5iKEGDfP0AT5ielhTZQQHKQXNy+jExAcfEYpNaPREASv3f/DhFAQA/UvDL8qUZAf43+MpwDVEBUOm61BVlSQNn6iqTjYjZABQstgS31C0BHFqqxjjFGQJNFqlmgBFVA7ZmUh0V8VEBime+oC49OQJvB/ND7mzpA1NXSgCPuT8AmsFXK2Gnbv+VBbA5LGUpAJA0RqTD8Q0DiXmTlDE82QMsiv5sHTEdALZaQFiDmUkAO/SiM2NBSQO09kNGrNUxA2fiC0zC33L9wbW/Uq9djwAmNz7pwhVrAZ4oD59caMcCki9tbBNcwQO7PKysS3jFAKBxp/QkQPUBC+poQFoFDQMpG+opF6UFAH8eWZVImOUBxwuOWWI9CwN7xULCsTFrAIt4O/0sRWcCemQ6A0NtFwLd1RE9ExyXAmr17Q+wS6L+JwyiWPRgVQPYQnwe/+gBANWywg9zqBMCwNKzvIvDrvxiEgq6HmkjAqcResfX2U0BsNYe3s5gyQL8vrVT6PCLAnxrFb2v8L8Do+5YALDAVwBoNQtSKovY/Kg0zR9DwJcDtyC6aCSUvwPLbQlDLzhxAwf9uFUf9BMAS4uqFzYJCwBR6FNNHpztA1axFzG/4BEDwn2VE0vktwAh2sa6lSTFAZHv3GQWbRUDPqohumI01QOxOtMGqE8a/cr22d8PhNUDQhw8R8PZBQFUZiMFPnSjAMAM+bNA9SUDKNphgSKwOQOB6a5fxkUbAucG44RQPPMB1mGPbbowoQOOLJ+2E0jdArfgjzaonQEBbSouJ2rVPQBAtnj3Rjk5As267/MteBcAH4hpHbEpJQIP2gxbJXyZASIw4m5szQ8B6K0vQtmY/wKN0rWMn0hVAmgS6Rk9VN0A6fodiIw5AQMwS0gVSNkdAnLGf/u8IOUC0eUKzz2wvwARrio3o0URAev1bmXGKREBSTPz/NXIoQJaOVnUugBhAXw1tk9uzNkDHrtkjorw+QNiAolk8LDxAFKLjryqENUAReaJgSTocwBsyr8T0ri/AFpJj8MxdR0DaOm73hLlUQF9+olEUtFBAWoTj9nzEQUAZnKHAPIA1QKA4wb3icjFAZqjjLFmZKkAccZf21cMVQGej9XNvBijAwkycT007+7+EaaGde+FGQJctrkD5YldAlKh8QH3jVEAG2TIIrl5EQOvGArTGYSZA4e63ZHjs6D+8PFbU3NbKP9bCdXeePvw/9tModGIrFMBiLq0qctouwD/LjqE9hRJAlsRR87J9RUCUYN1gkv1GQKVP724bkD1AQocMmFGtNEA6TGDm18wsQNzvXBmoFyRA3jQa4xpiKEB3Lsace8sPQMDCqUh+NEfA+2XKyLlEP8ApHqbgPcItwG7tFu0tQyXA+ZlA68R9HkCn7x3AYKdBQK3f5ZrjTUNA043SvWloN0DZ2nIRtyA0QNfoZsymyTRAtDBcIjEPQ8AenQm8IYwjQIfuLUOb7ArAXl8xucU5P8CWtBkVUikqwPejVZy4JD5Avby+HyLXQkAb4vj26wwtQFFfOFr82TFAA3xq8YWDUEBjulXFkrAjwH2hx/m+SVRAc3qAKjM6SEA2CVSOqa8rwF7bWttgKjHASbdV0hI1MECB6UdH8wc0QDuQHO5+yfo/2DqA2uQsQkBA5n9qVTNlQPiTAF1LY2pA/rs2H81AcEA9pxgv03xcQD4WNrsVqxnA/tHx14t7P0As06qXl5tgQOcd9AVfAWRAuVg3rSYxXkDs+q5cI1RTQI2WHr5rtxbAL7GeR821bECyae0Iaf5vQNMDDdFMvVVAIKOoLU3DRcD+wdorwMvyv/T5h2De81lAoYuFFpcHX0A7cJzUYZlUQOt93bMvoE1AvdP/MGOjLUDAkKUJZ6tcQDK4JTGms2JA3EtGDn5YQ0DLxNVn3CVEwOm5/ObzaCJAthesy0WcVUAmdigOSk1SQEUdNA+6GiNAKfbQnNIGMcAQ8iuLmSVBwJE8UzeEO0/AiKTcJ43/GsDS8c/V+TQjwD42Gl1saeU/ev7kaKioSkBQZZOeb/hTQFfXuxX+IjpAkmkabYyrSMB7sbe1Y45RwClf4rTm9EnAak9SVsKoYsAH1In7Z55bwMeS8jtfsETAhsx/4l0WQECsKuemhM1RQKKS8rPXGERArVzSixf1RsBsWnrbrF9bwN8JhxnaxVfAhnIxCDxMNMCUS11DeolSwKGJYugeZVnA3Gl5dW6QScDd0Cd/7fE1QHSPozXC90VALstA8N1fLMAiVuX4Pg9bwKQatOJk6GLAyha3ejQNWcAZC/EPrSQ0QDb8wXHkZVJAqitM506EHMDiA2bGVgZCwMvFRG8U7i/AXy0TJcUtCEB50aJnEx06wGQ2HGPTr1bA8JhLdEoDXsDN2SPbg6dQwI8c+u0CHUxAGW8Ll7dcYED+H9yp0PpWQNXJPc9BFxpAdXqx1SKjQ8A7adGDCmA0wDg/+DpkdRpASuVxBaJmHsALK9lSoDNAwFAND4HaLRfAhoZBdPbfWEBnmD+W6VQtwA590VwFLVdAn4MQ2kxcQ0BDHTegckBBwMii4GUSODfAI4gRqI09QkA3Gw4v64JMQBASMtmDHz5AtDH9kx+NQEAbbyE5qs9iQAzYbmsR73XAhhlqCAZEUsDU7jQHwWYgwKHzAHFasD7Ajkr10hrXKcBfmcrjaGtGQAGayOH/R1FAVqDclhwZRECNzJ9T0BJGQBCYGhC+nWpAxtHN2Rdgh0DIQSmdBjeFQFoPM5HMD3VAwFkzeCybIECS/m8NHAlZwGT6neHdj0bAIrr5Uxz3MUCQcgDTp95GQIt9pFUAGE1A0PfDJlTGJ0DeaykQpNuHQErmdUddZ4RAlHw3N/p+ckAOmR1aqVb1v6JXLfqpy03AfZe43jDHG0Dn9hVcf4o3QFurj/XYEvC/o+6WzsYYNED/I23KVl5JQFIaASllX4BABTNMNNfReUDQykoz5oJhQJB88hW/NkPAXLpiXVl2KsAsSpeT4FlQQAQnlwWJNUNAnfucCBpxQsB+D/J4uXg6wDQkogp3o0pARtGpP9mTYkATHn1UMUVGQG5Qr3XRQFbAZbWSxFYIWMBUoX81A3Y9QKQMxBdoI19At9pcHFEOVEB1yZ+TL3YdwMMaHjnEYR5AanbwLlWGXkC1cYHEuAhgwEKrb0GzGnDAhmDcUSbuccCLmGU+VoVjwJDnibZ6gERATvSNObmlYUDh2xKduFpYQE5iUY1mh0FARrDxDz9BVUCFMxOYbg5uQJ8e0rVhUGTASBpPRDvPdMB8c506XuJ1wKUwVjeddmfA0jIOSzh2MUCcRb/GrPdaQBPM2QI7DVJA5qkMOhNuRUAlRNnwDQJgQIhe8fiqnnNAtEafGdU3Q8CvsEYAFPhnwNuQF0FIBnDAAzMKxKDOZMDH7wPMFDgtwN7G3CWXAFBAOfz6HlxySEDDDX+a/VNEQHSfj/5XZV9AZ7eECI7xckACbb8le5IWwIyPmJ4XYzjA/kHpn1daWMCwhqIHOU5ZwAPzEw8JwjvA5bJky8haQ0DsBt7wvAtJQByixEzsd0dAtXK8iW7EV0DR5PN/smxtQMvv9yXTiHDA1ECmlM/CTcAY/U5bFZ86wCmDgY+oX0TAUDA7EQtuMcCR5Rp08CA7QJbucX+ISEZAWbiTETd7OkB1GJfhXMo3QGDM+brft2BAyTuwSQrgh8C0DH4Pz7R1wJZyG71+blzA8Q2P6LigMsDRgAsqZ4AuQAg9AF2lXDxAEjAuko/GMUCUio2iq+dAwP17QJVI0lTAW1RmcwPjK0A=",
          "dtype": "f8"
         },
         "v": {
          "bdata": "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",
          "dtype": "f8"
         },
         "w": {
          "bdata": "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",
          "dtype": "f8"
         },
         "x": {
          "bdata": "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",
          "dtype": "f8"
         },
         "y": {
          "bdata": "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",
          "dtype": "f8"
         },
         "z": {
          "bdata": "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",
          "dtype": "f8"
         }
        }
       ],
       "layout": {
        "scene": {
         "xaxis": {
          "title": {
           "text": "X"
          }
         },
         "yaxis": {
          "title": {
           "text": "Y"
          }
         },
         "zaxis": {
          "title": {
           "text": "Z"
          }
         }
        },
        "template": {
         "data": {
          "bar": [
           {
            "error_x": {
             "color": "#2a3f5f"
            },
            "error_y": {
             "color": "#2a3f5f"
            },
            "marker": {
             "line": {
              "color": "#E5ECF6",
              "width": 0.5
             },
             "pattern": {
              "fillmode": "overlay",
              "size": 10,
              "solidity": 0.2
             }
            },
            "type": "bar"
           }
          ],
          "barpolar": [
           {
            "marker": {
             "line": {
              "color": "#E5ECF6",
              "width": 0.5
             },
             "pattern": {
              "fillmode": "overlay",
              "size": 10,
              "solidity": 0.2
             }
            },
            "type": "barpolar"
           }
          ],
          "carpet": [
           {
            "aaxis": {
             "endlinecolor": "#2a3f5f",
             "gridcolor": "white",
             "linecolor": "white",
             "minorgridcolor": "white",
             "startlinecolor": "#2a3f5f"
            },
            "baxis": {
             "endlinecolor": "#2a3f5f",
             "gridcolor": "white",
             "linecolor": "white",
             "minorgridcolor": "white",
             "startlinecolor": "#2a3f5f"
            },
            "type": "carpet"
           }
          ],
          "choropleth": [
           {
            "colorbar": {
             "outlinewidth": 0,
             "ticks": ""
            },
            "type": "choropleth"
           }
          ],
          "contour": [
           {
            "colorbar": {
             "outlinewidth": 0,
             "ticks": ""
            },
            "colorscale": [
             [
              0,
              "#0d0887"
             ],
             [
              0.1111111111111111,
              "#46039f"
             ],
             [
              0.2222222222222222,
              "#7201a8"
             ],
             [
              0.3333333333333333,
              "#9c179e"
             ],
             [
              0.4444444444444444,
              "#bd3786"
             ],
             [
              0.5555555555555556,
              "#d8576b"
             ],
             [
              0.6666666666666666,
              "#ed7953"
             ],
             [
              0.7777777777777778,
              "#fb9f3a"
             ],
             [
              0.8888888888888888,
              "#fdca26"
             ],
             [
              1,
              "#f0f921"
             ]
            ],
            "type": "contour"
           }
          ],
          "contourcarpet": [
           {
            "colorbar": {
             "outlinewidth": 0,
             "ticks": ""
            },
            "type": "contourcarpet"
           }
          ],
          "heatmap": [
           {
            "colorbar": {
             "outlinewidth": 0,
             "ticks": ""
            },
            "colorscale": [
             [
              0,
              "#0d0887"
             ],
             [
              0.1111111111111111,
              "#46039f"
             ],
             [
              0.2222222222222222,
              "#7201a8"
             ],
             [
              0.3333333333333333,
              "#9c179e"
             ],
             [
              0.4444444444444444,
              "#bd3786"
             ],
             [
              0.5555555555555556,
              "#d8576b"
             ],
             [
              0.6666666666666666,
              "#ed7953"
             ],
             [
              0.7777777777777778,
              "#fb9f3a"
             ],
             [
              0.8888888888888888,
              "#fdca26"
             ],
             [
              1,
              "#f0f921"
             ]
            ],
            "type": "heatmap"
           }
          ],
          "histogram": [
           {
            "marker": {
             "pattern": {
              "fillmode": "overlay",
              "size": 10,
              "solidity": 0.2
             }
            },
            "type": "histogram"
           }
          ],
          "histogram2d": [
           {
            "colorbar": {
             "outlinewidth": 0,
             "ticks": ""
            },
            "colorscale": [
             [
              0,
              "#0d0887"
             ],
             [
              0.1111111111111111,
              "#46039f"
             ],
             [
              0.2222222222222222,
              "#7201a8"
             ],
             [
              0.3333333333333333,
              "#9c179e"
             ],
             [
              0.4444444444444444,
              "#bd3786"
             ],
             [
              0.5555555555555556,
              "#d8576b"
             ],
             [
              0.6666666666666666,
              "#ed7953"
             ],
             [
              0.7777777777777778,
              "#fb9f3a"
             ],
             [
              0.8888888888888888,
              "#fdca26"
             ],
             [
              1,
              "#f0f921"
             ]
            ],
            "type": "histogram2d"
           }
          ],
          "histogram2dcontour": [
           {
            "colorbar": {
             "outlinewidth": 0,
             "ticks": ""
            },
            "colorscale": [
             [
              0,
              "#0d0887"
             ],
             [
              0.1111111111111111,
              "#46039f"
             ],
             [
              0.2222222222222222,
              "#7201a8"
             ],
             [
              0.3333333333333333,
              "#9c179e"
             ],
             [
              0.4444444444444444,
              "#bd3786"
             ],
             [
              0.5555555555555556,
              "#d8576b"
             ],
             [
              0.6666666666666666,
              "#ed7953"
             ],
             [
              0.7777777777777778,
              "#fb9f3a"
             ],
             [
              0.8888888888888888,
              "#fdca26"
             ],
             [
              1,
              "#f0f921"
             ]
            ],
            "type": "histogram2dcontour"
           }
          ],
          "mesh3d": [
           {
            "colorbar": {
             "outlinewidth": 0,
             "ticks": ""
            },
            "type": "mesh3d"
           }
          ],
          "parcoords": [
           {
            "line": {
             "colorbar": {
              "outlinewidth": 0,
              "ticks": ""
             }
            },
            "type": "parcoords"
           }
          ],
          "pie": [
           {
            "automargin": true,
            "type": "pie"
           }
          ],
          "scatter": [
           {
            "fillpattern": {
             "fillmode": "overlay",
             "size": 10,
             "solidity": 0.2
            },
            "type": "scatter"
           }
          ],
          "scatter3d": [
           {
            "line": {
             "colorbar": {
              "outlinewidth": 0,
              "ticks": ""
             }
            },
            "marker": {
             "colorbar": {
              "outlinewidth": 0,
              "ticks": ""
             }
            },
            "type": "scatter3d"
           }
          ],
          "scattercarpet": [
           {
            "marker": {
             "colorbar": {
              "outlinewidth": 0,
              "ticks": ""
             }
            },
            "type": "scattercarpet"
           }
          ],
          "scattergeo": [
           {
            "marker": {
             "colorbar": {
              "outlinewidth": 0,
              "ticks": ""
             }
            },
            "type": "scattergeo"
           }
          ],
          "scattergl": [
           {
            "marker": {
             "colorbar": {
              "outlinewidth": 0,
              "ticks": ""
             }
            },
            "type": "scattergl"
           }
          ],
          "scattermap": [
           {
            "marker": {
             "colorbar": {
              "outlinewidth": 0,
              "ticks": ""
             }
            },
            "type": "scattermap"
           }
          ],
          "scattermapbox": [
           {
            "marker": {
             "colorbar": {
              "outlinewidth": 0,
              "ticks": ""
             }
            },
            "type": "scattermapbox"
           }
          ],
          "scatterpolar": [
           {
            "marker": {
             "colorbar": {
              "outlinewidth": 0,
              "ticks": ""
             }
            },
            "type": "scatterpolar"
           }
          ],
          "scatterpolargl": [
           {
            "marker": {
             "colorbar": {
              "outlinewidth": 0,
              "ticks": ""
             }
            },
            "type": "scatterpolargl"
           }
          ],
          "scatterternary": [
           {
            "marker": {
             "colorbar": {
              "outlinewidth": 0,
              "ticks": ""
             }
            },
            "type": "scatterternary"
           }
          ],
          "surface": [
           {
            "colorbar": {
             "outlinewidth": 0,
             "ticks": ""
            },
            "colorscale": [
             [
              0,
              "#0d0887"
             ],
             [
              0.1111111111111111,
              "#46039f"
             ],
             [
              0.2222222222222222,
              "#7201a8"
             ],
             [
              0.3333333333333333,
              "#9c179e"
             ],
             [
              0.4444444444444444,
              "#bd3786"
             ],
             [
              0.5555555555555556,
              "#d8576b"
             ],
             [
              0.6666666666666666,
              "#ed7953"
             ],
             [
              0.7777777777777778,
              "#fb9f3a"
             ],
             [
              0.8888888888888888,
              "#fdca26"
             ],
             [
              1,
              "#f0f921"
             ]
            ],
            "type": "surface"
           }
          ],
          "table": [
           {
            "cells": {
             "fill": {
              "color": "#EBF0F8"
             },
             "line": {
              "color": "white"
             }
            },
            "header": {
             "fill": {
              "color": "#C8D4E3"
             },
             "line": {
              "color": "white"
             }
            },
            "type": "table"
           }
          ]
         },
         "layout": {
          "annotationdefaults": {
           "arrowcolor": "#2a3f5f",
           "arrowhead": 0,
           "arrowwidth": 1
          },
          "autotypenumbers": "strict",
          "coloraxis": {
           "colorbar": {
            "outlinewidth": 0,
            "ticks": ""
           }
          },
          "colorscale": {
           "diverging": [
            [
             0,
             "#8e0152"
            ],
            [
             0.1,
             "#c51b7d"
            ],
            [
             0.2,
             "#de77ae"
            ],
            [
             0.3,
             "#f1b6da"
            ],
            [
             0.4,
             "#fde0ef"
            ],
            [
             0.5,
             "#f7f7f7"
            ],
            [
             0.6,
             "#e6f5d0"
            ],
            [
             0.7,
             "#b8e186"
            ],
            [
             0.8,
             "#7fbc41"
            ],
            [
             0.9,
             "#4d9221"
            ],
            [
             1,
             "#276419"
            ]
           ],
           "sequential": [
            [
             0,
             "#0d0887"
            ],
            [
             0.1111111111111111,
             "#46039f"
            ],
            [
             0.2222222222222222,
             "#7201a8"
            ],
            [
             0.3333333333333333,
             "#9c179e"
            ],
            [
             0.4444444444444444,
             "#bd3786"
            ],
            [
             0.5555555555555556,
             "#d8576b"
            ],
            [
             0.6666666666666666,
             "#ed7953"
            ],
            [
             0.7777777777777778,
             "#fb9f3a"
            ],
            [
             0.8888888888888888,
             "#fdca26"
            ],
            [
             1,
             "#f0f921"
            ]
           ],
           "sequentialminus": [
            [
             0,
             "#0d0887"
            ],
            [
             0.1111111111111111,
             "#46039f"
            ],
            [
             0.2222222222222222,
             "#7201a8"
            ],
            [
             0.3333333333333333,
             "#9c179e"
            ],
            [
             0.4444444444444444,
             "#bd3786"
            ],
            [
             0.5555555555555556,
             "#d8576b"
            ],
            [
             0.6666666666666666,
             "#ed7953"
            ],
            [
             0.7777777777777778,
             "#fb9f3a"
            ],
            [
             0.8888888888888888,
             "#fdca26"
            ],
            [
             1,
             "#f0f921"
            ]
           ]
          },
          "colorway": [
           "#636efa",
           "#EF553B",
           "#00cc96",
           "#ab63fa",
           "#FFA15A",
           "#19d3f3",
           "#FF6692",
           "#B6E880",
           "#FF97FF",
           "#FECB52"
          ],
          "font": {
           "color": "#2a3f5f"
          },
          "geo": {
           "bgcolor": "white",
           "lakecolor": "white",
           "landcolor": "#E5ECF6",
           "showlakes": true,
           "showland": true,
           "subunitcolor": "white"
          },
          "hoverlabel": {
           "align": "left"
          },
          "hovermode": "closest",
          "mapbox": {
           "style": "light"
          },
          "paper_bgcolor": "white",
          "plot_bgcolor": "#E5ECF6",
          "polar": {
           "angularaxis": {
            "gridcolor": "white",
            "linecolor": "white",
            "ticks": ""
           },
           "bgcolor": "#E5ECF6",
           "radialaxis": {
            "gridcolor": "white",
            "linecolor": "white",
            "ticks": ""
           }
          },
          "scene": {
           "xaxis": {
            "backgroundcolor": "#E5ECF6",
            "gridcolor": "white",
            "gridwidth": 2,
            "linecolor": "white",
            "showbackground": true,
            "ticks": "",
            "zerolinecolor": "white"
           },
           "yaxis": {
            "backgroundcolor": "#E5ECF6",
            "gridcolor": "white",
            "gridwidth": 2,
            "linecolor": "white",
            "showbackground": true,
            "ticks": "",
            "zerolinecolor": "white"
           },
           "zaxis": {
            "backgroundcolor": "#E5ECF6",
            "gridcolor": "white",
            "gridwidth": 2,
            "linecolor": "white",
            "showbackground": true,
            "ticks": "",
            "zerolinecolor": "white"
           }
          },
          "shapedefaults": {
           "line": {
            "color": "#2a3f5f"
           }
          },
          "ternary": {
           "aaxis": {
            "gridcolor": "white",
            "linecolor": "white",
            "ticks": ""
           },
           "baxis": {
            "gridcolor": "white",
            "linecolor": "white",
            "ticks": ""
           },
           "bgcolor": "#E5ECF6",
           "caxis": {
            "gridcolor": "white",
            "linecolor": "white",
            "ticks": ""
           }
          },
          "title": {
           "x": 0.05
          },
          "xaxis": {
           "automargin": true,
           "gridcolor": "white",
           "linecolor": "white",
           "ticks": "",
           "title": {
            "standoff": 15
           },
           "zerolinecolor": "white",
           "zerolinewidth": 2
          },
          "yaxis": {
           "automargin": true,
           "gridcolor": "white",
           "linecolor": "white",
           "ticks": "",
           "title": {
            "standoff": 15
           },
           "zerolinecolor": "white",
           "zerolinewidth": 2
          }
         }
        },
        "title": {
         "text": "Curl free output from GP Regression for n = 100 input vectors for current carrying coil"
        }
       }
      }
     },
     "metadata": {},
     "output_type": "display_data"
    }
   ],
   "source": [
    "plotter(outputs_coil_curl_free, \n",
    "        title = f'Curl free output from GP Regression for n = {given_samples_coil} input vectors for current carrying coil')"
   ]
  },
  {
   "cell_type": "code",
   "execution_count": 19,
   "id": "7c539e0e",
   "metadata": {},
   "outputs": [
    {
     "name": "stdout",
     "output_type": "stream",
     "text": [
      "MSE for this case of 143.3251164482789\n"
     ]
    },
    {
     "data": {
      "application/vnd.plotly.v1+json": {
       "config": {
        "plotlyServerURL": "https://plot.ly"
       },
       "data": [
        {
         "anchor": "tail",
         "sizemode": "scaled",
         "sizeref": 2,
         "type": "cone",
         "u": {
          "bdata": "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",
          "dtype": "f8"
         },
         "v": {
          "bdata": "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",
          "dtype": "f8"
         },
         "w": {
          "bdata": "RyXQkOHgbMCg9CfM+bq8P+4v5eOsK/s/z5n5Q855WsC+cKjcuP1GwC/jQc2rmWhAC/lWDF0kdUCWO07GQOBoQBRIy8K0yknALoEO5VNLYcCV+zB3GrhowN22HjcaEkXAAN6k/ZKwSMCbWOrDL/dYwCC45+seBeQ/Yla3Wu1xbEBDy2yr65tzQOIhY6DYaldANdpmXW6LbMDbyIfEtIlywCa6yIP+SmHAotXGN0AbRMCst4koTPo4wDKm5Se9WSnAqH+gd8QFT0AMvM7MvZ5mQAzt7B7VLGlA4K3rhRhQ1T+lGrfAxyVxwGunQ4aAJHLAaEOvwbRsUsAAAgUe1s64v04cidkRHUBATXQWW65SUkDTM7iRm8dUQBrg9N9kdlNAIc3elxmXUEBSEKQFrJZCwJIAVAtoP2jAtcKa9XjnYsDUx0KEkQ1JwJiS8IRkNitARpeAKZJ8QUCojzJfB+pUQByPZ0w0HlBAQOLIH+2n5j+6ChVPAEcgwJDvI8C4ajbA2bK7sibuU8A+oAHSbcooQClpWpdwPlTAFLGSeVrNQ8CA+wzZk8ZHwCbozxVeRzRAI9pYWu5wRUAAWAX+7OWjv0ATubHqneO/4OJpWndg6j/DlA/QH75BwE9fgk8WUVVAAm+Kyg5+YsDQ7LTcFH9gwGhBYKourGLArhE1ZtWWScBWgBMPQcY4QF61ANhXuDRA1FRnlaY/OkDAkMtPTrL9P2k/DGYPFFLAQ8ndVczfRkAMYWrDt/lrwNIECFq4IWfAKlrfWhIHZMBNsC0qWhlQwNzzRfYi6DfAZQQTLicgQ8DgOM7WkbTWvwAslej8QrA/vp/yyGozWcDAhdoXai0zwOdJF7KbLG3A3eULoC4GXMCG3M2ADhBDwBVpVpJxN0TA0wtaETW6Y8AxCeLrlcprwMuziEljy1bAzoMzxp1POkDCHPuFXhxLwGWbnN9r40DAGIVGbqwcUcB0AmHQHAlZQNWjmAdb6VpABKHTsOYHXMCxtZAmJjN6wKmqDF+y2n3A355keISBZ8Af1AdlZk9SQA6AvHpnfTBA+MMJ+wVPQsAwkEnSYgNlwJsNTSmXhlLA9A09it2kR8Bo61i9z0fXP1WHd+qMHF5AX+xz60LDakAMiI+ylBJmQGY2YXaB4k5AAL4Ik6+apr9cRq8iBcEyQKqtumytMl3A+OxLOhymTMB6rivSHEZHwJ2/N05NaCLA226NqUHPVECUE4n/ns9kQMhgF4zSwGJAi+mMOC6sPEAXGuJcLt1VwIwYv231PVbAAu3fHD5xS8AAjhOAeuNAwPYz6jZjGj/ADOc6n06FIEAz/9ROqBBMQBwR2+c+kVZAbn6k/fAZVkD4RBj55pEjQFTUxTMRkFfA/d7igjgcVMAuckwACr4wwLQrbFgFMCPAiJ2ASAvRHcDc4uwLuWxDQO7JfH+Z8UVAcJbR2286NUA4/13+qAU9QGys7PUD+iBA2mfWryEiSsDAIhk+4ej8vyZc7kd35jLAAJEgb2OYxT8A1VdUPRrWP4rT+/JR1kpAKvFHFaooREDg7UnPE2EtwOD4cymAnwTAnF9vi2VsJkA1sJ3gHa0xwLJfFt8HhlNATmjFDMyZQ8De+DBMKVUiwKrLeKM7hDPA3gDhmOwMRUDawEl0KqpEQKj4rf870yXAYNB74SHCEkCoJd9GbnMwQIQC21rLTTXAHKlfif9AWUA6hDPN1ftPwMWdvDgp8EDAONyXGpYLRsA0WecACaA+QOwpb7NELEdA8IkuWWyhGUBogBk1wgo/QHYpglwhwj5AEtvw7FZoSMDUFC1uDh9MQPOnzg6H+FrAHXxrvcuvTMB7e2SK24w7wMaVHO9LNUxAcoVXr36zSUAAO2mDE97MvzZtm6uFDkZASiK7DD7BTkD9K5PLbOVJwNA9a5/66vS/BIERDOqCXsAXuogE5/Y/wGFFx1QLojtAUup/dNnXUEDonSwhXCkGwDDDB77so1DAbwmEp2OTO0COjkrYeYFaQFh9HkFlaArAxok1oG13JsCi9gl8wfUxQGIuKYAuw1BAwnTqHzDCFkCsJWsKyPxawPJVvrQM3GvAIXJfbI9YacCoN/YF43rnP94iuDD+QmJAhyoYDLsVSUCsYEbJYgsOQJh0VY+3c0bAkZkhIxOpOcAAt48pXQzeP15wAqkw5lhAygLvuaiZaUBEIw8cnEJmQBAfDuc5WkJAoCiaASOjQ8Bgg+mATDk5QNo1xJ1YpVRA0JLxzeQbQMDNCauixmwtwOBDlujEKBpAgftpQaktUEA7GJuHXiNcQK+iknY281ZA5KhrkCxCNEDPmU/fRyE6wA0fncbFUyrAYOC1o2O4878kgrd/aKUUwFi7T87U9BDAQMvBlyvG67+QLGBJOXs6QIj5QiKKgT1AoJovRTkcKkBwaWaC+zYXQBAVwj9XwxfAlxbWx4yrNcD6Swxt79YxwAAHCT0fJMg/YF4GDt31A8DwhabP4xwjwMBhzqwpoB1A+BJqmt2ELMBwg5u9JdU/wABHfD0vTdM/UOPeTW6mHkBUucMjZ0s6wAAwa4qHes6/0j0jXKcSM8BgTYHaq80IwGCuPuxU5BnAoAtOieY8KkC8YYPwQIQ4wC54khZVgEvAQPXcWSskJsBAb+fMOG76v2bgwMahi0fAaG9bCwnHN0ACX6tRAWo7wAC6SFC8B9M/AGU2mcTy778MTDY9JN85QHCF7HPWdjPAiWX4dBVIT8Do2hQlfuguwIia1HDaESLAPKCTvwIGUcCNmIQqsDpDQD4eXBh3gCbAAL6bs4tBtr9gHafCYpEMwJ5/y5PuoEJAINf0Bu41FcBGR9B7IhlMwGBOy2zT7BTAcJJar7bLEUBhIlCegIlSwNY7+sz53TtAAPp0S7o9tz+AA7VbUJUZwNDD8PDjwARAwITz1WeyUEBSqwHPDOBAQLisMhRy1j7ASEFrSCQdJEDANtMMQZY8QPg0EwE/qE7AgD81Q8Nk0z8+Yklt98ZCQFK+9ZUfkTFAGGBj0GG4IUBe2SeAq7dQQH7dpb6wh0xAwCDLlrbd8T/oD7thqDI5QLRE3HiOXklAlu2dZ94WO8DmDgAUfCwgwFeAX7P8YWpAkMlp1CLbVkCzvPiojDZXwBTE8kNzd2DACGSUqxFKT8BCZjYaeDoKQKbX/hdcSktAFnXI/Z3bUEAQD5IW+IrwP0DWVYjXidi/7Zm0NBgqOkCBbUodpIkyQPQMEjpioTRAxDfOMkk9WEC/zifU8b5mQOh0xgnp02FAQKAE8YOC5D/4WrGmyv9MwAy/MTJiwD5Aj9CWyDeNU0AADPCp5zPLv4DL6+AH4ts/wLUPjD0eG0BQqcmFBqxEQDeb5bLGvFJAHpuAE64lTkAAwoiXFrrWv8sTDOe6WkDAcPWTOyS7AEAAiS7+5svMP6A/hptpaQFAYCNIvZw/+D8g80rVL8gZwHj8c+wfgiLAEO+0wgZfJ8AADgrIONULQPxqyC2p3DBAACciTHRn1r9opr2ppVIzwERxl+nFgEfAUA33aD+eCsDwH8tSlv0BQHAXG0tjRSvAepIg6Of6QcAdCXum2pVPwB54DullS0DAyAsFpVYRP0AQhDTzRq40QHH6xfcQ5kTAkzBbjRNlUcDwAi/RTaw7wMACpSHCvgfAwAnUCgxSAsBkr+/NuiE0wH2QeLOWmFLAwzTcckDyTsAEr0QdoC8xQJA1Shu5RB5ARgI2RqLWUsAY5F56XxtRwCwUY6XwAUbAPlNKafP1M8AA2ZDYudf0Pzi3HGb9zyBAXwPkIksFTcCaYY+rzTZSwADpkDovwv4/ENtYDcy2G8CSyHWSosBWwPoiBRqD0UHALOzr+A88PsAad3IxrfVHwA7Vp5l0CzvAkAOBJZuwJ0A8SOyCAMlDwPSHwa060lDAgDSRdKi39b/ghoLnt6AHwPxLHsWJUFPASLskvFeXEECgmfedz68XQFZvGjZn2EzARJ7S32wmS8DYQvQ46uQiQJB1fficLyDABhg8weVtRcBA2zvxa0gTwICoIbfSK+0/iaf9J5RUSsBEbZqM66crQN2j2UWTR1lAyLvPhiLvGEAyksYAgDdNwPRFwpAC2CDAvlzthaQAQECA/IWLezAnQMB9lIm37vq/YG/HcFDq8r9SyUXEN2E1wACodeCGrZI/7twaYHkfdUBVi8u64RpiQECvy5QVjGDAoEuoHef9ZMAADFxwqaIUwJNpklffT1VAYwfw0GoDREBwTaTafKIIQDQSREWb1xFAhcyL+y+aNMDDc7upGhIgwFHDpOxdgDBAanXq+D3INkCGVsQCAohPQK65CX7sJ2FAWaVemR3AYUCfRg+aimJAQIT1dd1IXUrAQPGs8Rnc3T+YyVgZhRRMQBFK21HD4znAIEBBJ6Kx/r8A4jvLBNmwvwBiy3Lxvd4/0qYhcrBcQkBtKl6DDA9SQNj3FxlXSjxAn0w/+REdSMAjKIyJG5dDwB1NqOULdy3ArCzvO7arMMAIQYj9NpMUQPDUY57IBRDAXn95opkVQcAwixs3Tic+wNhne4X1CztAZHun9YqmRUCcanGBAXkxwJRHRWKfGknAevZXWocWUMCcHuDQluEhwHj8zZvfbClAANfwKFow4z+GhP6HIidGwOKWdBb09lLAHBqmVBi9NsAa6W6HUuZEQADriyETvytAT8U/5B96RMAY1p9FEYhVwElAoFfdXTPAUG/97ONvFEAoYUFuvjIsQChZXcyJbDDASq+RTUqRVMAQ8AFUjG1QwGBTxOSSkydAQFZ+ZUGrH0BHT0SXDP9HwGmzkO/H+lTAqWvV7FfSRMDbFRn8Vk5BwEDnfxIvrvC/wM1cLaZHHUC4k1KJ/pROwBEJYbjuHVLA4E/9MoqOEcBghk+vlxAVwBsHWdRAckrA4SlWtjqzRcAKgPawGFlNwGzG3Vg/QVfAmU4i0b7aTcDkgv2yrtsxwOYnoFWtDEzA5HjW/Vb+TsBAML28/zL5v4DBrbodig3ACOVHB0voQsDkytsGfBolQKsIqE4eRErAx1wABuqKWsDdY2tF10hYwKsSdD4Fb0nANJNB5kSsSsBYiqqNaNtHwOBegaqdPRzA8HBZFKW0E8ATusOeB74zwJA2JZYRLyVAQegw6RYtREAA/mMtUQW9vxh1gzY4llDA1rUc8UsdTsAE1waRexszwADwlg9lIgzA/DkuXlhVKsAcWgnKKtciwAAWUnDh3cM/QbdpqSe3TcCZdV5RKolyQHjqaqnrDGpAx0PEiRtiTMBk72WKhetgwIQSYmGifyJApqunWj5jVkAijmsh76YxQJS33HNjeRDAqWSaBJqcN0CRnizuI75iwO2oXe57NFnAADBN0mUu27+Oi/+2O0lJQC3X+cKCL09AUML37r9nWkAKChJH3pBgQMI+NyRsMEdA4JHWBY5CT8Bp8ZMztDg3wKf54k9cxFRAYHQBfAW/UsD0Y/+6iWUhQHPKKvY9MUBAAAAwPCrSrb9YdrpIXmMwQA4X4+WDPVJA0AgZE2YuPEDM2/oVxaxWwK07C/SXDFXAxM2WiwPkKUBs6/MF0sBMwIRqSdatmCJAiKQ1AxP5OECo09tCXR4xwEjjqXqS7TfAvKxMq96xQEC0zLbWJ2Y5QJjA+s7lyVDAXros5nZUUsD+N3Bqsko2wLvdU+9CzkTAAJLniaCg9L+wS8KAT6IsQGhQGas1NSzAlgHGIvhPR8AYBI1E5uAzwMBKGWfuA/4//oPDxdZvPMAiwA6Pp6wywElQanlV5znAzSymQobwNcDg8sk4wZQswBA8VZ+vyRNAIDhWEx7ZF0BUVFOn85lFwH3MZKGyJk7A0MdCXtMsQsCQXp6QiEQ5wAD6IHYbWQlAglr0WnH8O8Aoep1l3bMwwPpz2PPevETADkjkrZNTOsAAL7Ajp23kP46UGLH2M0LAtZvdSXKZTsDahfws25lEwCQ8+oY7Mz7AYMhc7T+P/b8qCoiUjzQvwM6A0EI4gEjAwNCCWEGDU8AviuzRQKJSwNMorA2HN0rA4KAFdiP8UMAUU70Pwf9MwJjOLy8/IjXA9JKN24u/McAA6XQjCh3Tv4ChpMFvFdA/Ei4Y8UbQWcCp5YVsTQ1SwNJ9wLfWN1LAfFxe9K50VcB6pAVYgjpYwIDRFqK5U07A0AaT7tsxK8DQsOc9UBMTwAARqZZ+DtK/CgelRN5WTMA773UIN0JUwAiaebil7EJAOM2ceZB4E0ASreSr+GlMwOfe945AikvAhBB95FaQNcDwZzidGaMnwJBUFvXl4Q9AcJbozqjmDsCDOlR1J9pqwGsDfMkzs15AF3g6JpxjbUAQimTOlZhOQMENZIng+EjAjwhzHTWQQEA2py8gW/1TQMiaVgurSyFAkgirJ73+KECEvYDGQ9AVQC+cC99jHXjA+J7iUqrWYsBAlckQaW3VP2NiiwWLUFZAsrJK/7hTVEAuqHmaqsNTQIKlcbB8rFZAEDifxjP4N0B1vqjVyetLwC6cYq9CnzJAwfOw/sKDZEAgv/dBJE5VwIjsJYPVbz9AfgiZZCSBUEC4MISvK2gjQIAg5ARC1eo/rGwNmsS6S0BkEMT3WA4xQNkbGl6BXljATLGwvol2UcAQOZJiddxQQCOuTJ5ZzlTAyPDnmkWiEEDy852FQUNBQNBOJED57hfArFzf7df4MMAkCxC8/0JAQLjMDpFqdyVAYiQT1oMTVcCEs1OVBw9PwFLxfyC4XjlA6yeykgEnVMDy7vEKXuhDwGjdmpr+4iDAIJdlU0W8CcCAuc2Y4WAmwAAULF4eyvO/EIsYx1sXNMAfzxNqyY1LwAAzmbHi4OC/RgkTwigkNUBq9J4QwJhAwJsVTMPLWknAljDr8WAXRsAAA+XBNH4KwECx7jk5jARAZMFAE1HZNMCtYe535olKwDqE6zj7kEvAQPNuIAy4M0AwlU6pGCsCwDRv2+tQci1ACW+EIV87QMAi0ESe8z9RwHq6svTnQkHAOGuGdYuHIsDYeCywIdUwwEIe0VU5pEbAL5SE0wGKS8CAVOUWStwAQPrr4i+cV0LAbI1XAFgrL8DcFsZtlNkiwNsPyXbANFDAsXSvVE9IVcAcxeF2c0dRwFQN/2lRFD/AuPh1HjPZMsBEymnrjjM/wMBb9HWtkRzAQanaSpYoUsDzTF1T/7FewD4GivJSMzdAYPf4V87IBMAwTDa6S6NVwGP7IkQxWVvATdVd0roaS8CoRxfO20YkwBClr8qd7wrAEGBwVhuXJcAYC74LhKFlwKP2A+tzwWXAk+9a3Nf/V0AZVNk7iX5VQH7KWvEDCTvAzAFq+Wc7SsDcLN84CGsxwPDgo/1v+RTACrLZyWI7MkDitcyWIJMwwPLOj+U38XbAA3X3TAnTP8AERd6S2xZqQDFfkkmEBlpAIIpG3Iid5T/J2u7I3bpPQAwGbhYS41RAPIKEhN++GEDhOBuhph1AQMCddGhhRe0/xgCJVc0egcDrhxhpRctUwLXMm5qAujFAr/ATL1PAV0DpiQWLHZdaQDYO3UiaHFlAF/GU3qsYU0CAUcKNj1LKPwAwNHWfwUDATTr7EG3bVEC9jzCvj4dpQADZxyF0gLK/mk9gCHC5SEDr4xirkbpIQMQMlDAAiC1AChU+KdN7QEDbZZZJRjhUQCNS5Z6uXEFAmuEoV54aTcB1bRwnz3w1wEMMsNdZuVFAvOAQ9jcSOMAISs36piUdQDjNkoPGixFATEmhXccTK8AQ8NPze/kqQIo8YJ0sBVFAuCXXae/mQUCPt4rB2FhLwL1a4XozPkPAMAYlXcUuIkAvn+hHdbhGwOqaUspjGULAET7YZUmOQsD8mv0tFBc0wMD2KSFWIyJA0LtXUtfHPkDgqnVzjwUEwOrGcOK2bkfAgCHa506h3L/A7nIFr1H/PwCidt56nbs/HT4frPETOsD75pUwfZJQwKaGQ/YoZUPAAAs1wtBTDUDAwBiJ6mYdQJUltWbM/UHA/cuiraAETMA0K7zR4OAgQH5pKV1g4DbA8cVpKUPwR0DIXEDqesk0QG8e9ZhdNVLAuTgojRR0U8C0wzwiqM42wHAGGZRLfBxA2I/KGMc+OcBU5fwKt75KwERX7CsF3yjAxYqtoEisUsAASMn2FHGsP6ry3rvYIlBANrVC2ElMQMBmtjYevs1YwN3fLDzG+1DAIGqOJmeIE8BAQ6h0NFHwvyw1w+odxzvAnZEqjz0uNsDGyI13wgRhwLGR/c3Xz17AeCqRcrj6V0Am/vMN57hJQJYWQ7hCaU7AiMw9h1wNUsAgHeofuaouwECcuj4bDQZAALw39cKH8r+eZUKImswxwCAQVKpbvG3AW3cUqaiBZMBqdDK05AthQIqaphR1A1tAIMx5rLK2979AEvq1U3L7P0YhNzVBmzxAIMNg/IjQBkD6PobWwqI1QKAfDobxdOU/xA6VQbgweMCAsoyXPrKwP9cDfNvbg2hAZ4PuU8bHTkAfWlaJc0cewK5GbLnbmVlAAHgM38h6XECkG87x8psOQKerN5ODzkZAUP7d6+PdT0AVsyLPQih+wDyR3mrO5VRAWAhnxby9BMB4xYToKHAeQOvm3/jTg1xASD6WWYDcaEAW46h49kxhQIKDz7t+cirA4AzB0zeZSMB2ZLIRO69TQAxRiqOtc19AOzcYCWowZED4sHVGXyorQHwoHIWRGk3AEiXeUnBgMUCXa+QzNdxiQJz5MsqPz2VArmXWYTpBSUDoNaSscQ1JwB1tNq1oqyLAAJyJnsvetj/WzFbvJqlcQBBcuDrnQwfAlMN3fcyKUMCASODKZ9Hdv1DDEocggl1AuP0bjSFvYkCEVSNBLjVGQJO59ZQz90rAVyHBvvEpQMA6GUzNwS9FwBioz4VZ7U5AoKXSLGqYJkBEAzmHDRg/wHCEzYM/pR9Aq7V7k5PoUEDmHYXgUZROQLDXMkinOTDAFi3DW3BRTMBAPi7Yvb4JQFWcI6yX4yTA9mX+kdK+TEBryZQIIWJMQCA7DaINyAXAUHzpDCztI8BwcGXq4kIYQNB/UFroQizARnivkDQ6T8BUHmvYnVJLwHGNsI2cmkFA7e5+Lp/IMUD+BGJAl9dDQBSfwiMJPVRAuMrcN7CME8BvTIEEXQFLwGdHjWBRW0XA7qaxr3ZdQMADrTyCLgpJwG4Nyy0Cv0DAcZYS2ebgREAA3xT4zXW/vyewFUJct0XAMAzGdhKhUUBAIbQdM+j+v87tkjhdo1HArwrhkVSEScCIKooe83IjwKAY/9lHmyfAII/xbD0jF8CXsqQfkFJBQFyOoLNR8E7A4gG2DvhTXMBHGHK4yzZTQGra80h+0T9A4nKdmwG0QMAAUmyf6MvpP0OtO3A3fkNA6MlfpqzMI0CwJgC6GKgWQJZRc0ht2DpA4CawdsbLY8AFpIOUEEYxwJn2PD0aKWNAgK9nxAKGS0DAiUR6Z/bWPymnALRXC1ZAHy0UpP5tW0D6SnhYXxwuQFpLR2fspChAbYtsksaQSUAkKjJ09u5uwNvb5x4fk3FAm11EKlkZckDKHcPYPjs4QBlQxe5KdzjAsiJJFhcuZEDdwd/PPPRlQEP+2CUMuxhAko3kilACQkDhzMiSLv9iQAlC9rmBbW3ARe8iPHF8bkCA353ooSFjwLZfHll/aHDA/C7MvweDEcBqs64pKPRwQBDerM7s8GxAAMz0S99/k79szsRtMFRRwHvaeVI56kRAAAKybXEOgb9MV3Mg0EpyQOX9fnRseGTAwpMrokRvdMDGadXOqPZPwJSMMrY9pnBAGPq0qV8wcUBSf+SIZe1DQCAYMVwohFLAwI3MNh6qwD8s+BvhIzJJwMsVz580uGpAyKPZtxNoYMDoU8RohaxtwGDOV4M/t+U/etu+9Op8cEA3Ci7nEQhtQPgFv0IIffI/NyVxriPxV8DAtfv7Wwb+v2FyMp5A8DbAx4L9GW7lWkD9edUoefA+wOWGgxlDWEjAaEbUHxxnW0BjTjeQVLFrQIjagwObhlxADFbXEi2AU8CepqPR1P1XwFJ6kdIij0xA003GjYYNU0B43NWRA88vQLCibAkX9ExAy6hcdRS8V0D+qE3//fNjQGWcoDK38WFAQHgOoHp1/T9sgl+ZxadewO7wQ5DEik3ADyVzwfT3YEASSfy7wNhlQHanz6gX0VTAcDnLtnKdR0D+GVBRnWNZQNRBAc7ZAF5A/cKFq4+MUkB1SJtUwG5AwFxBsoTmkVfAAB8P/gEYwL/sXORWu99mQFyEpV9mjmlADT8TkbSjY8BY6zrqbl81wJNsmzni0DZAUnYBa9fsSEDLO6C4KYJNQCBSSpLVDi5A7ceEB5hKPMAY//E6C59CQHZ3x80OcWVA/OMzFD4KYkCG7DZHwFpTwMD1e9T4zcM/hMQJCtCsO8DFxKLvJcohQPCWYgX1zVlA/JgP/z9KWkDkny6jtO80QDsnJbWVKTxAGw9IHxhmXkCzIjImHXBAQD2c9CteZW9ABP9sD1fzaUB6S5sVojkEQFDQXXHrKhPA1qP8qD6RZECOysH3r0dnQF91nScSkj5AAEvlmscakD+NSLj9xWhaQKPWJWqLRkLAD6fzTRMDh0A83kyxpdWAQHS2dvIIKVhAUOwq+NAZ6D/9cns7rCpqQHA7dC5KlWtAAIAYQy8Crb9ycSfwFFwdwKr6tEqewWdAbwFAlcx6PkA=",
          "dtype": "f8"
         },
         "x": {
          "bdata": "AAAAAAAA4L8AAAAAAADgvwAAAAAAAOC/AAAAAAAA4L8AAAAAAADgvwAAAAAAAOC/AAAAAAAA4L8AAAAAAADgvwAAAAAAAOC/AAAAAAAA4L8AAAAAAADgvwAAAAAAAOC/AAAAAAAA4L8AAAAAAADgvwAAAAAAAOC/AAAAAAAA4L8AAAAAAADgvwAAAAAAAOC/AAAAAAAA4L8AAAAAAADgvwAAAAAAAOC/AAAAAAAA4L8AAAAAAADgvwAAAAAAAOC/AAAAAAAA4L8AAAAAAADgvwAAAAAAAOC/AAAAAAAA4L8AAAAAAADgvwAAAAAAAOC/AAAAAAAA4L8AAAAAAADgvwAAAAAAAOC/AAAAAAAA4L8AAAAAAADgvwAAAAAAAOC/AAAAAAAA4L8AAAAAAADgvwAAAAAAAOC/AAAAAAAA4L8AAAAAAADgvwAAAAAAAOC/AAAAAAAA4L8AAAAAAADgvwAAAAAAAOC/AAAAAAAA4L8AAAAAAADgvwAAAAAAAOC/AAAAAAAA4L8AAAAAAADgvwAAAAAAAOC/AAAAAAAA4L8AAAAAAADgvwAAAAAAAOC/AAAAAAAA4L8AAAAAAADgvwAAAAAAAOC/AAAAAAAA4L8AAAAAAADgvwAAAAAAAOC/AAAAAAAA4L8AAAAAAADgvwAAAAAAAOC/AAAAAAAA4L8AAAAAAADgvwAAAAAAAOC/AAAAAAAA4L8AAAAAAADgvwAAAAAAAOC/AAAAAAAA4L8AAAAAAADgvwAAAAAAAOC/AAAAAAAA4L8AAAAAAADgvwAAAAAAAOC/AAAAAAAA4L8AAAAAAADgvwAAAAAAAOC/AAAAAAAA4L8AAAAAAADgvwAAAAAAAOC/AAAAAAAA4L8AAAAAAADgvwAAAAAAAOC/AAAAAAAA4L8AAAAAAADgvwAAAAAAAOC/AAAAAAAA4L8AAAAAAADgvwAAAAAAAOC/AAAAAAAA4L8AAAAAAADgvwAAAAAAAOC/AAAAAAAA4L8AAAAAAADgvwAAAAAAAOC/AAAAAAAA4L8AAAAAAADgvwAAAAAAAOC/AAAAAAAA4L85juM4juPYvzmO4ziO49i/OY7jOI7j2L85juM4juPYvzmO4ziO49i/OY7jOI7j2L85juM4juPYvzmO4ziO49i/OY7jOI7j2L85juM4juPYvzmO4ziO49i/OY7jOI7j2L85juM4juPYvzmO4ziO49i/OY7jOI7j2L85juM4juPYvzmO4ziO49i/OY7jOI7j2L85juM4juPYvzmO4ziO49i/OY7jOI7j2L85juM4juPYvzmO4ziO49i/OY7jOI7j2L85juM4juPYvzmO4ziO49i/OY7jOI7j2L85juM4juPYvzmO4ziO49i/OY7jOI7j2L85juM4juPYvzmO4ziO49i/OY7jOI7j2L85juM4juPYvzmO4ziO49i/OY7jOI7j2L85juM4juPYvzmO4ziO49i/OY7jOI7j2L85juM4juPYvzmO4ziO49i/OY7jOI7j2L85juM4juPYvzmO4ziO49i/OY7jOI7j2L85juM4juPYvzmO4ziO49i/OY7jOI7j2L85juM4juPYvzmO4ziO49i/OY7jOI7j2L85juM4juPYvzmO4ziO49i/OY7jOI7j2L85juM4juPYvzmO4ziO49i/OY7jOI7j2L85juM4juPYvzmO4ziO49i/OY7jOI7j2L85juM4juPYvzmO4ziO49i/OY7jOI7j2L85juM4juPYvzmO4ziO49i/OY7jOI7j2L85juM4juPYvzmO4ziO49i/OY7jOI7j2L85juM4juPYvzmO4ziO49i/OY7jOI7j2L85juM4juPYvzmO4ziO49i/OY7jOI7j2L85juM4juPYvzmO4ziO49i/OY7jOI7j2L85juM4juPYvzmO4ziO49i/OY7jOI7j2L85juM4juPYvzmO4ziO49i/OY7jOI7j2L85juM4juPYvzmO4ziO49i/OY7jOI7j2L85juM4juPYvzmO4ziO49i/OY7jOI7j2L85juM4juPYvzmO4ziO49i/OY7jOI7j2L85juM4juPYvzmO4ziO49i/OY7jOI7j2L85juM4juPYvzmO4ziO49i/OY7jOI7j2L85juM4juPYv3Icx3Ecx9G/chzHcRzH0b9yHMdxHMfRv3Icx3Ecx9G/chzHcRzH0b9yHMdxHMfRv3Icx3Ecx9G/chzHcRzH0b9yHMdxHMfRv3Icx3Ecx9G/chzHcRzH0b9yHMdxHMfRv3Icx3Ecx9G/chzHcRzH0b9yHMdxHMfRv3Icx3Ecx9G/chzHcRzH0b9yHMdxHMfRv3Icx3Ecx9G/chzHcRzH0b9yHMdxHMfRv3Icx3Ecx9G/chzHcRzH0b9yHMdxHMfRv3Icx3Ecx9G/chzHcRzH0b9yHMdxHMfRv3Icx3Ecx9G/chzHcRzH0b9yHMdxHMfRv3Icx3Ecx9G/chzHcRzH0b9yHMdxHMfRv3Icx3Ecx9G/chzHcRzH0b9yHMdxHMfRv3Icx3Ecx9G/chzHcRzH0b9yHMdxHMfRv3Icx3Ecx9G/chzHcRzH0b9yHMdxHMfRv3Icx3Ecx9G/chzHcRzH0b9yHMdxHMfRv3Icx3Ecx9G/chzHcRzH0b9yHMdxHMfRv3Icx3Ecx9G/chzHcRzH0b9yHMdxHMfRv3Icx3Ecx9G/chzHcRzH0b9yHMdxHMfRv3Icx3Ecx9G/chzHcRzH0b9yHMdxHMfRv3Icx3Ecx9G/chzHcRzH0b9yHMdxHMfRv3Icx3Ecx9G/chzHcRzH0b9yHMdxHMfRv3Icx3Ecx9G/chzHcRzH0b9yHMdxHMfRv3Icx3Ecx9G/chzHcRzH0b9yHMdxHMfRv3Icx3Ecx9G/chzHcRzH0b9yHMdxHMfRv3Icx3Ecx9G/chzHcRzH0b9yHMdxHMfRv3Icx3Ecx9G/chzHcRzH0b9yHMdxHMfRv3Icx3Ecx9G/chzHcRzH0b9yHMdxHMfRv3Icx3Ecx9G/chzHcRzH0b9yHMdxHMfRv3Icx3Ecx9G/chzHcRzH0b9yHMdxHMfRv3Icx3Ecx9G/chzHcRzH0b9yHMdxHMfRv3Icx3Ecx9G/chzHcRzH0b9yHMdxHMfRv3Icx3Ecx9G/chzHcRzH0b9yHMdxHMfRv3Icx3Ecx9G/chzHcRzH0b9yHMdxHMfRv3Icx3Ecx9G/VlVVVVVVxb9WVVVVVVXFv1ZVVVVVVcW/VlVVVVVVxb9WVVVVVVXFv1ZVVVVVVcW/VlVVVVVVxb9WVVVVVVXFv1ZVVVVVVcW/VlVVVVVVxb9WVVVVVVXFv1ZVVVVVVcW/VlVVVVVVxb9WVVVVVVXFv1ZVVVVVVcW/VlVVVVVVxb9WVVVVVVXFv1ZVVVVVVcW/VlVVVVVVxb9WVVVVVVXFv1ZVVVVVVcW/VlVVVVVVxb9WVVVVVVXFv1ZVVVVVVcW/VlVVVVVVxb9WVVVVVVXFv1ZVVVVVVcW/VlVVVVVVxb9WVVVVVVXFv1ZVVVVVVcW/VlVVVVVVxb9WVVVVVVXFv1ZVVVVVVcW/VlVVVVVVxb9WVVVVVVXFv1ZVVVVVVcW/VlVVVVVVxb9WVVVVVVXFv1ZVVVVVVcW/VlVVVVVVxb9WVVVVVVXFv1ZVVVVVVcW/VlVVVVVVxb9WVVVVVVXFv1ZVVVVVVcW/VlVVVVVVxb9WVVVVVVXFv1ZVVVVVVcW/VlVVVVVVxb9WVVVVVVXFv1ZVVVVVVcW/VlVVVVVVxb9WVVVVVVXFv1ZVVVVVVcW/VlVVVVVVxb9WVVVVVVXFv1ZVVVVVVcW/VlVVVVVVxb9WVVVVVVXFv1ZVVVVVVcW/VlVVVVVVxb9WVVVVVVXFv1ZVVVVVVcW/VlVVVVVVxb9WVVVVVVXFv1ZVVVVVVcW/VlVVVVVVxb9WVVVVVVXFv1ZVVVVVVcW/VlVVVVVVxb9WVVVVVVXFv1ZVVVVVVcW/VlVVVVVVxb9WVVVVVVXFv1ZVVVVVVcW/VlVVVVVVxb9WVVVVVVXFv1ZVVVVVVcW/VlVVVVVVxb9WVVVVVVXFv1ZVVVVVVcW/VlVVVVVVxb9WVVVVVVXFv1ZVVVVVVcW/VlVVVVVVxb9WVVVVVVXFv1ZVVVVVVcW/VlVVVVVVxb9WVVVVVVXFv1ZVVVVVVcW/VlVVVVVVxb9WVVVVVVXFv1ZVVVVVVcW/VlVVVVVVxb9WVVVVVVXFv1ZVVVVVVcW/VlVVVVVVxb9WVVVVVVXFv1ZVVVVVVcW/VlVVVVVVxb8gx3Ecx3GsvyDHcRzHcay/IMdxHMdxrL8gx3Ecx3GsvyDHcRzHcay/IMdxHMdxrL8gx3Ecx3GsvyDHcRzHcay/IMdxHMdxrL8gx3Ecx3GsvyDHcRzHcay/IMdxHMdxrL8gx3Ecx3GsvyDHcRzHcay/IMdxHMdxrL8gx3Ecx3GsvyDHcRzHcay/IMdxHMdxrL8gx3Ecx3GsvyDHcRzHcay/IMdxHMdxrL8gx3Ecx3GsvyDHcRzHcay/IMdxHMdxrL8gx3Ecx3GsvyDHcRzHcay/IMdxHMdxrL8gx3Ecx3GsvyDHcRzHcay/IMdxHMdxrL8gx3Ecx3GsvyDHcRzHcay/IMdxHMdxrL8gx3Ecx3GsvyDHcRzHcay/IMdxHMdxrL8gx3Ecx3GsvyDHcRzHcay/IMdxHMdxrL8gx3Ecx3GsvyDHcRzHcay/IMdxHMdxrL8gx3Ecx3GsvyDHcRzHcay/IMdxHMdxrL8gx3Ecx3GsvyDHcRzHcay/IMdxHMdxrL8gx3Ecx3GsvyDHcRzHcay/IMdxHMdxrL8gx3Ecx3GsvyDHcRzHcay/IMdxHMdxrL8gx3Ecx3GsvyDHcRzHcay/IMdxHMdxrL8gx3Ecx3GsvyDHcRzHcay/IMdxHMdxrL8gx3Ecx3GsvyDHcRzHcay/IMdxHMdxrL8gx3Ecx3GsvyDHcRzHcay/IMdxHMdxrL8gx3Ecx3GsvyDHcRzHcay/IMdxHMdxrL8gx3Ecx3GsvyDHcRzHcay/IMdxHMdxrL8gx3Ecx3GsvyDHcRzHcay/IMdxHMdxrL8gx3Ecx3GsvyDHcRzHcay/IMdxHMdxrL8gx3Ecx3GsvyDHcRzHcay/IMdxHMdxrL8gx3Ecx3GsvyDHcRzHcay/IMdxHMdxrL8gx3Ecx3GsvyDHcRzHcay/IMdxHMdxrL8gx3Ecx3GsvyDHcRzHcay/IMdxHMdxrL8gx3Ecx3GsvyDHcRzHcay/IMdxHMdxrL8gx3Ecx3GsvyDHcRzHcay/IMdxHMdxrL8gx3Ecx3GsvyDHcRzHcay/IMdxHMdxrL8gx3Ecx3GsvyDHcRzHcaw/IMdxHMdxrD8gx3Ecx3GsPyDHcRzHcaw/IMdxHMdxrD8gx3Ecx3GsPyDHcRzHcaw/IMdxHMdxrD8gx3Ecx3GsPyDHcRzHcaw/IMdxHMdxrD8gx3Ecx3GsPyDHcRzHcaw/IMdxHMdxrD8gx3Ecx3GsPyDHcRzHcaw/IMdxHMdxrD8gx3Ecx3GsPyDHcRzHcaw/IMdxHMdxrD8gx3Ecx3GsPyDHcRzHcaw/IMdxHMdxrD8gx3Ecx3GsPyDHcRzHcaw/IMdxHMdxrD8gx3Ecx3GsPyDHcRzHcaw/IMdxHMdxrD8gx3Ecx3GsPyDHcRzHcaw/IMdxHMdxrD8gx3Ecx3GsPyDHcRzHcaw/IMdxHMdxrD8gx3Ecx3GsPyDHcRzHcaw/IMdxHMdxrD8gx3Ecx3GsPyDHcRzHcaw/IMdxHMdxrD8gx3Ecx3GsPyDHcRzHcaw/IMdxHMdxrD8gx3Ecx3GsPyDHcRzHcaw/IMdxHMdxrD8gx3Ecx3GsPyDHcRzHcaw/IMdxHMdxrD8gx3Ecx3GsPyDHcRzHcaw/IMdxHMdxrD8gx3Ecx3GsPyDHcRzHcaw/IMdxHMdxrD8gx3Ecx3GsPyDHcRzHcaw/IMdxHMdxrD8gx3Ecx3GsPyDHcRzHcaw/IMdxHMdxrD8gx3Ecx3GsPyDHcRzHcaw/IMdxHMdxrD8gx3Ecx3GsPyDHcRzHcaw/IMdxHMdxrD8gx3Ecx3GsPyDHcRzHcaw/IMdxHMdxrD8gx3Ecx3GsPyDHcRzHcaw/IMdxHMdxrD8gx3Ecx3GsPyDHcRzHcaw/IMdxHMdxrD8gx3Ecx3GsPyDHcRzHcaw/IMdxHMdxrD8gx3Ecx3GsPyDHcRzHcaw/IMdxHMdxrD8gx3Ecx3GsPyDHcRzHcaw/IMdxHMdxrD8gx3Ecx3GsPyDHcRzHcaw/IMdxHMdxrD8gx3Ecx3GsPyDHcRzHcaw/IMdxHMdxrD8gx3Ecx3GsPyDHcRzHcaw/IMdxHMdxrD8gx3Ecx3GsPyDHcRzHcaw/IMdxHMdxrD8gx3Ecx3GsPyDHcRzHcaw/VFVVVVVVxT9UVVVVVVXFP1RVVVVVVcU/VFVVVVVVxT9UVVVVVVXFP1RVVVVVVcU/VFVVVVVVxT9UVVVVVVXFP1RVVVVVVcU/VFVVVVVVxT9UVVVVVVXFP1RVVVVVVcU/VFVVVVVVxT9UVVVVVVXFP1RVVVVVVcU/VFVVVVVVxT9UVVVVVVXFP1RVVVVVVcU/VFVVVVVVxT9UVVVVVVXFP1RVVVVVVcU/VFVVVVVVxT9UVVVVVVXFP1RVVVVVVcU/VFVVVVVVxT9UVVVVVVXFP1RVVVVVVcU/VFVVVVVVxT9UVVVVVVXFP1RVVVVVVcU/VFVVVVVVxT9UVVVVVVXFP1RVVVVVVcU/VFVVVVVVxT9UVVVVVVXFP1RVVVVVVcU/VFVVVVVVxT9UVVVVVVXFP1RVVVVVVcU/VFVVVVVVxT9UVVVVVVXFP1RVVVVVVcU/VFVVVVVVxT9UVVVVVVXFP1RVVVVVVcU/VFVVVVVVxT9UVVVVVVXFP1RVVVVVVcU/VFVVVVVVxT9UVVVVVVXFP1RVVVVVVcU/VFVVVVVVxT9UVVVVVVXFP1RVVVVVVcU/VFVVVVVVxT9UVVVVVVXFP1RVVVVVVcU/VFVVVVVVxT9UVVVVVVXFP1RVVVVVVcU/VFVVVVVVxT9UVVVVVVXFP1RVVVVVVcU/VFVVVVVVxT9UVVVVVVXFP1RVVVVVVcU/VFVVVVVVxT9UVVVVVVXFP1RVVVVVVcU/VFVVVVVVxT9UVVVVVVXFP1RVVVVVVcU/VFVVVVVVxT9UVVVVVVXFP1RVVVVVVcU/VFVVVVVVxT9UVVVVVVXFP1RVVVVVVcU/VFVVVVVVxT9UVVVVVVXFP1RVVVVVVcU/VFVVVVVVxT9UVVVVVVXFP1RVVVVVVcU/VFVVVVVVxT9UVVVVVVXFP1RVVVVVVcU/VFVVVVVVxT9UVVVVVVXFP1RVVVVVVcU/VFVVVVVVxT9UVVVVVVXFP1RVVVVVVcU/VFVVVVVVxT9UVVVVVVXFP1RVVVVVVcU/VFVVVVVVxT9UVVVVVVXFP1RVVVVVVcU/VFVVVVVVxT9wHMdxHMfRP3Acx3Ecx9E/cBzHcRzH0T9wHMdxHMfRP3Acx3Ecx9E/cBzHcRzH0T9wHMdxHMfRP3Acx3Ecx9E/cBzHcRzH0T9wHMdxHMfRP3Acx3Ecx9E/cBzHcRzH0T9wHMdxHMfRP3Acx3Ecx9E/cBzHcRzH0T9wHMdxHMfRP3Acx3Ecx9E/cBzHcRzH0T9wHMdxHMfRP3Acx3Ecx9E/cBzHcRzH0T9wHMdxHMfRP3Acx3Ecx9E/cBzHcRzH0T9wHMdxHMfRP3Acx3Ecx9E/cBzHcRzH0T9wHMdxHMfRP3Acx3Ecx9E/cBzHcRzH0T9wHMdxHMfRP3Acx3Ecx9E/cBzHcRzH0T9wHMdxHMfRP3Acx3Ecx9E/cBzHcRzH0T9wHMdxHMfRP3Acx3Ecx9E/cBzHcRzH0T9wHMdxHMfRP3Acx3Ecx9E/cBzHcRzH0T9wHMdxHMfRP3Acx3Ecx9E/cBzHcRzH0T9wHMdxHMfRP3Acx3Ecx9E/cBzHcRzH0T9wHMdxHMfRP3Acx3Ecx9E/cBzHcRzH0T9wHMdxHMfRP3Acx3Ecx9E/cBzHcRzH0T9wHMdxHMfRP3Acx3Ecx9E/cBzHcRzH0T9wHMdxHMfRP3Acx3Ecx9E/cBzHcRzH0T9wHMdxHMfRP3Acx3Ecx9E/cBzHcRzH0T9wHMdxHMfRP3Acx3Ecx9E/cBzHcRzH0T9wHMdxHMfRP3Acx3Ecx9E/cBzHcRzH0T9wHMdxHMfRP3Acx3Ecx9E/cBzHcRzH0T9wHMdxHMfRP3Acx3Ecx9E/cBzHcRzH0T9wHMdxHMfRP3Acx3Ecx9E/cBzHcRzH0T9wHMdxHMfRP3Acx3Ecx9E/cBzHcRzH0T9wHMdxHMfRP3Acx3Ecx9E/cBzHcRzH0T9wHMdxHMfRP3Acx3Ecx9E/cBzHcRzH0T9wHMdxHMfRP3Acx3Ecx9E/cBzHcRzH0T9wHMdxHMfRP3Acx3Ecx9E/cBzHcRzH0T9wHMdxHMfRP3Acx3Ecx9E/cBzHcRzH0T9wHMdxHMfRP3Acx3Ecx9E/cBzHcRzH0T9wHMdxHMfRPziO4ziO49g/OI7jOI7j2D84juM4juPYPziO4ziO49g/OI7jOI7j2D84juM4juPYPziO4ziO49g/OI7jOI7j2D84juM4juPYPziO4ziO49g/OI7jOI7j2D84juM4juPYPziO4ziO49g/OI7jOI7j2D84juM4juPYPziO4ziO49g/OI7jOI7j2D84juM4juPYPziO4ziO49g/OI7jOI7j2D84juM4juPYPziO4ziO49g/OI7jOI7j2D84juM4juPYPziO4ziO49g/OI7jOI7j2D84juM4juPYPziO4ziO49g/OI7jOI7j2D84juM4juPYPziO4ziO49g/OI7jOI7j2D84juM4juPYPziO4ziO49g/OI7jOI7j2D84juM4juPYPziO4ziO49g/OI7jOI7j2D84juM4juPYPziO4ziO49g/OI7jOI7j2D84juM4juPYPziO4ziO49g/OI7jOI7j2D84juM4juPYPziO4ziO49g/OI7jOI7j2D84juM4juPYPziO4ziO49g/OI7jOI7j2D84juM4juPYPziO4ziO49g/OI7jOI7j2D84juM4juPYPziO4ziO49g/OI7jOI7j2D84juM4juPYPziO4ziO49g/OI7jOI7j2D84juM4juPYPziO4ziO49g/OI7jOI7j2D84juM4juPYPziO4ziO49g/OI7jOI7j2D84juM4juPYPziO4ziO49g/OI7jOI7j2D84juM4juPYPziO4ziO49g/OI7jOI7j2D84juM4juPYPziO4ziO49g/OI7jOI7j2D84juM4juPYPziO4ziO49g/OI7jOI7j2D84juM4juPYPziO4ziO49g/OI7jOI7j2D84juM4juPYPziO4ziO49g/OI7jOI7j2D84juM4juPYPziO4ziO49g/OI7jOI7j2D84juM4juPYPziO4ziO49g/OI7jOI7j2D84juM4juPYPziO4ziO49g/OI7jOI7j2D84juM4juPYPziO4ziO49g/OI7jOI7j2D84juM4juPYPziO4ziO49g/OI7jOI7j2D84juM4juPYPziO4ziO49g/AAAAAAAA4D8AAAAAAADgPwAAAAAAAOA/AAAAAAAA4D8AAAAAAADgPwAAAAAAAOA/AAAAAAAA4D8AAAAAAADgPwAAAAAAAOA/AAAAAAAA4D8AAAAAAADgPwAAAAAAAOA/AAAAAAAA4D8AAAAAAADgPwAAAAAAAOA/AAAAAAAA4D8AAAAAAADgPwAAAAAAAOA/AAAAAAAA4D8AAAAAAADgPwAAAAAAAOA/AAAAAAAA4D8AAAAAAADgPwAAAAAAAOA/AAAAAAAA4D8AAAAAAADgPwAAAAAAAOA/AAAAAAAA4D8AAAAAAADgPwAAAAAAAOA/AAAAAAAA4D8AAAAAAADgPwAAAAAAAOA/AAAAAAAA4D8AAAAAAADgPwAAAAAAAOA/AAAAAAAA4D8AAAAAAADgPwAAAAAAAOA/AAAAAAAA4D8AAAAAAADgPwAAAAAAAOA/AAAAAAAA4D8AAAAAAADgPwAAAAAAAOA/AAAAAAAA4D8AAAAAAADgPwAAAAAAAOA/AAAAAAAA4D8AAAAAAADgPwAAAAAAAOA/AAAAAAAA4D8AAAAAAADgPwAAAAAAAOA/AAAAAAAA4D8AAAAAAADgPwAAAAAAAOA/AAAAAAAA4D8AAAAAAADgPwAAAAAAAOA/AAAAAAAA4D8AAAAAAADgPwAAAAAAAOA/AAAAAAAA4D8AAAAAAADgPwAAAAAAAOA/AAAAAAAA4D8AAAAAAADgPwAAAAAAAOA/AAAAAAAA4D8AAAAAAADgPwAAAAAAAOA/AAAAAAAA4D8AAAAAAADgPwAAAAAAAOA/AAAAAAAA4D8AAAAAAADgPwAAAAAAAOA/AAAAAAAA4D8AAAAAAADgPwAAAAAAAOA/AAAAAAAA4D8AAAAAAADgPwAAAAAAAOA/AAAAAAAA4D8AAAAAAADgPwAAAAAAAOA/AAAAAAAA4D8AAAAAAADgPwAAAAAAAOA/AAAAAAAA4D8AAAAAAADgPwAAAAAAAOA/AAAAAAAA4D8AAAAAAADgPwAAAAAAAOA/AAAAAAAA4D8AAAAAAADgPwAAAAAAAOA/AAAAAAAA4D8=",
          "dtype": "f8"
         },
         "y": {
          "bdata": "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",
          "dtype": "f8"
         },
         "z": {
          "bdata": "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",
          "dtype": "f8"
         }
        }
       ],
       "layout": {
        "scene": {
         "xaxis": {
          "title": {
           "text": "X"
          }
         },
         "yaxis": {
          "title": {
           "text": "Y"
          }
         },
         "zaxis": {
          "title": {
           "text": "Z"
          }
         }
        },
        "template": {
         "data": {
          "bar": [
           {
            "error_x": {
             "color": "#2a3f5f"
            },
            "error_y": {
             "color": "#2a3f5f"
            },
            "marker": {
             "line": {
              "color": "#E5ECF6",
              "width": 0.5
             },
             "pattern": {
              "fillmode": "overlay",
              "size": 10,
              "solidity": 0.2
             }
            },
            "type": "bar"
           }
          ],
          "barpolar": [
           {
            "marker": {
             "line": {
              "color": "#E5ECF6",
              "width": 0.5
             },
             "pattern": {
              "fillmode": "overlay",
              "size": 10,
              "solidity": 0.2
             }
            },
            "type": "barpolar"
           }
          ],
          "carpet": [
           {
            "aaxis": {
             "endlinecolor": "#2a3f5f",
             "gridcolor": "white",
             "linecolor": "white",
             "minorgridcolor": "white",
             "startlinecolor": "#2a3f5f"
            },
            "baxis": {
             "endlinecolor": "#2a3f5f",
             "gridcolor": "white",
             "linecolor": "white",
             "minorgridcolor": "white",
             "startlinecolor": "#2a3f5f"
            },
            "type": "carpet"
           }
          ],
          "choropleth": [
           {
            "colorbar": {
             "outlinewidth": 0,
             "ticks": ""
            },
            "type": "choropleth"
           }
          ],
          "contour": [
           {
            "colorbar": {
             "outlinewidth": 0,
             "ticks": ""
            },
            "colorscale": [
             [
              0,
              "#0d0887"
             ],
             [
              0.1111111111111111,
              "#46039f"
             ],
             [
              0.2222222222222222,
              "#7201a8"
             ],
             [
              0.3333333333333333,
              "#9c179e"
             ],
             [
              0.4444444444444444,
              "#bd3786"
             ],
             [
              0.5555555555555556,
              "#d8576b"
             ],
             [
              0.6666666666666666,
              "#ed7953"
             ],
             [
              0.7777777777777778,
              "#fb9f3a"
             ],
             [
              0.8888888888888888,
              "#fdca26"
             ],
             [
              1,
              "#f0f921"
             ]
            ],
            "type": "contour"
           }
          ],
          "contourcarpet": [
           {
            "colorbar": {
             "outlinewidth": 0,
             "ticks": ""
            },
            "type": "contourcarpet"
           }
          ],
          "heatmap": [
           {
            "colorbar": {
             "outlinewidth": 0,
             "ticks": ""
            },
            "colorscale": [
             [
              0,
              "#0d0887"
             ],
             [
              0.1111111111111111,
              "#46039f"
             ],
             [
              0.2222222222222222,
              "#7201a8"
             ],
             [
              0.3333333333333333,
              "#9c179e"
             ],
             [
              0.4444444444444444,
              "#bd3786"
             ],
             [
              0.5555555555555556,
              "#d8576b"
             ],
             [
              0.6666666666666666,
              "#ed7953"
             ],
             [
              0.7777777777777778,
              "#fb9f3a"
             ],
             [
              0.8888888888888888,
              "#fdca26"
             ],
             [
              1,
              "#f0f921"
             ]
            ],
            "type": "heatmap"
           }
          ],
          "histogram": [
           {
            "marker": {
             "pattern": {
              "fillmode": "overlay",
              "size": 10,
              "solidity": 0.2
             }
            },
            "type": "histogram"
           }
          ],
          "histogram2d": [
           {
            "colorbar": {
             "outlinewidth": 0,
             "ticks": ""
            },
            "colorscale": [
             [
              0,
              "#0d0887"
             ],
             [
              0.1111111111111111,
              "#46039f"
             ],
             [
              0.2222222222222222,
              "#7201a8"
             ],
             [
              0.3333333333333333,
              "#9c179e"
             ],
             [
              0.4444444444444444,
              "#bd3786"
             ],
             [
              0.5555555555555556,
              "#d8576b"
             ],
             [
              0.6666666666666666,
              "#ed7953"
             ],
             [
              0.7777777777777778,
              "#fb9f3a"
             ],
             [
              0.8888888888888888,
              "#fdca26"
             ],
             [
              1,
              "#f0f921"
             ]
            ],
            "type": "histogram2d"
           }
          ],
          "histogram2dcontour": [
           {
            "colorbar": {
             "outlinewidth": 0,
             "ticks": ""
            },
            "colorscale": [
             [
              0,
              "#0d0887"
             ],
             [
              0.1111111111111111,
              "#46039f"
             ],
             [
              0.2222222222222222,
              "#7201a8"
             ],
             [
              0.3333333333333333,
              "#9c179e"
             ],
             [
              0.4444444444444444,
              "#bd3786"
             ],
             [
              0.5555555555555556,
              "#d8576b"
             ],
             [
              0.6666666666666666,
              "#ed7953"
             ],
             [
              0.7777777777777778,
              "#fb9f3a"
             ],
             [
              0.8888888888888888,
              "#fdca26"
             ],
             [
              1,
              "#f0f921"
             ]
            ],
            "type": "histogram2dcontour"
           }
          ],
          "mesh3d": [
           {
            "colorbar": {
             "outlinewidth": 0,
             "ticks": ""
            },
            "type": "mesh3d"
           }
          ],
          "parcoords": [
           {
            "line": {
             "colorbar": {
              "outlinewidth": 0,
              "ticks": ""
             }
            },
            "type": "parcoords"
           }
          ],
          "pie": [
           {
            "automargin": true,
            "type": "pie"
           }
          ],
          "scatter": [
           {
            "fillpattern": {
             "fillmode": "overlay",
             "size": 10,
             "solidity": 0.2
            },
            "type": "scatter"
           }
          ],
          "scatter3d": [
           {
            "line": {
             "colorbar": {
              "outlinewidth": 0,
              "ticks": ""
             }
            },
            "marker": {
             "colorbar": {
              "outlinewidth": 0,
              "ticks": ""
             }
            },
            "type": "scatter3d"
           }
          ],
          "scattercarpet": [
           {
            "marker": {
             "colorbar": {
              "outlinewidth": 0,
              "ticks": ""
             }
            },
            "type": "scattercarpet"
           }
          ],
          "scattergeo": [
           {
            "marker": {
             "colorbar": {
              "outlinewidth": 0,
              "ticks": ""
             }
            },
            "type": "scattergeo"
           }
          ],
          "scattergl": [
           {
            "marker": {
             "colorbar": {
              "outlinewidth": 0,
              "ticks": ""
             }
            },
            "type": "scattergl"
           }
          ],
          "scattermap": [
           {
            "marker": {
             "colorbar": {
              "outlinewidth": 0,
              "ticks": ""
             }
            },
            "type": "scattermap"
           }
          ],
          "scattermapbox": [
           {
            "marker": {
             "colorbar": {
              "outlinewidth": 0,
              "ticks": ""
             }
            },
            "type": "scattermapbox"
           }
          ],
          "scatterpolar": [
           {
            "marker": {
             "colorbar": {
              "outlinewidth": 0,
              "ticks": ""
             }
            },
            "type": "scatterpolar"
           }
          ],
          "scatterpolargl": [
           {
            "marker": {
             "colorbar": {
              "outlinewidth": 0,
              "ticks": ""
             }
            },
            "type": "scatterpolargl"
           }
          ],
          "scatterternary": [
           {
            "marker": {
             "colorbar": {
              "outlinewidth": 0,
              "ticks": ""
             }
            },
            "type": "scatterternary"
           }
          ],
          "surface": [
           {
            "colorbar": {
             "outlinewidth": 0,
             "ticks": ""
            },
            "colorscale": [
             [
              0,
              "#0d0887"
             ],
             [
              0.1111111111111111,
              "#46039f"
             ],
             [
              0.2222222222222222,
              "#7201a8"
             ],
             [
              0.3333333333333333,
              "#9c179e"
             ],
             [
              0.4444444444444444,
              "#bd3786"
             ],
             [
              0.5555555555555556,
              "#d8576b"
             ],
             [
              0.6666666666666666,
              "#ed7953"
             ],
             [
              0.7777777777777778,
              "#fb9f3a"
             ],
             [
              0.8888888888888888,
              "#fdca26"
             ],
             [
              1,
              "#f0f921"
             ]
            ],
            "type": "surface"
           }
          ],
          "table": [
           {
            "cells": {
             "fill": {
              "color": "#EBF0F8"
             },
             "line": {
              "color": "white"
             }
            },
            "header": {
             "fill": {
              "color": "#C8D4E3"
             },
             "line": {
              "color": "white"
             }
            },
            "type": "table"
           }
          ]
         },
         "layout": {
          "annotationdefaults": {
           "arrowcolor": "#2a3f5f",
           "arrowhead": 0,
           "arrowwidth": 1
          },
          "autotypenumbers": "strict",
          "coloraxis": {
           "colorbar": {
            "outlinewidth": 0,
            "ticks": ""
           }
          },
          "colorscale": {
           "diverging": [
            [
             0,
             "#8e0152"
            ],
            [
             0.1,
             "#c51b7d"
            ],
            [
             0.2,
             "#de77ae"
            ],
            [
             0.3,
             "#f1b6da"
            ],
            [
             0.4,
             "#fde0ef"
            ],
            [
             0.5,
             "#f7f7f7"
            ],
            [
             0.6,
             "#e6f5d0"
            ],
            [
             0.7,
             "#b8e186"
            ],
            [
             0.8,
             "#7fbc41"
            ],
            [
             0.9,
             "#4d9221"
            ],
            [
             1,
             "#276419"
            ]
           ],
           "sequential": [
            [
             0,
             "#0d0887"
            ],
            [
             0.1111111111111111,
             "#46039f"
            ],
            [
             0.2222222222222222,
             "#7201a8"
            ],
            [
             0.3333333333333333,
             "#9c179e"
            ],
            [
             0.4444444444444444,
             "#bd3786"
            ],
            [
             0.5555555555555556,
             "#d8576b"
            ],
            [
             0.6666666666666666,
             "#ed7953"
            ],
            [
             0.7777777777777778,
             "#fb9f3a"
            ],
            [
             0.8888888888888888,
             "#fdca26"
            ],
            [
             1,
             "#f0f921"
            ]
           ],
           "sequentialminus": [
            [
             0,
             "#0d0887"
            ],
            [
             0.1111111111111111,
             "#46039f"
            ],
            [
             0.2222222222222222,
             "#7201a8"
            ],
            [
             0.3333333333333333,
             "#9c179e"
            ],
            [
             0.4444444444444444,
             "#bd3786"
            ],
            [
             0.5555555555555556,
             "#d8576b"
            ],
            [
             0.6666666666666666,
             "#ed7953"
            ],
            [
             0.7777777777777778,
             "#fb9f3a"
            ],
            [
             0.8888888888888888,
             "#fdca26"
            ],
            [
             1,
             "#f0f921"
            ]
           ]
          },
          "colorway": [
           "#636efa",
           "#EF553B",
           "#00cc96",
           "#ab63fa",
           "#FFA15A",
           "#19d3f3",
           "#FF6692",
           "#B6E880",
           "#FF97FF",
           "#FECB52"
          ],
          "font": {
           "color": "#2a3f5f"
          },
          "geo": {
           "bgcolor": "white",
           "lakecolor": "white",
           "landcolor": "#E5ECF6",
           "showlakes": true,
           "showland": true,
           "subunitcolor": "white"
          },
          "hoverlabel": {
           "align": "left"
          },
          "hovermode": "closest",
          "mapbox": {
           "style": "light"
          },
          "paper_bgcolor": "white",
          "plot_bgcolor": "#E5ECF6",
          "polar": {
           "angularaxis": {
            "gridcolor": "white",
            "linecolor": "white",
            "ticks": ""
           },
           "bgcolor": "#E5ECF6",
           "radialaxis": {
            "gridcolor": "white",
            "linecolor": "white",
            "ticks": ""
           }
          },
          "scene": {
           "xaxis": {
            "backgroundcolor": "#E5ECF6",
            "gridcolor": "white",
            "gridwidth": 2,
            "linecolor": "white",
            "showbackground": true,
            "ticks": "",
            "zerolinecolor": "white"
           },
           "yaxis": {
            "backgroundcolor": "#E5ECF6",
            "gridcolor": "white",
            "gridwidth": 2,
            "linecolor": "white",
            "showbackground": true,
            "ticks": "",
            "zerolinecolor": "white"
           },
           "zaxis": {
            "backgroundcolor": "#E5ECF6",
            "gridcolor": "white",
            "gridwidth": 2,
            "linecolor": "white",
            "showbackground": true,
            "ticks": "",
            "zerolinecolor": "white"
           }
          },
          "shapedefaults": {
           "line": {
            "color": "#2a3f5f"
           }
          },
          "ternary": {
           "aaxis": {
            "gridcolor": "white",
            "linecolor": "white",
            "ticks": ""
           },
           "baxis": {
            "gridcolor": "white",
            "linecolor": "white",
            "ticks": ""
           },
           "bgcolor": "#E5ECF6",
           "caxis": {
            "gridcolor": "white",
            "linecolor": "white",
            "ticks": ""
           }
          },
          "title": {
           "x": 0.05
          },
          "xaxis": {
           "automargin": true,
           "gridcolor": "white",
           "linecolor": "white",
           "ticks": "",
           "title": {
            "standoff": 15
           },
           "zerolinecolor": "white",
           "zerolinewidth": 2
          },
          "yaxis": {
           "automargin": true,
           "gridcolor": "white",
           "linecolor": "white",
           "ticks": "",
           "title": {
            "standoff": 15
           },
           "zerolinecolor": "white",
           "zerolinewidth": 2
          }
         }
        },
        "title": {
         "text": "Curl free regression errors for n = 100 input vectors for current carrying coil"
        }
       }
      }
     },
     "metadata": {},
     "output_type": "display_data"
    }
   ],
   "source": [
    "# plot residuals of fit above: \n",
    "residuals_coil_curl_free, mse_coil_curl_free = differencer(outputs_coil, outputs_coil_curl_free)\n",
    "print(f'MSE for this case of {mse_coil_curl_free}')\n",
    "plotter(residuals_coil_curl_free, \n",
    "        title = f'Curl free regression errors for n = {given_samples_coil} input vectors for current carrying coil')"
   ]
  }
 ],
 "metadata": {
  "kernelspec": {
   "display_name": "env",
   "language": "python",
   "name": "python3"
  },
  "language_info": {
   "codemirror_mode": {
    "name": "ipython",
    "version": 3
   },
   "file_extension": ".py",
   "mimetype": "text/x-python",
   "name": "python",
   "nbconvert_exporter": "python",
   "pygments_lexer": "ipython3",
   "version": "3.12.0"
  }
 },
 "nbformat": 4,
 "nbformat_minor": 5
}

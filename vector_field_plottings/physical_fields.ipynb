{
 "cells": [
  {
   "cell_type": "markdown",
   "id": "0c6eae67",
   "metadata": {},
   "source": [
    "# Physics Fields we Hope to Fit"
   ]
  },
  {
   "cell_type": "markdown",
   "id": "d37f7b66",
   "metadata": {},
   "source": []
  }
 ],
 "metadata": {
  "language_info": {
   "name": "python"
  }
 },
 "nbformat": 4,
 "nbformat_minor": 5
}
